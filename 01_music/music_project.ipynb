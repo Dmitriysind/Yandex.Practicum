{
 "cells": [
  {
   "cell_type": "markdown",
   "metadata": {
    "id": "E0vqbgi9ay0H"
   },
   "source": [
    "<h1><center>Яндекс.Музыка</center></h1>"
   ]
  },
  {
   "attachments": {},
   "cell_type": "markdown",
   "metadata": {
    "id": "VUC88oWjTJw2"
   },
   "source": [
    "## Введение\n",
    "Сравнение Москвы и Петербурга окружено мифами. Например:\n",
    " * Москва — мегаполис, подчинённый жёсткому ритму рабочей недели;\n",
    " * Петербург — культурная столица, со своими вкусами.\n",
    "\n",
    "На данных Яндекс.Музыки сравним поведение пользователей двух столиц.\n",
    "\n",
    "**Цель исследования** — проверить три гипотезы:\n",
    "1. Активность пользователей зависит от дня недели. Причём в Москве и Петербурге это проявляется по-разному.\n",
    "2. В понедельник утром в Москве преобладают одни жанры, а в Петербурге — другие. Так же и вечером пятницы преобладают разные жанры — в зависимости от города. \n",
    "3. Москва и Петербург предпочитают разные жанры музыки. В Москве чаще слушают поп-музыку, в Петербурге — русский рэп.\n",
    "\n",
    "**Ход исследования**\n",
    "\n",
    "Данные о поведении пользователей получим из файла `yandex_music_project.csv`. О качестве данных ничего не известно. Поэтому перед проверкой гипотез понадобится обзор данных. \n",
    "\n",
    "Вы проверите данные на ошибки и оцените их влияние на исследование. Затем, на этапе предобработки вы поищете возможность исправить самые критичные ошибки данных.\n",
    " \n",
    "Таким образом, исследование пройдёт в три этапа:\n",
    " 1. Обзор данных.\n",
    " 2. Предобработка данных.\n",
    " 3. Проверка гипотез.\n",
    "\n"
   ]
  },
  {
   "cell_type": "markdown",
   "metadata": {
    "id": "Ml1hmfXC_Zcs"
   },
   "source": [
    "## Обзор данных\n",
    "\n",
    "Составим первое представление о данных Яндекс.Музыки.\n",
    "\n",
    "\n"
   ]
  },
  {
   "cell_type": "code",
   "execution_count": 13,
   "metadata": {
    "id": "AXN7PHPN_Zcs"
   },
   "outputs": [],
   "source": [
    "# Import libraries\n",
    "import pandas as pd\n",
    "import urllib.request\n",
    "\n",
    "from os import path\n",
    "from pathlib import Path\n"
   ]
  },
  {
   "cell_type": "markdown",
   "metadata": {
    "id": "SG23P8tt_Zcs"
   },
   "source": [
    "Прочитаем файл `yandex_music_project.csv` из папки `/datasets` и сохраним его в переменной `df`:"
   ]
  },
  {
   "cell_type": "code",
   "execution_count": 14,
   "metadata": {
    "id": "fFVu7vqh_Zct"
   },
   "outputs": [
    {
     "name": "stdout",
     "output_type": "stream",
     "text": [
      "<class 'pandas.core.frame.DataFrame'>\n",
      "RangeIndex: 65079 entries, 0 to 65078\n",
      "Data columns (total 7 columns):\n",
      " #   Column    Non-Null Count  Dtype \n",
      "---  ------    --------------  ----- \n",
      " 0     userID  65079 non-null  object\n",
      " 1   Track     63848 non-null  object\n",
      " 2   artist    57876 non-null  object\n",
      " 3   genre     63881 non-null  object\n",
      " 4     City    65079 non-null  object\n",
      " 5   time      65079 non-null  object\n",
      " 6   Day       65079 non-null  object\n",
      "dtypes: object(7)\n",
      "memory usage: 3.5+ MB\n"
     ]
    }
   ],
   "source": [
    "YANDEX_DATASETS_PATH = 'https://code.s3.yandex.net/datasets/'\n",
    "dataset_folder = 'datasets'\n",
    "dataset_name = 'yandex_music_project.csv'\n",
    "\n",
    "#download dataset if not existed\n",
    "if not path.exists(dataset_folder + '/' + dataset_name):\n",
    "    #create dir if not existed\n",
    "    Path(dataset_folder).mkdir(parents=True, exist_ok=True)\n",
    "\n",
    "    #download dataset\n",
    "    urllib.request.urlretrieve(YANDEX_DATASETS_PATH + dataset_name,\n",
    "                               dataset_folder + '/' + dataset_name)\n",
    "\n",
    "df = pd.read_csv(dataset_folder + '/' + dataset_name)\n",
    "df.info()\n",
    "\n",
    "# Read file\n",
    "df = pd.read_csv('datasets/yandex_music_project.csv')"
   ]
  },
  {
   "cell_type": "markdown",
   "metadata": {
    "id": "rDoOMd3uTqnZ"
   },
   "source": [
    "Выведим на экран первые десять строк таблицы:"
   ]
  },
  {
   "cell_type": "code",
   "execution_count": 15,
   "metadata": {
    "id": "oWTVX3gW_Zct",
    "scrolled": true
   },
   "outputs": [
    {
     "data": {
      "text/html": [
       "<div>\n",
       "<style scoped>\n",
       "    .dataframe tbody tr th:only-of-type {\n",
       "        vertical-align: middle;\n",
       "    }\n",
       "\n",
       "    .dataframe tbody tr th {\n",
       "        vertical-align: top;\n",
       "    }\n",
       "\n",
       "    .dataframe thead th {\n",
       "        text-align: right;\n",
       "    }\n",
       "</style>\n",
       "<table border=\"1\" class=\"dataframe\">\n",
       "  <thead>\n",
       "    <tr style=\"text-align: right;\">\n",
       "      <th></th>\n",
       "      <th>userID</th>\n",
       "      <th>Track</th>\n",
       "      <th>artist</th>\n",
       "      <th>genre</th>\n",
       "      <th>City</th>\n",
       "      <th>time</th>\n",
       "      <th>Day</th>\n",
       "    </tr>\n",
       "  </thead>\n",
       "  <tbody>\n",
       "    <tr>\n",
       "      <th>0</th>\n",
       "      <td>FFB692EC</td>\n",
       "      <td>Kamigata To Boots</td>\n",
       "      <td>The Mass Missile</td>\n",
       "      <td>rock</td>\n",
       "      <td>Saint-Petersburg</td>\n",
       "      <td>20:28:33</td>\n",
       "      <td>Wednesday</td>\n",
       "    </tr>\n",
       "    <tr>\n",
       "      <th>1</th>\n",
       "      <td>55204538</td>\n",
       "      <td>Delayed Because of Accident</td>\n",
       "      <td>Andreas Rönnberg</td>\n",
       "      <td>rock</td>\n",
       "      <td>Moscow</td>\n",
       "      <td>14:07:09</td>\n",
       "      <td>Friday</td>\n",
       "    </tr>\n",
       "    <tr>\n",
       "      <th>2</th>\n",
       "      <td>20EC38</td>\n",
       "      <td>Funiculì funiculà</td>\n",
       "      <td>Mario Lanza</td>\n",
       "      <td>pop</td>\n",
       "      <td>Saint-Petersburg</td>\n",
       "      <td>20:58:07</td>\n",
       "      <td>Wednesday</td>\n",
       "    </tr>\n",
       "    <tr>\n",
       "      <th>3</th>\n",
       "      <td>A3DD03C9</td>\n",
       "      <td>Dragons in the Sunset</td>\n",
       "      <td>Fire + Ice</td>\n",
       "      <td>folk</td>\n",
       "      <td>Saint-Petersburg</td>\n",
       "      <td>08:37:09</td>\n",
       "      <td>Monday</td>\n",
       "    </tr>\n",
       "    <tr>\n",
       "      <th>4</th>\n",
       "      <td>E2DC1FAE</td>\n",
       "      <td>Soul People</td>\n",
       "      <td>Space Echo</td>\n",
       "      <td>dance</td>\n",
       "      <td>Moscow</td>\n",
       "      <td>08:34:34</td>\n",
       "      <td>Monday</td>\n",
       "    </tr>\n",
       "    <tr>\n",
       "      <th>5</th>\n",
       "      <td>842029A1</td>\n",
       "      <td>Преданная</td>\n",
       "      <td>IMPERVTOR</td>\n",
       "      <td>rusrap</td>\n",
       "      <td>Saint-Petersburg</td>\n",
       "      <td>13:09:41</td>\n",
       "      <td>Friday</td>\n",
       "    </tr>\n",
       "    <tr>\n",
       "      <th>6</th>\n",
       "      <td>4CB90AA5</td>\n",
       "      <td>True</td>\n",
       "      <td>Roman Messer</td>\n",
       "      <td>dance</td>\n",
       "      <td>Moscow</td>\n",
       "      <td>13:00:07</td>\n",
       "      <td>Wednesday</td>\n",
       "    </tr>\n",
       "    <tr>\n",
       "      <th>7</th>\n",
       "      <td>F03E1C1F</td>\n",
       "      <td>Feeling This Way</td>\n",
       "      <td>Polina Griffith</td>\n",
       "      <td>dance</td>\n",
       "      <td>Moscow</td>\n",
       "      <td>20:47:49</td>\n",
       "      <td>Wednesday</td>\n",
       "    </tr>\n",
       "    <tr>\n",
       "      <th>8</th>\n",
       "      <td>8FA1D3BE</td>\n",
       "      <td>И вновь продолжается бой</td>\n",
       "      <td>NaN</td>\n",
       "      <td>ruspop</td>\n",
       "      <td>Moscow</td>\n",
       "      <td>09:17:40</td>\n",
       "      <td>Friday</td>\n",
       "    </tr>\n",
       "    <tr>\n",
       "      <th>9</th>\n",
       "      <td>E772D5C0</td>\n",
       "      <td>Pessimist</td>\n",
       "      <td>NaN</td>\n",
       "      <td>dance</td>\n",
       "      <td>Saint-Petersburg</td>\n",
       "      <td>21:20:49</td>\n",
       "      <td>Wednesday</td>\n",
       "    </tr>\n",
       "  </tbody>\n",
       "</table>\n",
       "</div>"
      ],
      "text/plain": [
       "     userID                        Track            artist   genre  \\\n",
       "0  FFB692EC            Kamigata To Boots  The Mass Missile    rock   \n",
       "1  55204538  Delayed Because of Accident  Andreas Rönnberg    rock   \n",
       "2    20EC38            Funiculì funiculà       Mario Lanza     pop   \n",
       "3  A3DD03C9        Dragons in the Sunset        Fire + Ice    folk   \n",
       "4  E2DC1FAE                  Soul People        Space Echo   dance   \n",
       "5  842029A1                    Преданная         IMPERVTOR  rusrap   \n",
       "6  4CB90AA5                         True      Roman Messer   dance   \n",
       "7  F03E1C1F             Feeling This Way   Polina Griffith   dance   \n",
       "8  8FA1D3BE     И вновь продолжается бой               NaN  ruspop   \n",
       "9  E772D5C0                    Pessimist               NaN   dance   \n",
       "\n",
       "             City        time        Day  \n",
       "0  Saint-Petersburg  20:28:33  Wednesday  \n",
       "1            Moscow  14:07:09     Friday  \n",
       "2  Saint-Petersburg  20:58:07  Wednesday  \n",
       "3  Saint-Petersburg  08:37:09     Monday  \n",
       "4            Moscow  08:34:34     Monday  \n",
       "5  Saint-Petersburg  13:09:41     Friday  \n",
       "6            Moscow  13:00:07  Wednesday  \n",
       "7            Moscow  20:47:49  Wednesday  \n",
       "8            Moscow  09:17:40     Friday  \n",
       "9  Saint-Petersburg  21:20:49  Wednesday  "
      ]
     },
     "execution_count": 15,
     "metadata": {},
     "output_type": "execute_result"
    }
   ],
   "source": [
    "# Show first 10 rows\n",
    "df.head(10)"
   ]
  },
  {
   "cell_type": "markdown",
   "metadata": {
    "id": "EO73Kwic_Zct"
   },
   "source": [
    "Посмотрим общую информацию о таблице:"
   ]
  },
  {
   "cell_type": "code",
   "execution_count": 16,
   "metadata": {
    "id": "DSf2kIb-_Zct"
   },
   "outputs": [
    {
     "name": "stdout",
     "output_type": "stream",
     "text": [
      "<class 'pandas.core.frame.DataFrame'>\n",
      "RangeIndex: 65079 entries, 0 to 65078\n",
      "Data columns (total 7 columns):\n",
      " #   Column    Non-Null Count  Dtype \n",
      "---  ------    --------------  ----- \n",
      " 0     userID  65079 non-null  object\n",
      " 1   Track     63848 non-null  object\n",
      " 2   artist    57876 non-null  object\n",
      " 3   genre     63881 non-null  object\n",
      " 4     City    65079 non-null  object\n",
      " 5   time      65079 non-null  object\n",
      " 6   Day       65079 non-null  object\n",
      "dtypes: object(7)\n",
      "memory usage: 3.5+ MB\n"
     ]
    }
   ],
   "source": [
    "# Get data overall information\n",
    "df.info()"
   ]
  },
  {
   "cell_type": "markdown",
   "metadata": {
    "id": "TaQ2Iwbr_Zct"
   },
   "source": [
    "Итак, в таблице семь столбцов. Тип данных во всех столбцах — `object`.\n",
    "\n",
    "Согласно документации к данным:\n",
    "* `userID` — идентификатор пользователя;\n",
    "* `Track` — название трека;  \n",
    "* `artist` — имя исполнителя;\n",
    "* `genre` — название жанра;\n",
    "* `City` — город пользователя;\n",
    "* `time` — время начала прослушивания;\n",
    "* `Day` — день недели.\n",
    "\n",
    "В названиях колонок видны три нарушения стиля:\n",
    "1. Строчные буквы сочетаются с прописными.\n",
    "2. Встречаются пробелы.\n",
    "3. Не во всех колонках используется стиль snake case\n",
    "\n",
    "\n",
    "\n",
    "Количество значений в столбцах различается. Значит, в данных есть пропущенные значения.\n"
   ]
  },
  {
   "cell_type": "markdown",
   "metadata": {
    "id": "MCB6-dXG_Zct"
   },
   "source": [
    "**Выводы**\n",
    "\n",
    "В каждой строке таблицы — данные о прослушанном треке. Часть колонок описывает саму композицию: название, исполнителя и жанр. Остальные данные рассказывают о пользователе: из какого он города, когда он слушал музыку. \n",
    "\n",
    "Предварительно можно утверждать, что, данных достаточно для проверки гипотез. Но встречаются пропуски в данных, а в названиях колонок — расхождения с хорошим стилем.\n",
    "\n",
    "Чтобы двигаться дальше, нужно устранить проблемы в данных."
   ]
  },
  {
   "cell_type": "markdown",
   "metadata": {
    "id": "SjYF6Ub9_Zct"
   },
   "source": [
    "## Предобработка данных\n",
    "Исправим стиль в заголовках столбцов, исключим пропуски. Затем проверим данные на дубликаты."
   ]
  },
  {
   "cell_type": "markdown",
   "metadata": {
    "id": "dIaKXr29_Zct"
   },
   "source": [
    "### Стиль заголовков\n",
    "Выведим на экран названия столбцов:"
   ]
  },
  {
   "cell_type": "code",
   "execution_count": 17,
   "metadata": {
    "id": "oKOTdF_Q_Zct"
   },
   "outputs": [
    {
     "data": {
      "text/plain": [
       "Index(['  userID', 'Track', 'artist', 'genre', '  City  ', 'time', 'Day'], dtype='object')"
      ]
     },
     "execution_count": 17,
     "metadata": {},
     "output_type": "execute_result"
    }
   ],
   "source": [
    "# Show list of columns\n",
    "df.columns"
   ]
  },
  {
   "cell_type": "markdown",
   "metadata": {
    "id": "zj5534cv_Zct"
   },
   "source": [
    "Приведем названия в соответствие с хорошим стилем:\n",
    "* несколько слов в названии запишем в snake case,\n",
    "* все символы сделаем строчными,\n",
    "* устраним пробелы.\n",
    "\n",
    "Для этого переименуйте колонки так:\n",
    "* `'  userID'` → `'user_id'`;\n",
    "* `'Track'` → `'track'`;\n",
    "* `'  City  '` → `'city'`;\n",
    "* `'Day'` → `'day'`."
   ]
  },
  {
   "cell_type": "code",
   "execution_count": 18,
   "metadata": {
    "id": "ISlFqs5y_Zct"
   },
   "outputs": [],
   "source": [
    "# Rename columns\n",
    "df = df.rename(columns={'  userID':'user_id', 'Track':'track', '  City  ':'city', 'Day':'day'})"
   ]
  },
  {
   "cell_type": "markdown",
   "metadata": {
    "id": "1dqbh00J_Zct"
   },
   "source": [
    "Проверим результат. Для этого ещё раз выведим на экран названия столбцов:"
   ]
  },
  {
   "cell_type": "code",
   "execution_count": 19,
   "metadata": {
    "id": "d4NOAmTW_Zct"
   },
   "outputs": [
    {
     "data": {
      "text/plain": [
       "Index(['user_id', 'track', 'artist', 'genre', 'city', 'time', 'day'], dtype='object')"
      ]
     },
     "execution_count": 19,
     "metadata": {},
     "output_type": "execute_result"
    }
   ],
   "source": [
    "# Check out the rename function\n",
    "df.columns"
   ]
  },
  {
   "cell_type": "markdown",
   "metadata": {
    "id": "5ISfbcfY_Zct"
   },
   "source": [
    "### Пропуски значений\n",
    "Посчитаем, сколько в таблице пропущенных значений."
   ]
  },
  {
   "cell_type": "code",
   "execution_count": 20,
   "metadata": {
    "id": "RskX29qr_Zct",
    "scrolled": false
   },
   "outputs": [
    {
     "data": {
      "text/plain": [
       "user_id       0\n",
       "track      1231\n",
       "artist     7203\n",
       "genre      1198\n",
       "city          0\n",
       "time          0\n",
       "day           0\n",
       "dtype: int64"
      ]
     },
     "execution_count": 20,
     "metadata": {},
     "output_type": "execute_result"
    }
   ],
   "source": [
    "# Count NaN values\n",
    "df.isna().sum()"
   ]
  },
  {
   "cell_type": "markdown",
   "metadata": {
    "id": "qubhgnlO_Zct"
   },
   "source": [
    "Не все пропущенные значения влияют на исследование. Так в `track` и `artist` пропуски не важны для нашей работы. Достаточно заменить их явными обозначениями.\n",
    "\n",
    "Пропуски в `genre` могут помешать сравнению музыкальных вкусов в Москве и Санкт-Петербурге. К сожалению проверить, у нас нет возможности проверить, как именно. Придётся:\n",
    "* заполнить и эти пропуски явными обозначениями,\n",
    "* оценить, насколько они повредят расчётам. "
   ]
  },
  {
   "cell_type": "markdown",
   "metadata": {
    "id": "fSv2laPA_Zct"
   },
   "source": [
    "Заменим пропущенные значения в столбцах `track`, `artist` и `genre` на строку `'unknown'`."
   ]
  },
  {
   "cell_type": "code",
   "execution_count": 21,
   "metadata": {
    "id": "KplB5qWs_Zct"
   },
   "outputs": [],
   "source": [
    "# Replace NaN to 'unknown' for columns: track, artist, genre\n",
    "columns_to_replace = ['track', 'artist', 'genre']\n",
    "replace_value = 'unknown'\n",
    "for column in columns_to_replace:\n",
    "    df[column] = df[column].fillna(value=replace_value)"
   ]
  },
  {
   "cell_type": "markdown",
   "metadata": {
    "id": "Ilsm-MZo_Zct"
   },
   "source": [
    "Убедимся, что в таблице не осталось пропусков. Для этого ещё раз посчитаем пропущенные значения."
   ]
  },
  {
   "cell_type": "code",
   "execution_count": 22,
   "metadata": {
    "id": "Tq4nYRX4_Zct",
    "scrolled": true
   },
   "outputs": [
    {
     "data": {
      "text/plain": [
       "user_id    0\n",
       "track      0\n",
       "artist     0\n",
       "genre      0\n",
       "city       0\n",
       "time       0\n",
       "day        0\n",
       "dtype: int64"
      ]
     },
     "execution_count": 22,
     "metadata": {},
     "output_type": "execute_result"
    }
   ],
   "source": [
    "# Check out replace NaN result\n",
    "df.isna().sum()"
   ]
  },
  {
   "cell_type": "markdown",
   "metadata": {
    "id": "BWKRtBJ3_Zct"
   },
   "source": [
    "### Дубликаты\n",
    "Посчитаем явные дубликаты в таблице:"
   ]
  },
  {
   "cell_type": "code",
   "execution_count": 23,
   "metadata": {
    "id": "36eES_S0_Zct"
   },
   "outputs": [
    {
     "data": {
      "text/plain": [
       "3826"
      ]
     },
     "execution_count": 23,
     "metadata": {},
     "output_type": "execute_result"
    }
   ],
   "source": [
    "# Count duplicated values\n",
    "df.duplicated().sum()"
   ]
  },
  {
   "cell_type": "markdown",
   "metadata": {
    "id": "Ot25h6XR_Zct"
   },
   "source": [
    "Удалим явные дубликаты:"
   ]
  },
  {
   "cell_type": "code",
   "execution_count": 24,
   "metadata": {
    "id": "exFHq6tt_Zct"
   },
   "outputs": [],
   "source": [
    "# Delete duplicates, drop old index, create a new one\n",
    "df = df.drop_duplicates().reset_index(drop=True)"
   ]
  },
  {
   "cell_type": "markdown",
   "metadata": {
    "id": "Im2YwBEG_Zct"
   },
   "source": [
    "Ещё раз посчитаем явные дубликаты в таблице — убедимся, что полностью от них избавились:"
   ]
  },
  {
   "cell_type": "code",
   "execution_count": 25,
   "metadata": {
    "id": "-8PuNWQ0_Zct"
   },
   "outputs": [
    {
     "data": {
      "text/plain": [
       "0"
      ]
     },
     "execution_count": 25,
     "metadata": {},
     "output_type": "execute_result"
    }
   ],
   "source": [
    "# Check out deleting duplicates result\n",
    "df.duplicated().sum()"
   ]
  },
  {
   "cell_type": "markdown",
   "metadata": {
    "id": "QlFBsxAr_Zct"
   },
   "source": [
    "Теперь избавимся от неявных дубликатов в колонке `genre`. Например, название одного и того же жанра может быть записано немного по-разному. Такие ошибки повлияют на результат исследования."
   ]
  },
  {
   "cell_type": "markdown",
   "metadata": {
    "id": "eSjWwsOh_Zct"
   },
   "source": [
    "Выведим на экран список уникальных названий жанров, отсортированный в алфавитном порядке."
   ]
  },
  {
   "cell_type": "code",
   "execution_count": 26,
   "metadata": {
    "id": "JIUcqzZN_Zct",
    "scrolled": true
   },
   "outputs": [
    {
     "data": {
      "text/plain": [
       "array(['acid', 'acoustic', 'action', 'adult', 'africa', 'afrikaans',\n",
       "       'alternative', 'alternativepunk', 'ambient', 'americana',\n",
       "       'animated', 'anime', 'arabesk', 'arabic', 'arena',\n",
       "       'argentinetango', 'art', 'audiobook', 'author', 'avantgarde',\n",
       "       'axé', 'baile', 'balkan', 'beats', 'bigroom', 'black', 'bluegrass',\n",
       "       'blues', 'bollywood', 'bossa', 'brazilian', 'breakbeat', 'breaks',\n",
       "       'broadway', 'cantautori', 'cantopop', 'canzone', 'caribbean',\n",
       "       'caucasian', 'celtic', 'chamber', 'chanson', 'children', 'chill',\n",
       "       'chinese', 'choral', 'christian', 'christmas', 'classical',\n",
       "       'classicmetal', 'club', 'colombian', 'comedy', 'conjazz',\n",
       "       'contemporary', 'country', 'cuban', 'dance', 'dancehall',\n",
       "       'dancepop', 'dark', 'death', 'deep', 'deutschrock', 'deutschspr',\n",
       "       'dirty', 'disco', 'dnb', 'documentary', 'downbeat', 'downtempo',\n",
       "       'drum', 'dub', 'dubstep', 'eastern', 'easy', 'electronic',\n",
       "       'electropop', 'emo', 'entehno', 'epicmetal', 'estrada', 'ethnic',\n",
       "       'eurofolk', 'european', 'experimental', 'extrememetal', 'fado',\n",
       "       'fairytail', 'film', 'fitness', 'flamenco', 'folk', 'folklore',\n",
       "       'folkmetal', 'folkrock', 'folktronica', 'forró', 'frankreich',\n",
       "       'französisch', 'french', 'funk', 'future', 'gangsta', 'garage',\n",
       "       'german', 'ghazal', 'gitarre', 'glitch', 'gospel', 'gothic',\n",
       "       'grime', 'grunge', 'gypsy', 'handsup', \"hard'n'heavy\", 'hardcore',\n",
       "       'hardstyle', 'hardtechno', 'hip', 'hip-hop', 'hiphop',\n",
       "       'historisch', 'holiday', 'hop', 'horror', 'house', 'hymn', 'idm',\n",
       "       'independent', 'indian', 'indie', 'indipop', 'industrial',\n",
       "       'inspirational', 'instrumental', 'international', 'irish', 'jam',\n",
       "       'japanese', 'jazz', 'jewish', 'jpop', 'jungle', 'k-pop',\n",
       "       'karadeniz', 'karaoke', 'kayokyoku', 'korean', 'laiko', 'latin',\n",
       "       'latino', 'leftfield', 'local', 'lounge', 'loungeelectronic',\n",
       "       'lovers', 'malaysian', 'mandopop', 'marschmusik', 'meditative',\n",
       "       'mediterranean', 'melodic', 'metal', 'metalcore', 'mexican',\n",
       "       'middle', 'minimal', 'miscellaneous', 'modern', 'mood', 'mpb',\n",
       "       'muslim', 'native', 'neoklassik', 'neue', 'new', 'newage',\n",
       "       'newwave', 'nu', 'nujazz', 'numetal', 'oceania', 'old', 'opera',\n",
       "       'orchestral', 'other', 'piano', 'podcasts', 'pop', 'popdance',\n",
       "       'popelectronic', 'popeurodance', 'poprussian', 'post',\n",
       "       'posthardcore', 'postrock', 'power', 'progmetal', 'progressive',\n",
       "       'psychedelic', 'punjabi', 'punk', 'quebecois', 'ragga', 'ram',\n",
       "       'rancheras', 'rap', 'rave', 'reggae', 'reggaeton', 'regional',\n",
       "       'relax', 'religious', 'retro', 'rhythm', 'rnb', 'rnr', 'rock',\n",
       "       'rockabilly', 'rockalternative', 'rockindie', 'rockother',\n",
       "       'romance', 'roots', 'ruspop', 'rusrap', 'rusrock', 'russian',\n",
       "       'salsa', 'samba', 'scenic', 'schlager', 'self', 'sertanejo',\n",
       "       'shanson', 'shoegazing', 'showtunes', 'singer', 'ska', 'skarock',\n",
       "       'slow', 'smooth', 'soft', 'soul', 'soulful', 'sound', 'soundtrack',\n",
       "       'southern', 'specialty', 'speech', 'spiritual', 'sport',\n",
       "       'stonerrock', 'surf', 'swing', 'synthpop', 'synthrock',\n",
       "       'sängerportrait', 'tango', 'tanzorchester', 'taraftar', 'tatar',\n",
       "       'tech', 'techno', 'teen', 'thrash', 'top', 'traditional',\n",
       "       'tradjazz', 'trance', 'tribal', 'trip', 'triphop', 'tropical',\n",
       "       'türk', 'türkçe', 'ukrrock', 'unknown', 'urban', 'uzbek',\n",
       "       'variété', 'vi', 'videogame', 'vocal', 'western', 'world',\n",
       "       'worldbeat', 'ïîï', 'электроника'], dtype=object)"
      ]
     },
     "execution_count": 26,
     "metadata": {},
     "output_type": "execute_result"
    }
   ],
   "source": [
    "# Sort 'genre' and show it's unique values\n",
    "df['genre'].sort_values().unique()"
   ]
  },
  {
   "cell_type": "markdown",
   "metadata": {
    "id": "qej-Qmuo_Zct"
   },
   "source": [
    "Видим следующие неявные дубликаты:\n",
    "* *hip*,\n",
    "* *hop*,\n",
    "* *hip-hop*.\n",
    "\n",
    "Избавимся от них:"
   ]
  },
  {
   "cell_type": "code",
   "execution_count": 27,
   "metadata": {
    "id": "ErNDkmns_Zct"
   },
   "outputs": [],
   "source": [
    "# Replace duplicate typos function:\n",
    "def replace_wrong_genres(wrong_genres, correct_genre):\n",
    "    for wrong_genre in wrong_genres:\n",
    "        df['genre'] = df['genre'].replace(wrong_genre, correct_genre)"
   ]
  },
  {
   "cell_type": "markdown",
   "metadata": {
    "id": "aDoBJxbA_Zct"
   },
   "source": [
    "Вызовим `replace_wrong_genres()` и передадим ей такие аргументы, чтобы она устранила неявные дубликаты: вместо `hip`, `hop` и `hip-hop` в таблице должно быть значение `hiphop`:"
   ]
  },
  {
   "cell_type": "code",
   "execution_count": 28,
   "metadata": {
    "id": "YN5i2hpmSo09"
   },
   "outputs": [],
   "source": [
    "# Remove duplicate typos\n",
    "replace_wrong_genres(['hip', 'hop', 'hip-hop'], 'hiphop')"
   ]
  },
  {
   "cell_type": "markdown",
   "metadata": {
    "id": "zQKF16_RG15m"
   },
   "source": [
    "Проверим, что заменили неправильные названия:"
   ]
  },
  {
   "cell_type": "code",
   "execution_count": 29,
   "metadata": {
    "id": "wvixALnFG15m",
    "scrolled": true
   },
   "outputs": [
    {
     "data": {
      "text/plain": [
       "array(['acid', 'acoustic', 'action', 'adult', 'africa', 'afrikaans',\n",
       "       'alternative', 'alternativepunk', 'ambient', 'americana',\n",
       "       'animated', 'anime', 'arabesk', 'arabic', 'arena',\n",
       "       'argentinetango', 'art', 'audiobook', 'author', 'avantgarde',\n",
       "       'axé', 'baile', 'balkan', 'beats', 'bigroom', 'black', 'bluegrass',\n",
       "       'blues', 'bollywood', 'bossa', 'brazilian', 'breakbeat', 'breaks',\n",
       "       'broadway', 'cantautori', 'cantopop', 'canzone', 'caribbean',\n",
       "       'caucasian', 'celtic', 'chamber', 'chanson', 'children', 'chill',\n",
       "       'chinese', 'choral', 'christian', 'christmas', 'classical',\n",
       "       'classicmetal', 'club', 'colombian', 'comedy', 'conjazz',\n",
       "       'contemporary', 'country', 'cuban', 'dance', 'dancehall',\n",
       "       'dancepop', 'dark', 'death', 'deep', 'deutschrock', 'deutschspr',\n",
       "       'dirty', 'disco', 'dnb', 'documentary', 'downbeat', 'downtempo',\n",
       "       'drum', 'dub', 'dubstep', 'eastern', 'easy', 'electronic',\n",
       "       'electropop', 'emo', 'entehno', 'epicmetal', 'estrada', 'ethnic',\n",
       "       'eurofolk', 'european', 'experimental', 'extrememetal', 'fado',\n",
       "       'fairytail', 'film', 'fitness', 'flamenco', 'folk', 'folklore',\n",
       "       'folkmetal', 'folkrock', 'folktronica', 'forró', 'frankreich',\n",
       "       'französisch', 'french', 'funk', 'future', 'gangsta', 'garage',\n",
       "       'german', 'ghazal', 'gitarre', 'glitch', 'gospel', 'gothic',\n",
       "       'grime', 'grunge', 'gypsy', 'handsup', \"hard'n'heavy\", 'hardcore',\n",
       "       'hardstyle', 'hardtechno', 'hiphop', 'historisch', 'holiday',\n",
       "       'horror', 'house', 'hymn', 'idm', 'independent', 'indian', 'indie',\n",
       "       'indipop', 'industrial', 'inspirational', 'instrumental',\n",
       "       'international', 'irish', 'jam', 'japanese', 'jazz', 'jewish',\n",
       "       'jpop', 'jungle', 'k-pop', 'karadeniz', 'karaoke', 'kayokyoku',\n",
       "       'korean', 'laiko', 'latin', 'latino', 'leftfield', 'local',\n",
       "       'lounge', 'loungeelectronic', 'lovers', 'malaysian', 'mandopop',\n",
       "       'marschmusik', 'meditative', 'mediterranean', 'melodic', 'metal',\n",
       "       'metalcore', 'mexican', 'middle', 'minimal', 'miscellaneous',\n",
       "       'modern', 'mood', 'mpb', 'muslim', 'native', 'neoklassik', 'neue',\n",
       "       'new', 'newage', 'newwave', 'nu', 'nujazz', 'numetal', 'oceania',\n",
       "       'old', 'opera', 'orchestral', 'other', 'piano', 'podcasts', 'pop',\n",
       "       'popdance', 'popelectronic', 'popeurodance', 'poprussian', 'post',\n",
       "       'posthardcore', 'postrock', 'power', 'progmetal', 'progressive',\n",
       "       'psychedelic', 'punjabi', 'punk', 'quebecois', 'ragga', 'ram',\n",
       "       'rancheras', 'rap', 'rave', 'reggae', 'reggaeton', 'regional',\n",
       "       'relax', 'religious', 'retro', 'rhythm', 'rnb', 'rnr', 'rock',\n",
       "       'rockabilly', 'rockalternative', 'rockindie', 'rockother',\n",
       "       'romance', 'roots', 'ruspop', 'rusrap', 'rusrock', 'russian',\n",
       "       'salsa', 'samba', 'scenic', 'schlager', 'self', 'sertanejo',\n",
       "       'shanson', 'shoegazing', 'showtunes', 'singer', 'ska', 'skarock',\n",
       "       'slow', 'smooth', 'soft', 'soul', 'soulful', 'sound', 'soundtrack',\n",
       "       'southern', 'specialty', 'speech', 'spiritual', 'sport',\n",
       "       'stonerrock', 'surf', 'swing', 'synthpop', 'synthrock',\n",
       "       'sängerportrait', 'tango', 'tanzorchester', 'taraftar', 'tatar',\n",
       "       'tech', 'techno', 'teen', 'thrash', 'top', 'traditional',\n",
       "       'tradjazz', 'trance', 'tribal', 'trip', 'triphop', 'tropical',\n",
       "       'türk', 'türkçe', 'ukrrock', 'unknown', 'urban', 'uzbek',\n",
       "       'variété', 'vi', 'videogame', 'vocal', 'western', 'world',\n",
       "       'worldbeat', 'ïîï', 'электроника'], dtype=object)"
      ]
     },
     "execution_count": 29,
     "metadata": {},
     "output_type": "execute_result"
    }
   ],
   "source": [
    "# Check out result of removing duplicate typos:\n",
    "df['genre'].sort_values().unique()"
   ]
  },
  {
   "cell_type": "markdown",
   "metadata": {
    "id": "jz6a9-7HQUDd"
   },
   "source": [
    "**Выводы**\n",
    "\n",
    "Предобработка обнаружила три проблемы в данных:\n",
    "\n",
    "- нарушения в стиле заголовков,\n",
    "- пропущенные значения,\n",
    "- дубликаты — явные и неявные.\n",
    "\n",
    "Мы исправили заголовки, чтобы упростить работу с таблицей. Без дубликатов исследование станет более точным.\n",
    "\n",
    "Пропущенные значения мы заменили на `'unknown'`.\n",
    "\n",
    "Теперь можно перейти к проверке гипотез. "
   ]
  },
  {
   "cell_type": "markdown",
   "metadata": {
    "id": "WttZHXH0SqKk"
   },
   "source": [
    "## Проверка гипотез"
   ]
  },
  {
   "cell_type": "markdown",
   "metadata": {
    "id": "Im936VVi_Zcu"
   },
   "source": [
    "### Сравнение поведения пользователей двух столиц"
   ]
  },
  {
   "cell_type": "markdown",
   "metadata": {
    "id": "nwt_MuaL_Zcu"
   },
   "source": [
    "Первая гипотеза утверждает, что пользователи по-разному слушают музыку в Москве и Санкт-Петербурге. Проверим это предположение по данным о трёх днях недели — понедельнике, среде и пятнице. Для этого:\n",
    "\n",
    "* Разделим пользователей Москвы и Санкт-Петербурга\n",
    "* Сравним, сколько треков послушала каждая группа пользователей в понедельник, среду и пятницу.\n"
   ]
  },
  {
   "cell_type": "markdown",
   "metadata": {
    "id": "8Dw_YMmT_Zcu"
   },
   "source": [
    "Оценим активность пользователей в каждом городе. "
   ]
  },
  {
   "cell_type": "code",
   "execution_count": 30,
   "metadata": {
    "id": "0_Qs96oh_Zcu"
   },
   "outputs": [
    {
     "data": {
      "text/plain": [
       "city\n",
       "Moscow              42741\n",
       "Saint-Petersburg    18512\n",
       "Name: time, dtype: int64"
      ]
     },
     "metadata": {},
     "output_type": "display_data"
    }
   ],
   "source": [
    "# Count rows by city\n",
    "city_count = df.groupby(by='city')['time'].count() \n",
    "display(city_count)"
   ]
  },
  {
   "cell_type": "markdown",
   "metadata": {
    "id": "dzli3w8o_Zcu"
   },
   "source": [
    "В Москве прослушиваний больше, чем в Петербурге. Из этого не следует, что московские пользователи чаще слушают музыку. Просто самих пользователей в Москве больше.\n",
    "\n",
    "Теперь сгруппируем данные по дню недели и подсчитаем прослушивания в понедельник, среду и пятницу."
   ]
  },
  {
   "cell_type": "code",
   "execution_count": 31,
   "metadata": {
    "id": "uZMKjiJz_Zcu",
    "scrolled": true
   },
   "outputs": [
    {
     "data": {
      "text/plain": [
       "day\n",
       "Friday       21840\n",
       "Monday       21354\n",
       "Wednesday    18059\n",
       "Name: time, dtype: int64"
      ]
     },
     "metadata": {},
     "output_type": "display_data"
    }
   ],
   "source": [
    "# Count rows by day\n",
    "day_count = df.groupby(by='day')['time'].count()\n",
    "display(day_count)"
   ]
  },
  {
   "cell_type": "markdown",
   "metadata": {
    "id": "cC2tNrlL_Zcu"
   },
   "source": [
    "В среднем пользователи из двух городов менее активны по средам. Но картина может измениться, если рассмотреть каждый город в отдельности."
   ]
  },
  {
   "cell_type": "markdown",
   "metadata": {
    "id": "POzs8bGa_Zcu"
   },
   "source": [
    "Подсчитаем количество прослушиваний в понедельник, среду и пятницу по городам."
   ]
  },
  {
   "cell_type": "code",
   "execution_count": 32,
   "metadata": {
    "id": "Nz3GdQB1_Zcu"
   },
   "outputs": [],
   "source": [
    "# Function return overall number of tracks by day and city\n",
    "def number_tracks(day, city):\n",
    "    track_list = df.loc[(df['day'] == day) & (df['city'] == city)]\n",
    "    track_list_count = track_list['user_id'].count()\n",
    "    return track_list_count"
   ]
  },
  {
   "cell_type": "markdown",
   "metadata": {
    "id": "ytf7xFrFJQ2r"
   },
   "source": [
    "Вызовим `number_tracks()` шесть раз, меняя значение параметров — так, чтобы получить данные для каждого города в каждый из трёх дней."
   ]
  },
  {
   "cell_type": "code",
   "execution_count": 33,
   "metadata": {
    "id": "rJcRATNQ_Zcu"
   },
   "outputs": [
    {
     "data": {
      "text/plain": [
       "15740"
      ]
     },
     "execution_count": 33,
     "metadata": {},
     "output_type": "execute_result"
    }
   ],
   "source": [
    "# Number of tracks in Moscow, Monday\n",
    "number_tracks(day = 'Monday', city = 'Moscow')"
   ]
  },
  {
   "cell_type": "code",
   "execution_count": 34,
   "metadata": {
    "id": "hq_ncZ5T_Zcu"
   },
   "outputs": [
    {
     "data": {
      "text/plain": [
       "5614"
      ]
     },
     "execution_count": 34,
     "metadata": {},
     "output_type": "execute_result"
    }
   ],
   "source": [
    "# Number of tracks in Saint-Petersburg, Monday\n",
    "number_tracks(day = 'Monday', city = 'Saint-Petersburg')"
   ]
  },
  {
   "cell_type": "code",
   "execution_count": 35,
   "metadata": {
    "id": "_NTy2VPU_Zcu"
   },
   "outputs": [
    {
     "data": {
      "text/plain": [
       "11056"
      ]
     },
     "execution_count": 35,
     "metadata": {},
     "output_type": "execute_result"
    }
   ],
   "source": [
    "# Number of tracks in Moscow, Wednesday\n",
    "number_tracks(day = 'Wednesday', city = 'Moscow')"
   ]
  },
  {
   "cell_type": "code",
   "execution_count": 36,
   "metadata": {
    "id": "j2y3TAwo_Zcu"
   },
   "outputs": [
    {
     "data": {
      "text/plain": [
       "7003"
      ]
     },
     "execution_count": 36,
     "metadata": {},
     "output_type": "execute_result"
    }
   ],
   "source": [
    "# Number of tracks in Saint-Petersburg, Wednesday\n",
    "number_tracks(day = 'Wednesday', city = 'Saint-Petersburg')"
   ]
  },
  {
   "cell_type": "code",
   "execution_count": 37,
   "metadata": {
    "id": "vYDw5u_K_Zcu"
   },
   "outputs": [
    {
     "data": {
      "text/plain": [
       "15945"
      ]
     },
     "execution_count": 37,
     "metadata": {},
     "output_type": "execute_result"
    }
   ],
   "source": [
    "# Number of tracks in Moscow, Friday\n",
    "number_tracks(day = 'Friday', city = 'Moscow')"
   ]
  },
  {
   "cell_type": "code",
   "execution_count": 38,
   "metadata": {
    "id": "8_yzFtW3_Zcu"
   },
   "outputs": [
    {
     "data": {
      "text/plain": [
       "5895"
      ]
     },
     "execution_count": 38,
     "metadata": {},
     "output_type": "execute_result"
    }
   ],
   "source": [
    "# Number of tracks in Saint-Petersburg, Friday\n",
    "number_tracks(day = 'Friday', city = 'Saint-Petersburg')"
   ]
  },
  {
   "cell_type": "markdown",
   "metadata": {
    "id": "7QXffbO-_Zcu"
   },
   "source": [
    "Занесем полученные данные в результирующую таблицу и выведем на экран."
   ]
  },
  {
   "cell_type": "code",
   "execution_count": 39,
   "metadata": {
    "id": "APAcLpOr_Zcu"
   },
   "outputs": [
    {
     "data": {
      "text/html": [
       "<div>\n",
       "<style scoped>\n",
       "    .dataframe tbody tr th:only-of-type {\n",
       "        vertical-align: middle;\n",
       "    }\n",
       "\n",
       "    .dataframe tbody tr th {\n",
       "        vertical-align: top;\n",
       "    }\n",
       "\n",
       "    .dataframe thead th {\n",
       "        text-align: right;\n",
       "    }\n",
       "</style>\n",
       "<table border=\"1\" class=\"dataframe\">\n",
       "  <thead>\n",
       "    <tr style=\"text-align: right;\">\n",
       "      <th></th>\n",
       "      <th>city</th>\n",
       "      <th>monday</th>\n",
       "      <th>wednesday</th>\n",
       "      <th>friday</th>\n",
       "    </tr>\n",
       "  </thead>\n",
       "  <tbody>\n",
       "    <tr>\n",
       "      <th>0</th>\n",
       "      <td>Moscow</td>\n",
       "      <td>15740</td>\n",
       "      <td>11056</td>\n",
       "      <td>15946</td>\n",
       "    </tr>\n",
       "    <tr>\n",
       "      <th>1</th>\n",
       "      <td>Saint-Petersburg</td>\n",
       "      <td>5614</td>\n",
       "      <td>7003</td>\n",
       "      <td>5895</td>\n",
       "    </tr>\n",
       "  </tbody>\n",
       "</table>\n",
       "</div>"
      ],
      "text/plain": [
       "               city  monday  wednesday  friday\n",
       "0            Moscow   15740      11056   15946\n",
       "1  Saint-Petersburg    5614       7003    5895"
      ]
     },
     "metadata": {},
     "output_type": "display_data"
    }
   ],
   "source": [
    "# Create result table\n",
    "result_city_day_columns = ['city', 'monday', 'wednesday', 'friday']\n",
    "result_city_day = [['Moscow', 15740, 11056, 15946],\n",
    "                   ['Saint-Petersburg', 5614, 7003, 5895]]\n",
    "result_city_day_df = pd.DataFrame(data=result_city_day, columns=result_city_day_columns)  \n",
    "display(result_city_day_df)"
   ]
  },
  {
   "cell_type": "markdown",
   "metadata": {
    "id": "atZAxtq4_Zcu"
   },
   "source": [
    "### Музыка в начале и в конце недели"
   ]
  },
  {
   "cell_type": "markdown",
   "metadata": {
    "id": "eXrQqXFH_Zcu"
   },
   "source": [
    "Согласно второй гипотезе, утром в понедельник в Москве преобладают одни жанры, а в Петербурге — другие. Так же и вечером пятницы преобладают разные жанры — в зависимости от города."
   ]
  },
  {
   "cell_type": "markdown",
   "metadata": {
    "id": "S8UcW6Hw_Zcu"
   },
   "source": [
    "Сохраним таблицы с данными в две переменные:\n",
    "* по Москве — в `moscow_general`;\n",
    "* по Санкт-Петербургу — в `spb_general`."
   ]
  },
  {
   "cell_type": "code",
   "execution_count": 40,
   "metadata": {
    "id": "qeaFfM_P_Zcu"
   },
   "outputs": [],
   "source": [
    "# Filter data by Moscow tracks\n",
    "moscow_general = df[df['city'] == 'Moscow']"
   ]
  },
  {
   "cell_type": "code",
   "execution_count": 41,
   "metadata": {
    "id": "ORaVRKto_Zcu"
   },
   "outputs": [],
   "source": [
    "# Filter data by Saint-Petersburg tracks\n",
    "spb_general = df[df['city'] == 'Saint-Petersburg']"
   ]
  },
  {
   "cell_type": "markdown",
   "metadata": {},
   "source": [
    "Проверим правильность фильтрации."
   ]
  },
  {
   "cell_type": "code",
   "execution_count": 42,
   "metadata": {},
   "outputs": [
    {
     "data": {
      "text/html": [
       "<div>\n",
       "<style scoped>\n",
       "    .dataframe tbody tr th:only-of-type {\n",
       "        vertical-align: middle;\n",
       "    }\n",
       "\n",
       "    .dataframe tbody tr th {\n",
       "        vertical-align: top;\n",
       "    }\n",
       "\n",
       "    .dataframe thead th {\n",
       "        text-align: right;\n",
       "    }\n",
       "</style>\n",
       "<table border=\"1\" class=\"dataframe\">\n",
       "  <thead>\n",
       "    <tr style=\"text-align: right;\">\n",
       "      <th></th>\n",
       "      <th>user_id</th>\n",
       "      <th>track</th>\n",
       "      <th>artist</th>\n",
       "      <th>genre</th>\n",
       "      <th>city</th>\n",
       "      <th>time</th>\n",
       "      <th>day</th>\n",
       "    </tr>\n",
       "  </thead>\n",
       "  <tbody>\n",
       "    <tr>\n",
       "      <th>1</th>\n",
       "      <td>55204538</td>\n",
       "      <td>Delayed Because of Accident</td>\n",
       "      <td>Andreas Rönnberg</td>\n",
       "      <td>rock</td>\n",
       "      <td>Moscow</td>\n",
       "      <td>14:07:09</td>\n",
       "      <td>Friday</td>\n",
       "    </tr>\n",
       "    <tr>\n",
       "      <th>4</th>\n",
       "      <td>E2DC1FAE</td>\n",
       "      <td>Soul People</td>\n",
       "      <td>Space Echo</td>\n",
       "      <td>dance</td>\n",
       "      <td>Moscow</td>\n",
       "      <td>08:34:34</td>\n",
       "      <td>Monday</td>\n",
       "    </tr>\n",
       "    <tr>\n",
       "      <th>6</th>\n",
       "      <td>4CB90AA5</td>\n",
       "      <td>True</td>\n",
       "      <td>Roman Messer</td>\n",
       "      <td>dance</td>\n",
       "      <td>Moscow</td>\n",
       "      <td>13:00:07</td>\n",
       "      <td>Wednesday</td>\n",
       "    </tr>\n",
       "    <tr>\n",
       "      <th>7</th>\n",
       "      <td>F03E1C1F</td>\n",
       "      <td>Feeling This Way</td>\n",
       "      <td>Polina Griffith</td>\n",
       "      <td>dance</td>\n",
       "      <td>Moscow</td>\n",
       "      <td>20:47:49</td>\n",
       "      <td>Wednesday</td>\n",
       "    </tr>\n",
       "    <tr>\n",
       "      <th>8</th>\n",
       "      <td>8FA1D3BE</td>\n",
       "      <td>И вновь продолжается бой</td>\n",
       "      <td>unknown</td>\n",
       "      <td>ruspop</td>\n",
       "      <td>Moscow</td>\n",
       "      <td>09:17:40</td>\n",
       "      <td>Friday</td>\n",
       "    </tr>\n",
       "    <tr>\n",
       "      <th>10</th>\n",
       "      <td>BC5A3A29</td>\n",
       "      <td>Gool la Mita</td>\n",
       "      <td>Shireen Abdul Wahab</td>\n",
       "      <td>world</td>\n",
       "      <td>Moscow</td>\n",
       "      <td>14:08:42</td>\n",
       "      <td>Monday</td>\n",
       "    </tr>\n",
       "    <tr>\n",
       "      <th>11</th>\n",
       "      <td>8B5192C0</td>\n",
       "      <td>Is There Anybody Out There? (Panoramic Paralys...</td>\n",
       "      <td>Pink Floyd Floydhead</td>\n",
       "      <td>electronic</td>\n",
       "      <td>Moscow</td>\n",
       "      <td>13:47:49</td>\n",
       "      <td>Monday</td>\n",
       "    </tr>\n",
       "    <tr>\n",
       "      <th>12</th>\n",
       "      <td>FF3FD2BD</td>\n",
       "      <td>Мина син генэ кирэк</td>\n",
       "      <td>Ильдар Хакимов</td>\n",
       "      <td>pop</td>\n",
       "      <td>Moscow</td>\n",
       "      <td>09:19:49</td>\n",
       "      <td>Monday</td>\n",
       "    </tr>\n",
       "    <tr>\n",
       "      <th>13</th>\n",
       "      <td>CC782B0F</td>\n",
       "      <td>After School Special</td>\n",
       "      <td>Detroit Grand Pubahs</td>\n",
       "      <td>dance</td>\n",
       "      <td>Moscow</td>\n",
       "      <td>20:04:12</td>\n",
       "      <td>Friday</td>\n",
       "    </tr>\n",
       "    <tr>\n",
       "      <th>15</th>\n",
       "      <td>E3C5756F</td>\n",
       "      <td>unknown</td>\n",
       "      <td>unknown</td>\n",
       "      <td>unknown</td>\n",
       "      <td>Moscow</td>\n",
       "      <td>09:24:51</td>\n",
       "      <td>Monday</td>\n",
       "    </tr>\n",
       "  </tbody>\n",
       "</table>\n",
       "</div>"
      ],
      "text/plain": [
       "     user_id                                              track  \\\n",
       "1   55204538                        Delayed Because of Accident   \n",
       "4   E2DC1FAE                                        Soul People   \n",
       "6   4CB90AA5                                               True   \n",
       "7   F03E1C1F                                   Feeling This Way   \n",
       "8   8FA1D3BE                           И вновь продолжается бой   \n",
       "10  BC5A3A29                                       Gool la Mita   \n",
       "11  8B5192C0  Is There Anybody Out There? (Panoramic Paralys...   \n",
       "12  FF3FD2BD                                Мина син генэ кирэк   \n",
       "13  CC782B0F                               After School Special   \n",
       "15  E3C5756F                                            unknown   \n",
       "\n",
       "                  artist       genre    city      time        day  \n",
       "1       Andreas Rönnberg        rock  Moscow  14:07:09     Friday  \n",
       "4             Space Echo       dance  Moscow  08:34:34     Monday  \n",
       "6           Roman Messer       dance  Moscow  13:00:07  Wednesday  \n",
       "7        Polina Griffith       dance  Moscow  20:47:49  Wednesday  \n",
       "8                unknown      ruspop  Moscow  09:17:40     Friday  \n",
       "10   Shireen Abdul Wahab       world  Moscow  14:08:42     Monday  \n",
       "11  Pink Floyd Floydhead  electronic  Moscow  13:47:49     Monday  \n",
       "12        Ильдар Хакимов         pop  Moscow  09:19:49     Monday  \n",
       "13  Detroit Grand Pubahs       dance  Moscow  20:04:12     Friday  \n",
       "15               unknown     unknown  Moscow  09:24:51     Monday  "
      ]
     },
     "execution_count": 42,
     "metadata": {},
     "output_type": "execute_result"
    }
   ],
   "source": [
    "moscow_general.head(10)"
   ]
  },
  {
   "cell_type": "code",
   "execution_count": 43,
   "metadata": {},
   "outputs": [
    {
     "data": {
      "text/html": [
       "<div>\n",
       "<style scoped>\n",
       "    .dataframe tbody tr th:only-of-type {\n",
       "        vertical-align: middle;\n",
       "    }\n",
       "\n",
       "    .dataframe tbody tr th {\n",
       "        vertical-align: top;\n",
       "    }\n",
       "\n",
       "    .dataframe thead th {\n",
       "        text-align: right;\n",
       "    }\n",
       "</style>\n",
       "<table border=\"1\" class=\"dataframe\">\n",
       "  <thead>\n",
       "    <tr style=\"text-align: right;\">\n",
       "      <th></th>\n",
       "      <th>user_id</th>\n",
       "      <th>track</th>\n",
       "      <th>artist</th>\n",
       "      <th>genre</th>\n",
       "      <th>city</th>\n",
       "      <th>time</th>\n",
       "      <th>day</th>\n",
       "    </tr>\n",
       "  </thead>\n",
       "  <tbody>\n",
       "    <tr>\n",
       "      <th>0</th>\n",
       "      <td>FFB692EC</td>\n",
       "      <td>Kamigata To Boots</td>\n",
       "      <td>The Mass Missile</td>\n",
       "      <td>rock</td>\n",
       "      <td>Saint-Petersburg</td>\n",
       "      <td>20:28:33</td>\n",
       "      <td>Wednesday</td>\n",
       "    </tr>\n",
       "    <tr>\n",
       "      <th>2</th>\n",
       "      <td>20EC38</td>\n",
       "      <td>Funiculì funiculà</td>\n",
       "      <td>Mario Lanza</td>\n",
       "      <td>pop</td>\n",
       "      <td>Saint-Petersburg</td>\n",
       "      <td>20:58:07</td>\n",
       "      <td>Wednesday</td>\n",
       "    </tr>\n",
       "    <tr>\n",
       "      <th>3</th>\n",
       "      <td>A3DD03C9</td>\n",
       "      <td>Dragons in the Sunset</td>\n",
       "      <td>Fire + Ice</td>\n",
       "      <td>folk</td>\n",
       "      <td>Saint-Petersburg</td>\n",
       "      <td>08:37:09</td>\n",
       "      <td>Monday</td>\n",
       "    </tr>\n",
       "    <tr>\n",
       "      <th>5</th>\n",
       "      <td>842029A1</td>\n",
       "      <td>Преданная</td>\n",
       "      <td>IMPERVTOR</td>\n",
       "      <td>rusrap</td>\n",
       "      <td>Saint-Petersburg</td>\n",
       "      <td>13:09:41</td>\n",
       "      <td>Friday</td>\n",
       "    </tr>\n",
       "    <tr>\n",
       "      <th>9</th>\n",
       "      <td>E772D5C0</td>\n",
       "      <td>Pessimist</td>\n",
       "      <td>unknown</td>\n",
       "      <td>dance</td>\n",
       "      <td>Saint-Petersburg</td>\n",
       "      <td>21:20:49</td>\n",
       "      <td>Wednesday</td>\n",
       "    </tr>\n",
       "    <tr>\n",
       "      <th>14</th>\n",
       "      <td>94EB25C2</td>\n",
       "      <td>Make Love Whenever You Can</td>\n",
       "      <td>Arabesque</td>\n",
       "      <td>pop</td>\n",
       "      <td>Saint-Petersburg</td>\n",
       "      <td>13:22:08</td>\n",
       "      <td>Wednesday</td>\n",
       "    </tr>\n",
       "    <tr>\n",
       "      <th>16</th>\n",
       "      <td>81D05C7D</td>\n",
       "      <td>SLAVES OF FEAR</td>\n",
       "      <td>HEALTH</td>\n",
       "      <td>alternative</td>\n",
       "      <td>Saint-Petersburg</td>\n",
       "      <td>20:54:48</td>\n",
       "      <td>Monday</td>\n",
       "    </tr>\n",
       "    <tr>\n",
       "      <th>17</th>\n",
       "      <td>39DE290E</td>\n",
       "      <td>Веснянка</td>\n",
       "      <td>Веданъ Колодъ</td>\n",
       "      <td>folk</td>\n",
       "      <td>Saint-Petersburg</td>\n",
       "      <td>14:36:47</td>\n",
       "      <td>Monday</td>\n",
       "    </tr>\n",
       "    <tr>\n",
       "      <th>18</th>\n",
       "      <td>58AE138A</td>\n",
       "      <td>Pat-a-Cake</td>\n",
       "      <td>Mother Goose Club</td>\n",
       "      <td>children</td>\n",
       "      <td>Saint-Petersburg</td>\n",
       "      <td>20:04:56</td>\n",
       "      <td>Monday</td>\n",
       "    </tr>\n",
       "    <tr>\n",
       "      <th>22</th>\n",
       "      <td>B8E29C9C</td>\n",
       "      <td>Самота</td>\n",
       "      <td>unknown</td>\n",
       "      <td>folk</td>\n",
       "      <td>Saint-Petersburg</td>\n",
       "      <td>20:20:49</td>\n",
       "      <td>Wednesday</td>\n",
       "    </tr>\n",
       "  </tbody>\n",
       "</table>\n",
       "</div>"
      ],
      "text/plain": [
       "     user_id                       track             artist        genre  \\\n",
       "0   FFB692EC           Kamigata To Boots   The Mass Missile         rock   \n",
       "2     20EC38           Funiculì funiculà        Mario Lanza          pop   \n",
       "3   A3DD03C9       Dragons in the Sunset         Fire + Ice         folk   \n",
       "5   842029A1                   Преданная          IMPERVTOR       rusrap   \n",
       "9   E772D5C0                   Pessimist            unknown        dance   \n",
       "14  94EB25C2  Make Love Whenever You Can          Arabesque          pop   \n",
       "16  81D05C7D              SLAVES OF FEAR             HEALTH  alternative   \n",
       "17  39DE290E                    Веснянка      Веданъ Колодъ         folk   \n",
       "18  58AE138A                  Pat-a-Cake  Mother Goose Club     children   \n",
       "22  B8E29C9C                      Самота            unknown         folk   \n",
       "\n",
       "                city      time        day  \n",
       "0   Saint-Petersburg  20:28:33  Wednesday  \n",
       "2   Saint-Petersburg  20:58:07  Wednesday  \n",
       "3   Saint-Petersburg  08:37:09     Monday  \n",
       "5   Saint-Petersburg  13:09:41     Friday  \n",
       "9   Saint-Petersburg  21:20:49  Wednesday  \n",
       "14  Saint-Petersburg  13:22:08  Wednesday  \n",
       "16  Saint-Petersburg  20:54:48     Monday  \n",
       "17  Saint-Petersburg  14:36:47     Monday  \n",
       "18  Saint-Petersburg  20:04:56     Monday  \n",
       "22  Saint-Petersburg  20:20:49  Wednesday  "
      ]
     },
     "execution_count": 43,
     "metadata": {},
     "output_type": "execute_result"
    }
   ],
   "source": [
    "spb_general.head(10)"
   ]
  },
  {
   "cell_type": "markdown",
   "metadata": {
    "id": "MEJV-CX2_Zcu"
   },
   "source": [
    "Подсчитаем количество прослушиваний для Москвы и Санкт-Петербурга в понедельник утром и в пятницу вечером"
   ]
  },
  {
   "cell_type": "code",
   "execution_count": 44,
   "metadata": {
    "id": "laJT9BYl_Zcu"
   },
   "outputs": [],
   "source": [
    "# Function returns number of tracks by genre in current day and time between time1 and time2\n",
    "def genre_weekday(table, day, time1, time2):\n",
    "    genre_df = table.loc[(table['day'] == day) & (table['time'] > time1) & (table['time'] < time2)]\n",
    "    genre_df_count = genre_df.groupby(by = 'genre')['artist'].count()\n",
    "    genre_df_sorted = genre_df_count.sort_values(ascending=False)\n",
    "    return genre_df_sorted.head(10)\n",
    "    "
   ]
  },
  {
   "cell_type": "markdown",
   "metadata": {
    "id": "la2s2_PF_Zcu"
   },
   "source": [
    "Cравните результаты расчетов для Москвы и Санкт-Петербурга в понедельник утром (с 7:00 до 11:00) и в пятницу вечером (с 17:00 до 23:00):"
   ]
  },
  {
   "cell_type": "code",
   "execution_count": 45,
   "metadata": {
    "id": "yz7itPUQ_Zcu"
   },
   "outputs": [
    {
     "data": {
      "text/plain": [
       "genre\n",
       "pop            781\n",
       "dance          549\n",
       "electronic     480\n",
       "rock           474\n",
       "hiphop         286\n",
       "ruspop         186\n",
       "world          181\n",
       "rusrap         175\n",
       "alternative    164\n",
       "unknown        161\n",
       "Name: artist, dtype: int64"
      ]
     },
     "execution_count": 45,
     "metadata": {},
     "output_type": "execute_result"
    }
   ],
   "source": [
    "# Number of tracks by genre in Moscow, Monday, from 07:00 till 11:00\n",
    "genre_weekday(moscow_general, 'Monday', '07:00', '11:00')"
   ]
  },
  {
   "cell_type": "code",
   "execution_count": 46,
   "metadata": {
    "id": "kwUcHPdy_Zcu"
   },
   "outputs": [
    {
     "data": {
      "text/plain": [
       "genre\n",
       "pop            218\n",
       "dance          182\n",
       "rock           162\n",
       "electronic     147\n",
       "hiphop          80\n",
       "ruspop          64\n",
       "alternative     58\n",
       "rusrap          55\n",
       "jazz            44\n",
       "classical       40\n",
       "Name: artist, dtype: int64"
      ]
     },
     "execution_count": 46,
     "metadata": {},
     "output_type": "execute_result"
    }
   ],
   "source": [
    "# Number of tracks by genre in Saint-Petersburg, Monday, from 07:00 till 11:00\n",
    "genre_weekday(spb_general, 'Monday', '07:00', '11:00')"
   ]
  },
  {
   "cell_type": "code",
   "execution_count": 47,
   "metadata": {
    "id": "EzXVRE1o_Zcu"
   },
   "outputs": [
    {
     "data": {
      "text/plain": [
       "genre\n",
       "pop            713\n",
       "rock           517\n",
       "dance          495\n",
       "electronic     482\n",
       "hiphop         273\n",
       "world          208\n",
       "ruspop         170\n",
       "alternative    163\n",
       "classical      163\n",
       "rusrap         142\n",
       "Name: artist, dtype: int64"
      ]
     },
     "execution_count": 47,
     "metadata": {},
     "output_type": "execute_result"
    }
   ],
   "source": [
    "# Number of tracks by genre in Moscow, Friday, from 17:00 till 23:00\n",
    "genre_weekday(moscow_general, 'Friday', '17:00', '23:00')"
   ]
  },
  {
   "cell_type": "code",
   "execution_count": 48,
   "metadata": {
    "id": "JZaEKu5v_Zcu"
   },
   "outputs": [
    {
     "data": {
      "text/plain": [
       "genre\n",
       "pop            256\n",
       "electronic     216\n",
       "rock           216\n",
       "dance          210\n",
       "hiphop          97\n",
       "alternative     63\n",
       "jazz            61\n",
       "classical       60\n",
       "rusrap          59\n",
       "world           54\n",
       "Name: artist, dtype: int64"
      ]
     },
     "execution_count": 48,
     "metadata": {},
     "output_type": "execute_result"
    }
   ],
   "source": [
    "# Number of tracks by genre in Saint-Petersburg, Friday, from 17:00 till 23:00\n",
    "genre_weekday(spb_general, 'Friday', '17:00', '23:00')"
   ]
  },
  {
   "cell_type": "markdown",
   "metadata": {
    "id": "wrCe4MNX_Zcu"
   },
   "source": [
    "**Выводы**\n",
    "\n",
    "Если сравнить топ-10 жанров в понедельник утром, можно сделать такие выводы:\n",
    "\n",
    "1. В Москве и Петербурге слушают похожую музыку. Единственное отличие — в московский рейтинг вошёл жанр “world”, а в петербургский — джаз и классика.\n",
    "\n",
    "2. В Москве пропущенных значений оказалось так много, что значение `'unknown'` заняло десятое место среди самых популярных жанров. Значит, пропущенные значения занимают существенную долю в данных и угрожают достоверности исследования.\n",
    "\n",
    "Вечер пятницы не меняет эту картину. Некоторые жанры поднимаются немного выше, другие спускаются, но в целом топ-10 остаётся тем же самым.\n",
    "\n",
    "Таким образом, вторая гипотеза подтвердилась лишь частично:\n",
    "* Пользователи слушают похожую музыку в начале недели и в конце.\n",
    "* Разница между Москвой и Петербургом не слишком выражена. В Москве чаще слушают русскую популярную музыку, в Петербурге — джаз.\n",
    "\n",
    "Однако пропуски в данных ставят под сомнение этот результат. В Москве их так много, что рейтинг топ-10 мог бы выглядеть иначе, если бы не утерянные  данные о жанрах."
   ]
  },
  {
   "cell_type": "markdown",
   "metadata": {
    "id": "JolODAqr_Zcu"
   },
   "source": [
    "### Жанровые предпочтения в Москве и Петербурге\n",
    "\n",
    "Гипотеза: Петербург — столица рэпа, музыку этого жанра там слушают чаще, чем в Москве.  А Москва — город контрастов, в котором, тем не менее, преобладает поп-музыка."
   ]
  },
  {
   "cell_type": "markdown",
   "metadata": {
    "id": "DlegSvaT_Zcu"
   },
   "source": [
    "Посмотрим какие жанры преобладают в Москве."
   ]
  },
  {
   "cell_type": "code",
   "execution_count": 49,
   "metadata": {
    "id": "r19lIPke_Zcu"
   },
   "outputs": [],
   "source": [
    "# Count number of tracks by genre in Moscow\n",
    "moscow_genres = moscow_general.groupby(by = 'genre')['genre'].count().sort_values(ascending=False)"
   ]
  },
  {
   "cell_type": "markdown",
   "metadata": {
    "id": "6kMuomxTiIr8"
   },
   "source": [
    "Выведим 10 самых популярных жанров в Москве:"
   ]
  },
  {
   "cell_type": "code",
   "execution_count": 50,
   "metadata": {
    "id": "WhCSooF8_Zcv"
   },
   "outputs": [
    {
     "data": {
      "text/plain": [
       "genre\n",
       "pop            5892\n",
       "dance          4435\n",
       "rock           3965\n",
       "electronic     3786\n",
       "hiphop         2096\n",
       "classical      1616\n",
       "world          1432\n",
       "alternative    1379\n",
       "ruspop         1372\n",
       "rusrap         1161\n",
       "Name: genre, dtype: int64"
      ]
     },
     "execution_count": 50,
     "metadata": {},
     "output_type": "execute_result"
    }
   ],
   "source": [
    "# First 10 rows of top genres by number of tracks in Moscow\n",
    "moscow_genres.head(10)"
   ]
  },
  {
   "cell_type": "markdown",
   "metadata": {
    "id": "cnPG2vnN_Zcv"
   },
   "source": [
    "Теперь сделаем расчеты для Санкт-Петербурга."
   ]
  },
  {
   "cell_type": "code",
   "execution_count": 51,
   "metadata": {
    "id": "gluLIpE7_Zcv"
   },
   "outputs": [],
   "source": [
    "# Count number of tracks by genre in Saint-Petersburg\n",
    "spb_genres = spb_general.groupby(by = 'genre')['genre'].count().sort_values(ascending=False)"
   ]
  },
  {
   "cell_type": "markdown",
   "metadata": {
    "id": "5Doha_ODgyQ8"
   },
   "source": [
    "Выведим 10 самых популярных жанров в Санкт-Петербурге:"
   ]
  },
  {
   "cell_type": "code",
   "execution_count": 52,
   "metadata": {
    "id": "uaGJHjVU_Zcv"
   },
   "outputs": [
    {
     "data": {
      "text/plain": [
       "genre\n",
       "pop            2431\n",
       "dance          1932\n",
       "rock           1879\n",
       "electronic     1736\n",
       "hiphop          960\n",
       "alternative     649\n",
       "classical       646\n",
       "rusrap          564\n",
       "ruspop          538\n",
       "world           515\n",
       "Name: genre, dtype: int64"
      ]
     },
     "execution_count": 52,
     "metadata": {},
     "output_type": "execute_result"
    }
   ],
   "source": [
    "# First 10 rows of top genres by number of tracks in Saint-Petersburg\n",
    "spb_genres.head(10)"
   ]
  },
  {
   "cell_type": "markdown",
   "metadata": {},
   "source": [
    "Сделаем результирующую таблицу и сравним полученные результаты. "
   ]
  },
  {
   "cell_type": "code",
   "execution_count": 53,
   "metadata": {},
   "outputs": [
    {
     "data": {
      "text/html": [
       "<div>\n",
       "<style scoped>\n",
       "    .dataframe tbody tr th:only-of-type {\n",
       "        vertical-align: middle;\n",
       "    }\n",
       "\n",
       "    .dataframe tbody tr th {\n",
       "        vertical-align: top;\n",
       "    }\n",
       "\n",
       "    .dataframe thead th {\n",
       "        text-align: right;\n",
       "    }\n",
       "</style>\n",
       "<table border=\"1\" class=\"dataframe\">\n",
       "  <thead>\n",
       "    <tr style=\"text-align: right;\">\n",
       "      <th></th>\n",
       "      <th>genre</th>\n",
       "      <th>moscow</th>\n",
       "      <th>saint-peterburg</th>\n",
       "    </tr>\n",
       "  </thead>\n",
       "  <tbody>\n",
       "    <tr>\n",
       "      <th>0</th>\n",
       "      <td>pop</td>\n",
       "      <td>5892</td>\n",
       "      <td>2431</td>\n",
       "    </tr>\n",
       "    <tr>\n",
       "      <th>1</th>\n",
       "      <td>dance</td>\n",
       "      <td>4435</td>\n",
       "      <td>1932</td>\n",
       "    </tr>\n",
       "    <tr>\n",
       "      <th>2</th>\n",
       "      <td>rock</td>\n",
       "      <td>3965</td>\n",
       "      <td>1879</td>\n",
       "    </tr>\n",
       "    <tr>\n",
       "      <th>3</th>\n",
       "      <td>electronic</td>\n",
       "      <td>3786</td>\n",
       "      <td>1736</td>\n",
       "    </tr>\n",
       "    <tr>\n",
       "      <th>4</th>\n",
       "      <td>hiphop</td>\n",
       "      <td>2096</td>\n",
       "      <td>960</td>\n",
       "    </tr>\n",
       "    <tr>\n",
       "      <th>5</th>\n",
       "      <td>classical</td>\n",
       "      <td>1616</td>\n",
       "      <td>646</td>\n",
       "    </tr>\n",
       "    <tr>\n",
       "      <th>6</th>\n",
       "      <td>world</td>\n",
       "      <td>1432</td>\n",
       "      <td>515</td>\n",
       "    </tr>\n",
       "    <tr>\n",
       "      <th>7</th>\n",
       "      <td>alternative</td>\n",
       "      <td>1379</td>\n",
       "      <td>649</td>\n",
       "    </tr>\n",
       "    <tr>\n",
       "      <th>8</th>\n",
       "      <td>ruspop</td>\n",
       "      <td>1379</td>\n",
       "      <td>538</td>\n",
       "    </tr>\n",
       "    <tr>\n",
       "      <th>9</th>\n",
       "      <td>rusrap</td>\n",
       "      <td>1161</td>\n",
       "      <td>564</td>\n",
       "    </tr>\n",
       "  </tbody>\n",
       "</table>\n",
       "</div>"
      ],
      "text/plain": [
       "         genre  moscow  saint-peterburg\n",
       "0          pop    5892             2431\n",
       "1        dance    4435             1932\n",
       "2         rock    3965             1879\n",
       "3   electronic    3786             1736\n",
       "4       hiphop    2096              960\n",
       "5    classical    1616              646\n",
       "6        world    1432              515\n",
       "7  alternative    1379              649\n",
       "8       ruspop    1379              538\n",
       "9       rusrap    1161              564"
      ]
     },
     "metadata": {},
     "output_type": "display_data"
    }
   ],
   "source": [
    "# Create result table by genre in Moscow and Saint-Petersburg\n",
    "result_genre_city_columns = ['genre', 'moscow', 'saint-peterburg']\n",
    "result_genre_city = [['pop', 5892, 2431],\n",
    "                     ['dance', 4435, 1932],\n",
    "                     ['rock', 3965, 1879],\n",
    "                     ['electronic', 3786, 1736],\n",
    "                     ['hiphop', 2096, 960],\n",
    "                     ['classical', 1616, 646],\n",
    "                     ['world', 1432, 515],\n",
    "                     ['alternative', 1379, 649],\n",
    "                     ['ruspop', 1379, 538],\n",
    "                     ['rusrap', 1161, 564]]\n",
    "result_genre_city_df = pd.DataFrame(data=result_genre_city, columns=result_genre_city_columns)  \n",
    "display(result_genre_city_df)"
   ]
  },
  {
   "cell_type": "markdown",
   "metadata": {
    "id": "RY51YJYu_Zcv"
   },
   "source": [
    "**Выводы**"
   ]
  },
  {
   "cell_type": "markdown",
   "metadata": {
    "id": "nVhnJEm__Zcv"
   },
   "source": [
    "Гипотеза частично подтвердилась:\n",
    "* Поп-музыка — самый популярный жанр в Москве, как и предполагала гипотеза. Более того, в топ-10 жанров встречается близкий жанр — русская популярная музыка.\n",
    "* Вопреки ожиданиям, рэп одинаково популярен в Москве и Петербурге. \n"
   ]
  },
  {
   "cell_type": "markdown",
   "metadata": {
    "id": "ykKQ0N65_Zcv"
   },
   "source": [
    "## Итоги исследования"
   ]
  },
  {
   "cell_type": "markdown",
   "metadata": {
    "id": "tjUwbHb3_Zcv"
   },
   "source": [
    "Мы проверили три гипотезы и установили:\n",
    "\n",
    "1. День недели по-разному влияет на активность пользователей в Москве и Петербурге. \n",
    "\n",
    "Первая гипотеза полностью подтвердилась.\n",
    "\n",
    "2. Музыкальные предпочтения не сильно меняются в течение недели — будь то Москва или Петербург. Небольшие различия заметны в начале недели, по понедельникам:\n",
    "* в Москве слушают музыку жанра “world”,\n",
    "* в Петербурге — джаз и классику.\n",
    "\n",
    "Таким образом, вторая гипотеза подтвердилась лишь отчасти. Этот результат мог оказаться иным, если бы не пропуски в данных.\n",
    "\n",
    "3. Во вкусах пользователей Москвы и Петербурга больше общего чем различий. Вопреки ожиданиям, предпочтения жанров в Петербурге напоминают московские.\n",
    "\n",
    "Третья гипотеза не подтвердилась. Если различия в предпочтениях и существуют, на основной массе пользователей они незаметны."
   ]
  }
 ],
 "metadata": {
  "ExecuteTimeLog": [
   {
    "duration": 318,
    "start_time": "2021-06-13T22:00:18.469Z"
   },
   {
    "duration": 261,
    "start_time": "2021-06-13T22:00:42.174Z"
   },
   {
    "duration": 248,
    "start_time": "2021-06-13T22:00:45.130Z"
   },
   {
    "duration": 755,
    "start_time": "2021-06-13T22:00:51.329Z"
   },
   {
    "duration": 324,
    "start_time": "2021-06-13T22:00:54.336Z"
   },
   {
    "duration": 271,
    "start_time": "2021-06-13T22:02:27.672Z"
   },
   {
    "duration": 190,
    "start_time": "2021-06-13T22:03:26.103Z"
   },
   {
    "duration": 192,
    "start_time": "2021-06-13T22:03:33.647Z"
   },
   {
    "duration": 27,
    "start_time": "2021-06-13T22:03:35.703Z"
   },
   {
    "duration": 196,
    "start_time": "2021-06-13T22:04:30.550Z"
   },
   {
    "duration": 193,
    "start_time": "2021-06-13T22:06:54.692Z"
   },
   {
    "duration": 454,
    "start_time": "2021-06-13T22:07:16.516Z"
   },
   {
    "duration": 447,
    "start_time": "2021-06-13T22:08:41.006Z"
   },
   {
    "duration": 4,
    "start_time": "2021-06-13T22:08:57.526Z"
   },
   {
    "duration": 202,
    "start_time": "2021-06-13T22:09:00.247Z"
   },
   {
    "duration": 454,
    "start_time": "2021-06-13T22:14:54.964Z"
   },
   {
    "duration": 471,
    "start_time": "2021-06-13T22:15:19.200Z"
   },
   {
    "duration": 182,
    "start_time": "2021-06-13T22:49:01.893Z"
   },
   {
    "duration": 365,
    "start_time": "2021-06-14T21:00:16.967Z"
   },
   {
    "duration": 830,
    "start_time": "2021-06-14T21:00:41.112Z"
   },
   {
    "duration": 177,
    "start_time": "2021-06-14T21:00:41.944Z"
   },
   {
    "duration": 25,
    "start_time": "2021-06-14T21:00:42.123Z"
   },
   {
    "duration": 3,
    "start_time": "2021-06-14T21:01:04.531Z"
   },
   {
    "duration": 182,
    "start_time": "2021-06-14T21:01:05.495Z"
   },
   {
    "duration": 16,
    "start_time": "2021-06-14T21:01:07.525Z"
   },
   {
    "duration": 32,
    "start_time": "2021-06-14T21:01:13.196Z"
   },
   {
    "duration": 5,
    "start_time": "2021-06-14T21:02:08.854Z"
   },
   {
    "duration": 3,
    "start_time": "2021-06-14T21:02:30.118Z"
   },
   {
    "duration": 3,
    "start_time": "2021-06-14T21:04:00.447Z"
   },
   {
    "duration": 83,
    "start_time": "2021-06-14T21:04:03.537Z"
   },
   {
    "duration": 3,
    "start_time": "2021-06-14T21:04:15.679Z"
   },
   {
    "duration": 6,
    "start_time": "2021-06-14T21:04:23.183Z"
   },
   {
    "duration": 39,
    "start_time": "2021-06-14T21:04:33.324Z"
   },
   {
    "duration": 33,
    "start_time": "2021-06-14T21:04:43.365Z"
   },
   {
    "duration": 3,
    "start_time": "2021-06-14T21:04:49.332Z"
   },
   {
    "duration": 174,
    "start_time": "2021-06-14T21:04:49.338Z"
   },
   {
    "duration": 15,
    "start_time": "2021-06-14T21:04:49.516Z"
   },
   {
    "duration": 31,
    "start_time": "2021-06-14T21:04:49.534Z"
   },
   {
    "duration": 32,
    "start_time": "2021-06-14T21:04:49.568Z"
   },
   {
    "duration": 38,
    "start_time": "2021-06-14T21:04:49.603Z"
   },
   {
    "duration": 34,
    "start_time": "2021-06-14T21:04:55.307Z"
   },
   {
    "duration": 5,
    "start_time": "2021-06-14T21:04:58.642Z"
   },
   {
    "duration": 5,
    "start_time": "2021-06-14T21:05:01.366Z"
   },
   {
    "duration": 20,
    "start_time": "2021-06-14T21:05:14.955Z"
   },
   {
    "duration": 5,
    "start_time": "2021-06-14T21:05:17.096Z"
   },
   {
    "duration": 30,
    "start_time": "2021-06-14T21:05:57.280Z"
   },
   {
    "duration": 21,
    "start_time": "2021-06-14T21:06:14.567Z"
   },
   {
    "duration": 6,
    "start_time": "2021-06-14T21:06:15.736Z"
   },
   {
    "duration": 37,
    "start_time": "2021-06-14T21:06:20.661Z"
   },
   {
    "duration": 35,
    "start_time": "2021-06-14T21:08:19.855Z"
   },
   {
    "duration": 3,
    "start_time": "2021-06-14T21:16:44.726Z"
   },
   {
    "duration": 29,
    "start_time": "2021-06-14T21:16:52.581Z"
   },
   {
    "duration": 22,
    "start_time": "2021-06-14T21:17:11.097Z"
   },
   {
    "duration": 30,
    "start_time": "2021-06-14T21:17:12.102Z"
   },
   {
    "duration": 3,
    "start_time": "2021-06-14T21:17:20.052Z"
   },
   {
    "duration": 85,
    "start_time": "2021-06-14T21:17:31.670Z"
   },
   {
    "duration": 81,
    "start_time": "2021-06-14T21:17:40.313Z"
   },
   {
    "duration": 3,
    "start_time": "2021-06-14T21:17:47.818Z"
   },
   {
    "duration": 801,
    "start_time": "2021-06-14T21:20:14.757Z"
   },
   {
    "duration": 105,
    "start_time": "2021-06-14T21:20:32.801Z"
   },
   {
    "duration": 79,
    "start_time": "2021-06-14T21:20:51.219Z"
   },
   {
    "duration": 100,
    "start_time": "2021-06-14T21:20:56.307Z"
   },
   {
    "duration": 75,
    "start_time": "2021-06-14T21:20:58.023Z"
   },
   {
    "duration": 86,
    "start_time": "2021-06-14T21:21:10.082Z"
   },
   {
    "duration": 75,
    "start_time": "2021-06-14T21:21:11.889Z"
   },
   {
    "duration": 3,
    "start_time": "2021-06-14T21:21:54.886Z"
   },
   {
    "duration": 60,
    "start_time": "2021-06-14T21:22:12.825Z"
   },
   {
    "duration": 98,
    "start_time": "2021-06-14T21:23:15.005Z"
   },
   {
    "duration": 90,
    "start_time": "2021-06-14T21:23:34.866Z"
   },
   {
    "duration": 4,
    "start_time": "2021-06-14T21:26:03.872Z"
   },
   {
    "duration": 3,
    "start_time": "2021-06-14T21:26:40.791Z"
   },
   {
    "duration": 13,
    "start_time": "2021-06-14T21:26:50.679Z"
   },
   {
    "duration": 3,
    "start_time": "2021-06-14T21:27:07.082Z"
   },
   {
    "duration": 55,
    "start_time": "2021-06-14T21:27:12.169Z"
   },
   {
    "duration": 374,
    "start_time": "2021-06-15T21:32:32.633Z"
   },
   {
    "duration": 759,
    "start_time": "2021-06-15T21:32:44.583Z"
   },
   {
    "duration": 191,
    "start_time": "2021-06-15T21:32:45.345Z"
   },
   {
    "duration": 31,
    "start_time": "2021-06-15T21:32:45.539Z"
   },
   {
    "duration": 33,
    "start_time": "2021-06-15T21:32:45.585Z"
   },
   {
    "duration": 6,
    "start_time": "2021-06-15T21:32:45.620Z"
   },
   {
    "duration": 28,
    "start_time": "2021-06-15T21:32:45.628Z"
   },
   {
    "duration": 27,
    "start_time": "2021-06-15T21:32:45.659Z"
   },
   {
    "duration": 31,
    "start_time": "2021-06-15T21:32:45.689Z"
   },
   {
    "duration": 21,
    "start_time": "2021-06-15T21:32:45.723Z"
   },
   {
    "duration": 54,
    "start_time": "2021-06-15T21:32:45.747Z"
   },
   {
    "duration": 105,
    "start_time": "2021-06-15T21:32:45.803Z"
   },
   {
    "duration": 103,
    "start_time": "2021-06-15T21:32:45.910Z"
   },
   {
    "duration": 87,
    "start_time": "2021-06-15T21:32:46.015Z"
   },
   {
    "duration": 58,
    "start_time": "2021-06-15T21:32:46.104Z"
   },
   {
    "duration": 3,
    "start_time": "2021-06-15T21:32:46.164Z"
   },
   {
    "duration": 14,
    "start_time": "2021-06-15T21:32:46.186Z"
   },
   {
    "duration": 61,
    "start_time": "2021-06-15T21:32:46.202Z"
   },
   {
    "duration": 725,
    "start_time": "2021-06-15T21:32:50.432Z"
   },
   {
    "duration": 730,
    "start_time": "2021-06-15T21:33:05.284Z"
   },
   {
    "duration": 749,
    "start_time": "2021-06-15T21:33:12.895Z"
   },
   {
    "duration": 15,
    "start_time": "2021-06-15T21:37:12.209Z"
   },
   {
    "duration": 4,
    "start_time": "2021-06-15T21:37:34.235Z"
   },
   {
    "duration": 391,
    "start_time": "2021-06-15T21:38:38.937Z"
   },
   {
    "duration": 47,
    "start_time": "2021-06-15T21:39:48.652Z"
   },
   {
    "duration": 14,
    "start_time": "2021-06-15T21:40:32.593Z"
   },
   {
    "duration": 690,
    "start_time": "2021-06-15T21:40:57.279Z"
   },
   {
    "duration": 689,
    "start_time": "2021-06-15T21:41:08.132Z"
   },
   {
    "duration": 689,
    "start_time": "2021-06-15T21:41:08.134Z"
   },
   {
    "duration": 8418,
    "start_time": "2021-06-15T21:41:10.632Z"
   },
   {
    "duration": 3,
    "start_time": "2021-06-15T21:41:19.483Z"
   },
   {
    "duration": 196,
    "start_time": "2021-06-15T21:41:19.489Z"
   },
   {
    "duration": 16,
    "start_time": "2021-06-15T21:41:19.688Z"
   },
   {
    "duration": 33,
    "start_time": "2021-06-15T21:41:19.707Z"
   },
   {
    "duration": 6,
    "start_time": "2021-06-15T21:41:19.743Z"
   },
   {
    "duration": 18,
    "start_time": "2021-06-15T21:41:19.785Z"
   },
   {
    "duration": 5,
    "start_time": "2021-06-15T21:41:19.806Z"
   },
   {
    "duration": 30,
    "start_time": "2021-06-15T21:41:19.815Z"
   },
   {
    "duration": 57,
    "start_time": "2021-06-15T21:41:19.848Z"
   },
   {
    "duration": 32,
    "start_time": "2021-06-15T21:41:19.907Z"
   },
   {
    "duration": 114,
    "start_time": "2021-06-15T21:41:19.942Z"
   },
   {
    "duration": 111,
    "start_time": "2021-06-15T21:41:20.058Z"
   },
   {
    "duration": 83,
    "start_time": "2021-06-15T21:41:20.171Z"
   },
   {
    "duration": 69,
    "start_time": "2021-06-15T21:41:20.256Z"
   },
   {
    "duration": 4,
    "start_time": "2021-06-15T21:41:20.328Z"
   },
   {
    "duration": 26,
    "start_time": "2021-06-15T21:41:20.335Z"
   },
   {
    "duration": 107,
    "start_time": "2021-06-15T21:41:20.364Z"
   },
   {
    "duration": 35,
    "start_time": "2021-06-15T21:41:20.474Z"
   },
   {
    "duration": 12,
    "start_time": "2021-06-15T21:42:08.748Z"
   },
   {
    "duration": 15,
    "start_time": "2021-06-15T21:42:15.820Z"
   },
   {
    "duration": 5,
    "start_time": "2021-06-15T21:44:35.454Z"
   },
   {
    "duration": 5,
    "start_time": "2021-06-15T21:46:11.350Z"
   },
   {
    "duration": 10,
    "start_time": "2021-06-15T21:47:41.885Z"
   },
   {
    "duration": 10,
    "start_time": "2021-06-15T21:47:45.508Z"
   },
   {
    "duration": 11,
    "start_time": "2021-06-15T21:47:55.852Z"
   },
   {
    "duration": 5,
    "start_time": "2021-06-15T21:47:59.907Z"
   },
   {
    "duration": 11,
    "start_time": "2021-06-15T21:48:01.589Z"
   },
   {
    "duration": 17,
    "start_time": "2021-06-15T21:48:08.085Z"
   },
   {
    "duration": 5,
    "start_time": "2021-06-15T21:48:10.593Z"
   },
   {
    "duration": 12,
    "start_time": "2021-06-15T21:48:12.519Z"
   },
   {
    "duration": 23,
    "start_time": "2021-06-15T21:48:27.355Z"
   },
   {
    "duration": 3,
    "start_time": "2021-06-15T21:48:31.632Z"
   },
   {
    "duration": 21,
    "start_time": "2021-06-15T21:49:06.542Z"
   },
   {
    "duration": 20,
    "start_time": "2021-06-15T21:49:27.321Z"
   },
   {
    "duration": 3,
    "start_time": "2021-06-15T21:49:29.527Z"
   },
   {
    "duration": 19,
    "start_time": "2021-06-15T21:49:43.744Z"
   },
   {
    "duration": 23,
    "start_time": "2021-06-15T21:49:59.148Z"
   },
   {
    "duration": 3,
    "start_time": "2021-06-15T21:50:01.356Z"
   },
   {
    "duration": 20,
    "start_time": "2021-06-15T21:50:15.272Z"
   },
   {
    "duration": 4,
    "start_time": "2021-06-15T21:51:20.831Z"
   },
   {
    "duration": 1288,
    "start_time": "2021-06-15T21:57:57.801Z"
   },
   {
    "duration": 6,
    "start_time": "2021-06-15T21:58:11.086Z"
   },
   {
    "duration": 13,
    "start_time": "2021-06-15T21:58:20.567Z"
   },
   {
    "duration": 3,
    "start_time": "2021-06-15T22:01:06.302Z"
   },
   {
    "duration": 463,
    "start_time": "2021-06-15T22:01:39.674Z"
   },
   {
    "duration": 1131,
    "start_time": "2021-06-15T22:01:48.805Z"
   },
   {
    "duration": 941,
    "start_time": "2021-06-15T22:01:51.650Z"
   },
   {
    "duration": 200,
    "start_time": "2021-06-15T22:04:59.444Z"
   },
   {
    "duration": 7268,
    "start_time": "2021-06-15T22:40:43.956Z"
   },
   {
    "duration": 681,
    "start_time": "2021-06-15T22:41:47.433Z"
   },
   {
    "duration": 4,
    "start_time": "2021-06-15T22:42:04.759Z"
   },
   {
    "duration": 177,
    "start_time": "2021-06-15T22:42:04.765Z"
   },
   {
    "duration": 17,
    "start_time": "2021-06-15T22:42:04.945Z"
   },
   {
    "duration": 50,
    "start_time": "2021-06-15T22:42:04.964Z"
   },
   {
    "duration": 5,
    "start_time": "2021-06-15T22:42:05.016Z"
   },
   {
    "duration": 26,
    "start_time": "2021-06-15T22:42:05.023Z"
   },
   {
    "duration": 6,
    "start_time": "2021-06-15T22:42:05.052Z"
   },
   {
    "duration": 31,
    "start_time": "2021-06-15T22:42:05.085Z"
   },
   {
    "duration": 22,
    "start_time": "2021-06-15T22:42:05.120Z"
   },
   {
    "duration": 60,
    "start_time": "2021-06-15T22:42:05.145Z"
   },
   {
    "duration": 95,
    "start_time": "2021-06-15T22:42:05.208Z"
   },
   {
    "duration": 97,
    "start_time": "2021-06-15T22:42:05.306Z"
   },
   {
    "duration": 83,
    "start_time": "2021-06-15T22:42:05.406Z"
   },
   {
    "duration": 54,
    "start_time": "2021-06-15T22:42:05.492Z"
   },
   {
    "duration": 5,
    "start_time": "2021-06-15T22:42:05.549Z"
   },
   {
    "duration": 15,
    "start_time": "2021-06-15T22:42:05.585Z"
   },
   {
    "duration": 62,
    "start_time": "2021-06-15T22:42:05.603Z"
   },
   {
    "duration": 31,
    "start_time": "2021-06-15T22:42:05.668Z"
   },
   {
    "duration": 17,
    "start_time": "2021-06-15T22:42:05.702Z"
   },
   {
    "duration": 5,
    "start_time": "2021-06-15T22:42:05.721Z"
   },
   {
    "duration": 68,
    "start_time": "2021-06-15T22:42:05.728Z"
   },
   {
    "duration": 20,
    "start_time": "2021-06-15T22:42:05.798Z"
   },
   {
    "duration": 19,
    "start_time": "2021-06-15T22:42:05.820Z"
   },
   {
    "duration": 46,
    "start_time": "2021-06-15T22:42:05.841Z"
   },
   {
    "duration": 22,
    "start_time": "2021-06-15T22:42:05.889Z"
   },
   {
    "duration": 18,
    "start_time": "2021-06-15T22:42:05.914Z"
   },
   {
    "duration": 12,
    "start_time": "2021-06-15T22:42:05.937Z"
   },
   {
    "duration": 30,
    "start_time": "2021-06-15T22:42:05.986Z"
   },
   {
    "duration": 12,
    "start_time": "2021-06-15T22:42:06.018Z"
   },
   {
    "duration": 3,
    "start_time": "2021-06-15T22:42:06.032Z"
   },
   {
    "duration": 7,
    "start_time": "2021-06-15T22:42:06.038Z"
   },
   {
    "duration": 38,
    "start_time": "2021-06-15T22:42:06.047Z"
   },
   {
    "duration": 12,
    "start_time": "2021-06-15T22:42:06.088Z"
   },
   {
    "duration": 11,
    "start_time": "2021-06-15T22:42:06.102Z"
   },
   {
    "duration": 9,
    "start_time": "2021-06-15T22:42:06.115Z"
   },
   {
    "duration": 7,
    "start_time": "2021-06-15T22:42:06.126Z"
   },
   {
    "duration": 8,
    "start_time": "2021-06-15T22:42:06.135Z"
   },
   {
    "duration": 11,
    "start_time": "2021-06-15T22:42:06.146Z"
   },
   {
    "duration": 316,
    "start_time": "2021-06-15T22:42:47.151Z"
   },
   {
    "duration": 30,
    "start_time": "2021-06-15T22:43:01.505Z"
   },
   {
    "duration": 25,
    "start_time": "2021-06-15T22:43:15.330Z"
   },
   {
    "duration": 117,
    "start_time": "2021-06-15T22:57:05.302Z"
   },
   {
    "duration": 6,
    "start_time": "2021-06-15T23:00:51.262Z"
   },
   {
    "duration": 2548,
    "start_time": "2021-06-15T23:01:07.883Z"
   },
   {
    "duration": 3,
    "start_time": "2021-06-15T23:01:53.467Z"
   },
   {
    "duration": 218,
    "start_time": "2021-06-15T23:01:53.473Z"
   },
   {
    "duration": 16,
    "start_time": "2021-06-15T23:01:53.694Z"
   },
   {
    "duration": 34,
    "start_time": "2021-06-15T23:01:53.713Z"
   },
   {
    "duration": 5,
    "start_time": "2021-06-15T23:01:53.750Z"
   },
   {
    "duration": 19,
    "start_time": "2021-06-15T23:01:53.785Z"
   },
   {
    "duration": 5,
    "start_time": "2021-06-15T23:01:53.806Z"
   },
   {
    "duration": 33,
    "start_time": "2021-06-15T23:01:53.814Z"
   },
   {
    "duration": 53,
    "start_time": "2021-06-15T23:01:53.851Z"
   },
   {
    "duration": 31,
    "start_time": "2021-06-15T23:01:53.907Z"
   },
   {
    "duration": 111,
    "start_time": "2021-06-15T23:01:53.941Z"
   },
   {
    "duration": 109,
    "start_time": "2021-06-15T23:01:54.054Z"
   },
   {
    "duration": 86,
    "start_time": "2021-06-15T23:01:54.165Z"
   },
   {
    "duration": 75,
    "start_time": "2021-06-15T23:01:54.254Z"
   },
   {
    "duration": 4,
    "start_time": "2021-06-15T23:01:54.332Z"
   },
   {
    "duration": 20,
    "start_time": "2021-06-15T23:01:54.339Z"
   },
   {
    "duration": 79,
    "start_time": "2021-06-15T23:01:54.362Z"
   },
   {
    "duration": 43,
    "start_time": "2021-06-15T23:01:54.444Z"
   },
   {
    "duration": 17,
    "start_time": "2021-06-15T23:01:54.490Z"
   },
   {
    "duration": 5,
    "start_time": "2021-06-15T23:01:54.510Z"
   },
   {
    "duration": 44,
    "start_time": "2021-06-15T23:01:54.517Z"
   },
   {
    "duration": 35,
    "start_time": "2021-06-15T23:01:54.563Z"
   },
   {
    "duration": 20,
    "start_time": "2021-06-15T23:01:54.600Z"
   },
   {
    "duration": 20,
    "start_time": "2021-06-15T23:01:54.622Z"
   },
   {
    "duration": 58,
    "start_time": "2021-06-15T23:01:54.644Z"
   },
   {
    "duration": 20,
    "start_time": "2021-06-15T23:01:54.704Z"
   },
   {
    "duration": 11,
    "start_time": "2021-06-15T23:01:54.729Z"
   },
   {
    "duration": 62,
    "start_time": "2021-06-15T23:01:54.743Z"
   },
   {
    "duration": 25,
    "start_time": "2021-06-15T23:01:54.808Z"
   },
   {
    "duration": 5,
    "start_time": "2021-06-15T23:01:54.836Z"
   },
   {
    "duration": 2513,
    "start_time": "2021-06-15T23:01:54.843Z"
   },
   {
    "duration": 707,
    "start_time": "2021-06-15T23:01:56.651Z"
   },
   {
    "duration": 706,
    "start_time": "2021-06-15T23:01:56.653Z"
   },
   {
    "duration": 706,
    "start_time": "2021-06-15T23:01:56.655Z"
   },
   {
    "duration": 706,
    "start_time": "2021-06-15T23:01:56.656Z"
   },
   {
    "duration": 705,
    "start_time": "2021-06-15T23:01:56.658Z"
   },
   {
    "duration": 706,
    "start_time": "2021-06-15T23:01:56.659Z"
   },
   {
    "duration": 705,
    "start_time": "2021-06-15T23:01:56.661Z"
   },
   {
    "duration": 6,
    "start_time": "2021-06-15T23:03:30.985Z"
   },
   {
    "duration": 2489,
    "start_time": "2021-06-15T23:03:33.398Z"
   },
   {
    "duration": 4,
    "start_time": "2021-06-15T23:03:55.096Z"
   },
   {
    "duration": 2734,
    "start_time": "2021-06-15T23:03:56.087Z"
   },
   {
    "duration": 104,
    "start_time": "2021-06-15T23:05:34.066Z"
   },
   {
    "duration": 101,
    "start_time": "2021-06-15T23:05:41.710Z"
   },
   {
    "duration": 94,
    "start_time": "2021-06-15T23:05:52.129Z"
   },
   {
    "duration": 4,
    "start_time": "2021-06-15T23:05:59.028Z"
   },
   {
    "duration": 641,
    "start_time": "2021-06-15T23:06:00.671Z"
   },
   {
    "duration": 635,
    "start_time": "2021-06-15T23:07:03.655Z"
   },
   {
    "duration": 5,
    "start_time": "2021-06-15T23:07:12.451Z"
   },
   {
    "duration": 11,
    "start_time": "2021-06-15T23:07:14.280Z"
   },
   {
    "duration": 3,
    "start_time": "2021-06-15T23:07:22.565Z"
   },
   {
    "duration": 214,
    "start_time": "2021-06-15T23:07:22.571Z"
   },
   {
    "duration": 15,
    "start_time": "2021-06-15T23:07:22.788Z"
   },
   {
    "duration": 31,
    "start_time": "2021-06-15T23:07:22.806Z"
   },
   {
    "duration": 6,
    "start_time": "2021-06-15T23:07:22.840Z"
   },
   {
    "duration": 54,
    "start_time": "2021-06-15T23:07:22.849Z"
   },
   {
    "duration": 7,
    "start_time": "2021-06-15T23:07:22.905Z"
   },
   {
    "duration": 32,
    "start_time": "2021-06-15T23:07:22.915Z"
   },
   {
    "duration": 26,
    "start_time": "2021-06-15T23:07:22.989Z"
   },
   {
    "duration": 30,
    "start_time": "2021-06-15T23:07:23.018Z"
   },
   {
    "duration": 114,
    "start_time": "2021-06-15T23:07:23.051Z"
   },
   {
    "duration": 99,
    "start_time": "2021-06-15T23:07:23.168Z"
   },
   {
    "duration": 85,
    "start_time": "2021-06-15T23:07:23.269Z"
   },
   {
    "duration": 76,
    "start_time": "2021-06-15T23:07:23.357Z"
   },
   {
    "duration": 5,
    "start_time": "2021-06-15T23:07:23.436Z"
   },
   {
    "duration": 48,
    "start_time": "2021-06-15T23:07:23.444Z"
   },
   {
    "duration": 56,
    "start_time": "2021-06-15T23:07:23.494Z"
   },
   {
    "duration": 37,
    "start_time": "2021-06-15T23:07:23.553Z"
   },
   {
    "duration": 17,
    "start_time": "2021-06-15T23:07:23.593Z"
   },
   {
    "duration": 5,
    "start_time": "2021-06-15T23:07:23.613Z"
   },
   {
    "duration": 27,
    "start_time": "2021-06-15T23:07:23.621Z"
   },
   {
    "duration": 21,
    "start_time": "2021-06-15T23:07:23.686Z"
   },
   {
    "duration": 20,
    "start_time": "2021-06-15T23:07:23.710Z"
   },
   {
    "duration": 54,
    "start_time": "2021-06-15T23:07:23.732Z"
   },
   {
    "duration": 24,
    "start_time": "2021-06-15T23:07:23.788Z"
   },
   {
    "duration": 19,
    "start_time": "2021-06-15T23:07:23.814Z"
   },
   {
    "duration": 11,
    "start_time": "2021-06-15T23:07:23.837Z"
   },
   {
    "duration": 61,
    "start_time": "2021-06-15T23:07:23.851Z"
   },
   {
    "duration": 26,
    "start_time": "2021-06-15T23:07:23.915Z"
   },
   {
    "duration": 4,
    "start_time": "2021-06-15T23:07:23.943Z"
   },
   {
    "duration": 12,
    "start_time": "2021-06-15T23:07:23.986Z"
   },
   {
    "duration": 8,
    "start_time": "2021-06-15T23:07:24.000Z"
   },
   {
    "duration": 6,
    "start_time": "2021-06-15T23:07:24.010Z"
   },
   {
    "duration": 8,
    "start_time": "2021-06-15T23:07:24.018Z"
   },
   {
    "duration": 7,
    "start_time": "2021-06-15T23:07:24.028Z"
   },
   {
    "duration": 9,
    "start_time": "2021-06-15T23:07:24.037Z"
   },
   {
    "duration": 8,
    "start_time": "2021-06-15T23:07:24.048Z"
   },
   {
    "duration": 29,
    "start_time": "2021-06-15T23:07:24.058Z"
   },
   {
    "duration": 5,
    "start_time": "2021-06-15T23:07:48.394Z"
   },
   {
    "duration": 32,
    "start_time": "2021-06-15T23:07:48.403Z"
   },
   {
    "duration": 5,
    "start_time": "2021-06-15T23:08:18.859Z"
   },
   {
    "duration": 586,
    "start_time": "2021-06-15T23:08:19.541Z"
   },
   {
    "duration": 5,
    "start_time": "2021-06-15T23:10:37.190Z"
   },
   {
    "duration": 23,
    "start_time": "2021-06-15T23:10:37.814Z"
   },
   {
    "duration": 5,
    "start_time": "2021-06-15T23:11:25.193Z"
   },
   {
    "duration": 25,
    "start_time": "2021-06-15T23:11:25.748Z"
   },
   {
    "duration": 5,
    "start_time": "2021-06-15T23:11:32.518Z"
   },
   {
    "duration": 621,
    "start_time": "2021-06-15T23:11:32.588Z"
   },
   {
    "duration": 4,
    "start_time": "2021-06-15T23:19:52.430Z"
   },
   {
    "duration": 29,
    "start_time": "2021-06-15T23:19:52.974Z"
   },
   {
    "duration": 5,
    "start_time": "2021-06-15T23:20:11.954Z"
   },
   {
    "duration": 29,
    "start_time": "2021-06-15T23:20:12.321Z"
   },
   {
    "duration": 8,
    "start_time": "2021-06-15T23:20:31.327Z"
   },
   {
    "duration": 676,
    "start_time": "2021-06-15T23:20:31.808Z"
   },
   {
    "duration": 5,
    "start_time": "2021-06-15T23:22:14.403Z"
   },
   {
    "duration": 24,
    "start_time": "2021-06-15T23:22:14.816Z"
   },
   {
    "duration": 19,
    "start_time": "2021-06-15T23:23:03.215Z"
   },
   {
    "duration": 4,
    "start_time": "2021-06-15T23:23:03.520Z"
   },
   {
    "duration": 20,
    "start_time": "2021-06-15T23:23:57.102Z"
   },
   {
    "duration": 25,
    "start_time": "2021-06-15T23:24:11.751Z"
   },
   {
    "duration": 17,
    "start_time": "2021-06-15T23:24:13.702Z"
   },
   {
    "duration": 20,
    "start_time": "2021-06-15T23:24:15.914Z"
   },
   {
    "duration": 18,
    "start_time": "2021-06-15T23:24:41.623Z"
   },
   {
    "duration": 6,
    "start_time": "2021-06-15T23:25:11.036Z"
   },
   {
    "duration": 25,
    "start_time": "2021-06-15T23:25:11.582Z"
   },
   {
    "duration": 6,
    "start_time": "2021-06-15T23:25:30.686Z"
   },
   {
    "duration": 26,
    "start_time": "2021-06-15T23:25:31.321Z"
   },
   {
    "duration": 4,
    "start_time": "2021-06-15T23:25:38.195Z"
   },
   {
    "duration": 196,
    "start_time": "2021-06-15T23:25:38.202Z"
   },
   {
    "duration": 17,
    "start_time": "2021-06-15T23:25:38.401Z"
   },
   {
    "duration": 44,
    "start_time": "2021-06-15T23:25:38.420Z"
   },
   {
    "duration": 18,
    "start_time": "2021-06-15T23:25:38.467Z"
   },
   {
    "duration": 24,
    "start_time": "2021-06-15T23:25:38.488Z"
   },
   {
    "duration": 5,
    "start_time": "2021-06-15T23:25:38.515Z"
   },
   {
    "duration": 46,
    "start_time": "2021-06-15T23:25:38.522Z"
   },
   {
    "duration": 22,
    "start_time": "2021-06-15T23:25:38.586Z"
   },
   {
    "duration": 29,
    "start_time": "2021-06-15T23:25:38.611Z"
   },
   {
    "duration": 105,
    "start_time": "2021-06-15T23:25:38.642Z"
   },
   {
    "duration": 102,
    "start_time": "2021-06-15T23:25:38.750Z"
   },
   {
    "duration": 87,
    "start_time": "2021-06-15T23:25:38.855Z"
   },
   {
    "duration": 71,
    "start_time": "2021-06-15T23:25:38.945Z"
   },
   {
    "duration": 5,
    "start_time": "2021-06-15T23:25:39.019Z"
   },
   {
    "duration": 15,
    "start_time": "2021-06-15T23:25:39.027Z"
   },
   {
    "duration": 85,
    "start_time": "2021-06-15T23:25:39.045Z"
   },
   {
    "duration": 14,
    "start_time": "2021-06-15T23:25:39.133Z"
   },
   {
    "duration": 42,
    "start_time": "2021-06-15T23:25:39.150Z"
   },
   {
    "duration": 4,
    "start_time": "2021-06-15T23:25:39.195Z"
   },
   {
    "duration": 29,
    "start_time": "2021-06-15T23:25:39.202Z"
   },
   {
    "duration": 18,
    "start_time": "2021-06-15T23:25:39.234Z"
   },
   {
    "duration": 46,
    "start_time": "2021-06-15T23:25:39.254Z"
   },
   {
    "duration": 18,
    "start_time": "2021-06-15T23:25:39.302Z"
   },
   {
    "duration": 22,
    "start_time": "2021-06-15T23:25:39.323Z"
   },
   {
    "duration": 49,
    "start_time": "2021-06-15T23:25:39.347Z"
   },
   {
    "duration": 12,
    "start_time": "2021-06-15T23:25:39.401Z"
   },
   {
    "duration": 37,
    "start_time": "2021-06-15T23:25:39.415Z"
   },
   {
    "duration": 43,
    "start_time": "2021-06-15T23:25:39.455Z"
   },
   {
    "duration": 6,
    "start_time": "2021-06-15T23:25:39.500Z"
   },
   {
    "duration": 35,
    "start_time": "2021-06-15T23:25:39.508Z"
   },
   {
    "duration": 16,
    "start_time": "2021-06-15T23:25:39.546Z"
   },
   {
    "duration": 42,
    "start_time": "2021-06-15T23:25:39.564Z"
   },
   {
    "duration": 16,
    "start_time": "2021-06-15T23:25:39.608Z"
   },
   {
    "duration": 13,
    "start_time": "2021-06-15T23:25:39.626Z"
   },
   {
    "duration": 10,
    "start_time": "2021-06-15T23:25:39.642Z"
   },
   {
    "duration": 20,
    "start_time": "2021-06-15T23:25:39.654Z"
   },
   {
    "duration": 17,
    "start_time": "2021-06-15T23:25:39.677Z"
   },
   {
    "duration": 17,
    "start_time": "2021-06-15T23:26:19.670Z"
   },
   {
    "duration": 23,
    "start_time": "2021-06-15T23:26:21.585Z"
   },
   {
    "duration": 6,
    "start_time": "2021-06-15T23:26:36.755Z"
   },
   {
    "duration": 35,
    "start_time": "2021-06-15T23:26:37.333Z"
   },
   {
    "duration": 7,
    "start_time": "2021-06-15T23:27:41.425Z"
   },
   {
    "duration": 37,
    "start_time": "2021-06-15T23:27:42.092Z"
   },
   {
    "duration": 7,
    "start_time": "2021-06-15T23:28:06.881Z"
   },
   {
    "duration": 36,
    "start_time": "2021-06-15T23:28:07.399Z"
   },
   {
    "duration": 5,
    "start_time": "2021-06-15T23:28:15.432Z"
   },
   {
    "duration": 25,
    "start_time": "2021-06-15T23:28:16.037Z"
   },
   {
    "duration": 17,
    "start_time": "2021-06-15T23:28:18.728Z"
   },
   {
    "duration": 23,
    "start_time": "2021-06-15T23:28:19.544Z"
   },
   {
    "duration": 17,
    "start_time": "2021-06-15T23:28:21.893Z"
   },
   {
    "duration": 331,
    "start_time": "2021-06-15T23:32:31.944Z"
   },
   {
    "duration": 11,
    "start_time": "2021-06-15T23:32:39.992Z"
   },
   {
    "duration": 7,
    "start_time": "2021-06-15T23:32:40.838Z"
   },
   {
    "duration": 11,
    "start_time": "2021-06-15T23:32:45.985Z"
   },
   {
    "duration": 6,
    "start_time": "2021-06-15T23:32:46.378Z"
   },
   {
    "duration": 3,
    "start_time": "2021-06-15T23:33:03.786Z"
   },
   {
    "duration": 3,
    "start_time": "2021-06-15T23:33:17.085Z"
   },
   {
    "duration": 9,
    "start_time": "2021-06-15T23:33:25.958Z"
   },
   {
    "duration": 7,
    "start_time": "2021-06-15T23:33:26.274Z"
   },
   {
    "duration": 4,
    "start_time": "2021-06-15T23:34:45.270Z"
   },
   {
    "duration": 208,
    "start_time": "2021-06-15T23:34:45.277Z"
   },
   {
    "duration": 17,
    "start_time": "2021-06-15T23:34:45.489Z"
   },
   {
    "duration": 40,
    "start_time": "2021-06-15T23:34:45.509Z"
   },
   {
    "duration": 5,
    "start_time": "2021-06-15T23:34:45.552Z"
   },
   {
    "duration": 18,
    "start_time": "2021-06-15T23:34:45.585Z"
   },
   {
    "duration": 6,
    "start_time": "2021-06-15T23:34:45.605Z"
   },
   {
    "duration": 36,
    "start_time": "2021-06-15T23:34:45.616Z"
   },
   {
    "duration": 50,
    "start_time": "2021-06-15T23:34:45.656Z"
   },
   {
    "duration": 30,
    "start_time": "2021-06-15T23:34:45.708Z"
   },
   {
    "duration": 106,
    "start_time": "2021-06-15T23:34:45.741Z"
   },
   {
    "duration": 104,
    "start_time": "2021-06-15T23:34:45.850Z"
   },
   {
    "duration": 84,
    "start_time": "2021-06-15T23:34:45.956Z"
   },
   {
    "duration": 65,
    "start_time": "2021-06-15T23:34:46.043Z"
   },
   {
    "duration": 5,
    "start_time": "2021-06-15T23:34:46.111Z"
   },
   {
    "duration": 22,
    "start_time": "2021-06-15T23:34:46.119Z"
   },
   {
    "duration": 80,
    "start_time": "2021-06-15T23:34:46.143Z"
   },
   {
    "duration": 15,
    "start_time": "2021-06-15T23:34:46.226Z"
   },
   {
    "duration": 14,
    "start_time": "2021-06-15T23:34:46.243Z"
   },
   {
    "duration": 29,
    "start_time": "2021-06-15T23:34:46.259Z"
   },
   {
    "duration": 46,
    "start_time": "2021-06-15T23:34:46.290Z"
   },
   {
    "duration": 17,
    "start_time": "2021-06-15T23:34:46.338Z"
   },
   {
    "duration": 26,
    "start_time": "2021-06-15T23:34:46.360Z"
   },
   {
    "duration": 18,
    "start_time": "2021-06-15T23:34:46.389Z"
   },
   {
    "duration": 21,
    "start_time": "2021-06-15T23:34:46.409Z"
   },
   {
    "duration": 19,
    "start_time": "2021-06-15T23:34:46.432Z"
   },
   {
    "duration": 12,
    "start_time": "2021-06-15T23:34:46.485Z"
   },
   {
    "duration": 33,
    "start_time": "2021-06-15T23:34:46.500Z"
   },
   {
    "duration": 23,
    "start_time": "2021-06-15T23:34:46.536Z"
   },
   {
    "duration": 26,
    "start_time": "2021-06-15T23:34:46.561Z"
   },
   {
    "duration": 33,
    "start_time": "2021-06-15T23:34:46.589Z"
   },
   {
    "duration": 16,
    "start_time": "2021-06-15T23:34:46.624Z"
   },
   {
    "duration": 45,
    "start_time": "2021-06-15T23:34:46.642Z"
   },
   {
    "duration": 18,
    "start_time": "2021-06-15T23:34:46.690Z"
   },
   {
    "duration": 11,
    "start_time": "2021-06-15T23:34:46.710Z"
   },
   {
    "duration": 13,
    "start_time": "2021-06-15T23:34:46.723Z"
   },
   {
    "duration": 18,
    "start_time": "2021-06-15T23:34:46.738Z"
   },
   {
    "duration": 28,
    "start_time": "2021-06-15T23:34:46.758Z"
   },
   {
    "duration": 516,
    "start_time": "2021-06-17T17:45:23.040Z"
   },
   {
    "duration": 138,
    "start_time": "2021-06-17T17:45:23.558Z"
   },
   {
    "duration": 17,
    "start_time": "2021-06-17T17:45:23.698Z"
   },
   {
    "duration": 24,
    "start_time": "2021-06-17T17:45:23.717Z"
   },
   {
    "duration": 3,
    "start_time": "2021-06-17T17:45:23.743Z"
   },
   {
    "duration": 42,
    "start_time": "2021-06-17T17:45:23.748Z"
   },
   {
    "duration": 3,
    "start_time": "2021-06-17T17:45:23.792Z"
   },
   {
    "duration": 23,
    "start_time": "2021-06-17T17:45:23.798Z"
   },
   {
    "duration": 17,
    "start_time": "2021-06-17T17:45:23.823Z"
   },
   {
    "duration": 44,
    "start_time": "2021-06-17T17:45:23.842Z"
   },
   {
    "duration": 63,
    "start_time": "2021-06-17T17:45:23.887Z"
   },
   {
    "duration": 88,
    "start_time": "2021-06-17T17:45:23.951Z"
   },
   {
    "duration": 58,
    "start_time": "2021-06-17T17:45:24.041Z"
   },
   {
    "duration": 38,
    "start_time": "2021-06-17T17:45:24.101Z"
   },
   {
    "duration": 3,
    "start_time": "2021-06-17T17:45:24.140Z"
   },
   {
    "duration": 11,
    "start_time": "2021-06-17T17:45:24.145Z"
   },
   {
    "duration": 63,
    "start_time": "2021-06-17T17:45:24.158Z"
   },
   {
    "duration": 12,
    "start_time": "2021-06-17T17:45:24.223Z"
   },
   {
    "duration": 12,
    "start_time": "2021-06-17T17:45:24.237Z"
   },
   {
    "duration": 3,
    "start_time": "2021-06-17T17:45:24.251Z"
   },
   {
    "duration": 44,
    "start_time": "2021-06-17T17:45:24.256Z"
   },
   {
    "duration": 14,
    "start_time": "2021-06-17T17:45:24.302Z"
   },
   {
    "duration": 15,
    "start_time": "2021-06-17T17:45:24.319Z"
   },
   {
    "duration": 12,
    "start_time": "2021-06-17T17:45:24.336Z"
   },
   {
    "duration": 48,
    "start_time": "2021-06-17T17:45:24.350Z"
   },
   {
    "duration": 14,
    "start_time": "2021-06-17T17:45:24.400Z"
   },
   {
    "duration": 7,
    "start_time": "2021-06-17T17:45:24.415Z"
   },
   {
    "duration": 13,
    "start_time": "2021-06-17T17:45:24.424Z"
   },
   {
    "duration": 8,
    "start_time": "2021-06-17T17:45:24.438Z"
   },
   {
    "duration": 4,
    "start_time": "2021-06-17T17:45:24.447Z"
   },
   {
    "duration": 51,
    "start_time": "2021-06-17T17:45:24.452Z"
   },
   {
    "duration": 12,
    "start_time": "2021-06-17T17:45:24.505Z"
   },
   {
    "duration": 16,
    "start_time": "2021-06-17T17:45:24.518Z"
   },
   {
    "duration": 11,
    "start_time": "2021-06-17T17:45:24.536Z"
   },
   {
    "duration": 37,
    "start_time": "2021-06-17T17:45:24.549Z"
   },
   {
    "duration": 4,
    "start_time": "2021-06-17T17:45:24.587Z"
   },
   {
    "duration": 7,
    "start_time": "2021-06-17T17:45:24.593Z"
   },
   {
    "duration": 5,
    "start_time": "2021-06-17T17:45:24.602Z"
   },
   {
    "duration": 9,
    "start_time": "2021-06-17T17:45:24.609Z"
   },
   {
    "duration": 3,
    "start_time": "2021-06-17T17:45:30.615Z"
   },
   {
    "duration": 158,
    "start_time": "2021-06-17T17:45:30.619Z"
   },
   {
    "duration": 13,
    "start_time": "2021-06-17T17:45:30.779Z"
   },
   {
    "duration": 45,
    "start_time": "2021-06-17T17:45:30.794Z"
   },
   {
    "duration": 26,
    "start_time": "2021-06-17T17:45:30.841Z"
   },
   {
    "duration": 38,
    "start_time": "2021-06-17T17:45:30.868Z"
   },
   {
    "duration": 11,
    "start_time": "2021-06-17T17:45:30.908Z"
   },
   {
    "duration": 32,
    "start_time": "2021-06-17T17:45:30.921Z"
   },
   {
    "duration": 31,
    "start_time": "2021-06-17T17:45:30.955Z"
   },
   {
    "duration": 24,
    "start_time": "2021-06-17T17:45:30.988Z"
   },
   {
    "duration": 62,
    "start_time": "2021-06-17T17:45:31.014Z"
   },
   {
    "duration": 57,
    "start_time": "2021-06-17T17:45:31.078Z"
   },
   {
    "duration": 54,
    "start_time": "2021-06-17T17:45:31.137Z"
   },
   {
    "duration": 37,
    "start_time": "2021-06-17T17:45:31.193Z"
   },
   {
    "duration": 4,
    "start_time": "2021-06-17T17:45:31.232Z"
   },
   {
    "duration": 22,
    "start_time": "2021-06-17T17:45:31.237Z"
   },
   {
    "duration": 59,
    "start_time": "2021-06-17T17:45:31.260Z"
   },
   {
    "duration": 10,
    "start_time": "2021-06-17T17:45:31.321Z"
   },
   {
    "duration": 16,
    "start_time": "2021-06-17T17:45:31.333Z"
   },
   {
    "duration": 16,
    "start_time": "2021-06-17T17:45:31.351Z"
   },
   {
    "duration": 38,
    "start_time": "2021-06-17T17:45:31.368Z"
   },
   {
    "duration": 20,
    "start_time": "2021-06-17T17:45:31.408Z"
   },
   {
    "duration": 20,
    "start_time": "2021-06-17T17:45:31.429Z"
   },
   {
    "duration": 20,
    "start_time": "2021-06-17T17:45:31.451Z"
   },
   {
    "duration": 30,
    "start_time": "2021-06-17T17:45:31.473Z"
   },
   {
    "duration": 15,
    "start_time": "2021-06-17T17:45:31.505Z"
   },
   {
    "duration": 10,
    "start_time": "2021-06-17T17:45:31.524Z"
   },
   {
    "duration": 27,
    "start_time": "2021-06-17T17:45:31.536Z"
   },
   {
    "duration": 10,
    "start_time": "2021-06-17T17:45:31.565Z"
   },
   {
    "duration": 19,
    "start_time": "2021-06-17T17:45:31.576Z"
   },
   {
    "duration": 34,
    "start_time": "2021-06-17T17:45:31.597Z"
   },
   {
    "duration": 11,
    "start_time": "2021-06-17T17:45:31.633Z"
   },
   {
    "duration": 29,
    "start_time": "2021-06-17T17:45:31.645Z"
   },
   {
    "duration": 21,
    "start_time": "2021-06-17T17:45:31.675Z"
   },
   {
    "duration": 8,
    "start_time": "2021-06-17T17:45:31.698Z"
   },
   {
    "duration": 10,
    "start_time": "2021-06-17T17:45:31.708Z"
   },
   {
    "duration": 19,
    "start_time": "2021-06-17T17:45:31.720Z"
   },
   {
    "duration": 12,
    "start_time": "2021-06-17T17:45:31.741Z"
   },
   {
    "duration": 18,
    "start_time": "2021-06-17T17:45:31.755Z"
   },
   {
    "duration": 3,
    "start_time": "2021-06-17T18:05:42.994Z"
   },
   {
    "duration": 135,
    "start_time": "2021-06-17T18:05:42.999Z"
   },
   {
    "duration": 10,
    "start_time": "2021-06-17T18:05:43.136Z"
   },
   {
    "duration": 24,
    "start_time": "2021-06-17T18:05:43.147Z"
   },
   {
    "duration": 13,
    "start_time": "2021-06-17T18:05:43.173Z"
   },
   {
    "duration": 10,
    "start_time": "2021-06-17T18:05:43.187Z"
   },
   {
    "duration": 3,
    "start_time": "2021-06-17T18:05:43.199Z"
   },
   {
    "duration": 24,
    "start_time": "2021-06-17T18:05:43.203Z"
   },
   {
    "duration": 15,
    "start_time": "2021-06-17T18:05:43.229Z"
   },
   {
    "duration": 48,
    "start_time": "2021-06-17T18:05:43.246Z"
   },
   {
    "duration": 50,
    "start_time": "2021-06-17T18:05:43.295Z"
   },
   {
    "duration": 76,
    "start_time": "2021-06-17T18:05:43.346Z"
   },
   {
    "duration": 49,
    "start_time": "2021-06-17T18:05:43.423Z"
   },
   {
    "duration": 45,
    "start_time": "2021-06-17T18:05:43.474Z"
   },
   {
    "duration": 3,
    "start_time": "2021-06-17T18:05:43.521Z"
   },
   {
    "duration": 10,
    "start_time": "2021-06-17T18:05:43.525Z"
   },
   {
    "duration": 55,
    "start_time": "2021-06-17T18:05:43.537Z"
   },
   {
    "duration": 9,
    "start_time": "2021-06-17T18:05:43.594Z"
   },
   {
    "duration": 10,
    "start_time": "2021-06-17T18:05:43.605Z"
   },
   {
    "duration": 2,
    "start_time": "2021-06-17T18:05:43.617Z"
   },
   {
    "duration": 19,
    "start_time": "2021-06-17T18:05:43.621Z"
   },
   {
    "duration": 14,
    "start_time": "2021-06-17T18:05:43.641Z"
   },
   {
    "duration": 14,
    "start_time": "2021-06-17T18:05:43.685Z"
   },
   {
    "duration": 13,
    "start_time": "2021-06-17T18:05:43.701Z"
   },
   {
    "duration": 15,
    "start_time": "2021-06-17T18:05:43.716Z"
   },
   {
    "duration": 13,
    "start_time": "2021-06-17T18:05:43.733Z"
   },
   {
    "duration": 37,
    "start_time": "2021-06-17T18:05:43.749Z"
   },
   {
    "duration": 11,
    "start_time": "2021-06-17T18:05:43.788Z"
   },
   {
    "duration": 9,
    "start_time": "2021-06-17T18:05:43.801Z"
   },
   {
    "duration": 4,
    "start_time": "2021-06-17T18:05:43.811Z"
   },
   {
    "duration": 22,
    "start_time": "2021-06-17T18:05:43.816Z"
   },
   {
    "duration": 12,
    "start_time": "2021-06-17T18:05:43.839Z"
   },
   {
    "duration": 39,
    "start_time": "2021-06-17T18:05:43.852Z"
   },
   {
    "duration": 11,
    "start_time": "2021-06-17T18:05:43.893Z"
   },
   {
    "duration": 7,
    "start_time": "2021-06-17T18:05:43.906Z"
   },
   {
    "duration": 5,
    "start_time": "2021-06-17T18:05:43.914Z"
   },
   {
    "duration": 6,
    "start_time": "2021-06-17T18:05:43.920Z"
   },
   {
    "duration": 5,
    "start_time": "2021-06-17T18:05:43.927Z"
   },
   {
    "duration": 9,
    "start_time": "2021-06-17T18:05:43.933Z"
   },
   {
    "duration": 4,
    "start_time": "2021-06-17T18:06:05.344Z"
   },
   {
    "duration": 138,
    "start_time": "2021-06-17T18:06:06.711Z"
   },
   {
    "duration": 3,
    "start_time": "2021-06-17T18:06:11.230Z"
   },
   {
    "duration": 143,
    "start_time": "2021-06-17T18:06:11.235Z"
   },
   {
    "duration": 13,
    "start_time": "2021-06-17T18:06:11.380Z"
   },
   {
    "duration": 25,
    "start_time": "2021-06-17T18:06:11.394Z"
   },
   {
    "duration": 4,
    "start_time": "2021-06-17T18:06:11.420Z"
   },
   {
    "duration": 13,
    "start_time": "2021-06-17T18:06:11.425Z"
   },
   {
    "duration": 4,
    "start_time": "2021-06-17T18:06:11.439Z"
   },
   {
    "duration": 44,
    "start_time": "2021-06-17T18:06:11.445Z"
   },
   {
    "duration": 15,
    "start_time": "2021-06-17T18:06:11.491Z"
   },
   {
    "duration": 22,
    "start_time": "2021-06-17T18:06:11.508Z"
   },
   {
    "duration": 66,
    "start_time": "2021-06-17T18:06:11.531Z"
   },
   {
    "duration": 57,
    "start_time": "2021-06-17T18:06:11.599Z"
   },
   {
    "duration": 62,
    "start_time": "2021-06-17T18:06:11.658Z"
   },
   {
    "duration": 37,
    "start_time": "2021-06-17T18:06:11.721Z"
   },
   {
    "duration": 2,
    "start_time": "2021-06-17T18:06:11.760Z"
   },
   {
    "duration": 25,
    "start_time": "2021-06-17T18:06:11.764Z"
   },
   {
    "duration": 39,
    "start_time": "2021-06-17T18:06:11.790Z"
   },
   {
    "duration": 11,
    "start_time": "2021-06-17T18:06:11.830Z"
   },
   {
    "duration": 10,
    "start_time": "2021-06-17T18:06:11.842Z"
   },
   {
    "duration": 3,
    "start_time": "2021-06-17T18:06:11.853Z"
   },
   {
    "duration": 15,
    "start_time": "2021-06-17T18:06:11.885Z"
   },
   {
    "duration": 12,
    "start_time": "2021-06-17T18:06:11.902Z"
   },
   {
    "duration": 13,
    "start_time": "2021-06-17T18:06:11.917Z"
   },
   {
    "duration": 15,
    "start_time": "2021-06-17T18:06:11.931Z"
   },
   {
    "duration": 38,
    "start_time": "2021-06-17T18:06:11.947Z"
   },
   {
    "duration": 13,
    "start_time": "2021-06-17T18:06:11.987Z"
   },
   {
    "duration": 9,
    "start_time": "2021-06-17T18:06:12.001Z"
   },
   {
    "duration": 18,
    "start_time": "2021-06-17T18:06:12.012Z"
   },
   {
    "duration": 10,
    "start_time": "2021-06-17T18:06:12.032Z"
   },
   {
    "duration": 4,
    "start_time": "2021-06-17T18:06:12.044Z"
   },
   {
    "duration": 48,
    "start_time": "2021-06-17T18:06:12.050Z"
   },
   {
    "duration": 13,
    "start_time": "2021-06-17T18:06:12.100Z"
   },
   {
    "duration": 18,
    "start_time": "2021-06-17T18:06:12.115Z"
   },
   {
    "duration": 13,
    "start_time": "2021-06-17T18:06:12.135Z"
   },
   {
    "duration": 36,
    "start_time": "2021-06-17T18:06:12.150Z"
   },
   {
    "duration": 4,
    "start_time": "2021-06-17T18:06:12.188Z"
   },
   {
    "duration": 22,
    "start_time": "2021-06-17T18:06:12.194Z"
   },
   {
    "duration": 15,
    "start_time": "2021-06-17T18:06:12.218Z"
   },
   {
    "duration": 13,
    "start_time": "2021-06-17T18:06:12.234Z"
   },
   {
    "duration": 128,
    "start_time": "2021-06-18T12:44:22.064Z"
   },
   {
    "duration": 340,
    "start_time": "2021-06-18T15:53:59.172Z"
   },
   {
    "duration": 721,
    "start_time": "2021-06-18T15:54:14.573Z"
   },
   {
    "duration": 279,
    "start_time": "2021-06-18T15:54:15.297Z"
   },
   {
    "duration": 26,
    "start_time": "2021-06-18T15:54:15.579Z"
   },
   {
    "duration": 59,
    "start_time": "2021-06-18T15:54:15.609Z"
   },
   {
    "duration": 6,
    "start_time": "2021-06-18T15:54:15.671Z"
   },
   {
    "duration": 25,
    "start_time": "2021-06-18T15:54:15.681Z"
   },
   {
    "duration": 11,
    "start_time": "2021-06-18T15:54:15.709Z"
   },
   {
    "duration": 33,
    "start_time": "2021-06-18T15:54:15.756Z"
   },
   {
    "duration": 25,
    "start_time": "2021-06-18T15:54:15.793Z"
   },
   {
    "duration": 61,
    "start_time": "2021-06-18T15:54:15.820Z"
   },
   {
    "duration": 106,
    "start_time": "2021-06-18T15:54:15.884Z"
   },
   {
    "duration": 104,
    "start_time": "2021-06-18T15:54:15.993Z"
   },
   {
    "duration": 85,
    "start_time": "2021-06-18T15:54:16.100Z"
   },
   {
    "duration": 70,
    "start_time": "2021-06-18T15:54:16.187Z"
   },
   {
    "duration": 4,
    "start_time": "2021-06-18T15:54:16.259Z"
   },
   {
    "duration": 15,
    "start_time": "2021-06-18T15:54:16.266Z"
   },
   {
    "duration": 78,
    "start_time": "2021-06-18T15:54:16.284Z"
   },
   {
    "duration": 16,
    "start_time": "2021-06-18T15:54:16.364Z"
   },
   {
    "duration": 14,
    "start_time": "2021-06-18T15:54:16.382Z"
   },
   {
    "duration": 4,
    "start_time": "2021-06-18T15:54:16.399Z"
   },
   {
    "duration": 57,
    "start_time": "2021-06-18T15:54:16.406Z"
   },
   {
    "duration": 21,
    "start_time": "2021-06-18T15:54:16.466Z"
   },
   {
    "duration": 19,
    "start_time": "2021-06-18T15:54:16.492Z"
   },
   {
    "duration": 46,
    "start_time": "2021-06-18T15:54:16.515Z"
   },
   {
    "duration": 21,
    "start_time": "2021-06-18T15:54:16.564Z"
   },
   {
    "duration": 20,
    "start_time": "2021-06-18T15:54:16.588Z"
   },
   {
    "duration": 45,
    "start_time": "2021-06-18T15:54:16.610Z"
   },
   {
    "duration": 14,
    "start_time": "2021-06-18T15:54:16.658Z"
   },
   {
    "duration": 12,
    "start_time": "2021-06-18T15:54:16.674Z"
   },
   {
    "duration": 6,
    "start_time": "2021-06-18T15:54:16.689Z"
   },
   {
    "duration": 64,
    "start_time": "2021-06-18T15:54:16.698Z"
   },
   {
    "duration": 18,
    "start_time": "2021-06-18T15:54:16.765Z"
   },
   {
    "duration": 23,
    "start_time": "2021-06-18T15:54:16.786Z"
   },
   {
    "duration": 51,
    "start_time": "2021-06-18T15:54:16.812Z"
   },
   {
    "duration": 10,
    "start_time": "2021-06-18T15:54:16.865Z"
   },
   {
    "duration": 5,
    "start_time": "2021-06-18T15:54:16.878Z"
   },
   {
    "duration": 9,
    "start_time": "2021-06-18T15:54:16.885Z"
   },
   {
    "duration": 7,
    "start_time": "2021-06-18T15:54:16.896Z"
   },
   {
    "duration": 59,
    "start_time": "2021-06-18T15:54:16.905Z"
   },
   {
    "duration": 4,
    "start_time": "2021-06-18T15:54:29.453Z"
   },
   {
    "duration": 226,
    "start_time": "2021-06-18T15:54:29.460Z"
   },
   {
    "duration": 16,
    "start_time": "2021-06-18T15:54:29.689Z"
   },
   {
    "duration": 62,
    "start_time": "2021-06-18T15:54:29.708Z"
   },
   {
    "duration": 6,
    "start_time": "2021-06-18T15:54:29.772Z"
   },
   {
    "duration": 33,
    "start_time": "2021-06-18T15:54:29.781Z"
   },
   {
    "duration": 7,
    "start_time": "2021-06-18T15:54:29.816Z"
   },
   {
    "duration": 67,
    "start_time": "2021-06-18T15:54:29.826Z"
   },
   {
    "duration": 25,
    "start_time": "2021-06-18T15:54:29.898Z"
   },
   {
    "duration": 57,
    "start_time": "2021-06-18T15:54:29.927Z"
   },
   {
    "duration": 107,
    "start_time": "2021-06-18T15:54:29.987Z"
   },
   {
    "duration": 105,
    "start_time": "2021-06-18T15:54:30.097Z"
   },
   {
    "duration": 86,
    "start_time": "2021-06-18T15:54:30.205Z"
   },
   {
    "duration": 70,
    "start_time": "2021-06-18T15:54:30.293Z"
   },
   {
    "duration": 5,
    "start_time": "2021-06-18T15:54:30.366Z"
   },
   {
    "duration": 25,
    "start_time": "2021-06-18T15:54:30.374Z"
   },
   {
    "duration": 77,
    "start_time": "2021-06-18T15:54:30.402Z"
   },
   {
    "duration": 25,
    "start_time": "2021-06-18T15:54:30.482Z"
   },
   {
    "duration": 26,
    "start_time": "2021-06-18T15:54:30.509Z"
   },
   {
    "duration": 25,
    "start_time": "2021-06-18T15:54:30.537Z"
   },
   {
    "duration": 42,
    "start_time": "2021-06-18T15:54:30.565Z"
   },
   {
    "duration": 31,
    "start_time": "2021-06-18T15:54:30.609Z"
   },
   {
    "duration": 30,
    "start_time": "2021-06-18T15:54:30.642Z"
   },
   {
    "duration": 42,
    "start_time": "2021-06-18T15:54:30.674Z"
   },
   {
    "duration": 37,
    "start_time": "2021-06-18T15:54:30.719Z"
   },
   {
    "duration": 34,
    "start_time": "2021-06-18T15:54:30.758Z"
   },
   {
    "duration": 16,
    "start_time": "2021-06-18T15:54:30.796Z"
   },
   {
    "duration": 49,
    "start_time": "2021-06-18T15:54:30.814Z"
   },
   {
    "duration": 30,
    "start_time": "2021-06-18T15:54:30.865Z"
   },
   {
    "duration": 16,
    "start_time": "2021-06-18T15:54:30.897Z"
   },
   {
    "duration": 38,
    "start_time": "2021-06-18T15:54:30.915Z"
   },
   {
    "duration": 17,
    "start_time": "2021-06-18T15:54:30.956Z"
   },
   {
    "duration": 36,
    "start_time": "2021-06-18T15:54:30.976Z"
   },
   {
    "duration": 28,
    "start_time": "2021-06-18T15:54:31.014Z"
   },
   {
    "duration": 31,
    "start_time": "2021-06-18T15:54:31.044Z"
   },
   {
    "duration": 31,
    "start_time": "2021-06-18T15:54:31.077Z"
   },
   {
    "duration": 20,
    "start_time": "2021-06-18T15:54:31.111Z"
   },
   {
    "duration": 22,
    "start_time": "2021-06-18T15:54:31.134Z"
   },
   {
    "duration": 41,
    "start_time": "2021-06-18T15:54:31.159Z"
   },
   {
    "duration": 4,
    "start_time": "2021-06-18T16:01:15.908Z"
   },
   {
    "duration": 593,
    "start_time": "2021-06-18T16:01:23.898Z"
   },
   {
    "duration": 4,
    "start_time": "2021-06-18T16:02:59.903Z"
   },
   {
    "duration": 203,
    "start_time": "2021-06-18T16:02:59.909Z"
   },
   {
    "duration": 16,
    "start_time": "2021-06-18T16:03:00.115Z"
   },
   {
    "duration": 50,
    "start_time": "2021-06-18T16:03:00.134Z"
   },
   {
    "duration": 8,
    "start_time": "2021-06-18T16:03:00.187Z"
   },
   {
    "duration": 33,
    "start_time": "2021-06-18T16:03:00.197Z"
   },
   {
    "duration": 25,
    "start_time": "2021-06-18T16:03:00.232Z"
   },
   {
    "duration": 53,
    "start_time": "2021-06-18T16:03:00.261Z"
   },
   {
    "duration": 36,
    "start_time": "2021-06-18T16:03:00.317Z"
   },
   {
    "duration": 33,
    "start_time": "2021-06-18T16:03:00.356Z"
   },
   {
    "duration": 105,
    "start_time": "2021-06-18T16:03:00.392Z"
   },
   {
    "duration": 109,
    "start_time": "2021-06-18T16:03:00.499Z"
   },
   {
    "duration": 84,
    "start_time": "2021-06-18T16:03:00.611Z"
   },
   {
    "duration": 66,
    "start_time": "2021-06-18T16:03:00.697Z"
   },
   {
    "duration": 16,
    "start_time": "2021-06-18T16:03:00.765Z"
   },
   {
    "duration": 39,
    "start_time": "2021-06-18T16:03:00.783Z"
   },
   {
    "duration": 64,
    "start_time": "2021-06-18T16:03:00.825Z"
   },
   {
    "duration": 16,
    "start_time": "2021-06-18T16:03:00.891Z"
   },
   {
    "duration": 15,
    "start_time": "2021-06-18T16:03:00.910Z"
   },
   {
    "duration": 27,
    "start_time": "2021-06-18T16:03:00.927Z"
   },
   {
    "duration": 39,
    "start_time": "2021-06-18T16:03:00.957Z"
   },
   {
    "duration": 19,
    "start_time": "2021-06-18T16:03:00.999Z"
   },
   {
    "duration": 38,
    "start_time": "2021-06-18T16:03:01.022Z"
   },
   {
    "duration": 18,
    "start_time": "2021-06-18T16:03:01.063Z"
   },
   {
    "duration": 36,
    "start_time": "2021-06-18T16:03:01.084Z"
   },
   {
    "duration": 42,
    "start_time": "2021-06-18T16:03:01.123Z"
   },
   {
    "duration": 34,
    "start_time": "2021-06-18T16:03:01.168Z"
   },
   {
    "duration": 28,
    "start_time": "2021-06-18T16:03:01.205Z"
   },
   {
    "duration": 14,
    "start_time": "2021-06-18T16:03:01.236Z"
   },
   {
    "duration": 20,
    "start_time": "2021-06-18T16:03:01.252Z"
   },
   {
    "duration": 58,
    "start_time": "2021-06-18T16:03:01.274Z"
   },
   {
    "duration": 18,
    "start_time": "2021-06-18T16:03:01.334Z"
   },
   {
    "duration": 26,
    "start_time": "2021-06-18T16:03:01.354Z"
   },
   {
    "duration": 17,
    "start_time": "2021-06-18T16:03:01.382Z"
   },
   {
    "duration": 13,
    "start_time": "2021-06-18T16:03:01.401Z"
   },
   {
    "duration": 12,
    "start_time": "2021-06-18T16:03:01.417Z"
   },
   {
    "duration": 8,
    "start_time": "2021-06-18T16:03:01.455Z"
   },
   {
    "duration": 22,
    "start_time": "2021-06-18T16:03:01.466Z"
   },
   {
    "duration": 33,
    "start_time": "2021-06-18T16:03:01.490Z"
   },
   {
    "duration": 17,
    "start_time": "2021-06-18T16:04:34.881Z"
   },
   {
    "duration": 18,
    "start_time": "2021-06-18T16:04:49.278Z"
   },
   {
    "duration": 16,
    "start_time": "2021-06-18T16:04:59.113Z"
   },
   {
    "duration": 16,
    "start_time": "2021-06-18T16:05:19.750Z"
   },
   {
    "duration": 17,
    "start_time": "2021-06-18T16:05:20.247Z"
   },
   {
    "duration": 4,
    "start_time": "2021-06-18T16:06:44.470Z"
   },
   {
    "duration": 210,
    "start_time": "2021-06-18T16:06:44.477Z"
   },
   {
    "duration": 16,
    "start_time": "2021-06-18T16:06:44.689Z"
   },
   {
    "duration": 52,
    "start_time": "2021-06-18T16:06:44.708Z"
   },
   {
    "duration": 5,
    "start_time": "2021-06-18T16:06:44.763Z"
   },
   {
    "duration": 19,
    "start_time": "2021-06-18T16:06:44.770Z"
   },
   {
    "duration": 5,
    "start_time": "2021-06-18T16:06:44.792Z"
   },
   {
    "duration": 63,
    "start_time": "2021-06-18T16:06:44.800Z"
   },
   {
    "duration": 22,
    "start_time": "2021-06-18T16:06:44.868Z"
   },
   {
    "duration": 31,
    "start_time": "2021-06-18T16:06:44.893Z"
   },
   {
    "duration": 106,
    "start_time": "2021-06-18T16:06:44.926Z"
   },
   {
    "duration": 100,
    "start_time": "2021-06-18T16:06:45.035Z"
   },
   {
    "duration": 82,
    "start_time": "2021-06-18T16:06:45.138Z"
   },
   {
    "duration": 68,
    "start_time": "2021-06-18T16:06:45.223Z"
   },
   {
    "duration": 4,
    "start_time": "2021-06-18T16:06:45.294Z"
   },
   {
    "duration": 19,
    "start_time": "2021-06-18T16:06:45.300Z"
   },
   {
    "duration": 77,
    "start_time": "2021-06-18T16:06:45.322Z"
   },
   {
    "duration": 16,
    "start_time": "2021-06-18T16:06:45.402Z"
   },
   {
    "duration": 42,
    "start_time": "2021-06-18T16:06:45.420Z"
   },
   {
    "duration": 4,
    "start_time": "2021-06-18T16:06:45.465Z"
   },
   {
    "duration": 24,
    "start_time": "2021-06-18T16:06:45.472Z"
   },
   {
    "duration": 18,
    "start_time": "2021-06-18T16:06:45.498Z"
   },
   {
    "duration": 48,
    "start_time": "2021-06-18T16:06:45.518Z"
   },
   {
    "duration": 21,
    "start_time": "2021-06-18T16:06:45.569Z"
   },
   {
    "duration": 21,
    "start_time": "2021-06-18T16:06:45.592Z"
   },
   {
    "duration": 46,
    "start_time": "2021-06-18T16:06:45.616Z"
   },
   {
    "duration": 12,
    "start_time": "2021-06-18T16:06:45.667Z"
   },
   {
    "duration": 19,
    "start_time": "2021-06-18T16:06:45.682Z"
   },
   {
    "duration": 12,
    "start_time": "2021-06-18T16:06:45.704Z"
   },
   {
    "duration": 50,
    "start_time": "2021-06-18T16:06:45.718Z"
   },
   {
    "duration": 18,
    "start_time": "2021-06-18T16:06:45.770Z"
   },
   {
    "duration": 6,
    "start_time": "2021-06-18T16:06:45.790Z"
   },
   {
    "duration": 56,
    "start_time": "2021-06-18T16:06:45.798Z"
   },
   {
    "duration": 17,
    "start_time": "2021-06-18T16:06:45.856Z"
   },
   {
    "duration": 23,
    "start_time": "2021-06-18T16:06:45.876Z"
   },
   {
    "duration": 17,
    "start_time": "2021-06-18T16:06:45.901Z"
   },
   {
    "duration": 63,
    "start_time": "2021-06-18T16:06:45.920Z"
   },
   {
    "duration": 12,
    "start_time": "2021-06-18T16:06:45.987Z"
   },
   {
    "duration": 26,
    "start_time": "2021-06-18T16:06:46.002Z"
   },
   {
    "duration": 29,
    "start_time": "2021-06-18T16:06:46.031Z"
   },
   {
    "duration": 61,
    "start_time": "2021-06-18T16:06:46.062Z"
   },
   {
    "duration": 3,
    "start_time": "2021-06-18T16:08:13.960Z"
   },
   {
    "duration": 227,
    "start_time": "2021-06-18T16:08:13.966Z"
   },
   {
    "duration": 15,
    "start_time": "2021-06-18T16:08:14.196Z"
   },
   {
    "duration": 50,
    "start_time": "2021-06-18T16:08:14.214Z"
   },
   {
    "duration": 5,
    "start_time": "2021-06-18T16:08:14.267Z"
   },
   {
    "duration": 26,
    "start_time": "2021-06-18T16:08:14.275Z"
   },
   {
    "duration": 5,
    "start_time": "2021-06-18T16:08:14.303Z"
   },
   {
    "duration": 63,
    "start_time": "2021-06-18T16:08:14.311Z"
   },
   {
    "duration": 32,
    "start_time": "2021-06-18T16:08:14.377Z"
   },
   {
    "duration": 30,
    "start_time": "2021-06-18T16:08:14.411Z"
   },
   {
    "duration": 84,
    "start_time": "2021-06-18T16:08:14.455Z"
   },
   {
    "duration": 99,
    "start_time": "2021-06-18T16:08:14.555Z"
   },
   {
    "duration": 100,
    "start_time": "2021-06-18T16:08:14.657Z"
   },
   {
    "duration": 57,
    "start_time": "2021-06-18T16:08:14.759Z"
   },
   {
    "duration": 5,
    "start_time": "2021-06-18T16:08:14.818Z"
   },
   {
    "duration": 38,
    "start_time": "2021-06-18T16:08:14.825Z"
   },
   {
    "duration": 63,
    "start_time": "2021-06-18T16:08:14.866Z"
   },
   {
    "duration": 30,
    "start_time": "2021-06-18T16:08:14.932Z"
   },
   {
    "duration": 15,
    "start_time": "2021-06-18T16:08:14.964Z"
   },
   {
    "duration": 20,
    "start_time": "2021-06-18T16:08:14.982Z"
   },
   {
    "duration": 37,
    "start_time": "2021-06-18T16:08:15.004Z"
   },
   {
    "duration": 32,
    "start_time": "2021-06-18T16:08:15.043Z"
   },
   {
    "duration": 27,
    "start_time": "2021-06-18T16:08:15.081Z"
   },
   {
    "duration": 34,
    "start_time": "2021-06-18T16:08:15.112Z"
   },
   {
    "duration": 38,
    "start_time": "2021-06-18T16:08:15.148Z"
   },
   {
    "duration": 32,
    "start_time": "2021-06-18T16:08:15.191Z"
   },
   {
    "duration": 25,
    "start_time": "2021-06-18T16:08:15.226Z"
   },
   {
    "duration": 36,
    "start_time": "2021-06-18T16:08:15.255Z"
   },
   {
    "duration": 29,
    "start_time": "2021-06-18T16:08:15.294Z"
   },
   {
    "duration": 20,
    "start_time": "2021-06-18T16:08:15.326Z"
   },
   {
    "duration": 27,
    "start_time": "2021-06-18T16:08:15.348Z"
   },
   {
    "duration": 12,
    "start_time": "2021-06-18T16:08:15.377Z"
   },
   {
    "duration": 40,
    "start_time": "2021-06-18T16:08:15.392Z"
   },
   {
    "duration": 19,
    "start_time": "2021-06-18T16:08:15.435Z"
   },
   {
    "duration": 29,
    "start_time": "2021-06-18T16:08:15.457Z"
   },
   {
    "duration": 22,
    "start_time": "2021-06-18T16:08:15.488Z"
   },
   {
    "duration": 17,
    "start_time": "2021-06-18T16:08:15.513Z"
   },
   {
    "duration": 22,
    "start_time": "2021-06-18T16:08:15.532Z"
   },
   {
    "duration": 7,
    "start_time": "2021-06-18T16:08:15.557Z"
   },
   {
    "duration": 21,
    "start_time": "2021-06-18T16:08:15.566Z"
   },
   {
    "duration": 24,
    "start_time": "2021-06-18T16:08:15.589Z"
   },
   {
    "duration": 94,
    "start_time": "2021-06-18T16:13:24.330Z"
   },
   {
    "duration": 98,
    "start_time": "2021-06-18T16:13:41.553Z"
   },
   {
    "duration": 4,
    "start_time": "2021-06-18T16:33:54.181Z"
   },
   {
    "duration": 199,
    "start_time": "2021-06-18T16:33:54.187Z"
   },
   {
    "duration": 16,
    "start_time": "2021-06-18T16:33:54.389Z"
   },
   {
    "duration": 54,
    "start_time": "2021-06-18T16:33:54.408Z"
   },
   {
    "duration": 10,
    "start_time": "2021-06-18T16:33:54.464Z"
   },
   {
    "duration": 21,
    "start_time": "2021-06-18T16:33:54.477Z"
   },
   {
    "duration": 6,
    "start_time": "2021-06-18T16:33:54.500Z"
   },
   {
    "duration": 66,
    "start_time": "2021-06-18T16:33:54.510Z"
   },
   {
    "duration": 23,
    "start_time": "2021-06-18T16:33:54.579Z"
   },
   {
    "duration": 29,
    "start_time": "2021-06-18T16:33:54.604Z"
   },
   {
    "duration": 101,
    "start_time": "2021-06-18T16:33:54.655Z"
   },
   {
    "duration": 120,
    "start_time": "2021-06-18T16:33:54.759Z"
   },
   {
    "duration": 90,
    "start_time": "2021-06-18T16:33:54.881Z"
   },
   {
    "duration": 59,
    "start_time": "2021-06-18T16:33:54.973Z"
   },
   {
    "duration": 19,
    "start_time": "2021-06-18T16:33:55.035Z"
   },
   {
    "duration": 21,
    "start_time": "2021-06-18T16:33:55.057Z"
   },
   {
    "duration": 69,
    "start_time": "2021-06-18T16:33:55.081Z"
   },
   {
    "duration": 17,
    "start_time": "2021-06-18T16:33:55.152Z"
   },
   {
    "duration": 15,
    "start_time": "2021-06-18T16:33:55.172Z"
   },
   {
    "duration": 5,
    "start_time": "2021-06-18T16:33:55.189Z"
   },
   {
    "duration": 58,
    "start_time": "2021-06-18T16:33:55.196Z"
   },
   {
    "duration": 19,
    "start_time": "2021-06-18T16:33:55.257Z"
   },
   {
    "duration": 20,
    "start_time": "2021-06-18T16:33:55.283Z"
   },
   {
    "duration": 53,
    "start_time": "2021-06-18T16:33:55.306Z"
   },
   {
    "duration": 24,
    "start_time": "2021-06-18T16:33:55.362Z"
   },
   {
    "duration": 20,
    "start_time": "2021-06-18T16:33:55.389Z"
   },
   {
    "duration": 52,
    "start_time": "2021-06-18T16:33:55.412Z"
   },
   {
    "duration": 17,
    "start_time": "2021-06-18T16:33:55.467Z"
   },
   {
    "duration": 14,
    "start_time": "2021-06-18T16:33:55.487Z"
   },
   {
    "duration": 53,
    "start_time": "2021-06-18T16:33:55.504Z"
   },
   {
    "duration": 18,
    "start_time": "2021-06-18T16:33:55.560Z"
   },
   {
    "duration": 6,
    "start_time": "2021-06-18T16:33:55.581Z"
   },
   {
    "duration": 26,
    "start_time": "2021-06-18T16:33:55.590Z"
   },
   {
    "duration": 19,
    "start_time": "2021-06-18T16:33:55.656Z"
   },
   {
    "duration": 27,
    "start_time": "2021-06-18T16:33:55.678Z"
   },
   {
    "duration": 54,
    "start_time": "2021-06-18T16:33:55.708Z"
   },
   {
    "duration": 10,
    "start_time": "2021-06-18T16:33:55.764Z"
   },
   {
    "duration": 7,
    "start_time": "2021-06-18T16:33:55.776Z"
   },
   {
    "duration": 9,
    "start_time": "2021-06-18T16:33:55.785Z"
   },
   {
    "duration": 9,
    "start_time": "2021-06-18T16:33:55.797Z"
   },
   {
    "duration": 55,
    "start_time": "2021-06-18T16:33:55.809Z"
   },
   {
    "duration": 92,
    "start_time": "2021-06-18T17:19:09.965Z"
   },
   {
    "duration": 117,
    "start_time": "2021-06-18T17:21:48.525Z"
   },
   {
    "duration": 96,
    "start_time": "2021-06-18T17:22:00.467Z"
   },
   {
    "duration": 4,
    "start_time": "2021-06-18T17:32:25.675Z"
   },
   {
    "duration": 199,
    "start_time": "2021-06-18T17:32:25.681Z"
   },
   {
    "duration": 15,
    "start_time": "2021-06-18T17:32:25.883Z"
   },
   {
    "duration": 53,
    "start_time": "2021-06-18T17:32:25.901Z"
   },
   {
    "duration": 5,
    "start_time": "2021-06-18T17:32:25.957Z"
   },
   {
    "duration": 28,
    "start_time": "2021-06-18T17:32:25.965Z"
   },
   {
    "duration": 5,
    "start_time": "2021-06-18T17:32:25.995Z"
   },
   {
    "duration": 58,
    "start_time": "2021-06-18T17:32:26.003Z"
   },
   {
    "duration": 23,
    "start_time": "2021-06-18T17:32:26.064Z"
   },
   {
    "duration": 34,
    "start_time": "2021-06-18T17:32:26.090Z"
   },
   {
    "duration": 102,
    "start_time": "2021-06-18T17:32:26.126Z"
   },
   {
    "duration": 101,
    "start_time": "2021-06-18T17:32:26.231Z"
   },
   {
    "duration": 82,
    "start_time": "2021-06-18T17:32:26.335Z"
   },
   {
    "duration": 69,
    "start_time": "2021-06-18T17:32:26.419Z"
   },
   {
    "duration": 4,
    "start_time": "2021-06-18T17:32:26.491Z"
   },
   {
    "duration": 20,
    "start_time": "2021-06-18T17:32:26.497Z"
   },
   {
    "duration": 80,
    "start_time": "2021-06-18T17:32:26.519Z"
   },
   {
    "duration": 17,
    "start_time": "2021-06-18T17:32:26.602Z"
   },
   {
    "duration": 41,
    "start_time": "2021-06-18T17:32:26.622Z"
   },
   {
    "duration": 5,
    "start_time": "2021-06-18T17:32:26.666Z"
   },
   {
    "duration": 27,
    "start_time": "2021-06-18T17:32:26.674Z"
   },
   {
    "duration": 52,
    "start_time": "2021-06-18T17:32:26.704Z"
   },
   {
    "duration": 20,
    "start_time": "2021-06-18T17:32:26.764Z"
   },
   {
    "duration": 20,
    "start_time": "2021-06-18T17:32:26.788Z"
   },
   {
    "duration": 56,
    "start_time": "2021-06-18T17:32:26.811Z"
   },
   {
    "duration": 18,
    "start_time": "2021-06-18T17:32:26.870Z"
   },
   {
    "duration": 11,
    "start_time": "2021-06-18T17:32:26.891Z"
   },
   {
    "duration": 51,
    "start_time": "2021-06-18T17:32:26.905Z"
   },
   {
    "duration": 11,
    "start_time": "2021-06-18T17:32:26.958Z"
   },
   {
    "duration": 20,
    "start_time": "2021-06-18T17:32:26.971Z"
   },
   {
    "duration": 31,
    "start_time": "2021-06-18T17:32:26.993Z"
   },
   {
    "duration": 15,
    "start_time": "2021-06-18T17:32:27.027Z"
   },
   {
    "duration": 31,
    "start_time": "2021-06-18T17:32:27.055Z"
   },
   {
    "duration": 25,
    "start_time": "2021-06-18T17:32:27.089Z"
   },
   {
    "duration": 28,
    "start_time": "2021-06-18T17:32:27.117Z"
   },
   {
    "duration": 16,
    "start_time": "2021-06-18T17:32:27.155Z"
   },
   {
    "duration": 12,
    "start_time": "2021-06-18T17:32:27.174Z"
   },
   {
    "duration": 26,
    "start_time": "2021-06-18T17:32:27.188Z"
   },
   {
    "duration": 22,
    "start_time": "2021-06-18T17:32:27.217Z"
   },
   {
    "duration": 24,
    "start_time": "2021-06-18T17:32:27.241Z"
   },
   {
    "duration": 21,
    "start_time": "2021-06-18T17:32:27.267Z"
   },
   {
    "duration": 1618,
    "start_time": "2021-10-05T01:25:38.679Z"
   },
   {
    "duration": 1036,
    "start_time": "2021-11-29T22:31:06.493Z"
   },
   {
    "duration": 3089,
    "start_time": "2021-11-29T22:31:10.605Z"
   }
  ],
  "colab": {
   "collapsed_sections": [
    "E0vqbgi9ay0H",
    "VUC88oWjTJw2"
   ],
   "name": "yandex_music_project_2021.2.ipynb",
   "provenance": []
  },
  "kernelspec": {
   "display_name": "Python 3.10.0 64-bit",
   "language": "python",
   "name": "python3"
  },
  "language_info": {
   "codemirror_mode": {
    "name": "ipython",
    "version": 3
   },
   "file_extension": ".py",
   "mimetype": "text/x-python",
   "name": "python",
   "nbconvert_exporter": "python",
   "pygments_lexer": "ipython3",
   "version": "3.10.0 (tags/v3.10.0:b494f59, Oct  4 2021, 19:00:18) [MSC v.1929 64 bit (AMD64)]"
  },
  "toc": {
   "base_numbering": 1,
   "nav_menu": {},
   "number_sections": true,
   "sideBar": true,
   "skip_h1_title": true,
   "title_cell": "Table of Contents",
   "title_sidebar": "Contents",
   "toc_cell": false,
   "toc_position": {
    "height": "calc(100% - 180px)",
    "left": "10px",
    "top": "150px",
    "width": "357.867px"
   },
   "toc_section_display": true,
   "toc_window_display": true
  },
  "vscode": {
   "interpreter": {
    "hash": "d488093d919f573c925b0a84f2a24fea75905f9dd1b6664dfb65159487c96672"
   }
  }
 },
 "nbformat": 4,
 "nbformat_minor": 1
}

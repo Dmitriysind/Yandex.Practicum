{
 "cells": [
  {
   "attachments": {},
   "cell_type": "markdown",
   "id": "a692e20b",
   "metadata": {},
   "source": [
    "<h1><center>Предсказание стоимости жилья</center></h1>"
   ]
  },
  {
   "attachments": {},
   "cell_type": "markdown",
   "id": "3c664326",
   "metadata": {
    "id": "GEqQaHzsZ_bA"
   },
   "source": [
    "# Введение\n",
    "\n",
    "Задача обучить модель линейной регрессии на данных о жилье в Калифорнии в 1990 году. На основе данных нужно предсказать медианную стоимость дома в жилом массиве. Обучим модель и сделаем предсказания на тестовой выборке. Для оценки качества модели используем метрики RMSE, MAE и R2."
   ]
  },
  {
   "cell_type": "markdown",
   "id": "9687d82e",
   "metadata": {},
   "source": []
  },
  {
   "cell_type": "markdown",
   "id": "34466e33",
   "metadata": {
    "id": "53871372"
   },
   "source": [
    "# Подготовка данных"
   ]
  },
  {
   "cell_type": "code",
   "execution_count": 2,
   "id": "8ad07259",
   "metadata": {
    "id": "df92e3ec"
   },
   "outputs": [],
   "source": [
    "import pandas as pd \n",
    "import numpy as np\n",
    "\n",
    "import pyspark\n",
    "from pyspark.sql import SparkSession\n",
    "from pyspark.sql.types import *\n",
    "import pyspark.sql.functions as F\n",
    "from pyspark.ml.feature import Imputer\n",
    "\n",
    "from pyspark.ml.feature import VectorAssembler, StandardScaler\n",
    "from pyspark.ml.regression import LinearRegression\n",
    "from pyspark.ml.evaluation import BinaryClassificationEvaluator, MulticlassClassificationEvaluator\n",
    "\n",
    "from pyspark.ml.feature import OneHotEncoder \n",
    "from pyspark.ml.feature import StringIndexer\n",
    "\n",
    "RANDOM_SEED = 22"
   ]
  },
  {
   "cell_type": "markdown",
   "id": "d64c6607",
   "metadata": {},
   "source": [
    "Инициализируем сессию spark и загрузим датасет"
   ]
  },
  {
   "cell_type": "code",
   "execution_count": null,
   "id": "36bc8b08",
   "metadata": {},
   "outputs": [],
   "source": [
    "spark = SparkSession.builder \\\n",
    "                    .master(\"local\") \\\n",
    "                    .appName(\"California Housing\") \\\n",
    "                    .getOrCreate()\n",
    "\n",
    "df = spark.read.option('header', 'true').csv('datasets/housing.csv', inferSchema = True) "
   ]
  },
  {
   "cell_type": "markdown",
   "id": "874c343d",
   "metadata": {},
   "source": [
    "Посмотрим типы колонок"
   ]
  },
  {
   "cell_type": "code",
   "execution_count": null,
   "id": "e5e500a2",
   "metadata": {},
   "outputs": [
    {
     "name": "stdout",
     "output_type": "stream",
     "text": [
      "root\n",
      " |-- longitude: double (nullable = true)\n",
      " |-- latitude: double (nullable = true)\n",
      " |-- housing_median_age: double (nullable = true)\n",
      " |-- total_rooms: double (nullable = true)\n",
      " |-- total_bedrooms: double (nullable = true)\n",
      " |-- population: double (nullable = true)\n",
      " |-- households: double (nullable = true)\n",
      " |-- median_income: double (nullable = true)\n",
      " |-- median_house_value: double (nullable = true)\n",
      " |-- ocean_proximity: string (nullable = true)\n",
      "\n"
     ]
    }
   ],
   "source": [
    "df.printSchema() "
   ]
  },
  {
   "cell_type": "markdown",
   "id": "a952c6ba",
   "metadata": {},
   "source": [
    "Посмотрим общую информацию о параметрах"
   ]
  },
  {
   "cell_type": "code",
   "execution_count": null,
   "id": "2da22abe",
   "metadata": {},
   "outputs": [
    {
     "data": {
      "text/html": [
       "<div>\n",
       "<style scoped>\n",
       "    .dataframe tbody tr th:only-of-type {\n",
       "        vertical-align: middle;\n",
       "    }\n",
       "\n",
       "    .dataframe tbody tr th {\n",
       "        vertical-align: top;\n",
       "    }\n",
       "\n",
       "    .dataframe thead th {\n",
       "        text-align: right;\n",
       "    }\n",
       "</style>\n",
       "<table border=\"1\" class=\"dataframe\">\n",
       "  <thead>\n",
       "    <tr style=\"text-align: right;\">\n",
       "      <th></th>\n",
       "      <th>summary</th>\n",
       "      <th>longitude</th>\n",
       "      <th>latitude</th>\n",
       "      <th>housing_median_age</th>\n",
       "      <th>total_rooms</th>\n",
       "      <th>total_bedrooms</th>\n",
       "      <th>population</th>\n",
       "      <th>households</th>\n",
       "      <th>median_income</th>\n",
       "      <th>median_house_value</th>\n",
       "      <th>ocean_proximity</th>\n",
       "    </tr>\n",
       "  </thead>\n",
       "  <tbody>\n",
       "    <tr>\n",
       "      <td>0</td>\n",
       "      <td>count</td>\n",
       "      <td>20640</td>\n",
       "      <td>20640</td>\n",
       "      <td>20640</td>\n",
       "      <td>20640</td>\n",
       "      <td>20433</td>\n",
       "      <td>20640</td>\n",
       "      <td>20640</td>\n",
       "      <td>20640</td>\n",
       "      <td>20640</td>\n",
       "      <td>20640</td>\n",
       "    </tr>\n",
       "    <tr>\n",
       "      <td>1</td>\n",
       "      <td>mean</td>\n",
       "      <td>-119.56970445736148</td>\n",
       "      <td>35.6318614341087</td>\n",
       "      <td>28.639486434108527</td>\n",
       "      <td>2635.7630813953488</td>\n",
       "      <td>537.8705525375618</td>\n",
       "      <td>1425.4767441860465</td>\n",
       "      <td>499.5396802325581</td>\n",
       "      <td>3.8706710029070246</td>\n",
       "      <td>206855.81690891474</td>\n",
       "      <td>None</td>\n",
       "    </tr>\n",
       "    <tr>\n",
       "      <td>2</td>\n",
       "      <td>stddev</td>\n",
       "      <td>2.003531723502584</td>\n",
       "      <td>2.135952397457101</td>\n",
       "      <td>12.58555761211163</td>\n",
       "      <td>2181.6152515827944</td>\n",
       "      <td>421.38507007403115</td>\n",
       "      <td>1132.46212176534</td>\n",
       "      <td>382.3297528316098</td>\n",
       "      <td>1.899821717945263</td>\n",
       "      <td>115395.61587441359</td>\n",
       "      <td>None</td>\n",
       "    </tr>\n",
       "    <tr>\n",
       "      <td>3</td>\n",
       "      <td>min</td>\n",
       "      <td>-124.35</td>\n",
       "      <td>32.54</td>\n",
       "      <td>1.0</td>\n",
       "      <td>2.0</td>\n",
       "      <td>1.0</td>\n",
       "      <td>3.0</td>\n",
       "      <td>1.0</td>\n",
       "      <td>0.4999</td>\n",
       "      <td>14999.0</td>\n",
       "      <td>&lt;1H OCEAN</td>\n",
       "    </tr>\n",
       "    <tr>\n",
       "      <td>4</td>\n",
       "      <td>max</td>\n",
       "      <td>-114.31</td>\n",
       "      <td>41.95</td>\n",
       "      <td>52.0</td>\n",
       "      <td>39320.0</td>\n",
       "      <td>6445.0</td>\n",
       "      <td>35682.0</td>\n",
       "      <td>6082.0</td>\n",
       "      <td>15.0001</td>\n",
       "      <td>500001.0</td>\n",
       "      <td>NEAR OCEAN</td>\n",
       "    </tr>\n",
       "  </tbody>\n",
       "</table>\n",
       "</div>"
      ],
      "text/plain": [
       "  summary            longitude           latitude  housing_median_age  \\\n",
       "0   count                20640              20640               20640   \n",
       "1    mean  -119.56970445736148   35.6318614341087  28.639486434108527   \n",
       "2  stddev    2.003531723502584  2.135952397457101   12.58555761211163   \n",
       "3     min              -124.35              32.54                 1.0   \n",
       "4     max              -114.31              41.95                52.0   \n",
       "\n",
       "          total_rooms      total_bedrooms          population  \\\n",
       "0               20640               20433               20640   \n",
       "1  2635.7630813953488   537.8705525375618  1425.4767441860465   \n",
       "2  2181.6152515827944  421.38507007403115    1132.46212176534   \n",
       "3                 2.0                 1.0                 3.0   \n",
       "4             39320.0              6445.0             35682.0   \n",
       "\n",
       "          households       median_income  median_house_value ocean_proximity  \n",
       "0              20640               20640               20640           20640  \n",
       "1  499.5396802325581  3.8706710029070246  206855.81690891474            None  \n",
       "2  382.3297528316098   1.899821717945263  115395.61587441359            None  \n",
       "3                1.0              0.4999             14999.0       <1H OCEAN  \n",
       "4             6082.0             15.0001            500001.0      NEAR OCEAN  "
      ]
     },
     "execution_count": 47,
     "metadata": {},
     "output_type": "execute_result"
    }
   ],
   "source": [
    "df.describe().toPandas()"
   ]
  },
  {
   "cell_type": "markdown",
   "id": "5ec810de",
   "metadata": {},
   "source": [
    "Удалим дупликаты"
   ]
  },
  {
   "cell_type": "code",
   "execution_count": null,
   "id": "98bfe9f8",
   "metadata": {},
   "outputs": [],
   "source": [
    "df = df.dropDuplicates()"
   ]
  },
  {
   "cell_type": "markdown",
   "id": "844aaa0f",
   "metadata": {},
   "source": [
    "Удалим записи, если в них встречаются пропуски в колонках долготы и ширины, т.к их не заменить соответствующими значениями"
   ]
  },
  {
   "cell_type": "code",
   "execution_count": null,
   "id": "1a206e8e",
   "metadata": {},
   "outputs": [],
   "source": [
    "unfix_subset = ['longitude', 'latitude']\n",
    "df = df.na.drop(subset=unfix_subset)"
   ]
  },
  {
   "cell_type": "markdown",
   "id": "7f682268",
   "metadata": {},
   "source": [
    "В остальных колонках заменим на медианные значения"
   ]
  },
  {
   "cell_type": "code",
   "execution_count": null,
   "id": "d36a5128",
   "metadata": {},
   "outputs": [],
   "source": [
    "fix_subset = ['housing_median_age', 'total_rooms', 'total_bedrooms',\n",
    "                 'population', 'households', 'median_income']\n",
    "\n",
    "imputer = Imputer(\n",
    "    inputCols=fix_subset, \n",
    "    outputCols=fix_subset\n",
    "    ).setStrategy(\"median\")\n",
    "\n",
    "df = imputer.fit(df).transform(df)"
   ]
  },
  {
   "cell_type": "markdown",
   "id": "4d188f96",
   "metadata": {},
   "source": [
    "Выделим категориальные, количественные признаки и таргет"
   ]
  },
  {
   "cell_type": "code",
   "execution_count": null,
   "id": "52bce883",
   "metadata": {},
   "outputs": [],
   "source": [
    "categorical_cols = ['ocean_proximity']\n",
    "numerical_cols   = ['longitude', 'latitude', 'housing_median_age', 'total_rooms', 'total_bedrooms',\n",
    "                   'population', 'households', 'median_income']\n",
    "target = 'median_house_value'"
   ]
  },
  {
   "cell_type": "markdown",
   "id": "2f6f681e",
   "metadata": {},
   "source": [
    "кодируем категориальный параметр StringIndexer'ом"
   ]
  },
  {
   "cell_type": "code",
   "execution_count": null,
   "id": "7c09f37a",
   "metadata": {},
   "outputs": [],
   "source": [
    "indexer = StringIndexer(inputCol=\"ocean_proximity\", outputCol=\"ocean_proximity_idx\")\n",
    "df = indexer.fit(df).transform(df)"
   ]
  },
  {
   "cell_type": "markdown",
   "id": "b1af9e72",
   "metadata": {},
   "source": [
    "кодируем полученный параметр OneHotEncoder'ом"
   ]
  },
  {
   "cell_type": "code",
   "execution_count": null,
   "id": "0ff94cf1",
   "metadata": {},
   "outputs": [],
   "source": [
    "ohe = OneHotEncoder(inputCol=\"ocean_proximity_idx\", outputCol=\"ocean_proximity_ohe\")\n",
    "df = ohe.transform(df)"
   ]
  },
  {
   "cell_type": "code",
   "execution_count": null,
   "id": "9cd0294a",
   "metadata": {},
   "outputs": [
    {
     "data": {
      "text/html": [
       "<div>\n",
       "<style scoped>\n",
       "    .dataframe tbody tr th:only-of-type {\n",
       "        vertical-align: middle;\n",
       "    }\n",
       "\n",
       "    .dataframe tbody tr th {\n",
       "        vertical-align: top;\n",
       "    }\n",
       "\n",
       "    .dataframe thead th {\n",
       "        text-align: right;\n",
       "    }\n",
       "</style>\n",
       "<table border=\"1\" class=\"dataframe\">\n",
       "  <thead>\n",
       "    <tr style=\"text-align: right;\">\n",
       "      <th></th>\n",
       "      <th>ocean_proximity_ohe</th>\n",
       "    </tr>\n",
       "  </thead>\n",
       "  <tbody>\n",
       "    <tr>\n",
       "      <td>0</td>\n",
       "      <td>(0.0, 0.0, 0.0, 1.0)</td>\n",
       "    </tr>\n",
       "    <tr>\n",
       "      <td>1</td>\n",
       "      <td>(0.0, 0.0, 0.0, 1.0)</td>\n",
       "    </tr>\n",
       "    <tr>\n",
       "      <td>2</td>\n",
       "      <td>(0.0, 0.0, 0.0, 1.0)</td>\n",
       "    </tr>\n",
       "    <tr>\n",
       "      <td>3</td>\n",
       "      <td>(0.0, 0.0, 0.0, 1.0)</td>\n",
       "    </tr>\n",
       "    <tr>\n",
       "      <td>4</td>\n",
       "      <td>(0.0, 1.0, 0.0, 0.0)</td>\n",
       "    </tr>\n",
       "    <tr>\n",
       "      <td>...</td>\n",
       "      <td>...</td>\n",
       "    </tr>\n",
       "    <tr>\n",
       "      <td>20635</td>\n",
       "      <td>(0.0, 1.0, 0.0, 0.0)</td>\n",
       "    </tr>\n",
       "    <tr>\n",
       "      <td>20636</td>\n",
       "      <td>(0.0, 1.0, 0.0, 0.0)</td>\n",
       "    </tr>\n",
       "    <tr>\n",
       "      <td>20637</td>\n",
       "      <td>(0.0, 1.0, 0.0, 0.0)</td>\n",
       "    </tr>\n",
       "    <tr>\n",
       "      <td>20638</td>\n",
       "      <td>(0.0, 0.0, 1.0, 0.0)</td>\n",
       "    </tr>\n",
       "    <tr>\n",
       "      <td>20639</td>\n",
       "      <td>(0.0, 0.0, 1.0, 0.0)</td>\n",
       "    </tr>\n",
       "  </tbody>\n",
       "</table>\n",
       "<p>20640 rows × 1 columns</p>\n",
       "</div>"
      ],
      "text/plain": [
       "        ocean_proximity_ohe\n",
       "0      (0.0, 0.0, 0.0, 1.0)\n",
       "1      (0.0, 0.0, 0.0, 1.0)\n",
       "2      (0.0, 0.0, 0.0, 1.0)\n",
       "3      (0.0, 0.0, 0.0, 1.0)\n",
       "4      (0.0, 1.0, 0.0, 0.0)\n",
       "...                     ...\n",
       "20635  (0.0, 1.0, 0.0, 0.0)\n",
       "20636  (0.0, 1.0, 0.0, 0.0)\n",
       "20637  (0.0, 1.0, 0.0, 0.0)\n",
       "20638  (0.0, 0.0, 1.0, 0.0)\n",
       "20639  (0.0, 0.0, 1.0, 0.0)\n",
       "\n",
       "[20640 rows x 1 columns]"
      ]
     },
     "execution_count": 54,
     "metadata": {},
     "output_type": "execute_result"
    }
   ],
   "source": [
    "df.select('ocean_proximity_ohe').toPandas()"
   ]
  },
  {
   "cell_type": "markdown",
   "id": "78a7a1ee",
   "metadata": {},
   "source": [
    "соберем категориальные признаки с помощью VectorAssembler"
   ]
  },
  {
   "cell_type": "code",
   "execution_count": null,
   "id": "c45764b6",
   "metadata": {},
   "outputs": [],
   "source": [
    "categorical_assembler = VectorAssembler(inputCols=['ocean_proximity_ohe'],\n",
    "                                        outputCol='categorical_features')\n",
    "df = categorical_assembler.transform(df) "
   ]
  },
  {
   "cell_type": "markdown",
   "id": "28a921ba",
   "metadata": {},
   "source": [
    "соберем количественные признаки с помощью VectorAssembler"
   ]
  },
  {
   "cell_type": "code",
   "execution_count": null,
   "id": "50ede642",
   "metadata": {},
   "outputs": [],
   "source": [
    "numerical_assembler = VectorAssembler(inputCols=numerical_cols,\n",
    "                                      outputCol=\"numerical_features\")\n",
    "df = numerical_assembler.transform(df) "
   ]
  },
  {
   "cell_type": "markdown",
   "id": "c90bd214",
   "metadata": {},
   "source": [
    "cкалирум количественные признаки с помощью StandartScaler"
   ]
  },
  {
   "cell_type": "code",
   "execution_count": null,
   "id": "005b95bb",
   "metadata": {},
   "outputs": [],
   "source": [
    "standardScaler = StandardScaler(inputCol='numerical_features',\n",
    "                                outputCol=\"numerical_features_scaled\",\n",
    "                                withMean=False,\n",
    "                                withStd=True)\n",
    "df = standardScaler.fit(df).transform(df) "
   ]
  },
  {
   "cell_type": "markdown",
   "id": "f983adf0",
   "metadata": {},
   "source": [
    "Сделаем два набора признаков. Один с категориальными и числовыми признаками. Другой только с числовыми"
   ]
  },
  {
   "cell_type": "code",
   "execution_count": null,
   "id": "6d5ac9fa",
   "metadata": {},
   "outputs": [],
   "source": [
    "features_model_1 = ['categorical_features', 'numerical_features_scaled']\n",
    "features_model_2 = ['numerical_features_scaled']\n",
    "\n",
    "final_assembler_1 = VectorAssembler(inputCols=features_model_1, \n",
    "                                  outputCol=\"features_model_1\") \n",
    "final_assembler_2 = VectorAssembler(inputCols=features_model_2, \n",
    "                                  outputCol=\"features_model_2\") \n",
    "\n",
    "df = final_assembler_1.transform(df)\n",
    "df = final_assembler_2.transform(df)"
   ]
  },
  {
   "cell_type": "markdown",
   "id": "b030fa2e",
   "metadata": {},
   "source": [
    "Разделим данные на тренировочный и тестовый сет"
   ]
  },
  {
   "cell_type": "code",
   "execution_count": null,
   "id": "99c539db",
   "metadata": {},
   "outputs": [
    {
     "name": "stdout",
     "output_type": "stream",
     "text": [
      "15527 5113\n"
     ]
    }
   ],
   "source": [
    "train_data, test_data = df.randomSplit([0.75, 0.25], seed=RANDOM_SEED)\n",
    "print(train_data.count(), test_data.count()) "
   ]
  },
  {
   "cell_type": "markdown",
   "id": "631d0c89",
   "metadata": {
    "id": "9f0a82f3"
   },
   "source": [
    "# Обучение моделей"
   ]
  },
  {
   "cell_type": "markdown",
   "id": "482cacc8",
   "metadata": {},
   "source": [
    "Обучим модели линейной регрессии для каждого из наборов признаков"
   ]
  },
  {
   "cell_type": "code",
   "execution_count": null,
   "id": "6df0bf6c",
   "metadata": {
    "id": "bddb08c4"
   },
   "outputs": [],
   "source": [
    "lr_1 = LinearRegression(labelCol=target, featuresCol='features_model_1')\n",
    "lr_2 = LinearRegression(labelCol=target, featuresCol='features_model_2')\n",
    "\n",
    "model_lr_1 = lr_1.fit(train_data)\n",
    "model_lr_2 = lr_2.fit(train_data)"
   ]
  },
  {
   "cell_type": "markdown",
   "id": "3621dc40",
   "metadata": {},
   "source": [
    "Получим предсказания"
   ]
  },
  {
   "cell_type": "code",
   "execution_count": null,
   "id": "1b3b576f",
   "metadata": {},
   "outputs": [],
   "source": [
    "prediction_1 = model_lr_1.evaluate(test_data)\n",
    "prediction_2 = model_lr_2.evaluate(test_data)"
   ]
  },
  {
   "cell_type": "markdown",
   "id": "7a3fa807",
   "metadata": {},
   "source": [
    "Сравним метрики обеих моделей"
   ]
  },
  {
   "cell_type": "code",
   "execution_count": null,
   "id": "ceb47db9",
   "metadata": {},
   "outputs": [
    {
     "name": "stdout",
     "output_type": "stream",
     "text": [
      "RMSE model 1 and 2: 69096.2 69756.3\n"
     ]
    }
   ],
   "source": [
    "print(\"RMSE model 1 and 2: \" + str(round(prediction_1.rootMeanSquaredError, 1))\n",
    "                             + \" \"\n",
    "                             + str(round(prediction_2.rootMeanSquaredError, 1)))"
   ]
  },
  {
   "cell_type": "code",
   "execution_count": null,
   "id": "7a5ef4bd",
   "metadata": {},
   "outputs": [
    {
     "name": "stdout",
     "output_type": "stream",
     "text": [
      "R2 model 1 and 2: 0.645 0.638\n"
     ]
    }
   ],
   "source": [
    "print(\"R2 model 1 and 2: \" + str(round(prediction_1.r2, 3))\n",
    "                           + \" \"\n",
    "                           + str(round(prediction_2.r2, 3)))"
   ]
  },
  {
   "cell_type": "code",
   "execution_count": null,
   "id": "876c1b82",
   "metadata": {},
   "outputs": [
    {
     "name": "stdout",
     "output_type": "stream",
     "text": [
      "MAE model 1 and 2: 50288.0 51094.7\n"
     ]
    }
   ],
   "source": [
    "print(\"MAE model 1 and 2: \" + str(round(prediction_1.meanAbsoluteError, 1))\n",
    "                            + \" \"\n",
    "                            + str(round(prediction_2.meanAbsoluteError, 1)))"
   ]
  },
  {
   "cell_type": "markdown",
   "id": "28df9c64",
   "metadata": {
    "id": "757fd103"
   },
   "source": [
    "# Анализ результатов"
   ]
  },
  {
   "cell_type": "markdown",
   "id": "7a0694f6",
   "metadata": {},
   "source": [
    "По всем полученным метрикам модель с категориальными признаками показала себя чуть лучше, чем модель без них"
   ]
  }
 ],
 "metadata": {
  "ExecuteTimeLog": [
   {
    "duration": 12486,
    "start_time": "2022-02-23T13:19:22.206Z"
   },
   {
    "duration": 2515,
    "start_time": "2022-02-23T13:21:29.833Z"
   },
   {
    "duration": 7025,
    "start_time": "2022-02-23T13:21:57.657Z"
   },
   {
    "duration": 4301,
    "start_time": "2022-02-23T13:22:54.183Z"
   },
   {
    "duration": 1648,
    "start_time": "2022-02-23T13:25:30.778Z"
   },
   {
    "duration": 1487,
    "start_time": "2022-02-23T13:25:35.914Z"
   },
   {
    "duration": 208,
    "start_time": "2022-02-23T13:28:57.928Z"
   },
   {
    "duration": 3,
    "start_time": "2022-02-23T13:29:00.022Z"
   },
   {
    "duration": 221,
    "start_time": "2022-02-23T13:29:01.610Z"
   },
   {
    "duration": 1824,
    "start_time": "2022-02-23T13:29:37.965Z"
   },
   {
    "duration": 723,
    "start_time": "2022-02-23T13:30:13.354Z"
   },
   {
    "duration": 1390,
    "start_time": "2022-02-23T13:30:14.080Z"
   },
   {
    "duration": 1221,
    "start_time": "2022-02-23T13:30:15.473Z"
   },
   {
    "duration": 3,
    "start_time": "2022-02-23T13:30:16.696Z"
   },
   {
    "duration": 219,
    "start_time": "2022-02-23T13:30:16.700Z"
   },
   {
    "duration": 208,
    "start_time": "2022-02-23T13:31:47.710Z"
   },
   {
    "duration": 208,
    "start_time": "2022-02-23T13:32:33.630Z"
   },
   {
    "duration": 311,
    "start_time": "2022-02-23T13:33:12.494Z"
   },
   {
    "duration": 237,
    "start_time": "2022-02-23T13:34:10.989Z"
   },
   {
    "duration": 214,
    "start_time": "2022-02-23T13:34:21.735Z"
   },
   {
    "duration": 235,
    "start_time": "2022-02-23T13:36:15.553Z"
   },
   {
    "duration": 1171,
    "start_time": "2022-02-23T13:37:47.731Z"
   },
   {
    "duration": 869,
    "start_time": "2022-02-23T13:38:05.832Z"
   },
   {
    "duration": 680,
    "start_time": "2022-02-23T13:38:13.430Z"
   },
   {
    "duration": 1025,
    "start_time": "2022-02-23T13:38:27.448Z"
   },
   {
    "duration": 221,
    "start_time": "2022-02-23T13:39:25.578Z"
   },
   {
    "duration": 763,
    "start_time": "2022-02-23T13:40:10.238Z"
   },
   {
    "duration": 1065,
    "start_time": "2022-02-23T13:40:16.414Z"
   },
   {
    "duration": 437,
    "start_time": "2022-02-23T13:40:35.386Z"
   },
   {
    "duration": 313,
    "start_time": "2022-02-23T13:40:40.069Z"
   },
   {
    "duration": 243,
    "start_time": "2022-02-23T13:40:43.140Z"
   },
   {
    "duration": 626,
    "start_time": "2022-02-23T13:41:03.674Z"
   },
   {
    "duration": 1005,
    "start_time": "2022-02-23T13:41:04.303Z"
   },
   {
    "duration": 1161,
    "start_time": "2022-02-23T13:41:05.311Z"
   },
   {
    "duration": 4,
    "start_time": "2022-02-23T13:41:06.475Z"
   },
   {
    "duration": 726,
    "start_time": "2022-02-23T13:41:06.481Z"
   },
   {
    "duration": 232,
    "start_time": "2022-02-23T13:41:23.233Z"
   },
   {
    "duration": 571,
    "start_time": "2022-02-23T13:41:29.806Z"
   },
   {
    "duration": 814,
    "start_time": "2022-02-23T13:41:30.379Z"
   },
   {
    "duration": 810,
    "start_time": "2022-02-23T13:41:31.195Z"
   },
   {
    "duration": 3,
    "start_time": "2022-02-23T13:41:32.007Z"
   },
   {
    "duration": 588,
    "start_time": "2022-02-23T13:41:32.012Z"
   },
   {
    "duration": 560,
    "start_time": "2022-02-23T13:42:18.170Z"
   },
   {
    "duration": 1061,
    "start_time": "2022-02-23T13:42:18.732Z"
   },
   {
    "duration": 864,
    "start_time": "2022-02-23T13:42:19.795Z"
   },
   {
    "duration": 3,
    "start_time": "2022-02-23T13:42:20.661Z"
   },
   {
    "duration": 1129,
    "start_time": "2022-02-23T13:42:20.666Z"
   },
   {
    "duration": 458,
    "start_time": "2022-02-23T13:43:07.164Z"
   },
   {
    "duration": 769,
    "start_time": "2022-02-23T13:43:07.624Z"
   },
   {
    "duration": 904,
    "start_time": "2022-02-23T13:43:08.395Z"
   },
   {
    "duration": 3,
    "start_time": "2022-02-23T13:43:09.302Z"
   },
   {
    "duration": 682,
    "start_time": "2022-02-23T13:43:09.307Z"
   },
   {
    "duration": 425,
    "start_time": "2022-02-23T13:43:29.464Z"
   },
   {
    "duration": 799,
    "start_time": "2022-02-23T13:43:29.891Z"
   },
   {
    "duration": 829,
    "start_time": "2022-02-23T13:43:30.692Z"
   },
   {
    "duration": 3,
    "start_time": "2022-02-23T13:43:31.523Z"
   },
   {
    "duration": 1397,
    "start_time": "2022-02-23T13:43:31.528Z"
   },
   {
    "duration": 464,
    "start_time": "2022-02-23T13:44:57.905Z"
   },
   {
    "duration": 691,
    "start_time": "2022-02-23T13:44:58.371Z"
   },
   {
    "duration": 732,
    "start_time": "2022-02-23T13:44:59.065Z"
   },
   {
    "duration": 2,
    "start_time": "2022-02-23T13:44:59.800Z"
   },
   {
    "duration": 376,
    "start_time": "2022-02-23T13:44:59.804Z"
   },
   {
    "duration": 228,
    "start_time": "2022-02-23T13:45:26.741Z"
   },
   {
    "duration": 482,
    "start_time": "2022-02-23T13:45:45.195Z"
   },
   {
    "duration": 731,
    "start_time": "2022-02-23T13:45:45.680Z"
   },
   {
    "duration": 668,
    "start_time": "2022-02-23T13:45:46.413Z"
   },
   {
    "duration": 4,
    "start_time": "2022-02-23T13:45:47.082Z"
   },
   {
    "duration": 3912,
    "start_time": "2022-02-23T13:45:47.087Z"
   },
   {
    "duration": 109,
    "start_time": "2022-02-23T14:03:54.900Z"
   },
   {
    "duration": 942,
    "start_time": "2022-02-23T14:04:08.448Z"
   },
   {
    "duration": 316,
    "start_time": "2022-02-23T14:04:28.156Z"
   },
   {
    "duration": 368,
    "start_time": "2022-02-23T14:06:17.645Z"
   },
   {
    "duration": 756,
    "start_time": "2022-02-23T14:06:18.016Z"
   },
   {
    "duration": 753,
    "start_time": "2022-02-23T14:06:18.774Z"
   },
   {
    "duration": 4,
    "start_time": "2022-02-23T14:06:19.570Z"
   },
   {
    "duration": 2850,
    "start_time": "2022-02-23T14:06:19.576Z"
   },
   {
    "duration": 66,
    "start_time": "2022-02-23T14:06:22.470Z"
   },
   {
    "duration": 1955,
    "start_time": "2022-02-23T14:06:20.584Z"
   },
   {
    "duration": 1954,
    "start_time": "2022-02-23T14:06:20.587Z"
   },
   {
    "duration": 1954,
    "start_time": "2022-02-23T14:06:20.588Z"
   },
   {
    "duration": 339,
    "start_time": "2022-02-23T14:06:43.340Z"
   },
   {
    "duration": 838,
    "start_time": "2022-02-23T14:06:43.681Z"
   },
   {
    "duration": 649,
    "start_time": "2022-02-23T14:06:44.522Z"
   },
   {
    "duration": 3,
    "start_time": "2022-02-23T14:06:45.173Z"
   },
   {
    "duration": 2012,
    "start_time": "2022-02-23T14:06:45.178Z"
   },
   {
    "duration": 229,
    "start_time": "2022-02-23T14:06:47.192Z"
   },
   {
    "duration": 1913,
    "start_time": "2022-02-23T14:06:45.510Z"
   },
   {
    "duration": 1913,
    "start_time": "2022-02-23T14:06:45.511Z"
   },
   {
    "duration": 1913,
    "start_time": "2022-02-23T14:06:45.512Z"
   },
   {
    "duration": 320,
    "start_time": "2022-02-23T14:09:01.810Z"
   },
   {
    "duration": 738,
    "start_time": "2022-02-23T14:09:02.131Z"
   },
   {
    "duration": 618,
    "start_time": "2022-02-23T14:09:02.871Z"
   },
   {
    "duration": 3,
    "start_time": "2022-02-23T14:09:03.491Z"
   },
   {
    "duration": 1874,
    "start_time": "2022-02-23T14:09:03.495Z"
   },
   {
    "duration": 49,
    "start_time": "2022-02-23T14:09:05.372Z"
   },
   {
    "duration": 20,
    "start_time": "2022-02-23T14:09:05.470Z"
   },
   {
    "duration": 717,
    "start_time": "2022-02-23T14:09:05.492Z"
   },
   {
    "duration": 385,
    "start_time": "2022-02-23T14:09:06.212Z"
   },
   {
    "duration": 9,
    "start_time": "2022-02-23T14:10:24.310Z"
   },
   {
    "duration": 475,
    "start_time": "2022-02-23T14:10:49.420Z"
   },
   {
    "duration": 301,
    "start_time": "2022-02-23T14:11:41.709Z"
   },
   {
    "duration": 579,
    "start_time": "2022-02-23T14:11:42.012Z"
   },
   {
    "duration": 695,
    "start_time": "2022-02-23T14:11:42.593Z"
   },
   {
    "duration": 3,
    "start_time": "2022-02-23T14:11:43.290Z"
   },
   {
    "duration": 1975,
    "start_time": "2022-02-23T14:11:43.295Z"
   },
   {
    "duration": 121,
    "start_time": "2022-02-23T14:11:45.273Z"
   },
   {
    "duration": 82,
    "start_time": "2022-02-23T14:11:45.396Z"
   },
   {
    "duration": 725,
    "start_time": "2022-02-23T14:11:45.481Z"
   },
   {
    "duration": 61,
    "start_time": "2022-02-23T14:11:46.208Z"
   },
   {
    "duration": 455,
    "start_time": "2022-02-23T14:11:46.272Z"
   },
   {
    "duration": 315,
    "start_time": "2022-02-23T14:18:23.765Z"
   },
   {
    "duration": 629,
    "start_time": "2022-02-23T14:18:24.082Z"
   },
   {
    "duration": 583,
    "start_time": "2022-02-23T14:18:24.714Z"
   },
   {
    "duration": 3,
    "start_time": "2022-02-23T14:18:25.299Z"
   },
   {
    "duration": 2020,
    "start_time": "2022-02-23T14:18:25.304Z"
   },
   {
    "duration": 90,
    "start_time": "2022-02-23T14:18:27.326Z"
   },
   {
    "duration": 52,
    "start_time": "2022-02-23T14:18:27.419Z"
   },
   {
    "duration": 401,
    "start_time": "2022-02-23T14:18:27.473Z"
   },
   {
    "duration": 4,
    "start_time": "2022-02-23T14:18:27.876Z"
   },
   {
    "duration": 490,
    "start_time": "2022-02-23T14:18:27.882Z"
   },
   {
    "duration": 275,
    "start_time": "2022-02-23T14:18:49.378Z"
   },
   {
    "duration": 373,
    "start_time": "2022-02-23T14:18:54.135Z"
   },
   {
    "duration": 565,
    "start_time": "2022-02-23T14:18:54.510Z"
   },
   {
    "duration": 561,
    "start_time": "2022-02-23T14:18:55.078Z"
   },
   {
    "duration": 3,
    "start_time": "2022-02-23T14:18:55.641Z"
   },
   {
    "duration": 1727,
    "start_time": "2022-02-23T14:18:55.646Z"
   },
   {
    "duration": 97,
    "start_time": "2022-02-23T14:18:57.375Z"
   },
   {
    "duration": 18,
    "start_time": "2022-02-23T14:18:57.474Z"
   },
   {
    "duration": 294,
    "start_time": "2022-02-23T14:18:57.494Z"
   },
   {
    "duration": 4,
    "start_time": "2022-02-23T14:18:57.790Z"
   },
   {
    "duration": 387,
    "start_time": "2022-02-23T14:18:57.796Z"
   },
   {
    "duration": 216,
    "start_time": "2022-02-23T14:21:58.661Z"
   },
   {
    "duration": 395,
    "start_time": "2022-02-23T14:22:06.159Z"
   },
   {
    "duration": 1975,
    "start_time": "2022-02-23T14:22:04.582Z"
   },
   {
    "duration": 1975,
    "start_time": "2022-02-23T14:22:04.583Z"
   },
   {
    "duration": 1935,
    "start_time": "2022-02-23T14:22:04.625Z"
   },
   {
    "duration": 1935,
    "start_time": "2022-02-23T14:22:04.626Z"
   },
   {
    "duration": 1936,
    "start_time": "2022-02-23T14:22:04.626Z"
   },
   {
    "duration": 1936,
    "start_time": "2022-02-23T14:22:04.627Z"
   },
   {
    "duration": 1936,
    "start_time": "2022-02-23T14:22:04.628Z"
   },
   {
    "duration": 1935,
    "start_time": "2022-02-23T14:22:04.630Z"
   },
   {
    "duration": 1936,
    "start_time": "2022-02-23T14:22:04.631Z"
   },
   {
    "duration": 1936,
    "start_time": "2022-02-23T14:22:04.632Z"
   },
   {
    "duration": 1936,
    "start_time": "2022-02-23T14:22:04.633Z"
   },
   {
    "duration": 337,
    "start_time": "2022-02-23T14:23:14.348Z"
   },
   {
    "duration": 380,
    "start_time": "2022-02-23T14:23:17.411Z"
   },
   {
    "duration": 754,
    "start_time": "2022-02-23T14:23:17.793Z"
   },
   {
    "duration": 544,
    "start_time": "2022-02-23T14:23:18.550Z"
   },
   {
    "duration": 2,
    "start_time": "2022-02-23T14:23:19.096Z"
   },
   {
    "duration": 1895,
    "start_time": "2022-02-23T14:23:19.100Z"
   },
   {
    "duration": 113,
    "start_time": "2022-02-23T14:23:20.997Z"
   },
   {
    "duration": 19,
    "start_time": "2022-02-23T14:23:21.169Z"
   },
   {
    "duration": 489,
    "start_time": "2022-02-23T14:23:21.190Z"
   },
   {
    "duration": 4,
    "start_time": "2022-02-23T14:23:21.682Z"
   },
   {
    "duration": 389,
    "start_time": "2022-02-23T14:23:21.689Z"
   },
   {
    "duration": 202,
    "start_time": "2022-02-23T14:23:22.081Z"
   },
   {
    "duration": 1978,
    "start_time": "2022-02-23T14:23:20.307Z"
   },
   {
    "duration": 281,
    "start_time": "2022-02-23T14:24:08.520Z"
   },
   {
    "duration": 711,
    "start_time": "2022-02-23T14:24:08.803Z"
   },
   {
    "duration": 617,
    "start_time": "2022-02-23T14:24:09.517Z"
   },
   {
    "duration": 3,
    "start_time": "2022-02-23T14:24:10.136Z"
   },
   {
    "duration": 1960,
    "start_time": "2022-02-23T14:24:10.141Z"
   },
   {
    "duration": 186,
    "start_time": "2022-02-23T14:24:12.103Z"
   },
   {
    "duration": 19,
    "start_time": "2022-02-23T14:24:12.291Z"
   },
   {
    "duration": 282,
    "start_time": "2022-02-23T14:24:12.313Z"
   },
   {
    "duration": 5,
    "start_time": "2022-02-23T14:24:12.598Z"
   },
   {
    "duration": 367,
    "start_time": "2022-02-23T14:24:12.605Z"
   },
   {
    "duration": 2506,
    "start_time": "2022-02-23T14:24:12.975Z"
   },
   {
    "duration": 310,
    "start_time": "2022-02-23T14:24:15.483Z"
   },
   {
    "duration": 406,
    "start_time": "2022-02-23T14:24:58.279Z"
   },
   {
    "duration": 594,
    "start_time": "2022-02-23T14:24:58.687Z"
   },
   {
    "duration": 616,
    "start_time": "2022-02-23T14:24:59.284Z"
   },
   {
    "duration": 3,
    "start_time": "2022-02-23T14:24:59.902Z"
   },
   {
    "duration": 1784,
    "start_time": "2022-02-23T14:24:59.907Z"
   },
   {
    "duration": 93,
    "start_time": "2022-02-23T14:25:01.693Z"
   },
   {
    "duration": 17,
    "start_time": "2022-02-23T14:25:01.789Z"
   },
   {
    "duration": 290,
    "start_time": "2022-02-23T14:25:01.808Z"
   },
   {
    "duration": 4,
    "start_time": "2022-02-23T14:25:02.101Z"
   },
   {
    "duration": 334,
    "start_time": "2022-02-23T14:25:02.107Z"
   },
   {
    "duration": 1178,
    "start_time": "2022-02-23T14:25:02.469Z"
   },
   {
    "duration": 8237,
    "start_time": "2022-02-23T14:25:03.649Z"
   },
   {
    "duration": 373,
    "start_time": "2022-02-23T15:31:22.637Z"
   },
   {
    "duration": 674,
    "start_time": "2022-02-23T15:31:23.012Z"
   },
   {
    "duration": 594,
    "start_time": "2022-02-23T15:31:23.688Z"
   },
   {
    "duration": 3,
    "start_time": "2022-02-23T15:31:24.284Z"
   },
   {
    "duration": 1706,
    "start_time": "2022-02-23T15:31:24.289Z"
   },
   {
    "duration": 173,
    "start_time": "2022-02-23T15:31:25.998Z"
   },
   {
    "duration": 17,
    "start_time": "2022-02-23T15:31:26.173Z"
   },
   {
    "duration": 288,
    "start_time": "2022-02-23T15:31:26.193Z"
   },
   {
    "duration": 5,
    "start_time": "2022-02-23T15:31:26.483Z"
   },
   {
    "duration": 305,
    "start_time": "2022-02-23T15:31:26.490Z"
   },
   {
    "duration": 5510,
    "start_time": "2022-02-23T15:31:26.797Z"
   },
   {
    "duration": 60,
    "start_time": "2022-02-23T15:31:32.309Z"
   },
   {
    "duration": 254,
    "start_time": "2022-02-23T15:34:56.615Z"
   },
   {
    "duration": 517,
    "start_time": "2022-02-23T15:34:56.871Z"
   },
   {
    "duration": 611,
    "start_time": "2022-02-23T15:34:57.390Z"
   },
   {
    "duration": 3,
    "start_time": "2022-02-23T15:34:58.004Z"
   },
   {
    "duration": 1701,
    "start_time": "2022-02-23T15:34:58.009Z"
   },
   {
    "duration": 156,
    "start_time": "2022-02-23T15:34:59.713Z"
   },
   {
    "duration": 17,
    "start_time": "2022-02-23T15:34:59.871Z"
   },
   {
    "duration": 270,
    "start_time": "2022-02-23T15:34:59.890Z"
   },
   {
    "duration": 10,
    "start_time": "2022-02-23T15:35:00.162Z"
   },
   {
    "duration": 320,
    "start_time": "2022-02-23T15:35:00.174Z"
   },
   {
    "duration": 4484,
    "start_time": "2022-02-23T15:35:00.496Z"
   },
   {
    "duration": 3,
    "start_time": "2022-02-23T15:35:04.982Z"
   },
   {
    "duration": 20,
    "start_time": "2022-02-23T15:35:04.987Z"
   },
   {
    "duration": 5,
    "start_time": "2022-02-23T15:36:58.709Z"
   },
   {
    "duration": 216,
    "start_time": "2022-02-23T15:39:58.541Z"
   },
   {
    "duration": 6,
    "start_time": "2022-02-23T15:40:26.693Z"
   },
   {
    "duration": 297,
    "start_time": "2022-02-23T15:42:15.523Z"
   },
   {
    "duration": 592,
    "start_time": "2022-02-23T15:42:15.822Z"
   },
   {
    "duration": 791,
    "start_time": "2022-02-23T15:42:16.417Z"
   },
   {
    "duration": 3,
    "start_time": "2022-02-23T15:42:17.210Z"
   },
   {
    "duration": 1855,
    "start_time": "2022-02-23T15:42:17.214Z"
   },
   {
    "duration": 49,
    "start_time": "2022-02-23T15:42:19.071Z"
   },
   {
    "duration": 18,
    "start_time": "2022-02-23T15:42:19.170Z"
   },
   {
    "duration": 278,
    "start_time": "2022-02-23T15:42:19.191Z"
   },
   {
    "duration": 5,
    "start_time": "2022-02-23T15:42:19.472Z"
   },
   {
    "duration": 279,
    "start_time": "2022-02-23T15:42:19.479Z"
   },
   {
    "duration": 4086,
    "start_time": "2022-02-23T15:42:19.769Z"
   },
   {
    "duration": 5,
    "start_time": "2022-02-23T15:42:23.869Z"
   },
   {
    "duration": 6,
    "start_time": "2022-02-23T15:42:23.875Z"
   },
   {
    "duration": 4,
    "start_time": "2022-02-23T15:42:23.883Z"
   },
   {
    "duration": 7,
    "start_time": "2022-02-23T15:42:23.889Z"
   },
   {
    "duration": 315,
    "start_time": "2022-02-23T15:48:30.471Z"
   },
   {
    "duration": 531,
    "start_time": "2022-02-23T15:48:30.788Z"
   },
   {
    "duration": 556,
    "start_time": "2022-02-23T15:48:31.321Z"
   },
   {
    "duration": 3,
    "start_time": "2022-02-23T15:48:31.879Z"
   },
   {
    "duration": 1591,
    "start_time": "2022-02-23T15:48:31.885Z"
   },
   {
    "duration": 47,
    "start_time": "2022-02-23T15:48:33.478Z"
   },
   {
    "duration": 55,
    "start_time": "2022-02-23T15:48:33.527Z"
   },
   {
    "duration": 514,
    "start_time": "2022-02-23T15:48:33.585Z"
   },
   {
    "duration": -25,
    "start_time": "2022-02-23T15:48:34.127Z"
   },
   {
    "duration": -25,
    "start_time": "2022-02-23T15:48:34.128Z"
   },
   {
    "duration": -25,
    "start_time": "2022-02-23T15:48:34.129Z"
   },
   {
    "duration": -25,
    "start_time": "2022-02-23T15:48:34.130Z"
   },
   {
    "duration": -25,
    "start_time": "2022-02-23T15:48:34.131Z"
   },
   {
    "duration": -24,
    "start_time": "2022-02-23T15:48:34.132Z"
   },
   {
    "duration": -25,
    "start_time": "2022-02-23T15:48:34.133Z"
   },
   {
    "duration": 253,
    "start_time": "2022-02-23T15:48:53.556Z"
   },
   {
    "duration": 270,
    "start_time": "2022-02-23T15:48:55.081Z"
   },
   {
    "duration": 527,
    "start_time": "2022-02-23T15:48:55.353Z"
   },
   {
    "duration": 663,
    "start_time": "2022-02-23T15:48:55.883Z"
   },
   {
    "duration": 3,
    "start_time": "2022-02-23T15:48:56.548Z"
   },
   {
    "duration": 1656,
    "start_time": "2022-02-23T15:48:56.553Z"
   },
   {
    "duration": 80,
    "start_time": "2022-02-23T15:48:58.212Z"
   },
   {
    "duration": 19,
    "start_time": "2022-02-23T15:48:58.294Z"
   },
   {
    "duration": 357,
    "start_time": "2022-02-23T15:48:58.315Z"
   },
   {
    "duration": 5,
    "start_time": "2022-02-23T15:48:58.673Z"
   },
   {
    "duration": 278,
    "start_time": "2022-02-23T15:48:58.679Z"
   },
   {
    "duration": 4633,
    "start_time": "2022-02-23T15:48:58.969Z"
   },
   {
    "duration": 5,
    "start_time": "2022-02-23T15:49:03.603Z"
   },
   {
    "duration": 11,
    "start_time": "2022-02-23T15:49:03.610Z"
   },
   {
    "duration": 11,
    "start_time": "2022-02-23T15:49:03.623Z"
   },
   {
    "duration": 36,
    "start_time": "2022-02-23T15:49:03.635Z"
   },
   {
    "duration": 498,
    "start_time": "2022-02-23T15:49:19.771Z"
   },
   {
    "duration": 600,
    "start_time": "2022-02-23T15:49:20.272Z"
   },
   {
    "duration": 542,
    "start_time": "2022-02-23T15:49:20.875Z"
   },
   {
    "duration": 3,
    "start_time": "2022-02-23T15:49:21.419Z"
   },
   {
    "duration": 1367,
    "start_time": "2022-02-23T15:49:21.424Z"
   },
   {
    "duration": 42,
    "start_time": "2022-02-23T15:49:22.793Z"
   },
   {
    "duration": 47,
    "start_time": "2022-02-23T15:49:22.837Z"
   },
   {
    "duration": 1672,
    "start_time": "2022-02-23T15:49:22.887Z"
   },
   {
    "duration": 10,
    "start_time": "2022-02-23T15:49:24.561Z"
   },
   {
    "duration": 261,
    "start_time": "2022-02-23T15:49:24.573Z"
   },
   {
    "duration": 4104,
    "start_time": "2022-02-23T15:49:24.836Z"
   },
   {
    "duration": 5,
    "start_time": "2022-02-23T15:49:28.942Z"
   },
   {
    "duration": 24,
    "start_time": "2022-02-23T15:49:28.950Z"
   },
   {
    "duration": 6,
    "start_time": "2022-02-23T15:49:28.976Z"
   },
   {
    "duration": 8,
    "start_time": "2022-02-23T15:49:28.984Z"
   },
   {
    "duration": 264,
    "start_time": "2022-02-23T15:51:03.723Z"
   },
   {
    "duration": 595,
    "start_time": "2022-02-23T15:51:03.989Z"
   },
   {
    "duration": 573,
    "start_time": "2022-02-23T15:51:04.586Z"
   },
   {
    "duration": 3,
    "start_time": "2022-02-23T15:51:05.161Z"
   },
   {
    "duration": 1269,
    "start_time": "2022-02-23T15:51:05.165Z"
   },
   {
    "duration": 79,
    "start_time": "2022-02-23T15:51:06.435Z"
   },
   {
    "duration": 15,
    "start_time": "2022-02-23T15:51:06.516Z"
   },
   {
    "duration": 1370,
    "start_time": "2022-02-23T15:51:06.533Z"
   },
   {
    "duration": 5,
    "start_time": "2022-02-23T15:51:07.906Z"
   },
   {
    "duration": 311,
    "start_time": "2022-02-23T15:51:07.913Z"
   },
   {
    "duration": 3202,
    "start_time": "2022-02-23T15:51:08.227Z"
   },
   {
    "duration": 5,
    "start_time": "2022-02-23T15:51:11.431Z"
   },
   {
    "duration": 6,
    "start_time": "2022-02-23T15:51:11.438Z"
   },
   {
    "duration": 27,
    "start_time": "2022-02-23T15:51:11.446Z"
   },
   {
    "duration": 10,
    "start_time": "2022-02-23T15:51:11.475Z"
   },
   {
    "duration": 358,
    "start_time": "2022-02-23T15:54:41.337Z"
   },
   {
    "duration": 595,
    "start_time": "2022-02-23T15:54:41.697Z"
   },
   {
    "duration": 557,
    "start_time": "2022-02-23T15:54:42.295Z"
   },
   {
    "duration": 3,
    "start_time": "2022-02-23T15:54:42.854Z"
   },
   {
    "duration": 1222,
    "start_time": "2022-02-23T15:54:42.860Z"
   },
   {
    "duration": 41,
    "start_time": "2022-02-23T15:54:44.084Z"
   },
   {
    "duration": 50,
    "start_time": "2022-02-23T15:54:44.127Z"
   },
   {
    "duration": 1057,
    "start_time": "2022-02-23T15:54:44.181Z"
   },
   {
    "duration": 699,
    "start_time": "2022-02-23T15:54:45.241Z"
   },
   {
    "duration": 4,
    "start_time": "2022-02-23T15:54:45.942Z"
   },
   {
    "duration": 301,
    "start_time": "2022-02-23T15:54:45.948Z"
   },
   {
    "duration": 3839,
    "start_time": "2022-02-23T15:54:46.270Z"
   },
   {
    "duration": 5,
    "start_time": "2022-02-23T15:54:50.111Z"
   },
   {
    "duration": 8,
    "start_time": "2022-02-23T15:54:50.118Z"
   },
   {
    "duration": 43,
    "start_time": "2022-02-23T15:54:50.128Z"
   },
   {
    "duration": 6,
    "start_time": "2022-02-23T15:54:50.174Z"
   },
   {
    "duration": 327,
    "start_time": "2022-02-23T15:56:51.783Z"
   },
   {
    "duration": 524,
    "start_time": "2022-02-23T15:56:52.113Z"
   },
   {
    "duration": 560,
    "start_time": "2022-02-23T15:56:52.639Z"
   },
   {
    "duration": 3,
    "start_time": "2022-02-23T15:56:53.202Z"
   },
   {
    "duration": 1302,
    "start_time": "2022-02-23T15:56:53.208Z"
   },
   {
    "duration": 73,
    "start_time": "2022-02-23T15:56:54.512Z"
   },
   {
    "duration": 14,
    "start_time": "2022-02-23T15:56:54.587Z"
   },
   {
    "duration": 1085,
    "start_time": "2022-02-23T15:56:54.603Z"
   },
   {
    "duration": 1041,
    "start_time": "2022-02-23T15:56:55.690Z"
   },
   {
    "duration": 4,
    "start_time": "2022-02-23T15:56:56.733Z"
   },
   {
    "duration": 1057,
    "start_time": "2022-02-23T15:56:56.739Z"
   },
   {
    "duration": 3330,
    "start_time": "2022-02-23T15:56:57.797Z"
   },
   {
    "duration": 3,
    "start_time": "2022-02-23T15:57:01.129Z"
   },
   {
    "duration": 25,
    "start_time": "2022-02-23T15:57:01.134Z"
   },
   {
    "duration": 10,
    "start_time": "2022-02-23T15:57:01.161Z"
   },
   {
    "duration": 8,
    "start_time": "2022-02-23T15:57:01.174Z"
   },
   {
    "duration": 3242,
    "start_time": "2022-02-23T16:08:14.539Z"
   },
   {
    "duration": 3147,
    "start_time": "2022-02-23T16:08:18.376Z"
   },
   {
    "duration": 314,
    "start_time": "2022-02-23T16:09:01.766Z"
   },
   {
    "duration": 528,
    "start_time": "2022-02-23T16:09:02.082Z"
   },
   {
    "duration": 561,
    "start_time": "2022-02-23T16:09:02.613Z"
   },
   {
    "duration": 3,
    "start_time": "2022-02-23T16:09:03.176Z"
   },
   {
    "duration": 1310,
    "start_time": "2022-02-23T16:09:03.181Z"
   },
   {
    "duration": 100,
    "start_time": "2022-02-23T16:09:04.493Z"
   },
   {
    "duration": 18,
    "start_time": "2022-02-23T16:09:04.595Z"
   },
   {
    "duration": 1114,
    "start_time": "2022-02-23T16:09:04.616Z"
   },
   {
    "duration": 773,
    "start_time": "2022-02-23T16:09:05.733Z"
   },
   {
    "duration": 5,
    "start_time": "2022-02-23T16:09:06.508Z"
   },
   {
    "duration": 1723,
    "start_time": "2022-02-23T16:09:06.515Z"
   },
   {
    "duration": 7081,
    "start_time": "2022-02-23T16:09:08.240Z"
   },
   {
    "duration": 2948,
    "start_time": "2022-02-23T16:09:15.323Z"
   },
   {
    "duration": 5,
    "start_time": "2022-02-23T16:09:18.274Z"
   },
   {
    "duration": 28013,
    "start_time": "2022-02-25T14:02:09.807Z"
   },
   {
    "duration": 3866,
    "start_time": "2022-02-25T14:04:48.655Z"
   },
   {
    "duration": 604,
    "start_time": "2022-02-25T14:04:55.444Z"
   },
   {
    "duration": 1235,
    "start_time": "2022-02-25T14:04:57.793Z"
   },
   {
    "duration": 208,
    "start_time": "2022-02-25T14:05:14.408Z"
   },
   {
    "duration": 9,
    "start_time": "2022-02-25T14:05:19.847Z"
   },
   {
    "duration": 16,
    "start_time": "2022-02-25T14:05:59.021Z"
   },
   {
    "duration": 1220,
    "start_time": "2022-02-25T14:08:50.515Z"
   },
   {
    "duration": 6,
    "start_time": "2022-02-25T14:08:51.737Z"
   },
   {
    "duration": 4,
    "start_time": "2022-02-25T14:11:13.627Z"
   },
   {
    "duration": 1062,
    "start_time": "2022-02-25T14:11:22.473Z"
   },
   {
    "duration": 49,
    "start_time": "2022-02-25T14:12:11.236Z"
   },
   {
    "duration": 573,
    "start_time": "2022-02-25T14:12:24.581Z"
   },
   {
    "duration": 4,
    "start_time": "2022-02-25T14:12:26.096Z"
   },
   {
    "duration": 841,
    "start_time": "2022-02-25T14:12:29.899Z"
   },
   {
    "duration": 5731,
    "start_time": "2022-02-25T14:17:01.180Z"
   },
   {
    "duration": 6,
    "start_time": "2022-02-25T14:17:26.318Z"
   },
   {
    "duration": 14433,
    "start_time": "2022-02-25T14:17:31.690Z"
   },
   {
    "duration": 11512,
    "start_time": "2022-02-25T14:20:40.701Z"
   },
   {
    "duration": 10048,
    "start_time": "2022-02-25T14:20:52.215Z"
   },
   {
    "duration": 8,
    "start_time": "2022-02-25T14:22:53.937Z"
   },
   {
    "duration": 148,
    "start_time": "2022-02-25T14:25:50.689Z"
   },
   {
    "duration": 4,
    "start_time": "2022-02-25T14:25:55.726Z"
   },
   {
    "duration": 138,
    "start_time": "2022-02-25T14:25:58.944Z"
   },
   {
    "duration": 1306,
    "start_time": "2022-02-25T14:26:03.191Z"
   },
   {
    "duration": 1076,
    "start_time": "2022-02-25T14:26:03.423Z"
   },
   {
    "duration": 9,
    "start_time": "2022-02-25T14:26:14.287Z"
   },
   {
    "duration": 3,
    "start_time": "2022-02-25T14:26:16.101Z"
   },
   {
    "duration": 8669,
    "start_time": "2022-02-25T14:26:17.546Z"
   },
   {
    "duration": 5649,
    "start_time": "2022-02-25T14:27:54.189Z"
   },
   {
    "duration": 3,
    "start_time": "2022-02-25T14:29:59.710Z"
   },
   {
    "duration": 161,
    "start_time": "2022-02-25T14:38:57.119Z"
   },
   {
    "duration": 4,
    "start_time": "2022-02-25T14:39:29.954Z"
   },
   {
    "duration": 182,
    "start_time": "2022-02-25T14:40:05.376Z"
   },
   {
    "duration": 179,
    "start_time": "2022-02-25T14:40:22.257Z"
   },
   {
    "duration": 161,
    "start_time": "2022-02-25T14:41:21.855Z"
   },
   {
    "duration": 143,
    "start_time": "2022-02-25T14:43:11.082Z"
   },
   {
    "duration": 4,
    "start_time": "2022-02-25T14:43:31.822Z"
   },
   {
    "duration": 8,
    "start_time": "2022-02-25T14:44:09.269Z"
   },
   {
    "duration": 456,
    "start_time": "2022-02-25T14:44:09.279Z"
   },
   {
    "duration": 4,
    "start_time": "2022-02-25T14:44:09.737Z"
   },
   {
    "duration": 730,
    "start_time": "2022-02-25T14:44:09.744Z"
   },
   {
    "duration": 9249,
    "start_time": "2022-02-25T14:44:10.476Z"
   },
   {
    "duration": 8,
    "start_time": "2022-02-25T14:44:19.727Z"
   },
   {
    "duration": 3684,
    "start_time": "2022-02-25T14:44:19.737Z"
   },
   {
    "duration": 3,
    "start_time": "2022-02-25T14:44:23.423Z"
   },
   {
    "duration": 11,
    "start_time": "2022-02-25T14:44:23.429Z"
   },
   {
    "duration": 171,
    "start_time": "2022-02-25T14:44:23.442Z"
   },
   {
    "duration": 1099,
    "start_time": "2022-02-25T14:44:22.517Z"
   },
   {
    "duration": 1098,
    "start_time": "2022-02-25T14:44:22.519Z"
   },
   {
    "duration": 1099,
    "start_time": "2022-02-25T14:44:22.520Z"
   },
   {
    "duration": 1034,
    "start_time": "2022-02-25T14:44:22.586Z"
   },
   {
    "duration": 1032,
    "start_time": "2022-02-25T14:44:22.589Z"
   },
   {
    "duration": 1033,
    "start_time": "2022-02-25T14:44:22.590Z"
   },
   {
    "duration": 1033,
    "start_time": "2022-02-25T14:44:22.591Z"
   },
   {
    "duration": 1034,
    "start_time": "2022-02-25T14:44:22.592Z"
   },
   {
    "duration": 158,
    "start_time": "2022-02-25T14:45:35.752Z"
   },
   {
    "duration": 153,
    "start_time": "2022-02-25T14:47:16.031Z"
   },
   {
    "duration": 4,
    "start_time": "2022-02-25T14:47:23.758Z"
   },
   {
    "duration": 8,
    "start_time": "2022-02-25T14:48:17.433Z"
   },
   {
    "duration": 131,
    "start_time": "2022-02-25T14:48:20.809Z"
   },
   {
    "duration": 197,
    "start_time": "2022-02-25T14:48:25.663Z"
   },
   {
    "duration": 8,
    "start_time": "2022-02-25T14:48:32.239Z"
   },
   {
    "duration": 230,
    "start_time": "2022-02-25T14:48:33.638Z"
   },
   {
    "duration": 140,
    "start_time": "2022-02-25T14:51:23.178Z"
   },
   {
    "duration": 190,
    "start_time": "2022-02-25T14:51:49.706Z"
   },
   {
    "duration": 4,
    "start_time": "2022-02-25T14:52:02.817Z"
   },
   {
    "duration": 4,
    "start_time": "2022-02-25T14:54:53.976Z"
   },
   {
    "duration": 290,
    "start_time": "2022-02-25T14:55:51.977Z"
   },
   {
    "duration": 324,
    "start_time": "2022-02-25T14:56:59.000Z"
   },
   {
    "duration": 136,
    "start_time": "2022-02-25T14:58:03.752Z"
   },
   {
    "duration": 215,
    "start_time": "2022-02-25T14:58:11.417Z"
   },
   {
    "duration": 147,
    "start_time": "2022-02-25T14:59:34.208Z"
   },
   {
    "duration": 8,
    "start_time": "2022-02-25T15:01:05.118Z"
   },
   {
    "duration": 7,
    "start_time": "2022-02-25T15:01:06.400Z"
   },
   {
    "duration": 151,
    "start_time": "2022-02-25T15:01:07.666Z"
   },
   {
    "duration": 7,
    "start_time": "2022-02-25T15:01:21.005Z"
   },
   {
    "duration": 500,
    "start_time": "2022-02-25T15:01:21.769Z"
   },
   {
    "duration": 162,
    "start_time": "2022-02-25T15:04:22.048Z"
   },
   {
    "duration": 4,
    "start_time": "2022-02-25T15:08:05.959Z"
   },
   {
    "duration": 4,
    "start_time": "2022-02-25T15:08:14.884Z"
   },
   {
    "duration": 130,
    "start_time": "2022-02-25T15:09:35.719Z"
   },
   {
    "duration": 155,
    "start_time": "2022-02-25T15:10:29.640Z"
   },
   {
    "duration": 263,
    "start_time": "2022-02-25T15:10:58.682Z"
   },
   {
    "duration": 198,
    "start_time": "2022-02-25T15:11:56.738Z"
   },
   {
    "duration": 172,
    "start_time": "2022-02-25T15:12:18.512Z"
   },
   {
    "duration": 5880,
    "start_time": "2022-02-25T15:12:33.369Z"
   },
   {
    "duration": 137,
    "start_time": "2022-02-25T15:13:05.429Z"
   },
   {
    "duration": 223,
    "start_time": "2022-02-25T15:13:25.436Z"
   },
   {
    "duration": 3537,
    "start_time": "2022-02-25T15:13:45.694Z"
   },
   {
    "duration": 94,
    "start_time": "2022-02-25T15:13:52.856Z"
   },
   {
    "duration": 3999,
    "start_time": "2022-02-25T15:14:24.691Z"
   },
   {
    "duration": 170,
    "start_time": "2022-02-25T15:16:19.289Z"
   },
   {
    "duration": 7,
    "start_time": "2022-02-25T15:16:24.691Z"
   },
   {
    "duration": 524,
    "start_time": "2022-02-25T15:16:24.700Z"
   },
   {
    "duration": 4,
    "start_time": "2022-02-25T15:16:25.227Z"
   },
   {
    "duration": 699,
    "start_time": "2022-02-25T15:16:25.233Z"
   },
   {
    "duration": 9194,
    "start_time": "2022-02-25T15:16:25.934Z"
   },
   {
    "duration": 8,
    "start_time": "2022-02-25T15:16:35.130Z"
   },
   {
    "duration": 3693,
    "start_time": "2022-02-25T15:16:35.139Z"
   },
   {
    "duration": 3,
    "start_time": "2022-02-25T15:16:38.834Z"
   },
   {
    "duration": 3183,
    "start_time": "2022-02-25T15:16:38.840Z"
   },
   {
    "duration": 19,
    "start_time": "2022-02-25T15:16:42.025Z"
   },
   {
    "duration": 2473,
    "start_time": "2022-02-25T15:16:42.046Z"
   },
   {
    "duration": 100,
    "start_time": "2022-02-25T15:16:44.520Z"
   },
   {
    "duration": 25,
    "start_time": "2022-02-25T15:16:44.622Z"
   },
   {
    "duration": 4680,
    "start_time": "2022-02-25T15:16:44.649Z"
   },
   {
    "duration": 2381,
    "start_time": "2022-02-25T15:16:49.331Z"
   },
   {
    "duration": 5,
    "start_time": "2022-02-25T15:16:51.714Z"
   },
   {
    "duration": 11794,
    "start_time": "2022-02-25T15:16:51.720Z"
   },
   {
    "duration": 37942,
    "start_time": "2022-02-25T15:17:03.516Z"
   },
   {
    "duration": 24114,
    "start_time": "2022-02-25T15:17:41.460Z"
   },
   {
    "duration": 229,
    "start_time": "2022-02-25T15:18:05.612Z"
   },
   {
    "duration": 1067,
    "start_time": "2022-02-25T15:18:04.776Z"
   },
   {
    "duration": 1066,
    "start_time": "2022-02-25T15:18:04.779Z"
   },
   {
    "duration": 6,
    "start_time": "2022-02-25T15:18:19.867Z"
   },
   {
    "duration": 2067,
    "start_time": "2022-02-25T15:18:19.875Z"
   },
   {
    "duration": 7,
    "start_time": "2022-02-25T15:18:21.944Z"
   },
   {
    "duration": 548,
    "start_time": "2022-02-25T15:18:21.953Z"
   },
   {
    "duration": 7650,
    "start_time": "2022-02-25T15:18:22.503Z"
   },
   {
    "duration": 7,
    "start_time": "2022-02-25T15:18:30.155Z"
   },
   {
    "duration": 2778,
    "start_time": "2022-02-25T15:18:30.164Z"
   },
   {
    "duration": 3,
    "start_time": "2022-02-25T15:18:32.945Z"
   },
   {
    "duration": 2869,
    "start_time": "2022-02-25T15:18:32.950Z"
   },
   {
    "duration": 20,
    "start_time": "2022-02-25T15:18:35.821Z"
   },
   {
    "duration": 4010,
    "start_time": "2022-02-25T15:18:35.843Z"
   },
   {
    "duration": 72,
    "start_time": "2022-02-25T15:18:39.855Z"
   },
   {
    "duration": 83,
    "start_time": "2022-02-25T15:18:39.929Z"
   },
   {
    "duration": 3717,
    "start_time": "2022-02-25T15:18:40.014Z"
   },
   {
    "duration": 3008,
    "start_time": "2022-02-25T15:18:43.733Z"
   },
   {
    "duration": 6,
    "start_time": "2022-02-25T15:18:46.743Z"
   },
   {
    "duration": 9742,
    "start_time": "2022-02-25T15:18:46.751Z"
   },
   {
    "duration": 31225,
    "start_time": "2022-02-25T15:18:56.495Z"
   },
   {
    "duration": 21017,
    "start_time": "2022-02-25T15:19:27.722Z"
   },
   {
    "duration": 46,
    "start_time": "2022-02-25T15:20:27.822Z"
   },
   {
    "duration": 6761,
    "start_time": "2022-02-25T15:24:21.889Z"
   },
   {
    "duration": 4,
    "start_time": "2022-02-25T15:24:40.204Z"
   },
   {
    "duration": 279,
    "start_time": "2022-02-25T15:24:40.210Z"
   },
   {
    "duration": 22,
    "start_time": "2022-02-25T15:24:40.491Z"
   },
   {
    "duration": 426,
    "start_time": "2022-02-25T15:24:40.515Z"
   },
   {
    "duration": 7092,
    "start_time": "2022-02-25T15:24:40.942Z"
   },
   {
    "duration": 7,
    "start_time": "2022-02-25T15:24:48.037Z"
   },
   {
    "duration": 2320,
    "start_time": "2022-02-25T15:24:48.045Z"
   },
   {
    "duration": 3,
    "start_time": "2022-02-25T15:24:50.413Z"
   },
   {
    "duration": 1961,
    "start_time": "2022-02-25T15:24:50.417Z"
   },
   {
    "duration": 44,
    "start_time": "2022-02-25T15:24:52.380Z"
   },
   {
    "duration": 1957,
    "start_time": "2022-02-25T15:24:52.427Z"
   },
   {
    "duration": 53,
    "start_time": "2022-02-25T15:24:54.385Z"
   },
   {
    "duration": 16,
    "start_time": "2022-02-25T15:24:54.440Z"
   },
   {
    "duration": 1679,
    "start_time": "2022-02-25T15:24:54.458Z"
   },
   {
    "duration": 591,
    "start_time": "2022-02-25T15:24:56.139Z"
   },
   {
    "duration": 6882,
    "start_time": "2022-02-25T15:24:56.733Z"
   },
   {
    "duration": 27203,
    "start_time": "2022-02-25T15:25:03.617Z"
   },
   {
    "duration": 19470,
    "start_time": "2022-02-25T15:25:30.822Z"
   },
   {
    "duration": 76,
    "start_time": "2022-02-27T15:43:47.392Z"
   },
   {
    "duration": 264,
    "start_time": "2022-02-27T15:43:54.149Z"
   },
   {
    "duration": 957,
    "start_time": "2022-02-27T15:43:59.857Z"
   },
   {
    "duration": 24888,
    "start_time": "2022-02-27T15:44:00.816Z"
   },
   {
    "duration": 26,
    "start_time": "2022-02-27T15:44:25.760Z"
   },
   {
    "duration": 3726,
    "start_time": "2022-02-27T15:44:25.788Z"
   },
   {
    "duration": 16775,
    "start_time": "2022-02-27T15:44:29.516Z"
   },
   {
    "duration": 73,
    "start_time": "2022-02-27T15:44:46.293Z"
   },
   {
    "duration": 7017,
    "start_time": "2022-02-27T15:44:46.368Z"
   },
   {
    "duration": 2,
    "start_time": "2022-02-27T15:44:53.387Z"
   },
   {
    "duration": 295,
    "start_time": "2022-02-27T15:44:53.460Z"
   },
   {
    "duration": 937,
    "start_time": "2022-02-27T15:44:52.820Z"
   },
   {
    "duration": 937,
    "start_time": "2022-02-27T15:44:52.821Z"
   },
   {
    "duration": 938,
    "start_time": "2022-02-27T15:44:52.822Z"
   },
   {
    "duration": 937,
    "start_time": "2022-02-27T15:44:52.824Z"
   },
   {
    "duration": 855,
    "start_time": "2022-02-27T15:44:52.908Z"
   },
   {
    "duration": 854,
    "start_time": "2022-02-27T15:44:52.910Z"
   },
   {
    "duration": 856,
    "start_time": "2022-02-27T15:44:52.910Z"
   },
   {
    "duration": 855,
    "start_time": "2022-02-27T15:44:52.912Z"
   },
   {
    "duration": 855,
    "start_time": "2022-02-27T15:44:52.913Z"
   },
   {
    "duration": 220,
    "start_time": "2022-02-27T15:50:15.573Z"
   },
   {
    "duration": 4,
    "start_time": "2022-02-27T15:50:29.088Z"
   },
   {
    "duration": 580,
    "start_time": "2022-02-27T15:50:29.094Z"
   },
   {
    "duration": 4,
    "start_time": "2022-02-27T15:50:29.677Z"
   },
   {
    "duration": 1015,
    "start_time": "2022-02-27T15:50:29.684Z"
   },
   {
    "duration": 9363,
    "start_time": "2022-02-27T15:50:30.701Z"
   },
   {
    "duration": 9,
    "start_time": "2022-02-27T15:50:40.066Z"
   },
   {
    "duration": 3885,
    "start_time": "2022-02-27T15:50:40.076Z"
   },
   {
    "duration": 2,
    "start_time": "2022-02-27T15:50:43.963Z"
   },
   {
    "duration": 506,
    "start_time": "2022-02-27T15:50:43.968Z"
   },
   {
    "duration": 952,
    "start_time": "2022-02-27T15:50:43.525Z"
   },
   {
    "duration": 953,
    "start_time": "2022-02-27T15:50:43.526Z"
   },
   {
    "duration": 854,
    "start_time": "2022-02-27T15:50:43.626Z"
   },
   {
    "duration": 855,
    "start_time": "2022-02-27T15:50:43.627Z"
   },
   {
    "duration": 856,
    "start_time": "2022-02-27T15:50:43.627Z"
   },
   {
    "duration": 857,
    "start_time": "2022-02-27T15:50:43.628Z"
   },
   {
    "duration": 857,
    "start_time": "2022-02-27T15:50:43.629Z"
   },
   {
    "duration": 858,
    "start_time": "2022-02-27T15:50:43.630Z"
   },
   {
    "duration": 858,
    "start_time": "2022-02-27T15:50:43.631Z"
   },
   {
    "duration": 858,
    "start_time": "2022-02-27T15:50:43.632Z"
   },
   {
    "duration": 4,
    "start_time": "2022-02-27T16:09:12.735Z"
   },
   {
    "duration": 419,
    "start_time": "2022-02-27T16:09:12.741Z"
   },
   {
    "duration": 3,
    "start_time": "2022-02-27T16:09:13.162Z"
   },
   {
    "duration": 663,
    "start_time": "2022-02-27T16:09:13.167Z"
   },
   {
    "duration": 8437,
    "start_time": "2022-02-27T16:09:13.832Z"
   },
   {
    "duration": 7,
    "start_time": "2022-02-27T16:09:22.272Z"
   },
   {
    "duration": 3405,
    "start_time": "2022-02-27T16:09:22.281Z"
   },
   {
    "duration": 3,
    "start_time": "2022-02-27T16:09:25.687Z"
   },
   {
    "duration": 5599,
    "start_time": "2022-02-27T16:09:25.693Z"
   },
   {
    "duration": 176,
    "start_time": "2022-02-27T16:09:31.294Z"
   },
   {
    "duration": 3914,
    "start_time": "2022-02-27T16:09:31.473Z"
   },
   {
    "duration": 79,
    "start_time": "2022-02-27T16:09:35.389Z"
   },
   {
    "duration": 21,
    "start_time": "2022-02-27T16:09:35.469Z"
   },
   {
    "duration": 4097,
    "start_time": "2022-02-27T16:09:35.493Z"
   },
   {
    "duration": 1719,
    "start_time": "2022-02-27T16:09:39.592Z"
   },
   {
    "duration": 11248,
    "start_time": "2022-02-27T16:09:41.313Z"
   },
   {
    "duration": 36798,
    "start_time": "2022-02-27T16:09:52.563Z"
   },
   {
    "duration": 23932,
    "start_time": "2022-02-27T16:10:29.363Z"
   },
   {
    "duration": 3,
    "start_time": "2022-02-27T16:10:53.296Z"
   },
   {
    "duration": 224,
    "start_time": "2022-02-27T16:23:03.708Z"
   },
   {
    "duration": 4,
    "start_time": "2022-02-27T16:23:29.876Z"
   },
   {
    "duration": 4,
    "start_time": "2022-02-27T16:24:36.693Z"
   },
   {
    "duration": 3,
    "start_time": "2022-02-27T16:25:55.739Z"
   },
   {
    "duration": 4,
    "start_time": "2022-02-27T16:27:29.451Z"
   },
   {
    "duration": 3,
    "start_time": "2022-02-27T16:27:32.802Z"
   },
   {
    "duration": 3,
    "start_time": "2022-02-27T16:28:10.249Z"
   },
   {
    "duration": 4,
    "start_time": "2022-02-27T16:28:10.894Z"
   },
   {
    "duration": 4,
    "start_time": "2022-02-27T16:28:11.448Z"
   },
   {
    "duration": 4,
    "start_time": "2022-02-27T16:38:52.143Z"
   },
   {
    "duration": 3,
    "start_time": "2022-02-27T16:38:54.671Z"
   },
   {
    "duration": 317,
    "start_time": "2022-02-27T16:38:54.676Z"
   },
   {
    "duration": 9,
    "start_time": "2022-02-27T16:38:54.995Z"
   },
   {
    "duration": 594,
    "start_time": "2022-02-27T16:38:55.006Z"
   },
   {
    "duration": 7755,
    "start_time": "2022-02-27T16:38:55.601Z"
   },
   {
    "duration": 7,
    "start_time": "2022-02-27T16:39:03.358Z"
   },
   {
    "duration": 2894,
    "start_time": "2022-02-27T16:39:03.366Z"
   },
   {
    "duration": 3,
    "start_time": "2022-02-27T16:39:06.262Z"
   },
   {
    "duration": 2749,
    "start_time": "2022-02-27T16:39:06.267Z"
   },
   {
    "duration": 49,
    "start_time": "2022-02-27T16:39:09.018Z"
   },
   {
    "duration": 2738,
    "start_time": "2022-02-27T16:39:09.069Z"
   },
   {
    "duration": 62,
    "start_time": "2022-02-27T16:39:11.808Z"
   },
   {
    "duration": 14,
    "start_time": "2022-02-27T16:39:11.872Z"
   },
   {
    "duration": 1997,
    "start_time": "2022-02-27T16:39:11.888Z"
   },
   {
    "duration": 632,
    "start_time": "2022-02-27T16:39:13.886Z"
   },
   {
    "duration": 6619,
    "start_time": "2022-02-27T16:39:14.519Z"
   },
   {
    "duration": 27042,
    "start_time": "2022-02-27T16:39:21.160Z"
   },
   {
    "duration": 3,
    "start_time": "2022-02-27T16:40:06.489Z"
   },
   {
    "duration": 290,
    "start_time": "2022-02-27T16:40:06.494Z"
   },
   {
    "duration": 3,
    "start_time": "2022-02-27T16:40:06.785Z"
   },
   {
    "duration": 571,
    "start_time": "2022-02-27T16:40:06.790Z"
   },
   {
    "duration": 7079,
    "start_time": "2022-02-27T16:40:07.363Z"
   },
   {
    "duration": 7,
    "start_time": "2022-02-27T16:40:14.444Z"
   },
   {
    "duration": 2125,
    "start_time": "2022-02-27T16:40:14.452Z"
   },
   {
    "duration": 2,
    "start_time": "2022-02-27T16:40:16.579Z"
   },
   {
    "duration": 1948,
    "start_time": "2022-02-27T16:40:16.583Z"
   },
   {
    "duration": 63,
    "start_time": "2022-02-27T16:40:18.533Z"
   },
   {
    "duration": 1986,
    "start_time": "2022-02-27T16:40:18.598Z"
   },
   {
    "duration": 36,
    "start_time": "2022-02-27T16:40:20.586Z"
   },
   {
    "duration": 44,
    "start_time": "2022-02-27T16:40:20.624Z"
   },
   {
    "duration": 1313,
    "start_time": "2022-02-27T16:40:20.670Z"
   },
   {
    "duration": 538,
    "start_time": "2022-02-27T16:40:21.985Z"
   },
   {
    "duration": 6538,
    "start_time": "2022-02-27T16:40:22.525Z"
   },
   {
    "duration": 24547,
    "start_time": "2022-02-27T16:40:29.065Z"
   },
   {
    "duration": 17286,
    "start_time": "2022-02-27T16:40:53.614Z"
   },
   {
    "duration": 3,
    "start_time": "2022-02-27T16:41:10.903Z"
   },
   {
    "duration": 8,
    "start_time": "2022-02-27T16:41:10.908Z"
   },
   {
    "duration": 4,
    "start_time": "2022-02-27T16:41:10.918Z"
   },
   {
    "duration": 4,
    "start_time": "2022-02-27T16:46:08.926Z"
   },
   {
    "duration": 215,
    "start_time": "2022-02-27T16:46:08.932Z"
   },
   {
    "duration": 3,
    "start_time": "2022-02-27T16:46:09.160Z"
   },
   {
    "duration": 442,
    "start_time": "2022-02-27T16:46:09.165Z"
   },
   {
    "duration": 6097,
    "start_time": "2022-02-27T16:46:09.608Z"
   },
   {
    "duration": 6,
    "start_time": "2022-02-27T16:46:15.707Z"
   },
   {
    "duration": 2163,
    "start_time": "2022-02-27T16:46:15.715Z"
   },
   {
    "duration": 3,
    "start_time": "2022-02-27T16:46:17.879Z"
   },
   {
    "duration": 1711,
    "start_time": "2022-02-27T16:46:17.887Z"
   },
   {
    "duration": 92,
    "start_time": "2022-02-27T16:46:19.601Z"
   },
   {
    "duration": 1925,
    "start_time": "2022-02-27T16:46:19.694Z"
   },
   {
    "duration": 49,
    "start_time": "2022-02-27T16:46:21.621Z"
   },
   {
    "duration": 15,
    "start_time": "2022-02-27T16:46:21.671Z"
   },
   {
    "duration": 1329,
    "start_time": "2022-02-27T16:46:21.687Z"
   },
   {
    "duration": 568,
    "start_time": "2022-02-27T16:46:23.018Z"
   },
   {
    "duration": 5944,
    "start_time": "2022-02-27T16:46:23.587Z"
   },
   {
    "duration": 23486,
    "start_time": "2022-02-27T16:46:29.533Z"
   },
   {
    "duration": 17980,
    "start_time": "2022-02-27T16:46:53.021Z"
   },
   {
    "duration": 3,
    "start_time": "2022-02-27T16:47:11.003Z"
   },
   {
    "duration": 6,
    "start_time": "2022-02-27T16:47:11.008Z"
   },
   {
    "duration": 4,
    "start_time": "2022-02-27T16:47:11.016Z"
   },
   {
    "duration": 4,
    "start_time": "2022-02-27T16:47:27.299Z"
   },
   {
    "duration": 186,
    "start_time": "2022-02-27T16:47:27.305Z"
   },
   {
    "duration": 3,
    "start_time": "2022-02-27T16:47:27.493Z"
   },
   {
    "duration": 447,
    "start_time": "2022-02-27T16:47:27.498Z"
   },
   {
    "duration": 3,
    "start_time": "2022-02-27T16:47:27.947Z"
   },
   {
    "duration": 7,
    "start_time": "2022-02-27T16:47:27.952Z"
   },
   {
    "duration": 2243,
    "start_time": "2022-02-27T16:47:27.961Z"
   },
   {
    "duration": 3,
    "start_time": "2022-02-27T16:47:30.206Z"
   },
   {
    "duration": 1611,
    "start_time": "2022-02-27T16:47:30.259Z"
   },
   {
    "duration": 14,
    "start_time": "2022-02-27T16:47:31.871Z"
   },
   {
    "duration": 1761,
    "start_time": "2022-02-27T16:47:31.887Z"
   },
   {
    "duration": 40,
    "start_time": "2022-02-27T16:47:33.650Z"
   },
   {
    "duration": 14,
    "start_time": "2022-02-27T16:47:33.691Z"
   },
   {
    "duration": 1197,
    "start_time": "2022-02-27T16:47:33.707Z"
   },
   {
    "duration": 486,
    "start_time": "2022-02-27T16:47:34.906Z"
   },
   {
    "duration": 5985,
    "start_time": "2022-02-27T16:47:35.393Z"
   },
   {
    "duration": 23610,
    "start_time": "2022-02-27T16:47:41.380Z"
   },
   {
    "duration": 16430,
    "start_time": "2022-02-27T16:48:04.992Z"
   },
   {
    "duration": 35,
    "start_time": "2022-02-27T16:48:21.424Z"
   },
   {
    "duration": 7,
    "start_time": "2022-02-27T16:48:21.461Z"
   },
   {
    "duration": 4,
    "start_time": "2022-02-27T16:48:21.470Z"
   },
   {
    "duration": 798,
    "start_time": "2022-02-28T11:24:45.179Z"
   },
   {
    "duration": 18838,
    "start_time": "2022-02-28T11:24:45.979Z"
   },
   {
    "duration": 16,
    "start_time": "2022-02-28T11:25:04.819Z"
   },
   {
    "duration": 3404,
    "start_time": "2022-02-28T11:25:04.836Z"
   },
   {
    "duration": 7,
    "start_time": "2022-02-28T11:25:08.241Z"
   },
   {
    "duration": 10,
    "start_time": "2022-02-28T11:25:08.250Z"
   },
   {
    "duration": 8667,
    "start_time": "2022-02-28T11:25:08.262Z"
   },
   {
    "duration": 2,
    "start_time": "2022-02-28T11:25:16.932Z"
   },
   {
    "duration": 5803,
    "start_time": "2022-02-28T11:25:16.936Z"
   },
   {
    "duration": 166,
    "start_time": "2022-02-28T11:25:22.741Z"
   },
   {
    "duration": 3787,
    "start_time": "2022-02-28T11:25:22.909Z"
   },
   {
    "duration": 231,
    "start_time": "2022-02-28T11:25:26.697Z"
   },
   {
    "duration": 28,
    "start_time": "2022-02-28T11:25:27.005Z"
   },
   {
    "duration": 3579,
    "start_time": "2022-02-28T11:25:27.035Z"
   },
   {
    "duration": 1308,
    "start_time": "2022-02-28T11:25:30.615Z"
   },
   {
    "duration": 12220,
    "start_time": "2022-02-28T11:25:31.925Z"
   },
   {
    "duration": 34781,
    "start_time": "2022-02-28T11:25:44.147Z"
   },
   {
    "duration": 413,
    "start_time": "2022-02-28T11:28:01.724Z"
   },
   {
    "duration": 461,
    "start_time": "2022-02-28T11:28:22.781Z"
   },
   {
    "duration": 306,
    "start_time": "2022-02-28T11:30:16.318Z"
   },
   {
    "duration": 320,
    "start_time": "2022-02-28T11:31:15.426Z"
   },
   {
    "duration": 314,
    "start_time": "2022-02-28T11:31:20.028Z"
   },
   {
    "duration": 338,
    "start_time": "2022-02-28T11:31:43.246Z"
   },
   {
    "duration": 371,
    "start_time": "2022-02-28T11:32:27.077Z"
   },
   {
    "duration": 325,
    "start_time": "2022-02-28T11:32:33.798Z"
   },
   {
    "duration": 4558,
    "start_time": "2022-02-28T11:32:40.064Z"
   },
   {
    "duration": 495,
    "start_time": "2022-02-28T11:33:38.884Z"
   },
   {
    "duration": 5467,
    "start_time": "2022-02-28T11:33:53.285Z"
   },
   {
    "duration": 1122,
    "start_time": "2022-02-28T13:13:10.343Z"
   },
   {
    "duration": 29306,
    "start_time": "2022-02-28T13:13:11.471Z"
   },
   {
    "duration": 104,
    "start_time": "2022-02-28T13:13:40.781Z"
   },
   {
    "duration": 5801,
    "start_time": "2022-02-28T13:13:40.889Z"
   },
   {
    "duration": 68,
    "start_time": "2022-02-28T13:13:46.693Z"
   },
   {
    "duration": 16,
    "start_time": "2022-02-28T13:13:46.763Z"
   },
   {
    "duration": 12170,
    "start_time": "2022-02-28T13:13:46.781Z"
   },
   {
    "duration": 4,
    "start_time": "2022-02-28T13:13:58.954Z"
   },
   {
    "duration": 8689,
    "start_time": "2022-02-28T13:13:58.963Z"
   },
   {
    "duration": 216,
    "start_time": "2022-02-28T13:14:07.654Z"
   },
   {
    "duration": 7331,
    "start_time": "2022-02-28T13:14:07.873Z"
   },
   {
    "duration": 170,
    "start_time": "2022-02-28T13:14:15.206Z"
   },
   {
    "duration": 91,
    "start_time": "2022-02-28T13:14:15.379Z"
   },
   {
    "duration": 5279,
    "start_time": "2022-02-28T13:14:15.473Z"
   },
   {
    "duration": 1800,
    "start_time": "2022-02-28T13:14:20.754Z"
   },
   {
    "duration": 18430,
    "start_time": "2022-02-28T13:14:22.556Z"
   },
   {
    "duration": 53871,
    "start_time": "2022-02-28T13:14:40.989Z"
   },
   {
    "duration": 34790,
    "start_time": "2022-02-28T13:15:34.863Z"
   },
   {
    "duration": 6,
    "start_time": "2022-02-28T13:16:09.656Z"
   },
   {
    "duration": 86,
    "start_time": "2022-02-28T13:16:09.665Z"
   },
   {
    "duration": 5,
    "start_time": "2022-02-28T13:16:09.754Z"
   },
   {
    "duration": 6,
    "start_time": "2022-02-28T13:30:27.900Z"
   },
   {
    "duration": 656,
    "start_time": "2022-02-28T13:30:27.908Z"
   },
   {
    "duration": 6,
    "start_time": "2022-02-28T13:30:28.567Z"
   },
   {
    "duration": 2490,
    "start_time": "2022-02-28T13:30:28.576Z"
   },
   {
    "duration": 6,
    "start_time": "2022-02-28T13:30:31.069Z"
   },
   {
    "duration": 15,
    "start_time": "2022-02-28T13:30:31.078Z"
   },
   {
    "duration": 4775,
    "start_time": "2022-02-28T13:30:31.096Z"
   },
   {
    "duration": 5,
    "start_time": "2022-02-28T13:30:35.874Z"
   },
   {
    "duration": 4082,
    "start_time": "2022-02-28T13:30:35.882Z"
   },
   {
    "duration": 20,
    "start_time": "2022-02-28T13:30:39.967Z"
   },
   {
    "duration": 3486,
    "start_time": "2022-02-28T13:30:39.989Z"
   },
   {
    "duration": 99,
    "start_time": "2022-02-28T13:30:43.477Z"
   },
   {
    "duration": 86,
    "start_time": "2022-02-28T13:30:43.578Z"
   },
   {
    "duration": 2208,
    "start_time": "2022-02-28T13:30:43.666Z"
   },
   {
    "duration": 1309,
    "start_time": "2022-02-28T13:30:45.876Z"
   },
   {
    "duration": 10590,
    "start_time": "2022-02-28T13:30:47.187Z"
   },
   {
    "duration": 37615,
    "start_time": "2022-02-28T13:30:57.780Z"
   },
   {
    "duration": 25281,
    "start_time": "2022-02-28T13:31:35.397Z"
   },
   {
    "duration": 6,
    "start_time": "2022-02-28T13:32:00.681Z"
   },
   {
    "duration": 66,
    "start_time": "2022-02-28T13:32:00.689Z"
   },
   {
    "duration": 6,
    "start_time": "2022-02-28T13:32:00.758Z"
   },
   {
    "duration": 5,
    "start_time": "2022-02-28T14:07:30.305Z"
   },
   {
    "duration": 6,
    "start_time": "2022-02-28T14:27:10.408Z"
   },
   {
    "duration": 426,
    "start_time": "2022-02-28T14:27:10.417Z"
   },
   {
    "duration": 5,
    "start_time": "2022-02-28T14:27:10.846Z"
   },
   {
    "duration": 1243,
    "start_time": "2022-02-28T14:27:10.854Z"
   },
   {
    "duration": 4,
    "start_time": "2022-02-28T14:27:12.100Z"
   },
   {
    "duration": 52,
    "start_time": "2022-02-28T14:27:12.106Z"
   },
   {
    "duration": 3415,
    "start_time": "2022-02-28T14:27:12.160Z"
   },
   {
    "duration": 4,
    "start_time": "2022-02-28T14:27:15.579Z"
   },
   {
    "duration": 3225,
    "start_time": "2022-02-28T14:27:15.652Z"
   },
   {
    "duration": 22,
    "start_time": "2022-02-28T14:27:18.879Z"
   },
   {
    "duration": 2730,
    "start_time": "2022-02-28T14:27:18.903Z"
   },
   {
    "duration": 62,
    "start_time": "2022-02-28T14:27:21.635Z"
   },
   {
    "duration": 25,
    "start_time": "2022-02-28T14:27:21.751Z"
   },
   {
    "duration": 2314,
    "start_time": "2022-02-28T14:27:21.779Z"
   },
   {
    "duration": 961,
    "start_time": "2022-02-28T14:27:24.095Z"
   },
   {
    "duration": 8297,
    "start_time": "2022-02-28T14:27:25.059Z"
   },
   {
    "duration": 34015,
    "start_time": "2022-02-28T14:27:33.359Z"
   },
   {
    "duration": 22979,
    "start_time": "2022-02-28T14:28:07.377Z"
   },
   {
    "duration": 20,
    "start_time": "2022-02-28T14:28:30.358Z"
   },
   {
    "duration": 10,
    "start_time": "2022-02-28T14:28:30.380Z"
   },
   {
    "duration": 7,
    "start_time": "2022-02-28T14:28:30.392Z"
   }
  ],
  "colab": {
   "name": "PySparkSprint.ipynb",
   "provenance": []
  },
  "kernelspec": {
   "display_name": "Python 3",
   "language": "python",
   "name": "python3"
  },
  "language_info": {
   "codemirror_mode": {
    "name": "ipython",
    "version": 3
   },
   "file_extension": ".py",
   "mimetype": "text/x-python",
   "name": "python",
   "nbconvert_exporter": "python",
   "pygments_lexer": "ipython3",
   "version": "3.10.0 (tags/v3.10.0:b494f59, Oct  4 2021, 19:00:18) [MSC v.1929 64 bit (AMD64)]"
  },
  "toc": {
   "base_numbering": 1,
   "nav_menu": {},
   "number_sections": true,
   "sideBar": true,
   "skip_h1_title": true,
   "title_cell": "Table of Contents",
   "title_sidebar": "Contents",
   "toc_cell": false,
   "toc_position": {},
   "toc_section_display": true,
   "toc_window_display": false
  },
  "vscode": {
   "interpreter": {
    "hash": "d488093d919f573c925b0a84f2a24fea75905f9dd1b6664dfb65159487c96672"
   }
  }
 },
 "nbformat": 4,
 "nbformat_minor": 5
}

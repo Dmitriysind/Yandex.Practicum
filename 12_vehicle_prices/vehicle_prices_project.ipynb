{
 "cells": [
  {
   "attachments": {},
   "cell_type": "markdown",
   "metadata": {},
   "source": [
    " <h1><center>Моделирование стоимости автомобилей</center></h1>"
   ]
  },
  {
   "attachments": {},
   "cell_type": "markdown",
   "metadata": {},
   "source": [
    "## Введение"
   ]
  },
  {
   "cell_type": "markdown",
   "metadata": {},
   "source": [
    "Сервис по продаже автомобилей с пробегом «Не бит, не крашен» разрабатывает приложение для привлечения новых клиентов. В нём можно быстро узнать рыночную стоимость своего автомобиля. В нашем распоряжении исторические данные: технические характеристики, комплектации и цены автомобилей. Нам нужно построить модель для определения стоимости. "
   ]
  },
  {
   "cell_type": "markdown",
   "metadata": {},
   "source": [
    "Признаки\n",
    "\n",
    "    DateCrawled — дата скачивания анкеты из базы\n",
    "    VehicleType — тип автомобильного кузова\n",
    "    RegistrationYear — год регистрации автомобиля\n",
    "    Gearbox — тип коробки передач\n",
    "    Power — мощность (л. с.)\n",
    "    Model — модель автомобиля\n",
    "    Kilometer — пробег (км)\n",
    "    RegistrationMonth — месяц регистрации автомобиля\n",
    "    FuelType — тип топлива\n",
    "    Brand — марка автомобиля\n",
    "    NotRepaired — была машина в ремонте или нет\n",
    "    DateCreated — дата создания анкеты\n",
    "    NumberOfPictures — количество фотографий автомобиля\n",
    "    PostalCode — почтовый индекс владельца анкеты (пользователя)\n",
    "    LastSeen — дата последней активности пользователя\n",
    "\n",
    "Целевой признак \n",
    "\n",
    "    Price — цена (евро)"
   ]
  },
  {
   "cell_type": "markdown",
   "metadata": {},
   "source": [
    "Алгорит работы:\n",
    "\n",
    "1. Загрузим и ознакомимся с данными\n",
    "2. Сделаем предобработку данных\n",
    "3. Построим несколько моделей и протестируем их на метрике RMSE\n",
    "4. Общий вывод"
   ]
  },
  {
   "cell_type": "markdown",
   "metadata": {},
   "source": [
    "## 1. Обзор данных"
   ]
  },
  {
   "cell_type": "code",
   "execution_count": 1,
   "metadata": {},
   "outputs": [
    {
     "name": "stdout",
     "output_type": "stream",
     "text": [
      "<class 'pandas.core.frame.DataFrame'>\n",
      "RangeIndex: 354369 entries, 0 to 354368\n",
      "Data columns (total 16 columns):\n",
      " #   Column             Non-Null Count   Dtype \n",
      "---  ------             --------------   ----- \n",
      " 0   DateCrawled        354369 non-null  object\n",
      " 1   Price              354369 non-null  int64 \n",
      " 2   VehicleType        316879 non-null  object\n",
      " 3   RegistrationYear   354369 non-null  int64 \n",
      " 4   Gearbox            334536 non-null  object\n",
      " 5   Power              354369 non-null  int64 \n",
      " 6   Model              334664 non-null  object\n",
      " 7   Kilometer          354369 non-null  int64 \n",
      " 8   RegistrationMonth  354369 non-null  int64 \n",
      " 9   FuelType           321474 non-null  object\n",
      " 10  Brand              354369 non-null  object\n",
      " 11  Repaired           283215 non-null  object\n",
      " 12  DateCreated        354369 non-null  object\n",
      " 13  NumberOfPictures   354369 non-null  int64 \n",
      " 14  PostalCode         354369 non-null  int64 \n",
      " 15  LastSeen           354369 non-null  object\n",
      "dtypes: int64(7), object(9)\n",
      "memory usage: 43.3+ MB\n"
     ]
    }
   ],
   "source": [
    "import urllib.request\n",
    "import pandas as pd\n",
    "import time\n",
    "\n",
    "from os import path\n",
    "from pathlib import Path\n",
    "\n",
    "from sklearn.preprocessing import MinMaxScaler\n",
    "from sklearn.preprocessing import OrdinalEncoder\n",
    "from sklearn.model_selection import train_test_split\n",
    "from sklearn.model_selection import GridSearchCV\n",
    "from sklearn.pipeline import Pipeline\n",
    "from sklearn.tree import DecisionTreeRegressor\n",
    "from sklearn.ensemble import RandomForestRegressor\n",
    "from sklearn.linear_model import LinearRegression\n",
    "from sklearn.metrics import mean_squared_error\n",
    "from sklearn.model_selection import cross_val_score\n",
    "from sklearn.compose import ColumnTransformer\n",
    "from sklearn.preprocessing import OneHotEncoder\n",
    "from sklearn.decomposition import PCA\n",
    "from sklearn.decomposition import TruncatedSVD\n",
    "\n",
    "from lightgbm import LGBMRegressor\n",
    "\n",
    "import warnings\n",
    "warnings.simplefilter(action='ignore', category=FutureWarning)\n",
    "\n",
    "YANDEX_DATASETS_PATH = 'https://code.s3.yandex.net/datasets/'\n",
    "dataset_folder = 'datasets'\n",
    "dataset_name = 'autos.csv'\n",
    "#download dataset if not existed\n",
    "if not path.exists(dataset_folder + '/' + dataset_name):\n",
    "    #create dir if not existed\n",
    "    Path(dataset_folder).mkdir(parents=True, exist_ok=True)\n",
    "\n",
    "    #download dataset\n",
    "    urllib.request.urlretrieve(YANDEX_DATASETS_PATH + dataset_name,\n",
    "                               dataset_folder+'/'+ dataset_name)\n",
    "\n",
    "df = pd.read_csv(dataset_folder +'/'+ dataset_name)\n",
    "df.info()"
   ]
  },
  {
   "cell_type": "markdown",
   "metadata": {},
   "source": [
    "Вывод: в данных много ненужных нам признаком, а также имеются пропуски - сделаем предобработку"
   ]
  },
  {
   "cell_type": "markdown",
   "metadata": {},
   "source": [
    "## 2. Предобработка данных"
   ]
  },
  {
   "cell_type": "markdown",
   "metadata": {},
   "source": [
    "Дата создания, скачивания анкеты, дата последнего посещение пользователя, кол-во фотографий, почтовый индекс: скорее всего не являются признаками, определяющими стоимость автомобиля - удалим их"
   ]
  },
  {
   "cell_type": "code",
   "execution_count": 2,
   "metadata": {},
   "outputs": [],
   "source": [
    "df.drop(columns={'DateCrawled', 'DateCreated', 'LastSeen', 'NumberOfPictures', 'PostalCode'}, axis=1, inplace=True)"
   ]
  },
  {
   "cell_type": "markdown",
   "metadata": {},
   "source": [
    "Проверим"
   ]
  },
  {
   "cell_type": "code",
   "execution_count": 3,
   "metadata": {},
   "outputs": [
    {
     "name": "stdout",
     "output_type": "stream",
     "text": [
      "<class 'pandas.core.frame.DataFrame'>\n",
      "RangeIndex: 354369 entries, 0 to 354368\n",
      "Data columns (total 11 columns):\n",
      " #   Column             Non-Null Count   Dtype \n",
      "---  ------             --------------   ----- \n",
      " 0   Price              354369 non-null  int64 \n",
      " 1   VehicleType        316879 non-null  object\n",
      " 2   RegistrationYear   354369 non-null  int64 \n",
      " 3   Gearbox            334536 non-null  object\n",
      " 4   Power              354369 non-null  int64 \n",
      " 5   Model              334664 non-null  object\n",
      " 6   Kilometer          354369 non-null  int64 \n",
      " 7   RegistrationMonth  354369 non-null  int64 \n",
      " 8   FuelType           321474 non-null  object\n",
      " 9   Brand              354369 non-null  object\n",
      " 10  Repaired           283215 non-null  object\n",
      "dtypes: int64(5), object(6)\n",
      "memory usage: 29.7+ MB\n"
     ]
    }
   ],
   "source": [
    "df.info()"
   ]
  },
  {
   "cell_type": "markdown",
   "metadata": {},
   "source": [
    "Поменяем названия колонок на общепринятый тип"
   ]
  },
  {
   "cell_type": "code",
   "execution_count": 37,
   "metadata": {},
   "outputs": [],
   "source": [
    "df.rename(columns={ 'Price': 'price', 'VehicleType': 'vehicle_type', 'RegistrationYear':'registration_year',\n",
    "                    'Gearbox':'gearbox', 'Power':'power', 'Model':'model', 'Kilometer':'kilometer',\n",
    "                    'RegistrationMonth':'registration_month',  'FuelType':'fuel_type', 'Brand':'brand',\n",
    "                    'Repaired':'reparied', 'NumberOfPictures':'number_pictures',\n",
    "                    'PostalCode':'postal_code'}, inplace=True)"
   ]
  },
  {
   "cell_type": "code",
   "execution_count": 5,
   "metadata": {},
   "outputs": [
    {
     "name": "stdout",
     "output_type": "stream",
     "text": [
      "<class 'pandas.core.frame.DataFrame'>\n",
      "RangeIndex: 354369 entries, 0 to 354368\n",
      "Data columns (total 11 columns):\n",
      " #   Column              Non-Null Count   Dtype \n",
      "---  ------              --------------   ----- \n",
      " 0   price               354369 non-null  int64 \n",
      " 1   vehicle_type        316879 non-null  object\n",
      " 2   registration_year   354369 non-null  int64 \n",
      " 3   gearbox             334536 non-null  object\n",
      " 4   power               354369 non-null  int64 \n",
      " 5   model               334664 non-null  object\n",
      " 6   kilometer           354369 non-null  int64 \n",
      " 7   registration_month  354369 non-null  int64 \n",
      " 8   fuel_type           321474 non-null  object\n",
      " 9   brand               354369 non-null  object\n",
      " 10  Repaired            283215 non-null  object\n",
      "dtypes: int64(5), object(6)\n",
      "memory usage: 29.7+ MB\n"
     ]
    }
   ],
   "source": [
    "df.info()"
   ]
  },
  {
   "cell_type": "markdown",
   "metadata": {},
   "source": [
    "Рассмотрим таргет"
   ]
  },
  {
   "cell_type": "code",
   "execution_count": 6,
   "metadata": {},
   "outputs": [
    {
     "data": {
      "text/plain": [
       "<AxesSubplot:>"
      ]
     },
     "execution_count": 6,
     "metadata": {},
     "output_type": "execute_result"
    },
    {
     "data": {
      "image/png": "[encoded data removed]",
      "text/plain": [
       "<Figure size 432x288 with 1 Axes>"
      ]
     },
     "metadata": {
      "needs_background": "light"
     },
     "output_type": "display_data"
    }
   ],
   "source": [
    "df['price'].hist()\n"
   ]
  },
  {
   "cell_type": "code",
   "execution_count": 7,
   "metadata": {},
   "outputs": [
    {
     "data": {
      "text/plain": [
       "count    354369.000000\n",
       "mean       4416.656776\n",
       "std        4514.158514\n",
       "min           0.000000\n",
       "25%        1050.000000\n",
       "50%        2700.000000\n",
       "75%        6400.000000\n",
       "max       20000.000000\n",
       "Name: price, dtype: float64"
      ]
     },
     "execution_count": 7,
     "metadata": {},
     "output_type": "execute_result"
    }
   ],
   "source": [
    "df['price'].describe()"
   ]
  },
  {
   "cell_type": "code",
   "execution_count": 8,
   "metadata": {},
   "outputs": [
    {
     "data": {
      "text/plain": [
       "<AxesSubplot:>"
      ]
     },
     "execution_count": 8,
     "metadata": {},
     "output_type": "execute_result"
    },
    {
     "data": {
      "image/png": "[encoded data removed]",
      "text/plain": [
       "<Figure size 432x288 with 1 Axes>"
      ]
     },
     "metadata": {
      "needs_background": "light"
     },
     "output_type": "display_data"
    }
   ],
   "source": [
    "df[df['price'] <= 1050]['price'].hist(bins=50)"
   ]
  },
  {
   "cell_type": "code",
   "execution_count": 9,
   "metadata": {},
   "outputs": [
    {
     "data": {
      "text/plain": [
       "<AxesSubplot:>"
      ]
     },
     "execution_count": 9,
     "metadata": {},
     "output_type": "execute_result"
    },
    {
     "data": {
      "image/png": "[encoded data removed]",
      "text/plain": [
       "<Figure size 432x288 with 1 Axes>"
      ]
     },
     "metadata": {
      "needs_background": "light"
     },
     "output_type": "display_data"
    }
   ],
   "source": [
    "df[df['price'] > 19000]['price'].hist(bins=50)"
   ]
  },
  {
   "cell_type": "markdown",
   "metadata": {},
   "source": [
    "Есть цены, равные 0, есть цены, упирающиеся в крайние предельное значение 20000. Будем считать их за выборосы и удалим"
   ]
  },
  {
   "cell_type": "code",
   "execution_count": 10,
   "metadata": {},
   "outputs": [],
   "source": [
    "df = df.loc[(df['price'] >= 500) & (df['price'] < 19500)]"
   ]
  },
  {
   "cell_type": "code",
   "execution_count": 11,
   "metadata": {},
   "outputs": [
    {
     "data": {
      "text/plain": [
       "count    316255.000000\n",
       "mean       4797.835443\n",
       "std        4370.843365\n",
       "min         500.000000\n",
       "25%        1499.000000\n",
       "50%        3200.000000\n",
       "75%        6900.000000\n",
       "max       19499.000000\n",
       "Name: price, dtype: float64"
      ]
     },
     "execution_count": 11,
     "metadata": {},
     "output_type": "execute_result"
    }
   ],
   "source": [
    "df['price'].describe()"
   ]
  },
  {
   "cell_type": "markdown",
   "metadata": {},
   "source": [
    "Рассмотрим год регистрации"
   ]
  },
  {
   "cell_type": "code",
   "execution_count": 12,
   "metadata": {},
   "outputs": [
    {
     "data": {
      "text/plain": [
       "<AxesSubplot:>"
      ]
     },
     "execution_count": 12,
     "metadata": {},
     "output_type": "execute_result"
    },
    {
     "data": {
      "image/png": "[encoded data removed]",
      "text/plain": [
       "<Figure size 432x288 with 1 Axes>"
      ]
     },
     "metadata": {
      "needs_background": "light"
     },
     "output_type": "display_data"
    }
   ],
   "source": [
    "df['registration_year'].hist(bins=50)"
   ]
  },
  {
   "cell_type": "code",
   "execution_count": 13,
   "metadata": {},
   "outputs": [
    {
     "data": {
      "text/plain": [
       "count    316255.000000\n",
       "mean       2004.125902\n",
       "std          65.199056\n",
       "min        1000.000000\n",
       "25%        1999.000000\n",
       "50%        2004.000000\n",
       "75%        2008.000000\n",
       "max        9999.000000\n",
       "Name: registration_year, dtype: float64"
      ]
     },
     "execution_count": 13,
     "metadata": {},
     "output_type": "execute_result"
    }
   ],
   "source": [
    "df['registration_year'].describe()"
   ]
  },
  {
   "cell_type": "code",
   "execution_count": 14,
   "metadata": {},
   "outputs": [
    {
     "data": {
      "text/plain": [
       "<AxesSubplot:>"
      ]
     },
     "execution_count": 14,
     "metadata": {},
     "output_type": "execute_result"
    },
    {
     "data": {
      "image/png": "[encoded data removed]",
      "text/plain": [
       "<Figure size 432x288 with 1 Axes>"
      ]
     },
     "metadata": {
      "needs_background": "light"
     },
     "output_type": "display_data"
    }
   ],
   "source": [
    "df[df['registration_year'] > 2018]['registration_year'].hist(bins=100)"
   ]
  },
  {
   "cell_type": "code",
   "execution_count": 15,
   "metadata": {},
   "outputs": [
    {
     "data": {
      "text/plain": [
       "<AxesSubplot:>"
      ]
     },
     "execution_count": 15,
     "metadata": {},
     "output_type": "execute_result"
    },
    {
     "data": {
      "image/png": "[encoded data removed]",
      "text/plain": [
       "<Figure size 432x288 with 1 Axes>"
      ]
     },
     "metadata": {
      "needs_background": "light"
     },
     "output_type": "display_data"
    }
   ],
   "source": [
    "df.loc[(df['registration_year'] < 2000) & (df['registration_year'] > 1950)]['registration_year'].hist(bins=100)"
   ]
  },
  {
   "cell_type": "markdown",
   "metadata": {},
   "source": [
    "Удалим автомобили с неправильным годом регистрацией, а также датой старше 1960 года. Будем считать их раритетными"
   ]
  },
  {
   "cell_type": "code",
   "execution_count": 16,
   "metadata": {},
   "outputs": [],
   "source": [
    "df = df.loc[(df['registration_year'] <= 2018) & (df['registration_year'] >= 1960)]"
   ]
  },
  {
   "cell_type": "markdown",
   "metadata": {},
   "source": [
    "Рассмотрим количественные признаки"
   ]
  },
  {
   "cell_type": "code",
   "execution_count": 17,
   "metadata": {},
   "outputs": [
    {
     "data": {
      "text/plain": [
       "<AxesSubplot:>"
      ]
     },
     "execution_count": 17,
     "metadata": {},
     "output_type": "execute_result"
    },
    {
     "data": {
      "image/png": "[encoded data removed]",
      "text/plain": [
       "<Figure size 432x288 with 1 Axes>"
      ]
     },
     "metadata": {
      "needs_background": "light"
     },
     "output_type": "display_data"
    }
   ],
   "source": [
    "df['kilometer'].hist()"
   ]
  },
  {
   "cell_type": "code",
   "execution_count": 18,
   "metadata": {},
   "outputs": [
    {
     "data": {
      "text/plain": [
       "<AxesSubplot:>"
      ]
     },
     "execution_count": 18,
     "metadata": {},
     "output_type": "execute_result"
    },
    {
     "data": {
      "image/png": "[encoded data removed]",
      "text/plain": [
       "<Figure size 432x288 with 1 Axes>"
      ]
     },
     "metadata": {
      "needs_background": "light"
     },
     "output_type": "display_data"
    }
   ],
   "source": [
    "df['power'].hist()"
   ]
  },
  {
   "cell_type": "code",
   "execution_count": 19,
   "metadata": {},
   "outputs": [
    {
     "data": {
      "text/plain": [
       "<AxesSubplot:>"
      ]
     },
     "execution_count": 19,
     "metadata": {},
     "output_type": "execute_result"
    },
    {
     "data": {
      "image/png": "[encoded data removed]",
      "text/plain": [
       "<Figure size 432x288 with 1 Axes>"
      ]
     },
     "metadata": {
      "needs_background": "light"
     },
     "output_type": "display_data"
    }
   ],
   "source": [
    "df[df['power'] < 2500]['power'].hist(bins=50)"
   ]
  },
  {
   "cell_type": "code",
   "execution_count": 20,
   "metadata": {},
   "outputs": [
    {
     "data": {
      "text/plain": [
       "<AxesSubplot:>"
      ]
     },
     "execution_count": 20,
     "metadata": {},
     "output_type": "execute_result"
    },
    {
     "data": {
      "image/png": "[encoded data removed]",
      "text/plain": [
       "<Figure size 432x288 with 1 Axes>"
      ]
     },
     "metadata": {
      "needs_background": "light"
     },
     "output_type": "display_data"
    }
   ],
   "source": [
    "df[df['power'] < 100]['power'].hist(bins=50)"
   ]
  },
  {
   "cell_type": "markdown",
   "metadata": {},
   "source": [
    "Удалим машины с мощностью ниже 60 и выше 400 лс"
   ]
  },
  {
   "cell_type": "code",
   "execution_count": 21,
   "metadata": {},
   "outputs": [],
   "source": [
    "df = df[(df['power'] > 60) & ((df['power'] < 400))]"
   ]
  },
  {
   "cell_type": "markdown",
   "metadata": {},
   "source": [
    "Рассмотрим категориальные признаки"
   ]
  },
  {
   "cell_type": "code",
   "execution_count": 22,
   "metadata": {},
   "outputs": [
    {
     "data": {
      "text/plain": [
       "array(['coupe', 'suv', 'small', 'sedan', 'convertible', 'bus', 'wagon',\n",
       "       nan, 'other'], dtype=object)"
      ]
     },
     "execution_count": 22,
     "metadata": {},
     "output_type": "execute_result"
    }
   ],
   "source": [
    "df['vehicle_type'].unique()"
   ]
  },
  {
   "cell_type": "code",
   "execution_count": 23,
   "metadata": {},
   "outputs": [
    {
     "data": {
      "text/plain": [
       "<AxesSubplot:>"
      ]
     },
     "execution_count": 23,
     "metadata": {},
     "output_type": "execute_result"
    },
    {
     "data": {
      "image/png": "[encoded data removed]",
      "text/plain": [
       "<Figure size 432x288 with 1 Axes>"
      ]
     },
     "metadata": {
      "needs_background": "light"
     },
     "output_type": "display_data"
    }
   ],
   "source": [
    "df['vehicle_type'].hist()"
   ]
  },
  {
   "cell_type": "markdown",
   "metadata": {},
   "source": [
    "Заполним пропуски переменной \"other\""
   ]
  },
  {
   "cell_type": "code",
   "execution_count": 24,
   "metadata": {},
   "outputs": [],
   "source": [
    "df['vehicle_type'].fillna('other', inplace=True)"
   ]
  },
  {
   "cell_type": "code",
   "execution_count": 25,
   "metadata": {},
   "outputs": [
    {
     "data": {
      "text/plain": [
       "array(['manual', 'auto', nan], dtype=object)"
      ]
     },
     "execution_count": 25,
     "metadata": {},
     "output_type": "execute_result"
    }
   ],
   "source": [
    "df['gearbox'].unique()"
   ]
  },
  {
   "cell_type": "code",
   "execution_count": 26,
   "metadata": {},
   "outputs": [
    {
     "data": {
      "text/plain": [
       "4031"
      ]
     },
     "execution_count": 26,
     "metadata": {},
     "output_type": "execute_result"
    }
   ],
   "source": [
    "df['gearbox'].isna().sum()"
   ]
  },
  {
   "cell_type": "markdown",
   "metadata": {},
   "source": [
    "Имеющиеся признаки заполним в соотнешние 'auto' к 'manual'"
   ]
  },
  {
   "cell_type": "code",
   "execution_count": 27,
   "metadata": {},
   "outputs": [
    {
     "data": {
      "text/plain": [
       "0.2838625161201531"
      ]
     },
     "execution_count": 27,
     "metadata": {},
     "output_type": "execute_result"
    }
   ],
   "source": [
    "len(df[df['gearbox'] == 'auto']) / len(df[df['gearbox'] == 'manual'])"
   ]
  },
  {
   "cell_type": "code",
   "execution_count": null,
   "metadata": {},
   "outputs": [],
   "source": [
    "gearbox_nan_index = df[df['gearbox'].isna()].index\n",
    "\n",
    "gearbox_manual_index = gearbox_nan_index[:int(len(gearbox_nan_index)*0.7)]\n",
    "gearbox_auto_index = gearbox_nan_index[int(len(gearbox_nan_index)*0.7):]\n",
    "\n",
    "df['gearbox'].loc[gearbox_manual_index] = 'manual'\n",
    "df['gearbox'].loc[gearbox_auto_index] = 'auto'\n",
    "\n",
    "df['gearbox'].isna().sum()"
   ]
  },
  {
   "cell_type": "markdown",
   "metadata": {},
   "source": [
    "Рассмотрим признак названия модели"
   ]
  },
  {
   "cell_type": "code",
   "execution_count": 29,
   "metadata": {},
   "outputs": [
    {
     "data": {
      "text/plain": [
       "golf                  23257\n",
       "other                 18101\n",
       "3er                   17130\n",
       "a4                     8663\n",
       "passat                 8662\n",
       "                      ...  \n",
       "rangerover                3\n",
       "serie_3                   3\n",
       "range_rover_evoque        2\n",
       "samara                    2\n",
       "seicento                  2\n",
       "Name: model, Length: 247, dtype: int64"
      ]
     },
     "execution_count": 29,
     "metadata": {},
     "output_type": "execute_result"
    }
   ],
   "source": [
    "df['model'].value_counts()"
   ]
  },
  {
   "cell_type": "code",
   "execution_count": 30,
   "metadata": {},
   "outputs": [
    {
     "data": {
      "text/plain": [
       "9293"
      ]
     },
     "execution_count": 30,
     "metadata": {},
     "output_type": "execute_result"
    }
   ],
   "source": [
    "df['model'].isna().sum()"
   ]
  },
  {
   "cell_type": "markdown",
   "metadata": {},
   "source": [
    "Заполним пропуски значением 'other'"
   ]
  },
  {
   "cell_type": "code",
   "execution_count": 31,
   "metadata": {},
   "outputs": [
    {
     "data": {
      "text/plain": [
       "0"
      ]
     },
     "execution_count": 31,
     "metadata": {},
     "output_type": "execute_result"
    }
   ],
   "source": [
    "df['model'].fillna('other', inplace=True)\n",
    "df['model'].isna().sum()"
   ]
  },
  {
   "cell_type": "markdown",
   "metadata": {},
   "source": [
    "Рассмотрим признак, исспользуемого типа топлива"
   ]
  },
  {
   "cell_type": "code",
   "execution_count": 32,
   "metadata": {},
   "outputs": [
    {
     "data": {
      "text/plain": [
       "array(['gasoline', 'petrol', nan, 'lpg', 'other', 'hybrid', 'cng',\n",
       "       'electric'], dtype=object)"
      ]
     },
     "execution_count": 32,
     "metadata": {},
     "output_type": "execute_result"
    }
   ],
   "source": [
    "df['fuel_type'].unique()"
   ]
  },
  {
   "cell_type": "markdown",
   "metadata": {},
   "source": [
    "Заполним пропуски значением 'other'"
   ]
  },
  {
   "cell_type": "code",
   "execution_count": 33,
   "metadata": {},
   "outputs": [
    {
     "data": {
      "text/plain": [
       "0"
      ]
     },
     "execution_count": 33,
     "metadata": {},
     "output_type": "execute_result"
    }
   ],
   "source": [
    "df['fuel_type'].fillna('other', inplace=True)\n",
    "df['fuel_type'].isna().sum()"
   ]
  },
  {
   "cell_type": "markdown",
   "metadata": {},
   "source": [
    "Рассмотрим бинарные признак, характеризующий, была ли машина в ремонте"
   ]
  },
  {
   "cell_type": "code",
   "execution_count": 38,
   "metadata": {},
   "outputs": [
    {
     "data": {
      "text/plain": [
       "array(['yes', nan, 'no'], dtype=object)"
      ]
     },
     "execution_count": 38,
     "metadata": {},
     "output_type": "execute_result"
    }
   ],
   "source": [
    "df['reparied'].unique()"
   ]
  },
  {
   "cell_type": "code",
   "execution_count": 39,
   "metadata": {},
   "outputs": [
    {
     "data": {
      "text/plain": [
       "no     199764\n",
       "yes     21192\n",
       "Name: reparied, dtype: int64"
      ]
     },
     "execution_count": 39,
     "metadata": {},
     "output_type": "execute_result"
    }
   ],
   "source": [
    "df['reparied'].value_counts()"
   ]
  },
  {
   "cell_type": "markdown",
   "metadata": {},
   "source": [
    "По аналогии заполним пропуски в соотношение имеющихся значений"
   ]
  },
  {
   "cell_type": "code",
   "execution_count": 40,
   "metadata": {},
   "outputs": [
    {
     "data": {
      "text/plain": [
       "9.42638731596829"
      ]
     },
     "execution_count": 40,
     "metadata": {},
     "output_type": "execute_result"
    }
   ],
   "source": [
    "\n",
    "len(df[df['reparied'] == 'no']) / len(df[df['reparied'] == 'yes'])"
   ]
  },
  {
   "cell_type": "code",
   "execution_count": null,
   "metadata": {},
   "outputs": [],
   "source": [
    "rep_index = df[df['reparied'].isna()].index\n",
    "\n",
    "rep_yes_index = rep_index[:int(len(rep_index)*0.9)]\n",
    "rep_no_index = rep_index[int(len(rep_index)*0.9):]\n",
    "\n",
    "df['reparied'].loc[rep_no_index] = 'no'\n",
    "df['reparied'].loc[rep_yes_index] = 'yes'\n",
    "\n",
    "df['reparied'].isna().sum()"
   ]
  },
  {
   "cell_type": "markdown",
   "metadata": {},
   "source": [
    "Рассмотри признак месяца регистрации"
   ]
  },
  {
   "cell_type": "code",
   "execution_count": 44,
   "metadata": {},
   "outputs": [
    {
     "data": {
      "text/plain": [
       "array([ 5,  8,  6,  7, 10,  0, 12, 11,  2,  3,  1,  4,  9], dtype=int64)"
      ]
     },
     "execution_count": 44,
     "metadata": {},
     "output_type": "execute_result"
    }
   ],
   "source": [
    "df['registration_month'].unique()"
   ]
  },
  {
   "cell_type": "code",
   "execution_count": 45,
   "metadata": {},
   "outputs": [
    {
     "data": {
      "text/plain": [
       "<AxesSubplot:>"
      ]
     },
     "execution_count": 45,
     "metadata": {},
     "output_type": "execute_result"
    },
    {
     "data": {
      "image/png": "[encoded data removed]",
      "text/plain": [
       "<Figure size 432x288 with 1 Axes>"
      ]
     },
     "metadata": {
      "needs_background": "light"
     },
     "output_type": "display_data"
    }
   ],
   "source": [
    "df['registration_month'].hist()"
   ]
  },
  {
   "cell_type": "markdown",
   "metadata": {},
   "source": [
    "Удалим дупликаты"
   ]
  },
  {
   "cell_type": "code",
   "execution_count": 46,
   "metadata": {},
   "outputs": [
    {
     "name": "stdout",
     "output_type": "stream",
     "text": [
      "<class 'pandas.core.frame.DataFrame'>\n",
      "Int64Index: 235592 entries, 1 to 354368\n",
      "Data columns (total 11 columns):\n",
      " #   Column              Non-Null Count   Dtype \n",
      "---  ------              --------------   ----- \n",
      " 0   price               235592 non-null  int64 \n",
      " 1   vehicle_type        235592 non-null  object\n",
      " 2   registration_year   235592 non-null  int64 \n",
      " 3   gearbox             235592 non-null  object\n",
      " 4   power               235592 non-null  int64 \n",
      " 5   model               235592 non-null  object\n",
      " 6   kilometer           235592 non-null  int64 \n",
      " 7   registration_month  235592 non-null  int64 \n",
      " 8   fuel_type           235592 non-null  object\n",
      " 9   brand               235592 non-null  object\n",
      " 10  reparied            235592 non-null  object\n",
      "dtypes: int64(5), object(6)\n",
      "memory usage: 21.6+ MB\n"
     ]
    }
   ],
   "source": [
    "df.drop_duplicates(inplace=True)\n",
    "df.info()"
   ]
  },
  {
   "cell_type": "markdown",
   "metadata": {},
   "source": [
    "Как мы видим датасет сильно сократился. Посмотрим сколько данных потеряно"
   ]
  },
  {
   "cell_type": "code",
   "execution_count": 47,
   "metadata": {},
   "outputs": [
    {
     "name": "stdout",
     "output_type": "stream",
     "text": [
      "0.6648230088495575\n"
     ]
    }
   ],
   "source": [
    "print(235592/354368)"
   ]
  },
  {
   "cell_type": "markdown",
   "metadata": {},
   "source": [
    "Около 35% изначальных данных"
   ]
  },
  {
   "cell_type": "markdown",
   "metadata": {},
   "source": [
    "Вывод: мы провели предобработку данных, убрали выборосы и заменили пропуски"
   ]
  },
  {
   "cell_type": "markdown",
   "metadata": {},
   "source": [
    "## 3. Построение моделей"
   ]
  },
  {
   "cell_type": "markdown",
   "metadata": {},
   "source": [
    "Выделим таргет и признаки"
   ]
  },
  {
   "cell_type": "code",
   "execution_count": 48,
   "metadata": {},
   "outputs": [],
   "source": [
    "y = df['price']\n",
    "X = df.drop('price', axis=1)"
   ]
  },
  {
   "cell_type": "markdown",
   "metadata": {},
   "source": [
    "Выделим количественные и категориальные признаки"
   ]
  },
  {
   "cell_type": "code",
   "execution_count": 51,
   "metadata": {},
   "outputs": [],
   "source": [
    "num_cols = ['kilometer', 'power']\n",
    "cat_cols = ['vehicle_type', 'gearbox', 'model', 'fuel_type', 'brand', 'reparied']"
   ]
  },
  {
   "cell_type": "code",
   "execution_count": 53,
   "metadata": {},
   "outputs": [
    {
     "name": "stdout",
     "output_type": "stream",
     "text": [
      "<class 'pandas.core.frame.DataFrame'>\n",
      "Int64Index: 235592 entries, 1 to 354368\n",
      "Data columns (total 10 columns):\n",
      " #   Column              Non-Null Count   Dtype   \n",
      "---  ------              --------------   -----   \n",
      " 0   vehicle_type        235592 non-null  category\n",
      " 1   registration_year   235592 non-null  int64   \n",
      " 2   gearbox             235592 non-null  category\n",
      " 3   power               235592 non-null  int64   \n",
      " 4   model               235592 non-null  category\n",
      " 5   kilometer           235592 non-null  int64   \n",
      " 6   registration_month  235592 non-null  int64   \n",
      " 7   fuel_type           235592 non-null  category\n",
      " 8   brand               235592 non-null  category\n",
      " 9   reparied            235592 non-null  category\n",
      "dtypes: category(6), int64(4)\n",
      "memory usage: 10.6 MB\n"
     ]
    }
   ],
   "source": [
    "X[cat_cols] = X[cat_cols].astype('category')\n",
    "X.info()"
   ]
  },
  {
   "cell_type": "markdown",
   "metadata": {},
   "source": [
    "Поделим выборку на тестовую и обучающую"
   ]
  },
  {
   "cell_type": "code",
   "execution_count": 54,
   "metadata": {},
   "outputs": [
    {
     "data": {
      "text/plain": [
       "3.0"
      ]
     },
     "metadata": {},
     "output_type": "display_data"
    },
    {
     "data": {
      "text/plain": [
       "3.0"
      ]
     },
     "metadata": {},
     "output_type": "display_data"
    }
   ],
   "source": [
    "X_train, X_test, y_train, y_test = train_test_split(X, y, test_size=0.25, random_state=7)\n",
    "display(len(X_train)/len(X_test))\n",
    "display(len(y_train)/len(y_test))"
   ]
  },
  {
   "cell_type": "markdown",
   "metadata": {},
   "source": [
    "Сделаем преобразования наших данных. OHE для категориальных. MinMaxScaler для числовых. Будем делать преобразование во всех пайплайнах, кроме lgmlight"
   ]
  },
  {
   "cell_type": "code",
   "execution_count": 55,
   "metadata": {},
   "outputs": [],
   "source": [
    "pipelines = []\n",
    "params = []\n",
    "\n",
    "cat_transformer_linear = OneHotEncoder(handle_unknown='ignore')\n",
    "num_transformer_linear = MinMaxScaler()\n",
    "\n",
    "preprocessor = ColumnTransformer(\n",
    "    transformers=[\n",
    "        (\"num\", num_transformer_linear, num_cols),\n",
    "        (\"cat\", cat_transformer_linear, cat_cols)\n",
    "    ]\n",
    ")\n"
   ]
  },
  {
   "cell_type": "markdown",
   "metadata": {},
   "source": [
    "Сделаем 3 пайплайна:\n",
    "1. Для деревянных моделей\n",
    "2. Для lgmlight модели\n",
    "3. Для линейной регрессии\n",
    "\n",
    "Для деревянных моделей понизим размерность признаков до 5. Для линейных моделей посмотрим, что будет с результатом, если повышать размерность признаков."
   ]
  },
  {
   "cell_type": "code",
   "execution_count": 56,
   "metadata": {},
   "outputs": [],
   "source": [
    "pipeline_tree = Pipeline([('preprocessor_linear', preprocessor), ('trun_svd', TruncatedSVD(n_components=5)),\n",
    "                          ('tree', None)])\n",
    "\n",
    "pipeline_lgm = Pipeline([('lgm', None)])\n",
    "\n",
    "pipeline_linear = Pipeline([('preprocessor_linear', preprocessor), ('trun_svd', TruncatedSVD()), ('linear', None)])"
   ]
  },
  {
   "cell_type": "markdown",
   "metadata": {},
   "source": [
    "Сделаем 5 сетов параметров:\n",
    "1. Для деревянных моделей с перебором гиперпараметров\n",
    "2. Для деревянных моделей с параметрами по-умолчанию\n",
    "3. Для lgmlight модели с перебором гиперпараметров\n",
    "4. Для lgmlight модели с параметрами по-умолчанию\n",
    "5. Для линейной регрессии с перебором параметра понижения размерности "
   ]
  },
  {
   "cell_type": "code",
   "execution_count": 57,
   "metadata": {},
   "outputs": [],
   "source": [
    "param_tree = [\n",
    "    {'tree': (DecisionTreeRegressor(random_state=1),),\n",
    "     'tree__max_depth': range(1, 20, 5),\n",
    "     },\n",
    "\n",
    "    {'tree': (RandomForestRegressor(random_state=1),),\n",
    "     'tree__n_estimators': range(1, 20, 5),\n",
    "     'tree__max_depth': range(1, 20, 5),\n",
    "     }\n",
    "]\n",
    "\n",
    "param_tree_default = [\n",
    "    {'tree': (DecisionTreeRegressor(random_state=1),),\n",
    "     },\n",
    "\n",
    "    {'tree': (RandomForestRegressor(random_state=1),),\n",
    "     }\n",
    "]\n",
    "\n",
    "param_lgm = [\n",
    "    {'lgm': (LGBMRegressor(random_state=1),),\n",
    "     'lgm__n_estimators': range(1, 20, 5),\n",
    "     'lgm__max_depth': range(1, 20, 5),\n",
    "     }\n",
    "]\n",
    "\n",
    "param_lgm_default = [\n",
    "    {'lgm': (LGBMRegressor(random_state=1),),\n",
    "     }\n",
    "]\n",
    "\n",
    "param_linear = [\n",
    "    {   'linear': (LinearRegression(),),\n",
    "        'trun_svd__n_components': [5, 30, 50]\n",
    "     }\n",
    "]"
   ]
  },
  {
   "cell_type": "markdown",
   "metadata": {},
   "source": [
    "Сделаем из них списки. Создадим список names с описанием каждого процесса"
   ]
  },
  {
   "cell_type": "code",
   "execution_count": 58,
   "metadata": {},
   "outputs": [],
   "source": [
    "pipelines = [pipeline_tree, pipeline_lgm, pipeline_linear, pipeline_tree, pipeline_lgm]\n",
    "param_grids = [param_tree, param_lgm, param_linear, param_tree_default, param_lgm_default]\n",
    "names = ['tree', 'lgm', 'linear_reg', 'default_tree', 'default_lgm']"
   ]
  },
  {
   "cell_type": "markdown",
   "metadata": {},
   "source": [
    "Напишем функцию, которая принимает пайплайн и параметры и выводит:\n",
    "1. Таблицу лучших моделей\n",
    "2. Результат лучшей модели на кросс валидации\n",
    "3. Результат лучшей модели на тест семпле\n",
    "4. Время предикшина лучшей модели на тест семпле"
   ]
  },
  {
   "cell_type": "code",
   "execution_count": 59,
   "metadata": {},
   "outputs": [],
   "source": [
    "def gs_and_result(pipeline, param_grid, name):\n",
    "    gs = GridSearchCV(pipeline,\n",
    "                      param_grid,\n",
    "                      scoring='neg_root_mean_squared_error',\n",
    "                      n_jobs=10,\n",
    "                      refit='neg_root_mean_squared_error',\n",
    "                      cv=5)\n",
    "\n",
    "    #fit\n",
    "    gs.fit(X_train, y_train)\n",
    "\n",
    "    #top models table\n",
    "    print('Top ' + name + ' models:')\n",
    "    results_df = pd.DataFrame(gs.cv_results_)\n",
    "    results_df = results_df.sort_values(by=[\"rank_test_score\"])\n",
    "    display(results_df[['params', 'mean_test_score', 'mean_fit_time', 'rank_test_score']]\n",
    "            .head(5)\n",
    "            .rename(columns={'mean_test_score': 'cv_score'})\n",
    "            .rename(columns={'rank_test_score': 'rank_cv_score'}))\n",
    "\n",
    "    #best cv score\n",
    "    print('best cv score of ' + name + ' model:')\n",
    "    print(gs.best_score_)\n",
    "\n",
    "    #test score of best estimator + time prediction calculation\n",
    "    print('Test ' + name + ' score:')\n",
    "    start = time.time()\n",
    "    print(mean_squared_error(y_test, gs.best_estimator_.predict(X_test), squared=False))\n",
    "    pred_time = time.time() - start\n",
    "\n",
    "    #time prediction speed of best estimator\n",
    "    print('Prediction time best ' + name + ' model:')\n",
    "    print(pred_time)   \n",
    "    print()\n",
    "    print()     \n",
    "\n",
    "    return gs        "
   ]
  },
  {
   "cell_type": "markdown",
   "metadata": {},
   "source": [
    "Запустим и посмотрим, что получилось"
   ]
  },
  {
   "cell_type": "code",
   "execution_count": 60,
   "metadata": {},
   "outputs": [
    {
     "name": "stdout",
     "output_type": "stream",
     "text": [
      "Top tree models:\n"
     ]
    },
    {
     "data": {
      "text/html": [
       "<div>\n",
       "<style scoped>\n",
       "    .dataframe tbody tr th:only-of-type {\n",
       "        vertical-align: middle;\n",
       "    }\n",
       "\n",
       "    .dataframe tbody tr th {\n",
       "        vertical-align: top;\n",
       "    }\n",
       "\n",
       "    .dataframe thead th {\n",
       "        text-align: right;\n",
       "    }\n",
       "</style>\n",
       "<table border=\"1\" class=\"dataframe\">\n",
       "  <thead>\n",
       "    <tr style=\"text-align: right;\">\n",
       "      <th></th>\n",
       "      <th>params</th>\n",
       "      <th>cv_score</th>\n",
       "      <th>mean_fit_time</th>\n",
       "      <th>rank_cv_score</th>\n",
       "    </tr>\n",
       "  </thead>\n",
       "  <tbody>\n",
       "    <tr>\n",
       "      <th>19</th>\n",
       "      <td>{'tree': RandomForestRegressor(max_depth=16, n...</td>\n",
       "      <td>-2575.037569</td>\n",
       "      <td>10.370398</td>\n",
       "      <td>1</td>\n",
       "    </tr>\n",
       "    <tr>\n",
       "      <th>18</th>\n",
       "      <td>{'tree': RandomForestRegressor(max_depth=16, n...</td>\n",
       "      <td>-2592.311206</td>\n",
       "      <td>8.803399</td>\n",
       "      <td>2</td>\n",
       "    </tr>\n",
       "    <tr>\n",
       "      <th>17</th>\n",
       "      <td>{'tree': RandomForestRegressor(max_depth=16, n...</td>\n",
       "      <td>-2636.502965</td>\n",
       "      <td>5.382199</td>\n",
       "      <td>3</td>\n",
       "    </tr>\n",
       "    <tr>\n",
       "      <th>3</th>\n",
       "      <td>{'tree': DecisionTreeRegressor(random_state=1)...</td>\n",
       "      <td>-2904.937550</td>\n",
       "      <td>2.219403</td>\n",
       "      <td>4</td>\n",
       "    </tr>\n",
       "    <tr>\n",
       "      <th>15</th>\n",
       "      <td>{'tree': RandomForestRegressor(max_depth=16, n...</td>\n",
       "      <td>-2963.661635</td>\n",
       "      <td>10.415998</td>\n",
       "      <td>5</td>\n",
       "    </tr>\n",
       "  </tbody>\n",
       "</table>\n",
       "</div>"
      ],
      "text/plain": [
       "                                               params     cv_score  \\\n",
       "19  {'tree': RandomForestRegressor(max_depth=16, n... -2575.037569   \n",
       "18  {'tree': RandomForestRegressor(max_depth=16, n... -2592.311206   \n",
       "17  {'tree': RandomForestRegressor(max_depth=16, n... -2636.502965   \n",
       "3   {'tree': DecisionTreeRegressor(random_state=1)... -2904.937550   \n",
       "15  {'tree': RandomForestRegressor(max_depth=16, n... -2963.661635   \n",
       "\n",
       "    mean_fit_time  rank_cv_score  \n",
       "19      10.370398              1  \n",
       "18       8.803399              2  \n",
       "17       5.382199              3  \n",
       "3        2.219403              4  \n",
       "15      10.415998              5  "
      ]
     },
     "metadata": {},
     "output_type": "display_data"
    },
    {
     "name": "stdout",
     "output_type": "stream",
     "text": [
      "best cv score of tree model:\n",
      "-2575.037568977456\n",
      "Test tree score:\n",
      "2560.7941530081343\n",
      "Prediction time best tree model:\n",
      "0.17599797248840332\n",
      "\n",
      "\n",
      "Top lgm models:\n"
     ]
    },
    {
     "data": {
      "text/html": [
       "<div>\n",
       "<style scoped>\n",
       "    .dataframe tbody tr th:only-of-type {\n",
       "        vertical-align: middle;\n",
       "    }\n",
       "\n",
       "    .dataframe tbody tr th {\n",
       "        vertical-align: top;\n",
       "    }\n",
       "\n",
       "    .dataframe thead th {\n",
       "        text-align: right;\n",
       "    }\n",
       "</style>\n",
       "<table border=\"1\" class=\"dataframe\">\n",
       "  <thead>\n",
       "    <tr style=\"text-align: right;\">\n",
       "      <th></th>\n",
       "      <th>params</th>\n",
       "      <th>cv_score</th>\n",
       "      <th>mean_fit_time</th>\n",
       "      <th>rank_cv_score</th>\n",
       "    </tr>\n",
       "  </thead>\n",
       "  <tbody>\n",
       "    <tr>\n",
       "      <th>11</th>\n",
       "      <td>{'lgm': LGBMRegressor(max_depth=11, n_estimato...</td>\n",
       "      <td>-2119.846525</td>\n",
       "      <td>0.478001</td>\n",
       "      <td>1</td>\n",
       "    </tr>\n",
       "    <tr>\n",
       "      <th>15</th>\n",
       "      <td>{'lgm': LGBMRegressor(max_depth=11, n_estimato...</td>\n",
       "      <td>-2119.846525</td>\n",
       "      <td>0.403398</td>\n",
       "      <td>1</td>\n",
       "    </tr>\n",
       "    <tr>\n",
       "      <th>7</th>\n",
       "      <td>{'lgm': LGBMRegressor(max_depth=11, n_estimato...</td>\n",
       "      <td>-2124.611178</td>\n",
       "      <td>0.469399</td>\n",
       "      <td>3</td>\n",
       "    </tr>\n",
       "    <tr>\n",
       "      <th>10</th>\n",
       "      <td>{'lgm': LGBMRegressor(max_depth=11, n_estimato...</td>\n",
       "      <td>-2447.438793</td>\n",
       "      <td>0.402799</td>\n",
       "      <td>4</td>\n",
       "    </tr>\n",
       "    <tr>\n",
       "      <th>14</th>\n",
       "      <td>{'lgm': LGBMRegressor(max_depth=11, n_estimato...</td>\n",
       "      <td>-2447.438793</td>\n",
       "      <td>0.419598</td>\n",
       "      <td>4</td>\n",
       "    </tr>\n",
       "  </tbody>\n",
       "</table>\n",
       "</div>"
      ],
      "text/plain": [
       "                                               params     cv_score  \\\n",
       "11  {'lgm': LGBMRegressor(max_depth=11, n_estimato... -2119.846525   \n",
       "15  {'lgm': LGBMRegressor(max_depth=11, n_estimato... -2119.846525   \n",
       "7   {'lgm': LGBMRegressor(max_depth=11, n_estimato... -2124.611178   \n",
       "10  {'lgm': LGBMRegressor(max_depth=11, n_estimato... -2447.438793   \n",
       "14  {'lgm': LGBMRegressor(max_depth=11, n_estimato... -2447.438793   \n",
       "\n",
       "    mean_fit_time  rank_cv_score  \n",
       "11       0.478001              1  \n",
       "15       0.403398              1  \n",
       "7        0.469399              3  \n",
       "10       0.402799              4  \n",
       "14       0.419598              4  "
      ]
     },
     "metadata": {},
     "output_type": "display_data"
    },
    {
     "name": "stdout",
     "output_type": "stream",
     "text": [
      "best cv score of lgm model:\n",
      "-2119.846525139351\n",
      "Test lgm score:\n",
      "2148.7776591424267\n",
      "Prediction time best lgm model:\n",
      "0.01999950408935547\n",
      "\n",
      "\n",
      "Top linear_reg models:\n"
     ]
    },
    {
     "data": {
      "text/html": [
       "<div>\n",
       "<style scoped>\n",
       "    .dataframe tbody tr th:only-of-type {\n",
       "        vertical-align: middle;\n",
       "    }\n",
       "\n",
       "    .dataframe tbody tr th {\n",
       "        vertical-align: top;\n",
       "    }\n",
       "\n",
       "    .dataframe thead th {\n",
       "        text-align: right;\n",
       "    }\n",
       "</style>\n",
       "<table border=\"1\" class=\"dataframe\">\n",
       "  <thead>\n",
       "    <tr style=\"text-align: right;\">\n",
       "      <th></th>\n",
       "      <th>params</th>\n",
       "      <th>cv_score</th>\n",
       "      <th>mean_fit_time</th>\n",
       "      <th>rank_cv_score</th>\n",
       "    </tr>\n",
       "  </thead>\n",
       "  <tbody>\n",
       "    <tr>\n",
       "      <th>2</th>\n",
       "      <td>{'linear': LinearRegression(), 'trun_svd__n_co...</td>\n",
       "      <td>-3009.286064</td>\n",
       "      <td>9.390399</td>\n",
       "      <td>1</td>\n",
       "    </tr>\n",
       "    <tr>\n",
       "      <th>1</th>\n",
       "      <td>{'linear': LinearRegression(), 'trun_svd__n_co...</td>\n",
       "      <td>-3260.069737</td>\n",
       "      <td>6.354203</td>\n",
       "      <td>2</td>\n",
       "    </tr>\n",
       "    <tr>\n",
       "      <th>0</th>\n",
       "      <td>{'linear': LinearRegression(), 'trun_svd__n_co...</td>\n",
       "      <td>-3931.445235</td>\n",
       "      <td>1.790403</td>\n",
       "      <td>3</td>\n",
       "    </tr>\n",
       "  </tbody>\n",
       "</table>\n",
       "</div>"
      ],
      "text/plain": [
       "                                              params     cv_score  \\\n",
       "2  {'linear': LinearRegression(), 'trun_svd__n_co... -3009.286064   \n",
       "1  {'linear': LinearRegression(), 'trun_svd__n_co... -3260.069737   \n",
       "0  {'linear': LinearRegression(), 'trun_svd__n_co... -3931.445235   \n",
       "\n",
       "   mean_fit_time  rank_cv_score  \n",
       "2       9.390399              1  \n",
       "1       6.354203              2  \n",
       "0       1.790403              3  "
      ]
     },
     "metadata": {},
     "output_type": "display_data"
    },
    {
     "name": "stdout",
     "output_type": "stream",
     "text": [
      "best cv score of linear_reg model:\n",
      "-3009.286064275143\n",
      "Test linear_reg score:\n",
      "3031.113005537422\n",
      "Prediction time best linear_reg model:\n",
      "0.07299995422363281\n",
      "\n",
      "\n",
      "Top default_tree models:\n"
     ]
    },
    {
     "data": {
      "text/html": [
       "<div>\n",
       "<style scoped>\n",
       "    .dataframe tbody tr th:only-of-type {\n",
       "        vertical-align: middle;\n",
       "    }\n",
       "\n",
       "    .dataframe tbody tr th {\n",
       "        vertical-align: top;\n",
       "    }\n",
       "\n",
       "    .dataframe thead th {\n",
       "        text-align: right;\n",
       "    }\n",
       "</style>\n",
       "<table border=\"1\" class=\"dataframe\">\n",
       "  <thead>\n",
       "    <tr style=\"text-align: right;\">\n",
       "      <th></th>\n",
       "      <th>params</th>\n",
       "      <th>cv_score</th>\n",
       "      <th>mean_fit_time</th>\n",
       "      <th>rank_cv_score</th>\n",
       "    </tr>\n",
       "  </thead>\n",
       "  <tbody>\n",
       "    <tr>\n",
       "      <th>1</th>\n",
       "      <td>{'tree': RandomForestRegressor(random_state=1)}</td>\n",
       "      <td>-2440.428383</td>\n",
       "      <td>67.464199</td>\n",
       "      <td>1</td>\n",
       "    </tr>\n",
       "    <tr>\n",
       "      <th>0</th>\n",
       "      <td>{'tree': DecisionTreeRegressor(random_state=1)}</td>\n",
       "      <td>-2850.477233</td>\n",
       "      <td>2.900599</td>\n",
       "      <td>2</td>\n",
       "    </tr>\n",
       "  </tbody>\n",
       "</table>\n",
       "</div>"
      ],
      "text/plain": [
       "                                            params     cv_score  \\\n",
       "1  {'tree': RandomForestRegressor(random_state=1)} -2440.428383   \n",
       "0  {'tree': DecisionTreeRegressor(random_state=1)} -2850.477233   \n",
       "\n",
       "   mean_fit_time  rank_cv_score  \n",
       "1      67.464199              1  \n",
       "0       2.900599              2  "
      ]
     },
     "metadata": {},
     "output_type": "display_data"
    },
    {
     "name": "stdout",
     "output_type": "stream",
     "text": [
      "best cv score of default_tree model:\n",
      "-2440.428383466876\n",
      "Test default_tree score:\n",
      "2411.5715400761515\n",
      "Prediction time best default_tree model:\n",
      "1.2589950561523438\n",
      "\n",
      "\n",
      "Top default_lgm models:\n"
     ]
    },
    {
     "data": {
      "text/html": [
       "<div>\n",
       "<style scoped>\n",
       "    .dataframe tbody tr th:only-of-type {\n",
       "        vertical-align: middle;\n",
       "    }\n",
       "\n",
       "    .dataframe tbody tr th {\n",
       "        vertical-align: top;\n",
       "    }\n",
       "\n",
       "    .dataframe thead th {\n",
       "        text-align: right;\n",
       "    }\n",
       "</style>\n",
       "<table border=\"1\" class=\"dataframe\">\n",
       "  <thead>\n",
       "    <tr style=\"text-align: right;\">\n",
       "      <th></th>\n",
       "      <th>params</th>\n",
       "      <th>cv_score</th>\n",
       "      <th>mean_fit_time</th>\n",
       "      <th>rank_cv_score</th>\n",
       "    </tr>\n",
       "  </thead>\n",
       "  <tbody>\n",
       "    <tr>\n",
       "      <th>0</th>\n",
       "      <td>{'lgm': LGBMRegressor(random_state=1)}</td>\n",
       "      <td>-1654.45482</td>\n",
       "      <td>1.020999</td>\n",
       "      <td>1</td>\n",
       "    </tr>\n",
       "  </tbody>\n",
       "</table>\n",
       "</div>"
      ],
      "text/plain": [
       "                                   params    cv_score  mean_fit_time  \\\n",
       "0  {'lgm': LGBMRegressor(random_state=1)} -1654.45482       1.020999   \n",
       "\n",
       "   rank_cv_score  \n",
       "0              1  "
      ]
     },
     "metadata": {},
     "output_type": "display_data"
    },
    {
     "name": "stdout",
     "output_type": "stream",
     "text": [
      "best cv score of default_lgm model:\n",
      "-1654.4548195999444\n",
      "Test default_lgm score:\n",
      "1674.7686789502502\n",
      "Prediction time best default_lgm model:\n",
      "0.07100081443786621\n",
      "\n",
      "\n"
     ]
    }
   ],
   "source": [
    "results = []\n",
    "for pipeline, param_grid, name in zip(pipelines, param_grids, names):   \n",
    "    results.append(gs_and_result(pipeline, param_grid, name))            "
   ]
  },
  {
   "cell_type": "markdown",
   "metadata": {},
   "source": [
    "## Общий вывод"
   ]
  },
  {
   "cell_type": "markdown",
   "metadata": {},
   "source": [
    "Мы провели исследование клиентской базы сервиса по продаже автомобилей «Не бит, не крашен». Целью работы было построение модели прогнозирующей стоимость автомобиле исходя из его характеристик. Меняя модели и их гиперпараметры, мы старались получить максимальный показатель RMSE, скорости тренировки модели и скорости предсказания. По результатам исследования LGBMLight с дефолтными характеристиками показала наилучший результат:\n",
    "\n",
    "LGBMRegressor(n_estimators=100, learning_rate=0.1):\n",
    "-   RMSE cv:          1654\n",
    "-   RMSE test:        1674\n",
    "-   fit time:         0.92\n",
    "-   prediction time:  0.08\n"
   ]
  }
 ],
 "metadata": {
  "ExecuteTimeLog": [
   {
    "duration": 44,
    "start_time": "2022-04-18T20:13:37.892Z"
   }
  ],
  "interpreter": {
   "hash": "d488093d919f573c925b0a84f2a24fea75905f9dd1b6664dfb65159487c96672"
  },
  "kernelspec": {
   "display_name": "Python 3.10.0 64-bit",
   "language": "python",
   "name": "python3"
  },
  "language_info": {
   "codemirror_mode": {
    "name": "ipython",
    "version": 3
   },
   "file_extension": ".py",
   "mimetype": "text/x-python",
   "name": "python",
   "nbconvert_exporter": "python",
   "pygments_lexer": "ipython3",
   "version": "3.10.0 (tags/v3.10.0:b494f59, Oct  4 2021, 19:00:18) [MSC v.1929 64 bit (AMD64)]"
  },
  "toc": {
   "base_numbering": 1,
   "nav_menu": {},
   "number_sections": true,
   "sideBar": true,
   "skip_h1_title": true,
   "title_cell": "Table of Contents",
   "title_sidebar": "Contents",
   "toc_cell": false,
   "toc_position": {},
   "toc_section_display": true,
   "toc_window_display": false
  }
 },
 "nbformat": 4,
 "nbformat_minor": 2
}

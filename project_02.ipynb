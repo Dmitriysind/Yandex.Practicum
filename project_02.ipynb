{
 "cells": [
  {
   "cell_type": "markdown",
   "metadata": {},
   "source": [
    "<h1><center>Кредитный отдел банка</center></h1>"
   ]
  },
  {
   "cell_type": "markdown",
   "metadata": {
    "id": "VUC88oWjTJw2"
   },
   "source": [
    "## Введение\n",
    "Заказчик — кредитный отдел банка. Нужно разобраться, влияет ли семейное положение и количество детей клиента на факт погашения кредита в срок. Входные данные от банка — статистика о платёжеспособности клиентов.\n",
    "Результаты исследования будут учтены при построении модели кредитного скоринга — специальной системы, которая оценивает способность потенциального заёмщика вернуть кредит банку.\n",
    "\n",
    "**Цель исследования** — ответить на четыре вопроса:\n",
    "1. Есть ли зависимость между наличием детей и возвратом кредита в срок?\n",
    "2. Есть ли зависимость между семейным положением и возвратом кредита в срок?\n",
    "3. Есть ли зависимость между уровнем дохода и возвратом кредита в срок?\n",
    "4. Как разные цели кредита влияют на его возврат в срок?\n",
    "\n",
    "**Ход исследования**\n",
    "\n",
    "Данные о поведении пользователей получим из файла `data.csv`. О качестве данных ничего не известно. Поэтому перед проверкой гипотез понадобится обзор данных. \n",
    "\n",
    " \n",
    "Исследование пройдёт в три этапа:\n",
    " 1. Обзор данных.\n",
    " 2. Предобработка данных.\n",
    " 3. Ответы на вопросы\n",
    "\n"
   ]
  },
  {
   "cell_type": "markdown",
   "metadata": {},
   "source": [
    "Описание проекта:\n",
    "Отток клиентов\n",
    "Из «Бета-Банка» стали уходить клиенты. Каждый месяц. Немного, но заметно. Банковские маркетологи посчитали: сохранять текущих клиентов дешевле, чем привлекать новых.\n",
    "Нужно спрогнозировать, уйдёт клиент из банка в ближайшее время или нет. Нам предоставлены исторические данные о поведении клиентов и расторжении договоров с банком."
   ]
  },
  {
   "cell_type": "markdown",
   "metadata": {},
   "source": [
    "## Обзор данных"
   ]
  },
  {
   "cell_type": "markdown",
   "metadata": {},
   "source": [
    "Откроем данные и посмотрим общую информацию."
   ]
  },
  {
   "cell_type": "code",
   "execution_count": 5,
   "metadata": {},
   "outputs": [],
   "source": [
    "import pandas as pd\n",
    "import urllib.request\n",
    "\n",
    "from pymystem3 import Mystem\n",
    "from collections import Counter\n",
    "\n",
    "from os import path\n",
    "from pathlib import Path\n"
   ]
  },
  {
   "cell_type": "code",
   "execution_count": 6,
   "metadata": {},
   "outputs": [
    {
     "name": "stdout",
     "output_type": "stream",
     "text": [
      "<class 'pandas.core.frame.DataFrame'>\n",
      "RangeIndex: 21525 entries, 0 to 21524\n",
      "Data columns (total 12 columns):\n",
      " #   Column            Non-Null Count  Dtype  \n",
      "---  ------            --------------  -----  \n",
      " 0   children          21525 non-null  int64  \n",
      " 1   days_employed     19351 non-null  float64\n",
      " 2   dob_years         21525 non-null  int64  \n",
      " 3   education         21525 non-null  object \n",
      " 4   education_id      21525 non-null  int64  \n",
      " 5   family_status     21525 non-null  object \n",
      " 6   family_status_id  21525 non-null  int64  \n",
      " 7   gender            21525 non-null  object \n",
      " 8   income_type       21525 non-null  object \n",
      " 9   debt              21525 non-null  int64  \n",
      " 10  total_income      19351 non-null  float64\n",
      " 11  purpose           21525 non-null  object \n",
      "dtypes: float64(2), int64(5), object(5)\n",
      "memory usage: 2.0+ MB\n",
      "<class 'pandas.core.frame.DataFrame'>\n",
      "RangeIndex: 21525 entries, 0 to 21524\n",
      "Data columns (total 12 columns):\n",
      " #   Column            Non-Null Count  Dtype  \n",
      "---  ------            --------------  -----  \n",
      " 0   children          21525 non-null  int64  \n",
      " 1   days_employed     19351 non-null  float64\n",
      " 2   dob_years         21525 non-null  int64  \n",
      " 3   education         21525 non-null  object \n",
      " 4   education_id      21525 non-null  int64  \n",
      " 5   family_status     21525 non-null  object \n",
      " 6   family_status_id  21525 non-null  int64  \n",
      " 7   gender            21525 non-null  object \n",
      " 8   income_type       21525 non-null  object \n",
      " 9   debt              21525 non-null  int64  \n",
      " 10  total_income      19351 non-null  float64\n",
      " 11  purpose           21525 non-null  object \n",
      "dtypes: float64(2), int64(5), object(5)\n",
      "memory usage: 2.0+ MB\n"
     ]
    }
   ],
   "source": [
    "YANDEX_DATASETS_PATH = 'https://code.s3.yandex.net/datasets/'\n",
    "dataset_folder = 'datasets'\n",
    "dataset_name = 'data.csv'\n",
    "\n",
    "#download dataset if not existed\n",
    "if not path.exists(dataset_folder + '/' + dataset_name):\n",
    "    #create dir if not existed\n",
    "    Path(dataset_folder).mkdir(parents=True, exist_ok=True)\n",
    "\n",
    "    #download dataset\n",
    "    urllib.request.urlretrieve(YANDEX_DATASETS_PATH + dataset_name,\n",
    "                               dataset_folder + '/' + dataset_name)\n",
    "\n",
    "df = pd.read_csv(dataset_folder + '/' + dataset_name)\n",
    "df.info()\n",
    "\n",
    "# Read file\n",
    "data = pd.read_csv('datasets/data.csv')\n",
    "\n",
    "data.info()"
   ]
  },
  {
   "cell_type": "code",
   "execution_count": 7,
   "metadata": {
    "scrolled": true
   },
   "outputs": [
    {
     "data": {
      "text/html": [
       "<div>\n",
       "<style scoped>\n",
       "    .dataframe tbody tr th:only-of-type {\n",
       "        vertical-align: middle;\n",
       "    }\n",
       "\n",
       "    .dataframe tbody tr th {\n",
       "        vertical-align: top;\n",
       "    }\n",
       "\n",
       "    .dataframe thead th {\n",
       "        text-align: right;\n",
       "    }\n",
       "</style>\n",
       "<table border=\"1\" class=\"dataframe\">\n",
       "  <thead>\n",
       "    <tr style=\"text-align: right;\">\n",
       "      <th></th>\n",
       "      <th>children</th>\n",
       "      <th>days_employed</th>\n",
       "      <th>dob_years</th>\n",
       "      <th>education</th>\n",
       "      <th>education_id</th>\n",
       "      <th>family_status</th>\n",
       "      <th>family_status_id</th>\n",
       "      <th>gender</th>\n",
       "      <th>income_type</th>\n",
       "      <th>debt</th>\n",
       "      <th>total_income</th>\n",
       "      <th>purpose</th>\n",
       "    </tr>\n",
       "  </thead>\n",
       "  <tbody>\n",
       "    <tr>\n",
       "      <th>0</th>\n",
       "      <td>1</td>\n",
       "      <td>-8437.673028</td>\n",
       "      <td>42</td>\n",
       "      <td>высшее</td>\n",
       "      <td>0</td>\n",
       "      <td>женат / замужем</td>\n",
       "      <td>0</td>\n",
       "      <td>F</td>\n",
       "      <td>сотрудник</td>\n",
       "      <td>0</td>\n",
       "      <td>253875.639453</td>\n",
       "      <td>покупка жилья</td>\n",
       "    </tr>\n",
       "    <tr>\n",
       "      <th>1</th>\n",
       "      <td>1</td>\n",
       "      <td>-4024.803754</td>\n",
       "      <td>36</td>\n",
       "      <td>среднее</td>\n",
       "      <td>1</td>\n",
       "      <td>женат / замужем</td>\n",
       "      <td>0</td>\n",
       "      <td>F</td>\n",
       "      <td>сотрудник</td>\n",
       "      <td>0</td>\n",
       "      <td>112080.014102</td>\n",
       "      <td>приобретение автомобиля</td>\n",
       "    </tr>\n",
       "    <tr>\n",
       "      <th>2</th>\n",
       "      <td>0</td>\n",
       "      <td>-5623.422610</td>\n",
       "      <td>33</td>\n",
       "      <td>Среднее</td>\n",
       "      <td>1</td>\n",
       "      <td>женат / замужем</td>\n",
       "      <td>0</td>\n",
       "      <td>M</td>\n",
       "      <td>сотрудник</td>\n",
       "      <td>0</td>\n",
       "      <td>145885.952297</td>\n",
       "      <td>покупка жилья</td>\n",
       "    </tr>\n",
       "    <tr>\n",
       "      <th>3</th>\n",
       "      <td>3</td>\n",
       "      <td>-4124.747207</td>\n",
       "      <td>32</td>\n",
       "      <td>среднее</td>\n",
       "      <td>1</td>\n",
       "      <td>женат / замужем</td>\n",
       "      <td>0</td>\n",
       "      <td>M</td>\n",
       "      <td>сотрудник</td>\n",
       "      <td>0</td>\n",
       "      <td>267628.550329</td>\n",
       "      <td>дополнительное образование</td>\n",
       "    </tr>\n",
       "    <tr>\n",
       "      <th>4</th>\n",
       "      <td>0</td>\n",
       "      <td>340266.072047</td>\n",
       "      <td>53</td>\n",
       "      <td>среднее</td>\n",
       "      <td>1</td>\n",
       "      <td>гражданский брак</td>\n",
       "      <td>1</td>\n",
       "      <td>F</td>\n",
       "      <td>пенсионер</td>\n",
       "      <td>0</td>\n",
       "      <td>158616.077870</td>\n",
       "      <td>сыграть свадьбу</td>\n",
       "    </tr>\n",
       "  </tbody>\n",
       "</table>\n",
       "</div>"
      ],
      "text/plain": [
       "   children  days_employed  dob_years education  education_id  \\\n",
       "0         1   -8437.673028         42    высшее             0   \n",
       "1         1   -4024.803754         36   среднее             1   \n",
       "2         0   -5623.422610         33   Среднее             1   \n",
       "3         3   -4124.747207         32   среднее             1   \n",
       "4         0  340266.072047         53   среднее             1   \n",
       "\n",
       "      family_status  family_status_id gender income_type  debt   total_income  \\\n",
       "0   женат / замужем                 0      F   сотрудник     0  253875.639453   \n",
       "1   женат / замужем                 0      F   сотрудник     0  112080.014102   \n",
       "2   женат / замужем                 0      M   сотрудник     0  145885.952297   \n",
       "3   женат / замужем                 0      M   сотрудник     0  267628.550329   \n",
       "4  гражданский брак                 1      F   пенсионер     0  158616.077870   \n",
       "\n",
       "                      purpose  \n",
       "0               покупка жилья  \n",
       "1     приобретение автомобиля  \n",
       "2               покупка жилья  \n",
       "3  дополнительное образование  \n",
       "4             сыграть свадьбу  "
      ]
     },
     "execution_count": 7,
     "metadata": {},
     "output_type": "execute_result"
    }
   ],
   "source": [
    "data.head()"
   ]
  },
  {
   "cell_type": "markdown",
   "metadata": {},
   "source": [
    "Согласно документации к данным:\n",
    "* children — количество детей в семье\n",
    "* days_employed — общий трудовой стаж в днях\n",
    "* dob_years — возраст клиента в годах\n",
    "* education — уровень образования клиента\n",
    "* education_id — идентификатор уровня образования\n",
    "* family_status — семейное положение\n",
    "* family_status_id — идентификатор семейного положения\n",
    "* gender — пол клиента\n",
    "* income_type — тип занятости\n",
    "* debt — имел ли задолженность по возврату кредитов\n",
    "* total_income — ежемесячный доход\n",
    "* purpose — цель получения кредита\n",
    "    \n",
    " "
   ]
  },
  {
   "cell_type": "markdown",
   "metadata": {},
   "source": [
    "Вывод:\n",
    "В двух колонках days_employed и total_income присутствуют пропуски. Debt(имел ли задолженность по возврату кредитов) - это основная колонка, значение которой мы будем использовать для каждого из наших исследований.\n",
    "1. Для первой гипотезы сравним значения в children и debt\n",
    "2. Для второй гипотезы сравним значения в family_status и debt\n",
    "3. Для третьей гипотезы сравним значения в total_income и debt\n",
    "4. Для четвертой гипотезы сравним значения в purpose и debt\n",
    "\n",
    "Чтобы это правильно сделать потребуется предварительная предобработка данных."
   ]
  },
  {
   "cell_type": "markdown",
   "metadata": {},
   "source": [
    "## Предобработка данных"
   ]
  },
  {
   "cell_type": "markdown",
   "metadata": {},
   "source": [
    "### Стиль заголовков"
   ]
  },
  {
   "cell_type": "markdown",
   "metadata": {},
   "source": [
    "Посмотрим на стиль заголовков, исключим пропуски."
   ]
  },
  {
   "cell_type": "code",
   "execution_count": 8,
   "metadata": {},
   "outputs": [
    {
     "name": "stdout",
     "output_type": "stream",
     "text": [
      "Index(['children', 'days_employed', 'dob_years', 'education', 'education_id',\n",
      "       'family_status', 'family_status_id', 'gender', 'income_type', 'debt',\n",
      "       'total_income', 'purpose'],\n",
      "      dtype='object')\n"
     ]
    }
   ],
   "source": [
    "print(data.columns)"
   ]
  },
  {
   "cell_type": "markdown",
   "metadata": {},
   "source": [
    "Вывод: пропусков нет, каждая колонка имеет тип snake_case."
   ]
  },
  {
   "cell_type": "markdown",
   "metadata": {},
   "source": [
    "### Обработка пропусков"
   ]
  },
  {
   "cell_type": "markdown",
   "metadata": {},
   "source": [
    "Посчитаем количество пропусков."
   ]
  },
  {
   "cell_type": "code",
   "execution_count": 9,
   "metadata": {},
   "outputs": [
    {
     "data": {
      "text/plain": [
       "children               0\n",
       "days_employed       2174\n",
       "dob_years              0\n",
       "education              0\n",
       "education_id           0\n",
       "family_status          0\n",
       "family_status_id       0\n",
       "gender                 0\n",
       "income_type            0\n",
       "debt                   0\n",
       "total_income        2174\n",
       "purpose                0\n",
       "dtype: int64"
      ]
     },
     "execution_count": 9,
     "metadata": {},
     "output_type": "execute_result"
    }
   ],
   "source": [
    "data.isna().sum()"
   ]
  },
  {
   "cell_type": "markdown",
   "metadata": {},
   "source": [
    "Количество пропусков в двух колонок одинаково. Вероятно, что это по два пропуска в каждой из этих строчек. Проверим это."
   ]
  },
  {
   "cell_type": "code",
   "execution_count": 10,
   "metadata": {},
   "outputs": [
    {
     "name": "stdout",
     "output_type": "stream",
     "text": [
      "<class 'pandas.core.frame.DataFrame'>\n",
      "Int64Index: 2174 entries, 12 to 21510\n",
      "Data columns (total 12 columns):\n",
      " #   Column            Non-Null Count  Dtype  \n",
      "---  ------            --------------  -----  \n",
      " 0   children          2174 non-null   int64  \n",
      " 1   days_employed     0 non-null      float64\n",
      " 2   dob_years         2174 non-null   int64  \n",
      " 3   education         2174 non-null   object \n",
      " 4   education_id      2174 non-null   int64  \n",
      " 5   family_status     2174 non-null   object \n",
      " 6   family_status_id  2174 non-null   int64  \n",
      " 7   gender            2174 non-null   object \n",
      " 8   income_type       2174 non-null   object \n",
      " 9   debt              2174 non-null   int64  \n",
      " 10  total_income      0 non-null      float64\n",
      " 11  purpose           2174 non-null   object \n",
      "dtypes: float64(2), int64(5), object(5)\n",
      "memory usage: 220.8+ KB\n"
     ]
    }
   ],
   "source": [
    "data_nan = data[data['days_employed'].isna()]\n",
    "data_nan.info()"
   ]
  },
  {
   "cell_type": "code",
   "execution_count": 11,
   "metadata": {},
   "outputs": [
    {
     "data": {
      "text/html": [
       "<div>\n",
       "<style scoped>\n",
       "    .dataframe tbody tr th:only-of-type {\n",
       "        vertical-align: middle;\n",
       "    }\n",
       "\n",
       "    .dataframe tbody tr th {\n",
       "        vertical-align: top;\n",
       "    }\n",
       "\n",
       "    .dataframe thead th {\n",
       "        text-align: right;\n",
       "    }\n",
       "</style>\n",
       "<table border=\"1\" class=\"dataframe\">\n",
       "  <thead>\n",
       "    <tr style=\"text-align: right;\">\n",
       "      <th></th>\n",
       "      <th>children</th>\n",
       "      <th>days_employed</th>\n",
       "      <th>dob_years</th>\n",
       "      <th>education</th>\n",
       "      <th>education_id</th>\n",
       "      <th>family_status</th>\n",
       "      <th>family_status_id</th>\n",
       "      <th>gender</th>\n",
       "      <th>income_type</th>\n",
       "      <th>debt</th>\n",
       "      <th>total_income</th>\n",
       "      <th>purpose</th>\n",
       "    </tr>\n",
       "  </thead>\n",
       "  <tbody>\n",
       "    <tr>\n",
       "      <th>12</th>\n",
       "      <td>0</td>\n",
       "      <td>NaN</td>\n",
       "      <td>65</td>\n",
       "      <td>среднее</td>\n",
       "      <td>1</td>\n",
       "      <td>гражданский брак</td>\n",
       "      <td>1</td>\n",
       "      <td>M</td>\n",
       "      <td>пенсионер</td>\n",
       "      <td>0</td>\n",
       "      <td>NaN</td>\n",
       "      <td>сыграть свадьбу</td>\n",
       "    </tr>\n",
       "    <tr>\n",
       "      <th>26</th>\n",
       "      <td>0</td>\n",
       "      <td>NaN</td>\n",
       "      <td>41</td>\n",
       "      <td>среднее</td>\n",
       "      <td>1</td>\n",
       "      <td>женат / замужем</td>\n",
       "      <td>0</td>\n",
       "      <td>M</td>\n",
       "      <td>госслужащий</td>\n",
       "      <td>0</td>\n",
       "      <td>NaN</td>\n",
       "      <td>образование</td>\n",
       "    </tr>\n",
       "    <tr>\n",
       "      <th>29</th>\n",
       "      <td>0</td>\n",
       "      <td>NaN</td>\n",
       "      <td>63</td>\n",
       "      <td>среднее</td>\n",
       "      <td>1</td>\n",
       "      <td>Не женат / не замужем</td>\n",
       "      <td>4</td>\n",
       "      <td>F</td>\n",
       "      <td>пенсионер</td>\n",
       "      <td>0</td>\n",
       "      <td>NaN</td>\n",
       "      <td>строительство жилой недвижимости</td>\n",
       "    </tr>\n",
       "    <tr>\n",
       "      <th>41</th>\n",
       "      <td>0</td>\n",
       "      <td>NaN</td>\n",
       "      <td>50</td>\n",
       "      <td>среднее</td>\n",
       "      <td>1</td>\n",
       "      <td>женат / замужем</td>\n",
       "      <td>0</td>\n",
       "      <td>F</td>\n",
       "      <td>госслужащий</td>\n",
       "      <td>0</td>\n",
       "      <td>NaN</td>\n",
       "      <td>сделка с подержанным автомобилем</td>\n",
       "    </tr>\n",
       "    <tr>\n",
       "      <th>55</th>\n",
       "      <td>0</td>\n",
       "      <td>NaN</td>\n",
       "      <td>54</td>\n",
       "      <td>среднее</td>\n",
       "      <td>1</td>\n",
       "      <td>гражданский брак</td>\n",
       "      <td>1</td>\n",
       "      <td>F</td>\n",
       "      <td>пенсионер</td>\n",
       "      <td>1</td>\n",
       "      <td>NaN</td>\n",
       "      <td>сыграть свадьбу</td>\n",
       "    </tr>\n",
       "  </tbody>\n",
       "</table>\n",
       "</div>"
      ],
      "text/plain": [
       "    children  days_employed  dob_years education  education_id  \\\n",
       "12         0            NaN         65   среднее             1   \n",
       "26         0            NaN         41   среднее             1   \n",
       "29         0            NaN         63   среднее             1   \n",
       "41         0            NaN         50   среднее             1   \n",
       "55         0            NaN         54   среднее             1   \n",
       "\n",
       "            family_status  family_status_id gender  income_type  debt  \\\n",
       "12       гражданский брак                 1      M    пенсионер     0   \n",
       "26        женат / замужем                 0      M  госслужащий     0   \n",
       "29  Не женат / не замужем                 4      F    пенсионер     0   \n",
       "41        женат / замужем                 0      F  госслужащий     0   \n",
       "55       гражданский брак                 1      F    пенсионер     1   \n",
       "\n",
       "    total_income                           purpose  \n",
       "12           NaN                   сыграть свадьбу  \n",
       "26           NaN                       образование  \n",
       "29           NaN  строительство жилой недвижимости  \n",
       "41           NaN  сделка с подержанным автомобилем  \n",
       "55           NaN                   сыграть свадьбу  "
      ]
     },
     "execution_count": 11,
     "metadata": {},
     "output_type": "execute_result"
    }
   ],
   "source": [
    "data_nan.head()"
   ]
  },
  {
   "cell_type": "markdown",
   "metadata": {},
   "source": [
    "Пропуску в колонке days_employed соответствует пропуск в колонке total_income. количество пропусков 2174 - это примерно 10% нашей выборки. Скорее всего, пропуски и отрицательные значения в days_employed вызваны неправильной работой с датами. В формуле расчета total_income по-видимому участвует days_employed, и соответственно эти значения тоже принимают значение NaN. Значения total_income нужны для ответа на 3-ий вопрос. Их удаление может исказить выводы наших расчетов.\n",
    "Total_income - количественная переменная. Пропуски в таких переменных заполняют характерными значениями. В нашем случае заменим пропущенные значения медианными для каждого из типа занятости."
   ]
  },
  {
   "cell_type": "markdown",
   "metadata": {},
   "source": [
    "Посмотрим, какие типы занятости входят в пропущенные значения."
   ]
  },
  {
   "cell_type": "code",
   "execution_count": 12,
   "metadata": {},
   "outputs": [
    {
     "data": {
      "text/plain": [
       "array(['пенсионер', 'госслужащий', 'компаньон', 'сотрудник',\n",
       "       'предприниматель'], dtype=object)"
      ]
     },
     "execution_count": 12,
     "metadata": {},
     "output_type": "execute_result"
    }
   ],
   "source": [
    "data_nan['income_type'].unique()"
   ]
  },
  {
   "cell_type": "markdown",
   "metadata": {},
   "source": [
    "Составим на основании этого список."
   ]
  },
  {
   "cell_type": "code",
   "execution_count": 13,
   "metadata": {},
   "outputs": [],
   "source": [
    "income_type_list = ['пенсионер', 'госслужащий', 'компаньон', 'сотрудник',\n",
    "       'предприниматель']"
   ]
  },
  {
   "cell_type": "markdown",
   "metadata": {},
   "source": [
    "Напишем функцию, которая заменяет пропущенные значения медианными для каждого типа занятости из списка."
   ]
  },
  {
   "cell_type": "code",
   "execution_count": 14,
   "metadata": {},
   "outputs": [],
   "source": [
    "#function that change missing values to median one for every income_type\n",
    "def median_income_type(income_type_list):\n",
    "    for income_name in income_type_list:\n",
    "\n",
    "        #count median for each type\n",
    "        median_income = data[data['income_type'] == income_name]['total_income'].median()\n",
    "\n",
    "        #c - condition\n",
    "        с = (data['income_type'] == income_name) & (data['total_income'].isnull())\n",
    "\n",
    "        #fill NaN with median value\n",
    "        data.loc[с, 'total_income'] = data.loc[с, 'total_income'].fillna(median_income)"
   ]
  },
  {
   "cell_type": "markdown",
   "metadata": {},
   "source": [
    "Передадим функции наш список"
   ]
  },
  {
   "cell_type": "code",
   "execution_count": 15,
   "metadata": {},
   "outputs": [],
   "source": [
    "median_income_type(income_type_list)"
   ]
  },
  {
   "cell_type": "markdown",
   "metadata": {},
   "source": [
    "Заменим пропущенные значения в days_employed нулями, так как эти данные не нужны для нашего исследования."
   ]
  },
  {
   "cell_type": "code",
   "execution_count": 16,
   "metadata": {},
   "outputs": [],
   "source": [
    "data['days_employed'] = data['days_employed'].fillna(0)"
   ]
  },
  {
   "cell_type": "markdown",
   "metadata": {},
   "source": [
    "Посмотрим на результат:"
   ]
  },
  {
   "cell_type": "code",
   "execution_count": 17,
   "metadata": {},
   "outputs": [
    {
     "name": "stdout",
     "output_type": "stream",
     "text": [
      "<class 'pandas.core.frame.DataFrame'>\n",
      "RangeIndex: 21525 entries, 0 to 21524\n",
      "Data columns (total 12 columns):\n",
      " #   Column            Non-Null Count  Dtype  \n",
      "---  ------            --------------  -----  \n",
      " 0   children          21525 non-null  int64  \n",
      " 1   days_employed     21525 non-null  float64\n",
      " 2   dob_years         21525 non-null  int64  \n",
      " 3   education         21525 non-null  object \n",
      " 4   education_id      21525 non-null  int64  \n",
      " 5   family_status     21525 non-null  object \n",
      " 6   family_status_id  21525 non-null  int64  \n",
      " 7   gender            21525 non-null  object \n",
      " 8   income_type       21525 non-null  object \n",
      " 9   debt              21525 non-null  int64  \n",
      " 10  total_income      21525 non-null  float64\n",
      " 11  purpose           21525 non-null  object \n",
      "dtypes: float64(2), int64(5), object(5)\n",
      "memory usage: 2.0+ MB\n"
     ]
    }
   ],
   "source": [
    "data.info()"
   ]
  },
  {
   "cell_type": "markdown",
   "metadata": {},
   "source": [
    "Посмотрим на уникальные значения в колонках с категореальными значениями."
   ]
  },
  {
   "cell_type": "code",
   "execution_count": 18,
   "metadata": {},
   "outputs": [
    {
     "data": {
      "text/plain": [
       "среднее                13750\n",
       "высшее                  4718\n",
       "СРЕДНЕЕ                  772\n",
       "Среднее                  711\n",
       "неоконченное высшее      668\n",
       "ВЫСШЕЕ                   274\n",
       "Высшее                   268\n",
       "начальное                250\n",
       "Неоконченное высшее       47\n",
       "НЕОКОНЧЕННОЕ ВЫСШЕЕ       29\n",
       "НАЧАЛЬНОЕ                 17\n",
       "Начальное                 15\n",
       "ученая степень             4\n",
       "Ученая степень             1\n",
       "УЧЕНАЯ СТЕПЕНЬ             1\n",
       "Name: education, dtype: int64"
      ]
     },
     "execution_count": 18,
     "metadata": {},
     "output_type": "execute_result"
    }
   ],
   "source": [
    "data['education'].value_counts()"
   ]
  },
  {
   "cell_type": "markdown",
   "metadata": {},
   "source": [
    "Имеются дубликаты, связанные с регистром. Пропусков нету."
   ]
  },
  {
   "cell_type": "code",
   "execution_count": 19,
   "metadata": {},
   "outputs": [
    {
     "data": {
      "text/plain": [
       "женат / замужем          12380\n",
       "гражданский брак          4177\n",
       "Не женат / не замужем     2813\n",
       "в разводе                 1195\n",
       "вдовец / вдова             960\n",
       "Name: family_status, dtype: int64"
      ]
     },
     "execution_count": 19,
     "metadata": {},
     "output_type": "execute_result"
    }
   ],
   "source": [
    "data['family_status'].value_counts()"
   ]
  },
  {
   "cell_type": "markdown",
   "metadata": {},
   "source": [
    "Пропусков нету."
   ]
  },
  {
   "cell_type": "code",
   "execution_count": 20,
   "metadata": {},
   "outputs": [
    {
     "data": {
      "text/plain": [
       "F      14236\n",
       "M       7288\n",
       "XNA        1\n",
       "Name: gender, dtype: int64"
      ]
     },
     "execution_count": 20,
     "metadata": {},
     "output_type": "execute_result"
    }
   ],
   "source": [
    "data['gender'].value_counts()"
   ]
  },
  {
   "cell_type": "markdown",
   "metadata": {},
   "source": [
    "Имеется пропущенное значение. Скорее всего человеческий фактор. По нашей таблице невозможно его восстановить. Заменим его на любое из gender."
   ]
  },
  {
   "cell_type": "code",
   "execution_count": 21,
   "metadata": {},
   "outputs": [],
   "source": [
    "data.loc[data['gender'] == 'XNA', 'gender'] = 'F'"
   ]
  },
  {
   "cell_type": "markdown",
   "metadata": {},
   "source": [
    "Проверим замену."
   ]
  },
  {
   "cell_type": "code",
   "execution_count": 22,
   "metadata": {},
   "outputs": [
    {
     "data": {
      "text/plain": [
       "F    14237\n",
       "M     7288\n",
       "Name: gender, dtype: int64"
      ]
     },
     "execution_count": 22,
     "metadata": {},
     "output_type": "execute_result"
    }
   ],
   "source": [
    "data['gender'].value_counts()"
   ]
  },
  {
   "cell_type": "code",
   "execution_count": 23,
   "metadata": {},
   "outputs": [
    {
     "data": {
      "text/plain": [
       "сотрудник          11119\n",
       "компаньон           5085\n",
       "пенсионер           3856\n",
       "госслужащий         1459\n",
       "безработный            2\n",
       "предприниматель        2\n",
       "студент                1\n",
       "в декрете              1\n",
       "Name: income_type, dtype: int64"
      ]
     },
     "execution_count": 23,
     "metadata": {},
     "output_type": "execute_result"
    }
   ],
   "source": [
    "data['income_type'].value_counts()"
   ]
  },
  {
   "cell_type": "markdown",
   "metadata": {},
   "source": [
    "Пропусков нету."
   ]
  },
  {
   "cell_type": "code",
   "execution_count": 24,
   "metadata": {},
   "outputs": [
    {
     "data": {
      "text/plain": [
       " 0     14149\n",
       " 1      4818\n",
       " 2      2055\n",
       " 3       330\n",
       " 20       76\n",
       "-1        47\n",
       " 4        41\n",
       " 5         9\n",
       "Name: children, dtype: int64"
      ]
     },
     "execution_count": 24,
     "metadata": {},
     "output_type": "execute_result"
    }
   ],
   "source": [
    "data['children'].value_counts()"
   ]
  },
  {
   "cell_type": "markdown",
   "metadata": {},
   "source": [
    "Значение '20' скорее всего вызвано тем, что приписали лишний '0'. На самом деле это '2'. А '-1' это единица. Скорее всего, обе ошибки вызваны человеческим фактором. Исправим."
   ]
  },
  {
   "cell_type": "code",
   "execution_count": 25,
   "metadata": {},
   "outputs": [],
   "source": [
    "#data.loc[data['children'] == 20, 'children'] = 2\n",
    "#data.loc[data['children'] == -1, 'children'] = 1\n",
    "data['children'] = data['children'].replace([20, -1], [2, 1])"
   ]
  },
  {
   "cell_type": "markdown",
   "metadata": {},
   "source": [
    "Проверим замены."
   ]
  },
  {
   "cell_type": "code",
   "execution_count": 26,
   "metadata": {},
   "outputs": [
    {
     "data": {
      "text/plain": [
       "0    14149\n",
       "1     4865\n",
       "2     2131\n",
       "3      330\n",
       "4       41\n",
       "5        9\n",
       "Name: children, dtype: int64"
      ]
     },
     "execution_count": 26,
     "metadata": {},
     "output_type": "execute_result"
    }
   ],
   "source": [
    "data['children'].value_counts()"
   ]
  },
  {
   "cell_type": "code",
   "execution_count": 27,
   "metadata": {
    "scrolled": true
   },
   "outputs": [
    {
     "data": {
      "text/plain": [
       "свадьба                                   797\n",
       "на проведение свадьбы                     777\n",
       "сыграть свадьбу                           774\n",
       "операции с недвижимостью                  676\n",
       "покупка коммерческой недвижимости         664\n",
       "покупка жилья для сдачи                   653\n",
       "операции с жильем                         653\n",
       "операции с коммерческой недвижимостью     651\n",
       "покупка жилья                             647\n",
       "жилье                                     647\n",
       "покупка жилья для семьи                   641\n",
       "строительство собственной недвижимости    635\n",
       "недвижимость                              634\n",
       "операции со своей недвижимостью           630\n",
       "строительство жилой недвижимости          626\n",
       "покупка недвижимости                      624\n",
       "строительство недвижимости                620\n",
       "покупка своего жилья                      620\n",
       "ремонт жилью                              612\n",
       "покупка жилой недвижимости                607\n",
       "на покупку своего автомобиля              505\n",
       "заняться высшим образованием              496\n",
       "автомобиль                                495\n",
       "сделка с подержанным автомобилем          489\n",
       "свой автомобиль                           480\n",
       "на покупку подержанного автомобиля        479\n",
       "автомобили                                478\n",
       "на покупку автомобиля                     472\n",
       "дополнительное образование                462\n",
       "приобретение автомобиля                   462\n",
       "сделка с автомобилем                      455\n",
       "высшее образование                        453\n",
       "образование                               447\n",
       "получение дополнительного образования     447\n",
       "получение образования                     443\n",
       "профильное образование                    436\n",
       "получение высшего образования             426\n",
       "заняться образованием                     412\n",
       "Name: purpose, dtype: int64"
      ]
     },
     "execution_count": 27,
     "metadata": {},
     "output_type": "execute_result"
    }
   ],
   "source": [
    "data['purpose'].value_counts()"
   ]
  },
  {
   "cell_type": "markdown",
   "metadata": {},
   "source": [
    "Есть множество значений для лемматизации и категоризации. Пропусков нету."
   ]
  },
  {
   "cell_type": "code",
   "execution_count": 28,
   "metadata": {},
   "outputs": [
    {
     "data": {
      "text/plain": [
       "0    19784\n",
       "1     1741\n",
       "Name: debt, dtype: int64"
      ]
     },
     "execution_count": 28,
     "metadata": {},
     "output_type": "execute_result"
    }
   ],
   "source": [
    "data['debt'].value_counts()"
   ]
  },
  {
   "cell_type": "markdown",
   "metadata": {},
   "source": [
    "Пропусков нету."
   ]
  },
  {
   "cell_type": "markdown",
   "metadata": {},
   "source": [
    "Вывод: Пропуски в категориальных переменных скорее всего вызваны человеческим фактором. Пропуски в количественных переменных вызваны или ошибкой в формулах расчета, или, например, ошибкой импортирования данных из другой базы."
   ]
  },
  {
   "cell_type": "markdown",
   "metadata": {},
   "source": [
    "### Замена типа данных"
   ]
  },
  {
   "cell_type": "markdown",
   "metadata": {},
   "source": [
    "Рассмотрим типы переменных."
   ]
  },
  {
   "cell_type": "code",
   "execution_count": 29,
   "metadata": {},
   "outputs": [
    {
     "name": "stdout",
     "output_type": "stream",
     "text": [
      "<class 'pandas.core.frame.DataFrame'>\n",
      "RangeIndex: 21525 entries, 0 to 21524\n",
      "Data columns (total 12 columns):\n",
      " #   Column            Non-Null Count  Dtype  \n",
      "---  ------            --------------  -----  \n",
      " 0   children          21525 non-null  int64  \n",
      " 1   days_employed     21525 non-null  float64\n",
      " 2   dob_years         21525 non-null  int64  \n",
      " 3   education         21525 non-null  object \n",
      " 4   education_id      21525 non-null  int64  \n",
      " 5   family_status     21525 non-null  object \n",
      " 6   family_status_id  21525 non-null  int64  \n",
      " 7   gender            21525 non-null  object \n",
      " 8   income_type       21525 non-null  object \n",
      " 9   debt              21525 non-null  int64  \n",
      " 10  total_income      21525 non-null  float64\n",
      " 11  purpose           21525 non-null  object \n",
      "dtypes: float64(2), int64(5), object(5)\n",
      "memory usage: 2.0+ MB\n"
     ]
    }
   ],
   "source": [
    "data.info()"
   ]
  },
  {
   "cell_type": "markdown",
   "metadata": {},
   "source": [
    "days_employed, total_income в вещественном формате. Количество дней должно быть целочисленным, но так как в нашем исследовании эти данные не используются, не будем менять их тип. Доход переведем в целочисленный формат для простоты расчета. Для замены из вещественного формата в целочисленный в pandas используется метод astype()"
   ]
  },
  {
   "cell_type": "code",
   "execution_count": 30,
   "metadata": {},
   "outputs": [],
   "source": [
    "data['total_income'] = data['total_income'].astype('int')"
   ]
  },
  {
   "cell_type": "markdown",
   "metadata": {},
   "source": [
    "Проверим замену типа переменной."
   ]
  },
  {
   "cell_type": "code",
   "execution_count": 31,
   "metadata": {},
   "outputs": [
    {
     "name": "stdout",
     "output_type": "stream",
     "text": [
      "<class 'pandas.core.frame.DataFrame'>\n",
      "RangeIndex: 21525 entries, 0 to 21524\n",
      "Data columns (total 12 columns):\n",
      " #   Column            Non-Null Count  Dtype  \n",
      "---  ------            --------------  -----  \n",
      " 0   children          21525 non-null  int64  \n",
      " 1   days_employed     21525 non-null  float64\n",
      " 2   dob_years         21525 non-null  int64  \n",
      " 3   education         21525 non-null  object \n",
      " 4   education_id      21525 non-null  int64  \n",
      " 5   family_status     21525 non-null  object \n",
      " 6   family_status_id  21525 non-null  int64  \n",
      " 7   gender            21525 non-null  object \n",
      " 8   income_type       21525 non-null  object \n",
      " 9   debt              21525 non-null  int64  \n",
      " 10  total_income      21525 non-null  int32  \n",
      " 11  purpose           21525 non-null  object \n",
      "dtypes: float64(1), int32(1), int64(5), object(5)\n",
      "memory usage: 1.9+ MB\n"
     ]
    }
   ],
   "source": [
    "data.info()"
   ]
  },
  {
   "cell_type": "code",
   "execution_count": 32,
   "metadata": {},
   "outputs": [
    {
     "data": {
      "text/html": [
       "<div>\n",
       "<style scoped>\n",
       "    .dataframe tbody tr th:only-of-type {\n",
       "        vertical-align: middle;\n",
       "    }\n",
       "\n",
       "    .dataframe tbody tr th {\n",
       "        vertical-align: top;\n",
       "    }\n",
       "\n",
       "    .dataframe thead th {\n",
       "        text-align: right;\n",
       "    }\n",
       "</style>\n",
       "<table border=\"1\" class=\"dataframe\">\n",
       "  <thead>\n",
       "    <tr style=\"text-align: right;\">\n",
       "      <th></th>\n",
       "      <th>children</th>\n",
       "      <th>days_employed</th>\n",
       "      <th>dob_years</th>\n",
       "      <th>education</th>\n",
       "      <th>education_id</th>\n",
       "      <th>family_status</th>\n",
       "      <th>family_status_id</th>\n",
       "      <th>gender</th>\n",
       "      <th>income_type</th>\n",
       "      <th>debt</th>\n",
       "      <th>total_income</th>\n",
       "      <th>purpose</th>\n",
       "    </tr>\n",
       "  </thead>\n",
       "  <tbody>\n",
       "    <tr>\n",
       "      <th>0</th>\n",
       "      <td>1</td>\n",
       "      <td>-8437.673028</td>\n",
       "      <td>42</td>\n",
       "      <td>высшее</td>\n",
       "      <td>0</td>\n",
       "      <td>женат / замужем</td>\n",
       "      <td>0</td>\n",
       "      <td>F</td>\n",
       "      <td>сотрудник</td>\n",
       "      <td>0</td>\n",
       "      <td>253875</td>\n",
       "      <td>покупка жилья</td>\n",
       "    </tr>\n",
       "    <tr>\n",
       "      <th>1</th>\n",
       "      <td>1</td>\n",
       "      <td>-4024.803754</td>\n",
       "      <td>36</td>\n",
       "      <td>среднее</td>\n",
       "      <td>1</td>\n",
       "      <td>женат / замужем</td>\n",
       "      <td>0</td>\n",
       "      <td>F</td>\n",
       "      <td>сотрудник</td>\n",
       "      <td>0</td>\n",
       "      <td>112080</td>\n",
       "      <td>приобретение автомобиля</td>\n",
       "    </tr>\n",
       "    <tr>\n",
       "      <th>2</th>\n",
       "      <td>0</td>\n",
       "      <td>-5623.422610</td>\n",
       "      <td>33</td>\n",
       "      <td>Среднее</td>\n",
       "      <td>1</td>\n",
       "      <td>женат / замужем</td>\n",
       "      <td>0</td>\n",
       "      <td>M</td>\n",
       "      <td>сотрудник</td>\n",
       "      <td>0</td>\n",
       "      <td>145885</td>\n",
       "      <td>покупка жилья</td>\n",
       "    </tr>\n",
       "    <tr>\n",
       "      <th>3</th>\n",
       "      <td>3</td>\n",
       "      <td>-4124.747207</td>\n",
       "      <td>32</td>\n",
       "      <td>среднее</td>\n",
       "      <td>1</td>\n",
       "      <td>женат / замужем</td>\n",
       "      <td>0</td>\n",
       "      <td>M</td>\n",
       "      <td>сотрудник</td>\n",
       "      <td>0</td>\n",
       "      <td>267628</td>\n",
       "      <td>дополнительное образование</td>\n",
       "    </tr>\n",
       "    <tr>\n",
       "      <th>4</th>\n",
       "      <td>0</td>\n",
       "      <td>340266.072047</td>\n",
       "      <td>53</td>\n",
       "      <td>среднее</td>\n",
       "      <td>1</td>\n",
       "      <td>гражданский брак</td>\n",
       "      <td>1</td>\n",
       "      <td>F</td>\n",
       "      <td>пенсионер</td>\n",
       "      <td>0</td>\n",
       "      <td>158616</td>\n",
       "      <td>сыграть свадьбу</td>\n",
       "    </tr>\n",
       "  </tbody>\n",
       "</table>\n",
       "</div>"
      ],
      "text/plain": [
       "   children  days_employed  dob_years education  education_id  \\\n",
       "0         1   -8437.673028         42    высшее             0   \n",
       "1         1   -4024.803754         36   среднее             1   \n",
       "2         0   -5623.422610         33   Среднее             1   \n",
       "3         3   -4124.747207         32   среднее             1   \n",
       "4         0  340266.072047         53   среднее             1   \n",
       "\n",
       "      family_status  family_status_id gender income_type  debt  total_income  \\\n",
       "0   женат / замужем                 0      F   сотрудник     0        253875   \n",
       "1   женат / замужем                 0      F   сотрудник     0        112080   \n",
       "2   женат / замужем                 0      M   сотрудник     0        145885   \n",
       "3   женат / замужем                 0      M   сотрудник     0        267628   \n",
       "4  гражданский брак                 1      F   пенсионер     0        158616   \n",
       "\n",
       "                      purpose  \n",
       "0               покупка жилья  \n",
       "1     приобретение автомобиля  \n",
       "2               покупка жилья  \n",
       "3  дополнительное образование  \n",
       "4             сыграть свадьбу  "
      ]
     },
     "execution_count": 32,
     "metadata": {},
     "output_type": "execute_result"
    }
   ],
   "source": [
    "data.head()"
   ]
  },
  {
   "cell_type": "markdown",
   "metadata": {},
   "source": [
    "Проверим, есть ли отрицательные, артефактные значения в total_income."
   ]
  },
  {
   "cell_type": "code",
   "execution_count": 33,
   "metadata": {},
   "outputs": [
    {
     "data": {
      "text/plain": [
       "20667"
      ]
     },
     "execution_count": 33,
     "metadata": {},
     "output_type": "execute_result"
    }
   ],
   "source": [
    "data['total_income'].min()"
   ]
  },
  {
   "cell_type": "markdown",
   "metadata": {},
   "source": [
    "Вывод: Данные в total_income приведены в целочисленный формат и не имеют отрицательных значений."
   ]
  },
  {
   "cell_type": "markdown",
   "metadata": {},
   "source": [
    "### Обработка дубликатов"
   ]
  },
  {
   "cell_type": "markdown",
   "metadata": {},
   "source": [
    "Переведем значения в education в нижний регистр"
   ]
  },
  {
   "cell_type": "code",
   "execution_count": 34,
   "metadata": {},
   "outputs": [],
   "source": [
    "data['education'] = data['education'].str.lower()"
   ]
  },
  {
   "cell_type": "markdown",
   "metadata": {},
   "source": [
    "Проверим замену."
   ]
  },
  {
   "cell_type": "code",
   "execution_count": 35,
   "metadata": {},
   "outputs": [
    {
     "data": {
      "text/plain": [
       "среднее                15233\n",
       "высшее                  5260\n",
       "неоконченное высшее      744\n",
       "начальное                282\n",
       "ученая степень             6\n",
       "Name: education, dtype: int64"
      ]
     },
     "execution_count": 35,
     "metadata": {},
     "output_type": "execute_result"
    }
   ],
   "source": [
    "data['education'].value_counts()"
   ]
  },
  {
   "cell_type": "markdown",
   "metadata": {},
   "source": [
    "Проверим, совпадают ли эти значения с education_id."
   ]
  },
  {
   "cell_type": "code",
   "execution_count": 36,
   "metadata": {},
   "outputs": [
    {
     "data": {
      "text/plain": [
       "1    15233\n",
       "0     5260\n",
       "2      744\n",
       "3      282\n",
       "4        6\n",
       "Name: education_id, dtype: int64"
      ]
     },
     "execution_count": 36,
     "metadata": {},
     "output_type": "execute_result"
    }
   ],
   "source": [
    "data['education_id'].value_counts()"
   ]
  },
  {
   "cell_type": "markdown",
   "metadata": {},
   "source": [
    "Посмотрим, имеются ли дупликаты в записях."
   ]
  },
  {
   "cell_type": "code",
   "execution_count": 37,
   "metadata": {},
   "outputs": [
    {
     "data": {
      "text/plain": [
       "71"
      ]
     },
     "execution_count": 37,
     "metadata": {},
     "output_type": "execute_result"
    }
   ],
   "source": [
    "data.duplicated().sum()"
   ]
  },
  {
   "cell_type": "markdown",
   "metadata": {},
   "source": [
    "Скорее всего, они появились там, где мы заменяли пропуски в days_employed и total_income. Потому что, в такой большой выборке присутствует высокий шанс, что найдутся значения с одинаковым набором категориальных параметров в отсутствии разброса в числовых."
   ]
  },
  {
   "cell_type": "markdown",
   "metadata": {},
   "source": [
    "Вывод: Дупликаты в значениях purpose вызваны человеским фактором. Дупликаты в нашей базе получились искусственным образом при работе с пропусками. Их удаление может повлиять на результаты исследований. Не будем этого делать."
   ]
  },
  {
   "cell_type": "markdown",
   "metadata": {},
   "source": [
    "### Лемматизация"
   ]
  },
  {
   "cell_type": "markdown",
   "metadata": {},
   "source": [
    "Посмотрим на уникальные значения в 'purpose'"
   ]
  },
  {
   "cell_type": "code",
   "execution_count": 38,
   "metadata": {
    "scrolled": true
   },
   "outputs": [
    {
     "data": {
      "text/plain": [
       "свадьба                                   797\n",
       "на проведение свадьбы                     777\n",
       "сыграть свадьбу                           774\n",
       "операции с недвижимостью                  676\n",
       "покупка коммерческой недвижимости         664\n",
       "покупка жилья для сдачи                   653\n",
       "операции с жильем                         653\n",
       "операции с коммерческой недвижимостью     651\n",
       "покупка жилья                             647\n",
       "жилье                                     647\n",
       "покупка жилья для семьи                   641\n",
       "строительство собственной недвижимости    635\n",
       "недвижимость                              634\n",
       "операции со своей недвижимостью           630\n",
       "строительство жилой недвижимости          626\n",
       "покупка недвижимости                      624\n",
       "строительство недвижимости                620\n",
       "покупка своего жилья                      620\n",
       "ремонт жилью                              612\n",
       "покупка жилой недвижимости                607\n",
       "на покупку своего автомобиля              505\n",
       "заняться высшим образованием              496\n",
       "автомобиль                                495\n",
       "сделка с подержанным автомобилем          489\n",
       "свой автомобиль                           480\n",
       "на покупку подержанного автомобиля        479\n",
       "автомобили                                478\n",
       "на покупку автомобиля                     472\n",
       "дополнительное образование                462\n",
       "приобретение автомобиля                   462\n",
       "сделка с автомобилем                      455\n",
       "высшее образование                        453\n",
       "образование                               447\n",
       "получение дополнительного образования     447\n",
       "получение образования                     443\n",
       "профильное образование                    436\n",
       "получение высшего образования             426\n",
       "заняться образованием                     412\n",
       "Name: purpose, dtype: int64"
      ]
     },
     "execution_count": 38,
     "metadata": {},
     "output_type": "execute_result"
    }
   ],
   "source": [
    "data['purpose'].value_counts()"
   ]
  },
  {
   "cell_type": "markdown",
   "metadata": {},
   "source": [
    "Много общих по смыслу значений. Посмотрим, какие леммы встречаются наиболее часто. А также сделаем словарь который связывает уникальное значение в purpose с его лемматизацией. Это понадобится нам для дальнейшей категоризации."
   ]
  },
  {
   "cell_type": "code",
   "execution_count": 39,
   "metadata": {},
   "outputs": [
    {
     "name": "stdout",
     "output_type": "stream",
     "text": [
      "Counter({' ': 59, '\\n': 38, 'покупка': 10, 'недвижимость': 10, 'автомобиль': 9, 'образование': 9, 'жилье': 7, 'с': 5, 'операция': 4, 'на': 4, 'свой': 4, 'свадьба': 3, 'строительство': 3, 'получение': 3, 'высокий': 3, 'дополнительный': 2, 'для': 2, 'коммерческий': 2, 'жилой': 2, 'заниматься': 2, 'сделка': 2, 'приобретение': 1, 'сыграть': 1, 'проведение': 1, 'семья': 1, 'собственный': 1, 'подержать': 1, 'со': 1, 'подержанный': 1, 'профильный': 1, 'сдача': 1, 'ремонт': 1})\n"
     ]
    }
   ],
   "source": [
    "lemmas = []\n",
    "lemmas_dict = {}\n",
    "m = Mystem()\n",
    "\n",
    "for unique in data['purpose'].unique():\n",
    "    unique_lemmas = m.lemmatize(unique)\n",
    "    lemmas_dict[unique] = unique_lemmas\n",
    "    lemmas.extend(unique_lemmas)\n",
    "\n",
    "print(Counter(lemmas))"
   ]
  },
  {
   "cell_type": "markdown",
   "metadata": {},
   "source": [
    "Вывод: Частотные леммы, которые можно выделить в отдельные группы: \"недвижимость\"(сюда также отнесем \"жилье\"), \"образование\", \"автомобиль\", \"свадьба\". Они покрывают всю выборку значений в purpose."
   ]
  },
  {
   "cell_type": "markdown",
   "metadata": {},
   "source": [
    "### Категоризация данных"
   ]
  },
  {
   "cell_type": "markdown",
   "metadata": {},
   "source": [
    "Для значений из purpose выделим 4 большие категории: 'недвижимость', 'свадьба', 'автомобиль', 'образование'. Для этого напишем функцию, которая, используя полученный словарь с лемматизацией, для каждого значения из purpose, присвоет нужную категорию."
   ]
  },
  {
   "cell_type": "code",
   "execution_count": 40,
   "metadata": {},
   "outputs": [],
   "source": [
    "def group_purpose(row):\n",
    "    for value in lemmas_dict[row['purpose']]:\n",
    "        if value == 'свадьба':\n",
    "            return 'свадьба'\n",
    "        elif ( (value == 'недвижимость') or (value == 'жилье') ):\n",
    "            return 'недвижимость'   \n",
    "        elif value == 'автомобиль':\n",
    "            return 'автомобиль'    \n",
    "        elif value == 'образование':\n",
    "            return 'образование'     \n",
    "\n",
    "        "
   ]
  },
  {
   "cell_type": "markdown",
   "metadata": {},
   "source": [
    "<div class=\"alert alert-info\">Так и хотел вначале но, посмотрев на скорость лемматизации, отбросил эту идею) Не соглашусь с тем, что это сокращает время. Если мы лемматизировали только уникальные значения и сделали словарь, это должно быть точно быстрее, чем лемматизировать весь массив в 20к строчек. Мне кажется, даже с алгоритмической точки зрения, это правильный подход - зачем нам лемматизировать множество повторяющихся значений?</div>"
   ]
  },
  {
   "cell_type": "code",
   "execution_count": 41,
   "metadata": {},
   "outputs": [],
   "source": [
    "import time"
   ]
  },
  {
   "cell_type": "code",
   "execution_count": 42,
   "metadata": {},
   "outputs": [],
   "source": [
    "data['purpose_group'] = data.apply(group_purpose, axis=1) "
   ]
  },
  {
   "cell_type": "markdown",
   "metadata": {},
   "source": [
    "Проверим результат."
   ]
  },
  {
   "cell_type": "code",
   "execution_count": 43,
   "metadata": {},
   "outputs": [
    {
     "data": {
      "text/html": [
       "<div>\n",
       "<style scoped>\n",
       "    .dataframe tbody tr th:only-of-type {\n",
       "        vertical-align: middle;\n",
       "    }\n",
       "\n",
       "    .dataframe tbody tr th {\n",
       "        vertical-align: top;\n",
       "    }\n",
       "\n",
       "    .dataframe thead th {\n",
       "        text-align: right;\n",
       "    }\n",
       "</style>\n",
       "<table border=\"1\" class=\"dataframe\">\n",
       "  <thead>\n",
       "    <tr style=\"text-align: right;\">\n",
       "      <th></th>\n",
       "      <th>children</th>\n",
       "      <th>days_employed</th>\n",
       "      <th>dob_years</th>\n",
       "      <th>education</th>\n",
       "      <th>education_id</th>\n",
       "      <th>family_status</th>\n",
       "      <th>family_status_id</th>\n",
       "      <th>gender</th>\n",
       "      <th>income_type</th>\n",
       "      <th>debt</th>\n",
       "      <th>total_income</th>\n",
       "      <th>purpose</th>\n",
       "      <th>purpose_group</th>\n",
       "    </tr>\n",
       "  </thead>\n",
       "  <tbody>\n",
       "    <tr>\n",
       "      <th>0</th>\n",
       "      <td>1</td>\n",
       "      <td>-8437.673028</td>\n",
       "      <td>42</td>\n",
       "      <td>высшее</td>\n",
       "      <td>0</td>\n",
       "      <td>женат / замужем</td>\n",
       "      <td>0</td>\n",
       "      <td>F</td>\n",
       "      <td>сотрудник</td>\n",
       "      <td>0</td>\n",
       "      <td>253875</td>\n",
       "      <td>покупка жилья</td>\n",
       "      <td>недвижимость</td>\n",
       "    </tr>\n",
       "    <tr>\n",
       "      <th>1</th>\n",
       "      <td>1</td>\n",
       "      <td>-4024.803754</td>\n",
       "      <td>36</td>\n",
       "      <td>среднее</td>\n",
       "      <td>1</td>\n",
       "      <td>женат / замужем</td>\n",
       "      <td>0</td>\n",
       "      <td>F</td>\n",
       "      <td>сотрудник</td>\n",
       "      <td>0</td>\n",
       "      <td>112080</td>\n",
       "      <td>приобретение автомобиля</td>\n",
       "      <td>автомобиль</td>\n",
       "    </tr>\n",
       "    <tr>\n",
       "      <th>2</th>\n",
       "      <td>0</td>\n",
       "      <td>-5623.422610</td>\n",
       "      <td>33</td>\n",
       "      <td>среднее</td>\n",
       "      <td>1</td>\n",
       "      <td>женат / замужем</td>\n",
       "      <td>0</td>\n",
       "      <td>M</td>\n",
       "      <td>сотрудник</td>\n",
       "      <td>0</td>\n",
       "      <td>145885</td>\n",
       "      <td>покупка жилья</td>\n",
       "      <td>недвижимость</td>\n",
       "    </tr>\n",
       "    <tr>\n",
       "      <th>3</th>\n",
       "      <td>3</td>\n",
       "      <td>-4124.747207</td>\n",
       "      <td>32</td>\n",
       "      <td>среднее</td>\n",
       "      <td>1</td>\n",
       "      <td>женат / замужем</td>\n",
       "      <td>0</td>\n",
       "      <td>M</td>\n",
       "      <td>сотрудник</td>\n",
       "      <td>0</td>\n",
       "      <td>267628</td>\n",
       "      <td>дополнительное образование</td>\n",
       "      <td>образование</td>\n",
       "    </tr>\n",
       "    <tr>\n",
       "      <th>4</th>\n",
       "      <td>0</td>\n",
       "      <td>340266.072047</td>\n",
       "      <td>53</td>\n",
       "      <td>среднее</td>\n",
       "      <td>1</td>\n",
       "      <td>гражданский брак</td>\n",
       "      <td>1</td>\n",
       "      <td>F</td>\n",
       "      <td>пенсионер</td>\n",
       "      <td>0</td>\n",
       "      <td>158616</td>\n",
       "      <td>сыграть свадьбу</td>\n",
       "      <td>свадьба</td>\n",
       "    </tr>\n",
       "  </tbody>\n",
       "</table>\n",
       "</div>"
      ],
      "text/plain": [
       "   children  days_employed  dob_years education  education_id  \\\n",
       "0         1   -8437.673028         42    высшее             0   \n",
       "1         1   -4024.803754         36   среднее             1   \n",
       "2         0   -5623.422610         33   среднее             1   \n",
       "3         3   -4124.747207         32   среднее             1   \n",
       "4         0  340266.072047         53   среднее             1   \n",
       "\n",
       "      family_status  family_status_id gender income_type  debt  total_income  \\\n",
       "0   женат / замужем                 0      F   сотрудник     0        253875   \n",
       "1   женат / замужем                 0      F   сотрудник     0        112080   \n",
       "2   женат / замужем                 0      M   сотрудник     0        145885   \n",
       "3   женат / замужем                 0      M   сотрудник     0        267628   \n",
       "4  гражданский брак                 1      F   пенсионер     0        158616   \n",
       "\n",
       "                      purpose purpose_group  \n",
       "0               покупка жилья  недвижимость  \n",
       "1     приобретение автомобиля    автомобиль  \n",
       "2               покупка жилья  недвижимость  \n",
       "3  дополнительное образование   образование  \n",
       "4             сыграть свадьбу       свадьба  "
      ]
     },
     "execution_count": 43,
     "metadata": {},
     "output_type": "execute_result"
    }
   ],
   "source": [
    "data.head()"
   ]
  },
  {
   "cell_type": "markdown",
   "metadata": {},
   "source": [
    "Сделаем категоризацию для total_income(доход). Для этого сгруппируем наши данные по типу дохода и рассмотрим общие значение для этой переменной."
   ]
  },
  {
   "cell_type": "code",
   "execution_count": 44,
   "metadata": {},
   "outputs": [
    {
     "data": {
      "text/plain": [
       "income_type\n",
       "безработный        131339.000000\n",
       "в декрете           53829.000000\n",
       "госслужащий        168837.299520\n",
       "компаньон          199413.927237\n",
       "пенсионер          135133.413641\n",
       "предприниматель    499163.000000\n",
       "сотрудник          159512.838205\n",
       "студент             98201.000000\n",
       "Name: total_income, dtype: float64"
      ]
     },
     "execution_count": 44,
     "metadata": {},
     "output_type": "execute_result"
    }
   ],
   "source": [
    "data.groupby('income_type')['total_income'].mean()\n"
   ]
  },
  {
   "cell_type": "code",
   "execution_count": 45,
   "metadata": {},
   "outputs": [
    {
     "data": {
      "text/plain": [
       "income_type\n",
       "безработный        131339.0\n",
       "в декрете           53829.0\n",
       "госслужащий        150447.0\n",
       "компаньон          172357.0\n",
       "пенсионер          118514.0\n",
       "предприниматель    499163.0\n",
       "сотрудник          142594.0\n",
       "студент             98201.0\n",
       "Name: total_income, dtype: float64"
      ]
     },
     "execution_count": 45,
     "metadata": {},
     "output_type": "execute_result"
    }
   ],
   "source": [
    "data.groupby('income_type')['total_income'].median()"
   ]
  },
  {
   "cell_type": "code",
   "execution_count": 46,
   "metadata": {},
   "outputs": [
    {
     "data": {
      "text/plain": [
       "income_type\n",
       "безработный         202722\n",
       "в декрете            53829\n",
       "госслужащий         910451\n",
       "компаньон          2265604\n",
       "пенсионер           735103\n",
       "предприниматель     499163\n",
       "сотрудник          1726276\n",
       "студент              98201\n",
       "Name: total_income, dtype: int32"
      ]
     },
     "execution_count": 46,
     "metadata": {},
     "output_type": "execute_result"
    }
   ],
   "source": [
    "data.groupby('income_type')['total_income'].max()"
   ]
  },
  {
   "cell_type": "code",
   "execution_count": 47,
   "metadata": {},
   "outputs": [
    {
     "data": {
      "text/plain": [
       "income_type\n",
       "безработный         59956\n",
       "в декрете           53829\n",
       "госслужащий         29200\n",
       "компаньон           28702\n",
       "пенсионер           20667\n",
       "предприниматель    499163\n",
       "сотрудник           21367\n",
       "студент             98201\n",
       "Name: total_income, dtype: int32"
      ]
     },
     "execution_count": 47,
     "metadata": {},
     "output_type": "execute_result"
    }
   ],
   "source": [
    "data.groupby('income_type')['total_income'].min()"
   ]
  },
  {
   "cell_type": "code",
   "execution_count": 48,
   "metadata": {},
   "outputs": [
    {
     "data": {
      "text/html": [
       "<div>\n",
       "<style scoped>\n",
       "    .dataframe tbody tr th:only-of-type {\n",
       "        vertical-align: middle;\n",
       "    }\n",
       "\n",
       "    .dataframe tbody tr th {\n",
       "        vertical-align: top;\n",
       "    }\n",
       "\n",
       "    .dataframe thead th {\n",
       "        text-align: right;\n",
       "    }\n",
       "</style>\n",
       "<table border=\"1\" class=\"dataframe\">\n",
       "  <thead>\n",
       "    <tr style=\"text-align: right;\">\n",
       "      <th></th>\n",
       "      <th>mean</th>\n",
       "      <th>median</th>\n",
       "      <th>max</th>\n",
       "      <th>min</th>\n",
       "    </tr>\n",
       "    <tr>\n",
       "      <th>income_type</th>\n",
       "      <th></th>\n",
       "      <th></th>\n",
       "      <th></th>\n",
       "      <th></th>\n",
       "    </tr>\n",
       "  </thead>\n",
       "  <tbody>\n",
       "    <tr>\n",
       "      <th>безработный</th>\n",
       "      <td>131339.000000</td>\n",
       "      <td>131339.0</td>\n",
       "      <td>202722</td>\n",
       "      <td>59956</td>\n",
       "    </tr>\n",
       "    <tr>\n",
       "      <th>в декрете</th>\n",
       "      <td>53829.000000</td>\n",
       "      <td>53829.0</td>\n",
       "      <td>53829</td>\n",
       "      <td>53829</td>\n",
       "    </tr>\n",
       "    <tr>\n",
       "      <th>госслужащий</th>\n",
       "      <td>168837.299520</td>\n",
       "      <td>150447.0</td>\n",
       "      <td>910451</td>\n",
       "      <td>29200</td>\n",
       "    </tr>\n",
       "    <tr>\n",
       "      <th>компаньон</th>\n",
       "      <td>199413.927237</td>\n",
       "      <td>172357.0</td>\n",
       "      <td>2265604</td>\n",
       "      <td>28702</td>\n",
       "    </tr>\n",
       "    <tr>\n",
       "      <th>пенсионер</th>\n",
       "      <td>135133.413641</td>\n",
       "      <td>118514.0</td>\n",
       "      <td>735103</td>\n",
       "      <td>20667</td>\n",
       "    </tr>\n",
       "    <tr>\n",
       "      <th>предприниматель</th>\n",
       "      <td>499163.000000</td>\n",
       "      <td>499163.0</td>\n",
       "      <td>499163</td>\n",
       "      <td>499163</td>\n",
       "    </tr>\n",
       "    <tr>\n",
       "      <th>сотрудник</th>\n",
       "      <td>159512.838205</td>\n",
       "      <td>142594.0</td>\n",
       "      <td>1726276</td>\n",
       "      <td>21367</td>\n",
       "    </tr>\n",
       "    <tr>\n",
       "      <th>студент</th>\n",
       "      <td>98201.000000</td>\n",
       "      <td>98201.0</td>\n",
       "      <td>98201</td>\n",
       "      <td>98201</td>\n",
       "    </tr>\n",
       "  </tbody>\n",
       "</table>\n",
       "</div>"
      ],
      "text/plain": [
       "                          mean    median      max     min\n",
       "income_type                                              \n",
       "безработный      131339.000000  131339.0   202722   59956\n",
       "в декрете         53829.000000   53829.0    53829   53829\n",
       "госслужащий      168837.299520  150447.0   910451   29200\n",
       "компаньон        199413.927237  172357.0  2265604   28702\n",
       "пенсионер        135133.413641  118514.0   735103   20667\n",
       "предприниматель  499163.000000  499163.0   499163  499163\n",
       "сотрудник        159512.838205  142594.0  1726276   21367\n",
       "студент           98201.000000   98201.0    98201   98201"
      ]
     },
     "execution_count": 48,
     "metadata": {},
     "output_type": "execute_result"
    }
   ],
   "source": [
    "data.groupby('income_type')['total_income'].agg(['mean', 'median', 'max', 'min'])"
   ]
  },
  {
   "cell_type": "markdown",
   "metadata": {},
   "source": [
    "Применим метов cut() для расчета диапазонов категоризации."
   ]
  },
  {
   "cell_type": "code",
   "execution_count": 49,
   "metadata": {},
   "outputs": [
    {
     "data": {
      "text/plain": [
       "0        (195549.0, 2265604.0]\n",
       "1         (107798.0, 142594.0]\n",
       "2         (142594.0, 195549.0]\n",
       "3        (195549.0, 2265604.0]\n",
       "4         (142594.0, 195549.0]\n",
       "                 ...          \n",
       "21520    (195549.0, 2265604.0]\n",
       "21521     (142594.0, 195549.0]\n",
       "21522    (20666.999, 107798.0]\n",
       "21523    (195549.0, 2265604.0]\n",
       "21524    (20666.999, 107798.0]\n",
       "Name: total_income, Length: 21525, dtype: category\n",
       "Categories (4, interval[float64, right]): [(20666.999, 107798.0] < (107798.0, 142594.0] < (142594.0, 195549.0] < (195549.0, 2265604.0]]"
      ]
     },
     "execution_count": 49,
     "metadata": {},
     "output_type": "execute_result"
    }
   ],
   "source": [
    "pd.qcut(data['total_income'], 4)\n"
   ]
  },
  {
   "cell_type": "code",
   "execution_count": 50,
   "metadata": {},
   "outputs": [],
   "source": [
    "def group_total_income(row):\n",
    "        total_income = row['total_income']\n",
    "        if  0 <= total_income <= 107000:\n",
    "            return 'низкий'\n",
    "        elif 107000 < total_income <= 142000:\n",
    "            return 'средний'   \n",
    "        elif 142000 < total_income < 195000:\n",
    "            return 'высокий'\n",
    "        elif 195000 < total_income:\n",
    "            return 'сверхвысокий'\n",
    "          "
   ]
  },
  {
   "cell_type": "markdown",
   "metadata": {},
   "source": [
    "Применим полученную функцию"
   ]
  },
  {
   "cell_type": "code",
   "execution_count": 51,
   "metadata": {},
   "outputs": [],
   "source": [
    "data['total_income_group'] = data.apply(group_total_income, axis=1)"
   ]
  },
  {
   "cell_type": "markdown",
   "metadata": {},
   "source": [
    "Проверим работу функции"
   ]
  },
  {
   "cell_type": "code",
   "execution_count": 52,
   "metadata": {
    "scrolled": true
   },
   "outputs": [
    {
     "data": {
      "text/html": [
       "<div>\n",
       "<style scoped>\n",
       "    .dataframe tbody tr th:only-of-type {\n",
       "        vertical-align: middle;\n",
       "    }\n",
       "\n",
       "    .dataframe tbody tr th {\n",
       "        vertical-align: top;\n",
       "    }\n",
       "\n",
       "    .dataframe thead th {\n",
       "        text-align: right;\n",
       "    }\n",
       "</style>\n",
       "<table border=\"1\" class=\"dataframe\">\n",
       "  <thead>\n",
       "    <tr style=\"text-align: right;\">\n",
       "      <th></th>\n",
       "      <th>children</th>\n",
       "      <th>days_employed</th>\n",
       "      <th>dob_years</th>\n",
       "      <th>education</th>\n",
       "      <th>education_id</th>\n",
       "      <th>family_status</th>\n",
       "      <th>family_status_id</th>\n",
       "      <th>gender</th>\n",
       "      <th>income_type</th>\n",
       "      <th>debt</th>\n",
       "      <th>total_income</th>\n",
       "      <th>purpose</th>\n",
       "      <th>purpose_group</th>\n",
       "      <th>total_income_group</th>\n",
       "    </tr>\n",
       "  </thead>\n",
       "  <tbody>\n",
       "    <tr>\n",
       "      <th>0</th>\n",
       "      <td>1</td>\n",
       "      <td>-8437.673028</td>\n",
       "      <td>42</td>\n",
       "      <td>высшее</td>\n",
       "      <td>0</td>\n",
       "      <td>женат / замужем</td>\n",
       "      <td>0</td>\n",
       "      <td>F</td>\n",
       "      <td>сотрудник</td>\n",
       "      <td>0</td>\n",
       "      <td>253875</td>\n",
       "      <td>покупка жилья</td>\n",
       "      <td>недвижимость</td>\n",
       "      <td>сверхвысокий</td>\n",
       "    </tr>\n",
       "    <tr>\n",
       "      <th>1</th>\n",
       "      <td>1</td>\n",
       "      <td>-4024.803754</td>\n",
       "      <td>36</td>\n",
       "      <td>среднее</td>\n",
       "      <td>1</td>\n",
       "      <td>женат / замужем</td>\n",
       "      <td>0</td>\n",
       "      <td>F</td>\n",
       "      <td>сотрудник</td>\n",
       "      <td>0</td>\n",
       "      <td>112080</td>\n",
       "      <td>приобретение автомобиля</td>\n",
       "      <td>автомобиль</td>\n",
       "      <td>средний</td>\n",
       "    </tr>\n",
       "    <tr>\n",
       "      <th>2</th>\n",
       "      <td>0</td>\n",
       "      <td>-5623.422610</td>\n",
       "      <td>33</td>\n",
       "      <td>среднее</td>\n",
       "      <td>1</td>\n",
       "      <td>женат / замужем</td>\n",
       "      <td>0</td>\n",
       "      <td>M</td>\n",
       "      <td>сотрудник</td>\n",
       "      <td>0</td>\n",
       "      <td>145885</td>\n",
       "      <td>покупка жилья</td>\n",
       "      <td>недвижимость</td>\n",
       "      <td>высокий</td>\n",
       "    </tr>\n",
       "    <tr>\n",
       "      <th>3</th>\n",
       "      <td>3</td>\n",
       "      <td>-4124.747207</td>\n",
       "      <td>32</td>\n",
       "      <td>среднее</td>\n",
       "      <td>1</td>\n",
       "      <td>женат / замужем</td>\n",
       "      <td>0</td>\n",
       "      <td>M</td>\n",
       "      <td>сотрудник</td>\n",
       "      <td>0</td>\n",
       "      <td>267628</td>\n",
       "      <td>дополнительное образование</td>\n",
       "      <td>образование</td>\n",
       "      <td>сверхвысокий</td>\n",
       "    </tr>\n",
       "    <tr>\n",
       "      <th>4</th>\n",
       "      <td>0</td>\n",
       "      <td>340266.072047</td>\n",
       "      <td>53</td>\n",
       "      <td>среднее</td>\n",
       "      <td>1</td>\n",
       "      <td>гражданский брак</td>\n",
       "      <td>1</td>\n",
       "      <td>F</td>\n",
       "      <td>пенсионер</td>\n",
       "      <td>0</td>\n",
       "      <td>158616</td>\n",
       "      <td>сыграть свадьбу</td>\n",
       "      <td>свадьба</td>\n",
       "      <td>высокий</td>\n",
       "    </tr>\n",
       "  </tbody>\n",
       "</table>\n",
       "</div>"
      ],
      "text/plain": [
       "   children  days_employed  dob_years education  education_id  \\\n",
       "0         1   -8437.673028         42    высшее             0   \n",
       "1         1   -4024.803754         36   среднее             1   \n",
       "2         0   -5623.422610         33   среднее             1   \n",
       "3         3   -4124.747207         32   среднее             1   \n",
       "4         0  340266.072047         53   среднее             1   \n",
       "\n",
       "      family_status  family_status_id gender income_type  debt  total_income  \\\n",
       "0   женат / замужем                 0      F   сотрудник     0        253875   \n",
       "1   женат / замужем                 0      F   сотрудник     0        112080   \n",
       "2   женат / замужем                 0      M   сотрудник     0        145885   \n",
       "3   женат / замужем                 0      M   сотрудник     0        267628   \n",
       "4  гражданский брак                 1      F   пенсионер     0        158616   \n",
       "\n",
       "                      purpose purpose_group total_income_group  \n",
       "0               покупка жилья  недвижимость       сверхвысокий  \n",
       "1     приобретение автомобиля    автомобиль            средний  \n",
       "2               покупка жилья  недвижимость            высокий  \n",
       "3  дополнительное образование   образование       сверхвысокий  \n",
       "4             сыграть свадьбу       свадьба            высокий  "
      ]
     },
     "execution_count": 52,
     "metadata": {},
     "output_type": "execute_result"
    }
   ],
   "source": [
    "data.head()"
   ]
  },
  {
   "cell_type": "markdown",
   "metadata": {},
   "source": [
    "Вывод: Для числовых переменных рассмотрели общие значения, и на основе этого составили диапазоны для категорий. Для категориальных переменных воспользовались лемматизацией."
   ]
  },
  {
   "cell_type": "markdown",
   "metadata": {},
   "source": [
    "## Ответы на вопросы"
   ]
  },
  {
   "cell_type": "markdown",
   "metadata": {},
   "source": [
    "Для ответа на поставленные вопросы сделаем сводную табличку для каждой рассматриваемой величины и наличием\\отсутствием задолжностью по кредиту в прошлом. Добавим в каждую из таблиц столбец 'ratio' - отношение количества людей, имеющих опыт задолжности, к тем у кого ее не было. И отсортируем каждую из таблиц по этому значению."
   ]
  },
  {
   "cell_type": "markdown",
   "metadata": {},
   "source": [
    "- Есть ли зависимость между наличием детей и возвратом кредита в срок?"
   ]
  },
  {
   "cell_type": "code",
   "execution_count": 53,
   "metadata": {},
   "outputs": [
    {
     "data": {
      "text/html": [
       "<div>\n",
       "<style scoped>\n",
       "    .dataframe tbody tr th:only-of-type {\n",
       "        vertical-align: middle;\n",
       "    }\n",
       "\n",
       "    .dataframe tbody tr th {\n",
       "        vertical-align: top;\n",
       "    }\n",
       "\n",
       "    .dataframe thead th {\n",
       "        text-align: right;\n",
       "    }\n",
       "</style>\n",
       "<table border=\"1\" class=\"dataframe\">\n",
       "  <thead>\n",
       "    <tr style=\"text-align: right;\">\n",
       "      <th>debt</th>\n",
       "      <th>0</th>\n",
       "      <th>1</th>\n",
       "      <th>ratio</th>\n",
       "    </tr>\n",
       "    <tr>\n",
       "      <th>children</th>\n",
       "      <th></th>\n",
       "      <th></th>\n",
       "      <th></th>\n",
       "    </tr>\n",
       "  </thead>\n",
       "  <tbody>\n",
       "    <tr>\n",
       "      <th>5</th>\n",
       "      <td>9</td>\n",
       "      <td>0</td>\n",
       "      <td>0.000000</td>\n",
       "    </tr>\n",
       "    <tr>\n",
       "      <th>0</th>\n",
       "      <td>13086</td>\n",
       "      <td>1063</td>\n",
       "      <td>0.075129</td>\n",
       "    </tr>\n",
       "    <tr>\n",
       "      <th>3</th>\n",
       "      <td>303</td>\n",
       "      <td>27</td>\n",
       "      <td>0.081818</td>\n",
       "    </tr>\n",
       "    <tr>\n",
       "      <th>1</th>\n",
       "      <td>4420</td>\n",
       "      <td>445</td>\n",
       "      <td>0.091470</td>\n",
       "    </tr>\n",
       "    <tr>\n",
       "      <th>2</th>\n",
       "      <td>1929</td>\n",
       "      <td>202</td>\n",
       "      <td>0.094791</td>\n",
       "    </tr>\n",
       "    <tr>\n",
       "      <th>4</th>\n",
       "      <td>37</td>\n",
       "      <td>4</td>\n",
       "      <td>0.097561</td>\n",
       "    </tr>\n",
       "  </tbody>\n",
       "</table>\n",
       "</div>"
      ],
      "text/plain": [
       "debt          0     1     ratio\n",
       "children                       \n",
       "5             9     0  0.000000\n",
       "0         13086  1063  0.075129\n",
       "3           303    27  0.081818\n",
       "1          4420   445  0.091470\n",
       "2          1929   202  0.094791\n",
       "4            37     4  0.097561"
      ]
     },
     "metadata": {},
     "output_type": "display_data"
    }
   ],
   "source": [
    "data_pivot_children = data.pivot_table(index=['children'], columns='debt', values='purpose', aggfunc='count', fill_value=0)\n",
    "try:\n",
    "    data_pivot_children['ratio'] = data_pivot_children[1] / (data_pivot_children[0] + data_pivot_children[1])\n",
    "except:\n",
    "    print('probably divided by zero')\n",
    "display(data_pivot_children.sort_values('ratio'))"
   ]
  },
  {
   "cell_type": "markdown",
   "metadata": {},
   "source": [
    "Вывод: Основная часть выборки приходится на людей не имеющих детей, имеющих одного ребенка, имеющих двух детей. Первая группа имеет более высокие шансы возврата, чем остальные две. При этом количество детей не имеет значения."
   ]
  },
  {
   "cell_type": "markdown",
   "metadata": {},
   "source": [
    "- Есть ли зависимость между семейным положением и возвратом кредита в срок?"
   ]
  },
  {
   "cell_type": "code",
   "execution_count": 54,
   "metadata": {},
   "outputs": [
    {
     "data": {
      "text/html": [
       "<div>\n",
       "<style scoped>\n",
       "    .dataframe tbody tr th:only-of-type {\n",
       "        vertical-align: middle;\n",
       "    }\n",
       "\n",
       "    .dataframe tbody tr th {\n",
       "        vertical-align: top;\n",
       "    }\n",
       "\n",
       "    .dataframe thead th {\n",
       "        text-align: right;\n",
       "    }\n",
       "</style>\n",
       "<table border=\"1\" class=\"dataframe\">\n",
       "  <thead>\n",
       "    <tr style=\"text-align: right;\">\n",
       "      <th>debt</th>\n",
       "      <th>0</th>\n",
       "      <th>1</th>\n",
       "      <th>ratio</th>\n",
       "    </tr>\n",
       "    <tr>\n",
       "      <th>family_status</th>\n",
       "      <th></th>\n",
       "      <th></th>\n",
       "      <th></th>\n",
       "    </tr>\n",
       "  </thead>\n",
       "  <tbody>\n",
       "    <tr>\n",
       "      <th>вдовец / вдова</th>\n",
       "      <td>897</td>\n",
       "      <td>63</td>\n",
       "      <td>0.065625</td>\n",
       "    </tr>\n",
       "    <tr>\n",
       "      <th>в разводе</th>\n",
       "      <td>1110</td>\n",
       "      <td>85</td>\n",
       "      <td>0.071130</td>\n",
       "    </tr>\n",
       "    <tr>\n",
       "      <th>женат / замужем</th>\n",
       "      <td>11449</td>\n",
       "      <td>931</td>\n",
       "      <td>0.075202</td>\n",
       "    </tr>\n",
       "    <tr>\n",
       "      <th>гражданский брак</th>\n",
       "      <td>3789</td>\n",
       "      <td>388</td>\n",
       "      <td>0.092890</td>\n",
       "    </tr>\n",
       "    <tr>\n",
       "      <th>Не женат / не замужем</th>\n",
       "      <td>2539</td>\n",
       "      <td>274</td>\n",
       "      <td>0.097405</td>\n",
       "    </tr>\n",
       "  </tbody>\n",
       "</table>\n",
       "</div>"
      ],
      "text/plain": [
       "debt                       0    1     ratio\n",
       "family_status                              \n",
       "вдовец / вдова           897   63  0.065625\n",
       "в разводе               1110   85  0.071130\n",
       "женат / замужем        11449  931  0.075202\n",
       "гражданский брак        3789  388  0.092890\n",
       "Не женат / не замужем   2539  274  0.097405"
      ]
     },
     "metadata": {},
     "output_type": "display_data"
    }
   ],
   "source": [
    "data_pivot_family = data.pivot_table(index=['family_status'], columns='debt', values='purpose', aggfunc='count')\n",
    "try:\n",
    "    data_pivot_family['ratio'] = data_pivot_family[1] / (data_pivot_family[0] + data_pivot_family[1])\n",
    "except:\n",
    "    print('probably divided by zero')\n",
    "display(data_pivot_family.sort_values('ratio'))"
   ]
  },
  {
   "cell_type": "markdown",
   "metadata": {},
   "source": [
    "Вывод: Люди, имеющие опыт брака \\ находящиеся в браке, имеют более высокий шанс возврата кредита. "
   ]
  },
  {
   "cell_type": "markdown",
   "metadata": {},
   "source": [
    "- Есть ли зависимость между уровнем дохода и возвратом кредита в срок?"
   ]
  },
  {
   "cell_type": "code",
   "execution_count": 55,
   "metadata": {},
   "outputs": [
    {
     "data": {
      "text/html": [
       "<div>\n",
       "<style scoped>\n",
       "    .dataframe tbody tr th:only-of-type {\n",
       "        vertical-align: middle;\n",
       "    }\n",
       "\n",
       "    .dataframe tbody tr th {\n",
       "        vertical-align: top;\n",
       "    }\n",
       "\n",
       "    .dataframe thead th {\n",
       "        text-align: right;\n",
       "    }\n",
       "</style>\n",
       "<table border=\"1\" class=\"dataframe\">\n",
       "  <thead>\n",
       "    <tr style=\"text-align: right;\">\n",
       "      <th>debt</th>\n",
       "      <th>0</th>\n",
       "      <th>1</th>\n",
       "      <th>ratio</th>\n",
       "    </tr>\n",
       "    <tr>\n",
       "      <th>total_income_group</th>\n",
       "      <th></th>\n",
       "      <th></th>\n",
       "      <th></th>\n",
       "    </tr>\n",
       "  </thead>\n",
       "  <tbody>\n",
       "    <tr>\n",
       "      <th>сверхвысокий</th>\n",
       "      <td>5035</td>\n",
       "      <td>389</td>\n",
       "      <td>0.071718</td>\n",
       "    </tr>\n",
       "    <tr>\n",
       "      <th>низкий</th>\n",
       "      <td>4884</td>\n",
       "      <td>423</td>\n",
       "      <td>0.079706</td>\n",
       "    </tr>\n",
       "    <tr>\n",
       "      <th>средний</th>\n",
       "      <td>4040</td>\n",
       "      <td>379</td>\n",
       "      <td>0.085766</td>\n",
       "    </tr>\n",
       "    <tr>\n",
       "      <th>высокий</th>\n",
       "      <td>5825</td>\n",
       "      <td>550</td>\n",
       "      <td>0.086275</td>\n",
       "    </tr>\n",
       "  </tbody>\n",
       "</table>\n",
       "</div>"
      ],
      "text/plain": [
       "debt                   0    1     ratio\n",
       "total_income_group                     \n",
       "сверхвысокий        5035  389  0.071718\n",
       "низкий              4884  423  0.079706\n",
       "средний             4040  379  0.085766\n",
       "высокий             5825  550  0.086275"
      ]
     },
     "metadata": {},
     "output_type": "display_data"
    }
   ],
   "source": [
    "data_pivot_income = data.pivot_table(index=['total_income_group'], columns='debt', values='purpose', aggfunc='count')\n",
    "try:\n",
    "    data_pivot_income['ratio'] = data_pivot_income[1] / (data_pivot_income[0] + data_pivot_income[1])\n",
    "except:\n",
    "    print('probably divided by zero')\n",
    "display(data_pivot_income.sort_values('ratio'))"
   ]
  },
  {
   "cell_type": "markdown",
   "metadata": {},
   "source": [
    "Вывод: По мере роста уровня дохода, повышается шанс возврата кредита в срок."
   ]
  },
  {
   "cell_type": "markdown",
   "metadata": {},
   "source": [
    "- Как разные цели кредита влияют на его возврат в срок?"
   ]
  },
  {
   "cell_type": "code",
   "execution_count": 56,
   "metadata": {},
   "outputs": [
    {
     "data": {
      "text/html": [
       "<div>\n",
       "<style scoped>\n",
       "    .dataframe tbody tr th:only-of-type {\n",
       "        vertical-align: middle;\n",
       "    }\n",
       "\n",
       "    .dataframe tbody tr th {\n",
       "        vertical-align: top;\n",
       "    }\n",
       "\n",
       "    .dataframe thead th {\n",
       "        text-align: right;\n",
       "    }\n",
       "</style>\n",
       "<table border=\"1\" class=\"dataframe\">\n",
       "  <thead>\n",
       "    <tr style=\"text-align: right;\">\n",
       "      <th>debt</th>\n",
       "      <th>0</th>\n",
       "      <th>1</th>\n",
       "      <th>ratio</th>\n",
       "    </tr>\n",
       "    <tr>\n",
       "      <th>purpose_group</th>\n",
       "      <th></th>\n",
       "      <th></th>\n",
       "      <th></th>\n",
       "    </tr>\n",
       "  </thead>\n",
       "  <tbody>\n",
       "    <tr>\n",
       "      <th>недвижимость</th>\n",
       "      <td>10058</td>\n",
       "      <td>782</td>\n",
       "      <td>0.072140</td>\n",
       "    </tr>\n",
       "    <tr>\n",
       "      <th>свадьба</th>\n",
       "      <td>2162</td>\n",
       "      <td>186</td>\n",
       "      <td>0.079216</td>\n",
       "    </tr>\n",
       "    <tr>\n",
       "      <th>образование</th>\n",
       "      <td>3652</td>\n",
       "      <td>370</td>\n",
       "      <td>0.091994</td>\n",
       "    </tr>\n",
       "    <tr>\n",
       "      <th>автомобиль</th>\n",
       "      <td>3912</td>\n",
       "      <td>403</td>\n",
       "      <td>0.093395</td>\n",
       "    </tr>\n",
       "  </tbody>\n",
       "</table>\n",
       "</div>"
      ],
      "text/plain": [
       "debt               0    1     ratio\n",
       "purpose_group                      \n",
       "недвижимость   10058  782  0.072140\n",
       "свадьба         2162  186  0.079216\n",
       "образование     3652  370  0.091994\n",
       "автомобиль      3912  403  0.093395"
      ]
     },
     "metadata": {},
     "output_type": "display_data"
    }
   ],
   "source": [
    "data_pivot_purpose = data.pivot_table(index=['purpose_group'], columns='debt', values='purpose', aggfunc='count')\n",
    "try:\n",
    "    data_pivot_purpose['ratio'] = data_pivot_purpose[1] / (data_pivot_purpose[0] + data_pivot_purpose[1])\n",
    "except:\n",
    "    print('probably divided by zero')\n",
    "display(data_pivot_purpose.sort_values('ratio'))"
   ]
  },
  {
   "cell_type": "code",
   "execution_count": 57,
   "metadata": {},
   "outputs": [
    {
     "data": {
      "text/html": [
       "<style type=\"text/css\">\n",
       "</style>\n",
       "<table id=\"T_023bf\">\n",
       "  <thead>\n",
       "    <tr>\n",
       "      <th class=\"index_name level0\" >debt</th>\n",
       "      <th id=\"T_023bf_level0_col0\" class=\"col_heading level0 col0\" >0</th>\n",
       "      <th id=\"T_023bf_level0_col1\" class=\"col_heading level0 col1\" >1</th>\n",
       "      <th id=\"T_023bf_level0_col2\" class=\"col_heading level0 col2\" >ratio</th>\n",
       "    </tr>\n",
       "    <tr>\n",
       "      <th class=\"index_name level0\" >purpose_group</th>\n",
       "      <th class=\"blank col0\" >&nbsp;</th>\n",
       "      <th class=\"blank col1\" >&nbsp;</th>\n",
       "      <th class=\"blank col2\" >&nbsp;</th>\n",
       "    </tr>\n",
       "  </thead>\n",
       "  <tbody>\n",
       "    <tr>\n",
       "      <th id=\"T_023bf_level0_row0\" class=\"row_heading level0 row0\" >автомобиль</th>\n",
       "      <td id=\"T_023bf_row0_col0\" class=\"data row0 col0\" >3912</td>\n",
       "      <td id=\"T_023bf_row0_col1\" class=\"data row0 col1\" >403</td>\n",
       "      <td id=\"T_023bf_row0_col2\" class=\"data row0 col2\" >9.34%</td>\n",
       "    </tr>\n",
       "    <tr>\n",
       "      <th id=\"T_023bf_level0_row1\" class=\"row_heading level0 row1\" >недвижимость</th>\n",
       "      <td id=\"T_023bf_row1_col0\" class=\"data row1 col0\" >10058</td>\n",
       "      <td id=\"T_023bf_row1_col1\" class=\"data row1 col1\" >782</td>\n",
       "      <td id=\"T_023bf_row1_col2\" class=\"data row1 col2\" >7.21%</td>\n",
       "    </tr>\n",
       "    <tr>\n",
       "      <th id=\"T_023bf_level0_row2\" class=\"row_heading level0 row2\" >образование</th>\n",
       "      <td id=\"T_023bf_row2_col0\" class=\"data row2 col0\" >3652</td>\n",
       "      <td id=\"T_023bf_row2_col1\" class=\"data row2 col1\" >370</td>\n",
       "      <td id=\"T_023bf_row2_col2\" class=\"data row2 col2\" >9.20%</td>\n",
       "    </tr>\n",
       "    <tr>\n",
       "      <th id=\"T_023bf_level0_row3\" class=\"row_heading level0 row3\" >свадьба</th>\n",
       "      <td id=\"T_023bf_row3_col0\" class=\"data row3 col0\" >2162</td>\n",
       "      <td id=\"T_023bf_row3_col1\" class=\"data row3 col1\" >186</td>\n",
       "      <td id=\"T_023bf_row3_col2\" class=\"data row3 col2\" >7.92%</td>\n",
       "    </tr>\n",
       "  </tbody>\n",
       "</table>\n"
      ],
      "text/plain": [
       "<pandas.io.formats.style.Styler at 0x23406e6f550>"
      ]
     },
     "execution_count": 57,
     "metadata": {},
     "output_type": "execute_result"
    }
   ],
   "source": [
    "data_pivot_purpose.style.format({'ratio': '{:.2%}'})"
   ]
  },
  {
   "cell_type": "markdown",
   "metadata": {},
   "source": [
    "Вывод: Люди, берущие кредит на ремонт\\покупку недвижимости имеют самый высокий шанс возврата кредита. Люди, организующие свадьбу, имеют более низкие шансы. Примерно равные, еще более низкие шансы у людей берущих кредит на получения образования или покупку автомобиля."
   ]
  },
  {
   "cell_type": "markdown",
   "metadata": {},
   "source": [
    "## Общий вывод"
   ]
  },
  {
   "cell_type": "markdown",
   "metadata": {},
   "source": [
    "После обработки данных, выянилось, что часть данных в столбцах days_employed и total_income пропущенна. Пропуски, скорее всего вызваны ошибкой в работе с датами. Есть локальные пропуски в children и gender. Вероятно, просто опечатки. Имеются дупликаты, связанные с регистром в education."
   ]
  },
  {
   "cell_type": "markdown",
   "metadata": {},
   "source": [
    "Мы проверили четыре исследования и установили:\n",
    "1. Наличие детей уменьшает шанс возврата кредита в срок. Это связано с тем, что бездетные клиенты не имеют той финансовой нагрузки, что клиенты с детьми.\n",
    "2. Наличие брака увеличивает шансы клиентов вернуть кредит в срок. Это связано с тем, что при расторжения брака, на них остается часть кредитной нагрузки, в отличие от людей, законодательно не оформивших свои отношения.\n",
    "3. Клиенты с более высоким уровнем дохода имеют более высокие шансы возврата кредита в срок.\n",
    "4. Кленты, берущие кредит на недвижимость более ответственно относятся к его погашению, чем в остальных случаях. Для многих это риск потери жилой площади. Кредит на свадьбу подразумевает, что выплачивать его будет не один человек, а семья. Видимо поэтому, шансы его погашения выше, чем в случае кредита на образование или автомобиль."
   ]
  },
  {
   "cell_type": "markdown",
   "metadata": {},
   "source": [
    "Рекомендации:\n",
    "- разобраться с причиной появления пропусков в days_employed и total_income.\n",
    "- для колонок purpose и education запретить ручной ввод значений, вместо этого сделать выпадающий список по категориям."
   ]
  }
 ],
 "metadata": {
  "ExecuteTimeLog": [
   {
    "duration": 768,
    "start_time": "2021-07-06T17:22:58.686Z"
   },
   {
    "duration": 2724,
    "start_time": "2021-07-06T17:22:59.874Z"
   },
   {
    "duration": 2068,
    "start_time": "2021-07-06T17:23:10.088Z"
   },
   {
    "duration": 74,
    "start_time": "2021-07-06T17:23:48.664Z"
   },
   {
    "duration": 1011,
    "start_time": "2021-07-06T17:24:28.382Z"
   },
   {
    "duration": 117,
    "start_time": "2021-07-07T06:39:52.777Z"
   },
   {
    "duration": 831,
    "start_time": "2021-07-07T06:49:17.414Z"
   },
   {
    "duration": 25,
    "start_time": "2021-07-07T06:49:18.248Z"
   },
   {
    "duration": 7,
    "start_time": "2021-07-07T06:49:18.276Z"
   },
   {
    "duration": 15,
    "start_time": "2021-07-07T06:49:18.286Z"
   },
   {
    "duration": 13,
    "start_time": "2021-07-07T06:49:18.303Z"
   },
   {
    "duration": 50,
    "start_time": "2021-07-07T06:49:18.318Z"
   },
   {
    "duration": 6,
    "start_time": "2021-07-07T06:49:18.371Z"
   },
   {
    "duration": 7,
    "start_time": "2021-07-07T06:49:18.379Z"
   },
   {
    "duration": 6,
    "start_time": "2021-07-07T06:49:18.390Z"
   },
   {
    "duration": 81,
    "start_time": "2021-07-07T06:49:18.399Z"
   },
   {
    "duration": 5,
    "start_time": "2021-07-07T06:49:18.482Z"
   },
   {
    "duration": 27,
    "start_time": "2021-07-07T06:49:18.489Z"
   },
   {
    "duration": 13,
    "start_time": "2021-07-07T06:49:18.518Z"
   },
   {
    "duration": 25,
    "start_time": "2021-07-07T06:49:18.533Z"
   },
   {
    "duration": 13,
    "start_time": "2021-07-07T06:49:18.560Z"
   },
   {
    "duration": 16,
    "start_time": "2021-07-07T06:49:18.576Z"
   },
   {
    "duration": 23,
    "start_time": "2021-07-07T06:49:18.594Z"
   },
   {
    "duration": 26,
    "start_time": "2021-07-07T06:49:18.619Z"
   },
   {
    "duration": 11,
    "start_time": "2021-07-07T06:49:18.655Z"
   },
   {
    "duration": 14,
    "start_time": "2021-07-07T06:49:18.668Z"
   },
   {
    "duration": 15,
    "start_time": "2021-07-07T06:49:18.684Z"
   },
   {
    "duration": 11,
    "start_time": "2021-07-07T06:49:18.701Z"
   },
   {
    "duration": 10,
    "start_time": "2021-07-07T06:49:18.715Z"
   },
   {
    "duration": 16,
    "start_time": "2021-07-07T06:49:18.755Z"
   },
   {
    "duration": 16,
    "start_time": "2021-07-07T06:49:18.774Z"
   },
   {
    "duration": 17,
    "start_time": "2021-07-07T06:49:18.792Z"
   },
   {
    "duration": 43,
    "start_time": "2021-07-07T06:49:18.816Z"
   },
   {
    "duration": 12,
    "start_time": "2021-07-07T06:49:18.863Z"
   },
   {
    "duration": 13,
    "start_time": "2021-07-07T06:49:18.878Z"
   },
   {
    "duration": 27,
    "start_time": "2021-07-07T06:49:18.894Z"
   },
   {
    "duration": 25,
    "start_time": "2021-07-07T06:49:18.955Z"
   },
   {
    "duration": 11,
    "start_time": "2021-07-07T06:49:18.983Z"
   },
   {
    "duration": 1005,
    "start_time": "2021-07-07T06:49:18.997Z"
   },
   {
    "duration": 6,
    "start_time": "2021-07-07T06:49:20.004Z"
   },
   {
    "duration": 603,
    "start_time": "2021-07-07T06:49:20.012Z"
   },
   {
    "duration": 18,
    "start_time": "2021-07-07T06:49:20.618Z"
   },
   {
    "duration": 28,
    "start_time": "2021-07-07T06:49:20.638Z"
   },
   {
    "duration": 28,
    "start_time": "2021-07-07T06:49:20.669Z"
   },
   {
    "duration": 13,
    "start_time": "2021-07-07T06:49:20.699Z"
   },
   {
    "duration": 12,
    "start_time": "2021-07-07T06:49:20.715Z"
   },
   {
    "duration": 27,
    "start_time": "2021-07-07T06:49:20.729Z"
   },
   {
    "duration": 390,
    "start_time": "2021-07-07T06:49:20.758Z"
   },
   {
    "duration": 20,
    "start_time": "2021-07-07T06:49:21.150Z"
   },
   {
    "duration": 12,
    "start_time": "2021-07-07T06:49:21.172Z"
   },
   {
    "duration": 51,
    "start_time": "2021-07-07T06:49:21.186Z"
   },
   {
    "duration": 30,
    "start_time": "2021-07-07T06:49:21.254Z"
   },
   {
    "duration": 32,
    "start_time": "2021-07-07T06:49:21.287Z"
   },
   {
    "duration": 60,
    "start_time": "2021-07-07T06:49:21.322Z"
   },
   {
    "duration": 5,
    "start_time": "2021-07-07T07:07:20.391Z"
   },
   {
    "duration": 8,
    "start_time": "2021-07-07T07:13:06.018Z"
   },
   {
    "duration": 7,
    "start_time": "2021-07-07T07:13:16.788Z"
   },
   {
    "duration": 96,
    "start_time": "2021-07-07T07:13:18.369Z"
   },
   {
    "duration": 92,
    "start_time": "2021-07-07T07:17:58.530Z"
   },
   {
    "duration": 16,
    "start_time": "2021-07-07T07:19:11.346Z"
   },
   {
    "duration": 5,
    "start_time": "2021-07-07T07:24:35.182Z"
   },
   {
    "duration": 19,
    "start_time": "2021-07-07T07:38:27.335Z"
   },
   {
    "duration": 106,
    "start_time": "2021-07-07T07:39:00.442Z"
   },
   {
    "duration": 5,
    "start_time": "2021-07-07T10:06:32.282Z"
   },
   {
    "duration": 422,
    "start_time": "2021-07-07T10:06:32.289Z"
   },
   {
    "duration": 87,
    "start_time": "2021-07-07T10:14:47.298Z"
   },
   {
    "duration": 31,
    "start_time": "2021-07-07T10:20:11.534Z"
   },
   {
    "duration": 31,
    "start_time": "2021-07-07T10:29:38.582Z"
   },
   {
    "duration": 6,
    "start_time": "2021-07-07T10:29:53.774Z"
   },
   {
    "duration": 407,
    "start_time": "2021-07-07T10:29:54.267Z"
   },
   {
    "duration": 18,
    "start_time": "2021-07-07T10:29:54.676Z"
   },
   {
    "duration": 31,
    "start_time": "2021-07-07T10:29:55.416Z"
   },
   {
    "duration": 31,
    "start_time": "2021-07-07T10:29:57.245Z"
   },
   {
    "duration": 30,
    "start_time": "2021-07-07T10:30:02.667Z"
   },
   {
    "duration": 5,
    "start_time": "2021-07-07T11:05:13.476Z"
   },
   {
    "duration": 390,
    "start_time": "2021-07-07T11:05:13.986Z"
   },
   {
    "duration": 19,
    "start_time": "2021-07-07T11:05:14.551Z"
   },
   {
    "duration": 78,
    "start_time": "2021-07-07T11:21:16.285Z"
   },
   {
    "duration": 17,
    "start_time": "2021-07-07T11:21:16.366Z"
   },
   {
    "duration": 9,
    "start_time": "2021-07-07T11:21:16.386Z"
   },
   {
    "duration": 27,
    "start_time": "2021-07-07T11:21:16.398Z"
   },
   {
    "duration": 36,
    "start_time": "2021-07-07T11:21:16.428Z"
   },
   {
    "duration": 18,
    "start_time": "2021-07-07T11:21:16.467Z"
   },
   {
    "duration": 15,
    "start_time": "2021-07-07T11:21:16.487Z"
   },
   {
    "duration": 14,
    "start_time": "2021-07-07T11:21:16.506Z"
   },
   {
    "duration": 31,
    "start_time": "2021-07-07T11:21:16.523Z"
   },
   {
    "duration": 54,
    "start_time": "2021-07-07T11:21:16.557Z"
   },
   {
    "duration": 4,
    "start_time": "2021-07-07T11:21:16.613Z"
   },
   {
    "duration": 18,
    "start_time": "2021-07-07T11:21:16.620Z"
   },
   {
    "duration": 11,
    "start_time": "2021-07-07T11:21:16.654Z"
   },
   {
    "duration": 10,
    "start_time": "2021-07-07T11:21:16.668Z"
   },
   {
    "duration": 10,
    "start_time": "2021-07-07T11:21:16.680Z"
   },
   {
    "duration": 14,
    "start_time": "2021-07-07T11:21:16.692Z"
   },
   {
    "duration": 18,
    "start_time": "2021-07-07T11:21:16.708Z"
   },
   {
    "duration": 11,
    "start_time": "2021-07-07T11:21:16.756Z"
   },
   {
    "duration": 10,
    "start_time": "2021-07-07T11:21:16.770Z"
   },
   {
    "duration": 13,
    "start_time": "2021-07-07T11:21:16.783Z"
   },
   {
    "duration": 55,
    "start_time": "2021-07-07T11:21:16.799Z"
   },
   {
    "duration": 11,
    "start_time": "2021-07-07T11:21:16.857Z"
   },
   {
    "duration": 8,
    "start_time": "2021-07-07T11:21:16.878Z"
   },
   {
    "duration": 15,
    "start_time": "2021-07-07T11:21:16.890Z"
   },
   {
    "duration": 9,
    "start_time": "2021-07-07T11:21:16.953Z"
   },
   {
    "duration": 17,
    "start_time": "2021-07-07T11:21:16.964Z"
   },
   {
    "duration": 15,
    "start_time": "2021-07-07T11:21:16.984Z"
   },
   {
    "duration": 7,
    "start_time": "2021-07-07T11:21:17.001Z"
   },
   {
    "duration": 56,
    "start_time": "2021-07-07T11:21:17.010Z"
   },
   {
    "duration": 11,
    "start_time": "2021-07-07T11:21:17.068Z"
   },
   {
    "duration": 10,
    "start_time": "2021-07-07T11:21:17.081Z"
   },
   {
    "duration": 25,
    "start_time": "2021-07-07T11:21:17.093Z"
   },
   {
    "duration": 42,
    "start_time": "2021-07-07T11:21:17.120Z"
   },
   {
    "duration": 944,
    "start_time": "2021-07-07T11:21:17.165Z"
   },
   {
    "duration": 7,
    "start_time": "2021-07-07T11:21:18.113Z"
   },
   {
    "duration": 425,
    "start_time": "2021-07-07T11:21:18.123Z"
   },
   {
    "duration": 21,
    "start_time": "2021-07-07T11:21:18.551Z"
   },
   {
    "duration": 24,
    "start_time": "2021-07-07T11:21:18.575Z"
   },
   {
    "duration": 9,
    "start_time": "2021-07-07T11:21:18.602Z"
   },
   {
    "duration": 43,
    "start_time": "2021-07-07T11:21:18.613Z"
   },
   {
    "duration": 10,
    "start_time": "2021-07-07T11:21:18.658Z"
   },
   {
    "duration": 4,
    "start_time": "2021-07-07T11:21:18.671Z"
   },
   {
    "duration": 402,
    "start_time": "2021-07-07T11:21:18.677Z"
   },
   {
    "duration": 18,
    "start_time": "2021-07-07T11:21:19.082Z"
   },
   {
    "duration": 57,
    "start_time": "2021-07-07T11:21:19.102Z"
   },
   {
    "duration": 33,
    "start_time": "2021-07-07T11:21:19.161Z"
   },
   {
    "duration": 30,
    "start_time": "2021-07-07T11:21:19.196Z"
   },
   {
    "duration": 31,
    "start_time": "2021-07-07T11:21:19.254Z"
   },
   {
    "duration": 98,
    "start_time": "2021-07-07T12:27:33.939Z"
   },
   {
    "duration": 32,
    "start_time": "2021-07-07T12:27:41.106Z"
   },
   {
    "duration": 31,
    "start_time": "2021-07-07T12:29:02.419Z"
   },
   {
    "duration": 33,
    "start_time": "2021-07-07T12:29:10.000Z"
   },
   {
    "duration": 111,
    "start_time": "2021-07-07T12:30:08.861Z"
   },
   {
    "duration": 18,
    "start_time": "2021-07-07T12:30:08.975Z"
   },
   {
    "duration": 17,
    "start_time": "2021-07-07T12:30:08.995Z"
   },
   {
    "duration": 49,
    "start_time": "2021-07-07T12:30:09.014Z"
   },
   {
    "duration": 15,
    "start_time": "2021-07-07T12:30:09.066Z"
   },
   {
    "duration": 19,
    "start_time": "2021-07-07T12:30:09.083Z"
   },
   {
    "duration": 14,
    "start_time": "2021-07-07T12:30:09.105Z"
   },
   {
    "duration": 29,
    "start_time": "2021-07-07T12:30:09.125Z"
   },
   {
    "duration": 24,
    "start_time": "2021-07-07T12:30:09.159Z"
   },
   {
    "duration": 68,
    "start_time": "2021-07-07T12:30:09.186Z"
   },
   {
    "duration": 6,
    "start_time": "2021-07-07T12:30:09.257Z"
   },
   {
    "duration": 44,
    "start_time": "2021-07-07T12:30:09.266Z"
   },
   {
    "duration": 23,
    "start_time": "2021-07-07T12:30:09.313Z"
   },
   {
    "duration": 33,
    "start_time": "2021-07-07T12:30:09.338Z"
   },
   {
    "duration": 26,
    "start_time": "2021-07-07T12:30:09.374Z"
   },
   {
    "duration": 19,
    "start_time": "2021-07-07T12:30:09.402Z"
   },
   {
    "duration": 24,
    "start_time": "2021-07-07T12:30:09.423Z"
   },
   {
    "duration": 28,
    "start_time": "2021-07-07T12:30:09.450Z"
   },
   {
    "duration": 26,
    "start_time": "2021-07-07T12:30:09.481Z"
   },
   {
    "duration": 19,
    "start_time": "2021-07-07T12:30:09.509Z"
   },
   {
    "duration": 17,
    "start_time": "2021-07-07T12:30:09.530Z"
   },
   {
    "duration": 23,
    "start_time": "2021-07-07T12:30:09.550Z"
   },
   {
    "duration": 8,
    "start_time": "2021-07-07T12:30:09.582Z"
   },
   {
    "duration": 18,
    "start_time": "2021-07-07T12:30:09.594Z"
   },
   {
    "duration": 8,
    "start_time": "2021-07-07T12:30:09.615Z"
   },
   {
    "duration": 46,
    "start_time": "2021-07-07T12:30:09.626Z"
   },
   {
    "duration": 19,
    "start_time": "2021-07-07T12:30:09.675Z"
   },
   {
    "duration": 27,
    "start_time": "2021-07-07T12:30:09.696Z"
   },
   {
    "duration": 47,
    "start_time": "2021-07-07T12:30:09.725Z"
   },
   {
    "duration": 15,
    "start_time": "2021-07-07T12:30:09.775Z"
   },
   {
    "duration": 13,
    "start_time": "2021-07-07T12:30:09.793Z"
   },
   {
    "duration": 57,
    "start_time": "2021-07-07T12:30:09.808Z"
   },
   {
    "duration": 18,
    "start_time": "2021-07-07T12:30:09.868Z"
   },
   {
    "duration": 1029,
    "start_time": "2021-07-07T12:30:09.889Z"
   },
   {
    "duration": 6,
    "start_time": "2021-07-07T12:30:10.921Z"
   },
   {
    "duration": 472,
    "start_time": "2021-07-07T12:30:10.930Z"
   },
   {
    "duration": 19,
    "start_time": "2021-07-07T12:30:11.404Z"
   },
   {
    "duration": 35,
    "start_time": "2021-07-07T12:30:11.425Z"
   },
   {
    "duration": 13,
    "start_time": "2021-07-07T12:30:11.464Z"
   },
   {
    "duration": 9,
    "start_time": "2021-07-07T12:30:11.480Z"
   },
   {
    "duration": 10,
    "start_time": "2021-07-07T12:30:11.492Z"
   },
   {
    "duration": 6,
    "start_time": "2021-07-07T12:30:11.504Z"
   },
   {
    "duration": 459,
    "start_time": "2021-07-07T12:30:11.555Z"
   },
   {
    "duration": 37,
    "start_time": "2021-07-07T12:30:12.017Z"
   },
   {
    "duration": 42,
    "start_time": "2021-07-07T12:30:12.057Z"
   },
   {
    "duration": 57,
    "start_time": "2021-07-07T12:30:12.101Z"
   },
   {
    "duration": 36,
    "start_time": "2021-07-07T12:30:12.161Z"
   },
   {
    "duration": 55,
    "start_time": "2021-07-07T12:30:12.200Z"
   },
   {
    "duration": 98,
    "start_time": "2021-07-07T13:33:44.158Z"
   },
   {
    "duration": 17,
    "start_time": "2021-07-07T13:33:44.259Z"
   },
   {
    "duration": 12,
    "start_time": "2021-07-07T13:33:44.278Z"
   },
   {
    "duration": 17,
    "start_time": "2021-07-07T13:33:44.292Z"
   },
   {
    "duration": 44,
    "start_time": "2021-07-07T13:33:44.312Z"
   },
   {
    "duration": 17,
    "start_time": "2021-07-07T13:33:44.358Z"
   },
   {
    "duration": 8,
    "start_time": "2021-07-07T13:33:44.377Z"
   },
   {
    "duration": 6,
    "start_time": "2021-07-07T13:33:44.389Z"
   },
   {
    "duration": 7,
    "start_time": "2021-07-07T13:33:44.399Z"
   },
   {
    "duration": 90,
    "start_time": "2021-07-07T13:33:44.408Z"
   },
   {
    "duration": 5,
    "start_time": "2021-07-07T13:33:44.500Z"
   },
   {
    "duration": 30,
    "start_time": "2021-07-07T13:33:44.507Z"
   },
   {
    "duration": 16,
    "start_time": "2021-07-07T13:33:44.540Z"
   },
   {
    "duration": 12,
    "start_time": "2021-07-07T13:33:44.558Z"
   },
   {
    "duration": 11,
    "start_time": "2021-07-07T13:33:44.572Z"
   },
   {
    "duration": 10,
    "start_time": "2021-07-07T13:33:44.586Z"
   },
   {
    "duration": 18,
    "start_time": "2021-07-07T13:33:44.598Z"
   },
   {
    "duration": 11,
    "start_time": "2021-07-07T13:33:44.655Z"
   },
   {
    "duration": 8,
    "start_time": "2021-07-07T13:33:44.668Z"
   },
   {
    "duration": 11,
    "start_time": "2021-07-07T13:33:44.679Z"
   },
   {
    "duration": 8,
    "start_time": "2021-07-07T13:33:44.693Z"
   },
   {
    "duration": 53,
    "start_time": "2021-07-07T13:33:44.704Z"
   },
   {
    "duration": 15,
    "start_time": "2021-07-07T13:33:44.763Z"
   },
   {
    "duration": 14,
    "start_time": "2021-07-07T13:33:44.782Z"
   },
   {
    "duration": 5,
    "start_time": "2021-07-07T13:33:44.798Z"
   },
   {
    "duration": 50,
    "start_time": "2021-07-07T13:33:44.806Z"
   },
   {
    "duration": 16,
    "start_time": "2021-07-07T13:33:44.858Z"
   },
   {
    "duration": 8,
    "start_time": "2021-07-07T13:33:44.876Z"
   },
   {
    "duration": 15,
    "start_time": "2021-07-07T13:33:44.887Z"
   },
   {
    "duration": 14,
    "start_time": "2021-07-07T13:33:44.905Z"
   },
   {
    "duration": 40,
    "start_time": "2021-07-07T13:33:44.921Z"
   },
   {
    "duration": 25,
    "start_time": "2021-07-07T13:33:44.964Z"
   },
   {
    "duration": 10,
    "start_time": "2021-07-07T13:33:44.992Z"
   },
   {
    "duration": 977,
    "start_time": "2021-07-07T13:33:45.005Z"
   },
   {
    "duration": 4,
    "start_time": "2021-07-07T13:33:45.986Z"
   },
   {
    "duration": 439,
    "start_time": "2021-07-07T13:33:45.993Z"
   },
   {
    "duration": 22,
    "start_time": "2021-07-07T13:33:46.434Z"
   },
   {
    "duration": 32,
    "start_time": "2021-07-07T13:33:46.458Z"
   },
   {
    "duration": 19,
    "start_time": "2021-07-07T13:33:46.492Z"
   },
   {
    "duration": 22,
    "start_time": "2021-07-07T13:33:46.514Z"
   },
   {
    "duration": 12,
    "start_time": "2021-07-07T13:33:46.538Z"
   },
   {
    "duration": 5,
    "start_time": "2021-07-07T13:33:46.555Z"
   },
   {
    "duration": 401,
    "start_time": "2021-07-07T13:33:46.562Z"
   },
   {
    "duration": 18,
    "start_time": "2021-07-07T13:33:46.966Z"
   },
   {
    "duration": 44,
    "start_time": "2021-07-07T13:33:46.987Z"
   },
   {
    "duration": 47,
    "start_time": "2021-07-07T13:33:47.033Z"
   },
   {
    "duration": 29,
    "start_time": "2021-07-07T13:33:47.083Z"
   },
   {
    "duration": 55,
    "start_time": "2021-07-07T13:33:47.114Z"
   },
   {
    "duration": 14,
    "start_time": "2021-07-07T13:46:31.111Z"
   },
   {
    "duration": 6,
    "start_time": "2021-07-07T14:00:10.013Z"
   },
   {
    "duration": 18,
    "start_time": "2021-07-07T14:00:11.169Z"
   },
   {
    "duration": 91,
    "start_time": "2021-07-07T14:02:17.597Z"
   },
   {
    "duration": 26,
    "start_time": "2021-07-07T14:02:17.692Z"
   },
   {
    "duration": 45,
    "start_time": "2021-07-07T14:02:17.722Z"
   },
   {
    "duration": 38,
    "start_time": "2021-07-07T14:02:17.770Z"
   },
   {
    "duration": 29,
    "start_time": "2021-07-07T14:02:17.811Z"
   },
   {
    "duration": 42,
    "start_time": "2021-07-07T14:02:17.843Z"
   },
   {
    "duration": 26,
    "start_time": "2021-07-07T14:02:17.888Z"
   },
   {
    "duration": 18,
    "start_time": "2021-07-07T14:02:17.919Z"
   },
   {
    "duration": 35,
    "start_time": "2021-07-07T14:02:17.940Z"
   },
   {
    "duration": 102,
    "start_time": "2021-07-07T14:02:17.978Z"
   },
   {
    "duration": 5,
    "start_time": "2021-07-07T14:02:18.083Z"
   },
   {
    "duration": 46,
    "start_time": "2021-07-07T14:02:18.091Z"
   },
   {
    "duration": 11,
    "start_time": "2021-07-07T14:02:18.139Z"
   },
   {
    "duration": 30,
    "start_time": "2021-07-07T14:02:18.155Z"
   },
   {
    "duration": 30,
    "start_time": "2021-07-07T14:02:18.188Z"
   },
   {
    "duration": 39,
    "start_time": "2021-07-07T14:02:18.221Z"
   },
   {
    "duration": 34,
    "start_time": "2021-07-07T14:02:18.262Z"
   },
   {
    "duration": 32,
    "start_time": "2021-07-07T14:02:18.298Z"
   },
   {
    "duration": 22,
    "start_time": "2021-07-07T14:02:18.332Z"
   },
   {
    "duration": 33,
    "start_time": "2021-07-07T14:02:18.357Z"
   },
   {
    "duration": 19,
    "start_time": "2021-07-07T14:02:18.392Z"
   },
   {
    "duration": 30,
    "start_time": "2021-07-07T14:02:18.413Z"
   },
   {
    "duration": 33,
    "start_time": "2021-07-07T14:02:18.448Z"
   },
   {
    "duration": 34,
    "start_time": "2021-07-07T14:02:18.484Z"
   },
   {
    "duration": 21,
    "start_time": "2021-07-07T14:02:18.521Z"
   },
   {
    "duration": 80,
    "start_time": "2021-07-07T14:02:18.544Z"
   },
   {
    "duration": 76,
    "start_time": "2021-07-07T14:02:18.631Z"
   },
   {
    "duration": 24,
    "start_time": "2021-07-07T14:02:18.715Z"
   },
   {
    "duration": 42,
    "start_time": "2021-07-07T14:02:18.747Z"
   },
   {
    "duration": 37,
    "start_time": "2021-07-07T14:02:18.792Z"
   },
   {
    "duration": 53,
    "start_time": "2021-07-07T14:02:18.832Z"
   },
   {
    "duration": 97,
    "start_time": "2021-07-07T14:02:18.888Z"
   },
   {
    "duration": 19,
    "start_time": "2021-07-07T14:02:18.988Z"
   },
   {
    "duration": 1391,
    "start_time": "2021-07-07T14:02:19.010Z"
   },
   {
    "duration": 5,
    "start_time": "2021-07-07T14:02:20.404Z"
   },
   {
    "duration": 515,
    "start_time": "2021-07-07T14:02:20.412Z"
   },
   {
    "duration": 27,
    "start_time": "2021-07-07T14:02:20.930Z"
   },
   {
    "duration": 19,
    "start_time": "2021-07-07T14:02:20.960Z"
   },
   {
    "duration": 16,
    "start_time": "2021-07-07T14:02:20.982Z"
   },
   {
    "duration": 13,
    "start_time": "2021-07-07T14:02:21.000Z"
   },
   {
    "duration": 13,
    "start_time": "2021-07-07T14:02:21.056Z"
   },
   {
    "duration": 6,
    "start_time": "2021-07-07T14:02:21.072Z"
   },
   {
    "duration": 510,
    "start_time": "2021-07-07T14:02:21.081Z"
   },
   {
    "duration": 19,
    "start_time": "2021-07-07T14:02:21.594Z"
   },
   {
    "duration": 55,
    "start_time": "2021-07-07T14:02:21.617Z"
   },
   {
    "duration": 41,
    "start_time": "2021-07-07T14:02:21.675Z"
   },
   {
    "duration": 66,
    "start_time": "2021-07-07T14:02:21.720Z"
   },
   {
    "duration": 31,
    "start_time": "2021-07-07T14:02:21.790Z"
   },
   {
    "duration": 884,
    "start_time": "2021-07-07T17:22:16.429Z"
   },
   {
    "duration": 30,
    "start_time": "2021-07-07T17:22:17.316Z"
   },
   {
    "duration": 5,
    "start_time": "2021-07-07T17:22:17.349Z"
   },
   {
    "duration": 18,
    "start_time": "2021-07-07T17:22:17.385Z"
   },
   {
    "duration": 13,
    "start_time": "2021-07-07T17:22:17.406Z"
   },
   {
    "duration": 18,
    "start_time": "2021-07-07T17:22:17.422Z"
   },
   {
    "duration": 47,
    "start_time": "2021-07-07T17:22:17.443Z"
   },
   {
    "duration": 5,
    "start_time": "2021-07-07T17:22:17.495Z"
   },
   {
    "duration": 6,
    "start_time": "2021-07-07T17:22:17.505Z"
   },
   {
    "duration": 81,
    "start_time": "2021-07-07T17:22:17.514Z"
   },
   {
    "duration": 5,
    "start_time": "2021-07-07T17:22:17.599Z"
   },
   {
    "duration": 18,
    "start_time": "2021-07-07T17:22:17.606Z"
   },
   {
    "duration": 9,
    "start_time": "2021-07-07T17:22:17.626Z"
   },
   {
    "duration": 10,
    "start_time": "2021-07-07T17:22:17.638Z"
   },
   {
    "duration": 15,
    "start_time": "2021-07-07T17:22:17.687Z"
   },
   {
    "duration": 9,
    "start_time": "2021-07-07T17:22:17.705Z"
   },
   {
    "duration": 12,
    "start_time": "2021-07-07T17:22:17.717Z"
   },
   {
    "duration": 12,
    "start_time": "2021-07-07T17:22:17.731Z"
   },
   {
    "duration": 45,
    "start_time": "2021-07-07T17:22:17.745Z"
   },
   {
    "duration": 13,
    "start_time": "2021-07-07T17:22:17.793Z"
   },
   {
    "duration": 8,
    "start_time": "2021-07-07T17:22:17.809Z"
   },
   {
    "duration": 11,
    "start_time": "2021-07-07T17:22:17.819Z"
   },
   {
    "duration": 52,
    "start_time": "2021-07-07T17:22:17.836Z"
   },
   {
    "duration": 18,
    "start_time": "2021-07-07T17:22:17.893Z"
   },
   {
    "duration": 5,
    "start_time": "2021-07-07T17:22:17.913Z"
   },
   {
    "duration": 17,
    "start_time": "2021-07-07T17:22:17.920Z"
   },
   {
    "duration": 50,
    "start_time": "2021-07-07T17:22:17.939Z"
   },
   {
    "duration": 11,
    "start_time": "2021-07-07T17:22:17.992Z"
   },
   {
    "duration": 18,
    "start_time": "2021-07-07T17:22:18.006Z"
   },
   {
    "duration": 16,
    "start_time": "2021-07-07T17:22:18.027Z"
   },
   {
    "duration": 47,
    "start_time": "2021-07-07T17:22:18.045Z"
   },
   {
    "duration": 30,
    "start_time": "2021-07-07T17:22:18.094Z"
   },
   {
    "duration": 10,
    "start_time": "2021-07-07T17:22:18.126Z"
   },
   {
    "duration": 1166,
    "start_time": "2021-07-07T17:22:18.139Z"
   },
   {
    "duration": 5,
    "start_time": "2021-07-07T17:22:19.308Z"
   },
   {
    "duration": 457,
    "start_time": "2021-07-07T17:22:19.316Z"
   },
   {
    "duration": 34,
    "start_time": "2021-07-07T17:22:19.775Z"
   },
   {
    "duration": 16,
    "start_time": "2021-07-07T17:22:19.812Z"
   },
   {
    "duration": 10,
    "start_time": "2021-07-07T17:22:19.830Z"
   },
   {
    "duration": 9,
    "start_time": "2021-07-07T17:22:19.842Z"
   },
   {
    "duration": 43,
    "start_time": "2021-07-07T17:22:19.853Z"
   },
   {
    "duration": 7,
    "start_time": "2021-07-07T17:22:19.899Z"
   },
   {
    "duration": 440,
    "start_time": "2021-07-07T17:22:19.908Z"
   },
   {
    "duration": 20,
    "start_time": "2021-07-07T17:22:20.351Z"
   },
   {
    "duration": 48,
    "start_time": "2021-07-07T17:22:20.385Z"
   },
   {
    "duration": 53,
    "start_time": "2021-07-07T17:22:20.436Z"
   },
   {
    "duration": 39,
    "start_time": "2021-07-07T17:22:20.492Z"
   },
   {
    "duration": 57,
    "start_time": "2021-07-07T17:22:20.534Z"
   },
   {
    "duration": 6,
    "start_time": "2021-07-07T17:24:36.903Z"
   },
   {
    "duration": 29,
    "start_time": "2021-07-07T17:41:47.480Z"
   },
   {
    "duration": 19,
    "start_time": "2021-07-07T17:43:34.083Z"
   },
   {
    "duration": 10796,
    "start_time": "2021-07-07T17:45:24.402Z"
   },
   {
    "duration": 291,
    "start_time": "2021-07-08T05:34:30.921Z"
   },
   {
    "duration": 615,
    "start_time": "2021-07-08T05:34:37.617Z"
   },
   {
    "duration": 15,
    "start_time": "2021-07-08T05:34:38.234Z"
   },
   {
    "duration": 4,
    "start_time": "2021-07-08T05:34:38.251Z"
   },
   {
    "duration": 11,
    "start_time": "2021-07-08T05:34:38.257Z"
   },
   {
    "duration": 7,
    "start_time": "2021-07-08T05:34:38.270Z"
   },
   {
    "duration": 9,
    "start_time": "2021-07-08T05:34:38.278Z"
   },
   {
    "duration": 4,
    "start_time": "2021-07-08T05:34:38.289Z"
   },
   {
    "duration": 3,
    "start_time": "2021-07-08T05:34:38.295Z"
   },
   {
    "duration": 4,
    "start_time": "2021-07-08T05:34:38.300Z"
   },
   {
    "duration": 58,
    "start_time": "2021-07-08T05:34:38.305Z"
   },
   {
    "duration": 3,
    "start_time": "2021-07-08T05:34:38.365Z"
   },
   {
    "duration": 10,
    "start_time": "2021-07-08T05:34:38.370Z"
   },
   {
    "duration": 7,
    "start_time": "2021-07-08T05:34:38.381Z"
   },
   {
    "duration": 7,
    "start_time": "2021-07-08T05:34:38.389Z"
   },
   {
    "duration": 7,
    "start_time": "2021-07-08T05:34:38.397Z"
   },
   {
    "duration": 9,
    "start_time": "2021-07-08T05:34:38.405Z"
   },
   {
    "duration": 27,
    "start_time": "2021-07-08T05:34:38.416Z"
   },
   {
    "duration": 6,
    "start_time": "2021-07-08T05:34:38.444Z"
   },
   {
    "duration": 6,
    "start_time": "2021-07-08T05:34:38.451Z"
   },
   {
    "duration": 7,
    "start_time": "2021-07-08T05:34:38.458Z"
   },
   {
    "duration": 4,
    "start_time": "2021-07-08T05:34:38.467Z"
   },
   {
    "duration": 7,
    "start_time": "2021-07-08T05:34:38.473Z"
   },
   {
    "duration": 6,
    "start_time": "2021-07-08T05:34:38.482Z"
   },
   {
    "duration": 9,
    "start_time": "2021-07-08T05:34:38.489Z"
   },
   {
    "duration": 41,
    "start_time": "2021-07-08T05:34:38.500Z"
   },
   {
    "duration": 13,
    "start_time": "2021-07-08T05:34:38.543Z"
   },
   {
    "duration": 11,
    "start_time": "2021-07-08T05:34:38.560Z"
   },
   {
    "duration": 9,
    "start_time": "2021-07-08T05:34:38.573Z"
   },
   {
    "duration": 12,
    "start_time": "2021-07-08T05:34:38.584Z"
   },
   {
    "duration": 9,
    "start_time": "2021-07-08T05:34:38.597Z"
   },
   {
    "duration": 8,
    "start_time": "2021-07-08T05:34:38.607Z"
   },
   {
    "duration": 31,
    "start_time": "2021-07-08T05:34:38.617Z"
   },
   {
    "duration": 6,
    "start_time": "2021-07-08T05:34:38.650Z"
   },
   {
    "duration": 627,
    "start_time": "2021-07-08T05:34:38.658Z"
   },
   {
    "duration": 1589,
    "start_time": "2021-07-08T05:34:39.287Z"
   },
   {
    "duration": 3,
    "start_time": "2021-07-08T05:34:40.878Z"
   },
   {
    "duration": 259,
    "start_time": "2021-07-08T05:34:40.882Z"
   },
   {
    "duration": 19,
    "start_time": "2021-07-08T05:34:41.143Z"
   },
   {
    "duration": 22,
    "start_time": "2021-07-08T05:34:41.164Z"
   },
   {
    "duration": 14,
    "start_time": "2021-07-08T05:34:41.188Z"
   },
   {
    "duration": 14,
    "start_time": "2021-07-08T05:34:41.204Z"
   },
   {
    "duration": 28,
    "start_time": "2021-07-08T05:34:41.219Z"
   },
   {
    "duration": 23,
    "start_time": "2021-07-08T05:34:41.249Z"
   },
   {
    "duration": 4,
    "start_time": "2021-07-08T05:34:41.274Z"
   },
   {
    "duration": 219,
    "start_time": "2021-07-08T05:34:41.279Z"
   },
   {
    "duration": 12,
    "start_time": "2021-07-08T05:34:41.499Z"
   },
   {
    "duration": 38,
    "start_time": "2021-07-08T05:34:41.513Z"
   },
   {
    "duration": 18,
    "start_time": "2021-07-08T05:34:41.553Z"
   },
   {
    "duration": 18,
    "start_time": "2021-07-08T05:34:41.573Z"
   },
   {
    "duration": 18,
    "start_time": "2021-07-08T05:34:41.593Z"
   },
   {
    "duration": 672,
    "start_time": "2021-07-08T05:34:41.612Z"
   },
   {
    "duration": 82,
    "start_time": "2021-07-08T05:57:16.693Z"
   },
   {
    "duration": 84,
    "start_time": "2021-07-08T05:57:25.923Z"
   },
   {
    "duration": 84,
    "start_time": "2021-07-08T06:24:28.754Z"
   },
   {
    "duration": 105,
    "start_time": "2021-07-08T06:35:20.182Z"
   },
   {
    "duration": 116,
    "start_time": "2021-07-08T06:37:20.891Z"
   },
   {
    "duration": 295,
    "start_time": "2021-07-08T06:37:25.218Z"
   },
   {
    "duration": 5,
    "start_time": "2021-07-08T06:37:35.621Z"
   },
   {
    "duration": 5,
    "start_time": "2021-07-08T06:37:43.226Z"
   },
   {
    "duration": 6,
    "start_time": "2021-07-08T06:37:44.339Z"
   },
   {
    "duration": 5,
    "start_time": "2021-07-08T06:37:55.925Z"
   },
   {
    "duration": 56,
    "start_time": "2021-07-08T06:37:59.595Z"
   },
   {
    "duration": 12,
    "start_time": "2021-07-08T06:37:59.653Z"
   },
   {
    "duration": 4,
    "start_time": "2021-07-08T06:37:59.667Z"
   },
   {
    "duration": 9,
    "start_time": "2021-07-08T06:37:59.673Z"
   },
   {
    "duration": 8,
    "start_time": "2021-07-08T06:37:59.684Z"
   },
   {
    "duration": 11,
    "start_time": "2021-07-08T06:37:59.693Z"
   },
   {
    "duration": 4,
    "start_time": "2021-07-08T06:37:59.741Z"
   },
   {
    "duration": 3,
    "start_time": "2021-07-08T06:37:59.748Z"
   },
   {
    "duration": 4,
    "start_time": "2021-07-08T06:37:59.752Z"
   },
   {
    "duration": 32,
    "start_time": "2021-07-08T06:37:59.758Z"
   },
   {
    "duration": 3,
    "start_time": "2021-07-08T06:37:59.792Z"
   },
   {
    "duration": 12,
    "start_time": "2021-07-08T06:37:59.796Z"
   },
   {
    "duration": 35,
    "start_time": "2021-07-08T06:37:59.810Z"
   },
   {
    "duration": 7,
    "start_time": "2021-07-08T06:37:59.847Z"
   },
   {
    "duration": 8,
    "start_time": "2021-07-08T06:37:59.855Z"
   },
   {
    "duration": 6,
    "start_time": "2021-07-08T06:37:59.865Z"
   },
   {
    "duration": 8,
    "start_time": "2021-07-08T06:37:59.872Z"
   },
   {
    "duration": 9,
    "start_time": "2021-07-08T06:37:59.881Z"
   },
   {
    "duration": 6,
    "start_time": "2021-07-08T06:37:59.891Z"
   },
   {
    "duration": 7,
    "start_time": "2021-07-08T06:37:59.898Z"
   },
   {
    "duration": 38,
    "start_time": "2021-07-08T06:37:59.906Z"
   },
   {
    "duration": 7,
    "start_time": "2021-07-08T06:37:59.945Z"
   },
   {
    "duration": 4,
    "start_time": "2021-07-08T06:37:59.955Z"
   },
   {
    "duration": 11,
    "start_time": "2021-07-08T06:37:59.961Z"
   },
   {
    "duration": 4,
    "start_time": "2021-07-08T06:37:59.973Z"
   },
   {
    "duration": 11,
    "start_time": "2021-07-08T06:37:59.978Z"
   },
   {
    "duration": 9,
    "start_time": "2021-07-08T06:37:59.990Z"
   },
   {
    "duration": 40,
    "start_time": "2021-07-08T06:38:00.001Z"
   },
   {
    "duration": 12,
    "start_time": "2021-07-08T06:38:00.043Z"
   },
   {
    "duration": 13,
    "start_time": "2021-07-08T06:38:00.056Z"
   },
   {
    "duration": 10,
    "start_time": "2021-07-08T06:38:00.071Z"
   },
   {
    "duration": 20,
    "start_time": "2021-07-08T06:38:00.083Z"
   },
   {
    "duration": 6,
    "start_time": "2021-07-08T06:38:00.105Z"
   },
   {
    "duration": 708,
    "start_time": "2021-07-08T06:38:00.113Z"
   },
   {
    "duration": 3,
    "start_time": "2021-07-08T06:38:00.823Z"
   },
   {
    "duration": 230,
    "start_time": "2021-07-08T06:38:00.828Z"
   },
   {
    "duration": 12,
    "start_time": "2021-07-08T06:38:01.060Z"
   },
   {
    "duration": 23,
    "start_time": "2021-07-08T06:38:01.073Z"
   },
   {
    "duration": 36,
    "start_time": "2021-07-08T06:38:01.097Z"
   },
   {
    "duration": 8,
    "start_time": "2021-07-08T06:38:01.135Z"
   },
   {
    "duration": 12,
    "start_time": "2021-07-08T06:38:01.145Z"
   },
   {
    "duration": 13,
    "start_time": "2021-07-08T06:38:01.159Z"
   },
   {
    "duration": 3,
    "start_time": "2021-07-08T06:38:01.174Z"
   },
   {
    "duration": 214,
    "start_time": "2021-07-08T06:38:01.178Z"
   },
   {
    "duration": 12,
    "start_time": "2021-07-08T06:38:01.393Z"
   },
   {
    "duration": 34,
    "start_time": "2021-07-08T06:38:01.406Z"
   },
   {
    "duration": 20,
    "start_time": "2021-07-08T06:38:01.442Z"
   },
   {
    "duration": 19,
    "start_time": "2021-07-08T06:38:01.464Z"
   },
   {
    "duration": 19,
    "start_time": "2021-07-08T06:38:01.484Z"
   },
   {
    "duration": 6,
    "start_time": "2021-07-08T06:38:01.505Z"
   },
   {
    "duration": 5,
    "start_time": "2021-07-08T06:40:15.078Z"
   },
   {
    "duration": 6,
    "start_time": "2021-07-08T06:40:16.963Z"
   },
   {
    "duration": 3,
    "start_time": "2021-07-08T06:54:35.541Z"
   },
   {
    "duration": 154,
    "start_time": "2021-07-08T07:16:55.269Z"
   },
   {
    "duration": 258,
    "start_time": "2021-07-08T07:22:11.266Z"
   },
   {
    "duration": 248,
    "start_time": "2021-07-08T07:23:19.614Z"
   },
   {
    "duration": 305,
    "start_time": "2021-07-08T07:26:04.200Z"
   },
   {
    "duration": 577,
    "start_time": "2021-07-08T07:26:26.076Z"
   },
   {
    "duration": 8,
    "start_time": "2021-07-08T07:26:42.072Z"
   },
   {
    "duration": 10,
    "start_time": "2021-07-08T07:26:50.103Z"
   },
   {
    "duration": 10,
    "start_time": "2021-07-08T07:27:55.960Z"
   },
   {
    "duration": 11,
    "start_time": "2021-07-08T08:04:58.372Z"
   },
   {
    "duration": 12,
    "start_time": "2021-07-08T08:05:07.580Z"
   },
   {
    "duration": 13,
    "start_time": "2021-07-08T08:05:14.297Z"
   },
   {
    "duration": 10,
    "start_time": "2021-07-08T08:06:32.083Z"
   },
   {
    "duration": 12,
    "start_time": "2021-07-08T08:06:53.028Z"
   },
   {
    "duration": 10,
    "start_time": "2021-07-08T08:07:33.755Z"
   },
   {
    "duration": 14,
    "start_time": "2021-07-08T08:08:19.032Z"
   },
   {
    "duration": 53,
    "start_time": "2021-07-08T08:09:26.870Z"
   },
   {
    "duration": 9,
    "start_time": "2021-07-08T08:09:26.925Z"
   },
   {
    "duration": 12,
    "start_time": "2021-07-08T08:09:26.936Z"
   },
   {
    "duration": 16,
    "start_time": "2021-07-08T08:09:26.950Z"
   },
   {
    "duration": 16,
    "start_time": "2021-07-08T08:09:26.967Z"
   },
   {
    "duration": 27,
    "start_time": "2021-07-08T08:09:26.985Z"
   },
   {
    "duration": 22,
    "start_time": "2021-07-08T08:09:27.013Z"
   },
   {
    "duration": 11,
    "start_time": "2021-07-08T08:09:27.037Z"
   },
   {
    "duration": 17,
    "start_time": "2021-07-08T08:09:27.050Z"
   },
   {
    "duration": 37,
    "start_time": "2021-07-08T08:09:27.068Z"
   },
   {
    "duration": 3,
    "start_time": "2021-07-08T08:09:27.106Z"
   },
   {
    "duration": 19,
    "start_time": "2021-07-08T08:09:27.110Z"
   },
   {
    "duration": 17,
    "start_time": "2021-07-08T08:09:27.131Z"
   },
   {
    "duration": 15,
    "start_time": "2021-07-08T08:09:27.149Z"
   },
   {
    "duration": 11,
    "start_time": "2021-07-08T08:09:27.165Z"
   },
   {
    "duration": 13,
    "start_time": "2021-07-08T08:09:27.178Z"
   },
   {
    "duration": 24,
    "start_time": "2021-07-08T08:09:27.192Z"
   },
   {
    "duration": 20,
    "start_time": "2021-07-08T08:09:27.217Z"
   },
   {
    "duration": 22,
    "start_time": "2021-07-08T08:09:27.238Z"
   },
   {
    "duration": 12,
    "start_time": "2021-07-08T08:09:27.261Z"
   },
   {
    "duration": 16,
    "start_time": "2021-07-08T08:09:27.274Z"
   },
   {
    "duration": 25,
    "start_time": "2021-07-08T08:09:27.291Z"
   },
   {
    "duration": 11,
    "start_time": "2021-07-08T08:09:27.319Z"
   },
   {
    "duration": 19,
    "start_time": "2021-07-08T08:09:27.332Z"
   },
   {
    "duration": 15,
    "start_time": "2021-07-08T08:09:27.352Z"
   },
   {
    "duration": 23,
    "start_time": "2021-07-08T08:09:27.368Z"
   },
   {
    "duration": 16,
    "start_time": "2021-07-08T08:09:27.393Z"
   },
   {
    "duration": 7,
    "start_time": "2021-07-08T08:09:27.411Z"
   },
   {
    "duration": 24,
    "start_time": "2021-07-08T08:09:27.419Z"
   },
   {
    "duration": 16,
    "start_time": "2021-07-08T08:09:27.444Z"
   },
   {
    "duration": 18,
    "start_time": "2021-07-08T08:09:27.462Z"
   },
   {
    "duration": 20,
    "start_time": "2021-07-08T08:09:27.481Z"
   },
   {
    "duration": 7,
    "start_time": "2021-07-08T08:09:27.503Z"
   },
   {
    "duration": 658,
    "start_time": "2021-07-08T08:09:27.511Z"
   },
   {
    "duration": 3,
    "start_time": "2021-07-08T08:09:28.171Z"
   },
   {
    "duration": 227,
    "start_time": "2021-07-08T08:09:28.176Z"
   },
   {
    "duration": 11,
    "start_time": "2021-07-08T08:09:28.404Z"
   },
   {
    "duration": 35,
    "start_time": "2021-07-08T08:09:28.417Z"
   },
   {
    "duration": 17,
    "start_time": "2021-07-08T08:09:28.453Z"
   },
   {
    "duration": 17,
    "start_time": "2021-07-08T08:09:28.472Z"
   },
   {
    "duration": 11,
    "start_time": "2021-07-08T08:09:28.490Z"
   },
   {
    "duration": 26,
    "start_time": "2021-07-08T08:09:28.502Z"
   },
   {
    "duration": 12,
    "start_time": "2021-07-08T08:09:28.530Z"
   },
   {
    "duration": 3,
    "start_time": "2021-07-08T08:09:28.544Z"
   },
   {
    "duration": 206,
    "start_time": "2021-07-08T08:09:28.549Z"
   },
   {
    "duration": 12,
    "start_time": "2021-07-08T08:09:28.756Z"
   },
   {
    "duration": 39,
    "start_time": "2021-07-08T08:09:28.769Z"
   },
   {
    "duration": 23,
    "start_time": "2021-07-08T08:09:28.809Z"
   },
   {
    "duration": 28,
    "start_time": "2021-07-08T08:09:28.834Z"
   },
   {
    "duration": 23,
    "start_time": "2021-07-08T08:09:28.864Z"
   },
   {
    "duration": 6,
    "start_time": "2021-07-08T08:09:28.889Z"
   },
   {
    "duration": 55,
    "start_time": "2021-07-08T08:31:04.528Z"
   },
   {
    "duration": 10,
    "start_time": "2021-07-08T08:31:04.585Z"
   },
   {
    "duration": 5,
    "start_time": "2021-07-08T08:31:04.598Z"
   },
   {
    "duration": 38,
    "start_time": "2021-07-08T08:31:04.606Z"
   },
   {
    "duration": 10,
    "start_time": "2021-07-08T08:31:04.646Z"
   },
   {
    "duration": 19,
    "start_time": "2021-07-08T08:31:04.657Z"
   },
   {
    "duration": 7,
    "start_time": "2021-07-08T08:31:04.677Z"
   },
   {
    "duration": 4,
    "start_time": "2021-07-08T08:31:04.686Z"
   },
   {
    "duration": 7,
    "start_time": "2021-07-08T08:31:04.691Z"
   },
   {
    "duration": 43,
    "start_time": "2021-07-08T08:31:04.699Z"
   },
   {
    "duration": 3,
    "start_time": "2021-07-08T08:31:04.743Z"
   },
   {
    "duration": 17,
    "start_time": "2021-07-08T08:31:04.747Z"
   },
   {
    "duration": 9,
    "start_time": "2021-07-08T08:31:04.765Z"
   },
   {
    "duration": 14,
    "start_time": "2021-07-08T08:31:04.775Z"
   },
   {
    "duration": 15,
    "start_time": "2021-07-08T08:31:04.790Z"
   },
   {
    "duration": 8,
    "start_time": "2021-07-08T08:31:04.806Z"
   },
   {
    "duration": 7,
    "start_time": "2021-07-08T08:31:04.815Z"
   },
   {
    "duration": 12,
    "start_time": "2021-07-08T08:31:04.823Z"
   },
   {
    "duration": 6,
    "start_time": "2021-07-08T08:31:04.841Z"
   },
   {
    "duration": 3,
    "start_time": "2021-07-08T08:31:04.849Z"
   },
   {
    "duration": 6,
    "start_time": "2021-07-08T08:31:04.853Z"
   },
   {
    "duration": 6,
    "start_time": "2021-07-08T08:31:04.861Z"
   },
   {
    "duration": 15,
    "start_time": "2021-07-08T08:31:04.870Z"
   },
   {
    "duration": 12,
    "start_time": "2021-07-08T08:31:04.887Z"
   },
   {
    "duration": 6,
    "start_time": "2021-07-08T08:31:04.900Z"
   },
   {
    "duration": 11,
    "start_time": "2021-07-08T08:31:04.907Z"
   },
   {
    "duration": 26,
    "start_time": "2021-07-08T08:31:04.919Z"
   },
   {
    "duration": 8,
    "start_time": "2021-07-08T08:31:04.947Z"
   },
   {
    "duration": 15,
    "start_time": "2021-07-08T08:31:04.956Z"
   },
   {
    "duration": 11,
    "start_time": "2021-07-08T08:31:04.972Z"
   },
   {
    "duration": 6,
    "start_time": "2021-07-08T08:31:04.985Z"
   },
   {
    "duration": 21,
    "start_time": "2021-07-08T08:31:04.993Z"
   },
   {
    "duration": 6,
    "start_time": "2021-07-08T08:31:05.015Z"
   },
   {
    "duration": 644,
    "start_time": "2021-07-08T08:31:05.023Z"
   },
   {
    "duration": 3,
    "start_time": "2021-07-08T08:31:05.669Z"
   },
   {
    "duration": 214,
    "start_time": "2021-07-08T08:31:05.674Z"
   },
   {
    "duration": 12,
    "start_time": "2021-07-08T08:31:05.889Z"
   },
   {
    "duration": 17,
    "start_time": "2021-07-08T08:31:05.903Z"
   },
   {
    "duration": 10,
    "start_time": "2021-07-08T08:31:05.921Z"
   },
   {
    "duration": 6,
    "start_time": "2021-07-08T08:31:05.941Z"
   },
   {
    "duration": 12,
    "start_time": "2021-07-08T08:31:05.948Z"
   },
   {
    "duration": 22,
    "start_time": "2021-07-08T08:31:05.962Z"
   },
   {
    "duration": 15,
    "start_time": "2021-07-08T08:31:05.986Z"
   },
   {
    "duration": 7,
    "start_time": "2021-07-08T08:31:06.002Z"
   },
   {
    "duration": 215,
    "start_time": "2021-07-08T08:31:06.011Z"
   },
   {
    "duration": 18,
    "start_time": "2021-07-08T08:31:06.228Z"
   },
   {
    "duration": 47,
    "start_time": "2021-07-08T08:31:06.247Z"
   },
   {
    "duration": 23,
    "start_time": "2021-07-08T08:31:06.295Z"
   },
   {
    "duration": 23,
    "start_time": "2021-07-08T08:31:06.319Z"
   },
   {
    "duration": 18,
    "start_time": "2021-07-08T08:31:06.343Z"
   },
   {
    "duration": 4,
    "start_time": "2021-07-08T08:31:06.363Z"
   },
   {
    "duration": 19,
    "start_time": "2021-07-08T08:31:32.254Z"
   },
   {
    "duration": 20,
    "start_time": "2021-07-08T08:31:49.001Z"
   },
   {
    "duration": 19,
    "start_time": "2021-07-08T08:34:06.068Z"
   },
   {
    "duration": 85,
    "start_time": "2021-07-08T09:40:26.346Z"
   },
   {
    "duration": 615,
    "start_time": "2021-07-09T12:05:55.651Z"
   },
   {
    "duration": 22,
    "start_time": "2021-07-09T12:05:56.268Z"
   },
   {
    "duration": 5,
    "start_time": "2021-07-09T12:05:56.294Z"
   },
   {
    "duration": 20,
    "start_time": "2021-07-09T12:05:56.301Z"
   },
   {
    "duration": 8,
    "start_time": "2021-07-09T12:05:56.323Z"
   },
   {
    "duration": 21,
    "start_time": "2021-07-09T12:05:56.333Z"
   },
   {
    "duration": 5,
    "start_time": "2021-07-09T12:05:56.356Z"
   },
   {
    "duration": 3,
    "start_time": "2021-07-09T12:05:56.363Z"
   },
   {
    "duration": 4,
    "start_time": "2021-07-09T12:05:56.392Z"
   },
   {
    "duration": 48,
    "start_time": "2021-07-09T12:05:56.398Z"
   },
   {
    "duration": 4,
    "start_time": "2021-07-09T12:05:56.448Z"
   },
   {
    "duration": 15,
    "start_time": "2021-07-09T12:05:56.454Z"
   },
   {
    "duration": 25,
    "start_time": "2021-07-09T12:05:56.470Z"
   },
   {
    "duration": 10,
    "start_time": "2021-07-09T12:05:56.497Z"
   },
   {
    "duration": 10,
    "start_time": "2021-07-09T12:05:56.509Z"
   },
   {
    "duration": 7,
    "start_time": "2021-07-09T12:05:56.521Z"
   },
   {
    "duration": 9,
    "start_time": "2021-07-09T12:05:56.529Z"
   },
   {
    "duration": 8,
    "start_time": "2021-07-09T12:05:56.540Z"
   },
   {
    "duration": 8,
    "start_time": "2021-07-09T12:05:56.549Z"
   },
   {
    "duration": 33,
    "start_time": "2021-07-09T12:05:56.558Z"
   },
   {
    "duration": 16,
    "start_time": "2021-07-09T12:05:56.593Z"
   },
   {
    "duration": 7,
    "start_time": "2021-07-09T12:05:56.613Z"
   },
   {
    "duration": 6,
    "start_time": "2021-07-09T12:05:56.622Z"
   },
   {
    "duration": 14,
    "start_time": "2021-07-09T12:05:56.630Z"
   },
   {
    "duration": 4,
    "start_time": "2021-07-09T12:05:56.646Z"
   },
   {
    "duration": 18,
    "start_time": "2021-07-09T12:05:56.651Z"
   },
   {
    "duration": 14,
    "start_time": "2021-07-09T12:05:56.691Z"
   },
   {
    "duration": 5,
    "start_time": "2021-07-09T12:05:56.707Z"
   },
   {
    "duration": 11,
    "start_time": "2021-07-09T12:05:56.713Z"
   },
   {
    "duration": 12,
    "start_time": "2021-07-09T12:05:56.726Z"
   },
   {
    "duration": 9,
    "start_time": "2021-07-09T12:05:56.740Z"
   },
   {
    "duration": 18,
    "start_time": "2021-07-09T12:05:56.750Z"
   },
   {
    "duration": 27,
    "start_time": "2021-07-09T12:05:56.770Z"
   },
   {
    "duration": 618,
    "start_time": "2021-07-09T12:05:56.798Z"
   },
   {
    "duration": 3,
    "start_time": "2021-07-09T12:05:57.418Z"
   },
   {
    "duration": 329,
    "start_time": "2021-07-09T12:05:57.423Z"
   },
   {
    "duration": 11,
    "start_time": "2021-07-09T12:05:57.754Z"
   },
   {
    "duration": 10,
    "start_time": "2021-07-09T12:05:57.767Z"
   },
   {
    "duration": 17,
    "start_time": "2021-07-09T12:05:57.778Z"
   },
   {
    "duration": 6,
    "start_time": "2021-07-09T12:05:57.796Z"
   },
   {
    "duration": 6,
    "start_time": "2021-07-09T12:05:57.804Z"
   },
   {
    "duration": 12,
    "start_time": "2021-07-09T12:05:57.812Z"
   },
   {
    "duration": 13,
    "start_time": "2021-07-09T12:05:57.826Z"
   },
   {
    "duration": 3,
    "start_time": "2021-07-09T12:05:57.840Z"
   },
   {
    "duration": 252,
    "start_time": "2021-07-09T12:05:57.845Z"
   },
   {
    "duration": 12,
    "start_time": "2021-07-09T12:05:58.098Z"
   },
   {
    "duration": 26,
    "start_time": "2021-07-09T12:05:58.112Z"
   },
   {
    "duration": 19,
    "start_time": "2021-07-09T12:05:58.140Z"
   },
   {
    "duration": 45,
    "start_time": "2021-07-09T12:05:58.161Z"
   },
   {
    "duration": 18,
    "start_time": "2021-07-09T12:05:58.208Z"
   },
   {
    "duration": 784,
    "start_time": "2021-07-09T12:05:58.227Z"
   },
   {
    "duration": 10,
    "start_time": "2021-07-09T12:06:12.234Z"
   },
   {
    "duration": 3,
    "start_time": "2021-07-09T12:09:08.504Z"
   },
   {
    "duration": 955,
    "start_time": "2021-07-09T12:09:10.512Z"
   },
   {
    "duration": 2053,
    "start_time": "2021-07-09T12:10:20.271Z"
   },
   {
    "duration": 1104,
    "start_time": "2021-07-09T12:10:27.378Z"
   },
   {
    "duration": 2753,
    "start_time": "2021-07-09T12:10:28.496Z"
   },
   {
    "duration": 283,
    "start_time": "2021-07-09T12:10:45.964Z"
   },
   {
    "duration": 989,
    "start_time": "2021-07-09T12:10:47.540Z"
   },
   {
    "duration": 215,
    "start_time": "2021-07-09T12:10:49.220Z"
   },
   {
    "duration": 22,
    "start_time": "2021-07-09T12:22:40.259Z"
   }
  ],
  "interpreter": {
   "hash": "d488093d919f573c925b0a84f2a24fea75905f9dd1b6664dfb65159487c96672"
  },
  "kernelspec": {
   "display_name": "Python 3.10.0 64-bit",
   "language": "python",
   "name": "python3"
  },
  "language_info": {
   "codemirror_mode": {
    "name": "ipython",
    "version": 3
   },
   "file_extension": ".py",
   "mimetype": "text/x-python",
   "name": "python",
   "nbconvert_exporter": "python",
   "pygments_lexer": "ipython3",
   "version": "3.10.0 (tags/v3.10.0:b494f59, Oct  4 2021, 19:00:18) [MSC v.1929 64 bit (AMD64)]"
  },
  "toc": {
   "base_numbering": 1,
   "nav_menu": {
    "height": "370px",
    "width": "287px"
   },
   "number_sections": true,
   "sideBar": true,
   "skip_h1_title": true,
   "title_cell": "Table of Contents",
   "title_sidebar": "Contents",
   "toc_cell": false,
   "toc_position": {
    "height": "calc(100% - 180px)",
    "left": "10px",
    "top": "150px",
    "width": "392px"
   },
   "toc_section_display": true,
   "toc_window_display": true
  }
 },
 "nbformat": 4,
 "nbformat_minor": 2
}

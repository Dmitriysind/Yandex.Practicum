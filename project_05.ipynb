{
 "cells": [
  {
   "cell_type": "markdown",
   "metadata": {},
   "source": [
    "## Введение\n",
    "Клиентам \"Мегалайн\" предлагают два тарифных плана: «Смарт» и «Ультра». Чтобы скорректировать рекламный бюджет, мы хотим понять, какой тариф приносит больше денег.\n",
    "Нужно сделать анализ тарифов на небольшой выборке клиентов. В нашем распоряжении данные 500 пользователей «Мегалайна»: кто они, откуда, каким тарифом пользуются, сколько звонков и сообщений каждый отправил за 2018 год. Нужно проанализировать поведение клиентов и сделать вывод — какой тариф лучше.\n",
    "\n",
    "Описание тарифов:\n",
    "\n",
    "Тариф «Смарт»\n",
    "\n",
    "   - Ежемесячная плата: 550 рублей\n",
    "   - Включено 500 минут разговора, 50 сообщений и 15 Гб интернет-трафика\n",
    "   - Стоимость услуг сверх тарифного пакета: 1. минута разговора: 3 рубля («Мегалайн» всегда округляет вверх значения минут и мегабайтов. Если пользователь проговорил всего 1 секунду, в тарифе засчитывается целая минута); 2. сообщение: 3 рубля; 3. 1 Гб интернет-трафика: 200 рублей.\n",
    "\n",
    "Тариф «Ультра»\n",
    "\n",
    "   - Ежемесячная плата: 1950 рублей\n",
    "   - Включено 3000 минут разговора, 1000 сообщений и 30 Гб интернет-трафика\n",
    "   - Стоимость услуг сверх тарифного пакета: 1. минута разговора: 1 рубль; 2. сообщение: 1 рубль; 3. 1 Гб интернет-трафика: 150 рублей.\n",
    "\n",
    "Примечание:\n",
    "«Мегалайн» всегда округляет секунды до минут, а мегабайты — до гигабайт. Каждый звонок округляется отдельно: даже если он длился всего 1 секунду, будет засчитан как 1 минута.\n",
    "Для веб-трафика отдельные сессии не считаются. Вместо этого общая сумма за месяц округляется в бо́льшую сторону. Если абонент использует 1025 мегабайт в этом месяце, с него возьмут плату за 2 гигабайта.\n",
    "Инструкция по выполнению проекта\n",
    "\n",
    "Алгоритм работы:\n",
    " 1. Ознакомление с целью исследовательской работы\n",
    " 2. Обзор данных\n",
    " 3. Предобработка данных\n",
    " 4. Анализ данных:\n",
    "    - Сколько минут разговора, сколько сообщений и какой объём интернет-трафика требуется пользователям каждого тарифа в месяц\n",
    "    - Посчитаем среднее количество, дисперсию и стандартное отклонение\n",
    "    - Построим гистограммы\n",
    " 5. Проверка гипотез:\n",
    "    - средняя выручка пользователей тарифов «Ультра» и «Смарт» различаются.\n",
    "    - средняя выручка пользователи из Москвы отличается от выручки пользователей из других регионов.\n",
    "     \n",
    "      \n",
    " 6. Общий вывод \n",
    " "
   ]
  },
  {
   "cell_type": "markdown",
   "metadata": {},
   "source": [
    "## Обзор данных из файла"
   ]
  },
  {
   "cell_type": "markdown",
   "metadata": {},
   "source": [
    "Импортируем библиотеки и ознакомимся с данными"
   ]
  },
  {
   "cell_type": "code",
   "execution_count": 1,
   "metadata": {},
   "outputs": [
    {
     "name": "stdout",
     "output_type": "stream",
     "text": [
      "<class 'pandas.core.frame.DataFrame'>\n",
      "RangeIndex: 202607 entries, 0 to 202606\n",
      "Data columns (total 4 columns):\n",
      "id           202607 non-null object\n",
      "call_date    202607 non-null object\n",
      "duration     202607 non-null float64\n",
      "user_id      202607 non-null int64\n",
      "dtypes: float64(1), int64(1), object(2)\n",
      "memory usage: 6.2+ MB\n"
     ]
    }
   ],
   "source": [
    "import warnings\n",
    "import numpy as np\n",
    "import pandas as pd\n",
    "import matplotlib.pyplot as plt\n",
    "from scipy import stats as st\n",
    "warnings.simplefilter('ignore') \n",
    "\n",
    "data_calls = pd.read_csv('/datasets/calls.csv')\n",
    "data_calls.info()"
   ]
  },
  {
   "cell_type": "code",
   "execution_count": 2,
   "metadata": {},
   "outputs": [
    {
     "data": {
      "text/html": [
       "<div>\n",
       "<style scoped>\n",
       "    .dataframe tbody tr th:only-of-type {\n",
       "        vertical-align: middle;\n",
       "    }\n",
       "\n",
       "    .dataframe tbody tr th {\n",
       "        vertical-align: top;\n",
       "    }\n",
       "\n",
       "    .dataframe thead th {\n",
       "        text-align: right;\n",
       "    }\n",
       "</style>\n",
       "<table border=\"1\" class=\"dataframe\">\n",
       "  <thead>\n",
       "    <tr style=\"text-align: right;\">\n",
       "      <th></th>\n",
       "      <th>id</th>\n",
       "      <th>call_date</th>\n",
       "      <th>duration</th>\n",
       "      <th>user_id</th>\n",
       "    </tr>\n",
       "  </thead>\n",
       "  <tbody>\n",
       "    <tr>\n",
       "      <td>0</td>\n",
       "      <td>1000_0</td>\n",
       "      <td>2018-07-25</td>\n",
       "      <td>0.00</td>\n",
       "      <td>1000</td>\n",
       "    </tr>\n",
       "    <tr>\n",
       "      <td>1</td>\n",
       "      <td>1000_1</td>\n",
       "      <td>2018-08-17</td>\n",
       "      <td>0.00</td>\n",
       "      <td>1000</td>\n",
       "    </tr>\n",
       "    <tr>\n",
       "      <td>2</td>\n",
       "      <td>1000_2</td>\n",
       "      <td>2018-06-11</td>\n",
       "      <td>2.85</td>\n",
       "      <td>1000</td>\n",
       "    </tr>\n",
       "    <tr>\n",
       "      <td>3</td>\n",
       "      <td>1000_3</td>\n",
       "      <td>2018-09-21</td>\n",
       "      <td>13.80</td>\n",
       "      <td>1000</td>\n",
       "    </tr>\n",
       "    <tr>\n",
       "      <td>4</td>\n",
       "      <td>1000_4</td>\n",
       "      <td>2018-12-15</td>\n",
       "      <td>5.18</td>\n",
       "      <td>1000</td>\n",
       "    </tr>\n",
       "  </tbody>\n",
       "</table>\n",
       "</div>"
      ],
      "text/plain": [
       "       id   call_date  duration  user_id\n",
       "0  1000_0  2018-07-25      0.00     1000\n",
       "1  1000_1  2018-08-17      0.00     1000\n",
       "2  1000_2  2018-06-11      2.85     1000\n",
       "3  1000_3  2018-09-21     13.80     1000\n",
       "4  1000_4  2018-12-15      5.18     1000"
      ]
     },
     "execution_count": 2,
     "metadata": {},
     "output_type": "execute_result"
    }
   ],
   "source": [
    "data_calls.head()"
   ]
  },
  {
   "cell_type": "code",
   "execution_count": 3,
   "metadata": {},
   "outputs": [
    {
     "name": "stdout",
     "output_type": "stream",
     "text": [
      "<class 'pandas.core.frame.DataFrame'>\n",
      "RangeIndex: 149396 entries, 0 to 149395\n",
      "Data columns (total 5 columns):\n",
      "Unnamed: 0      149396 non-null int64\n",
      "id              149396 non-null object\n",
      "mb_used         149396 non-null float64\n",
      "session_date    149396 non-null object\n",
      "user_id         149396 non-null int64\n",
      "dtypes: float64(1), int64(2), object(2)\n",
      "memory usage: 5.7+ MB\n"
     ]
    }
   ],
   "source": [
    "data_internet = pd.read_csv('/datasets/internet.csv')\n",
    "data_internet.info()"
   ]
  },
  {
   "cell_type": "code",
   "execution_count": 4,
   "metadata": {},
   "outputs": [
    {
     "data": {
      "text/html": [
       "<div>\n",
       "<style scoped>\n",
       "    .dataframe tbody tr th:only-of-type {\n",
       "        vertical-align: middle;\n",
       "    }\n",
       "\n",
       "    .dataframe tbody tr th {\n",
       "        vertical-align: top;\n",
       "    }\n",
       "\n",
       "    .dataframe thead th {\n",
       "        text-align: right;\n",
       "    }\n",
       "</style>\n",
       "<table border=\"1\" class=\"dataframe\">\n",
       "  <thead>\n",
       "    <tr style=\"text-align: right;\">\n",
       "      <th></th>\n",
       "      <th>Unnamed: 0</th>\n",
       "      <th>id</th>\n",
       "      <th>mb_used</th>\n",
       "      <th>session_date</th>\n",
       "      <th>user_id</th>\n",
       "    </tr>\n",
       "  </thead>\n",
       "  <tbody>\n",
       "    <tr>\n",
       "      <td>0</td>\n",
       "      <td>0</td>\n",
       "      <td>1000_0</td>\n",
       "      <td>112.95</td>\n",
       "      <td>2018-11-25</td>\n",
       "      <td>1000</td>\n",
       "    </tr>\n",
       "    <tr>\n",
       "      <td>1</td>\n",
       "      <td>1</td>\n",
       "      <td>1000_1</td>\n",
       "      <td>1052.81</td>\n",
       "      <td>2018-09-07</td>\n",
       "      <td>1000</td>\n",
       "    </tr>\n",
       "    <tr>\n",
       "      <td>2</td>\n",
       "      <td>2</td>\n",
       "      <td>1000_2</td>\n",
       "      <td>1197.26</td>\n",
       "      <td>2018-06-25</td>\n",
       "      <td>1000</td>\n",
       "    </tr>\n",
       "    <tr>\n",
       "      <td>3</td>\n",
       "      <td>3</td>\n",
       "      <td>1000_3</td>\n",
       "      <td>550.27</td>\n",
       "      <td>2018-08-22</td>\n",
       "      <td>1000</td>\n",
       "    </tr>\n",
       "    <tr>\n",
       "      <td>4</td>\n",
       "      <td>4</td>\n",
       "      <td>1000_4</td>\n",
       "      <td>302.56</td>\n",
       "      <td>2018-09-24</td>\n",
       "      <td>1000</td>\n",
       "    </tr>\n",
       "  </tbody>\n",
       "</table>\n",
       "</div>"
      ],
      "text/plain": [
       "   Unnamed: 0      id  mb_used session_date  user_id\n",
       "0           0  1000_0   112.95   2018-11-25     1000\n",
       "1           1  1000_1  1052.81   2018-09-07     1000\n",
       "2           2  1000_2  1197.26   2018-06-25     1000\n",
       "3           3  1000_3   550.27   2018-08-22     1000\n",
       "4           4  1000_4   302.56   2018-09-24     1000"
      ]
     },
     "execution_count": 4,
     "metadata": {},
     "output_type": "execute_result"
    }
   ],
   "source": [
    "data_internet.head()"
   ]
  },
  {
   "cell_type": "code",
   "execution_count": 5,
   "metadata": {},
   "outputs": [
    {
     "name": "stdout",
     "output_type": "stream",
     "text": [
      "<class 'pandas.core.frame.DataFrame'>\n",
      "RangeIndex: 123036 entries, 0 to 123035\n",
      "Data columns (total 3 columns):\n",
      "id              123036 non-null object\n",
      "message_date    123036 non-null object\n",
      "user_id         123036 non-null int64\n",
      "dtypes: int64(1), object(2)\n",
      "memory usage: 2.8+ MB\n"
     ]
    }
   ],
   "source": [
    "data_messages = pd.read_csv('/datasets/messages.csv')\n",
    "data_messages.info()"
   ]
  },
  {
   "cell_type": "code",
   "execution_count": 6,
   "metadata": {},
   "outputs": [
    {
     "data": {
      "text/html": [
       "<div>\n",
       "<style scoped>\n",
       "    .dataframe tbody tr th:only-of-type {\n",
       "        vertical-align: middle;\n",
       "    }\n",
       "\n",
       "    .dataframe tbody tr th {\n",
       "        vertical-align: top;\n",
       "    }\n",
       "\n",
       "    .dataframe thead th {\n",
       "        text-align: right;\n",
       "    }\n",
       "</style>\n",
       "<table border=\"1\" class=\"dataframe\">\n",
       "  <thead>\n",
       "    <tr style=\"text-align: right;\">\n",
       "      <th></th>\n",
       "      <th>id</th>\n",
       "      <th>message_date</th>\n",
       "      <th>user_id</th>\n",
       "    </tr>\n",
       "  </thead>\n",
       "  <tbody>\n",
       "    <tr>\n",
       "      <td>0</td>\n",
       "      <td>1000_0</td>\n",
       "      <td>2018-06-27</td>\n",
       "      <td>1000</td>\n",
       "    </tr>\n",
       "    <tr>\n",
       "      <td>1</td>\n",
       "      <td>1000_1</td>\n",
       "      <td>2018-10-08</td>\n",
       "      <td>1000</td>\n",
       "    </tr>\n",
       "    <tr>\n",
       "      <td>2</td>\n",
       "      <td>1000_2</td>\n",
       "      <td>2018-08-04</td>\n",
       "      <td>1000</td>\n",
       "    </tr>\n",
       "    <tr>\n",
       "      <td>3</td>\n",
       "      <td>1000_3</td>\n",
       "      <td>2018-06-16</td>\n",
       "      <td>1000</td>\n",
       "    </tr>\n",
       "    <tr>\n",
       "      <td>4</td>\n",
       "      <td>1000_4</td>\n",
       "      <td>2018-12-05</td>\n",
       "      <td>1000</td>\n",
       "    </tr>\n",
       "  </tbody>\n",
       "</table>\n",
       "</div>"
      ],
      "text/plain": [
       "       id message_date  user_id\n",
       "0  1000_0   2018-06-27     1000\n",
       "1  1000_1   2018-10-08     1000\n",
       "2  1000_2   2018-08-04     1000\n",
       "3  1000_3   2018-06-16     1000\n",
       "4  1000_4   2018-12-05     1000"
      ]
     },
     "execution_count": 6,
     "metadata": {},
     "output_type": "execute_result"
    }
   ],
   "source": [
    "data_messages.head()"
   ]
  },
  {
   "cell_type": "code",
   "execution_count": 7,
   "metadata": {},
   "outputs": [
    {
     "name": "stdout",
     "output_type": "stream",
     "text": [
      "<class 'pandas.core.frame.DataFrame'>\n",
      "RangeIndex: 2 entries, 0 to 1\n",
      "Data columns (total 8 columns):\n",
      "messages_included        2 non-null int64\n",
      "mb_per_month_included    2 non-null int64\n",
      "minutes_included         2 non-null int64\n",
      "rub_monthly_fee          2 non-null int64\n",
      "rub_per_gb               2 non-null int64\n",
      "rub_per_message          2 non-null int64\n",
      "rub_per_minute           2 non-null int64\n",
      "tariff_name              2 non-null object\n",
      "dtypes: int64(7), object(1)\n",
      "memory usage: 256.0+ bytes\n"
     ]
    }
   ],
   "source": [
    "data_tariffs = pd.read_csv('/datasets/tariffs.csv')\n",
    "data_tariffs.info()"
   ]
  },
  {
   "cell_type": "code",
   "execution_count": 8,
   "metadata": {},
   "outputs": [
    {
     "data": {
      "text/html": [
       "<div>\n",
       "<style scoped>\n",
       "    .dataframe tbody tr th:only-of-type {\n",
       "        vertical-align: middle;\n",
       "    }\n",
       "\n",
       "    .dataframe tbody tr th {\n",
       "        vertical-align: top;\n",
       "    }\n",
       "\n",
       "    .dataframe thead th {\n",
       "        text-align: right;\n",
       "    }\n",
       "</style>\n",
       "<table border=\"1\" class=\"dataframe\">\n",
       "  <thead>\n",
       "    <tr style=\"text-align: right;\">\n",
       "      <th></th>\n",
       "      <th>messages_included</th>\n",
       "      <th>mb_per_month_included</th>\n",
       "      <th>minutes_included</th>\n",
       "      <th>rub_monthly_fee</th>\n",
       "      <th>rub_per_gb</th>\n",
       "      <th>rub_per_message</th>\n",
       "      <th>rub_per_minute</th>\n",
       "      <th>tariff_name</th>\n",
       "    </tr>\n",
       "  </thead>\n",
       "  <tbody>\n",
       "    <tr>\n",
       "      <td>0</td>\n",
       "      <td>50</td>\n",
       "      <td>15360</td>\n",
       "      <td>500</td>\n",
       "      <td>550</td>\n",
       "      <td>200</td>\n",
       "      <td>3</td>\n",
       "      <td>3</td>\n",
       "      <td>smart</td>\n",
       "    </tr>\n",
       "    <tr>\n",
       "      <td>1</td>\n",
       "      <td>1000</td>\n",
       "      <td>30720</td>\n",
       "      <td>3000</td>\n",
       "      <td>1950</td>\n",
       "      <td>150</td>\n",
       "      <td>1</td>\n",
       "      <td>1</td>\n",
       "      <td>ultra</td>\n",
       "    </tr>\n",
       "  </tbody>\n",
       "</table>\n",
       "</div>"
      ],
      "text/plain": [
       "   messages_included  mb_per_month_included  minutes_included  \\\n",
       "0                 50                  15360               500   \n",
       "1               1000                  30720              3000   \n",
       "\n",
       "   rub_monthly_fee  rub_per_gb  rub_per_message  rub_per_minute tariff_name  \n",
       "0              550         200                3               3       smart  \n",
       "1             1950         150                1               1       ultra  "
      ]
     },
     "execution_count": 8,
     "metadata": {},
     "output_type": "execute_result"
    }
   ],
   "source": [
    "data_tariffs.head()"
   ]
  },
  {
   "cell_type": "code",
   "execution_count": 9,
   "metadata": {},
   "outputs": [
    {
     "name": "stdout",
     "output_type": "stream",
     "text": [
      "<class 'pandas.core.frame.DataFrame'>\n",
      "RangeIndex: 500 entries, 0 to 499\n",
      "Data columns (total 8 columns):\n",
      "user_id       500 non-null int64\n",
      "age           500 non-null int64\n",
      "churn_date    38 non-null object\n",
      "city          500 non-null object\n",
      "first_name    500 non-null object\n",
      "last_name     500 non-null object\n",
      "reg_date      500 non-null object\n",
      "tariff        500 non-null object\n",
      "dtypes: int64(2), object(6)\n",
      "memory usage: 31.4+ KB\n"
     ]
    }
   ],
   "source": [
    "data_users = pd.read_csv('/datasets/users.csv')\n",
    "data_users.info()"
   ]
  },
  {
   "cell_type": "code",
   "execution_count": 10,
   "metadata": {},
   "outputs": [
    {
     "data": {
      "text/html": [
       "<div>\n",
       "<style scoped>\n",
       "    .dataframe tbody tr th:only-of-type {\n",
       "        vertical-align: middle;\n",
       "    }\n",
       "\n",
       "    .dataframe tbody tr th {\n",
       "        vertical-align: top;\n",
       "    }\n",
       "\n",
       "    .dataframe thead th {\n",
       "        text-align: right;\n",
       "    }\n",
       "</style>\n",
       "<table border=\"1\" class=\"dataframe\">\n",
       "  <thead>\n",
       "    <tr style=\"text-align: right;\">\n",
       "      <th></th>\n",
       "      <th>user_id</th>\n",
       "      <th>age</th>\n",
       "      <th>churn_date</th>\n",
       "      <th>city</th>\n",
       "      <th>first_name</th>\n",
       "      <th>last_name</th>\n",
       "      <th>reg_date</th>\n",
       "      <th>tariff</th>\n",
       "    </tr>\n",
       "  </thead>\n",
       "  <tbody>\n",
       "    <tr>\n",
       "      <td>0</td>\n",
       "      <td>1000</td>\n",
       "      <td>52</td>\n",
       "      <td>NaN</td>\n",
       "      <td>Краснодар</td>\n",
       "      <td>Рафаил</td>\n",
       "      <td>Верещагин</td>\n",
       "      <td>2018-05-25</td>\n",
       "      <td>ultra</td>\n",
       "    </tr>\n",
       "    <tr>\n",
       "      <td>1</td>\n",
       "      <td>1001</td>\n",
       "      <td>41</td>\n",
       "      <td>NaN</td>\n",
       "      <td>Москва</td>\n",
       "      <td>Иван</td>\n",
       "      <td>Ежов</td>\n",
       "      <td>2018-11-01</td>\n",
       "      <td>smart</td>\n",
       "    </tr>\n",
       "    <tr>\n",
       "      <td>2</td>\n",
       "      <td>1002</td>\n",
       "      <td>59</td>\n",
       "      <td>NaN</td>\n",
       "      <td>Стерлитамак</td>\n",
       "      <td>Евгений</td>\n",
       "      <td>Абрамович</td>\n",
       "      <td>2018-06-17</td>\n",
       "      <td>smart</td>\n",
       "    </tr>\n",
       "    <tr>\n",
       "      <td>3</td>\n",
       "      <td>1003</td>\n",
       "      <td>23</td>\n",
       "      <td>NaN</td>\n",
       "      <td>Москва</td>\n",
       "      <td>Белла</td>\n",
       "      <td>Белякова</td>\n",
       "      <td>2018-08-17</td>\n",
       "      <td>ultra</td>\n",
       "    </tr>\n",
       "    <tr>\n",
       "      <td>4</td>\n",
       "      <td>1004</td>\n",
       "      <td>68</td>\n",
       "      <td>NaN</td>\n",
       "      <td>Новокузнецк</td>\n",
       "      <td>Татьяна</td>\n",
       "      <td>Авдеенко</td>\n",
       "      <td>2018-05-14</td>\n",
       "      <td>ultra</td>\n",
       "    </tr>\n",
       "  </tbody>\n",
       "</table>\n",
       "</div>"
      ],
      "text/plain": [
       "   user_id  age churn_date         city first_name  last_name    reg_date  \\\n",
       "0     1000   52        NaN    Краснодар     Рафаил  Верещагин  2018-05-25   \n",
       "1     1001   41        NaN       Москва       Иван       Ежов  2018-11-01   \n",
       "2     1002   59        NaN  Стерлитамак    Евгений  Абрамович  2018-06-17   \n",
       "3     1003   23        NaN       Москва      Белла   Белякова  2018-08-17   \n",
       "4     1004   68        NaN  Новокузнецк    Татьяна   Авдеенко  2018-05-14   \n",
       "\n",
       "  tariff  \n",
       "0  ultra  \n",
       "1  smart  \n",
       "2  smart  \n",
       "3  ultra  \n",
       "4  ultra  "
      ]
     },
     "execution_count": 10,
     "metadata": {},
     "output_type": "execute_result"
    }
   ],
   "source": [
    "data_users.head()"
   ]
  },
  {
   "cell_type": "markdown",
   "metadata": {},
   "source": [
    "Согласно документации:\n",
    "\n",
    "Таблица users (информация о пользователях):\n",
    "\n",
    "* user_id — уникальный идентификатор пользователя\n",
    "* first_name — имя пользователя\n",
    "* last_name — фамилия пользователя\n",
    "* age — возраст пользователя (годы)\n",
    "* reg_date — дата подключения тарифа (день, месяц, год)\n",
    "* churn_date — дата прекращения пользования тарифом (если значение пропущено, то тариф ещё действовал на момент выгрузки данных)\n",
    "* city — город проживания пользователя\n",
    "* tarif — название тарифного плана\n",
    "\n",
    "Таблица calls (информация о звонках):\n",
    "\n",
    "*    id — уникальный номер звонка\n",
    "*    call_date — дата звонка\n",
    "*    duration — длительность звонка в минутах\n",
    "*    user_id — идентификатор пользователя, сделавшего звонок\n",
    "\n",
    "Таблица messages (информация о сообщениях):\n",
    "\n",
    "*    id — уникальный номер сообщения\n",
    "*    message_date — дата сообщения\n",
    "*    user_id — идентификатор пользователя, отправившего сообщение\n",
    "\n",
    "Таблица internet (информация об интернет-сессиях):\n",
    "\n",
    "*    id — уникальный номер сессии\n",
    "*    mb_used — объём потраченного за сессию интернет-трафика (в мегабайтах)\n",
    "*    session_date — дата интернет-сессии\n",
    "*    user_id — идентификатор пользователя\n",
    "\n",
    "Таблица tariffs (информация о тарифах):\n",
    "\n",
    "*    tariff_name — название тарифа\n",
    "*    rub_monthly_fee — ежемесячная абонентская плата в рублях\n",
    "*    minutes_included — количество минут разговора в месяц, включённых в абонентскую плату\n",
    "*    messages_included — количество сообщений в месяц, включённых в абонентскую плату\n",
    "*    mb_per_month_included — объём интернет-трафика, включённого в абонентскую плату (в мегабайтах)\n",
    "*    rub_per_minute — стоимость минуты разговора сверх тарифного пакета (например, если в тарифе 100 минут разговора в месяц, то со 101 минуты будет взиматься плата)\n",
    "*    rub_per_message — стоимость отправки сообщения сверх тарифного пакета\n",
    "*    rub_per_gb — стоимость дополнительного гигабайта интернет-трафика сверх тарифного пакета (1 гигабайт = 1024 мегабайта)"
   ]
  },
  {
   "cell_type": "markdown",
   "metadata": {},
   "source": [
    "Вывод: имеется три таблицы с данными [calls, internet, messages] и две справочные таблицы [data_users, data_tariffs] с информацией о пользователях и тарифах"
   ]
  },
  {
   "cell_type": "markdown",
   "metadata": {},
   "source": [
    "## Предобработка данных"
   ]
  },
  {
   "cell_type": "markdown",
   "metadata": {},
   "source": [
    "Проверим категориальные значения, необходимые для нашего исследования"
   ]
  },
  {
   "cell_type": "code",
   "execution_count": 11,
   "metadata": {},
   "outputs": [
    {
     "data": {
      "text/plain": [
       "array(['ultra', 'smart'], dtype=object)"
      ]
     },
     "execution_count": 11,
     "metadata": {},
     "output_type": "execute_result"
    }
   ],
   "source": [
    "data_users['tariff'].unique()"
   ]
  },
  {
   "cell_type": "code",
   "execution_count": 12,
   "metadata": {},
   "outputs": [
    {
     "data": {
      "text/plain": [
       "array(['Краснодар', 'Москва', 'Стерлитамак', 'Новокузнецк',\n",
       "       'Набережные Челны', 'Ульяновск', 'Челябинск', 'Пермь', 'Тюмень',\n",
       "       'Самара', 'Санкт-Петербург', 'Иваново', 'Чебоксары', 'Омск', 'Уфа',\n",
       "       'Томск', 'Чита', 'Мурманск', 'Петрозаводск', 'Тверь',\n",
       "       'Екатеринбург', 'Махачкала', 'Вологда', 'Череповец', 'Ярославль',\n",
       "       'Сочи', 'Хабаровск', 'Ставрополь', 'Рязань', 'Улан-Удэ', 'Тула',\n",
       "       'Саратов', 'Ростов-на-Дону', 'Казань', 'Иркутск', 'Курск',\n",
       "       'Калуга', 'Якутск', 'Астрахань', 'Химки', 'Владикавказ',\n",
       "       'Волгоград', 'Саранск', 'Ижевск', 'Новосибирск', 'Брянск',\n",
       "       'Тольятти', 'Нижний Тагил', 'Орёл', 'Белгород', 'Воронеж',\n",
       "       'Волжский', 'Курган', 'Барнаул', 'Красноярск', 'Архангельск',\n",
       "       'Липецк', 'Кемерово', 'Киров', 'Сургут', 'Пенза', 'Магнитогорск',\n",
       "       'Нижний Новгород', 'Кострома', 'Владивосток', 'Тамбов', 'Балашиха',\n",
       "       'Севастополь', 'Калининград', 'Оренбург', 'Смоленск',\n",
       "       'Нижневартовск', 'Владимир', 'Новороссийск', 'Грозный', 'Подольск'],\n",
       "      dtype=object)"
      ]
     },
     "execution_count": 12,
     "metadata": {},
     "output_type": "execute_result"
    }
   ],
   "source": [
    "data_users['city'].unique()"
   ]
  },
  {
   "cell_type": "code",
   "execution_count": 13,
   "metadata": {},
   "outputs": [
    {
     "data": {
      "text/plain": [
       "array([ 550, 1950])"
      ]
     },
     "execution_count": 13,
     "metadata": {},
     "output_type": "execute_result"
    }
   ],
   "source": [
    "data_tariffs['rub_monthly_fee'].unique()"
   ]
  },
  {
   "cell_type": "code",
   "execution_count": 14,
   "metadata": {},
   "outputs": [
    {
     "data": {
      "text/plain": [
       "array([15360, 30720])"
      ]
     },
     "execution_count": 14,
     "metadata": {},
     "output_type": "execute_result"
    }
   ],
   "source": [
    "data_tariffs['mb_per_month_included'].unique()"
   ]
  },
  {
   "cell_type": "code",
   "execution_count": 15,
   "metadata": {},
   "outputs": [
    {
     "data": {
      "text/plain": [
       "array([  50, 1000])"
      ]
     },
     "execution_count": 15,
     "metadata": {},
     "output_type": "execute_result"
    }
   ],
   "source": [
    "data_tariffs['messages_included'].unique()"
   ]
  },
  {
   "cell_type": "code",
   "execution_count": 16,
   "metadata": {},
   "outputs": [
    {
     "data": {
      "text/plain": [
       "array([ 500, 3000])"
      ]
     },
     "execution_count": 16,
     "metadata": {},
     "output_type": "execute_result"
    }
   ],
   "source": [
    "data_tariffs['minutes_included'].unique()"
   ]
  },
  {
   "cell_type": "markdown",
   "metadata": {},
   "source": [
    "Дупликатов и пропусков нет. Колонки имееют соответветствующий тип данных. Посмотрим количественные значения"
   ]
  },
  {
   "cell_type": "code",
   "execution_count": 17,
   "metadata": {},
   "outputs": [
    {
     "data": {
      "text/plain": [
       "count    149396.000000\n",
       "mean        370.192426\n",
       "std         278.300951\n",
       "min           0.000000\n",
       "25%         138.187500\n",
       "50%         348.015000\n",
       "75%         559.552500\n",
       "max        1724.830000\n",
       "Name: mb_used, dtype: float64"
      ]
     },
     "execution_count": 17,
     "metadata": {},
     "output_type": "execute_result"
    }
   ],
   "source": [
    "data_internet['mb_used'].describe()"
   ]
  },
  {
   "cell_type": "code",
   "execution_count": 18,
   "metadata": {},
   "outputs": [
    {
     "data": {
      "text/plain": [
       "count    202607.000000\n",
       "mean          6.755887\n",
       "std           5.843365\n",
       "min           0.000000\n",
       "25%           1.300000\n",
       "50%           6.000000\n",
       "75%          10.700000\n",
       "max          38.000000\n",
       "Name: duration, dtype: float64"
      ]
     },
     "execution_count": 18,
     "metadata": {},
     "output_type": "execute_result"
    }
   ],
   "source": [
    "data_calls['duration'].describe()"
   ]
  },
  {
   "cell_type": "markdown",
   "metadata": {},
   "source": [
    "Сильных выбросов, как и отрицательных значений нет"
   ]
  },
  {
   "cell_type": "markdown",
   "metadata": {},
   "source": [
    "### Интернет"
   ]
  },
  {
   "cell_type": "markdown",
   "metadata": {},
   "source": [
    "Подготовим данные для анализа интернет-сессий"
   ]
  },
  {
   "cell_type": "markdown",
   "metadata": {},
   "source": [
    "Добавим в таблицу интернет сессий информацию о тарифах"
   ]
  },
  {
   "cell_type": "code",
   "execution_count": 19,
   "metadata": {},
   "outputs": [],
   "source": [
    "data_internet_tariffs = (data_internet.join(data_users[['user_id', 'tariff']].set_index('user_id'), on='user_id',\n",
    "                                                                       lsuffix='_l', rsuffix='_r', how='left'))\n",
    "                                    "
   ]
  },
  {
   "cell_type": "markdown",
   "metadata": {},
   "source": [
    "Проверим"
   ]
  },
  {
   "cell_type": "code",
   "execution_count": 20,
   "metadata": {},
   "outputs": [
    {
     "data": {
      "text/html": [
       "<div>\n",
       "<style scoped>\n",
       "    .dataframe tbody tr th:only-of-type {\n",
       "        vertical-align: middle;\n",
       "    }\n",
       "\n",
       "    .dataframe tbody tr th {\n",
       "        vertical-align: top;\n",
       "    }\n",
       "\n",
       "    .dataframe thead th {\n",
       "        text-align: right;\n",
       "    }\n",
       "</style>\n",
       "<table border=\"1\" class=\"dataframe\">\n",
       "  <thead>\n",
       "    <tr style=\"text-align: right;\">\n",
       "      <th></th>\n",
       "      <th>Unnamed: 0</th>\n",
       "      <th>id</th>\n",
       "      <th>mb_used</th>\n",
       "      <th>session_date</th>\n",
       "      <th>user_id</th>\n",
       "      <th>tariff</th>\n",
       "    </tr>\n",
       "  </thead>\n",
       "  <tbody>\n",
       "    <tr>\n",
       "      <td>0</td>\n",
       "      <td>0</td>\n",
       "      <td>1000_0</td>\n",
       "      <td>112.95</td>\n",
       "      <td>2018-11-25</td>\n",
       "      <td>1000</td>\n",
       "      <td>ultra</td>\n",
       "    </tr>\n",
       "    <tr>\n",
       "      <td>1</td>\n",
       "      <td>1</td>\n",
       "      <td>1000_1</td>\n",
       "      <td>1052.81</td>\n",
       "      <td>2018-09-07</td>\n",
       "      <td>1000</td>\n",
       "      <td>ultra</td>\n",
       "    </tr>\n",
       "    <tr>\n",
       "      <td>2</td>\n",
       "      <td>2</td>\n",
       "      <td>1000_2</td>\n",
       "      <td>1197.26</td>\n",
       "      <td>2018-06-25</td>\n",
       "      <td>1000</td>\n",
       "      <td>ultra</td>\n",
       "    </tr>\n",
       "    <tr>\n",
       "      <td>3</td>\n",
       "      <td>3</td>\n",
       "      <td>1000_3</td>\n",
       "      <td>550.27</td>\n",
       "      <td>2018-08-22</td>\n",
       "      <td>1000</td>\n",
       "      <td>ultra</td>\n",
       "    </tr>\n",
       "    <tr>\n",
       "      <td>4</td>\n",
       "      <td>4</td>\n",
       "      <td>1000_4</td>\n",
       "      <td>302.56</td>\n",
       "      <td>2018-09-24</td>\n",
       "      <td>1000</td>\n",
       "      <td>ultra</td>\n",
       "    </tr>\n",
       "  </tbody>\n",
       "</table>\n",
       "</div>"
      ],
      "text/plain": [
       "   Unnamed: 0      id  mb_used session_date  user_id tariff\n",
       "0           0  1000_0   112.95   2018-11-25     1000  ultra\n",
       "1           1  1000_1  1052.81   2018-09-07     1000  ultra\n",
       "2           2  1000_2  1197.26   2018-06-25     1000  ultra\n",
       "3           3  1000_3   550.27   2018-08-22     1000  ultra\n",
       "4           4  1000_4   302.56   2018-09-24     1000  ultra"
      ]
     },
     "execution_count": 20,
     "metadata": {},
     "output_type": "execute_result"
    }
   ],
   "source": [
    "data_internet_tariffs.head()"
   ]
  },
  {
   "cell_type": "markdown",
   "metadata": {},
   "source": [
    "Добавим информацию о ценах на интернет услуги. Количество мегабайт в месяц и стоимость гигабайта трафика вне лимита"
   ]
  },
  {
   "cell_type": "code",
   "execution_count": 21,
   "metadata": {},
   "outputs": [],
   "source": [
    "internet = (data_internet_tariffs.join(data_tariffs[['tariff_name', 'mb_per_month_included', 'rub_per_gb']]\n",
    "                                       .set_index('tariff_name'),\n",
    "                                       on = 'tariff',\n",
    "                                       how='left'))"
   ]
  },
  {
   "cell_type": "markdown",
   "metadata": {},
   "source": [
    "Проверим"
   ]
  },
  {
   "cell_type": "code",
   "execution_count": 22,
   "metadata": {},
   "outputs": [
    {
     "data": {
      "text/html": [
       "<div>\n",
       "<style scoped>\n",
       "    .dataframe tbody tr th:only-of-type {\n",
       "        vertical-align: middle;\n",
       "    }\n",
       "\n",
       "    .dataframe tbody tr th {\n",
       "        vertical-align: top;\n",
       "    }\n",
       "\n",
       "    .dataframe thead th {\n",
       "        text-align: right;\n",
       "    }\n",
       "</style>\n",
       "<table border=\"1\" class=\"dataframe\">\n",
       "  <thead>\n",
       "    <tr style=\"text-align: right;\">\n",
       "      <th></th>\n",
       "      <th>Unnamed: 0</th>\n",
       "      <th>id</th>\n",
       "      <th>mb_used</th>\n",
       "      <th>session_date</th>\n",
       "      <th>user_id</th>\n",
       "      <th>tariff</th>\n",
       "      <th>mb_per_month_included</th>\n",
       "      <th>rub_per_gb</th>\n",
       "    </tr>\n",
       "  </thead>\n",
       "  <tbody>\n",
       "    <tr>\n",
       "      <td>0</td>\n",
       "      <td>0</td>\n",
       "      <td>1000_0</td>\n",
       "      <td>112.95</td>\n",
       "      <td>2018-11-25</td>\n",
       "      <td>1000</td>\n",
       "      <td>ultra</td>\n",
       "      <td>30720</td>\n",
       "      <td>150</td>\n",
       "    </tr>\n",
       "    <tr>\n",
       "      <td>1</td>\n",
       "      <td>1</td>\n",
       "      <td>1000_1</td>\n",
       "      <td>1052.81</td>\n",
       "      <td>2018-09-07</td>\n",
       "      <td>1000</td>\n",
       "      <td>ultra</td>\n",
       "      <td>30720</td>\n",
       "      <td>150</td>\n",
       "    </tr>\n",
       "    <tr>\n",
       "      <td>2</td>\n",
       "      <td>2</td>\n",
       "      <td>1000_2</td>\n",
       "      <td>1197.26</td>\n",
       "      <td>2018-06-25</td>\n",
       "      <td>1000</td>\n",
       "      <td>ultra</td>\n",
       "      <td>30720</td>\n",
       "      <td>150</td>\n",
       "    </tr>\n",
       "    <tr>\n",
       "      <td>3</td>\n",
       "      <td>3</td>\n",
       "      <td>1000_3</td>\n",
       "      <td>550.27</td>\n",
       "      <td>2018-08-22</td>\n",
       "      <td>1000</td>\n",
       "      <td>ultra</td>\n",
       "      <td>30720</td>\n",
       "      <td>150</td>\n",
       "    </tr>\n",
       "    <tr>\n",
       "      <td>4</td>\n",
       "      <td>4</td>\n",
       "      <td>1000_4</td>\n",
       "      <td>302.56</td>\n",
       "      <td>2018-09-24</td>\n",
       "      <td>1000</td>\n",
       "      <td>ultra</td>\n",
       "      <td>30720</td>\n",
       "      <td>150</td>\n",
       "    </tr>\n",
       "  </tbody>\n",
       "</table>\n",
       "</div>"
      ],
      "text/plain": [
       "   Unnamed: 0      id  mb_used session_date  user_id tariff  \\\n",
       "0           0  1000_0   112.95   2018-11-25     1000  ultra   \n",
       "1           1  1000_1  1052.81   2018-09-07     1000  ultra   \n",
       "2           2  1000_2  1197.26   2018-06-25     1000  ultra   \n",
       "3           3  1000_3   550.27   2018-08-22     1000  ultra   \n",
       "4           4  1000_4   302.56   2018-09-24     1000  ultra   \n",
       "\n",
       "   mb_per_month_included  rub_per_gb  \n",
       "0                  30720         150  \n",
       "1                  30720         150  \n",
       "2                  30720         150  \n",
       "3                  30720         150  \n",
       "4                  30720         150  "
      ]
     },
     "execution_count": 22,
     "metadata": {},
     "output_type": "execute_result"
    }
   ],
   "source": [
    "internet.head()"
   ]
  },
  {
   "cell_type": "markdown",
   "metadata": {},
   "source": [
    "Сконверитруем таблицу дат в соответствующий формат и добавим колонку с месяцами"
   ]
  },
  {
   "cell_type": "code",
   "execution_count": 23,
   "metadata": {},
   "outputs": [],
   "source": [
    "internet['session_date'] = pd.to_datetime(internet['session_date'], format='%Y-%m-%d', errors='coerce')"
   ]
  },
  {
   "cell_type": "code",
   "execution_count": 24,
   "metadata": {},
   "outputs": [
    {
     "data": {
      "text/html": [
       "<div>\n",
       "<style scoped>\n",
       "    .dataframe tbody tr th:only-of-type {\n",
       "        vertical-align: middle;\n",
       "    }\n",
       "\n",
       "    .dataframe tbody tr th {\n",
       "        vertical-align: top;\n",
       "    }\n",
       "\n",
       "    .dataframe thead th {\n",
       "        text-align: right;\n",
       "    }\n",
       "</style>\n",
       "<table border=\"1\" class=\"dataframe\">\n",
       "  <thead>\n",
       "    <tr style=\"text-align: right;\">\n",
       "      <th></th>\n",
       "      <th>Unnamed: 0</th>\n",
       "      <th>id</th>\n",
       "      <th>mb_used</th>\n",
       "      <th>session_date</th>\n",
       "      <th>user_id</th>\n",
       "      <th>tariff</th>\n",
       "      <th>mb_per_month_included</th>\n",
       "      <th>rub_per_gb</th>\n",
       "      <th>month</th>\n",
       "      <th>month_year</th>\n",
       "    </tr>\n",
       "  </thead>\n",
       "  <tbody>\n",
       "    <tr>\n",
       "      <td>0</td>\n",
       "      <td>0</td>\n",
       "      <td>1000_0</td>\n",
       "      <td>112.95</td>\n",
       "      <td>2018-11-25</td>\n",
       "      <td>1000</td>\n",
       "      <td>ultra</td>\n",
       "      <td>30720</td>\n",
       "      <td>150</td>\n",
       "      <td>11</td>\n",
       "      <td>2018-11</td>\n",
       "    </tr>\n",
       "    <tr>\n",
       "      <td>1</td>\n",
       "      <td>1</td>\n",
       "      <td>1000_1</td>\n",
       "      <td>1052.81</td>\n",
       "      <td>2018-09-07</td>\n",
       "      <td>1000</td>\n",
       "      <td>ultra</td>\n",
       "      <td>30720</td>\n",
       "      <td>150</td>\n",
       "      <td>9</td>\n",
       "      <td>2018-09</td>\n",
       "    </tr>\n",
       "    <tr>\n",
       "      <td>2</td>\n",
       "      <td>2</td>\n",
       "      <td>1000_2</td>\n",
       "      <td>1197.26</td>\n",
       "      <td>2018-06-25</td>\n",
       "      <td>1000</td>\n",
       "      <td>ultra</td>\n",
       "      <td>30720</td>\n",
       "      <td>150</td>\n",
       "      <td>6</td>\n",
       "      <td>2018-06</td>\n",
       "    </tr>\n",
       "    <tr>\n",
       "      <td>3</td>\n",
       "      <td>3</td>\n",
       "      <td>1000_3</td>\n",
       "      <td>550.27</td>\n",
       "      <td>2018-08-22</td>\n",
       "      <td>1000</td>\n",
       "      <td>ultra</td>\n",
       "      <td>30720</td>\n",
       "      <td>150</td>\n",
       "      <td>8</td>\n",
       "      <td>2018-08</td>\n",
       "    </tr>\n",
       "    <tr>\n",
       "      <td>4</td>\n",
       "      <td>4</td>\n",
       "      <td>1000_4</td>\n",
       "      <td>302.56</td>\n",
       "      <td>2018-09-24</td>\n",
       "      <td>1000</td>\n",
       "      <td>ultra</td>\n",
       "      <td>30720</td>\n",
       "      <td>150</td>\n",
       "      <td>9</td>\n",
       "      <td>2018-09</td>\n",
       "    </tr>\n",
       "    <tr>\n",
       "      <td>...</td>\n",
       "      <td>...</td>\n",
       "      <td>...</td>\n",
       "      <td>...</td>\n",
       "      <td>...</td>\n",
       "      <td>...</td>\n",
       "      <td>...</td>\n",
       "      <td>...</td>\n",
       "      <td>...</td>\n",
       "      <td>...</td>\n",
       "      <td>...</td>\n",
       "    </tr>\n",
       "    <tr>\n",
       "      <td>149391</td>\n",
       "      <td>149391</td>\n",
       "      <td>1499_152</td>\n",
       "      <td>318.90</td>\n",
       "      <td>2018-10-03</td>\n",
       "      <td>1499</td>\n",
       "      <td>smart</td>\n",
       "      <td>15360</td>\n",
       "      <td>200</td>\n",
       "      <td>10</td>\n",
       "      <td>2018-10</td>\n",
       "    </tr>\n",
       "    <tr>\n",
       "      <td>149392</td>\n",
       "      <td>149392</td>\n",
       "      <td>1499_153</td>\n",
       "      <td>490.13</td>\n",
       "      <td>2018-12-14</td>\n",
       "      <td>1499</td>\n",
       "      <td>smart</td>\n",
       "      <td>15360</td>\n",
       "      <td>200</td>\n",
       "      <td>12</td>\n",
       "      <td>2018-12</td>\n",
       "    </tr>\n",
       "    <tr>\n",
       "      <td>149393</td>\n",
       "      <td>149393</td>\n",
       "      <td>1499_154</td>\n",
       "      <td>0.00</td>\n",
       "      <td>2018-10-27</td>\n",
       "      <td>1499</td>\n",
       "      <td>smart</td>\n",
       "      <td>15360</td>\n",
       "      <td>200</td>\n",
       "      <td>10</td>\n",
       "      <td>2018-10</td>\n",
       "    </tr>\n",
       "    <tr>\n",
       "      <td>149394</td>\n",
       "      <td>149394</td>\n",
       "      <td>1499_155</td>\n",
       "      <td>1246.32</td>\n",
       "      <td>2018-11-26</td>\n",
       "      <td>1499</td>\n",
       "      <td>smart</td>\n",
       "      <td>15360</td>\n",
       "      <td>200</td>\n",
       "      <td>11</td>\n",
       "      <td>2018-11</td>\n",
       "    </tr>\n",
       "    <tr>\n",
       "      <td>149395</td>\n",
       "      <td>149395</td>\n",
       "      <td>1499_156</td>\n",
       "      <td>544.37</td>\n",
       "      <td>2018-10-26</td>\n",
       "      <td>1499</td>\n",
       "      <td>smart</td>\n",
       "      <td>15360</td>\n",
       "      <td>200</td>\n",
       "      <td>10</td>\n",
       "      <td>2018-10</td>\n",
       "    </tr>\n",
       "  </tbody>\n",
       "</table>\n",
       "<p>149396 rows × 10 columns</p>\n",
       "</div>"
      ],
      "text/plain": [
       "        Unnamed: 0        id  mb_used session_date  user_id tariff  \\\n",
       "0                0    1000_0   112.95   2018-11-25     1000  ultra   \n",
       "1                1    1000_1  1052.81   2018-09-07     1000  ultra   \n",
       "2                2    1000_2  1197.26   2018-06-25     1000  ultra   \n",
       "3                3    1000_3   550.27   2018-08-22     1000  ultra   \n",
       "4                4    1000_4   302.56   2018-09-24     1000  ultra   \n",
       "...            ...       ...      ...          ...      ...    ...   \n",
       "149391      149391  1499_152   318.90   2018-10-03     1499  smart   \n",
       "149392      149392  1499_153   490.13   2018-12-14     1499  smart   \n",
       "149393      149393  1499_154     0.00   2018-10-27     1499  smart   \n",
       "149394      149394  1499_155  1246.32   2018-11-26     1499  smart   \n",
       "149395      149395  1499_156   544.37   2018-10-26     1499  smart   \n",
       "\n",
       "        mb_per_month_included  rub_per_gb  month month_year  \n",
       "0                       30720         150     11    2018-11  \n",
       "1                       30720         150      9    2018-09  \n",
       "2                       30720         150      6    2018-06  \n",
       "3                       30720         150      8    2018-08  \n",
       "4                       30720         150      9    2018-09  \n",
       "...                       ...         ...    ...        ...  \n",
       "149391                  15360         200     10    2018-10  \n",
       "149392                  15360         200     12    2018-12  \n",
       "149393                  15360         200     10    2018-10  \n",
       "149394                  15360         200     11    2018-11  \n",
       "149395                  15360         200     10    2018-10  \n",
       "\n",
       "[149396 rows x 10 columns]"
      ]
     },
     "execution_count": 24,
     "metadata": {},
     "output_type": "execute_result"
    }
   ],
   "source": [
    "internet['month'] = pd.DatetimeIndex(internet['session_date']).month\n",
    "internet['month_year'] = pd.to_datetime(internet['session_date']).dt.to_period('M')\n",
    "internet"
   ]
  },
  {
   "cell_type": "markdown",
   "metadata": {},
   "source": [
    "Проверим"
   ]
  },
  {
   "cell_type": "code",
   "execution_count": 25,
   "metadata": {},
   "outputs": [
    {
     "data": {
      "text/html": [
       "<div>\n",
       "<style scoped>\n",
       "    .dataframe tbody tr th:only-of-type {\n",
       "        vertical-align: middle;\n",
       "    }\n",
       "\n",
       "    .dataframe tbody tr th {\n",
       "        vertical-align: top;\n",
       "    }\n",
       "\n",
       "    .dataframe thead th {\n",
       "        text-align: right;\n",
       "    }\n",
       "</style>\n",
       "<table border=\"1\" class=\"dataframe\">\n",
       "  <thead>\n",
       "    <tr style=\"text-align: right;\">\n",
       "      <th></th>\n",
       "      <th>Unnamed: 0</th>\n",
       "      <th>id</th>\n",
       "      <th>mb_used</th>\n",
       "      <th>session_date</th>\n",
       "      <th>user_id</th>\n",
       "      <th>tariff</th>\n",
       "      <th>mb_per_month_included</th>\n",
       "      <th>rub_per_gb</th>\n",
       "      <th>month</th>\n",
       "      <th>month_year</th>\n",
       "    </tr>\n",
       "  </thead>\n",
       "  <tbody>\n",
       "    <tr>\n",
       "      <td>0</td>\n",
       "      <td>0</td>\n",
       "      <td>1000_0</td>\n",
       "      <td>112.95</td>\n",
       "      <td>2018-11-25</td>\n",
       "      <td>1000</td>\n",
       "      <td>ultra</td>\n",
       "      <td>30720</td>\n",
       "      <td>150</td>\n",
       "      <td>11</td>\n",
       "      <td>2018-11</td>\n",
       "    </tr>\n",
       "    <tr>\n",
       "      <td>1</td>\n",
       "      <td>1</td>\n",
       "      <td>1000_1</td>\n",
       "      <td>1052.81</td>\n",
       "      <td>2018-09-07</td>\n",
       "      <td>1000</td>\n",
       "      <td>ultra</td>\n",
       "      <td>30720</td>\n",
       "      <td>150</td>\n",
       "      <td>9</td>\n",
       "      <td>2018-09</td>\n",
       "    </tr>\n",
       "    <tr>\n",
       "      <td>2</td>\n",
       "      <td>2</td>\n",
       "      <td>1000_2</td>\n",
       "      <td>1197.26</td>\n",
       "      <td>2018-06-25</td>\n",
       "      <td>1000</td>\n",
       "      <td>ultra</td>\n",
       "      <td>30720</td>\n",
       "      <td>150</td>\n",
       "      <td>6</td>\n",
       "      <td>2018-06</td>\n",
       "    </tr>\n",
       "    <tr>\n",
       "      <td>3</td>\n",
       "      <td>3</td>\n",
       "      <td>1000_3</td>\n",
       "      <td>550.27</td>\n",
       "      <td>2018-08-22</td>\n",
       "      <td>1000</td>\n",
       "      <td>ultra</td>\n",
       "      <td>30720</td>\n",
       "      <td>150</td>\n",
       "      <td>8</td>\n",
       "      <td>2018-08</td>\n",
       "    </tr>\n",
       "    <tr>\n",
       "      <td>4</td>\n",
       "      <td>4</td>\n",
       "      <td>1000_4</td>\n",
       "      <td>302.56</td>\n",
       "      <td>2018-09-24</td>\n",
       "      <td>1000</td>\n",
       "      <td>ultra</td>\n",
       "      <td>30720</td>\n",
       "      <td>150</td>\n",
       "      <td>9</td>\n",
       "      <td>2018-09</td>\n",
       "    </tr>\n",
       "  </tbody>\n",
       "</table>\n",
       "</div>"
      ],
      "text/plain": [
       "   Unnamed: 0      id  mb_used session_date  user_id tariff  \\\n",
       "0           0  1000_0   112.95   2018-11-25     1000  ultra   \n",
       "1           1  1000_1  1052.81   2018-09-07     1000  ultra   \n",
       "2           2  1000_2  1197.26   2018-06-25     1000  ultra   \n",
       "3           3  1000_3   550.27   2018-08-22     1000  ultra   \n",
       "4           4  1000_4   302.56   2018-09-24     1000  ultra   \n",
       "\n",
       "   mb_per_month_included  rub_per_gb  month month_year  \n",
       "0                  30720         150     11    2018-11  \n",
       "1                  30720         150      9    2018-09  \n",
       "2                  30720         150      6    2018-06  \n",
       "3                  30720         150      8    2018-08  \n",
       "4                  30720         150      9    2018-09  "
      ]
     },
     "execution_count": 25,
     "metadata": {},
     "output_type": "execute_result"
    }
   ],
   "source": [
    "internet.head()"
   ]
  },
  {
   "cell_type": "code",
   "execution_count": 26,
   "metadata": {},
   "outputs": [
    {
     "name": "stdout",
     "output_type": "stream",
     "text": [
      "<class 'pandas.core.frame.DataFrame'>\n",
      "RangeIndex: 149396 entries, 0 to 149395\n",
      "Data columns (total 10 columns):\n",
      "Unnamed: 0               149396 non-null int64\n",
      "id                       149396 non-null object\n",
      "mb_used                  149396 non-null float64\n",
      "session_date             149396 non-null datetime64[ns]\n",
      "user_id                  149396 non-null int64\n",
      "tariff                   149396 non-null object\n",
      "mb_per_month_included    149396 non-null int64\n",
      "rub_per_gb               149396 non-null int64\n",
      "month                    149396 non-null int64\n",
      "month_year               149396 non-null period[M]\n",
      "dtypes: datetime64[ns](1), float64(1), int64(5), object(2), period[M](1)\n",
      "memory usage: 11.4+ MB\n"
     ]
    }
   ],
   "source": [
    "internet.info()"
   ]
  },
  {
   "cell_type": "markdown",
   "metadata": {},
   "source": [
    "### Звонки"
   ]
  },
  {
   "cell_type": "markdown",
   "metadata": {},
   "source": [
    "Подготовим данные для анализа информации о звонках"
   ]
  },
  {
   "cell_type": "markdown",
   "metadata": {},
   "source": [
    "Добавим в таблицу звонков информацию о тарифах"
   ]
  },
  {
   "cell_type": "code",
   "execution_count": 27,
   "metadata": {},
   "outputs": [],
   "source": [
    "data_calls_tariffs = (data_calls.join(data_users[['user_id', 'tariff']].set_index('user_id'), on='user_id',\n",
    "                                                                       lsuffix='_l', rsuffix='_r', how='left'))\n",
    "                                   "
   ]
  },
  {
   "cell_type": "markdown",
   "metadata": {},
   "source": [
    "Проверим"
   ]
  },
  {
   "cell_type": "code",
   "execution_count": 28,
   "metadata": {},
   "outputs": [
    {
     "data": {
      "text/html": [
       "<div>\n",
       "<style scoped>\n",
       "    .dataframe tbody tr th:only-of-type {\n",
       "        vertical-align: middle;\n",
       "    }\n",
       "\n",
       "    .dataframe tbody tr th {\n",
       "        vertical-align: top;\n",
       "    }\n",
       "\n",
       "    .dataframe thead th {\n",
       "        text-align: right;\n",
       "    }\n",
       "</style>\n",
       "<table border=\"1\" class=\"dataframe\">\n",
       "  <thead>\n",
       "    <tr style=\"text-align: right;\">\n",
       "      <th></th>\n",
       "      <th>id</th>\n",
       "      <th>call_date</th>\n",
       "      <th>duration</th>\n",
       "      <th>user_id</th>\n",
       "      <th>tariff</th>\n",
       "    </tr>\n",
       "  </thead>\n",
       "  <tbody>\n",
       "    <tr>\n",
       "      <td>0</td>\n",
       "      <td>1000_0</td>\n",
       "      <td>2018-07-25</td>\n",
       "      <td>0.00</td>\n",
       "      <td>1000</td>\n",
       "      <td>ultra</td>\n",
       "    </tr>\n",
       "    <tr>\n",
       "      <td>1</td>\n",
       "      <td>1000_1</td>\n",
       "      <td>2018-08-17</td>\n",
       "      <td>0.00</td>\n",
       "      <td>1000</td>\n",
       "      <td>ultra</td>\n",
       "    </tr>\n",
       "    <tr>\n",
       "      <td>2</td>\n",
       "      <td>1000_2</td>\n",
       "      <td>2018-06-11</td>\n",
       "      <td>2.85</td>\n",
       "      <td>1000</td>\n",
       "      <td>ultra</td>\n",
       "    </tr>\n",
       "    <tr>\n",
       "      <td>3</td>\n",
       "      <td>1000_3</td>\n",
       "      <td>2018-09-21</td>\n",
       "      <td>13.80</td>\n",
       "      <td>1000</td>\n",
       "      <td>ultra</td>\n",
       "    </tr>\n",
       "    <tr>\n",
       "      <td>4</td>\n",
       "      <td>1000_4</td>\n",
       "      <td>2018-12-15</td>\n",
       "      <td>5.18</td>\n",
       "      <td>1000</td>\n",
       "      <td>ultra</td>\n",
       "    </tr>\n",
       "  </tbody>\n",
       "</table>\n",
       "</div>"
      ],
      "text/plain": [
       "       id   call_date  duration  user_id tariff\n",
       "0  1000_0  2018-07-25      0.00     1000  ultra\n",
       "1  1000_1  2018-08-17      0.00     1000  ultra\n",
       "2  1000_2  2018-06-11      2.85     1000  ultra\n",
       "3  1000_3  2018-09-21     13.80     1000  ultra\n",
       "4  1000_4  2018-12-15      5.18     1000  ultra"
      ]
     },
     "execution_count": 28,
     "metadata": {},
     "output_type": "execute_result"
    }
   ],
   "source": [
    "data_calls_tariffs.head()"
   ]
  },
  {
   "cell_type": "markdown",
   "metadata": {},
   "source": [
    "Добавим информацию о ценах на звонки. Количество минут в месяц и стоимость минуты вне лимита"
   ]
  },
  {
   "cell_type": "code",
   "execution_count": 29,
   "metadata": {},
   "outputs": [],
   "source": [
    "calls = (data_calls_tariffs.join(data_tariffs[['tariff_name', 'minutes_included', 'rub_per_minute']]\n",
    "                                       .set_index('tariff_name'),\n",
    "                                       on = 'tariff',\n",
    "                                       how='left'))"
   ]
  },
  {
   "cell_type": "markdown",
   "metadata": {},
   "source": [
    "Проверим"
   ]
  },
  {
   "cell_type": "code",
   "execution_count": 30,
   "metadata": {},
   "outputs": [
    {
     "data": {
      "text/html": [
       "<div>\n",
       "<style scoped>\n",
       "    .dataframe tbody tr th:only-of-type {\n",
       "        vertical-align: middle;\n",
       "    }\n",
       "\n",
       "    .dataframe tbody tr th {\n",
       "        vertical-align: top;\n",
       "    }\n",
       "\n",
       "    .dataframe thead th {\n",
       "        text-align: right;\n",
       "    }\n",
       "</style>\n",
       "<table border=\"1\" class=\"dataframe\">\n",
       "  <thead>\n",
       "    <tr style=\"text-align: right;\">\n",
       "      <th></th>\n",
       "      <th>id</th>\n",
       "      <th>call_date</th>\n",
       "      <th>duration</th>\n",
       "      <th>user_id</th>\n",
       "      <th>tariff</th>\n",
       "      <th>minutes_included</th>\n",
       "      <th>rub_per_minute</th>\n",
       "    </tr>\n",
       "  </thead>\n",
       "  <tbody>\n",
       "    <tr>\n",
       "      <td>0</td>\n",
       "      <td>1000_0</td>\n",
       "      <td>2018-07-25</td>\n",
       "      <td>0.00</td>\n",
       "      <td>1000</td>\n",
       "      <td>ultra</td>\n",
       "      <td>3000</td>\n",
       "      <td>1</td>\n",
       "    </tr>\n",
       "    <tr>\n",
       "      <td>1</td>\n",
       "      <td>1000_1</td>\n",
       "      <td>2018-08-17</td>\n",
       "      <td>0.00</td>\n",
       "      <td>1000</td>\n",
       "      <td>ultra</td>\n",
       "      <td>3000</td>\n",
       "      <td>1</td>\n",
       "    </tr>\n",
       "    <tr>\n",
       "      <td>2</td>\n",
       "      <td>1000_2</td>\n",
       "      <td>2018-06-11</td>\n",
       "      <td>2.85</td>\n",
       "      <td>1000</td>\n",
       "      <td>ultra</td>\n",
       "      <td>3000</td>\n",
       "      <td>1</td>\n",
       "    </tr>\n",
       "    <tr>\n",
       "      <td>3</td>\n",
       "      <td>1000_3</td>\n",
       "      <td>2018-09-21</td>\n",
       "      <td>13.80</td>\n",
       "      <td>1000</td>\n",
       "      <td>ultra</td>\n",
       "      <td>3000</td>\n",
       "      <td>1</td>\n",
       "    </tr>\n",
       "    <tr>\n",
       "      <td>4</td>\n",
       "      <td>1000_4</td>\n",
       "      <td>2018-12-15</td>\n",
       "      <td>5.18</td>\n",
       "      <td>1000</td>\n",
       "      <td>ultra</td>\n",
       "      <td>3000</td>\n",
       "      <td>1</td>\n",
       "    </tr>\n",
       "  </tbody>\n",
       "</table>\n",
       "</div>"
      ],
      "text/plain": [
       "       id   call_date  duration  user_id tariff  minutes_included  \\\n",
       "0  1000_0  2018-07-25      0.00     1000  ultra              3000   \n",
       "1  1000_1  2018-08-17      0.00     1000  ultra              3000   \n",
       "2  1000_2  2018-06-11      2.85     1000  ultra              3000   \n",
       "3  1000_3  2018-09-21     13.80     1000  ultra              3000   \n",
       "4  1000_4  2018-12-15      5.18     1000  ultra              3000   \n",
       "\n",
       "   rub_per_minute  \n",
       "0               1  \n",
       "1               1  \n",
       "2               1  \n",
       "3               1  \n",
       "4               1  "
      ]
     },
     "execution_count": 30,
     "metadata": {},
     "output_type": "execute_result"
    }
   ],
   "source": [
    "calls.head()"
   ]
  },
  {
   "cell_type": "markdown",
   "metadata": {},
   "source": [
    "Сконверитруем таблицу дат в соответствующий формат и добавим колонку с месяцами"
   ]
  },
  {
   "cell_type": "code",
   "execution_count": 31,
   "metadata": {},
   "outputs": [],
   "source": [
    "calls['call_date'] = pd.to_datetime(calls['call_date'], format='%Y-%m-%d', errors='coerce')"
   ]
  },
  {
   "cell_type": "code",
   "execution_count": 32,
   "metadata": {},
   "outputs": [],
   "source": [
    "calls['month'] = pd.DatetimeIndex(calls['call_date']).month"
   ]
  },
  {
   "cell_type": "markdown",
   "metadata": {},
   "source": [
    "Проверим"
   ]
  },
  {
   "cell_type": "code",
   "execution_count": 33,
   "metadata": {},
   "outputs": [
    {
     "data": {
      "text/html": [
       "<div>\n",
       "<style scoped>\n",
       "    .dataframe tbody tr th:only-of-type {\n",
       "        vertical-align: middle;\n",
       "    }\n",
       "\n",
       "    .dataframe tbody tr th {\n",
       "        vertical-align: top;\n",
       "    }\n",
       "\n",
       "    .dataframe thead th {\n",
       "        text-align: right;\n",
       "    }\n",
       "</style>\n",
       "<table border=\"1\" class=\"dataframe\">\n",
       "  <thead>\n",
       "    <tr style=\"text-align: right;\">\n",
       "      <th></th>\n",
       "      <th>id</th>\n",
       "      <th>call_date</th>\n",
       "      <th>duration</th>\n",
       "      <th>user_id</th>\n",
       "      <th>tariff</th>\n",
       "      <th>minutes_included</th>\n",
       "      <th>rub_per_minute</th>\n",
       "      <th>month</th>\n",
       "    </tr>\n",
       "  </thead>\n",
       "  <tbody>\n",
       "    <tr>\n",
       "      <td>0</td>\n",
       "      <td>1000_0</td>\n",
       "      <td>2018-07-25</td>\n",
       "      <td>0.00</td>\n",
       "      <td>1000</td>\n",
       "      <td>ultra</td>\n",
       "      <td>3000</td>\n",
       "      <td>1</td>\n",
       "      <td>7</td>\n",
       "    </tr>\n",
       "    <tr>\n",
       "      <td>1</td>\n",
       "      <td>1000_1</td>\n",
       "      <td>2018-08-17</td>\n",
       "      <td>0.00</td>\n",
       "      <td>1000</td>\n",
       "      <td>ultra</td>\n",
       "      <td>3000</td>\n",
       "      <td>1</td>\n",
       "      <td>8</td>\n",
       "    </tr>\n",
       "    <tr>\n",
       "      <td>2</td>\n",
       "      <td>1000_2</td>\n",
       "      <td>2018-06-11</td>\n",
       "      <td>2.85</td>\n",
       "      <td>1000</td>\n",
       "      <td>ultra</td>\n",
       "      <td>3000</td>\n",
       "      <td>1</td>\n",
       "      <td>6</td>\n",
       "    </tr>\n",
       "    <tr>\n",
       "      <td>3</td>\n",
       "      <td>1000_3</td>\n",
       "      <td>2018-09-21</td>\n",
       "      <td>13.80</td>\n",
       "      <td>1000</td>\n",
       "      <td>ultra</td>\n",
       "      <td>3000</td>\n",
       "      <td>1</td>\n",
       "      <td>9</td>\n",
       "    </tr>\n",
       "    <tr>\n",
       "      <td>4</td>\n",
       "      <td>1000_4</td>\n",
       "      <td>2018-12-15</td>\n",
       "      <td>5.18</td>\n",
       "      <td>1000</td>\n",
       "      <td>ultra</td>\n",
       "      <td>3000</td>\n",
       "      <td>1</td>\n",
       "      <td>12</td>\n",
       "    </tr>\n",
       "  </tbody>\n",
       "</table>\n",
       "</div>"
      ],
      "text/plain": [
       "       id  call_date  duration  user_id tariff  minutes_included  \\\n",
       "0  1000_0 2018-07-25      0.00     1000  ultra              3000   \n",
       "1  1000_1 2018-08-17      0.00     1000  ultra              3000   \n",
       "2  1000_2 2018-06-11      2.85     1000  ultra              3000   \n",
       "3  1000_3 2018-09-21     13.80     1000  ultra              3000   \n",
       "4  1000_4 2018-12-15      5.18     1000  ultra              3000   \n",
       "\n",
       "   rub_per_minute  month  \n",
       "0               1      7  \n",
       "1               1      8  \n",
       "2               1      6  \n",
       "3               1      9  \n",
       "4               1     12  "
      ]
     },
     "execution_count": 33,
     "metadata": {},
     "output_type": "execute_result"
    }
   ],
   "source": [
    "calls.head()"
   ]
  },
  {
   "cell_type": "markdown",
   "metadata": {},
   "source": [
    "### Сообщения"
   ]
  },
  {
   "cell_type": "markdown",
   "metadata": {},
   "source": [
    "Подготовим данные для анализа информации о сообщениях"
   ]
  },
  {
   "cell_type": "markdown",
   "metadata": {},
   "source": [
    "Добавим в таблицу сообщений информацию о тарифах"
   ]
  },
  {
   "cell_type": "code",
   "execution_count": 34,
   "metadata": {},
   "outputs": [],
   "source": [
    "data_messages_tariffs = (data_messages.join(data_users[['user_id', 'tariff']].set_index('user_id'), on='user_id',\n",
    "                                                                       lsuffix='_l', rsuffix='_r', how='left'))"
   ]
  },
  {
   "cell_type": "code",
   "execution_count": 35,
   "metadata": {},
   "outputs": [
    {
     "data": {
      "text/html": [
       "<div>\n",
       "<style scoped>\n",
       "    .dataframe tbody tr th:only-of-type {\n",
       "        vertical-align: middle;\n",
       "    }\n",
       "\n",
       "    .dataframe tbody tr th {\n",
       "        vertical-align: top;\n",
       "    }\n",
       "\n",
       "    .dataframe thead th {\n",
       "        text-align: right;\n",
       "    }\n",
       "</style>\n",
       "<table border=\"1\" class=\"dataframe\">\n",
       "  <thead>\n",
       "    <tr style=\"text-align: right;\">\n",
       "      <th></th>\n",
       "      <th>id</th>\n",
       "      <th>message_date</th>\n",
       "      <th>user_id</th>\n",
       "      <th>tariff</th>\n",
       "    </tr>\n",
       "  </thead>\n",
       "  <tbody>\n",
       "    <tr>\n",
       "      <td>0</td>\n",
       "      <td>1000_0</td>\n",
       "      <td>2018-06-27</td>\n",
       "      <td>1000</td>\n",
       "      <td>ultra</td>\n",
       "    </tr>\n",
       "    <tr>\n",
       "      <td>1</td>\n",
       "      <td>1000_1</td>\n",
       "      <td>2018-10-08</td>\n",
       "      <td>1000</td>\n",
       "      <td>ultra</td>\n",
       "    </tr>\n",
       "    <tr>\n",
       "      <td>2</td>\n",
       "      <td>1000_2</td>\n",
       "      <td>2018-08-04</td>\n",
       "      <td>1000</td>\n",
       "      <td>ultra</td>\n",
       "    </tr>\n",
       "    <tr>\n",
       "      <td>3</td>\n",
       "      <td>1000_3</td>\n",
       "      <td>2018-06-16</td>\n",
       "      <td>1000</td>\n",
       "      <td>ultra</td>\n",
       "    </tr>\n",
       "    <tr>\n",
       "      <td>4</td>\n",
       "      <td>1000_4</td>\n",
       "      <td>2018-12-05</td>\n",
       "      <td>1000</td>\n",
       "      <td>ultra</td>\n",
       "    </tr>\n",
       "  </tbody>\n",
       "</table>\n",
       "</div>"
      ],
      "text/plain": [
       "       id message_date  user_id tariff\n",
       "0  1000_0   2018-06-27     1000  ultra\n",
       "1  1000_1   2018-10-08     1000  ultra\n",
       "2  1000_2   2018-08-04     1000  ultra\n",
       "3  1000_3   2018-06-16     1000  ultra\n",
       "4  1000_4   2018-12-05     1000  ultra"
      ]
     },
     "execution_count": 35,
     "metadata": {},
     "output_type": "execute_result"
    }
   ],
   "source": [
    "data_messages_tariffs.head()"
   ]
  },
  {
   "cell_type": "markdown",
   "metadata": {},
   "source": [
    "Добавим информацию о ценах на сообщения. Количество сообщений в месяц и стоимость сообщения вне лимита"
   ]
  },
  {
   "cell_type": "code",
   "execution_count": 36,
   "metadata": {},
   "outputs": [],
   "source": [
    "messages = (data_messages_tariffs.join(data_tariffs[['tariff_name', 'messages_included', 'rub_per_message']]\n",
    "                                       .set_index('tariff_name'),\n",
    "                                       on = 'tariff',\n",
    "                                       how='left'))"
   ]
  },
  {
   "cell_type": "markdown",
   "metadata": {},
   "source": [
    "Проверим"
   ]
  },
  {
   "cell_type": "code",
   "execution_count": 37,
   "metadata": {},
   "outputs": [
    {
     "data": {
      "text/html": [
       "<div>\n",
       "<style scoped>\n",
       "    .dataframe tbody tr th:only-of-type {\n",
       "        vertical-align: middle;\n",
       "    }\n",
       "\n",
       "    .dataframe tbody tr th {\n",
       "        vertical-align: top;\n",
       "    }\n",
       "\n",
       "    .dataframe thead th {\n",
       "        text-align: right;\n",
       "    }\n",
       "</style>\n",
       "<table border=\"1\" class=\"dataframe\">\n",
       "  <thead>\n",
       "    <tr style=\"text-align: right;\">\n",
       "      <th></th>\n",
       "      <th>id</th>\n",
       "      <th>message_date</th>\n",
       "      <th>user_id</th>\n",
       "      <th>tariff</th>\n",
       "      <th>messages_included</th>\n",
       "      <th>rub_per_message</th>\n",
       "    </tr>\n",
       "  </thead>\n",
       "  <tbody>\n",
       "    <tr>\n",
       "      <td>0</td>\n",
       "      <td>1000_0</td>\n",
       "      <td>2018-06-27</td>\n",
       "      <td>1000</td>\n",
       "      <td>ultra</td>\n",
       "      <td>1000</td>\n",
       "      <td>1</td>\n",
       "    </tr>\n",
       "    <tr>\n",
       "      <td>1</td>\n",
       "      <td>1000_1</td>\n",
       "      <td>2018-10-08</td>\n",
       "      <td>1000</td>\n",
       "      <td>ultra</td>\n",
       "      <td>1000</td>\n",
       "      <td>1</td>\n",
       "    </tr>\n",
       "    <tr>\n",
       "      <td>2</td>\n",
       "      <td>1000_2</td>\n",
       "      <td>2018-08-04</td>\n",
       "      <td>1000</td>\n",
       "      <td>ultra</td>\n",
       "      <td>1000</td>\n",
       "      <td>1</td>\n",
       "    </tr>\n",
       "    <tr>\n",
       "      <td>3</td>\n",
       "      <td>1000_3</td>\n",
       "      <td>2018-06-16</td>\n",
       "      <td>1000</td>\n",
       "      <td>ultra</td>\n",
       "      <td>1000</td>\n",
       "      <td>1</td>\n",
       "    </tr>\n",
       "    <tr>\n",
       "      <td>4</td>\n",
       "      <td>1000_4</td>\n",
       "      <td>2018-12-05</td>\n",
       "      <td>1000</td>\n",
       "      <td>ultra</td>\n",
       "      <td>1000</td>\n",
       "      <td>1</td>\n",
       "    </tr>\n",
       "  </tbody>\n",
       "</table>\n",
       "</div>"
      ],
      "text/plain": [
       "       id message_date  user_id tariff  messages_included  rub_per_message\n",
       "0  1000_0   2018-06-27     1000  ultra               1000                1\n",
       "1  1000_1   2018-10-08     1000  ultra               1000                1\n",
       "2  1000_2   2018-08-04     1000  ultra               1000                1\n",
       "3  1000_3   2018-06-16     1000  ultra               1000                1\n",
       "4  1000_4   2018-12-05     1000  ultra               1000                1"
      ]
     },
     "execution_count": 37,
     "metadata": {},
     "output_type": "execute_result"
    }
   ],
   "source": [
    "messages.head()"
   ]
  },
  {
   "cell_type": "markdown",
   "metadata": {},
   "source": [
    "Сконвертируем колонку даты в соответствующий формат и добавим колонку с месяцами"
   ]
  },
  {
   "cell_type": "code",
   "execution_count": 38,
   "metadata": {},
   "outputs": [],
   "source": [
    "messages['message_date'] = pd.to_datetime(messages['message_date'], format='%Y-%m-%d', errors='coerce')"
   ]
  },
  {
   "cell_type": "code",
   "execution_count": 39,
   "metadata": {},
   "outputs": [],
   "source": [
    "messages['month'] = pd.DatetimeIndex(messages['message_date']).month"
   ]
  },
  {
   "cell_type": "markdown",
   "metadata": {},
   "source": [
    "Проверим"
   ]
  },
  {
   "cell_type": "code",
   "execution_count": 40,
   "metadata": {},
   "outputs": [
    {
     "data": {
      "text/html": [
       "<div>\n",
       "<style scoped>\n",
       "    .dataframe tbody tr th:only-of-type {\n",
       "        vertical-align: middle;\n",
       "    }\n",
       "\n",
       "    .dataframe tbody tr th {\n",
       "        vertical-align: top;\n",
       "    }\n",
       "\n",
       "    .dataframe thead th {\n",
       "        text-align: right;\n",
       "    }\n",
       "</style>\n",
       "<table border=\"1\" class=\"dataframe\">\n",
       "  <thead>\n",
       "    <tr style=\"text-align: right;\">\n",
       "      <th></th>\n",
       "      <th>id</th>\n",
       "      <th>message_date</th>\n",
       "      <th>user_id</th>\n",
       "      <th>tariff</th>\n",
       "      <th>messages_included</th>\n",
       "      <th>rub_per_message</th>\n",
       "      <th>month</th>\n",
       "    </tr>\n",
       "  </thead>\n",
       "  <tbody>\n",
       "    <tr>\n",
       "      <td>0</td>\n",
       "      <td>1000_0</td>\n",
       "      <td>2018-06-27</td>\n",
       "      <td>1000</td>\n",
       "      <td>ultra</td>\n",
       "      <td>1000</td>\n",
       "      <td>1</td>\n",
       "      <td>6</td>\n",
       "    </tr>\n",
       "    <tr>\n",
       "      <td>1</td>\n",
       "      <td>1000_1</td>\n",
       "      <td>2018-10-08</td>\n",
       "      <td>1000</td>\n",
       "      <td>ultra</td>\n",
       "      <td>1000</td>\n",
       "      <td>1</td>\n",
       "      <td>10</td>\n",
       "    </tr>\n",
       "    <tr>\n",
       "      <td>2</td>\n",
       "      <td>1000_2</td>\n",
       "      <td>2018-08-04</td>\n",
       "      <td>1000</td>\n",
       "      <td>ultra</td>\n",
       "      <td>1000</td>\n",
       "      <td>1</td>\n",
       "      <td>8</td>\n",
       "    </tr>\n",
       "    <tr>\n",
       "      <td>3</td>\n",
       "      <td>1000_3</td>\n",
       "      <td>2018-06-16</td>\n",
       "      <td>1000</td>\n",
       "      <td>ultra</td>\n",
       "      <td>1000</td>\n",
       "      <td>1</td>\n",
       "      <td>6</td>\n",
       "    </tr>\n",
       "    <tr>\n",
       "      <td>4</td>\n",
       "      <td>1000_4</td>\n",
       "      <td>2018-12-05</td>\n",
       "      <td>1000</td>\n",
       "      <td>ultra</td>\n",
       "      <td>1000</td>\n",
       "      <td>1</td>\n",
       "      <td>12</td>\n",
       "    </tr>\n",
       "  </tbody>\n",
       "</table>\n",
       "</div>"
      ],
      "text/plain": [
       "       id message_date  user_id tariff  messages_included  rub_per_message  \\\n",
       "0  1000_0   2018-06-27     1000  ultra               1000                1   \n",
       "1  1000_1   2018-10-08     1000  ultra               1000                1   \n",
       "2  1000_2   2018-08-04     1000  ultra               1000                1   \n",
       "3  1000_3   2018-06-16     1000  ultra               1000                1   \n",
       "4  1000_4   2018-12-05     1000  ultra               1000                1   \n",
       "\n",
       "   month  \n",
       "0      6  \n",
       "1     10  \n",
       "2      8  \n",
       "3      6  \n",
       "4     12  "
      ]
     },
     "execution_count": 40,
     "metadata": {},
     "output_type": "execute_result"
    }
   ],
   "source": [
    "messages.head()"
   ]
  },
  {
   "cell_type": "code",
   "execution_count": 41,
   "metadata": {},
   "outputs": [
    {
     "name": "stdout",
     "output_type": "stream",
     "text": [
      "<class 'pandas.core.frame.DataFrame'>\n",
      "RangeIndex: 123036 entries, 0 to 123035\n",
      "Data columns (total 7 columns):\n",
      "id                   123036 non-null object\n",
      "message_date         123036 non-null datetime64[ns]\n",
      "user_id              123036 non-null int64\n",
      "tariff               123036 non-null object\n",
      "messages_included    123036 non-null int64\n",
      "rub_per_message      123036 non-null int64\n",
      "month                123036 non-null int64\n",
      "dtypes: datetime64[ns](1), int64(4), object(2)\n",
      "memory usage: 6.6+ MB\n"
     ]
    }
   ],
   "source": [
    "messages.info()"
   ]
  },
  {
   "cell_type": "markdown",
   "metadata": {},
   "source": [
    "Вывод: пропусков и больших выбросов нет"
   ]
  },
  {
   "cell_type": "markdown",
   "metadata": {},
   "source": [
    "## Исследование данных"
   ]
  },
  {
   "cell_type": "markdown",
   "metadata": {},
   "source": [
    "### Интернет"
   ]
  },
  {
   "cell_type": "markdown",
   "metadata": {},
   "source": [
    "Посчитаем, сколько в среднем пользователи тратят на интернет. Напишем функцию округления в большую сторону, согласно документации"
   ]
  },
  {
   "cell_type": "code",
   "execution_count": 42,
   "metadata": {},
   "outputs": [],
   "source": [
    "def round_up1000(x):\n",
    "    if(x > 0):\n",
    "        return x if x % 1000 == 0 else x + 1000 - x % 1000\n",
    "    else:\n",
    "        return 0"
   ]
  },
  {
   "cell_type": "markdown",
   "metadata": {},
   "source": [
    "Найдем кол-во использоваемого траффика в месяц для каждого пользователя"
   ]
  },
  {
   "cell_type": "code",
   "execution_count": 43,
   "metadata": {},
   "outputs": [],
   "source": [
    "internet['mb_month'] = internet.groupby(by=['user_id','month'])['mb_used'].transform(sum)"
   ]
  },
  {
   "cell_type": "markdown",
   "metadata": {},
   "source": [
    "Посчитаем, сколько нужно доплачивать за интернет каждому из пользователей"
   ]
  },
  {
   "cell_type": "code",
   "execution_count": 44,
   "metadata": {},
   "outputs": [
    {
     "data": {
      "text/html": [
       "<div>\n",
       "<style scoped>\n",
       "    .dataframe tbody tr th:only-of-type {\n",
       "        vertical-align: middle;\n",
       "    }\n",
       "\n",
       "    .dataframe tbody tr th {\n",
       "        vertical-align: top;\n",
       "    }\n",
       "\n",
       "    .dataframe thead th {\n",
       "        text-align: right;\n",
       "    }\n",
       "</style>\n",
       "<table border=\"1\" class=\"dataframe\">\n",
       "  <thead>\n",
       "    <tr style=\"text-align: right;\">\n",
       "      <th></th>\n",
       "      <th>Unnamed: 0</th>\n",
       "      <th>id</th>\n",
       "      <th>mb_used</th>\n",
       "      <th>session_date</th>\n",
       "      <th>user_id</th>\n",
       "      <th>tariff</th>\n",
       "      <th>mb_per_month_included</th>\n",
       "      <th>rub_per_gb</th>\n",
       "      <th>month</th>\n",
       "      <th>month_year</th>\n",
       "      <th>mb_month</th>\n",
       "    </tr>\n",
       "  </thead>\n",
       "  <tbody>\n",
       "    <tr>\n",
       "      <td>0</td>\n",
       "      <td>0</td>\n",
       "      <td>1000_0</td>\n",
       "      <td>112.95</td>\n",
       "      <td>2018-11-25</td>\n",
       "      <td>1000</td>\n",
       "      <td>ultra</td>\n",
       "      <td>30720</td>\n",
       "      <td>150</td>\n",
       "      <td>11</td>\n",
       "      <td>2018-11</td>\n",
       "      <td>14756.47</td>\n",
       "    </tr>\n",
       "    <tr>\n",
       "      <td>1</td>\n",
       "      <td>1</td>\n",
       "      <td>1000_1</td>\n",
       "      <td>1052.81</td>\n",
       "      <td>2018-09-07</td>\n",
       "      <td>1000</td>\n",
       "      <td>ultra</td>\n",
       "      <td>30720</td>\n",
       "      <td>150</td>\n",
       "      <td>9</td>\n",
       "      <td>2018-09</td>\n",
       "      <td>14568.91</td>\n",
       "    </tr>\n",
       "    <tr>\n",
       "      <td>2</td>\n",
       "      <td>2</td>\n",
       "      <td>1000_2</td>\n",
       "      <td>1197.26</td>\n",
       "      <td>2018-06-25</td>\n",
       "      <td>1000</td>\n",
       "      <td>ultra</td>\n",
       "      <td>30720</td>\n",
       "      <td>150</td>\n",
       "      <td>6</td>\n",
       "      <td>2018-06</td>\n",
       "      <td>23233.77</td>\n",
       "    </tr>\n",
       "    <tr>\n",
       "      <td>3</td>\n",
       "      <td>3</td>\n",
       "      <td>1000_3</td>\n",
       "      <td>550.27</td>\n",
       "      <td>2018-08-22</td>\n",
       "      <td>1000</td>\n",
       "      <td>ultra</td>\n",
       "      <td>30720</td>\n",
       "      <td>150</td>\n",
       "      <td>8</td>\n",
       "      <td>2018-08</td>\n",
       "      <td>14055.93</td>\n",
       "    </tr>\n",
       "    <tr>\n",
       "      <td>4</td>\n",
       "      <td>4</td>\n",
       "      <td>1000_4</td>\n",
       "      <td>302.56</td>\n",
       "      <td>2018-09-24</td>\n",
       "      <td>1000</td>\n",
       "      <td>ultra</td>\n",
       "      <td>30720</td>\n",
       "      <td>150</td>\n",
       "      <td>9</td>\n",
       "      <td>2018-09</td>\n",
       "      <td>14568.91</td>\n",
       "    </tr>\n",
       "  </tbody>\n",
       "</table>\n",
       "</div>"
      ],
      "text/plain": [
       "   Unnamed: 0      id  mb_used session_date  user_id tariff  \\\n",
       "0           0  1000_0   112.95   2018-11-25     1000  ultra   \n",
       "1           1  1000_1  1052.81   2018-09-07     1000  ultra   \n",
       "2           2  1000_2  1197.26   2018-06-25     1000  ultra   \n",
       "3           3  1000_3   550.27   2018-08-22     1000  ultra   \n",
       "4           4  1000_4   302.56   2018-09-24     1000  ultra   \n",
       "\n",
       "   mb_per_month_included  rub_per_gb  month month_year  mb_month  \n",
       "0                  30720         150     11    2018-11  14756.47  \n",
       "1                  30720         150      9    2018-09  14568.91  \n",
       "2                  30720         150      6    2018-06  23233.77  \n",
       "3                  30720         150      8    2018-08  14055.93  \n",
       "4                  30720         150      9    2018-09  14568.91  "
      ]
     },
     "execution_count": 44,
     "metadata": {},
     "output_type": "execute_result"
    }
   ],
   "source": [
    "internet.head()"
   ]
  },
  {
   "cell_type": "markdown",
   "metadata": {},
   "source": [
    "Посчитаем средние траты по месяцам"
   ]
  },
  {
   "cell_type": "code",
   "execution_count": 45,
   "metadata": {},
   "outputs": [],
   "source": [
    "internet_pivot = pd.pivot_table(internet, values=['mb_month', 'rub_per_gb', 'mb_per_month_included'], index=['user_id', 'month'], aggfunc='mean')"
   ]
  },
  {
   "cell_type": "code",
   "execution_count": 46,
   "metadata": {},
   "outputs": [
    {
     "data": {
      "text/html": [
       "<div>\n",
       "<style scoped>\n",
       "    .dataframe tbody tr th:only-of-type {\n",
       "        vertical-align: middle;\n",
       "    }\n",
       "\n",
       "    .dataframe tbody tr th {\n",
       "        vertical-align: top;\n",
       "    }\n",
       "\n",
       "    .dataframe thead th {\n",
       "        text-align: right;\n",
       "    }\n",
       "</style>\n",
       "<table border=\"1\" class=\"dataframe\">\n",
       "  <thead>\n",
       "    <tr style=\"text-align: right;\">\n",
       "      <th></th>\n",
       "      <th></th>\n",
       "      <th>mb_month</th>\n",
       "      <th>mb_per_month_included</th>\n",
       "      <th>rub_per_gb</th>\n",
       "    </tr>\n",
       "    <tr>\n",
       "      <th>user_id</th>\n",
       "      <th>month</th>\n",
       "      <th></th>\n",
       "      <th></th>\n",
       "      <th></th>\n",
       "    </tr>\n",
       "  </thead>\n",
       "  <tbody>\n",
       "    <tr>\n",
       "      <td rowspan=\"5\" valign=\"top\">1000</td>\n",
       "      <td>5</td>\n",
       "      <td>2253.49</td>\n",
       "      <td>30720</td>\n",
       "      <td>150</td>\n",
       "    </tr>\n",
       "    <tr>\n",
       "      <td>6</td>\n",
       "      <td>23233.77</td>\n",
       "      <td>30720</td>\n",
       "      <td>150</td>\n",
       "    </tr>\n",
       "    <tr>\n",
       "      <td>7</td>\n",
       "      <td>14003.64</td>\n",
       "      <td>30720</td>\n",
       "      <td>150</td>\n",
       "    </tr>\n",
       "    <tr>\n",
       "      <td>8</td>\n",
       "      <td>14055.93</td>\n",
       "      <td>30720</td>\n",
       "      <td>150</td>\n",
       "    </tr>\n",
       "    <tr>\n",
       "      <td>9</td>\n",
       "      <td>14568.91</td>\n",
       "      <td>30720</td>\n",
       "      <td>150</td>\n",
       "    </tr>\n",
       "    <tr>\n",
       "      <td>...</td>\n",
       "      <td>...</td>\n",
       "      <td>...</td>\n",
       "      <td>...</td>\n",
       "      <td>...</td>\n",
       "    </tr>\n",
       "    <tr>\n",
       "      <td>1498</td>\n",
       "      <td>10</td>\n",
       "      <td>20579.36</td>\n",
       "      <td>15360</td>\n",
       "      <td>200</td>\n",
       "    </tr>\n",
       "    <tr>\n",
       "      <td rowspan=\"4\" valign=\"top\">1499</td>\n",
       "      <td>9</td>\n",
       "      <td>1845.75</td>\n",
       "      <td>15360</td>\n",
       "      <td>200</td>\n",
       "    </tr>\n",
       "    <tr>\n",
       "      <td>10</td>\n",
       "      <td>17788.51</td>\n",
       "      <td>15360</td>\n",
       "      <td>200</td>\n",
       "    </tr>\n",
       "    <tr>\n",
       "      <td>11</td>\n",
       "      <td>17963.31</td>\n",
       "      <td>15360</td>\n",
       "      <td>200</td>\n",
       "    </tr>\n",
       "    <tr>\n",
       "      <td>12</td>\n",
       "      <td>13055.58</td>\n",
       "      <td>15360</td>\n",
       "      <td>200</td>\n",
       "    </tr>\n",
       "  </tbody>\n",
       "</table>\n",
       "<p>3203 rows × 3 columns</p>\n",
       "</div>"
      ],
      "text/plain": [
       "               mb_month  mb_per_month_included  rub_per_gb\n",
       "user_id month                                             \n",
       "1000    5       2253.49                  30720         150\n",
       "        6      23233.77                  30720         150\n",
       "        7      14003.64                  30720         150\n",
       "        8      14055.93                  30720         150\n",
       "        9      14568.91                  30720         150\n",
       "...                 ...                    ...         ...\n",
       "1498    10     20579.36                  15360         200\n",
       "1499    9       1845.75                  15360         200\n",
       "        10     17788.51                  15360         200\n",
       "        11     17963.31                  15360         200\n",
       "        12     13055.58                  15360         200\n",
       "\n",
       "[3203 rows x 3 columns]"
      ]
     },
     "execution_count": 46,
     "metadata": {},
     "output_type": "execute_result"
    }
   ],
   "source": [
    "internet_pivot"
   ]
  },
  {
   "cell_type": "code",
   "execution_count": 47,
   "metadata": {},
   "outputs": [],
   "source": [
    "internet_pivot['price_internet_month'] = ((internet_pivot['mb_month'] - internet_pivot['mb_per_month_included'])\n",
    "                                                        .apply(round_up1000)/1000*internet_pivot['rub_per_gb'])"
   ]
  },
  {
   "cell_type": "markdown",
   "metadata": {},
   "source": [
    "### Звонки"
   ]
  },
  {
   "cell_type": "markdown",
   "metadata": {},
   "source": [
    "Посчитаем, сколько в среднем пользователи тратят на звонки. Напишем функцию округления в большую сторону, согласно документации"
   ]
  },
  {
   "cell_type": "markdown",
   "metadata": {},
   "source": [
    "Напишем функцию, для проверки значения на положительность. В противном случае, возвращает 0. Она нам понадобится для подсчета стоимости доплаты за звонки вне лимита"
   ]
  },
  {
   "cell_type": "code",
   "execution_count": 48,
   "metadata": {},
   "outputs": [],
   "source": [
    "def round_up_min(x):\n",
    "    if(x != 0):\n",
    "        return x if x % 1 == 0 else x + 1 - x % 1\n",
    "    else:\n",
    "        return 0"
   ]
  },
  {
   "cell_type": "code",
   "execution_count": 49,
   "metadata": {},
   "outputs": [],
   "source": [
    "def is_greater_than_zero(x):\n",
    "    if(x > 0):\n",
    "        return x\n",
    "    else:\n",
    "        return 0"
   ]
  },
  {
   "cell_type": "markdown",
   "metadata": {},
   "source": [
    "Округлим до минут"
   ]
  },
  {
   "cell_type": "code",
   "execution_count": 50,
   "metadata": {},
   "outputs": [],
   "source": [
    "calls['duration'] = np.ceil(calls['duration'])"
   ]
  },
  {
   "cell_type": "code",
   "execution_count": 51,
   "metadata": {},
   "outputs": [
    {
     "data": {
      "text/plain": [
       "13.0"
      ]
     },
     "execution_count": 51,
     "metadata": {},
     "output_type": "execute_result"
    }
   ],
   "source": [
    "np.ceil(12.2)"
   ]
  },
  {
   "cell_type": "code",
   "execution_count": 54,
   "metadata": {},
   "outputs": [
    {
     "data": {
      "text/html": [
       "<div>\n",
       "<style scoped>\n",
       "    .dataframe tbody tr th:only-of-type {\n",
       "        vertical-align: middle;\n",
       "    }\n",
       "\n",
       "    .dataframe tbody tr th {\n",
       "        vertical-align: top;\n",
       "    }\n",
       "\n",
       "    .dataframe thead th {\n",
       "        text-align: right;\n",
       "    }\n",
       "</style>\n",
       "<table border=\"1\" class=\"dataframe\">\n",
       "  <thead>\n",
       "    <tr style=\"text-align: right;\">\n",
       "      <th></th>\n",
       "      <th>id</th>\n",
       "      <th>call_date</th>\n",
       "      <th>duration</th>\n",
       "      <th>user_id</th>\n",
       "      <th>tariff</th>\n",
       "      <th>minutes_included</th>\n",
       "      <th>rub_per_minute</th>\n",
       "      <th>month</th>\n",
       "    </tr>\n",
       "  </thead>\n",
       "  <tbody>\n",
       "    <tr>\n",
       "      <td>0</td>\n",
       "      <td>1000_0</td>\n",
       "      <td>2018-07-25</td>\n",
       "      <td>0.0</td>\n",
       "      <td>1000</td>\n",
       "      <td>ultra</td>\n",
       "      <td>3000</td>\n",
       "      <td>1</td>\n",
       "      <td>7</td>\n",
       "    </tr>\n",
       "    <tr>\n",
       "      <td>1</td>\n",
       "      <td>1000_1</td>\n",
       "      <td>2018-08-17</td>\n",
       "      <td>0.0</td>\n",
       "      <td>1000</td>\n",
       "      <td>ultra</td>\n",
       "      <td>3000</td>\n",
       "      <td>1</td>\n",
       "      <td>8</td>\n",
       "    </tr>\n",
       "    <tr>\n",
       "      <td>2</td>\n",
       "      <td>1000_2</td>\n",
       "      <td>2018-06-11</td>\n",
       "      <td>3.0</td>\n",
       "      <td>1000</td>\n",
       "      <td>ultra</td>\n",
       "      <td>3000</td>\n",
       "      <td>1</td>\n",
       "      <td>6</td>\n",
       "    </tr>\n",
       "    <tr>\n",
       "      <td>3</td>\n",
       "      <td>1000_3</td>\n",
       "      <td>2018-09-21</td>\n",
       "      <td>14.0</td>\n",
       "      <td>1000</td>\n",
       "      <td>ultra</td>\n",
       "      <td>3000</td>\n",
       "      <td>1</td>\n",
       "      <td>9</td>\n",
       "    </tr>\n",
       "    <tr>\n",
       "      <td>4</td>\n",
       "      <td>1000_4</td>\n",
       "      <td>2018-12-15</td>\n",
       "      <td>6.0</td>\n",
       "      <td>1000</td>\n",
       "      <td>ultra</td>\n",
       "      <td>3000</td>\n",
       "      <td>1</td>\n",
       "      <td>12</td>\n",
       "    </tr>\n",
       "  </tbody>\n",
       "</table>\n",
       "</div>"
      ],
      "text/plain": [
       "       id  call_date  duration  user_id tariff  minutes_included  \\\n",
       "0  1000_0 2018-07-25       0.0     1000  ultra              3000   \n",
       "1  1000_1 2018-08-17       0.0     1000  ultra              3000   \n",
       "2  1000_2 2018-06-11       3.0     1000  ultra              3000   \n",
       "3  1000_3 2018-09-21      14.0     1000  ultra              3000   \n",
       "4  1000_4 2018-12-15       6.0     1000  ultra              3000   \n",
       "\n",
       "   rub_per_minute  month  \n",
       "0               1      7  \n",
       "1               1      8  \n",
       "2               1      6  \n",
       "3               1      9  \n",
       "4               1     12  "
      ]
     },
     "execution_count": 54,
     "metadata": {},
     "output_type": "execute_result"
    }
   ],
   "source": [
    "calls.head()"
   ]
  },
  {
   "cell_type": "markdown",
   "metadata": {},
   "source": [
    "Посчитаем, сколько минут каждый месяц расходует пользователь"
   ]
  },
  {
   "cell_type": "code",
   "execution_count": 55,
   "metadata": {},
   "outputs": [],
   "source": [
    "calls['minutes_month'] = calls.groupby(by=['user_id','month'])['duration'].transform(sum)"
   ]
  },
  {
   "cell_type": "markdown",
   "metadata": {},
   "source": [
    "Посчитаем количество звонков"
   ]
  },
  {
   "cell_type": "code",
   "execution_count": 56,
   "metadata": {},
   "outputs": [],
   "source": [
    "calls['calls_count'] = calls.groupby(by=['user_id','month'])['duration'].transform('count')"
   ]
  },
  {
   "cell_type": "markdown",
   "metadata": {},
   "source": [
    "Посчитаем расходы на звонки вне лимита"
   ]
  },
  {
   "cell_type": "code",
   "execution_count": 57,
   "metadata": {},
   "outputs": [],
   "source": [
    "calls['calls_price_month'] = ((calls['minutes_month'] - calls['minutes_included'])\n",
    "                                                        .apply(is_greater_than_zero)*calls['rub_per_minute'])"
   ]
  },
  {
   "cell_type": "markdown",
   "metadata": {},
   "source": [
    "Проверим"
   ]
  },
  {
   "cell_type": "code",
   "execution_count": 58,
   "metadata": {},
   "outputs": [
    {
     "data": {
      "text/html": [
       "<div>\n",
       "<style scoped>\n",
       "    .dataframe tbody tr th:only-of-type {\n",
       "        vertical-align: middle;\n",
       "    }\n",
       "\n",
       "    .dataframe tbody tr th {\n",
       "        vertical-align: top;\n",
       "    }\n",
       "\n",
       "    .dataframe thead th {\n",
       "        text-align: right;\n",
       "    }\n",
       "</style>\n",
       "<table border=\"1\" class=\"dataframe\">\n",
       "  <thead>\n",
       "    <tr style=\"text-align: right;\">\n",
       "      <th></th>\n",
       "      <th>id</th>\n",
       "      <th>call_date</th>\n",
       "      <th>duration</th>\n",
       "      <th>user_id</th>\n",
       "      <th>tariff</th>\n",
       "      <th>minutes_included</th>\n",
       "      <th>rub_per_minute</th>\n",
       "      <th>month</th>\n",
       "      <th>minutes_month</th>\n",
       "      <th>calls_count</th>\n",
       "      <th>calls_price_month</th>\n",
       "    </tr>\n",
       "  </thead>\n",
       "  <tbody>\n",
       "    <tr>\n",
       "      <td>0</td>\n",
       "      <td>1000_0</td>\n",
       "      <td>2018-07-25</td>\n",
       "      <td>0.0</td>\n",
       "      <td>1000</td>\n",
       "      <td>ultra</td>\n",
       "      <td>3000</td>\n",
       "      <td>1</td>\n",
       "      <td>7</td>\n",
       "      <td>340.0</td>\n",
       "      <td>47</td>\n",
       "      <td>0.0</td>\n",
       "    </tr>\n",
       "    <tr>\n",
       "      <td>1</td>\n",
       "      <td>1000_1</td>\n",
       "      <td>2018-08-17</td>\n",
       "      <td>0.0</td>\n",
       "      <td>1000</td>\n",
       "      <td>ultra</td>\n",
       "      <td>3000</td>\n",
       "      <td>1</td>\n",
       "      <td>8</td>\n",
       "      <td>408.0</td>\n",
       "      <td>52</td>\n",
       "      <td>0.0</td>\n",
       "    </tr>\n",
       "    <tr>\n",
       "      <td>2</td>\n",
       "      <td>1000_2</td>\n",
       "      <td>2018-06-11</td>\n",
       "      <td>3.0</td>\n",
       "      <td>1000</td>\n",
       "      <td>ultra</td>\n",
       "      <td>3000</td>\n",
       "      <td>1</td>\n",
       "      <td>6</td>\n",
       "      <td>172.0</td>\n",
       "      <td>43</td>\n",
       "      <td>0.0</td>\n",
       "    </tr>\n",
       "    <tr>\n",
       "      <td>3</td>\n",
       "      <td>1000_3</td>\n",
       "      <td>2018-09-21</td>\n",
       "      <td>14.0</td>\n",
       "      <td>1000</td>\n",
       "      <td>ultra</td>\n",
       "      <td>3000</td>\n",
       "      <td>1</td>\n",
       "      <td>9</td>\n",
       "      <td>466.0</td>\n",
       "      <td>58</td>\n",
       "      <td>0.0</td>\n",
       "    </tr>\n",
       "    <tr>\n",
       "      <td>4</td>\n",
       "      <td>1000_4</td>\n",
       "      <td>2018-12-15</td>\n",
       "      <td>6.0</td>\n",
       "      <td>1000</td>\n",
       "      <td>ultra</td>\n",
       "      <td>3000</td>\n",
       "      <td>1</td>\n",
       "      <td>12</td>\n",
       "      <td>333.0</td>\n",
       "      <td>46</td>\n",
       "      <td>0.0</td>\n",
       "    </tr>\n",
       "  </tbody>\n",
       "</table>\n",
       "</div>"
      ],
      "text/plain": [
       "       id  call_date  duration  user_id tariff  minutes_included  \\\n",
       "0  1000_0 2018-07-25       0.0     1000  ultra              3000   \n",
       "1  1000_1 2018-08-17       0.0     1000  ultra              3000   \n",
       "2  1000_2 2018-06-11       3.0     1000  ultra              3000   \n",
       "3  1000_3 2018-09-21      14.0     1000  ultra              3000   \n",
       "4  1000_4 2018-12-15       6.0     1000  ultra              3000   \n",
       "\n",
       "   rub_per_minute  month  minutes_month  calls_count  calls_price_month  \n",
       "0               1      7          340.0           47                0.0  \n",
       "1               1      8          408.0           52                0.0  \n",
       "2               1      6          172.0           43                0.0  \n",
       "3               1      9          466.0           58                0.0  \n",
       "4               1     12          333.0           46                0.0  "
      ]
     },
     "execution_count": 58,
     "metadata": {},
     "output_type": "execute_result"
    }
   ],
   "source": [
    "calls.head()"
   ]
  },
  {
   "cell_type": "markdown",
   "metadata": {},
   "source": [
    "Посчитаем средние траты по месяцам"
   ]
  },
  {
   "cell_type": "code",
   "execution_count": 59,
   "metadata": {},
   "outputs": [
    {
     "data": {
      "text/html": [
       "<div>\n",
       "<style scoped>\n",
       "    .dataframe tbody tr th:only-of-type {\n",
       "        vertical-align: middle;\n",
       "    }\n",
       "\n",
       "    .dataframe tbody tr th {\n",
       "        vertical-align: top;\n",
       "    }\n",
       "\n",
       "    .dataframe thead th {\n",
       "        text-align: right;\n",
       "    }\n",
       "</style>\n",
       "<table border=\"1\" class=\"dataframe\">\n",
       "  <thead>\n",
       "    <tr style=\"text-align: right;\">\n",
       "      <th></th>\n",
       "      <th></th>\n",
       "      <th>minutes_included</th>\n",
       "      <th>minutes_month</th>\n",
       "      <th>rub_per_minute</th>\n",
       "    </tr>\n",
       "    <tr>\n",
       "      <th>user_id</th>\n",
       "      <th>month</th>\n",
       "      <th></th>\n",
       "      <th></th>\n",
       "      <th></th>\n",
       "    </tr>\n",
       "  </thead>\n",
       "  <tbody>\n",
       "    <tr>\n",
       "      <td rowspan=\"5\" valign=\"top\">1000</td>\n",
       "      <td>5</td>\n",
       "      <td>3000</td>\n",
       "      <td>159.0</td>\n",
       "      <td>1</td>\n",
       "    </tr>\n",
       "    <tr>\n",
       "      <td>6</td>\n",
       "      <td>3000</td>\n",
       "      <td>172.0</td>\n",
       "      <td>1</td>\n",
       "    </tr>\n",
       "    <tr>\n",
       "      <td>7</td>\n",
       "      <td>3000</td>\n",
       "      <td>340.0</td>\n",
       "      <td>1</td>\n",
       "    </tr>\n",
       "    <tr>\n",
       "      <td>8</td>\n",
       "      <td>3000</td>\n",
       "      <td>408.0</td>\n",
       "      <td>1</td>\n",
       "    </tr>\n",
       "    <tr>\n",
       "      <td>9</td>\n",
       "      <td>3000</td>\n",
       "      <td>466.0</td>\n",
       "      <td>1</td>\n",
       "    </tr>\n",
       "    <tr>\n",
       "      <td>...</td>\n",
       "      <td>...</td>\n",
       "      <td>...</td>\n",
       "      <td>...</td>\n",
       "      <td>...</td>\n",
       "    </tr>\n",
       "    <tr>\n",
       "      <td>1498</td>\n",
       "      <td>10</td>\n",
       "      <td>500</td>\n",
       "      <td>247.0</td>\n",
       "      <td>3</td>\n",
       "    </tr>\n",
       "    <tr>\n",
       "      <td rowspan=\"4\" valign=\"top\">1499</td>\n",
       "      <td>9</td>\n",
       "      <td>500</td>\n",
       "      <td>70.0</td>\n",
       "      <td>3</td>\n",
       "    </tr>\n",
       "    <tr>\n",
       "      <td>10</td>\n",
       "      <td>500</td>\n",
       "      <td>449.0</td>\n",
       "      <td>3</td>\n",
       "    </tr>\n",
       "    <tr>\n",
       "      <td>11</td>\n",
       "      <td>500</td>\n",
       "      <td>612.0</td>\n",
       "      <td>3</td>\n",
       "    </tr>\n",
       "    <tr>\n",
       "      <td>12</td>\n",
       "      <td>500</td>\n",
       "      <td>492.0</td>\n",
       "      <td>3</td>\n",
       "    </tr>\n",
       "  </tbody>\n",
       "</table>\n",
       "<p>3174 rows × 3 columns</p>\n",
       "</div>"
      ],
      "text/plain": [
       "               minutes_included  minutes_month  rub_per_minute\n",
       "user_id month                                                 \n",
       "1000    5                  3000          159.0               1\n",
       "        6                  3000          172.0               1\n",
       "        7                  3000          340.0               1\n",
       "        8                  3000          408.0               1\n",
       "        9                  3000          466.0               1\n",
       "...                         ...            ...             ...\n",
       "1498    10                  500          247.0               3\n",
       "1499    9                   500           70.0               3\n",
       "        10                  500          449.0               3\n",
       "        11                  500          612.0               3\n",
       "        12                  500          492.0               3\n",
       "\n",
       "[3174 rows x 3 columns]"
      ]
     },
     "execution_count": 59,
     "metadata": {},
     "output_type": "execute_result"
    }
   ],
   "source": [
    "calls_pivot = pd.pivot_table(calls, values=['minutes_month', 'rub_per_minute', 'minutes_included'], index=['user_id', 'month'], aggfunc='mean')\n",
    "calls_pivot"
   ]
  },
  {
   "cell_type": "code",
   "execution_count": 60,
   "metadata": {},
   "outputs": [
    {
     "name": "stdout",
     "output_type": "stream",
     "text": [
      "<class 'pandas.core.frame.DataFrame'>\n",
      "MultiIndex: 3174 entries, (1000, 5) to (1499, 12)\n",
      "Data columns (total 4 columns):\n",
      "minutes_included     3174 non-null int64\n",
      "minutes_month        3174 non-null float64\n",
      "rub_per_minute       3174 non-null int64\n",
      "price_calls_month    3174 non-null float64\n",
      "dtypes: float64(2), int64(2)\n",
      "memory usage: 112.5 KB\n"
     ]
    }
   ],
   "source": [
    "calls_pivot['price_calls_month'] = ((calls_pivot['minutes_month'] - calls_pivot['minutes_included'])\n",
    "                                                        .apply(is_greater_than_zero)*calls_pivot['rub_per_minute'])\n",
    "calls_pivot.info()"
   ]
  },
  {
   "cell_type": "markdown",
   "metadata": {},
   "source": [
    "### Сообщения"
   ]
  },
  {
   "cell_type": "markdown",
   "metadata": {},
   "source": [
    "Посчитаем, сколько в среднем пользователи тратят на сообщения"
   ]
  },
  {
   "cell_type": "markdown",
   "metadata": {},
   "source": [
    "Найдем кол-во сообщений в месяц для каждого пользователя"
   ]
  },
  {
   "cell_type": "code",
   "execution_count": 61,
   "metadata": {},
   "outputs": [],
   "source": [
    "messages['messages_count_month'] = messages.groupby(by=['user_id','month'])['message_date'].transform('count')"
   ]
  },
  {
   "cell_type": "code",
   "execution_count": 62,
   "metadata": {},
   "outputs": [
    {
     "data": {
      "text/html": [
       "<div>\n",
       "<style scoped>\n",
       "    .dataframe tbody tr th:only-of-type {\n",
       "        vertical-align: middle;\n",
       "    }\n",
       "\n",
       "    .dataframe tbody tr th {\n",
       "        vertical-align: top;\n",
       "    }\n",
       "\n",
       "    .dataframe thead th {\n",
       "        text-align: right;\n",
       "    }\n",
       "</style>\n",
       "<table border=\"1\" class=\"dataframe\">\n",
       "  <thead>\n",
       "    <tr style=\"text-align: right;\">\n",
       "      <th></th>\n",
       "      <th>id</th>\n",
       "      <th>message_date</th>\n",
       "      <th>user_id</th>\n",
       "      <th>tariff</th>\n",
       "      <th>messages_included</th>\n",
       "      <th>rub_per_message</th>\n",
       "      <th>month</th>\n",
       "      <th>messages_count_month</th>\n",
       "    </tr>\n",
       "  </thead>\n",
       "  <tbody>\n",
       "    <tr>\n",
       "      <td>0</td>\n",
       "      <td>1000_0</td>\n",
       "      <td>2018-06-27</td>\n",
       "      <td>1000</td>\n",
       "      <td>ultra</td>\n",
       "      <td>1000</td>\n",
       "      <td>1</td>\n",
       "      <td>6</td>\n",
       "      <td>60</td>\n",
       "    </tr>\n",
       "    <tr>\n",
       "      <td>1</td>\n",
       "      <td>1000_1</td>\n",
       "      <td>2018-10-08</td>\n",
       "      <td>1000</td>\n",
       "      <td>ultra</td>\n",
       "      <td>1000</td>\n",
       "      <td>1</td>\n",
       "      <td>10</td>\n",
       "      <td>73</td>\n",
       "    </tr>\n",
       "    <tr>\n",
       "      <td>2</td>\n",
       "      <td>1000_2</td>\n",
       "      <td>2018-08-04</td>\n",
       "      <td>1000</td>\n",
       "      <td>ultra</td>\n",
       "      <td>1000</td>\n",
       "      <td>1</td>\n",
       "      <td>8</td>\n",
       "      <td>81</td>\n",
       "    </tr>\n",
       "    <tr>\n",
       "      <td>3</td>\n",
       "      <td>1000_3</td>\n",
       "      <td>2018-06-16</td>\n",
       "      <td>1000</td>\n",
       "      <td>ultra</td>\n",
       "      <td>1000</td>\n",
       "      <td>1</td>\n",
       "      <td>6</td>\n",
       "      <td>60</td>\n",
       "    </tr>\n",
       "    <tr>\n",
       "      <td>4</td>\n",
       "      <td>1000_4</td>\n",
       "      <td>2018-12-05</td>\n",
       "      <td>1000</td>\n",
       "      <td>ultra</td>\n",
       "      <td>1000</td>\n",
       "      <td>1</td>\n",
       "      <td>12</td>\n",
       "      <td>70</td>\n",
       "    </tr>\n",
       "  </tbody>\n",
       "</table>\n",
       "</div>"
      ],
      "text/plain": [
       "       id message_date  user_id tariff  messages_included  rub_per_message  \\\n",
       "0  1000_0   2018-06-27     1000  ultra               1000                1   \n",
       "1  1000_1   2018-10-08     1000  ultra               1000                1   \n",
       "2  1000_2   2018-08-04     1000  ultra               1000                1   \n",
       "3  1000_3   2018-06-16     1000  ultra               1000                1   \n",
       "4  1000_4   2018-12-05     1000  ultra               1000                1   \n",
       "\n",
       "   month  messages_count_month  \n",
       "0      6                    60  \n",
       "1     10                    73  \n",
       "2      8                    81  \n",
       "3      6                    60  \n",
       "4     12                    70  "
      ]
     },
     "execution_count": 62,
     "metadata": {},
     "output_type": "execute_result"
    }
   ],
   "source": [
    "messages.head()"
   ]
  },
  {
   "cell_type": "markdown",
   "metadata": {},
   "source": [
    "Посчитаем средние траты по месяцам"
   ]
  },
  {
   "cell_type": "code",
   "execution_count": 63,
   "metadata": {},
   "outputs": [
    {
     "data": {
      "text/html": [
       "<div>\n",
       "<style scoped>\n",
       "    .dataframe tbody tr th:only-of-type {\n",
       "        vertical-align: middle;\n",
       "    }\n",
       "\n",
       "    .dataframe tbody tr th {\n",
       "        vertical-align: top;\n",
       "    }\n",
       "\n",
       "    .dataframe thead th {\n",
       "        text-align: right;\n",
       "    }\n",
       "</style>\n",
       "<table border=\"1\" class=\"dataframe\">\n",
       "  <thead>\n",
       "    <tr style=\"text-align: right;\">\n",
       "      <th></th>\n",
       "      <th></th>\n",
       "      <th>messages_count_month</th>\n",
       "      <th>messages_included</th>\n",
       "      <th>rub_per_message</th>\n",
       "    </tr>\n",
       "    <tr>\n",
       "      <th>user_id</th>\n",
       "      <th>month</th>\n",
       "      <th></th>\n",
       "      <th></th>\n",
       "      <th></th>\n",
       "    </tr>\n",
       "  </thead>\n",
       "  <tbody>\n",
       "    <tr>\n",
       "      <td rowspan=\"5\" valign=\"top\">1000</td>\n",
       "      <td>5</td>\n",
       "      <td>22</td>\n",
       "      <td>1000</td>\n",
       "      <td>1</td>\n",
       "    </tr>\n",
       "    <tr>\n",
       "      <td>6</td>\n",
       "      <td>60</td>\n",
       "      <td>1000</td>\n",
       "      <td>1</td>\n",
       "    </tr>\n",
       "    <tr>\n",
       "      <td>7</td>\n",
       "      <td>75</td>\n",
       "      <td>1000</td>\n",
       "      <td>1</td>\n",
       "    </tr>\n",
       "    <tr>\n",
       "      <td>8</td>\n",
       "      <td>81</td>\n",
       "      <td>1000</td>\n",
       "      <td>1</td>\n",
       "    </tr>\n",
       "    <tr>\n",
       "      <td>9</td>\n",
       "      <td>57</td>\n",
       "      <td>1000</td>\n",
       "      <td>1</td>\n",
       "    </tr>\n",
       "    <tr>\n",
       "      <td>...</td>\n",
       "      <td>...</td>\n",
       "      <td>...</td>\n",
       "      <td>...</td>\n",
       "      <td>...</td>\n",
       "    </tr>\n",
       "    <tr>\n",
       "      <td>1498</td>\n",
       "      <td>10</td>\n",
       "      <td>42</td>\n",
       "      <td>50</td>\n",
       "      <td>3</td>\n",
       "    </tr>\n",
       "    <tr>\n",
       "      <td rowspan=\"4\" valign=\"top\">1499</td>\n",
       "      <td>9</td>\n",
       "      <td>11</td>\n",
       "      <td>50</td>\n",
       "      <td>3</td>\n",
       "    </tr>\n",
       "    <tr>\n",
       "      <td>10</td>\n",
       "      <td>48</td>\n",
       "      <td>50</td>\n",
       "      <td>3</td>\n",
       "    </tr>\n",
       "    <tr>\n",
       "      <td>11</td>\n",
       "      <td>59</td>\n",
       "      <td>50</td>\n",
       "      <td>3</td>\n",
       "    </tr>\n",
       "    <tr>\n",
       "      <td>12</td>\n",
       "      <td>66</td>\n",
       "      <td>50</td>\n",
       "      <td>3</td>\n",
       "    </tr>\n",
       "  </tbody>\n",
       "</table>\n",
       "<p>2717 rows × 3 columns</p>\n",
       "</div>"
      ],
      "text/plain": [
       "               messages_count_month  messages_included  rub_per_message\n",
       "user_id month                                                          \n",
       "1000    5                        22               1000                1\n",
       "        6                        60               1000                1\n",
       "        7                        75               1000                1\n",
       "        8                        81               1000                1\n",
       "        9                        57               1000                1\n",
       "...                             ...                ...              ...\n",
       "1498    10                       42                 50                3\n",
       "1499    9                        11                 50                3\n",
       "        10                       48                 50                3\n",
       "        11                       59                 50                3\n",
       "        12                       66                 50                3\n",
       "\n",
       "[2717 rows x 3 columns]"
      ]
     },
     "execution_count": 63,
     "metadata": {},
     "output_type": "execute_result"
    }
   ],
   "source": [
    "messages_pivot = pd.pivot_table(messages, values=['rub_per_message','messages_count_month', 'messages_included'], index=['user_id', 'month'], aggfunc='mean')\n",
    "messages_pivot"
   ]
  },
  {
   "cell_type": "markdown",
   "metadata": {},
   "source": [
    "Посчитаем расходы на сообщения в месяц для каждого пользователя"
   ]
  },
  {
   "cell_type": "code",
   "execution_count": 64,
   "metadata": {},
   "outputs": [],
   "source": [
    "messages_pivot['price_messages_month'] = ((messages_pivot['messages_count_month'] - messages_pivot['messages_included'])\n",
    "                                                        .apply(is_greater_than_zero)*messages_pivot['rub_per_message'])"
   ]
  },
  {
   "cell_type": "markdown",
   "metadata": {},
   "source": [
    "### Сводная таблица"
   ]
  },
  {
   "cell_type": "markdown",
   "metadata": {},
   "source": [
    "Сделаем функцию для определения стандартной ошибки среднего"
   ]
  },
  {
   "cell_type": "code",
   "execution_count": 65,
   "metadata": {},
   "outputs": [],
   "source": [
    "def se(x):\n",
    "     return 1.96 * np.sqrt(np.var(x, ddof=1)) / np.sqrt(len(x))"
   ]
  },
  {
   "cell_type": "markdown",
   "metadata": {},
   "source": [
    "Сложим доп траты на интернет, звонки и сообщения для каждого из пользователей"
   ]
  },
  {
   "cell_type": "code",
   "execution_count": 66,
   "metadata": {},
   "outputs": [],
   "source": [
    "sum_pivot = (internet_pivot.add(calls_pivot, fill_value = 0)\n",
    "                       .add(messages_pivot, fill_value = 0))"
   ]
  },
  {
   "cell_type": "markdown",
   "metadata": {},
   "source": [
    "Добавим колонку с месяцами"
   ]
  },
  {
   "cell_type": "code",
   "execution_count": 67,
   "metadata": {},
   "outputs": [],
   "source": [
    "sum_pivot['month'] = sum_pivot.index.get_level_values(1)\n",
    "sum_pivot['user_id'] = sum_pivot.index.get_level_values(0)\n",
    "sum_pivot = sum_pivot.reset_index(drop=True)"
   ]
  },
  {
   "cell_type": "markdown",
   "metadata": {},
   "source": [
    "Добавим колонку с тарифами"
   ]
  },
  {
   "cell_type": "code",
   "execution_count": 68,
   "metadata": {},
   "outputs": [],
   "source": [
    "sum_pivot = (sum_pivot.join(data_users[['user_id', 'tariff']].set_index('user_id'), on='user_id',\n",
    "                                                                     lsuffix='_l', how='left'))\n",
    "sum_pivot = sum_pivot.fillna(0)"
   ]
  },
  {
   "cell_type": "markdown",
   "metadata": {},
   "source": [
    "Посчитаем общую стоимость добавочных услуг и прибавим стоимость тарифов"
   ]
  },
  {
   "cell_type": "code",
   "execution_count": 69,
   "metadata": {
    "scrolled": false
   },
   "outputs": [
    {
     "data": {
      "text/html": [
       "<div>\n",
       "<style scoped>\n",
       "    .dataframe tbody tr th:only-of-type {\n",
       "        vertical-align: middle;\n",
       "    }\n",
       "\n",
       "    .dataframe tbody tr th {\n",
       "        vertical-align: top;\n",
       "    }\n",
       "\n",
       "    .dataframe thead th {\n",
       "        text-align: right;\n",
       "    }\n",
       "</style>\n",
       "<table border=\"1\" class=\"dataframe\">\n",
       "  <thead>\n",
       "    <tr style=\"text-align: right;\">\n",
       "      <th></th>\n",
       "      <th>mb_month</th>\n",
       "      <th>mb_per_month_included</th>\n",
       "      <th>messages_count_month</th>\n",
       "      <th>messages_included</th>\n",
       "      <th>minutes_included</th>\n",
       "      <th>minutes_month</th>\n",
       "      <th>price_calls_month</th>\n",
       "      <th>price_internet_month</th>\n",
       "      <th>price_messages_month</th>\n",
       "      <th>rub_per_gb</th>\n",
       "      <th>rub_per_message</th>\n",
       "      <th>rub_per_minute</th>\n",
       "      <th>month</th>\n",
       "      <th>user_id</th>\n",
       "      <th>tariff</th>\n",
       "      <th>price</th>\n",
       "    </tr>\n",
       "  </thead>\n",
       "  <tbody>\n",
       "    <tr>\n",
       "      <td>0</td>\n",
       "      <td>2253.49</td>\n",
       "      <td>30720.0</td>\n",
       "      <td>22.0</td>\n",
       "      <td>1000.0</td>\n",
       "      <td>3000.0</td>\n",
       "      <td>159.0</td>\n",
       "      <td>0.0</td>\n",
       "      <td>0.0</td>\n",
       "      <td>0.0</td>\n",
       "      <td>150.0</td>\n",
       "      <td>1.0</td>\n",
       "      <td>1.0</td>\n",
       "      <td>5</td>\n",
       "      <td>1000</td>\n",
       "      <td>ultra</td>\n",
       "      <td>1950.0</td>\n",
       "    </tr>\n",
       "    <tr>\n",
       "      <td>1</td>\n",
       "      <td>23233.77</td>\n",
       "      <td>30720.0</td>\n",
       "      <td>60.0</td>\n",
       "      <td>1000.0</td>\n",
       "      <td>3000.0</td>\n",
       "      <td>172.0</td>\n",
       "      <td>0.0</td>\n",
       "      <td>0.0</td>\n",
       "      <td>0.0</td>\n",
       "      <td>150.0</td>\n",
       "      <td>1.0</td>\n",
       "      <td>1.0</td>\n",
       "      <td>6</td>\n",
       "      <td>1000</td>\n",
       "      <td>ultra</td>\n",
       "      <td>1950.0</td>\n",
       "    </tr>\n",
       "    <tr>\n",
       "      <td>2</td>\n",
       "      <td>14003.64</td>\n",
       "      <td>30720.0</td>\n",
       "      <td>75.0</td>\n",
       "      <td>1000.0</td>\n",
       "      <td>3000.0</td>\n",
       "      <td>340.0</td>\n",
       "      <td>0.0</td>\n",
       "      <td>0.0</td>\n",
       "      <td>0.0</td>\n",
       "      <td>150.0</td>\n",
       "      <td>1.0</td>\n",
       "      <td>1.0</td>\n",
       "      <td>7</td>\n",
       "      <td>1000</td>\n",
       "      <td>ultra</td>\n",
       "      <td>1950.0</td>\n",
       "    </tr>\n",
       "    <tr>\n",
       "      <td>3</td>\n",
       "      <td>14055.93</td>\n",
       "      <td>30720.0</td>\n",
       "      <td>81.0</td>\n",
       "      <td>1000.0</td>\n",
       "      <td>3000.0</td>\n",
       "      <td>408.0</td>\n",
       "      <td>0.0</td>\n",
       "      <td>0.0</td>\n",
       "      <td>0.0</td>\n",
       "      <td>150.0</td>\n",
       "      <td>1.0</td>\n",
       "      <td>1.0</td>\n",
       "      <td>8</td>\n",
       "      <td>1000</td>\n",
       "      <td>ultra</td>\n",
       "      <td>1950.0</td>\n",
       "    </tr>\n",
       "    <tr>\n",
       "      <td>4</td>\n",
       "      <td>14568.91</td>\n",
       "      <td>30720.0</td>\n",
       "      <td>57.0</td>\n",
       "      <td>1000.0</td>\n",
       "      <td>3000.0</td>\n",
       "      <td>466.0</td>\n",
       "      <td>0.0</td>\n",
       "      <td>0.0</td>\n",
       "      <td>0.0</td>\n",
       "      <td>150.0</td>\n",
       "      <td>1.0</td>\n",
       "      <td>1.0</td>\n",
       "      <td>9</td>\n",
       "      <td>1000</td>\n",
       "      <td>ultra</td>\n",
       "      <td>1950.0</td>\n",
       "    </tr>\n",
       "    <tr>\n",
       "      <td>...</td>\n",
       "      <td>...</td>\n",
       "      <td>...</td>\n",
       "      <td>...</td>\n",
       "      <td>...</td>\n",
       "      <td>...</td>\n",
       "      <td>...</td>\n",
       "      <td>...</td>\n",
       "      <td>...</td>\n",
       "      <td>...</td>\n",
       "      <td>...</td>\n",
       "      <td>...</td>\n",
       "      <td>...</td>\n",
       "      <td>...</td>\n",
       "      <td>...</td>\n",
       "      <td>...</td>\n",
       "      <td>...</td>\n",
       "    </tr>\n",
       "    <tr>\n",
       "      <td>3209</td>\n",
       "      <td>20579.36</td>\n",
       "      <td>15360.0</td>\n",
       "      <td>42.0</td>\n",
       "      <td>50.0</td>\n",
       "      <td>500.0</td>\n",
       "      <td>247.0</td>\n",
       "      <td>0.0</td>\n",
       "      <td>1200.0</td>\n",
       "      <td>0.0</td>\n",
       "      <td>200.0</td>\n",
       "      <td>3.0</td>\n",
       "      <td>3.0</td>\n",
       "      <td>10</td>\n",
       "      <td>1498</td>\n",
       "      <td>smart</td>\n",
       "      <td>1750.0</td>\n",
       "    </tr>\n",
       "    <tr>\n",
       "      <td>3210</td>\n",
       "      <td>1845.75</td>\n",
       "      <td>15360.0</td>\n",
       "      <td>11.0</td>\n",
       "      <td>50.0</td>\n",
       "      <td>500.0</td>\n",
       "      <td>70.0</td>\n",
       "      <td>0.0</td>\n",
       "      <td>0.0</td>\n",
       "      <td>0.0</td>\n",
       "      <td>200.0</td>\n",
       "      <td>3.0</td>\n",
       "      <td>3.0</td>\n",
       "      <td>9</td>\n",
       "      <td>1499</td>\n",
       "      <td>smart</td>\n",
       "      <td>550.0</td>\n",
       "    </tr>\n",
       "    <tr>\n",
       "      <td>3211</td>\n",
       "      <td>17788.51</td>\n",
       "      <td>15360.0</td>\n",
       "      <td>48.0</td>\n",
       "      <td>50.0</td>\n",
       "      <td>500.0</td>\n",
       "      <td>449.0</td>\n",
       "      <td>0.0</td>\n",
       "      <td>600.0</td>\n",
       "      <td>0.0</td>\n",
       "      <td>200.0</td>\n",
       "      <td>3.0</td>\n",
       "      <td>3.0</td>\n",
       "      <td>10</td>\n",
       "      <td>1499</td>\n",
       "      <td>smart</td>\n",
       "      <td>1150.0</td>\n",
       "    </tr>\n",
       "    <tr>\n",
       "      <td>3212</td>\n",
       "      <td>17963.31</td>\n",
       "      <td>15360.0</td>\n",
       "      <td>59.0</td>\n",
       "      <td>50.0</td>\n",
       "      <td>500.0</td>\n",
       "      <td>612.0</td>\n",
       "      <td>336.0</td>\n",
       "      <td>600.0</td>\n",
       "      <td>27.0</td>\n",
       "      <td>200.0</td>\n",
       "      <td>3.0</td>\n",
       "      <td>3.0</td>\n",
       "      <td>11</td>\n",
       "      <td>1499</td>\n",
       "      <td>smart</td>\n",
       "      <td>1513.0</td>\n",
       "    </tr>\n",
       "    <tr>\n",
       "      <td>3213</td>\n",
       "      <td>13055.58</td>\n",
       "      <td>15360.0</td>\n",
       "      <td>66.0</td>\n",
       "      <td>50.0</td>\n",
       "      <td>500.0</td>\n",
       "      <td>492.0</td>\n",
       "      <td>0.0</td>\n",
       "      <td>0.0</td>\n",
       "      <td>48.0</td>\n",
       "      <td>200.0</td>\n",
       "      <td>3.0</td>\n",
       "      <td>3.0</td>\n",
       "      <td>12</td>\n",
       "      <td>1499</td>\n",
       "      <td>smart</td>\n",
       "      <td>598.0</td>\n",
       "    </tr>\n",
       "  </tbody>\n",
       "</table>\n",
       "<p>3214 rows × 16 columns</p>\n",
       "</div>"
      ],
      "text/plain": [
       "      mb_month  mb_per_month_included  messages_count_month  \\\n",
       "0      2253.49                30720.0                  22.0   \n",
       "1     23233.77                30720.0                  60.0   \n",
       "2     14003.64                30720.0                  75.0   \n",
       "3     14055.93                30720.0                  81.0   \n",
       "4     14568.91                30720.0                  57.0   \n",
       "...        ...                    ...                   ...   \n",
       "3209  20579.36                15360.0                  42.0   \n",
       "3210   1845.75                15360.0                  11.0   \n",
       "3211  17788.51                15360.0                  48.0   \n",
       "3212  17963.31                15360.0                  59.0   \n",
       "3213  13055.58                15360.0                  66.0   \n",
       "\n",
       "      messages_included  minutes_included  minutes_month  price_calls_month  \\\n",
       "0                1000.0            3000.0          159.0                0.0   \n",
       "1                1000.0            3000.0          172.0                0.0   \n",
       "2                1000.0            3000.0          340.0                0.0   \n",
       "3                1000.0            3000.0          408.0                0.0   \n",
       "4                1000.0            3000.0          466.0                0.0   \n",
       "...                 ...               ...            ...                ...   \n",
       "3209               50.0             500.0          247.0                0.0   \n",
       "3210               50.0             500.0           70.0                0.0   \n",
       "3211               50.0             500.0          449.0                0.0   \n",
       "3212               50.0             500.0          612.0              336.0   \n",
       "3213               50.0             500.0          492.0                0.0   \n",
       "\n",
       "      price_internet_month  price_messages_month  rub_per_gb  rub_per_message  \\\n",
       "0                      0.0                   0.0       150.0              1.0   \n",
       "1                      0.0                   0.0       150.0              1.0   \n",
       "2                      0.0                   0.0       150.0              1.0   \n",
       "3                      0.0                   0.0       150.0              1.0   \n",
       "4                      0.0                   0.0       150.0              1.0   \n",
       "...                    ...                   ...         ...              ...   \n",
       "3209                1200.0                   0.0       200.0              3.0   \n",
       "3210                   0.0                   0.0       200.0              3.0   \n",
       "3211                 600.0                   0.0       200.0              3.0   \n",
       "3212                 600.0                  27.0       200.0              3.0   \n",
       "3213                   0.0                  48.0       200.0              3.0   \n",
       "\n",
       "      rub_per_minute  month  user_id tariff   price  \n",
       "0                1.0      5     1000  ultra  1950.0  \n",
       "1                1.0      6     1000  ultra  1950.0  \n",
       "2                1.0      7     1000  ultra  1950.0  \n",
       "3                1.0      8     1000  ultra  1950.0  \n",
       "4                1.0      9     1000  ultra  1950.0  \n",
       "...              ...    ...      ...    ...     ...  \n",
       "3209             3.0     10     1498  smart  1750.0  \n",
       "3210             3.0      9     1499  smart   550.0  \n",
       "3211             3.0     10     1499  smart  1150.0  \n",
       "3212             3.0     11     1499  smart  1513.0  \n",
       "3213             3.0     12     1499  smart   598.0  \n",
       "\n",
       "[3214 rows x 16 columns]"
      ]
     },
     "execution_count": 69,
     "metadata": {},
     "output_type": "execute_result"
    }
   ],
   "source": [
    "sum_pivot['price'] = sum_pivot['price_internet_month'] + sum_pivot['price_calls_month'] + sum_pivot['price_messages_month']\n",
    "sum_pivot.loc[sum_pivot['tariff']=='smart', 'price'] += 550\n",
    "sum_pivot.loc[sum_pivot['tariff']=='ultra', 'price'] += 1950\n",
    "sum_pivot"
   ]
  },
  {
   "cell_type": "markdown",
   "metadata": {},
   "source": [
    "Построим результирующую табличку с показателями среднего, дисперсии, стандартного отклонения и стандартной ошибкой среднего для каждого тарифа по измеряемым параметрам:\n",
    "- число мегабайт в месяц\n",
    "- минуты разговора в месяц\n",
    "- кол-во сообщений в месяц\n",
    "- общая выручка"
   ]
  },
  {
   "cell_type": "code",
   "execution_count": 70,
   "metadata": {},
   "outputs": [
    {
     "data": {
      "text/html": [
       "<div>\n",
       "<style scoped>\n",
       "    .dataframe tbody tr th:only-of-type {\n",
       "        vertical-align: middle;\n",
       "    }\n",
       "\n",
       "    .dataframe tbody tr th {\n",
       "        vertical-align: top;\n",
       "    }\n",
       "\n",
       "    .dataframe thead tr th {\n",
       "        text-align: left;\n",
       "    }\n",
       "\n",
       "    .dataframe thead tr:last-of-type th {\n",
       "        text-align: right;\n",
       "    }\n",
       "</style>\n",
       "<table border=\"1\" class=\"dataframe\">\n",
       "  <thead>\n",
       "    <tr>\n",
       "      <th></th>\n",
       "      <th colspan=\"4\" halign=\"left\">mean</th>\n",
       "      <th colspan=\"4\" halign=\"left\">var</th>\n",
       "      <th colspan=\"4\" halign=\"left\">std</th>\n",
       "      <th colspan=\"4\" halign=\"left\">se</th>\n",
       "    </tr>\n",
       "    <tr>\n",
       "      <th></th>\n",
       "      <th>mb_month</th>\n",
       "      <th>messages_count_month</th>\n",
       "      <th>minutes_month</th>\n",
       "      <th>price</th>\n",
       "      <th>mb_month</th>\n",
       "      <th>messages_count_month</th>\n",
       "      <th>minutes_month</th>\n",
       "      <th>price</th>\n",
       "      <th>mb_month</th>\n",
       "      <th>messages_count_month</th>\n",
       "      <th>minutes_month</th>\n",
       "      <th>price</th>\n",
       "      <th>mb_month</th>\n",
       "      <th>messages_count_month</th>\n",
       "      <th>minutes_month</th>\n",
       "      <th>price</th>\n",
       "    </tr>\n",
       "    <tr>\n",
       "      <th>tariff</th>\n",
       "      <th></th>\n",
       "      <th></th>\n",
       "      <th></th>\n",
       "      <th></th>\n",
       "      <th></th>\n",
       "      <th></th>\n",
       "      <th></th>\n",
       "      <th></th>\n",
       "      <th></th>\n",
       "      <th></th>\n",
       "      <th></th>\n",
       "      <th></th>\n",
       "      <th></th>\n",
       "      <th></th>\n",
       "      <th></th>\n",
       "      <th></th>\n",
       "    </tr>\n",
       "  </thead>\n",
       "  <tbody>\n",
       "    <tr>\n",
       "      <td>smart</td>\n",
       "      <td>16208.386990</td>\n",
       "      <td>33.384029</td>\n",
       "      <td>417.934948</td>\n",
       "      <td>1303.253028</td>\n",
       "      <td>3.446250e+07</td>\n",
       "      <td>796.812958</td>\n",
       "      <td>36219.315784</td>\n",
       "      <td>694546.611891</td>\n",
       "      <td>5870.476681</td>\n",
       "      <td>28.227876</td>\n",
       "      <td>190.313730</td>\n",
       "      <td>833.394632</td>\n",
       "      <td>243.710592</td>\n",
       "      <td>1.171869</td>\n",
       "      <td>7.900802</td>\n",
       "      <td>34.598059</td>\n",
       "    </tr>\n",
       "    <tr>\n",
       "      <td>ultra</td>\n",
       "      <td>19468.805208</td>\n",
       "      <td>49.363452</td>\n",
       "      <td>526.623350</td>\n",
       "      <td>2072.436548</td>\n",
       "      <td>1.017510e+08</td>\n",
       "      <td>2285.266143</td>\n",
       "      <td>100873.633397</td>\n",
       "      <td>147981.862078</td>\n",
       "      <td>10087.170752</td>\n",
       "      <td>47.804457</td>\n",
       "      <td>317.606098</td>\n",
       "      <td>384.684107</td>\n",
       "      <td>629.951811</td>\n",
       "      <td>2.985426</td>\n",
       "      <td>19.834753</td>\n",
       "      <td>24.023827</td>\n",
       "    </tr>\n",
       "  </tbody>\n",
       "</table>\n",
       "</div>"
      ],
      "text/plain": [
       "                mean                                                  \\\n",
       "            mb_month messages_count_month minutes_month        price   \n",
       "tariff                                                                 \n",
       "smart   16208.386990            33.384029    417.934948  1303.253028   \n",
       "ultra   19468.805208            49.363452    526.623350  2072.436548   \n",
       "\n",
       "                 var                                                     \\\n",
       "            mb_month messages_count_month  minutes_month          price   \n",
       "tariff                                                                    \n",
       "smart   3.446250e+07           796.812958   36219.315784  694546.611891   \n",
       "ultra   1.017510e+08          2285.266143  100873.633397  147981.862078   \n",
       "\n",
       "                 std                                                 \\\n",
       "            mb_month messages_count_month minutes_month       price   \n",
       "tariff                                                                \n",
       "smart    5870.476681            28.227876    190.313730  833.394632   \n",
       "ultra   10087.170752            47.804457    317.606098  384.684107   \n",
       "\n",
       "                se                                                \n",
       "          mb_month messages_count_month minutes_month      price  \n",
       "tariff                                                            \n",
       "smart   243.710592             1.171869      7.900802  34.598059  \n",
       "ultra   629.951811             2.985426     19.834753  24.023827  "
      ]
     },
     "execution_count": 70,
     "metadata": {},
     "output_type": "execute_result"
    }
   ],
   "source": [
    "sum_review =  pd.pivot_table(sum_pivot, values=['mb_month', 'minutes_month', 'messages_count_month', 'price'],\n",
    "                             index=['tariff'], aggfunc=['mean', np.var, np.std, se])\n",
    "sum_review"
   ]
  },
  {
   "cell_type": "markdown",
   "metadata": {},
   "source": [
    "#### Исследование тарифа \"Смарт\""
   ]
  },
  {
   "cell_type": "markdown",
   "metadata": {},
   "source": [
    "Построим гистограммы"
   ]
  },
  {
   "cell_type": "code",
   "execution_count": 71,
   "metadata": {},
   "outputs": [],
   "source": [
    "smart = sum_pivot[sum_pivot['tariff'] == 'smart']"
   ]
  },
  {
   "cell_type": "markdown",
   "metadata": {},
   "source": [
    "##### Интернет"
   ]
  },
  {
   "cell_type": "code",
   "execution_count": 72,
   "metadata": {},
   "outputs": [
    {
     "data": {
      "text/plain": [
       "<matplotlib.axes._subplots.AxesSubplot at 0x7f9794088c90>"
      ]
     },
     "execution_count": 72,
     "metadata": {},
     "output_type": "execute_result"
    },
    {
     "data": {
      "image/png": "[encoded data removed]",
      "text/plain": [
       "<Figure size 432x288 with 1 Axes>"
      ]
     },
     "metadata": {
      "needs_background": "light"
     },
     "output_type": "display_data"
    }
   ],
   "source": [
    "smart['mb_month'].plot(kind='hist', title='Мегабайты в месяц \"Смарт\"')"
   ]
  },
  {
   "cell_type": "markdown",
   "metadata": {},
   "source": [
    "Вывод: нормальное распределение"
   ]
  },
  {
   "cell_type": "markdown",
   "metadata": {},
   "source": [
    "##### Звонки"
   ]
  },
  {
   "cell_type": "code",
   "execution_count": 73,
   "metadata": {},
   "outputs": [
    {
     "data": {
      "text/plain": [
       "<matplotlib.axes._subplots.AxesSubplot at 0x7f9793eb9a90>"
      ]
     },
     "execution_count": 73,
     "metadata": {},
     "output_type": "execute_result"
    },
    {
     "data": {
      "image/png": "[encoded data removed]",
      "text/plain": [
       "<Figure size 432x288 with 1 Axes>"
      ]
     },
     "metadata": {
      "needs_background": "light"
     },
     "output_type": "display_data"
    }
   ],
   "source": [
    "smart['minutes_month'].plot(kind='hist', title='Минуты разговоров в месяц \"Смарт\"')"
   ]
  },
  {
   "cell_type": "markdown",
   "metadata": {},
   "source": [
    "Вывод: нормальное распределение"
   ]
  },
  {
   "cell_type": "markdown",
   "metadata": {},
   "source": [
    "##### Сообщения"
   ]
  },
  {
   "cell_type": "code",
   "execution_count": 74,
   "metadata": {
    "scrolled": true
   },
   "outputs": [
    {
     "data": {
      "text/plain": [
       "<matplotlib.axes._subplots.AxesSubplot at 0x7f9793bf8450>"
      ]
     },
     "execution_count": 74,
     "metadata": {},
     "output_type": "execute_result"
    },
    {
     "data": {
      "image/png": "[encoded data removed]",
      "text/plain": [
       "<Figure size 432x288 with 1 Axes>"
      ]
     },
     "metadata": {
      "needs_background": "light"
     },
     "output_type": "display_data"
    }
   ],
   "source": [
    "smart['messages_count_month'].plot(kind='hist', title='Сообщений в месяц \"Смарт\"')"
   ]
  },
  {
   "cell_type": "markdown",
   "metadata": {},
   "source": [
    "Вывод: распределение Гаусса со смещением вправо"
   ]
  },
  {
   "cell_type": "markdown",
   "metadata": {},
   "source": [
    "#### Исследование тарифа \"Ультра\""
   ]
  },
  {
   "cell_type": "markdown",
   "metadata": {},
   "source": [
    "Построим гистограммы"
   ]
  },
  {
   "cell_type": "code",
   "execution_count": 75,
   "metadata": {},
   "outputs": [],
   "source": [
    "ultra = sum_pivot[sum_pivot['tariff'] == 'ultra']"
   ]
  },
  {
   "cell_type": "markdown",
   "metadata": {},
   "source": [
    "##### Интернет"
   ]
  },
  {
   "cell_type": "code",
   "execution_count": 76,
   "metadata": {},
   "outputs": [
    {
     "data": {
      "text/plain": [
       "<matplotlib.axes._subplots.AxesSubplot at 0x7f9793b72a90>"
      ]
     },
     "execution_count": 76,
     "metadata": {},
     "output_type": "execute_result"
    },
    {
     "data": {
      "image/png": "[encoded data removed]",
      "text/plain": [
       "<Figure size 432x288 with 1 Axes>"
      ]
     },
     "metadata": {
      "needs_background": "light"
     },
     "output_type": "display_data"
    }
   ],
   "source": [
    "ultra['mb_month'].plot(kind='hist', title='Мегабайты в месяц \"Ультра\"')"
   ]
  },
  {
   "cell_type": "markdown",
   "metadata": {},
   "source": [
    "Вывод: нормальное распределение"
   ]
  },
  {
   "cell_type": "markdown",
   "metadata": {},
   "source": [
    "##### Звонки"
   ]
  },
  {
   "cell_type": "code",
   "execution_count": 77,
   "metadata": {},
   "outputs": [
    {
     "data": {
      "text/plain": [
       "<matplotlib.axes._subplots.AxesSubplot at 0x7f9792d5cd90>"
      ]
     },
     "execution_count": 77,
     "metadata": {},
     "output_type": "execute_result"
    },
    {
     "data": {
      "image/png": "[encoded data removed]",
      "text/plain": [
       "<Figure size 432x288 with 1 Axes>"
      ]
     },
     "metadata": {
      "needs_background": "light"
     },
     "output_type": "display_data"
    }
   ],
   "source": [
    "ultra['minutes_month'].plot(kind='hist', title='Минуты разговоров в месяц \"Ультра\"')"
   ]
  },
  {
   "cell_type": "markdown",
   "metadata": {},
   "source": [
    "Вывод: нормальное распределение"
   ]
  },
  {
   "cell_type": "markdown",
   "metadata": {},
   "source": [
    "##### Сообщения"
   ]
  },
  {
   "cell_type": "code",
   "execution_count": 78,
   "metadata": {
    "scrolled": true
   },
   "outputs": [
    {
     "data": {
      "text/plain": [
       "<matplotlib.axes._subplots.AxesSubplot at 0x7f9792ca4a90>"
      ]
     },
     "execution_count": 78,
     "metadata": {},
     "output_type": "execute_result"
    },
    {
     "data": {
      "image/png": "[encoded data removed]",
      "text/plain": [
       "<Figure size 432x288 with 1 Axes>"
      ]
     },
     "metadata": {
      "needs_background": "light"
     },
     "output_type": "display_data"
    }
   ],
   "source": [
    "ultra['messages_count_month'].plot(kind='hist', title='Сообщений в месяц \"Ультра\"')"
   ]
  },
  {
   "cell_type": "markdown",
   "metadata": {},
   "source": [
    "Вывод: распределение Гаусса со смещением вправо"
   ]
  },
  {
   "cell_type": "markdown",
   "metadata": {},
   "source": [
    "#### Сравнение выручки тарифов"
   ]
  },
  {
   "cell_type": "code",
   "execution_count": 79,
   "metadata": {},
   "outputs": [
    {
     "data": {
      "image/png": "[encoded data removed]",
      "text/plain": [
       "<Figure size 1296x648 with 1 Axes>"
      ]
     },
     "metadata": {
      "needs_background": "light"
     },
     "output_type": "display_data"
    }
   ],
   "source": [
    "smart[['price', 'month']].boxplot(by='month',figsize=(18,9))\n",
    "plt.title('Выручка тарифа \"Смарт\" по месяцам')\n",
    "plt.ylim(0, 5000)\n",
    "plt.show()"
   ]
  },
  {
   "cell_type": "markdown",
   "metadata": {},
   "source": [
    "Вывод: пользователи тарифа \"Смарт\" часто выходят за лимиты тарифа"
   ]
  },
  {
   "cell_type": "code",
   "execution_count": 80,
   "metadata": {},
   "outputs": [
    {
     "data": {
      "image/png": "[encoded data removed]",
      "text/plain": [
       "<Figure size 1296x648 with 1 Axes>"
      ]
     },
     "metadata": {
      "needs_background": "light"
     },
     "output_type": "display_data"
    }
   ],
   "source": [
    "ultra[['price', 'month']].boxplot(by='month',figsize=(18,9))\n",
    "plt.title('Выручка тарифа \"Ультра\" по месяцам')\n",
    "plt.ylim(1900, 2500)\n",
    "plt.show()"
   ]
  },
  {
   "cell_type": "markdown",
   "metadata": {},
   "source": [
    "Вывод: пользователи тарифа \"Ультра\" очень редко выходят за лимиты тарифа"
   ]
  },
  {
   "cell_type": "markdown",
   "metadata": {},
   "source": [
    "## Проверка гипотез"
   ]
  },
  {
   "cell_type": "markdown",
   "metadata": {},
   "source": [
    "Гипотеза: Средняя выручка пользователей тарифов «Ультра» и «Смарт» различаются"
   ]
  },
  {
   "cell_type": "markdown",
   "metadata": {},
   "source": [
    "Нулевая гипотеза: Предположим, что они не различаются, тогда p-value для t-теста этих двух выборок должно быть больше 0.01"
   ]
  },
  {
   "cell_type": "markdown",
   "metadata": {},
   "source": [
    "Альтернативная гипотеза: Предположим, что они различаются, тогда p-value для t-теста этих двух выборок должно быть меньше 0.01"
   ]
  },
  {
   "cell_type": "code",
   "execution_count": 81,
   "metadata": {},
   "outputs": [
    {
     "data": {
      "text/plain": [
       "2229"
      ]
     },
     "execution_count": 81,
     "metadata": {},
     "output_type": "execute_result"
    }
   ],
   "source": [
    "len(smart['price'])"
   ]
  },
  {
   "cell_type": "code",
   "execution_count": 82,
   "metadata": {
    "scrolled": true
   },
   "outputs": [
    {
     "data": {
      "text/plain": [
       "985"
      ]
     },
     "execution_count": 82,
     "metadata": {},
     "output_type": "execute_result"
    }
   ],
   "source": [
    "len(ultra['price'])"
   ]
  },
  {
   "cell_type": "markdown",
   "metadata": {},
   "source": [
    "Т.к. выборки различаются по размеру, параметр equal_var = False"
   ]
  },
  {
   "cell_type": "code",
   "execution_count": 83,
   "metadata": {},
   "outputs": [
    {
     "data": {
      "text/plain": [
       "2.374872488402133e-236"
      ]
     },
     "execution_count": 83,
     "metadata": {},
     "output_type": "execute_result"
    }
   ],
   "source": [
    "results_smart_ultra = st.ttest_ind(\n",
    "    smart['price'], \n",
    "    ultra['price'], equal_var = False)\n",
    "\n",
    "results_smart_ultra.pvalue"
   ]
  },
  {
   "cell_type": "markdown",
   "metadata": {},
   "source": [
    "P-value невероятно мало(<<0.01) => отвергаем нулевую гипотезу"
   ]
  },
  {
   "cell_type": "markdown",
   "metadata": {},
   "source": [
    "Выделим пользователей из Москвы и других городов. Для этого добавим столбец city"
   ]
  },
  {
   "cell_type": "code",
   "execution_count": 84,
   "metadata": {},
   "outputs": [
    {
     "data": {
      "text/html": [
       "<div>\n",
       "<style scoped>\n",
       "    .dataframe tbody tr th:only-of-type {\n",
       "        vertical-align: middle;\n",
       "    }\n",
       "\n",
       "    .dataframe tbody tr th {\n",
       "        vertical-align: top;\n",
       "    }\n",
       "\n",
       "    .dataframe thead th {\n",
       "        text-align: right;\n",
       "    }\n",
       "</style>\n",
       "<table border=\"1\" class=\"dataframe\">\n",
       "  <thead>\n",
       "    <tr style=\"text-align: right;\">\n",
       "      <th></th>\n",
       "      <th>mb_month</th>\n",
       "      <th>mb_per_month_included</th>\n",
       "      <th>messages_count_month</th>\n",
       "      <th>messages_included</th>\n",
       "      <th>minutes_included</th>\n",
       "      <th>minutes_month</th>\n",
       "      <th>price_calls_month</th>\n",
       "      <th>price_internet_month</th>\n",
       "      <th>price_messages_month</th>\n",
       "      <th>rub_per_gb</th>\n",
       "      <th>rub_per_message</th>\n",
       "      <th>rub_per_minute</th>\n",
       "      <th>month</th>\n",
       "      <th>user_id</th>\n",
       "      <th>tariff</th>\n",
       "      <th>price</th>\n",
       "      <th>city</th>\n",
       "    </tr>\n",
       "  </thead>\n",
       "  <tbody>\n",
       "    <tr>\n",
       "      <td>0</td>\n",
       "      <td>2253.49</td>\n",
       "      <td>30720.0</td>\n",
       "      <td>22.0</td>\n",
       "      <td>1000.0</td>\n",
       "      <td>3000.0</td>\n",
       "      <td>159.0</td>\n",
       "      <td>0.0</td>\n",
       "      <td>0.0</td>\n",
       "      <td>0.0</td>\n",
       "      <td>150.0</td>\n",
       "      <td>1.0</td>\n",
       "      <td>1.0</td>\n",
       "      <td>5</td>\n",
       "      <td>1000</td>\n",
       "      <td>ultra</td>\n",
       "      <td>1950.0</td>\n",
       "      <td>Краснодар</td>\n",
       "    </tr>\n",
       "    <tr>\n",
       "      <td>1</td>\n",
       "      <td>23233.77</td>\n",
       "      <td>30720.0</td>\n",
       "      <td>60.0</td>\n",
       "      <td>1000.0</td>\n",
       "      <td>3000.0</td>\n",
       "      <td>172.0</td>\n",
       "      <td>0.0</td>\n",
       "      <td>0.0</td>\n",
       "      <td>0.0</td>\n",
       "      <td>150.0</td>\n",
       "      <td>1.0</td>\n",
       "      <td>1.0</td>\n",
       "      <td>6</td>\n",
       "      <td>1000</td>\n",
       "      <td>ultra</td>\n",
       "      <td>1950.0</td>\n",
       "      <td>Краснодар</td>\n",
       "    </tr>\n",
       "    <tr>\n",
       "      <td>2</td>\n",
       "      <td>14003.64</td>\n",
       "      <td>30720.0</td>\n",
       "      <td>75.0</td>\n",
       "      <td>1000.0</td>\n",
       "      <td>3000.0</td>\n",
       "      <td>340.0</td>\n",
       "      <td>0.0</td>\n",
       "      <td>0.0</td>\n",
       "      <td>0.0</td>\n",
       "      <td>150.0</td>\n",
       "      <td>1.0</td>\n",
       "      <td>1.0</td>\n",
       "      <td>7</td>\n",
       "      <td>1000</td>\n",
       "      <td>ultra</td>\n",
       "      <td>1950.0</td>\n",
       "      <td>Краснодар</td>\n",
       "    </tr>\n",
       "    <tr>\n",
       "      <td>3</td>\n",
       "      <td>14055.93</td>\n",
       "      <td>30720.0</td>\n",
       "      <td>81.0</td>\n",
       "      <td>1000.0</td>\n",
       "      <td>3000.0</td>\n",
       "      <td>408.0</td>\n",
       "      <td>0.0</td>\n",
       "      <td>0.0</td>\n",
       "      <td>0.0</td>\n",
       "      <td>150.0</td>\n",
       "      <td>1.0</td>\n",
       "      <td>1.0</td>\n",
       "      <td>8</td>\n",
       "      <td>1000</td>\n",
       "      <td>ultra</td>\n",
       "      <td>1950.0</td>\n",
       "      <td>Краснодар</td>\n",
       "    </tr>\n",
       "    <tr>\n",
       "      <td>4</td>\n",
       "      <td>14568.91</td>\n",
       "      <td>30720.0</td>\n",
       "      <td>57.0</td>\n",
       "      <td>1000.0</td>\n",
       "      <td>3000.0</td>\n",
       "      <td>466.0</td>\n",
       "      <td>0.0</td>\n",
       "      <td>0.0</td>\n",
       "      <td>0.0</td>\n",
       "      <td>150.0</td>\n",
       "      <td>1.0</td>\n",
       "      <td>1.0</td>\n",
       "      <td>9</td>\n",
       "      <td>1000</td>\n",
       "      <td>ultra</td>\n",
       "      <td>1950.0</td>\n",
       "      <td>Краснодар</td>\n",
       "    </tr>\n",
       "  </tbody>\n",
       "</table>\n",
       "</div>"
      ],
      "text/plain": [
       "   mb_month  mb_per_month_included  messages_count_month  messages_included  \\\n",
       "0   2253.49                30720.0                  22.0             1000.0   \n",
       "1  23233.77                30720.0                  60.0             1000.0   \n",
       "2  14003.64                30720.0                  75.0             1000.0   \n",
       "3  14055.93                30720.0                  81.0             1000.0   \n",
       "4  14568.91                30720.0                  57.0             1000.0   \n",
       "\n",
       "   minutes_included  minutes_month  price_calls_month  price_internet_month  \\\n",
       "0            3000.0          159.0                0.0                   0.0   \n",
       "1            3000.0          172.0                0.0                   0.0   \n",
       "2            3000.0          340.0                0.0                   0.0   \n",
       "3            3000.0          408.0                0.0                   0.0   \n",
       "4            3000.0          466.0                0.0                   0.0   \n",
       "\n",
       "   price_messages_month  rub_per_gb  rub_per_message  rub_per_minute  month  \\\n",
       "0                   0.0       150.0              1.0             1.0      5   \n",
       "1                   0.0       150.0              1.0             1.0      6   \n",
       "2                   0.0       150.0              1.0             1.0      7   \n",
       "3                   0.0       150.0              1.0             1.0      8   \n",
       "4                   0.0       150.0              1.0             1.0      9   \n",
       "\n",
       "   user_id tariff   price       city  \n",
       "0     1000  ultra  1950.0  Краснодар  \n",
       "1     1000  ultra  1950.0  Краснодар  \n",
       "2     1000  ultra  1950.0  Краснодар  \n",
       "3     1000  ultra  1950.0  Краснодар  \n",
       "4     1000  ultra  1950.0  Краснодар  "
      ]
     },
     "execution_count": 84,
     "metadata": {},
     "output_type": "execute_result"
    }
   ],
   "source": [
    "sum_pivot = (sum_pivot.join(data_users[['user_id', 'city']].set_index('user_id'), on='user_id',\n",
    "                                  lsuffix='_l', rsuffix='_r', how='left'))\n",
    "sum_pivot.head()"
   ]
  },
  {
   "cell_type": "code",
   "execution_count": 85,
   "metadata": {},
   "outputs": [],
   "source": [
    "moscow = sum_pivot[sum_pivot['city']=='Москва']\n",
    "others = sum_pivot[~(sum_pivot['city']=='Москва')]"
   ]
  },
  {
   "cell_type": "markdown",
   "metadata": {},
   "source": [
    "Гипотеза: Средняя выручка пользователей из Москвы и других городов различаются"
   ]
  },
  {
   "cell_type": "markdown",
   "metadata": {},
   "source": [
    "Нулевая гипотеза: Предположим, что они не различаются, тогда p-value для t-теста этих двух выборок должно быть больше 0.01"
   ]
  },
  {
   "cell_type": "markdown",
   "metadata": {},
   "source": [
    "Альтернативная гипотеза: Предположим, что они не различаются, тогда p-value для t-теста этих двух выборок должно быть больше 0.01"
   ]
  },
  {
   "cell_type": "code",
   "execution_count": 86,
   "metadata": {},
   "outputs": [
    {
     "data": {
      "text/plain": [
       "611"
      ]
     },
     "execution_count": 86,
     "metadata": {},
     "output_type": "execute_result"
    }
   ],
   "source": [
    "len(moscow)"
   ]
  },
  {
   "cell_type": "code",
   "execution_count": 87,
   "metadata": {},
   "outputs": [
    {
     "data": {
      "text/plain": [
       "2603"
      ]
     },
     "execution_count": 87,
     "metadata": {},
     "output_type": "execute_result"
    }
   ],
   "source": [
    "len(others)"
   ]
  },
  {
   "cell_type": "markdown",
   "metadata": {},
   "source": [
    "Т.к. выборки различаются по размеру, параметр equal_var = False"
   ]
  },
  {
   "cell_type": "code",
   "execution_count": 88,
   "metadata": {},
   "outputs": [
    {
     "data": {
      "text/plain": [
       "0.5737319987867855"
      ]
     },
     "execution_count": 88,
     "metadata": {},
     "output_type": "execute_result"
    }
   ],
   "source": [
    "results_moscow_others= st.ttest_ind(\n",
    "    moscow['price'], \n",
    "    others['price'], equal_var=False)\n",
    "\n",
    "results_moscow_others.pvalue"
   ]
  },
  {
   "cell_type": "markdown",
   "metadata": {},
   "source": [
    "P-value велико(>>0.01) => нету причин отклонять нулевую гипотезу"
   ]
  },
  {
   "cell_type": "markdown",
   "metadata": {},
   "source": [
    "## Общий вывод"
   ]
  },
  {
   "cell_type": "markdown",
   "metadata": {},
   "source": [
    "Мы ознакомились с небольшой выборкой о платежах пользователей по тарифам \"смарт\" и \"ультра\" за год. В выборке отсутствовали пропуски и сильные выбросы.\n",
    "\n",
    "Мы изучили поведение клиентов и пришли к следующим выводам:\n",
    "\n",
    "- пользователям тарифа \"смарт\" нужно в среднем 16200, а \"ультра\" 19500 мб трафика в месяц.\n",
    "- пользователям тарифа \"смарт\" нужно в среднем 420, а \"ультра\" 525 минут разговора в месяц\n",
    "- пользователям тарифа \"смарт\" нужно в среднем 33, а \"ультра\" 50 сообщений в месяц\n",
    "- средняя выручка \"смарт\" составляет 1300, а \"ультра\" 2070 руб в месяц\n",
    "- пользователям тарифа \"смарт\" не хватает заяленных месячных ограничений по тарифу, и они часто выходят за его пределы. Пользователи \"ультра\", напротив, практически не выбиваются за лимиты.\n",
    "\n",
    "Мы предположили две гипотезы:\n",
    "- средняя выручка пользователей тарифов «Ультра» и «Смарт» различаются. Нету оснований отклонить эту гипотезу\n",
    "- средняя выручка пользователи из Москвы отличается от выручки пользователей из других регионов. Есть основания отклонить эту гипотезу\n",
    "\n",
    "Рекомендации:\n",
    "- перевести столбцы с датами в соответствующий формат"
   ]
  },
  {
   "cell_type": "code",
   "execution_count": null,
   "metadata": {},
   "outputs": [],
   "source": []
  }
 ],
 "metadata": {
  "ExecuteTimeLog": [
   {
    "duration": 635,
    "start_time": "2021-09-06T19:53:00.921Z"
   },
   {
    "duration": 145,
    "start_time": "2021-09-06T19:53:39.834Z"
   },
   {
    "duration": 160,
    "start_time": "2021-09-06T19:55:12.831Z"
   },
   {
    "duration": 132,
    "start_time": "2021-09-06T19:55:13.189Z"
   },
   {
    "duration": 94,
    "start_time": "2021-09-06T19:55:14.160Z"
   },
   {
    "duration": 19,
    "start_time": "2021-09-06T19:55:14.344Z"
   },
   {
    "duration": 47,
    "start_time": "2021-09-06T19:55:14.513Z"
   },
   {
    "duration": 226,
    "start_time": "2021-09-06T19:55:43.002Z"
   },
   {
    "duration": 158,
    "start_time": "2021-09-06T19:55:46.110Z"
   },
   {
    "duration": 13,
    "start_time": "2021-09-06T19:55:46.372Z"
   },
   {
    "duration": 9,
    "start_time": "2021-09-06T19:56:01.125Z"
   },
   {
    "duration": 8,
    "start_time": "2021-09-06T19:56:09.145Z"
   },
   {
    "duration": 8,
    "start_time": "2021-09-06T19:56:16.480Z"
   },
   {
    "duration": 10,
    "start_time": "2021-09-06T19:56:22.834Z"
   },
   {
    "duration": 69,
    "start_time": "2021-09-06T20:03:20.502Z"
   },
   {
    "duration": 3,
    "start_time": "2021-09-06T20:03:39.937Z"
   },
   {
    "duration": 299,
    "start_time": "2021-09-06T20:05:16.633Z"
   },
   {
    "duration": 36,
    "start_time": "2021-09-06T20:06:04.780Z"
   },
   {
    "duration": 70,
    "start_time": "2021-09-06T20:06:11.295Z"
   },
   {
    "duration": 156,
    "start_time": "2021-09-06T20:09:28.441Z"
   },
   {
    "duration": 27,
    "start_time": "2021-09-06T20:09:30.367Z"
   },
   {
    "duration": 12,
    "start_time": "2021-09-06T20:09:47.589Z"
   },
   {
    "duration": 799,
    "start_time": "2021-09-06T20:12:35.844Z"
   },
   {
    "duration": 26,
    "start_time": "2021-09-06T20:12:37.674Z"
   },
   {
    "duration": 11,
    "start_time": "2021-09-06T20:12:40.985Z"
   },
   {
    "duration": 202,
    "start_time": "2021-09-06T20:14:42.079Z"
   },
   {
    "duration": 779,
    "start_time": "2021-09-06T20:14:52.073Z"
   },
   {
    "duration": 201,
    "start_time": "2021-09-06T20:14:52.853Z"
   },
   {
    "duration": 422,
    "start_time": "2021-09-06T20:14:52.634Z"
   },
   {
    "duration": 206,
    "start_time": "2021-09-06T20:14:53.375Z"
   },
   {
    "duration": 29,
    "start_time": "2021-09-06T20:15:00.542Z"
   },
   {
    "duration": 246,
    "start_time": "2021-09-06T20:15:01.257Z"
   },
   {
    "duration": 1319,
    "start_time": "2021-09-06T20:15:01.523Z"
   },
   {
    "duration": 10,
    "start_time": "2021-09-06T20:15:20.949Z"
   },
   {
    "duration": 261,
    "start_time": "2021-09-06T20:15:27.489Z"
   },
   {
    "duration": 410,
    "start_time": "2021-09-06T20:16:02.462Z"
   },
   {
    "duration": 12,
    "start_time": "2021-09-06T20:16:07.628Z"
   },
   {
    "duration": 35,
    "start_time": "2021-09-06T20:16:34.962Z"
   },
   {
    "duration": 10,
    "start_time": "2021-09-06T20:16:38.474Z"
   },
   {
    "duration": 220,
    "start_time": "2021-09-06T23:43:07.982Z"
   },
   {
    "duration": 818,
    "start_time": "2021-09-06T23:43:26.668Z"
   },
   {
    "duration": 11,
    "start_time": "2021-09-06T23:43:27.488Z"
   },
   {
    "duration": 136,
    "start_time": "2021-09-06T23:43:27.501Z"
   },
   {
    "duration": 8,
    "start_time": "2021-09-06T23:43:27.639Z"
   },
   {
    "duration": 97,
    "start_time": "2021-09-06T23:43:27.649Z"
   },
   {
    "duration": 8,
    "start_time": "2021-09-06T23:43:27.748Z"
   },
   {
    "duration": 19,
    "start_time": "2021-09-06T23:43:27.758Z"
   },
   {
    "duration": 8,
    "start_time": "2021-09-06T23:43:27.786Z"
   },
   {
    "duration": 58,
    "start_time": "2021-09-06T23:43:27.796Z"
   },
   {
    "duration": 10,
    "start_time": "2021-09-06T23:43:27.856Z"
   },
   {
    "duration": 209,
    "start_time": "2021-09-06T23:43:48.426Z"
   },
   {
    "duration": 758,
    "start_time": "2021-09-06T23:43:59.710Z"
   },
   {
    "duration": 12,
    "start_time": "2021-09-06T23:44:02.857Z"
   },
   {
    "duration": 147,
    "start_time": "2021-09-06T23:44:02.870Z"
   },
   {
    "duration": 8,
    "start_time": "2021-09-06T23:44:03.019Z"
   },
   {
    "duration": 89,
    "start_time": "2021-09-06T23:44:04.356Z"
   },
   {
    "duration": 7,
    "start_time": "2021-09-06T23:44:04.447Z"
   },
   {
    "duration": 27,
    "start_time": "2021-09-06T23:44:04.456Z"
   },
   {
    "duration": 8,
    "start_time": "2021-09-06T23:44:08.849Z"
   },
   {
    "duration": 48,
    "start_time": "2021-09-06T23:44:09.224Z"
   },
   {
    "duration": 10,
    "start_time": "2021-09-06T23:44:09.664Z"
   },
   {
    "duration": 805,
    "start_time": "2021-09-06T23:44:32.788Z"
   },
   {
    "duration": 11,
    "start_time": "2021-09-06T23:44:33.595Z"
   },
   {
    "duration": 135,
    "start_time": "2021-09-06T23:44:33.608Z"
   },
   {
    "duration": 8,
    "start_time": "2021-09-06T23:44:33.745Z"
   },
   {
    "duration": 95,
    "start_time": "2021-09-06T23:44:33.755Z"
   },
   {
    "duration": 6,
    "start_time": "2021-09-06T23:44:33.852Z"
   },
   {
    "duration": 25,
    "start_time": "2021-09-06T23:44:33.860Z"
   },
   {
    "duration": 10,
    "start_time": "2021-09-06T23:44:33.887Z"
   },
   {
    "duration": 38,
    "start_time": "2021-09-06T23:44:33.899Z"
   },
   {
    "duration": 11,
    "start_time": "2021-09-06T23:44:33.939Z"
   },
   {
    "duration": 218,
    "start_time": "2021-09-06T23:44:58.213Z"
   },
   {
    "duration": 792,
    "start_time": "2021-09-06T23:45:05.557Z"
   },
   {
    "duration": 11,
    "start_time": "2021-09-06T23:45:06.351Z"
   },
   {
    "duration": 135,
    "start_time": "2021-09-06T23:45:06.363Z"
   },
   {
    "duration": 8,
    "start_time": "2021-09-06T23:45:06.499Z"
   },
   {
    "duration": 93,
    "start_time": "2021-09-06T23:45:06.508Z"
   },
   {
    "duration": 6,
    "start_time": "2021-09-06T23:45:06.603Z"
   },
   {
    "duration": 20,
    "start_time": "2021-09-06T23:45:06.611Z"
   },
   {
    "duration": 9,
    "start_time": "2021-09-06T23:45:06.632Z"
   },
   {
    "duration": 41,
    "start_time": "2021-09-06T23:45:06.643Z"
   },
   {
    "duration": 8,
    "start_time": "2021-09-06T23:45:06.685Z"
   },
   {
    "duration": 207,
    "start_time": "2021-09-06T23:45:45.766Z"
   },
   {
    "duration": 730,
    "start_time": "2021-09-06T23:45:51.924Z"
   },
   {
    "duration": 9,
    "start_time": "2021-09-06T23:45:52.656Z"
   },
   {
    "duration": 130,
    "start_time": "2021-09-06T23:45:53.169Z"
   },
   {
    "duration": 7,
    "start_time": "2021-09-06T23:45:53.344Z"
   },
   {
    "duration": 88,
    "start_time": "2021-09-06T23:45:53.520Z"
   },
   {
    "duration": 7,
    "start_time": "2021-09-06T23:45:53.687Z"
   },
   {
    "duration": 19,
    "start_time": "2021-09-06T23:45:53.850Z"
   },
   {
    "duration": 8,
    "start_time": "2021-09-06T23:45:54.225Z"
   },
   {
    "duration": 39,
    "start_time": "2021-09-06T23:45:54.399Z"
   },
   {
    "duration": 9,
    "start_time": "2021-09-06T23:45:54.564Z"
   },
   {
    "duration": 214,
    "start_time": "2021-09-06T23:46:11.461Z"
   },
   {
    "duration": 784,
    "start_time": "2021-09-06T23:46:48.183Z"
   },
   {
    "duration": 11,
    "start_time": "2021-09-06T23:46:48.968Z"
   },
   {
    "duration": 138,
    "start_time": "2021-09-06T23:46:48.981Z"
   },
   {
    "duration": 8,
    "start_time": "2021-09-06T23:46:49.121Z"
   },
   {
    "duration": 94,
    "start_time": "2021-09-06T23:46:49.131Z"
   },
   {
    "duration": 6,
    "start_time": "2021-09-06T23:46:49.227Z"
   },
   {
    "duration": 22,
    "start_time": "2021-09-06T23:46:49.235Z"
   },
   {
    "duration": 9,
    "start_time": "2021-09-06T23:46:49.259Z"
   },
   {
    "duration": 41,
    "start_time": "2021-09-06T23:46:49.270Z"
   },
   {
    "duration": 9,
    "start_time": "2021-09-06T23:46:49.313Z"
   },
   {
    "duration": 1214,
    "start_time": "2021-09-06T23:47:22.446Z"
   },
   {
    "duration": 10,
    "start_time": "2021-09-06T23:47:23.662Z"
   },
   {
    "duration": 137,
    "start_time": "2021-09-06T23:47:23.674Z"
   },
   {
    "duration": 8,
    "start_time": "2021-09-06T23:47:23.813Z"
   },
   {
    "duration": 97,
    "start_time": "2021-09-06T23:47:23.822Z"
   },
   {
    "duration": 6,
    "start_time": "2021-09-06T23:47:23.920Z"
   },
   {
    "duration": 21,
    "start_time": "2021-09-06T23:47:23.928Z"
   },
   {
    "duration": 9,
    "start_time": "2021-09-06T23:47:23.951Z"
   },
   {
    "duration": 29,
    "start_time": "2021-09-06T23:47:23.962Z"
   },
   {
    "duration": 8,
    "start_time": "2021-09-06T23:47:23.993Z"
   },
   {
    "duration": 50,
    "start_time": "2021-09-06T23:47:24.003Z"
   },
   {
    "duration": 83,
    "start_time": "2021-09-06T23:47:24.055Z"
   },
   {
    "duration": 10,
    "start_time": "2021-09-06T23:47:24.140Z"
   },
   {
    "duration": 102,
    "start_time": "2021-09-06T23:47:24.152Z"
   },
   {
    "duration": 146,
    "start_time": "2021-09-06T23:47:24.255Z"
   },
   {
    "duration": 11,
    "start_time": "2021-09-06T23:47:24.403Z"
   },
   {
    "duration": 436,
    "start_time": "2021-09-08T00:22:44.678Z"
   },
   {
    "duration": 1159,
    "start_time": "2021-09-08T00:22:50.262Z"
   },
   {
    "duration": 15,
    "start_time": "2021-09-08T00:22:51.423Z"
   },
   {
    "duration": 213,
    "start_time": "2021-09-08T00:22:51.441Z"
   },
   {
    "duration": 21,
    "start_time": "2021-09-08T00:22:51.657Z"
   },
   {
    "duration": 142,
    "start_time": "2021-09-08T00:22:51.680Z"
   },
   {
    "duration": 11,
    "start_time": "2021-09-08T00:22:51.825Z"
   },
   {
    "duration": 42,
    "start_time": "2021-09-08T00:22:51.839Z"
   },
   {
    "duration": 12,
    "start_time": "2021-09-08T00:22:51.884Z"
   },
   {
    "duration": 39,
    "start_time": "2021-09-08T00:22:51.899Z"
   },
   {
    "duration": 15,
    "start_time": "2021-09-08T00:22:51.940Z"
   },
   {
    "duration": 8408,
    "start_time": "2021-09-08T00:22:51.957Z"
   },
   {
    "duration": 349,
    "start_time": "2021-09-08T00:24:21.922Z"
   },
   {
    "duration": 53,
    "start_time": "2021-09-08T00:25:20.644Z"
   },
   {
    "duration": 14,
    "start_time": "2021-09-08T00:25:32.175Z"
   },
   {
    "duration": 12,
    "start_time": "2021-09-08T00:25:53.212Z"
   },
   {
    "duration": 22,
    "start_time": "2021-09-08T00:26:26.939Z"
   },
   {
    "duration": 50,
    "start_time": "2021-09-08T00:26:40.193Z"
   },
   {
    "duration": 13,
    "start_time": "2021-09-08T00:31:52.369Z"
   },
   {
    "duration": 131,
    "start_time": "2021-09-08T00:32:12.753Z"
   },
   {
    "duration": 148,
    "start_time": "2021-09-08T00:32:21.455Z"
   },
   {
    "duration": 120,
    "start_time": "2021-09-08T00:32:32.388Z"
   },
   {
    "duration": 54,
    "start_time": "2021-09-08T00:32:39.526Z"
   },
   {
    "duration": 885,
    "start_time": "2021-09-08T00:35:41.160Z"
   },
   {
    "duration": 333,
    "start_time": "2021-09-08T00:36:25.993Z"
   },
   {
    "duration": 44,
    "start_time": "2021-09-08T00:36:47.739Z"
   },
   {
    "duration": 24,
    "start_time": "2021-09-08T00:36:48.128Z"
   },
   {
    "duration": 55,
    "start_time": "2021-09-08T00:36:48.420Z"
   },
   {
    "duration": 11,
    "start_time": "2021-09-08T00:36:49.251Z"
   },
   {
    "duration": 325,
    "start_time": "2021-09-08T00:36:50.313Z"
   },
   {
    "duration": 77,
    "start_time": "2021-09-08T00:37:14.719Z"
   },
   {
    "duration": 16,
    "start_time": "2021-09-08T00:37:28.148Z"
   },
   {
    "duration": 73,
    "start_time": "2021-09-08T00:42:07.982Z"
   },
   {
    "duration": 81,
    "start_time": "2021-09-08T00:42:22.298Z"
   },
   {
    "duration": 13,
    "start_time": "2021-09-08T00:42:22.763Z"
   },
   {
    "duration": 16,
    "start_time": "2021-09-08T00:42:44.558Z"
   },
   {
    "duration": 246,
    "start_time": "2021-09-08T00:44:12.251Z"
   },
   {
    "duration": 12,
    "start_time": "2021-09-08T00:44:12.499Z"
   },
   {
    "duration": 213,
    "start_time": "2021-09-08T00:44:12.514Z"
   },
   {
    "duration": 12,
    "start_time": "2021-09-08T00:44:12.730Z"
   },
   {
    "duration": 156,
    "start_time": "2021-09-08T00:44:12.745Z"
   },
   {
    "duration": 11,
    "start_time": "2021-09-08T00:44:12.904Z"
   },
   {
    "duration": 24,
    "start_time": "2021-09-08T00:44:12.918Z"
   },
   {
    "duration": 39,
    "start_time": "2021-09-08T00:44:12.944Z"
   },
   {
    "duration": 47,
    "start_time": "2021-09-08T00:44:12.986Z"
   },
   {
    "duration": 15,
    "start_time": "2021-09-08T00:44:13.036Z"
   },
   {
    "duration": 54,
    "start_time": "2021-09-08T00:44:13.053Z"
   },
   {
    "duration": 24,
    "start_time": "2021-09-08T00:44:13.110Z"
   },
   {
    "duration": 67,
    "start_time": "2021-09-08T00:44:13.136Z"
   },
   {
    "duration": 12,
    "start_time": "2021-09-08T00:44:13.206Z"
   },
   {
    "duration": 102,
    "start_time": "2021-09-08T00:44:13.220Z"
   },
   {
    "duration": 14,
    "start_time": "2021-09-08T00:44:13.325Z"
   },
   {
    "duration": 411,
    "start_time": "2021-09-08T00:44:13.341Z"
   },
   {
    "duration": 367,
    "start_time": "2021-09-08T00:44:23.371Z"
   },
   {
    "duration": 337,
    "start_time": "2021-09-08T00:45:33.613Z"
   },
   {
    "duration": 8,
    "start_time": "2021-09-08T00:45:37.627Z"
   },
   {
    "duration": 11,
    "start_time": "2021-09-08T00:45:40.963Z"
   },
   {
    "duration": 91,
    "start_time": "2021-09-08T00:51:18.709Z"
   },
   {
    "duration": 143,
    "start_time": "2021-09-08T00:58:51.440Z"
   },
   {
    "duration": 116,
    "start_time": "2021-09-08T00:59:04.249Z"
   },
   {
    "duration": 29,
    "start_time": "2021-09-08T00:59:16.906Z"
   },
   {
    "duration": 12,
    "start_time": "2021-09-08T00:59:34.498Z"
   },
   {
    "duration": 122,
    "start_time": "2021-09-08T00:59:57.418Z"
   },
   {
    "duration": 16,
    "start_time": "2021-09-08T00:59:58.434Z"
   },
   {
    "duration": 15,
    "start_time": "2021-09-08T01:00:42.035Z"
   },
   {
    "duration": 29,
    "start_time": "2021-09-08T01:00:55.587Z"
   },
   {
    "duration": 13,
    "start_time": "2021-09-08T01:00:58.055Z"
   },
   {
    "duration": 17,
    "start_time": "2021-09-08T01:00:58.268Z"
   },
   {
    "duration": 31,
    "start_time": "2021-09-08T01:02:45.277Z"
   },
   {
    "duration": 11,
    "start_time": "2021-09-08T01:02:47.821Z"
   },
   {
    "duration": 14,
    "start_time": "2021-09-08T01:02:48.086Z"
   },
   {
    "duration": 113,
    "start_time": "2021-09-08T01:03:03.837Z"
   },
   {
    "duration": 16,
    "start_time": "2021-09-08T01:03:04.103Z"
   },
   {
    "duration": 37,
    "start_time": "2021-09-08T01:04:35.170Z"
   },
   {
    "duration": 15,
    "start_time": "2021-09-08T01:04:36.858Z"
   },
   {
    "duration": 235,
    "start_time": "2021-09-08T01:04:40.725Z"
   },
   {
    "duration": 18,
    "start_time": "2021-09-08T01:04:40.962Z"
   },
   {
    "duration": 211,
    "start_time": "2021-09-08T01:04:40.984Z"
   },
   {
    "duration": 13,
    "start_time": "2021-09-08T01:04:41.199Z"
   },
   {
    "duration": 156,
    "start_time": "2021-09-08T01:04:41.214Z"
   },
   {
    "duration": 13,
    "start_time": "2021-09-08T01:04:41.374Z"
   },
   {
    "duration": 24,
    "start_time": "2021-09-08T01:04:41.390Z"
   },
   {
    "duration": 11,
    "start_time": "2021-09-08T01:04:41.417Z"
   },
   {
    "duration": 52,
    "start_time": "2021-09-08T01:04:41.431Z"
   },
   {
    "duration": 16,
    "start_time": "2021-09-08T01:04:41.485Z"
   },
   {
    "duration": 33,
    "start_time": "2021-09-08T01:04:41.503Z"
   },
   {
    "duration": 362,
    "start_time": "2021-09-08T01:04:41.538Z"
   },
   {
    "duration": 1644,
    "start_time": "2021-09-08T01:04:40.258Z"
   },
   {
    "duration": 1635,
    "start_time": "2021-09-08T01:04:40.269Z"
   },
   {
    "duration": 1636,
    "start_time": "2021-09-08T01:04:40.270Z"
   },
   {
    "duration": 1636,
    "start_time": "2021-09-08T01:04:40.271Z"
   },
   {
    "duration": 1636,
    "start_time": "2021-09-08T01:04:40.272Z"
   },
   {
    "duration": 1636,
    "start_time": "2021-09-08T01:04:40.273Z"
   },
   {
    "duration": 1637,
    "start_time": "2021-09-08T01:04:40.274Z"
   },
   {
    "duration": 228,
    "start_time": "2021-09-08T01:04:59.339Z"
   },
   {
    "duration": 12,
    "start_time": "2021-09-08T01:04:59.569Z"
   },
   {
    "duration": 215,
    "start_time": "2021-09-08T01:04:59.584Z"
   },
   {
    "duration": 16,
    "start_time": "2021-09-08T01:04:59.802Z"
   },
   {
    "duration": 167,
    "start_time": "2021-09-08T01:04:59.821Z"
   },
   {
    "duration": 10,
    "start_time": "2021-09-08T01:04:59.991Z"
   },
   {
    "duration": 28,
    "start_time": "2021-09-08T01:05:00.005Z"
   },
   {
    "duration": 15,
    "start_time": "2021-09-08T01:05:00.036Z"
   },
   {
    "duration": 43,
    "start_time": "2021-09-08T01:05:00.070Z"
   },
   {
    "duration": 14,
    "start_time": "2021-09-08T01:05:00.116Z"
   },
   {
    "duration": 42,
    "start_time": "2021-09-08T01:05:00.133Z"
   },
   {
    "duration": 3,
    "start_time": "2021-09-08T01:05:00.178Z"
   },
   {
    "duration": 57,
    "start_time": "2021-09-08T01:05:00.184Z"
   },
   {
    "duration": 33,
    "start_time": "2021-09-08T01:05:00.243Z"
   },
   {
    "duration": 15,
    "start_time": "2021-09-08T01:05:00.279Z"
   },
   {
    "duration": 35,
    "start_time": "2021-09-08T01:05:00.296Z"
   },
   {
    "duration": 40,
    "start_time": "2021-09-08T01:05:00.333Z"
   },
   {
    "duration": 101,
    "start_time": "2021-09-08T01:05:00.375Z"
   },
   {
    "duration": 371,
    "start_time": "2021-09-08T01:05:00.479Z"
   },
   {
    "duration": 350,
    "start_time": "2021-09-08T01:07:44.235Z"
   },
   {
    "duration": 16,
    "start_time": "2021-09-08T01:07:50.681Z"
   },
   {
    "duration": 17,
    "start_time": "2021-09-08T01:07:58.100Z"
   },
   {
    "duration": 235,
    "start_time": "2021-09-08T01:08:51.243Z"
   },
   {
    "duration": 11,
    "start_time": "2021-09-08T01:08:51.481Z"
   },
   {
    "duration": 207,
    "start_time": "2021-09-08T01:08:51.495Z"
   },
   {
    "duration": 12,
    "start_time": "2021-09-08T01:08:51.705Z"
   },
   {
    "duration": 144,
    "start_time": "2021-09-08T01:08:51.719Z"
   },
   {
    "duration": 11,
    "start_time": "2021-09-08T01:08:51.865Z"
   },
   {
    "duration": 25,
    "start_time": "2021-09-08T01:08:51.879Z"
   },
   {
    "duration": 20,
    "start_time": "2021-09-08T01:08:51.907Z"
   },
   {
    "duration": 63,
    "start_time": "2021-09-08T01:08:51.932Z"
   },
   {
    "duration": 14,
    "start_time": "2021-09-08T01:08:51.999Z"
   },
   {
    "duration": 34,
    "start_time": "2021-09-08T01:08:52.016Z"
   },
   {
    "duration": 22,
    "start_time": "2021-09-08T01:08:52.052Z"
   },
   {
    "duration": 42,
    "start_time": "2021-09-08T01:08:52.076Z"
   },
   {
    "duration": 13,
    "start_time": "2021-09-08T01:08:52.121Z"
   },
   {
    "duration": 18,
    "start_time": "2021-09-08T01:08:52.168Z"
   },
   {
    "duration": 30,
    "start_time": "2021-09-08T01:08:52.189Z"
   },
   {
    "duration": 16,
    "start_time": "2021-09-08T01:08:52.222Z"
   },
   {
    "duration": 7,
    "start_time": "2021-09-08T01:08:52.267Z"
   },
   {
    "duration": 141,
    "start_time": "2021-09-08T01:08:52.277Z"
   },
   {
    "duration": 15,
    "start_time": "2021-09-08T01:08:52.420Z"
   },
   {
    "duration": 16,
    "start_time": "2021-09-08T01:09:26.945Z"
   },
   {
    "duration": 106,
    "start_time": "2021-09-08T01:10:07.049Z"
   },
   {
    "duration": 16,
    "start_time": "2021-09-08T01:10:07.396Z"
   },
   {
    "duration": 253,
    "start_time": "2021-09-08T01:10:25.657Z"
   },
   {
    "duration": 12,
    "start_time": "2021-09-08T01:10:25.913Z"
   },
   {
    "duration": 229,
    "start_time": "2021-09-08T01:10:25.928Z"
   },
   {
    "duration": 17,
    "start_time": "2021-09-08T01:10:26.161Z"
   },
   {
    "duration": 147,
    "start_time": "2021-09-08T01:10:26.180Z"
   },
   {
    "duration": 10,
    "start_time": "2021-09-08T01:10:26.329Z"
   },
   {
    "duration": 31,
    "start_time": "2021-09-08T01:10:26.341Z"
   },
   {
    "duration": 24,
    "start_time": "2021-09-08T01:10:26.374Z"
   },
   {
    "duration": 44,
    "start_time": "2021-09-08T01:10:26.404Z"
   },
   {
    "duration": 15,
    "start_time": "2021-09-08T01:10:26.451Z"
   },
   {
    "duration": 48,
    "start_time": "2021-09-08T01:10:26.470Z"
   },
   {
    "duration": 3,
    "start_time": "2021-09-08T01:10:26.520Z"
   },
   {
    "duration": 74,
    "start_time": "2021-09-08T01:10:26.526Z"
   },
   {
    "duration": 11,
    "start_time": "2021-09-08T01:10:26.602Z"
   },
   {
    "duration": 23,
    "start_time": "2021-09-08T01:10:26.616Z"
   },
   {
    "duration": 43,
    "start_time": "2021-09-08T01:10:26.642Z"
   },
   {
    "duration": 15,
    "start_time": "2021-09-08T01:10:26.688Z"
   },
   {
    "duration": 14,
    "start_time": "2021-09-08T01:10:26.705Z"
   },
   {
    "duration": 130,
    "start_time": "2021-09-08T01:10:26.721Z"
   },
   {
    "duration": 16,
    "start_time": "2021-09-08T01:10:26.853Z"
   },
   {
    "duration": 4,
    "start_time": "2021-09-08T01:15:58.887Z"
   },
   {
    "duration": 14,
    "start_time": "2021-09-08T01:15:59.192Z"
   },
   {
    "duration": 16,
    "start_time": "2021-09-08T01:16:02.596Z"
   },
   {
    "duration": 105,
    "start_time": "2021-09-08T01:16:05.926Z"
   },
   {
    "duration": 18,
    "start_time": "2021-09-08T01:16:13.200Z"
   },
   {
    "duration": 18,
    "start_time": "2021-09-08T01:16:46.675Z"
   },
   {
    "duration": 369,
    "start_time": "2021-09-08T01:19:23.269Z"
   },
   {
    "duration": 31,
    "start_time": "2021-09-08T01:20:02.493Z"
   },
   {
    "duration": 90,
    "start_time": "2021-09-08T01:21:27.276Z"
   },
   {
    "duration": 17,
    "start_time": "2021-09-08T01:21:27.632Z"
   },
   {
    "duration": 439,
    "start_time": "2021-09-08T01:22:48.396Z"
   },
   {
    "duration": 8385,
    "start_time": "2021-09-08T01:23:20.999Z"
   },
   {
    "duration": 596,
    "start_time": "2021-09-08T01:23:29.533Z"
   },
   {
    "duration": 8908,
    "start_time": "2021-09-08T01:23:51.740Z"
   },
   {
    "duration": 8991,
    "start_time": "2021-09-08T01:26:06.471Z"
   },
   {
    "duration": 31,
    "start_time": "2021-09-08T01:26:22.455Z"
   },
   {
    "duration": 128,
    "start_time": "2021-09-08T01:31:06.703Z"
   },
   {
    "duration": 204,
    "start_time": "2021-09-08T01:31:35.712Z"
   },
   {
    "duration": 1215,
    "start_time": "2021-09-08T01:33:24.317Z"
   },
   {
    "duration": 9385,
    "start_time": "2021-09-08T01:34:34.322Z"
   },
   {
    "duration": 11443,
    "start_time": "2021-09-08T01:34:56.548Z"
   },
   {
    "duration": 1664,
    "start_time": "2021-09-08T01:35:06.330Z"
   },
   {
    "duration": 1664,
    "start_time": "2021-09-08T01:35:06.331Z"
   },
   {
    "duration": 17,
    "start_time": "2021-09-08T01:35:12.010Z"
   },
   {
    "duration": 96,
    "start_time": "2021-09-08T01:35:17.752Z"
   },
   {
    "duration": 18,
    "start_time": "2021-09-08T01:35:19.428Z"
   },
   {
    "duration": 35,
    "start_time": "2021-09-08T01:35:20.262Z"
   },
   {
    "duration": 252,
    "start_time": "2021-09-08T01:35:43.610Z"
   },
   {
    "duration": 11,
    "start_time": "2021-09-08T01:35:43.864Z"
   },
   {
    "duration": 187,
    "start_time": "2021-09-08T01:35:43.878Z"
   },
   {
    "duration": 12,
    "start_time": "2021-09-08T01:35:44.068Z"
   },
   {
    "duration": 130,
    "start_time": "2021-09-08T01:35:44.082Z"
   },
   {
    "duration": 10,
    "start_time": "2021-09-08T01:35:44.215Z"
   },
   {
    "duration": 24,
    "start_time": "2021-09-08T01:35:44.227Z"
   },
   {
    "duration": 12,
    "start_time": "2021-09-08T01:35:44.267Z"
   },
   {
    "duration": 40,
    "start_time": "2021-09-08T01:35:44.282Z"
   },
   {
    "duration": 14,
    "start_time": "2021-09-08T01:35:44.325Z"
   },
   {
    "duration": 43,
    "start_time": "2021-09-08T01:35:44.342Z"
   },
   {
    "duration": 3,
    "start_time": "2021-09-08T01:35:44.387Z"
   },
   {
    "duration": 41,
    "start_time": "2021-09-08T01:35:44.392Z"
   },
   {
    "duration": 31,
    "start_time": "2021-09-08T01:35:44.436Z"
   },
   {
    "duration": 13,
    "start_time": "2021-09-08T01:35:44.469Z"
   },
   {
    "duration": 31,
    "start_time": "2021-09-08T01:35:44.485Z"
   },
   {
    "duration": 15,
    "start_time": "2021-09-08T01:35:44.518Z"
   },
   {
    "duration": 43,
    "start_time": "2021-09-08T01:35:44.567Z"
   },
   {
    "duration": 3,
    "start_time": "2021-09-08T01:35:44.612Z"
   },
   {
    "duration": 13,
    "start_time": "2021-09-08T01:35:44.618Z"
   },
   {
    "duration": 43,
    "start_time": "2021-09-08T01:35:44.633Z"
   },
   {
    "duration": 380,
    "start_time": "2021-09-08T01:35:44.678Z"
   },
   {
    "duration": 1694,
    "start_time": "2021-09-08T01:35:43.366Z"
   },
   {
    "duration": 1693,
    "start_time": "2021-09-08T01:35:43.369Z"
   },
   {
    "duration": 1691,
    "start_time": "2021-09-08T01:35:43.372Z"
   },
   {
    "duration": 92,
    "start_time": "2021-09-08T01:35:58.033Z"
   },
   {
    "duration": 16,
    "start_time": "2021-09-08T01:35:59.647Z"
   },
   {
    "duration": 32,
    "start_time": "2021-09-08T01:36:04.401Z"
   },
   {
    "duration": 10757,
    "start_time": "2021-09-08T01:36:15.364Z"
   },
   {
    "duration": 437,
    "start_time": "2021-09-08T01:37:57.697Z"
   },
   {
    "duration": 32,
    "start_time": "2021-09-08T01:38:09.845Z"
   },
   {
    "duration": 426,
    "start_time": "2021-09-08T01:38:30.622Z"
   },
   {
    "duration": 32,
    "start_time": "2021-09-08T01:38:47.303Z"
   },
   {
    "duration": 18,
    "start_time": "2021-09-08T01:38:53.908Z"
   },
   {
    "duration": 30,
    "start_time": "2021-09-08T01:39:18.305Z"
   },
   {
    "duration": 6,
    "start_time": "2021-09-08T01:40:17.362Z"
   },
   {
    "duration": 40,
    "start_time": "2021-09-08T01:40:18.420Z"
   },
   {
    "duration": 34,
    "start_time": "2021-09-08T01:40:18.958Z"
   },
   {
    "duration": 216,
    "start_time": "2021-09-08T01:40:33.284Z"
   },
   {
    "duration": 11,
    "start_time": "2021-09-08T01:40:33.503Z"
   },
   {
    "duration": 220,
    "start_time": "2021-09-08T01:40:33.518Z"
   },
   {
    "duration": 11,
    "start_time": "2021-09-08T01:40:33.741Z"
   },
   {
    "duration": 125,
    "start_time": "2021-09-08T01:40:33.767Z"
   },
   {
    "duration": 10,
    "start_time": "2021-09-08T01:40:33.894Z"
   },
   {
    "duration": 35,
    "start_time": "2021-09-08T01:40:33.906Z"
   },
   {
    "duration": 27,
    "start_time": "2021-09-08T01:40:33.944Z"
   },
   {
    "duration": 31,
    "start_time": "2021-09-08T01:40:33.978Z"
   },
   {
    "duration": 14,
    "start_time": "2021-09-08T01:40:34.013Z"
   },
   {
    "duration": 51,
    "start_time": "2021-09-08T01:40:34.030Z"
   },
   {
    "duration": 4,
    "start_time": "2021-09-08T01:40:34.083Z"
   },
   {
    "duration": 44,
    "start_time": "2021-09-08T01:40:34.089Z"
   },
   {
    "duration": 35,
    "start_time": "2021-09-08T01:40:34.136Z"
   },
   {
    "duration": 21,
    "start_time": "2021-09-08T01:40:34.174Z"
   },
   {
    "duration": 33,
    "start_time": "2021-09-08T01:40:34.198Z"
   },
   {
    "duration": 42,
    "start_time": "2021-09-08T01:40:34.233Z"
   },
   {
    "duration": 44,
    "start_time": "2021-09-08T01:40:34.278Z"
   },
   {
    "duration": 5,
    "start_time": "2021-09-08T01:40:34.325Z"
   },
   {
    "duration": 44,
    "start_time": "2021-09-08T01:40:34.333Z"
   },
   {
    "duration": 17,
    "start_time": "2021-09-08T01:40:34.380Z"
   },
   {
    "duration": 123,
    "start_time": "2021-09-08T01:40:34.400Z"
   },
   {
    "duration": 17,
    "start_time": "2021-09-08T01:40:34.526Z"
   },
   {
    "duration": 51,
    "start_time": "2021-09-08T01:40:34.546Z"
   },
   {
    "duration": 4,
    "start_time": "2021-09-08T01:40:34.600Z"
   },
   {
    "duration": 65,
    "start_time": "2021-09-08T01:40:34.607Z"
   },
   {
    "duration": 34,
    "start_time": "2021-09-08T01:40:34.676Z"
   },
   {
    "duration": 218,
    "start_time": "2021-09-08T01:41:21.354Z"
   },
   {
    "duration": 11,
    "start_time": "2021-09-08T01:41:21.574Z"
   },
   {
    "duration": 209,
    "start_time": "2021-09-08T01:41:21.588Z"
   },
   {
    "duration": 12,
    "start_time": "2021-09-08T01:41:21.799Z"
   },
   {
    "duration": 142,
    "start_time": "2021-09-08T01:41:21.813Z"
   },
   {
    "duration": 13,
    "start_time": "2021-09-08T01:41:21.958Z"
   },
   {
    "duration": 32,
    "start_time": "2021-09-08T01:41:21.974Z"
   },
   {
    "duration": 15,
    "start_time": "2021-09-08T01:41:22.009Z"
   },
   {
    "duration": 41,
    "start_time": "2021-09-08T01:41:22.028Z"
   },
   {
    "duration": 15,
    "start_time": "2021-09-08T01:41:22.072Z"
   },
   {
    "duration": 36,
    "start_time": "2021-09-08T01:41:22.090Z"
   },
   {
    "duration": 3,
    "start_time": "2021-09-08T01:41:22.129Z"
   },
   {
    "duration": 71,
    "start_time": "2021-09-08T01:41:22.135Z"
   },
   {
    "duration": 12,
    "start_time": "2021-09-08T01:41:22.209Z"
   },
   {
    "duration": 21,
    "start_time": "2021-09-08T01:41:22.224Z"
   },
   {
    "duration": 31,
    "start_time": "2021-09-08T01:41:22.268Z"
   },
   {
    "duration": 17,
    "start_time": "2021-09-08T01:41:22.302Z"
   },
   {
    "duration": 79,
    "start_time": "2021-09-08T01:41:22.322Z"
   },
   {
    "duration": 4,
    "start_time": "2021-09-08T01:41:22.404Z"
   },
   {
    "duration": 19,
    "start_time": "2021-09-08T01:41:22.411Z"
   },
   {
    "duration": 36,
    "start_time": "2021-09-08T01:41:22.432Z"
   },
   {
    "duration": 102,
    "start_time": "2021-09-08T01:41:22.471Z"
   },
   {
    "duration": 17,
    "start_time": "2021-09-08T01:41:22.576Z"
   },
   {
    "duration": 40,
    "start_time": "2021-09-08T01:41:22.595Z"
   },
   {
    "duration": 6,
    "start_time": "2021-09-08T01:41:22.638Z"
   },
   {
    "duration": 38,
    "start_time": "2021-09-08T01:41:22.668Z"
   },
   {
    "duration": 57,
    "start_time": "2021-09-08T01:41:22.711Z"
   },
   {
    "duration": 33,
    "start_time": "2021-09-08T01:41:22.771Z"
   },
   {
    "duration": 9,
    "start_time": "2021-09-08T01:43:04.989Z"
   },
   {
    "duration": 35,
    "start_time": "2021-09-08T01:43:07.367Z"
   },
   {
    "duration": 109,
    "start_time": "2021-09-08T01:43:45.105Z"
   },
   {
    "duration": 8,
    "start_time": "2021-09-08T01:43:50.870Z"
   },
   {
    "duration": 31,
    "start_time": "2021-09-08T01:43:52.053Z"
   },
   {
    "duration": 17,
    "start_time": "2021-09-08T01:44:56.147Z"
   },
   {
    "duration": 15,
    "start_time": "2021-09-08T01:45:20.036Z"
   },
   {
    "duration": 18,
    "start_time": "2021-09-08T01:46:34.125Z"
   },
   {
    "duration": 217,
    "start_time": "2021-09-08T01:46:56.719Z"
   },
   {
    "duration": 11,
    "start_time": "2021-09-08T01:46:56.939Z"
   },
   {
    "duration": 199,
    "start_time": "2021-09-08T01:46:56.968Z"
   },
   {
    "duration": 12,
    "start_time": "2021-09-08T01:46:57.170Z"
   },
   {
    "duration": 139,
    "start_time": "2021-09-08T01:46:57.184Z"
   },
   {
    "duration": 64,
    "start_time": "2021-09-08T01:46:57.325Z"
   },
   {
    "duration": 24,
    "start_time": "2021-09-08T01:46:57.391Z"
   },
   {
    "duration": 15,
    "start_time": "2021-09-08T01:46:57.418Z"
   },
   {
    "duration": 35,
    "start_time": "2021-09-08T01:46:57.437Z"
   },
   {
    "duration": 14,
    "start_time": "2021-09-08T01:46:57.475Z"
   },
   {
    "duration": 34,
    "start_time": "2021-09-08T01:46:57.491Z"
   },
   {
    "duration": 3,
    "start_time": "2021-09-08T01:46:57.527Z"
   },
   {
    "duration": 64,
    "start_time": "2021-09-08T01:46:57.532Z"
   },
   {
    "duration": 12,
    "start_time": "2021-09-08T01:46:57.598Z"
   },
   {
    "duration": 13,
    "start_time": "2021-09-08T01:46:57.612Z"
   },
   {
    "duration": 57,
    "start_time": "2021-09-08T01:46:57.628Z"
   },
   {
    "duration": 15,
    "start_time": "2021-09-08T01:46:57.687Z"
   },
   {
    "duration": 65,
    "start_time": "2021-09-08T01:46:57.704Z"
   },
   {
    "duration": 4,
    "start_time": "2021-09-08T01:46:57.772Z"
   },
   {
    "duration": 16,
    "start_time": "2021-09-08T01:46:57.778Z"
   },
   {
    "duration": 16,
    "start_time": "2021-09-08T01:46:57.796Z"
   },
   {
    "duration": 122,
    "start_time": "2021-09-08T01:46:57.815Z"
   },
   {
    "duration": 27,
    "start_time": "2021-09-08T01:46:57.940Z"
   },
   {
    "duration": 35,
    "start_time": "2021-09-08T01:46:57.969Z"
   },
   {
    "duration": 31,
    "start_time": "2021-09-08T01:46:58.007Z"
   },
   {
    "duration": 30,
    "start_time": "2021-09-08T01:46:58.040Z"
   },
   {
    "duration": 20,
    "start_time": "2021-09-08T01:46:58.074Z"
   },
   {
    "duration": 14,
    "start_time": "2021-09-08T01:46:58.097Z"
   },
   {
    "duration": 65,
    "start_time": "2021-09-08T01:46:58.113Z"
   },
   {
    "duration": 287,
    "start_time": "2021-09-08T01:52:50.846Z"
   },
   {
    "duration": 31,
    "start_time": "2021-09-08T01:53:00.415Z"
   },
   {
    "duration": 19,
    "start_time": "2021-09-08T01:54:31.176Z"
   },
   {
    "duration": 8,
    "start_time": "2021-09-08T01:54:35.604Z"
   },
   {
    "duration": 25,
    "start_time": "2021-09-08T01:54:35.803Z"
   },
   {
    "duration": 19,
    "start_time": "2021-09-08T01:54:36.148Z"
   },
   {
    "duration": 938,
    "start_time": "2021-09-08T01:56:22.235Z"
   },
   {
    "duration": 24,
    "start_time": "2021-09-08T01:56:31.768Z"
   },
   {
    "duration": 18,
    "start_time": "2021-09-08T01:56:32.869Z"
   },
   {
    "duration": 293,
    "start_time": "2021-09-08T01:57:35.337Z"
   },
   {
    "duration": 24,
    "start_time": "2021-09-08T01:57:42.228Z"
   },
   {
    "duration": 23,
    "start_time": "2021-09-08T01:57:53.265Z"
   },
   {
    "duration": 336,
    "start_time": "2021-09-08T01:59:30.628Z"
   },
   {
    "duration": 116,
    "start_time": "2021-09-08T01:59:38.776Z"
   },
   {
    "duration": 26,
    "start_time": "2021-09-08T01:59:42.785Z"
   },
   {
    "duration": 28,
    "start_time": "2021-09-08T02:00:00.525Z"
   },
   {
    "duration": 12,
    "start_time": "2021-09-08T02:00:21.141Z"
   },
   {
    "duration": 34,
    "start_time": "2021-09-08T02:07:11.514Z"
   },
   {
    "duration": 8603,
    "start_time": "2021-09-08T02:10:35.709Z"
   },
   {
    "duration": 16,
    "start_time": "2021-09-08T02:10:50.093Z"
   },
   {
    "duration": 88,
    "start_time": "2021-09-08T02:10:50.957Z"
   },
   {
    "duration": 22,
    "start_time": "2021-09-08T02:10:52.922Z"
   },
   {
    "duration": 4,
    "start_time": "2021-09-08T02:11:08.364Z"
   },
   {
    "duration": 22,
    "start_time": "2021-09-08T02:11:09.016Z"
   },
   {
    "duration": 88,
    "start_time": "2021-09-08T02:11:09.360Z"
   },
   {
    "duration": 21,
    "start_time": "2021-09-08T02:11:10.166Z"
   },
   {
    "duration": 16,
    "start_time": "2021-09-08T02:12:32.161Z"
   },
   {
    "duration": 11,
    "start_time": "2021-09-08T02:15:03.370Z"
   },
   {
    "duration": 15,
    "start_time": "2021-09-08T02:15:11.278Z"
   },
   {
    "duration": 204,
    "start_time": "2021-09-08T02:20:37.493Z"
   },
   {
    "duration": 10,
    "start_time": "2021-09-08T02:20:37.700Z"
   },
   {
    "duration": 192,
    "start_time": "2021-09-08T02:20:37.713Z"
   },
   {
    "duration": 12,
    "start_time": "2021-09-08T02:20:37.908Z"
   },
   {
    "duration": 137,
    "start_time": "2021-09-08T02:20:37.922Z"
   },
   {
    "duration": 11,
    "start_time": "2021-09-08T02:20:38.061Z"
   },
   {
    "duration": 33,
    "start_time": "2021-09-08T02:20:38.074Z"
   },
   {
    "duration": 17,
    "start_time": "2021-09-08T02:20:38.109Z"
   },
   {
    "duration": 32,
    "start_time": "2021-09-08T02:20:38.130Z"
   },
   {
    "duration": 14,
    "start_time": "2021-09-08T02:20:38.168Z"
   },
   {
    "duration": 30,
    "start_time": "2021-09-08T02:20:38.185Z"
   },
   {
    "duration": 3,
    "start_time": "2021-09-08T02:20:38.217Z"
   },
   {
    "duration": 69,
    "start_time": "2021-09-08T02:20:38.223Z"
   },
   {
    "duration": 12,
    "start_time": "2021-09-08T02:20:38.295Z"
   },
   {
    "duration": 16,
    "start_time": "2021-09-08T02:20:38.309Z"
   },
   {
    "duration": 53,
    "start_time": "2021-09-08T02:20:38.327Z"
   },
   {
    "duration": 16,
    "start_time": "2021-09-08T02:20:38.382Z"
   },
   {
    "duration": 66,
    "start_time": "2021-09-08T02:20:38.400Z"
   },
   {
    "duration": 32,
    "start_time": "2021-09-08T02:20:38.469Z"
   },
   {
    "duration": 24,
    "start_time": "2021-09-08T02:20:38.504Z"
   },
   {
    "duration": 42,
    "start_time": "2021-09-08T02:20:38.530Z"
   },
   {
    "duration": 4,
    "start_time": "2021-09-08T02:20:38.574Z"
   },
   {
    "duration": 26,
    "start_time": "2021-09-08T02:20:38.580Z"
   },
   {
    "duration": 106,
    "start_time": "2021-09-08T02:20:38.609Z"
   },
   {
    "duration": 16,
    "start_time": "2021-09-08T02:20:38.717Z"
   },
   {
    "duration": 327,
    "start_time": "2021-09-08T02:20:38.735Z"
   },
   {
    "duration": 1756,
    "start_time": "2021-09-08T02:20:37.309Z"
   },
   {
    "duration": 16,
    "start_time": "2021-09-08T02:20:57.555Z"
   },
   {
    "duration": 35,
    "start_time": "2021-09-08T02:24:11.162Z"
   },
   {
    "duration": 437,
    "start_time": "2021-09-08T02:26:44.076Z"
   },
   {
    "duration": 329,
    "start_time": "2021-09-08T02:27:15.719Z"
   },
   {
    "duration": 382,
    "start_time": "2021-09-08T02:27:25.473Z"
   },
   {
    "duration": 26,
    "start_time": "2021-09-08T02:28:50.936Z"
   },
   {
    "duration": 17,
    "start_time": "2021-09-08T02:28:56.316Z"
   },
   {
    "duration": 9042,
    "start_time": "2021-09-08T02:29:31.483Z"
   },
   {
    "duration": 352,
    "start_time": "2021-09-08T02:30:04.139Z"
   },
   {
    "duration": 371,
    "start_time": "2021-09-08T02:31:07.080Z"
   },
   {
    "duration": 402,
    "start_time": "2021-09-08T02:31:14.603Z"
   },
   {
    "duration": 326,
    "start_time": "2021-09-08T02:31:32.586Z"
   },
   {
    "duration": 222,
    "start_time": "2021-09-08T02:32:45.736Z"
   },
   {
    "duration": 16,
    "start_time": "2021-09-08T02:32:45.960Z"
   },
   {
    "duration": 231,
    "start_time": "2021-09-08T02:32:45.980Z"
   },
   {
    "duration": 12,
    "start_time": "2021-09-08T02:32:46.214Z"
   },
   {
    "duration": 149,
    "start_time": "2021-09-08T02:32:46.230Z"
   },
   {
    "duration": 12,
    "start_time": "2021-09-08T02:32:46.382Z"
   },
   {
    "duration": 22,
    "start_time": "2021-09-08T02:32:46.396Z"
   },
   {
    "duration": 14,
    "start_time": "2021-09-08T02:32:46.422Z"
   },
   {
    "duration": 58,
    "start_time": "2021-09-08T02:32:46.439Z"
   },
   {
    "duration": 14,
    "start_time": "2021-09-08T02:32:46.500Z"
   },
   {
    "duration": 33,
    "start_time": "2021-09-08T02:32:46.516Z"
   },
   {
    "duration": 3,
    "start_time": "2021-09-08T02:32:46.551Z"
   },
   {
    "duration": 45,
    "start_time": "2021-09-08T02:32:46.567Z"
   },
   {
    "duration": 18,
    "start_time": "2021-09-08T02:32:46.615Z"
   },
   {
    "duration": 41,
    "start_time": "2021-09-08T02:32:46.637Z"
   },
   {
    "duration": 36,
    "start_time": "2021-09-08T02:32:46.680Z"
   },
   {
    "duration": 15,
    "start_time": "2021-09-08T02:32:46.719Z"
   },
   {
    "duration": 73,
    "start_time": "2021-09-08T02:32:46.736Z"
   },
   {
    "duration": 30,
    "start_time": "2021-09-08T02:32:46.811Z"
   },
   {
    "duration": 40,
    "start_time": "2021-09-08T02:32:46.844Z"
   },
   {
    "duration": 15,
    "start_time": "2021-09-08T02:32:46.887Z"
   },
   {
    "duration": 7,
    "start_time": "2021-09-08T02:32:46.905Z"
   },
   {
    "duration": 54,
    "start_time": "2021-09-08T02:32:46.916Z"
   },
   {
    "duration": 102,
    "start_time": "2021-09-08T02:32:46.972Z"
   },
   {
    "duration": 16,
    "start_time": "2021-09-08T02:32:47.077Z"
   },
   {
    "duration": 493,
    "start_time": "2021-09-08T02:32:47.096Z"
   },
   {
    "duration": 1777,
    "start_time": "2021-09-08T02:32:45.814Z"
   },
   {
    "duration": 16,
    "start_time": "2021-09-08T02:32:59.846Z"
   },
   {
    "duration": 17,
    "start_time": "2021-09-08T02:33:45.446Z"
   },
   {
    "duration": 17,
    "start_time": "2021-09-08T02:33:56.282Z"
   },
   {
    "duration": 807,
    "start_time": "2021-09-08T02:34:12.201Z"
   },
   {
    "duration": 427,
    "start_time": "2021-09-08T02:35:07.444Z"
   },
   {
    "duration": 37,
    "start_time": "2021-09-08T02:35:18.885Z"
   },
   {
    "duration": 26,
    "start_time": "2021-09-08T02:35:20.041Z"
   },
   {
    "duration": 945,
    "start_time": "2021-09-08T02:37:37.283Z"
   },
   {
    "duration": 14,
    "start_time": "2021-09-08T02:37:48.156Z"
   },
   {
    "duration": 1001,
    "start_time": "2021-09-08T02:38:09.425Z"
   },
   {
    "duration": 6,
    "start_time": "2021-09-08T02:38:11.501Z"
   },
   {
    "duration": 950,
    "start_time": "2021-09-08T02:38:40.772Z"
   },
   {
    "duration": 12,
    "start_time": "2021-09-08T02:38:41.725Z"
   },
   {
    "duration": 384,
    "start_time": "2021-09-08T02:39:08.419Z"
   },
   {
    "duration": 951,
    "start_time": "2021-09-08T02:39:42.444Z"
   },
   {
    "duration": 11,
    "start_time": "2021-09-08T02:39:43.398Z"
   },
   {
    "duration": 933,
    "start_time": "2021-09-08T02:40:22.027Z"
   },
   {
    "duration": 12,
    "start_time": "2021-09-08T02:40:22.966Z"
   },
   {
    "duration": 393,
    "start_time": "2021-09-08T02:40:37.919Z"
   },
   {
    "duration": 428,
    "start_time": "2021-09-08T02:40:42.896Z"
   },
   {
    "duration": 8,
    "start_time": "2021-09-08T02:40:53.493Z"
   },
   {
    "duration": 5,
    "start_time": "2021-09-08T02:43:36.213Z"
   },
   {
    "duration": 26,
    "start_time": "2021-09-08T02:44:06.466Z"
   },
   {
    "duration": 6,
    "start_time": "2021-09-08T02:44:26.998Z"
   },
   {
    "duration": 927,
    "start_time": "2021-09-08T02:44:33.608Z"
   },
   {
    "duration": 7,
    "start_time": "2021-09-08T02:44:34.538Z"
   },
   {
    "duration": 13,
    "start_time": "2021-09-08T02:44:52.597Z"
   },
   {
    "duration": 6,
    "start_time": "2021-09-08T02:45:04.038Z"
   },
   {
    "duration": 30,
    "start_time": "2021-09-08T02:46:26.611Z"
   },
   {
    "duration": 7,
    "start_time": "2021-09-08T02:50:45.735Z"
   },
   {
    "duration": 208,
    "start_time": "2021-09-08T02:51:34.511Z"
   },
   {
    "duration": 12,
    "start_time": "2021-09-08T02:51:34.722Z"
   },
   {
    "duration": 199,
    "start_time": "2021-09-08T02:51:34.737Z"
   },
   {
    "duration": 12,
    "start_time": "2021-09-08T02:51:34.939Z"
   },
   {
    "duration": 140,
    "start_time": "2021-09-08T02:51:34.953Z"
   },
   {
    "duration": 10,
    "start_time": "2021-09-08T02:51:35.095Z"
   },
   {
    "duration": 22,
    "start_time": "2021-09-08T02:51:35.107Z"
   },
   {
    "duration": 37,
    "start_time": "2021-09-08T02:51:35.132Z"
   },
   {
    "duration": 30,
    "start_time": "2021-09-08T02:51:35.173Z"
   },
   {
    "duration": 13,
    "start_time": "2021-09-08T02:51:35.206Z"
   },
   {
    "duration": 46,
    "start_time": "2021-09-08T02:51:35.222Z"
   },
   {
    "duration": 3,
    "start_time": "2021-09-08T02:51:35.270Z"
   },
   {
    "duration": 41,
    "start_time": "2021-09-08T02:51:35.276Z"
   },
   {
    "duration": 12,
    "start_time": "2021-09-08T02:51:35.320Z"
   },
   {
    "duration": 40,
    "start_time": "2021-09-08T02:51:35.334Z"
   },
   {
    "duration": 29,
    "start_time": "2021-09-08T02:51:35.377Z"
   },
   {
    "duration": 15,
    "start_time": "2021-09-08T02:51:35.409Z"
   },
   {
    "duration": 80,
    "start_time": "2021-09-08T02:51:35.426Z"
   },
   {
    "duration": 32,
    "start_time": "2021-09-08T02:51:35.509Z"
   },
   {
    "duration": 41,
    "start_time": "2021-09-08T02:51:35.543Z"
   },
   {
    "duration": 15,
    "start_time": "2021-09-08T02:51:35.587Z"
   },
   {
    "duration": 6,
    "start_time": "2021-09-08T02:51:35.605Z"
   },
   {
    "duration": 29,
    "start_time": "2021-09-08T02:51:35.613Z"
   },
   {
    "duration": 101,
    "start_time": "2021-09-08T02:51:35.668Z"
   },
   {
    "duration": 16,
    "start_time": "2021-09-08T02:51:35.772Z"
   },
   {
    "duration": 36,
    "start_time": "2021-09-08T02:51:35.791Z"
   },
   {
    "duration": 6,
    "start_time": "2021-09-08T02:51:35.832Z"
   },
   {
    "duration": 52,
    "start_time": "2021-09-08T02:51:35.841Z"
   },
   {
    "duration": 301,
    "start_time": "2021-09-08T02:52:40.603Z"
   },
   {
    "duration": 228,
    "start_time": "2021-09-08T02:57:40.253Z"
   },
   {
    "duration": 11,
    "start_time": "2021-09-08T02:57:40.484Z"
   },
   {
    "duration": 213,
    "start_time": "2021-09-08T02:57:40.499Z"
   },
   {
    "duration": 13,
    "start_time": "2021-09-08T02:57:40.716Z"
   },
   {
    "duration": 141,
    "start_time": "2021-09-08T02:57:40.731Z"
   },
   {
    "duration": 11,
    "start_time": "2021-09-08T02:57:40.874Z"
   },
   {
    "duration": 22,
    "start_time": "2021-09-08T02:57:40.887Z"
   },
   {
    "duration": 12,
    "start_time": "2021-09-08T02:57:40.911Z"
   },
   {
    "duration": 46,
    "start_time": "2021-09-08T02:57:40.927Z"
   },
   {
    "duration": 16,
    "start_time": "2021-09-08T02:57:40.976Z"
   },
   {
    "duration": 31,
    "start_time": "2021-09-08T02:57:40.995Z"
   },
   {
    "duration": 3,
    "start_time": "2021-09-08T02:57:41.029Z"
   },
   {
    "duration": 72,
    "start_time": "2021-09-08T02:57:41.035Z"
   },
   {
    "duration": 12,
    "start_time": "2021-09-08T02:57:41.109Z"
   },
   {
    "duration": 46,
    "start_time": "2021-09-08T02:57:41.123Z"
   },
   {
    "duration": 28,
    "start_time": "2021-09-08T02:57:41.171Z"
   },
   {
    "duration": 15,
    "start_time": "2021-09-08T02:57:41.201Z"
   },
   {
    "duration": 77,
    "start_time": "2021-09-08T02:57:41.219Z"
   },
   {
    "duration": 32,
    "start_time": "2021-09-08T02:57:41.299Z"
   },
   {
    "duration": 41,
    "start_time": "2021-09-08T02:57:41.333Z"
   },
   {
    "duration": 15,
    "start_time": "2021-09-08T02:57:41.376Z"
   },
   {
    "duration": 6,
    "start_time": "2021-09-08T02:57:41.393Z"
   },
   {
    "duration": 23,
    "start_time": "2021-09-08T02:57:41.401Z"
   },
   {
    "duration": 124,
    "start_time": "2021-09-08T02:57:41.427Z"
   },
   {
    "duration": 28,
    "start_time": "2021-09-08T02:57:41.553Z"
   },
   {
    "duration": 42,
    "start_time": "2021-09-08T02:57:41.584Z"
   },
   {
    "duration": 321,
    "start_time": "2021-09-08T02:57:41.632Z"
   },
   {
    "duration": 1816,
    "start_time": "2021-09-08T02:57:40.141Z"
   },
   {
    "duration": 27,
    "start_time": "2021-09-08T02:57:52.783Z"
   },
   {
    "duration": 9,
    "start_time": "2021-09-08T02:57:54.116Z"
   },
   {
    "duration": 8,
    "start_time": "2021-09-08T02:59:32.696Z"
   },
   {
    "duration": 218,
    "start_time": "2021-09-08T03:00:24.797Z"
   },
   {
    "duration": 10,
    "start_time": "2021-09-08T03:00:25.018Z"
   },
   {
    "duration": 217,
    "start_time": "2021-09-08T03:00:25.031Z"
   },
   {
    "duration": 20,
    "start_time": "2021-09-08T03:00:25.251Z"
   },
   {
    "duration": 129,
    "start_time": "2021-09-08T03:00:25.273Z"
   },
   {
    "duration": 12,
    "start_time": "2021-09-08T03:00:25.405Z"
   },
   {
    "duration": 23,
    "start_time": "2021-09-08T03:00:25.420Z"
   },
   {
    "duration": 13,
    "start_time": "2021-09-08T03:00:25.467Z"
   },
   {
    "duration": 31,
    "start_time": "2021-09-08T03:00:25.487Z"
   },
   {
    "duration": 15,
    "start_time": "2021-09-08T03:00:25.522Z"
   },
   {
    "duration": 57,
    "start_time": "2021-09-08T03:00:25.539Z"
   },
   {
    "duration": 3,
    "start_time": "2021-09-08T03:00:25.598Z"
   },
   {
    "duration": 65,
    "start_time": "2021-09-08T03:00:25.603Z"
   },
   {
    "duration": 12,
    "start_time": "2021-09-08T03:00:25.670Z"
   },
   {
    "duration": 14,
    "start_time": "2021-09-08T03:00:25.685Z"
   },
   {
    "duration": 31,
    "start_time": "2021-09-08T03:00:25.702Z"
   },
   {
    "duration": 44,
    "start_time": "2021-09-08T03:00:25.735Z"
   },
   {
    "duration": 45,
    "start_time": "2021-09-08T03:00:25.782Z"
   },
   {
    "duration": 56,
    "start_time": "2021-09-08T03:00:25.829Z"
   },
   {
    "duration": 24,
    "start_time": "2021-09-08T03:00:25.888Z"
   },
   {
    "duration": 16,
    "start_time": "2021-09-08T03:00:25.915Z"
   },
   {
    "duration": 32,
    "start_time": "2021-09-08T03:00:25.934Z"
   },
   {
    "duration": 24,
    "start_time": "2021-09-08T03:00:25.969Z"
   },
   {
    "duration": 104,
    "start_time": "2021-09-08T03:00:25.996Z"
   },
   {
    "duration": 18,
    "start_time": "2021-09-08T03:00:26.103Z"
   },
   {
    "duration": 58,
    "start_time": "2021-09-08T03:00:26.123Z"
   },
   {
    "duration": 45,
    "start_time": "2021-09-08T03:00:26.185Z"
   },
   {
    "duration": 9,
    "start_time": "2021-09-08T03:00:26.232Z"
   },
   {
    "duration": 33,
    "start_time": "2021-09-08T03:00:26.243Z"
   },
   {
    "duration": 6,
    "start_time": "2021-09-08T03:01:14.142Z"
   },
   {
    "duration": 5,
    "start_time": "2021-09-08T03:01:26.991Z"
   },
   {
    "duration": 9,
    "start_time": "2021-09-08T03:02:20.688Z"
   },
   {
    "duration": 7,
    "start_time": "2021-09-08T03:02:21.294Z"
   },
   {
    "duration": 8,
    "start_time": "2021-09-08T03:02:50.629Z"
   },
   {
    "duration": 5,
    "start_time": "2021-09-08T03:03:26.515Z"
   },
   {
    "duration": 7,
    "start_time": "2021-09-08T03:03:34.479Z"
   },
   {
    "duration": 7,
    "start_time": "2021-09-08T03:04:14.304Z"
   },
   {
    "duration": 6,
    "start_time": "2021-09-08T03:05:51.180Z"
   },
   {
    "duration": 366,
    "start_time": "2021-09-08T03:06:10.076Z"
   },
   {
    "duration": 7,
    "start_time": "2021-09-08T03:06:20.590Z"
   },
   {
    "duration": 1210,
    "start_time": "2021-09-08T23:33:02.580Z"
   },
   {
    "duration": 16,
    "start_time": "2021-09-08T23:33:03.792Z"
   },
   {
    "duration": 201,
    "start_time": "2021-09-08T23:33:03.811Z"
   },
   {
    "duration": 12,
    "start_time": "2021-09-08T23:33:04.014Z"
   },
   {
    "duration": 139,
    "start_time": "2021-09-08T23:33:04.028Z"
   },
   {
    "duration": 10,
    "start_time": "2021-09-08T23:33:04.169Z"
   },
   {
    "duration": 26,
    "start_time": "2021-09-08T23:33:04.181Z"
   },
   {
    "duration": 20,
    "start_time": "2021-09-08T23:33:04.211Z"
   },
   {
    "duration": 46,
    "start_time": "2021-09-08T23:33:04.234Z"
   },
   {
    "duration": 15,
    "start_time": "2021-09-08T23:33:04.282Z"
   },
   {
    "duration": 35,
    "start_time": "2021-09-08T23:33:04.300Z"
   },
   {
    "duration": 3,
    "start_time": "2021-09-08T23:33:04.337Z"
   },
   {
    "duration": 69,
    "start_time": "2021-09-08T23:33:04.343Z"
   },
   {
    "duration": 12,
    "start_time": "2021-09-08T23:33:04.414Z"
   },
   {
    "duration": 41,
    "start_time": "2021-09-08T23:33:04.428Z"
   },
   {
    "duration": 30,
    "start_time": "2021-09-08T23:33:04.471Z"
   },
   {
    "duration": 14,
    "start_time": "2021-09-08T23:33:04.504Z"
   },
   {
    "duration": 87,
    "start_time": "2021-09-08T23:33:04.520Z"
   },
   {
    "duration": 31,
    "start_time": "2021-09-08T23:33:04.609Z"
   },
   {
    "duration": 41,
    "start_time": "2021-09-08T23:33:04.643Z"
   },
   {
    "duration": 16,
    "start_time": "2021-09-08T23:33:04.687Z"
   },
   {
    "duration": 27,
    "start_time": "2021-09-08T23:33:04.706Z"
   },
   {
    "duration": 16,
    "start_time": "2021-09-08T23:33:04.737Z"
   },
   {
    "duration": 32,
    "start_time": "2021-09-08T23:33:04.756Z"
   },
   {
    "duration": 109,
    "start_time": "2021-09-08T23:33:04.791Z"
   },
   {
    "duration": 17,
    "start_time": "2021-09-08T23:33:04.903Z"
   },
   {
    "duration": 15,
    "start_time": "2021-09-08T23:33:04.923Z"
   },
   {
    "duration": 58,
    "start_time": "2021-09-08T23:33:04.940Z"
   },
   {
    "duration": 52,
    "start_time": "2021-09-08T23:33:05.000Z"
   },
   {
    "duration": 17,
    "start_time": "2021-09-08T23:33:05.055Z"
   },
   {
    "duration": 7,
    "start_time": "2021-09-08T23:33:05.075Z"
   },
   {
    "duration": 10,
    "start_time": "2021-09-08T23:33:05.084Z"
   },
   {
    "duration": 13,
    "start_time": "2021-09-08T23:33:05.096Z"
   },
   {
    "duration": 43,
    "start_time": "2021-09-08T23:34:34.413Z"
   },
   {
    "duration": 11,
    "start_time": "2021-09-08T23:34:44.953Z"
   },
   {
    "duration": 38,
    "start_time": "2021-09-08T23:34:57.963Z"
   },
   {
    "duration": 12,
    "start_time": "2021-09-08T23:34:58.471Z"
   },
   {
    "duration": 13,
    "start_time": "2021-09-08T23:35:04.649Z"
   },
   {
    "duration": 448,
    "start_time": "2021-09-08T23:36:20.714Z"
   },
   {
    "duration": 12,
    "start_time": "2021-09-08T23:36:24.565Z"
   },
   {
    "duration": 36,
    "start_time": "2021-09-08T23:36:37.688Z"
   },
   {
    "duration": 19,
    "start_time": "2021-09-08T23:36:46.650Z"
   },
   {
    "duration": 8,
    "start_time": "2021-09-08T23:37:18.158Z"
   },
   {
    "duration": 8,
    "start_time": "2021-09-08T23:37:33.645Z"
   },
   {
    "duration": 15,
    "start_time": "2021-09-08T23:37:56.787Z"
   },
   {
    "duration": 14,
    "start_time": "2021-09-08T23:39:06.274Z"
   },
   {
    "duration": 24,
    "start_time": "2021-09-08T23:39:37.652Z"
   },
   {
    "duration": 12,
    "start_time": "2021-09-08T23:39:46.442Z"
   },
   {
    "duration": 3,
    "start_time": "2021-09-08T23:40:54.312Z"
   },
   {
    "duration": 28,
    "start_time": "2021-09-08T23:43:30.329Z"
   },
   {
    "duration": 13,
    "start_time": "2021-09-08T23:43:38.451Z"
   },
   {
    "duration": 4,
    "start_time": "2021-09-08T23:44:12.188Z"
   },
   {
    "duration": -342,
    "start_time": "2021-09-08T23:47:29.006Z"
   },
   {
    "duration": -344,
    "start_time": "2021-09-08T23:47:29.010Z"
   },
   {
    "duration": 15,
    "start_time": "2021-09-08T23:47:33.191Z"
   },
   {
    "duration": 8338,
    "start_time": "2021-09-08T23:47:44.504Z"
   },
   {
    "duration": -282,
    "start_time": "2021-09-08T23:47:53.127Z"
   },
   {
    "duration": 44,
    "start_time": "2021-09-08T23:48:01.407Z"
   },
   {
    "duration": 32,
    "start_time": "2021-09-08T23:48:02.049Z"
   },
   {
    "duration": 16,
    "start_time": "2021-09-08T23:48:02.919Z"
   },
   {
    "duration": 8519,
    "start_time": "2021-09-08T23:48:52.314Z"
   },
   {
    "duration": 29,
    "start_time": "2021-09-08T23:49:09.943Z"
   },
   {
    "duration": 22,
    "start_time": "2021-09-08T23:49:10.558Z"
   },
   {
    "duration": 14,
    "start_time": "2021-09-08T23:49:11.290Z"
   },
   {
    "duration": 15,
    "start_time": "2021-09-08T23:50:34.969Z"
   },
   {
    "duration": 16,
    "start_time": "2021-09-08T23:52:23.383Z"
   },
   {
    "duration": 4,
    "start_time": "2021-09-08T23:52:24.126Z"
   },
   {
    "duration": 46,
    "start_time": "2021-09-08T23:52:24.801Z"
   },
   {
    "duration": 9848,
    "start_time": "2021-09-08T23:52:25.477Z"
   },
   {
    "duration": 112,
    "start_time": "2021-09-08T23:52:46.151Z"
   },
   {
    "duration": 17,
    "start_time": "2021-09-08T23:52:47.369Z"
   },
   {
    "duration": 18,
    "start_time": "2021-09-08T23:53:00.490Z"
   },
   {
    "duration": 127,
    "start_time": "2021-09-08T23:55:26.697Z"
   },
   {
    "duration": 22,
    "start_time": "2021-09-08T23:55:33.710Z"
   },
   {
    "duration": 4,
    "start_time": "2021-09-08T23:56:32.841Z"
   },
   {
    "duration": 248,
    "start_time": "2021-09-08T23:57:17.813Z"
   },
   {
    "duration": 13,
    "start_time": "2021-09-08T23:57:18.063Z"
   },
   {
    "duration": 232,
    "start_time": "2021-09-08T23:57:18.079Z"
   },
   {
    "duration": 13,
    "start_time": "2021-09-08T23:57:18.314Z"
   },
   {
    "duration": 141,
    "start_time": "2021-09-08T23:57:18.329Z"
   },
   {
    "duration": 9,
    "start_time": "2021-09-08T23:57:18.472Z"
   },
   {
    "duration": 27,
    "start_time": "2021-09-08T23:57:18.483Z"
   },
   {
    "duration": 13,
    "start_time": "2021-09-08T23:57:18.514Z"
   },
   {
    "duration": 40,
    "start_time": "2021-09-08T23:57:18.530Z"
   },
   {
    "duration": 14,
    "start_time": "2021-09-08T23:57:18.572Z"
   },
   {
    "duration": 36,
    "start_time": "2021-09-08T23:57:18.588Z"
   },
   {
    "duration": 3,
    "start_time": "2021-09-08T23:57:18.626Z"
   },
   {
    "duration": 77,
    "start_time": "2021-09-08T23:57:18.631Z"
   },
   {
    "duration": 12,
    "start_time": "2021-09-08T23:57:18.710Z"
   },
   {
    "duration": 16,
    "start_time": "2021-09-08T23:57:18.724Z"
   },
   {
    "duration": 45,
    "start_time": "2021-09-08T23:57:18.742Z"
   },
   {
    "duration": 15,
    "start_time": "2021-09-08T23:57:18.789Z"
   },
   {
    "duration": 76,
    "start_time": "2021-09-08T23:57:18.806Z"
   },
   {
    "duration": 32,
    "start_time": "2021-09-08T23:57:18.885Z"
   },
   {
    "duration": 47,
    "start_time": "2021-09-08T23:57:18.920Z"
   },
   {
    "duration": 18,
    "start_time": "2021-09-08T23:57:18.970Z"
   },
   {
    "duration": 16,
    "start_time": "2021-09-08T23:57:18.991Z"
   },
   {
    "duration": 60,
    "start_time": "2021-09-08T23:57:19.013Z"
   },
   {
    "duration": 13,
    "start_time": "2021-09-08T23:57:19.076Z"
   },
   {
    "duration": 19,
    "start_time": "2021-09-08T23:57:19.092Z"
   },
   {
    "duration": 54,
    "start_time": "2021-09-08T23:57:19.114Z"
   },
   {
    "duration": 124,
    "start_time": "2021-09-08T23:57:19.170Z"
   },
   {
    "duration": -205,
    "start_time": "2021-09-08T23:57:19.501Z"
   },
   {
    "duration": -208,
    "start_time": "2021-09-08T23:57:19.506Z"
   },
   {
    "duration": -209,
    "start_time": "2021-09-08T23:57:19.508Z"
   },
   {
    "duration": -209,
    "start_time": "2021-09-08T23:57:19.509Z"
   },
   {
    "duration": -209,
    "start_time": "2021-09-08T23:57:19.511Z"
   },
   {
    "duration": -208,
    "start_time": "2021-09-08T23:57:19.512Z"
   },
   {
    "duration": -262,
    "start_time": "2021-09-08T23:57:19.567Z"
   },
   {
    "duration": -260,
    "start_time": "2021-09-08T23:57:19.567Z"
   },
   {
    "duration": -261,
    "start_time": "2021-09-08T23:57:19.570Z"
   },
   {
    "duration": -264,
    "start_time": "2021-09-08T23:57:19.575Z"
   },
   {
    "duration": -264,
    "start_time": "2021-09-08T23:57:19.576Z"
   },
   {
    "duration": -264,
    "start_time": "2021-09-08T23:57:19.578Z"
   },
   {
    "duration": -264,
    "start_time": "2021-09-08T23:57:19.579Z"
   },
   {
    "duration": -264,
    "start_time": "2021-09-08T23:57:19.581Z"
   },
   {
    "duration": -263,
    "start_time": "2021-09-08T23:57:19.582Z"
   },
   {
    "duration": -263,
    "start_time": "2021-09-08T23:57:19.583Z"
   },
   {
    "duration": -263,
    "start_time": "2021-09-08T23:57:19.585Z"
   },
   {
    "duration": -263,
    "start_time": "2021-09-08T23:57:19.586Z"
   },
   {
    "duration": -267,
    "start_time": "2021-09-08T23:57:19.591Z"
   },
   {
    "duration": -306,
    "start_time": "2021-09-08T23:57:19.632Z"
   },
   {
    "duration": -307,
    "start_time": "2021-09-08T23:57:19.634Z"
   },
   {
    "duration": -306,
    "start_time": "2021-09-08T23:57:19.635Z"
   },
   {
    "duration": -307,
    "start_time": "2021-09-08T23:57:19.637Z"
   },
   {
    "duration": -309,
    "start_time": "2021-09-08T23:57:19.640Z"
   },
   {
    "duration": -309,
    "start_time": "2021-09-08T23:57:19.641Z"
   },
   {
    "duration": -277,
    "start_time": "2021-09-08T23:57:19.643Z"
   },
   {
    "duration": -278,
    "start_time": "2021-09-08T23:57:19.645Z"
   },
   {
    "duration": -277,
    "start_time": "2021-09-08T23:57:19.646Z"
   },
   {
    "duration": -277,
    "start_time": "2021-09-08T23:57:19.647Z"
   },
   {
    "duration": -277,
    "start_time": "2021-09-08T23:57:19.649Z"
   },
   {
    "duration": 219,
    "start_time": "2021-09-08T23:57:40.912Z"
   },
   {
    "duration": 11,
    "start_time": "2021-09-08T23:57:41.134Z"
   },
   {
    "duration": 228,
    "start_time": "2021-09-08T23:57:41.148Z"
   },
   {
    "duration": 11,
    "start_time": "2021-09-08T23:57:41.379Z"
   },
   {
    "duration": 140,
    "start_time": "2021-09-08T23:57:41.392Z"
   },
   {
    "duration": 10,
    "start_time": "2021-09-08T23:57:41.534Z"
   },
   {
    "duration": 29,
    "start_time": "2021-09-08T23:57:41.547Z"
   },
   {
    "duration": 12,
    "start_time": "2021-09-08T23:57:41.578Z"
   },
   {
    "duration": 42,
    "start_time": "2021-09-08T23:57:41.594Z"
   },
   {
    "duration": 15,
    "start_time": "2021-09-08T23:57:41.639Z"
   },
   {
    "duration": 31,
    "start_time": "2021-09-08T23:57:41.668Z"
   },
   {
    "duration": 3,
    "start_time": "2021-09-08T23:57:41.701Z"
   },
   {
    "duration": 69,
    "start_time": "2021-09-08T23:57:41.706Z"
   },
   {
    "duration": 12,
    "start_time": "2021-09-08T23:57:41.778Z"
   },
   {
    "duration": 15,
    "start_time": "2021-09-08T23:57:41.792Z"
   },
   {
    "duration": 29,
    "start_time": "2021-09-08T23:57:41.810Z"
   },
   {
    "duration": 15,
    "start_time": "2021-09-08T23:57:41.868Z"
   },
   {
    "duration": 47,
    "start_time": "2021-09-08T23:57:41.885Z"
   },
   {
    "duration": 57,
    "start_time": "2021-09-08T23:57:41.934Z"
   },
   {
    "duration": 25,
    "start_time": "2021-09-08T23:57:41.993Z"
   },
   {
    "duration": 16,
    "start_time": "2021-09-08T23:57:42.020Z"
   },
   {
    "duration": 40,
    "start_time": "2021-09-08T23:57:42.039Z"
   },
   {
    "duration": 37,
    "start_time": "2021-09-08T23:57:42.081Z"
   },
   {
    "duration": 13,
    "start_time": "2021-09-08T23:57:42.120Z"
   },
   {
    "duration": 40,
    "start_time": "2021-09-08T23:57:42.135Z"
   },
   {
    "duration": 42,
    "start_time": "2021-09-08T23:57:42.177Z"
   },
   {
    "duration": 42,
    "start_time": "2021-09-08T23:57:42.225Z"
   },
   {
    "duration": 42,
    "start_time": "2021-09-08T23:57:42.270Z"
   },
   {
    "duration": 53,
    "start_time": "2021-09-08T23:57:42.314Z"
   },
   {
    "duration": 16,
    "start_time": "2021-09-08T23:57:42.370Z"
   },
   {
    "duration": 15,
    "start_time": "2021-09-08T23:57:42.389Z"
   },
   {
    "duration": 28,
    "start_time": "2021-09-08T23:57:42.407Z"
   },
   {
    "duration": 39,
    "start_time": "2021-09-08T23:57:42.437Z"
   },
   {
    "duration": 138,
    "start_time": "2021-09-08T23:57:42.479Z"
   },
   {
    "duration": -241,
    "start_time": "2021-09-08T23:57:42.860Z"
   },
   {
    "duration": -241,
    "start_time": "2021-09-08T23:57:42.861Z"
   },
   {
    "duration": -240,
    "start_time": "2021-09-08T23:57:42.862Z"
   },
   {
    "duration": -241,
    "start_time": "2021-09-08T23:57:42.864Z"
   },
   {
    "duration": -240,
    "start_time": "2021-09-08T23:57:42.865Z"
   },
   {
    "duration": -240,
    "start_time": "2021-09-08T23:57:42.866Z"
   },
   {
    "duration": -239,
    "start_time": "2021-09-08T23:57:42.867Z"
   },
   {
    "duration": -239,
    "start_time": "2021-09-08T23:57:42.868Z"
   },
   {
    "duration": -238,
    "start_time": "2021-09-08T23:57:42.869Z"
   },
   {
    "duration": -239,
    "start_time": "2021-09-08T23:57:42.871Z"
   },
   {
    "duration": -239,
    "start_time": "2021-09-08T23:57:42.872Z"
   },
   {
    "duration": -272,
    "start_time": "2021-09-08T23:57:42.907Z"
   },
   {
    "duration": -273,
    "start_time": "2021-09-08T23:57:42.909Z"
   },
   {
    "duration": -288,
    "start_time": "2021-09-08T23:57:42.926Z"
   },
   {
    "duration": -288,
    "start_time": "2021-09-08T23:57:42.927Z"
   },
   {
    "duration": -287,
    "start_time": "2021-09-08T23:57:42.928Z"
   },
   {
    "duration": -288,
    "start_time": "2021-09-08T23:57:42.930Z"
   },
   {
    "duration": -288,
    "start_time": "2021-09-08T23:57:42.931Z"
   },
   {
    "duration": -287,
    "start_time": "2021-09-08T23:57:42.932Z"
   },
   {
    "duration": -287,
    "start_time": "2021-09-08T23:57:42.933Z"
   },
   {
    "duration": -287,
    "start_time": "2021-09-08T23:57:42.934Z"
   },
   {
    "duration": -287,
    "start_time": "2021-09-08T23:57:42.936Z"
   },
   {
    "duration": -287,
    "start_time": "2021-09-08T23:57:42.937Z"
   },
   {
    "duration": 231,
    "start_time": "2021-09-08T23:57:55.637Z"
   },
   {
    "duration": 10,
    "start_time": "2021-09-08T23:57:55.871Z"
   },
   {
    "duration": 210,
    "start_time": "2021-09-08T23:57:55.884Z"
   },
   {
    "duration": 12,
    "start_time": "2021-09-08T23:57:56.096Z"
   },
   {
    "duration": 143,
    "start_time": "2021-09-08T23:57:56.111Z"
   },
   {
    "duration": 11,
    "start_time": "2021-09-08T23:57:56.256Z"
   },
   {
    "duration": 33,
    "start_time": "2021-09-08T23:57:56.269Z"
   },
   {
    "duration": 13,
    "start_time": "2021-09-08T23:57:56.305Z"
   },
   {
    "duration": 47,
    "start_time": "2021-09-08T23:57:56.323Z"
   },
   {
    "duration": 15,
    "start_time": "2021-09-08T23:57:56.373Z"
   },
   {
    "duration": 35,
    "start_time": "2021-09-08T23:57:56.390Z"
   },
   {
    "duration": 4,
    "start_time": "2021-09-08T23:57:56.427Z"
   },
   {
    "duration": 69,
    "start_time": "2021-09-08T23:57:56.433Z"
   },
   {
    "duration": 66,
    "start_time": "2021-09-08T23:57:56.504Z"
   },
   {
    "duration": 19,
    "start_time": "2021-09-08T23:57:56.573Z"
   },
   {
    "duration": 34,
    "start_time": "2021-09-08T23:57:56.595Z"
   },
   {
    "duration": 41,
    "start_time": "2021-09-08T23:57:56.632Z"
   },
   {
    "duration": 56,
    "start_time": "2021-09-08T23:57:56.675Z"
   },
   {
    "duration": 48,
    "start_time": "2021-09-08T23:57:56.733Z"
   },
   {
    "duration": 24,
    "start_time": "2021-09-08T23:57:56.784Z"
   },
   {
    "duration": 16,
    "start_time": "2021-09-08T23:57:56.810Z"
   },
   {
    "duration": 47,
    "start_time": "2021-09-08T23:57:56.828Z"
   },
   {
    "duration": 51,
    "start_time": "2021-09-08T23:57:56.877Z"
   },
   {
    "duration": 13,
    "start_time": "2021-09-08T23:57:56.931Z"
   },
   {
    "duration": 25,
    "start_time": "2021-09-08T23:57:56.947Z"
   },
   {
    "duration": 49,
    "start_time": "2021-09-08T23:57:56.974Z"
   },
   {
    "duration": 14,
    "start_time": "2021-09-08T23:57:57.029Z"
   },
   {
    "duration": 57,
    "start_time": "2021-09-08T23:57:57.047Z"
   },
   {
    "duration": 32,
    "start_time": "2021-09-08T23:57:57.107Z"
   },
   {
    "duration": 34,
    "start_time": "2021-09-08T23:57:57.141Z"
   },
   {
    "duration": 22,
    "start_time": "2021-09-08T23:57:57.178Z"
   },
   {
    "duration": 28,
    "start_time": "2021-09-08T23:57:57.203Z"
   },
   {
    "duration": 34,
    "start_time": "2021-09-08T23:57:57.234Z"
   },
   {
    "duration": 40,
    "start_time": "2021-09-08T23:57:57.271Z"
   },
   {
    "duration": 14,
    "start_time": "2021-09-08T23:57:57.313Z"
   },
   {
    "duration": 39,
    "start_time": "2021-09-08T23:57:57.329Z"
   },
   {
    "duration": 21,
    "start_time": "2021-09-08T23:57:57.371Z"
   },
   {
    "duration": 14,
    "start_time": "2021-09-08T23:57:57.394Z"
   },
   {
    "duration": 12,
    "start_time": "2021-09-08T23:57:57.410Z"
   },
   {
    "duration": 56,
    "start_time": "2021-09-08T23:57:57.425Z"
   },
   {
    "duration": 102,
    "start_time": "2021-09-08T23:57:57.484Z"
   },
   {
    "duration": 18,
    "start_time": "2021-09-08T23:57:57.588Z"
   },
   {
    "duration": 8,
    "start_time": "2021-09-08T23:57:57.609Z"
   },
   {
    "duration": 66,
    "start_time": "2021-09-08T23:57:57.620Z"
   },
   {
    "duration": 43,
    "start_time": "2021-09-08T23:57:57.689Z"
   },
   {
    "duration": 10,
    "start_time": "2021-09-08T23:57:57.735Z"
   },
   {
    "duration": 9,
    "start_time": "2021-09-08T23:57:57.768Z"
   },
   {
    "duration": 18,
    "start_time": "2021-09-08T23:57:57.779Z"
   },
   {
    "duration": 21,
    "start_time": "2021-09-08T23:57:57.799Z"
   },
   {
    "duration": 15,
    "start_time": "2021-09-08T23:57:57.822Z"
   },
   {
    "duration": 4,
    "start_time": "2021-09-08T23:57:57.840Z"
   },
   {
    "duration": 141,
    "start_time": "2021-09-08T23:57:57.867Z"
   },
   {
    "duration": 15,
    "start_time": "2021-09-08T23:57:58.011Z"
   },
   {
    "duration": 56,
    "start_time": "2021-09-08T23:57:58.028Z"
   },
   {
    "duration": 4,
    "start_time": "2021-09-08T23:57:58.087Z"
   },
   {
    "duration": 20,
    "start_time": "2021-09-08T23:57:58.094Z"
   },
   {
    "duration": 9256,
    "start_time": "2021-09-08T23:57:58.117Z"
   },
   {
    "duration": 4,
    "start_time": "2021-09-08T23:59:51.797Z"
   },
   {
    "duration": 93,
    "start_time": "2021-09-09T00:00:45.331Z"
   },
   {
    "duration": 19,
    "start_time": "2021-09-09T00:00:46.634Z"
   },
   {
    "duration": 17,
    "start_time": "2021-09-09T00:00:53.851Z"
   },
   {
    "duration": 53,
    "start_time": "2021-09-09T00:02:55.917Z"
   },
   {
    "duration": 45,
    "start_time": "2021-09-09T00:02:57.258Z"
   },
   {
    "duration": 18,
    "start_time": "2021-09-09T00:03:35.957Z"
   },
   {
    "duration": 49,
    "start_time": "2021-09-09T00:03:36.609Z"
   },
   {
    "duration": 46,
    "start_time": "2021-09-09T00:03:37.520Z"
   },
   {
    "duration": 25,
    "start_time": "2021-09-09T00:03:49.327Z"
   },
   {
    "duration": 24,
    "start_time": "2021-09-09T00:04:57.167Z"
   },
   {
    "duration": 8,
    "start_time": "2021-09-09T00:04:58.259Z"
   },
   {
    "duration": 8,
    "start_time": "2021-09-09T00:04:59.131Z"
   },
   {
    "duration": 8,
    "start_time": "2021-09-09T00:05:04.873Z"
   },
   {
    "duration": 8,
    "start_time": "2021-09-09T00:05:05.657Z"
   },
   {
    "duration": 7,
    "start_time": "2021-09-09T00:05:51.771Z"
   },
   {
    "duration": 29,
    "start_time": "2021-09-09T00:06:26.013Z"
   },
   {
    "duration": 35,
    "start_time": "2021-09-09T00:06:51.051Z"
   },
   {
    "duration": 15,
    "start_time": "2021-09-09T00:08:56.960Z"
   },
   {
    "duration": 337,
    "start_time": "2021-09-09T00:09:34.803Z"
   },
   {
    "duration": 20,
    "start_time": "2021-09-09T00:10:05.935Z"
   },
   {
    "duration": 18,
    "start_time": "2021-09-09T00:10:31.068Z"
   },
   {
    "duration": 15,
    "start_time": "2021-09-09T00:10:53.408Z"
   },
   {
    "duration": 31,
    "start_time": "2021-09-09T00:10:53.699Z"
   },
   {
    "duration": 15,
    "start_time": "2021-09-09T00:10:54.376Z"
   },
   {
    "duration": 270,
    "start_time": "2021-09-09T00:11:04.863Z"
   },
   {
    "duration": 11,
    "start_time": "2021-09-09T00:11:05.136Z"
   },
   {
    "duration": 223,
    "start_time": "2021-09-09T00:11:05.150Z"
   },
   {
    "duration": 12,
    "start_time": "2021-09-09T00:11:05.376Z"
   },
   {
    "duration": 149,
    "start_time": "2021-09-09T00:11:05.391Z"
   },
   {
    "duration": 11,
    "start_time": "2021-09-09T00:11:05.542Z"
   },
   {
    "duration": 24,
    "start_time": "2021-09-09T00:11:05.568Z"
   },
   {
    "duration": 30,
    "start_time": "2021-09-09T00:11:05.595Z"
   },
   {
    "duration": 47,
    "start_time": "2021-09-09T00:11:05.629Z"
   },
   {
    "duration": 22,
    "start_time": "2021-09-09T00:11:05.680Z"
   },
   {
    "duration": 41,
    "start_time": "2021-09-09T00:11:05.705Z"
   },
   {
    "duration": 3,
    "start_time": "2021-09-09T00:11:05.749Z"
   },
   {
    "duration": 66,
    "start_time": "2021-09-09T00:11:05.754Z"
   },
   {
    "duration": 12,
    "start_time": "2021-09-09T00:11:05.823Z"
   },
   {
    "duration": 33,
    "start_time": "2021-09-09T00:11:05.837Z"
   },
   {
    "duration": 30,
    "start_time": "2021-09-09T00:11:05.873Z"
   },
   {
    "duration": 15,
    "start_time": "2021-09-09T00:11:05.905Z"
   },
   {
    "duration": 74,
    "start_time": "2021-09-09T00:11:05.922Z"
   },
   {
    "duration": 31,
    "start_time": "2021-09-09T00:11:05.998Z"
   },
   {
    "duration": 41,
    "start_time": "2021-09-09T00:11:06.032Z"
   },
   {
    "duration": 16,
    "start_time": "2021-09-09T00:11:06.075Z"
   },
   {
    "duration": 17,
    "start_time": "2021-09-09T00:11:06.093Z"
   },
   {
    "duration": 64,
    "start_time": "2021-09-09T00:11:06.112Z"
   },
   {
    "duration": 12,
    "start_time": "2021-09-09T00:11:06.179Z"
   },
   {
    "duration": 14,
    "start_time": "2021-09-09T00:11:06.194Z"
   },
   {
    "duration": 60,
    "start_time": "2021-09-09T00:11:06.210Z"
   },
   {
    "duration": 14,
    "start_time": "2021-09-09T00:11:06.277Z"
   },
   {
    "duration": 43,
    "start_time": "2021-09-09T00:11:06.295Z"
   },
   {
    "duration": 52,
    "start_time": "2021-09-09T00:11:06.340Z"
   },
   {
    "duration": 16,
    "start_time": "2021-09-09T00:11:06.394Z"
   },
   {
    "duration": 15,
    "start_time": "2021-09-09T00:11:06.412Z"
   },
   {
    "duration": 58,
    "start_time": "2021-09-09T00:11:06.430Z"
   },
   {
    "duration": 11,
    "start_time": "2021-09-09T00:11:06.491Z"
   },
   {
    "duration": 29,
    "start_time": "2021-09-09T00:11:06.504Z"
   },
   {
    "duration": 38,
    "start_time": "2021-09-09T00:11:06.535Z"
   },
   {
    "duration": 32,
    "start_time": "2021-09-09T00:11:06.575Z"
   },
   {
    "duration": 20,
    "start_time": "2021-09-09T00:11:06.610Z"
   },
   {
    "duration": 39,
    "start_time": "2021-09-09T00:11:06.632Z"
   },
   {
    "duration": 6,
    "start_time": "2021-09-09T00:11:06.673Z"
   },
   {
    "duration": 28,
    "start_time": "2021-09-09T00:11:06.681Z"
   },
   {
    "duration": 118,
    "start_time": "2021-09-09T00:11:06.712Z"
   },
   {
    "duration": 18,
    "start_time": "2021-09-09T00:11:06.833Z"
   },
   {
    "duration": 8,
    "start_time": "2021-09-09T00:11:06.867Z"
   },
   {
    "duration": 44,
    "start_time": "2021-09-09T00:11:06.878Z"
   },
   {
    "duration": 70,
    "start_time": "2021-09-09T00:11:06.924Z"
   },
   {
    "duration": 10,
    "start_time": "2021-09-09T00:11:06.997Z"
   },
   {
    "duration": 11,
    "start_time": "2021-09-09T00:11:07.010Z"
   },
   {
    "duration": 47,
    "start_time": "2021-09-09T00:11:07.023Z"
   },
   {
    "duration": 11,
    "start_time": "2021-09-09T00:11:07.073Z"
   },
   {
    "duration": 18,
    "start_time": "2021-09-09T00:11:07.087Z"
   },
   {
    "duration": 5,
    "start_time": "2021-09-09T00:11:07.108Z"
   },
   {
    "duration": 8,
    "start_time": "2021-09-09T00:11:07.116Z"
   },
   {
    "duration": 173,
    "start_time": "2021-09-09T00:11:07.127Z"
   },
   {
    "duration": 16,
    "start_time": "2021-09-09T00:11:07.303Z"
   },
   {
    "duration": 66,
    "start_time": "2021-09-09T00:11:07.322Z"
   },
   {
    "duration": 105,
    "start_time": "2021-09-09T00:11:07.391Z"
   },
   {
    "duration": 16,
    "start_time": "2021-09-09T00:11:07.499Z"
   },
   {
    "duration": 18,
    "start_time": "2021-09-09T00:11:07.518Z"
   },
   {
    "duration": 76,
    "start_time": "2021-09-09T00:11:07.539Z"
   },
   {
    "duration": 64,
    "start_time": "2021-09-09T00:11:07.618Z"
   },
   {
    "duration": 8,
    "start_time": "2021-09-09T00:11:07.684Z"
   },
   {
    "duration": 8,
    "start_time": "2021-09-09T00:11:07.695Z"
   },
   {
    "duration": 10,
    "start_time": "2021-09-09T00:11:07.706Z"
   },
   {
    "duration": 10,
    "start_time": "2021-09-09T00:11:07.718Z"
   },
   {
    "duration": 15,
    "start_time": "2021-09-09T00:11:07.767Z"
   },
   {
    "duration": 26,
    "start_time": "2021-09-09T00:11:07.785Z"
   },
   {
    "duration": 15,
    "start_time": "2021-09-09T00:11:07.814Z"
   },
   {
    "duration": 130,
    "start_time": "2021-09-09T00:11:07.831Z"
   },
   {
    "duration": 242,
    "start_time": "2021-09-09T00:12:01.678Z"
   },
   {
    "duration": 11,
    "start_time": "2021-09-09T00:12:01.923Z"
   },
   {
    "duration": 232,
    "start_time": "2021-09-09T00:12:01.937Z"
   },
   {
    "duration": 12,
    "start_time": "2021-09-09T00:12:02.171Z"
   },
   {
    "duration": 161,
    "start_time": "2021-09-09T00:12:02.185Z"
   },
   {
    "duration": 10,
    "start_time": "2021-09-09T00:12:02.348Z"
   },
   {
    "duration": 75,
    "start_time": "2021-09-09T00:12:02.360Z"
   },
   {
    "duration": 28,
    "start_time": "2021-09-09T00:12:02.438Z"
   },
   {
    "duration": 73,
    "start_time": "2021-09-09T00:12:02.470Z"
   },
   {
    "duration": 32,
    "start_time": "2021-09-09T00:12:02.546Z"
   },
   {
    "duration": 50,
    "start_time": "2021-09-09T00:12:02.580Z"
   },
   {
    "duration": 7,
    "start_time": "2021-09-09T00:12:02.632Z"
   },
   {
    "duration": 90,
    "start_time": "2021-09-09T00:12:02.641Z"
   },
   {
    "duration": 11,
    "start_time": "2021-09-09T00:12:02.733Z"
   },
   {
    "duration": 27,
    "start_time": "2021-09-09T00:12:02.746Z"
   },
   {
    "duration": 51,
    "start_time": "2021-09-09T00:12:02.775Z"
   },
   {
    "duration": 20,
    "start_time": "2021-09-09T00:12:02.828Z"
   },
   {
    "duration": 128,
    "start_time": "2021-09-09T00:12:02.851Z"
   },
   {
    "duration": 93,
    "start_time": "2021-09-09T00:12:02.982Z"
   },
   {
    "duration": 30,
    "start_time": "2021-09-09T00:12:03.079Z"
   },
   {
    "duration": 65,
    "start_time": "2021-09-09T00:12:03.112Z"
   },
   {
    "duration": 43,
    "start_time": "2021-09-09T00:12:03.179Z"
   },
   {
    "duration": 62,
    "start_time": "2021-09-09T00:12:03.225Z"
   },
   {
    "duration": 13,
    "start_time": "2021-09-09T00:12:03.290Z"
   },
   {
    "duration": 35,
    "start_time": "2021-09-09T00:12:03.306Z"
   },
   {
    "duration": 49,
    "start_time": "2021-09-09T00:12:03.343Z"
   },
   {
    "duration": 22,
    "start_time": "2021-09-09T00:12:03.398Z"
   },
   {
    "duration": 73,
    "start_time": "2021-09-09T00:12:03.424Z"
   },
   {
    "duration": 33,
    "start_time": "2021-09-09T00:12:03.499Z"
   },
   {
    "duration": 15,
    "start_time": "2021-09-09T00:12:03.534Z"
   },
   {
    "duration": 31,
    "start_time": "2021-09-09T00:12:03.552Z"
   },
   {
    "duration": 40,
    "start_time": "2021-09-09T00:12:03.585Z"
   },
   {
    "duration": 17,
    "start_time": "2021-09-09T00:12:03.627Z"
   },
   {
    "duration": 48,
    "start_time": "2021-09-09T00:12:03.647Z"
   },
   {
    "duration": 20,
    "start_time": "2021-09-09T00:12:03.698Z"
   },
   {
    "duration": 37,
    "start_time": "2021-09-09T00:12:03.720Z"
   },
   {
    "duration": 43,
    "start_time": "2021-09-09T00:12:03.759Z"
   },
   {
    "duration": 16,
    "start_time": "2021-09-09T00:12:03.804Z"
   },
   {
    "duration": 26,
    "start_time": "2021-09-09T00:12:03.822Z"
   },
   {
    "duration": 51,
    "start_time": "2021-09-09T00:12:03.851Z"
   },
   {
    "duration": 95,
    "start_time": "2021-09-09T00:12:03.905Z"
   },
   {
    "duration": 17,
    "start_time": "2021-09-09T00:12:04.002Z"
   },
   {
    "duration": 28,
    "start_time": "2021-09-09T00:12:04.021Z"
   },
   {
    "duration": 59,
    "start_time": "2021-09-09T00:12:04.052Z"
   },
   {
    "duration": 43,
    "start_time": "2021-09-09T00:12:04.113Z"
   },
   {
    "duration": 10,
    "start_time": "2021-09-09T00:12:04.158Z"
   },
   {
    "duration": 28,
    "start_time": "2021-09-09T00:12:04.171Z"
   },
   {
    "duration": 26,
    "start_time": "2021-09-09T00:12:04.201Z"
   },
   {
    "duration": 36,
    "start_time": "2021-09-09T00:12:04.229Z"
   },
   {
    "duration": 44,
    "start_time": "2021-09-09T00:12:04.267Z"
   },
   {
    "duration": 36,
    "start_time": "2021-09-09T00:12:04.313Z"
   },
   {
    "duration": 27,
    "start_time": "2021-09-09T00:12:04.351Z"
   },
   {
    "duration": 158,
    "start_time": "2021-09-09T00:12:04.381Z"
   },
   {
    "duration": 15,
    "start_time": "2021-09-09T00:12:04.542Z"
   },
   {
    "duration": 53,
    "start_time": "2021-09-09T00:12:04.567Z"
   },
   {
    "duration": 100,
    "start_time": "2021-09-09T00:12:04.622Z"
   },
   {
    "duration": 18,
    "start_time": "2021-09-09T00:12:04.724Z"
   },
   {
    "duration": 41,
    "start_time": "2021-09-09T00:12:04.744Z"
   },
   {
    "duration": 73,
    "start_time": "2021-09-09T00:12:04.787Z"
   },
   {
    "duration": 47,
    "start_time": "2021-09-09T00:12:04.862Z"
   },
   {
    "duration": 8,
    "start_time": "2021-09-09T00:12:04.911Z"
   },
   {
    "duration": 29,
    "start_time": "2021-09-09T00:12:04.921Z"
   },
   {
    "duration": 29,
    "start_time": "2021-09-09T00:12:04.952Z"
   },
   {
    "duration": 29,
    "start_time": "2021-09-09T00:12:04.983Z"
   },
   {
    "duration": 35,
    "start_time": "2021-09-09T00:12:05.015Z"
   },
   {
    "duration": 533,
    "start_time": "2021-09-09T00:12:05.053Z"
   },
   {
    "duration": -184,
    "start_time": "2021-09-09T00:12:05.774Z"
   },
   {
    "duration": -188,
    "start_time": "2021-09-09T00:12:05.779Z"
   },
   {
    "duration": 25,
    "start_time": "2021-09-09T00:12:12.959Z"
   },
   {
    "duration": 15,
    "start_time": "2021-09-09T00:12:14.445Z"
   },
   {
    "duration": 7,
    "start_time": "2021-09-09T00:12:42.427Z"
   },
   {
    "duration": 317,
    "start_time": "2021-09-09T00:14:33.383Z"
   },
   {
    "duration": 4,
    "start_time": "2021-09-09T00:14:40.692Z"
   },
   {
    "duration": -244,
    "start_time": "2021-09-09T00:14:53.334Z"
   },
   {
    "duration": 15,
    "start_time": "2021-09-09T00:15:00.163Z"
   },
   {
    "duration": 74,
    "start_time": "2021-09-09T00:15:04.207Z"
   },
   {
    "duration": 15,
    "start_time": "2021-09-09T00:15:05.156Z"
   },
   {
    "duration": 14,
    "start_time": "2021-09-09T00:15:22.812Z"
   },
   {
    "duration": 39,
    "start_time": "2021-09-09T00:17:12.574Z"
   },
   {
    "duration": 44,
    "start_time": "2021-09-09T00:17:13.129Z"
   },
   {
    "duration": 10,
    "start_time": "2021-09-09T00:17:13.881Z"
   },
   {
    "duration": 8,
    "start_time": "2021-09-09T00:17:16.569Z"
   },
   {
    "duration": 8,
    "start_time": "2021-09-09T00:17:17.307Z"
   },
   {
    "duration": 8,
    "start_time": "2021-09-09T00:17:18.491Z"
   },
   {
    "duration": 9,
    "start_time": "2021-09-09T00:24:26.823Z"
   },
   {
    "duration": 18,
    "start_time": "2021-09-09T00:24:34.490Z"
   },
   {
    "duration": 333,
    "start_time": "2021-09-09T00:24:50.833Z"
   },
   {
    "duration": 26,
    "start_time": "2021-09-09T00:24:55.772Z"
   },
   {
    "duration": 41,
    "start_time": "2021-09-09T00:25:40.875Z"
   },
   {
    "duration": 422,
    "start_time": "2021-09-09T00:26:14.302Z"
   },
   {
    "duration": 48,
    "start_time": "2021-09-09T00:26:21.671Z"
   },
   {
    "duration": 55,
    "start_time": "2021-09-09T00:26:35.104Z"
   },
   {
    "duration": 51,
    "start_time": "2021-09-09T00:26:39.522Z"
   },
   {
    "duration": 43,
    "start_time": "2021-09-09T00:26:47.727Z"
   },
   {
    "duration": 43,
    "start_time": "2021-09-09T00:26:52.071Z"
   },
   {
    "duration": 44,
    "start_time": "2021-09-09T00:27:01.479Z"
   },
   {
    "duration": 41,
    "start_time": "2021-09-09T00:27:37.991Z"
   },
   {
    "duration": 46,
    "start_time": "2021-09-09T00:29:50.546Z"
   },
   {
    "duration": 344,
    "start_time": "2021-09-09T00:30:39.184Z"
   },
   {
    "duration": 45,
    "start_time": "2021-09-09T00:30:46.271Z"
   },
   {
    "duration": 40,
    "start_time": "2021-09-09T00:30:57.752Z"
   },
   {
    "duration": 19,
    "start_time": "2021-09-09T00:32:49.556Z"
   },
   {
    "duration": 92,
    "start_time": "2021-09-09T00:32:52.103Z"
   },
   {
    "duration": 17,
    "start_time": "2021-09-09T00:32:52.308Z"
   },
   {
    "duration": 51,
    "start_time": "2021-09-09T00:36:12.378Z"
   },
   {
    "duration": 352,
    "start_time": "2021-09-09T00:37:31.803Z"
   },
   {
    "duration": 318,
    "start_time": "2021-09-09T00:37:46.707Z"
   },
   {
    "duration": 46,
    "start_time": "2021-09-09T00:37:54.240Z"
   },
   {
    "duration": 41,
    "start_time": "2021-09-09T00:37:56.395Z"
   },
   {
    "duration": 42,
    "start_time": "2021-09-09T00:41:34.098Z"
   },
   {
    "duration": 420,
    "start_time": "2021-09-09T00:44:32.100Z"
   },
   {
    "duration": 352,
    "start_time": "2021-09-09T00:46:03.296Z"
   },
   {
    "duration": 320,
    "start_time": "2021-09-09T00:46:18.341Z"
   },
   {
    "duration": 23,
    "start_time": "2021-09-09T00:46:56.318Z"
   },
   {
    "duration": 21,
    "start_time": "2021-09-09T00:47:08.178Z"
   },
   {
    "duration": 10,
    "start_time": "2021-09-09T00:59:52.691Z"
   },
   {
    "duration": 76,
    "start_time": "2021-09-09T01:00:56.719Z"
   },
   {
    "duration": 36,
    "start_time": "2021-09-09T01:01:09.823Z"
   },
   {
    "duration": 7,
    "start_time": "2021-09-09T01:06:11.314Z"
   },
   {
    "duration": 7,
    "start_time": "2021-09-09T01:06:35.532Z"
   },
   {
    "duration": 30,
    "start_time": "2021-09-09T01:07:29.127Z"
   },
   {
    "duration": 6237,
    "start_time": "2021-09-09T01:07:59.252Z"
   },
   {
    "duration": 6,
    "start_time": "2021-09-09T01:08:13.526Z"
   },
   {
    "duration": 26,
    "start_time": "2021-09-09T01:08:39.944Z"
   },
   {
    "duration": 5,
    "start_time": "2021-09-09T01:10:21.541Z"
   },
   {
    "duration": 7,
    "start_time": "2021-09-09T01:10:27.280Z"
   },
   {
    "duration": 26,
    "start_time": "2021-09-09T01:10:34.977Z"
   },
   {
    "duration": 6204,
    "start_time": "2021-09-09T01:11:48.549Z"
   },
   {
    "duration": 6341,
    "start_time": "2021-09-09T01:12:06.528Z"
   },
   {
    "duration": 18,
    "start_time": "2021-09-09T01:12:19.511Z"
   },
   {
    "duration": 42,
    "start_time": "2021-09-09T01:12:22.347Z"
   },
   {
    "duration": 6410,
    "start_time": "2021-09-09T01:12:38.209Z"
   },
   {
    "duration": 264,
    "start_time": "2021-09-09T01:12:47.696Z"
   },
   {
    "duration": 13,
    "start_time": "2021-09-09T01:12:47.962Z"
   },
   {
    "duration": 214,
    "start_time": "2021-09-09T01:12:47.978Z"
   },
   {
    "duration": 14,
    "start_time": "2021-09-09T01:12:48.195Z"
   },
   {
    "duration": 145,
    "start_time": "2021-09-09T01:12:48.212Z"
   },
   {
    "duration": 11,
    "start_time": "2021-09-09T01:12:48.367Z"
   },
   {
    "duration": 25,
    "start_time": "2021-09-09T01:12:48.380Z"
   },
   {
    "duration": 12,
    "start_time": "2021-09-09T01:12:48.408Z"
   },
   {
    "duration": 32,
    "start_time": "2021-09-09T01:12:48.424Z"
   },
   {
    "duration": 19,
    "start_time": "2021-09-09T01:12:48.459Z"
   },
   {
    "duration": 33,
    "start_time": "2021-09-09T01:12:48.480Z"
   },
   {
    "duration": 3,
    "start_time": "2021-09-09T01:12:48.515Z"
   },
   {
    "duration": 72,
    "start_time": "2021-09-09T01:12:48.521Z"
   },
   {
    "duration": 11,
    "start_time": "2021-09-09T01:12:48.595Z"
   },
   {
    "duration": 19,
    "start_time": "2021-09-09T01:12:48.609Z"
   },
   {
    "duration": 52,
    "start_time": "2021-09-09T01:12:48.630Z"
   },
   {
    "duration": 15,
    "start_time": "2021-09-09T01:12:48.685Z"
   },
   {
    "duration": 49,
    "start_time": "2021-09-09T01:12:48.702Z"
   },
   {
    "duration": 43,
    "start_time": "2021-09-09T01:12:48.753Z"
   },
   {
    "duration": 25,
    "start_time": "2021-09-09T01:12:48.799Z"
   },
   {
    "duration": 41,
    "start_time": "2021-09-09T01:12:48.826Z"
   },
   {
    "duration": 15,
    "start_time": "2021-09-09T01:12:48.870Z"
   },
   {
    "duration": 36,
    "start_time": "2021-09-09T01:12:48.887Z"
   },
   {
    "duration": 12,
    "start_time": "2021-09-09T01:12:48.926Z"
   },
   {
    "duration": 11,
    "start_time": "2021-09-09T01:12:48.968Z"
   },
   {
    "duration": 34,
    "start_time": "2021-09-09T01:12:48.982Z"
   },
   {
    "duration": 14,
    "start_time": "2021-09-09T01:12:49.023Z"
   },
   {
    "duration": 39,
    "start_time": "2021-09-09T01:12:49.068Z"
   },
   {
    "duration": 31,
    "start_time": "2021-09-09T01:12:49.110Z"
   },
   {
    "duration": 40,
    "start_time": "2021-09-09T01:12:49.144Z"
   },
   {
    "duration": 13,
    "start_time": "2021-09-09T01:12:49.187Z"
   },
   {
    "duration": 30,
    "start_time": "2021-09-09T01:12:49.202Z"
   },
   {
    "duration": 37,
    "start_time": "2021-09-09T01:12:49.234Z"
   },
   {
    "duration": 28,
    "start_time": "2021-09-09T01:12:49.273Z"
   },
   {
    "duration": 13,
    "start_time": "2021-09-09T01:12:49.303Z"
   },
   {
    "duration": 59,
    "start_time": "2021-09-09T01:12:49.319Z"
   },
   {
    "duration": 21,
    "start_time": "2021-09-09T01:12:49.380Z"
   },
   {
    "duration": 14,
    "start_time": "2021-09-09T01:12:49.404Z"
   },
   {
    "duration": 4,
    "start_time": "2021-09-09T01:12:49.421Z"
   },
   {
    "duration": 57,
    "start_time": "2021-09-09T01:12:49.428Z"
   },
   {
    "duration": 108,
    "start_time": "2021-09-09T01:12:49.487Z"
   },
   {
    "duration": 18,
    "start_time": "2021-09-09T01:12:49.597Z"
   },
   {
    "duration": 9,
    "start_time": "2021-09-09T01:12:49.618Z"
   },
   {
    "duration": 57,
    "start_time": "2021-09-09T01:12:49.630Z"
   },
   {
    "duration": 5,
    "start_time": "2021-09-09T01:12:49.690Z"
   },
   {
    "duration": 8,
    "start_time": "2021-09-09T01:12:49.697Z"
   },
   {
    "duration": 61,
    "start_time": "2021-09-09T01:12:49.708Z"
   },
   {
    "duration": 43,
    "start_time": "2021-09-09T01:12:49.772Z"
   },
   {
    "duration": 7,
    "start_time": "2021-09-09T01:12:49.817Z"
   },
   {
    "duration": 9,
    "start_time": "2021-09-09T01:12:49.826Z"
   },
   {
    "duration": 34,
    "start_time": "2021-09-09T01:12:49.838Z"
   },
   {
    "duration": 8,
    "start_time": "2021-09-09T01:12:49.874Z"
   },
   {
    "duration": 16,
    "start_time": "2021-09-09T01:12:49.884Z"
   },
   {
    "duration": 6,
    "start_time": "2021-09-09T01:12:49.902Z"
   },
   {
    "duration": 4,
    "start_time": "2021-09-09T01:12:49.910Z"
   },
   {
    "duration": 8,
    "start_time": "2021-09-09T01:12:49.916Z"
   },
   {
    "duration": 181,
    "start_time": "2021-09-09T01:12:49.926Z"
   },
   {
    "duration": 15,
    "start_time": "2021-09-09T01:12:50.109Z"
   },
   {
    "duration": 60,
    "start_time": "2021-09-09T01:12:50.126Z"
   },
   {
    "duration": 22,
    "start_time": "2021-09-09T01:12:50.188Z"
   },
   {
    "duration": 111,
    "start_time": "2021-09-09T01:12:50.213Z"
   },
   {
    "duration": 18,
    "start_time": "2021-09-09T01:12:50.326Z"
   },
   {
    "duration": 6308,
    "start_time": "2021-09-09T01:12:50.346Z"
   },
   {
    "duration": -138,
    "start_time": "2021-09-09T01:12:56.794Z"
   },
   {
    "duration": -138,
    "start_time": "2021-09-09T01:12:56.796Z"
   },
   {
    "duration": -138,
    "start_time": "2021-09-09T01:12:56.797Z"
   },
   {
    "duration": -138,
    "start_time": "2021-09-09T01:12:56.799Z"
   },
   {
    "duration": -142,
    "start_time": "2021-09-09T01:12:56.804Z"
   },
   {
    "duration": -140,
    "start_time": "2021-09-09T01:12:56.804Z"
   },
   {
    "duration": -140,
    "start_time": "2021-09-09T01:12:56.805Z"
   },
   {
    "duration": -141,
    "start_time": "2021-09-09T01:12:56.808Z"
   },
   {
    "duration": -141,
    "start_time": "2021-09-09T01:12:56.809Z"
   },
   {
    "duration": -141,
    "start_time": "2021-09-09T01:12:56.810Z"
   },
   {
    "duration": -140,
    "start_time": "2021-09-09T01:12:56.811Z"
   },
   {
    "duration": -140,
    "start_time": "2021-09-09T01:12:56.812Z"
   },
   {
    "duration": -140,
    "start_time": "2021-09-09T01:12:56.813Z"
   },
   {
    "duration": -141,
    "start_time": "2021-09-09T01:12:56.815Z"
   },
   {
    "duration": -141,
    "start_time": "2021-09-09T01:12:56.817Z"
   },
   {
    "duration": -167,
    "start_time": "2021-09-09T01:12:56.844Z"
   },
   {
    "duration": -167,
    "start_time": "2021-09-09T01:12:56.846Z"
   },
   {
    "duration": -167,
    "start_time": "2021-09-09T01:12:56.847Z"
   },
   {
    "duration": -167,
    "start_time": "2021-09-09T01:12:56.848Z"
   },
   {
    "duration": -169,
    "start_time": "2021-09-09T01:12:56.852Z"
   },
   {
    "duration": -169,
    "start_time": "2021-09-09T01:12:56.853Z"
   },
   {
    "duration": 33,
    "start_time": "2021-09-09T01:13:50.759Z"
   },
   {
    "duration": 34,
    "start_time": "2021-09-09T01:14:17.893Z"
   },
   {
    "duration": 27,
    "start_time": "2021-09-09T01:14:22.305Z"
   },
   {
    "duration": 325,
    "start_time": "2021-09-09T01:16:28.773Z"
   },
   {
    "duration": 374,
    "start_time": "2021-09-09T01:17:03.443Z"
   },
   {
    "duration": 6,
    "start_time": "2021-09-09T01:17:11.125Z"
   },
   {
    "duration": 7,
    "start_time": "2021-09-09T01:18:08.149Z"
   },
   {
    "duration": 54,
    "start_time": "2021-09-09T01:28:14.014Z"
   },
   {
    "duration": 1192,
    "start_time": "2021-09-11T03:07:45.865Z"
   },
   {
    "duration": 16,
    "start_time": "2021-09-11T03:07:47.060Z"
   },
   {
    "duration": 191,
    "start_time": "2021-09-11T03:07:47.080Z"
   },
   {
    "duration": 13,
    "start_time": "2021-09-11T03:07:47.274Z"
   },
   {
    "duration": 130,
    "start_time": "2021-09-11T03:07:47.289Z"
   },
   {
    "duration": 10,
    "start_time": "2021-09-11T03:07:47.422Z"
   },
   {
    "duration": 35,
    "start_time": "2021-09-11T03:07:47.436Z"
   },
   {
    "duration": 12,
    "start_time": "2021-09-11T03:07:47.477Z"
   },
   {
    "duration": 71,
    "start_time": "2021-09-11T03:07:47.494Z"
   },
   {
    "duration": 20,
    "start_time": "2021-09-11T03:07:47.568Z"
   },
   {
    "duration": 42,
    "start_time": "2021-09-11T03:07:47.592Z"
   },
   {
    "duration": 25,
    "start_time": "2021-09-11T03:07:47.637Z"
   },
   {
    "duration": 74,
    "start_time": "2021-09-11T03:07:47.665Z"
   },
   {
    "duration": 15,
    "start_time": "2021-09-11T03:07:47.742Z"
   },
   {
    "duration": 20,
    "start_time": "2021-09-11T03:07:47.760Z"
   },
   {
    "duration": 49,
    "start_time": "2021-09-11T03:07:47.783Z"
   },
   {
    "duration": 37,
    "start_time": "2021-09-11T03:07:47.835Z"
   },
   {
    "duration": 87,
    "start_time": "2021-09-11T03:07:47.875Z"
   },
   {
    "duration": 44,
    "start_time": "2021-09-11T03:07:47.965Z"
   },
   {
    "duration": 50,
    "start_time": "2021-09-11T03:07:48.013Z"
   },
   {
    "duration": 21,
    "start_time": "2021-09-11T03:07:48.066Z"
   },
   {
    "duration": 26,
    "start_time": "2021-09-11T03:07:48.090Z"
   },
   {
    "duration": 65,
    "start_time": "2021-09-11T03:07:48.126Z"
   },
   {
    "duration": 16,
    "start_time": "2021-09-11T03:07:48.197Z"
   },
   {
    "duration": 39,
    "start_time": "2021-09-11T03:07:48.217Z"
   },
   {
    "duration": 52,
    "start_time": "2021-09-11T03:07:48.263Z"
   },
   {
    "duration": 18,
    "start_time": "2021-09-11T03:07:48.319Z"
   },
   {
    "duration": 81,
    "start_time": "2021-09-11T03:07:48.340Z"
   },
   {
    "duration": 51,
    "start_time": "2021-09-11T03:07:48.424Z"
   },
   {
    "duration": 21,
    "start_time": "2021-09-11T03:07:48.478Z"
   },
   {
    "duration": 23,
    "start_time": "2021-09-11T03:07:48.502Z"
   },
   {
    "duration": 53,
    "start_time": "2021-09-11T03:07:48.528Z"
   },
   {
    "duration": 16,
    "start_time": "2021-09-11T03:07:48.584Z"
   },
   {
    "duration": 60,
    "start_time": "2021-09-11T03:07:48.602Z"
   },
   {
    "duration": 16,
    "start_time": "2021-09-11T03:07:48.665Z"
   },
   {
    "duration": 39,
    "start_time": "2021-09-11T03:07:48.684Z"
   },
   {
    "duration": 20,
    "start_time": "2021-09-11T03:07:48.726Z"
   },
   {
    "duration": 14,
    "start_time": "2021-09-11T03:07:48.761Z"
   },
   {
    "duration": 7,
    "start_time": "2021-09-11T03:07:48.778Z"
   },
   {
    "duration": 39,
    "start_time": "2021-09-11T03:07:48.788Z"
   },
   {
    "duration": 112,
    "start_time": "2021-09-11T03:07:48.829Z"
   },
   {
    "duration": 27,
    "start_time": "2021-09-11T03:07:48.943Z"
   },
   {
    "duration": 12,
    "start_time": "2021-09-11T03:07:48.972Z"
   },
   {
    "duration": 39,
    "start_time": "2021-09-11T03:07:48.987Z"
   },
   {
    "duration": 33,
    "start_time": "2021-09-11T03:07:49.029Z"
   },
   {
    "duration": 7,
    "start_time": "2021-09-11T03:07:49.064Z"
   },
   {
    "duration": 40,
    "start_time": "2021-09-11T03:07:49.074Z"
   },
   {
    "duration": 74,
    "start_time": "2021-09-11T03:07:49.117Z"
   },
   {
    "duration": 9,
    "start_time": "2021-09-11T03:07:49.193Z"
   },
   {
    "duration": 20,
    "start_time": "2021-09-11T03:07:49.204Z"
   },
   {
    "duration": 15,
    "start_time": "2021-09-11T03:07:49.226Z"
   },
   {
    "duration": 7,
    "start_time": "2021-09-11T03:07:49.262Z"
   },
   {
    "duration": 26,
    "start_time": "2021-09-11T03:07:49.271Z"
   },
   {
    "duration": 17,
    "start_time": "2021-09-11T03:07:49.299Z"
   },
   {
    "duration": 11,
    "start_time": "2021-09-11T03:07:49.319Z"
   },
   {
    "duration": 30,
    "start_time": "2021-09-11T03:07:49.332Z"
   },
   {
    "duration": 134,
    "start_time": "2021-09-11T03:07:49.364Z"
   },
   {
    "duration": 14,
    "start_time": "2021-09-11T03:07:49.500Z"
   },
   {
    "duration": 56,
    "start_time": "2021-09-11T03:07:49.517Z"
   },
   {
    "duration": 20,
    "start_time": "2021-09-11T03:07:49.575Z"
   },
   {
    "duration": 106,
    "start_time": "2021-09-11T03:07:49.597Z"
   },
   {
    "duration": 17,
    "start_time": "2021-09-11T03:07:49.705Z"
   },
   {
    "duration": 500,
    "start_time": "2021-09-11T03:07:49.724Z"
   },
   {
    "duration": 984,
    "start_time": "2021-09-11T03:07:49.243Z"
   },
   {
    "duration": 986,
    "start_time": "2021-09-11T03:07:49.244Z"
   },
   {
    "duration": 918,
    "start_time": "2021-09-11T03:07:49.313Z"
   },
   {
    "duration": 916,
    "start_time": "2021-09-11T03:07:49.317Z"
   },
   {
    "duration": 915,
    "start_time": "2021-09-11T03:07:49.319Z"
   },
   {
    "duration": 915,
    "start_time": "2021-09-11T03:07:49.321Z"
   },
   {
    "duration": 915,
    "start_time": "2021-09-11T03:07:49.322Z"
   },
   {
    "duration": 916,
    "start_time": "2021-09-11T03:07:49.323Z"
   },
   {
    "duration": 915,
    "start_time": "2021-09-11T03:07:49.325Z"
   },
   {
    "duration": 915,
    "start_time": "2021-09-11T03:07:49.326Z"
   },
   {
    "duration": 916,
    "start_time": "2021-09-11T03:07:49.328Z"
   },
   {
    "duration": 916,
    "start_time": "2021-09-11T03:07:49.329Z"
   },
   {
    "duration": 916,
    "start_time": "2021-09-11T03:07:49.331Z"
   },
   {
    "duration": 914,
    "start_time": "2021-09-11T03:07:49.335Z"
   },
   {
    "duration": 913,
    "start_time": "2021-09-11T03:07:49.337Z"
   },
   {
    "duration": 913,
    "start_time": "2021-09-11T03:07:49.338Z"
   },
   {
    "duration": 914,
    "start_time": "2021-09-11T03:07:49.339Z"
   },
   {
    "duration": 913,
    "start_time": "2021-09-11T03:07:49.341Z"
   },
   {
    "duration": 912,
    "start_time": "2021-09-11T03:07:49.343Z"
   },
   {
    "duration": 861,
    "start_time": "2021-09-11T03:07:49.396Z"
   },
   {
    "duration": 855,
    "start_time": "2021-09-11T03:07:49.403Z"
   },
   {
    "duration": 259,
    "start_time": "2021-09-11T03:08:21.259Z"
   },
   {
    "duration": 10,
    "start_time": "2021-09-11T03:08:21.521Z"
   },
   {
    "duration": 200,
    "start_time": "2021-09-11T03:08:21.535Z"
   },
   {
    "duration": 12,
    "start_time": "2021-09-11T03:08:21.738Z"
   },
   {
    "duration": 121,
    "start_time": "2021-09-11T03:08:21.761Z"
   },
   {
    "duration": 10,
    "start_time": "2021-09-11T03:08:21.885Z"
   },
   {
    "duration": 44,
    "start_time": "2021-09-11T03:08:21.897Z"
   },
   {
    "duration": 34,
    "start_time": "2021-09-11T03:08:21.944Z"
   },
   {
    "duration": 58,
    "start_time": "2021-09-11T03:08:21.982Z"
   },
   {
    "duration": 14,
    "start_time": "2021-09-11T03:08:22.044Z"
   },
   {
    "duration": 33,
    "start_time": "2021-09-11T03:08:22.061Z"
   },
   {
    "duration": 3,
    "start_time": "2021-09-11T03:08:22.097Z"
   },
   {
    "duration": 59,
    "start_time": "2021-09-11T03:08:22.103Z"
   },
   {
    "duration": 12,
    "start_time": "2021-09-11T03:08:22.165Z"
   },
   {
    "duration": 17,
    "start_time": "2021-09-11T03:08:22.179Z"
   },
   {
    "duration": 33,
    "start_time": "2021-09-11T03:08:22.198Z"
   },
   {
    "duration": 41,
    "start_time": "2021-09-11T03:08:22.233Z"
   },
   {
    "duration": 44,
    "start_time": "2021-09-11T03:08:22.276Z"
   },
   {
    "duration": 56,
    "start_time": "2021-09-11T03:08:22.322Z"
   },
   {
    "duration": 25,
    "start_time": "2021-09-11T03:08:22.380Z"
   },
   {
    "duration": 15,
    "start_time": "2021-09-11T03:08:22.407Z"
   },
   {
    "duration": 47,
    "start_time": "2021-09-11T03:08:22.424Z"
   },
   {
    "duration": 37,
    "start_time": "2021-09-11T03:08:22.473Z"
   },
   {
    "duration": 12,
    "start_time": "2021-09-11T03:08:22.513Z"
   },
   {
    "duration": 36,
    "start_time": "2021-09-11T03:08:22.527Z"
   },
   {
    "duration": 37,
    "start_time": "2021-09-11T03:08:22.566Z"
   },
   {
    "duration": 14,
    "start_time": "2021-09-11T03:08:22.609Z"
   },
   {
    "duration": 61,
    "start_time": "2021-09-11T03:08:22.627Z"
   },
   {
    "duration": 29,
    "start_time": "2021-09-11T03:08:22.691Z"
   },
   {
    "duration": 14,
    "start_time": "2021-09-11T03:08:22.722Z"
   },
   {
    "duration": 32,
    "start_time": "2021-09-11T03:08:22.739Z"
   },
   {
    "duration": 31,
    "start_time": "2021-09-11T03:08:22.774Z"
   },
   {
    "duration": 12,
    "start_time": "2021-09-11T03:08:22.808Z"
   },
   {
    "duration": 50,
    "start_time": "2021-09-11T03:08:22.822Z"
   },
   {
    "duration": 14,
    "start_time": "2021-09-11T03:08:22.875Z"
   },
   {
    "duration": 40,
    "start_time": "2021-09-11T03:08:22.891Z"
   },
   {
    "duration": 34,
    "start_time": "2021-09-11T03:08:22.933Z"
   },
   {
    "duration": 13,
    "start_time": "2021-09-11T03:08:22.970Z"
   },
   {
    "duration": 8,
    "start_time": "2021-09-11T03:08:22.986Z"
   },
   {
    "duration": 39,
    "start_time": "2021-09-11T03:08:22.997Z"
   },
   {
    "duration": 95,
    "start_time": "2021-09-11T03:08:23.039Z"
   },
   {
    "duration": 27,
    "start_time": "2021-09-11T03:08:23.136Z"
   },
   {
    "duration": 6,
    "start_time": "2021-09-11T03:08:23.165Z"
   },
   {
    "duration": 31,
    "start_time": "2021-09-11T03:08:23.174Z"
   },
   {
    "duration": 6,
    "start_time": "2021-09-11T03:08:23.207Z"
   },
   {
    "duration": 20,
    "start_time": "2021-09-11T03:08:23.215Z"
   },
   {
    "duration": 38,
    "start_time": "2021-09-11T03:08:23.262Z"
   },
   {
    "duration": 60,
    "start_time": "2021-09-11T03:08:23.302Z"
   },
   {
    "duration": 8,
    "start_time": "2021-09-11T03:08:23.364Z"
   },
   {
    "duration": 15,
    "start_time": "2021-09-11T03:08:23.375Z"
   },
   {
    "duration": 9,
    "start_time": "2021-09-11T03:08:23.393Z"
   },
   {
    "duration": 9,
    "start_time": "2021-09-11T03:08:23.405Z"
   },
   {
    "duration": 47,
    "start_time": "2021-09-11T03:08:23.416Z"
   },
   {
    "duration": 6,
    "start_time": "2021-09-11T03:08:23.465Z"
   },
   {
    "duration": 4,
    "start_time": "2021-09-11T03:08:23.474Z"
   },
   {
    "duration": 8,
    "start_time": "2021-09-11T03:08:23.480Z"
   },
   {
    "duration": 148,
    "start_time": "2021-09-11T03:08:23.490Z"
   },
   {
    "duration": 22,
    "start_time": "2021-09-11T03:08:23.640Z"
   },
   {
    "duration": 44,
    "start_time": "2021-09-11T03:08:23.665Z"
   },
   {
    "duration": 22,
    "start_time": "2021-09-11T03:08:23.711Z"
   },
   {
    "duration": 104,
    "start_time": "2021-09-11T03:08:23.735Z"
   },
   {
    "duration": 31,
    "start_time": "2021-09-11T03:08:23.842Z"
   },
   {
    "duration": 41,
    "start_time": "2021-09-11T03:08:23.876Z"
   },
   {
    "duration": 6,
    "start_time": "2021-09-11T03:08:23.920Z"
   },
   {
    "duration": 72,
    "start_time": "2021-09-11T03:08:23.929Z"
   },
   {
    "duration": 59,
    "start_time": "2021-09-11T03:08:24.003Z"
   },
   {
    "duration": 9,
    "start_time": "2021-09-11T03:08:24.064Z"
   },
   {
    "duration": 9,
    "start_time": "2021-09-11T03:08:24.076Z"
   },
   {
    "duration": 9,
    "start_time": "2021-09-11T03:08:24.087Z"
   },
   {
    "duration": 11,
    "start_time": "2021-09-11T03:08:24.098Z"
   },
   {
    "duration": 22,
    "start_time": "2021-09-11T03:08:24.111Z"
   },
   {
    "duration": 43,
    "start_time": "2021-09-11T03:08:24.135Z"
   },
   {
    "duration": 25,
    "start_time": "2021-09-11T03:08:24.180Z"
   },
   {
    "duration": 14,
    "start_time": "2021-09-11T03:08:24.208Z"
   },
   {
    "duration": 81,
    "start_time": "2021-09-11T03:08:24.224Z"
   },
   {
    "duration": 15,
    "start_time": "2021-09-11T03:08:24.307Z"
   },
   {
    "duration": 15,
    "start_time": "2021-09-11T03:08:24.324Z"
   },
   {
    "duration": 55,
    "start_time": "2021-09-11T03:08:24.342Z"
   },
   {
    "duration": 30,
    "start_time": "2021-09-11T03:08:24.399Z"
   },
   {
    "duration": 65,
    "start_time": "2021-09-11T03:08:24.432Z"
   },
   {
    "duration": 7,
    "start_time": "2021-09-11T03:08:24.506Z"
   },
   {
    "duration": 13,
    "start_time": "2021-09-11T03:08:24.516Z"
   },
   {
    "duration": 32,
    "start_time": "2021-09-11T03:08:24.531Z"
   },
   {
    "duration": 10,
    "start_time": "2021-09-11T03:08:24.566Z"
   },
   {
    "duration": 46,
    "start_time": "2021-09-11T03:09:20.690Z"
   },
   {
    "duration": 25,
    "start_time": "2021-09-11T03:09:52.012Z"
   },
   {
    "duration": 5,
    "start_time": "2021-09-11T03:11:11.074Z"
   },
   {
    "duration": 6,
    "start_time": "2021-09-11T03:11:21.177Z"
   },
   {
    "duration": 26,
    "start_time": "2021-09-11T03:11:27.860Z"
   },
   {
    "duration": 27,
    "start_time": "2021-09-11T03:11:38.888Z"
   },
   {
    "duration": 5,
    "start_time": "2021-09-11T03:12:58.372Z"
   },
   {
    "duration": 29,
    "start_time": "2021-09-11T03:13:52.657Z"
   },
   {
    "duration": 50,
    "start_time": "2021-09-11T03:14:00.978Z"
   },
   {
    "duration": 33,
    "start_time": "2021-09-11T03:14:14.200Z"
   },
   {
    "duration": 265,
    "start_time": "2021-09-11T03:14:46.453Z"
   },
   {
    "duration": 11,
    "start_time": "2021-09-11T03:14:46.721Z"
   },
   {
    "duration": 192,
    "start_time": "2021-09-11T03:14:46.734Z"
   },
   {
    "duration": 11,
    "start_time": "2021-09-11T03:14:46.929Z"
   },
   {
    "duration": 138,
    "start_time": "2021-09-11T03:14:46.942Z"
   },
   {
    "duration": 10,
    "start_time": "2021-09-11T03:14:47.083Z"
   },
   {
    "duration": 31,
    "start_time": "2021-09-11T03:14:47.095Z"
   },
   {
    "duration": 11,
    "start_time": "2021-09-11T03:14:47.128Z"
   },
   {
    "duration": 53,
    "start_time": "2021-09-11T03:14:47.143Z"
   },
   {
    "duration": 14,
    "start_time": "2021-09-11T03:14:47.199Z"
   },
   {
    "duration": 39,
    "start_time": "2021-09-11T03:14:47.215Z"
   },
   {
    "duration": 3,
    "start_time": "2021-09-11T03:14:47.256Z"
   },
   {
    "duration": 44,
    "start_time": "2021-09-11T03:14:47.262Z"
   },
   {
    "duration": 12,
    "start_time": "2021-09-11T03:14:47.309Z"
   },
   {
    "duration": 16,
    "start_time": "2021-09-11T03:14:47.323Z"
   },
   {
    "duration": 45,
    "start_time": "2021-09-11T03:14:47.341Z"
   },
   {
    "duration": 15,
    "start_time": "2021-09-11T03:14:47.389Z"
   },
   {
    "duration": 69,
    "start_time": "2021-09-11T03:14:47.406Z"
   },
   {
    "duration": 31,
    "start_time": "2021-09-11T03:14:47.478Z"
   },
   {
    "duration": 24,
    "start_time": "2021-09-11T03:14:47.511Z"
   },
   {
    "duration": 37,
    "start_time": "2021-09-11T03:14:47.538Z"
   },
   {
    "duration": 18,
    "start_time": "2021-09-11T03:14:47.577Z"
   },
   {
    "duration": 65,
    "start_time": "2021-09-11T03:14:47.597Z"
   },
   {
    "duration": 13,
    "start_time": "2021-09-11T03:14:47.664Z"
   },
   {
    "duration": 17,
    "start_time": "2021-09-11T03:14:47.680Z"
   },
   {
    "duration": 34,
    "start_time": "2021-09-11T03:14:47.700Z"
   },
   {
    "duration": 15,
    "start_time": "2021-09-11T03:14:47.762Z"
   },
   {
    "duration": 42,
    "start_time": "2021-09-11T03:14:47.781Z"
   },
   {
    "duration": 55,
    "start_time": "2021-09-11T03:14:47.825Z"
   },
   {
    "duration": 16,
    "start_time": "2021-09-11T03:14:47.882Z"
   },
   {
    "duration": 21,
    "start_time": "2021-09-11T03:14:47.900Z"
   },
   {
    "duration": 54,
    "start_time": "2021-09-11T03:14:47.924Z"
   },
   {
    "duration": 14,
    "start_time": "2021-09-11T03:14:47.980Z"
   },
   {
    "duration": 27,
    "start_time": "2021-09-11T03:14:47.996Z"
   },
   {
    "duration": 37,
    "start_time": "2021-09-11T03:14:48.025Z"
   },
   {
    "duration": 25,
    "start_time": "2021-09-11T03:14:48.064Z"
   },
   {
    "duration": 20,
    "start_time": "2021-09-11T03:14:48.091Z"
   },
   {
    "duration": 14,
    "start_time": "2021-09-11T03:14:48.113Z"
   },
   {
    "duration": 5,
    "start_time": "2021-09-11T03:14:48.162Z"
   },
   {
    "duration": 26,
    "start_time": "2021-09-11T03:14:48.170Z"
   },
   {
    "duration": 97,
    "start_time": "2021-09-11T03:14:48.198Z"
   },
   {
    "duration": 17,
    "start_time": "2021-09-11T03:14:48.297Z"
   },
   {
    "duration": 8,
    "start_time": "2021-09-11T03:14:48.316Z"
   },
   {
    "duration": 56,
    "start_time": "2021-09-11T03:14:48.326Z"
   },
   {
    "duration": 4,
    "start_time": "2021-09-11T03:14:48.385Z"
   },
   {
    "duration": 42,
    "start_time": "2021-09-11T03:14:48.391Z"
   },
   {
    "duration": 58,
    "start_time": "2021-09-11T03:14:48.435Z"
   },
   {
    "duration": 8,
    "start_time": "2021-09-11T03:14:48.495Z"
   },
   {
    "duration": 12,
    "start_time": "2021-09-11T03:14:48.506Z"
   },
   {
    "duration": 11,
    "start_time": "2021-09-11T03:14:48.520Z"
   },
   {
    "duration": 33,
    "start_time": "2021-09-11T03:14:48.533Z"
   },
   {
    "duration": 21,
    "start_time": "2021-09-11T03:14:48.569Z"
   },
   {
    "duration": 19,
    "start_time": "2021-09-11T03:14:48.592Z"
   },
   {
    "duration": 11,
    "start_time": "2021-09-11T03:14:48.614Z"
   },
   {
    "duration": 7,
    "start_time": "2021-09-11T03:14:48.627Z"
   },
   {
    "duration": 127,
    "start_time": "2021-09-11T03:14:48.637Z"
   },
   {
    "duration": 14,
    "start_time": "2021-09-11T03:14:48.767Z"
   },
   {
    "duration": 51,
    "start_time": "2021-09-11T03:14:48.783Z"
   },
   {
    "duration": 29,
    "start_time": "2021-09-11T03:14:48.837Z"
   },
   {
    "duration": 94,
    "start_time": "2021-09-11T03:14:48.868Z"
   },
   {
    "duration": 16,
    "start_time": "2021-09-11T03:14:48.964Z"
   },
   {
    "duration": 54,
    "start_time": "2021-09-11T03:14:48.982Z"
   },
   {
    "duration": 4,
    "start_time": "2021-09-11T03:14:49.038Z"
   },
   {
    "duration": 44,
    "start_time": "2021-09-11T03:14:49.061Z"
   },
   {
    "duration": 60,
    "start_time": "2021-09-11T03:14:49.107Z"
   },
   {
    "duration": 9,
    "start_time": "2021-09-11T03:14:49.170Z"
   },
   {
    "duration": 16,
    "start_time": "2021-09-11T03:14:49.181Z"
   },
   {
    "duration": 9,
    "start_time": "2021-09-11T03:14:49.200Z"
   },
   {
    "duration": 11,
    "start_time": "2021-09-11T03:14:49.212Z"
   },
   {
    "duration": 37,
    "start_time": "2021-09-11T03:14:49.226Z"
   },
   {
    "duration": 26,
    "start_time": "2021-09-11T03:14:49.266Z"
   },
   {
    "duration": 22,
    "start_time": "2021-09-11T03:14:49.295Z"
   },
   {
    "duration": 13,
    "start_time": "2021-09-11T03:14:49.319Z"
   },
   {
    "duration": 80,
    "start_time": "2021-09-11T03:14:49.335Z"
   },
   {
    "duration": 15,
    "start_time": "2021-09-11T03:14:49.418Z"
   },
   {
    "duration": 31,
    "start_time": "2021-09-11T03:14:49.436Z"
   },
   {
    "duration": 34,
    "start_time": "2021-09-11T03:14:49.470Z"
   },
   {
    "duration": 71,
    "start_time": "2021-09-11T03:14:49.506Z"
   },
   {
    "duration": 41,
    "start_time": "2021-09-11T03:14:49.580Z"
   },
   {
    "duration": 9,
    "start_time": "2021-09-11T03:14:49.623Z"
   },
   {
    "duration": 9,
    "start_time": "2021-09-11T03:14:49.664Z"
   },
   {
    "duration": 9,
    "start_time": "2021-09-11T03:14:49.676Z"
   },
   {
    "duration": 16,
    "start_time": "2021-09-11T03:14:49.687Z"
   },
   {
    "duration": 33,
    "start_time": "2021-09-11T03:14:49.705Z"
   },
   {
    "duration": 5,
    "start_time": "2021-09-11T03:14:49.761Z"
   },
   {
    "duration": 19,
    "start_time": "2021-09-11T03:14:49.768Z"
   },
   {
    "duration": 32,
    "start_time": "2021-09-11T03:14:49.789Z"
   },
   {
    "duration": 8,
    "start_time": "2021-09-11T03:14:49.823Z"
   },
   {
    "duration": 19,
    "start_time": "2021-09-11T03:14:59.400Z"
   },
   {
    "duration": 265,
    "start_time": "2021-09-11T03:15:35.218Z"
   },
   {
    "duration": 11,
    "start_time": "2021-09-11T03:15:35.486Z"
   },
   {
    "duration": 200,
    "start_time": "2021-09-11T03:15:35.500Z"
   },
   {
    "duration": 11,
    "start_time": "2021-09-11T03:15:35.703Z"
   },
   {
    "duration": 136,
    "start_time": "2021-09-11T03:15:35.716Z"
   },
   {
    "duration": 10,
    "start_time": "2021-09-11T03:15:35.861Z"
   },
   {
    "duration": 38,
    "start_time": "2021-09-11T03:15:35.873Z"
   },
   {
    "duration": 13,
    "start_time": "2021-09-11T03:15:35.913Z"
   },
   {
    "duration": 51,
    "start_time": "2021-09-11T03:15:35.930Z"
   },
   {
    "duration": 19,
    "start_time": "2021-09-11T03:15:35.986Z"
   },
   {
    "duration": 39,
    "start_time": "2021-09-11T03:15:36.008Z"
   },
   {
    "duration": 4,
    "start_time": "2021-09-11T03:15:36.050Z"
   },
   {
    "duration": 37,
    "start_time": "2021-09-11T03:15:36.063Z"
   },
   {
    "duration": 14,
    "start_time": "2021-09-11T03:15:36.103Z"
   },
   {
    "duration": 51,
    "start_time": "2021-09-11T03:15:36.120Z"
   },
   {
    "duration": 29,
    "start_time": "2021-09-11T03:15:36.174Z"
   },
   {
    "duration": 17,
    "start_time": "2021-09-11T03:15:36.206Z"
   },
   {
    "duration": 78,
    "start_time": "2021-09-11T03:15:36.226Z"
   },
   {
    "duration": 55,
    "start_time": "2021-09-11T03:15:36.307Z"
   },
   {
    "duration": 26,
    "start_time": "2021-09-11T03:15:36.364Z"
   },
   {
    "duration": 17,
    "start_time": "2021-09-11T03:15:36.393Z"
   },
   {
    "duration": 51,
    "start_time": "2021-09-11T03:15:36.413Z"
   },
   {
    "duration": 38,
    "start_time": "2021-09-11T03:15:36.467Z"
   },
   {
    "duration": 16,
    "start_time": "2021-09-11T03:15:36.507Z"
   },
   {
    "duration": 42,
    "start_time": "2021-09-11T03:15:36.526Z"
   },
   {
    "duration": 36,
    "start_time": "2021-09-11T03:15:36.571Z"
   },
   {
    "duration": 46,
    "start_time": "2021-09-11T03:15:36.616Z"
   },
   {
    "duration": 42,
    "start_time": "2021-09-11T03:15:36.667Z"
   },
   {
    "duration": 57,
    "start_time": "2021-09-11T03:15:36.712Z"
   },
   {
    "duration": 17,
    "start_time": "2021-09-11T03:15:36.771Z"
   },
   {
    "duration": 18,
    "start_time": "2021-09-11T03:15:36.791Z"
   },
   {
    "duration": 58,
    "start_time": "2021-09-11T03:15:36.813Z"
   },
   {
    "duration": 13,
    "start_time": "2021-09-11T03:15:36.874Z"
   },
   {
    "duration": 34,
    "start_time": "2021-09-11T03:15:36.890Z"
   },
   {
    "duration": 36,
    "start_time": "2021-09-11T03:15:36.927Z"
   },
   {
    "duration": 29,
    "start_time": "2021-09-11T03:15:36.966Z"
   },
   {
    "duration": 23,
    "start_time": "2021-09-11T03:15:36.997Z"
   },
   {
    "duration": 49,
    "start_time": "2021-09-11T03:15:37.022Z"
   },
   {
    "duration": 9,
    "start_time": "2021-09-11T03:15:37.074Z"
   },
   {
    "duration": 26,
    "start_time": "2021-09-11T03:15:37.085Z"
   },
   {
    "duration": 124,
    "start_time": "2021-09-11T03:15:37.114Z"
   },
   {
    "duration": 29,
    "start_time": "2021-09-11T03:15:37.240Z"
   },
   {
    "duration": 21,
    "start_time": "2021-09-11T03:15:37.272Z"
   },
   {
    "duration": 41,
    "start_time": "2021-09-11T03:15:37.296Z"
   },
   {
    "duration": 5,
    "start_time": "2021-09-11T03:15:37.340Z"
   },
   {
    "duration": 49,
    "start_time": "2021-09-11T03:15:37.348Z"
   },
   {
    "duration": 65,
    "start_time": "2021-09-11T03:15:37.400Z"
   },
   {
    "duration": 11,
    "start_time": "2021-09-11T03:15:37.467Z"
   },
   {
    "duration": 10,
    "start_time": "2021-09-11T03:15:37.481Z"
   },
   {
    "duration": 10,
    "start_time": "2021-09-11T03:15:37.493Z"
   },
   {
    "duration": 58,
    "start_time": "2021-09-11T03:15:37.505Z"
   },
   {
    "duration": 17,
    "start_time": "2021-09-11T03:15:37.566Z"
   },
   {
    "duration": 9,
    "start_time": "2021-09-11T03:15:37.586Z"
   },
   {
    "duration": 5,
    "start_time": "2021-09-11T03:15:37.597Z"
   },
   {
    "duration": 7,
    "start_time": "2021-09-11T03:15:37.604Z"
   },
   {
    "duration": 163,
    "start_time": "2021-09-11T03:15:37.613Z"
   },
   {
    "duration": 15,
    "start_time": "2021-09-11T03:15:37.779Z"
   },
   {
    "duration": 49,
    "start_time": "2021-09-11T03:15:37.796Z"
   },
   {
    "duration": 28,
    "start_time": "2021-09-11T03:15:37.847Z"
   },
   {
    "duration": 95,
    "start_time": "2021-09-11T03:15:37.877Z"
   },
   {
    "duration": 18,
    "start_time": "2021-09-11T03:15:37.974Z"
   },
   {
    "duration": 57,
    "start_time": "2021-09-11T03:15:37.995Z"
   },
   {
    "duration": 7,
    "start_time": "2021-09-11T03:15:38.055Z"
   },
   {
    "duration": 69,
    "start_time": "2021-09-11T03:15:38.064Z"
   },
   {
    "duration": 45,
    "start_time": "2021-09-11T03:15:38.136Z"
   },
   {
    "duration": 8,
    "start_time": "2021-09-11T03:15:38.184Z"
   },
   {
    "duration": 15,
    "start_time": "2021-09-11T03:15:38.195Z"
   },
   {
    "duration": 8,
    "start_time": "2021-09-11T03:15:38.213Z"
   },
   {
    "duration": 39,
    "start_time": "2021-09-11T03:15:38.223Z"
   },
   {
    "duration": 7,
    "start_time": "2021-09-11T03:15:38.265Z"
   },
   {
    "duration": 19,
    "start_time": "2021-09-11T03:15:38.275Z"
   },
   {
    "duration": 23,
    "start_time": "2021-09-11T03:15:38.296Z"
   },
   {
    "duration": 43,
    "start_time": "2021-09-11T03:15:38.321Z"
   },
   {
    "duration": 60,
    "start_time": "2021-09-11T03:15:38.367Z"
   },
   {
    "duration": 33,
    "start_time": "2021-09-11T03:15:38.430Z"
   },
   {
    "duration": 11,
    "start_time": "2021-09-11T03:15:38.466Z"
   },
   {
    "duration": 34,
    "start_time": "2021-09-11T03:15:38.480Z"
   },
   {
    "duration": 76,
    "start_time": "2021-09-11T03:15:38.516Z"
   },
   {
    "duration": 40,
    "start_time": "2021-09-11T03:15:38.595Z"
   },
   {
    "duration": 25,
    "start_time": "2021-09-11T03:15:38.638Z"
   },
   {
    "duration": 7,
    "start_time": "2021-09-11T03:15:38.671Z"
   },
   {
    "duration": 8,
    "start_time": "2021-09-11T03:15:38.681Z"
   },
   {
    "duration": 9,
    "start_time": "2021-09-11T03:15:38.691Z"
   },
   {
    "duration": 68,
    "start_time": "2021-09-11T03:15:38.702Z"
   },
   {
    "duration": 6,
    "start_time": "2021-09-11T03:15:38.772Z"
   },
   {
    "duration": 11,
    "start_time": "2021-09-11T03:15:38.780Z"
   },
   {
    "duration": 25,
    "start_time": "2021-09-11T03:15:38.793Z"
   },
   {
    "duration": 6,
    "start_time": "2021-09-11T03:15:38.820Z"
   },
   {
    "duration": 46,
    "start_time": "2021-09-11T03:15:38.828Z"
   },
   {
    "duration": 27,
    "start_time": "2021-09-11T03:16:06.127Z"
   },
   {
    "duration": 33,
    "start_time": "2021-09-11T03:16:28.459Z"
   },
   {
    "duration": 27,
    "start_time": "2021-09-11T03:17:56.381Z"
   },
   {
    "duration": 250,
    "start_time": "2021-09-11T03:18:12.410Z"
   },
   {
    "duration": 10,
    "start_time": "2021-09-11T03:18:12.663Z"
   },
   {
    "duration": 212,
    "start_time": "2021-09-11T03:18:12.676Z"
   },
   {
    "duration": 12,
    "start_time": "2021-09-11T03:18:12.891Z"
   },
   {
    "duration": 132,
    "start_time": "2021-09-11T03:18:12.905Z"
   },
   {
    "duration": 10,
    "start_time": "2021-09-11T03:18:13.040Z"
   },
   {
    "duration": 21,
    "start_time": "2021-09-11T03:18:13.061Z"
   },
   {
    "duration": 11,
    "start_time": "2021-09-11T03:18:13.087Z"
   },
   {
    "duration": 41,
    "start_time": "2021-09-11T03:18:13.101Z"
   },
   {
    "duration": 19,
    "start_time": "2021-09-11T03:18:13.144Z"
   },
   {
    "duration": 30,
    "start_time": "2021-09-11T03:18:13.166Z"
   },
   {
    "duration": 2,
    "start_time": "2021-09-11T03:18:13.199Z"
   },
   {
    "duration": 66,
    "start_time": "2021-09-11T03:18:13.205Z"
   },
   {
    "duration": 13,
    "start_time": "2021-09-11T03:18:13.274Z"
   },
   {
    "duration": 16,
    "start_time": "2021-09-11T03:18:13.289Z"
   },
   {
    "duration": 54,
    "start_time": "2021-09-11T03:18:13.308Z"
   },
   {
    "duration": 16,
    "start_time": "2021-09-11T03:18:13.364Z"
   },
   {
    "duration": 49,
    "start_time": "2021-09-11T03:18:13.382Z"
   },
   {
    "duration": 52,
    "start_time": "2021-09-11T03:18:13.433Z"
   },
   {
    "duration": 25,
    "start_time": "2021-09-11T03:18:13.488Z"
   },
   {
    "duration": 16,
    "start_time": "2021-09-11T03:18:13.515Z"
   },
   {
    "duration": 42,
    "start_time": "2021-09-11T03:18:13.534Z"
   },
   {
    "duration": 35,
    "start_time": "2021-09-11T03:18:13.583Z"
   },
   {
    "duration": 40,
    "start_time": "2021-09-11T03:18:13.622Z"
   },
   {
    "duration": 12,
    "start_time": "2021-09-11T03:18:13.665Z"
   },
   {
    "duration": 44,
    "start_time": "2021-09-11T03:18:13.680Z"
   },
   {
    "duration": 34,
    "start_time": "2021-09-11T03:18:13.727Z"
   },
   {
    "duration": 39,
    "start_time": "2021-09-11T03:18:13.764Z"
   },
   {
    "duration": 32,
    "start_time": "2021-09-11T03:18:13.806Z"
   },
   {
    "duration": 35,
    "start_time": "2021-09-11T03:18:13.840Z"
   },
   {
    "duration": 16,
    "start_time": "2021-09-11T03:18:13.878Z"
   },
   {
    "duration": 24,
    "start_time": "2021-09-11T03:18:13.896Z"
   },
   {
    "duration": 44,
    "start_time": "2021-09-11T03:18:13.923Z"
   },
   {
    "duration": 23,
    "start_time": "2021-09-11T03:18:13.970Z"
   },
   {
    "duration": 13,
    "start_time": "2021-09-11T03:18:13.996Z"
   },
   {
    "duration": 55,
    "start_time": "2021-09-11T03:18:14.012Z"
   },
   {
    "duration": 21,
    "start_time": "2021-09-11T03:18:14.070Z"
   },
   {
    "duration": 14,
    "start_time": "2021-09-11T03:18:14.093Z"
   },
   {
    "duration": 5,
    "start_time": "2021-09-11T03:18:14.110Z"
   },
   {
    "duration": 54,
    "start_time": "2021-09-11T03:18:14.118Z"
   },
   {
    "duration": 96,
    "start_time": "2021-09-11T03:18:14.174Z"
   },
   {
    "duration": 19,
    "start_time": "2021-09-11T03:18:14.272Z"
   },
   {
    "duration": 7,
    "start_time": "2021-09-11T03:18:14.294Z"
   },
   {
    "duration": 65,
    "start_time": "2021-09-11T03:18:14.304Z"
   },
   {
    "duration": 33,
    "start_time": "2021-09-11T03:18:14.371Z"
   },
   {
    "duration": 60,
    "start_time": "2021-09-11T03:18:14.407Z"
   },
   {
    "duration": 41,
    "start_time": "2021-09-11T03:18:14.470Z"
   },
   {
    "duration": 7,
    "start_time": "2021-09-11T03:18:14.514Z"
   },
   {
    "duration": 9,
    "start_time": "2021-09-11T03:18:14.524Z"
   },
   {
    "duration": 8,
    "start_time": "2021-09-11T03:18:14.563Z"
   },
   {
    "duration": 12,
    "start_time": "2021-09-11T03:18:14.574Z"
   },
   {
    "duration": 18,
    "start_time": "2021-09-11T03:18:14.588Z"
   },
   {
    "duration": 11,
    "start_time": "2021-09-11T03:18:14.609Z"
   },
   {
    "duration": 41,
    "start_time": "2021-09-11T03:18:14.623Z"
   },
   {
    "duration": 7,
    "start_time": "2021-09-11T03:18:14.668Z"
   },
   {
    "duration": 136,
    "start_time": "2021-09-11T03:18:14.677Z"
   },
   {
    "duration": 17,
    "start_time": "2021-09-11T03:18:14.815Z"
   },
   {
    "duration": 58,
    "start_time": "2021-09-11T03:18:14.835Z"
   },
   {
    "duration": 24,
    "start_time": "2021-09-11T03:18:14.895Z"
   },
   {
    "duration": 119,
    "start_time": "2021-09-11T03:18:14.921Z"
   },
   {
    "duration": 23,
    "start_time": "2021-09-11T03:18:15.043Z"
   },
   {
    "duration": 49,
    "start_time": "2021-09-11T03:18:15.069Z"
   },
   {
    "duration": 5,
    "start_time": "2021-09-11T03:18:15.121Z"
   },
   {
    "duration": 77,
    "start_time": "2021-09-11T03:18:15.129Z"
   },
   {
    "duration": 62,
    "start_time": "2021-09-11T03:18:15.209Z"
   },
   {
    "duration": 10,
    "start_time": "2021-09-11T03:18:15.274Z"
   },
   {
    "duration": 11,
    "start_time": "2021-09-11T03:18:15.287Z"
   },
   {
    "duration": 8,
    "start_time": "2021-09-11T03:18:15.307Z"
   },
   {
    "duration": 52,
    "start_time": "2021-09-11T03:18:15.319Z"
   },
   {
    "duration": 16,
    "start_time": "2021-09-11T03:18:15.374Z"
   },
   {
    "duration": 20,
    "start_time": "2021-09-11T03:18:15.392Z"
   },
   {
    "duration": 24,
    "start_time": "2021-09-11T03:18:15.414Z"
   },
   {
    "duration": 33,
    "start_time": "2021-09-11T03:18:15.441Z"
   },
   {
    "duration": 58,
    "start_time": "2021-09-11T03:18:15.477Z"
   },
   {
    "duration": 35,
    "start_time": "2021-09-11T03:18:15.538Z"
   },
   {
    "duration": 17,
    "start_time": "2021-09-11T03:18:15.575Z"
   },
   {
    "duration": 35,
    "start_time": "2021-09-11T03:18:15.595Z"
   },
   {
    "duration": 74,
    "start_time": "2021-09-11T03:18:15.632Z"
   },
   {
    "duration": 66,
    "start_time": "2021-09-11T03:18:15.709Z"
   },
   {
    "duration": 8,
    "start_time": "2021-09-11T03:18:15.778Z"
   },
   {
    "duration": 15,
    "start_time": "2021-09-11T03:18:15.788Z"
   },
   {
    "duration": 16,
    "start_time": "2021-09-11T03:18:15.806Z"
   },
   {
    "duration": 11,
    "start_time": "2021-09-11T03:18:15.825Z"
   },
   {
    "duration": 44,
    "start_time": "2021-09-11T03:18:15.839Z"
   },
   {
    "duration": 6,
    "start_time": "2021-09-11T03:18:15.885Z"
   },
   {
    "duration": 10,
    "start_time": "2021-09-11T03:18:15.894Z"
   },
   {
    "duration": 5,
    "start_time": "2021-09-11T03:18:15.907Z"
   },
   {
    "duration": 57,
    "start_time": "2021-09-11T03:18:15.914Z"
   },
   {
    "duration": 6,
    "start_time": "2021-09-11T03:18:15.973Z"
   },
   {
    "duration": 23,
    "start_time": "2021-09-11T03:18:15.981Z"
   },
   {
    "duration": 252,
    "start_time": "2021-09-11T03:18:51.489Z"
   },
   {
    "duration": 21,
    "start_time": "2021-09-11T03:18:51.744Z"
   },
   {
    "duration": 198,
    "start_time": "2021-09-11T03:18:51.769Z"
   },
   {
    "duration": 12,
    "start_time": "2021-09-11T03:18:51.970Z"
   },
   {
    "duration": 133,
    "start_time": "2021-09-11T03:18:51.984Z"
   },
   {
    "duration": 10,
    "start_time": "2021-09-11T03:18:52.119Z"
   },
   {
    "duration": 37,
    "start_time": "2021-09-11T03:18:52.131Z"
   },
   {
    "duration": 11,
    "start_time": "2021-09-11T03:18:52.171Z"
   },
   {
    "duration": 41,
    "start_time": "2021-09-11T03:18:52.186Z"
   },
   {
    "duration": 15,
    "start_time": "2021-09-11T03:18:52.230Z"
   },
   {
    "duration": 31,
    "start_time": "2021-09-11T03:18:52.263Z"
   },
   {
    "duration": 4,
    "start_time": "2021-09-11T03:18:52.296Z"
   },
   {
    "duration": 72,
    "start_time": "2021-09-11T03:18:52.303Z"
   },
   {
    "duration": 13,
    "start_time": "2021-09-11T03:18:52.378Z"
   },
   {
    "duration": 15,
    "start_time": "2021-09-11T03:18:52.393Z"
   },
   {
    "duration": 59,
    "start_time": "2021-09-11T03:18:52.411Z"
   },
   {
    "duration": 15,
    "start_time": "2021-09-11T03:18:52.473Z"
   },
   {
    "duration": 47,
    "start_time": "2021-09-11T03:18:52.490Z"
   },
   {
    "duration": 52,
    "start_time": "2021-09-11T03:18:52.539Z"
   },
   {
    "duration": 23,
    "start_time": "2021-09-11T03:18:52.594Z"
   },
   {
    "duration": 15,
    "start_time": "2021-09-11T03:18:52.620Z"
   },
   {
    "duration": 16,
    "start_time": "2021-09-11T03:18:52.662Z"
   },
   {
    "duration": 35,
    "start_time": "2021-09-11T03:18:52.680Z"
   },
   {
    "duration": 47,
    "start_time": "2021-09-11T03:18:52.717Z"
   },
   {
    "duration": 11,
    "start_time": "2021-09-11T03:18:52.766Z"
   },
   {
    "duration": 35,
    "start_time": "2021-09-11T03:18:52.779Z"
   },
   {
    "duration": 46,
    "start_time": "2021-09-11T03:18:52.821Z"
   },
   {
    "duration": 38,
    "start_time": "2021-09-11T03:18:52.884Z"
   },
   {
    "duration": 58,
    "start_time": "2021-09-11T03:18:52.924Z"
   },
   {
    "duration": 14,
    "start_time": "2021-09-11T03:18:52.985Z"
   },
   {
    "duration": 21,
    "start_time": "2021-09-11T03:18:53.002Z"
   },
   {
    "duration": 39,
    "start_time": "2021-09-11T03:18:53.025Z"
   },
   {
    "duration": 11,
    "start_time": "2021-09-11T03:18:53.067Z"
   },
   {
    "duration": 26,
    "start_time": "2021-09-11T03:18:53.080Z"
   },
   {
    "duration": 12,
    "start_time": "2021-09-11T03:18:53.108Z"
   },
   {
    "duration": 60,
    "start_time": "2021-09-11T03:18:53.122Z"
   },
   {
    "duration": 22,
    "start_time": "2021-09-11T03:18:53.184Z"
   },
   {
    "duration": 13,
    "start_time": "2021-09-11T03:18:53.209Z"
   },
   {
    "duration": 4,
    "start_time": "2021-09-11T03:18:53.225Z"
   },
   {
    "duration": 50,
    "start_time": "2021-09-11T03:18:53.231Z"
   },
   {
    "duration": 104,
    "start_time": "2021-09-11T03:18:53.284Z"
   },
   {
    "duration": 17,
    "start_time": "2021-09-11T03:18:53.390Z"
   },
   {
    "duration": 8,
    "start_time": "2021-09-11T03:18:53.409Z"
   },
   {
    "duration": 54,
    "start_time": "2021-09-11T03:18:53.420Z"
   },
   {
    "duration": 31,
    "start_time": "2021-09-11T03:18:53.477Z"
   },
   {
    "duration": 57,
    "start_time": "2021-09-11T03:18:53.511Z"
   },
   {
    "duration": 42,
    "start_time": "2021-09-11T03:18:53.570Z"
   },
   {
    "duration": 10,
    "start_time": "2021-09-11T03:18:53.614Z"
   },
   {
    "duration": 38,
    "start_time": "2021-09-11T03:18:53.627Z"
   },
   {
    "duration": 9,
    "start_time": "2021-09-11T03:18:53.667Z"
   },
   {
    "duration": 11,
    "start_time": "2021-09-11T03:18:53.679Z"
   },
   {
    "duration": 15,
    "start_time": "2021-09-11T03:18:53.693Z"
   },
   {
    "duration": 7,
    "start_time": "2021-09-11T03:18:53.711Z"
   },
   {
    "duration": 42,
    "start_time": "2021-09-11T03:18:53.721Z"
   },
   {
    "duration": 6,
    "start_time": "2021-09-11T03:18:53.765Z"
   },
   {
    "duration": 135,
    "start_time": "2021-09-11T03:18:53.774Z"
   },
   {
    "duration": 16,
    "start_time": "2021-09-11T03:18:53.911Z"
   },
   {
    "duration": 55,
    "start_time": "2021-09-11T03:18:53.929Z"
   },
   {
    "duration": 21,
    "start_time": "2021-09-11T03:18:53.986Z"
   },
   {
    "duration": 107,
    "start_time": "2021-09-11T03:18:54.009Z"
   },
   {
    "duration": 17,
    "start_time": "2021-09-11T03:18:54.119Z"
   },
   {
    "duration": 63,
    "start_time": "2021-09-11T03:18:54.138Z"
   },
   {
    "duration": 4,
    "start_time": "2021-09-11T03:18:54.204Z"
   },
   {
    "duration": 60,
    "start_time": "2021-09-11T03:18:54.210Z"
   },
   {
    "duration": 46,
    "start_time": "2021-09-11T03:18:54.273Z"
   },
   {
    "duration": 8,
    "start_time": "2021-09-11T03:18:54.321Z"
   },
   {
    "duration": 35,
    "start_time": "2021-09-11T03:18:54.331Z"
   },
   {
    "duration": 14,
    "start_time": "2021-09-11T03:18:54.368Z"
   },
   {
    "duration": 15,
    "start_time": "2021-09-11T03:18:54.385Z"
   },
   {
    "duration": 9,
    "start_time": "2021-09-11T03:18:54.403Z"
   },
   {
    "duration": 16,
    "start_time": "2021-09-11T03:18:54.415Z"
   },
   {
    "duration": 51,
    "start_time": "2021-09-11T03:18:54.434Z"
   },
   {
    "duration": 15,
    "start_time": "2021-09-11T03:18:54.488Z"
   },
   {
    "duration": 96,
    "start_time": "2021-09-11T03:18:54.506Z"
   },
   {
    "duration": 15,
    "start_time": "2021-09-11T03:18:54.605Z"
   },
   {
    "duration": 40,
    "start_time": "2021-09-11T03:18:54.624Z"
   },
   {
    "duration": 37,
    "start_time": "2021-09-11T03:18:54.667Z"
   },
   {
    "duration": 78,
    "start_time": "2021-09-11T03:18:54.707Z"
   },
   {
    "duration": 42,
    "start_time": "2021-09-11T03:18:54.787Z"
   },
   {
    "duration": 8,
    "start_time": "2021-09-11T03:18:54.831Z"
   },
   {
    "duration": 7,
    "start_time": "2021-09-11T03:18:54.867Z"
   },
   {
    "duration": 9,
    "start_time": "2021-09-11T03:18:54.877Z"
   },
   {
    "duration": 10,
    "start_time": "2021-09-11T03:18:54.889Z"
   },
   {
    "duration": 60,
    "start_time": "2021-09-11T03:18:54.901Z"
   },
   {
    "duration": 4,
    "start_time": "2021-09-11T03:18:54.964Z"
   },
   {
    "duration": 10,
    "start_time": "2021-09-11T03:18:54.971Z"
   },
   {
    "duration": 7,
    "start_time": "2021-09-11T03:18:54.983Z"
   },
   {
    "duration": 27,
    "start_time": "2021-09-11T03:18:54.993Z"
   },
   {
    "duration": 355,
    "start_time": "2021-09-11T03:18:55.022Z"
   },
   {
    "duration": 1025,
    "start_time": "2021-09-11T03:18:54.354Z"
   },
   {
    "duration": 261,
    "start_time": "2021-09-11T03:19:05.432Z"
   },
   {
    "duration": 11,
    "start_time": "2021-09-11T03:19:05.696Z"
   },
   {
    "duration": 193,
    "start_time": "2021-09-11T03:19:05.711Z"
   },
   {
    "duration": 12,
    "start_time": "2021-09-11T03:19:05.907Z"
   },
   {
    "duration": 130,
    "start_time": "2021-09-11T03:19:05.922Z"
   },
   {
    "duration": 11,
    "start_time": "2021-09-11T03:19:06.062Z"
   },
   {
    "duration": 30,
    "start_time": "2021-09-11T03:19:06.075Z"
   },
   {
    "duration": 20,
    "start_time": "2021-09-11T03:19:06.108Z"
   },
   {
    "duration": 44,
    "start_time": "2021-09-11T03:19:06.133Z"
   },
   {
    "duration": 15,
    "start_time": "2021-09-11T03:19:06.180Z"
   },
   {
    "duration": 33,
    "start_time": "2021-09-11T03:19:06.198Z"
   },
   {
    "duration": 28,
    "start_time": "2021-09-11T03:19:06.234Z"
   },
   {
    "duration": 43,
    "start_time": "2021-09-11T03:19:06.266Z"
   },
   {
    "duration": 14,
    "start_time": "2021-09-11T03:19:06.311Z"
   },
   {
    "duration": 47,
    "start_time": "2021-09-11T03:19:06.328Z"
   },
   {
    "duration": 29,
    "start_time": "2021-09-11T03:19:06.379Z"
   },
   {
    "duration": 17,
    "start_time": "2021-09-11T03:19:06.411Z"
   },
   {
    "duration": 74,
    "start_time": "2021-09-11T03:19:06.430Z"
   },
   {
    "duration": 61,
    "start_time": "2021-09-11T03:19:06.507Z"
   },
   {
    "duration": 25,
    "start_time": "2021-09-11T03:19:06.571Z"
   },
   {
    "duration": 15,
    "start_time": "2021-09-11T03:19:06.598Z"
   },
   {
    "duration": 86,
    "start_time": "2021-09-11T03:19:06.616Z"
   },
   {
    "duration": 34,
    "start_time": "2021-09-11T03:19:06.705Z"
   },
   {
    "duration": 29,
    "start_time": "2021-09-11T03:19:06.741Z"
   },
   {
    "duration": 13,
    "start_time": "2021-09-11T03:19:06.773Z"
   },
   {
    "duration": 36,
    "start_time": "2021-09-11T03:19:06.789Z"
   },
   {
    "duration": 38,
    "start_time": "2021-09-11T03:19:06.832Z"
   },
   {
    "duration": 39,
    "start_time": "2021-09-11T03:19:06.875Z"
   },
   {
    "duration": 51,
    "start_time": "2021-09-11T03:19:06.916Z"
   },
   {
    "duration": 15,
    "start_time": "2021-09-11T03:19:06.969Z"
   },
   {
    "duration": 16,
    "start_time": "2021-09-11T03:19:06.986Z"
   },
   {
    "duration": 24,
    "start_time": "2021-09-11T03:19:07.004Z"
   },
   {
    "duration": 41,
    "start_time": "2021-09-11T03:19:07.030Z"
   },
   {
    "duration": 40,
    "start_time": "2021-09-11T03:19:07.073Z"
   },
   {
    "duration": 13,
    "start_time": "2021-09-11T03:19:07.116Z"
   },
   {
    "duration": 49,
    "start_time": "2021-09-11T03:19:07.132Z"
   },
   {
    "duration": 21,
    "start_time": "2021-09-11T03:19:07.184Z"
   },
   {
    "duration": 15,
    "start_time": "2021-09-11T03:19:07.207Z"
   },
   {
    "duration": 4,
    "start_time": "2021-09-11T03:19:07.225Z"
   },
   {
    "duration": 47,
    "start_time": "2021-09-11T03:19:07.231Z"
   },
   {
    "duration": 111,
    "start_time": "2021-09-11T03:19:07.280Z"
   },
   {
    "duration": 17,
    "start_time": "2021-09-11T03:19:07.394Z"
   },
   {
    "duration": 17,
    "start_time": "2021-09-11T03:19:07.414Z"
   },
   {
    "duration": 46,
    "start_time": "2021-09-11T03:19:07.434Z"
   },
   {
    "duration": 34,
    "start_time": "2021-09-11T03:19:07.482Z"
   },
   {
    "duration": 62,
    "start_time": "2021-09-11T03:19:07.519Z"
   },
   {
    "duration": 44,
    "start_time": "2021-09-11T03:19:07.584Z"
   },
   {
    "duration": 8,
    "start_time": "2021-09-11T03:19:07.631Z"
   },
   {
    "duration": 8,
    "start_time": "2021-09-11T03:19:07.662Z"
   },
   {
    "duration": 9,
    "start_time": "2021-09-11T03:19:07.672Z"
   },
   {
    "duration": 9,
    "start_time": "2021-09-11T03:19:07.684Z"
   },
   {
    "duration": 16,
    "start_time": "2021-09-11T03:19:07.695Z"
   },
   {
    "duration": 8,
    "start_time": "2021-09-11T03:19:07.713Z"
   },
   {
    "duration": 41,
    "start_time": "2021-09-11T03:19:07.723Z"
   },
   {
    "duration": 17,
    "start_time": "2021-09-11T03:19:07.766Z"
   },
   {
    "duration": 134,
    "start_time": "2021-09-11T03:19:07.785Z"
   },
   {
    "duration": 16,
    "start_time": "2021-09-11T03:19:07.921Z"
   },
   {
    "duration": 48,
    "start_time": "2021-09-11T03:19:07.940Z"
   },
   {
    "duration": 20,
    "start_time": "2021-09-11T03:19:07.990Z"
   },
   {
    "duration": 115,
    "start_time": "2021-09-11T03:19:08.012Z"
   },
   {
    "duration": 18,
    "start_time": "2021-09-11T03:19:08.130Z"
   },
   {
    "duration": 55,
    "start_time": "2021-09-11T03:19:08.150Z"
   },
   {
    "duration": 4,
    "start_time": "2021-09-11T03:19:08.207Z"
   },
   {
    "duration": 71,
    "start_time": "2021-09-11T03:19:08.214Z"
   },
   {
    "duration": 46,
    "start_time": "2021-09-11T03:19:08.287Z"
   },
   {
    "duration": 27,
    "start_time": "2021-09-11T03:19:08.335Z"
   },
   {
    "duration": 9,
    "start_time": "2021-09-11T03:19:08.364Z"
   },
   {
    "duration": 10,
    "start_time": "2021-09-11T03:19:08.375Z"
   },
   {
    "duration": 8,
    "start_time": "2021-09-11T03:19:08.387Z"
   },
   {
    "duration": 8,
    "start_time": "2021-09-11T03:19:08.398Z"
   },
   {
    "duration": 55,
    "start_time": "2021-09-11T03:19:08.408Z"
   },
   {
    "duration": 23,
    "start_time": "2021-09-11T03:19:08.465Z"
   },
   {
    "duration": 14,
    "start_time": "2021-09-11T03:19:08.491Z"
   },
   {
    "duration": 89,
    "start_time": "2021-09-11T03:19:08.507Z"
   },
   {
    "duration": 14,
    "start_time": "2021-09-11T03:19:08.599Z"
   },
   {
    "duration": 18,
    "start_time": "2021-09-11T03:19:08.615Z"
   },
   {
    "duration": 51,
    "start_time": "2021-09-11T03:19:08.635Z"
   },
   {
    "duration": 47,
    "start_time": "2021-09-11T03:19:08.689Z"
   },
   {
    "duration": 58,
    "start_time": "2021-09-11T03:19:08.739Z"
   },
   {
    "duration": 8,
    "start_time": "2021-09-11T03:19:08.799Z"
   },
   {
    "duration": 7,
    "start_time": "2021-09-11T03:19:08.816Z"
   },
   {
    "duration": 37,
    "start_time": "2021-09-11T03:19:08.827Z"
   },
   {
    "duration": 8,
    "start_time": "2021-09-11T03:19:08.867Z"
   },
   {
    "duration": 33,
    "start_time": "2021-09-11T03:19:08.877Z"
   },
   {
    "duration": 11,
    "start_time": "2021-09-11T03:19:08.913Z"
   },
   {
    "duration": 34,
    "start_time": "2021-09-11T03:19:08.927Z"
   },
   {
    "duration": 5,
    "start_time": "2021-09-11T03:19:08.964Z"
   },
   {
    "duration": 29,
    "start_time": "2021-09-11T03:19:08.972Z"
   },
   {
    "duration": 338,
    "start_time": "2021-09-11T03:19:09.004Z"
   },
   {
    "duration": 1012,
    "start_time": "2021-09-11T03:19:08.333Z"
   },
   {
    "duration": 11,
    "start_time": "2021-09-11T03:19:17.895Z"
   },
   {
    "duration": 20,
    "start_time": "2021-09-11T03:19:20.117Z"
   },
   {
    "duration": 249,
    "start_time": "2021-09-11T03:20:53.388Z"
   },
   {
    "duration": 11,
    "start_time": "2021-09-11T03:20:53.640Z"
   },
   {
    "duration": 201,
    "start_time": "2021-09-11T03:20:53.662Z"
   },
   {
    "duration": 11,
    "start_time": "2021-09-11T03:20:53.866Z"
   },
   {
    "duration": 133,
    "start_time": "2021-09-11T03:20:53.879Z"
   },
   {
    "duration": 10,
    "start_time": "2021-09-11T03:20:54.014Z"
   },
   {
    "duration": 22,
    "start_time": "2021-09-11T03:20:54.026Z"
   },
   {
    "duration": 12,
    "start_time": "2021-09-11T03:20:54.061Z"
   },
   {
    "duration": 30,
    "start_time": "2021-09-11T03:20:54.077Z"
   },
   {
    "duration": 14,
    "start_time": "2021-09-11T03:20:54.110Z"
   },
   {
    "duration": 54,
    "start_time": "2021-09-11T03:20:54.127Z"
   },
   {
    "duration": 3,
    "start_time": "2021-09-11T03:20:54.184Z"
   },
   {
    "duration": 43,
    "start_time": "2021-09-11T03:20:54.190Z"
   },
   {
    "duration": 28,
    "start_time": "2021-09-11T03:20:54.236Z"
   },
   {
    "duration": 16,
    "start_time": "2021-09-11T03:20:54.266Z"
   },
   {
    "duration": 32,
    "start_time": "2021-09-11T03:20:54.284Z"
   },
   {
    "duration": 48,
    "start_time": "2021-09-11T03:20:54.318Z"
   },
   {
    "duration": 50,
    "start_time": "2021-09-11T03:20:54.369Z"
   },
   {
    "duration": 47,
    "start_time": "2021-09-11T03:20:54.422Z"
   },
   {
    "duration": 25,
    "start_time": "2021-09-11T03:20:54.471Z"
   },
   {
    "duration": 15,
    "start_time": "2021-09-11T03:20:54.498Z"
   },
   {
    "duration": 16,
    "start_time": "2021-09-11T03:20:54.516Z"
   },
   {
    "duration": 34,
    "start_time": "2021-09-11T03:20:54.563Z"
   },
   {
    "duration": 13,
    "start_time": "2021-09-11T03:20:54.600Z"
   },
   {
    "duration": 13,
    "start_time": "2021-09-11T03:20:54.615Z"
   },
   {
    "duration": 61,
    "start_time": "2021-09-11T03:20:54.631Z"
   },
   {
    "duration": 13,
    "start_time": "2021-09-11T03:20:54.700Z"
   },
   {
    "duration": 61,
    "start_time": "2021-09-11T03:20:54.717Z"
   },
   {
    "duration": 30,
    "start_time": "2021-09-11T03:20:54.781Z"
   },
   {
    "duration": 15,
    "start_time": "2021-09-11T03:20:54.813Z"
   },
   {
    "duration": 38,
    "start_time": "2021-09-11T03:20:54.830Z"
   },
   {
    "duration": 22,
    "start_time": "2021-09-11T03:20:54.871Z"
   },
   {
    "duration": 10,
    "start_time": "2021-09-11T03:20:54.896Z"
   },
   {
    "duration": 22,
    "start_time": "2021-09-11T03:20:54.909Z"
   },
   {
    "duration": 13,
    "start_time": "2021-09-11T03:20:54.962Z"
   },
   {
    "duration": 28,
    "start_time": "2021-09-11T03:20:54.977Z"
   },
   {
    "duration": 21,
    "start_time": "2021-09-11T03:20:55.007Z"
   },
   {
    "duration": 39,
    "start_time": "2021-09-11T03:20:55.030Z"
   },
   {
    "duration": 6,
    "start_time": "2021-09-11T03:20:55.071Z"
   },
   {
    "duration": 25,
    "start_time": "2021-09-11T03:20:55.080Z"
   },
   {
    "duration": 107,
    "start_time": "2021-09-11T03:20:55.108Z"
   },
   {
    "duration": 16,
    "start_time": "2021-09-11T03:20:55.218Z"
   },
   {
    "duration": 25,
    "start_time": "2021-09-11T03:20:55.237Z"
   },
   {
    "duration": 30,
    "start_time": "2021-09-11T03:20:55.264Z"
   },
   {
    "duration": 32,
    "start_time": "2021-09-11T03:20:55.297Z"
   },
   {
    "duration": 61,
    "start_time": "2021-09-11T03:20:55.331Z"
   },
   {
    "duration": 43,
    "start_time": "2021-09-11T03:20:55.395Z"
   },
   {
    "duration": 27,
    "start_time": "2021-09-11T03:20:55.440Z"
   },
   {
    "duration": 14,
    "start_time": "2021-09-11T03:20:55.469Z"
   },
   {
    "duration": 13,
    "start_time": "2021-09-11T03:20:55.486Z"
   },
   {
    "duration": 19,
    "start_time": "2021-09-11T03:20:55.501Z"
   },
   {
    "duration": 16,
    "start_time": "2021-09-11T03:20:55.523Z"
   },
   {
    "duration": 7,
    "start_time": "2021-09-11T03:20:55.562Z"
   },
   {
    "duration": 4,
    "start_time": "2021-09-11T03:20:55.572Z"
   },
   {
    "duration": 10,
    "start_time": "2021-09-11T03:20:55.578Z"
   },
   {
    "duration": 138,
    "start_time": "2021-09-11T03:20:55.590Z"
   },
   {
    "duration": 14,
    "start_time": "2021-09-11T03:20:55.730Z"
   },
   {
    "duration": 44,
    "start_time": "2021-09-11T03:20:55.746Z"
   },
   {
    "duration": 23,
    "start_time": "2021-09-11T03:20:55.793Z"
   },
   {
    "duration": 116,
    "start_time": "2021-09-11T03:20:55.819Z"
   },
   {
    "duration": 23,
    "start_time": "2021-09-11T03:20:55.938Z"
   },
   {
    "duration": 45,
    "start_time": "2021-09-11T03:20:55.964Z"
   },
   {
    "duration": 4,
    "start_time": "2021-09-11T03:20:56.011Z"
   },
   {
    "duration": 69,
    "start_time": "2021-09-11T03:20:56.017Z"
   },
   {
    "duration": 44,
    "start_time": "2021-09-11T03:20:56.089Z"
   },
   {
    "duration": 7,
    "start_time": "2021-09-11T03:20:56.136Z"
   },
   {
    "duration": 8,
    "start_time": "2021-09-11T03:20:56.161Z"
   },
   {
    "duration": 9,
    "start_time": "2021-09-11T03:20:56.171Z"
   },
   {
    "duration": 12,
    "start_time": "2021-09-11T03:20:56.182Z"
   },
   {
    "duration": 9,
    "start_time": "2021-09-11T03:20:56.196Z"
   },
   {
    "duration": 15,
    "start_time": "2021-09-11T03:20:56.208Z"
   },
   {
    "duration": 57,
    "start_time": "2021-09-11T03:20:56.226Z"
   },
   {
    "duration": 15,
    "start_time": "2021-09-11T03:20:56.285Z"
   },
   {
    "duration": 87,
    "start_time": "2021-09-11T03:20:56.303Z"
   },
   {
    "duration": 15,
    "start_time": "2021-09-11T03:20:56.393Z"
   },
   {
    "duration": 14,
    "start_time": "2021-09-11T03:20:56.411Z"
   },
   {
    "duration": 54,
    "start_time": "2021-09-11T03:20:56.428Z"
   },
   {
    "duration": 46,
    "start_time": "2021-09-11T03:20:56.484Z"
   },
   {
    "duration": 62,
    "start_time": "2021-09-11T03:20:56.533Z"
   },
   {
    "duration": 8,
    "start_time": "2021-09-11T03:20:56.598Z"
   },
   {
    "duration": 7,
    "start_time": "2021-09-11T03:20:56.613Z"
   },
   {
    "duration": 10,
    "start_time": "2021-09-11T03:20:56.623Z"
   },
   {
    "duration": 7,
    "start_time": "2021-09-11T03:20:56.663Z"
   },
   {
    "duration": 26,
    "start_time": "2021-09-11T03:20:56.673Z"
   },
   {
    "duration": 11,
    "start_time": "2021-09-11T03:20:56.701Z"
   },
   {
    "duration": 7,
    "start_time": "2021-09-11T03:20:56.714Z"
   },
   {
    "duration": 38,
    "start_time": "2021-09-11T03:20:56.724Z"
   },
   {
    "duration": 23,
    "start_time": "2021-09-11T03:20:56.764Z"
   },
   {
    "duration": 10,
    "start_time": "2021-09-11T03:20:56.789Z"
   },
   {
    "duration": 22,
    "start_time": "2021-09-11T03:20:56.802Z"
   },
   {
    "duration": 346,
    "start_time": "2021-09-11T03:20:56.827Z"
   },
   {
    "duration": 7,
    "start_time": "2021-09-11T03:21:03.749Z"
   },
   {
    "duration": 27,
    "start_time": "2021-09-11T03:21:07.921Z"
   },
   {
    "duration": 11,
    "start_time": "2021-09-11T03:21:44.915Z"
   },
   {
    "duration": 8,
    "start_time": "2021-09-11T03:22:58.758Z"
   },
   {
    "duration": 8,
    "start_time": "2021-09-11T03:23:08.577Z"
   },
   {
    "duration": 268,
    "start_time": "2021-09-11T03:23:11.245Z"
   },
   {
    "duration": 11,
    "start_time": "2021-09-11T03:23:11.516Z"
   },
   {
    "duration": 202,
    "start_time": "2021-09-11T03:23:11.530Z"
   },
   {
    "duration": 12,
    "start_time": "2021-09-11T03:23:11.735Z"
   },
   {
    "duration": 138,
    "start_time": "2021-09-11T03:23:11.749Z"
   },
   {
    "duration": 10,
    "start_time": "2021-09-11T03:23:11.890Z"
   },
   {
    "duration": 25,
    "start_time": "2021-09-11T03:23:11.902Z"
   },
   {
    "duration": 10,
    "start_time": "2021-09-11T03:23:11.931Z"
   },
   {
    "duration": 38,
    "start_time": "2021-09-11T03:23:11.963Z"
   },
   {
    "duration": 14,
    "start_time": "2021-09-11T03:23:12.004Z"
   },
   {
    "duration": 36,
    "start_time": "2021-09-11T03:23:12.020Z"
   },
   {
    "duration": 3,
    "start_time": "2021-09-11T03:23:12.058Z"
   },
   {
    "duration": 42,
    "start_time": "2021-09-11T03:23:12.064Z"
   },
   {
    "duration": 12,
    "start_time": "2021-09-11T03:23:12.109Z"
   },
   {
    "duration": 20,
    "start_time": "2021-09-11T03:23:12.123Z"
   },
   {
    "duration": 28,
    "start_time": "2021-09-11T03:23:12.162Z"
   },
   {
    "duration": 16,
    "start_time": "2021-09-11T03:23:12.193Z"
   },
   {
    "duration": 78,
    "start_time": "2021-09-11T03:23:12.212Z"
   },
   {
    "duration": 34,
    "start_time": "2021-09-11T03:23:12.293Z"
   },
   {
    "duration": 44,
    "start_time": "2021-09-11T03:23:12.329Z"
   },
   {
    "duration": 15,
    "start_time": "2021-09-11T03:23:12.375Z"
   },
   {
    "duration": 24,
    "start_time": "2021-09-11T03:23:12.393Z"
   },
   {
    "duration": 69,
    "start_time": "2021-09-11T03:23:12.425Z"
   },
   {
    "duration": 15,
    "start_time": "2021-09-11T03:23:12.499Z"
   },
   {
    "duration": 14,
    "start_time": "2021-09-11T03:23:12.516Z"
   },
   {
    "duration": 63,
    "start_time": "2021-09-11T03:23:12.532Z"
   },
   {
    "duration": 13,
    "start_time": "2021-09-11T03:23:12.598Z"
   },
   {
    "duration": 64,
    "start_time": "2021-09-11T03:23:12.614Z"
   },
   {
    "duration": 30,
    "start_time": "2021-09-11T03:23:12.681Z"
   },
   {
    "duration": 14,
    "start_time": "2021-09-11T03:23:12.714Z"
   },
   {
    "duration": 38,
    "start_time": "2021-09-11T03:23:12.731Z"
   },
   {
    "duration": 27,
    "start_time": "2021-09-11T03:23:12.772Z"
   },
   {
    "duration": 11,
    "start_time": "2021-09-11T03:23:12.802Z"
   },
   {
    "duration": 53,
    "start_time": "2021-09-11T03:23:12.816Z"
   },
   {
    "duration": 14,
    "start_time": "2021-09-11T03:23:12.872Z"
   },
   {
    "duration": 25,
    "start_time": "2021-09-11T03:23:12.889Z"
   },
   {
    "duration": 50,
    "start_time": "2021-09-11T03:23:12.916Z"
   },
   {
    "duration": 15,
    "start_time": "2021-09-11T03:23:12.968Z"
   },
   {
    "duration": 7,
    "start_time": "2021-09-11T03:23:12.985Z"
   },
   {
    "duration": 25,
    "start_time": "2021-09-11T03:23:12.995Z"
   },
   {
    "duration": 115,
    "start_time": "2021-09-11T03:23:13.023Z"
   },
   {
    "duration": 24,
    "start_time": "2021-09-11T03:23:13.140Z"
   },
   {
    "duration": 14,
    "start_time": "2021-09-11T03:23:13.166Z"
   },
   {
    "duration": 29,
    "start_time": "2021-09-11T03:23:13.183Z"
   },
   {
    "duration": 55,
    "start_time": "2021-09-11T03:23:13.215Z"
   },
   {
    "duration": 37,
    "start_time": "2021-09-11T03:23:13.274Z"
   },
   {
    "duration": 72,
    "start_time": "2021-09-11T03:23:13.314Z"
   },
   {
    "duration": 10,
    "start_time": "2021-09-11T03:23:13.389Z"
   },
   {
    "duration": 10,
    "start_time": "2021-09-11T03:23:13.402Z"
   },
   {
    "duration": 50,
    "start_time": "2021-09-11T03:23:13.414Z"
   },
   {
    "duration": 14,
    "start_time": "2021-09-11T03:23:13.467Z"
   },
   {
    "duration": 18,
    "start_time": "2021-09-11T03:23:13.484Z"
   },
   {
    "duration": 10,
    "start_time": "2021-09-11T03:23:13.505Z"
   },
   {
    "duration": 5,
    "start_time": "2021-09-11T03:23:13.518Z"
   },
   {
    "duration": 37,
    "start_time": "2021-09-11T03:23:13.526Z"
   },
   {
    "duration": 132,
    "start_time": "2021-09-11T03:23:13.566Z"
   },
   {
    "duration": 14,
    "start_time": "2021-09-11T03:23:13.701Z"
   },
   {
    "duration": 57,
    "start_time": "2021-09-11T03:23:13.717Z"
   },
   {
    "duration": 21,
    "start_time": "2021-09-11T03:23:13.777Z"
   },
   {
    "duration": 103,
    "start_time": "2021-09-11T03:23:13.800Z"
   },
   {
    "duration": 18,
    "start_time": "2021-09-11T03:23:13.905Z"
   },
   {
    "duration": 59,
    "start_time": "2021-09-11T03:23:13.925Z"
   },
   {
    "duration": 4,
    "start_time": "2021-09-11T03:23:13.986Z"
   },
   {
    "duration": 56,
    "start_time": "2021-09-11T03:23:13.992Z"
   },
   {
    "duration": 53,
    "start_time": "2021-09-11T03:23:14.051Z"
   },
   {
    "duration": 7,
    "start_time": "2021-09-11T03:23:14.106Z"
   },
   {
    "duration": 11,
    "start_time": "2021-09-11T03:23:14.116Z"
   },
   {
    "duration": 32,
    "start_time": "2021-09-11T03:23:14.136Z"
   },
   {
    "duration": 9,
    "start_time": "2021-09-11T03:23:14.171Z"
   },
   {
    "duration": 10,
    "start_time": "2021-09-11T03:23:14.183Z"
   },
   {
    "duration": 16,
    "start_time": "2021-09-11T03:23:14.195Z"
   },
   {
    "duration": 56,
    "start_time": "2021-09-11T03:23:14.213Z"
   },
   {
    "duration": 15,
    "start_time": "2021-09-11T03:23:14.271Z"
   },
   {
    "duration": 74,
    "start_time": "2021-09-11T03:23:14.288Z"
   },
   {
    "duration": 16,
    "start_time": "2021-09-11T03:23:14.364Z"
   },
   {
    "duration": 14,
    "start_time": "2021-09-11T03:23:14.382Z"
   },
   {
    "duration": 68,
    "start_time": "2021-09-11T03:23:14.399Z"
   },
   {
    "duration": 47,
    "start_time": "2021-09-11T03:23:14.470Z"
   },
   {
    "duration": 57,
    "start_time": "2021-09-11T03:23:14.519Z"
   },
   {
    "duration": 8,
    "start_time": "2021-09-11T03:23:14.578Z"
   },
   {
    "duration": 9,
    "start_time": "2021-09-11T03:23:14.588Z"
   },
   {
    "duration": 8,
    "start_time": "2021-09-11T03:23:14.600Z"
   },
   {
    "duration": 11,
    "start_time": "2021-09-11T03:23:14.610Z"
   },
   {
    "duration": 59,
    "start_time": "2021-09-11T03:23:14.623Z"
   },
   {
    "duration": 5,
    "start_time": "2021-09-11T03:23:14.684Z"
   },
   {
    "duration": 8,
    "start_time": "2021-09-11T03:23:14.692Z"
   },
   {
    "duration": 7,
    "start_time": "2021-09-11T03:23:14.702Z"
   },
   {
    "duration": 60,
    "start_time": "2021-09-11T03:23:14.711Z"
   },
   {
    "duration": 7,
    "start_time": "2021-09-11T03:23:14.774Z"
   },
   {
    "duration": 8,
    "start_time": "2021-09-11T03:23:14.783Z"
   },
   {
    "duration": 28,
    "start_time": "2021-09-11T03:23:14.793Z"
   },
   {
    "duration": 6,
    "start_time": "2021-09-11T03:23:14.824Z"
   },
   {
    "duration": 10,
    "start_time": "2021-09-11T03:23:14.861Z"
   },
   {
    "duration": 29,
    "start_time": "2021-09-11T03:23:14.873Z"
   },
   {
    "duration": 255,
    "start_time": "2021-09-11T03:54:32.002Z"
   },
   {
    "duration": 11,
    "start_time": "2021-09-11T03:54:32.261Z"
   },
   {
    "duration": 198,
    "start_time": "2021-09-11T03:54:32.274Z"
   },
   {
    "duration": 12,
    "start_time": "2021-09-11T03:54:32.474Z"
   },
   {
    "duration": 136,
    "start_time": "2021-09-11T03:54:32.488Z"
   },
   {
    "duration": 9,
    "start_time": "2021-09-11T03:54:32.626Z"
   },
   {
    "duration": 30,
    "start_time": "2021-09-11T03:54:32.637Z"
   },
   {
    "duration": 12,
    "start_time": "2021-09-11T03:54:32.670Z"
   },
   {
    "duration": 43,
    "start_time": "2021-09-11T03:54:32.685Z"
   },
   {
    "duration": 13,
    "start_time": "2021-09-11T03:54:32.730Z"
   },
   {
    "duration": 34,
    "start_time": "2021-09-11T03:54:32.745Z"
   },
   {
    "duration": 2,
    "start_time": "2021-09-11T03:54:32.781Z"
   },
   {
    "duration": 41,
    "start_time": "2021-09-11T03:54:32.785Z"
   },
   {
    "duration": 10,
    "start_time": "2021-09-11T03:54:32.829Z"
   },
   {
    "duration": 13,
    "start_time": "2021-09-11T03:54:32.862Z"
   },
   {
    "duration": 28,
    "start_time": "2021-09-11T03:54:32.878Z"
   },
   {
    "duration": 15,
    "start_time": "2021-09-11T03:54:32.909Z"
   },
   {
    "duration": 72,
    "start_time": "2021-09-11T03:54:32.926Z"
   },
   {
    "duration": 29,
    "start_time": "2021-09-11T03:54:33.001Z"
   },
   {
    "duration": 44,
    "start_time": "2021-09-11T03:54:33.032Z"
   },
   {
    "duration": 15,
    "start_time": "2021-09-11T03:54:33.079Z"
   },
   {
    "duration": 18,
    "start_time": "2021-09-11T03:54:33.096Z"
   },
   {
    "duration": 63,
    "start_time": "2021-09-11T03:54:33.120Z"
   },
   {
    "duration": 13,
    "start_time": "2021-09-11T03:54:33.187Z"
   },
   {
    "duration": 25,
    "start_time": "2021-09-11T03:54:33.203Z"
   },
   {
    "duration": 46,
    "start_time": "2021-09-11T03:54:33.231Z"
   },
   {
    "duration": 15,
    "start_time": "2021-09-11T03:54:33.279Z"
   },
   {
    "duration": 38,
    "start_time": "2021-09-11T03:54:33.297Z"
   },
   {
    "duration": 51,
    "start_time": "2021-09-11T03:54:33.338Z"
   },
   {
    "duration": 15,
    "start_time": "2021-09-11T03:54:33.392Z"
   },
   {
    "duration": 20,
    "start_time": "2021-09-11T03:54:33.409Z"
   },
   {
    "duration": 45,
    "start_time": "2021-09-11T03:54:33.431Z"
   },
   {
    "duration": 12,
    "start_time": "2021-09-11T03:54:33.479Z"
   },
   {
    "duration": 25,
    "start_time": "2021-09-11T03:54:33.493Z"
   },
   {
    "duration": 41,
    "start_time": "2021-09-11T03:54:33.521Z"
   },
   {
    "duration": 25,
    "start_time": "2021-09-11T03:54:33.564Z"
   },
   {
    "duration": 21,
    "start_time": "2021-09-11T03:54:33.592Z"
   },
   {
    "duration": 22,
    "start_time": "2021-09-11T03:54:33.615Z"
   },
   {
    "duration": 4,
    "start_time": "2021-09-11T03:54:33.661Z"
   },
   {
    "duration": 22,
    "start_time": "2021-09-11T03:54:33.668Z"
   },
   {
    "duration": 107,
    "start_time": "2021-09-11T03:54:33.692Z"
   },
   {
    "duration": 18,
    "start_time": "2021-09-11T03:54:33.802Z"
   },
   {
    "duration": 9,
    "start_time": "2021-09-11T03:54:33.822Z"
   },
   {
    "duration": 52,
    "start_time": "2021-09-11T03:54:33.834Z"
   },
   {
    "duration": 32,
    "start_time": "2021-09-11T03:54:33.889Z"
   },
   {
    "duration": 60,
    "start_time": "2021-09-11T03:54:33.924Z"
   },
   {
    "duration": 45,
    "start_time": "2021-09-11T03:54:33.986Z"
   },
   {
    "duration": 28,
    "start_time": "2021-09-11T03:54:34.034Z"
   },
   {
    "duration": 8,
    "start_time": "2021-09-11T03:54:34.065Z"
   },
   {
    "duration": 8,
    "start_time": "2021-09-11T03:54:34.075Z"
   },
   {
    "duration": 10,
    "start_time": "2021-09-11T03:54:34.086Z"
   },
   {
    "duration": 15,
    "start_time": "2021-09-11T03:54:34.099Z"
   },
   {
    "duration": 47,
    "start_time": "2021-09-11T03:54:34.117Z"
   },
   {
    "duration": 5,
    "start_time": "2021-09-11T03:54:34.166Z"
   },
   {
    "duration": 6,
    "start_time": "2021-09-11T03:54:34.173Z"
   },
   {
    "duration": 150,
    "start_time": "2021-09-11T03:54:34.181Z"
   },
   {
    "duration": 16,
    "start_time": "2021-09-11T03:54:34.333Z"
   },
   {
    "duration": 45,
    "start_time": "2021-09-11T03:54:34.351Z"
   },
   {
    "duration": 21,
    "start_time": "2021-09-11T03:54:34.398Z"
   },
   {
    "duration": 113,
    "start_time": "2021-09-11T03:54:34.422Z"
   },
   {
    "duration": 25,
    "start_time": "2021-09-11T03:54:34.538Z"
   },
   {
    "duration": 45,
    "start_time": "2021-09-11T03:54:34.566Z"
   },
   {
    "duration": 4,
    "start_time": "2021-09-11T03:54:34.614Z"
   },
   {
    "duration": 73,
    "start_time": "2021-09-11T03:54:34.621Z"
   },
   {
    "duration": 45,
    "start_time": "2021-09-11T03:54:34.697Z"
   },
   {
    "duration": 19,
    "start_time": "2021-09-11T03:54:34.744Z"
   },
   {
    "duration": 8,
    "start_time": "2021-09-11T03:54:34.765Z"
   },
   {
    "duration": 7,
    "start_time": "2021-09-11T03:54:34.781Z"
   },
   {
    "duration": 8,
    "start_time": "2021-09-11T03:54:34.791Z"
   },
   {
    "duration": 18,
    "start_time": "2021-09-11T03:54:34.801Z"
   },
   {
    "duration": 50,
    "start_time": "2021-09-11T03:54:34.821Z"
   },
   {
    "duration": 35,
    "start_time": "2021-09-11T03:54:34.873Z"
   },
   {
    "duration": 14,
    "start_time": "2021-09-11T03:54:34.910Z"
   },
   {
    "duration": 76,
    "start_time": "2021-09-11T03:54:34.926Z"
   },
   {
    "duration": 14,
    "start_time": "2021-09-11T03:54:35.004Z"
   },
   {
    "duration": 15,
    "start_time": "2021-09-11T03:54:35.020Z"
   },
   {
    "duration": 55,
    "start_time": "2021-09-11T03:54:35.037Z"
   },
   {
    "duration": 47,
    "start_time": "2021-09-11T03:54:35.094Z"
   },
   {
    "duration": 57,
    "start_time": "2021-09-11T03:54:35.143Z"
   },
   {
    "duration": 7,
    "start_time": "2021-09-11T03:54:35.202Z"
   },
   {
    "duration": 12,
    "start_time": "2021-09-11T03:54:35.212Z"
   },
   {
    "duration": 37,
    "start_time": "2021-09-11T03:54:35.226Z"
   },
   {
    "duration": 7,
    "start_time": "2021-09-11T03:54:35.265Z"
   },
   {
    "duration": 30,
    "start_time": "2021-09-11T03:54:35.274Z"
   },
   {
    "duration": 7,
    "start_time": "2021-09-11T03:54:35.306Z"
   },
   {
    "duration": 13,
    "start_time": "2021-09-11T03:54:35.315Z"
   },
   {
    "duration": 32,
    "start_time": "2021-09-11T03:54:35.330Z"
   },
   {
    "duration": 28,
    "start_time": "2021-09-11T03:54:35.364Z"
   },
   {
    "duration": 10,
    "start_time": "2021-09-11T03:54:35.395Z"
   },
   {
    "duration": 4,
    "start_time": "2021-09-11T03:54:35.407Z"
   },
   {
    "duration": 649,
    "start_time": "2021-09-11T03:54:35.414Z"
   },
   {
    "duration": 7,
    "start_time": "2021-09-11T03:54:36.065Z"
   },
   {
    "duration": 11,
    "start_time": "2021-09-11T03:54:36.074Z"
   },
   {
    "duration": 16,
    "start_time": "2021-09-11T03:54:36.087Z"
   },
   {
    "duration": 30,
    "start_time": "2021-09-11T03:54:36.105Z"
   },
   {
    "duration": 20,
    "start_time": "2021-09-11T03:54:50.180Z"
   },
   {
    "duration": 257,
    "start_time": "2021-09-11T03:55:19.711Z"
   },
   {
    "duration": 11,
    "start_time": "2021-09-11T03:55:19.971Z"
   },
   {
    "duration": 206,
    "start_time": "2021-09-11T03:55:19.985Z"
   },
   {
    "duration": 11,
    "start_time": "2021-09-11T03:55:20.194Z"
   },
   {
    "duration": 132,
    "start_time": "2021-09-11T03:55:20.207Z"
   },
   {
    "duration": 9,
    "start_time": "2021-09-11T03:55:20.342Z"
   },
   {
    "duration": 21,
    "start_time": "2021-09-11T03:55:20.362Z"
   },
   {
    "duration": 15,
    "start_time": "2021-09-11T03:55:20.386Z"
   },
   {
    "duration": 34,
    "start_time": "2021-09-11T03:55:20.405Z"
   },
   {
    "duration": 21,
    "start_time": "2021-09-11T03:55:20.442Z"
   },
   {
    "duration": 29,
    "start_time": "2021-09-11T03:55:20.466Z"
   },
   {
    "duration": 2,
    "start_time": "2021-09-11T03:55:20.498Z"
   },
   {
    "duration": 65,
    "start_time": "2021-09-11T03:55:20.503Z"
   },
   {
    "duration": 12,
    "start_time": "2021-09-11T03:55:20.570Z"
   },
   {
    "duration": 17,
    "start_time": "2021-09-11T03:55:20.584Z"
   },
   {
    "duration": 36,
    "start_time": "2021-09-11T03:55:20.603Z"
   },
   {
    "duration": 15,
    "start_time": "2021-09-11T03:55:20.663Z"
   },
   {
    "duration": 46,
    "start_time": "2021-09-11T03:55:20.681Z"
   },
   {
    "duration": 50,
    "start_time": "2021-09-11T03:55:20.730Z"
   },
   {
    "duration": 25,
    "start_time": "2021-09-11T03:55:20.782Z"
   },
   {
    "duration": 15,
    "start_time": "2021-09-11T03:55:20.809Z"
   },
   {
    "duration": 44,
    "start_time": "2021-09-11T03:55:20.826Z"
   },
   {
    "duration": 35,
    "start_time": "2021-09-11T03:55:20.873Z"
   },
   {
    "duration": 13,
    "start_time": "2021-09-11T03:55:20.910Z"
   },
   {
    "duration": 38,
    "start_time": "2021-09-11T03:55:20.925Z"
   },
   {
    "duration": 33,
    "start_time": "2021-09-11T03:55:20.965Z"
   },
   {
    "duration": 14,
    "start_time": "2021-09-11T03:55:21.005Z"
   },
   {
    "duration": 66,
    "start_time": "2021-09-11T03:55:21.022Z"
   },
   {
    "duration": 32,
    "start_time": "2021-09-11T03:55:21.090Z"
   },
   {
    "duration": 16,
    "start_time": "2021-09-11T03:55:21.124Z"
   },
   {
    "duration": 13,
    "start_time": "2021-09-11T03:55:21.162Z"
   },
   {
    "duration": 47,
    "start_time": "2021-09-11T03:55:21.178Z"
   },
   {
    "duration": 12,
    "start_time": "2021-09-11T03:55:21.227Z"
   },
   {
    "duration": 39,
    "start_time": "2021-09-11T03:55:21.241Z"
   },
   {
    "duration": 13,
    "start_time": "2021-09-11T03:55:21.283Z"
   },
   {
    "duration": 31,
    "start_time": "2021-09-11T03:55:21.298Z"
   },
   {
    "duration": 41,
    "start_time": "2021-09-11T03:55:21.332Z"
   },
   {
    "duration": 14,
    "start_time": "2021-09-11T03:55:21.375Z"
   },
   {
    "duration": 10,
    "start_time": "2021-09-11T03:55:21.391Z"
   },
   {
    "duration": 27,
    "start_time": "2021-09-11T03:55:21.403Z"
   },
   {
    "duration": 114,
    "start_time": "2021-09-11T03:55:21.432Z"
   },
   {
    "duration": 21,
    "start_time": "2021-09-11T03:55:21.549Z"
   },
   {
    "duration": 15,
    "start_time": "2021-09-11T03:55:21.573Z"
   },
   {
    "duration": 40,
    "start_time": "2021-09-11T03:55:21.591Z"
   },
   {
    "duration": 43,
    "start_time": "2021-09-11T03:55:21.634Z"
   },
   {
    "duration": 37,
    "start_time": "2021-09-11T03:55:21.679Z"
   },
   {
    "duration": 67,
    "start_time": "2021-09-11T03:55:21.718Z"
   },
   {
    "duration": 9,
    "start_time": "2021-09-11T03:55:21.788Z"
   },
   {
    "duration": 26,
    "start_time": "2021-09-11T03:55:21.799Z"
   },
   {
    "duration": 20,
    "start_time": "2021-09-11T03:55:21.828Z"
   },
   {
    "duration": 16,
    "start_time": "2021-09-11T03:55:21.851Z"
   },
   {
    "duration": 25,
    "start_time": "2021-09-11T03:55:21.869Z"
   },
   {
    "duration": 17,
    "start_time": "2021-09-11T03:55:21.897Z"
   },
   {
    "duration": 6,
    "start_time": "2021-09-11T03:55:21.916Z"
   },
   {
    "duration": 12,
    "start_time": "2021-09-11T03:55:21.924Z"
   },
   {
    "duration": 141,
    "start_time": "2021-09-11T03:55:21.938Z"
   },
   {
    "duration": 15,
    "start_time": "2021-09-11T03:55:22.082Z"
   },
   {
    "duration": 55,
    "start_time": "2021-09-11T03:55:22.099Z"
   },
   {
    "duration": 23,
    "start_time": "2021-09-11T03:55:22.157Z"
   },
   {
    "duration": 112,
    "start_time": "2021-09-11T03:55:22.182Z"
   },
   {
    "duration": 18,
    "start_time": "2021-09-11T03:55:22.297Z"
   },
   {
    "duration": 65,
    "start_time": "2021-09-11T03:55:22.317Z"
   },
   {
    "duration": 5,
    "start_time": "2021-09-11T03:55:22.384Z"
   },
   {
    "duration": 55,
    "start_time": "2021-09-11T03:55:22.391Z"
   },
   {
    "duration": 53,
    "start_time": "2021-09-11T03:55:22.448Z"
   },
   {
    "duration": 8,
    "start_time": "2021-09-11T03:55:22.503Z"
   },
   {
    "duration": 25,
    "start_time": "2021-09-11T03:55:22.513Z"
   },
   {
    "duration": 22,
    "start_time": "2021-09-11T03:55:22.541Z"
   },
   {
    "duration": 11,
    "start_time": "2021-09-11T03:55:22.565Z"
   },
   {
    "duration": 16,
    "start_time": "2021-09-11T03:55:22.579Z"
   },
   {
    "duration": 20,
    "start_time": "2021-09-11T03:55:22.597Z"
   },
   {
    "duration": 33,
    "start_time": "2021-09-11T03:55:22.619Z"
   },
   {
    "duration": 15,
    "start_time": "2021-09-11T03:55:22.661Z"
   },
   {
    "duration": 75,
    "start_time": "2021-09-11T03:55:22.678Z"
   },
   {
    "duration": 14,
    "start_time": "2021-09-11T03:55:22.756Z"
   },
   {
    "duration": 33,
    "start_time": "2021-09-11T03:55:22.772Z"
   },
   {
    "duration": 37,
    "start_time": "2021-09-11T03:55:22.808Z"
   },
   {
    "duration": 59,
    "start_time": "2021-09-11T03:55:22.847Z"
   },
   {
    "duration": 56,
    "start_time": "2021-09-11T03:55:22.909Z"
   },
   {
    "duration": 9,
    "start_time": "2021-09-11T03:55:22.967Z"
   },
   {
    "duration": 9,
    "start_time": "2021-09-11T03:55:22.984Z"
   },
   {
    "duration": 22,
    "start_time": "2021-09-11T03:55:22.995Z"
   },
   {
    "duration": 34,
    "start_time": "2021-09-11T03:55:23.020Z"
   },
   {
    "duration": 56,
    "start_time": "2021-09-11T03:55:23.057Z"
   },
   {
    "duration": 17,
    "start_time": "2021-09-11T03:55:23.115Z"
   },
   {
    "duration": 22,
    "start_time": "2021-09-11T03:55:23.135Z"
   },
   {
    "duration": 26,
    "start_time": "2021-09-11T03:55:23.160Z"
   },
   {
    "duration": 41,
    "start_time": "2021-09-11T03:55:23.189Z"
   },
   {
    "duration": 35,
    "start_time": "2021-09-11T03:55:23.233Z"
   },
   {
    "duration": 26,
    "start_time": "2021-09-11T03:55:23.271Z"
   },
   {
    "duration": 1588,
    "start_time": "2021-09-11T03:55:23.300Z"
   },
   {
    "duration": 23,
    "start_time": "2021-09-11T03:55:24.891Z"
   },
   {
    "duration": 29,
    "start_time": "2021-09-11T03:55:24.916Z"
   },
   {
    "duration": 27,
    "start_time": "2021-09-11T03:55:24.947Z"
   },
   {
    "duration": 54,
    "start_time": "2021-09-11T03:55:24.976Z"
   },
   {
    "duration": 7,
    "start_time": "2021-09-11T03:55:56.169Z"
   },
   {
    "duration": 241,
    "start_time": "2021-09-11T03:56:19.301Z"
   },
   {
    "duration": 18,
    "start_time": "2021-09-11T03:56:19.545Z"
   },
   {
    "duration": 204,
    "start_time": "2021-09-11T03:56:19.566Z"
   },
   {
    "duration": 12,
    "start_time": "2021-09-11T03:56:19.773Z"
   },
   {
    "duration": 133,
    "start_time": "2021-09-11T03:56:19.787Z"
   },
   {
    "duration": 10,
    "start_time": "2021-09-11T03:56:19.923Z"
   },
   {
    "duration": 34,
    "start_time": "2021-09-11T03:56:19.935Z"
   },
   {
    "duration": 18,
    "start_time": "2021-09-11T03:56:19.972Z"
   },
   {
    "duration": 33,
    "start_time": "2021-09-11T03:56:19.995Z"
   },
   {
    "duration": 14,
    "start_time": "2021-09-11T03:56:20.031Z"
   },
   {
    "duration": 42,
    "start_time": "2021-09-11T03:56:20.048Z"
   },
   {
    "duration": 3,
    "start_time": "2021-09-11T03:56:20.093Z"
   },
   {
    "duration": 49,
    "start_time": "2021-09-11T03:56:20.098Z"
   },
   {
    "duration": 20,
    "start_time": "2021-09-11T03:56:20.150Z"
   },
   {
    "duration": 16,
    "start_time": "2021-09-11T03:56:20.173Z"
   },
   {
    "duration": 31,
    "start_time": "2021-09-11T03:56:20.193Z"
   },
   {
    "duration": 43,
    "start_time": "2021-09-11T03:56:20.227Z"
   },
   {
    "duration": 44,
    "start_time": "2021-09-11T03:56:20.273Z"
   },
   {
    "duration": 60,
    "start_time": "2021-09-11T03:56:20.319Z"
   },
   {
    "duration": 25,
    "start_time": "2021-09-11T03:56:20.382Z"
   },
   {
    "duration": 17,
    "start_time": "2021-09-11T03:56:20.409Z"
   },
   {
    "duration": 46,
    "start_time": "2021-09-11T03:56:20.428Z"
   },
   {
    "duration": 35,
    "start_time": "2021-09-11T03:56:20.477Z"
   },
   {
    "duration": 13,
    "start_time": "2021-09-11T03:56:20.515Z"
   },
   {
    "duration": 38,
    "start_time": "2021-09-11T03:56:20.531Z"
   },
   {
    "duration": 37,
    "start_time": "2021-09-11T03:56:20.572Z"
   },
   {
    "duration": 14,
    "start_time": "2021-09-11T03:56:20.615Z"
   },
   {
    "duration": 61,
    "start_time": "2021-09-11T03:56:20.633Z"
   },
   {
    "duration": 31,
    "start_time": "2021-09-11T03:56:20.696Z"
   },
   {
    "duration": 36,
    "start_time": "2021-09-11T03:56:20.729Z"
   },
   {
    "duration": 17,
    "start_time": "2021-09-11T03:56:20.767Z"
   },
   {
    "duration": 30,
    "start_time": "2021-09-11T03:56:20.786Z"
   },
   {
    "duration": 12,
    "start_time": "2021-09-11T03:56:20.818Z"
   },
   {
    "duration": 52,
    "start_time": "2021-09-11T03:56:20.832Z"
   },
   {
    "duration": 13,
    "start_time": "2021-09-11T03:56:20.886Z"
   },
   {
    "duration": 25,
    "start_time": "2021-09-11T03:56:20.902Z"
   },
   {
    "duration": 45,
    "start_time": "2021-09-11T03:56:20.930Z"
   },
   {
    "duration": 14,
    "start_time": "2021-09-11T03:56:20.977Z"
   },
   {
    "duration": 8,
    "start_time": "2021-09-11T03:56:20.993Z"
   },
   {
    "duration": 26,
    "start_time": "2021-09-11T03:56:21.003Z"
   },
   {
    "duration": 112,
    "start_time": "2021-09-11T03:56:21.032Z"
   },
   {
    "duration": 25,
    "start_time": "2021-09-11T03:56:21.147Z"
   },
   {
    "duration": 17,
    "start_time": "2021-09-11T03:56:21.175Z"
   },
   {
    "duration": 54,
    "start_time": "2021-09-11T03:56:21.196Z"
   },
   {
    "duration": 37,
    "start_time": "2021-09-11T03:56:21.253Z"
   },
   {
    "duration": 36,
    "start_time": "2021-09-11T03:56:21.292Z"
   },
   {
    "duration": 66,
    "start_time": "2021-09-11T03:56:21.331Z"
   },
   {
    "duration": 7,
    "start_time": "2021-09-11T03:56:21.400Z"
   },
   {
    "duration": 10,
    "start_time": "2021-09-11T03:56:21.410Z"
   },
   {
    "duration": 8,
    "start_time": "2021-09-11T03:56:21.422Z"
   },
   {
    "duration": 8,
    "start_time": "2021-09-11T03:56:21.463Z"
   },
   {
    "duration": 17,
    "start_time": "2021-09-11T03:56:21.473Z"
   },
   {
    "duration": 11,
    "start_time": "2021-09-11T03:56:21.492Z"
   },
   {
    "duration": 4,
    "start_time": "2021-09-11T03:56:21.505Z"
   },
   {
    "duration": 6,
    "start_time": "2021-09-11T03:56:21.511Z"
   },
   {
    "duration": 160,
    "start_time": "2021-09-11T03:56:21.519Z"
   },
   {
    "duration": 16,
    "start_time": "2021-09-11T03:56:21.682Z"
   },
   {
    "duration": 42,
    "start_time": "2021-09-11T03:56:21.700Z"
   },
   {
    "duration": 38,
    "start_time": "2021-09-11T03:56:21.744Z"
   },
   {
    "duration": 103,
    "start_time": "2021-09-11T03:56:21.784Z"
   },
   {
    "duration": 17,
    "start_time": "2021-09-11T03:56:21.889Z"
   },
   {
    "duration": 62,
    "start_time": "2021-09-11T03:56:21.908Z"
   },
   {
    "duration": 4,
    "start_time": "2021-09-11T03:56:21.973Z"
   },
   {
    "duration": 51,
    "start_time": "2021-09-11T03:56:21.979Z"
   },
   {
    "duration": 56,
    "start_time": "2021-09-11T03:56:22.032Z"
   },
   {
    "duration": 8,
    "start_time": "2021-09-11T03:56:22.090Z"
   },
   {
    "duration": 14,
    "start_time": "2021-09-11T03:56:22.100Z"
   },
   {
    "duration": 8,
    "start_time": "2021-09-11T03:56:22.116Z"
   },
   {
    "duration": 37,
    "start_time": "2021-09-11T03:56:22.126Z"
   },
   {
    "duration": 8,
    "start_time": "2021-09-11T03:56:22.166Z"
   },
   {
    "duration": 15,
    "start_time": "2021-09-11T03:56:22.177Z"
   },
   {
    "duration": 28,
    "start_time": "2021-09-11T03:56:22.194Z"
   },
   {
    "duration": 43,
    "start_time": "2021-09-11T03:56:22.224Z"
   },
   {
    "duration": 59,
    "start_time": "2021-09-11T03:56:22.270Z"
   },
   {
    "duration": 36,
    "start_time": "2021-09-11T03:56:22.332Z"
   },
   {
    "duration": 15,
    "start_time": "2021-09-11T03:56:22.370Z"
   },
   {
    "duration": 35,
    "start_time": "2021-09-11T03:56:22.388Z"
   },
   {
    "duration": 73,
    "start_time": "2021-09-11T03:56:22.425Z"
   },
   {
    "duration": 41,
    "start_time": "2021-09-11T03:56:22.500Z"
   },
   {
    "duration": 24,
    "start_time": "2021-09-11T03:56:22.543Z"
   },
   {
    "duration": 7,
    "start_time": "2021-09-11T03:56:22.576Z"
   },
   {
    "duration": 8,
    "start_time": "2021-09-11T03:56:22.586Z"
   },
   {
    "duration": 10,
    "start_time": "2021-09-11T03:56:22.596Z"
   },
   {
    "duration": 65,
    "start_time": "2021-09-11T03:56:22.608Z"
   },
   {
    "duration": 6,
    "start_time": "2021-09-11T03:56:22.676Z"
   },
   {
    "duration": 11,
    "start_time": "2021-09-11T03:56:22.684Z"
   },
   {
    "duration": 16,
    "start_time": "2021-09-11T03:56:22.697Z"
   },
   {
    "duration": 30,
    "start_time": "2021-09-11T03:56:22.716Z"
   },
   {
    "duration": 8,
    "start_time": "2021-09-11T03:56:22.762Z"
   },
   {
    "duration": 7,
    "start_time": "2021-09-11T03:56:22.772Z"
   },
   {
    "duration": 1559,
    "start_time": "2021-09-11T03:56:22.782Z"
   },
   {
    "duration": 7,
    "start_time": "2021-09-11T03:56:24.343Z"
   },
   {
    "duration": 27,
    "start_time": "2021-09-11T04:00:11.196Z"
   },
   {
    "duration": 22,
    "start_time": "2021-09-11T04:02:23.519Z"
   },
   {
    "duration": 399,
    "start_time": "2021-09-11T04:04:00.477Z"
   },
   {
    "duration": 356,
    "start_time": "2021-09-11T04:04:41.643Z"
   },
   {
    "duration": 393,
    "start_time": "2021-09-11T04:04:46.111Z"
   },
   {
    "duration": 328,
    "start_time": "2021-09-11T04:05:14.136Z"
   },
   {
    "duration": 29,
    "start_time": "2021-09-11T04:06:06.843Z"
   },
   {
    "duration": 11,
    "start_time": "2021-09-11T04:06:46.988Z"
   },
   {
    "duration": 32,
    "start_time": "2021-09-11T04:06:54.937Z"
   },
   {
    "duration": 260,
    "start_time": "2021-09-11T04:07:05.224Z"
   },
   {
    "duration": 10,
    "start_time": "2021-09-11T04:07:05.487Z"
   },
   {
    "duration": 193,
    "start_time": "2021-09-11T04:07:05.501Z"
   },
   {
    "duration": 11,
    "start_time": "2021-09-11T04:07:05.697Z"
   },
   {
    "duration": 125,
    "start_time": "2021-09-11T04:07:05.710Z"
   },
   {
    "duration": 10,
    "start_time": "2021-09-11T04:07:05.838Z"
   },
   {
    "duration": 22,
    "start_time": "2021-09-11T04:07:05.861Z"
   },
   {
    "duration": 11,
    "start_time": "2021-09-11T04:07:05.888Z"
   },
   {
    "duration": 35,
    "start_time": "2021-09-11T04:07:05.902Z"
   },
   {
    "duration": 22,
    "start_time": "2021-09-11T04:07:05.940Z"
   },
   {
    "duration": 32,
    "start_time": "2021-09-11T04:07:05.964Z"
   },
   {
    "duration": 2,
    "start_time": "2021-09-11T04:07:05.999Z"
   },
   {
    "duration": 58,
    "start_time": "2021-09-11T04:07:06.004Z"
   },
   {
    "duration": 11,
    "start_time": "2021-09-11T04:07:06.064Z"
   },
   {
    "duration": 16,
    "start_time": "2021-09-11T04:07:06.078Z"
   },
   {
    "duration": 31,
    "start_time": "2021-09-11T04:07:06.096Z"
   },
   {
    "duration": 39,
    "start_time": "2021-09-11T04:07:06.130Z"
   },
   {
    "duration": 45,
    "start_time": "2021-09-11T04:07:06.172Z"
   },
   {
    "duration": 59,
    "start_time": "2021-09-11T04:07:06.219Z"
   },
   {
    "duration": 24,
    "start_time": "2021-09-11T04:07:06.280Z"
   },
   {
    "duration": 15,
    "start_time": "2021-09-11T04:07:06.306Z"
   },
   {
    "duration": 40,
    "start_time": "2021-09-11T04:07:06.323Z"
   },
   {
    "duration": 34,
    "start_time": "2021-09-11T04:07:06.369Z"
   },
   {
    "duration": 12,
    "start_time": "2021-09-11T04:07:06.407Z"
   },
   {
    "duration": 41,
    "start_time": "2021-09-11T04:07:06.422Z"
   },
   {
    "duration": 34,
    "start_time": "2021-09-11T04:07:06.466Z"
   },
   {
    "duration": 17,
    "start_time": "2021-09-11T04:07:06.502Z"
   },
   {
    "duration": 62,
    "start_time": "2021-09-11T04:07:06.521Z"
   },
   {
    "duration": 31,
    "start_time": "2021-09-11T04:07:06.585Z"
   },
   {
    "duration": 15,
    "start_time": "2021-09-11T04:07:06.618Z"
   },
   {
    "duration": 46,
    "start_time": "2021-09-11T04:07:06.635Z"
   },
   {
    "duration": 31,
    "start_time": "2021-09-11T04:07:06.684Z"
   },
   {
    "duration": 13,
    "start_time": "2021-09-11T04:07:06.717Z"
   },
   {
    "duration": 41,
    "start_time": "2021-09-11T04:07:06.732Z"
   },
   {
    "duration": 13,
    "start_time": "2021-09-11T04:07:06.776Z"
   },
   {
    "duration": 28,
    "start_time": "2021-09-11T04:07:06.791Z"
   },
   {
    "duration": 40,
    "start_time": "2021-09-11T04:07:06.822Z"
   },
   {
    "duration": 15,
    "start_time": "2021-09-11T04:07:06.864Z"
   },
   {
    "duration": 7,
    "start_time": "2021-09-11T04:07:06.881Z"
   },
   {
    "duration": 26,
    "start_time": "2021-09-11T04:07:06.890Z"
   },
   {
    "duration": 112,
    "start_time": "2021-09-11T04:07:06.919Z"
   },
   {
    "duration": 17,
    "start_time": "2021-09-11T04:07:07.034Z"
   },
   {
    "duration": 12,
    "start_time": "2021-09-11T04:07:07.054Z"
   },
   {
    "duration": 37,
    "start_time": "2021-09-11T04:07:07.068Z"
   },
   {
    "duration": 57,
    "start_time": "2021-09-11T04:07:07.108Z"
   },
   {
    "duration": 36,
    "start_time": "2021-09-11T04:07:07.168Z"
   },
   {
    "duration": 61,
    "start_time": "2021-09-11T04:07:07.207Z"
   },
   {
    "duration": 8,
    "start_time": "2021-09-11T04:07:07.271Z"
   },
   {
    "duration": 21,
    "start_time": "2021-09-11T04:07:07.281Z"
   },
   {
    "duration": 11,
    "start_time": "2021-09-11T04:07:07.305Z"
   },
   {
    "duration": 9,
    "start_time": "2021-09-11T04:07:07.318Z"
   },
   {
    "duration": 44,
    "start_time": "2021-09-11T04:07:07.330Z"
   },
   {
    "duration": 8,
    "start_time": "2021-09-11T04:07:07.377Z"
   },
   {
    "duration": 8,
    "start_time": "2021-09-11T04:07:07.388Z"
   },
   {
    "duration": 7,
    "start_time": "2021-09-11T04:07:07.399Z"
   },
   {
    "duration": 154,
    "start_time": "2021-09-11T04:07:07.408Z"
   },
   {
    "duration": 16,
    "start_time": "2021-09-11T04:07:07.564Z"
   },
   {
    "duration": 38,
    "start_time": "2021-09-11T04:07:07.582Z"
   },
   {
    "duration": 45,
    "start_time": "2021-09-11T04:07:07.623Z"
   },
   {
    "duration": 92,
    "start_time": "2021-09-11T04:07:07.670Z"
   },
   {
    "duration": 18,
    "start_time": "2021-09-11T04:07:07.764Z"
   },
   {
    "duration": 50,
    "start_time": "2021-09-11T04:07:07.784Z"
   },
   {
    "duration": 4,
    "start_time": "2021-09-11T04:07:07.836Z"
   },
   {
    "duration": 65,
    "start_time": "2021-09-11T04:07:07.842Z"
   },
   {
    "duration": 65,
    "start_time": "2021-09-11T04:07:07.910Z"
   },
   {
    "duration": 8,
    "start_time": "2021-09-11T04:07:07.977Z"
   },
   {
    "duration": 14,
    "start_time": "2021-09-11T04:07:07.987Z"
   },
   {
    "duration": 7,
    "start_time": "2021-09-11T04:07:08.009Z"
   },
   {
    "duration": 9,
    "start_time": "2021-09-11T04:07:08.019Z"
   },
   {
    "duration": 36,
    "start_time": "2021-09-11T04:07:08.030Z"
   },
   {
    "duration": 15,
    "start_time": "2021-09-11T04:07:08.069Z"
   },
   {
    "duration": 29,
    "start_time": "2021-09-11T04:07:08.087Z"
   },
   {
    "duration": 45,
    "start_time": "2021-09-11T04:07:08.118Z"
   },
   {
    "duration": 62,
    "start_time": "2021-09-11T04:07:08.166Z"
   },
   {
    "duration": 15,
    "start_time": "2021-09-11T04:07:08.230Z"
   },
   {
    "duration": 12,
    "start_time": "2021-09-11T04:07:08.263Z"
   },
   {
    "duration": 36,
    "start_time": "2021-09-11T04:07:08.278Z"
   },
   {
    "duration": 77,
    "start_time": "2021-09-11T04:07:08.317Z"
   },
   {
    "duration": 42,
    "start_time": "2021-09-11T04:07:08.396Z"
   },
   {
    "duration": 23,
    "start_time": "2021-09-11T04:07:08.440Z"
   },
   {
    "duration": 10,
    "start_time": "2021-09-11T04:07:08.466Z"
   },
   {
    "duration": 10,
    "start_time": "2021-09-11T04:07:08.478Z"
   },
   {
    "duration": 12,
    "start_time": "2021-09-11T04:07:08.490Z"
   },
   {
    "duration": 28,
    "start_time": "2021-09-11T04:07:08.504Z"
   },
   {
    "duration": 5,
    "start_time": "2021-09-11T04:07:08.563Z"
   },
   {
    "duration": 15,
    "start_time": "2021-09-11T04:07:08.571Z"
   },
   {
    "duration": 9,
    "start_time": "2021-09-11T04:07:08.588Z"
   },
   {
    "duration": 33,
    "start_time": "2021-09-11T04:07:08.599Z"
   },
   {
    "duration": 27,
    "start_time": "2021-09-11T04:07:08.635Z"
   },
   {
    "duration": 15,
    "start_time": "2021-09-11T04:07:08.665Z"
   },
   {
    "duration": 1517,
    "start_time": "2021-09-11T04:07:08.682Z"
   },
   {
    "duration": 7,
    "start_time": "2021-09-11T04:07:10.202Z"
   },
   {
    "duration": 42,
    "start_time": "2021-09-11T04:07:10.212Z"
   },
   {
    "duration": 279,
    "start_time": "2021-09-11T04:07:42.257Z"
   },
   {
    "duration": 22,
    "start_time": "2021-09-11T04:07:42.539Z"
   },
   {
    "duration": 184,
    "start_time": "2021-09-11T04:07:42.564Z"
   },
   {
    "duration": 21,
    "start_time": "2021-09-11T04:07:42.751Z"
   },
   {
    "duration": 126,
    "start_time": "2021-09-11T04:07:42.774Z"
   },
   {
    "duration": 11,
    "start_time": "2021-09-11T04:07:42.903Z"
   },
   {
    "duration": 31,
    "start_time": "2021-09-11T04:07:42.916Z"
   },
   {
    "duration": 34,
    "start_time": "2021-09-11T04:07:42.949Z"
   },
   {
    "duration": 38,
    "start_time": "2021-09-11T04:07:42.988Z"
   },
   {
    "duration": 16,
    "start_time": "2021-09-11T04:07:43.030Z"
   },
   {
    "duration": 40,
    "start_time": "2021-09-11T04:07:43.048Z"
   },
   {
    "duration": 3,
    "start_time": "2021-09-11T04:07:43.091Z"
   },
   {
    "duration": 38,
    "start_time": "2021-09-11T04:07:43.097Z"
   },
   {
    "duration": 32,
    "start_time": "2021-09-11T04:07:43.137Z"
   },
   {
    "duration": 17,
    "start_time": "2021-09-11T04:07:43.171Z"
   },
   {
    "duration": 29,
    "start_time": "2021-09-11T04:07:43.191Z"
   },
   {
    "duration": 40,
    "start_time": "2021-09-11T04:07:43.222Z"
   },
   {
    "duration": 41,
    "start_time": "2021-09-11T04:07:43.264Z"
   },
   {
    "duration": 55,
    "start_time": "2021-09-11T04:07:43.307Z"
   },
   {
    "duration": 23,
    "start_time": "2021-09-11T04:07:43.364Z"
   },
   {
    "duration": 15,
    "start_time": "2021-09-11T04:07:43.390Z"
   },
   {
    "duration": 15,
    "start_time": "2021-09-11T04:07:43.408Z"
   },
   {
    "duration": 61,
    "start_time": "2021-09-11T04:07:43.425Z"
   },
   {
    "duration": 13,
    "start_time": "2021-09-11T04:07:43.488Z"
   },
   {
    "duration": 17,
    "start_time": "2021-09-11T04:07:43.503Z"
   },
   {
    "duration": 53,
    "start_time": "2021-09-11T04:07:43.522Z"
   },
   {
    "duration": 14,
    "start_time": "2021-09-11T04:07:43.583Z"
   },
   {
    "duration": 43,
    "start_time": "2021-09-11T04:07:43.601Z"
   },
   {
    "duration": 32,
    "start_time": "2021-09-11T04:07:43.662Z"
   },
   {
    "duration": 15,
    "start_time": "2021-09-11T04:07:43.696Z"
   },
   {
    "duration": 16,
    "start_time": "2021-09-11T04:07:43.713Z"
   },
   {
    "duration": 50,
    "start_time": "2021-09-11T04:07:43.731Z"
   },
   {
    "duration": 12,
    "start_time": "2021-09-11T04:07:43.783Z"
   },
   {
    "duration": 25,
    "start_time": "2021-09-11T04:07:43.797Z"
   },
   {
    "duration": 43,
    "start_time": "2021-09-11T04:07:43.824Z"
   },
   {
    "duration": 26,
    "start_time": "2021-09-11T04:07:43.869Z"
   },
   {
    "duration": 20,
    "start_time": "2021-09-11T04:07:43.898Z"
   },
   {
    "duration": 41,
    "start_time": "2021-09-11T04:07:43.920Z"
   },
   {
    "duration": 4,
    "start_time": "2021-09-11T04:07:43.964Z"
   },
   {
    "duration": 26,
    "start_time": "2021-09-11T04:07:43.970Z"
   },
   {
    "duration": 105,
    "start_time": "2021-09-11T04:07:43.998Z"
   },
   {
    "duration": 18,
    "start_time": "2021-09-11T04:07:44.105Z"
   },
   {
    "duration": 13,
    "start_time": "2021-09-11T04:07:44.125Z"
   },
   {
    "duration": 49,
    "start_time": "2021-09-11T04:07:44.141Z"
   },
   {
    "duration": 31,
    "start_time": "2021-09-11T04:07:44.192Z"
   },
   {
    "duration": 66,
    "start_time": "2021-09-11T04:07:44.225Z"
   },
   {
    "duration": 42,
    "start_time": "2021-09-11T04:07:44.293Z"
   },
   {
    "duration": 26,
    "start_time": "2021-09-11T04:07:44.337Z"
   },
   {
    "duration": 9,
    "start_time": "2021-09-11T04:07:44.365Z"
   },
   {
    "duration": 12,
    "start_time": "2021-09-11T04:07:44.376Z"
   },
   {
    "duration": 9,
    "start_time": "2021-09-11T04:07:44.391Z"
   },
   {
    "duration": 22,
    "start_time": "2021-09-11T04:07:44.403Z"
   },
   {
    "duration": 36,
    "start_time": "2021-09-11T04:07:44.427Z"
   },
   {
    "duration": 5,
    "start_time": "2021-09-11T04:07:44.466Z"
   },
   {
    "duration": 9,
    "start_time": "2021-09-11T04:07:44.473Z"
   },
   {
    "duration": 147,
    "start_time": "2021-09-11T04:07:44.484Z"
   },
   {
    "duration": 15,
    "start_time": "2021-09-11T04:07:44.633Z"
   },
   {
    "duration": 36,
    "start_time": "2021-09-11T04:07:44.662Z"
   },
   {
    "duration": 21,
    "start_time": "2021-09-11T04:07:44.700Z"
   },
   {
    "duration": 111,
    "start_time": "2021-09-11T04:07:44.723Z"
   },
   {
    "duration": 25,
    "start_time": "2021-09-11T04:07:44.836Z"
   },
   {
    "duration": 56,
    "start_time": "2021-09-11T04:07:44.864Z"
   },
   {
    "duration": 4,
    "start_time": "2021-09-11T04:07:44.922Z"
   },
   {
    "duration": 69,
    "start_time": "2021-09-11T04:07:44.928Z"
   },
   {
    "duration": 44,
    "start_time": "2021-09-11T04:07:45.000Z"
   },
   {
    "duration": 21,
    "start_time": "2021-09-11T04:07:45.047Z"
   },
   {
    "duration": 33,
    "start_time": "2021-09-11T04:07:45.070Z"
   },
   {
    "duration": 21,
    "start_time": "2021-09-11T04:07:45.106Z"
   },
   {
    "duration": 14,
    "start_time": "2021-09-11T04:07:45.130Z"
   },
   {
    "duration": 25,
    "start_time": "2021-09-11T04:07:45.146Z"
   },
   {
    "duration": 23,
    "start_time": "2021-09-11T04:07:45.173Z"
   },
   {
    "duration": 29,
    "start_time": "2021-09-11T04:07:45.199Z"
   },
   {
    "duration": 14,
    "start_time": "2021-09-11T04:07:45.230Z"
   },
   {
    "duration": 72,
    "start_time": "2021-09-11T04:07:45.246Z"
   },
   {
    "duration": 14,
    "start_time": "2021-09-11T04:07:45.321Z"
   },
   {
    "duration": 31,
    "start_time": "2021-09-11T04:07:45.337Z"
   },
   {
    "duration": 37,
    "start_time": "2021-09-11T04:07:45.370Z"
   },
   {
    "duration": 74,
    "start_time": "2021-09-11T04:07:45.410Z"
   },
   {
    "duration": 41,
    "start_time": "2021-09-11T04:07:45.487Z"
   },
   {
    "duration": 7,
    "start_time": "2021-09-11T04:07:45.531Z"
   },
   {
    "duration": 8,
    "start_time": "2021-09-11T04:07:45.565Z"
   },
   {
    "duration": 19,
    "start_time": "2021-09-11T04:07:45.576Z"
   },
   {
    "duration": 29,
    "start_time": "2021-09-11T04:07:45.597Z"
   },
   {
    "duration": 32,
    "start_time": "2021-09-11T04:07:45.628Z"
   },
   {
    "duration": 18,
    "start_time": "2021-09-11T04:07:45.662Z"
   },
   {
    "duration": 37,
    "start_time": "2021-09-11T04:07:45.682Z"
   },
   {
    "duration": 19,
    "start_time": "2021-09-11T04:07:45.721Z"
   },
   {
    "duration": 35,
    "start_time": "2021-09-11T04:07:45.742Z"
   },
   {
    "duration": 7,
    "start_time": "2021-09-11T04:07:45.779Z"
   },
   {
    "duration": 11,
    "start_time": "2021-09-11T04:07:45.789Z"
   },
   {
    "duration": 1572,
    "start_time": "2021-09-11T04:07:45.803Z"
   },
   {
    "duration": 7,
    "start_time": "2021-09-11T04:07:47.378Z"
   },
   {
    "duration": 36,
    "start_time": "2021-09-11T04:07:47.388Z"
   },
   {
    "duration": 362,
    "start_time": "2021-09-11T06:16:57.224Z"
   },
   {
    "duration": 30,
    "start_time": "2021-09-11T06:17:02.791Z"
   },
   {
    "duration": 4829,
    "start_time": "2021-09-11T06:17:26.304Z"
   },
   {
    "duration": 290,
    "start_time": "2021-09-11T06:17:49.426Z"
   },
   {
    "duration": 370,
    "start_time": "2021-09-11T06:19:20.074Z"
   },
   {
    "duration": 25,
    "start_time": "2021-09-11T06:19:39.749Z"
   },
   {
    "duration": 350,
    "start_time": "2021-09-11T06:19:54.432Z"
   },
   {
    "duration": 8479,
    "start_time": "2021-09-11T06:20:29.136Z"
   },
   {
    "duration": 304,
    "start_time": "2021-09-11T06:20:56.173Z"
   },
   {
    "duration": 6,
    "start_time": "2021-09-11T06:21:04.278Z"
   },
   {
    "duration": 9549,
    "start_time": "2021-09-11T06:21:28.334Z"
   },
   {
    "duration": 8,
    "start_time": "2021-09-11T06:21:41.908Z"
   },
   {
    "duration": 7,
    "start_time": "2021-09-11T06:21:57.905Z"
   },
   {
    "duration": 7,
    "start_time": "2021-09-11T06:22:04.128Z"
   },
   {
    "duration": 7,
    "start_time": "2021-09-11T06:22:15.618Z"
   },
   {
    "duration": 8,
    "start_time": "2021-09-11T06:22:25.829Z"
   },
   {
    "duration": 8,
    "start_time": "2021-09-11T06:22:31.950Z"
   },
   {
    "duration": 24,
    "start_time": "2021-09-11T06:22:42.023Z"
   },
   {
    "duration": 25,
    "start_time": "2021-09-11T06:22:49.755Z"
   },
   {
    "duration": 2554,
    "start_time": "2021-09-11T06:23:10.949Z"
   },
   {
    "duration": 4,
    "start_time": "2021-09-11T06:25:22.944Z"
   },
   {
    "duration": 6,
    "start_time": "2021-09-11T06:25:28.975Z"
   },
   {
    "duration": 2653,
    "start_time": "2021-09-11T06:25:45.344Z"
   },
   {
    "duration": 3648,
    "start_time": "2021-09-11T06:25:56.322Z"
   },
   {
    "duration": 27,
    "start_time": "2021-09-11T06:26:12.089Z"
   },
   {
    "duration": 21,
    "start_time": "2021-09-11T06:28:13.366Z"
   },
   {
    "duration": 8,
    "start_time": "2021-09-11T06:28:32.483Z"
   },
   {
    "duration": 7,
    "start_time": "2021-09-11T06:28:53.742Z"
   },
   {
    "duration": 21,
    "start_time": "2021-09-11T06:28:57.517Z"
   },
   {
    "duration": 22,
    "start_time": "2021-09-11T06:29:03.079Z"
   },
   {
    "duration": 5004,
    "start_time": "2021-09-11T06:29:59.211Z"
   },
   {
    "duration": 13653,
    "start_time": "2021-09-11T06:30:23.481Z"
   },
   {
    "duration": 9696,
    "start_time": "2021-09-11T06:30:38.602Z"
   },
   {
    "duration": 7,
    "start_time": "2021-09-11T06:31:40.440Z"
   },
   {
    "duration": 26651,
    "start_time": "2021-09-11T06:31:52.986Z"
   },
   {
    "duration": 1315,
    "start_time": "2021-09-11T06:32:18.324Z"
   },
   {
    "duration": 26377,
    "start_time": "2021-09-11T06:32:19.771Z"
   },
   {
    "duration": 5,
    "start_time": "2021-09-11T06:33:18.103Z"
   },
   {
    "duration": 6,
    "start_time": "2021-09-11T06:33:30.679Z"
   },
   {
    "duration": 5,
    "start_time": "2021-09-11T06:33:42.627Z"
   },
   {
    "duration": 1323,
    "start_time": "2021-09-11T06:34:27.239Z"
   },
   {
    "duration": 26428,
    "start_time": "2021-09-11T06:34:49.553Z"
   },
   {
    "duration": 5,
    "start_time": "2021-09-11T06:36:29.454Z"
   },
   {
    "duration": 30,
    "start_time": "2021-09-11T06:36:33.857Z"
   },
   {
    "duration": 5,
    "start_time": "2021-09-11T06:37:43.170Z"
   },
   {
    "duration": 7,
    "start_time": "2021-09-11T06:37:44.476Z"
   },
   {
    "duration": 1712,
    "start_time": "2021-09-11T06:37:53.988Z"
   },
   {
    "duration": 1957,
    "start_time": "2021-09-11T06:38:51.856Z"
   },
   {
    "duration": 29,
    "start_time": "2021-09-11T06:39:16.141Z"
   },
   {
    "duration": 9436,
    "start_time": "2021-09-11T06:39:38.294Z"
   },
   {
    "duration": 9859,
    "start_time": "2021-09-11T06:39:53.027Z"
   },
   {
    "duration": 8961,
    "start_time": "2021-09-11T06:40:14.191Z"
   },
   {
    "duration": 27,
    "start_time": "2021-09-11T06:41:28.438Z"
   },
   {
    "duration": 7,
    "start_time": "2021-09-11T06:43:05.271Z"
   },
   {
    "duration": 45,
    "start_time": "2021-09-11T06:43:28.767Z"
   },
   {
    "duration": 7,
    "start_time": "2021-09-11T06:44:24.779Z"
   },
   {
    "duration": 18,
    "start_time": "2021-09-11T06:44:40.904Z"
   },
   {
    "duration": 257,
    "start_time": "2021-09-11T06:44:49.065Z"
   },
   {
    "duration": 12,
    "start_time": "2021-09-11T06:44:49.324Z"
   },
   {
    "duration": 187,
    "start_time": "2021-09-11T06:44:49.339Z"
   },
   {
    "duration": 11,
    "start_time": "2021-09-11T06:44:49.529Z"
   },
   {
    "duration": 140,
    "start_time": "2021-09-11T06:44:49.542Z"
   },
   {
    "duration": 10,
    "start_time": "2021-09-11T06:44:49.685Z"
   },
   {
    "duration": 22,
    "start_time": "2021-09-11T06:44:49.697Z"
   },
   {
    "duration": 13,
    "start_time": "2021-09-11T06:44:49.723Z"
   },
   {
    "duration": 32,
    "start_time": "2021-09-11T06:44:49.762Z"
   },
   {
    "duration": 14,
    "start_time": "2021-09-11T06:44:49.797Z"
   },
   {
    "duration": 31,
    "start_time": "2021-09-11T06:44:49.814Z"
   },
   {
    "duration": 15,
    "start_time": "2021-09-11T06:44:49.848Z"
   },
   {
    "duration": 40,
    "start_time": "2021-09-11T06:44:49.866Z"
   },
   {
    "duration": 12,
    "start_time": "2021-09-11T06:44:49.908Z"
   },
   {
    "duration": 46,
    "start_time": "2021-09-11T06:44:49.923Z"
   },
   {
    "duration": 28,
    "start_time": "2021-09-11T06:44:49.971Z"
   },
   {
    "duration": 19,
    "start_time": "2021-09-11T06:44:50.001Z"
   },
   {
    "duration": 64,
    "start_time": "2021-09-11T06:44:50.023Z"
   },
   {
    "duration": 30,
    "start_time": "2021-09-11T06:44:50.090Z"
   },
   {
    "duration": 48,
    "start_time": "2021-09-11T06:44:50.122Z"
   },
   {
    "duration": 16,
    "start_time": "2021-09-11T06:44:50.172Z"
   },
   {
    "duration": 17,
    "start_time": "2021-09-11T06:44:50.191Z"
   },
   {
    "duration": 62,
    "start_time": "2021-09-11T06:44:50.214Z"
   },
   {
    "duration": 12,
    "start_time": "2021-09-11T06:44:50.280Z"
   },
   {
    "duration": 13,
    "start_time": "2021-09-11T06:44:50.294Z"
   },
   {
    "duration": 59,
    "start_time": "2021-09-11T06:44:50.310Z"
   },
   {
    "duration": 14,
    "start_time": "2021-09-11T06:44:50.372Z"
   },
   {
    "duration": 43,
    "start_time": "2021-09-11T06:44:50.389Z"
   },
   {
    "duration": 46,
    "start_time": "2021-09-11T06:44:50.435Z"
   },
   {
    "duration": 15,
    "start_time": "2021-09-11T06:44:50.483Z"
   },
   {
    "duration": 13,
    "start_time": "2021-09-11T06:44:50.500Z"
   },
   {
    "duration": 51,
    "start_time": "2021-09-11T06:44:50.515Z"
   },
   {
    "duration": 10,
    "start_time": "2021-09-11T06:44:50.568Z"
   },
   {
    "duration": 25,
    "start_time": "2021-09-11T06:44:50.581Z"
   },
   {
    "duration": 12,
    "start_time": "2021-09-11T06:44:50.608Z"
   },
   {
    "duration": 60,
    "start_time": "2021-09-11T06:44:50.622Z"
   },
   {
    "duration": 19,
    "start_time": "2021-09-11T06:44:50.685Z"
   },
   {
    "duration": 12,
    "start_time": "2021-09-11T06:44:50.707Z"
   },
   {
    "duration": 6,
    "start_time": "2021-09-11T06:44:50.722Z"
   },
   {
    "duration": 21,
    "start_time": "2021-09-11T06:44:50.763Z"
   },
   {
    "duration": 108,
    "start_time": "2021-09-11T06:44:50.786Z"
   },
   {
    "duration": 18,
    "start_time": "2021-09-11T06:44:50.896Z"
   },
   {
    "duration": 13,
    "start_time": "2021-09-11T06:44:50.916Z"
   },
   {
    "duration": 52,
    "start_time": "2021-09-11T06:44:50.931Z"
   },
   {
    "duration": 33,
    "start_time": "2021-09-11T06:44:50.985Z"
   },
   {
    "duration": 59,
    "start_time": "2021-09-11T06:44:51.021Z"
   },
   {
    "duration": 44,
    "start_time": "2021-09-11T06:44:51.083Z"
   },
   {
    "duration": 10,
    "start_time": "2021-09-11T06:44:51.129Z"
   },
   {
    "duration": 9,
    "start_time": "2021-09-11T06:44:51.162Z"
   },
   {
    "duration": 11,
    "start_time": "2021-09-11T06:44:51.174Z"
   },
   {
    "duration": 13,
    "start_time": "2021-09-11T06:44:51.187Z"
   },
   {
    "duration": 19,
    "start_time": "2021-09-11T06:44:51.203Z"
   },
   {
    "duration": 49,
    "start_time": "2021-09-11T06:44:51.226Z"
   },
   {
    "duration": 4,
    "start_time": "2021-09-11T06:44:51.277Z"
   },
   {
    "duration": 11,
    "start_time": "2021-09-11T06:44:51.283Z"
   },
   {
    "duration": 141,
    "start_time": "2021-09-11T06:44:51.296Z"
   },
   {
    "duration": 23,
    "start_time": "2021-09-11T06:44:51.440Z"
   },
   {
    "duration": 47,
    "start_time": "2021-09-11T06:44:51.466Z"
   },
   {
    "duration": 21,
    "start_time": "2021-09-11T06:44:51.515Z"
   },
   {
    "duration": 106,
    "start_time": "2021-09-11T06:44:51.538Z"
   },
   {
    "duration": 27,
    "start_time": "2021-09-11T06:44:51.646Z"
   },
   {
    "duration": 53,
    "start_time": "2021-09-11T06:44:51.676Z"
   },
   {
    "duration": 4,
    "start_time": "2021-09-11T06:44:51.732Z"
   },
   {
    "duration": 62,
    "start_time": "2021-09-11T06:44:51.739Z"
   },
   {
    "duration": 44,
    "start_time": "2021-09-11T06:44:51.804Z"
   },
   {
    "duration": 8,
    "start_time": "2021-09-11T06:44:51.863Z"
   },
   {
    "duration": 17,
    "start_time": "2021-09-11T06:44:51.874Z"
   },
   {
    "duration": 7,
    "start_time": "2021-09-11T06:44:51.899Z"
   },
   {
    "duration": 15,
    "start_time": "2021-09-11T06:44:51.909Z"
   },
   {
    "duration": 37,
    "start_time": "2021-09-11T06:44:51.926Z"
   },
   {
    "duration": 13,
    "start_time": "2021-09-11T06:44:51.965Z"
   },
   {
    "duration": 27,
    "start_time": "2021-09-11T06:44:51.981Z"
   },
   {
    "duration": 14,
    "start_time": "2021-09-11T06:44:52.010Z"
   },
   {
    "duration": 86,
    "start_time": "2021-09-11T06:44:52.026Z"
   },
   {
    "duration": 15,
    "start_time": "2021-09-11T06:44:52.115Z"
   },
   {
    "duration": 38,
    "start_time": "2021-09-11T06:44:52.132Z"
   },
   {
    "duration": 36,
    "start_time": "2021-09-11T06:44:52.173Z"
   },
   {
    "duration": 64,
    "start_time": "2021-09-11T06:44:52.211Z"
   },
   {
    "duration": 41,
    "start_time": "2021-09-11T06:44:52.278Z"
   },
   {
    "duration": 8,
    "start_time": "2021-09-11T06:44:52.322Z"
   },
   {
    "duration": 34,
    "start_time": "2021-09-11T06:44:52.332Z"
   },
   {
    "duration": 9,
    "start_time": "2021-09-11T06:44:52.369Z"
   },
   {
    "duration": 15,
    "start_time": "2021-09-11T06:44:52.380Z"
   },
   {
    "duration": 28,
    "start_time": "2021-09-11T06:44:52.398Z"
   },
   {
    "duration": 34,
    "start_time": "2021-09-11T06:44:52.428Z"
   },
   {
    "duration": 21,
    "start_time": "2021-09-11T06:44:52.464Z"
   },
   {
    "duration": 7,
    "start_time": "2021-09-11T06:44:52.488Z"
   },
   {
    "duration": 28,
    "start_time": "2021-09-11T06:44:52.497Z"
   },
   {
    "duration": 8,
    "start_time": "2021-09-11T06:44:52.527Z"
   },
   {
    "duration": 26,
    "start_time": "2021-09-11T06:44:52.538Z"
   },
   {
    "duration": 1633,
    "start_time": "2021-09-11T06:44:52.567Z"
   },
   {
    "duration": 10,
    "start_time": "2021-09-11T06:44:54.202Z"
   },
   {
    "duration": 56,
    "start_time": "2021-09-11T06:44:54.215Z"
   },
   {
    "duration": 7,
    "start_time": "2021-09-11T06:44:54.274Z"
   },
   {
    "duration": 5,
    "start_time": "2021-09-11T06:44:54.284Z"
   },
   {
    "duration": 10,
    "start_time": "2021-09-11T06:44:54.293Z"
   },
   {
    "duration": 65,
    "start_time": "2021-09-11T06:44:54.305Z"
   },
   {
    "duration": 6,
    "start_time": "2021-09-11T06:44:54.372Z"
   },
   {
    "duration": 13,
    "start_time": "2021-09-11T06:44:54.382Z"
   },
   {
    "duration": 19,
    "start_time": "2021-09-11T06:44:54.398Z"
   },
   {
    "duration": 41,
    "start_time": "2021-09-11T06:44:54.420Z"
   },
   {
    "duration": 21,
    "start_time": "2021-09-11T06:44:54.464Z"
   },
   {
    "duration": 24,
    "start_time": "2021-09-11T06:45:19.826Z"
   },
   {
    "duration": 22,
    "start_time": "2021-09-11T06:45:32.762Z"
   },
   {
    "duration": 430,
    "start_time": "2021-09-11T06:47:24.273Z"
   },
   {
    "duration": 425,
    "start_time": "2021-09-11T06:48:01.841Z"
   },
   {
    "duration": 8,
    "start_time": "2021-09-11T06:51:21.856Z"
   },
   {
    "duration": 24,
    "start_time": "2021-09-11T06:51:32.141Z"
   },
   {
    "duration": 7,
    "start_time": "2021-09-11T06:52:07.292Z"
   },
   {
    "duration": 24,
    "start_time": "2021-09-11T06:52:10.928Z"
   },
   {
    "duration": 312,
    "start_time": "2021-09-11T06:52:30.161Z"
   },
   {
    "duration": 241,
    "start_time": "2021-09-11T06:52:50.739Z"
   },
   {
    "duration": 8,
    "start_time": "2021-09-11T06:53:12.490Z"
   },
   {
    "duration": 6,
    "start_time": "2021-09-11T06:53:17.690Z"
   },
   {
    "duration": 353,
    "start_time": "2021-09-11T06:53:53.916Z"
   },
   {
    "duration": 5188,
    "start_time": "2021-09-11T06:54:38.425Z"
   },
   {
    "duration": 374,
    "start_time": "2021-09-11T06:55:03.641Z"
   },
   {
    "duration": 327,
    "start_time": "2021-09-11T06:56:36.579Z"
   },
   {
    "duration": 509,
    "start_time": "2021-09-11T06:57:33.712Z"
   },
   {
    "duration": 817,
    "start_time": "2021-09-11T06:58:33.723Z"
   },
   {
    "duration": 731,
    "start_time": "2021-09-11T06:59:15.645Z"
   },
   {
    "duration": 9267,
    "start_time": "2021-09-11T07:03:27.276Z"
   },
   {
    "duration": 8240,
    "start_time": "2021-09-11T07:03:37.954Z"
   },
   {
    "duration": 34,
    "start_time": "2021-09-11T07:03:52.552Z"
   },
   {
    "duration": 317,
    "start_time": "2021-09-11T07:04:51.684Z"
   },
   {
    "duration": 36,
    "start_time": "2021-09-11T07:04:53.776Z"
   },
   {
    "duration": 7,
    "start_time": "2021-09-11T07:04:54.243Z"
   },
   {
    "duration": 6,
    "start_time": "2021-09-11T07:05:13.230Z"
   },
   {
    "duration": 320,
    "start_time": "2021-09-11T07:09:17.497Z"
   },
   {
    "duration": 28,
    "start_time": "2021-09-11T07:09:19.959Z"
   },
   {
    "duration": 7,
    "start_time": "2021-09-11T07:09:20.369Z"
   },
   {
    "duration": 6,
    "start_time": "2021-09-11T07:09:29.038Z"
   },
   {
    "duration": 400,
    "start_time": "2021-09-11T07:11:46.404Z"
   },
   {
    "duration": 355,
    "start_time": "2021-09-11T07:11:51.727Z"
   },
   {
    "duration": 42,
    "start_time": "2021-09-11T07:12:07.837Z"
   },
   {
    "duration": 6,
    "start_time": "2021-09-11T07:12:08.402Z"
   },
   {
    "duration": 331,
    "start_time": "2021-09-11T07:12:26.041Z"
   },
   {
    "duration": 7,
    "start_time": "2021-09-11T07:12:35.610Z"
   },
   {
    "duration": 16,
    "start_time": "2021-09-11T07:14:07.833Z"
   },
   {
    "duration": 6,
    "start_time": "2021-09-11T07:15:48.886Z"
   },
   {
    "duration": 277,
    "start_time": "2021-09-11T07:16:21.518Z"
   },
   {
    "duration": 400,
    "start_time": "2021-09-11T07:16:49.173Z"
   },
   {
    "duration": 309,
    "start_time": "2021-09-11T07:17:21.092Z"
   },
   {
    "duration": 310,
    "start_time": "2021-09-11T07:17:33.739Z"
   },
   {
    "duration": 287,
    "start_time": "2021-09-11T07:18:14.283Z"
   },
   {
    "duration": 276,
    "start_time": "2021-09-11T07:18:21.540Z"
   },
   {
    "duration": 7,
    "start_time": "2021-09-11T07:21:22.788Z"
   },
   {
    "duration": 12,
    "start_time": "2021-09-11T07:21:28.687Z"
   },
   {
    "duration": 305,
    "start_time": "2021-09-11T07:21:52.925Z"
   },
   {
    "duration": 7,
    "start_time": "2021-09-11T07:21:55.661Z"
   },
   {
    "duration": 1130,
    "start_time": "2021-09-16T10:56:55.342Z"
   },
   {
    "duration": 17,
    "start_time": "2021-09-16T10:56:56.475Z"
   },
   {
    "duration": 188,
    "start_time": "2021-09-16T10:56:56.496Z"
   },
   {
    "duration": 12,
    "start_time": "2021-09-16T10:56:56.686Z"
   },
   {
    "duration": 127,
    "start_time": "2021-09-16T10:56:56.700Z"
   },
   {
    "duration": 10,
    "start_time": "2021-09-16T10:56:56.829Z"
   },
   {
    "duration": 33,
    "start_time": "2021-09-16T10:56:56.841Z"
   },
   {
    "duration": 11,
    "start_time": "2021-09-16T10:56:56.876Z"
   },
   {
    "duration": 41,
    "start_time": "2021-09-16T10:56:56.891Z"
   },
   {
    "duration": 14,
    "start_time": "2021-09-16T10:56:56.935Z"
   },
   {
    "duration": 38,
    "start_time": "2021-09-16T10:56:56.951Z"
   },
   {
    "duration": 2,
    "start_time": "2021-09-16T10:56:56.992Z"
   },
   {
    "duration": 67,
    "start_time": "2021-09-16T10:56:56.997Z"
   },
   {
    "duration": 12,
    "start_time": "2021-09-16T10:56:57.066Z"
   },
   {
    "duration": 16,
    "start_time": "2021-09-16T10:56:57.080Z"
   },
   {
    "duration": 40,
    "start_time": "2021-09-16T10:56:57.098Z"
   },
   {
    "duration": 28,
    "start_time": "2021-09-16T10:56:57.140Z"
   },
   {
    "duration": 62,
    "start_time": "2021-09-16T10:56:57.171Z"
   },
   {
    "duration": 46,
    "start_time": "2021-09-16T10:56:57.235Z"
   },
   {
    "duration": 24,
    "start_time": "2021-09-16T10:56:57.284Z"
   },
   {
    "duration": 16,
    "start_time": "2021-09-16T10:56:57.311Z"
   },
   {
    "duration": 16,
    "start_time": "2021-09-16T10:56:57.354Z"
   },
   {
    "duration": 50,
    "start_time": "2021-09-16T10:56:57.372Z"
   },
   {
    "duration": 15,
    "start_time": "2021-09-16T10:56:57.425Z"
   },
   {
    "duration": 24,
    "start_time": "2021-09-16T10:56:57.442Z"
   },
   {
    "duration": 49,
    "start_time": "2021-09-16T10:56:57.468Z"
   },
   {
    "duration": 15,
    "start_time": "2021-09-16T10:56:57.524Z"
   },
   {
    "duration": 47,
    "start_time": "2021-09-16T10:56:57.554Z"
   },
   {
    "duration": 31,
    "start_time": "2021-09-16T10:56:57.603Z"
   },
   {
    "duration": 32,
    "start_time": "2021-09-16T10:56:57.636Z"
   },
   {
    "duration": 30,
    "start_time": "2021-09-16T10:56:57.670Z"
   },
   {
    "duration": 37,
    "start_time": "2021-09-16T10:56:57.703Z"
   },
   {
    "duration": 22,
    "start_time": "2021-09-16T10:56:57.743Z"
   },
   {
    "duration": 39,
    "start_time": "2021-09-16T10:56:57.768Z"
   },
   {
    "duration": 25,
    "start_time": "2021-09-16T10:56:57.810Z"
   },
   {
    "duration": 35,
    "start_time": "2021-09-16T10:56:57.838Z"
   },
   {
    "duration": 31,
    "start_time": "2021-09-16T10:56:57.876Z"
   },
   {
    "duration": 17,
    "start_time": "2021-09-16T10:56:57.909Z"
   },
   {
    "duration": 27,
    "start_time": "2021-09-16T10:56:57.929Z"
   },
   {
    "duration": 57,
    "start_time": "2021-09-16T10:56:57.958Z"
   },
   {
    "duration": 244,
    "start_time": "2021-09-16T10:56:58.018Z"
   },
   {
    "duration": 17,
    "start_time": "2021-09-16T10:56:58.264Z"
   },
   {
    "duration": 26,
    "start_time": "2021-09-16T10:56:58.283Z"
   },
   {
    "duration": 63,
    "start_time": "2021-09-16T10:56:58.311Z"
   },
   {
    "duration": 30,
    "start_time": "2021-09-16T10:56:58.377Z"
   },
   {
    "duration": 55,
    "start_time": "2021-09-16T10:56:58.409Z"
   },
   {
    "duration": 6,
    "start_time": "2021-09-16T10:56:58.466Z"
   },
   {
    "duration": 12,
    "start_time": "2021-09-16T10:56:58.475Z"
   },
   {
    "duration": 335,
    "start_time": "2021-09-16T10:56:58.490Z"
   },
   {
    "duration": 316,
    "start_time": "2021-09-16T10:56:58.827Z"
   },
   {
    "duration": 52,
    "start_time": "2021-09-16T10:56:59.147Z"
   },
   {
    "duration": 9,
    "start_time": "2021-09-16T10:56:59.202Z"
   },
   {
    "duration": 42,
    "start_time": "2021-09-16T10:56:59.214Z"
   },
   {
    "duration": 8,
    "start_time": "2021-09-16T10:56:59.259Z"
   },
   {
    "duration": 31,
    "start_time": "2021-09-16T10:56:59.270Z"
   },
   {
    "duration": 37,
    "start_time": "2021-09-16T10:56:59.304Z"
   },
   {
    "duration": 31,
    "start_time": "2021-09-16T10:56:59.345Z"
   },
   {
    "duration": 15,
    "start_time": "2021-09-16T10:56:59.379Z"
   },
   {
    "duration": 27,
    "start_time": "2021-09-16T10:56:59.396Z"
   },
   {
    "duration": 148,
    "start_time": "2021-09-16T10:56:59.426Z"
   },
   {
    "duration": 17,
    "start_time": "2021-09-16T10:56:59.577Z"
   },
   {
    "duration": 68,
    "start_time": "2021-09-16T10:56:59.597Z"
   },
   {
    "duration": 20,
    "start_time": "2021-09-16T10:56:59.668Z"
   },
   {
    "duration": 107,
    "start_time": "2021-09-16T10:56:59.690Z"
   },
   {
    "duration": 19,
    "start_time": "2021-09-16T10:56:59.799Z"
   },
   {
    "duration": 71,
    "start_time": "2021-09-16T10:56:59.820Z"
   },
   {
    "duration": 4,
    "start_time": "2021-09-16T10:56:59.893Z"
   },
   {
    "duration": 73,
    "start_time": "2021-09-16T10:56:59.900Z"
   },
   {
    "duration": 7,
    "start_time": "2021-09-16T10:56:59.975Z"
   },
   {
    "duration": 33,
    "start_time": "2021-09-16T10:56:59.984Z"
   },
   {
    "duration": 305,
    "start_time": "2021-09-16T10:57:00.019Z"
   },
   {
    "duration": 380,
    "start_time": "2021-09-16T10:57:00.326Z"
   },
   {
    "duration": 66,
    "start_time": "2021-09-16T10:57:00.709Z"
   },
   {
    "duration": 8,
    "start_time": "2021-09-16T10:57:00.778Z"
   },
   {
    "duration": 45,
    "start_time": "2021-09-16T10:57:00.788Z"
   },
   {
    "duration": 41,
    "start_time": "2021-09-16T10:57:00.835Z"
   },
   {
    "duration": 59,
    "start_time": "2021-09-16T10:57:00.878Z"
   },
   {
    "duration": 42,
    "start_time": "2021-09-16T10:57:00.939Z"
   },
   {
    "duration": 40,
    "start_time": "2021-09-16T10:57:00.984Z"
   },
   {
    "duration": 61,
    "start_time": "2021-09-16T10:57:01.027Z"
   },
   {
    "duration": 21,
    "start_time": "2021-09-16T10:57:01.097Z"
   },
   {
    "duration": 78,
    "start_time": "2021-09-16T10:57:01.121Z"
   },
   {
    "duration": 15,
    "start_time": "2021-09-16T10:57:01.202Z"
   },
   {
    "duration": 64,
    "start_time": "2021-09-16T10:57:01.219Z"
   },
   {
    "duration": 46,
    "start_time": "2021-09-16T10:57:01.286Z"
   },
   {
    "duration": 24,
    "start_time": "2021-09-16T10:57:01.335Z"
   },
   {
    "duration": 70,
    "start_time": "2021-09-16T10:57:01.362Z"
   },
   {
    "duration": 312,
    "start_time": "2021-09-16T10:57:01.435Z"
   },
   {
    "duration": 285,
    "start_time": "2021-09-16T10:57:01.754Z"
   },
   {
    "duration": 16,
    "start_time": "2021-09-16T10:57:02.042Z"
   },
   {
    "duration": 87,
    "start_time": "2021-09-16T10:57:02.060Z"
   },
   {
    "duration": 42,
    "start_time": "2021-09-16T10:57:02.150Z"
   },
   {
    "duration": 36,
    "start_time": "2021-09-16T10:57:02.195Z"
   },
   {
    "duration": 39,
    "start_time": "2021-09-16T10:57:02.234Z"
   },
   {
    "duration": 46,
    "start_time": "2021-09-16T10:57:02.276Z"
   },
   {
    "duration": 30,
    "start_time": "2021-09-16T10:57:02.325Z"
   },
   {
    "duration": 68,
    "start_time": "2021-09-16T10:57:02.358Z"
   },
   {
    "duration": 48,
    "start_time": "2021-09-16T10:57:02.428Z"
   },
   {
    "duration": 34,
    "start_time": "2021-09-16T10:57:02.479Z"
   },
   {
    "duration": 59,
    "start_time": "2021-09-16T10:57:02.516Z"
   },
   {
    "duration": 67,
    "start_time": "2021-09-16T10:57:02.578Z"
   },
   {
    "duration": 32,
    "start_time": "2021-09-16T10:57:02.647Z"
   },
   {
    "duration": 31,
    "start_time": "2021-09-16T10:57:02.681Z"
   },
   {
    "duration": 1595,
    "start_time": "2021-09-16T10:57:02.714Z"
   },
   {
    "duration": 7,
    "start_time": "2021-09-16T10:57:04.312Z"
   },
   {
    "duration": 47,
    "start_time": "2021-09-16T10:57:04.322Z"
   },
   {
    "duration": 6,
    "start_time": "2021-09-16T10:57:04.371Z"
   },
   {
    "duration": 14,
    "start_time": "2021-09-16T10:57:04.379Z"
   },
   {
    "duration": 24,
    "start_time": "2021-09-16T10:57:04.396Z"
   },
   {
    "duration": 50,
    "start_time": "2021-09-16T10:57:04.423Z"
   },
   {
    "duration": 26,
    "start_time": "2021-09-16T10:57:04.476Z"
   },
   {
    "duration": 19,
    "start_time": "2021-09-16T10:57:04.505Z"
   },
   {
    "duration": 44,
    "start_time": "2021-09-16T10:57:04.527Z"
   },
   {
    "duration": 27,
    "start_time": "2021-09-16T10:57:04.574Z"
   },
   {
    "duration": 56,
    "start_time": "2021-09-16T10:57:04.603Z"
   },
   {
    "duration": 19,
    "start_time": "2021-09-16T10:57:04.662Z"
   },
   {
    "duration": 25,
    "start_time": "2021-09-16T10:57:04.684Z"
   },
   {
    "duration": 27,
    "start_time": "2021-09-16T10:57:04.711Z"
   },
   {
    "duration": 18,
    "start_time": "2021-09-16T10:57:04.740Z"
   },
   {
    "duration": 741,
    "start_time": "2021-09-16T10:57:04.761Z"
   },
   {
    "duration": 715,
    "start_time": "2021-09-16T10:57:05.504Z"
   },
   {
    "duration": 289,
    "start_time": "2021-09-16T13:56:27.234Z"
   },
   {
    "duration": 11,
    "start_time": "2021-09-16T13:56:27.526Z"
   },
   {
    "duration": 194,
    "start_time": "2021-09-16T13:56:27.555Z"
   },
   {
    "duration": 12,
    "start_time": "2021-09-16T13:56:27.755Z"
   },
   {
    "duration": 151,
    "start_time": "2021-09-16T13:56:27.770Z"
   },
   {
    "duration": 11,
    "start_time": "2021-09-16T13:56:27.923Z"
   },
   {
    "duration": 43,
    "start_time": "2021-09-16T13:56:27.936Z"
   },
   {
    "duration": 30,
    "start_time": "2021-09-16T13:56:27.983Z"
   },
   {
    "duration": 64,
    "start_time": "2021-09-16T13:56:28.016Z"
   },
   {
    "duration": 27,
    "start_time": "2021-09-16T13:56:28.083Z"
   },
   {
    "duration": 57,
    "start_time": "2021-09-16T13:56:28.112Z"
   },
   {
    "duration": 4,
    "start_time": "2021-09-16T13:56:28.172Z"
   },
   {
    "duration": 81,
    "start_time": "2021-09-16T13:56:28.179Z"
   },
   {
    "duration": 12,
    "start_time": "2021-09-16T13:56:28.262Z"
   },
   {
    "duration": 42,
    "start_time": "2021-09-16T13:56:28.277Z"
   },
   {
    "duration": 49,
    "start_time": "2021-09-16T13:56:28.321Z"
   },
   {
    "duration": 19,
    "start_time": "2021-09-16T13:56:28.372Z"
   },
   {
    "duration": 59,
    "start_time": "2021-09-16T13:56:28.394Z"
   },
   {
    "duration": 31,
    "start_time": "2021-09-16T13:56:28.456Z"
   },
   {
    "duration": 25,
    "start_time": "2021-09-16T13:56:28.489Z"
   },
   {
    "duration": 40,
    "start_time": "2021-09-16T13:56:28.516Z"
   },
   {
    "duration": 23,
    "start_time": "2021-09-16T13:56:28.559Z"
   },
   {
    "duration": 59,
    "start_time": "2021-09-16T13:56:28.588Z"
   },
   {
    "duration": 21,
    "start_time": "2021-09-16T13:56:28.651Z"
   },
   {
    "duration": 29,
    "start_time": "2021-09-16T13:56:28.674Z"
   },
   {
    "duration": 49,
    "start_time": "2021-09-16T13:56:28.706Z"
   },
   {
    "duration": 21,
    "start_time": "2021-09-16T13:56:28.757Z"
   },
   {
    "duration": 65,
    "start_time": "2021-09-16T13:56:28.781Z"
   },
   {
    "duration": 31,
    "start_time": "2021-09-16T13:56:28.848Z"
   },
   {
    "duration": 15,
    "start_time": "2021-09-16T13:56:28.881Z"
   },
   {
    "duration": 44,
    "start_time": "2021-09-16T13:56:28.898Z"
   },
   {
    "duration": 53,
    "start_time": "2021-09-16T13:56:28.945Z"
   },
   {
    "duration": 17,
    "start_time": "2021-09-16T13:56:29.000Z"
   },
   {
    "duration": 48,
    "start_time": "2021-09-16T13:56:29.019Z"
   },
   {
    "duration": 39,
    "start_time": "2021-09-16T13:56:29.070Z"
   },
   {
    "duration": 44,
    "start_time": "2021-09-16T13:56:29.112Z"
   },
   {
    "duration": 25,
    "start_time": "2021-09-16T13:56:29.158Z"
   },
   {
    "duration": 24,
    "start_time": "2021-09-16T13:56:29.186Z"
   },
   {
    "duration": 19,
    "start_time": "2021-09-16T13:56:29.213Z"
   },
   {
    "duration": 48,
    "start_time": "2021-09-16T13:56:29.235Z"
   },
   {
    "duration": 90,
    "start_time": "2021-09-16T13:56:29.285Z"
   },
   {
    "duration": 19,
    "start_time": "2021-09-16T13:56:29.378Z"
   },
   {
    "duration": 12,
    "start_time": "2021-09-16T13:56:29.400Z"
   },
   {
    "duration": 57,
    "start_time": "2021-09-16T13:56:29.415Z"
   },
   {
    "duration": 33,
    "start_time": "2021-09-16T13:56:29.474Z"
   },
   {
    "duration": 63,
    "start_time": "2021-09-16T13:56:29.510Z"
   },
   {
    "duration": 7,
    "start_time": "2021-09-16T13:56:29.575Z"
   },
   {
    "duration": 9,
    "start_time": "2021-09-16T13:56:29.584Z"
   },
   {
    "duration": 345,
    "start_time": "2021-09-16T13:56:29.596Z"
   },
   {
    "duration": 310,
    "start_time": "2021-09-16T13:56:29.954Z"
   },
   {
    "duration": 42,
    "start_time": "2021-09-16T13:56:30.266Z"
   },
   {
    "duration": 7,
    "start_time": "2021-09-16T13:56:30.310Z"
   },
   {
    "duration": 57,
    "start_time": "2021-09-16T13:56:30.319Z"
   },
   {
    "duration": 27,
    "start_time": "2021-09-16T13:56:30.379Z"
   },
   {
    "duration": 54,
    "start_time": "2021-09-16T13:56:30.408Z"
   },
   {
    "duration": 30,
    "start_time": "2021-09-16T13:56:30.464Z"
   },
   {
    "duration": 37,
    "start_time": "2021-09-16T13:56:30.496Z"
   },
   {
    "duration": 16,
    "start_time": "2021-09-16T13:56:30.536Z"
   },
   {
    "duration": 28,
    "start_time": "2021-09-16T13:56:30.554Z"
   },
   {
    "duration": 144,
    "start_time": "2021-09-16T13:56:30.584Z"
   },
   {
    "duration": 16,
    "start_time": "2021-09-16T13:56:30.730Z"
   },
   {
    "duration": 53,
    "start_time": "2021-09-16T13:56:30.755Z"
   },
   {
    "duration": 22,
    "start_time": "2021-09-16T13:56:30.811Z"
   },
   {
    "duration": 115,
    "start_time": "2021-09-16T13:56:30.836Z"
   },
   {
    "duration": 19,
    "start_time": "2021-09-16T13:56:30.954Z"
   },
   {
    "duration": 91,
    "start_time": "2021-09-16T13:56:30.975Z"
   },
   {
    "duration": 4,
    "start_time": "2021-09-16T13:56:31.069Z"
   },
   {
    "duration": 84,
    "start_time": "2021-09-16T13:56:31.082Z"
   },
   {
    "duration": 7,
    "start_time": "2021-09-16T13:56:31.170Z"
   },
   {
    "duration": 43,
    "start_time": "2021-09-16T13:56:31.180Z"
   },
   {
    "duration": 289,
    "start_time": "2021-09-16T13:56:31.225Z"
   },
   {
    "duration": 489,
    "start_time": "2021-09-16T13:56:31.516Z"
   },
   {
    "duration": 58,
    "start_time": "2021-09-16T13:56:32.007Z"
   },
   {
    "duration": 8,
    "start_time": "2021-09-16T13:56:32.068Z"
   },
   {
    "duration": 15,
    "start_time": "2021-09-16T13:56:32.078Z"
   },
   {
    "duration": 16,
    "start_time": "2021-09-16T13:56:32.096Z"
   },
   {
    "duration": 24,
    "start_time": "2021-09-16T13:56:32.114Z"
   },
   {
    "duration": 25,
    "start_time": "2021-09-16T13:56:32.141Z"
   },
   {
    "duration": 25,
    "start_time": "2021-09-16T13:56:32.169Z"
   },
   {
    "duration": 31,
    "start_time": "2021-09-16T13:56:32.196Z"
   },
   {
    "duration": 27,
    "start_time": "2021-09-16T13:56:32.229Z"
   },
   {
    "duration": 62,
    "start_time": "2021-09-16T13:56:32.258Z"
   },
   {
    "duration": 34,
    "start_time": "2021-09-16T13:56:32.322Z"
   },
   {
    "duration": 17,
    "start_time": "2021-09-16T13:56:32.358Z"
   },
   {
    "duration": 35,
    "start_time": "2021-09-16T13:56:32.378Z"
   },
   {
    "duration": 7,
    "start_time": "2021-09-16T13:56:32.415Z"
   },
   {
    "duration": 6,
    "start_time": "2021-09-16T13:56:32.455Z"
   },
   {
    "duration": 315,
    "start_time": "2021-09-16T13:56:32.464Z"
   },
   {
    "duration": 378,
    "start_time": "2021-09-16T13:56:32.782Z"
   },
   {
    "duration": 8,
    "start_time": "2021-09-16T13:56:33.164Z"
   },
   {
    "duration": 59,
    "start_time": "2021-09-16T13:56:33.174Z"
   },
   {
    "duration": 43,
    "start_time": "2021-09-16T13:56:33.256Z"
   },
   {
    "duration": 9,
    "start_time": "2021-09-16T13:56:33.302Z"
   },
   {
    "duration": 44,
    "start_time": "2021-09-16T13:56:33.314Z"
   },
   {
    "duration": 23,
    "start_time": "2021-09-16T13:56:33.361Z"
   },
   {
    "duration": 11,
    "start_time": "2021-09-16T13:56:33.387Z"
   },
   {
    "duration": 21,
    "start_time": "2021-09-16T13:56:33.400Z"
   },
   {
    "duration": 12,
    "start_time": "2021-09-16T13:56:33.424Z"
   },
   {
    "duration": 12,
    "start_time": "2021-09-16T13:56:33.438Z"
   },
   {
    "duration": 36,
    "start_time": "2021-09-16T13:56:33.452Z"
   },
   {
    "duration": 8,
    "start_time": "2021-09-16T13:56:33.490Z"
   },
   {
    "duration": 466,
    "start_time": "2021-09-16T13:56:33.500Z"
   },
   {
    "duration": 311,
    "start_time": "2021-09-16T13:56:33.657Z"
   },
   {
    "duration": 312,
    "start_time": "2021-09-16T13:56:33.658Z"
   },
   {
    "duration": 302,
    "start_time": "2021-09-16T13:56:33.670Z"
   },
   {
    "duration": 301,
    "start_time": "2021-09-16T13:56:33.672Z"
   },
   {
    "duration": 301,
    "start_time": "2021-09-16T13:56:33.674Z"
   },
   {
    "duration": 300,
    "start_time": "2021-09-16T13:56:33.676Z"
   },
   {
    "duration": 299,
    "start_time": "2021-09-16T13:56:33.678Z"
   },
   {
    "duration": 297,
    "start_time": "2021-09-16T13:56:33.682Z"
   },
   {
    "duration": 296,
    "start_time": "2021-09-16T13:56:33.684Z"
   },
   {
    "duration": 296,
    "start_time": "2021-09-16T13:56:33.685Z"
   },
   {
    "duration": 294,
    "start_time": "2021-09-16T13:56:33.688Z"
   },
   {
    "duration": 294,
    "start_time": "2021-09-16T13:56:33.690Z"
   },
   {
    "duration": 291,
    "start_time": "2021-09-16T13:56:33.694Z"
   },
   {
    "duration": 290,
    "start_time": "2021-09-16T13:56:33.697Z"
   },
   {
    "duration": 289,
    "start_time": "2021-09-16T13:56:33.699Z"
   },
   {
    "duration": 288,
    "start_time": "2021-09-16T13:56:33.701Z"
   },
   {
    "duration": 288,
    "start_time": "2021-09-16T13:56:33.703Z"
   },
   {
    "duration": 287,
    "start_time": "2021-09-16T13:56:33.705Z"
   },
   {
    "duration": 286,
    "start_time": "2021-09-16T13:56:33.707Z"
   },
   {
    "duration": 29,
    "start_time": "2021-09-16T13:57:13.647Z"
   },
   {
    "duration": 127,
    "start_time": "2021-09-16T13:57:59.872Z"
   },
   {
    "duration": 381,
    "start_time": "2021-09-16T13:58:16.658Z"
   },
   {
    "duration": 9,
    "start_time": "2021-09-16T13:58:20.887Z"
   },
   {
    "duration": 364,
    "start_time": "2021-09-16T13:58:24.600Z"
   },
   {
    "duration": 19,
    "start_time": "2021-09-16T13:58:24.967Z"
   },
   {
    "duration": 210,
    "start_time": "2021-09-16T13:58:24.989Z"
   },
   {
    "duration": 14,
    "start_time": "2021-09-16T13:58:25.203Z"
   },
   {
    "duration": 152,
    "start_time": "2021-09-16T13:58:25.219Z"
   },
   {
    "duration": 12,
    "start_time": "2021-09-16T13:58:25.374Z"
   },
   {
    "duration": 28,
    "start_time": "2021-09-16T13:58:25.389Z"
   },
   {
    "duration": 33,
    "start_time": "2021-09-16T13:58:25.423Z"
   },
   {
    "duration": 37,
    "start_time": "2021-09-16T13:58:25.460Z"
   },
   {
    "duration": 32,
    "start_time": "2021-09-16T13:58:25.499Z"
   },
   {
    "duration": 75,
    "start_time": "2021-09-16T13:58:25.534Z"
   },
   {
    "duration": 11,
    "start_time": "2021-09-16T13:58:25.612Z"
   },
   {
    "duration": 55,
    "start_time": "2021-09-16T13:58:25.626Z"
   },
   {
    "duration": 12,
    "start_time": "2021-09-16T13:58:25.684Z"
   },
   {
    "duration": 34,
    "start_time": "2021-09-16T13:58:25.698Z"
   },
   {
    "duration": 39,
    "start_time": "2021-09-16T13:58:25.734Z"
   },
   {
    "duration": 27,
    "start_time": "2021-09-16T13:58:25.776Z"
   },
   {
    "duration": 50,
    "start_time": "2021-09-16T13:58:25.807Z"
   },
   {
    "duration": 32,
    "start_time": "2021-09-16T13:58:25.860Z"
   },
   {
    "duration": 25,
    "start_time": "2021-09-16T13:58:25.894Z"
   },
   {
    "duration": 41,
    "start_time": "2021-09-16T13:58:25.921Z"
   },
   {
    "duration": 16,
    "start_time": "2021-09-16T13:58:25.965Z"
   },
   {
    "duration": 52,
    "start_time": "2021-09-16T13:58:25.989Z"
   },
   {
    "duration": 14,
    "start_time": "2021-09-16T13:58:26.053Z"
   },
   {
    "duration": 32,
    "start_time": "2021-09-16T13:58:26.070Z"
   },
   {
    "duration": 54,
    "start_time": "2021-09-16T13:58:26.105Z"
   },
   {
    "duration": 14,
    "start_time": "2021-09-16T13:58:26.162Z"
   },
   {
    "duration": 79,
    "start_time": "2021-09-16T13:58:26.180Z"
   },
   {
    "duration": 39,
    "start_time": "2021-09-16T13:58:26.261Z"
   },
   {
    "duration": 24,
    "start_time": "2021-09-16T13:58:26.303Z"
   },
   {
    "duration": 42,
    "start_time": "2021-09-16T13:58:26.330Z"
   },
   {
    "duration": 54,
    "start_time": "2021-09-16T13:58:26.375Z"
   },
   {
    "duration": 23,
    "start_time": "2021-09-16T13:58:26.432Z"
   },
   {
    "duration": 44,
    "start_time": "2021-09-16T13:58:26.458Z"
   },
   {
    "duration": 22,
    "start_time": "2021-09-16T13:58:26.505Z"
   },
   {
    "duration": 44,
    "start_time": "2021-09-16T13:58:26.530Z"
   },
   {
    "duration": 24,
    "start_time": "2021-09-16T13:58:26.576Z"
   },
   {
    "duration": 36,
    "start_time": "2021-09-16T13:58:26.603Z"
   },
   {
    "duration": 13,
    "start_time": "2021-09-16T13:58:26.642Z"
   },
   {
    "duration": 44,
    "start_time": "2021-09-16T13:58:26.657Z"
   },
   {
    "duration": 90,
    "start_time": "2021-09-16T13:58:26.703Z"
   },
   {
    "duration": 17,
    "start_time": "2021-09-16T13:58:26.795Z"
   },
   {
    "duration": 15,
    "start_time": "2021-09-16T13:58:26.814Z"
   },
   {
    "duration": 48,
    "start_time": "2021-09-16T13:58:26.831Z"
   },
   {
    "duration": 35,
    "start_time": "2021-09-16T13:58:26.881Z"
   },
   {
    "duration": 68,
    "start_time": "2021-09-16T13:58:26.919Z"
   },
   {
    "duration": 9,
    "start_time": "2021-09-16T13:58:26.989Z"
   },
   {
    "duration": 25,
    "start_time": "2021-09-16T13:58:27.001Z"
   },
   {
    "duration": 336,
    "start_time": "2021-09-16T13:58:27.029Z"
   },
   {
    "duration": 324,
    "start_time": "2021-09-16T13:58:27.368Z"
   },
   {
    "duration": 62,
    "start_time": "2021-09-16T13:58:27.696Z"
   },
   {
    "duration": 9,
    "start_time": "2021-09-16T13:58:27.760Z"
   },
   {
    "duration": 59,
    "start_time": "2021-09-16T13:58:27.771Z"
   },
   {
    "duration": 35,
    "start_time": "2021-09-16T13:58:27.833Z"
   },
   {
    "duration": 39,
    "start_time": "2021-09-16T13:58:27.870Z"
   },
   {
    "duration": 35,
    "start_time": "2021-09-16T13:58:27.912Z"
   },
   {
    "duration": 13,
    "start_time": "2021-09-16T13:58:27.950Z"
   },
   {
    "duration": 5,
    "start_time": "2021-09-16T13:58:27.966Z"
   },
   {
    "duration": 17,
    "start_time": "2021-09-16T13:58:27.974Z"
   },
   {
    "duration": 140,
    "start_time": "2021-09-16T13:58:27.995Z"
   },
   {
    "duration": 32,
    "start_time": "2021-09-16T13:58:28.138Z"
   },
   {
    "duration": 54,
    "start_time": "2021-09-16T13:58:28.172Z"
   },
   {
    "duration": 30,
    "start_time": "2021-09-16T13:58:28.228Z"
   },
   {
    "duration": 99,
    "start_time": "2021-09-16T13:58:28.261Z"
   },
   {
    "duration": 18,
    "start_time": "2021-09-16T13:58:28.362Z"
   },
   {
    "duration": 69,
    "start_time": "2021-09-16T13:58:28.382Z"
   },
   {
    "duration": 7,
    "start_time": "2021-09-16T13:58:28.454Z"
   },
   {
    "duration": 49,
    "start_time": "2021-09-16T13:58:28.471Z"
   },
   {
    "duration": 6,
    "start_time": "2021-09-16T13:58:28.524Z"
   },
   {
    "duration": 6,
    "start_time": "2021-09-16T13:58:28.554Z"
   },
   {
    "duration": 302,
    "start_time": "2021-09-16T13:58:28.563Z"
   },
   {
    "duration": 342,
    "start_time": "2021-09-16T13:58:28.867Z"
   },
   {
    "duration": 66,
    "start_time": "2021-09-16T13:58:29.212Z"
   },
   {
    "duration": 7,
    "start_time": "2021-09-16T13:58:29.281Z"
   },
   {
    "duration": 11,
    "start_time": "2021-09-16T13:58:29.291Z"
   },
   {
    "duration": 14,
    "start_time": "2021-09-16T13:58:29.304Z"
   },
   {
    "duration": 36,
    "start_time": "2021-09-16T13:58:29.320Z"
   },
   {
    "duration": 17,
    "start_time": "2021-09-16T13:58:29.359Z"
   },
   {
    "duration": 14,
    "start_time": "2021-09-16T13:58:29.379Z"
   },
   {
    "duration": 28,
    "start_time": "2021-09-16T13:58:29.396Z"
   },
   {
    "duration": 37,
    "start_time": "2021-09-16T13:58:29.427Z"
   },
   {
    "duration": 66,
    "start_time": "2021-09-16T13:58:29.466Z"
   },
   {
    "duration": 29,
    "start_time": "2021-09-16T13:58:29.535Z"
   },
   {
    "duration": 15,
    "start_time": "2021-09-16T13:58:29.568Z"
   },
   {
    "duration": 38,
    "start_time": "2021-09-16T13:58:29.586Z"
   },
   {
    "duration": 32,
    "start_time": "2021-09-16T13:58:29.626Z"
   },
   {
    "duration": 6,
    "start_time": "2021-09-16T13:58:29.660Z"
   },
   {
    "duration": 340,
    "start_time": "2021-09-16T13:58:29.668Z"
   },
   {
    "duration": 291,
    "start_time": "2021-09-16T13:58:30.011Z"
   },
   {
    "duration": 5,
    "start_time": "2021-09-16T13:58:30.305Z"
   },
   {
    "duration": 69,
    "start_time": "2021-09-16T13:58:30.313Z"
   },
   {
    "duration": 47,
    "start_time": "2021-09-16T13:58:30.385Z"
   },
   {
    "duration": 25,
    "start_time": "2021-09-16T13:58:30.435Z"
   },
   {
    "duration": 26,
    "start_time": "2021-09-16T13:58:30.463Z"
   },
   {
    "duration": 32,
    "start_time": "2021-09-16T13:58:30.492Z"
   },
   {
    "duration": 33,
    "start_time": "2021-09-16T13:58:30.526Z"
   },
   {
    "duration": 47,
    "start_time": "2021-09-16T13:58:30.562Z"
   },
   {
    "duration": 40,
    "start_time": "2021-09-16T13:58:30.611Z"
   },
   {
    "duration": 46,
    "start_time": "2021-09-16T13:58:30.653Z"
   },
   {
    "duration": 51,
    "start_time": "2021-09-16T13:58:30.702Z"
   },
   {
    "duration": 61,
    "start_time": "2021-09-16T13:58:30.756Z"
   },
   {
    "duration": 53,
    "start_time": "2021-09-16T13:58:30.820Z"
   },
   {
    "duration": 78,
    "start_time": "2021-09-16T13:58:30.876Z"
   },
   {
    "duration": 4703,
    "start_time": "2021-09-16T13:58:30.956Z"
   },
   {
    "duration": 6,
    "start_time": "2021-09-16T13:58:35.661Z"
   },
   {
    "duration": 40,
    "start_time": "2021-09-16T13:58:35.669Z"
   },
   {
    "duration": 5,
    "start_time": "2021-09-16T13:58:35.712Z"
   },
   {
    "duration": 39,
    "start_time": "2021-09-16T13:58:35.719Z"
   },
   {
    "duration": 12,
    "start_time": "2021-09-16T13:58:35.760Z"
   },
   {
    "duration": 27,
    "start_time": "2021-09-16T13:58:35.775Z"
   },
   {
    "duration": 8176,
    "start_time": "2021-09-16T13:58:35.804Z"
   },
   {
    "duration": 307,
    "start_time": "2021-09-16T13:58:43.676Z"
   },
   {
    "duration": 306,
    "start_time": "2021-09-16T13:58:43.678Z"
   },
   {
    "duration": 306,
    "start_time": "2021-09-16T13:58:43.680Z"
   },
   {
    "duration": 306,
    "start_time": "2021-09-16T13:58:43.681Z"
   },
   {
    "duration": 305,
    "start_time": "2021-09-16T13:58:43.684Z"
   },
   {
    "duration": 297,
    "start_time": "2021-09-16T13:58:43.693Z"
   },
   {
    "duration": 297,
    "start_time": "2021-09-16T13:58:43.695Z"
   },
   {
    "duration": 296,
    "start_time": "2021-09-16T13:58:43.697Z"
   },
   {
    "duration": 296,
    "start_time": "2021-09-16T13:58:43.699Z"
   },
   {
    "duration": 293,
    "start_time": "2021-09-16T13:58:43.703Z"
   },
   {
    "duration": 30,
    "start_time": "2021-09-16T13:59:18.875Z"
   },
   {
    "duration": 31,
    "start_time": "2021-09-16T14:00:42.372Z"
   },
   {
    "duration": 31,
    "start_time": "2021-09-16T14:01:29.435Z"
   },
   {
    "duration": 6,
    "start_time": "2021-09-16T14:01:48.306Z"
   },
   {
    "duration": 3,
    "start_time": "2021-09-16T14:01:50.510Z"
   },
   {
    "duration": 5,
    "start_time": "2021-09-16T14:01:50.948Z"
   },
   {
    "duration": 23,
    "start_time": "2021-09-16T14:01:53.110Z"
   },
   {
    "duration": 7,
    "start_time": "2021-09-16T14:02:05.870Z"
   },
   {
    "duration": 1256,
    "start_time": "2021-09-16T14:02:06.614Z"
   },
   {
    "duration": 312,
    "start_time": "2021-09-16T14:02:07.560Z"
   },
   {
    "duration": 311,
    "start_time": "2021-09-16T14:02:07.563Z"
   },
   {
    "duration": 4,
    "start_time": "2021-09-16T14:02:11.381Z"
   },
   {
    "duration": 8,
    "start_time": "2021-09-16T14:02:14.396Z"
   },
   {
    "duration": 7,
    "start_time": "2021-09-16T14:02:29.565Z"
   },
   {
    "duration": 10484,
    "start_time": "2021-09-16T14:02:55.704Z"
   },
   {
    "duration": 154,
    "start_time": "2021-09-16T14:03:06.037Z"
   },
   {
    "duration": 152,
    "start_time": "2021-09-16T14:03:06.040Z"
   },
   {
    "duration": 32,
    "start_time": "2021-09-16T14:03:24.905Z"
   },
   {
    "duration": 5,
    "start_time": "2021-09-16T14:03:26.188Z"
   },
   {
    "duration": 7,
    "start_time": "2021-09-16T14:03:27.729Z"
   },
   {
    "duration": 20,
    "start_time": "2021-09-16T14:03:29.270Z"
   },
   {
    "duration": 5,
    "start_time": "2021-09-16T14:03:37.238Z"
   },
   {
    "duration": 18,
    "start_time": "2021-09-16T14:03:41.802Z"
   },
   {
    "duration": 7,
    "start_time": "2021-09-16T14:03:44.833Z"
   },
   {
    "duration": 7,
    "start_time": "2021-09-16T14:03:45.301Z"
   },
   {
    "duration": 6,
    "start_time": "2021-09-16T14:03:48.186Z"
   },
   {
    "duration": 6,
    "start_time": "2021-09-16T14:03:48.701Z"
   },
   {
    "duration": 799,
    "start_time": "2021-09-16T14:03:52.195Z"
   },
   {
    "duration": 716,
    "start_time": "2021-09-16T14:03:55.384Z"
   },
   {
    "duration": 805,
    "start_time": "2021-09-16T14:05:12.423Z"
   },
   {
    "duration": 1036,
    "start_time": "2021-09-16T14:07:15.381Z"
   },
   {
    "duration": 786,
    "start_time": "2021-09-16T14:08:09.890Z"
   },
   {
    "duration": 797,
    "start_time": "2021-09-16T14:08:54.400Z"
   },
   {
    "duration": 798,
    "start_time": "2021-09-16T14:09:14.202Z"
   },
   {
    "duration": 838,
    "start_time": "2021-09-16T14:09:53.726Z"
   },
   {
    "duration": 725,
    "start_time": "2021-09-16T14:10:12.022Z"
   },
   {
    "duration": 731,
    "start_time": "2021-09-16T14:10:43.052Z"
   },
   {
    "duration": 719,
    "start_time": "2021-09-16T14:11:26.006Z"
   },
   {
    "duration": 829,
    "start_time": "2021-09-16T14:11:37.522Z"
   },
   {
    "duration": 692,
    "start_time": "2021-09-16T14:11:45.943Z"
   },
   {
    "duration": 820,
    "start_time": "2021-09-16T14:11:50.204Z"
   },
   {
    "duration": 704,
    "start_time": "2021-09-16T14:12:10.029Z"
   },
   {
    "duration": 892,
    "start_time": "2021-09-16T14:12:24.139Z"
   },
   {
    "duration": 2226,
    "start_time": "2021-09-16T14:12:59.042Z"
   },
   {
    "duration": 46,
    "start_time": "2021-09-16T14:16:29.181Z"
   },
   {
    "duration": 47,
    "start_time": "2021-09-16T14:16:56.595Z"
   },
   {
    "duration": 272,
    "start_time": "2021-09-16T14:17:12.416Z"
   },
   {
    "duration": 11,
    "start_time": "2021-09-16T14:17:12.691Z"
   },
   {
    "duration": 214,
    "start_time": "2021-09-16T14:17:12.705Z"
   },
   {
    "duration": 12,
    "start_time": "2021-09-16T14:17:12.922Z"
   },
   {
    "duration": 138,
    "start_time": "2021-09-16T14:17:12.936Z"
   },
   {
    "duration": 10,
    "start_time": "2021-09-16T14:17:13.077Z"
   },
   {
    "duration": 54,
    "start_time": "2021-09-16T14:17:13.090Z"
   },
   {
    "duration": 27,
    "start_time": "2021-09-16T14:17:13.147Z"
   },
   {
    "duration": 54,
    "start_time": "2021-09-16T14:17:13.178Z"
   },
   {
    "duration": 30,
    "start_time": "2021-09-16T14:17:13.235Z"
   },
   {
    "duration": 53,
    "start_time": "2021-09-16T14:17:13.267Z"
   },
   {
    "duration": 10,
    "start_time": "2021-09-16T14:17:13.322Z"
   },
   {
    "duration": 68,
    "start_time": "2021-09-16T14:17:13.335Z"
   },
   {
    "duration": 12,
    "start_time": "2021-09-16T14:17:13.406Z"
   },
   {
    "duration": 36,
    "start_time": "2021-09-16T14:17:13.420Z"
   },
   {
    "duration": 61,
    "start_time": "2021-09-16T14:17:13.458Z"
   },
   {
    "duration": 20,
    "start_time": "2021-09-16T14:17:13.521Z"
   },
   {
    "duration": 65,
    "start_time": "2021-09-16T14:17:13.543Z"
   },
   {
    "duration": 31,
    "start_time": "2021-09-16T14:17:13.611Z"
   },
   {
    "duration": 29,
    "start_time": "2021-09-16T14:17:13.644Z"
   },
   {
    "duration": 26,
    "start_time": "2021-09-16T14:17:13.675Z"
   },
   {
    "duration": 21,
    "start_time": "2021-09-16T14:17:13.704Z"
   },
   {
    "duration": 49,
    "start_time": "2021-09-16T14:17:13.728Z"
   },
   {
    "duration": 15,
    "start_time": "2021-09-16T14:17:13.780Z"
   },
   {
    "duration": 17,
    "start_time": "2021-09-16T14:17:13.798Z"
   },
   {
    "duration": 64,
    "start_time": "2021-09-16T14:17:13.818Z"
   },
   {
    "duration": 16,
    "start_time": "2021-09-16T14:17:13.891Z"
   },
   {
    "duration": 67,
    "start_time": "2021-09-16T14:17:13.912Z"
   },
   {
    "duration": 33,
    "start_time": "2021-09-16T14:17:13.982Z"
   },
   {
    "duration": 16,
    "start_time": "2021-09-16T14:17:14.017Z"
   },
   {
    "duration": 17,
    "start_time": "2021-09-16T14:17:14.056Z"
   },
   {
    "duration": 47,
    "start_time": "2021-09-16T14:17:14.075Z"
   },
   {
    "duration": 12,
    "start_time": "2021-09-16T14:17:14.124Z"
   },
   {
    "duration": 33,
    "start_time": "2021-09-16T14:17:14.155Z"
   },
   {
    "duration": 18,
    "start_time": "2021-09-16T14:17:14.191Z"
   },
   {
    "duration": 42,
    "start_time": "2021-09-16T14:17:14.212Z"
   },
   {
    "duration": 21,
    "start_time": "2021-09-16T14:17:14.257Z"
   },
   {
    "duration": 14,
    "start_time": "2021-09-16T14:17:14.280Z"
   },
   {
    "duration": 11,
    "start_time": "2021-09-16T14:17:14.296Z"
   },
   {
    "duration": 48,
    "start_time": "2021-09-16T14:17:14.310Z"
   },
   {
    "duration": 96,
    "start_time": "2021-09-16T14:17:14.360Z"
   },
   {
    "duration": 18,
    "start_time": "2021-09-16T14:17:14.459Z"
   },
   {
    "duration": 12,
    "start_time": "2021-09-16T14:17:14.479Z"
   },
   {
    "duration": 33,
    "start_time": "2021-09-16T14:17:14.493Z"
   },
   {
    "duration": 60,
    "start_time": "2021-09-16T14:17:14.528Z"
   },
   {
    "duration": 67,
    "start_time": "2021-09-16T14:17:14.591Z"
   },
   {
    "duration": 5,
    "start_time": "2021-09-16T14:17:14.661Z"
   },
   {
    "duration": 9,
    "start_time": "2021-09-16T14:17:14.669Z"
   },
   {
    "duration": 326,
    "start_time": "2021-09-16T14:17:14.680Z"
   },
   {
    "duration": 311,
    "start_time": "2021-09-16T14:17:15.009Z"
   },
   {
    "duration": 56,
    "start_time": "2021-09-16T14:17:15.323Z"
   },
   {
    "duration": 7,
    "start_time": "2021-09-16T14:17:15.382Z"
   },
   {
    "duration": 12,
    "start_time": "2021-09-16T14:17:15.392Z"
   },
   {
    "duration": 10,
    "start_time": "2021-09-16T14:17:15.406Z"
   },
   {
    "duration": 34,
    "start_time": "2021-09-16T14:17:15.419Z"
   },
   {
    "duration": 24,
    "start_time": "2021-09-16T14:17:15.456Z"
   },
   {
    "duration": 6,
    "start_time": "2021-09-16T14:17:15.483Z"
   },
   {
    "duration": 7,
    "start_time": "2021-09-16T14:17:15.491Z"
   },
   {
    "duration": 15,
    "start_time": "2021-09-16T14:17:15.500Z"
   },
   {
    "duration": 138,
    "start_time": "2021-09-16T14:17:15.517Z"
   },
   {
    "duration": 15,
    "start_time": "2021-09-16T14:17:15.657Z"
   },
   {
    "duration": 44,
    "start_time": "2021-09-16T14:17:15.675Z"
   },
   {
    "duration": 42,
    "start_time": "2021-09-16T14:17:15.721Z"
   },
   {
    "duration": 96,
    "start_time": "2021-09-16T14:17:15.765Z"
   },
   {
    "duration": 18,
    "start_time": "2021-09-16T14:17:15.863Z"
   },
   {
    "duration": 76,
    "start_time": "2021-09-16T14:17:15.884Z"
   },
   {
    "duration": 4,
    "start_time": "2021-09-16T14:17:15.962Z"
   },
   {
    "duration": 58,
    "start_time": "2021-09-16T14:17:15.969Z"
   },
   {
    "duration": 7,
    "start_time": "2021-09-16T14:17:16.029Z"
   },
   {
    "duration": 13,
    "start_time": "2021-09-16T14:17:16.055Z"
   },
   {
    "duration": 309,
    "start_time": "2021-09-16T14:17:16.070Z"
   },
   {
    "duration": 498,
    "start_time": "2021-09-16T14:17:16.382Z"
   },
   {
    "duration": 58,
    "start_time": "2021-09-16T14:17:16.882Z"
   },
   {
    "duration": 17,
    "start_time": "2021-09-16T14:17:16.942Z"
   },
   {
    "duration": 22,
    "start_time": "2021-09-16T14:17:16.962Z"
   },
   {
    "duration": 24,
    "start_time": "2021-09-16T14:17:16.987Z"
   },
   {
    "duration": 26,
    "start_time": "2021-09-16T14:17:17.014Z"
   },
   {
    "duration": 14,
    "start_time": "2021-09-16T14:17:17.042Z"
   },
   {
    "duration": 40,
    "start_time": "2021-09-16T14:17:17.058Z"
   },
   {
    "duration": 42,
    "start_time": "2021-09-16T14:17:17.100Z"
   },
   {
    "duration": 14,
    "start_time": "2021-09-16T14:17:17.152Z"
   },
   {
    "duration": 82,
    "start_time": "2021-09-16T14:17:17.169Z"
   },
   {
    "duration": 16,
    "start_time": "2021-09-16T14:17:17.253Z"
   },
   {
    "duration": 28,
    "start_time": "2021-09-16T14:17:17.272Z"
   },
   {
    "duration": 47,
    "start_time": "2021-09-16T14:17:17.302Z"
   },
   {
    "duration": 7,
    "start_time": "2021-09-16T14:17:17.353Z"
   },
   {
    "duration": 33,
    "start_time": "2021-09-16T14:17:17.362Z"
   },
   {
    "duration": 319,
    "start_time": "2021-09-16T14:17:17.397Z"
   },
   {
    "duration": 284,
    "start_time": "2021-09-16T14:17:17.719Z"
   },
   {
    "duration": 6,
    "start_time": "2021-09-16T14:17:18.006Z"
   },
   {
    "duration": 74,
    "start_time": "2021-09-16T14:17:18.015Z"
   },
   {
    "duration": 41,
    "start_time": "2021-09-16T14:17:18.092Z"
   },
   {
    "duration": 21,
    "start_time": "2021-09-16T14:17:18.135Z"
   },
   {
    "duration": 17,
    "start_time": "2021-09-16T14:17:18.158Z"
   },
   {
    "duration": 13,
    "start_time": "2021-09-16T14:17:18.178Z"
   },
   {
    "duration": 12,
    "start_time": "2021-09-16T14:17:18.193Z"
   },
   {
    "duration": 52,
    "start_time": "2021-09-16T14:17:18.208Z"
   },
   {
    "duration": 29,
    "start_time": "2021-09-16T14:17:18.263Z"
   },
   {
    "duration": 5,
    "start_time": "2021-09-16T14:17:18.295Z"
   },
   {
    "duration": 11,
    "start_time": "2021-09-16T14:17:18.303Z"
   },
   {
    "duration": 39,
    "start_time": "2021-09-16T14:17:18.316Z"
   },
   {
    "duration": 14,
    "start_time": "2021-09-16T14:17:18.358Z"
   },
   {
    "duration": 48,
    "start_time": "2021-09-16T14:17:18.375Z"
   },
   {
    "duration": 6,
    "start_time": "2021-09-16T14:17:18.426Z"
   },
   {
    "duration": 66,
    "start_time": "2021-09-16T14:17:18.436Z"
   },
   {
    "duration": 5,
    "start_time": "2021-09-16T14:17:18.504Z"
   },
   {
    "duration": 10,
    "start_time": "2021-09-16T14:17:18.512Z"
   },
   {
    "duration": 33,
    "start_time": "2021-09-16T14:17:18.524Z"
   },
   {
    "duration": 7,
    "start_time": "2021-09-16T14:17:18.559Z"
   },
   {
    "duration": 1001,
    "start_time": "2021-09-16T14:17:18.568Z"
   },
   {
    "duration": 850,
    "start_time": "2021-09-16T14:17:19.572Z"
   },
   {
    "duration": 31,
    "start_time": "2021-09-16T14:18:31.281Z"
   },
   {
    "duration": 32,
    "start_time": "2021-09-16T14:19:36.506Z"
   },
   {
    "duration": 6,
    "start_time": "2021-09-16T14:20:10.193Z"
   },
   {
    "duration": 348,
    "start_time": "2021-09-16T14:26:31.899Z"
   },
   {
    "duration": 7,
    "start_time": "2021-09-16T14:26:46.614Z"
   },
   {
    "duration": 34,
    "start_time": "2021-09-16T14:26:53.326Z"
   },
   {
    "duration": 259,
    "start_time": "2021-09-16T14:34:28.531Z"
   },
   {
    "duration": 11,
    "start_time": "2021-09-16T14:34:28.793Z"
   },
   {
    "duration": 191,
    "start_time": "2021-09-16T14:34:28.808Z"
   },
   {
    "duration": 12,
    "start_time": "2021-09-16T14:34:29.002Z"
   },
   {
    "duration": 137,
    "start_time": "2021-09-16T14:34:29.017Z"
   },
   {
    "duration": 10,
    "start_time": "2021-09-16T14:34:29.157Z"
   },
   {
    "duration": 29,
    "start_time": "2021-09-16T14:34:29.170Z"
   },
   {
    "duration": 12,
    "start_time": "2021-09-16T14:34:29.202Z"
   },
   {
    "duration": 47,
    "start_time": "2021-09-16T14:34:29.219Z"
   },
   {
    "duration": 14,
    "start_time": "2021-09-16T14:34:29.269Z"
   },
   {
    "duration": 32,
    "start_time": "2021-09-16T14:34:29.285Z"
   },
   {
    "duration": 3,
    "start_time": "2021-09-16T14:34:29.319Z"
   },
   {
    "duration": 74,
    "start_time": "2021-09-16T14:34:29.324Z"
   },
   {
    "duration": 12,
    "start_time": "2021-09-16T14:34:29.400Z"
   },
   {
    "duration": 23,
    "start_time": "2021-09-16T14:34:29.414Z"
   },
   {
    "duration": 29,
    "start_time": "2021-09-16T14:34:29.456Z"
   },
   {
    "duration": 15,
    "start_time": "2021-09-16T14:34:29.487Z"
   },
   {
    "duration": 71,
    "start_time": "2021-09-16T14:34:29.504Z"
   },
   {
    "duration": 31,
    "start_time": "2021-09-16T14:34:29.578Z"
   },
   {
    "duration": 45,
    "start_time": "2021-09-16T14:34:29.611Z"
   },
   {
    "duration": 15,
    "start_time": "2021-09-16T14:34:29.658Z"
   },
   {
    "duration": 22,
    "start_time": "2021-09-16T14:34:29.676Z"
   },
   {
    "duration": 58,
    "start_time": "2021-09-16T14:34:29.701Z"
   },
   {
    "duration": 14,
    "start_time": "2021-09-16T14:34:29.761Z"
   },
   {
    "duration": 14,
    "start_time": "2021-09-16T14:34:29.778Z"
   },
   {
    "duration": 62,
    "start_time": "2021-09-16T14:34:29.794Z"
   },
   {
    "duration": 19,
    "start_time": "2021-09-16T14:34:29.863Z"
   },
   {
    "duration": 48,
    "start_time": "2021-09-16T14:34:29.886Z"
   },
   {
    "duration": 48,
    "start_time": "2021-09-16T14:34:29.936Z"
   },
   {
    "duration": 16,
    "start_time": "2021-09-16T14:34:29.986Z"
   },
   {
    "duration": 28,
    "start_time": "2021-09-16T14:34:30.005Z"
   },
   {
    "duration": 26,
    "start_time": "2021-09-16T14:34:30.056Z"
   },
   {
    "duration": 16,
    "start_time": "2021-09-16T14:34:30.085Z"
   },
   {
    "duration": 51,
    "start_time": "2021-09-16T14:34:30.103Z"
   },
   {
    "duration": 13,
    "start_time": "2021-09-16T14:34:30.157Z"
   },
   {
    "duration": 44,
    "start_time": "2021-09-16T14:34:30.172Z"
   },
   {
    "duration": 20,
    "start_time": "2021-09-16T14:34:30.219Z"
   },
   {
    "duration": 50,
    "start_time": "2021-09-16T14:34:30.241Z"
   },
   {
    "duration": 16,
    "start_time": "2021-09-16T14:34:30.294Z"
   },
   {
    "duration": 42,
    "start_time": "2021-09-16T14:34:30.313Z"
   },
   {
    "duration": 102,
    "start_time": "2021-09-16T14:34:30.357Z"
   },
   {
    "duration": 17,
    "start_time": "2021-09-16T14:34:30.461Z"
   },
   {
    "duration": 69,
    "start_time": "2021-09-16T14:34:30.480Z"
   },
   {
    "duration": 85,
    "start_time": "2021-09-16T14:34:30.552Z"
   },
   {
    "duration": 54,
    "start_time": "2021-09-16T14:34:30.639Z"
   },
   {
    "duration": 67,
    "start_time": "2021-09-16T14:34:30.695Z"
   },
   {
    "duration": 38,
    "start_time": "2021-09-16T14:34:30.764Z"
   },
   {
    "duration": 27,
    "start_time": "2021-09-16T14:34:30.804Z"
   },
   {
    "duration": 333,
    "start_time": "2021-09-16T14:34:30.833Z"
   },
   {
    "duration": 315,
    "start_time": "2021-09-16T14:34:31.168Z"
   },
   {
    "duration": 42,
    "start_time": "2021-09-16T14:34:31.486Z"
   },
   {
    "duration": 25,
    "start_time": "2021-09-16T14:34:31.530Z"
   },
   {
    "duration": 10,
    "start_time": "2021-09-16T14:34:31.558Z"
   },
   {
    "duration": 28,
    "start_time": "2021-09-16T14:34:31.570Z"
   },
   {
    "duration": 26,
    "start_time": "2021-09-16T14:34:31.601Z"
   },
   {
    "duration": 44,
    "start_time": "2021-09-16T14:34:31.629Z"
   },
   {
    "duration": 42,
    "start_time": "2021-09-16T14:34:31.676Z"
   },
   {
    "duration": 11,
    "start_time": "2021-09-16T14:34:31.720Z"
   },
   {
    "duration": 25,
    "start_time": "2021-09-16T14:34:31.733Z"
   },
   {
    "duration": 127,
    "start_time": "2021-09-16T14:34:31.761Z"
   },
   {
    "duration": 16,
    "start_time": "2021-09-16T14:34:31.891Z"
   },
   {
    "duration": 57,
    "start_time": "2021-09-16T14:34:31.909Z"
   },
   {
    "duration": 21,
    "start_time": "2021-09-16T14:34:31.969Z"
   },
   {
    "duration": 107,
    "start_time": "2021-09-16T14:34:31.992Z"
   },
   {
    "duration": 17,
    "start_time": "2021-09-16T14:34:32.101Z"
   },
   {
    "duration": 61,
    "start_time": "2021-09-16T14:34:32.120Z"
   },
   {
    "duration": 4,
    "start_time": "2021-09-16T14:34:32.183Z"
   },
   {
    "duration": 58,
    "start_time": "2021-09-16T14:34:32.189Z"
   },
   {
    "duration": 6,
    "start_time": "2021-09-16T14:34:32.255Z"
   },
   {
    "duration": 20,
    "start_time": "2021-09-16T14:34:32.263Z"
   },
   {
    "duration": 315,
    "start_time": "2021-09-16T14:34:32.285Z"
   },
   {
    "duration": 330,
    "start_time": "2021-09-16T14:34:32.602Z"
   },
   {
    "duration": 61,
    "start_time": "2021-09-16T14:34:32.936Z"
   },
   {
    "duration": 10,
    "start_time": "2021-09-16T14:34:33.000Z"
   },
   {
    "duration": 27,
    "start_time": "2021-09-16T14:34:33.013Z"
   },
   {
    "duration": 7,
    "start_time": "2021-09-16T14:34:33.055Z"
   },
   {
    "duration": 26,
    "start_time": "2021-09-16T14:34:33.064Z"
   },
   {
    "duration": 25,
    "start_time": "2021-09-16T14:34:33.092Z"
   },
   {
    "duration": 27,
    "start_time": "2021-09-16T14:34:33.119Z"
   },
   {
    "duration": 23,
    "start_time": "2021-09-16T14:34:33.148Z"
   },
   {
    "duration": 14,
    "start_time": "2021-09-16T14:34:33.181Z"
   },
   {
    "duration": 75,
    "start_time": "2021-09-16T14:34:33.198Z"
   },
   {
    "duration": 16,
    "start_time": "2021-09-16T14:34:33.275Z"
   },
   {
    "duration": 25,
    "start_time": "2021-09-16T14:34:33.293Z"
   },
   {
    "duration": 46,
    "start_time": "2021-09-16T14:34:33.320Z"
   },
   {
    "duration": 6,
    "start_time": "2021-09-16T14:34:33.368Z"
   },
   {
    "duration": 13,
    "start_time": "2021-09-16T14:34:33.376Z"
   },
   {
    "duration": 314,
    "start_time": "2021-09-16T14:34:33.391Z"
   },
   {
    "duration": 272,
    "start_time": "2021-09-16T14:34:33.707Z"
   },
   {
    "duration": 6,
    "start_time": "2021-09-16T14:34:33.982Z"
   },
   {
    "duration": 71,
    "start_time": "2021-09-16T14:34:33.990Z"
   },
   {
    "duration": 40,
    "start_time": "2021-09-16T14:34:34.063Z"
   },
   {
    "duration": 8,
    "start_time": "2021-09-16T14:34:34.106Z"
   },
   {
    "duration": 38,
    "start_time": "2021-09-16T14:34:34.116Z"
   },
   {
    "duration": 8,
    "start_time": "2021-09-16T14:34:34.156Z"
   },
   {
    "duration": 15,
    "start_time": "2021-09-16T14:34:34.166Z"
   },
   {
    "duration": 45,
    "start_time": "2021-09-16T14:34:34.183Z"
   },
   {
    "duration": 39,
    "start_time": "2021-09-16T14:34:34.231Z"
   },
   {
    "duration": 5,
    "start_time": "2021-09-16T14:34:34.273Z"
   },
   {
    "duration": 27,
    "start_time": "2021-09-16T14:34:34.281Z"
   },
   {
    "duration": 11,
    "start_time": "2021-09-16T14:34:34.311Z"
   },
   {
    "duration": 23,
    "start_time": "2021-09-16T14:34:34.324Z"
   },
   {
    "duration": 51,
    "start_time": "2021-09-16T14:34:34.349Z"
   },
   {
    "duration": 5,
    "start_time": "2021-09-16T14:34:34.403Z"
   },
   {
    "duration": 54,
    "start_time": "2021-09-16T14:34:34.410Z"
   },
   {
    "duration": 16,
    "start_time": "2021-09-16T14:34:34.466Z"
   },
   {
    "duration": 27,
    "start_time": "2021-09-16T14:34:34.484Z"
   },
   {
    "duration": 16,
    "start_time": "2021-09-16T14:34:34.514Z"
   },
   {
    "duration": 22,
    "start_time": "2021-09-16T14:34:34.532Z"
   },
   {
    "duration": 828,
    "start_time": "2021-09-16T14:34:34.556Z"
   },
   {
    "duration": 694,
    "start_time": "2021-09-16T14:34:35.387Z"
   },
   {
    "duration": 29,
    "start_time": "2021-09-16T14:34:36.084Z"
   },
   {
    "duration": 9,
    "start_time": "2021-09-16T14:34:36.116Z"
   },
   {
    "duration": 58,
    "start_time": "2021-09-16T14:34:36.128Z"
   },
   {
    "duration": 1184,
    "start_time": "2021-09-17T14:43:06.636Z"
   },
   {
    "duration": 16,
    "start_time": "2021-09-17T14:43:07.823Z"
   },
   {
    "duration": 209,
    "start_time": "2021-09-17T14:43:07.842Z"
   },
   {
    "duration": 17,
    "start_time": "2021-09-17T14:43:08.053Z"
   },
   {
    "duration": 139,
    "start_time": "2021-09-17T14:43:08.072Z"
   },
   {
    "duration": 10,
    "start_time": "2021-09-17T14:43:08.213Z"
   },
   {
    "duration": 21,
    "start_time": "2021-09-17T14:43:08.226Z"
   },
   {
    "duration": 12,
    "start_time": "2021-09-17T14:43:08.269Z"
   },
   {
    "duration": 65,
    "start_time": "2021-09-17T14:43:08.286Z"
   },
   {
    "duration": 16,
    "start_time": "2021-09-17T14:43:08.355Z"
   },
   {
    "duration": 37,
    "start_time": "2021-09-17T14:43:08.374Z"
   },
   {
    "duration": 3,
    "start_time": "2021-09-17T14:43:08.413Z"
   },
   {
    "duration": 77,
    "start_time": "2021-09-17T14:43:08.418Z"
   },
   {
    "duration": 13,
    "start_time": "2021-09-17T14:43:08.497Z"
   },
   {
    "duration": 16,
    "start_time": "2021-09-17T14:43:08.513Z"
   },
   {
    "duration": 57,
    "start_time": "2021-09-17T14:43:08.532Z"
   },
   {
    "duration": 18,
    "start_time": "2021-09-17T14:43:08.592Z"
   },
   {
    "duration": 87,
    "start_time": "2021-09-17T14:43:08.612Z"
   },
   {
    "duration": 33,
    "start_time": "2021-09-17T14:43:08.701Z"
   },
   {
    "duration": 42,
    "start_time": "2021-09-17T14:43:08.736Z"
   },
   {
    "duration": 16,
    "start_time": "2021-09-17T14:43:08.780Z"
   },
   {
    "duration": 22,
    "start_time": "2021-09-17T14:43:08.799Z"
   },
   {
    "duration": 60,
    "start_time": "2021-09-17T14:43:08.827Z"
   },
   {
    "duration": 13,
    "start_time": "2021-09-17T14:43:08.891Z"
   },
   {
    "duration": 12,
    "start_time": "2021-09-17T14:43:08.907Z"
   },
   {
    "duration": 65,
    "start_time": "2021-09-17T14:43:08.922Z"
   },
   {
    "duration": 14,
    "start_time": "2021-09-17T14:43:08.990Z"
   },
   {
    "duration": 61,
    "start_time": "2021-09-17T14:43:09.006Z"
   },
   {
    "duration": 31,
    "start_time": "2021-09-17T14:43:09.070Z"
   },
   {
    "duration": 15,
    "start_time": "2021-09-17T14:43:09.104Z"
   },
   {
    "duration": 45,
    "start_time": "2021-09-17T14:43:09.122Z"
   },
   {
    "duration": 24,
    "start_time": "2021-09-17T14:43:09.170Z"
   },
   {
    "duration": 12,
    "start_time": "2021-09-17T14:43:09.196Z"
   },
   {
    "duration": 31,
    "start_time": "2021-09-17T14:43:09.210Z"
   },
   {
    "duration": 34,
    "start_time": "2021-09-17T14:43:09.244Z"
   },
   {
    "duration": 27,
    "start_time": "2021-09-17T14:43:09.281Z"
   },
   {
    "duration": 21,
    "start_time": "2021-09-17T14:43:09.310Z"
   },
   {
    "duration": 45,
    "start_time": "2021-09-17T14:43:09.334Z"
   },
   {
    "duration": 6,
    "start_time": "2021-09-17T14:43:09.381Z"
   },
   {
    "duration": 32,
    "start_time": "2021-09-17T14:43:09.389Z"
   },
   {
    "duration": 128,
    "start_time": "2021-09-17T14:43:09.423Z"
   },
   {
    "duration": 23,
    "start_time": "2021-09-17T14:43:09.554Z"
   },
   {
    "duration": 7,
    "start_time": "2021-09-17T14:43:09.579Z"
   },
   {
    "duration": 39,
    "start_time": "2021-09-17T14:43:09.588Z"
   },
   {
    "duration": 67,
    "start_time": "2021-09-17T14:43:09.629Z"
   },
   {
    "duration": 36,
    "start_time": "2021-09-17T14:43:09.699Z"
   },
   {
    "duration": 29,
    "start_time": "2021-09-17T14:43:09.738Z"
   },
   {
    "duration": 7,
    "start_time": "2021-09-17T14:43:09.770Z"
   },
   {
    "duration": 366,
    "start_time": "2021-09-17T14:43:09.779Z"
   },
   {
    "duration": 379,
    "start_time": "2021-09-17T14:43:10.148Z"
   },
   {
    "duration": 62,
    "start_time": "2021-09-17T14:43:10.530Z"
   },
   {
    "duration": 8,
    "start_time": "2021-09-17T14:43:10.595Z"
   },
   {
    "duration": 15,
    "start_time": "2021-09-17T14:43:10.605Z"
   },
   {
    "duration": 13,
    "start_time": "2021-09-17T14:43:10.622Z"
   },
   {
    "duration": 32,
    "start_time": "2021-09-17T14:43:10.638Z"
   },
   {
    "duration": 22,
    "start_time": "2021-09-17T14:43:10.673Z"
   },
   {
    "duration": 16,
    "start_time": "2021-09-17T14:43:10.697Z"
   },
   {
    "duration": 6,
    "start_time": "2021-09-17T14:43:10.715Z"
   },
   {
    "duration": 10,
    "start_time": "2021-09-17T14:43:10.724Z"
   },
   {
    "duration": 162,
    "start_time": "2021-09-17T14:43:10.736Z"
   },
   {
    "duration": 15,
    "start_time": "2021-09-17T14:43:10.900Z"
   },
   {
    "duration": 219,
    "start_time": "2021-09-17T14:43:10.917Z"
   },
   {
    "duration": 21,
    "start_time": "2021-09-17T14:43:11.138Z"
   },
   {
    "duration": 94,
    "start_time": "2021-09-17T14:43:11.161Z"
   },
   {
    "duration": 22,
    "start_time": "2021-09-17T14:43:11.257Z"
   },
   {
    "duration": 58,
    "start_time": "2021-09-17T14:43:11.282Z"
   },
   {
    "duration": 4,
    "start_time": "2021-09-17T14:43:11.343Z"
   },
   {
    "duration": 51,
    "start_time": "2021-09-17T14:43:11.367Z"
   },
   {
    "duration": 7,
    "start_time": "2021-09-17T14:43:11.421Z"
   },
   {
    "duration": 11,
    "start_time": "2021-09-17T14:43:11.430Z"
   },
   {
    "duration": 329,
    "start_time": "2021-09-17T14:43:11.444Z"
   },
   {
    "duration": 394,
    "start_time": "2021-09-17T14:43:11.775Z"
   },
   {
    "duration": 51,
    "start_time": "2021-09-17T14:43:12.172Z"
   },
   {
    "duration": 8,
    "start_time": "2021-09-17T14:43:12.225Z"
   },
   {
    "duration": 35,
    "start_time": "2021-09-17T14:43:12.234Z"
   },
   {
    "duration": 13,
    "start_time": "2021-09-17T14:43:12.272Z"
   },
   {
    "duration": 8,
    "start_time": "2021-09-17T14:43:12.287Z"
   },
   {
    "duration": 8,
    "start_time": "2021-09-17T14:43:12.297Z"
   },
   {
    "duration": 14,
    "start_time": "2021-09-17T14:43:12.307Z"
   },
   {
    "duration": 62,
    "start_time": "2021-09-17T14:43:12.324Z"
   },
   {
    "duration": 14,
    "start_time": "2021-09-17T14:43:12.388Z"
   },
   {
    "duration": 90,
    "start_time": "2021-09-17T14:43:12.405Z"
   },
   {
    "duration": 18,
    "start_time": "2021-09-17T14:43:12.498Z"
   },
   {
    "duration": 17,
    "start_time": "2021-09-17T14:43:12.518Z"
   },
   {
    "duration": 61,
    "start_time": "2021-09-17T14:43:12.538Z"
   },
   {
    "duration": 6,
    "start_time": "2021-09-17T14:43:12.602Z"
   },
   {
    "duration": 8,
    "start_time": "2021-09-17T14:43:12.610Z"
   },
   {
    "duration": 347,
    "start_time": "2021-09-17T14:43:12.620Z"
   },
   {
    "duration": 295,
    "start_time": "2021-09-17T14:43:12.969Z"
   },
   {
    "duration": 5,
    "start_time": "2021-09-17T14:43:13.268Z"
   },
   {
    "duration": 56,
    "start_time": "2021-09-17T14:43:13.276Z"
   },
   {
    "duration": 69,
    "start_time": "2021-09-17T14:43:13.334Z"
   },
   {
    "duration": 10,
    "start_time": "2021-09-17T14:43:13.405Z"
   },
   {
    "duration": 9,
    "start_time": "2021-09-17T14:43:13.417Z"
   },
   {
    "duration": 40,
    "start_time": "2021-09-17T14:43:13.428Z"
   },
   {
    "duration": 8,
    "start_time": "2021-09-17T14:43:13.470Z"
   },
   {
    "duration": 37,
    "start_time": "2021-09-17T14:43:13.480Z"
   },
   {
    "duration": 55,
    "start_time": "2021-09-17T14:43:13.520Z"
   },
   {
    "duration": 6,
    "start_time": "2021-09-17T14:43:13.577Z"
   },
   {
    "duration": 6,
    "start_time": "2021-09-17T14:43:13.585Z"
   },
   {
    "duration": 7,
    "start_time": "2021-09-17T14:43:13.594Z"
   },
   {
    "duration": 6,
    "start_time": "2021-09-17T14:43:13.604Z"
   },
   {
    "duration": 80,
    "start_time": "2021-09-17T14:43:13.612Z"
   },
   {
    "duration": 6,
    "start_time": "2021-09-17T14:43:13.693Z"
   },
   {
    "duration": 47,
    "start_time": "2021-09-17T14:43:13.701Z"
   },
   {
    "duration": 6,
    "start_time": "2021-09-17T14:43:13.768Z"
   },
   {
    "duration": 12,
    "start_time": "2021-09-17T14:43:13.776Z"
   },
   {
    "duration": 9,
    "start_time": "2021-09-17T14:43:13.791Z"
   },
   {
    "duration": 7,
    "start_time": "2021-09-17T14:43:13.803Z"
   },
   {
    "duration": 801,
    "start_time": "2021-09-17T14:43:13.813Z"
   },
   {
    "duration": 766,
    "start_time": "2021-09-17T14:43:14.616Z"
   },
   {
    "duration": 30,
    "start_time": "2021-09-17T14:43:15.385Z"
   },
   {
    "duration": 7,
    "start_time": "2021-09-17T14:43:15.418Z"
   },
   {
    "duration": 72,
    "start_time": "2021-09-17T14:43:15.427Z"
   },
   {
    "duration": 35,
    "start_time": "2021-09-17T14:45:26.095Z"
   },
   {
    "duration": 3,
    "start_time": "2021-09-17T14:45:26.929Z"
   },
   {
    "duration": 48,
    "start_time": "2021-09-17T14:45:27.403Z"
   },
   {
    "duration": 438,
    "start_time": "2021-09-17T14:50:43.513Z"
   },
   {
    "duration": 19,
    "start_time": "2021-09-17T14:50:47.842Z"
   },
   {
    "duration": 31,
    "start_time": "2021-09-17T14:51:55.264Z"
   },
   {
    "duration": 14,
    "start_time": "2021-09-17T14:51:55.835Z"
   },
   {
    "duration": 29,
    "start_time": "2021-09-17T14:51:56.894Z"
   },
   {
    "duration": 15,
    "start_time": "2021-09-17T14:51:57.902Z"
   },
   {
    "duration": 13,
    "start_time": "2021-09-17T14:52:12.708Z"
   },
   {
    "duration": 12,
    "start_time": "2021-09-17T14:52:13.666Z"
   },
   {
    "duration": 35,
    "start_time": "2021-09-17T14:52:14.173Z"
   },
   {
    "duration": 14,
    "start_time": "2021-09-17T14:52:14.808Z"
   },
   {
    "duration": 41,
    "start_time": "2021-09-17T14:52:19.791Z"
   },
   {
    "duration": 34,
    "start_time": "2021-09-17T14:52:20.083Z"
   },
   {
    "duration": 17,
    "start_time": "2021-09-17T14:52:20.470Z"
   },
   {
    "duration": 29,
    "start_time": "2021-09-17T15:02:17.592Z"
   },
   {
    "duration": 335,
    "start_time": "2021-09-17T15:04:39.142Z"
   },
   {
    "duration": 14,
    "start_time": "2021-09-17T15:04:39.481Z"
   },
   {
    "duration": 227,
    "start_time": "2021-09-17T15:04:39.498Z"
   },
   {
    "duration": 14,
    "start_time": "2021-09-17T15:04:39.729Z"
   },
   {
    "duration": 162,
    "start_time": "2021-09-17T15:04:39.746Z"
   },
   {
    "duration": 10,
    "start_time": "2021-09-17T15:04:39.910Z"
   },
   {
    "duration": 25,
    "start_time": "2021-09-17T15:04:39.922Z"
   },
   {
    "duration": 23,
    "start_time": "2021-09-17T15:04:39.951Z"
   },
   {
    "duration": 53,
    "start_time": "2021-09-17T15:04:39.977Z"
   },
   {
    "duration": 15,
    "start_time": "2021-09-17T15:04:40.032Z"
   },
   {
    "duration": 41,
    "start_time": "2021-09-17T15:04:40.049Z"
   },
   {
    "duration": 14,
    "start_time": "2021-09-17T15:04:40.093Z"
   },
   {
    "duration": 58,
    "start_time": "2021-09-17T15:04:40.110Z"
   },
   {
    "duration": 16,
    "start_time": "2021-09-17T15:04:40.171Z"
   },
   {
    "duration": 30,
    "start_time": "2021-09-17T15:04:40.189Z"
   },
   {
    "duration": 49,
    "start_time": "2021-09-17T15:04:40.221Z"
   },
   {
    "duration": 17,
    "start_time": "2021-09-17T15:04:40.272Z"
   },
   {
    "duration": 43,
    "start_time": "2021-09-17T15:04:40.291Z"
   },
   {
    "duration": 32,
    "start_time": "2021-09-17T15:04:40.336Z"
   },
   {
    "duration": 42,
    "start_time": "2021-09-17T15:04:40.371Z"
   },
   {
    "duration": 14,
    "start_time": "2021-09-17T15:04:40.415Z"
   },
   {
    "duration": 63,
    "start_time": "2021-09-17T15:04:40.431Z"
   },
   {
    "duration": 32,
    "start_time": "2021-09-17T15:04:40.500Z"
   },
   {
    "duration": 33,
    "start_time": "2021-09-17T15:04:40.536Z"
   },
   {
    "duration": 29,
    "start_time": "2021-09-17T15:04:40.571Z"
   },
   {
    "duration": 12,
    "start_time": "2021-09-17T15:04:40.602Z"
   },
   {
    "duration": 55,
    "start_time": "2021-09-17T15:04:40.616Z"
   },
   {
    "duration": 12,
    "start_time": "2021-09-17T15:04:40.673Z"
   },
   {
    "duration": 29,
    "start_time": "2021-09-17T15:04:40.688Z"
   },
   {
    "duration": 47,
    "start_time": "2021-09-17T15:04:40.720Z"
   },
   {
    "duration": 14,
    "start_time": "2021-09-17T15:04:40.769Z"
   },
   {
    "duration": 4,
    "start_time": "2021-09-17T15:04:40.786Z"
   },
   {
    "duration": 36,
    "start_time": "2021-09-17T15:04:40.792Z"
   },
   {
    "duration": 113,
    "start_time": "2021-09-17T15:04:40.830Z"
   },
   {
    "duration": 26,
    "start_time": "2021-09-17T15:04:40.946Z"
   },
   {
    "duration": 40,
    "start_time": "2021-09-17T15:04:40.974Z"
   },
   {
    "duration": 25,
    "start_time": "2021-09-17T15:04:41.017Z"
   },
   {
    "duration": 41,
    "start_time": "2021-09-17T15:04:41.067Z"
   },
   {
    "duration": 5,
    "start_time": "2021-09-17T15:04:41.111Z"
   },
   {
    "duration": 13,
    "start_time": "2021-09-17T15:04:41.119Z"
   },
   {
    "duration": 361,
    "start_time": "2021-09-17T15:04:41.135Z"
   },
   {
    "duration": 336,
    "start_time": "2021-09-17T15:04:41.499Z"
   },
   {
    "duration": 53,
    "start_time": "2021-09-17T15:04:41.838Z"
   },
   {
    "duration": 8,
    "start_time": "2021-09-17T15:04:41.894Z"
   },
   {
    "duration": 19,
    "start_time": "2021-09-17T15:04:41.904Z"
   },
   {
    "duration": 18,
    "start_time": "2021-09-17T15:04:41.925Z"
   },
   {
    "duration": 26,
    "start_time": "2021-09-17T15:04:41.945Z"
   },
   {
    "duration": 27,
    "start_time": "2021-09-17T15:04:41.973Z"
   },
   {
    "duration": 19,
    "start_time": "2021-09-17T15:04:42.003Z"
   },
   {
    "duration": 16,
    "start_time": "2021-09-17T15:04:42.025Z"
   },
   {
    "duration": 10,
    "start_time": "2021-09-17T15:04:42.043Z"
   },
   {
    "duration": 137,
    "start_time": "2021-09-17T15:04:42.055Z"
   },
   {
    "duration": 16,
    "start_time": "2021-09-17T15:04:42.194Z"
   },
   {
    "duration": 58,
    "start_time": "2021-09-17T15:04:42.213Z"
   },
   {
    "duration": 22,
    "start_time": "2021-09-17T15:04:42.273Z"
   },
   {
    "duration": 114,
    "start_time": "2021-09-17T15:04:42.297Z"
   },
   {
    "duration": 19,
    "start_time": "2021-09-17T15:04:42.413Z"
   },
   {
    "duration": 65,
    "start_time": "2021-09-17T15:04:42.434Z"
   },
   {
    "duration": 4,
    "start_time": "2021-09-17T15:04:42.502Z"
   },
   {
    "duration": 80,
    "start_time": "2021-09-17T15:04:42.508Z"
   },
   {
    "duration": 7,
    "start_time": "2021-09-17T15:04:42.590Z"
   },
   {
    "duration": 8,
    "start_time": "2021-09-17T15:04:42.600Z"
   },
   {
    "duration": 328,
    "start_time": "2021-09-17T15:04:42.611Z"
   },
   {
    "duration": 429,
    "start_time": "2021-09-17T15:04:42.942Z"
   },
   {
    "duration": 46,
    "start_time": "2021-09-17T15:04:43.373Z"
   },
   {
    "duration": 8,
    "start_time": "2021-09-17T15:04:43.422Z"
   },
   {
    "duration": 37,
    "start_time": "2021-09-17T15:04:43.432Z"
   },
   {
    "duration": 8,
    "start_time": "2021-09-17T15:04:43.478Z"
   },
   {
    "duration": 20,
    "start_time": "2021-09-17T15:04:43.489Z"
   },
   {
    "duration": 22,
    "start_time": "2021-09-17T15:04:43.512Z"
   },
   {
    "duration": 29,
    "start_time": "2021-09-17T15:04:43.537Z"
   },
   {
    "duration": 37,
    "start_time": "2021-09-17T15:04:43.568Z"
   },
   {
    "duration": 13,
    "start_time": "2021-09-17T15:04:43.608Z"
   },
   {
    "duration": 75,
    "start_time": "2021-09-17T15:04:43.624Z"
   },
   {
    "duration": 15,
    "start_time": "2021-09-17T15:04:43.702Z"
   },
   {
    "duration": 23,
    "start_time": "2021-09-17T15:04:43.719Z"
   },
   {
    "duration": 53,
    "start_time": "2021-09-17T15:04:43.745Z"
   },
   {
    "duration": 6,
    "start_time": "2021-09-17T15:04:43.801Z"
   },
   {
    "duration": 29,
    "start_time": "2021-09-17T15:04:43.809Z"
   },
   {
    "duration": 345,
    "start_time": "2021-09-17T15:04:43.840Z"
   },
   {
    "duration": 287,
    "start_time": "2021-09-17T15:04:44.188Z"
   },
   {
    "duration": 6,
    "start_time": "2021-09-17T15:04:44.477Z"
   },
   {
    "duration": 50,
    "start_time": "2021-09-17T15:04:44.485Z"
   },
   {
    "duration": 69,
    "start_time": "2021-09-17T15:04:44.538Z"
   },
   {
    "duration": 10,
    "start_time": "2021-09-17T15:04:44.610Z"
   },
   {
    "duration": 46,
    "start_time": "2021-09-17T15:04:44.623Z"
   },
   {
    "duration": 7,
    "start_time": "2021-09-17T15:04:44.671Z"
   },
   {
    "duration": 8,
    "start_time": "2021-09-17T15:04:44.680Z"
   },
   {
    "duration": 31,
    "start_time": "2021-09-17T15:04:44.690Z"
   },
   {
    "duration": 63,
    "start_time": "2021-09-17T15:04:44.724Z"
   },
   {
    "duration": 5,
    "start_time": "2021-09-17T15:04:44.790Z"
   },
   {
    "duration": 5,
    "start_time": "2021-09-17T15:04:44.798Z"
   },
   {
    "duration": 8,
    "start_time": "2021-09-17T15:04:44.805Z"
   },
   {
    "duration": 6,
    "start_time": "2021-09-17T15:04:44.816Z"
   },
   {
    "duration": 76,
    "start_time": "2021-09-17T15:04:44.825Z"
   },
   {
    "duration": 5,
    "start_time": "2021-09-17T15:04:44.903Z"
   },
   {
    "duration": 74,
    "start_time": "2021-09-17T15:04:44.910Z"
   },
   {
    "duration": 6,
    "start_time": "2021-09-17T15:04:44.986Z"
   },
   {
    "duration": 13,
    "start_time": "2021-09-17T15:04:44.995Z"
   },
   {
    "duration": 17,
    "start_time": "2021-09-17T15:04:45.010Z"
   },
   {
    "duration": 13,
    "start_time": "2021-09-17T15:04:45.029Z"
   },
   {
    "duration": 926,
    "start_time": "2021-09-17T15:04:45.045Z"
   },
   {
    "duration": 1015,
    "start_time": "2021-09-17T15:04:45.974Z"
   },
   {
    "duration": 38,
    "start_time": "2021-09-17T15:04:46.991Z"
   },
   {
    "duration": 7,
    "start_time": "2021-09-17T15:04:47.031Z"
   },
   {
    "duration": 34,
    "start_time": "2021-09-17T15:04:47.068Z"
   },
   {
    "duration": 29,
    "start_time": "2021-09-17T15:05:45.707Z"
   },
   {
    "duration": 67,
    "start_time": "2021-09-17T15:09:52.648Z"
   },
   {
    "duration": 43,
    "start_time": "2021-09-17T15:11:34.713Z"
   },
   {
    "duration": 95,
    "start_time": "2021-09-17T16:05:07.124Z"
   },
   {
    "duration": 62,
    "start_time": "2021-09-17T16:11:31.384Z"
   },
   {
    "duration": 81,
    "start_time": "2021-09-17T16:11:38.931Z"
   },
   {
    "duration": 61,
    "start_time": "2021-09-17T16:15:34.954Z"
   },
   {
    "duration": 85,
    "start_time": "2021-09-17T16:15:44.536Z"
   },
   {
    "duration": 85,
    "start_time": "2021-09-17T16:16:05.084Z"
   },
   {
    "duration": 7,
    "start_time": "2021-09-17T16:17:27.181Z"
   },
   {
    "duration": 388,
    "start_time": "2021-09-17T16:17:43.164Z"
   },
   {
    "duration": 82,
    "start_time": "2021-09-17T16:17:47.351Z"
   },
   {
    "duration": 7,
    "start_time": "2021-09-17T16:17:50.095Z"
   },
   {
    "duration": 8,
    "start_time": "2021-09-17T16:17:50.292Z"
   },
   {
    "duration": 6,
    "start_time": "2021-09-17T16:17:53.532Z"
   },
   {
    "duration": 81,
    "start_time": "2021-09-17T16:19:01.010Z"
   },
   {
    "duration": 6,
    "start_time": "2021-09-17T16:19:01.325Z"
   },
   {
    "duration": 6,
    "start_time": "2021-09-17T16:19:01.713Z"
   },
   {
    "duration": 100,
    "start_time": "2021-09-17T16:19:48.305Z"
   },
   {
    "duration": 7,
    "start_time": "2021-09-17T16:21:12.558Z"
   },
   {
    "duration": 312,
    "start_time": "2021-09-17T16:21:24.547Z"
   },
   {
    "duration": 303,
    "start_time": "2021-09-17T16:21:35.308Z"
   },
   {
    "duration": 6,
    "start_time": "2021-09-17T16:22:29.540Z"
   },
   {
    "duration": 6,
    "start_time": "2021-09-17T16:22:41.827Z"
   },
   {
    "duration": 7,
    "start_time": "2021-09-17T16:22:44.685Z"
   },
   {
    "duration": 7,
    "start_time": "2021-09-17T16:22:45.204Z"
   },
   {
    "duration": 82,
    "start_time": "2021-09-17T16:28:26.987Z"
   },
   {
    "duration": 21,
    "start_time": "2021-09-17T16:28:49.077Z"
   },
   {
    "duration": 343,
    "start_time": "2021-09-17T16:33:35.048Z"
   },
   {
    "duration": 284,
    "start_time": "2021-09-17T16:34:13.341Z"
   },
   {
    "duration": 13,
    "start_time": "2021-09-17T16:34:13.628Z"
   },
   {
    "duration": 219,
    "start_time": "2021-09-17T16:34:13.644Z"
   },
   {
    "duration": 12,
    "start_time": "2021-09-17T16:34:13.868Z"
   },
   {
    "duration": 139,
    "start_time": "2021-09-17T16:34:13.883Z"
   },
   {
    "duration": 11,
    "start_time": "2021-09-17T16:34:14.024Z"
   },
   {
    "duration": 35,
    "start_time": "2021-09-17T16:34:14.038Z"
   },
   {
    "duration": 13,
    "start_time": "2021-09-17T16:34:14.077Z"
   },
   {
    "duration": 45,
    "start_time": "2021-09-17T16:34:14.094Z"
   },
   {
    "duration": 14,
    "start_time": "2021-09-17T16:34:14.142Z"
   },
   {
    "duration": 39,
    "start_time": "2021-09-17T16:34:14.158Z"
   },
   {
    "duration": 13,
    "start_time": "2021-09-17T16:34:14.200Z"
   },
   {
    "duration": 54,
    "start_time": "2021-09-17T16:34:14.216Z"
   },
   {
    "duration": 14,
    "start_time": "2021-09-17T16:34:14.272Z"
   },
   {
    "duration": 32,
    "start_time": "2021-09-17T16:34:14.289Z"
   },
   {
    "duration": 45,
    "start_time": "2021-09-17T16:34:14.323Z"
   },
   {
    "duration": 15,
    "start_time": "2021-09-17T16:34:14.371Z"
   },
   {
    "duration": 39,
    "start_time": "2021-09-17T16:34:14.388Z"
   },
   {
    "duration": 12,
    "start_time": "2021-09-17T16:34:14.430Z"
   },
   {
    "duration": 59,
    "start_time": "2021-09-17T16:34:14.444Z"
   },
   {
    "duration": 14,
    "start_time": "2021-09-17T16:34:14.506Z"
   },
   {
    "duration": 66,
    "start_time": "2021-09-17T16:34:14.522Z"
   },
   {
    "duration": 33,
    "start_time": "2021-09-17T16:34:14.594Z"
   },
   {
    "duration": 15,
    "start_time": "2021-09-17T16:34:14.631Z"
   },
   {
    "duration": 26,
    "start_time": "2021-09-17T16:34:14.668Z"
   },
   {
    "duration": 12,
    "start_time": "2021-09-17T16:34:14.696Z"
   },
   {
    "duration": 27,
    "start_time": "2021-09-17T16:34:14.710Z"
   },
   {
    "duration": 13,
    "start_time": "2021-09-17T16:34:14.767Z"
   },
   {
    "duration": 26,
    "start_time": "2021-09-17T16:34:14.782Z"
   },
   {
    "duration": 21,
    "start_time": "2021-09-17T16:34:14.810Z"
   },
   {
    "duration": 47,
    "start_time": "2021-09-17T16:34:14.833Z"
   },
   {
    "duration": 5,
    "start_time": "2021-09-17T16:34:14.882Z"
   },
   {
    "duration": 36,
    "start_time": "2021-09-17T16:34:14.889Z"
   },
   {
    "duration": 131,
    "start_time": "2021-09-17T16:34:14.927Z"
   },
   {
    "duration": 25,
    "start_time": "2021-09-17T16:34:15.060Z"
   },
   {
    "duration": 36,
    "start_time": "2021-09-17T16:34:15.087Z"
   },
   {
    "duration": 55,
    "start_time": "2021-09-17T16:34:15.126Z"
   },
   {
    "duration": 101,
    "start_time": "2021-09-17T16:34:15.183Z"
   },
   {
    "duration": 21,
    "start_time": "2021-09-17T16:34:15.286Z"
   },
   {
    "duration": 14,
    "start_time": "2021-09-17T16:34:15.310Z"
   },
   {
    "duration": 15,
    "start_time": "2021-09-17T16:34:15.327Z"
   },
   {
    "duration": 24,
    "start_time": "2021-09-17T16:34:15.344Z"
   },
   {
    "duration": 7,
    "start_time": "2021-09-17T16:34:15.371Z"
   },
   {
    "duration": 316,
    "start_time": "2021-09-17T16:34:15.380Z"
   },
   {
    "duration": 336,
    "start_time": "2021-09-17T16:34:15.698Z"
   },
   {
    "duration": 4,
    "start_time": "2021-09-17T16:34:16.036Z"
   },
   {
    "duration": 9,
    "start_time": "2021-09-17T16:34:16.042Z"
   },
   {
    "duration": 153,
    "start_time": "2021-09-17T16:34:16.053Z"
   },
   {
    "duration": 16,
    "start_time": "2021-09-17T16:34:16.209Z"
   },
   {
    "duration": 54,
    "start_time": "2021-09-17T16:34:16.228Z"
   },
   {
    "duration": 22,
    "start_time": "2021-09-17T16:34:16.285Z"
   },
   {
    "duration": 115,
    "start_time": "2021-09-17T16:34:16.310Z"
   },
   {
    "duration": 19,
    "start_time": "2021-09-17T16:34:16.428Z"
   },
   {
    "duration": 154,
    "start_time": "2021-09-17T16:34:16.449Z"
   },
   {
    "duration": 5,
    "start_time": "2021-09-17T16:34:16.607Z"
   },
   {
    "duration": 364,
    "start_time": "2021-09-17T16:34:16.615Z"
   },
   {
    "duration": 975,
    "start_time": "2021-09-17T16:34:16.010Z"
   },
   {
    "duration": 970,
    "start_time": "2021-09-17T16:34:16.017Z"
   },
   {
    "duration": 969,
    "start_time": "2021-09-17T16:34:16.020Z"
   },
   {
    "duration": 960,
    "start_time": "2021-09-17T16:34:16.031Z"
   },
   {
    "duration": 959,
    "start_time": "2021-09-17T16:34:16.034Z"
   },
   {
    "duration": 958,
    "start_time": "2021-09-17T16:34:16.037Z"
   },
   {
    "duration": 958,
    "start_time": "2021-09-17T16:34:16.039Z"
   },
   {
    "duration": 957,
    "start_time": "2021-09-17T16:34:16.042Z"
   },
   {
    "duration": 953,
    "start_time": "2021-09-17T16:34:16.048Z"
   },
   {
    "duration": 952,
    "start_time": "2021-09-17T16:34:16.051Z"
   },
   {
    "duration": 917,
    "start_time": "2021-09-17T16:34:16.088Z"
   },
   {
    "duration": 915,
    "start_time": "2021-09-17T16:34:16.092Z"
   },
   {
    "duration": 911,
    "start_time": "2021-09-17T16:34:16.098Z"
   },
   {
    "duration": 911,
    "start_time": "2021-09-17T16:34:16.100Z"
   },
   {
    "duration": 912,
    "start_time": "2021-09-17T16:34:16.102Z"
   },
   {
    "duration": 911,
    "start_time": "2021-09-17T16:34:16.105Z"
   },
   {
    "duration": 909,
    "start_time": "2021-09-17T16:34:16.109Z"
   },
   {
    "duration": 885,
    "start_time": "2021-09-17T16:34:16.135Z"
   },
   {
    "duration": 884,
    "start_time": "2021-09-17T16:34:16.138Z"
   },
   {
    "duration": 883,
    "start_time": "2021-09-17T16:34:16.140Z"
   },
   {
    "duration": 880,
    "start_time": "2021-09-17T16:34:16.144Z"
   },
   {
    "duration": 869,
    "start_time": "2021-09-17T16:34:16.156Z"
   },
   {
    "duration": 908,
    "start_time": "2021-09-17T16:34:16.159Z"
   },
   {
    "duration": 873,
    "start_time": "2021-09-17T16:34:16.196Z"
   },
   {
    "duration": 865,
    "start_time": "2021-09-17T16:34:16.206Z"
   },
   {
    "duration": 865,
    "start_time": "2021-09-17T16:34:16.208Z"
   },
   {
    "duration": 856,
    "start_time": "2021-09-17T16:34:16.220Z"
   },
   {
    "duration": 854,
    "start_time": "2021-09-17T16:34:16.223Z"
   },
   {
    "duration": 854,
    "start_time": "2021-09-17T16:34:16.226Z"
   },
   {
    "duration": 852,
    "start_time": "2021-09-17T16:34:16.230Z"
   },
   {
    "duration": 851,
    "start_time": "2021-09-17T16:34:16.233Z"
   },
   {
    "duration": 849,
    "start_time": "2021-09-17T16:34:16.237Z"
   },
   {
    "duration": 849,
    "start_time": "2021-09-17T16:34:16.239Z"
   },
   {
    "duration": 849,
    "start_time": "2021-09-17T16:34:16.241Z"
   },
   {
    "duration": 840,
    "start_time": "2021-09-17T16:34:16.252Z"
   },
   {
    "duration": 838,
    "start_time": "2021-09-17T16:34:16.256Z"
   },
   {
    "duration": 838,
    "start_time": "2021-09-17T16:34:16.258Z"
   },
   {
    "duration": 834,
    "start_time": "2021-09-17T16:34:16.264Z"
   },
   {
    "duration": 833,
    "start_time": "2021-09-17T16:34:16.267Z"
   },
   {
    "duration": 833,
    "start_time": "2021-09-17T16:34:16.269Z"
   },
   {
    "duration": 832,
    "start_time": "2021-09-17T16:34:16.272Z"
   },
   {
    "duration": 831,
    "start_time": "2021-09-17T16:34:16.275Z"
   },
   {
    "duration": 887,
    "start_time": "2021-09-17T16:34:16.282Z"
   },
   {
    "duration": 886,
    "start_time": "2021-09-17T16:34:16.285Z"
   },
   {
    "duration": 881,
    "start_time": "2021-09-17T16:34:16.292Z"
   },
   {
    "duration": 878,
    "start_time": "2021-09-17T16:34:16.297Z"
   },
   {
    "duration": 95,
    "start_time": "2021-09-17T16:34:53.307Z"
   },
   {
    "duration": 6,
    "start_time": "2021-09-17T16:36:34.669Z"
   },
   {
    "duration": 5,
    "start_time": "2021-09-17T16:37:05.385Z"
   },
   {
    "duration": 321,
    "start_time": "2021-09-17T16:37:05.962Z"
   },
   {
    "duration": 322,
    "start_time": "2021-09-17T16:37:06.286Z"
   },
   {
    "duration": 7,
    "start_time": "2021-09-17T16:37:49.278Z"
   },
   {
    "duration": 414,
    "start_time": "2021-09-17T16:39:53.263Z"
   },
   {
    "duration": 6,
    "start_time": "2021-09-17T16:40:08.016Z"
   },
   {
    "duration": 14,
    "start_time": "2021-09-17T16:40:08.198Z"
   },
   {
    "duration": 17,
    "start_time": "2021-09-17T16:40:08.462Z"
   },
   {
    "duration": 16,
    "start_time": "2021-09-17T16:40:08.880Z"
   },
   {
    "duration": 62,
    "start_time": "2021-09-17T16:40:09.107Z"
   },
   {
    "duration": 15,
    "start_time": "2021-09-17T16:40:09.526Z"
   },
   {
    "duration": 16,
    "start_time": "2021-09-17T16:40:10.009Z"
   },
   {
    "duration": 74,
    "start_time": "2021-09-17T16:40:28.939Z"
   },
   {
    "duration": 6819,
    "start_time": "2021-09-17T16:42:48.058Z"
   },
   {
    "duration": 77,
    "start_time": "2021-09-17T16:43:39.504Z"
   },
   {
    "duration": 977,
    "start_time": "2021-09-17T16:43:48.316Z"
   },
   {
    "duration": 71,
    "start_time": "2021-09-17T16:43:53.948Z"
   },
   {
    "duration": 7,
    "start_time": "2021-09-17T16:43:54.380Z"
   },
   {
    "duration": 6,
    "start_time": "2021-09-17T16:44:16.718Z"
   },
   {
    "duration": 6,
    "start_time": "2021-09-17T16:44:18.249Z"
   },
   {
    "duration": 6,
    "start_time": "2021-09-17T16:44:19.607Z"
   },
   {
    "duration": 291,
    "start_time": "2021-09-17T16:44:31.394Z"
   },
   {
    "duration": 339,
    "start_time": "2021-09-17T16:44:31.688Z"
   },
   {
    "duration": 278,
    "start_time": "2021-09-17T16:44:41.576Z"
   },
   {
    "duration": 11,
    "start_time": "2021-09-17T16:44:41.868Z"
   },
   {
    "duration": 211,
    "start_time": "2021-09-17T16:44:41.882Z"
   },
   {
    "duration": 11,
    "start_time": "2021-09-17T16:44:42.096Z"
   },
   {
    "duration": 149,
    "start_time": "2021-09-17T16:44:42.110Z"
   },
   {
    "duration": 11,
    "start_time": "2021-09-17T16:44:42.261Z"
   },
   {
    "duration": 38,
    "start_time": "2021-09-17T16:44:42.274Z"
   },
   {
    "duration": 30,
    "start_time": "2021-09-17T16:44:42.315Z"
   },
   {
    "duration": 50,
    "start_time": "2021-09-17T16:44:42.349Z"
   },
   {
    "duration": 15,
    "start_time": "2021-09-17T16:44:42.402Z"
   },
   {
    "duration": 47,
    "start_time": "2021-09-17T16:44:42.420Z"
   },
   {
    "duration": 14,
    "start_time": "2021-09-17T16:44:42.470Z"
   },
   {
    "duration": 46,
    "start_time": "2021-09-17T16:44:42.486Z"
   },
   {
    "duration": 14,
    "start_time": "2021-09-17T16:44:42.535Z"
   },
   {
    "duration": 43,
    "start_time": "2021-09-17T16:44:42.552Z"
   },
   {
    "duration": 25,
    "start_time": "2021-09-17T16:44:42.597Z"
   },
   {
    "duration": 16,
    "start_time": "2021-09-17T16:44:42.624Z"
   },
   {
    "duration": 60,
    "start_time": "2021-09-17T16:44:42.643Z"
   },
   {
    "duration": 13,
    "start_time": "2021-09-17T16:44:42.705Z"
   },
   {
    "duration": 60,
    "start_time": "2021-09-17T16:44:42.721Z"
   },
   {
    "duration": 15,
    "start_time": "2021-09-17T16:44:42.784Z"
   },
   {
    "duration": 47,
    "start_time": "2021-09-17T16:44:42.801Z"
   },
   {
    "duration": 44,
    "start_time": "2021-09-17T16:44:42.851Z"
   },
   {
    "duration": 17,
    "start_time": "2021-09-17T16:44:42.897Z"
   },
   {
    "duration": 54,
    "start_time": "2021-09-17T16:44:42.917Z"
   },
   {
    "duration": 12,
    "start_time": "2021-09-17T16:44:42.974Z"
   },
   {
    "duration": 27,
    "start_time": "2021-09-17T16:44:42.993Z"
   },
   {
    "duration": 13,
    "start_time": "2021-09-17T16:44:43.024Z"
   },
   {
    "duration": 28,
    "start_time": "2021-09-17T16:44:43.068Z"
   },
   {
    "duration": 22,
    "start_time": "2021-09-17T16:44:43.099Z"
   },
   {
    "duration": 45,
    "start_time": "2021-09-17T16:44:43.123Z"
   },
   {
    "duration": 12,
    "start_time": "2021-09-17T16:44:43.170Z"
   },
   {
    "duration": 36,
    "start_time": "2021-09-17T16:44:43.184Z"
   },
   {
    "duration": 110,
    "start_time": "2021-09-17T16:44:43.222Z"
   },
   {
    "duration": 18,
    "start_time": "2021-09-17T16:44:43.335Z"
   },
   {
    "duration": 35,
    "start_time": "2021-09-17T16:44:43.367Z"
   },
   {
    "duration": 28,
    "start_time": "2021-09-17T16:44:43.404Z"
   },
   {
    "duration": 109,
    "start_time": "2021-09-17T16:44:43.434Z"
   },
   {
    "duration": 33,
    "start_time": "2021-09-17T16:44:43.546Z"
   },
   {
    "duration": 9,
    "start_time": "2021-09-17T16:44:43.581Z"
   },
   {
    "duration": 10,
    "start_time": "2021-09-17T16:44:43.593Z"
   },
   {
    "duration": 11,
    "start_time": "2021-09-17T16:44:43.605Z"
   },
   {
    "duration": 9,
    "start_time": "2021-09-17T16:44:43.618Z"
   },
   {
    "duration": 323,
    "start_time": "2021-09-17T16:44:43.630Z"
   },
   {
    "duration": 330,
    "start_time": "2021-09-17T16:44:43.956Z"
   },
   {
    "duration": 4,
    "start_time": "2021-09-17T16:44:44.288Z"
   },
   {
    "duration": 12,
    "start_time": "2021-09-17T16:44:44.294Z"
   },
   {
    "duration": 158,
    "start_time": "2021-09-17T16:44:44.308Z"
   },
   {
    "duration": 19,
    "start_time": "2021-09-17T16:44:44.469Z"
   },
   {
    "duration": 47,
    "start_time": "2021-09-17T16:44:44.490Z"
   },
   {
    "duration": 44,
    "start_time": "2021-09-17T16:44:44.540Z"
   },
   {
    "duration": 114,
    "start_time": "2021-09-17T16:44:44.586Z"
   },
   {
    "duration": 24,
    "start_time": "2021-09-17T16:44:44.703Z"
   },
   {
    "duration": 71,
    "start_time": "2021-09-17T16:44:44.730Z"
   },
   {
    "duration": 5,
    "start_time": "2021-09-17T16:44:44.804Z"
   },
   {
    "duration": 118,
    "start_time": "2021-09-17T16:44:44.811Z"
   },
   {
    "duration": 8,
    "start_time": "2021-09-17T16:44:44.932Z"
   },
   {
    "duration": 27,
    "start_time": "2021-09-17T16:44:44.943Z"
   },
   {
    "duration": 324,
    "start_time": "2021-09-17T16:44:44.972Z"
   },
   {
    "duration": 325,
    "start_time": "2021-09-17T16:44:45.298Z"
   },
   {
    "duration": 7,
    "start_time": "2021-09-17T16:44:45.625Z"
   },
   {
    "duration": 38,
    "start_time": "2021-09-17T16:44:45.634Z"
   },
   {
    "duration": 25,
    "start_time": "2021-09-17T16:44:45.674Z"
   },
   {
    "duration": 15,
    "start_time": "2021-09-17T16:44:45.702Z"
   },
   {
    "duration": 100,
    "start_time": "2021-09-17T16:44:45.719Z"
   },
   {
    "duration": 15,
    "start_time": "2021-09-17T16:44:45.821Z"
   },
   {
    "duration": 30,
    "start_time": "2021-09-17T16:44:45.838Z"
   },
   {
    "duration": 78,
    "start_time": "2021-09-17T16:44:45.871Z"
   },
   {
    "duration": 19,
    "start_time": "2021-09-17T16:44:45.951Z"
   },
   {
    "duration": 12,
    "start_time": "2021-09-17T16:44:45.972Z"
   },
   {
    "duration": 11,
    "start_time": "2021-09-17T16:44:45.986Z"
   },
   {
    "duration": 10,
    "start_time": "2021-09-17T16:44:45.999Z"
   },
   {
    "duration": 315,
    "start_time": "2021-09-17T16:44:46.011Z"
   },
   {
    "duration": 353,
    "start_time": "2021-09-17T16:44:46.328Z"
   },
   {
    "duration": 43,
    "start_time": "2021-09-17T16:44:46.684Z"
   },
   {
    "duration": 49,
    "start_time": "2021-09-17T16:44:46.729Z"
   },
   {
    "duration": 5,
    "start_time": "2021-09-17T16:44:46.781Z"
   },
   {
    "duration": 10,
    "start_time": "2021-09-17T16:44:46.788Z"
   },
   {
    "duration": 17,
    "start_time": "2021-09-17T16:44:46.800Z"
   },
   {
    "duration": 11,
    "start_time": "2021-09-17T16:44:46.820Z"
   },
   {
    "duration": 62,
    "start_time": "2021-09-17T16:44:46.839Z"
   },
   {
    "duration": 11,
    "start_time": "2021-09-17T16:44:46.904Z"
   },
   {
    "duration": 80,
    "start_time": "2021-09-17T16:44:46.917Z"
   },
   {
    "duration": 22,
    "start_time": "2021-09-17T16:44:46.999Z"
   },
   {
    "duration": 21,
    "start_time": "2021-09-17T16:44:47.023Z"
   },
   {
    "duration": 44,
    "start_time": "2021-09-17T16:44:47.047Z"
   },
   {
    "duration": 17,
    "start_time": "2021-09-17T16:44:47.094Z"
   },
   {
    "duration": 756,
    "start_time": "2021-09-17T16:44:47.114Z"
   },
   {
    "duration": 890,
    "start_time": "2021-09-17T16:44:47.873Z"
   },
   {
    "duration": 29,
    "start_time": "2021-09-17T16:44:48.768Z"
   },
   {
    "duration": 6,
    "start_time": "2021-09-17T16:44:48.799Z"
   },
   {
    "duration": 63,
    "start_time": "2021-09-17T16:44:48.808Z"
   },
   {
    "duration": 6,
    "start_time": "2021-09-17T16:45:35.507Z"
   },
   {
    "duration": 100,
    "start_time": "2021-09-17T16:59:43.357Z"
   },
   {
    "duration": 119,
    "start_time": "2021-09-17T16:59:53.309Z"
   },
   {
    "duration": 55,
    "start_time": "2021-09-17T17:01:10.560Z"
   },
   {
    "duration": 53,
    "start_time": "2021-09-17T17:01:54.593Z"
   },
   {
    "duration": 20,
    "start_time": "2021-09-17T17:08:20.792Z"
   },
   {
    "duration": 35,
    "start_time": "2021-09-17T17:08:29.680Z"
   },
   {
    "duration": 30,
    "start_time": "2021-09-17T17:13:32.308Z"
   },
   {
    "duration": 35,
    "start_time": "2021-09-17T17:13:49.432Z"
   },
   {
    "duration": 18,
    "start_time": "2021-09-17T17:16:47.757Z"
   },
   {
    "duration": 56,
    "start_time": "2021-09-17T17:20:11.523Z"
   },
   {
    "duration": 55,
    "start_time": "2021-09-17T17:25:38.719Z"
   },
   {
    "duration": 55,
    "start_time": "2021-09-17T17:26:10.812Z"
   },
   {
    "duration": 412,
    "start_time": "2021-09-17T18:33:46.341Z"
   },
   {
    "duration": 315,
    "start_time": "2021-09-17T18:34:16.364Z"
   },
   {
    "duration": 219,
    "start_time": "2021-09-17T18:34:33.094Z"
   },
   {
    "duration": 7,
    "start_time": "2021-09-17T18:34:44.289Z"
   },
   {
    "duration": 779,
    "start_time": "2021-09-17T18:35:11.114Z"
   },
   {
    "duration": 7,
    "start_time": "2021-09-17T18:35:39.670Z"
   },
   {
    "duration": 6,
    "start_time": "2021-09-17T18:36:03.387Z"
   },
   {
    "duration": 7,
    "start_time": "2021-09-17T18:36:17.275Z"
   },
   {
    "duration": 7,
    "start_time": "2021-09-17T18:37:03.154Z"
   },
   {
    "duration": 6,
    "start_time": "2021-09-17T18:37:06.858Z"
   },
   {
    "duration": 7,
    "start_time": "2021-09-17T18:38:00.477Z"
   },
   {
    "duration": 6,
    "start_time": "2021-09-17T18:38:22.434Z"
   },
   {
    "duration": 5,
    "start_time": "2021-09-17T18:38:32.595Z"
   },
   {
    "duration": 6,
    "start_time": "2021-09-17T18:38:36.462Z"
   },
   {
    "duration": 131,
    "start_time": "2021-09-17T18:39:34.514Z"
   },
   {
    "duration": 7,
    "start_time": "2021-09-17T18:39:38.952Z"
   },
   {
    "duration": 6,
    "start_time": "2021-09-17T18:39:46.772Z"
   },
   {
    "duration": 6,
    "start_time": "2021-09-17T18:41:22.815Z"
   },
   {
    "duration": 7,
    "start_time": "2021-09-17T18:41:23.658Z"
   },
   {
    "duration": 6,
    "start_time": "2021-09-17T18:43:06.737Z"
   },
   {
    "duration": 6,
    "start_time": "2021-09-17T18:43:07.248Z"
   },
   {
    "duration": 6,
    "start_time": "2021-09-17T18:43:07.718Z"
   },
   {
    "duration": 6,
    "start_time": "2021-09-17T18:43:08.212Z"
   },
   {
    "duration": 6,
    "start_time": "2021-09-17T18:43:08.545Z"
   },
   {
    "duration": 6,
    "start_time": "2021-09-17T18:44:27.930Z"
   },
   {
    "duration": 6,
    "start_time": "2021-09-17T18:44:29.120Z"
   },
   {
    "duration": 7,
    "start_time": "2021-09-17T18:44:29.626Z"
   },
   {
    "duration": 6,
    "start_time": "2021-09-17T18:44:32.614Z"
   },
   {
    "duration": 10,
    "start_time": "2021-09-17T18:44:32.623Z"
   },
   {
    "duration": 8,
    "start_time": "2021-09-17T18:44:32.636Z"
   },
   {
    "duration": 552,
    "start_time": "2021-09-18T12:12:27.527Z"
   },
   {
    "duration": 1561,
    "start_time": "2021-09-18T12:12:31.158Z"
   },
   {
    "duration": 15,
    "start_time": "2021-09-18T12:12:32.721Z"
   },
   {
    "duration": 197,
    "start_time": "2021-09-18T12:12:32.739Z"
   },
   {
    "duration": 12,
    "start_time": "2021-09-18T12:12:32.938Z"
   },
   {
    "duration": 142,
    "start_time": "2021-09-18T12:12:32.952Z"
   },
   {
    "duration": 10,
    "start_time": "2021-09-18T12:12:33.096Z"
   },
   {
    "duration": 24,
    "start_time": "2021-09-18T12:12:33.116Z"
   },
   {
    "duration": 12,
    "start_time": "2021-09-18T12:12:33.147Z"
   },
   {
    "duration": 49,
    "start_time": "2021-09-18T12:12:33.163Z"
   },
   {
    "duration": 16,
    "start_time": "2021-09-18T12:12:33.215Z"
   },
   {
    "duration": 37,
    "start_time": "2021-09-18T12:12:33.234Z"
   },
   {
    "duration": 49,
    "start_time": "2021-09-18T12:12:33.274Z"
   },
   {
    "duration": 35,
    "start_time": "2021-09-18T12:12:33.326Z"
   },
   {
    "duration": 15,
    "start_time": "2021-09-18T12:12:33.368Z"
   },
   {
    "duration": 53,
    "start_time": "2021-09-18T12:12:33.386Z"
   },
   {
    "duration": 24,
    "start_time": "2021-09-18T12:12:33.442Z"
   },
   {
    "duration": 16,
    "start_time": "2021-09-18T12:12:33.468Z"
   },
   {
    "duration": 63,
    "start_time": "2021-09-18T12:12:33.486Z"
   },
   {
    "duration": 14,
    "start_time": "2021-09-18T12:12:33.551Z"
   },
   {
    "duration": 66,
    "start_time": "2021-09-18T12:12:33.568Z"
   },
   {
    "duration": 13,
    "start_time": "2021-09-18T12:12:33.636Z"
   },
   {
    "duration": 65,
    "start_time": "2021-09-18T12:12:33.651Z"
   },
   {
    "duration": 31,
    "start_time": "2021-09-18T12:12:33.722Z"
   },
   {
    "duration": 15,
    "start_time": "2021-09-18T12:12:33.756Z"
   },
   {
    "duration": 48,
    "start_time": "2021-09-18T12:12:33.773Z"
   },
   {
    "duration": 11,
    "start_time": "2021-09-18T12:12:33.824Z"
   },
   {
    "duration": 40,
    "start_time": "2021-09-18T12:12:33.837Z"
   },
   {
    "duration": 12,
    "start_time": "2021-09-18T12:12:33.879Z"
   },
   {
    "duration": 44,
    "start_time": "2021-09-18T12:12:33.893Z"
   },
   {
    "duration": 20,
    "start_time": "2021-09-18T12:12:33.940Z"
   },
   {
    "duration": 14,
    "start_time": "2021-09-18T12:12:33.962Z"
   },
   {
    "duration": 12,
    "start_time": "2021-09-18T12:12:33.978Z"
   },
   {
    "duration": 58,
    "start_time": "2021-09-18T12:12:33.993Z"
   },
   {
    "duration": 111,
    "start_time": "2021-09-18T12:12:34.053Z"
   },
   {
    "duration": 17,
    "start_time": "2021-09-18T12:12:34.167Z"
   },
   {
    "duration": 55,
    "start_time": "2021-09-18T12:12:34.186Z"
   },
   {
    "duration": 27,
    "start_time": "2021-09-18T12:12:34.243Z"
   },
   {
    "duration": 101,
    "start_time": "2021-09-18T12:12:34.272Z"
   },
   {
    "duration": 20,
    "start_time": "2021-09-18T12:12:34.376Z"
   },
   {
    "duration": 20,
    "start_time": "2021-09-18T12:12:34.398Z"
   },
   {
    "duration": 14,
    "start_time": "2021-09-18T12:12:34.421Z"
   },
   {
    "duration": 14,
    "start_time": "2021-09-18T12:12:34.437Z"
   },
   {
    "duration": 15,
    "start_time": "2021-09-18T12:12:34.453Z"
   },
   {
    "duration": 12,
    "start_time": "2021-09-18T12:12:34.471Z"
   },
   {
    "duration": 21,
    "start_time": "2021-09-18T12:12:34.486Z"
   },
   {
    "duration": 281,
    "start_time": "2021-09-18T12:12:34.516Z"
   },
   {
    "duration": 312,
    "start_time": "2021-09-18T12:12:34.799Z"
   },
   {
    "duration": 4,
    "start_time": "2021-09-18T12:12:35.116Z"
   },
   {
    "duration": 9,
    "start_time": "2021-09-18T12:12:35.123Z"
   },
   {
    "duration": 144,
    "start_time": "2021-09-18T12:12:35.135Z"
   },
   {
    "duration": 18,
    "start_time": "2021-09-18T12:12:35.282Z"
   },
   {
    "duration": 36,
    "start_time": "2021-09-18T12:12:35.317Z"
   },
   {
    "duration": 20,
    "start_time": "2021-09-18T12:12:35.356Z"
   },
   {
    "duration": 113,
    "start_time": "2021-09-18T12:12:35.378Z"
   },
   {
    "duration": 26,
    "start_time": "2021-09-18T12:12:35.493Z"
   },
   {
    "duration": 72,
    "start_time": "2021-09-18T12:12:35.521Z"
   },
   {
    "duration": 138,
    "start_time": "2021-09-18T12:12:35.595Z"
   },
   {
    "duration": 6,
    "start_time": "2021-09-18T12:12:35.735Z"
   },
   {
    "duration": 12,
    "start_time": "2021-09-18T12:12:35.743Z"
   },
   {
    "duration": 20,
    "start_time": "2021-09-18T12:12:35.758Z"
   },
   {
    "duration": 14,
    "start_time": "2021-09-18T12:12:35.780Z"
   },
   {
    "duration": 21,
    "start_time": "2021-09-18T12:12:35.796Z"
   },
   {
    "duration": 20,
    "start_time": "2021-09-18T12:12:35.820Z"
   },
   {
    "duration": 307,
    "start_time": "2021-09-18T12:12:35.842Z"
   },
   {
    "duration": 318,
    "start_time": "2021-09-18T12:12:36.152Z"
   },
   {
    "duration": 25,
    "start_time": "2021-09-18T12:12:36.473Z"
   },
   {
    "duration": 28,
    "start_time": "2021-09-18T12:12:36.500Z"
   },
   {
    "duration": 80,
    "start_time": "2021-09-18T12:12:36.536Z"
   },
   {
    "duration": 15,
    "start_time": "2021-09-18T12:12:36.619Z"
   },
   {
    "duration": 14,
    "start_time": "2021-09-18T12:12:36.636Z"
   },
   {
    "duration": 104,
    "start_time": "2021-09-18T12:12:36.653Z"
   },
   {
    "duration": 6,
    "start_time": "2021-09-18T12:12:36.759Z"
   },
   {
    "duration": 8,
    "start_time": "2021-09-18T12:12:36.767Z"
   },
   {
    "duration": 9,
    "start_time": "2021-09-18T12:12:36.777Z"
   },
   {
    "duration": 29,
    "start_time": "2021-09-18T12:12:36.788Z"
   },
   {
    "duration": 10,
    "start_time": "2021-09-18T12:12:36.819Z"
   },
   {
    "duration": 5,
    "start_time": "2021-09-18T12:12:36.831Z"
   },
   {
    "duration": 314,
    "start_time": "2021-09-18T12:12:36.839Z"
   },
   {
    "duration": 315,
    "start_time": "2021-09-18T12:12:37.155Z"
   },
   {
    "duration": 363,
    "start_time": "2021-09-18T12:12:37.473Z"
   },
   {
    "duration": 833,
    "start_time": "2021-09-18T12:12:37.005Z"
   },
   {
    "duration": 833,
    "start_time": "2021-09-18T12:12:37.007Z"
   },
   {
    "duration": 831,
    "start_time": "2021-09-18T12:12:37.010Z"
   },
   {
    "duration": 831,
    "start_time": "2021-09-18T12:12:37.012Z"
   },
   {
    "duration": 758,
    "start_time": "2021-09-18T12:12:37.086Z"
   },
   {
    "duration": 754,
    "start_time": "2021-09-18T12:12:37.092Z"
   },
   {
    "duration": 754,
    "start_time": "2021-09-18T12:12:37.094Z"
   },
   {
    "duration": 753,
    "start_time": "2021-09-18T12:12:37.096Z"
   },
   {
    "duration": 751,
    "start_time": "2021-09-18T12:12:37.099Z"
   },
   {
    "duration": 750,
    "start_time": "2021-09-18T12:12:37.102Z"
   },
   {
    "duration": 750,
    "start_time": "2021-09-18T12:12:37.104Z"
   },
   {
    "duration": 748,
    "start_time": "2021-09-18T12:12:37.107Z"
   },
   {
    "duration": 746,
    "start_time": "2021-09-18T12:12:37.110Z"
   },
   {
    "duration": 746,
    "start_time": "2021-09-18T12:12:37.111Z"
   },
   {
    "duration": 745,
    "start_time": "2021-09-18T12:12:37.114Z"
   },
   {
    "duration": 744,
    "start_time": "2021-09-18T12:12:37.116Z"
   },
   {
    "duration": 741,
    "start_time": "2021-09-18T12:12:37.120Z"
   },
   {
    "duration": 55,
    "start_time": "2021-09-18T12:15:22.244Z"
   },
   {
    "duration": 276,
    "start_time": "2021-09-18T12:15:49.332Z"
   },
   {
    "duration": 17,
    "start_time": "2021-09-18T12:15:49.611Z"
   },
   {
    "duration": 239,
    "start_time": "2021-09-18T12:15:49.632Z"
   },
   {
    "duration": 15,
    "start_time": "2021-09-18T12:15:49.874Z"
   },
   {
    "duration": 141,
    "start_time": "2021-09-18T12:15:49.892Z"
   },
   {
    "duration": 10,
    "start_time": "2021-09-18T12:15:50.036Z"
   },
   {
    "duration": 32,
    "start_time": "2021-09-18T12:15:50.048Z"
   },
   {
    "duration": 12,
    "start_time": "2021-09-18T12:15:50.082Z"
   },
   {
    "duration": 54,
    "start_time": "2021-09-18T12:15:50.099Z"
   },
   {
    "duration": 21,
    "start_time": "2021-09-18T12:15:50.157Z"
   },
   {
    "duration": 54,
    "start_time": "2021-09-18T12:15:50.180Z"
   },
   {
    "duration": 14,
    "start_time": "2021-09-18T12:15:50.237Z"
   },
   {
    "duration": 39,
    "start_time": "2021-09-18T12:15:50.254Z"
   },
   {
    "duration": 15,
    "start_time": "2021-09-18T12:15:50.296Z"
   },
   {
    "duration": 28,
    "start_time": "2021-09-18T12:15:50.313Z"
   },
   {
    "duration": 24,
    "start_time": "2021-09-18T12:15:50.343Z"
   },
   {
    "duration": 16,
    "start_time": "2021-09-18T12:15:50.370Z"
   },
   {
    "duration": 41,
    "start_time": "2021-09-18T12:15:50.389Z"
   },
   {
    "duration": 18,
    "start_time": "2021-09-18T12:15:50.433Z"
   },
   {
    "duration": 38,
    "start_time": "2021-09-18T12:15:50.453Z"
   },
   {
    "duration": 28,
    "start_time": "2021-09-18T12:15:50.493Z"
   },
   {
    "duration": 107,
    "start_time": "2021-09-18T12:15:50.525Z"
   },
   {
    "duration": 81,
    "start_time": "2021-09-18T12:15:50.635Z"
   },
   {
    "duration": 16,
    "start_time": "2021-09-18T12:15:50.719Z"
   },
   {
    "duration": 35,
    "start_time": "2021-09-18T12:15:50.737Z"
   },
   {
    "duration": 11,
    "start_time": "2021-09-18T12:15:50.775Z"
   },
   {
    "duration": 48,
    "start_time": "2021-09-18T12:15:50.793Z"
   },
   {
    "duration": 13,
    "start_time": "2021-09-18T12:15:50.845Z"
   },
   {
    "duration": 35,
    "start_time": "2021-09-18T12:15:50.860Z"
   },
   {
    "duration": 31,
    "start_time": "2021-09-18T12:15:50.898Z"
   },
   {
    "duration": 14,
    "start_time": "2021-09-18T12:15:50.931Z"
   },
   {
    "duration": 6,
    "start_time": "2021-09-18T12:15:50.948Z"
   },
   {
    "duration": 42,
    "start_time": "2021-09-18T12:15:50.956Z"
   },
   {
    "duration": 91,
    "start_time": "2021-09-18T12:15:51.001Z"
   },
   {
    "duration": 17,
    "start_time": "2021-09-18T12:15:51.094Z"
   },
   {
    "duration": 48,
    "start_time": "2021-09-18T12:15:51.116Z"
   },
   {
    "duration": 26,
    "start_time": "2021-09-18T12:15:51.166Z"
   },
   {
    "duration": 78,
    "start_time": "2021-09-18T12:15:51.195Z"
   },
   {
    "duration": 21,
    "start_time": "2021-09-18T12:15:51.276Z"
   },
   {
    "duration": 11,
    "start_time": "2021-09-18T12:15:51.300Z"
   },
   {
    "duration": 20,
    "start_time": "2021-09-18T12:15:51.313Z"
   },
   {
    "duration": 8,
    "start_time": "2021-09-18T12:15:51.335Z"
   },
   {
    "duration": 16,
    "start_time": "2021-09-18T12:15:51.345Z"
   },
   {
    "duration": 10,
    "start_time": "2021-09-18T12:15:51.364Z"
   },
   {
    "duration": 10,
    "start_time": "2021-09-18T12:15:51.377Z"
   },
   {
    "duration": 293,
    "start_time": "2021-09-18T12:15:51.389Z"
   },
   {
    "duration": 314,
    "start_time": "2021-09-18T12:15:51.685Z"
   },
   {
    "duration": 4,
    "start_time": "2021-09-18T12:15:52.002Z"
   },
   {
    "duration": 14,
    "start_time": "2021-09-18T12:15:52.009Z"
   },
   {
    "duration": 137,
    "start_time": "2021-09-18T12:15:52.025Z"
   },
   {
    "duration": 17,
    "start_time": "2021-09-18T12:15:52.164Z"
   },
   {
    "duration": 48,
    "start_time": "2021-09-18T12:15:52.183Z"
   },
   {
    "duration": 20,
    "start_time": "2021-09-18T12:15:52.233Z"
   },
   {
    "duration": 197,
    "start_time": "2021-09-18T12:15:52.255Z"
   },
   {
    "duration": 75,
    "start_time": "2021-09-18T12:15:52.454Z"
   },
   {
    "duration": 222,
    "start_time": "2021-09-18T12:15:52.532Z"
   },
   {
    "duration": 122,
    "start_time": "2021-09-18T12:15:52.757Z"
   },
   {
    "duration": 6,
    "start_time": "2021-09-18T12:15:52.881Z"
   },
   {
    "duration": 7,
    "start_time": "2021-09-18T12:15:52.917Z"
   },
   {
    "duration": 59,
    "start_time": "2021-09-18T12:15:52.926Z"
   },
   {
    "duration": 8,
    "start_time": "2021-09-18T12:15:52.987Z"
   },
   {
    "duration": 21,
    "start_time": "2021-09-18T12:15:52.997Z"
   },
   {
    "duration": 9,
    "start_time": "2021-09-18T12:15:53.021Z"
   },
   {
    "duration": 618,
    "start_time": "2021-09-18T12:15:53.033Z"
   },
   {
    "duration": 394,
    "start_time": "2021-09-18T12:15:53.654Z"
   },
   {
    "duration": 23,
    "start_time": "2021-09-18T12:15:54.050Z"
   },
   {
    "duration": 14,
    "start_time": "2021-09-18T12:15:54.075Z"
   },
   {
    "duration": 89,
    "start_time": "2021-09-18T12:15:54.092Z"
   },
   {
    "duration": 15,
    "start_time": "2021-09-18T12:15:54.184Z"
   },
   {
    "duration": 51,
    "start_time": "2021-09-18T12:15:54.217Z"
   },
   {
    "duration": 100,
    "start_time": "2021-09-18T12:15:54.271Z"
   },
   {
    "duration": 6,
    "start_time": "2021-09-18T12:15:54.373Z"
   },
   {
    "duration": 13,
    "start_time": "2021-09-18T12:15:54.381Z"
   },
   {
    "duration": 21,
    "start_time": "2021-09-18T12:15:54.396Z"
   },
   {
    "duration": 39,
    "start_time": "2021-09-18T12:15:54.420Z"
   },
   {
    "duration": 44,
    "start_time": "2021-09-18T12:15:54.461Z"
   },
   {
    "duration": 10,
    "start_time": "2021-09-18T12:15:54.508Z"
   },
   {
    "duration": 287,
    "start_time": "2021-09-18T12:15:54.520Z"
   },
   {
    "duration": 340,
    "start_time": "2021-09-18T12:15:54.810Z"
   },
   {
    "duration": 30,
    "start_time": "2021-09-18T12:15:55.153Z"
   },
   {
    "duration": 48,
    "start_time": "2021-09-18T12:15:55.192Z"
   },
   {
    "duration": 5,
    "start_time": "2021-09-18T12:15:55.243Z"
   },
   {
    "duration": 20,
    "start_time": "2021-09-18T12:15:55.250Z"
   },
   {
    "duration": 21,
    "start_time": "2021-09-18T12:15:55.272Z"
   },
   {
    "duration": 19,
    "start_time": "2021-09-18T12:15:55.295Z"
   },
   {
    "duration": 58,
    "start_time": "2021-09-18T12:15:55.316Z"
   },
   {
    "duration": 5,
    "start_time": "2021-09-18T12:15:55.377Z"
   },
   {
    "duration": 54,
    "start_time": "2021-09-18T12:15:55.384Z"
   },
   {
    "duration": 6,
    "start_time": "2021-09-18T12:15:55.441Z"
   },
   {
    "duration": 24,
    "start_time": "2021-09-18T12:15:55.449Z"
   },
   {
    "duration": 30,
    "start_time": "2021-09-18T12:15:55.475Z"
   },
   {
    "duration": 11,
    "start_time": "2021-09-18T12:15:55.507Z"
   },
   {
    "duration": 726,
    "start_time": "2021-09-18T12:15:55.520Z"
   },
   {
    "duration": 740,
    "start_time": "2021-09-18T12:15:56.249Z"
   },
   {
    "duration": 43,
    "start_time": "2021-09-18T12:15:56.992Z"
   },
   {
    "duration": 8,
    "start_time": "2021-09-18T12:15:57.038Z"
   },
   {
    "duration": 39,
    "start_time": "2021-09-18T12:15:57.049Z"
   },
   {
    "duration": 335,
    "start_time": "2021-09-18T12:17:19.079Z"
   },
   {
    "duration": 6,
    "start_time": "2021-09-18T12:17:45.240Z"
   },
   {
    "duration": 7,
    "start_time": "2021-09-18T12:18:13.923Z"
   },
   {
    "duration": 7,
    "start_time": "2021-09-18T12:18:44.710Z"
   },
   {
    "duration": 43,
    "start_time": "2021-09-18T12:25:59.689Z"
   },
   {
    "duration": 20,
    "start_time": "2021-09-18T12:28:13.086Z"
   },
   {
    "duration": 29,
    "start_time": "2021-09-18T12:28:28.512Z"
   },
   {
    "duration": 13,
    "start_time": "2021-09-18T12:29:09.305Z"
   },
   {
    "duration": 26,
    "start_time": "2021-09-18T12:29:09.900Z"
   },
   {
    "duration": 10040,
    "start_time": "2021-09-18T12:29:36.056Z"
   },
   {
    "duration": 290,
    "start_time": "2021-09-18T12:30:58.291Z"
   },
   {
    "duration": 11,
    "start_time": "2021-09-18T12:30:58.583Z"
   },
   {
    "duration": 190,
    "start_time": "2021-09-18T12:30:58.597Z"
   },
   {
    "duration": 11,
    "start_time": "2021-09-18T12:30:58.790Z"
   },
   {
    "duration": 134,
    "start_time": "2021-09-18T12:30:58.804Z"
   },
   {
    "duration": 9,
    "start_time": "2021-09-18T12:30:58.941Z"
   },
   {
    "duration": 32,
    "start_time": "2021-09-18T12:30:58.953Z"
   },
   {
    "duration": 18,
    "start_time": "2021-09-18T12:30:58.989Z"
   },
   {
    "duration": 47,
    "start_time": "2021-09-18T12:30:59.016Z"
   },
   {
    "duration": 25,
    "start_time": "2021-09-18T12:30:59.065Z"
   },
   {
    "duration": 35,
    "start_time": "2021-09-18T12:30:59.092Z"
   },
   {
    "duration": 14,
    "start_time": "2021-09-18T12:30:59.129Z"
   },
   {
    "duration": 45,
    "start_time": "2021-09-18T12:30:59.145Z"
   },
   {
    "duration": 14,
    "start_time": "2021-09-18T12:30:59.192Z"
   },
   {
    "duration": 37,
    "start_time": "2021-09-18T12:30:59.209Z"
   },
   {
    "duration": 23,
    "start_time": "2021-09-18T12:30:59.249Z"
   },
   {
    "duration": 15,
    "start_time": "2021-09-18T12:30:59.275Z"
   },
   {
    "duration": 57,
    "start_time": "2021-09-18T12:30:59.292Z"
   },
   {
    "duration": 13,
    "start_time": "2021-09-18T12:30:59.352Z"
   },
   {
    "duration": 64,
    "start_time": "2021-09-18T12:30:59.367Z"
   },
   {
    "duration": 14,
    "start_time": "2021-09-18T12:30:59.433Z"
   },
   {
    "duration": 46,
    "start_time": "2021-09-18T12:30:59.449Z"
   },
   {
    "duration": 33,
    "start_time": "2021-09-18T12:30:59.517Z"
   },
   {
    "duration": 15,
    "start_time": "2021-09-18T12:30:59.555Z"
   },
   {
    "duration": 57,
    "start_time": "2021-09-18T12:30:59.573Z"
   },
   {
    "duration": 12,
    "start_time": "2021-09-18T12:30:59.633Z"
   },
   {
    "duration": 27,
    "start_time": "2021-09-18T12:30:59.647Z"
   },
   {
    "duration": 41,
    "start_time": "2021-09-18T12:30:59.677Z"
   },
   {
    "duration": 26,
    "start_time": "2021-09-18T12:30:59.721Z"
   },
   {
    "duration": 20,
    "start_time": "2021-09-18T12:30:59.750Z"
   },
   {
    "duration": 44,
    "start_time": "2021-09-18T12:30:59.773Z"
   },
   {
    "duration": 4,
    "start_time": "2021-09-18T12:30:59.820Z"
   },
   {
    "duration": 35,
    "start_time": "2021-09-18T12:30:59.827Z"
   },
   {
    "duration": 112,
    "start_time": "2021-09-18T12:30:59.865Z"
   },
   {
    "duration": 16,
    "start_time": "2021-09-18T12:30:59.980Z"
   },
   {
    "duration": 46,
    "start_time": "2021-09-18T12:30:59.999Z"
   },
   {
    "duration": 27,
    "start_time": "2021-09-18T12:31:00.048Z"
   },
   {
    "duration": 108,
    "start_time": "2021-09-18T12:31:00.078Z"
   },
   {
    "duration": 30,
    "start_time": "2021-09-18T12:31:00.188Z"
   },
   {
    "duration": 17,
    "start_time": "2021-09-18T12:31:00.220Z"
   },
   {
    "duration": 20,
    "start_time": "2021-09-18T12:31:00.240Z"
   },
   {
    "duration": 9,
    "start_time": "2021-09-18T12:31:00.262Z"
   },
   {
    "duration": 16,
    "start_time": "2021-09-18T12:31:00.274Z"
   },
   {
    "duration": 10,
    "start_time": "2021-09-18T12:31:00.292Z"
   },
   {
    "duration": 6,
    "start_time": "2021-09-18T12:31:00.317Z"
   },
   {
    "duration": 297,
    "start_time": "2021-09-18T12:31:00.326Z"
   },
   {
    "duration": 319,
    "start_time": "2021-09-18T12:31:00.626Z"
   },
   {
    "duration": 4,
    "start_time": "2021-09-18T12:31:00.947Z"
   },
   {
    "duration": 18,
    "start_time": "2021-09-18T12:31:00.954Z"
   },
   {
    "duration": 140,
    "start_time": "2021-09-18T12:31:00.974Z"
   },
   {
    "duration": 16,
    "start_time": "2021-09-18T12:31:01.116Z"
   },
   {
    "duration": 40,
    "start_time": "2021-09-18T12:31:01.140Z"
   },
   {
    "duration": 46,
    "start_time": "2021-09-18T12:31:01.183Z"
   },
   {
    "duration": 99,
    "start_time": "2021-09-18T12:31:01.232Z"
   },
   {
    "duration": 18,
    "start_time": "2021-09-18T12:31:01.333Z"
   },
   {
    "duration": 90,
    "start_time": "2021-09-18T12:31:01.353Z"
   },
   {
    "duration": 135,
    "start_time": "2021-09-18T12:31:01.445Z"
   },
   {
    "duration": 6,
    "start_time": "2021-09-18T12:31:01.582Z"
   },
   {
    "duration": 27,
    "start_time": "2021-09-18T12:31:01.590Z"
   },
   {
    "duration": 15,
    "start_time": "2021-09-18T12:31:01.619Z"
   },
   {
    "duration": 28,
    "start_time": "2021-09-18T12:31:01.636Z"
   },
   {
    "duration": 15,
    "start_time": "2021-09-18T12:31:01.667Z"
   },
   {
    "duration": 14,
    "start_time": "2021-09-18T12:31:01.684Z"
   },
   {
    "duration": 307,
    "start_time": "2021-09-18T12:31:01.701Z"
   },
   {
    "duration": 416,
    "start_time": "2021-09-18T12:31:02.015Z"
   },
   {
    "duration": 24,
    "start_time": "2021-09-18T12:31:02.433Z"
   },
   {
    "duration": 14,
    "start_time": "2021-09-18T12:31:02.459Z"
   },
   {
    "duration": 87,
    "start_time": "2021-09-18T12:31:02.482Z"
   },
   {
    "duration": 15,
    "start_time": "2021-09-18T12:31:02.572Z"
   },
   {
    "duration": 82,
    "start_time": "2021-09-18T12:31:02.590Z"
   },
   {
    "duration": 77,
    "start_time": "2021-09-18T12:31:02.675Z"
   },
   {
    "duration": 6,
    "start_time": "2021-09-18T12:31:02.754Z"
   },
   {
    "duration": 74,
    "start_time": "2021-09-18T12:31:02.762Z"
   },
   {
    "duration": 13,
    "start_time": "2021-09-18T12:31:02.838Z"
   },
   {
    "duration": 20,
    "start_time": "2021-09-18T12:31:02.854Z"
   },
   {
    "duration": 14,
    "start_time": "2021-09-18T12:31:02.876Z"
   },
   {
    "duration": 17,
    "start_time": "2021-09-18T12:31:02.892Z"
   },
   {
    "duration": 315,
    "start_time": "2021-09-18T12:31:02.912Z"
   },
   {
    "duration": 309,
    "start_time": "2021-09-18T12:31:03.229Z"
   },
   {
    "duration": 32,
    "start_time": "2021-09-18T12:31:03.540Z"
   },
   {
    "duration": 55,
    "start_time": "2021-09-18T12:31:03.574Z"
   },
   {
    "duration": 5,
    "start_time": "2021-09-18T12:31:03.631Z"
   },
   {
    "duration": 14,
    "start_time": "2021-09-18T12:31:03.638Z"
   },
   {
    "duration": 12,
    "start_time": "2021-09-18T12:31:03.654Z"
   },
   {
    "duration": 7,
    "start_time": "2021-09-18T12:31:03.668Z"
   },
   {
    "duration": 44,
    "start_time": "2021-09-18T12:31:03.678Z"
   },
   {
    "duration": 30,
    "start_time": "2021-09-18T12:31:03.724Z"
   },
   {
    "duration": 63,
    "start_time": "2021-09-18T12:31:03.757Z"
   },
   {
    "duration": 6,
    "start_time": "2021-09-18T12:31:03.822Z"
   },
   {
    "duration": 46,
    "start_time": "2021-09-18T12:31:03.830Z"
   },
   {
    "duration": 10,
    "start_time": "2021-09-18T12:31:03.878Z"
   },
   {
    "duration": 25,
    "start_time": "2021-09-18T12:31:03.891Z"
   },
   {
    "duration": 10,
    "start_time": "2021-09-18T12:31:03.919Z"
   },
   {
    "duration": 8,
    "start_time": "2021-09-18T12:31:03.931Z"
   },
   {
    "duration": 760,
    "start_time": "2021-09-18T12:31:03.941Z"
   },
   {
    "duration": 740,
    "start_time": "2021-09-18T12:31:04.704Z"
   },
   {
    "duration": 7,
    "start_time": "2021-09-18T12:31:05.446Z"
   },
   {
    "duration": 36,
    "start_time": "2021-09-18T12:31:05.455Z"
   },
   {
    "duration": 26,
    "start_time": "2021-09-18T12:31:05.493Z"
   },
   {
    "duration": 46,
    "start_time": "2021-09-18T12:31:05.522Z"
   },
   {
    "duration": 301,
    "start_time": "2021-09-18T12:32:10.363Z"
   },
   {
    "duration": 436,
    "start_time": "2021-09-18T12:32:15.890Z"
   },
   {
    "duration": 14,
    "start_time": "2021-09-18T12:33:33.173Z"
   },
   {
    "duration": 38,
    "start_time": "2021-09-18T12:33:39.226Z"
   },
   {
    "duration": 318,
    "start_time": "2021-09-18T12:37:13.718Z"
   },
   {
    "duration": 2089,
    "start_time": "2021-09-18T12:37:26.942Z"
   },
   {
    "duration": 25,
    "start_time": "2021-09-18T12:37:37.277Z"
   },
   {
    "duration": 309,
    "start_time": "2021-09-18T12:38:46.973Z"
   },
   {
    "duration": 11,
    "start_time": "2021-09-18T12:38:47.285Z"
   },
   {
    "duration": 203,
    "start_time": "2021-09-18T12:38:47.300Z"
   },
   {
    "duration": 17,
    "start_time": "2021-09-18T12:38:47.506Z"
   },
   {
    "duration": 128,
    "start_time": "2021-09-18T12:38:47.525Z"
   },
   {
    "duration": 10,
    "start_time": "2021-09-18T12:38:47.655Z"
   },
   {
    "duration": 29,
    "start_time": "2021-09-18T12:38:47.668Z"
   },
   {
    "duration": 27,
    "start_time": "2021-09-18T12:38:47.701Z"
   },
   {
    "duration": 64,
    "start_time": "2021-09-18T12:38:47.731Z"
   },
   {
    "duration": 20,
    "start_time": "2021-09-18T12:38:47.798Z"
   },
   {
    "duration": 38,
    "start_time": "2021-09-18T12:38:47.821Z"
   },
   {
    "duration": 14,
    "start_time": "2021-09-18T12:38:47.862Z"
   },
   {
    "duration": 43,
    "start_time": "2021-09-18T12:38:47.879Z"
   },
   {
    "duration": 15,
    "start_time": "2021-09-18T12:38:47.924Z"
   },
   {
    "duration": 40,
    "start_time": "2021-09-18T12:38:47.941Z"
   },
   {
    "duration": 40,
    "start_time": "2021-09-18T12:38:47.983Z"
   },
   {
    "duration": 16,
    "start_time": "2021-09-18T12:38:48.025Z"
   },
   {
    "duration": 39,
    "start_time": "2021-09-18T12:38:48.044Z"
   },
   {
    "duration": 39,
    "start_time": "2021-09-18T12:38:48.086Z"
   },
   {
    "duration": 44,
    "start_time": "2021-09-18T12:38:48.127Z"
   },
   {
    "duration": 15,
    "start_time": "2021-09-18T12:38:48.173Z"
   },
   {
    "duration": 64,
    "start_time": "2021-09-18T12:38:48.190Z"
   },
   {
    "duration": 30,
    "start_time": "2021-09-18T12:38:48.260Z"
   },
   {
    "duration": 36,
    "start_time": "2021-09-18T12:38:48.294Z"
   },
   {
    "duration": 29,
    "start_time": "2021-09-18T12:38:48.333Z"
   },
   {
    "duration": 12,
    "start_time": "2021-09-18T12:38:48.364Z"
   },
   {
    "duration": 50,
    "start_time": "2021-09-18T12:38:48.378Z"
   },
   {
    "duration": 14,
    "start_time": "2021-09-18T12:38:48.431Z"
   },
   {
    "duration": 28,
    "start_time": "2021-09-18T12:38:48.447Z"
   },
   {
    "duration": 50,
    "start_time": "2021-09-18T12:38:48.477Z"
   },
   {
    "duration": 14,
    "start_time": "2021-09-18T12:38:48.529Z"
   },
   {
    "duration": 4,
    "start_time": "2021-09-18T12:38:48.546Z"
   },
   {
    "duration": 32,
    "start_time": "2021-09-18T12:38:48.552Z"
   },
   {
    "duration": 130,
    "start_time": "2021-09-18T12:38:48.586Z"
   },
   {
    "duration": 20,
    "start_time": "2021-09-18T12:38:48.719Z"
   },
   {
    "duration": 59,
    "start_time": "2021-09-18T12:38:48.742Z"
   },
   {
    "duration": 30,
    "start_time": "2021-09-18T12:38:48.803Z"
   },
   {
    "duration": 100,
    "start_time": "2021-09-18T12:38:48.836Z"
   },
   {
    "duration": 20,
    "start_time": "2021-09-18T12:38:48.938Z"
   },
   {
    "duration": 10,
    "start_time": "2021-09-18T12:38:48.961Z"
   },
   {
    "duration": 13,
    "start_time": "2021-09-18T12:38:48.973Z"
   },
   {
    "duration": 30,
    "start_time": "2021-09-18T12:38:48.988Z"
   },
   {
    "duration": 6,
    "start_time": "2021-09-18T12:38:49.020Z"
   },
   {
    "duration": 6,
    "start_time": "2021-09-18T12:38:49.028Z"
   },
   {
    "duration": 8,
    "start_time": "2021-09-18T12:38:49.037Z"
   },
   {
    "duration": 305,
    "start_time": "2021-09-18T12:38:49.047Z"
   },
   {
    "duration": 312,
    "start_time": "2021-09-18T12:38:49.355Z"
   },
   {
    "duration": 4,
    "start_time": "2021-09-18T12:38:49.670Z"
   },
   {
    "duration": 8,
    "start_time": "2021-09-18T12:38:49.676Z"
   },
   {
    "duration": 144,
    "start_time": "2021-09-18T12:38:49.686Z"
   },
   {
    "duration": 14,
    "start_time": "2021-09-18T12:38:49.832Z"
   },
   {
    "duration": 40,
    "start_time": "2021-09-18T12:38:49.849Z"
   },
   {
    "duration": 41,
    "start_time": "2021-09-18T12:38:49.892Z"
   },
   {
    "duration": 110,
    "start_time": "2021-09-18T12:38:49.935Z"
   },
   {
    "duration": 18,
    "start_time": "2021-09-18T12:38:50.048Z"
   },
   {
    "duration": 120,
    "start_time": "2021-09-18T12:38:50.068Z"
   },
   {
    "duration": 107,
    "start_time": "2021-09-18T12:38:50.190Z"
   },
   {
    "duration": 18,
    "start_time": "2021-09-18T12:38:50.299Z"
   },
   {
    "duration": 25,
    "start_time": "2021-09-18T12:38:50.319Z"
   },
   {
    "duration": 14,
    "start_time": "2021-09-18T12:38:50.346Z"
   },
   {
    "duration": 8,
    "start_time": "2021-09-18T12:38:50.362Z"
   },
   {
    "duration": 7,
    "start_time": "2021-09-18T12:38:50.372Z"
   },
   {
    "duration": 30,
    "start_time": "2021-09-18T12:38:50.382Z"
   },
   {
    "duration": 460,
    "start_time": "2021-09-18T12:38:50.415Z"
   },
   {
    "duration": 322,
    "start_time": "2021-09-18T12:38:50.878Z"
   },
   {
    "duration": 33,
    "start_time": "2021-09-18T12:38:51.202Z"
   },
   {
    "duration": 15,
    "start_time": "2021-09-18T12:38:51.238Z"
   },
   {
    "duration": 84,
    "start_time": "2021-09-18T12:38:51.261Z"
   },
   {
    "duration": 15,
    "start_time": "2021-09-18T12:38:51.348Z"
   },
   {
    "duration": 72,
    "start_time": "2021-09-18T12:38:51.365Z"
   },
   {
    "duration": 186,
    "start_time": "2021-09-18T12:38:51.440Z"
   },
   {
    "duration": 6,
    "start_time": "2021-09-18T12:38:51.628Z"
   },
   {
    "duration": 8,
    "start_time": "2021-09-18T12:38:51.636Z"
   },
   {
    "duration": 10,
    "start_time": "2021-09-18T12:38:51.646Z"
   },
   {
    "duration": 14,
    "start_time": "2021-09-18T12:38:51.659Z"
   },
   {
    "duration": 43,
    "start_time": "2021-09-18T12:38:51.675Z"
   },
   {
    "duration": 11,
    "start_time": "2021-09-18T12:38:51.721Z"
   },
   {
    "duration": 299,
    "start_time": "2021-09-18T12:38:51.734Z"
   },
   {
    "duration": 299,
    "start_time": "2021-09-18T12:38:52.036Z"
   },
   {
    "duration": 32,
    "start_time": "2021-09-18T12:38:52.338Z"
   },
   {
    "duration": 58,
    "start_time": "2021-09-18T12:38:52.372Z"
   },
   {
    "duration": 5,
    "start_time": "2021-09-18T12:38:52.432Z"
   },
   {
    "duration": 7,
    "start_time": "2021-09-18T12:38:52.440Z"
   },
   {
    "duration": 8,
    "start_time": "2021-09-18T12:38:52.450Z"
   },
   {
    "duration": 8,
    "start_time": "2021-09-18T12:38:52.461Z"
   },
   {
    "duration": 62,
    "start_time": "2021-09-18T12:38:52.472Z"
   },
   {
    "duration": 32,
    "start_time": "2021-09-18T12:38:52.537Z"
   },
   {
    "duration": 64,
    "start_time": "2021-09-18T12:38:52.572Z"
   },
   {
    "duration": 6,
    "start_time": "2021-09-18T12:38:52.639Z"
   },
   {
    "duration": 44,
    "start_time": "2021-09-18T12:38:52.647Z"
   },
   {
    "duration": 7,
    "start_time": "2021-09-18T12:38:52.716Z"
   },
   {
    "duration": 22,
    "start_time": "2021-09-18T12:38:52.725Z"
   },
   {
    "duration": 20,
    "start_time": "2021-09-18T12:38:52.750Z"
   },
   {
    "duration": 19,
    "start_time": "2021-09-18T12:38:52.773Z"
   },
   {
    "duration": 760,
    "start_time": "2021-09-18T12:38:52.794Z"
   },
   {
    "duration": 736,
    "start_time": "2021-09-18T12:38:53.557Z"
   },
   {
    "duration": 20,
    "start_time": "2021-09-18T12:38:54.296Z"
   },
   {
    "duration": 6,
    "start_time": "2021-09-18T12:38:54.318Z"
   },
   {
    "duration": 58,
    "start_time": "2021-09-18T12:38:54.326Z"
   },
   {
    "duration": 31,
    "start_time": "2021-09-18T12:38:54.386Z"
   },
   {
    "duration": 49,
    "start_time": "2021-09-18T12:38:54.420Z"
   },
   {
    "duration": 46,
    "start_time": "2021-09-18T12:38:59.648Z"
   },
   {
    "duration": 30,
    "start_time": "2021-09-18T12:39:36.328Z"
   },
   {
    "duration": 38,
    "start_time": "2021-09-18T12:39:52.789Z"
   },
   {
    "duration": 40,
    "start_time": "2021-09-18T12:40:35.143Z"
   },
   {
    "duration": 277,
    "start_time": "2021-09-18T12:45:22.642Z"
   },
   {
    "duration": 11,
    "start_time": "2021-09-18T12:45:22.922Z"
   },
   {
    "duration": 196,
    "start_time": "2021-09-18T12:45:22.936Z"
   },
   {
    "duration": 12,
    "start_time": "2021-09-18T12:45:23.135Z"
   },
   {
    "duration": 136,
    "start_time": "2021-09-18T12:45:23.149Z"
   },
   {
    "duration": 10,
    "start_time": "2021-09-18T12:45:23.288Z"
   },
   {
    "duration": 26,
    "start_time": "2021-09-18T12:45:23.300Z"
   },
   {
    "duration": 15,
    "start_time": "2021-09-18T12:45:23.330Z"
   },
   {
    "duration": 54,
    "start_time": "2021-09-18T12:45:23.347Z"
   },
   {
    "duration": 14,
    "start_time": "2021-09-18T12:45:23.404Z"
   },
   {
    "duration": 30,
    "start_time": "2021-09-18T12:45:23.420Z"
   },
   {
    "duration": 14,
    "start_time": "2021-09-18T12:45:23.453Z"
   },
   {
    "duration": 54,
    "start_time": "2021-09-18T12:45:23.470Z"
   },
   {
    "duration": 15,
    "start_time": "2021-09-18T12:45:23.526Z"
   },
   {
    "duration": 32,
    "start_time": "2021-09-18T12:45:23.543Z"
   },
   {
    "duration": 48,
    "start_time": "2021-09-18T12:45:23.577Z"
   },
   {
    "duration": 19,
    "start_time": "2021-09-18T12:45:23.627Z"
   },
   {
    "duration": 37,
    "start_time": "2021-09-18T12:45:23.649Z"
   },
   {
    "duration": 37,
    "start_time": "2021-09-18T12:45:23.689Z"
   },
   {
    "duration": 36,
    "start_time": "2021-09-18T12:45:23.729Z"
   },
   {
    "duration": 14,
    "start_time": "2021-09-18T12:45:23.768Z"
   },
   {
    "duration": 67,
    "start_time": "2021-09-18T12:45:23.784Z"
   },
   {
    "duration": 30,
    "start_time": "2021-09-18T12:45:23.857Z"
   },
   {
    "duration": 33,
    "start_time": "2021-09-18T12:45:23.891Z"
   },
   {
    "duration": 28,
    "start_time": "2021-09-18T12:45:23.928Z"
   },
   {
    "duration": 13,
    "start_time": "2021-09-18T12:45:23.959Z"
   },
   {
    "duration": 61,
    "start_time": "2021-09-18T12:45:23.975Z"
   },
   {
    "duration": 15,
    "start_time": "2021-09-18T12:45:24.038Z"
   },
   {
    "duration": 63,
    "start_time": "2021-09-18T12:45:24.056Z"
   },
   {
    "duration": 23,
    "start_time": "2021-09-18T12:45:24.122Z"
   },
   {
    "duration": 16,
    "start_time": "2021-09-18T12:45:24.147Z"
   },
   {
    "duration": 6,
    "start_time": "2021-09-18T12:45:24.166Z"
   },
   {
    "duration": 67,
    "start_time": "2021-09-18T12:45:24.174Z"
   },
   {
    "duration": 103,
    "start_time": "2021-09-18T12:45:24.244Z"
   },
   {
    "duration": 20,
    "start_time": "2021-09-18T12:45:24.349Z"
   },
   {
    "duration": 60,
    "start_time": "2021-09-18T12:45:24.373Z"
   },
   {
    "duration": 32,
    "start_time": "2021-09-18T12:45:24.436Z"
   },
   {
    "duration": 107,
    "start_time": "2021-09-18T12:45:24.470Z"
   },
   {
    "duration": 22,
    "start_time": "2021-09-18T12:45:24.579Z"
   },
   {
    "duration": 6,
    "start_time": "2021-09-18T12:45:24.616Z"
   },
   {
    "duration": 8,
    "start_time": "2021-09-18T12:45:24.626Z"
   },
   {
    "duration": 8,
    "start_time": "2021-09-18T12:45:24.637Z"
   },
   {
    "duration": 13,
    "start_time": "2021-09-18T12:45:24.648Z"
   },
   {
    "duration": 10,
    "start_time": "2021-09-18T12:45:24.664Z"
   },
   {
    "duration": 7,
    "start_time": "2021-09-18T12:45:24.717Z"
   },
   {
    "duration": 298,
    "start_time": "2021-09-18T12:45:24.726Z"
   },
   {
    "duration": 316,
    "start_time": "2021-09-18T12:45:25.027Z"
   },
   {
    "duration": 4,
    "start_time": "2021-09-18T12:45:25.345Z"
   },
   {
    "duration": 7,
    "start_time": "2021-09-18T12:45:25.351Z"
   },
   {
    "duration": 144,
    "start_time": "2021-09-18T12:45:25.361Z"
   },
   {
    "duration": 16,
    "start_time": "2021-09-18T12:45:25.507Z"
   },
   {
    "duration": 40,
    "start_time": "2021-09-18T12:45:25.525Z"
   },
   {
    "duration": 22,
    "start_time": "2021-09-18T12:45:25.567Z"
   },
   {
    "duration": 111,
    "start_time": "2021-09-18T12:45:25.591Z"
   },
   {
    "duration": 17,
    "start_time": "2021-09-18T12:45:25.717Z"
   },
   {
    "duration": 88,
    "start_time": "2021-09-18T12:45:25.736Z"
   },
   {
    "duration": 127,
    "start_time": "2021-09-18T12:45:25.826Z"
   },
   {
    "duration": 6,
    "start_time": "2021-09-18T12:45:25.955Z"
   },
   {
    "duration": 9,
    "start_time": "2021-09-18T12:45:25.963Z"
   },
   {
    "duration": 15,
    "start_time": "2021-09-18T12:45:25.975Z"
   },
   {
    "duration": 24,
    "start_time": "2021-09-18T12:45:25.993Z"
   },
   {
    "duration": 15,
    "start_time": "2021-09-18T12:45:26.020Z"
   },
   {
    "duration": 20,
    "start_time": "2021-09-18T12:45:26.037Z"
   },
   {
    "duration": 315,
    "start_time": "2021-09-18T12:45:26.060Z"
   },
   {
    "duration": 313,
    "start_time": "2021-09-18T12:45:26.378Z"
   },
   {
    "duration": 39,
    "start_time": "2021-09-18T12:45:26.694Z"
   },
   {
    "duration": 16,
    "start_time": "2021-09-18T12:45:26.736Z"
   },
   {
    "duration": 85,
    "start_time": "2021-09-18T12:45:26.763Z"
   },
   {
    "duration": 15,
    "start_time": "2021-09-18T12:45:26.852Z"
   },
   {
    "duration": 78,
    "start_time": "2021-09-18T12:45:26.870Z"
   },
   {
    "duration": 80,
    "start_time": "2021-09-18T12:45:26.950Z"
   },
   {
    "duration": 5,
    "start_time": "2021-09-18T12:45:27.032Z"
   },
   {
    "duration": 11,
    "start_time": "2021-09-18T12:45:27.040Z"
   },
   {
    "duration": 12,
    "start_time": "2021-09-18T12:45:27.053Z"
   },
   {
    "duration": 8,
    "start_time": "2021-09-18T12:45:27.068Z"
   },
   {
    "duration": 38,
    "start_time": "2021-09-18T12:45:27.078Z"
   },
   {
    "duration": 6,
    "start_time": "2021-09-18T12:45:27.118Z"
   },
   {
    "duration": 301,
    "start_time": "2021-09-18T12:45:27.126Z"
   },
   {
    "duration": 315,
    "start_time": "2021-09-18T12:45:27.430Z"
   },
   {
    "duration": 32,
    "start_time": "2021-09-18T12:45:27.747Z"
   },
   {
    "duration": 54,
    "start_time": "2021-09-18T12:45:27.782Z"
   },
   {
    "duration": 5,
    "start_time": "2021-09-18T12:45:27.839Z"
   },
   {
    "duration": 6,
    "start_time": "2021-09-18T12:45:27.846Z"
   },
   {
    "duration": 6,
    "start_time": "2021-09-18T12:45:27.854Z"
   },
   {
    "duration": 6,
    "start_time": "2021-09-18T12:45:27.863Z"
   },
   {
    "duration": 58,
    "start_time": "2021-09-18T12:45:27.872Z"
   },
   {
    "duration": 44,
    "start_time": "2021-09-18T12:45:27.932Z"
   },
   {
    "duration": 46,
    "start_time": "2021-09-18T12:45:27.978Z"
   },
   {
    "duration": 5,
    "start_time": "2021-09-18T12:45:28.026Z"
   },
   {
    "duration": 41,
    "start_time": "2021-09-18T12:45:28.033Z"
   },
   {
    "duration": 4,
    "start_time": "2021-09-18T12:45:28.077Z"
   },
   {
    "duration": 35,
    "start_time": "2021-09-18T12:45:28.083Z"
   },
   {
    "duration": 34,
    "start_time": "2021-09-18T12:45:28.121Z"
   },
   {
    "duration": 345,
    "start_time": "2021-09-18T12:45:28.157Z"
   },
   {
    "duration": 875,
    "start_time": "2021-09-18T12:45:27.629Z"
   },
   {
    "duration": 874,
    "start_time": "2021-09-18T12:45:27.632Z"
   },
   {
    "duration": 873,
    "start_time": "2021-09-18T12:45:27.634Z"
   },
   {
    "duration": 801,
    "start_time": "2021-09-18T12:45:27.708Z"
   },
   {
    "duration": 797,
    "start_time": "2021-09-18T12:45:27.713Z"
   },
   {
    "duration": 796,
    "start_time": "2021-09-18T12:45:27.716Z"
   },
   {
    "duration": 795,
    "start_time": "2021-09-18T12:45:27.718Z"
   },
   {
    "duration": 791,
    "start_time": "2021-09-18T12:45:27.723Z"
   },
   {
    "duration": 34,
    "start_time": "2021-09-18T12:46:07.063Z"
   },
   {
    "duration": 274,
    "start_time": "2021-09-18T12:46:48.358Z"
   },
   {
    "duration": 11,
    "start_time": "2021-09-18T12:46:48.634Z"
   },
   {
    "duration": 198,
    "start_time": "2021-09-18T12:46:48.648Z"
   },
   {
    "duration": 14,
    "start_time": "2021-09-18T12:46:48.848Z"
   },
   {
    "duration": 129,
    "start_time": "2021-09-18T12:46:48.864Z"
   },
   {
    "duration": 10,
    "start_time": "2021-09-18T12:46:48.995Z"
   },
   {
    "duration": 23,
    "start_time": "2021-09-18T12:46:49.017Z"
   },
   {
    "duration": 14,
    "start_time": "2021-09-18T12:46:49.044Z"
   },
   {
    "duration": 38,
    "start_time": "2021-09-18T12:46:49.061Z"
   },
   {
    "duration": 17,
    "start_time": "2021-09-18T12:46:49.101Z"
   },
   {
    "duration": 32,
    "start_time": "2021-09-18T12:46:49.120Z"
   },
   {
    "duration": 14,
    "start_time": "2021-09-18T12:46:49.154Z"
   },
   {
    "duration": 54,
    "start_time": "2021-09-18T12:46:49.170Z"
   },
   {
    "duration": 14,
    "start_time": "2021-09-18T12:46:49.227Z"
   },
   {
    "duration": 30,
    "start_time": "2021-09-18T12:46:49.244Z"
   },
   {
    "duration": 48,
    "start_time": "2021-09-18T12:46:49.276Z"
   },
   {
    "duration": 16,
    "start_time": "2021-09-18T12:46:49.326Z"
   },
   {
    "duration": 41,
    "start_time": "2021-09-18T12:46:49.344Z"
   },
   {
    "duration": 29,
    "start_time": "2021-09-18T12:46:49.387Z"
   },
   {
    "duration": 35,
    "start_time": "2021-09-18T12:46:49.418Z"
   },
   {
    "duration": 15,
    "start_time": "2021-09-18T12:46:49.455Z"
   },
   {
    "duration": 73,
    "start_time": "2021-09-18T12:46:49.472Z"
   },
   {
    "duration": 31,
    "start_time": "2021-09-18T12:46:49.551Z"
   },
   {
    "duration": 32,
    "start_time": "2021-09-18T12:46:49.586Z"
   },
   {
    "duration": 23,
    "start_time": "2021-09-18T12:46:49.621Z"
   },
   {
    "duration": 12,
    "start_time": "2021-09-18T12:46:49.647Z"
   },
   {
    "duration": 57,
    "start_time": "2021-09-18T12:46:49.661Z"
   },
   {
    "duration": 12,
    "start_time": "2021-09-18T12:46:49.721Z"
   },
   {
    "duration": 34,
    "start_time": "2021-09-18T12:46:49.736Z"
   },
   {
    "duration": 22,
    "start_time": "2021-09-18T12:46:49.773Z"
   },
   {
    "duration": 14,
    "start_time": "2021-09-18T12:46:49.817Z"
   },
   {
    "duration": 24,
    "start_time": "2021-09-18T12:46:49.834Z"
   },
   {
    "duration": 42,
    "start_time": "2021-09-18T12:46:49.861Z"
   },
   {
    "duration": 88,
    "start_time": "2021-09-18T12:46:49.905Z"
   },
   {
    "duration": 23,
    "start_time": "2021-09-18T12:46:49.995Z"
   },
   {
    "duration": 61,
    "start_time": "2021-09-18T12:46:50.020Z"
   },
   {
    "duration": 46,
    "start_time": "2021-09-18T12:46:50.083Z"
   },
   {
    "duration": 92,
    "start_time": "2021-09-18T12:46:50.132Z"
   },
   {
    "duration": 21,
    "start_time": "2021-09-18T12:46:50.227Z"
   },
   {
    "duration": 29,
    "start_time": "2021-09-18T12:46:50.251Z"
   },
   {
    "duration": 14,
    "start_time": "2021-09-18T12:46:50.283Z"
   },
   {
    "duration": 22,
    "start_time": "2021-09-18T12:46:50.300Z"
   },
   {
    "duration": 23,
    "start_time": "2021-09-18T12:46:50.325Z"
   },
   {
    "duration": 13,
    "start_time": "2021-09-18T12:46:50.350Z"
   },
   {
    "duration": 8,
    "start_time": "2021-09-18T12:46:50.366Z"
   },
   {
    "duration": 288,
    "start_time": "2021-09-18T12:46:50.376Z"
   },
   {
    "duration": 452,
    "start_time": "2021-09-18T12:46:50.667Z"
   },
   {
    "duration": 4,
    "start_time": "2021-09-18T12:46:51.121Z"
   },
   {
    "duration": 6,
    "start_time": "2021-09-18T12:46:51.127Z"
   },
   {
    "duration": 148,
    "start_time": "2021-09-18T12:46:51.135Z"
   },
   {
    "duration": 16,
    "start_time": "2021-09-18T12:46:51.285Z"
   },
   {
    "duration": 49,
    "start_time": "2021-09-18T12:46:51.303Z"
   },
   {
    "duration": 25,
    "start_time": "2021-09-18T12:46:51.355Z"
   },
   {
    "duration": 119,
    "start_time": "2021-09-18T12:46:51.382Z"
   },
   {
    "duration": 22,
    "start_time": "2021-09-18T12:46:51.504Z"
   },
   {
    "duration": 64,
    "start_time": "2021-09-18T12:46:51.529Z"
   },
   {
    "duration": 138,
    "start_time": "2021-09-18T12:46:51.596Z"
   },
   {
    "duration": 5,
    "start_time": "2021-09-18T12:46:51.737Z"
   },
   {
    "duration": 10,
    "start_time": "2021-09-18T12:46:51.744Z"
   },
   {
    "duration": 7,
    "start_time": "2021-09-18T12:46:51.756Z"
   },
   {
    "duration": 6,
    "start_time": "2021-09-18T12:46:51.765Z"
   },
   {
    "duration": 43,
    "start_time": "2021-09-18T12:46:51.774Z"
   },
   {
    "duration": 8,
    "start_time": "2021-09-18T12:46:51.820Z"
   },
   {
    "duration": 321,
    "start_time": "2021-09-18T12:46:51.830Z"
   },
   {
    "duration": 322,
    "start_time": "2021-09-18T12:46:52.154Z"
   },
   {
    "duration": 40,
    "start_time": "2021-09-18T12:46:52.478Z"
   },
   {
    "duration": 15,
    "start_time": "2021-09-18T12:46:52.521Z"
   },
   {
    "duration": 86,
    "start_time": "2021-09-18T12:46:52.547Z"
   },
   {
    "duration": 16,
    "start_time": "2021-09-18T12:46:52.637Z"
   },
   {
    "duration": 78,
    "start_time": "2021-09-18T12:46:52.656Z"
   },
   {
    "duration": 91,
    "start_time": "2021-09-18T12:46:52.737Z"
   },
   {
    "duration": 7,
    "start_time": "2021-09-18T12:46:52.830Z"
   },
   {
    "duration": 7,
    "start_time": "2021-09-18T12:46:52.840Z"
   },
   {
    "duration": 6,
    "start_time": "2021-09-18T12:46:52.850Z"
   },
   {
    "duration": 11,
    "start_time": "2021-09-18T12:46:52.859Z"
   },
   {
    "duration": 46,
    "start_time": "2021-09-18T12:46:52.872Z"
   },
   {
    "duration": 7,
    "start_time": "2021-09-18T12:46:52.921Z"
   },
   {
    "duration": 301,
    "start_time": "2021-09-18T12:46:52.930Z"
   },
   {
    "duration": 326,
    "start_time": "2021-09-18T12:46:53.233Z"
   },
   {
    "duration": 31,
    "start_time": "2021-09-18T12:46:53.562Z"
   },
   {
    "duration": 46,
    "start_time": "2021-09-18T12:46:53.596Z"
   },
   {
    "duration": 6,
    "start_time": "2021-09-18T12:46:53.644Z"
   },
   {
    "duration": 6,
    "start_time": "2021-09-18T12:46:53.652Z"
   },
   {
    "duration": 9,
    "start_time": "2021-09-18T12:46:53.660Z"
   },
   {
    "duration": 44,
    "start_time": "2021-09-18T12:46:53.672Z"
   },
   {
    "duration": 24,
    "start_time": "2021-09-18T12:46:53.719Z"
   },
   {
    "duration": 32,
    "start_time": "2021-09-18T12:46:53.746Z"
   },
   {
    "duration": 61,
    "start_time": "2021-09-18T12:46:53.781Z"
   },
   {
    "duration": 5,
    "start_time": "2021-09-18T12:46:53.845Z"
   },
   {
    "duration": 66,
    "start_time": "2021-09-18T12:46:53.852Z"
   },
   {
    "duration": 5,
    "start_time": "2021-09-18T12:46:53.920Z"
   },
   {
    "duration": 8,
    "start_time": "2021-09-18T12:46:53.928Z"
   },
   {
    "duration": 7,
    "start_time": "2021-09-18T12:46:53.939Z"
   },
   {
    "duration": 10,
    "start_time": "2021-09-18T12:46:53.948Z"
   },
   {
    "duration": 7,
    "start_time": "2021-09-18T12:46:53.960Z"
   },
   {
    "duration": 775,
    "start_time": "2021-09-18T12:46:53.969Z"
   },
   {
    "duration": 780,
    "start_time": "2021-09-18T12:46:54.746Z"
   },
   {
    "duration": 40,
    "start_time": "2021-09-18T12:46:55.530Z"
   },
   {
    "duration": 8,
    "start_time": "2021-09-18T12:46:55.573Z"
   },
   {
    "duration": 63,
    "start_time": "2021-09-18T12:46:55.583Z"
   },
   {
    "duration": 7,
    "start_time": "2021-09-18T12:46:55.649Z"
   },
   {
    "duration": 86,
    "start_time": "2021-09-18T12:46:55.660Z"
   },
   {
    "duration": 32,
    "start_time": "2021-09-18T12:47:56.022Z"
   },
   {
    "duration": 35,
    "start_time": "2021-09-18T12:49:02.781Z"
   },
   {
    "duration": 297,
    "start_time": "2021-09-18T12:51:00.604Z"
   },
   {
    "duration": 21,
    "start_time": "2021-09-18T12:51:00.903Z"
   },
   {
    "duration": 207,
    "start_time": "2021-09-18T12:51:00.927Z"
   },
   {
    "duration": 13,
    "start_time": "2021-09-18T12:51:01.136Z"
   },
   {
    "duration": 144,
    "start_time": "2021-09-18T12:51:01.152Z"
   },
   {
    "duration": 20,
    "start_time": "2021-09-18T12:51:01.299Z"
   },
   {
    "duration": 32,
    "start_time": "2021-09-18T12:51:01.322Z"
   },
   {
    "duration": 17,
    "start_time": "2021-09-18T12:51:01.360Z"
   },
   {
    "duration": 57,
    "start_time": "2021-09-18T12:51:01.380Z"
   },
   {
    "duration": 18,
    "start_time": "2021-09-18T12:51:01.439Z"
   },
   {
    "duration": 41,
    "start_time": "2021-09-18T12:51:01.460Z"
   },
   {
    "duration": 19,
    "start_time": "2021-09-18T12:51:01.504Z"
   },
   {
    "duration": 56,
    "start_time": "2021-09-18T12:51:01.525Z"
   },
   {
    "duration": 16,
    "start_time": "2021-09-18T12:51:01.584Z"
   },
   {
    "duration": 41,
    "start_time": "2021-09-18T12:51:01.602Z"
   },
   {
    "duration": 25,
    "start_time": "2021-09-18T12:51:01.646Z"
   },
   {
    "duration": 15,
    "start_time": "2021-09-18T12:51:01.673Z"
   },
   {
    "duration": 60,
    "start_time": "2021-09-18T12:51:01.690Z"
   },
   {
    "duration": 13,
    "start_time": "2021-09-18T12:51:01.752Z"
   },
   {
    "duration": 64,
    "start_time": "2021-09-18T12:51:01.767Z"
   },
   {
    "duration": 15,
    "start_time": "2021-09-18T12:51:01.833Z"
   },
   {
    "duration": 67,
    "start_time": "2021-09-18T12:51:01.850Z"
   },
   {
    "duration": 30,
    "start_time": "2021-09-18T12:51:01.923Z"
   },
   {
    "duration": 16,
    "start_time": "2021-09-18T12:51:01.957Z"
   },
   {
    "duration": 65,
    "start_time": "2021-09-18T12:51:01.975Z"
   },
   {
    "duration": 14,
    "start_time": "2021-09-18T12:51:02.043Z"
   },
   {
    "duration": 45,
    "start_time": "2021-09-18T12:51:02.059Z"
   },
   {
    "duration": 20,
    "start_time": "2021-09-18T12:51:02.107Z"
   },
   {
    "duration": 46,
    "start_time": "2021-09-18T12:51:02.130Z"
   },
   {
    "duration": 20,
    "start_time": "2021-09-18T12:51:02.179Z"
   },
   {
    "duration": 22,
    "start_time": "2021-09-18T12:51:02.202Z"
   },
   {
    "duration": 15,
    "start_time": "2021-09-18T12:51:02.226Z"
   },
   {
    "duration": 55,
    "start_time": "2021-09-18T12:51:02.243Z"
   },
   {
    "duration": 85,
    "start_time": "2021-09-18T12:51:02.301Z"
   },
   {
    "duration": 18,
    "start_time": "2021-09-18T12:51:02.388Z"
   },
   {
    "duration": 35,
    "start_time": "2021-09-18T12:51:02.416Z"
   },
   {
    "duration": 34,
    "start_time": "2021-09-18T12:51:02.453Z"
   },
   {
    "duration": 104,
    "start_time": "2021-09-18T12:51:02.489Z"
   },
   {
    "duration": 28,
    "start_time": "2021-09-18T12:51:02.596Z"
   },
   {
    "duration": 36,
    "start_time": "2021-09-18T12:51:02.626Z"
   },
   {
    "duration": 76,
    "start_time": "2021-09-18T12:51:02.664Z"
   },
   {
    "duration": 75,
    "start_time": "2021-09-18T12:51:02.742Z"
   },
   {
    "duration": 25,
    "start_time": "2021-09-18T12:51:02.819Z"
   },
   {
    "duration": 27,
    "start_time": "2021-09-18T12:51:02.846Z"
   },
   {
    "duration": 29,
    "start_time": "2021-09-18T12:51:02.876Z"
   },
   {
    "duration": 311,
    "start_time": "2021-09-18T12:51:02.908Z"
   },
   {
    "duration": 424,
    "start_time": "2021-09-18T12:51:03.222Z"
   },
   {
    "duration": 5,
    "start_time": "2021-09-18T12:51:03.649Z"
   },
   {
    "duration": 14,
    "start_time": "2021-09-18T12:51:03.657Z"
   },
   {
    "duration": 142,
    "start_time": "2021-09-18T12:51:03.674Z"
   },
   {
    "duration": 17,
    "start_time": "2021-09-18T12:51:03.818Z"
   },
   {
    "duration": 44,
    "start_time": "2021-09-18T12:51:03.838Z"
   },
   {
    "duration": 47,
    "start_time": "2021-09-18T12:51:03.884Z"
   },
   {
    "duration": 102,
    "start_time": "2021-09-18T12:51:03.934Z"
   },
   {
    "duration": 21,
    "start_time": "2021-09-18T12:51:04.038Z"
   },
   {
    "duration": 97,
    "start_time": "2021-09-18T12:51:04.062Z"
   },
   {
    "duration": 134,
    "start_time": "2021-09-18T12:51:04.162Z"
   },
   {
    "duration": 18,
    "start_time": "2021-09-18T12:51:04.299Z"
   },
   {
    "duration": 6,
    "start_time": "2021-09-18T12:51:04.320Z"
   },
   {
    "duration": 29,
    "start_time": "2021-09-18T12:51:04.329Z"
   },
   {
    "duration": 16,
    "start_time": "2021-09-18T12:51:04.362Z"
   },
   {
    "duration": 21,
    "start_time": "2021-09-18T12:51:04.380Z"
   },
   {
    "duration": 21,
    "start_time": "2021-09-18T12:51:04.403Z"
   },
   {
    "duration": 458,
    "start_time": "2021-09-18T12:51:04.427Z"
   },
   {
    "duration": 324,
    "start_time": "2021-09-18T12:51:04.888Z"
   },
   {
    "duration": 24,
    "start_time": "2021-09-18T12:51:05.216Z"
   },
   {
    "duration": 15,
    "start_time": "2021-09-18T12:51:05.243Z"
   },
   {
    "duration": 91,
    "start_time": "2021-09-18T12:51:05.267Z"
   },
   {
    "duration": 17,
    "start_time": "2021-09-18T12:51:05.362Z"
   },
   {
    "duration": 77,
    "start_time": "2021-09-18T12:51:05.382Z"
   },
   {
    "duration": 90,
    "start_time": "2021-09-18T12:51:05.462Z"
   },
   {
    "duration": 7,
    "start_time": "2021-09-18T12:51:05.555Z"
   },
   {
    "duration": 8,
    "start_time": "2021-09-18T12:51:05.564Z"
   },
   {
    "duration": 7,
    "start_time": "2021-09-18T12:51:05.574Z"
   },
   {
    "duration": 36,
    "start_time": "2021-09-18T12:51:05.583Z"
   },
   {
    "duration": 7,
    "start_time": "2021-09-18T12:51:05.621Z"
   },
   {
    "duration": 8,
    "start_time": "2021-09-18T12:51:05.630Z"
   },
   {
    "duration": 316,
    "start_time": "2021-09-18T12:51:05.640Z"
   },
   {
    "duration": 325,
    "start_time": "2021-09-18T12:51:05.958Z"
   },
   {
    "duration": 45,
    "start_time": "2021-09-18T12:51:06.286Z"
   },
   {
    "duration": 31,
    "start_time": "2021-09-18T12:51:06.334Z"
   },
   {
    "duration": 7,
    "start_time": "2021-09-18T12:51:06.368Z"
   },
   {
    "duration": 39,
    "start_time": "2021-09-18T12:51:06.378Z"
   },
   {
    "duration": 9,
    "start_time": "2021-09-18T12:51:06.420Z"
   },
   {
    "duration": 6,
    "start_time": "2021-09-18T12:51:06.432Z"
   },
   {
    "duration": 24,
    "start_time": "2021-09-18T12:51:06.440Z"
   },
   {
    "duration": 64,
    "start_time": "2021-09-18T12:51:06.466Z"
   },
   {
    "duration": 41,
    "start_time": "2021-09-18T12:51:06.532Z"
   },
   {
    "duration": 5,
    "start_time": "2021-09-18T12:51:06.575Z"
   },
   {
    "duration": 66,
    "start_time": "2021-09-18T12:51:06.582Z"
   },
   {
    "duration": 10,
    "start_time": "2021-09-18T12:51:06.650Z"
   },
   {
    "duration": 12,
    "start_time": "2021-09-18T12:51:06.663Z"
   },
   {
    "duration": 9,
    "start_time": "2021-09-18T12:51:06.678Z"
   },
   {
    "duration": 31,
    "start_time": "2021-09-18T12:51:06.689Z"
   },
   {
    "duration": 13,
    "start_time": "2021-09-18T12:51:06.722Z"
   },
   {
    "duration": 1014,
    "start_time": "2021-09-18T12:51:06.737Z"
   },
   {
    "duration": 747,
    "start_time": "2021-09-18T12:51:07.754Z"
   },
   {
    "duration": 46,
    "start_time": "2021-09-18T12:51:08.504Z"
   },
   {
    "duration": 7,
    "start_time": "2021-09-18T12:51:08.552Z"
   },
   {
    "duration": 61,
    "start_time": "2021-09-18T12:51:08.562Z"
   },
   {
    "duration": 9910,
    "start_time": "2021-09-18T12:51:08.625Z"
   },
   {
    "duration": 798,
    "start_time": "2021-09-18T12:51:17.740Z"
   },
   {
    "duration": 797,
    "start_time": "2021-09-18T12:51:17.742Z"
   },
   {
    "duration": 7,
    "start_time": "2021-09-18T12:51:44.791Z"
   },
   {
    "duration": 8,
    "start_time": "2021-09-18T12:51:50.395Z"
   },
   {
    "duration": 8,
    "start_time": "2021-09-18T12:51:52.718Z"
   },
   {
    "duration": 959,
    "start_time": "2021-09-18T17:48:29.219Z"
   },
   {
    "duration": 7,
    "start_time": "2021-09-18T17:48:47.402Z"
   },
   {
    "duration": 7,
    "start_time": "2021-09-18T17:48:58.661Z"
   },
   {
    "duration": 287,
    "start_time": "2021-09-18T17:58:09.291Z"
   },
   {
    "duration": 41,
    "start_time": "2021-09-18T17:58:09.581Z"
   },
   {
    "duration": 244,
    "start_time": "2021-09-18T17:58:09.627Z"
   },
   {
    "duration": 12,
    "start_time": "2021-09-18T17:58:09.874Z"
   },
   {
    "duration": 145,
    "start_time": "2021-09-18T17:58:09.889Z"
   },
   {
    "duration": 13,
    "start_time": "2021-09-18T17:58:10.037Z"
   },
   {
    "duration": 41,
    "start_time": "2021-09-18T17:58:10.053Z"
   },
   {
    "duration": 22,
    "start_time": "2021-09-18T17:58:10.098Z"
   },
   {
    "duration": 49,
    "start_time": "2021-09-18T17:58:10.123Z"
   },
   {
    "duration": 16,
    "start_time": "2021-09-18T17:58:10.175Z"
   },
   {
    "duration": 41,
    "start_time": "2021-09-18T17:58:10.193Z"
   },
   {
    "duration": 13,
    "start_time": "2021-09-18T17:58:10.237Z"
   },
   {
    "duration": 39,
    "start_time": "2021-09-18T17:58:10.253Z"
   },
   {
    "duration": 23,
    "start_time": "2021-09-18T17:58:10.294Z"
   },
   {
    "duration": 29,
    "start_time": "2021-09-18T17:58:10.320Z"
   },
   {
    "duration": 25,
    "start_time": "2021-09-18T17:58:10.351Z"
   },
   {
    "duration": 41,
    "start_time": "2021-09-18T17:58:10.379Z"
   },
   {
    "duration": 35,
    "start_time": "2021-09-18T17:58:10.422Z"
   },
   {
    "duration": 13,
    "start_time": "2021-09-18T17:58:10.460Z"
   },
   {
    "duration": 69,
    "start_time": "2021-09-18T17:58:10.475Z"
   },
   {
    "duration": 14,
    "start_time": "2021-09-18T17:58:10.546Z"
   },
   {
    "duration": 64,
    "start_time": "2021-09-18T17:58:10.563Z"
   },
   {
    "duration": 31,
    "start_time": "2021-09-18T17:58:10.633Z"
   },
   {
    "duration": 15,
    "start_time": "2021-09-18T17:58:10.668Z"
   },
   {
    "duration": 49,
    "start_time": "2021-09-18T17:58:10.685Z"
   },
   {
    "duration": 12,
    "start_time": "2021-09-18T17:58:10.736Z"
   },
   {
    "duration": 35,
    "start_time": "2021-09-18T17:58:10.750Z"
   },
   {
    "duration": 31,
    "start_time": "2021-09-18T17:58:10.787Z"
   },
   {
    "duration": 32,
    "start_time": "2021-09-18T17:58:10.821Z"
   },
   {
    "duration": 23,
    "start_time": "2021-09-18T17:58:10.856Z"
   },
   {
    "duration": 42,
    "start_time": "2021-09-18T17:58:10.881Z"
   },
   {
    "duration": 16,
    "start_time": "2021-09-18T17:58:10.926Z"
   },
   {
    "duration": 48,
    "start_time": "2021-09-18T17:58:10.945Z"
   },
   {
    "duration": 94,
    "start_time": "2021-09-18T17:58:10.996Z"
   },
   {
    "duration": 27,
    "start_time": "2021-09-18T17:58:11.093Z"
   },
   {
    "duration": 45,
    "start_time": "2021-09-18T17:58:11.123Z"
   },
   {
    "duration": 45,
    "start_time": "2021-09-18T17:58:11.171Z"
   },
   {
    "duration": 78,
    "start_time": "2021-09-18T17:58:11.219Z"
   },
   {
    "duration": 34,
    "start_time": "2021-09-18T17:58:11.300Z"
   },
   {
    "duration": 14,
    "start_time": "2021-09-18T17:58:11.336Z"
   },
   {
    "duration": 11,
    "start_time": "2021-09-18T17:58:11.353Z"
   },
   {
    "duration": 26,
    "start_time": "2021-09-18T17:58:11.366Z"
   },
   {
    "duration": 288,
    "start_time": "2021-09-18T17:58:11.394Z"
   },
   {
    "duration": 6,
    "start_time": "2021-09-18T17:58:11.684Z"
   },
   {
    "duration": 26,
    "start_time": "2021-09-18T17:58:11.692Z"
   },
   {
    "duration": 17,
    "start_time": "2021-09-18T17:58:11.721Z"
   },
   {
    "duration": 327,
    "start_time": "2021-09-18T17:58:11.741Z"
   },
   {
    "duration": 4,
    "start_time": "2021-09-18T17:58:12.070Z"
   },
   {
    "duration": 23,
    "start_time": "2021-09-18T17:58:12.077Z"
   },
   {
    "duration": 138,
    "start_time": "2021-09-18T17:58:12.102Z"
   },
   {
    "duration": 15,
    "start_time": "2021-09-18T17:58:12.243Z"
   },
   {
    "duration": 56,
    "start_time": "2021-09-18T17:58:12.260Z"
   },
   {
    "duration": 21,
    "start_time": "2021-09-18T17:58:12.318Z"
   },
   {
    "duration": 111,
    "start_time": "2021-09-18T17:58:12.341Z"
   },
   {
    "duration": 19,
    "start_time": "2021-09-18T17:58:12.454Z"
   },
   {
    "duration": 89,
    "start_time": "2021-09-18T17:58:12.476Z"
   },
   {
    "duration": 127,
    "start_time": "2021-09-18T17:58:12.567Z"
   },
   {
    "duration": 5,
    "start_time": "2021-09-18T17:58:12.696Z"
   },
   {
    "duration": 26,
    "start_time": "2021-09-18T17:58:12.704Z"
   },
   {
    "duration": 17,
    "start_time": "2021-09-18T17:58:12.732Z"
   },
   {
    "duration": 318,
    "start_time": "2021-09-18T17:58:12.751Z"
   },
   {
    "duration": 7,
    "start_time": "2021-09-18T17:58:13.072Z"
   },
   {
    "duration": 21,
    "start_time": "2021-09-18T17:58:13.082Z"
   },
   {
    "duration": 28,
    "start_time": "2021-09-18T17:58:13.105Z"
   },
   {
    "duration": 313,
    "start_time": "2021-09-18T17:58:13.136Z"
   },
   {
    "duration": 24,
    "start_time": "2021-09-18T17:58:13.451Z"
   },
   {
    "duration": 14,
    "start_time": "2021-09-18T17:58:13.477Z"
   },
   {
    "duration": 63,
    "start_time": "2021-09-18T17:58:13.519Z"
   },
   {
    "duration": 32,
    "start_time": "2021-09-18T17:58:13.585Z"
   },
   {
    "duration": 55,
    "start_time": "2021-09-18T17:58:13.620Z"
   },
   {
    "duration": 96,
    "start_time": "2021-09-18T17:58:13.678Z"
   },
   {
    "duration": 6,
    "start_time": "2021-09-18T17:58:13.776Z"
   },
   {
    "duration": 19,
    "start_time": "2021-09-18T17:58:13.784Z"
   },
   {
    "duration": 25,
    "start_time": "2021-09-18T17:58:13.805Z"
   },
   {
    "duration": 279,
    "start_time": "2021-09-18T17:58:13.832Z"
   },
   {
    "duration": 6,
    "start_time": "2021-09-18T17:58:14.117Z"
   },
   {
    "duration": 21,
    "start_time": "2021-09-18T17:58:14.125Z"
   },
   {
    "duration": 28,
    "start_time": "2021-09-18T17:58:14.148Z"
   },
   {
    "duration": 292,
    "start_time": "2021-09-18T17:58:14.178Z"
   },
   {
    "duration": 45,
    "start_time": "2021-09-18T17:58:14.472Z"
   },
   {
    "duration": 31,
    "start_time": "2021-09-18T17:58:14.520Z"
   },
   {
    "duration": 5,
    "start_time": "2021-09-18T17:58:14.554Z"
   },
   {
    "duration": 20,
    "start_time": "2021-09-18T17:58:14.561Z"
   },
   {
    "duration": 21,
    "start_time": "2021-09-18T17:58:14.583Z"
   },
   {
    "duration": 11,
    "start_time": "2021-09-18T17:58:14.617Z"
   },
   {
    "duration": 43,
    "start_time": "2021-09-18T17:58:14.631Z"
   },
   {
    "duration": 45,
    "start_time": "2021-09-18T17:58:14.677Z"
   },
   {
    "duration": 62,
    "start_time": "2021-09-18T17:58:14.724Z"
   },
   {
    "duration": 20,
    "start_time": "2021-09-18T17:58:14.788Z"
   },
   {
    "duration": 56,
    "start_time": "2021-09-18T17:58:14.811Z"
   },
   {
    "duration": 27,
    "start_time": "2021-09-18T17:58:14.870Z"
   },
   {
    "duration": 16,
    "start_time": "2021-09-18T17:58:14.899Z"
   },
   {
    "duration": 9,
    "start_time": "2021-09-18T17:58:14.917Z"
   },
   {
    "duration": 9,
    "start_time": "2021-09-18T17:58:14.928Z"
   },
   {
    "duration": 6,
    "start_time": "2021-09-18T17:58:14.940Z"
   },
   {
    "duration": 755,
    "start_time": "2021-09-18T17:58:14.949Z"
   },
   {
    "duration": 740,
    "start_time": "2021-09-18T17:58:15.707Z"
   },
   {
    "duration": 38,
    "start_time": "2021-09-18T17:58:16.450Z"
   },
   {
    "duration": 28,
    "start_time": "2021-09-18T17:58:16.490Z"
   },
   {
    "duration": 34,
    "start_time": "2021-09-18T17:58:16.521Z"
   },
   {
    "duration": 6,
    "start_time": "2021-09-18T17:58:16.558Z"
   },
   {
    "duration": 13,
    "start_time": "2021-09-18T17:58:16.566Z"
   },
   {
    "duration": 37,
    "start_time": "2021-09-18T17:58:16.581Z"
   },
   {
    "duration": 48,
    "start_time": "2021-09-18T18:04:03.364Z"
   },
   {
    "duration": 6,
    "start_time": "2021-09-18T18:05:09.126Z"
   },
   {
    "duration": 34,
    "start_time": "2021-09-18T18:05:19.158Z"
   },
   {
    "duration": 26,
    "start_time": "2021-09-18T18:05:27.764Z"
   },
   {
    "duration": 6,
    "start_time": "2021-09-18T18:12:36.065Z"
   },
   {
    "duration": 6,
    "start_time": "2021-09-18T18:12:48.561Z"
   },
   {
    "duration": 6,
    "start_time": "2021-09-18T18:13:27.244Z"
   },
   {
    "duration": 4,
    "start_time": "2021-09-18T18:13:29.152Z"
   },
   {
    "duration": 270,
    "start_time": "2021-09-18T18:13:44.128Z"
   },
   {
    "duration": 12,
    "start_time": "2021-09-18T18:13:44.417Z"
   },
   {
    "duration": 203,
    "start_time": "2021-09-18T18:13:44.433Z"
   },
   {
    "duration": 13,
    "start_time": "2021-09-18T18:13:44.640Z"
   },
   {
    "duration": 140,
    "start_time": "2021-09-18T18:13:44.656Z"
   },
   {
    "duration": 20,
    "start_time": "2021-09-18T18:13:44.799Z"
   },
   {
    "duration": 36,
    "start_time": "2021-09-18T18:13:44.822Z"
   },
   {
    "duration": 21,
    "start_time": "2021-09-18T18:13:44.865Z"
   },
   {
    "duration": 57,
    "start_time": "2021-09-18T18:13:44.891Z"
   },
   {
    "duration": 24,
    "start_time": "2021-09-18T18:13:44.951Z"
   },
   {
    "duration": 41,
    "start_time": "2021-09-18T18:13:44.979Z"
   },
   {
    "duration": 17,
    "start_time": "2021-09-18T18:13:45.023Z"
   },
   {
    "duration": 31,
    "start_time": "2021-09-18T18:13:45.043Z"
   },
   {
    "duration": 43,
    "start_time": "2021-09-18T18:13:45.077Z"
   },
   {
    "duration": 32,
    "start_time": "2021-09-18T18:13:45.123Z"
   },
   {
    "duration": 24,
    "start_time": "2021-09-18T18:13:45.158Z"
   },
   {
    "duration": 45,
    "start_time": "2021-09-18T18:13:45.185Z"
   },
   {
    "duration": 44,
    "start_time": "2021-09-18T18:13:45.233Z"
   },
   {
    "duration": 13,
    "start_time": "2021-09-18T18:13:45.280Z"
   },
   {
    "duration": 52,
    "start_time": "2021-09-18T18:13:45.296Z"
   },
   {
    "duration": 14,
    "start_time": "2021-09-18T18:13:45.351Z"
   },
   {
    "duration": 69,
    "start_time": "2021-09-18T18:13:45.368Z"
   },
   {
    "duration": 32,
    "start_time": "2021-09-18T18:13:45.443Z"
   },
   {
    "duration": 15,
    "start_time": "2021-09-18T18:13:45.479Z"
   },
   {
    "duration": 24,
    "start_time": "2021-09-18T18:13:45.517Z"
   },
   {
    "duration": 12,
    "start_time": "2021-09-18T18:13:45.544Z"
   },
   {
    "duration": 30,
    "start_time": "2021-09-18T18:13:45.558Z"
   },
   {
    "duration": 36,
    "start_time": "2021-09-18T18:13:45.591Z"
   },
   {
    "duration": 29,
    "start_time": "2021-09-18T18:13:45.630Z"
   },
   {
    "duration": 21,
    "start_time": "2021-09-18T18:13:45.661Z"
   },
   {
    "duration": 14,
    "start_time": "2021-09-18T18:13:45.716Z"
   },
   {
    "duration": 4,
    "start_time": "2021-09-18T18:13:45.733Z"
   },
   {
    "duration": 29,
    "start_time": "2021-09-18T18:13:45.739Z"
   },
   {
    "duration": 120,
    "start_time": "2021-09-18T18:13:45.770Z"
   },
   {
    "duration": 24,
    "start_time": "2021-09-18T18:13:45.893Z"
   },
   {
    "duration": 31,
    "start_time": "2021-09-18T18:13:45.920Z"
   },
   {
    "duration": 27,
    "start_time": "2021-09-18T18:13:45.953Z"
   },
   {
    "duration": 112,
    "start_time": "2021-09-18T18:13:45.983Z"
   },
   {
    "duration": 38,
    "start_time": "2021-09-18T18:13:46.098Z"
   },
   {
    "duration": 8,
    "start_time": "2021-09-18T18:13:46.139Z"
   },
   {
    "duration": 7,
    "start_time": "2021-09-18T18:13:46.149Z"
   },
   {
    "duration": 11,
    "start_time": "2021-09-18T18:13:46.158Z"
   },
   {
    "duration": 325,
    "start_time": "2021-09-18T18:13:46.171Z"
   },
   {
    "duration": 6,
    "start_time": "2021-09-18T18:13:46.498Z"
   },
   {
    "duration": 6,
    "start_time": "2021-09-18T18:13:46.516Z"
   },
   {
    "duration": 7,
    "start_time": "2021-09-18T18:13:46.525Z"
   },
   {
    "duration": 327,
    "start_time": "2021-09-18T18:13:46.534Z"
   },
   {
    "duration": 5,
    "start_time": "2021-09-18T18:13:46.863Z"
   },
   {
    "duration": 14,
    "start_time": "2021-09-18T18:13:46.871Z"
   },
   {
    "duration": 142,
    "start_time": "2021-09-18T18:13:46.887Z"
   },
   {
    "duration": 17,
    "start_time": "2021-09-18T18:13:47.032Z"
   },
   {
    "duration": 43,
    "start_time": "2021-09-18T18:13:47.052Z"
   },
   {
    "duration": 42,
    "start_time": "2021-09-18T18:13:47.097Z"
   },
   {
    "duration": 111,
    "start_time": "2021-09-18T18:13:47.142Z"
   },
   {
    "duration": 20,
    "start_time": "2021-09-18T18:13:47.255Z"
   },
   {
    "duration": 90,
    "start_time": "2021-09-18T18:13:47.277Z"
   },
   {
    "duration": 126,
    "start_time": "2021-09-18T18:13:47.369Z"
   },
   {
    "duration": 6,
    "start_time": "2021-09-18T18:13:47.497Z"
   },
   {
    "duration": 19,
    "start_time": "2021-09-18T18:13:47.505Z"
   },
   {
    "duration": 15,
    "start_time": "2021-09-18T18:13:47.526Z"
   },
   {
    "duration": 318,
    "start_time": "2021-09-18T18:13:47.543Z"
   },
   {
    "duration": 6,
    "start_time": "2021-09-18T18:13:47.863Z"
   },
   {
    "duration": 21,
    "start_time": "2021-09-18T18:13:47.872Z"
   },
   {
    "duration": 22,
    "start_time": "2021-09-18T18:13:47.896Z"
   },
   {
    "duration": 311,
    "start_time": "2021-09-18T18:13:47.921Z"
   },
   {
    "duration": 24,
    "start_time": "2021-09-18T18:13:48.234Z"
   },
   {
    "duration": 16,
    "start_time": "2021-09-18T18:13:48.261Z"
   },
   {
    "duration": 86,
    "start_time": "2021-09-18T18:13:48.285Z"
   },
   {
    "duration": 14,
    "start_time": "2021-09-18T18:13:48.375Z"
   },
   {
    "duration": 68,
    "start_time": "2021-09-18T18:13:48.391Z"
   },
   {
    "duration": 83,
    "start_time": "2021-09-18T18:13:48.462Z"
   },
   {
    "duration": 6,
    "start_time": "2021-09-18T18:13:48.547Z"
   },
   {
    "duration": 21,
    "start_time": "2021-09-18T18:13:48.555Z"
   },
   {
    "duration": 15,
    "start_time": "2021-09-18T18:13:48.578Z"
   },
   {
    "duration": 292,
    "start_time": "2021-09-18T18:13:48.595Z"
   },
   {
    "duration": 8,
    "start_time": "2021-09-18T18:13:48.890Z"
   },
   {
    "duration": 20,
    "start_time": "2021-09-18T18:13:48.900Z"
   },
   {
    "duration": 22,
    "start_time": "2021-09-18T18:13:48.922Z"
   },
   {
    "duration": 310,
    "start_time": "2021-09-18T18:13:48.946Z"
   },
   {
    "duration": 31,
    "start_time": "2021-09-18T18:13:49.259Z"
   },
   {
    "duration": 49,
    "start_time": "2021-09-18T18:13:49.292Z"
   },
   {
    "duration": 6,
    "start_time": "2021-09-18T18:13:49.344Z"
   },
   {
    "duration": 10,
    "start_time": "2021-09-18T18:13:49.352Z"
   },
   {
    "duration": 16,
    "start_time": "2021-09-18T18:13:49.364Z"
   },
   {
    "duration": 11,
    "start_time": "2021-09-18T18:13:49.383Z"
   },
   {
    "duration": 63,
    "start_time": "2021-09-18T18:13:49.396Z"
   },
   {
    "duration": 5,
    "start_time": "2021-09-18T18:13:49.462Z"
   },
   {
    "duration": 67,
    "start_time": "2021-09-18T18:13:49.469Z"
   },
   {
    "duration": 7,
    "start_time": "2021-09-18T18:13:49.539Z"
   },
   {
    "duration": 41,
    "start_time": "2021-09-18T18:13:49.549Z"
   },
   {
    "duration": 51,
    "start_time": "2021-09-18T18:13:49.593Z"
   },
   {
    "duration": 9,
    "start_time": "2021-09-18T18:13:49.647Z"
   },
   {
    "duration": 23,
    "start_time": "2021-09-18T18:13:49.659Z"
   },
   {
    "duration": 1040,
    "start_time": "2021-09-18T18:13:49.684Z"
   },
   {
    "duration": 770,
    "start_time": "2021-09-18T18:13:50.727Z"
   },
   {
    "duration": 47,
    "start_time": "2021-09-18T18:13:51.499Z"
   },
   {
    "duration": 6,
    "start_time": "2021-09-18T18:13:51.549Z"
   },
   {
    "duration": 11,
    "start_time": "2021-09-18T18:13:51.558Z"
   },
   {
    "duration": 44,
    "start_time": "2021-09-18T18:13:51.572Z"
   },
   {
    "duration": 51,
    "start_time": "2021-09-18T18:13:51.619Z"
   },
   {
    "duration": 8,
    "start_time": "2021-09-18T18:13:51.673Z"
   },
   {
    "duration": 8,
    "start_time": "2021-09-18T18:13:51.684Z"
   },
   {
    "duration": 26,
    "start_time": "2021-09-18T18:13:51.695Z"
   },
   {
    "duration": 15,
    "start_time": "2021-09-18T18:13:51.724Z"
   },
   {
    "duration": 429,
    "start_time": "2021-09-18T19:03:20.886Z"
   },
   {
    "duration": 7,
    "start_time": "2021-09-18T19:03:31.168Z"
   },
   {
    "duration": 7,
    "start_time": "2021-09-18T19:04:06.720Z"
   },
   {
    "duration": 315,
    "start_time": "2021-09-18T19:07:46.522Z"
   },
   {
    "duration": 291,
    "start_time": "2021-09-18T19:07:55.923Z"
   },
   {
    "duration": 19,
    "start_time": "2021-09-18T19:08:00.778Z"
   },
   {
    "duration": 19,
    "start_time": "2021-09-18T19:08:34.521Z"
   },
   {
    "duration": 311,
    "start_time": "2021-09-18T19:10:29.043Z"
   },
   {
    "duration": 7,
    "start_time": "2021-09-18T19:10:39.585Z"
   },
   {
    "duration": 135,
    "start_time": "2021-09-18T19:13:44.610Z"
   },
   {
    "duration": 5,
    "start_time": "2021-09-18T19:14:44.337Z"
   },
   {
    "duration": 7,
    "start_time": "2021-09-18T19:15:03.713Z"
   },
   {
    "duration": 23,
    "start_time": "2021-09-18T19:15:58.496Z"
   },
   {
    "duration": 7,
    "start_time": "2021-09-18T19:16:19.503Z"
   },
   {
    "duration": 302,
    "start_time": "2021-09-18T19:16:26.774Z"
   },
   {
    "duration": 22,
    "start_time": "2021-09-18T19:16:32.559Z"
   },
   {
    "duration": 7,
    "start_time": "2021-09-18T19:18:37.051Z"
   },
   {
    "duration": 110,
    "start_time": "2021-09-18T19:32:38.677Z"
   },
   {
    "duration": 26,
    "start_time": "2021-09-18T19:38:49.733Z"
   },
   {
    "duration": 6,
    "start_time": "2021-09-18T19:39:11.453Z"
   },
   {
    "duration": 24,
    "start_time": "2021-09-18T19:39:16.811Z"
   },
   {
    "duration": 261,
    "start_time": "2021-09-18T20:24:02.393Z"
   },
   {
    "duration": 11,
    "start_time": "2021-09-18T20:24:02.657Z"
   },
   {
    "duration": 251,
    "start_time": "2021-09-18T20:24:02.671Z"
   },
   {
    "duration": 14,
    "start_time": "2021-09-18T20:24:02.925Z"
   },
   {
    "duration": 136,
    "start_time": "2021-09-18T20:24:02.942Z"
   },
   {
    "duration": 12,
    "start_time": "2021-09-18T20:24:03.081Z"
   },
   {
    "duration": 33,
    "start_time": "2021-09-18T20:24:03.096Z"
   },
   {
    "duration": 12,
    "start_time": "2021-09-18T20:24:03.133Z"
   },
   {
    "duration": 48,
    "start_time": "2021-09-18T20:24:03.149Z"
   },
   {
    "duration": 18,
    "start_time": "2021-09-18T20:24:03.200Z"
   },
   {
    "duration": 13,
    "start_time": "2021-09-18T20:24:03.221Z"
   },
   {
    "duration": 14,
    "start_time": "2021-09-18T20:24:03.237Z"
   },
   {
    "duration": 14,
    "start_time": "2021-09-18T20:24:03.254Z"
   },
   {
    "duration": 18,
    "start_time": "2021-09-18T20:24:03.270Z"
   },
   {
    "duration": 7,
    "start_time": "2021-09-18T20:24:03.291Z"
   },
   {
    "duration": 20,
    "start_time": "2021-09-18T20:24:03.300Z"
   },
   {
    "duration": 28,
    "start_time": "2021-09-18T20:24:03.322Z"
   },
   {
    "duration": 17,
    "start_time": "2021-09-18T20:24:03.353Z"
   },
   {
    "duration": 61,
    "start_time": "2021-09-18T20:24:03.373Z"
   },
   {
    "duration": 13,
    "start_time": "2021-09-18T20:24:03.437Z"
   },
   {
    "duration": 38,
    "start_time": "2021-09-18T20:24:03.452Z"
   },
   {
    "duration": 27,
    "start_time": "2021-09-18T20:24:03.493Z"
   },
   {
    "duration": 32,
    "start_time": "2021-09-18T20:24:03.527Z"
   },
   {
    "duration": 26,
    "start_time": "2021-09-18T20:24:03.563Z"
   },
   {
    "duration": 16,
    "start_time": "2021-09-18T20:24:03.615Z"
   },
   {
    "duration": 38,
    "start_time": "2021-09-18T20:24:03.634Z"
   },
   {
    "duration": 42,
    "start_time": "2021-09-18T20:24:03.675Z"
   },
   {
    "duration": 33,
    "start_time": "2021-09-18T20:24:03.720Z"
   },
   {
    "duration": 14,
    "start_time": "2021-09-18T20:24:03.755Z"
   },
   {
    "duration": 72,
    "start_time": "2021-09-18T20:24:03.772Z"
   },
   {
    "duration": 33,
    "start_time": "2021-09-18T20:24:03.846Z"
   },
   {
    "duration": 35,
    "start_time": "2021-09-18T20:24:03.881Z"
   },
   {
    "duration": 30,
    "start_time": "2021-09-18T20:24:03.919Z"
   },
   {
    "duration": 13,
    "start_time": "2021-09-18T20:24:03.952Z"
   },
   {
    "duration": 58,
    "start_time": "2021-09-18T20:24:03.967Z"
   },
   {
    "duration": 54,
    "start_time": "2021-09-18T20:24:04.028Z"
   },
   {
    "duration": 28,
    "start_time": "2021-09-18T20:24:04.084Z"
   },
   {
    "duration": 21,
    "start_time": "2021-09-18T20:24:04.114Z"
   },
   {
    "duration": 14,
    "start_time": "2021-09-18T20:24:04.137Z"
   },
   {
    "duration": 41,
    "start_time": "2021-09-18T20:24:04.154Z"
   },
   {
    "duration": 18,
    "start_time": "2021-09-18T20:24:04.198Z"
   },
   {
    "duration": 35,
    "start_time": "2021-09-18T20:24:04.219Z"
   },
   {
    "duration": 121,
    "start_time": "2021-09-18T20:24:04.257Z"
   },
   {
    "duration": 19,
    "start_time": "2021-09-18T20:24:04.381Z"
   },
   {
    "duration": 32,
    "start_time": "2021-09-18T20:24:04.417Z"
   },
   {
    "duration": 24,
    "start_time": "2021-09-18T20:24:04.451Z"
   },
   {
    "duration": 108,
    "start_time": "2021-09-18T20:24:04.477Z"
   },
   {
    "duration": 28,
    "start_time": "2021-09-18T20:24:04.588Z"
   },
   {
    "duration": 8,
    "start_time": "2021-09-18T20:24:04.618Z"
   },
   {
    "duration": 12,
    "start_time": "2021-09-18T20:24:04.628Z"
   },
   {
    "duration": 18,
    "start_time": "2021-09-18T20:24:04.642Z"
   },
   {
    "duration": 313,
    "start_time": "2021-09-18T20:24:04.662Z"
   },
   {
    "duration": 6,
    "start_time": "2021-09-18T20:24:04.977Z"
   },
   {
    "duration": 109,
    "start_time": "2021-09-18T20:24:04.985Z"
   },
   {
    "duration": 7,
    "start_time": "2021-09-18T20:24:05.097Z"
   },
   {
    "duration": 293,
    "start_time": "2021-09-18T20:24:05.107Z"
   },
   {
    "duration": 4,
    "start_time": "2021-09-18T20:24:05.403Z"
   },
   {
    "duration": 6,
    "start_time": "2021-09-18T20:24:05.416Z"
   },
   {
    "duration": 145,
    "start_time": "2021-09-18T20:24:05.425Z"
   },
   {
    "duration": 15,
    "start_time": "2021-09-18T20:24:05.573Z"
   },
   {
    "duration": 58,
    "start_time": "2021-09-18T20:24:05.590Z"
   },
   {
    "duration": 21,
    "start_time": "2021-09-18T20:24:05.651Z"
   },
   {
    "duration": 113,
    "start_time": "2021-09-18T20:24:05.674Z"
   },
   {
    "duration": 26,
    "start_time": "2021-09-18T20:24:05.790Z"
   },
   {
    "duration": 68,
    "start_time": "2021-09-18T20:24:05.819Z"
   },
   {
    "duration": 145,
    "start_time": "2021-09-18T20:24:05.890Z"
   },
   {
    "duration": 6,
    "start_time": "2021-09-18T20:24:06.037Z"
   },
   {
    "duration": 9,
    "start_time": "2021-09-18T20:24:06.052Z"
   },
   {
    "duration": 10,
    "start_time": "2021-09-18T20:24:06.065Z"
   },
   {
    "duration": 339,
    "start_time": "2021-09-18T20:24:06.077Z"
   },
   {
    "duration": 7,
    "start_time": "2021-09-18T20:24:06.419Z"
   },
   {
    "duration": 8,
    "start_time": "2021-09-18T20:24:06.429Z"
   },
   {
    "duration": 6,
    "start_time": "2021-09-18T20:24:06.440Z"
   },
   {
    "duration": 355,
    "start_time": "2021-09-18T20:24:06.449Z"
   },
   {
    "duration": 24,
    "start_time": "2021-09-18T20:24:06.806Z"
   },
   {
    "duration": 16,
    "start_time": "2021-09-18T20:24:06.832Z"
   },
   {
    "duration": 82,
    "start_time": "2021-09-18T20:24:06.851Z"
   },
   {
    "duration": 14,
    "start_time": "2021-09-18T20:24:06.936Z"
   },
   {
    "duration": 79,
    "start_time": "2021-09-18T20:24:06.953Z"
   },
   {
    "duration": 88,
    "start_time": "2021-09-18T20:24:07.034Z"
   },
   {
    "duration": 5,
    "start_time": "2021-09-18T20:24:07.125Z"
   },
   {
    "duration": 8,
    "start_time": "2021-09-18T20:24:07.132Z"
   },
   {
    "duration": 8,
    "start_time": "2021-09-18T20:24:07.142Z"
   },
   {
    "duration": 312,
    "start_time": "2021-09-18T20:24:07.152Z"
   },
   {
    "duration": 6,
    "start_time": "2021-09-18T20:24:07.466Z"
   },
   {
    "duration": 12,
    "start_time": "2021-09-18T20:24:07.474Z"
   },
   {
    "duration": 30,
    "start_time": "2021-09-18T20:24:07.488Z"
   },
   {
    "duration": 312,
    "start_time": "2021-09-18T20:24:07.521Z"
   },
   {
    "duration": 35,
    "start_time": "2021-09-18T20:24:07.836Z"
   },
   {
    "duration": 69,
    "start_time": "2021-09-18T20:24:07.875Z"
   },
   {
    "duration": 6,
    "start_time": "2021-09-18T20:24:07.947Z"
   },
   {
    "duration": 4,
    "start_time": "2021-09-18T20:24:07.955Z"
   },
   {
    "duration": 11,
    "start_time": "2021-09-18T20:24:07.961Z"
   },
   {
    "duration": 6,
    "start_time": "2021-09-18T20:24:07.974Z"
   },
   {
    "duration": 77,
    "start_time": "2021-09-18T20:24:07.983Z"
   },
   {
    "duration": 14,
    "start_time": "2021-09-18T20:24:08.063Z"
   },
   {
    "duration": 65,
    "start_time": "2021-09-18T20:24:08.079Z"
   },
   {
    "duration": 5,
    "start_time": "2021-09-18T20:24:08.147Z"
   },
   {
    "duration": 20,
    "start_time": "2021-09-18T20:24:08.155Z"
   },
   {
    "duration": 15,
    "start_time": "2021-09-18T20:24:08.177Z"
   },
   {
    "duration": 42,
    "start_time": "2021-09-18T20:24:08.194Z"
   },
   {
    "duration": 34,
    "start_time": "2021-09-18T20:24:08.238Z"
   },
   {
    "duration": 7,
    "start_time": "2021-09-18T20:24:08.275Z"
   },
   {
    "duration": 14,
    "start_time": "2021-09-18T20:24:08.284Z"
   },
   {
    "duration": 788,
    "start_time": "2021-09-18T20:24:08.300Z"
   },
   {
    "duration": 785,
    "start_time": "2021-09-18T20:24:09.091Z"
   },
   {
    "duration": 46,
    "start_time": "2021-09-18T20:24:09.878Z"
   },
   {
    "duration": 6,
    "start_time": "2021-09-18T20:24:09.927Z"
   },
   {
    "duration": 6,
    "start_time": "2021-09-18T20:24:09.936Z"
   },
   {
    "duration": 11,
    "start_time": "2021-09-18T20:24:09.944Z"
   },
   {
    "duration": 81,
    "start_time": "2021-09-18T20:24:09.957Z"
   },
   {
    "duration": 8,
    "start_time": "2021-09-18T20:24:10.041Z"
   },
   {
    "duration": 10,
    "start_time": "2021-09-18T20:24:10.051Z"
   },
   {
    "duration": 7,
    "start_time": "2021-09-18T20:24:10.063Z"
   },
   {
    "duration": 46,
    "start_time": "2021-09-18T20:24:10.073Z"
   },
   {
    "duration": 116,
    "start_time": "2021-09-18T20:29:54.430Z"
   },
   {
    "duration": 104,
    "start_time": "2021-09-18T20:31:31.266Z"
   },
   {
    "duration": 100,
    "start_time": "2021-09-18T20:36:00.271Z"
   },
   {
    "duration": 106,
    "start_time": "2021-09-18T21:02:38.032Z"
   },
   {
    "duration": 119,
    "start_time": "2021-09-18T21:03:03.545Z"
   },
   {
    "duration": 156,
    "start_time": "2021-09-18T21:04:05.712Z"
   },
   {
    "duration": 4,
    "start_time": "2021-09-18T21:20:13.243Z"
   },
   {
    "duration": 7,
    "start_time": "2021-09-18T21:20:16.918Z"
   },
   {
    "duration": 7,
    "start_time": "2021-09-18T21:24:16.153Z"
   },
   {
    "duration": 7,
    "start_time": "2021-09-18T21:26:47.333Z"
   },
   {
    "duration": 8,
    "start_time": "2021-09-18T21:28:44.934Z"
   },
   {
    "duration": 7,
    "start_time": "2021-09-18T21:29:31.482Z"
   },
   {
    "duration": 7,
    "start_time": "2021-09-18T21:41:19.581Z"
   },
   {
    "duration": 8,
    "start_time": "2021-09-18T21:42:22.539Z"
   },
   {
    "duration": 7,
    "start_time": "2021-09-18T21:44:26.529Z"
   },
   {
    "duration": 8,
    "start_time": "2021-09-18T21:46:12.817Z"
   },
   {
    "duration": 316,
    "start_time": "2021-09-18T21:48:52.934Z"
   },
   {
    "duration": 13,
    "start_time": "2021-09-18T21:48:53.253Z"
   },
   {
    "duration": 235,
    "start_time": "2021-09-18T21:48:53.270Z"
   },
   {
    "duration": 17,
    "start_time": "2021-09-18T21:48:53.508Z"
   },
   {
    "duration": 134,
    "start_time": "2021-09-18T21:48:53.527Z"
   },
   {
    "duration": 9,
    "start_time": "2021-09-18T21:48:53.664Z"
   },
   {
    "duration": 26,
    "start_time": "2021-09-18T21:48:53.675Z"
   },
   {
    "duration": 20,
    "start_time": "2021-09-18T21:48:53.705Z"
   },
   {
    "duration": 39,
    "start_time": "2021-09-18T21:48:53.728Z"
   },
   {
    "duration": 15,
    "start_time": "2021-09-18T21:48:53.769Z"
   },
   {
    "duration": 9,
    "start_time": "2021-09-18T21:48:53.786Z"
   },
   {
    "duration": 20,
    "start_time": "2021-09-18T21:48:53.797Z"
   },
   {
    "duration": 6,
    "start_time": "2021-09-18T21:48:53.820Z"
   },
   {
    "duration": 9,
    "start_time": "2021-09-18T21:48:53.828Z"
   },
   {
    "duration": 15,
    "start_time": "2021-09-18T21:48:53.840Z"
   },
   {
    "duration": 10,
    "start_time": "2021-09-18T21:48:53.858Z"
   },
   {
    "duration": 51,
    "start_time": "2021-09-18T21:48:53.870Z"
   },
   {
    "duration": 19,
    "start_time": "2021-09-18T21:48:53.924Z"
   },
   {
    "duration": 30,
    "start_time": "2021-09-18T21:48:53.946Z"
   },
   {
    "duration": 46,
    "start_time": "2021-09-18T21:48:53.978Z"
   },
   {
    "duration": 30,
    "start_time": "2021-09-18T21:48:54.027Z"
   },
   {
    "duration": 17,
    "start_time": "2021-09-18T21:48:54.060Z"
   },
   {
    "duration": 30,
    "start_time": "2021-09-18T21:48:54.118Z"
   },
   {
    "duration": 24,
    "start_time": "2021-09-18T21:48:54.154Z"
   },
   {
    "duration": 43,
    "start_time": "2021-09-18T21:48:54.181Z"
   },
   {
    "duration": 38,
    "start_time": "2021-09-18T21:48:54.227Z"
   },
   {
    "duration": 13,
    "start_time": "2021-09-18T21:48:54.267Z"
   },
   {
    "duration": 62,
    "start_time": "2021-09-18T21:48:54.283Z"
   },
   {
    "duration": 14,
    "start_time": "2021-09-18T21:48:54.347Z"
   },
   {
    "duration": 69,
    "start_time": "2021-09-18T21:48:54.364Z"
   },
   {
    "duration": 30,
    "start_time": "2021-09-18T21:48:54.436Z"
   },
   {
    "duration": 15,
    "start_time": "2021-09-18T21:48:54.469Z"
   },
   {
    "duration": 50,
    "start_time": "2021-09-18T21:48:54.486Z"
   },
   {
    "duration": 12,
    "start_time": "2021-09-18T21:48:54.538Z"
   },
   {
    "duration": 32,
    "start_time": "2021-09-18T21:48:54.552Z"
   },
   {
    "duration": 41,
    "start_time": "2021-09-18T21:48:54.586Z"
   },
   {
    "duration": 31,
    "start_time": "2021-09-18T21:48:54.629Z"
   },
   {
    "duration": 21,
    "start_time": "2021-09-18T21:48:54.662Z"
   },
   {
    "duration": 45,
    "start_time": "2021-09-18T21:48:54.686Z"
   },
   {
    "duration": 30,
    "start_time": "2021-09-18T21:48:54.734Z"
   },
   {
    "duration": 5,
    "start_time": "2021-09-18T21:48:54.767Z"
   },
   {
    "duration": 69,
    "start_time": "2021-09-18T21:48:54.775Z"
   },
   {
    "duration": 113,
    "start_time": "2021-09-18T21:48:54.846Z"
   },
   {
    "duration": 22,
    "start_time": "2021-09-18T21:48:54.962Z"
   },
   {
    "duration": 59,
    "start_time": "2021-09-18T21:48:54.986Z"
   },
   {
    "duration": 26,
    "start_time": "2021-09-18T21:48:55.048Z"
   },
   {
    "duration": 101,
    "start_time": "2021-09-18T21:48:55.076Z"
   },
   {
    "duration": 22,
    "start_time": "2021-09-18T21:48:55.180Z"
   },
   {
    "duration": 17,
    "start_time": "2021-09-18T21:48:55.204Z"
   },
   {
    "duration": 18,
    "start_time": "2021-09-18T21:48:55.223Z"
   },
   {
    "duration": 14,
    "start_time": "2021-09-18T21:48:55.243Z"
   },
   {
    "duration": 286,
    "start_time": "2021-09-18T21:48:55.259Z"
   },
   {
    "duration": 7,
    "start_time": "2021-09-18T21:48:55.548Z"
   },
   {
    "duration": 20,
    "start_time": "2021-09-18T21:48:55.557Z"
   },
   {
    "duration": 14,
    "start_time": "2021-09-18T21:48:55.579Z"
   },
   {
    "duration": 22,
    "start_time": "2021-09-18T21:48:55.595Z"
   },
   {
    "duration": 302,
    "start_time": "2021-09-18T21:48:55.619Z"
   },
   {
    "duration": 7,
    "start_time": "2021-09-18T21:48:55.923Z"
   },
   {
    "duration": 16,
    "start_time": "2021-09-18T21:48:55.932Z"
   },
   {
    "duration": 20,
    "start_time": "2021-09-18T21:48:55.950Z"
   },
   {
    "duration": 141,
    "start_time": "2021-09-18T21:48:55.972Z"
   },
   {
    "duration": 14,
    "start_time": "2021-09-18T21:48:56.116Z"
   },
   {
    "duration": 46,
    "start_time": "2021-09-18T21:48:56.132Z"
   },
   {
    "duration": 37,
    "start_time": "2021-09-18T21:48:56.180Z"
   },
   {
    "duration": 96,
    "start_time": "2021-09-18T21:48:56.220Z"
   },
   {
    "duration": 17,
    "start_time": "2021-09-18T21:48:56.319Z"
   },
   {
    "duration": 84,
    "start_time": "2021-09-18T21:48:56.339Z"
   },
   {
    "duration": 128,
    "start_time": "2021-09-18T21:48:56.432Z"
   },
   {
    "duration": 6,
    "start_time": "2021-09-18T21:48:56.564Z"
   },
   {
    "duration": 24,
    "start_time": "2021-09-18T21:48:56.572Z"
   },
   {
    "duration": 16,
    "start_time": "2021-09-18T21:48:56.598Z"
   },
   {
    "duration": 316,
    "start_time": "2021-09-18T21:48:56.617Z"
   },
   {
    "duration": 7,
    "start_time": "2021-09-18T21:48:56.935Z"
   },
   {
    "duration": 9,
    "start_time": "2021-09-18T21:48:56.944Z"
   },
   {
    "duration": 7,
    "start_time": "2021-09-18T21:48:56.955Z"
   },
   {
    "duration": 8,
    "start_time": "2021-09-18T21:48:56.964Z"
   },
   {
    "duration": 343,
    "start_time": "2021-09-18T21:48:56.975Z"
   },
   {
    "duration": 7,
    "start_time": "2021-09-18T21:48:57.321Z"
   },
   {
    "duration": 19,
    "start_time": "2021-09-18T21:48:57.330Z"
   },
   {
    "duration": 14,
    "start_time": "2021-09-18T21:48:57.351Z"
   },
   {
    "duration": 91,
    "start_time": "2021-09-18T21:48:57.368Z"
   },
   {
    "duration": 16,
    "start_time": "2021-09-18T21:48:57.461Z"
   },
   {
    "duration": 67,
    "start_time": "2021-09-18T21:48:57.479Z"
   },
   {
    "duration": 84,
    "start_time": "2021-09-18T21:48:57.549Z"
   },
   {
    "duration": 5,
    "start_time": "2021-09-18T21:48:57.635Z"
   },
   {
    "duration": 8,
    "start_time": "2021-09-18T21:48:57.642Z"
   },
   {
    "duration": 6,
    "start_time": "2021-09-18T21:48:57.652Z"
   },
   {
    "duration": 302,
    "start_time": "2021-09-18T21:48:57.660Z"
   },
   {
    "duration": 6,
    "start_time": "2021-09-18T21:48:57.965Z"
   },
   {
    "duration": 11,
    "start_time": "2021-09-18T21:48:57.973Z"
   },
   {
    "duration": 30,
    "start_time": "2021-09-18T21:48:57.987Z"
   },
   {
    "duration": 6,
    "start_time": "2021-09-18T21:48:58.020Z"
   },
   {
    "duration": 340,
    "start_time": "2021-09-18T21:48:58.028Z"
   },
   {
    "duration": 7,
    "start_time": "2021-09-18T21:48:58.370Z"
   },
   {
    "duration": 49,
    "start_time": "2021-09-18T21:48:58.379Z"
   },
   {
    "duration": 29,
    "start_time": "2021-09-18T21:48:58.430Z"
   },
   {
    "duration": 5,
    "start_time": "2021-09-18T21:48:58.461Z"
   },
   {
    "duration": 21,
    "start_time": "2021-09-18T21:48:58.468Z"
   },
   {
    "duration": 26,
    "start_time": "2021-09-18T21:48:58.491Z"
   },
   {
    "duration": 12,
    "start_time": "2021-09-18T21:48:58.520Z"
   },
   {
    "duration": 55,
    "start_time": "2021-09-18T21:48:58.534Z"
   },
   {
    "duration": 5,
    "start_time": "2021-09-18T21:48:58.591Z"
   },
   {
    "duration": 56,
    "start_time": "2021-09-18T21:48:58.598Z"
   },
   {
    "duration": 5,
    "start_time": "2021-09-18T21:48:58.657Z"
   },
   {
    "duration": 13,
    "start_time": "2021-09-18T21:48:58.664Z"
   },
   {
    "duration": 15,
    "start_time": "2021-09-18T21:48:58.680Z"
   },
   {
    "duration": 35,
    "start_time": "2021-09-18T21:48:58.697Z"
   },
   {
    "duration": 28,
    "start_time": "2021-09-18T21:48:58.734Z"
   },
   {
    "duration": 5,
    "start_time": "2021-09-18T21:48:58.764Z"
   },
   {
    "duration": 13,
    "start_time": "2021-09-18T21:48:58.771Z"
   },
   {
    "duration": 35,
    "start_time": "2021-09-18T21:48:58.786Z"
   },
   {
    "duration": 12,
    "start_time": "2021-09-18T21:48:58.824Z"
   },
   {
    "duration": 744,
    "start_time": "2021-09-18T21:48:58.839Z"
   },
   {
    "duration": 740,
    "start_time": "2021-09-18T21:48:59.585Z"
   },
   {
    "duration": 40,
    "start_time": "2021-09-18T21:49:00.328Z"
   },
   {
    "duration": 6,
    "start_time": "2021-09-18T21:49:00.370Z"
   },
   {
    "duration": 39,
    "start_time": "2021-09-18T21:49:00.379Z"
   },
   {
    "duration": 13,
    "start_time": "2021-09-18T21:49:00.421Z"
   },
   {
    "duration": 32,
    "start_time": "2021-09-18T21:49:00.437Z"
   },
   {
    "duration": 44,
    "start_time": "2021-09-18T21:49:00.473Z"
   },
   {
    "duration": 25,
    "start_time": "2021-09-18T21:49:00.521Z"
   },
   {
    "duration": 15,
    "start_time": "2021-09-18T21:49:00.549Z"
   },
   {
    "duration": 255,
    "start_time": "2021-09-18T21:49:00.567Z"
   },
   {
    "duration": 257,
    "start_time": "2021-09-18T22:04:23.721Z"
   },
   {
    "duration": 42,
    "start_time": "2021-09-18T22:04:23.980Z"
   },
   {
    "duration": 220,
    "start_time": "2021-09-18T22:04:24.025Z"
   },
   {
    "duration": 12,
    "start_time": "2021-09-18T22:04:24.248Z"
   },
   {
    "duration": 143,
    "start_time": "2021-09-18T22:04:24.263Z"
   },
   {
    "duration": 17,
    "start_time": "2021-09-18T22:04:24.409Z"
   },
   {
    "duration": 37,
    "start_time": "2021-09-18T22:04:24.429Z"
   },
   {
    "duration": 13,
    "start_time": "2021-09-18T22:04:24.470Z"
   },
   {
    "duration": 42,
    "start_time": "2021-09-18T22:04:24.486Z"
   },
   {
    "duration": 19,
    "start_time": "2021-09-18T22:04:24.530Z"
   },
   {
    "duration": 6,
    "start_time": "2021-09-18T22:04:24.552Z"
   },
   {
    "duration": 7,
    "start_time": "2021-09-18T22:04:24.560Z"
   },
   {
    "duration": 47,
    "start_time": "2021-09-18T22:04:24.570Z"
   },
   {
    "duration": 6,
    "start_time": "2021-09-18T22:04:24.619Z"
   },
   {
    "duration": 8,
    "start_time": "2021-09-18T22:04:24.628Z"
   },
   {
    "duration": 9,
    "start_time": "2021-09-18T22:04:24.638Z"
   },
   {
    "duration": 20,
    "start_time": "2021-09-18T22:04:24.650Z"
   },
   {
    "duration": 62,
    "start_time": "2021-09-18T22:04:24.673Z"
   },
   {
    "duration": 32,
    "start_time": "2021-09-18T22:04:24.738Z"
   },
   {
    "duration": 46,
    "start_time": "2021-09-18T22:04:24.772Z"
   },
   {
    "duration": 29,
    "start_time": "2021-09-18T22:04:24.821Z"
   },
   {
    "duration": 17,
    "start_time": "2021-09-18T22:04:24.853Z"
   },
   {
    "duration": 68,
    "start_time": "2021-09-18T22:04:24.878Z"
   },
   {
    "duration": 26,
    "start_time": "2021-09-18T22:04:24.950Z"
   },
   {
    "duration": 44,
    "start_time": "2021-09-18T22:04:24.979Z"
   },
   {
    "duration": 36,
    "start_time": "2021-09-18T22:04:25.026Z"
   },
   {
    "duration": 13,
    "start_time": "2021-09-18T22:04:25.065Z"
   },
   {
    "duration": 64,
    "start_time": "2021-09-18T22:04:25.080Z"
   },
   {
    "duration": 14,
    "start_time": "2021-09-18T22:04:25.147Z"
   },
   {
    "duration": 69,
    "start_time": "2021-09-18T22:04:25.163Z"
   },
   {
    "duration": 32,
    "start_time": "2021-09-18T22:04:25.235Z"
   },
   {
    "duration": 15,
    "start_time": "2021-09-18T22:04:25.269Z"
   },
   {
    "duration": 49,
    "start_time": "2021-09-18T22:04:25.287Z"
   },
   {
    "duration": 11,
    "start_time": "2021-09-18T22:04:25.339Z"
   },
   {
    "duration": 26,
    "start_time": "2021-09-18T22:04:25.353Z"
   },
   {
    "duration": 36,
    "start_time": "2021-09-18T22:04:25.382Z"
   },
   {
    "duration": 31,
    "start_time": "2021-09-18T22:04:25.421Z"
   },
   {
    "duration": 21,
    "start_time": "2021-09-18T22:04:25.454Z"
   },
   {
    "duration": 14,
    "start_time": "2021-09-18T22:04:25.478Z"
   },
   {
    "duration": 31,
    "start_time": "2021-09-18T22:04:25.517Z"
   },
   {
    "duration": 5,
    "start_time": "2021-09-18T22:04:25.550Z"
   },
   {
    "duration": 70,
    "start_time": "2021-09-18T22:04:25.557Z"
   },
   {
    "duration": 96,
    "start_time": "2021-09-18T22:04:25.629Z"
   },
   {
    "duration": 18,
    "start_time": "2021-09-18T22:04:25.727Z"
   },
   {
    "duration": 32,
    "start_time": "2021-09-18T22:04:25.748Z"
   },
   {
    "duration": 52,
    "start_time": "2021-09-18T22:04:25.782Z"
   },
   {
    "duration": 99,
    "start_time": "2021-09-18T22:04:25.836Z"
   },
   {
    "duration": 22,
    "start_time": "2021-09-18T22:04:25.937Z"
   },
   {
    "duration": 7,
    "start_time": "2021-09-18T22:04:25.962Z"
   },
   {
    "duration": 9,
    "start_time": "2021-09-18T22:04:25.972Z"
   },
   {
    "duration": 8,
    "start_time": "2021-09-18T22:04:26.017Z"
   },
   {
    "duration": 292,
    "start_time": "2021-09-18T22:04:26.027Z"
   },
   {
    "duration": 6,
    "start_time": "2021-09-18T22:04:26.322Z"
   },
   {
    "duration": 15,
    "start_time": "2021-09-18T22:04:26.331Z"
   },
   {
    "duration": 6,
    "start_time": "2021-09-18T22:04:26.349Z"
   },
   {
    "duration": 7,
    "start_time": "2021-09-18T22:04:26.358Z"
   },
   {
    "duration": 327,
    "start_time": "2021-09-18T22:04:26.368Z"
   },
   {
    "duration": 19,
    "start_time": "2021-09-18T22:04:26.697Z"
   },
   {
    "duration": 4,
    "start_time": "2021-09-18T22:04:26.718Z"
   },
   {
    "duration": 17,
    "start_time": "2021-09-18T22:04:26.724Z"
   },
   {
    "duration": 138,
    "start_time": "2021-09-18T22:04:26.743Z"
   },
   {
    "duration": 15,
    "start_time": "2021-09-18T22:04:26.883Z"
   },
   {
    "duration": 48,
    "start_time": "2021-09-18T22:04:26.901Z"
   },
   {
    "duration": 20,
    "start_time": "2021-09-18T22:04:26.951Z"
   },
   {
    "duration": 113,
    "start_time": "2021-09-18T22:04:26.973Z"
   },
   {
    "duration": 18,
    "start_time": "2021-09-18T22:04:27.089Z"
   },
   {
    "duration": 74,
    "start_time": "2021-09-18T22:04:27.109Z"
   },
   {
    "duration": 138,
    "start_time": "2021-09-18T22:04:27.192Z"
   },
   {
    "duration": 7,
    "start_time": "2021-09-18T22:04:27.334Z"
   },
   {
    "duration": 10,
    "start_time": "2021-09-18T22:04:27.344Z"
   },
   {
    "duration": 8,
    "start_time": "2021-09-18T22:04:27.357Z"
   },
   {
    "duration": 329,
    "start_time": "2021-09-18T22:04:27.368Z"
   },
   {
    "duration": 6,
    "start_time": "2021-09-18T22:04:27.699Z"
   },
   {
    "duration": 5,
    "start_time": "2021-09-18T22:04:27.716Z"
   },
   {
    "duration": 7,
    "start_time": "2021-09-18T22:04:27.723Z"
   },
   {
    "duration": 8,
    "start_time": "2021-09-18T22:04:27.732Z"
   },
   {
    "duration": 324,
    "start_time": "2021-09-18T22:04:27.742Z"
   },
   {
    "duration": 7,
    "start_time": "2021-09-18T22:04:28.068Z"
   },
   {
    "duration": 38,
    "start_time": "2021-09-18T22:04:28.078Z"
   },
   {
    "duration": 14,
    "start_time": "2021-09-18T22:04:28.118Z"
   },
   {
    "duration": 59,
    "start_time": "2021-09-18T22:04:28.134Z"
   },
   {
    "duration": 31,
    "start_time": "2021-09-18T22:04:28.196Z"
   },
   {
    "duration": 60,
    "start_time": "2021-09-18T22:04:28.229Z"
   },
   {
    "duration": 89,
    "start_time": "2021-09-18T22:04:28.291Z"
   },
   {
    "duration": 6,
    "start_time": "2021-09-18T22:04:28.382Z"
   },
   {
    "duration": 28,
    "start_time": "2021-09-18T22:04:28.390Z"
   },
   {
    "duration": 10,
    "start_time": "2021-09-18T22:04:28.421Z"
   },
   {
    "duration": 288,
    "start_time": "2021-09-18T22:04:28.433Z"
   },
   {
    "duration": 7,
    "start_time": "2021-09-18T22:04:28.724Z"
   },
   {
    "duration": 10,
    "start_time": "2021-09-18T22:04:28.734Z"
   },
   {
    "duration": 12,
    "start_time": "2021-09-18T22:04:28.746Z"
   },
   {
    "duration": 12,
    "start_time": "2021-09-18T22:04:28.761Z"
   },
   {
    "duration": 322,
    "start_time": "2021-09-18T22:04:28.776Z"
   },
   {
    "duration": 7,
    "start_time": "2021-09-18T22:04:29.101Z"
   },
   {
    "duration": 36,
    "start_time": "2021-09-18T22:04:29.117Z"
   },
   {
    "duration": 30,
    "start_time": "2021-09-18T22:04:29.156Z"
   },
   {
    "duration": 30,
    "start_time": "2021-09-18T22:04:29.188Z"
   },
   {
    "duration": 9,
    "start_time": "2021-09-18T22:04:29.220Z"
   },
   {
    "duration": 18,
    "start_time": "2021-09-18T22:04:29.231Z"
   },
   {
    "duration": 14,
    "start_time": "2021-09-18T22:04:29.251Z"
   },
   {
    "duration": 54,
    "start_time": "2021-09-18T22:04:29.268Z"
   },
   {
    "duration": 5,
    "start_time": "2021-09-18T22:04:29.325Z"
   },
   {
    "duration": 55,
    "start_time": "2021-09-18T22:04:29.332Z"
   },
   {
    "duration": 6,
    "start_time": "2021-09-18T22:04:29.389Z"
   },
   {
    "duration": 7,
    "start_time": "2021-09-18T22:04:29.416Z"
   },
   {
    "duration": 10,
    "start_time": "2021-09-18T22:04:29.425Z"
   },
   {
    "duration": 42,
    "start_time": "2021-09-18T22:04:29.437Z"
   },
   {
    "duration": 28,
    "start_time": "2021-09-18T22:04:29.481Z"
   },
   {
    "duration": 8,
    "start_time": "2021-09-18T22:04:29.515Z"
   },
   {
    "duration": 19,
    "start_time": "2021-09-18T22:04:29.525Z"
   },
   {
    "duration": 13,
    "start_time": "2021-09-18T22:04:29.546Z"
   },
   {
    "duration": 10,
    "start_time": "2021-09-18T22:04:29.562Z"
   },
   {
    "duration": 728,
    "start_time": "2021-09-18T22:04:29.574Z"
   },
   {
    "duration": 740,
    "start_time": "2021-09-18T22:04:30.305Z"
   },
   {
    "duration": 38,
    "start_time": "2021-09-18T22:04:31.048Z"
   },
   {
    "duration": 27,
    "start_time": "2021-09-18T22:04:31.089Z"
   },
   {
    "duration": 6,
    "start_time": "2021-09-18T22:04:31.119Z"
   },
   {
    "duration": 21,
    "start_time": "2021-09-18T22:04:31.127Z"
   },
   {
    "duration": 42,
    "start_time": "2021-09-18T22:04:31.150Z"
   },
   {
    "duration": 22,
    "start_time": "2021-09-18T22:04:31.195Z"
   },
   {
    "duration": 5,
    "start_time": "2021-09-18T22:04:31.219Z"
   },
   {
    "duration": 10,
    "start_time": "2021-09-18T22:04:31.226Z"
   },
   {
    "duration": 15,
    "start_time": "2021-09-18T22:04:31.238Z"
   },
   {
    "duration": 1891,
    "start_time": "2021-09-18T22:10:08.916Z"
   },
   {
    "duration": 19,
    "start_time": "2021-09-18T22:10:10.817Z"
   },
   {
    "duration": 209,
    "start_time": "2021-09-18T22:10:10.840Z"
   },
   {
    "duration": 17,
    "start_time": "2021-09-18T22:10:11.052Z"
   },
   {
    "duration": 149,
    "start_time": "2021-09-18T22:10:11.072Z"
   },
   {
    "duration": 11,
    "start_time": "2021-09-18T22:10:11.223Z"
   },
   {
    "duration": 33,
    "start_time": "2021-09-18T22:10:11.237Z"
   },
   {
    "duration": 17,
    "start_time": "2021-09-18T22:10:11.274Z"
   },
   {
    "duration": 45,
    "start_time": "2021-09-18T22:10:11.294Z"
   },
   {
    "duration": 19,
    "start_time": "2021-09-18T22:10:11.342Z"
   },
   {
    "duration": 27,
    "start_time": "2021-09-18T22:10:11.364Z"
   },
   {
    "duration": 24,
    "start_time": "2021-09-18T22:10:11.394Z"
   },
   {
    "duration": 16,
    "start_time": "2021-09-18T22:10:11.421Z"
   },
   {
    "duration": 39,
    "start_time": "2021-09-18T22:10:11.440Z"
   },
   {
    "duration": 37,
    "start_time": "2021-09-18T22:10:11.482Z"
   },
   {
    "duration": 17,
    "start_time": "2021-09-18T22:10:11.521Z"
   },
   {
    "duration": 42,
    "start_time": "2021-09-18T22:10:11.540Z"
   },
   {
    "duration": 20,
    "start_time": "2021-09-18T22:10:11.584Z"
   },
   {
    "duration": 38,
    "start_time": "2021-09-18T22:10:11.606Z"
   },
   {
    "duration": 14,
    "start_time": "2021-09-18T22:10:11.647Z"
   },
   {
    "duration": 57,
    "start_time": "2021-09-18T22:10:11.664Z"
   },
   {
    "duration": 16,
    "start_time": "2021-09-18T22:10:11.724Z"
   },
   {
    "duration": 54,
    "start_time": "2021-09-18T22:10:11.746Z"
   },
   {
    "duration": 24,
    "start_time": "2021-09-18T22:10:11.804Z"
   },
   {
    "duration": 26,
    "start_time": "2021-09-18T22:10:11.830Z"
   },
   {
    "duration": 49,
    "start_time": "2021-09-18T22:10:11.859Z"
   },
   {
    "duration": 17,
    "start_time": "2021-09-18T22:10:11.911Z"
   },
   {
    "duration": 60,
    "start_time": "2021-09-18T22:10:11.931Z"
   },
   {
    "duration": 24,
    "start_time": "2021-09-18T22:10:11.994Z"
   },
   {
    "duration": 50,
    "start_time": "2021-09-18T22:10:12.020Z"
   },
   {
    "duration": 57,
    "start_time": "2021-09-18T22:10:12.072Z"
   },
   {
    "duration": 17,
    "start_time": "2021-09-18T22:10:12.132Z"
   },
   {
    "duration": 39,
    "start_time": "2021-09-18T22:10:12.151Z"
   },
   {
    "duration": 26,
    "start_time": "2021-09-18T22:10:12.192Z"
   },
   {
    "duration": 46,
    "start_time": "2021-09-18T22:10:12.220Z"
   },
   {
    "duration": 16,
    "start_time": "2021-09-18T22:10:12.269Z"
   },
   {
    "duration": 49,
    "start_time": "2021-09-18T22:10:12.288Z"
   },
   {
    "duration": 21,
    "start_time": "2021-09-18T22:10:12.340Z"
   },
   {
    "duration": 21,
    "start_time": "2021-09-18T22:10:12.363Z"
   },
   {
    "duration": 63,
    "start_time": "2021-09-18T22:10:12.386Z"
   },
   {
    "duration": 4,
    "start_time": "2021-09-18T22:10:12.452Z"
   },
   {
    "duration": 42,
    "start_time": "2021-09-18T22:10:12.458Z"
   },
   {
    "duration": 104,
    "start_time": "2021-09-18T22:10:12.502Z"
   },
   {
    "duration": 18,
    "start_time": "2021-09-18T22:10:12.608Z"
   },
   {
    "duration": 41,
    "start_time": "2021-09-18T22:10:12.628Z"
   },
   {
    "duration": 51,
    "start_time": "2021-09-18T22:10:12.671Z"
   },
   {
    "duration": 95,
    "start_time": "2021-09-18T22:10:12.725Z"
   },
   {
    "duration": 21,
    "start_time": "2021-09-18T22:10:12.822Z"
   },
   {
    "duration": 34,
    "start_time": "2021-09-18T22:10:12.846Z"
   },
   {
    "duration": 33,
    "start_time": "2021-09-18T22:10:12.884Z"
   },
   {
    "duration": 32,
    "start_time": "2021-09-18T22:10:12.920Z"
   },
   {
    "duration": 290,
    "start_time": "2021-09-18T22:10:12.955Z"
   },
   {
    "duration": 7,
    "start_time": "2021-09-18T22:10:13.248Z"
   },
   {
    "duration": 8,
    "start_time": "2021-09-18T22:10:13.258Z"
   },
   {
    "duration": 8,
    "start_time": "2021-09-18T22:10:13.269Z"
   },
   {
    "duration": 12,
    "start_time": "2021-09-18T22:10:13.316Z"
   },
   {
    "duration": 309,
    "start_time": "2021-09-18T22:10:13.331Z"
   },
   {
    "duration": 8,
    "start_time": "2021-09-18T22:10:13.642Z"
   },
   {
    "duration": 18,
    "start_time": "2021-09-18T22:10:13.653Z"
   },
   {
    "duration": 21,
    "start_time": "2021-09-18T22:10:13.673Z"
   },
   {
    "duration": 227,
    "start_time": "2021-09-18T22:10:13.697Z"
   },
   {
    "duration": 22,
    "start_time": "2021-09-18T22:10:13.926Z"
   },
   {
    "duration": 72,
    "start_time": "2021-09-18T22:10:13.950Z"
   },
   {
    "duration": 29,
    "start_time": "2021-09-18T22:10:14.026Z"
   },
   {
    "duration": 189,
    "start_time": "2021-09-18T22:10:14.058Z"
   },
   {
    "duration": 25,
    "start_time": "2021-09-18T22:10:14.250Z"
   },
   {
    "duration": 109,
    "start_time": "2021-09-18T22:10:14.278Z"
   },
   {
    "duration": 190,
    "start_time": "2021-09-18T22:10:14.401Z"
   },
   {
    "duration": 6,
    "start_time": "2021-09-18T22:10:14.595Z"
   },
   {
    "duration": 17,
    "start_time": "2021-09-18T22:10:14.603Z"
   },
   {
    "duration": 11,
    "start_time": "2021-09-18T22:10:14.622Z"
   },
   {
    "duration": 333,
    "start_time": "2021-09-18T22:10:14.636Z"
   },
   {
    "duration": 7,
    "start_time": "2021-09-18T22:10:14.971Z"
   },
   {
    "duration": 7,
    "start_time": "2021-09-18T22:10:14.981Z"
   },
   {
    "duration": 32,
    "start_time": "2021-09-18T22:10:14.990Z"
   },
   {
    "duration": 18,
    "start_time": "2021-09-18T22:10:15.025Z"
   },
   {
    "duration": 337,
    "start_time": "2021-09-18T22:10:15.045Z"
   },
   {
    "duration": 6,
    "start_time": "2021-09-18T22:10:15.384Z"
   },
   {
    "duration": 34,
    "start_time": "2021-09-18T22:10:15.393Z"
   },
   {
    "duration": 14,
    "start_time": "2021-09-18T22:10:15.429Z"
   },
   {
    "duration": 78,
    "start_time": "2021-09-18T22:10:15.445Z"
   },
   {
    "duration": 15,
    "start_time": "2021-09-18T22:10:15.525Z"
   },
   {
    "duration": 76,
    "start_time": "2021-09-18T22:10:15.542Z"
   },
   {
    "duration": 71,
    "start_time": "2021-09-18T22:10:15.620Z"
   },
   {
    "duration": 23,
    "start_time": "2021-09-18T22:10:15.694Z"
   },
   {
    "duration": 6,
    "start_time": "2021-09-18T22:10:15.719Z"
   },
   {
    "duration": 8,
    "start_time": "2021-09-18T22:10:15.727Z"
   },
   {
    "duration": 301,
    "start_time": "2021-09-18T22:10:15.737Z"
   },
   {
    "duration": 7,
    "start_time": "2021-09-18T22:10:16.040Z"
   },
   {
    "duration": 8,
    "start_time": "2021-09-18T22:10:16.049Z"
   },
   {
    "duration": 18,
    "start_time": "2021-09-18T22:10:16.059Z"
   },
   {
    "duration": 9,
    "start_time": "2021-09-18T22:10:16.080Z"
   },
   {
    "duration": 319,
    "start_time": "2021-09-18T22:10:16.091Z"
   },
   {
    "duration": 7,
    "start_time": "2021-09-18T22:10:16.413Z"
   },
   {
    "duration": 36,
    "start_time": "2021-09-18T22:10:16.422Z"
   },
   {
    "duration": 58,
    "start_time": "2021-09-18T22:10:16.460Z"
   },
   {
    "duration": 5,
    "start_time": "2021-09-18T22:10:16.520Z"
   },
   {
    "duration": 12,
    "start_time": "2021-09-18T22:10:16.527Z"
   },
   {
    "duration": 11,
    "start_time": "2021-09-18T22:10:16.541Z"
   },
   {
    "duration": 7,
    "start_time": "2021-09-18T22:10:16.555Z"
   },
   {
    "duration": 64,
    "start_time": "2021-09-18T22:10:16.565Z"
   },
   {
    "duration": 5,
    "start_time": "2021-09-18T22:10:16.631Z"
   },
   {
    "duration": 49,
    "start_time": "2021-09-18T22:10:16.638Z"
   },
   {
    "duration": 5,
    "start_time": "2021-09-18T22:10:16.689Z"
   },
   {
    "duration": 6,
    "start_time": "2021-09-18T22:10:16.718Z"
   },
   {
    "duration": 7,
    "start_time": "2021-09-18T22:10:16.726Z"
   },
   {
    "duration": 27,
    "start_time": "2021-09-18T22:10:16.735Z"
   },
   {
    "duration": 22,
    "start_time": "2021-09-18T22:10:16.765Z"
   },
   {
    "duration": 8,
    "start_time": "2021-09-18T22:10:16.817Z"
   },
   {
    "duration": 9,
    "start_time": "2021-09-18T22:10:16.828Z"
   },
   {
    "duration": 9,
    "start_time": "2021-09-18T22:10:16.839Z"
   },
   {
    "duration": 9,
    "start_time": "2021-09-18T22:10:16.851Z"
   },
   {
    "duration": 770,
    "start_time": "2021-09-18T22:10:16.863Z"
   },
   {
    "duration": 797,
    "start_time": "2021-09-18T22:10:17.636Z"
   },
   {
    "duration": 39,
    "start_time": "2021-09-18T22:10:18.435Z"
   },
   {
    "duration": 9,
    "start_time": "2021-09-18T22:10:18.476Z"
   },
   {
    "duration": 30,
    "start_time": "2021-09-18T22:10:18.487Z"
   },
   {
    "duration": 29,
    "start_time": "2021-09-18T22:10:18.520Z"
   },
   {
    "duration": 43,
    "start_time": "2021-09-18T22:10:18.551Z"
   },
   {
    "duration": 9,
    "start_time": "2021-09-18T22:10:18.596Z"
   },
   {
    "duration": 31,
    "start_time": "2021-09-18T22:10:18.607Z"
   },
   {
    "duration": 11,
    "start_time": "2021-09-18T22:10:18.641Z"
   },
   {
    "duration": 25,
    "start_time": "2021-09-18T22:10:18.655Z"
   },
   {
    "duration": 1631,
    "start_time": "2021-09-18T22:13:18.979Z"
   },
   {
    "duration": 15,
    "start_time": "2021-09-18T22:13:20.613Z"
   },
   {
    "duration": 210,
    "start_time": "2021-09-18T22:13:20.631Z"
   },
   {
    "duration": 12,
    "start_time": "2021-09-18T22:13:20.844Z"
   },
   {
    "duration": 149,
    "start_time": "2021-09-18T22:13:20.858Z"
   },
   {
    "duration": 12,
    "start_time": "2021-09-18T22:13:21.009Z"
   },
   {
    "duration": 26,
    "start_time": "2021-09-18T22:13:21.024Z"
   },
   {
    "duration": 13,
    "start_time": "2021-09-18T22:13:21.054Z"
   },
   {
    "duration": 56,
    "start_time": "2021-09-18T22:13:21.070Z"
   },
   {
    "duration": 20,
    "start_time": "2021-09-18T22:13:21.129Z"
   },
   {
    "duration": 18,
    "start_time": "2021-09-18T22:13:21.151Z"
   },
   {
    "duration": 12,
    "start_time": "2021-09-18T22:13:21.172Z"
   },
   {
    "duration": 16,
    "start_time": "2021-09-18T22:13:21.187Z"
   },
   {
    "duration": 19,
    "start_time": "2021-09-18T22:13:21.205Z"
   },
   {
    "duration": 16,
    "start_time": "2021-09-18T22:13:21.226Z"
   },
   {
    "duration": 14,
    "start_time": "2021-09-18T22:13:21.245Z"
   },
   {
    "duration": 28,
    "start_time": "2021-09-18T22:13:21.261Z"
   },
   {
    "duration": 30,
    "start_time": "2021-09-18T22:13:21.292Z"
   },
   {
    "duration": 40,
    "start_time": "2021-09-18T22:13:21.324Z"
   },
   {
    "duration": 13,
    "start_time": "2021-09-18T22:13:21.367Z"
   },
   {
    "duration": 63,
    "start_time": "2021-09-18T22:13:21.383Z"
   },
   {
    "duration": 15,
    "start_time": "2021-09-18T22:13:21.449Z"
   },
   {
    "duration": 53,
    "start_time": "2021-09-18T22:13:21.471Z"
   },
   {
    "duration": 24,
    "start_time": "2021-09-18T22:13:21.527Z"
   },
   {
    "duration": 15,
    "start_time": "2021-09-18T22:13:21.553Z"
   },
   {
    "duration": 68,
    "start_time": "2021-09-18T22:13:21.570Z"
   },
   {
    "duration": 13,
    "start_time": "2021-09-18T22:13:21.640Z"
   },
   {
    "duration": 62,
    "start_time": "2021-09-18T22:13:21.655Z"
   },
   {
    "duration": 15,
    "start_time": "2021-09-18T22:13:21.719Z"
   },
   {
    "duration": 44,
    "start_time": "2021-09-18T22:13:21.737Z"
   },
   {
    "duration": 50,
    "start_time": "2021-09-18T22:13:21.784Z"
   },
   {
    "duration": 15,
    "start_time": "2021-09-18T22:13:21.837Z"
   },
   {
    "duration": 21,
    "start_time": "2021-09-18T22:13:21.855Z"
   },
   {
    "duration": 43,
    "start_time": "2021-09-18T22:13:21.879Z"
   },
   {
    "duration": 28,
    "start_time": "2021-09-18T22:13:21.924Z"
   },
   {
    "duration": 13,
    "start_time": "2021-09-18T22:13:21.955Z"
   },
   {
    "duration": 59,
    "start_time": "2021-09-18T22:13:21.970Z"
   },
   {
    "duration": 21,
    "start_time": "2021-09-18T22:13:22.031Z"
   },
   {
    "duration": 14,
    "start_time": "2021-09-18T22:13:22.055Z"
   },
   {
    "duration": 65,
    "start_time": "2021-09-18T22:13:22.071Z"
   },
   {
    "duration": 4,
    "start_time": "2021-09-18T22:13:22.139Z"
   },
   {
    "duration": 41,
    "start_time": "2021-09-18T22:13:22.145Z"
   },
   {
    "duration": 107,
    "start_time": "2021-09-18T22:13:22.189Z"
   },
   {
    "duration": 22,
    "start_time": "2021-09-18T22:13:22.298Z"
   },
   {
    "duration": 36,
    "start_time": "2021-09-18T22:13:22.323Z"
   },
   {
    "duration": 26,
    "start_time": "2021-09-18T22:13:22.361Z"
   },
   {
    "duration": 99,
    "start_time": "2021-09-18T22:13:22.417Z"
   },
   {
    "duration": 23,
    "start_time": "2021-09-18T22:13:22.519Z"
   },
   {
    "duration": 8,
    "start_time": "2021-09-18T22:13:22.545Z"
   },
   {
    "duration": 7,
    "start_time": "2021-09-18T22:13:22.556Z"
   },
   {
    "duration": 52,
    "start_time": "2021-09-18T22:13:22.566Z"
   },
   {
    "duration": 290,
    "start_time": "2021-09-18T22:13:22.621Z"
   },
   {
    "duration": 8,
    "start_time": "2021-09-18T22:13:22.917Z"
   },
   {
    "duration": 8,
    "start_time": "2021-09-18T22:13:22.928Z"
   },
   {
    "duration": 8,
    "start_time": "2021-09-18T22:13:22.939Z"
   },
   {
    "duration": 9,
    "start_time": "2021-09-18T22:13:22.949Z"
   },
   {
    "duration": 363,
    "start_time": "2021-09-18T22:13:22.961Z"
   },
   {
    "duration": 8,
    "start_time": "2021-09-18T22:13:23.327Z"
   },
   {
    "duration": 5,
    "start_time": "2021-09-18T22:13:23.338Z"
   },
   {
    "duration": 5,
    "start_time": "2021-09-18T22:13:23.345Z"
   },
   {
    "duration": 153,
    "start_time": "2021-09-18T22:13:23.353Z"
   },
   {
    "duration": 15,
    "start_time": "2021-09-18T22:13:23.508Z"
   },
   {
    "duration": 44,
    "start_time": "2021-09-18T22:13:23.525Z"
   },
   {
    "duration": 45,
    "start_time": "2021-09-18T22:13:23.571Z"
   },
   {
    "duration": 86,
    "start_time": "2021-09-18T22:13:23.619Z"
   },
   {
    "duration": 18,
    "start_time": "2021-09-18T22:13:23.715Z"
   },
   {
    "duration": 84,
    "start_time": "2021-09-18T22:13:23.735Z"
   },
   {
    "duration": 128,
    "start_time": "2021-09-18T22:13:23.829Z"
   },
   {
    "duration": 6,
    "start_time": "2021-09-18T22:13:23.961Z"
   },
   {
    "duration": 10,
    "start_time": "2021-09-18T22:13:23.970Z"
   },
   {
    "duration": 34,
    "start_time": "2021-09-18T22:13:23.982Z"
   },
   {
    "duration": 330,
    "start_time": "2021-09-18T22:13:24.019Z"
   },
   {
    "duration": 7,
    "start_time": "2021-09-18T22:13:24.352Z"
   },
   {
    "duration": 8,
    "start_time": "2021-09-18T22:13:24.361Z"
   },
   {
    "duration": 7,
    "start_time": "2021-09-18T22:13:24.372Z"
   },
   {
    "duration": 38,
    "start_time": "2021-09-18T22:13:24.381Z"
   },
   {
    "duration": 316,
    "start_time": "2021-09-18T22:13:24.421Z"
   },
   {
    "duration": 7,
    "start_time": "2021-09-18T22:13:24.739Z"
   },
   {
    "duration": 39,
    "start_time": "2021-09-18T22:13:24.748Z"
   },
   {
    "duration": 19,
    "start_time": "2021-09-18T22:13:24.789Z"
   },
   {
    "duration": 82,
    "start_time": "2021-09-18T22:13:24.811Z"
   },
   {
    "duration": 14,
    "start_time": "2021-09-18T22:13:24.896Z"
   },
   {
    "duration": 64,
    "start_time": "2021-09-18T22:13:24.913Z"
   },
   {
    "duration": 98,
    "start_time": "2021-09-18T22:13:24.980Z"
   },
   {
    "duration": 6,
    "start_time": "2021-09-18T22:13:25.081Z"
   },
   {
    "duration": 16,
    "start_time": "2021-09-18T22:13:25.089Z"
   },
   {
    "duration": 6,
    "start_time": "2021-09-18T22:13:25.116Z"
   },
   {
    "duration": 294,
    "start_time": "2021-09-18T22:13:25.124Z"
   },
   {
    "duration": 7,
    "start_time": "2021-09-18T22:13:25.421Z"
   },
   {
    "duration": 15,
    "start_time": "2021-09-18T22:13:25.430Z"
   },
   {
    "duration": 7,
    "start_time": "2021-09-18T22:13:25.448Z"
   },
   {
    "duration": 8,
    "start_time": "2021-09-18T22:13:25.457Z"
   },
   {
    "duration": 317,
    "start_time": "2021-09-18T22:13:25.467Z"
   },
   {
    "duration": 7,
    "start_time": "2021-09-18T22:13:25.787Z"
   },
   {
    "duration": 48,
    "start_time": "2021-09-18T22:13:25.796Z"
   },
   {
    "duration": 29,
    "start_time": "2021-09-18T22:13:25.847Z"
   },
   {
    "duration": 6,
    "start_time": "2021-09-18T22:13:25.878Z"
   },
   {
    "duration": 4,
    "start_time": "2021-09-18T22:13:25.917Z"
   },
   {
    "duration": 17,
    "start_time": "2021-09-18T22:13:25.923Z"
   },
   {
    "duration": 19,
    "start_time": "2021-09-18T22:13:25.942Z"
   },
   {
    "duration": 56,
    "start_time": "2021-09-18T22:13:25.963Z"
   },
   {
    "duration": 11,
    "start_time": "2021-09-18T22:13:26.022Z"
   },
   {
    "duration": 60,
    "start_time": "2021-09-18T22:13:26.035Z"
   },
   {
    "duration": 6,
    "start_time": "2021-09-18T22:13:26.097Z"
   },
   {
    "duration": 24,
    "start_time": "2021-09-18T22:13:26.105Z"
   },
   {
    "duration": 15,
    "start_time": "2021-09-18T22:13:26.131Z"
   },
   {
    "duration": 31,
    "start_time": "2021-09-18T22:13:26.148Z"
   },
   {
    "duration": 22,
    "start_time": "2021-09-18T22:13:26.181Z"
   },
   {
    "duration": 12,
    "start_time": "2021-09-18T22:13:26.206Z"
   },
   {
    "duration": 14,
    "start_time": "2021-09-18T22:13:26.220Z"
   },
   {
    "duration": 10,
    "start_time": "2021-09-18T22:13:26.236Z"
   },
   {
    "duration": 17,
    "start_time": "2021-09-18T22:13:26.249Z"
   },
   {
    "duration": 761,
    "start_time": "2021-09-18T22:13:26.268Z"
   },
   {
    "duration": 791,
    "start_time": "2021-09-18T22:13:27.031Z"
   },
   {
    "duration": 38,
    "start_time": "2021-09-18T22:13:27.824Z"
   },
   {
    "duration": 5,
    "start_time": "2021-09-18T22:13:27.864Z"
   },
   {
    "duration": 10,
    "start_time": "2021-09-18T22:13:27.871Z"
   },
   {
    "duration": 36,
    "start_time": "2021-09-18T22:13:27.884Z"
   },
   {
    "duration": 34,
    "start_time": "2021-09-18T22:13:27.922Z"
   },
   {
    "duration": 7,
    "start_time": "2021-09-18T22:13:27.958Z"
   },
   {
    "duration": 15,
    "start_time": "2021-09-18T22:13:27.968Z"
   },
   {
    "duration": 12,
    "start_time": "2021-09-18T22:13:27.986Z"
   },
   {
    "duration": 8,
    "start_time": "2021-09-18T22:13:28.017Z"
   },
   {
    "duration": 354,
    "start_time": "2021-09-18T22:15:48.528Z"
   },
   {
    "duration": 36,
    "start_time": "2021-09-18T22:15:48.886Z"
   },
   {
    "duration": 308,
    "start_time": "2021-09-18T22:15:48.927Z"
   },
   {
    "duration": 12,
    "start_time": "2021-09-18T22:15:49.237Z"
   },
   {
    "duration": 134,
    "start_time": "2021-09-18T22:15:49.251Z"
   },
   {
    "duration": 10,
    "start_time": "2021-09-18T22:15:49.388Z"
   },
   {
    "duration": 30,
    "start_time": "2021-09-18T22:15:49.416Z"
   },
   {
    "duration": 12,
    "start_time": "2021-09-18T22:15:49.450Z"
   },
   {
    "duration": 46,
    "start_time": "2021-09-18T22:15:49.466Z"
   },
   {
    "duration": 16,
    "start_time": "2021-09-18T22:15:49.514Z"
   },
   {
    "duration": 10,
    "start_time": "2021-09-18T22:15:49.532Z"
   },
   {
    "duration": 7,
    "start_time": "2021-09-18T22:15:49.544Z"
   },
   {
    "duration": 6,
    "start_time": "2021-09-18T22:15:49.553Z"
   },
   {
    "duration": 6,
    "start_time": "2021-09-18T22:15:49.561Z"
   },
   {
    "duration": 49,
    "start_time": "2021-09-18T22:15:49.569Z"
   },
   {
    "duration": 8,
    "start_time": "2021-09-18T22:15:49.620Z"
   },
   {
    "duration": 17,
    "start_time": "2021-09-18T22:15:49.630Z"
   },
   {
    "duration": 66,
    "start_time": "2021-09-18T22:15:49.650Z"
   },
   {
    "duration": 44,
    "start_time": "2021-09-18T22:15:49.720Z"
   },
   {
    "duration": 19,
    "start_time": "2021-09-18T22:15:49.767Z"
   },
   {
    "duration": 61,
    "start_time": "2021-09-18T22:15:49.789Z"
   },
   {
    "duration": 15,
    "start_time": "2021-09-18T22:15:49.852Z"
   },
   {
    "duration": 57,
    "start_time": "2021-09-18T22:15:49.874Z"
   },
   {
    "duration": 25,
    "start_time": "2021-09-18T22:15:49.935Z"
   },
   {
    "duration": 16,
    "start_time": "2021-09-18T22:15:49.962Z"
   },
   {
    "duration": 63,
    "start_time": "2021-09-18T22:15:49.981Z"
   },
   {
    "duration": 13,
    "start_time": "2021-09-18T22:15:50.047Z"
   },
   {
    "duration": 58,
    "start_time": "2021-09-18T22:15:50.062Z"
   },
   {
    "duration": 14,
    "start_time": "2021-09-18T22:15:50.122Z"
   },
   {
    "duration": 42,
    "start_time": "2021-09-18T22:15:50.138Z"
   },
   {
    "duration": 56,
    "start_time": "2021-09-18T22:15:50.183Z"
   },
   {
    "duration": 15,
    "start_time": "2021-09-18T22:15:50.241Z"
   },
   {
    "duration": 28,
    "start_time": "2021-09-18T22:15:50.258Z"
   },
   {
    "duration": 36,
    "start_time": "2021-09-18T22:15:50.289Z"
   },
   {
    "duration": 27,
    "start_time": "2021-09-18T22:15:50.327Z"
   },
   {
    "duration": 19,
    "start_time": "2021-09-18T22:15:50.357Z"
   },
   {
    "duration": 57,
    "start_time": "2021-09-18T22:15:50.378Z"
   },
   {
    "duration": 21,
    "start_time": "2021-09-18T22:15:50.437Z"
   },
   {
    "duration": 19,
    "start_time": "2021-09-18T22:15:50.461Z"
   },
   {
    "duration": 62,
    "start_time": "2021-09-18T22:15:50.482Z"
   },
   {
    "duration": 4,
    "start_time": "2021-09-18T22:15:50.546Z"
   },
   {
    "duration": 35,
    "start_time": "2021-09-18T22:15:50.552Z"
   },
   {
    "duration": 115,
    "start_time": "2021-09-18T22:15:50.589Z"
   },
   {
    "duration": 17,
    "start_time": "2021-09-18T22:15:50.716Z"
   },
   {
    "duration": 36,
    "start_time": "2021-09-18T22:15:50.736Z"
   },
   {
    "duration": 52,
    "start_time": "2021-09-18T22:15:50.774Z"
   },
   {
    "duration": 94,
    "start_time": "2021-09-18T22:15:50.829Z"
   },
   {
    "duration": 21,
    "start_time": "2021-09-18T22:15:50.926Z"
   },
   {
    "duration": 9,
    "start_time": "2021-09-18T22:15:50.950Z"
   },
   {
    "duration": 13,
    "start_time": "2021-09-18T22:15:50.962Z"
   },
   {
    "duration": 13,
    "start_time": "2021-09-18T22:15:50.977Z"
   },
   {
    "duration": 322,
    "start_time": "2021-09-18T22:15:50.992Z"
   },
   {
    "duration": 6,
    "start_time": "2021-09-18T22:15:51.317Z"
   },
   {
    "duration": 8,
    "start_time": "2021-09-18T22:15:51.325Z"
   },
   {
    "duration": 10,
    "start_time": "2021-09-18T22:15:51.335Z"
   },
   {
    "duration": 8,
    "start_time": "2021-09-18T22:15:51.347Z"
   },
   {
    "duration": 348,
    "start_time": "2021-09-18T22:15:51.357Z"
   },
   {
    "duration": 12,
    "start_time": "2021-09-18T22:15:51.708Z"
   },
   {
    "duration": 5,
    "start_time": "2021-09-18T22:15:51.722Z"
   },
   {
    "duration": 7,
    "start_time": "2021-09-18T22:15:51.730Z"
   },
   {
    "duration": 149,
    "start_time": "2021-09-18T22:15:51.740Z"
   },
   {
    "duration": 24,
    "start_time": "2021-09-18T22:15:51.892Z"
   },
   {
    "duration": 39,
    "start_time": "2021-09-18T22:15:51.919Z"
   },
   {
    "duration": 22,
    "start_time": "2021-09-18T22:15:51.960Z"
   },
   {
    "duration": 101,
    "start_time": "2021-09-18T22:15:52.016Z"
   },
   {
    "duration": 18,
    "start_time": "2021-09-18T22:15:52.119Z"
   },
   {
    "duration": 93,
    "start_time": "2021-09-18T22:15:52.140Z"
   },
   {
    "duration": 132,
    "start_time": "2021-09-18T22:15:52.242Z"
   },
   {
    "duration": 7,
    "start_time": "2021-09-18T22:15:52.378Z"
   },
   {
    "duration": 29,
    "start_time": "2021-09-18T22:15:52.387Z"
   },
   {
    "duration": 7,
    "start_time": "2021-09-18T22:15:52.418Z"
   },
   {
    "duration": 354,
    "start_time": "2021-09-18T22:15:52.428Z"
   },
   {
    "duration": 8,
    "start_time": "2021-09-18T22:15:52.785Z"
   },
   {
    "duration": 24,
    "start_time": "2021-09-18T22:15:52.796Z"
   },
   {
    "duration": 6,
    "start_time": "2021-09-18T22:15:52.822Z"
   },
   {
    "duration": 9,
    "start_time": "2021-09-18T22:15:52.831Z"
   },
   {
    "duration": 349,
    "start_time": "2021-09-18T22:15:52.843Z"
   },
   {
    "duration": 9,
    "start_time": "2021-09-18T22:15:53.195Z"
   },
   {
    "duration": 22,
    "start_time": "2021-09-18T22:15:53.218Z"
   },
   {
    "duration": 21,
    "start_time": "2021-09-18T22:15:53.243Z"
   },
   {
    "duration": 155,
    "start_time": "2021-09-18T22:15:53.267Z"
   },
   {
    "duration": 20,
    "start_time": "2021-09-18T22:15:53.425Z"
   },
   {
    "duration": 74,
    "start_time": "2021-09-18T22:15:53.448Z"
   },
   {
    "duration": 94,
    "start_time": "2021-09-18T22:15:53.525Z"
   },
   {
    "duration": 6,
    "start_time": "2021-09-18T22:15:53.621Z"
   },
   {
    "duration": 8,
    "start_time": "2021-09-18T22:15:53.630Z"
   },
   {
    "duration": 6,
    "start_time": "2021-09-18T22:15:53.640Z"
   },
   {
    "duration": 323,
    "start_time": "2021-09-18T22:15:53.648Z"
   },
   {
    "duration": 7,
    "start_time": "2021-09-18T22:15:53.973Z"
   },
   {
    "duration": 25,
    "start_time": "2021-09-18T22:15:53.983Z"
   },
   {
    "duration": 14,
    "start_time": "2021-09-18T22:15:54.011Z"
   },
   {
    "duration": 19,
    "start_time": "2021-09-18T22:15:54.028Z"
   },
   {
    "duration": 292,
    "start_time": "2021-09-18T22:15:54.049Z"
   },
   {
    "duration": 8,
    "start_time": "2021-09-18T22:15:54.344Z"
   },
   {
    "duration": 36,
    "start_time": "2021-09-18T22:15:54.355Z"
   },
   {
    "duration": 36,
    "start_time": "2021-09-18T22:15:54.416Z"
   },
   {
    "duration": 5,
    "start_time": "2021-09-18T22:15:54.454Z"
   },
   {
    "duration": 21,
    "start_time": "2021-09-18T22:15:54.461Z"
   },
   {
    "duration": 13,
    "start_time": "2021-09-18T22:15:54.484Z"
   },
   {
    "duration": 10,
    "start_time": "2021-09-18T22:15:54.515Z"
   },
   {
    "duration": 49,
    "start_time": "2021-09-18T22:15:54.528Z"
   },
   {
    "duration": 5,
    "start_time": "2021-09-18T22:15:54.580Z"
   },
   {
    "duration": 61,
    "start_time": "2021-09-18T22:15:54.587Z"
   },
   {
    "duration": 5,
    "start_time": "2021-09-18T22:15:54.651Z"
   },
   {
    "duration": 10,
    "start_time": "2021-09-18T22:15:54.659Z"
   },
   {
    "duration": 9,
    "start_time": "2021-09-18T22:15:54.671Z"
   },
   {
    "duration": 50,
    "start_time": "2021-09-18T22:15:54.682Z"
   },
   {
    "duration": 24,
    "start_time": "2021-09-18T22:15:54.735Z"
   },
   {
    "duration": 7,
    "start_time": "2021-09-18T22:15:54.761Z"
   },
   {
    "duration": 7,
    "start_time": "2021-09-18T22:15:54.771Z"
   },
   {
    "duration": 40,
    "start_time": "2021-09-18T22:15:54.780Z"
   },
   {
    "duration": 9,
    "start_time": "2021-09-18T22:15:54.822Z"
   },
   {
    "duration": 774,
    "start_time": "2021-09-18T22:15:54.833Z"
   },
   {
    "duration": 713,
    "start_time": "2021-09-18T22:15:55.610Z"
   },
   {
    "duration": 36,
    "start_time": "2021-09-18T22:15:56.326Z"
   },
   {
    "duration": 5,
    "start_time": "2021-09-18T22:15:56.364Z"
   },
   {
    "duration": 25,
    "start_time": "2021-09-18T22:15:56.371Z"
   },
   {
    "duration": 26,
    "start_time": "2021-09-18T22:15:56.416Z"
   },
   {
    "duration": 46,
    "start_time": "2021-09-18T22:15:56.444Z"
   },
   {
    "duration": 7,
    "start_time": "2021-09-18T22:15:56.492Z"
   },
   {
    "duration": 42,
    "start_time": "2021-09-18T22:15:56.501Z"
   },
   {
    "duration": 22,
    "start_time": "2021-09-18T22:15:56.545Z"
   },
   {
    "duration": 101,
    "start_time": "2021-09-18T22:15:56.569Z"
   },
   {
    "duration": 1187,
    "start_time": "2021-09-19T10:18:38.756Z"
   },
   {
    "duration": 10,
    "start_time": "2021-09-19T10:18:39.945Z"
   },
   {
    "duration": 133,
    "start_time": "2021-09-19T10:18:39.958Z"
   },
   {
    "duration": 7,
    "start_time": "2021-09-19T10:18:40.092Z"
   },
   {
    "duration": 93,
    "start_time": "2021-09-19T10:18:40.101Z"
   },
   {
    "duration": 6,
    "start_time": "2021-09-19T10:18:40.195Z"
   },
   {
    "duration": 21,
    "start_time": "2021-09-19T10:18:40.202Z"
   },
   {
    "duration": 9,
    "start_time": "2021-09-19T10:18:40.226Z"
   },
   {
    "duration": 38,
    "start_time": "2021-09-19T10:18:40.237Z"
   },
   {
    "duration": 8,
    "start_time": "2021-09-19T10:18:40.277Z"
   },
   {
    "duration": 5,
    "start_time": "2021-09-19T10:18:40.287Z"
   },
   {
    "duration": 6,
    "start_time": "2021-09-19T10:18:40.293Z"
   },
   {
    "duration": 6,
    "start_time": "2021-09-19T10:18:40.301Z"
   },
   {
    "duration": 5,
    "start_time": "2021-09-19T10:18:40.309Z"
   },
   {
    "duration": 5,
    "start_time": "2021-09-19T10:18:40.316Z"
   },
   {
    "duration": 5,
    "start_time": "2021-09-19T10:18:40.322Z"
   },
   {
    "duration": 23,
    "start_time": "2021-09-19T10:18:40.328Z"
   },
   {
    "duration": 13,
    "start_time": "2021-09-19T10:18:40.353Z"
   },
   {
    "duration": 20,
    "start_time": "2021-09-19T10:18:40.367Z"
   },
   {
    "duration": 7,
    "start_time": "2021-09-19T10:18:40.389Z"
   },
   {
    "duration": 53,
    "start_time": "2021-09-19T10:18:40.398Z"
   },
   {
    "duration": 10,
    "start_time": "2021-09-19T10:18:40.452Z"
   },
   {
    "duration": 30,
    "start_time": "2021-09-19T10:18:40.467Z"
   },
   {
    "duration": 20,
    "start_time": "2021-09-19T10:18:40.500Z"
   },
   {
    "duration": 35,
    "start_time": "2021-09-19T10:18:40.521Z"
   },
   {
    "duration": 34,
    "start_time": "2021-09-19T10:18:40.558Z"
   },
   {
    "duration": 11,
    "start_time": "2021-09-19T10:18:40.595Z"
   },
   {
    "duration": 47,
    "start_time": "2021-09-19T10:18:40.607Z"
   },
   {
    "duration": 8,
    "start_time": "2021-09-19T10:18:40.656Z"
   },
   {
    "duration": 31,
    "start_time": "2021-09-19T10:18:40.666Z"
   },
   {
    "duration": 21,
    "start_time": "2021-09-19T10:18:40.698Z"
   },
   {
    "duration": 28,
    "start_time": "2021-09-19T10:18:40.721Z"
   },
   {
    "duration": 14,
    "start_time": "2021-09-19T10:18:40.751Z"
   },
   {
    "duration": 8,
    "start_time": "2021-09-19T10:18:40.767Z"
   },
   {
    "duration": 19,
    "start_time": "2021-09-19T10:18:40.776Z"
   },
   {
    "duration": 9,
    "start_time": "2021-09-19T10:18:40.797Z"
   },
   {
    "duration": 54,
    "start_time": "2021-09-19T10:18:40.808Z"
   },
   {
    "duration": 15,
    "start_time": "2021-09-19T10:18:40.863Z"
   },
   {
    "duration": 9,
    "start_time": "2021-09-19T10:18:40.879Z"
   },
   {
    "duration": 26,
    "start_time": "2021-09-19T10:18:40.890Z"
   },
   {
    "duration": 29,
    "start_time": "2021-09-19T10:18:40.918Z"
   },
   {
    "duration": 34,
    "start_time": "2021-09-19T10:18:40.950Z"
   },
   {
    "duration": 110,
    "start_time": "2021-09-19T10:18:40.986Z"
   },
   {
    "duration": 16,
    "start_time": "2021-09-19T10:18:41.098Z"
   },
   {
    "duration": 43,
    "start_time": "2021-09-19T10:18:41.116Z"
   },
   {
    "duration": 23,
    "start_time": "2021-09-19T10:18:41.161Z"
   },
   {
    "duration": 96,
    "start_time": "2021-09-19T10:18:41.186Z"
   },
   {
    "duration": 18,
    "start_time": "2021-09-19T10:18:41.284Z"
   },
   {
    "duration": 9,
    "start_time": "2021-09-19T10:18:41.304Z"
   },
   {
    "duration": 8,
    "start_time": "2021-09-19T10:18:41.314Z"
   },
   {
    "duration": 4,
    "start_time": "2021-09-19T10:18:41.323Z"
   },
   {
    "duration": 169,
    "start_time": "2021-09-19T10:18:41.329Z"
   },
   {
    "duration": 4,
    "start_time": "2021-09-19T10:18:41.500Z"
   },
   {
    "duration": 6,
    "start_time": "2021-09-19T10:18:41.505Z"
   },
   {
    "duration": 6,
    "start_time": "2021-09-19T10:18:41.513Z"
   },
   {
    "duration": 7,
    "start_time": "2021-09-19T10:18:41.520Z"
   },
   {
    "duration": 175,
    "start_time": "2021-09-19T10:18:41.528Z"
   },
   {
    "duration": 4,
    "start_time": "2021-09-19T10:18:41.705Z"
   },
   {
    "duration": 5,
    "start_time": "2021-09-19T10:18:41.711Z"
   },
   {
    "duration": 5,
    "start_time": "2021-09-19T10:18:41.717Z"
   },
   {
    "duration": 87,
    "start_time": "2021-09-19T10:18:41.723Z"
   },
   {
    "duration": 9,
    "start_time": "2021-09-19T10:18:41.811Z"
   },
   {
    "duration": 36,
    "start_time": "2021-09-19T10:18:41.822Z"
   },
   {
    "duration": 14,
    "start_time": "2021-09-19T10:18:41.860Z"
   },
   {
    "duration": 53,
    "start_time": "2021-09-19T10:18:41.875Z"
   },
   {
    "duration": 23,
    "start_time": "2021-09-19T10:18:41.930Z"
   },
   {
    "duration": 44,
    "start_time": "2021-09-19T10:18:41.955Z"
   },
   {
    "duration": 88,
    "start_time": "2021-09-19T10:18:42.004Z"
   },
   {
    "duration": 4,
    "start_time": "2021-09-19T10:18:42.094Z"
   },
   {
    "duration": 6,
    "start_time": "2021-09-19T10:18:42.099Z"
   },
   {
    "duration": 6,
    "start_time": "2021-09-19T10:18:42.106Z"
   },
   {
    "duration": 190,
    "start_time": "2021-09-19T10:18:42.113Z"
   },
   {
    "duration": 4,
    "start_time": "2021-09-19T10:18:42.305Z"
   },
   {
    "duration": 6,
    "start_time": "2021-09-19T10:18:42.310Z"
   },
   {
    "duration": 5,
    "start_time": "2021-09-19T10:18:42.317Z"
   },
   {
    "duration": 4,
    "start_time": "2021-09-19T10:18:42.324Z"
   },
   {
    "duration": 167,
    "start_time": "2021-09-19T10:18:42.345Z"
   },
   {
    "duration": 5,
    "start_time": "2021-09-19T10:18:42.513Z"
   },
   {
    "duration": 12,
    "start_time": "2021-09-19T10:18:42.520Z"
   },
   {
    "duration": 9,
    "start_time": "2021-09-19T10:18:42.545Z"
   },
   {
    "duration": 38,
    "start_time": "2021-09-19T10:18:42.556Z"
   },
   {
    "duration": 9,
    "start_time": "2021-09-19T10:18:42.595Z"
   },
   {
    "duration": 54,
    "start_time": "2021-09-19T10:18:42.606Z"
   },
   {
    "duration": 45,
    "start_time": "2021-09-19T10:18:42.661Z"
   },
   {
    "duration": 4,
    "start_time": "2021-09-19T10:18:42.707Z"
   },
   {
    "duration": 5,
    "start_time": "2021-09-19T10:18:42.713Z"
   },
   {
    "duration": 25,
    "start_time": "2021-09-19T10:18:42.720Z"
   },
   {
    "duration": 163,
    "start_time": "2021-09-19T10:18:42.747Z"
   },
   {
    "duration": 4,
    "start_time": "2021-09-19T10:18:42.912Z"
   },
   {
    "duration": 6,
    "start_time": "2021-09-19T10:18:42.917Z"
   },
   {
    "duration": 20,
    "start_time": "2021-09-19T10:18:42.925Z"
   },
   {
    "duration": 4,
    "start_time": "2021-09-19T10:18:42.946Z"
   },
   {
    "duration": 168,
    "start_time": "2021-09-19T10:18:42.951Z"
   },
   {
    "duration": 4,
    "start_time": "2021-09-19T10:18:43.121Z"
   },
   {
    "duration": 32,
    "start_time": "2021-09-19T10:18:43.127Z"
   },
   {
    "duration": 16,
    "start_time": "2021-09-19T10:18:43.161Z"
   },
   {
    "duration": 3,
    "start_time": "2021-09-19T10:18:43.178Z"
   },
   {
    "duration": 5,
    "start_time": "2021-09-19T10:18:43.183Z"
   },
   {
    "duration": 5,
    "start_time": "2021-09-19T10:18:43.189Z"
   },
   {
    "duration": 5,
    "start_time": "2021-09-19T10:18:43.196Z"
   },
   {
    "duration": 63,
    "start_time": "2021-09-19T10:18:43.202Z"
   },
   {
    "duration": 3,
    "start_time": "2021-09-19T10:18:43.267Z"
   },
   {
    "duration": 24,
    "start_time": "2021-09-19T10:18:43.271Z"
   },
   {
    "duration": 4,
    "start_time": "2021-09-19T10:18:43.296Z"
   },
   {
    "duration": 9,
    "start_time": "2021-09-19T10:18:43.301Z"
   },
   {
    "duration": 5,
    "start_time": "2021-09-19T10:18:43.312Z"
   },
   {
    "duration": 38,
    "start_time": "2021-09-19T10:18:43.319Z"
   },
   {
    "duration": 14,
    "start_time": "2021-09-19T10:18:43.359Z"
   },
   {
    "duration": 5,
    "start_time": "2021-09-19T10:18:43.375Z"
   },
   {
    "duration": 6,
    "start_time": "2021-09-19T10:18:43.382Z"
   },
   {
    "duration": 5,
    "start_time": "2021-09-19T10:18:43.389Z"
   },
   {
    "duration": 6,
    "start_time": "2021-09-19T10:18:43.395Z"
   },
   {
    "duration": 425,
    "start_time": "2021-09-19T10:18:43.402Z"
   },
   {
    "duration": 450,
    "start_time": "2021-09-19T10:18:43.829Z"
   },
   {
    "duration": 24,
    "start_time": "2021-09-19T10:18:44.281Z"
   },
   {
    "duration": 3,
    "start_time": "2021-09-19T10:18:44.306Z"
   },
   {
    "duration": 5,
    "start_time": "2021-09-19T10:18:44.311Z"
   },
   {
    "duration": 28,
    "start_time": "2021-09-19T10:18:44.318Z"
   },
   {
    "duration": 26,
    "start_time": "2021-09-19T10:18:44.347Z"
   },
   {
    "duration": 6,
    "start_time": "2021-09-19T10:18:44.375Z"
   },
   {
    "duration": 8,
    "start_time": "2021-09-19T10:18:44.383Z"
   },
   {
    "duration": 4,
    "start_time": "2021-09-19T10:18:44.392Z"
   },
   {
    "duration": 6,
    "start_time": "2021-09-19T10:18:44.398Z"
   },
   {
    "duration": 23,
    "start_time": "2021-09-19T10:20:04.928Z"
   },
   {
    "duration": 7,
    "start_time": "2021-09-19T10:23:38.392Z"
   },
   {
    "duration": 3989,
    "start_time": "2021-09-19T10:33:39.023Z"
   },
   {
    "duration": 2056,
    "start_time": "2021-09-19T10:33:56.178Z"
   },
   {
    "duration": 425,
    "start_time": "2021-09-19T13:05:04.784Z"
   },
   {
    "duration": 1688,
    "start_time": "2021-09-19T13:05:18.781Z"
   },
   {
    "duration": 16,
    "start_time": "2021-09-19T13:05:20.473Z"
   },
   {
    "duration": 212,
    "start_time": "2021-09-19T13:05:20.493Z"
   },
   {
    "duration": 13,
    "start_time": "2021-09-19T13:05:20.709Z"
   },
   {
    "duration": 153,
    "start_time": "2021-09-19T13:05:20.724Z"
   },
   {
    "duration": 9,
    "start_time": "2021-09-19T13:05:20.879Z"
   },
   {
    "duration": 31,
    "start_time": "2021-09-19T13:05:20.890Z"
   },
   {
    "duration": 12,
    "start_time": "2021-09-19T13:05:20.925Z"
   },
   {
    "duration": 60,
    "start_time": "2021-09-19T13:05:20.940Z"
   },
   {
    "duration": 15,
    "start_time": "2021-09-19T13:05:21.003Z"
   },
   {
    "duration": 9,
    "start_time": "2021-09-19T13:05:21.021Z"
   },
   {
    "duration": 11,
    "start_time": "2021-09-19T13:05:21.033Z"
   },
   {
    "duration": 25,
    "start_time": "2021-09-19T13:05:21.047Z"
   },
   {
    "duration": 6,
    "start_time": "2021-09-19T13:05:21.074Z"
   },
   {
    "duration": 10,
    "start_time": "2021-09-19T13:05:21.082Z"
   },
   {
    "duration": 5,
    "start_time": "2021-09-19T13:05:21.095Z"
   },
   {
    "duration": 18,
    "start_time": "2021-09-19T13:05:21.103Z"
   },
   {
    "duration": 53,
    "start_time": "2021-09-19T13:05:21.124Z"
   },
   {
    "duration": 34,
    "start_time": "2021-09-19T13:05:21.180Z"
   },
   {
    "duration": 45,
    "start_time": "2021-09-19T13:05:21.216Z"
   },
   {
    "duration": 41,
    "start_time": "2021-09-19T13:05:21.264Z"
   },
   {
    "duration": 17,
    "start_time": "2021-09-19T13:05:21.308Z"
   },
   {
    "duration": 37,
    "start_time": "2021-09-19T13:05:21.358Z"
   },
   {
    "duration": 25,
    "start_time": "2021-09-19T13:05:21.399Z"
   },
   {
    "duration": 48,
    "start_time": "2021-09-19T13:05:21.426Z"
   },
   {
    "duration": 88,
    "start_time": "2021-09-19T13:05:21.476Z"
   },
   {
    "duration": 12,
    "start_time": "2021-09-19T13:05:21.571Z"
   },
   {
    "duration": 90,
    "start_time": "2021-09-19T13:05:21.585Z"
   },
   {
    "duration": 13,
    "start_time": "2021-09-19T13:05:21.678Z"
   },
   {
    "duration": 100,
    "start_time": "2021-09-19T13:05:21.693Z"
   },
   {
    "duration": 82,
    "start_time": "2021-09-19T13:05:21.795Z"
   },
   {
    "duration": 15,
    "start_time": "2021-09-19T13:05:21.879Z"
   },
   {
    "duration": 78,
    "start_time": "2021-09-19T13:05:21.897Z"
   },
   {
    "duration": 15,
    "start_time": "2021-09-19T13:05:21.978Z"
   },
   {
    "duration": 91,
    "start_time": "2021-09-19T13:05:21.996Z"
   },
   {
    "duration": 69,
    "start_time": "2021-09-19T13:05:22.090Z"
   },
   {
    "duration": 34,
    "start_time": "2021-09-19T13:05:22.164Z"
   },
   {
    "duration": 76,
    "start_time": "2021-09-19T13:05:22.201Z"
   },
   {
    "duration": 14,
    "start_time": "2021-09-19T13:05:22.279Z"
   },
   {
    "duration": 95,
    "start_time": "2021-09-19T13:05:22.295Z"
   },
   {
    "duration": 4,
    "start_time": "2021-09-19T13:05:22.392Z"
   },
   {
    "duration": 91,
    "start_time": "2021-09-19T13:05:22.398Z"
   },
   {
    "duration": 151,
    "start_time": "2021-09-19T13:05:22.492Z"
   },
   {
    "duration": 25,
    "start_time": "2021-09-19T13:05:22.645Z"
   },
   {
    "duration": 37,
    "start_time": "2021-09-19T13:05:22.672Z"
   },
   {
    "duration": 886,
    "start_time": "2021-09-19T13:05:22.711Z"
   },
   {
    "duration": -100,
    "start_time": "2021-09-19T13:05:23.703Z"
   },
   {
    "duration": -106,
    "start_time": "2021-09-19T13:05:23.710Z"
   },
   {
    "duration": -108,
    "start_time": "2021-09-19T13:05:23.714Z"
   },
   {
    "duration": -111,
    "start_time": "2021-09-19T13:05:23.718Z"
   },
   {
    "duration": -115,
    "start_time": "2021-09-19T13:05:23.724Z"
   },
   {
    "duration": -119,
    "start_time": "2021-09-19T13:05:23.729Z"
   },
   {
    "duration": -119,
    "start_time": "2021-09-19T13:05:23.731Z"
   },
   {
    "duration": -121,
    "start_time": "2021-09-19T13:05:23.735Z"
   },
   {
    "duration": -127,
    "start_time": "2021-09-19T13:05:23.742Z"
   },
   {
    "duration": -128,
    "start_time": "2021-09-19T13:05:23.745Z"
   },
   {
    "duration": -131,
    "start_time": "2021-09-19T13:05:23.749Z"
   },
   {
    "duration": -134,
    "start_time": "2021-09-19T13:05:23.753Z"
   },
   {
    "duration": -137,
    "start_time": "2021-09-19T13:05:23.758Z"
   },
   {
    "duration": -140,
    "start_time": "2021-09-19T13:05:23.762Z"
   },
   {
    "duration": -142,
    "start_time": "2021-09-19T13:05:23.766Z"
   },
   {
    "duration": -145,
    "start_time": "2021-09-19T13:05:23.770Z"
   },
   {
    "duration": -151,
    "start_time": "2021-09-19T13:05:23.777Z"
   },
   {
    "duration": -152,
    "start_time": "2021-09-19T13:05:23.780Z"
   },
   {
    "duration": -154,
    "start_time": "2021-09-19T13:05:23.783Z"
   },
   {
    "duration": -160,
    "start_time": "2021-09-19T13:05:23.791Z"
   },
   {
    "duration": -162,
    "start_time": "2021-09-19T13:05:23.795Z"
   },
   {
    "duration": -164,
    "start_time": "2021-09-19T13:05:23.798Z"
   },
   {
    "duration": -166,
    "start_time": "2021-09-19T13:05:23.802Z"
   },
   {
    "duration": -171,
    "start_time": "2021-09-19T13:05:23.808Z"
   },
   {
    "duration": -172,
    "start_time": "2021-09-19T13:05:23.811Z"
   },
   {
    "duration": -174,
    "start_time": "2021-09-19T13:05:23.814Z"
   },
   {
    "duration": -177,
    "start_time": "2021-09-19T13:05:23.818Z"
   },
   {
    "duration": -182,
    "start_time": "2021-09-19T13:05:23.824Z"
   },
   {
    "duration": -169,
    "start_time": "2021-09-19T13:05:23.828Z"
   },
   {
    "duration": -167,
    "start_time": "2021-09-19T13:05:23.831Z"
   },
   {
    "duration": -169,
    "start_time": "2021-09-19T13:05:23.834Z"
   },
   {
    "duration": -174,
    "start_time": "2021-09-19T13:05:23.841Z"
   },
   {
    "duration": -177,
    "start_time": "2021-09-19T13:05:23.845Z"
   },
   {
    "duration": -178,
    "start_time": "2021-09-19T13:05:23.847Z"
   },
   {
    "duration": -181,
    "start_time": "2021-09-19T13:05:23.851Z"
   },
   {
    "duration": -208,
    "start_time": "2021-09-19T13:05:23.880Z"
   },
   {
    "duration": -210,
    "start_time": "2021-09-19T13:05:23.883Z"
   },
   {
    "duration": -215,
    "start_time": "2021-09-19T13:05:23.890Z"
   },
   {
    "duration": -217,
    "start_time": "2021-09-19T13:05:23.893Z"
   },
   {
    "duration": -219,
    "start_time": "2021-09-19T13:05:23.897Z"
   },
   {
    "duration": -221,
    "start_time": "2021-09-19T13:05:23.900Z"
   },
   {
    "duration": -228,
    "start_time": "2021-09-19T13:05:23.908Z"
   },
   {
    "duration": -229,
    "start_time": "2021-09-19T13:05:23.911Z"
   },
   {
    "duration": -232,
    "start_time": "2021-09-19T13:05:23.915Z"
   },
   {
    "duration": -233,
    "start_time": "2021-09-19T13:05:23.918Z"
   },
   {
    "duration": -256,
    "start_time": "2021-09-19T13:05:23.942Z"
   },
   {
    "duration": -258,
    "start_time": "2021-09-19T13:05:23.946Z"
   },
   {
    "duration": -260,
    "start_time": "2021-09-19T13:05:23.949Z"
   },
   {
    "duration": -265,
    "start_time": "2021-09-19T13:05:23.956Z"
   },
   {
    "duration": -268,
    "start_time": "2021-09-19T13:05:23.960Z"
   },
   {
    "duration": -270,
    "start_time": "2021-09-19T13:05:23.963Z"
   },
   {
    "duration": -271,
    "start_time": "2021-09-19T13:05:23.966Z"
   },
   {
    "duration": -277,
    "start_time": "2021-09-19T13:05:23.973Z"
   },
   {
    "duration": -280,
    "start_time": "2021-09-19T13:05:23.977Z"
   },
   {
    "duration": -283,
    "start_time": "2021-09-19T13:05:23.981Z"
   },
   {
    "duration": -228,
    "start_time": "2021-09-19T13:05:23.983Z"
   },
   {
    "duration": -235,
    "start_time": "2021-09-19T13:05:23.992Z"
   },
   {
    "duration": -252,
    "start_time": "2021-09-19T13:05:24.010Z"
   },
   {
    "duration": -255,
    "start_time": "2021-09-19T13:05:24.014Z"
   },
   {
    "duration": -255,
    "start_time": "2021-09-19T13:05:24.019Z"
   },
   {
    "duration": -259,
    "start_time": "2021-09-19T13:05:24.026Z"
   },
   {
    "duration": -258,
    "start_time": "2021-09-19T13:05:24.029Z"
   },
   {
    "duration": -258,
    "start_time": "2021-09-19T13:05:24.032Z"
   },
   {
    "duration": -261,
    "start_time": "2021-09-19T13:05:24.037Z"
   },
   {
    "duration": -265,
    "start_time": "2021-09-19T13:05:24.044Z"
   },
   {
    "duration": -266,
    "start_time": "2021-09-19T13:05:24.047Z"
   },
   {
    "duration": -267,
    "start_time": "2021-09-19T13:05:24.050Z"
   },
   {
    "duration": -273,
    "start_time": "2021-09-19T13:05:24.058Z"
   },
   {
    "duration": -275,
    "start_time": "2021-09-19T13:05:24.062Z"
   },
   {
    "duration": -275,
    "start_time": "2021-09-19T13:05:24.064Z"
   },
   {
    "duration": -279,
    "start_time": "2021-09-19T13:05:24.069Z"
   },
   {
    "duration": -285,
    "start_time": "2021-09-19T13:05:24.077Z"
   },
   {
    "duration": -288,
    "start_time": "2021-09-19T13:05:24.081Z"
   },
   {
    "duration": -290,
    "start_time": "2021-09-19T13:05:24.085Z"
   },
   {
    "duration": -294,
    "start_time": "2021-09-19T13:05:24.091Z"
   },
   {
    "duration": -296,
    "start_time": "2021-09-19T13:05:24.095Z"
   },
   {
    "duration": -239,
    "start_time": "2021-09-19T13:05:24.097Z"
   },
   {
    "duration": -241,
    "start_time": "2021-09-19T13:05:24.101Z"
   },
   {
    "duration": -248,
    "start_time": "2021-09-19T13:05:24.109Z"
   },
   {
    "duration": -254,
    "start_time": "2021-09-19T13:05:24.117Z"
   },
   {
    "duration": 1056,
    "start_time": "2021-09-19T13:05:46.237Z"
   },
   {
    "duration": 4,
    "start_time": "2021-09-19T13:06:01.007Z"
   },
   {
    "duration": 7,
    "start_time": "2021-09-19T13:06:05.645Z"
   },
   {
    "duration": 61,
    "start_time": "2021-09-19T13:07:49.117Z"
   },
   {
    "duration": 21,
    "start_time": "2021-09-19T13:08:42.710Z"
   },
   {
    "duration": 295,
    "start_time": "2021-09-19T13:10:05.109Z"
   },
   {
    "duration": 36,
    "start_time": "2021-09-19T13:11:46.315Z"
   },
   {
    "duration": 344,
    "start_time": "2021-09-19T13:11:52.332Z"
   },
   {
    "duration": 26,
    "start_time": "2021-09-19T13:13:04.179Z"
   },
   {
    "duration": 29,
    "start_time": "2021-09-19T13:13:06.600Z"
   },
   {
    "duration": 9,
    "start_time": "2021-09-19T13:17:34.283Z"
   },
   {
    "duration": 5,
    "start_time": "2021-09-19T13:19:01.451Z"
   },
   {
    "duration": 25,
    "start_time": "2021-09-19T13:19:15.792Z"
   },
   {
    "duration": 24,
    "start_time": "2021-09-19T13:23:16.221Z"
   },
   {
    "duration": 27,
    "start_time": "2021-09-19T13:23:16.702Z"
   },
   {
    "duration": 37,
    "start_time": "2021-09-19T13:29:30.371Z"
   },
   {
    "duration": 530,
    "start_time": "2021-09-19T13:34:57.755Z"
   },
   {
    "duration": 8793,
    "start_time": "2021-09-19T13:35:09.834Z"
   },
   {
    "duration": 340,
    "start_time": "2021-09-19T13:35:30.593Z"
   },
   {
    "duration": 66,
    "start_time": "2021-09-19T13:36:06.828Z"
   },
   {
    "duration": 80,
    "start_time": "2021-09-19T13:36:11.014Z"
   },
   {
    "duration": 113,
    "start_time": "2021-09-19T13:36:18.391Z"
   },
   {
    "duration": 77,
    "start_time": "2021-09-19T13:36:34.364Z"
   },
   {
    "duration": 26,
    "start_time": "2021-09-19T13:37:19.510Z"
   },
   {
    "duration": 28,
    "start_time": "2021-09-19T13:37:19.771Z"
   },
   {
    "duration": 318,
    "start_time": "2021-09-19T15:01:45.542Z"
   },
   {
    "duration": 91,
    "start_time": "2021-09-19T15:02:47.571Z"
   },
   {
    "duration": 55,
    "start_time": "2021-09-19T15:02:51.451Z"
   },
   {
    "duration": 27,
    "start_time": "2021-09-19T15:02:52.946Z"
   },
   {
    "duration": 35,
    "start_time": "2021-09-19T15:03:51.321Z"
   },
   {
    "duration": 27,
    "start_time": "2021-09-19T15:03:52.740Z"
   },
   {
    "duration": 49,
    "start_time": "2021-09-19T15:04:15.691Z"
   },
   {
    "duration": 27,
    "start_time": "2021-09-19T15:04:16.773Z"
   },
   {
    "duration": 8,
    "start_time": "2021-09-19T15:04:47.910Z"
   },
   {
    "duration": 278,
    "start_time": "2021-09-19T15:05:01.624Z"
   },
   {
    "duration": 28,
    "start_time": "2021-09-19T15:05:04.376Z"
   },
   {
    "duration": 38,
    "start_time": "2021-09-19T15:09:12.033Z"
   },
   {
    "duration": 26,
    "start_time": "2021-09-19T15:09:13.958Z"
   },
   {
    "duration": 37,
    "start_time": "2021-09-19T15:09:23.507Z"
   },
   {
    "duration": 28,
    "start_time": "2021-09-19T15:09:23.865Z"
   },
   {
    "duration": 8529,
    "start_time": "2021-09-19T15:14:31.674Z"
   },
   {
    "duration": 32,
    "start_time": "2021-09-19T15:14:54.175Z"
   },
   {
    "duration": 288,
    "start_time": "2021-09-19T15:15:43.775Z"
   },
   {
    "duration": 300,
    "start_time": "2021-09-19T15:16:24.424Z"
   },
   {
    "duration": 267,
    "start_time": "2021-09-19T15:16:55.501Z"
   },
   {
    "duration": 13,
    "start_time": "2021-09-19T15:16:55.771Z"
   },
   {
    "duration": 244,
    "start_time": "2021-09-19T15:16:55.788Z"
   },
   {
    "duration": 22,
    "start_time": "2021-09-19T15:16:56.035Z"
   },
   {
    "duration": 128,
    "start_time": "2021-09-19T15:16:56.059Z"
   },
   {
    "duration": 10,
    "start_time": "2021-09-19T15:16:56.190Z"
   },
   {
    "duration": 26,
    "start_time": "2021-09-19T15:16:56.202Z"
   },
   {
    "duration": 33,
    "start_time": "2021-09-19T15:16:56.232Z"
   },
   {
    "duration": 75,
    "start_time": "2021-09-19T15:16:56.269Z"
   },
   {
    "duration": 17,
    "start_time": "2021-09-19T15:16:56.347Z"
   },
   {
    "duration": 7,
    "start_time": "2021-09-19T15:16:56.366Z"
   },
   {
    "duration": 9,
    "start_time": "2021-09-19T15:16:56.376Z"
   },
   {
    "duration": 12,
    "start_time": "2021-09-19T15:16:56.388Z"
   },
   {
    "duration": 7,
    "start_time": "2021-09-19T15:16:56.403Z"
   },
   {
    "duration": 44,
    "start_time": "2021-09-19T15:16:56.413Z"
   },
   {
    "duration": 10,
    "start_time": "2021-09-19T15:16:56.460Z"
   },
   {
    "duration": 19,
    "start_time": "2021-09-19T15:16:56.472Z"
   },
   {
    "duration": 21,
    "start_time": "2021-09-19T15:16:56.493Z"
   },
   {
    "duration": 32,
    "start_time": "2021-09-19T15:16:56.557Z"
   },
   {
    "duration": 14,
    "start_time": "2021-09-19T15:16:56.591Z"
   },
   {
    "duration": 63,
    "start_time": "2021-09-19T15:16:56.607Z"
   },
   {
    "duration": 15,
    "start_time": "2021-09-19T15:16:56.672Z"
   },
   {
    "duration": 32,
    "start_time": "2021-09-19T15:16:56.693Z"
   },
   {
    "duration": 100,
    "start_time": "2021-09-19T15:16:56.729Z"
   },
   {
    "duration": 39,
    "start_time": "2021-09-19T15:16:56.832Z"
   },
   {
    "duration": 40,
    "start_time": "2021-09-19T15:16:56.874Z"
   },
   {
    "duration": 66,
    "start_time": "2021-09-19T15:16:56.917Z"
   },
   {
    "duration": 12,
    "start_time": "2021-09-19T15:16:56.985Z"
   },
   {
    "duration": 66,
    "start_time": "2021-09-19T15:16:57.000Z"
   },
   {
    "duration": 20,
    "start_time": "2021-09-19T15:16:57.069Z"
   },
   {
    "duration": 41,
    "start_time": "2021-09-19T15:16:57.092Z"
   },
   {
    "duration": 33,
    "start_time": "2021-09-19T15:16:57.156Z"
   },
   {
    "duration": 16,
    "start_time": "2021-09-19T15:16:57.191Z"
   },
   {
    "duration": 57,
    "start_time": "2021-09-19T15:16:57.209Z"
   },
   {
    "duration": 13,
    "start_time": "2021-09-19T15:16:57.268Z"
   },
   {
    "duration": 40,
    "start_time": "2021-09-19T15:16:57.284Z"
   },
   {
    "duration": 38,
    "start_time": "2021-09-19T15:16:57.326Z"
   },
   {
    "duration": 31,
    "start_time": "2021-09-19T15:16:57.367Z"
   },
   {
    "duration": 22,
    "start_time": "2021-09-19T15:16:57.401Z"
   },
   {
    "duration": 15,
    "start_time": "2021-09-19T15:16:57.456Z"
   },
   {
    "duration": 34,
    "start_time": "2021-09-19T15:16:57.474Z"
   },
   {
    "duration": 4,
    "start_time": "2021-09-19T15:16:57.510Z"
   },
   {
    "duration": 52,
    "start_time": "2021-09-19T15:16:57.517Z"
   },
   {
    "duration": 19,
    "start_time": "2021-09-19T15:16:57.571Z"
   },
   {
    "duration": 42,
    "start_time": "2021-09-19T15:16:57.592Z"
   },
   {
    "duration": 340,
    "start_time": "2021-09-19T15:16:57.656Z"
   },
   {
    "duration": -20,
    "start_time": "2021-09-19T15:16:58.022Z"
   },
   {
    "duration": -26,
    "start_time": "2021-09-19T15:16:58.030Z"
   },
   {
    "duration": -28,
    "start_time": "2021-09-19T15:16:58.033Z"
   },
   {
    "duration": -30,
    "start_time": "2021-09-19T15:16:58.037Z"
   },
   {
    "duration": -35,
    "start_time": "2021-09-19T15:16:58.043Z"
   },
   {
    "duration": -37,
    "start_time": "2021-09-19T15:16:58.046Z"
   },
   {
    "duration": -40,
    "start_time": "2021-09-19T15:16:58.050Z"
   },
   {
    "duration": -42,
    "start_time": "2021-09-19T15:16:58.054Z"
   },
   {
    "duration": -46,
    "start_time": "2021-09-19T15:16:58.059Z"
   },
   {
    "duration": -49,
    "start_time": "2021-09-19T15:16:58.063Z"
   },
   {
    "duration": -51,
    "start_time": "2021-09-19T15:16:58.067Z"
   },
   {
    "duration": -53,
    "start_time": "2021-09-19T15:16:58.071Z"
   },
   {
    "duration": -56,
    "start_time": "2021-09-19T15:16:58.076Z"
   },
   {
    "duration": -59,
    "start_time": "2021-09-19T15:16:58.080Z"
   },
   {
    "duration": -61,
    "start_time": "2021-09-19T15:16:58.083Z"
   },
   {
    "duration": -63,
    "start_time": "2021-09-19T15:16:58.086Z"
   },
   {
    "duration": -96,
    "start_time": "2021-09-19T15:16:58.120Z"
   },
   {
    "duration": -101,
    "start_time": "2021-09-19T15:16:58.126Z"
   },
   {
    "duration": -103,
    "start_time": "2021-09-19T15:16:58.129Z"
   },
   {
    "duration": -106,
    "start_time": "2021-09-19T15:16:58.133Z"
   },
   {
    "duration": -109,
    "start_time": "2021-09-19T15:16:58.137Z"
   },
   {
    "duration": -113,
    "start_time": "2021-09-19T15:16:58.142Z"
   },
   {
    "duration": -115,
    "start_time": "2021-09-19T15:16:58.145Z"
   },
   {
    "duration": -115,
    "start_time": "2021-09-19T15:16:58.149Z"
   },
   {
    "duration": -117,
    "start_time": "2021-09-19T15:16:58.152Z"
   },
   {
    "duration": -119,
    "start_time": "2021-09-19T15:16:58.156Z"
   },
   {
    "duration": -124,
    "start_time": "2021-09-19T15:16:58.162Z"
   },
   {
    "duration": -111,
    "start_time": "2021-09-19T15:16:58.166Z"
   },
   {
    "duration": -111,
    "start_time": "2021-09-19T15:16:58.168Z"
   },
   {
    "duration": -115,
    "start_time": "2021-09-19T15:16:58.173Z"
   },
   {
    "duration": -117,
    "start_time": "2021-09-19T15:16:58.177Z"
   },
   {
    "duration": -120,
    "start_time": "2021-09-19T15:16:58.181Z"
   },
   {
    "duration": -120,
    "start_time": "2021-09-19T15:16:58.184Z"
   },
   {
    "duration": -148,
    "start_time": "2021-09-19T15:16:58.213Z"
   },
   {
    "duration": -151,
    "start_time": "2021-09-19T15:16:58.217Z"
   },
   {
    "duration": -152,
    "start_time": "2021-09-19T15:16:58.220Z"
   },
   {
    "duration": -158,
    "start_time": "2021-09-19T15:16:58.227Z"
   },
   {
    "duration": -160,
    "start_time": "2021-09-19T15:16:58.230Z"
   },
   {
    "duration": -161,
    "start_time": "2021-09-19T15:16:58.233Z"
   },
   {
    "duration": -164,
    "start_time": "2021-09-19T15:16:58.237Z"
   },
   {
    "duration": -169,
    "start_time": "2021-09-19T15:16:58.243Z"
   },
   {
    "duration": -170,
    "start_time": "2021-09-19T15:16:58.246Z"
   },
   {
    "duration": -172,
    "start_time": "2021-09-19T15:16:58.249Z"
   },
   {
    "duration": -174,
    "start_time": "2021-09-19T15:16:58.253Z"
   },
   {
    "duration": -176,
    "start_time": "2021-09-19T15:16:58.256Z"
   },
   {
    "duration": -180,
    "start_time": "2021-09-19T15:16:58.262Z"
   },
   {
    "duration": -183,
    "start_time": "2021-09-19T15:16:58.266Z"
   },
   {
    "duration": -184,
    "start_time": "2021-09-19T15:16:58.269Z"
   },
   {
    "duration": -186,
    "start_time": "2021-09-19T15:16:58.272Z"
   },
   {
    "duration": -190,
    "start_time": "2021-09-19T15:16:58.278Z"
   },
   {
    "duration": -192,
    "start_time": "2021-09-19T15:16:58.281Z"
   },
   {
    "duration": -193,
    "start_time": "2021-09-19T15:16:58.284Z"
   },
   {
    "duration": -212,
    "start_time": "2021-09-19T15:16:58.304Z"
   },
   {
    "duration": -215,
    "start_time": "2021-09-19T15:16:58.308Z"
   },
   {
    "duration": -157,
    "start_time": "2021-09-19T15:16:58.312Z"
   },
   {
    "duration": -159,
    "start_time": "2021-09-19T15:16:58.316Z"
   },
   {
    "duration": -161,
    "start_time": "2021-09-19T15:16:58.319Z"
   },
   {
    "duration": -163,
    "start_time": "2021-09-19T15:16:58.323Z"
   },
   {
    "duration": -168,
    "start_time": "2021-09-19T15:16:58.329Z"
   },
   {
    "duration": -168,
    "start_time": "2021-09-19T15:16:58.331Z"
   },
   {
    "duration": -171,
    "start_time": "2021-09-19T15:16:58.335Z"
   },
   {
    "duration": -172,
    "start_time": "2021-09-19T15:16:58.338Z"
   },
   {
    "duration": -175,
    "start_time": "2021-09-19T15:16:58.343Z"
   },
   {
    "duration": -178,
    "start_time": "2021-09-19T15:16:58.347Z"
   },
   {
    "duration": -179,
    "start_time": "2021-09-19T15:16:58.350Z"
   },
   {
    "duration": -182,
    "start_time": "2021-09-19T15:16:58.354Z"
   },
   {
    "duration": -185,
    "start_time": "2021-09-19T15:16:58.359Z"
   },
   {
    "duration": -186,
    "start_time": "2021-09-19T15:16:58.362Z"
   },
   {
    "duration": -189,
    "start_time": "2021-09-19T15:16:58.366Z"
   },
   {
    "duration": -191,
    "start_time": "2021-09-19T15:16:58.369Z"
   },
   {
    "duration": -193,
    "start_time": "2021-09-19T15:16:58.373Z"
   },
   {
    "duration": -197,
    "start_time": "2021-09-19T15:16:58.378Z"
   },
   {
    "duration": -199,
    "start_time": "2021-09-19T15:16:58.382Z"
   },
   {
    "duration": -201,
    "start_time": "2021-09-19T15:16:58.385Z"
   },
   {
    "duration": -202,
    "start_time": "2021-09-19T15:16:58.388Z"
   },
   {
    "duration": -206,
    "start_time": "2021-09-19T15:16:58.393Z"
   },
   {
    "duration": -214,
    "start_time": "2021-09-19T15:16:58.403Z"
   },
   {
    "duration": -217,
    "start_time": "2021-09-19T15:16:58.407Z"
   },
   {
    "duration": -221,
    "start_time": "2021-09-19T15:16:58.413Z"
   },
   {
    "duration": -160,
    "start_time": "2021-09-19T15:16:58.416Z"
   },
   {
    "duration": -162,
    "start_time": "2021-09-19T15:16:58.419Z"
   },
   {
    "duration": 9,
    "start_time": "2021-09-19T15:18:05.850Z"
   },
   {
    "duration": 29,
    "start_time": "2021-09-19T15:18:15.068Z"
   },
   {
    "duration": 32,
    "start_time": "2021-09-19T15:18:41.042Z"
   },
   {
    "duration": 44,
    "start_time": "2021-09-19T15:18:44.863Z"
   },
   {
    "duration": 350,
    "start_time": "2021-09-19T15:18:51.719Z"
   },
   {
    "duration": 12,
    "start_time": "2021-09-19T15:18:52.072Z"
   },
   {
    "duration": 206,
    "start_time": "2021-09-19T15:18:52.089Z"
   },
   {
    "duration": 14,
    "start_time": "2021-09-19T15:18:52.299Z"
   },
   {
    "duration": 141,
    "start_time": "2021-09-19T15:18:52.316Z"
   },
   {
    "duration": 10,
    "start_time": "2021-09-19T15:18:52.460Z"
   },
   {
    "duration": 26,
    "start_time": "2021-09-19T15:18:52.472Z"
   },
   {
    "duration": 12,
    "start_time": "2021-09-19T15:18:52.503Z"
   },
   {
    "duration": 57,
    "start_time": "2021-09-19T15:18:52.518Z"
   },
   {
    "duration": 17,
    "start_time": "2021-09-19T15:18:52.577Z"
   },
   {
    "duration": 10,
    "start_time": "2021-09-19T15:18:52.596Z"
   },
   {
    "duration": 6,
    "start_time": "2021-09-19T15:18:52.609Z"
   },
   {
    "duration": 10,
    "start_time": "2021-09-19T15:18:52.618Z"
   },
   {
    "duration": 7,
    "start_time": "2021-09-19T15:18:52.657Z"
   },
   {
    "duration": 7,
    "start_time": "2021-09-19T15:18:52.667Z"
   },
   {
    "duration": 8,
    "start_time": "2021-09-19T15:18:52.676Z"
   },
   {
    "duration": 20,
    "start_time": "2021-09-19T15:18:52.686Z"
   },
   {
    "duration": 60,
    "start_time": "2021-09-19T15:18:52.708Z"
   },
   {
    "duration": 34,
    "start_time": "2021-09-19T15:18:52.770Z"
   },
   {
    "duration": 16,
    "start_time": "2021-09-19T15:18:52.807Z"
   },
   {
    "duration": 30,
    "start_time": "2021-09-19T15:18:52.857Z"
   },
   {
    "duration": 16,
    "start_time": "2021-09-19T15:18:52.889Z"
   },
   {
    "duration": 61,
    "start_time": "2021-09-19T15:18:52.914Z"
   },
   {
    "duration": 95,
    "start_time": "2021-09-19T15:18:52.980Z"
   },
   {
    "duration": 19,
    "start_time": "2021-09-19T15:18:53.078Z"
   },
   {
    "duration": 67,
    "start_time": "2021-09-19T15:18:53.100Z"
   },
   {
    "duration": 40,
    "start_time": "2021-09-19T15:18:53.169Z"
   },
   {
    "duration": 13,
    "start_time": "2021-09-19T15:18:53.212Z"
   },
   {
    "duration": 60,
    "start_time": "2021-09-19T15:18:53.228Z"
   },
   {
    "duration": 15,
    "start_time": "2021-09-19T15:18:53.291Z"
   },
   {
    "duration": 66,
    "start_time": "2021-09-19T15:18:53.308Z"
   },
   {
    "duration": 31,
    "start_time": "2021-09-19T15:18:53.376Z"
   },
   {
    "duration": 15,
    "start_time": "2021-09-19T15:18:53.410Z"
   },
   {
    "duration": 47,
    "start_time": "2021-09-19T15:18:53.428Z"
   },
   {
    "duration": 12,
    "start_time": "2021-09-19T15:18:53.478Z"
   },
   {
    "duration": 31,
    "start_time": "2021-09-19T15:18:53.492Z"
   },
   {
    "duration": 38,
    "start_time": "2021-09-19T15:18:53.525Z"
   },
   {
    "duration": 27,
    "start_time": "2021-09-19T15:18:53.565Z"
   },
   {
    "duration": 20,
    "start_time": "2021-09-19T15:18:53.595Z"
   },
   {
    "duration": 40,
    "start_time": "2021-09-19T15:18:53.617Z"
   },
   {
    "duration": 34,
    "start_time": "2021-09-19T15:18:53.660Z"
   },
   {
    "duration": 5,
    "start_time": "2021-09-19T15:18:53.697Z"
   },
   {
    "duration": 53,
    "start_time": "2021-09-19T15:18:53.705Z"
   },
   {
    "duration": 25,
    "start_time": "2021-09-19T15:18:53.761Z"
   },
   {
    "duration": 98,
    "start_time": "2021-09-19T15:18:53.790Z"
   },
   {
    "duration": 85,
    "start_time": "2021-09-19T15:18:53.891Z"
   },
   {
    "duration": 8,
    "start_time": "2021-09-19T15:18:53.979Z"
   },
   {
    "duration": 85,
    "start_time": "2021-09-19T15:18:53.989Z"
   },
   {
    "duration": 182,
    "start_time": "2021-09-19T15:18:54.076Z"
   },
   {
    "duration": 21,
    "start_time": "2021-09-19T15:18:54.260Z"
   },
   {
    "duration": 10,
    "start_time": "2021-09-19T15:18:54.284Z"
   },
   {
    "duration": 58,
    "start_time": "2021-09-19T15:18:54.297Z"
   },
   {
    "duration": 6,
    "start_time": "2021-09-19T15:18:54.358Z"
   },
   {
    "duration": 423,
    "start_time": "2021-09-19T15:18:54.366Z"
   },
   {
    "duration": 7,
    "start_time": "2021-09-19T15:18:54.791Z"
   },
   {
    "duration": 15,
    "start_time": "2021-09-19T15:18:54.802Z"
   },
   {
    "duration": 15,
    "start_time": "2021-09-19T15:18:54.819Z"
   },
   {
    "duration": 6,
    "start_time": "2021-09-19T15:18:54.856Z"
   },
   {
    "duration": 426,
    "start_time": "2021-09-19T15:18:54.865Z"
   },
   {
    "duration": 9,
    "start_time": "2021-09-19T15:18:55.294Z"
   },
   {
    "duration": 16,
    "start_time": "2021-09-19T15:18:55.306Z"
   },
   {
    "duration": 8,
    "start_time": "2021-09-19T15:18:55.325Z"
   },
   {
    "duration": 238,
    "start_time": "2021-09-19T15:18:55.358Z"
   },
   {
    "duration": 9813,
    "start_time": "2021-09-19T15:18:55.599Z"
   },
   {
    "duration": 2792,
    "start_time": "2021-09-19T15:19:05.415Z"
   },
   {
    "duration": 16,
    "start_time": "2021-09-19T15:19:08.210Z"
   },
   {
    "duration": 62,
    "start_time": "2021-09-19T15:19:08.229Z"
   },
   {
    "duration": 22,
    "start_time": "2021-09-19T15:19:08.300Z"
   },
   {
    "duration": 110,
    "start_time": "2021-09-19T15:19:08.325Z"
   },
   {
    "duration": 22,
    "start_time": "2021-09-19T15:19:08.438Z"
   },
   {
    "duration": 68,
    "start_time": "2021-09-19T15:19:08.462Z"
   },
   {
    "duration": 141,
    "start_time": "2021-09-19T15:19:08.533Z"
   },
   {
    "duration": 5,
    "start_time": "2021-09-19T15:19:08.677Z"
   },
   {
    "duration": 7,
    "start_time": "2021-09-19T15:19:08.685Z"
   },
   {
    "duration": 6,
    "start_time": "2021-09-19T15:19:08.694Z"
   },
   {
    "duration": 336,
    "start_time": "2021-09-19T15:19:08.703Z"
   },
   {
    "duration": 15,
    "start_time": "2021-09-19T15:19:09.042Z"
   },
   {
    "duration": 9,
    "start_time": "2021-09-19T15:19:09.060Z"
   },
   {
    "duration": 7,
    "start_time": "2021-09-19T15:19:09.072Z"
   },
   {
    "duration": 8,
    "start_time": "2021-09-19T15:19:09.082Z"
   },
   {
    "duration": 411,
    "start_time": "2021-09-19T15:19:09.093Z"
   },
   {
    "duration": 9,
    "start_time": "2021-09-19T15:19:09.507Z"
   },
   {
    "duration": 38,
    "start_time": "2021-09-19T15:19:09.518Z"
   },
   {
    "duration": 14,
    "start_time": "2021-09-19T15:19:09.558Z"
   },
   {
    "duration": 90,
    "start_time": "2021-09-19T15:19:09.575Z"
   },
   {
    "duration": 15,
    "start_time": "2021-09-19T15:19:09.669Z"
   },
   {
    "duration": 58,
    "start_time": "2021-09-19T15:19:09.686Z"
   },
   {
    "duration": 75,
    "start_time": "2021-09-19T15:19:09.755Z"
   },
   {
    "duration": 23,
    "start_time": "2021-09-19T15:19:09.833Z"
   },
   {
    "duration": 7,
    "start_time": "2021-09-19T15:19:09.858Z"
   },
   {
    "duration": 9,
    "start_time": "2021-09-19T15:19:09.868Z"
   },
   {
    "duration": 301,
    "start_time": "2021-09-19T15:19:09.879Z"
   },
   {
    "duration": 7,
    "start_time": "2021-09-19T15:19:10.182Z"
   },
   {
    "duration": 11,
    "start_time": "2021-09-19T15:19:10.191Z"
   },
   {
    "duration": 10,
    "start_time": "2021-09-19T15:19:10.206Z"
   },
   {
    "duration": 40,
    "start_time": "2021-09-19T15:19:10.219Z"
   },
   {
    "duration": 382,
    "start_time": "2021-09-19T15:19:10.261Z"
   },
   {
    "duration": 12,
    "start_time": "2021-09-19T15:19:10.645Z"
   },
   {
    "duration": 651,
    "start_time": "2021-09-19T15:19:10.660Z"
   },
   {
    "duration": -104,
    "start_time": "2021-09-19T15:19:11.418Z"
   },
   {
    "duration": -106,
    "start_time": "2021-09-19T15:19:11.421Z"
   },
   {
    "duration": -107,
    "start_time": "2021-09-19T15:19:11.424Z"
   },
   {
    "duration": -109,
    "start_time": "2021-09-19T15:19:11.427Z"
   },
   {
    "duration": -113,
    "start_time": "2021-09-19T15:19:11.433Z"
   },
   {
    "duration": -115,
    "start_time": "2021-09-19T15:19:11.436Z"
   },
   {
    "duration": -117,
    "start_time": "2021-09-19T15:19:11.439Z"
   },
   {
    "duration": -118,
    "start_time": "2021-09-19T15:19:11.442Z"
   },
   {
    "duration": -120,
    "start_time": "2021-09-19T15:19:11.445Z"
   },
   {
    "duration": -123,
    "start_time": "2021-09-19T15:19:11.450Z"
   },
   {
    "duration": -124,
    "start_time": "2021-09-19T15:19:11.452Z"
   },
   {
    "duration": -126,
    "start_time": "2021-09-19T15:19:11.455Z"
   },
   {
    "duration": -127,
    "start_time": "2021-09-19T15:19:11.458Z"
   },
   {
    "duration": -127,
    "start_time": "2021-09-19T15:19:11.460Z"
   },
   {
    "duration": -129,
    "start_time": "2021-09-19T15:19:11.464Z"
   },
   {
    "duration": -132,
    "start_time": "2021-09-19T15:19:11.468Z"
   },
   {
    "duration": -134,
    "start_time": "2021-09-19T15:19:11.471Z"
   },
   {
    "duration": -135,
    "start_time": "2021-09-19T15:19:11.474Z"
   },
   {
    "duration": -122,
    "start_time": "2021-09-19T15:19:11.477Z"
   },
   {
    "duration": -124,
    "start_time": "2021-09-19T15:19:11.480Z"
   },
   {
    "duration": -126,
    "start_time": "2021-09-19T15:19:11.484Z"
   },
   {
    "duration": -127,
    "start_time": "2021-09-19T15:19:11.487Z"
   },
   {
    "duration": -129,
    "start_time": "2021-09-19T15:19:11.490Z"
   },
   {
    "duration": -131,
    "start_time": "2021-09-19T15:19:11.493Z"
   },
   {
    "duration": -132,
    "start_time": "2021-09-19T15:19:11.496Z"
   },
   {
    "duration": -136,
    "start_time": "2021-09-19T15:19:11.501Z"
   },
   {
    "duration": -138,
    "start_time": "2021-09-19T15:19:11.504Z"
   },
   {
    "duration": -139,
    "start_time": "2021-09-19T15:19:11.507Z"
   },
   {
    "duration": 10,
    "start_time": "2021-09-19T15:20:02.076Z"
   },
   {
    "duration": 26,
    "start_time": "2021-09-19T15:20:02.965Z"
   },
   {
    "duration": 101,
    "start_time": "2021-09-19T15:23:11.091Z"
   },
   {
    "duration": 276,
    "start_time": "2021-09-19T15:23:13.291Z"
   },
   {
    "duration": 280,
    "start_time": "2021-09-19T15:23:43.614Z"
   },
   {
    "duration": 54,
    "start_time": "2021-09-19T15:23:53.495Z"
   },
   {
    "duration": 7,
    "start_time": "2021-09-19T15:24:49.475Z"
   },
   {
    "duration": 30,
    "start_time": "2021-09-19T15:24:55.993Z"
   },
   {
    "duration": 103,
    "start_time": "2021-09-19T15:25:26.954Z"
   },
   {
    "duration": 20,
    "start_time": "2021-09-19T15:25:27.653Z"
   },
   {
    "duration": 59,
    "start_time": "2021-09-19T15:25:43.409Z"
   },
   {
    "duration": 253,
    "start_time": "2021-09-19T15:26:38.659Z"
   },
   {
    "duration": 11,
    "start_time": "2021-09-19T15:26:38.914Z"
   },
   {
    "duration": 274,
    "start_time": "2021-09-19T15:26:38.928Z"
   },
   {
    "duration": 12,
    "start_time": "2021-09-19T15:26:39.205Z"
   },
   {
    "duration": 139,
    "start_time": "2021-09-19T15:26:39.220Z"
   },
   {
    "duration": 11,
    "start_time": "2021-09-19T15:26:39.362Z"
   },
   {
    "duration": 26,
    "start_time": "2021-09-19T15:26:39.375Z"
   },
   {
    "duration": 16,
    "start_time": "2021-09-19T15:26:39.407Z"
   },
   {
    "duration": 81,
    "start_time": "2021-09-19T15:26:39.428Z"
   },
   {
    "duration": 16,
    "start_time": "2021-09-19T15:26:39.512Z"
   },
   {
    "duration": 7,
    "start_time": "2021-09-19T15:26:39.531Z"
   },
   {
    "duration": 8,
    "start_time": "2021-09-19T15:26:39.541Z"
   },
   {
    "duration": 7,
    "start_time": "2021-09-19T15:26:39.553Z"
   },
   {
    "duration": 10,
    "start_time": "2021-09-19T15:26:39.563Z"
   },
   {
    "duration": 10,
    "start_time": "2021-09-19T15:26:39.575Z"
   },
   {
    "duration": 8,
    "start_time": "2021-09-19T15:26:39.588Z"
   },
   {
    "duration": 19,
    "start_time": "2021-09-19T15:26:39.598Z"
   },
   {
    "duration": 58,
    "start_time": "2021-09-19T15:26:39.620Z"
   },
   {
    "duration": 38,
    "start_time": "2021-09-19T15:26:39.681Z"
   },
   {
    "duration": 40,
    "start_time": "2021-09-19T15:26:39.722Z"
   },
   {
    "duration": 33,
    "start_time": "2021-09-19T15:26:39.765Z"
   },
   {
    "duration": 15,
    "start_time": "2021-09-19T15:26:39.801Z"
   },
   {
    "duration": 57,
    "start_time": "2021-09-19T15:26:39.823Z"
   },
   {
    "duration": 85,
    "start_time": "2021-09-19T15:26:39.884Z"
   },
   {
    "duration": 18,
    "start_time": "2021-09-19T15:26:39.972Z"
   },
   {
    "duration": 69,
    "start_time": "2021-09-19T15:26:39.992Z"
   },
   {
    "duration": 40,
    "start_time": "2021-09-19T15:26:40.064Z"
   },
   {
    "duration": 14,
    "start_time": "2021-09-19T15:26:40.107Z"
   },
   {
    "duration": 63,
    "start_time": "2021-09-19T15:26:40.123Z"
   },
   {
    "duration": 15,
    "start_time": "2021-09-19T15:26:40.188Z"
   },
   {
    "duration": 75,
    "start_time": "2021-09-19T15:26:40.205Z"
   },
   {
    "duration": 32,
    "start_time": "2021-09-19T15:26:40.283Z"
   },
   {
    "duration": 15,
    "start_time": "2021-09-19T15:26:40.318Z"
   },
   {
    "duration": 42,
    "start_time": "2021-09-19T15:26:40.336Z"
   },
   {
    "duration": 13,
    "start_time": "2021-09-19T15:26:40.380Z"
   },
   {
    "duration": 57,
    "start_time": "2021-09-19T15:26:40.399Z"
   },
   {
    "duration": 14,
    "start_time": "2021-09-19T15:26:40.461Z"
   },
   {
    "duration": 39,
    "start_time": "2021-09-19T15:26:40.478Z"
   },
   {
    "duration": 46,
    "start_time": "2021-09-19T15:26:40.520Z"
   },
   {
    "duration": 19,
    "start_time": "2021-09-19T15:26:40.569Z"
   },
   {
    "duration": 49,
    "start_time": "2021-09-19T15:26:40.591Z"
   },
   {
    "duration": 5,
    "start_time": "2021-09-19T15:26:40.657Z"
   },
   {
    "duration": 26,
    "start_time": "2021-09-19T15:26:40.665Z"
   },
   {
    "duration": 20,
    "start_time": "2021-09-19T15:26:40.693Z"
   },
   {
    "duration": 79,
    "start_time": "2021-09-19T15:26:40.716Z"
   },
   {
    "duration": 31,
    "start_time": "2021-09-19T15:26:40.798Z"
   },
   {
    "duration": 33,
    "start_time": "2021-09-19T15:26:40.832Z"
   },
   {
    "duration": 46,
    "start_time": "2021-09-19T15:26:40.868Z"
   },
   {
    "duration": 15,
    "start_time": "2021-09-19T15:26:40.916Z"
   },
   {
    "duration": 33,
    "start_time": "2021-09-19T15:26:40.934Z"
   },
   {
    "duration": 15,
    "start_time": "2021-09-19T15:26:40.970Z"
   },
   {
    "duration": 18,
    "start_time": "2021-09-19T15:26:40.987Z"
   },
   {
    "duration": 20,
    "start_time": "2021-09-19T15:26:41.007Z"
   },
   {
    "duration": 297,
    "start_time": "2021-09-19T15:26:41.030Z"
   },
   {
    "duration": 7,
    "start_time": "2021-09-19T15:26:41.330Z"
   },
   {
    "duration": 24,
    "start_time": "2021-09-19T15:26:41.340Z"
   },
   {
    "duration": 23,
    "start_time": "2021-09-19T15:26:41.366Z"
   },
   {
    "duration": 17,
    "start_time": "2021-09-19T15:26:41.392Z"
   },
   {
    "duration": 308,
    "start_time": "2021-09-19T15:26:41.412Z"
   },
   {
    "duration": 8,
    "start_time": "2021-09-19T15:26:41.723Z"
   },
   {
    "duration": 25,
    "start_time": "2021-09-19T15:26:41.733Z"
   },
   {
    "duration": 9,
    "start_time": "2021-09-19T15:26:41.761Z"
   },
   {
    "duration": 136,
    "start_time": "2021-09-19T15:26:41.772Z"
   },
   {
    "duration": 9775,
    "start_time": "2021-09-19T15:26:41.911Z"
   },
   {
    "duration": 2786,
    "start_time": "2021-09-19T15:26:51.689Z"
   },
   {
    "duration": 16,
    "start_time": "2021-09-19T15:26:54.477Z"
   },
   {
    "duration": 64,
    "start_time": "2021-09-19T15:26:54.495Z"
   },
   {
    "duration": 21,
    "start_time": "2021-09-19T15:26:54.569Z"
   },
   {
    "duration": 110,
    "start_time": "2021-09-19T15:26:54.594Z"
   },
   {
    "duration": 19,
    "start_time": "2021-09-19T15:26:54.707Z"
   },
   {
    "duration": 95,
    "start_time": "2021-09-19T15:26:54.729Z"
   },
   {
    "duration": 47,
    "start_time": "2021-09-19T15:26:54.827Z"
   },
   {
    "duration": 138,
    "start_time": "2021-09-19T15:26:54.877Z"
   },
   {
    "duration": 6,
    "start_time": "2021-09-19T15:26:55.018Z"
   },
   {
    "duration": 7,
    "start_time": "2021-09-19T15:26:55.027Z"
   },
   {
    "duration": 6,
    "start_time": "2021-09-19T15:26:55.057Z"
   },
   {
    "duration": 336,
    "start_time": "2021-09-19T15:26:55.066Z"
   },
   {
    "duration": 8,
    "start_time": "2021-09-19T15:26:55.405Z"
   },
   {
    "duration": 9,
    "start_time": "2021-09-19T15:26:55.416Z"
   },
   {
    "duration": 6,
    "start_time": "2021-09-19T15:26:55.455Z"
   },
   {
    "duration": 7,
    "start_time": "2021-09-19T15:26:55.463Z"
   },
   {
    "duration": 345,
    "start_time": "2021-09-19T15:26:55.472Z"
   },
   {
    "duration": 7,
    "start_time": "2021-09-19T15:26:55.820Z"
   },
   {
    "duration": 38,
    "start_time": "2021-09-19T15:26:55.829Z"
   },
   {
    "duration": 16,
    "start_time": "2021-09-19T15:26:55.869Z"
   },
   {
    "duration": 81,
    "start_time": "2021-09-19T15:26:55.887Z"
   },
   {
    "duration": 16,
    "start_time": "2021-09-19T15:26:55.970Z"
   },
   {
    "duration": 73,
    "start_time": "2021-09-19T15:26:55.989Z"
   },
   {
    "duration": 73,
    "start_time": "2021-09-19T15:26:56.064Z"
   },
   {
    "duration": 19,
    "start_time": "2021-09-19T15:26:56.139Z"
   },
   {
    "duration": 11,
    "start_time": "2021-09-19T15:26:56.160Z"
   },
   {
    "duration": 13,
    "start_time": "2021-09-19T15:26:56.173Z"
   },
   {
    "duration": 312,
    "start_time": "2021-09-19T15:26:56.189Z"
   },
   {
    "duration": 7,
    "start_time": "2021-09-19T15:26:56.504Z"
   },
   {
    "duration": 9,
    "start_time": "2021-09-19T15:26:56.513Z"
   },
   {
    "duration": 34,
    "start_time": "2021-09-19T15:26:56.524Z"
   },
   {
    "duration": 10,
    "start_time": "2021-09-19T15:26:56.560Z"
   },
   {
    "duration": 365,
    "start_time": "2021-09-19T15:26:56.573Z"
   },
   {
    "duration": 16,
    "start_time": "2021-09-19T15:26:56.940Z"
   },
   {
    "duration": 654,
    "start_time": "2021-09-19T15:26:56.959Z"
   },
   {
    "duration": -103,
    "start_time": "2021-09-19T15:26:57.718Z"
   },
   {
    "duration": -105,
    "start_time": "2021-09-19T15:26:57.721Z"
   },
   {
    "duration": -107,
    "start_time": "2021-09-19T15:26:57.725Z"
   },
   {
    "duration": -109,
    "start_time": "2021-09-19T15:26:57.728Z"
   },
   {
    "duration": -110,
    "start_time": "2021-09-19T15:26:57.731Z"
   },
   {
    "duration": -113,
    "start_time": "2021-09-19T15:26:57.735Z"
   },
   {
    "duration": -113,
    "start_time": "2021-09-19T15:26:57.737Z"
   },
   {
    "duration": -117,
    "start_time": "2021-09-19T15:26:57.742Z"
   },
   {
    "duration": -119,
    "start_time": "2021-09-19T15:26:57.745Z"
   },
   {
    "duration": -120,
    "start_time": "2021-09-19T15:26:57.747Z"
   },
   {
    "duration": -121,
    "start_time": "2021-09-19T15:26:57.750Z"
   },
   {
    "duration": -123,
    "start_time": "2021-09-19T15:26:57.753Z"
   },
   {
    "duration": -126,
    "start_time": "2021-09-19T15:26:57.758Z"
   },
   {
    "duration": -128,
    "start_time": "2021-09-19T15:26:57.761Z"
   },
   {
    "duration": -128,
    "start_time": "2021-09-19T15:26:57.763Z"
   },
   {
    "duration": -130,
    "start_time": "2021-09-19T15:26:57.766Z"
   },
   {
    "duration": -131,
    "start_time": "2021-09-19T15:26:57.769Z"
   },
   {
    "duration": -133,
    "start_time": "2021-09-19T15:26:57.772Z"
   },
   {
    "duration": -137,
    "start_time": "2021-09-19T15:26:57.777Z"
   },
   {
    "duration": -137,
    "start_time": "2021-09-19T15:26:57.779Z"
   },
   {
    "duration": -126,
    "start_time": "2021-09-19T15:26:57.781Z"
   },
   {
    "duration": -127,
    "start_time": "2021-09-19T15:26:57.784Z"
   },
   {
    "duration": -130,
    "start_time": "2021-09-19T15:26:57.788Z"
   },
   {
    "duration": -133,
    "start_time": "2021-09-19T15:26:57.793Z"
   },
   {
    "duration": -134,
    "start_time": "2021-09-19T15:26:57.795Z"
   },
   {
    "duration": -134,
    "start_time": "2021-09-19T15:26:57.797Z"
   },
   {
    "duration": -137,
    "start_time": "2021-09-19T15:26:57.801Z"
   },
   {
    "duration": -138,
    "start_time": "2021-09-19T15:26:57.804Z"
   },
   {
    "duration": 443,
    "start_time": "2021-09-19T15:27:39.972Z"
   },
   {
    "duration": 13,
    "start_time": "2021-09-19T15:28:57.582Z"
   },
   {
    "duration": 10,
    "start_time": "2021-09-19T15:29:23.445Z"
   },
   {
    "duration": 311,
    "start_time": "2021-09-19T15:29:45.080Z"
   },
   {
    "duration": 12,
    "start_time": "2021-09-19T15:29:45.393Z"
   },
   {
    "duration": 238,
    "start_time": "2021-09-19T15:29:45.408Z"
   },
   {
    "duration": 16,
    "start_time": "2021-09-19T15:29:45.649Z"
   },
   {
    "duration": 126,
    "start_time": "2021-09-19T15:29:45.668Z"
   },
   {
    "duration": 10,
    "start_time": "2021-09-19T15:29:45.797Z"
   },
   {
    "duration": 26,
    "start_time": "2021-09-19T15:29:45.810Z"
   },
   {
    "duration": 25,
    "start_time": "2021-09-19T15:29:45.840Z"
   },
   {
    "duration": 68,
    "start_time": "2021-09-19T15:29:45.868Z"
   },
   {
    "duration": 19,
    "start_time": "2021-09-19T15:29:45.939Z"
   },
   {
    "duration": 8,
    "start_time": "2021-09-19T15:29:45.961Z"
   },
   {
    "duration": 7,
    "start_time": "2021-09-19T15:29:45.971Z"
   },
   {
    "duration": 13,
    "start_time": "2021-09-19T15:29:45.981Z"
   },
   {
    "duration": 7,
    "start_time": "2021-09-19T15:29:45.996Z"
   },
   {
    "duration": 15,
    "start_time": "2021-09-19T15:29:46.006Z"
   },
   {
    "duration": 7,
    "start_time": "2021-09-19T15:29:46.057Z"
   },
   {
    "duration": 21,
    "start_time": "2021-09-19T15:29:46.067Z"
   },
   {
    "duration": 19,
    "start_time": "2021-09-19T15:29:46.090Z"
   },
   {
    "duration": 66,
    "start_time": "2021-09-19T15:29:46.112Z"
   },
   {
    "duration": 13,
    "start_time": "2021-09-19T15:29:46.181Z"
   },
   {
    "duration": 28,
    "start_time": "2021-09-19T15:29:46.197Z"
   },
   {
    "duration": 36,
    "start_time": "2021-09-19T15:29:46.228Z"
   },
   {
    "duration": 29,
    "start_time": "2021-09-19T15:29:46.271Z"
   },
   {
    "duration": 100,
    "start_time": "2021-09-19T15:29:46.304Z"
   },
   {
    "duration": 18,
    "start_time": "2021-09-19T15:29:46.407Z"
   },
   {
    "duration": 57,
    "start_time": "2021-09-19T15:29:46.428Z"
   },
   {
    "duration": 36,
    "start_time": "2021-09-19T15:29:46.487Z"
   },
   {
    "duration": 40,
    "start_time": "2021-09-19T15:29:46.526Z"
   },
   {
    "duration": 36,
    "start_time": "2021-09-19T15:29:46.569Z"
   },
   {
    "duration": 14,
    "start_time": "2021-09-19T15:29:46.607Z"
   },
   {
    "duration": 70,
    "start_time": "2021-09-19T15:29:46.623Z"
   },
   {
    "duration": 31,
    "start_time": "2021-09-19T15:29:46.695Z"
   },
   {
    "duration": 32,
    "start_time": "2021-09-19T15:29:46.728Z"
   },
   {
    "duration": 40,
    "start_time": "2021-09-19T15:29:46.763Z"
   },
   {
    "duration": 12,
    "start_time": "2021-09-19T15:29:46.805Z"
   },
   {
    "duration": 51,
    "start_time": "2021-09-19T15:29:46.819Z"
   },
   {
    "duration": 14,
    "start_time": "2021-09-19T15:29:46.872Z"
   },
   {
    "duration": 40,
    "start_time": "2021-09-19T15:29:46.888Z"
   },
   {
    "duration": 38,
    "start_time": "2021-09-19T15:29:46.930Z"
   },
   {
    "duration": 15,
    "start_time": "2021-09-19T15:29:46.970Z"
   },
   {
    "duration": 37,
    "start_time": "2021-09-19T15:29:46.987Z"
   },
   {
    "duration": 30,
    "start_time": "2021-09-19T15:29:47.026Z"
   },
   {
    "duration": 30,
    "start_time": "2021-09-19T15:29:47.059Z"
   },
   {
    "duration": 26,
    "start_time": "2021-09-19T15:29:47.091Z"
   },
   {
    "duration": 74,
    "start_time": "2021-09-19T15:29:47.120Z"
   },
   {
    "duration": 28,
    "start_time": "2021-09-19T15:29:47.197Z"
   },
   {
    "duration": 31,
    "start_time": "2021-09-19T15:29:47.229Z"
   },
   {
    "duration": 14,
    "start_time": "2021-09-19T15:29:47.263Z"
   },
   {
    "duration": 9,
    "start_time": "2021-09-19T15:29:47.280Z"
   },
   {
    "duration": 23,
    "start_time": "2021-09-19T15:29:47.292Z"
   },
   {
    "duration": 6,
    "start_time": "2021-09-19T15:29:47.356Z"
   },
   {
    "duration": 9,
    "start_time": "2021-09-19T15:29:47.364Z"
   },
   {
    "duration": 8,
    "start_time": "2021-09-19T15:29:47.375Z"
   },
   {
    "duration": 359,
    "start_time": "2021-09-19T15:29:47.386Z"
   },
   {
    "duration": 11,
    "start_time": "2021-09-19T15:29:47.747Z"
   },
   {
    "duration": 7,
    "start_time": "2021-09-19T15:29:47.761Z"
   },
   {
    "duration": 7,
    "start_time": "2021-09-19T15:29:47.770Z"
   },
   {
    "duration": 9,
    "start_time": "2021-09-19T15:29:47.779Z"
   },
   {
    "duration": 326,
    "start_time": "2021-09-19T15:29:47.791Z"
   },
   {
    "duration": 7,
    "start_time": "2021-09-19T15:29:48.119Z"
   },
   {
    "duration": 15,
    "start_time": "2021-09-19T15:29:48.129Z"
   },
   {
    "duration": 19,
    "start_time": "2021-09-19T15:29:48.157Z"
   },
   {
    "duration": 129,
    "start_time": "2021-09-19T15:29:48.179Z"
   },
   {
    "duration": 9635,
    "start_time": "2021-09-19T15:29:48.310Z"
   },
   {
    "duration": 2886,
    "start_time": "2021-09-19T15:29:57.948Z"
   },
   {
    "duration": 21,
    "start_time": "2021-09-19T15:30:00.836Z"
   },
   {
    "duration": 79,
    "start_time": "2021-09-19T15:30:00.860Z"
   },
   {
    "duration": 23,
    "start_time": "2021-09-19T15:30:00.951Z"
   },
   {
    "duration": 119,
    "start_time": "2021-09-19T15:30:00.977Z"
   },
   {
    "duration": 22,
    "start_time": "2021-09-19T15:30:01.098Z"
   },
   {
    "duration": 186,
    "start_time": "2021-09-19T15:30:01.122Z"
   },
   {
    "duration": 14,
    "start_time": "2021-09-19T15:30:01.311Z"
   },
   {
    "duration": 38,
    "start_time": "2021-09-19T15:30:01.328Z"
   },
   {
    "duration": 137,
    "start_time": "2021-09-19T15:30:01.369Z"
   },
   {
    "duration": 5,
    "start_time": "2021-09-19T15:30:01.509Z"
   },
   {
    "duration": 24,
    "start_time": "2021-09-19T15:30:01.516Z"
   },
   {
    "duration": 41,
    "start_time": "2021-09-19T15:30:01.543Z"
   },
   {
    "duration": 345,
    "start_time": "2021-09-19T15:30:01.586Z"
   },
   {
    "duration": 7,
    "start_time": "2021-09-19T15:30:01.934Z"
   },
   {
    "duration": 67,
    "start_time": "2021-09-19T15:30:01.955Z"
   },
   {
    "duration": 22,
    "start_time": "2021-09-19T15:30:02.024Z"
   },
   {
    "duration": 37,
    "start_time": "2021-09-19T15:30:02.048Z"
   },
   {
    "duration": 331,
    "start_time": "2021-09-19T15:30:02.087Z"
   },
   {
    "duration": 8,
    "start_time": "2021-09-19T15:30:02.420Z"
   },
   {
    "duration": 34,
    "start_time": "2021-09-19T15:30:02.430Z"
   },
   {
    "duration": 15,
    "start_time": "2021-09-19T15:30:02.467Z"
   },
   {
    "duration": 81,
    "start_time": "2021-09-19T15:30:02.484Z"
   },
   {
    "duration": 15,
    "start_time": "2021-09-19T15:30:02.568Z"
   },
   {
    "duration": 79,
    "start_time": "2021-09-19T15:30:02.585Z"
   },
   {
    "duration": 73,
    "start_time": "2021-09-19T15:30:02.667Z"
   },
   {
    "duration": 14,
    "start_time": "2021-09-19T15:30:02.743Z"
   },
   {
    "duration": 23,
    "start_time": "2021-09-19T15:30:02.760Z"
   },
   {
    "duration": 36,
    "start_time": "2021-09-19T15:30:02.786Z"
   },
   {
    "duration": 414,
    "start_time": "2021-09-19T15:30:02.825Z"
   },
   {
    "duration": 20,
    "start_time": "2021-09-19T15:30:03.241Z"
   },
   {
    "duration": 34,
    "start_time": "2021-09-19T15:30:03.263Z"
   },
   {
    "duration": 32,
    "start_time": "2021-09-19T15:30:03.299Z"
   },
   {
    "duration": 24,
    "start_time": "2021-09-19T15:30:03.333Z"
   },
   {
    "duration": 407,
    "start_time": "2021-09-19T15:30:03.359Z"
   },
   {
    "duration": 7,
    "start_time": "2021-09-19T15:30:03.768Z"
   },
   {
    "duration": 80,
    "start_time": "2021-09-19T15:30:03.777Z"
   },
   {
    "duration": 295,
    "start_time": "2021-09-19T15:30:03.860Z"
   },
   {
    "duration": 42,
    "start_time": "2021-09-19T15:30:04.116Z"
   },
   {
    "duration": -31,
    "start_time": "2021-09-19T15:30:04.190Z"
   },
   {
    "duration": -33,
    "start_time": "2021-09-19T15:30:04.194Z"
   },
   {
    "duration": -34,
    "start_time": "2021-09-19T15:30:04.197Z"
   },
   {
    "duration": -37,
    "start_time": "2021-09-19T15:30:04.201Z"
   },
   {
    "duration": -38,
    "start_time": "2021-09-19T15:30:04.204Z"
   },
   {
    "duration": -42,
    "start_time": "2021-09-19T15:30:04.209Z"
   },
   {
    "duration": -44,
    "start_time": "2021-09-19T15:30:04.212Z"
   },
   {
    "duration": -45,
    "start_time": "2021-09-19T15:30:04.215Z"
   },
   {
    "duration": -47,
    "start_time": "2021-09-19T15:30:04.218Z"
   },
   {
    "duration": -48,
    "start_time": "2021-09-19T15:30:04.221Z"
   },
   {
    "duration": -52,
    "start_time": "2021-09-19T15:30:04.226Z"
   },
   {
    "duration": -53,
    "start_time": "2021-09-19T15:30:04.229Z"
   },
   {
    "duration": -65,
    "start_time": "2021-09-19T15:30:04.242Z"
   },
   {
    "duration": -67,
    "start_time": "2021-09-19T15:30:04.245Z"
   },
   {
    "duration": -68,
    "start_time": "2021-09-19T15:30:04.248Z"
   },
   {
    "duration": -70,
    "start_time": "2021-09-19T15:30:04.251Z"
   },
   {
    "duration": -71,
    "start_time": "2021-09-19T15:30:04.254Z"
   },
   {
    "duration": -75,
    "start_time": "2021-09-19T15:30:04.259Z"
   },
   {
    "duration": -76,
    "start_time": "2021-09-19T15:30:04.262Z"
   },
   {
    "duration": -78,
    "start_time": "2021-09-19T15:30:04.265Z"
   },
   {
    "duration": -79,
    "start_time": "2021-09-19T15:30:04.268Z"
   },
   {
    "duration": -87,
    "start_time": "2021-09-19T15:30:04.277Z"
   },
   {
    "duration": -88,
    "start_time": "2021-09-19T15:30:04.279Z"
   },
   {
    "duration": -89,
    "start_time": "2021-09-19T15:30:04.282Z"
   },
   {
    "duration": -92,
    "start_time": "2021-09-19T15:30:04.286Z"
   },
   {
    "duration": -93,
    "start_time": "2021-09-19T15:30:04.289Z"
   },
   {
    "duration": 39,
    "start_time": "2021-09-19T15:30:15.141Z"
   },
   {
    "duration": 280,
    "start_time": "2021-09-19T15:36:40.336Z"
   },
   {
    "duration": 39,
    "start_time": "2021-09-19T15:36:40.619Z"
   },
   {
    "duration": 244,
    "start_time": "2021-09-19T15:36:40.660Z"
   },
   {
    "duration": 12,
    "start_time": "2021-09-19T15:36:40.907Z"
   },
   {
    "duration": 154,
    "start_time": "2021-09-19T15:36:40.922Z"
   },
   {
    "duration": 10,
    "start_time": "2021-09-19T15:36:41.079Z"
   },
   {
    "duration": 30,
    "start_time": "2021-09-19T15:36:41.091Z"
   },
   {
    "duration": 18,
    "start_time": "2021-09-19T15:36:41.125Z"
   },
   {
    "duration": 93,
    "start_time": "2021-09-19T15:36:41.146Z"
   },
   {
    "duration": 15,
    "start_time": "2021-09-19T15:36:41.241Z"
   },
   {
    "duration": 10,
    "start_time": "2021-09-19T15:36:41.259Z"
   },
   {
    "duration": 17,
    "start_time": "2021-09-19T15:36:41.272Z"
   },
   {
    "duration": 16,
    "start_time": "2021-09-19T15:36:41.292Z"
   },
   {
    "duration": 15,
    "start_time": "2021-09-19T15:36:41.310Z"
   },
   {
    "duration": 17,
    "start_time": "2021-09-19T15:36:41.327Z"
   },
   {
    "duration": 17,
    "start_time": "2021-09-19T15:36:41.346Z"
   },
   {
    "duration": 29,
    "start_time": "2021-09-19T15:36:41.366Z"
   },
   {
    "duration": 21,
    "start_time": "2021-09-19T15:36:41.398Z"
   },
   {
    "duration": 51,
    "start_time": "2021-09-19T15:36:41.421Z"
   },
   {
    "duration": 14,
    "start_time": "2021-09-19T15:36:41.474Z"
   },
   {
    "duration": 46,
    "start_time": "2021-09-19T15:36:41.490Z"
   },
   {
    "duration": 28,
    "start_time": "2021-09-19T15:36:41.539Z"
   },
   {
    "duration": 30,
    "start_time": "2021-09-19T15:36:41.573Z"
   },
   {
    "duration": 106,
    "start_time": "2021-09-19T15:36:41.607Z"
   },
   {
    "duration": 25,
    "start_time": "2021-09-19T15:36:41.716Z"
   },
   {
    "duration": 57,
    "start_time": "2021-09-19T15:36:41.757Z"
   },
   {
    "duration": 62,
    "start_time": "2021-09-19T15:36:41.817Z"
   },
   {
    "duration": 17,
    "start_time": "2021-09-19T15:36:41.882Z"
   },
   {
    "duration": 78,
    "start_time": "2021-09-19T15:36:41.902Z"
   },
   {
    "duration": 20,
    "start_time": "2021-09-19T15:36:41.983Z"
   },
   {
    "duration": 81,
    "start_time": "2021-09-19T15:36:42.006Z"
   },
   {
    "duration": 39,
    "start_time": "2021-09-19T15:36:42.090Z"
   },
   {
    "duration": 37,
    "start_time": "2021-09-19T15:36:42.132Z"
   },
   {
    "duration": 46,
    "start_time": "2021-09-19T15:36:42.172Z"
   },
   {
    "duration": 16,
    "start_time": "2021-09-19T15:36:42.222Z"
   },
   {
    "duration": 27,
    "start_time": "2021-09-19T15:36:42.257Z"
   },
   {
    "duration": 14,
    "start_time": "2021-09-19T15:36:42.287Z"
   },
   {
    "duration": 52,
    "start_time": "2021-09-19T15:36:42.304Z"
   },
   {
    "duration": 21,
    "start_time": "2021-09-19T15:36:42.359Z"
   },
   {
    "duration": 15,
    "start_time": "2021-09-19T15:36:42.383Z"
   },
   {
    "duration": 58,
    "start_time": "2021-09-19T15:36:42.400Z"
   },
   {
    "duration": 4,
    "start_time": "2021-09-19T15:36:42.461Z"
   },
   {
    "duration": 36,
    "start_time": "2021-09-19T15:36:42.468Z"
   },
   {
    "duration": 19,
    "start_time": "2021-09-19T15:36:42.506Z"
   },
   {
    "duration": 60,
    "start_time": "2021-09-19T15:36:42.528Z"
   },
   {
    "duration": 23,
    "start_time": "2021-09-19T15:36:42.591Z"
   },
   {
    "duration": 31,
    "start_time": "2021-09-19T15:36:42.617Z"
   },
   {
    "duration": 15,
    "start_time": "2021-09-19T15:36:42.651Z"
   },
   {
    "duration": 6,
    "start_time": "2021-09-19T15:36:42.669Z"
   },
   {
    "duration": 26,
    "start_time": "2021-09-19T15:36:42.678Z"
   },
   {
    "duration": 12,
    "start_time": "2021-09-19T15:36:42.706Z"
   },
   {
    "duration": 38,
    "start_time": "2021-09-19T15:36:42.720Z"
   },
   {
    "duration": 15,
    "start_time": "2021-09-19T15:36:42.761Z"
   },
   {
    "duration": 313,
    "start_time": "2021-09-19T15:36:42.779Z"
   },
   {
    "duration": 8,
    "start_time": "2021-09-19T15:36:43.095Z"
   },
   {
    "duration": 17,
    "start_time": "2021-09-19T15:36:43.106Z"
   },
   {
    "duration": 17,
    "start_time": "2021-09-19T15:36:43.126Z"
   },
   {
    "duration": 10,
    "start_time": "2021-09-19T15:36:43.157Z"
   },
   {
    "duration": 338,
    "start_time": "2021-09-19T15:36:43.170Z"
   },
   {
    "duration": 7,
    "start_time": "2021-09-19T15:36:43.511Z"
   },
   {
    "duration": 12,
    "start_time": "2021-09-19T15:36:43.520Z"
   },
   {
    "duration": 26,
    "start_time": "2021-09-19T15:36:43.535Z"
   },
   {
    "duration": 247,
    "start_time": "2021-09-19T15:36:43.564Z"
   },
   {
    "duration": 8475,
    "start_time": "2021-09-19T15:36:43.814Z"
   },
   {
    "duration": 2764,
    "start_time": "2021-09-19T15:36:52.292Z"
   },
   {
    "duration": 16,
    "start_time": "2021-09-19T15:36:55.058Z"
   },
   {
    "duration": 39,
    "start_time": "2021-09-19T15:36:55.076Z"
   },
   {
    "duration": 47,
    "start_time": "2021-09-19T15:36:55.125Z"
   },
   {
    "duration": 107,
    "start_time": "2021-09-19T15:36:55.177Z"
   },
   {
    "duration": 19,
    "start_time": "2021-09-19T15:36:55.286Z"
   },
   {
    "duration": 93,
    "start_time": "2021-09-19T15:36:55.308Z"
   },
   {
    "duration": 15,
    "start_time": "2021-09-19T15:36:55.404Z"
   },
   {
    "duration": 142,
    "start_time": "2021-09-19T15:36:55.423Z"
   },
   {
    "duration": 6,
    "start_time": "2021-09-19T15:36:55.567Z"
   },
   {
    "duration": 17,
    "start_time": "2021-09-19T15:36:55.575Z"
   },
   {
    "duration": 9,
    "start_time": "2021-09-19T15:36:55.594Z"
   },
   {
    "duration": 411,
    "start_time": "2021-09-19T15:36:55.606Z"
   },
   {
    "duration": 8,
    "start_time": "2021-09-19T15:36:56.021Z"
   },
   {
    "duration": 26,
    "start_time": "2021-09-19T15:36:56.032Z"
   },
   {
    "duration": 10,
    "start_time": "2021-09-19T15:36:56.062Z"
   },
   {
    "duration": 9,
    "start_time": "2021-09-19T15:36:56.075Z"
   },
   {
    "duration": 456,
    "start_time": "2021-09-19T15:36:56.086Z"
   },
   {
    "duration": 18,
    "start_time": "2021-09-19T15:36:56.545Z"
   },
   {
    "duration": 17,
    "start_time": "2021-09-19T15:36:56.565Z"
   },
   {
    "duration": 14,
    "start_time": "2021-09-19T15:36:56.585Z"
   },
   {
    "duration": 71,
    "start_time": "2021-09-19T15:36:56.602Z"
   },
   {
    "duration": 90,
    "start_time": "2021-09-19T15:36:56.675Z"
   },
   {
    "duration": 55,
    "start_time": "2021-09-19T15:36:56.713Z"
   },
   {
    "duration": 51,
    "start_time": "2021-09-19T15:36:56.718Z"
   },
   {
    "duration": 49,
    "start_time": "2021-09-19T15:36:56.721Z"
   },
   {
    "duration": 44,
    "start_time": "2021-09-19T15:36:56.728Z"
   },
   {
    "duration": 42,
    "start_time": "2021-09-19T15:36:56.731Z"
   },
   {
    "duration": 40,
    "start_time": "2021-09-19T15:36:56.735Z"
   },
   {
    "duration": 38,
    "start_time": "2021-09-19T15:36:56.738Z"
   },
   {
    "duration": 33,
    "start_time": "2021-09-19T15:36:56.744Z"
   },
   {
    "duration": 30,
    "start_time": "2021-09-19T15:36:56.748Z"
   },
   {
    "duration": 28,
    "start_time": "2021-09-19T15:36:56.751Z"
   },
   {
    "duration": 27,
    "start_time": "2021-09-19T15:36:56.754Z"
   },
   {
    "duration": 7,
    "start_time": "2021-09-19T15:36:56.775Z"
   },
   {
    "duration": 4,
    "start_time": "2021-09-19T15:36:56.779Z"
   },
   {
    "duration": 1,
    "start_time": "2021-09-19T15:36:56.783Z"
   },
   {
    "duration": -1,
    "start_time": "2021-09-19T15:36:56.787Z"
   },
   {
    "duration": -5,
    "start_time": "2021-09-19T15:36:56.792Z"
   },
   {
    "duration": -8,
    "start_time": "2021-09-19T15:36:56.796Z"
   },
   {
    "duration": -9,
    "start_time": "2021-09-19T15:36:56.799Z"
   },
   {
    "duration": -11,
    "start_time": "2021-09-19T15:36:56.802Z"
   },
   {
    "duration": -16,
    "start_time": "2021-09-19T15:36:56.808Z"
   },
   {
    "duration": -19,
    "start_time": "2021-09-19T15:36:56.812Z"
   },
   {
    "duration": -20,
    "start_time": "2021-09-19T15:36:56.815Z"
   },
   {
    "duration": -35,
    "start_time": "2021-09-19T15:36:56.831Z"
   },
   {
    "duration": -37,
    "start_time": "2021-09-19T15:36:56.834Z"
   },
   {
    "duration": -40,
    "start_time": "2021-09-19T15:36:56.838Z"
   },
   {
    "duration": -46,
    "start_time": "2021-09-19T15:36:56.845Z"
   },
   {
    "duration": -59,
    "start_time": "2021-09-19T15:36:56.859Z"
   },
   {
    "duration": -61,
    "start_time": "2021-09-19T15:36:56.863Z"
   },
   {
    "duration": -63,
    "start_time": "2021-09-19T15:36:56.866Z"
   },
   {
    "duration": -12,
    "start_time": "2021-09-19T15:36:56.870Z"
   },
   {
    "duration": -15,
    "start_time": "2021-09-19T15:36:56.875Z"
   },
   {
    "duration": -17,
    "start_time": "2021-09-19T15:36:56.878Z"
   },
   {
    "duration": -19,
    "start_time": "2021-09-19T15:36:56.882Z"
   },
   {
    "duration": -22,
    "start_time": "2021-09-19T15:36:56.886Z"
   },
   {
    "duration": -26,
    "start_time": "2021-09-19T15:36:56.891Z"
   },
   {
    "duration": -27,
    "start_time": "2021-09-19T15:36:56.894Z"
   },
   {
    "duration": -30,
    "start_time": "2021-09-19T15:36:56.898Z"
   },
   {
    "duration": -32,
    "start_time": "2021-09-19T15:36:56.901Z"
   },
   {
    "duration": -34,
    "start_time": "2021-09-19T15:36:56.905Z"
   },
   {
    "duration": -37,
    "start_time": "2021-09-19T15:36:56.909Z"
   },
   {
    "duration": 7411,
    "start_time": "2021-09-19T15:38:09.153Z"
   },
   {
    "duration": 11,
    "start_time": "2021-09-19T15:38:38.725Z"
   },
   {
    "duration": 83,
    "start_time": "2021-09-19T15:38:55.157Z"
   },
   {
    "duration": 298,
    "start_time": "2021-09-19T15:39:19.786Z"
   },
   {
    "duration": 13,
    "start_time": "2021-09-19T15:39:20.088Z"
   },
   {
    "duration": 280,
    "start_time": "2021-09-19T15:39:20.105Z"
   },
   {
    "duration": 12,
    "start_time": "2021-09-19T15:39:20.388Z"
   },
   {
    "duration": 138,
    "start_time": "2021-09-19T15:39:20.403Z"
   },
   {
    "duration": 17,
    "start_time": "2021-09-19T15:39:20.544Z"
   },
   {
    "duration": 29,
    "start_time": "2021-09-19T15:39:20.564Z"
   },
   {
    "duration": 19,
    "start_time": "2021-09-19T15:39:20.599Z"
   },
   {
    "duration": 95,
    "start_time": "2021-09-19T15:39:20.622Z"
   },
   {
    "duration": 18,
    "start_time": "2021-09-19T15:39:20.720Z"
   },
   {
    "duration": 28,
    "start_time": "2021-09-19T15:39:20.740Z"
   },
   {
    "duration": 16,
    "start_time": "2021-09-19T15:39:20.771Z"
   },
   {
    "duration": 29,
    "start_time": "2021-09-19T15:39:20.789Z"
   },
   {
    "duration": 21,
    "start_time": "2021-09-19T15:39:20.821Z"
   },
   {
    "duration": 34,
    "start_time": "2021-09-19T15:39:20.845Z"
   },
   {
    "duration": 13,
    "start_time": "2021-09-19T15:39:20.882Z"
   },
   {
    "duration": 37,
    "start_time": "2021-09-19T15:39:20.897Z"
   },
   {
    "duration": 20,
    "start_time": "2021-09-19T15:39:20.936Z"
   },
   {
    "duration": 31,
    "start_time": "2021-09-19T15:39:20.959Z"
   },
   {
    "duration": 26,
    "start_time": "2021-09-19T15:39:20.992Z"
   },
   {
    "duration": 50,
    "start_time": "2021-09-19T15:39:21.021Z"
   },
   {
    "duration": 16,
    "start_time": "2021-09-19T15:39:21.074Z"
   },
   {
    "duration": 38,
    "start_time": "2021-09-19T15:39:21.097Z"
   },
   {
    "duration": 128,
    "start_time": "2021-09-19T15:39:21.139Z"
   },
   {
    "duration": 41,
    "start_time": "2021-09-19T15:39:21.270Z"
   },
   {
    "duration": 109,
    "start_time": "2021-09-19T15:39:21.314Z"
   },
   {
    "duration": 57,
    "start_time": "2021-09-19T15:39:21.426Z"
   },
   {
    "duration": 33,
    "start_time": "2021-09-19T15:39:21.486Z"
   },
   {
    "duration": 66,
    "start_time": "2021-09-19T15:39:21.529Z"
   },
   {
    "duration": 40,
    "start_time": "2021-09-19T15:39:21.603Z"
   },
   {
    "duration": 86,
    "start_time": "2021-09-19T15:39:21.653Z"
   },
   {
    "duration": 48,
    "start_time": "2021-09-19T15:39:21.748Z"
   },
   {
    "duration": 25,
    "start_time": "2021-09-19T15:39:21.799Z"
   },
   {
    "duration": 34,
    "start_time": "2021-09-19T15:39:21.826Z"
   },
   {
    "duration": 13,
    "start_time": "2021-09-19T15:39:21.863Z"
   },
   {
    "duration": 44,
    "start_time": "2021-09-19T15:39:21.879Z"
   },
   {
    "duration": 20,
    "start_time": "2021-09-19T15:39:21.926Z"
   },
   {
    "duration": 39,
    "start_time": "2021-09-19T15:39:21.948Z"
   },
   {
    "duration": 21,
    "start_time": "2021-09-19T15:39:21.989Z"
   },
   {
    "duration": 18,
    "start_time": "2021-09-19T15:39:22.013Z"
   },
   {
    "duration": 49,
    "start_time": "2021-09-19T15:39:22.034Z"
   },
   {
    "duration": 4,
    "start_time": "2021-09-19T15:39:22.086Z"
   },
   {
    "duration": 32,
    "start_time": "2021-09-19T15:39:22.094Z"
   },
   {
    "duration": 32,
    "start_time": "2021-09-19T15:39:22.129Z"
   },
   {
    "duration": 62,
    "start_time": "2021-09-19T15:39:22.165Z"
   },
   {
    "duration": 53,
    "start_time": "2021-09-19T15:39:22.231Z"
   },
   {
    "duration": 29,
    "start_time": "2021-09-19T15:39:22.287Z"
   },
   {
    "duration": 24,
    "start_time": "2021-09-19T15:39:22.318Z"
   },
   {
    "duration": 21,
    "start_time": "2021-09-19T15:39:22.345Z"
   },
   {
    "duration": 28,
    "start_time": "2021-09-19T15:39:22.369Z"
   },
   {
    "duration": 15,
    "start_time": "2021-09-19T15:39:22.401Z"
   },
   {
    "duration": 15,
    "start_time": "2021-09-19T15:39:22.419Z"
   },
   {
    "duration": 32,
    "start_time": "2021-09-19T15:39:22.437Z"
   },
   {
    "duration": 435,
    "start_time": "2021-09-19T15:39:22.471Z"
   },
   {
    "duration": 6,
    "start_time": "2021-09-19T15:39:22.908Z"
   },
   {
    "duration": 38,
    "start_time": "2021-09-19T15:39:22.916Z"
   },
   {
    "duration": 31,
    "start_time": "2021-09-19T15:39:22.957Z"
   },
   {
    "duration": 25,
    "start_time": "2021-09-19T15:39:22.990Z"
   },
   {
    "duration": 317,
    "start_time": "2021-09-19T15:39:23.018Z"
   },
   {
    "duration": 7,
    "start_time": "2021-09-19T15:39:23.337Z"
   },
   {
    "duration": 17,
    "start_time": "2021-09-19T15:39:23.346Z"
   },
   {
    "duration": 11,
    "start_time": "2021-09-19T15:39:23.365Z"
   },
   {
    "duration": 150,
    "start_time": "2021-09-19T15:39:23.378Z"
   },
   {
    "duration": 8110,
    "start_time": "2021-09-19T15:39:23.531Z"
   },
   {
    "duration": 2849,
    "start_time": "2021-09-19T15:39:31.644Z"
   },
   {
    "duration": 18,
    "start_time": "2021-09-19T15:39:34.496Z"
   },
   {
    "duration": 68,
    "start_time": "2021-09-19T15:39:34.517Z"
   },
   {
    "duration": 23,
    "start_time": "2021-09-19T15:39:34.596Z"
   },
   {
    "duration": 116,
    "start_time": "2021-09-19T15:39:34.624Z"
   },
   {
    "duration": 29,
    "start_time": "2021-09-19T15:39:34.742Z"
   },
   {
    "duration": 85,
    "start_time": "2021-09-19T15:39:34.774Z"
   },
   {
    "duration": 14,
    "start_time": "2021-09-19T15:39:34.862Z"
   },
   {
    "duration": 135,
    "start_time": "2021-09-19T15:39:34.878Z"
   },
   {
    "duration": 7,
    "start_time": "2021-09-19T15:39:35.016Z"
   },
   {
    "duration": 9,
    "start_time": "2021-09-19T15:39:35.025Z"
   },
   {
    "duration": 8,
    "start_time": "2021-09-19T15:39:35.057Z"
   },
   {
    "duration": 422,
    "start_time": "2021-09-19T15:39:35.068Z"
   },
   {
    "duration": 7,
    "start_time": "2021-09-19T15:39:35.493Z"
   },
   {
    "duration": 10,
    "start_time": "2021-09-19T15:39:35.503Z"
   },
   {
    "duration": 9,
    "start_time": "2021-09-19T15:39:35.516Z"
   },
   {
    "duration": 6,
    "start_time": "2021-09-19T15:39:35.557Z"
   },
   {
    "duration": 334,
    "start_time": "2021-09-19T15:39:35.566Z"
   },
   {
    "duration": 7,
    "start_time": "2021-09-19T15:39:35.902Z"
   },
   {
    "duration": 17,
    "start_time": "2021-09-19T15:39:35.911Z"
   },
   {
    "duration": 15,
    "start_time": "2021-09-19T15:39:35.956Z"
   },
   {
    "duration": 49,
    "start_time": "2021-09-19T15:39:35.974Z"
   },
   {
    "duration": 8,
    "start_time": "2021-09-19T15:39:36.025Z"
   },
   {
    "duration": 1433,
    "start_time": "2021-09-19T15:39:36.035Z"
   },
   {
    "duration": 56,
    "start_time": "2021-09-19T15:39:37.415Z"
   },
   {
    "duration": 50,
    "start_time": "2021-09-19T15:39:37.422Z"
   },
   {
    "duration": -13,
    "start_time": "2021-09-19T15:39:37.487Z"
   },
   {
    "duration": -16,
    "start_time": "2021-09-19T15:39:37.492Z"
   },
   {
    "duration": -20,
    "start_time": "2021-09-19T15:39:37.497Z"
   },
   {
    "duration": -22,
    "start_time": "2021-09-19T15:39:37.501Z"
   },
   {
    "duration": -27,
    "start_time": "2021-09-19T15:39:37.507Z"
   },
   {
    "duration": -29,
    "start_time": "2021-09-19T15:39:37.511Z"
   },
   {
    "duration": -32,
    "start_time": "2021-09-19T15:39:37.515Z"
   },
   {
    "duration": -35,
    "start_time": "2021-09-19T15:39:37.520Z"
   },
   {
    "duration": -37,
    "start_time": "2021-09-19T15:39:37.524Z"
   },
   {
    "duration": -39,
    "start_time": "2021-09-19T15:39:37.527Z"
   },
   {
    "duration": -56,
    "start_time": "2021-09-19T15:39:37.546Z"
   },
   {
    "duration": -60,
    "start_time": "2021-09-19T15:39:37.551Z"
   },
   {
    "duration": -63,
    "start_time": "2021-09-19T15:39:37.556Z"
   },
   {
    "duration": -66,
    "start_time": "2021-09-19T15:39:37.560Z"
   },
   {
    "duration": -68,
    "start_time": "2021-09-19T15:39:37.564Z"
   },
   {
    "duration": -71,
    "start_time": "2021-09-19T15:39:37.568Z"
   },
   {
    "duration": -74,
    "start_time": "2021-09-19T15:39:37.573Z"
   },
   {
    "duration": -88,
    "start_time": "2021-09-19T15:39:37.589Z"
   },
   {
    "duration": -91,
    "start_time": "2021-09-19T15:39:37.593Z"
   },
   {
    "duration": -94,
    "start_time": "2021-09-19T15:39:37.597Z"
   },
   {
    "duration": -96,
    "start_time": "2021-09-19T15:39:37.601Z"
   },
   {
    "duration": -99,
    "start_time": "2021-09-19T15:39:37.606Z"
   },
   {
    "duration": -102,
    "start_time": "2021-09-19T15:39:37.610Z"
   },
   {
    "duration": -105,
    "start_time": "2021-09-19T15:39:37.614Z"
   },
   {
    "duration": -108,
    "start_time": "2021-09-19T15:39:37.618Z"
   },
   {
    "duration": -68,
    "start_time": "2021-09-19T15:39:37.623Z"
   },
   {
    "duration": -70,
    "start_time": "2021-09-19T15:39:37.627Z"
   },
   {
    "duration": -72,
    "start_time": "2021-09-19T15:39:37.631Z"
   },
   {
    "duration": -74,
    "start_time": "2021-09-19T15:39:37.634Z"
   },
   {
    "duration": -78,
    "start_time": "2021-09-19T15:39:37.640Z"
   },
   {
    "duration": -81,
    "start_time": "2021-09-19T15:39:37.644Z"
   },
   {
    "duration": -82,
    "start_time": "2021-09-19T15:39:37.647Z"
   },
   {
    "duration": -85,
    "start_time": "2021-09-19T15:39:37.651Z"
   },
   {
    "duration": -89,
    "start_time": "2021-09-19T15:39:37.657Z"
   },
   {
    "duration": -92,
    "start_time": "2021-09-19T15:39:37.661Z"
   },
   {
    "duration": -94,
    "start_time": "2021-09-19T15:39:37.665Z"
   },
   {
    "duration": -97,
    "start_time": "2021-09-19T15:39:37.670Z"
   },
   {
    "duration": 63,
    "start_time": "2021-09-19T15:42:09.175Z"
   },
   {
    "duration": 31,
    "start_time": "2021-09-19T15:44:26.197Z"
   },
   {
    "duration": 103,
    "start_time": "2021-09-19T15:44:54.617Z"
   },
   {
    "duration": 792,
    "start_time": "2021-09-19T15:45:27.979Z"
   },
   {
    "duration": 41,
    "start_time": "2021-09-19T15:45:59.745Z"
   },
   {
    "duration": 706,
    "start_time": "2021-09-19T15:47:48.476Z"
   },
   {
    "duration": 886,
    "start_time": "2021-09-19T15:47:53.871Z"
   },
   {
    "duration": 5832,
    "start_time": "2021-09-19T15:49:10.366Z"
   },
   {
    "duration": 42,
    "start_time": "2021-09-19T15:49:40.318Z"
   },
   {
    "duration": 275,
    "start_time": "2021-09-19T15:49:52.945Z"
   },
   {
    "duration": 41,
    "start_time": "2021-09-19T15:49:53.222Z"
   },
   {
    "duration": 234,
    "start_time": "2021-09-19T15:49:53.265Z"
   },
   {
    "duration": 14,
    "start_time": "2021-09-19T15:49:53.504Z"
   },
   {
    "duration": 136,
    "start_time": "2021-09-19T15:49:53.520Z"
   },
   {
    "duration": 10,
    "start_time": "2021-09-19T15:49:53.658Z"
   },
   {
    "duration": 26,
    "start_time": "2021-09-19T15:49:53.670Z"
   },
   {
    "duration": 22,
    "start_time": "2021-09-19T15:49:53.701Z"
   },
   {
    "duration": 68,
    "start_time": "2021-09-19T15:49:53.727Z"
   },
   {
    "duration": 20,
    "start_time": "2021-09-19T15:49:53.797Z"
   },
   {
    "duration": 16,
    "start_time": "2021-09-19T15:49:53.820Z"
   },
   {
    "duration": 19,
    "start_time": "2021-09-19T15:49:53.838Z"
   },
   {
    "duration": 13,
    "start_time": "2021-09-19T15:49:53.859Z"
   },
   {
    "duration": 19,
    "start_time": "2021-09-19T15:49:53.874Z"
   },
   {
    "duration": 19,
    "start_time": "2021-09-19T15:49:53.895Z"
   },
   {
    "duration": 11,
    "start_time": "2021-09-19T15:49:53.916Z"
   },
   {
    "duration": 27,
    "start_time": "2021-09-19T15:49:53.930Z"
   },
   {
    "duration": 23,
    "start_time": "2021-09-19T15:49:53.960Z"
   },
   {
    "duration": 33,
    "start_time": "2021-09-19T15:49:53.985Z"
   },
   {
    "duration": 48,
    "start_time": "2021-09-19T15:49:54.020Z"
   },
   {
    "duration": 30,
    "start_time": "2021-09-19T15:49:54.072Z"
   },
   {
    "duration": 51,
    "start_time": "2021-09-19T15:49:54.104Z"
   },
   {
    "duration": 40,
    "start_time": "2021-09-19T15:49:54.164Z"
   },
   {
    "duration": 90,
    "start_time": "2021-09-19T15:49:54.207Z"
   },
   {
    "duration": 18,
    "start_time": "2021-09-19T15:49:54.300Z"
   },
   {
    "duration": 67,
    "start_time": "2021-09-19T15:49:54.322Z"
   },
   {
    "duration": 36,
    "start_time": "2021-09-19T15:49:54.392Z"
   },
   {
    "duration": 27,
    "start_time": "2021-09-19T15:49:54.431Z"
   },
   {
    "duration": 46,
    "start_time": "2021-09-19T15:49:54.461Z"
   },
   {
    "duration": 19,
    "start_time": "2021-09-19T15:49:54.511Z"
   },
   {
    "duration": 44,
    "start_time": "2021-09-19T15:49:54.558Z"
   },
   {
    "duration": 60,
    "start_time": "2021-09-19T15:49:54.605Z"
   },
   {
    "duration": 15,
    "start_time": "2021-09-19T15:49:54.668Z"
   },
   {
    "duration": 35,
    "start_time": "2021-09-19T15:49:54.686Z"
   },
   {
    "duration": 46,
    "start_time": "2021-09-19T15:49:54.724Z"
   },
   {
    "duration": 26,
    "start_time": "2021-09-19T15:49:54.773Z"
   },
   {
    "duration": 13,
    "start_time": "2021-09-19T15:49:54.801Z"
   },
   {
    "duration": 62,
    "start_time": "2021-09-19T15:49:54.816Z"
   },
   {
    "duration": 27,
    "start_time": "2021-09-19T15:49:54.881Z"
   },
   {
    "duration": 46,
    "start_time": "2021-09-19T15:49:54.911Z"
   },
   {
    "duration": 43,
    "start_time": "2021-09-19T15:49:54.960Z"
   },
   {
    "duration": 4,
    "start_time": "2021-09-19T15:49:55.007Z"
   },
   {
    "duration": 46,
    "start_time": "2021-09-19T15:49:55.014Z"
   },
   {
    "duration": 20,
    "start_time": "2021-09-19T15:49:55.063Z"
   },
   {
    "duration": 43,
    "start_time": "2021-09-19T15:49:55.085Z"
   },
   {
    "duration": 46,
    "start_time": "2021-09-19T15:49:55.130Z"
   },
   {
    "duration": 26,
    "start_time": "2021-09-19T15:49:55.178Z"
   },
   {
    "duration": 26,
    "start_time": "2021-09-19T15:49:55.206Z"
   },
   {
    "duration": 21,
    "start_time": "2021-09-19T15:49:55.235Z"
   },
   {
    "duration": 38,
    "start_time": "2021-09-19T15:49:55.258Z"
   },
   {
    "duration": 17,
    "start_time": "2021-09-19T15:49:55.299Z"
   },
   {
    "duration": 18,
    "start_time": "2021-09-19T15:49:55.319Z"
   },
   {
    "duration": 17,
    "start_time": "2021-09-19T15:49:55.340Z"
   },
   {
    "duration": 418,
    "start_time": "2021-09-19T15:49:55.360Z"
   },
   {
    "duration": 8,
    "start_time": "2021-09-19T15:49:55.781Z"
   },
   {
    "duration": 16,
    "start_time": "2021-09-19T15:49:55.793Z"
   },
   {
    "duration": 14,
    "start_time": "2021-09-19T15:49:55.812Z"
   },
   {
    "duration": 7,
    "start_time": "2021-09-19T15:49:55.856Z"
   },
   {
    "duration": 495,
    "start_time": "2021-09-19T15:49:55.866Z"
   },
   {
    "duration": 9,
    "start_time": "2021-09-19T15:49:56.365Z"
   },
   {
    "duration": 17,
    "start_time": "2021-09-19T15:49:56.376Z"
   },
   {
    "duration": 6,
    "start_time": "2021-09-19T15:49:56.396Z"
   },
   {
    "duration": 152,
    "start_time": "2021-09-19T15:49:56.405Z"
   },
   {
    "duration": 9181,
    "start_time": "2021-09-19T15:49:56.559Z"
   },
   {
    "duration": 2731,
    "start_time": "2021-09-19T15:50:05.742Z"
   },
   {
    "duration": 15,
    "start_time": "2021-09-19T15:50:08.476Z"
   },
   {
    "duration": 49,
    "start_time": "2021-09-19T15:50:08.493Z"
   },
   {
    "duration": 21,
    "start_time": "2021-09-19T15:50:08.559Z"
   },
   {
    "duration": 106,
    "start_time": "2021-09-19T15:50:08.584Z"
   },
   {
    "duration": 18,
    "start_time": "2021-09-19T15:50:08.692Z"
   },
   {
    "duration": 87,
    "start_time": "2021-09-19T15:50:08.712Z"
   },
   {
    "duration": 14,
    "start_time": "2021-09-19T15:50:08.802Z"
   },
   {
    "duration": 143,
    "start_time": "2021-09-19T15:50:08.818Z"
   },
   {
    "duration": 7,
    "start_time": "2021-09-19T15:50:08.963Z"
   },
   {
    "duration": 16,
    "start_time": "2021-09-19T15:50:08.972Z"
   },
   {
    "duration": 19,
    "start_time": "2021-09-19T15:50:08.990Z"
   },
   {
    "duration": 327,
    "start_time": "2021-09-19T15:50:09.011Z"
   },
   {
    "duration": 17,
    "start_time": "2021-09-19T15:50:09.340Z"
   },
   {
    "duration": 13,
    "start_time": "2021-09-19T15:50:09.359Z"
   },
   {
    "duration": 14,
    "start_time": "2021-09-19T15:50:09.374Z"
   },
   {
    "duration": 17,
    "start_time": "2021-09-19T15:50:09.390Z"
   },
   {
    "duration": 303,
    "start_time": "2021-09-19T15:50:09.409Z"
   },
   {
    "duration": 7,
    "start_time": "2021-09-19T15:50:09.714Z"
   },
   {
    "duration": 39,
    "start_time": "2021-09-19T15:50:09.724Z"
   },
   {
    "duration": 17,
    "start_time": "2021-09-19T15:50:09.765Z"
   },
   {
    "duration": 46,
    "start_time": "2021-09-19T15:50:09.784Z"
   },
   {
    "duration": 7,
    "start_time": "2021-09-19T15:50:09.857Z"
   },
   {
    "duration": 296,
    "start_time": "2021-09-19T15:50:09.867Z"
   },
   {
    "duration": 82,
    "start_time": "2021-09-19T15:50:10.084Z"
   },
   {
    "duration": 79,
    "start_time": "2021-09-19T15:50:10.088Z"
   },
   {
    "duration": 78,
    "start_time": "2021-09-19T15:50:10.091Z"
   },
   {
    "duration": 73,
    "start_time": "2021-09-19T15:50:10.097Z"
   },
   {
    "duration": 72,
    "start_time": "2021-09-19T15:50:10.099Z"
   },
   {
    "duration": 71,
    "start_time": "2021-09-19T15:50:10.102Z"
   },
   {
    "duration": 68,
    "start_time": "2021-09-19T15:50:10.106Z"
   },
   {
    "duration": 67,
    "start_time": "2021-09-19T15:50:10.108Z"
   },
   {
    "duration": 63,
    "start_time": "2021-09-19T15:50:10.114Z"
   },
   {
    "duration": 61,
    "start_time": "2021-09-19T15:50:10.117Z"
   },
   {
    "duration": 29,
    "start_time": "2021-09-19T15:50:10.150Z"
   },
   {
    "duration": 28,
    "start_time": "2021-09-19T15:50:10.153Z"
   },
   {
    "duration": 25,
    "start_time": "2021-09-19T15:50:10.157Z"
   },
   {
    "duration": 24,
    "start_time": "2021-09-19T15:50:10.159Z"
   },
   {
    "duration": 19,
    "start_time": "2021-09-19T15:50:10.165Z"
   },
   {
    "duration": 15,
    "start_time": "2021-09-19T15:50:10.170Z"
   },
   {
    "duration": 13,
    "start_time": "2021-09-19T15:50:10.174Z"
   },
   {
    "duration": 11,
    "start_time": "2021-09-19T15:50:10.177Z"
   },
   {
    "duration": 7,
    "start_time": "2021-09-19T15:50:10.182Z"
   },
   {
    "duration": 5,
    "start_time": "2021-09-19T15:50:10.185Z"
   },
   {
    "duration": 4,
    "start_time": "2021-09-19T15:50:10.188Z"
   },
   {
    "duration": -9,
    "start_time": "2021-09-19T15:50:10.202Z"
   },
   {
    "duration": -11,
    "start_time": "2021-09-19T15:50:10.206Z"
   },
   {
    "duration": -12,
    "start_time": "2021-09-19T15:50:10.208Z"
   },
   {
    "duration": -17,
    "start_time": "2021-09-19T15:50:10.214Z"
   },
   {
    "duration": -18,
    "start_time": "2021-09-19T15:50:10.216Z"
   },
   {
    "duration": -20,
    "start_time": "2021-09-19T15:50:10.220Z"
   },
   {
    "duration": -21,
    "start_time": "2021-09-19T15:50:10.222Z"
   },
   {
    "duration": -24,
    "start_time": "2021-09-19T15:50:10.226Z"
   },
   {
    "duration": 28,
    "start_time": "2021-09-19T15:50:10.230Z"
   },
   {
    "duration": 20,
    "start_time": "2021-09-19T15:50:10.239Z"
   },
   {
    "duration": 19,
    "start_time": "2021-09-19T15:50:10.242Z"
   },
   {
    "duration": 15,
    "start_time": "2021-09-19T15:50:10.247Z"
   },
   {
    "duration": 13,
    "start_time": "2021-09-19T15:50:10.250Z"
   },
   {
    "duration": 11,
    "start_time": "2021-09-19T15:50:10.253Z"
   },
   {
    "duration": 9,
    "start_time": "2021-09-19T15:50:10.256Z"
   },
   {
    "duration": 8,
    "start_time": "2021-09-19T15:50:10.259Z"
   },
   {
    "duration": 4,
    "start_time": "2021-09-19T15:50:10.264Z"
   },
   {
    "duration": 3,
    "start_time": "2021-09-19T15:50:10.267Z"
   },
   {
    "duration": 73,
    "start_time": "2021-09-19T15:50:24.973Z"
   },
   {
    "duration": 92,
    "start_time": "2021-09-19T15:50:32.207Z"
   },
   {
    "duration": 29,
    "start_time": "2021-09-19T15:51:23.665Z"
   },
   {
    "duration": 378,
    "start_time": "2021-09-19T15:52:32.882Z"
   },
   {
    "duration": 14,
    "start_time": "2021-09-19T15:52:33.263Z"
   },
   {
    "duration": 285,
    "start_time": "2021-09-19T15:52:33.281Z"
   },
   {
    "duration": 16,
    "start_time": "2021-09-19T15:52:33.570Z"
   },
   {
    "duration": 184,
    "start_time": "2021-09-19T15:52:33.589Z"
   },
   {
    "duration": 10,
    "start_time": "2021-09-19T15:52:33.776Z"
   },
   {
    "duration": 27,
    "start_time": "2021-09-19T15:52:33.789Z"
   },
   {
    "duration": 12,
    "start_time": "2021-09-19T15:52:33.820Z"
   },
   {
    "duration": 83,
    "start_time": "2021-09-19T15:52:33.836Z"
   },
   {
    "duration": 14,
    "start_time": "2021-09-19T15:52:33.922Z"
   },
   {
    "duration": 7,
    "start_time": "2021-09-19T15:52:33.939Z"
   },
   {
    "duration": 9,
    "start_time": "2021-09-19T15:52:33.948Z"
   },
   {
    "duration": 7,
    "start_time": "2021-09-19T15:52:33.959Z"
   },
   {
    "duration": 6,
    "start_time": "2021-09-19T15:52:33.969Z"
   },
   {
    "duration": 15,
    "start_time": "2021-09-19T15:52:33.977Z"
   },
   {
    "duration": 10,
    "start_time": "2021-09-19T15:52:33.995Z"
   },
   {
    "duration": 64,
    "start_time": "2021-09-19T15:52:34.008Z"
   },
   {
    "duration": 28,
    "start_time": "2021-09-19T15:52:34.075Z"
   },
   {
    "duration": 55,
    "start_time": "2021-09-19T15:52:34.105Z"
   },
   {
    "duration": 15,
    "start_time": "2021-09-19T15:52:34.163Z"
   },
   {
    "duration": 38,
    "start_time": "2021-09-19T15:52:34.181Z"
   },
   {
    "duration": 37,
    "start_time": "2021-09-19T15:52:34.221Z"
   },
   {
    "duration": 31,
    "start_time": "2021-09-19T15:52:34.266Z"
   },
   {
    "duration": 102,
    "start_time": "2021-09-19T15:52:34.302Z"
   },
   {
    "duration": 16,
    "start_time": "2021-09-19T15:52:34.406Z"
   },
   {
    "duration": 59,
    "start_time": "2021-09-19T15:52:34.425Z"
   },
   {
    "duration": 34,
    "start_time": "2021-09-19T15:52:34.487Z"
   },
   {
    "duration": 13,
    "start_time": "2021-09-19T15:52:34.523Z"
   },
   {
    "duration": 35,
    "start_time": "2021-09-19T15:52:34.556Z"
   },
   {
    "duration": 13,
    "start_time": "2021-09-19T15:52:34.594Z"
   },
   {
    "duration": 65,
    "start_time": "2021-09-19T15:52:34.610Z"
   },
   {
    "duration": 33,
    "start_time": "2021-09-19T15:52:34.677Z"
   },
   {
    "duration": 15,
    "start_time": "2021-09-19T15:52:34.712Z"
   },
   {
    "duration": 24,
    "start_time": "2021-09-19T15:52:34.756Z"
   },
   {
    "duration": 11,
    "start_time": "2021-09-19T15:52:34.782Z"
   },
   {
    "duration": 43,
    "start_time": "2021-09-19T15:52:34.795Z"
   },
   {
    "duration": 31,
    "start_time": "2021-09-19T15:52:34.840Z"
   },
   {
    "duration": 54,
    "start_time": "2021-09-19T15:52:34.873Z"
   },
   {
    "duration": 29,
    "start_time": "2021-09-19T15:52:34.929Z"
   },
   {
    "duration": 26,
    "start_time": "2021-09-19T15:52:34.960Z"
   },
   {
    "duration": 48,
    "start_time": "2021-09-19T15:52:34.988Z"
   },
   {
    "duration": 4,
    "start_time": "2021-09-19T15:52:35.039Z"
   },
   {
    "duration": 43,
    "start_time": "2021-09-19T15:52:35.046Z"
   },
   {
    "duration": 40,
    "start_time": "2021-09-19T15:52:35.092Z"
   },
   {
    "duration": 55,
    "start_time": "2021-09-19T15:52:35.135Z"
   },
   {
    "duration": 21,
    "start_time": "2021-09-19T15:52:35.193Z"
   },
   {
    "duration": 36,
    "start_time": "2021-09-19T15:52:35.217Z"
   },
   {
    "duration": 30,
    "start_time": "2021-09-19T15:52:35.256Z"
   },
   {
    "duration": 31,
    "start_time": "2021-09-19T15:52:35.288Z"
   },
   {
    "duration": 40,
    "start_time": "2021-09-19T15:52:35.322Z"
   },
   {
    "duration": 22,
    "start_time": "2021-09-19T15:52:35.365Z"
   },
   {
    "duration": 20,
    "start_time": "2021-09-19T15:52:35.390Z"
   },
   {
    "duration": 28,
    "start_time": "2021-09-19T15:52:35.413Z"
   },
   {
    "duration": 297,
    "start_time": "2021-09-19T15:52:35.444Z"
   },
   {
    "duration": 15,
    "start_time": "2021-09-19T15:52:35.743Z"
   },
   {
    "duration": 37,
    "start_time": "2021-09-19T15:52:35.760Z"
   },
   {
    "duration": 37,
    "start_time": "2021-09-19T15:52:35.800Z"
   },
   {
    "duration": 17,
    "start_time": "2021-09-19T15:52:35.839Z"
   },
   {
    "duration": 466,
    "start_time": "2021-09-19T15:52:35.859Z"
   },
   {
    "duration": 7,
    "start_time": "2021-09-19T15:52:36.328Z"
   },
   {
    "duration": 21,
    "start_time": "2021-09-19T15:52:36.337Z"
   },
   {
    "duration": 43,
    "start_time": "2021-09-19T15:52:36.360Z"
   },
   {
    "duration": 143,
    "start_time": "2021-09-19T15:52:36.405Z"
   },
   {
    "duration": 7506,
    "start_time": "2021-09-19T15:52:36.551Z"
   },
   {
    "duration": 2653,
    "start_time": "2021-09-19T15:52:44.060Z"
   },
   {
    "duration": 16,
    "start_time": "2021-09-19T15:52:46.716Z"
   },
   {
    "duration": 56,
    "start_time": "2021-09-19T15:52:46.734Z"
   },
   {
    "duration": 21,
    "start_time": "2021-09-19T15:52:46.800Z"
   },
   {
    "duration": 110,
    "start_time": "2021-09-19T15:52:46.825Z"
   },
   {
    "duration": 32,
    "start_time": "2021-09-19T15:52:46.937Z"
   },
   {
    "duration": 83,
    "start_time": "2021-09-19T15:52:46.972Z"
   },
   {
    "duration": 15,
    "start_time": "2021-09-19T15:52:47.058Z"
   },
   {
    "duration": 141,
    "start_time": "2021-09-19T15:52:47.076Z"
   },
   {
    "duration": 6,
    "start_time": "2021-09-19T15:52:47.220Z"
   },
   {
    "duration": 30,
    "start_time": "2021-09-19T15:52:47.228Z"
   },
   {
    "duration": 10,
    "start_time": "2021-09-19T15:52:47.260Z"
   },
   {
    "duration": 397,
    "start_time": "2021-09-19T15:52:47.272Z"
   },
   {
    "duration": 7,
    "start_time": "2021-09-19T15:52:47.672Z"
   },
   {
    "duration": 13,
    "start_time": "2021-09-19T15:52:47.682Z"
   },
   {
    "duration": 24,
    "start_time": "2021-09-19T15:52:47.698Z"
   },
   {
    "duration": 32,
    "start_time": "2021-09-19T15:52:47.725Z"
   },
   {
    "duration": 329,
    "start_time": "2021-09-19T15:52:47.760Z"
   },
   {
    "duration": 8,
    "start_time": "2021-09-19T15:52:48.091Z"
   },
   {
    "duration": 19,
    "start_time": "2021-09-19T15:52:48.102Z"
   },
   {
    "duration": 42,
    "start_time": "2021-09-19T15:52:48.124Z"
   },
   {
    "duration": 44,
    "start_time": "2021-09-19T15:52:48.169Z"
   },
   {
    "duration": 40,
    "start_time": "2021-09-19T15:52:48.216Z"
   },
   {
    "duration": 357,
    "start_time": "2021-09-19T15:52:48.258Z"
   },
   {
    "duration": -101,
    "start_time": "2021-09-19T15:52:48.720Z"
   },
   {
    "duration": -104,
    "start_time": "2021-09-19T15:52:48.725Z"
   },
   {
    "duration": -107,
    "start_time": "2021-09-19T15:52:48.730Z"
   },
   {
    "duration": -109,
    "start_time": "2021-09-19T15:52:48.734Z"
   },
   {
    "duration": -110,
    "start_time": "2021-09-19T15:52:48.737Z"
   },
   {
    "duration": -112,
    "start_time": "2021-09-19T15:52:48.741Z"
   },
   {
    "duration": -310,
    "start_time": "2021-09-19T15:52:48.941Z"
   },
   {
    "duration": -314,
    "start_time": "2021-09-19T15:52:48.947Z"
   },
   {
    "duration": -316,
    "start_time": "2021-09-19T15:52:48.951Z"
   },
   {
    "duration": -335,
    "start_time": "2021-09-19T15:52:48.972Z"
   },
   {
    "duration": -338,
    "start_time": "2021-09-19T15:52:48.977Z"
   },
   {
    "duration": -340,
    "start_time": "2021-09-19T15:52:48.981Z"
   },
   {
    "duration": -343,
    "start_time": "2021-09-19T15:52:48.986Z"
   },
   {
    "duration": -345,
    "start_time": "2021-09-19T15:52:48.990Z"
   },
   {
    "duration": -364,
    "start_time": "2021-09-19T15:52:49.012Z"
   },
   {
    "duration": -367,
    "start_time": "2021-09-19T15:52:49.017Z"
   },
   {
    "duration": -393,
    "start_time": "2021-09-19T15:52:49.045Z"
   },
   {
    "duration": -438,
    "start_time": "2021-09-19T15:52:49.093Z"
   },
   {
    "duration": -440,
    "start_time": "2021-09-19T15:52:49.097Z"
   },
   {
    "duration": -463,
    "start_time": "2021-09-19T15:52:49.122Z"
   },
   {
    "duration": -465,
    "start_time": "2021-09-19T15:52:49.126Z"
   },
   {
    "duration": -467,
    "start_time": "2021-09-19T15:52:49.130Z"
   },
   {
    "duration": -499,
    "start_time": "2021-09-19T15:52:49.165Z"
   },
   {
    "duration": -501,
    "start_time": "2021-09-19T15:52:49.169Z"
   },
   {
    "duration": -525,
    "start_time": "2021-09-19T15:52:49.195Z"
   },
   {
    "duration": -527,
    "start_time": "2021-09-19T15:52:49.199Z"
   },
   {
    "duration": -564,
    "start_time": "2021-09-19T15:52:49.239Z"
   },
   {
    "duration": -594,
    "start_time": "2021-09-19T15:52:49.271Z"
   },
   {
    "duration": -597,
    "start_time": "2021-09-19T15:52:49.276Z"
   },
   {
    "duration": -599,
    "start_time": "2021-09-19T15:52:49.280Z"
   },
   {
    "duration": -630,
    "start_time": "2021-09-19T15:52:49.314Z"
   },
   {
    "duration": -633,
    "start_time": "2021-09-19T15:52:49.319Z"
   },
   {
    "duration": -658,
    "start_time": "2021-09-19T15:52:49.346Z"
   },
   {
    "duration": -661,
    "start_time": "2021-09-19T15:52:49.351Z"
   },
   {
    "duration": -695,
    "start_time": "2021-09-19T15:52:49.387Z"
   },
   {
    "duration": -698,
    "start_time": "2021-09-19T15:52:49.393Z"
   },
   {
    "duration": -723,
    "start_time": "2021-09-19T15:52:49.419Z"
   },
   {
    "duration": -763,
    "start_time": "2021-09-19T15:52:49.461Z"
   },
   {
    "duration": -709,
    "start_time": "2021-09-19T15:52:49.466Z"
   },
   {
    "duration": -741,
    "start_time": "2021-09-19T15:52:49.500Z"
   },
   {
    "duration": 291,
    "start_time": "2021-09-19T15:56:07.892Z"
   },
   {
    "duration": 11,
    "start_time": "2021-09-19T15:56:08.186Z"
   },
   {
    "duration": 245,
    "start_time": "2021-09-19T15:56:08.200Z"
   },
   {
    "duration": 11,
    "start_time": "2021-09-19T15:56:08.456Z"
   },
   {
    "duration": 131,
    "start_time": "2021-09-19T15:56:08.470Z"
   },
   {
    "duration": 10,
    "start_time": "2021-09-19T15:56:08.604Z"
   },
   {
    "duration": 30,
    "start_time": "2021-09-19T15:56:08.616Z"
   },
   {
    "duration": 11,
    "start_time": "2021-09-19T15:56:08.658Z"
   },
   {
    "duration": 57,
    "start_time": "2021-09-19T15:56:08.672Z"
   },
   {
    "duration": 14,
    "start_time": "2021-09-19T15:56:08.731Z"
   },
   {
    "duration": 7,
    "start_time": "2021-09-19T15:56:08.748Z"
   },
   {
    "duration": 8,
    "start_time": "2021-09-19T15:56:08.757Z"
   },
   {
    "duration": 6,
    "start_time": "2021-09-19T15:56:08.767Z"
   },
   {
    "duration": 7,
    "start_time": "2021-09-19T15:56:08.775Z"
   },
   {
    "duration": 5,
    "start_time": "2021-09-19T15:56:08.785Z"
   },
   {
    "duration": 5,
    "start_time": "2021-09-19T15:56:08.792Z"
   },
   {
    "duration": 68,
    "start_time": "2021-09-19T15:56:08.800Z"
   },
   {
    "duration": 20,
    "start_time": "2021-09-19T15:56:08.870Z"
   },
   {
    "duration": 76,
    "start_time": "2021-09-19T15:56:08.893Z"
   },
   {
    "duration": 13,
    "start_time": "2021-09-19T15:56:08.971Z"
   },
   {
    "duration": 28,
    "start_time": "2021-09-19T15:56:08.986Z"
   },
   {
    "duration": 14,
    "start_time": "2021-09-19T15:56:09.016Z"
   },
   {
    "duration": 28,
    "start_time": "2021-09-19T15:56:09.057Z"
   },
   {
    "duration": 105,
    "start_time": "2021-09-19T15:56:09.089Z"
   },
   {
    "duration": 17,
    "start_time": "2021-09-19T15:56:09.196Z"
   },
   {
    "duration": 56,
    "start_time": "2021-09-19T15:56:09.215Z"
   },
   {
    "duration": 33,
    "start_time": "2021-09-19T15:56:09.273Z"
   },
   {
    "duration": 12,
    "start_time": "2021-09-19T15:56:09.308Z"
   },
   {
    "duration": 65,
    "start_time": "2021-09-19T15:56:09.322Z"
   },
   {
    "duration": 15,
    "start_time": "2021-09-19T15:56:09.389Z"
   },
   {
    "duration": 64,
    "start_time": "2021-09-19T15:56:09.406Z"
   },
   {
    "duration": 32,
    "start_time": "2021-09-19T15:56:09.472Z"
   },
   {
    "duration": 15,
    "start_time": "2021-09-19T15:56:09.506Z"
   },
   {
    "duration": 50,
    "start_time": "2021-09-19T15:56:09.523Z"
   },
   {
    "duration": 11,
    "start_time": "2021-09-19T15:56:09.575Z"
   },
   {
    "duration": 28,
    "start_time": "2021-09-19T15:56:09.588Z"
   },
   {
    "duration": 12,
    "start_time": "2021-09-19T15:56:09.618Z"
   },
   {
    "duration": 46,
    "start_time": "2021-09-19T15:56:09.633Z"
   },
   {
    "duration": 20,
    "start_time": "2021-09-19T15:56:09.682Z"
   },
   {
    "duration": 14,
    "start_time": "2021-09-19T15:56:09.705Z"
   },
   {
    "duration": 59,
    "start_time": "2021-09-19T15:56:09.721Z"
   },
   {
    "duration": 4,
    "start_time": "2021-09-19T15:56:09.782Z"
   },
   {
    "duration": 20,
    "start_time": "2021-09-19T15:56:09.788Z"
   },
   {
    "duration": 47,
    "start_time": "2021-09-19T15:56:09.811Z"
   },
   {
    "duration": 39,
    "start_time": "2021-09-19T15:56:09.861Z"
   },
   {
    "duration": 22,
    "start_time": "2021-09-19T15:56:09.903Z"
   },
   {
    "duration": 9,
    "start_time": "2021-09-19T15:56:09.957Z"
   },
   {
    "duration": 13,
    "start_time": "2021-09-19T15:56:09.968Z"
   },
   {
    "duration": 7,
    "start_time": "2021-09-19T15:56:09.983Z"
   },
   {
    "duration": 22,
    "start_time": "2021-09-19T15:56:09.992Z"
   },
   {
    "duration": 43,
    "start_time": "2021-09-19T15:56:10.016Z"
   },
   {
    "duration": 9,
    "start_time": "2021-09-19T15:56:10.061Z"
   },
   {
    "duration": 10,
    "start_time": "2021-09-19T15:56:10.073Z"
   },
   {
    "duration": 408,
    "start_time": "2021-09-19T15:56:10.086Z"
   },
   {
    "duration": 9,
    "start_time": "2021-09-19T15:56:10.497Z"
   },
   {
    "duration": 9,
    "start_time": "2021-09-19T15:56:10.509Z"
   },
   {
    "duration": 37,
    "start_time": "2021-09-19T15:56:10.520Z"
   },
   {
    "duration": 7,
    "start_time": "2021-09-19T15:56:10.560Z"
   },
   {
    "duration": 335,
    "start_time": "2021-09-19T15:56:10.570Z"
   },
   {
    "duration": 8,
    "start_time": "2021-09-19T15:56:10.907Z"
   },
   {
    "duration": 12,
    "start_time": "2021-09-19T15:56:10.917Z"
   },
   {
    "duration": 24,
    "start_time": "2021-09-19T15:56:10.932Z"
   },
   {
    "duration": 236,
    "start_time": "2021-09-19T15:56:10.959Z"
   },
   {
    "duration": 9970,
    "start_time": "2021-09-19T15:56:11.198Z"
   },
   {
    "duration": 3353,
    "start_time": "2021-09-19T15:56:21.171Z"
   },
   {
    "duration": 30,
    "start_time": "2021-09-19T15:56:24.527Z"
   },
   {
    "duration": 37,
    "start_time": "2021-09-19T15:56:24.560Z"
   },
   {
    "duration": 58,
    "start_time": "2021-09-19T15:56:24.612Z"
   },
   {
    "duration": 182,
    "start_time": "2021-09-19T15:56:24.675Z"
   },
   {
    "duration": 21,
    "start_time": "2021-09-19T15:56:24.860Z"
   },
   {
    "duration": 91,
    "start_time": "2021-09-19T15:56:24.884Z"
   },
   {
    "duration": 16,
    "start_time": "2021-09-19T15:56:24.978Z"
   },
   {
    "duration": 143,
    "start_time": "2021-09-19T15:56:24.996Z"
   },
   {
    "duration": 14,
    "start_time": "2021-09-19T15:56:25.141Z"
   },
   {
    "duration": 6,
    "start_time": "2021-09-19T15:56:25.158Z"
   },
   {
    "duration": 31,
    "start_time": "2021-09-19T15:56:25.167Z"
   },
   {
    "duration": 347,
    "start_time": "2021-09-19T15:56:25.201Z"
   },
   {
    "duration": 7,
    "start_time": "2021-09-19T15:56:25.556Z"
   },
   {
    "duration": 20,
    "start_time": "2021-09-19T15:56:25.565Z"
   },
   {
    "duration": 21,
    "start_time": "2021-09-19T15:56:25.588Z"
   },
   {
    "duration": 18,
    "start_time": "2021-09-19T15:56:25.612Z"
   },
   {
    "duration": 344,
    "start_time": "2021-09-19T15:56:25.633Z"
   },
   {
    "duration": 7,
    "start_time": "2021-09-19T15:56:25.980Z"
   },
   {
    "duration": 44,
    "start_time": "2021-09-19T15:56:25.989Z"
   },
   {
    "duration": 24,
    "start_time": "2021-09-19T15:56:26.036Z"
   },
   {
    "duration": 61,
    "start_time": "2021-09-19T15:56:26.063Z"
   },
   {
    "duration": 9,
    "start_time": "2021-09-19T15:56:26.127Z"
   },
   {
    "duration": 313,
    "start_time": "2021-09-19T15:56:26.139Z"
   },
   {
    "duration": 87,
    "start_time": "2021-09-19T15:56:26.367Z"
   },
   {
    "duration": 85,
    "start_time": "2021-09-19T15:56:26.371Z"
   },
   {
    "duration": 28,
    "start_time": "2021-09-19T15:56:26.429Z"
   },
   {
    "duration": 20,
    "start_time": "2021-09-19T15:56:26.438Z"
   },
   {
    "duration": 18,
    "start_time": "2021-09-19T15:56:26.441Z"
   },
   {
    "duration": 16,
    "start_time": "2021-09-19T15:56:26.445Z"
   },
   {
    "duration": 10,
    "start_time": "2021-09-19T15:56:26.452Z"
   },
   {
    "duration": 7,
    "start_time": "2021-09-19T15:56:26.456Z"
   },
   {
    "duration": 6,
    "start_time": "2021-09-19T15:56:26.459Z"
   },
   {
    "duration": 3,
    "start_time": "2021-09-19T15:56:26.463Z"
   },
   {
    "duration": -3,
    "start_time": "2021-09-19T15:56:26.470Z"
   },
   {
    "duration": -5,
    "start_time": "2021-09-19T15:56:26.473Z"
   },
   {
    "duration": -7,
    "start_time": "2021-09-19T15:56:26.477Z"
   },
   {
    "duration": -13,
    "start_time": "2021-09-19T15:56:26.484Z"
   },
   {
    "duration": -14,
    "start_time": "2021-09-19T15:56:26.486Z"
   },
   {
    "duration": -16,
    "start_time": "2021-09-19T15:56:26.490Z"
   },
   {
    "duration": -47,
    "start_time": "2021-09-19T15:56:26.522Z"
   },
   {
    "duration": -48,
    "start_time": "2021-09-19T15:56:26.525Z"
   },
   {
    "duration": -49,
    "start_time": "2021-09-19T15:56:26.528Z"
   },
   {
    "duration": -66,
    "start_time": "2021-09-19T15:56:26.546Z"
   },
   {
    "duration": -72,
    "start_time": "2021-09-19T15:56:26.553Z"
   },
   {
    "duration": -74,
    "start_time": "2021-09-19T15:56:26.557Z"
   },
   {
    "duration": -76,
    "start_time": "2021-09-19T15:56:26.560Z"
   },
   {
    "duration": -82,
    "start_time": "2021-09-19T15:56:26.567Z"
   },
   {
    "duration": -84,
    "start_time": "2021-09-19T15:56:26.571Z"
   },
   {
    "duration": -87,
    "start_time": "2021-09-19T15:56:26.575Z"
   },
   {
    "duration": -90,
    "start_time": "2021-09-19T15:56:26.579Z"
   },
   {
    "duration": -95,
    "start_time": "2021-09-19T15:56:26.586Z"
   },
   {
    "duration": -98,
    "start_time": "2021-09-19T15:56:26.590Z"
   },
   {
    "duration": -100,
    "start_time": "2021-09-19T15:56:26.593Z"
   },
   {
    "duration": -102,
    "start_time": "2021-09-19T15:56:26.596Z"
   },
   {
    "duration": -164,
    "start_time": "2021-09-19T15:56:26.659Z"
   },
   {
    "duration": -166,
    "start_time": "2021-09-19T15:56:26.663Z"
   },
   {
    "duration": -172,
    "start_time": "2021-09-19T15:56:26.670Z"
   },
   {
    "duration": -174,
    "start_time": "2021-09-19T15:56:26.673Z"
   },
   {
    "duration": -176,
    "start_time": "2021-09-19T15:56:26.676Z"
   },
   {
    "duration": -124,
    "start_time": "2021-09-19T15:56:26.679Z"
   },
   {
    "duration": -127,
    "start_time": "2021-09-19T15:56:26.684Z"
   },
   {
    "duration": -130,
    "start_time": "2021-09-19T15:56:26.688Z"
   },
   {
    "duration": -130,
    "start_time": "2021-09-19T15:56:26.690Z"
   },
   {
    "duration": 67,
    "start_time": "2021-09-19T15:56:34.861Z"
   },
   {
    "duration": 6,
    "start_time": "2021-09-19T16:00:44.987Z"
   },
   {
    "duration": 7,
    "start_time": "2021-09-19T16:02:41.482Z"
   },
   {
    "duration": 5,
    "start_time": "2021-09-19T16:02:58.183Z"
   },
   {
    "duration": 7,
    "start_time": "2021-09-19T16:03:23.339Z"
   },
   {
    "duration": 7,
    "start_time": "2021-09-19T16:04:17.585Z"
   },
   {
    "duration": 6,
    "start_time": "2021-09-19T16:05:36.542Z"
   },
   {
    "duration": 6,
    "start_time": "2021-09-19T16:05:50.628Z"
   },
   {
    "duration": 284,
    "start_time": "2021-09-19T16:07:12.529Z"
   },
   {
    "duration": 16,
    "start_time": "2021-09-19T16:09:12.093Z"
   },
   {
    "duration": 12,
    "start_time": "2021-09-19T16:09:39.939Z"
   },
   {
    "duration": 7,
    "start_time": "2021-09-19T16:15:39.362Z"
   },
   {
    "duration": 304,
    "start_time": "2021-09-19T16:26:54.667Z"
   },
   {
    "duration": 300,
    "start_time": "2021-09-19T16:27:04.793Z"
   },
   {
    "duration": 35,
    "start_time": "2021-09-19T16:27:19.254Z"
   },
   {
    "duration": 42,
    "start_time": "2021-09-19T16:28:18.462Z"
   },
   {
    "duration": 4,
    "start_time": "2021-09-19T16:30:51.192Z"
   },
   {
    "duration": 61,
    "start_time": "2021-09-19T16:31:10.981Z"
   },
   {
    "duration": 306,
    "start_time": "2021-09-19T16:36:36.678Z"
   },
   {
    "duration": 12,
    "start_time": "2021-09-19T16:36:36.987Z"
   },
   {
    "duration": 292,
    "start_time": "2021-09-19T16:36:37.003Z"
   },
   {
    "duration": 12,
    "start_time": "2021-09-19T16:36:37.297Z"
   },
   {
    "duration": 144,
    "start_time": "2021-09-19T16:36:37.312Z"
   },
   {
    "duration": 14,
    "start_time": "2021-09-19T16:36:37.460Z"
   },
   {
    "duration": 24,
    "start_time": "2021-09-19T16:36:37.477Z"
   },
   {
    "duration": 14,
    "start_time": "2021-09-19T16:36:37.507Z"
   },
   {
    "duration": 100,
    "start_time": "2021-09-19T16:36:37.525Z"
   },
   {
    "duration": 15,
    "start_time": "2021-09-19T16:36:37.628Z"
   },
   {
    "duration": 8,
    "start_time": "2021-09-19T16:36:37.645Z"
   },
   {
    "duration": 6,
    "start_time": "2021-09-19T16:36:37.658Z"
   },
   {
    "duration": 6,
    "start_time": "2021-09-19T16:36:37.666Z"
   },
   {
    "duration": 8,
    "start_time": "2021-09-19T16:36:37.676Z"
   },
   {
    "duration": 9,
    "start_time": "2021-09-19T16:36:37.686Z"
   },
   {
    "duration": 10,
    "start_time": "2021-09-19T16:36:37.697Z"
   },
   {
    "duration": 56,
    "start_time": "2021-09-19T16:36:37.709Z"
   },
   {
    "duration": 20,
    "start_time": "2021-09-19T16:36:37.768Z"
   },
   {
    "duration": 30,
    "start_time": "2021-09-19T16:36:37.791Z"
   },
   {
    "duration": 47,
    "start_time": "2021-09-19T16:36:37.823Z"
   },
   {
    "duration": 27,
    "start_time": "2021-09-19T16:36:37.877Z"
   },
   {
    "duration": 14,
    "start_time": "2021-09-19T16:36:37.907Z"
   },
   {
    "duration": 59,
    "start_time": "2021-09-19T16:36:37.928Z"
   },
   {
    "duration": 99,
    "start_time": "2021-09-19T16:36:37.991Z"
   },
   {
    "duration": 16,
    "start_time": "2021-09-19T16:36:38.092Z"
   },
   {
    "duration": 68,
    "start_time": "2021-09-19T16:36:38.111Z"
   },
   {
    "duration": 38,
    "start_time": "2021-09-19T16:36:38.182Z"
   },
   {
    "duration": 15,
    "start_time": "2021-09-19T16:36:38.222Z"
   },
   {
    "duration": 45,
    "start_time": "2021-09-19T16:36:38.256Z"
   },
   {
    "duration": 17,
    "start_time": "2021-09-19T16:36:38.303Z"
   },
   {
    "duration": 77,
    "start_time": "2021-09-19T16:36:38.323Z"
   },
   {
    "duration": 33,
    "start_time": "2021-09-19T16:36:38.403Z"
   },
   {
    "duration": 39,
    "start_time": "2021-09-19T16:36:38.438Z"
   },
   {
    "duration": 26,
    "start_time": "2021-09-19T16:36:38.480Z"
   },
   {
    "duration": 12,
    "start_time": "2021-09-19T16:36:38.508Z"
   },
   {
    "duration": 56,
    "start_time": "2021-09-19T16:36:38.523Z"
   },
   {
    "duration": 14,
    "start_time": "2021-09-19T16:36:38.582Z"
   },
   {
    "duration": 27,
    "start_time": "2021-09-19T16:36:38.598Z"
   },
   {
    "duration": 55,
    "start_time": "2021-09-19T16:36:38.627Z"
   },
   {
    "duration": 19,
    "start_time": "2021-09-19T16:36:38.685Z"
   },
   {
    "duration": 49,
    "start_time": "2021-09-19T16:36:38.706Z"
   },
   {
    "duration": 6,
    "start_time": "2021-09-19T16:36:38.758Z"
   },
   {
    "duration": 29,
    "start_time": "2021-09-19T16:36:38.768Z"
   },
   {
    "duration": 18,
    "start_time": "2021-09-19T16:36:38.800Z"
   },
   {
    "duration": 55,
    "start_time": "2021-09-19T16:36:38.821Z"
   },
   {
    "duration": 20,
    "start_time": "2021-09-19T16:36:38.879Z"
   },
   {
    "duration": 15,
    "start_time": "2021-09-19T16:36:38.903Z"
   },
   {
    "duration": 37,
    "start_time": "2021-09-19T16:36:38.921Z"
   },
   {
    "duration": 5,
    "start_time": "2021-09-19T16:36:38.961Z"
   },
   {
    "duration": 11,
    "start_time": "2021-09-19T16:36:38.969Z"
   },
   {
    "duration": 155,
    "start_time": "2021-09-19T16:36:38.982Z"
   },
   {
    "duration": 8663,
    "start_time": "2021-09-19T16:36:39.139Z"
   },
   {
    "duration": 3179,
    "start_time": "2021-09-19T16:36:47.805Z"
   },
   {
    "duration": 14,
    "start_time": "2021-09-19T16:36:50.987Z"
   },
   {
    "duration": 63,
    "start_time": "2021-09-19T16:36:51.003Z"
   },
   {
    "duration": 23,
    "start_time": "2021-09-19T16:36:51.069Z"
   },
   {
    "duration": 122,
    "start_time": "2021-09-19T16:36:51.094Z"
   },
   {
    "duration": 18,
    "start_time": "2021-09-19T16:36:51.218Z"
   },
   {
    "duration": 79,
    "start_time": "2021-09-19T16:36:51.239Z"
   },
   {
    "duration": 35,
    "start_time": "2021-09-19T16:36:51.321Z"
   },
   {
    "duration": 140,
    "start_time": "2021-09-19T16:36:51.358Z"
   },
   {
    "duration": 6,
    "start_time": "2021-09-19T16:36:51.501Z"
   },
   {
    "duration": 9,
    "start_time": "2021-09-19T16:36:51.509Z"
   },
   {
    "duration": 22,
    "start_time": "2021-09-19T16:36:51.521Z"
   },
   {
    "duration": 353,
    "start_time": "2021-09-19T16:36:51.559Z"
   },
   {
    "duration": 9,
    "start_time": "2021-09-19T16:36:51.915Z"
   },
   {
    "duration": 42,
    "start_time": "2021-09-19T16:36:51.926Z"
   },
   {
    "duration": 13,
    "start_time": "2021-09-19T16:36:51.980Z"
   },
   {
    "duration": 71,
    "start_time": "2021-09-19T16:36:51.997Z"
   },
   {
    "duration": 30,
    "start_time": "2021-09-19T16:36:52.071Z"
   },
   {
    "duration": 319,
    "start_time": "2021-09-19T16:36:52.103Z"
   },
   {
    "duration": 130,
    "start_time": "2021-09-19T16:36:52.295Z"
   },
   {
    "duration": 127,
    "start_time": "2021-09-19T16:36:52.299Z"
   },
   {
    "duration": 57,
    "start_time": "2021-09-19T16:36:52.371Z"
   },
   {
    "duration": 53,
    "start_time": "2021-09-19T16:36:52.376Z"
   },
   {
    "duration": 50,
    "start_time": "2021-09-19T16:36:52.380Z"
   },
   {
    "duration": 48,
    "start_time": "2021-09-19T16:36:52.384Z"
   },
   {
    "duration": 43,
    "start_time": "2021-09-19T16:36:52.390Z"
   },
   {
    "duration": 40,
    "start_time": "2021-09-19T16:36:52.394Z"
   },
   {
    "duration": 38,
    "start_time": "2021-09-19T16:36:52.397Z"
   },
   {
    "duration": 34,
    "start_time": "2021-09-19T16:36:52.403Z"
   },
   {
    "duration": 30,
    "start_time": "2021-09-19T16:36:52.408Z"
   },
   {
    "duration": 29,
    "start_time": "2021-09-19T16:36:52.411Z"
   },
   {
    "duration": 25,
    "start_time": "2021-09-19T16:36:52.416Z"
   },
   {
    "duration": 21,
    "start_time": "2021-09-19T16:36:52.421Z"
   },
   {
    "duration": -4,
    "start_time": "2021-09-19T16:36:52.448Z"
   },
   {
    "duration": -10,
    "start_time": "2021-09-19T16:36:52.455Z"
   },
   {
    "duration": -13,
    "start_time": "2021-09-19T16:36:52.459Z"
   },
   {
    "duration": -16,
    "start_time": "2021-09-19T16:36:52.463Z"
   },
   {
    "duration": -18,
    "start_time": "2021-09-19T16:36:52.467Z"
   },
   {
    "duration": -43,
    "start_time": "2021-09-19T16:36:52.493Z"
   },
   {
    "duration": -46,
    "start_time": "2021-09-19T16:36:52.497Z"
   },
   {
    "duration": -49,
    "start_time": "2021-09-19T16:36:52.501Z"
   },
   {
    "duration": -53,
    "start_time": "2021-09-19T16:36:52.507Z"
   },
   {
    "duration": -56,
    "start_time": "2021-09-19T16:36:52.511Z"
   },
   {
    "duration": -59,
    "start_time": "2021-09-19T16:36:52.515Z"
   },
   {
    "duration": -64,
    "start_time": "2021-09-19T16:36:52.521Z"
   },
   {
    "duration": -67,
    "start_time": "2021-09-19T16:36:52.525Z"
   },
   {
    "duration": -69,
    "start_time": "2021-09-19T16:36:52.529Z"
   },
   {
    "duration": -71,
    "start_time": "2021-09-19T16:36:52.533Z"
   },
   {
    "duration": -75,
    "start_time": "2021-09-19T16:36:52.539Z"
   },
   {
    "duration": -74,
    "start_time": "2021-09-19T16:36:52.543Z"
   },
   {
    "duration": -76,
    "start_time": "2021-09-19T16:36:52.547Z"
   },
   {
    "duration": -80,
    "start_time": "2021-09-19T16:36:52.553Z"
   },
   {
    "duration": -83,
    "start_time": "2021-09-19T16:36:52.558Z"
   },
   {
    "duration": -86,
    "start_time": "2021-09-19T16:36:52.562Z"
   },
   {
    "duration": -87,
    "start_time": "2021-09-19T16:36:52.565Z"
   },
   {
    "duration": -93,
    "start_time": "2021-09-19T16:36:52.572Z"
   },
   {
    "duration": -109,
    "start_time": "2021-09-19T16:36:52.589Z"
   },
   {
    "duration": -111,
    "start_time": "2021-09-19T16:36:52.593Z"
   },
   {
    "duration": -114,
    "start_time": "2021-09-19T16:36:52.597Z"
   },
   {
    "duration": -117,
    "start_time": "2021-09-19T16:36:52.601Z"
   },
   {
    "duration": -121,
    "start_time": "2021-09-19T16:36:52.607Z"
   },
   {
    "duration": -123,
    "start_time": "2021-09-19T16:36:52.611Z"
   },
   {
    "duration": -126,
    "start_time": "2021-09-19T16:36:52.615Z"
   },
   {
    "duration": -131,
    "start_time": "2021-09-19T16:36:52.621Z"
   },
   {
    "duration": -133,
    "start_time": "2021-09-19T16:36:52.625Z"
   },
   {
    "duration": -136,
    "start_time": "2021-09-19T16:36:52.629Z"
   },
   {
    "duration": -138,
    "start_time": "2021-09-19T16:36:52.632Z"
   },
   {
    "duration": -142,
    "start_time": "2021-09-19T16:36:52.638Z"
   },
   {
    "duration": -145,
    "start_time": "2021-09-19T16:36:52.642Z"
   },
   {
    "duration": -148,
    "start_time": "2021-09-19T16:36:52.646Z"
   },
   {
    "duration": -150,
    "start_time": "2021-09-19T16:36:52.650Z"
   },
   {
    "duration": -155,
    "start_time": "2021-09-19T16:36:52.656Z"
   },
   {
    "duration": 346,
    "start_time": "2021-09-19T16:37:19.172Z"
   },
   {
    "duration": 33,
    "start_time": "2021-09-19T16:38:30.956Z"
   },
   {
    "duration": 344,
    "start_time": "2021-09-19T16:38:47.768Z"
   },
   {
    "duration": 12,
    "start_time": "2021-09-19T16:38:48.115Z"
   },
   {
    "duration": 231,
    "start_time": "2021-09-19T16:38:48.130Z"
   },
   {
    "duration": 14,
    "start_time": "2021-09-19T16:38:48.365Z"
   },
   {
    "duration": 153,
    "start_time": "2021-09-19T16:38:48.382Z"
   },
   {
    "duration": 18,
    "start_time": "2021-09-19T16:38:48.538Z"
   },
   {
    "duration": 28,
    "start_time": "2021-09-19T16:38:48.560Z"
   },
   {
    "duration": 12,
    "start_time": "2021-09-19T16:38:48.592Z"
   },
   {
    "duration": 72,
    "start_time": "2021-09-19T16:38:48.607Z"
   },
   {
    "duration": 15,
    "start_time": "2021-09-19T16:38:48.681Z"
   },
   {
    "duration": 8,
    "start_time": "2021-09-19T16:38:48.699Z"
   },
   {
    "duration": 9,
    "start_time": "2021-09-19T16:38:48.710Z"
   },
   {
    "duration": 33,
    "start_time": "2021-09-19T16:38:48.722Z"
   },
   {
    "duration": 6,
    "start_time": "2021-09-19T16:38:48.760Z"
   },
   {
    "duration": 13,
    "start_time": "2021-09-19T16:38:48.768Z"
   },
   {
    "duration": 13,
    "start_time": "2021-09-19T16:38:48.783Z"
   },
   {
    "duration": 20,
    "start_time": "2021-09-19T16:38:48.798Z"
   },
   {
    "duration": 54,
    "start_time": "2021-09-19T16:38:48.821Z"
   },
   {
    "duration": 38,
    "start_time": "2021-09-19T16:38:48.879Z"
   },
   {
    "duration": 39,
    "start_time": "2021-09-19T16:38:48.921Z"
   },
   {
    "duration": 31,
    "start_time": "2021-09-19T16:38:48.962Z"
   },
   {
    "duration": 15,
    "start_time": "2021-09-19T16:38:48.995Z"
   },
   {
    "duration": 60,
    "start_time": "2021-09-19T16:38:49.016Z"
   },
   {
    "duration": 82,
    "start_time": "2021-09-19T16:38:49.080Z"
   },
   {
    "duration": 21,
    "start_time": "2021-09-19T16:38:49.165Z"
   },
   {
    "duration": 40,
    "start_time": "2021-09-19T16:38:49.188Z"
   },
   {
    "duration": 39,
    "start_time": "2021-09-19T16:38:49.257Z"
   },
   {
    "duration": 13,
    "start_time": "2021-09-19T16:38:49.299Z"
   },
   {
    "duration": 82,
    "start_time": "2021-09-19T16:38:49.315Z"
   },
   {
    "duration": 14,
    "start_time": "2021-09-19T16:38:49.400Z"
   },
   {
    "duration": 58,
    "start_time": "2021-09-19T16:38:49.417Z"
   },
   {
    "duration": 31,
    "start_time": "2021-09-19T16:38:49.478Z"
   },
   {
    "duration": 15,
    "start_time": "2021-09-19T16:38:49.511Z"
   },
   {
    "duration": 52,
    "start_time": "2021-09-19T16:38:49.529Z"
   },
   {
    "duration": 12,
    "start_time": "2021-09-19T16:38:49.583Z"
   },
   {
    "duration": 26,
    "start_time": "2021-09-19T16:38:49.597Z"
   },
   {
    "duration": 47,
    "start_time": "2021-09-19T16:38:49.625Z"
   },
   {
    "duration": 28,
    "start_time": "2021-09-19T16:38:49.674Z"
   },
   {
    "duration": 20,
    "start_time": "2021-09-19T16:38:49.705Z"
   },
   {
    "duration": 30,
    "start_time": "2021-09-19T16:38:49.727Z"
   },
   {
    "duration": 34,
    "start_time": "2021-09-19T16:38:49.761Z"
   },
   {
    "duration": 4,
    "start_time": "2021-09-19T16:38:49.797Z"
   },
   {
    "duration": 23,
    "start_time": "2021-09-19T16:38:49.803Z"
   },
   {
    "duration": 47,
    "start_time": "2021-09-19T16:38:49.828Z"
   },
   {
    "duration": 33,
    "start_time": "2021-09-19T16:38:49.877Z"
   },
   {
    "duration": 56,
    "start_time": "2021-09-19T16:38:49.912Z"
   },
   {
    "duration": 9,
    "start_time": "2021-09-19T16:38:49.971Z"
   },
   {
    "duration": 6,
    "start_time": "2021-09-19T16:38:49.983Z"
   },
   {
    "duration": 7,
    "start_time": "2021-09-19T16:38:49.992Z"
   },
   {
    "duration": 161,
    "start_time": "2021-09-19T16:38:50.002Z"
   },
   {
    "duration": 8950,
    "start_time": "2021-09-19T16:38:50.166Z"
   },
   {
    "duration": 2911,
    "start_time": "2021-09-19T16:38:59.119Z"
   },
   {
    "duration": 15,
    "start_time": "2021-09-19T16:39:02.033Z"
   },
   {
    "duration": 88,
    "start_time": "2021-09-19T16:39:02.050Z"
   },
   {
    "duration": 25,
    "start_time": "2021-09-19T16:39:02.141Z"
   },
   {
    "duration": 105,
    "start_time": "2021-09-19T16:39:02.168Z"
   },
   {
    "duration": 18,
    "start_time": "2021-09-19T16:39:02.276Z"
   },
   {
    "duration": 94,
    "start_time": "2021-09-19T16:39:02.297Z"
   },
   {
    "duration": 19,
    "start_time": "2021-09-19T16:39:02.393Z"
   },
   {
    "duration": 44,
    "start_time": "2021-09-19T16:39:02.416Z"
   },
   {
    "duration": 21,
    "start_time": "2021-09-19T16:39:02.464Z"
   },
   {
    "duration": 84,
    "start_time": "2021-09-19T16:39:02.488Z"
   },
   {
    "duration": 8,
    "start_time": "2021-09-19T16:39:02.574Z"
   },
   {
    "duration": 63,
    "start_time": "2021-09-19T16:39:02.584Z"
   },
   {
    "duration": 63,
    "start_time": "2021-09-19T16:39:02.650Z"
   },
   {
    "duration": 49,
    "start_time": "2021-09-19T16:39:02.715Z"
   },
   {
    "duration": 205,
    "start_time": "2021-09-19T16:39:02.766Z"
   },
   {
    "duration": 193,
    "start_time": "2021-09-19T16:39:02.985Z"
   },
   {
    "duration": 7,
    "start_time": "2021-09-19T16:39:03.182Z"
   },
   {
    "duration": 513,
    "start_time": "2021-09-19T16:39:03.192Z"
   },
   {
    "duration": 54,
    "start_time": "2021-09-19T16:39:03.707Z"
   },
   {
    "duration": 26,
    "start_time": "2021-09-19T16:39:03.763Z"
   },
   {
    "duration": 8126,
    "start_time": "2021-09-19T16:39:03.792Z"
   },
   {
    "duration": 54,
    "start_time": "2021-09-19T16:39:11.868Z"
   },
   {
    "duration": 54,
    "start_time": "2021-09-19T16:39:11.870Z"
   },
   {
    "duration": 53,
    "start_time": "2021-09-19T16:39:11.873Z"
   },
   {
    "duration": 51,
    "start_time": "2021-09-19T16:39:11.877Z"
   },
   {
    "duration": 47,
    "start_time": "2021-09-19T16:39:11.883Z"
   },
   {
    "duration": 45,
    "start_time": "2021-09-19T16:39:11.886Z"
   },
   {
    "duration": 45,
    "start_time": "2021-09-19T16:39:11.889Z"
   },
   {
    "duration": 44,
    "start_time": "2021-09-19T16:39:11.892Z"
   },
   {
    "duration": 44,
    "start_time": "2021-09-19T16:39:11.894Z"
   },
   {
    "duration": 41,
    "start_time": "2021-09-19T16:39:11.899Z"
   },
   {
    "duration": 40,
    "start_time": "2021-09-19T16:39:11.902Z"
   },
   {
    "duration": 38,
    "start_time": "2021-09-19T16:39:11.906Z"
   },
   {
    "duration": 37,
    "start_time": "2021-09-19T16:39:11.909Z"
   },
   {
    "duration": 35,
    "start_time": "2021-09-19T16:39:11.912Z"
   },
   {
    "duration": 32,
    "start_time": "2021-09-19T16:39:11.917Z"
   },
   {
    "duration": 6,
    "start_time": "2021-09-19T16:39:11.945Z"
   },
   {
    "duration": 1,
    "start_time": "2021-09-19T16:39:11.952Z"
   },
   {
    "duration": 0,
    "start_time": "2021-09-19T16:39:11.955Z"
   },
   {
    "duration": -1,
    "start_time": "2021-09-19T16:39:11.958Z"
   },
   {
    "duration": -3,
    "start_time": "2021-09-19T16:39:11.961Z"
   },
   {
    "duration": -7,
    "start_time": "2021-09-19T16:39:11.966Z"
   },
   {
    "duration": -9,
    "start_time": "2021-09-19T16:39:11.969Z"
   },
   {
    "duration": -11,
    "start_time": "2021-09-19T16:39:11.973Z"
   },
   {
    "duration": -12,
    "start_time": "2021-09-19T16:39:11.975Z"
   },
   {
    "duration": -14,
    "start_time": "2021-09-19T16:39:11.978Z"
   },
   {
    "duration": -16,
    "start_time": "2021-09-19T16:39:11.982Z"
   },
   {
    "duration": -18,
    "start_time": "2021-09-19T16:39:11.986Z"
   },
   {
    "duration": -19,
    "start_time": "2021-09-19T16:39:11.988Z"
   },
   {
    "duration": 358,
    "start_time": "2021-09-19T16:42:31.331Z"
   },
   {
    "duration": 692,
    "start_time": "2021-09-19T16:42:42.523Z"
   },
   {
    "duration": 315,
    "start_time": "2021-09-19T16:42:46.749Z"
   },
   {
    "duration": 14,
    "start_time": "2021-09-19T16:42:47.067Z"
   },
   {
    "duration": 218,
    "start_time": "2021-09-19T16:42:47.084Z"
   },
   {
    "duration": 12,
    "start_time": "2021-09-19T16:42:47.304Z"
   },
   {
    "duration": 151,
    "start_time": "2021-09-19T16:42:47.319Z"
   },
   {
    "duration": 11,
    "start_time": "2021-09-19T16:42:47.473Z"
   },
   {
    "duration": 38,
    "start_time": "2021-09-19T16:42:47.486Z"
   },
   {
    "duration": 23,
    "start_time": "2021-09-19T16:42:47.528Z"
   },
   {
    "duration": 114,
    "start_time": "2021-09-19T16:42:47.554Z"
   },
   {
    "duration": 16,
    "start_time": "2021-09-19T16:42:47.671Z"
   },
   {
    "duration": 19,
    "start_time": "2021-09-19T16:42:47.690Z"
   },
   {
    "duration": 22,
    "start_time": "2021-09-19T16:42:47.711Z"
   },
   {
    "duration": 27,
    "start_time": "2021-09-19T16:42:47.736Z"
   },
   {
    "duration": 17,
    "start_time": "2021-09-19T16:42:47.766Z"
   },
   {
    "duration": 22,
    "start_time": "2021-09-19T16:42:47.786Z"
   },
   {
    "duration": 19,
    "start_time": "2021-09-19T16:42:47.811Z"
   },
   {
    "duration": 45,
    "start_time": "2021-09-19T16:42:47.832Z"
   },
   {
    "duration": 18,
    "start_time": "2021-09-19T16:42:47.879Z"
   },
   {
    "duration": 37,
    "start_time": "2021-09-19T16:42:47.899Z"
   },
   {
    "duration": 30,
    "start_time": "2021-09-19T16:42:47.938Z"
   },
   {
    "duration": 44,
    "start_time": "2021-09-19T16:42:47.970Z"
   },
   {
    "duration": 16,
    "start_time": "2021-09-19T16:42:48.016Z"
   },
   {
    "duration": 45,
    "start_time": "2021-09-19T16:42:48.037Z"
   },
   {
    "duration": 91,
    "start_time": "2021-09-19T16:42:48.086Z"
   },
   {
    "duration": 16,
    "start_time": "2021-09-19T16:42:48.180Z"
   },
   {
    "duration": 66,
    "start_time": "2021-09-19T16:42:48.199Z"
   },
   {
    "duration": 36,
    "start_time": "2021-09-19T16:42:48.267Z"
   },
   {
    "duration": 13,
    "start_time": "2021-09-19T16:42:48.305Z"
   },
   {
    "duration": 66,
    "start_time": "2021-09-19T16:42:48.320Z"
   },
   {
    "duration": 15,
    "start_time": "2021-09-19T16:42:48.389Z"
   },
   {
    "duration": 64,
    "start_time": "2021-09-19T16:42:48.406Z"
   },
   {
    "duration": 32,
    "start_time": "2021-09-19T16:42:48.473Z"
   },
   {
    "duration": 17,
    "start_time": "2021-09-19T16:42:48.508Z"
   },
   {
    "duration": 53,
    "start_time": "2021-09-19T16:42:48.527Z"
   },
   {
    "duration": 11,
    "start_time": "2021-09-19T16:42:48.582Z"
   },
   {
    "duration": 50,
    "start_time": "2021-09-19T16:42:48.595Z"
   },
   {
    "duration": 23,
    "start_time": "2021-09-19T16:42:48.648Z"
   },
   {
    "duration": 47,
    "start_time": "2021-09-19T16:42:48.674Z"
   },
   {
    "duration": 22,
    "start_time": "2021-09-19T16:42:48.723Z"
   },
   {
    "duration": 19,
    "start_time": "2021-09-19T16:42:48.747Z"
   },
   {
    "duration": 38,
    "start_time": "2021-09-19T16:42:48.768Z"
   },
   {
    "duration": 5,
    "start_time": "2021-09-19T16:42:48.808Z"
   },
   {
    "duration": 48,
    "start_time": "2021-09-19T16:42:48.816Z"
   },
   {
    "duration": 20,
    "start_time": "2021-09-19T16:42:48.866Z"
   },
   {
    "duration": 57,
    "start_time": "2021-09-19T16:42:48.888Z"
   },
   {
    "duration": 29,
    "start_time": "2021-09-19T16:42:48.948Z"
   },
   {
    "duration": 9,
    "start_time": "2021-09-19T16:42:48.980Z"
   },
   {
    "duration": 26,
    "start_time": "2021-09-19T16:42:48.991Z"
   },
   {
    "duration": 15,
    "start_time": "2021-09-19T16:42:49.020Z"
   },
   {
    "duration": 154,
    "start_time": "2021-09-19T16:42:49.038Z"
   },
   {
    "duration": 8124,
    "start_time": "2021-09-19T16:42:49.194Z"
   },
   {
    "duration": 2918,
    "start_time": "2021-09-19T16:42:57.321Z"
   },
   {
    "duration": 23,
    "start_time": "2021-09-19T16:43:00.241Z"
   },
   {
    "duration": 49,
    "start_time": "2021-09-19T16:43:00.267Z"
   },
   {
    "duration": 46,
    "start_time": "2021-09-19T16:43:00.319Z"
   },
   {
    "duration": 95,
    "start_time": "2021-09-19T16:43:00.368Z"
   },
   {
    "duration": 19,
    "start_time": "2021-09-19T16:43:00.465Z"
   },
   {
    "duration": 86,
    "start_time": "2021-09-19T16:43:00.486Z"
   },
   {
    "duration": 14,
    "start_time": "2021-09-19T16:43:00.574Z"
   },
   {
    "duration": 42,
    "start_time": "2021-09-19T16:43:00.590Z"
   },
   {
    "duration": 43,
    "start_time": "2021-09-19T16:43:00.635Z"
   },
   {
    "duration": 63,
    "start_time": "2021-09-19T16:43:00.681Z"
   },
   {
    "duration": 7,
    "start_time": "2021-09-19T16:43:00.747Z"
   },
   {
    "duration": 26,
    "start_time": "2021-09-19T16:43:00.761Z"
   },
   {
    "duration": 214,
    "start_time": "2021-09-19T16:43:00.790Z"
   },
   {
    "duration": 9,
    "start_time": "2021-09-19T16:43:01.006Z"
   },
   {
    "duration": 135,
    "start_time": "2021-09-19T16:43:01.017Z"
   },
   {
    "duration": 64,
    "start_time": "2021-09-19T16:43:01.163Z"
   },
   {
    "duration": 6,
    "start_time": "2021-09-19T16:43:01.231Z"
   },
   {
    "duration": 342,
    "start_time": "2021-09-19T16:43:01.260Z"
   },
   {
    "duration": 7,
    "start_time": "2021-09-19T16:43:01.605Z"
   },
   {
    "duration": 39,
    "start_time": "2021-09-19T16:43:01.615Z"
   },
   {
    "duration": 13519,
    "start_time": "2021-09-19T16:43:01.660Z"
   },
   {
    "duration": 87,
    "start_time": "2021-09-19T16:43:15.095Z"
   },
   {
    "duration": 82,
    "start_time": "2021-09-19T16:43:15.101Z"
   },
   {
    "duration": 82,
    "start_time": "2021-09-19T16:43:15.103Z"
   },
   {
    "duration": 81,
    "start_time": "2021-09-19T16:43:15.106Z"
   },
   {
    "duration": 78,
    "start_time": "2021-09-19T16:43:15.111Z"
   },
   {
    "duration": 77,
    "start_time": "2021-09-19T16:43:15.113Z"
   },
   {
    "duration": 76,
    "start_time": "2021-09-19T16:43:15.116Z"
   },
   {
    "duration": 76,
    "start_time": "2021-09-19T16:43:15.118Z"
   },
   {
    "duration": 75,
    "start_time": "2021-09-19T16:43:15.121Z"
   },
   {
    "duration": 74,
    "start_time": "2021-09-19T16:43:15.123Z"
   },
   {
    "duration": 72,
    "start_time": "2021-09-19T16:43:15.127Z"
   },
   {
    "duration": 70,
    "start_time": "2021-09-19T16:43:15.130Z"
   },
   {
    "duration": 70,
    "start_time": "2021-09-19T16:43:15.132Z"
   },
   {
    "duration": 69,
    "start_time": "2021-09-19T16:43:15.135Z"
   },
   {
    "duration": 44,
    "start_time": "2021-09-19T16:43:15.161Z"
   },
   {
    "duration": 41,
    "start_time": "2021-09-19T16:43:15.166Z"
   },
   {
    "duration": 40,
    "start_time": "2021-09-19T16:43:15.168Z"
   },
   {
    "duration": 39,
    "start_time": "2021-09-19T16:43:15.171Z"
   },
   {
    "duration": 38,
    "start_time": "2021-09-19T16:43:15.174Z"
   },
   {
    "duration": 36,
    "start_time": "2021-09-19T16:43:15.178Z"
   },
   {
    "duration": 35,
    "start_time": "2021-09-19T16:43:15.180Z"
   },
   {
    "duration": 35,
    "start_time": "2021-09-19T16:43:15.182Z"
   },
   {
    "duration": 74,
    "start_time": "2021-09-19T16:43:15.185Z"
   },
   {
    "duration": 76,
    "start_time": "2021-09-19T16:43:15.187Z"
   },
   {
    "duration": 75,
    "start_time": "2021-09-19T16:43:15.190Z"
   },
   {
    "duration": 73,
    "start_time": "2021-09-19T16:43:15.195Z"
   },
   {
    "duration": 72,
    "start_time": "2021-09-19T16:43:15.198Z"
   },
   {
    "duration": 72,
    "start_time": "2021-09-19T16:43:15.200Z"
   },
   {
    "duration": 356,
    "start_time": "2021-09-19T17:18:23.513Z"
   },
   {
    "duration": 261,
    "start_time": "2021-09-19T17:18:34.561Z"
   },
   {
    "duration": 32,
    "start_time": "2021-09-19T17:18:34.825Z"
   },
   {
    "duration": 200,
    "start_time": "2021-09-19T17:18:34.860Z"
   },
   {
    "duration": 15,
    "start_time": "2021-09-19T17:18:35.063Z"
   },
   {
    "duration": 138,
    "start_time": "2021-09-19T17:18:35.081Z"
   },
   {
    "duration": 10,
    "start_time": "2021-09-19T17:18:35.221Z"
   },
   {
    "duration": 36,
    "start_time": "2021-09-19T17:18:35.234Z"
   },
   {
    "duration": 12,
    "start_time": "2021-09-19T17:18:35.274Z"
   },
   {
    "duration": 64,
    "start_time": "2021-09-19T17:18:35.290Z"
   },
   {
    "duration": 15,
    "start_time": "2021-09-19T17:18:35.357Z"
   },
   {
    "duration": 12,
    "start_time": "2021-09-19T17:18:35.374Z"
   },
   {
    "duration": 9,
    "start_time": "2021-09-19T17:18:35.389Z"
   },
   {
    "duration": 6,
    "start_time": "2021-09-19T17:18:35.401Z"
   },
   {
    "duration": 7,
    "start_time": "2021-09-19T17:18:35.410Z"
   },
   {
    "duration": 49,
    "start_time": "2021-09-19T17:18:35.419Z"
   },
   {
    "duration": 6,
    "start_time": "2021-09-19T17:18:35.471Z"
   },
   {
    "duration": 27,
    "start_time": "2021-09-19T17:18:35.479Z"
   },
   {
    "duration": 20,
    "start_time": "2021-09-19T17:18:35.509Z"
   },
   {
    "duration": 57,
    "start_time": "2021-09-19T17:18:35.532Z"
   },
   {
    "duration": 14,
    "start_time": "2021-09-19T17:18:35.591Z"
   },
   {
    "duration": 56,
    "start_time": "2021-09-19T17:18:35.607Z"
   },
   {
    "duration": 21,
    "start_time": "2021-09-19T17:18:35.665Z"
   },
   {
    "duration": 27,
    "start_time": "2021-09-19T17:18:35.692Z"
   },
   {
    "duration": 95,
    "start_time": "2021-09-19T17:18:35.723Z"
   },
   {
    "duration": 16,
    "start_time": "2021-09-19T17:18:35.820Z"
   },
   {
    "duration": 66,
    "start_time": "2021-09-19T17:18:35.838Z"
   },
   {
    "duration": 34,
    "start_time": "2021-09-19T17:18:35.908Z"
   },
   {
    "duration": 24,
    "start_time": "2021-09-19T17:18:35.944Z"
   },
   {
    "duration": 42,
    "start_time": "2021-09-19T17:18:35.970Z"
   },
   {
    "duration": 14,
    "start_time": "2021-09-19T17:18:36.014Z"
   },
   {
    "duration": 65,
    "start_time": "2021-09-19T17:18:36.030Z"
   },
   {
    "duration": 32,
    "start_time": "2021-09-19T17:18:36.097Z"
   },
   {
    "duration": 42,
    "start_time": "2021-09-19T17:18:36.131Z"
   },
   {
    "duration": 24,
    "start_time": "2021-09-19T17:18:36.175Z"
   },
   {
    "duration": 13,
    "start_time": "2021-09-19T17:18:36.201Z"
   },
   {
    "duration": 65,
    "start_time": "2021-09-19T17:18:36.217Z"
   },
   {
    "duration": 13,
    "start_time": "2021-09-19T17:18:36.285Z"
   },
   {
    "duration": 33,
    "start_time": "2021-09-19T17:18:36.301Z"
   },
   {
    "duration": 35,
    "start_time": "2021-09-19T17:18:36.337Z"
   },
   {
    "duration": 15,
    "start_time": "2021-09-19T17:18:36.374Z"
   },
   {
    "duration": 29,
    "start_time": "2021-09-19T17:18:36.391Z"
   },
   {
    "duration": 37,
    "start_time": "2021-09-19T17:18:36.423Z"
   },
   {
    "duration": 25,
    "start_time": "2021-09-19T17:18:36.465Z"
   },
   {
    "duration": 17,
    "start_time": "2021-09-19T17:18:36.493Z"
   },
   {
    "duration": 56,
    "start_time": "2021-09-19T17:18:36.513Z"
   },
   {
    "duration": 21,
    "start_time": "2021-09-19T17:18:36.572Z"
   },
   {
    "duration": 11,
    "start_time": "2021-09-19T17:18:36.595Z"
   },
   {
    "duration": 8,
    "start_time": "2021-09-19T17:18:36.608Z"
   },
   {
    "duration": 8,
    "start_time": "2021-09-19T17:18:36.618Z"
   },
   {
    "duration": 169,
    "start_time": "2021-09-19T17:18:36.628Z"
   },
   {
    "duration": 7863,
    "start_time": "2021-09-19T17:18:36.799Z"
   },
   {
    "duration": 2653,
    "start_time": "2021-09-19T17:18:44.665Z"
   },
   {
    "duration": 16,
    "start_time": "2021-09-19T17:18:47.320Z"
   },
   {
    "duration": 40,
    "start_time": "2021-09-19T17:18:47.361Z"
   },
   {
    "duration": 21,
    "start_time": "2021-09-19T17:18:47.403Z"
   },
   {
    "duration": 133,
    "start_time": "2021-09-19T17:18:47.427Z"
   },
   {
    "duration": 26,
    "start_time": "2021-09-19T17:18:47.563Z"
   },
   {
    "duration": 85,
    "start_time": "2021-09-19T17:18:47.592Z"
   },
   {
    "duration": 13,
    "start_time": "2021-09-19T17:18:47.679Z"
   },
   {
    "duration": 28,
    "start_time": "2021-09-19T17:18:47.695Z"
   },
   {
    "duration": 39,
    "start_time": "2021-09-19T17:18:47.725Z"
   },
   {
    "duration": 41,
    "start_time": "2021-09-19T17:18:47.772Z"
   },
   {
    "duration": 7,
    "start_time": "2021-09-19T17:18:47.816Z"
   },
   {
    "duration": 19,
    "start_time": "2021-09-19T17:18:47.825Z"
   },
   {
    "duration": 36,
    "start_time": "2021-09-19T17:18:47.856Z"
   },
   {
    "duration": 9,
    "start_time": "2021-09-19T17:18:47.894Z"
   },
   {
    "duration": 89,
    "start_time": "2021-09-19T17:18:47.906Z"
   },
   {
    "duration": 86,
    "start_time": "2021-09-19T17:18:48.002Z"
   },
   {
    "duration": 4636,
    "start_time": "2021-09-19T17:18:48.091Z"
   },
   {
    "duration": -98,
    "start_time": "2021-09-19T17:18:52.828Z"
   },
   {
    "duration": -101,
    "start_time": "2021-09-19T17:18:52.833Z"
   },
   {
    "duration": -101,
    "start_time": "2021-09-19T17:18:52.835Z"
   },
   {
    "duration": -102,
    "start_time": "2021-09-19T17:18:52.837Z"
   },
   {
    "duration": -103,
    "start_time": "2021-09-19T17:18:52.839Z"
   },
   {
    "duration": -104,
    "start_time": "2021-09-19T17:18:52.842Z"
   },
   {
    "duration": -104,
    "start_time": "2021-09-19T17:18:52.843Z"
   },
   {
    "duration": -108,
    "start_time": "2021-09-19T17:18:52.848Z"
   },
   {
    "duration": -109,
    "start_time": "2021-09-19T17:18:52.851Z"
   },
   {
    "duration": -224,
    "start_time": "2021-09-19T17:18:52.967Z"
   },
   {
    "duration": 289,
    "start_time": "2021-09-19T17:19:39.531Z"
   },
   {
    "duration": 78,
    "start_time": "2021-09-19T17:19:45.472Z"
   },
   {
    "duration": 44,
    "start_time": "2021-09-19T17:23:24.109Z"
   },
   {
    "duration": 9,
    "start_time": "2021-09-19T17:23:38.733Z"
   },
   {
    "duration": 306,
    "start_time": "2021-09-19T17:25:31.244Z"
   },
   {
    "duration": 587,
    "start_time": "2021-09-19T17:25:48.588Z"
   },
   {
    "duration": 5889,
    "start_time": "2021-09-19T17:27:36.714Z"
   },
   {
    "duration": 910,
    "start_time": "2021-09-19T17:27:44.713Z"
   },
   {
    "duration": 312,
    "start_time": "2021-09-19T17:28:02.020Z"
   },
   {
    "duration": 310,
    "start_time": "2021-09-19T17:28:35.670Z"
   },
   {
    "duration": 307,
    "start_time": "2021-09-19T17:30:07.579Z"
   },
   {
    "duration": 355,
    "start_time": "2021-09-19T17:30:20.354Z"
   },
   {
    "duration": 326,
    "start_time": "2021-09-19T17:30:30.175Z"
   },
   {
    "duration": 305,
    "start_time": "2021-09-19T17:30:49.732Z"
   },
   {
    "duration": 325,
    "start_time": "2021-09-19T17:31:09.052Z"
   },
   {
    "duration": 6,
    "start_time": "2021-09-19T17:32:01.170Z"
   },
   {
    "duration": 318,
    "start_time": "2021-09-19T17:32:21.918Z"
   },
   {
    "duration": 310,
    "start_time": "2021-09-19T17:32:22.331Z"
   },
   {
    "duration": 322,
    "start_time": "2021-09-19T17:32:22.644Z"
   },
   {
    "duration": 324,
    "start_time": "2021-09-19T17:34:16.695Z"
   },
   {
    "duration": 289,
    "start_time": "2021-09-19T17:34:24.641Z"
   },
   {
    "duration": 216,
    "start_time": "2021-09-19T17:34:31.105Z"
   },
   {
    "duration": 408,
    "start_time": "2021-09-19T17:35:06.916Z"
   },
   {
    "duration": 6,
    "start_time": "2021-09-19T17:37:05.054Z"
   },
   {
    "duration": 67,
    "start_time": "2021-09-19T17:37:12.638Z"
   },
   {
    "duration": 8,
    "start_time": "2021-09-19T17:37:22.115Z"
   },
   {
    "duration": 13,
    "start_time": "2021-09-19T17:37:22.857Z"
   },
   {
    "duration": 71,
    "start_time": "2021-09-19T17:37:23.456Z"
   },
   {
    "duration": 63,
    "start_time": "2021-09-19T17:37:57.311Z"
   },
   {
    "duration": 267,
    "start_time": "2021-09-19T17:38:49.324Z"
   },
   {
    "duration": 12,
    "start_time": "2021-09-19T17:38:49.593Z"
   },
   {
    "duration": 204,
    "start_time": "2021-09-19T17:38:49.608Z"
   },
   {
    "duration": 12,
    "start_time": "2021-09-19T17:38:49.815Z"
   },
   {
    "duration": 144,
    "start_time": "2021-09-19T17:38:49.830Z"
   },
   {
    "duration": 11,
    "start_time": "2021-09-19T17:38:49.978Z"
   },
   {
    "duration": 36,
    "start_time": "2021-09-19T17:38:49.992Z"
   },
   {
    "duration": 33,
    "start_time": "2021-09-19T17:38:50.033Z"
   },
   {
    "duration": 50,
    "start_time": "2021-09-19T17:38:50.069Z"
   },
   {
    "duration": 16,
    "start_time": "2021-09-19T17:38:50.121Z"
   },
   {
    "duration": 30,
    "start_time": "2021-09-19T17:38:50.140Z"
   },
   {
    "duration": 20,
    "start_time": "2021-09-19T17:38:50.173Z"
   },
   {
    "duration": 19,
    "start_time": "2021-09-19T17:38:50.196Z"
   },
   {
    "duration": 25,
    "start_time": "2021-09-19T17:38:50.217Z"
   },
   {
    "duration": 9,
    "start_time": "2021-09-19T17:38:50.245Z"
   },
   {
    "duration": 10,
    "start_time": "2021-09-19T17:38:50.264Z"
   },
   {
    "duration": 23,
    "start_time": "2021-09-19T17:38:50.276Z"
   },
   {
    "duration": 21,
    "start_time": "2021-09-19T17:38:50.301Z"
   },
   {
    "duration": 59,
    "start_time": "2021-09-19T17:38:50.324Z"
   },
   {
    "duration": 13,
    "start_time": "2021-09-19T17:38:50.386Z"
   },
   {
    "duration": 31,
    "start_time": "2021-09-19T17:38:50.402Z"
   },
   {
    "duration": 37,
    "start_time": "2021-09-19T17:38:50.436Z"
   },
   {
    "duration": 26,
    "start_time": "2021-09-19T17:38:50.479Z"
   },
   {
    "duration": 102,
    "start_time": "2021-09-19T17:38:50.509Z"
   },
   {
    "duration": 16,
    "start_time": "2021-09-19T17:38:50.613Z"
   },
   {
    "duration": 58,
    "start_time": "2021-09-19T17:38:50.631Z"
   },
   {
    "duration": 36,
    "start_time": "2021-09-19T17:38:50.691Z"
   },
   {
    "duration": 28,
    "start_time": "2021-09-19T17:38:50.730Z"
   },
   {
    "duration": 46,
    "start_time": "2021-09-19T17:38:50.761Z"
   },
   {
    "duration": 15,
    "start_time": "2021-09-19T17:38:50.810Z"
   },
   {
    "duration": 66,
    "start_time": "2021-09-19T17:38:50.828Z"
   },
   {
    "duration": 31,
    "start_time": "2021-09-19T17:38:50.897Z"
   },
   {
    "duration": 39,
    "start_time": "2021-09-19T17:38:50.931Z"
   },
   {
    "duration": 24,
    "start_time": "2021-09-19T17:38:50.972Z"
   },
   {
    "duration": 12,
    "start_time": "2021-09-19T17:38:50.999Z"
   },
   {
    "duration": 64,
    "start_time": "2021-09-19T17:38:51.013Z"
   },
   {
    "duration": 13,
    "start_time": "2021-09-19T17:38:51.079Z"
   },
   {
    "duration": 35,
    "start_time": "2021-09-19T17:38:51.094Z"
   },
   {
    "duration": 37,
    "start_time": "2021-09-19T17:38:51.131Z"
   },
   {
    "duration": 14,
    "start_time": "2021-09-19T17:38:51.170Z"
   },
   {
    "duration": 38,
    "start_time": "2021-09-19T17:38:51.187Z"
   },
   {
    "duration": 4,
    "start_time": "2021-09-19T17:38:51.227Z"
   },
   {
    "duration": 42,
    "start_time": "2021-09-19T17:38:51.234Z"
   },
   {
    "duration": 18,
    "start_time": "2021-09-19T17:38:51.278Z"
   },
   {
    "duration": 65,
    "start_time": "2021-09-19T17:38:51.298Z"
   },
   {
    "duration": 20,
    "start_time": "2021-09-19T17:38:51.366Z"
   },
   {
    "duration": 8,
    "start_time": "2021-09-19T17:38:51.388Z"
   },
   {
    "duration": 18,
    "start_time": "2021-09-19T17:38:51.398Z"
   },
   {
    "duration": 10,
    "start_time": "2021-09-19T17:38:51.419Z"
   },
   {
    "duration": 159,
    "start_time": "2021-09-19T17:38:51.431Z"
   },
   {
    "duration": 2,
    "start_time": "2021-09-19T17:38:51.593Z"
   },
   {
    "duration": 8,
    "start_time": "2021-09-19T17:38:51.598Z"
   },
   {
    "duration": 20,
    "start_time": "2021-09-19T17:38:51.609Z"
   },
   {
    "duration": 58,
    "start_time": "2021-09-19T17:38:51.631Z"
   },
   {
    "duration": 20,
    "start_time": "2021-09-19T17:38:51.691Z"
   },
   {
    "duration": 116,
    "start_time": "2021-09-19T17:38:51.714Z"
   },
   {
    "duration": 17,
    "start_time": "2021-09-19T17:38:51.832Z"
   },
   {
    "duration": 63,
    "start_time": "2021-09-19T17:38:51.860Z"
   },
   {
    "duration": 32,
    "start_time": "2021-09-19T17:38:51.925Z"
   },
   {
    "duration": 22,
    "start_time": "2021-09-19T17:38:51.959Z"
   },
   {
    "duration": 13,
    "start_time": "2021-09-19T17:38:51.984Z"
   },
   {
    "duration": 65,
    "start_time": "2021-09-19T17:38:51.999Z"
   },
   {
    "duration": 7,
    "start_time": "2021-09-19T17:38:52.067Z"
   },
   {
    "duration": 10,
    "start_time": "2021-09-19T17:38:52.077Z"
   },
   {
    "duration": 35,
    "start_time": "2021-09-19T17:38:52.090Z"
   },
   {
    "duration": 28,
    "start_time": "2021-09-19T17:38:52.128Z"
   },
   {
    "duration": 11,
    "start_time": "2021-09-19T17:38:52.158Z"
   },
   {
    "duration": 115,
    "start_time": "2021-09-19T17:38:52.187Z"
   },
   {
    "duration": 84,
    "start_time": "2021-09-19T17:38:52.305Z"
   },
   {
    "duration": 5,
    "start_time": "2021-09-19T17:38:52.392Z"
   },
   {
    "duration": 340,
    "start_time": "2021-09-19T17:38:52.399Z"
   },
   {
    "duration": 340,
    "start_time": "2021-09-19T17:38:52.741Z"
   },
   {
    "duration": 325,
    "start_time": "2021-09-19T17:38:53.083Z"
   },
   {
    "duration": 6,
    "start_time": "2021-09-19T17:38:53.410Z"
   },
   {
    "duration": 508,
    "start_time": "2021-09-19T17:38:53.419Z"
   },
   {
    "duration": 432,
    "start_time": "2021-09-19T17:38:53.929Z"
   },
   {
    "duration": 320,
    "start_time": "2021-09-19T17:38:54.364Z"
   },
   {
    "duration": 272,
    "start_time": "2021-09-19T17:38:54.687Z"
   },
   {
    "duration": 3565,
    "start_time": "2021-09-19T17:38:54.968Z"
   },
   {
    "duration": -108,
    "start_time": "2021-09-19T17:38:58.643Z"
   },
   {
    "duration": -109,
    "start_time": "2021-09-19T17:38:58.646Z"
   },
   {
    "duration": -111,
    "start_time": "2021-09-19T17:38:58.649Z"
   },
   {
    "duration": -114,
    "start_time": "2021-09-19T17:38:58.653Z"
   },
   {
    "duration": -116,
    "start_time": "2021-09-19T17:38:58.656Z"
   },
   {
    "duration": -116,
    "start_time": "2021-09-19T17:38:58.658Z"
   },
   {
    "duration": -118,
    "start_time": "2021-09-19T17:38:58.661Z"
   },
   {
    "duration": -118,
    "start_time": "2021-09-19T17:38:58.663Z"
   },
   {
    "duration": -122,
    "start_time": "2021-09-19T17:38:58.668Z"
   },
   {
    "duration": 88,
    "start_time": "2021-09-19T17:40:22.947Z"
   },
   {
    "duration": 329,
    "start_time": "2021-09-19T17:44:40.678Z"
   },
   {
    "duration": 233,
    "start_time": "2021-09-19T17:45:36.538Z"
   },
   {
    "duration": 290,
    "start_time": "2021-09-19T17:46:18.614Z"
   },
   {
    "duration": 2693,
    "start_time": "2021-09-19T17:46:26.441Z"
   },
   {
    "duration": 318,
    "start_time": "2021-09-19T17:46:54.844Z"
   },
   {
    "duration": 275,
    "start_time": "2021-09-19T17:47:08.035Z"
   },
   {
    "duration": 223,
    "start_time": "2021-09-19T17:48:18.415Z"
   },
   {
    "duration": 232,
    "start_time": "2021-09-19T17:48:25.037Z"
   },
   {
    "duration": 289,
    "start_time": "2021-09-19T17:48:32.104Z"
   },
   {
    "duration": 267,
    "start_time": "2021-09-19T17:48:57.730Z"
   },
   {
    "duration": 11,
    "start_time": "2021-09-19T17:48:57.999Z"
   },
   {
    "duration": 201,
    "start_time": "2021-09-19T17:48:58.013Z"
   },
   {
    "duration": 12,
    "start_time": "2021-09-19T17:48:58.217Z"
   },
   {
    "duration": 141,
    "start_time": "2021-09-19T17:48:58.231Z"
   },
   {
    "duration": 10,
    "start_time": "2021-09-19T17:48:58.375Z"
   },
   {
    "duration": 28,
    "start_time": "2021-09-19T17:48:58.387Z"
   },
   {
    "duration": 17,
    "start_time": "2021-09-19T17:48:58.418Z"
   },
   {
    "duration": 46,
    "start_time": "2021-09-19T17:48:58.456Z"
   },
   {
    "duration": 15,
    "start_time": "2021-09-19T17:48:58.505Z"
   },
   {
    "duration": 15,
    "start_time": "2021-09-19T17:48:58.523Z"
   },
   {
    "duration": 7,
    "start_time": "2021-09-19T17:48:58.541Z"
   },
   {
    "duration": 11,
    "start_time": "2021-09-19T17:48:58.550Z"
   },
   {
    "duration": 10,
    "start_time": "2021-09-19T17:48:58.564Z"
   },
   {
    "duration": 10,
    "start_time": "2021-09-19T17:48:58.577Z"
   },
   {
    "duration": 15,
    "start_time": "2021-09-19T17:48:58.590Z"
   },
   {
    "duration": 52,
    "start_time": "2021-09-19T17:48:58.608Z"
   },
   {
    "duration": 20,
    "start_time": "2021-09-19T17:48:58.663Z"
   },
   {
    "duration": 30,
    "start_time": "2021-09-19T17:48:58.686Z"
   },
   {
    "duration": 48,
    "start_time": "2021-09-19T17:48:58.718Z"
   },
   {
    "duration": 28,
    "start_time": "2021-09-19T17:48:58.769Z"
   },
   {
    "duration": 15,
    "start_time": "2021-09-19T17:48:58.800Z"
   },
   {
    "duration": 66,
    "start_time": "2021-09-19T17:48:58.818Z"
   },
   {
    "duration": 90,
    "start_time": "2021-09-19T17:48:58.886Z"
   },
   {
    "duration": 17,
    "start_time": "2021-09-19T17:48:58.979Z"
   },
   {
    "duration": 65,
    "start_time": "2021-09-19T17:48:58.999Z"
   },
   {
    "duration": 33,
    "start_time": "2021-09-19T17:48:59.071Z"
   },
   {
    "duration": 13,
    "start_time": "2021-09-19T17:48:59.108Z"
   },
   {
    "duration": 62,
    "start_time": "2021-09-19T17:48:59.123Z"
   },
   {
    "duration": 14,
    "start_time": "2021-09-19T17:48:59.187Z"
   },
   {
    "duration": 59,
    "start_time": "2021-09-19T17:48:59.204Z"
   },
   {
    "duration": 30,
    "start_time": "2021-09-19T17:48:59.266Z"
   },
   {
    "duration": 14,
    "start_time": "2021-09-19T17:48:59.298Z"
   },
   {
    "duration": 50,
    "start_time": "2021-09-19T17:48:59.315Z"
   },
   {
    "duration": 11,
    "start_time": "2021-09-19T17:48:59.368Z"
   },
   {
    "duration": 26,
    "start_time": "2021-09-19T17:48:59.381Z"
   },
   {
    "duration": 14,
    "start_time": "2021-09-19T17:48:59.410Z"
   },
   {
    "duration": 50,
    "start_time": "2021-09-19T17:48:59.426Z"
   },
   {
    "duration": 21,
    "start_time": "2021-09-19T17:48:59.478Z"
   },
   {
    "duration": 15,
    "start_time": "2021-09-19T17:48:59.501Z"
   },
   {
    "duration": 57,
    "start_time": "2021-09-19T17:48:59.518Z"
   },
   {
    "duration": 4,
    "start_time": "2021-09-19T17:48:59.577Z"
   },
   {
    "duration": 21,
    "start_time": "2021-09-19T17:48:59.583Z"
   },
   {
    "duration": 17,
    "start_time": "2021-09-19T17:48:59.607Z"
   },
   {
    "duration": 64,
    "start_time": "2021-09-19T17:48:59.626Z"
   },
   {
    "duration": 19,
    "start_time": "2021-09-19T17:48:59.692Z"
   },
   {
    "duration": 42,
    "start_time": "2021-09-19T17:48:59.714Z"
   },
   {
    "duration": 4,
    "start_time": "2021-09-19T17:48:59.758Z"
   },
   {
    "duration": 18,
    "start_time": "2021-09-19T17:48:59.764Z"
   },
   {
    "duration": 133,
    "start_time": "2021-09-19T17:48:59.784Z"
   },
   {
    "duration": 3,
    "start_time": "2021-09-19T17:48:59.919Z"
   },
   {
    "duration": 7,
    "start_time": "2021-09-19T17:48:59.925Z"
   },
   {
    "duration": 33,
    "start_time": "2021-09-19T17:48:59.935Z"
   },
   {
    "duration": 40,
    "start_time": "2021-09-19T17:48:59.971Z"
   },
   {
    "duration": 57,
    "start_time": "2021-09-19T17:49:00.013Z"
   },
   {
    "duration": 111,
    "start_time": "2021-09-19T17:49:00.072Z"
   },
   {
    "duration": 17,
    "start_time": "2021-09-19T17:49:00.185Z"
   },
   {
    "duration": 82,
    "start_time": "2021-09-19T17:49:00.205Z"
   },
   {
    "duration": 14,
    "start_time": "2021-09-19T17:49:00.289Z"
   },
   {
    "duration": 39,
    "start_time": "2021-09-19T17:49:00.305Z"
   },
   {
    "duration": 19,
    "start_time": "2021-09-19T17:49:00.346Z"
   },
   {
    "duration": 67,
    "start_time": "2021-09-19T17:49:00.367Z"
   },
   {
    "duration": 7,
    "start_time": "2021-09-19T17:49:00.437Z"
   },
   {
    "duration": 27,
    "start_time": "2021-09-19T17:49:00.447Z"
   },
   {
    "duration": 45,
    "start_time": "2021-09-19T17:49:00.477Z"
   },
   {
    "duration": 5,
    "start_time": "2021-09-19T17:49:00.525Z"
   },
   {
    "duration": 33,
    "start_time": "2021-09-19T17:49:00.532Z"
   },
   {
    "duration": 79,
    "start_time": "2021-09-19T17:49:00.567Z"
   },
   {
    "duration": 80,
    "start_time": "2021-09-19T17:49:00.648Z"
   },
   {
    "duration": 6,
    "start_time": "2021-09-19T17:49:00.730Z"
   },
   {
    "duration": 335,
    "start_time": "2021-09-19T17:49:00.738Z"
   },
   {
    "duration": 326,
    "start_time": "2021-09-19T17:49:01.076Z"
   },
   {
    "duration": 332,
    "start_time": "2021-09-19T17:49:01.405Z"
   },
   {
    "duration": 6,
    "start_time": "2021-09-19T17:49:01.739Z"
   },
   {
    "duration": 316,
    "start_time": "2021-09-19T17:49:01.747Z"
   },
   {
    "duration": 330,
    "start_time": "2021-09-19T17:49:02.065Z"
   },
   {
    "duration": 319,
    "start_time": "2021-09-19T17:49:02.398Z"
   },
   {
    "duration": 242,
    "start_time": "2021-09-19T17:49:02.719Z"
   },
   {
    "duration": 4406,
    "start_time": "2021-09-19T17:49:02.964Z"
   },
   {
    "duration": -85,
    "start_time": "2021-09-19T17:49:07.458Z"
   },
   {
    "duration": -86,
    "start_time": "2021-09-19T17:49:07.461Z"
   },
   {
    "duration": -87,
    "start_time": "2021-09-19T17:49:07.464Z"
   },
   {
    "duration": -88,
    "start_time": "2021-09-19T17:49:07.467Z"
   },
   {
    "duration": -89,
    "start_time": "2021-09-19T17:49:07.469Z"
   },
   {
    "duration": -91,
    "start_time": "2021-09-19T17:49:07.472Z"
   },
   {
    "duration": -95,
    "start_time": "2021-09-19T17:49:07.477Z"
   },
   {
    "duration": -95,
    "start_time": "2021-09-19T17:49:07.479Z"
   },
   {
    "duration": -97,
    "start_time": "2021-09-19T17:49:07.482Z"
   },
   {
    "duration": 12,
    "start_time": "2021-09-19T17:49:21.951Z"
   },
   {
    "duration": 837,
    "start_time": "2021-09-19T17:49:49.129Z"
   },
   {
    "duration": 1118,
    "start_time": "2021-09-19T17:49:58.338Z"
   },
   {
    "duration": 235,
    "start_time": "2021-09-19T17:50:11.042Z"
   },
   {
    "duration": 7744,
    "start_time": "2021-09-19T17:50:39.407Z"
   },
   {
    "duration": 21,
    "start_time": "2021-09-19T17:51:00.003Z"
   },
   {
    "duration": 366,
    "start_time": "2021-09-19T17:51:25.757Z"
   },
   {
    "duration": 338,
    "start_time": "2021-09-19T17:51:45.547Z"
   },
   {
    "duration": 344,
    "start_time": "2021-09-19T17:52:30.025Z"
   },
   {
    "duration": 216,
    "start_time": "2021-09-19T17:52:38.405Z"
   },
   {
    "duration": 90,
    "start_time": "2021-09-19T17:52:45.938Z"
   },
   {
    "duration": 287,
    "start_time": "2021-09-19T17:54:57.402Z"
   },
   {
    "duration": 343,
    "start_time": "2021-09-19T17:55:07.448Z"
   },
   {
    "duration": 307,
    "start_time": "2021-09-19T17:55:58.686Z"
   },
   {
    "duration": 6,
    "start_time": "2021-09-19T17:56:57.941Z"
   },
   {
    "duration": 5,
    "start_time": "2021-09-19T17:56:59.542Z"
   },
   {
    "duration": 100,
    "start_time": "2021-09-19T17:57:16.730Z"
   },
   {
    "duration": 7,
    "start_time": "2021-09-19T17:57:24.952Z"
   },
   {
    "duration": 6,
    "start_time": "2021-09-19T17:57:46.641Z"
   },
   {
    "duration": 69,
    "start_time": "2021-09-19T17:58:22.726Z"
   },
   {
    "duration": 264,
    "start_time": "2021-09-19T17:58:35.502Z"
   },
   {
    "duration": 11,
    "start_time": "2021-09-19T17:58:35.768Z"
   },
   {
    "duration": 201,
    "start_time": "2021-09-19T17:58:35.782Z"
   },
   {
    "duration": 11,
    "start_time": "2021-09-19T17:58:35.985Z"
   },
   {
    "duration": 132,
    "start_time": "2021-09-19T17:58:35.998Z"
   },
   {
    "duration": 10,
    "start_time": "2021-09-19T17:58:36.132Z"
   },
   {
    "duration": 31,
    "start_time": "2021-09-19T17:58:36.155Z"
   },
   {
    "duration": 42,
    "start_time": "2021-09-19T17:58:36.190Z"
   },
   {
    "duration": 60,
    "start_time": "2021-09-19T17:58:36.235Z"
   },
   {
    "duration": 21,
    "start_time": "2021-09-19T17:58:36.298Z"
   },
   {
    "duration": 23,
    "start_time": "2021-09-19T17:58:36.321Z"
   },
   {
    "duration": 22,
    "start_time": "2021-09-19T17:58:36.347Z"
   },
   {
    "duration": 22,
    "start_time": "2021-09-19T17:58:36.371Z"
   },
   {
    "duration": 19,
    "start_time": "2021-09-19T17:58:36.395Z"
   },
   {
    "duration": 15,
    "start_time": "2021-09-19T17:58:36.416Z"
   },
   {
    "duration": 19,
    "start_time": "2021-09-19T17:58:36.433Z"
   },
   {
    "duration": 26,
    "start_time": "2021-09-19T17:58:36.454Z"
   },
   {
    "duration": 26,
    "start_time": "2021-09-19T17:58:36.482Z"
   },
   {
    "duration": 34,
    "start_time": "2021-09-19T17:58:36.510Z"
   },
   {
    "duration": 18,
    "start_time": "2021-09-19T17:58:36.547Z"
   },
   {
    "duration": 31,
    "start_time": "2021-09-19T17:58:36.568Z"
   },
   {
    "duration": 15,
    "start_time": "2021-09-19T17:58:36.601Z"
   },
   {
    "duration": 73,
    "start_time": "2021-09-19T17:58:36.622Z"
   },
   {
    "duration": 82,
    "start_time": "2021-09-19T17:58:36.699Z"
   },
   {
    "duration": 16,
    "start_time": "2021-09-19T17:58:36.784Z"
   },
   {
    "duration": 54,
    "start_time": "2021-09-19T17:58:36.803Z"
   },
   {
    "duration": 39,
    "start_time": "2021-09-19T17:58:36.860Z"
   },
   {
    "duration": 12,
    "start_time": "2021-09-19T17:58:36.902Z"
   },
   {
    "duration": 66,
    "start_time": "2021-09-19T17:58:36.916Z"
   },
   {
    "duration": 14,
    "start_time": "2021-09-19T17:58:36.984Z"
   },
   {
    "duration": 58,
    "start_time": "2021-09-19T17:58:37.001Z"
   },
   {
    "duration": 33,
    "start_time": "2021-09-19T17:58:37.061Z"
   },
   {
    "duration": 16,
    "start_time": "2021-09-19T17:58:37.096Z"
   },
   {
    "duration": 50,
    "start_time": "2021-09-19T17:58:37.114Z"
   },
   {
    "duration": 11,
    "start_time": "2021-09-19T17:58:37.167Z"
   },
   {
    "duration": 27,
    "start_time": "2021-09-19T17:58:37.181Z"
   },
   {
    "duration": 14,
    "start_time": "2021-09-19T17:58:37.211Z"
   },
   {
    "duration": 39,
    "start_time": "2021-09-19T17:58:37.257Z"
   },
   {
    "duration": 21,
    "start_time": "2021-09-19T17:58:37.298Z"
   },
   {
    "duration": 15,
    "start_time": "2021-09-19T17:58:37.322Z"
   },
   {
    "duration": 44,
    "start_time": "2021-09-19T17:58:37.339Z"
   },
   {
    "duration": 4,
    "start_time": "2021-09-19T17:58:37.385Z"
   },
   {
    "duration": 28,
    "start_time": "2021-09-19T17:58:37.392Z"
   },
   {
    "duration": 46,
    "start_time": "2021-09-19T17:58:37.423Z"
   },
   {
    "duration": 37,
    "start_time": "2021-09-19T17:58:37.472Z"
   },
   {
    "duration": 45,
    "start_time": "2021-09-19T17:58:37.512Z"
   },
   {
    "duration": 8,
    "start_time": "2021-09-19T17:58:37.560Z"
   },
   {
    "duration": 12,
    "start_time": "2021-09-19T17:58:37.570Z"
   },
   {
    "duration": 27,
    "start_time": "2021-09-19T17:58:37.584Z"
   },
   {
    "duration": 139,
    "start_time": "2021-09-19T17:58:37.613Z"
   },
   {
    "duration": 3,
    "start_time": "2021-09-19T17:58:37.755Z"
   },
   {
    "duration": 14,
    "start_time": "2021-09-19T17:58:37.760Z"
   },
   {
    "duration": 27,
    "start_time": "2021-09-19T17:58:37.776Z"
   },
   {
    "duration": 52,
    "start_time": "2021-09-19T17:58:37.805Z"
   },
   {
    "duration": 21,
    "start_time": "2021-09-19T17:58:37.859Z"
   },
   {
    "duration": 104,
    "start_time": "2021-09-19T17:58:37.882Z"
   },
   {
    "duration": 20,
    "start_time": "2021-09-19T17:58:37.988Z"
   },
   {
    "duration": 79,
    "start_time": "2021-09-19T17:58:38.010Z"
   },
   {
    "duration": 13,
    "start_time": "2021-09-19T17:58:38.092Z"
   },
   {
    "duration": 18,
    "start_time": "2021-09-19T17:58:38.107Z"
   },
   {
    "duration": 39,
    "start_time": "2021-09-19T17:58:38.127Z"
   },
   {
    "duration": 48,
    "start_time": "2021-09-19T17:58:38.169Z"
   },
   {
    "duration": 8,
    "start_time": "2021-09-19T17:58:38.219Z"
   },
   {
    "duration": 28,
    "start_time": "2021-09-19T17:58:38.229Z"
   },
   {
    "duration": 36,
    "start_time": "2021-09-19T17:58:38.259Z"
   },
   {
    "duration": 5,
    "start_time": "2021-09-19T17:58:38.297Z"
   },
   {
    "duration": 12,
    "start_time": "2021-09-19T17:58:38.304Z"
   },
   {
    "duration": 93,
    "start_time": "2021-09-19T17:58:38.324Z"
   },
   {
    "duration": 90,
    "start_time": "2021-09-19T17:58:38.421Z"
   },
   {
    "duration": 7,
    "start_time": "2021-09-19T17:58:38.514Z"
   },
   {
    "duration": 333,
    "start_time": "2021-09-19T17:58:38.524Z"
   },
   {
    "duration": 311,
    "start_time": "2021-09-19T17:58:38.860Z"
   },
   {
    "duration": 327,
    "start_time": "2021-09-19T17:58:39.173Z"
   },
   {
    "duration": 5,
    "start_time": "2021-09-19T17:58:39.503Z"
   },
   {
    "duration": 314,
    "start_time": "2021-09-19T17:58:39.511Z"
   },
   {
    "duration": 332,
    "start_time": "2021-09-19T17:58:39.827Z"
   },
   {
    "duration": 313,
    "start_time": "2021-09-19T17:58:40.161Z"
   },
   {
    "duration": 357,
    "start_time": "2021-09-19T17:58:40.477Z"
   },
   {
    "duration": 3839,
    "start_time": "2021-09-19T17:58:40.837Z"
   },
   {
    "duration": 22,
    "start_time": "2021-09-19T17:58:44.656Z"
   },
   {
    "duration": 17,
    "start_time": "2021-09-19T17:58:44.662Z"
   },
   {
    "duration": 16,
    "start_time": "2021-09-19T17:58:44.665Z"
   },
   {
    "duration": 13,
    "start_time": "2021-09-19T17:58:44.669Z"
   },
   {
    "duration": 9,
    "start_time": "2021-09-19T17:58:44.674Z"
   },
   {
    "duration": 7,
    "start_time": "2021-09-19T17:58:44.678Z"
   },
   {
    "duration": 6,
    "start_time": "2021-09-19T17:58:44.680Z"
   },
   {
    "duration": 4,
    "start_time": "2021-09-19T17:58:44.683Z"
   },
   {
    "duration": 5,
    "start_time": "2021-09-19T17:59:21.716Z"
   },
   {
    "duration": 7,
    "start_time": "2021-09-19T17:59:22.086Z"
   },
   {
    "duration": 7,
    "start_time": "2021-09-19T17:59:23.567Z"
   },
   {
    "duration": 295,
    "start_time": "2021-09-19T17:59:50.044Z"
   },
   {
    "duration": 7,
    "start_time": "2021-09-19T18:00:03.899Z"
   },
   {
    "duration": 7,
    "start_time": "2021-09-19T18:00:10.498Z"
   },
   {
    "duration": 6,
    "start_time": "2021-09-19T18:04:08.112Z"
   },
   {
    "duration": 8,
    "start_time": "2021-09-19T18:06:12.662Z"
   },
   {
    "duration": 11,
    "start_time": "2021-09-19T18:06:14.021Z"
   },
   {
    "duration": 48,
    "start_time": "2021-09-19T18:06:14.661Z"
   },
   {
    "duration": 225,
    "start_time": "2021-09-19T18:06:25.078Z"
   },
   {
    "duration": 11,
    "start_time": "2021-09-19T18:06:25.306Z"
   },
   {
    "duration": 203,
    "start_time": "2021-09-19T18:06:25.320Z"
   },
   {
    "duration": 12,
    "start_time": "2021-09-19T18:06:25.526Z"
   },
   {
    "duration": 125,
    "start_time": "2021-09-19T18:06:25.541Z"
   },
   {
    "duration": 10,
    "start_time": "2021-09-19T18:06:25.668Z"
   },
   {
    "duration": 31,
    "start_time": "2021-09-19T18:06:25.680Z"
   },
   {
    "duration": 29,
    "start_time": "2021-09-19T18:06:25.713Z"
   },
   {
    "duration": 46,
    "start_time": "2021-09-19T18:06:25.759Z"
   },
   {
    "duration": 15,
    "start_time": "2021-09-19T18:06:25.808Z"
   },
   {
    "duration": 9,
    "start_time": "2021-09-19T18:06:25.826Z"
   },
   {
    "duration": 14,
    "start_time": "2021-09-19T18:06:25.838Z"
   },
   {
    "duration": 17,
    "start_time": "2021-09-19T18:06:25.855Z"
   },
   {
    "duration": 8,
    "start_time": "2021-09-19T18:06:25.875Z"
   },
   {
    "duration": 12,
    "start_time": "2021-09-19T18:06:25.886Z"
   },
   {
    "duration": 12,
    "start_time": "2021-09-19T18:06:25.901Z"
   },
   {
    "duration": 42,
    "start_time": "2021-09-19T18:06:25.915Z"
   },
   {
    "duration": 20,
    "start_time": "2021-09-19T18:06:25.959Z"
   },
   {
    "duration": 30,
    "start_time": "2021-09-19T18:06:25.981Z"
   },
   {
    "duration": 42,
    "start_time": "2021-09-19T18:06:26.013Z"
   },
   {
    "duration": 29,
    "start_time": "2021-09-19T18:06:26.059Z"
   },
   {
    "duration": 16,
    "start_time": "2021-09-19T18:06:26.090Z"
   },
   {
    "duration": 64,
    "start_time": "2021-09-19T18:06:26.109Z"
   },
   {
    "duration": 81,
    "start_time": "2021-09-19T18:06:26.175Z"
   },
   {
    "duration": 15,
    "start_time": "2021-09-19T18:06:26.258Z"
   },
   {
    "duration": 45,
    "start_time": "2021-09-19T18:06:26.275Z"
   },
   {
    "duration": 53,
    "start_time": "2021-09-19T18:06:26.326Z"
   },
   {
    "duration": 13,
    "start_time": "2021-09-19T18:06:26.383Z"
   },
   {
    "duration": 57,
    "start_time": "2021-09-19T18:06:26.399Z"
   },
   {
    "duration": 14,
    "start_time": "2021-09-19T18:06:26.458Z"
   },
   {
    "duration": 43,
    "start_time": "2021-09-19T18:06:26.475Z"
   },
   {
    "duration": 56,
    "start_time": "2021-09-19T18:06:26.521Z"
   },
   {
    "duration": 15,
    "start_time": "2021-09-19T18:06:26.579Z"
   },
   {
    "duration": 26,
    "start_time": "2021-09-19T18:06:26.597Z"
   },
   {
    "duration": 35,
    "start_time": "2021-09-19T18:06:26.625Z"
   },
   {
    "duration": 27,
    "start_time": "2021-09-19T18:06:26.663Z"
   },
   {
    "duration": 12,
    "start_time": "2021-09-19T18:06:26.693Z"
   },
   {
    "duration": 53,
    "start_time": "2021-09-19T18:06:26.708Z"
   },
   {
    "duration": 23,
    "start_time": "2021-09-19T18:06:26.764Z"
   },
   {
    "duration": 18,
    "start_time": "2021-09-19T18:06:26.790Z"
   },
   {
    "duration": 58,
    "start_time": "2021-09-19T18:06:26.811Z"
   },
   {
    "duration": 4,
    "start_time": "2021-09-19T18:06:26.872Z"
   },
   {
    "duration": 23,
    "start_time": "2021-09-19T18:06:26.878Z"
   },
   {
    "duration": 18,
    "start_time": "2021-09-19T18:06:26.903Z"
   },
   {
    "duration": 65,
    "start_time": "2021-09-19T18:06:26.924Z"
   },
   {
    "duration": 20,
    "start_time": "2021-09-19T18:06:26.991Z"
   },
   {
    "duration": 11,
    "start_time": "2021-09-19T18:06:27.013Z"
   },
   {
    "duration": 32,
    "start_time": "2021-09-19T18:06:27.026Z"
   },
   {
    "duration": 6,
    "start_time": "2021-09-19T18:06:27.061Z"
   },
   {
    "duration": 216,
    "start_time": "2021-09-19T18:06:27.069Z"
   },
   {
    "duration": 4,
    "start_time": "2021-09-19T18:06:27.288Z"
   },
   {
    "duration": 23,
    "start_time": "2021-09-19T18:06:27.295Z"
   },
   {
    "duration": 28,
    "start_time": "2021-09-19T18:06:27.321Z"
   },
   {
    "duration": 54,
    "start_time": "2021-09-19T18:06:27.351Z"
   },
   {
    "duration": 23,
    "start_time": "2021-09-19T18:06:27.407Z"
   },
   {
    "duration": 97,
    "start_time": "2021-09-19T18:06:27.433Z"
   },
   {
    "duration": 24,
    "start_time": "2021-09-19T18:06:27.532Z"
   },
   {
    "duration": 75,
    "start_time": "2021-09-19T18:06:27.559Z"
   },
   {
    "duration": 23,
    "start_time": "2021-09-19T18:06:27.636Z"
   },
   {
    "duration": 15,
    "start_time": "2021-09-19T18:06:27.661Z"
   },
   {
    "duration": 13,
    "start_time": "2021-09-19T18:06:27.678Z"
   },
   {
    "duration": 71,
    "start_time": "2021-09-19T18:06:27.693Z"
   },
   {
    "duration": 6,
    "start_time": "2021-09-19T18:06:27.767Z"
   },
   {
    "duration": 6,
    "start_time": "2021-09-19T18:06:27.776Z"
   },
   {
    "duration": 32,
    "start_time": "2021-09-19T18:06:27.784Z"
   },
   {
    "duration": 8,
    "start_time": "2021-09-19T18:06:27.819Z"
   },
   {
    "duration": 10,
    "start_time": "2021-09-19T18:06:27.857Z"
   },
   {
    "duration": 48,
    "start_time": "2021-09-19T18:06:27.869Z"
   },
   {
    "duration": 94,
    "start_time": "2021-09-19T18:06:27.919Z"
   },
   {
    "duration": 6,
    "start_time": "2021-09-19T18:06:28.016Z"
   },
   {
    "duration": 337,
    "start_time": "2021-09-19T18:06:28.025Z"
   },
   {
    "duration": 321,
    "start_time": "2021-09-19T18:06:28.364Z"
   },
   {
    "duration": 332,
    "start_time": "2021-09-19T18:06:28.688Z"
   },
   {
    "duration": 5,
    "start_time": "2021-09-19T18:06:29.022Z"
   },
   {
    "duration": 316,
    "start_time": "2021-09-19T18:06:29.030Z"
   },
   {
    "duration": 345,
    "start_time": "2021-09-19T18:06:29.356Z"
   },
   {
    "duration": 322,
    "start_time": "2021-09-19T18:06:29.704Z"
   },
   {
    "duration": 302,
    "start_time": "2021-09-19T18:06:30.028Z"
   },
   {
    "duration": 340,
    "start_time": "2021-09-19T18:06:30.332Z"
   },
   {
    "duration": 5,
    "start_time": "2021-09-19T18:06:30.675Z"
   },
   {
    "duration": 5,
    "start_time": "2021-09-19T18:06:30.688Z"
   },
   {
    "duration": 25,
    "start_time": "2021-09-19T18:06:30.696Z"
   },
   {
    "duration": 311,
    "start_time": "2021-09-19T18:06:30.724Z"
   },
   {
    "duration": 230,
    "start_time": "2021-09-19T18:06:30.807Z"
   },
   {
    "duration": 230,
    "start_time": "2021-09-19T18:06:30.809Z"
   },
   {
    "duration": 228,
    "start_time": "2021-09-19T18:06:30.812Z"
   },
   {
    "duration": 224,
    "start_time": "2021-09-19T18:06:30.817Z"
   },
   {
    "duration": 7,
    "start_time": "2021-09-19T18:06:49.462Z"
   },
   {
    "duration": 7,
    "start_time": "2021-09-19T18:07:07.048Z"
   },
   {
    "duration": 113,
    "start_time": "2021-09-19T18:07:47.434Z"
   },
   {
    "duration": 5,
    "start_time": "2021-09-19T18:11:09.179Z"
   },
   {
    "duration": 6,
    "start_time": "2021-09-19T18:11:27.514Z"
   },
   {
    "duration": 217,
    "start_time": "2021-09-19T18:12:08.844Z"
   },
   {
    "duration": 12,
    "start_time": "2021-09-19T18:12:09.063Z"
   },
   {
    "duration": 197,
    "start_time": "2021-09-19T18:12:09.078Z"
   },
   {
    "duration": 13,
    "start_time": "2021-09-19T18:12:09.278Z"
   },
   {
    "duration": 149,
    "start_time": "2021-09-19T18:12:09.293Z"
   },
   {
    "duration": 11,
    "start_time": "2021-09-19T18:12:09.444Z"
   },
   {
    "duration": 27,
    "start_time": "2021-09-19T18:12:09.457Z"
   },
   {
    "duration": 12,
    "start_time": "2021-09-19T18:12:09.487Z"
   },
   {
    "duration": 51,
    "start_time": "2021-09-19T18:12:09.502Z"
   },
   {
    "duration": 20,
    "start_time": "2021-09-19T18:12:09.556Z"
   },
   {
    "duration": 9,
    "start_time": "2021-09-19T18:12:09.579Z"
   },
   {
    "duration": 18,
    "start_time": "2021-09-19T18:12:09.590Z"
   },
   {
    "duration": 20,
    "start_time": "2021-09-19T18:12:09.610Z"
   },
   {
    "duration": 13,
    "start_time": "2021-09-19T18:12:09.632Z"
   },
   {
    "duration": 10,
    "start_time": "2021-09-19T18:12:09.648Z"
   },
   {
    "duration": 12,
    "start_time": "2021-09-19T18:12:09.660Z"
   },
   {
    "duration": 29,
    "start_time": "2021-09-19T18:12:09.674Z"
   },
   {
    "duration": 58,
    "start_time": "2021-09-19T18:12:09.706Z"
   },
   {
    "duration": 31,
    "start_time": "2021-09-19T18:12:09.766Z"
   },
   {
    "duration": 13,
    "start_time": "2021-09-19T18:12:09.856Z"
   },
   {
    "duration": 36,
    "start_time": "2021-09-19T18:12:09.871Z"
   },
   {
    "duration": 57,
    "start_time": "2021-09-19T18:12:09.909Z"
   },
   {
    "duration": 29,
    "start_time": "2021-09-19T18:12:09.969Z"
   },
   {
    "duration": 101,
    "start_time": "2021-09-19T18:12:10.001Z"
   },
   {
    "duration": 17,
    "start_time": "2021-09-19T18:12:10.104Z"
   },
   {
    "duration": 61,
    "start_time": "2021-09-19T18:12:10.123Z"
   },
   {
    "duration": 34,
    "start_time": "2021-09-19T18:12:10.191Z"
   },
   {
    "duration": 29,
    "start_time": "2021-09-19T18:12:10.229Z"
   },
   {
    "duration": 46,
    "start_time": "2021-09-19T18:12:10.261Z"
   },
   {
    "duration": 23,
    "start_time": "2021-09-19T18:12:10.309Z"
   },
   {
    "duration": 57,
    "start_time": "2021-09-19T18:12:10.334Z"
   },
   {
    "duration": 32,
    "start_time": "2021-09-19T18:12:10.393Z"
   },
   {
    "duration": 30,
    "start_time": "2021-09-19T18:12:10.427Z"
   },
   {
    "duration": 29,
    "start_time": "2021-09-19T18:12:10.459Z"
   },
   {
    "duration": 11,
    "start_time": "2021-09-19T18:12:10.491Z"
   },
   {
    "duration": 52,
    "start_time": "2021-09-19T18:12:10.504Z"
   },
   {
    "duration": 12,
    "start_time": "2021-09-19T18:12:10.558Z"
   },
   {
    "duration": 36,
    "start_time": "2021-09-19T18:12:10.572Z"
   },
   {
    "duration": 21,
    "start_time": "2021-09-19T18:12:10.611Z"
   },
   {
    "duration": 30,
    "start_time": "2021-09-19T18:12:10.635Z"
   },
   {
    "duration": 30,
    "start_time": "2021-09-19T18:12:10.668Z"
   },
   {
    "duration": 6,
    "start_time": "2021-09-19T18:12:10.702Z"
   },
   {
    "duration": 59,
    "start_time": "2021-09-19T18:12:10.710Z"
   },
   {
    "duration": 24,
    "start_time": "2021-09-19T18:12:10.779Z"
   },
   {
    "duration": 65,
    "start_time": "2021-09-19T18:12:10.806Z"
   },
   {
    "duration": 20,
    "start_time": "2021-09-19T18:12:10.873Z"
   },
   {
    "duration": 15,
    "start_time": "2021-09-19T18:12:10.895Z"
   },
   {
    "duration": 23,
    "start_time": "2021-09-19T18:12:10.912Z"
   },
   {
    "duration": 20,
    "start_time": "2021-09-19T18:12:10.937Z"
   },
   {
    "duration": 23,
    "start_time": "2021-09-19T18:12:10.959Z"
   },
   {
    "duration": 19,
    "start_time": "2021-09-19T18:12:10.984Z"
   },
   {
    "duration": 32,
    "start_time": "2021-09-19T18:12:11.005Z"
   },
   {
    "duration": 55,
    "start_time": "2021-09-19T18:12:11.039Z"
   },
   {
    "duration": 22,
    "start_time": "2021-09-19T18:12:11.097Z"
   },
   {
    "duration": 110,
    "start_time": "2021-09-19T18:12:11.121Z"
   },
   {
    "duration": 24,
    "start_time": "2021-09-19T18:12:11.233Z"
   },
   {
    "duration": 77,
    "start_time": "2021-09-19T18:12:11.260Z"
   },
   {
    "duration": 16,
    "start_time": "2021-09-19T18:12:11.339Z"
   },
   {
    "duration": 23,
    "start_time": "2021-09-19T18:12:11.358Z"
   },
   {
    "duration": 19,
    "start_time": "2021-09-19T18:12:11.383Z"
   },
   {
    "duration": 58,
    "start_time": "2021-09-19T18:12:11.405Z"
   },
   {
    "duration": 7,
    "start_time": "2021-09-19T18:12:11.466Z"
   },
   {
    "duration": 15,
    "start_time": "2021-09-19T18:12:11.476Z"
   },
   {
    "duration": 43,
    "start_time": "2021-09-19T18:12:11.494Z"
   },
   {
    "duration": 18,
    "start_time": "2021-09-19T18:12:11.540Z"
   },
   {
    "duration": 16,
    "start_time": "2021-09-19T18:12:11.561Z"
   },
   {
    "duration": 62,
    "start_time": "2021-09-19T18:12:11.579Z"
   },
   {
    "duration": 78,
    "start_time": "2021-09-19T18:12:11.643Z"
   },
   {
    "duration": 5,
    "start_time": "2021-09-19T18:12:11.724Z"
   },
   {
    "duration": 327,
    "start_time": "2021-09-19T18:12:11.731Z"
   },
   {
    "duration": 322,
    "start_time": "2021-09-19T18:12:12.060Z"
   },
   {
    "duration": 710,
    "start_time": "2021-09-19T18:12:12.385Z"
   },
   {
    "duration": 6,
    "start_time": "2021-09-19T18:12:13.098Z"
   },
   {
    "duration": 308,
    "start_time": "2021-09-19T18:12:13.106Z"
   },
   {
    "duration": 327,
    "start_time": "2021-09-19T18:12:13.417Z"
   },
   {
    "duration": 335,
    "start_time": "2021-09-19T18:12:13.747Z"
   },
   {
    "duration": 296,
    "start_time": "2021-09-19T18:12:14.084Z"
   },
   {
    "duration": 320,
    "start_time": "2021-09-19T18:12:14.383Z"
   },
   {
    "duration": 7,
    "start_time": "2021-09-19T18:12:14.705Z"
   },
   {
    "duration": 8,
    "start_time": "2021-09-19T18:12:14.715Z"
   },
   {
    "duration": 8,
    "start_time": "2021-09-19T18:12:14.761Z"
   },
   {
    "duration": 893,
    "start_time": "2021-09-19T18:12:14.772Z"
   },
   {
    "duration": 257,
    "start_time": "2021-09-19T18:12:15.411Z"
   },
   {
    "duration": 256,
    "start_time": "2021-09-19T18:12:15.414Z"
   },
   {
    "duration": 255,
    "start_time": "2021-09-19T18:12:15.417Z"
   },
   {
    "duration": 254,
    "start_time": "2021-09-19T18:12:15.420Z"
   },
   {
    "duration": 31,
    "start_time": "2021-09-19T18:13:17.288Z"
   },
   {
    "duration": 9,
    "start_time": "2021-09-19T18:13:35.949Z"
   },
   {
    "duration": 5,
    "start_time": "2021-09-19T18:13:36.601Z"
   },
   {
    "duration": 5,
    "start_time": "2021-09-19T18:13:37.133Z"
   },
   {
    "duration": 7,
    "start_time": "2021-09-19T18:13:45.986Z"
   },
   {
    "duration": 7,
    "start_time": "2021-09-19T18:23:40.694Z"
   },
   {
    "duration": 8,
    "start_time": "2021-09-19T18:24:52.603Z"
   },
   {
    "duration": 10,
    "start_time": "2021-09-19T18:25:17.239Z"
   },
   {
    "duration": 51,
    "start_time": "2021-09-19T18:26:25.039Z"
   },
   {
    "duration": 242,
    "start_time": "2021-09-19T18:26:57.979Z"
   },
   {
    "duration": 15,
    "start_time": "2021-09-19T18:26:58.226Z"
   },
   {
    "duration": 212,
    "start_time": "2021-09-19T18:26:58.244Z"
   },
   {
    "duration": 12,
    "start_time": "2021-09-19T18:26:58.459Z"
   },
   {
    "duration": 167,
    "start_time": "2021-09-19T18:26:58.474Z"
   },
   {
    "duration": 14,
    "start_time": "2021-09-19T18:26:58.643Z"
   },
   {
    "duration": 39,
    "start_time": "2021-09-19T18:26:58.659Z"
   },
   {
    "duration": 40,
    "start_time": "2021-09-19T18:26:58.700Z"
   },
   {
    "duration": 81,
    "start_time": "2021-09-19T18:26:58.744Z"
   },
   {
    "duration": 17,
    "start_time": "2021-09-19T18:26:58.828Z"
   },
   {
    "duration": 14,
    "start_time": "2021-09-19T18:26:58.847Z"
   },
   {
    "duration": 24,
    "start_time": "2021-09-19T18:26:58.864Z"
   },
   {
    "duration": 15,
    "start_time": "2021-09-19T18:26:58.891Z"
   },
   {
    "duration": 13,
    "start_time": "2021-09-19T18:26:58.908Z"
   },
   {
    "duration": 12,
    "start_time": "2021-09-19T18:26:58.924Z"
   },
   {
    "duration": 20,
    "start_time": "2021-09-19T18:26:58.939Z"
   },
   {
    "duration": 29,
    "start_time": "2021-09-19T18:26:58.962Z"
   },
   {
    "duration": 24,
    "start_time": "2021-09-19T18:26:58.994Z"
   },
   {
    "duration": 31,
    "start_time": "2021-09-19T18:26:59.021Z"
   },
   {
    "duration": 17,
    "start_time": "2021-09-19T18:26:59.056Z"
   },
   {
    "duration": 41,
    "start_time": "2021-09-19T18:26:59.076Z"
   },
   {
    "duration": 20,
    "start_time": "2021-09-19T18:26:59.119Z"
   },
   {
    "duration": 34,
    "start_time": "2021-09-19T18:26:59.142Z"
   },
   {
    "duration": 85,
    "start_time": "2021-09-19T18:26:59.179Z"
   },
   {
    "duration": 17,
    "start_time": "2021-09-19T18:26:59.267Z"
   },
   {
    "duration": 51,
    "start_time": "2021-09-19T18:26:59.287Z"
   },
   {
    "duration": 98,
    "start_time": "2021-09-19T18:26:59.365Z"
   },
   {
    "duration": 14,
    "start_time": "2021-09-19T18:26:59.467Z"
   },
   {
    "duration": 96,
    "start_time": "2021-09-19T18:26:59.483Z"
   },
   {
    "duration": 14,
    "start_time": "2021-09-19T18:26:59.582Z"
   },
   {
    "duration": 95,
    "start_time": "2021-09-19T18:26:59.599Z"
   },
   {
    "duration": 80,
    "start_time": "2021-09-19T18:26:59.696Z"
   },
   {
    "duration": 15,
    "start_time": "2021-09-19T18:26:59.779Z"
   },
   {
    "duration": 70,
    "start_time": "2021-09-19T18:26:59.796Z"
   },
   {
    "duration": 12,
    "start_time": "2021-09-19T18:26:59.869Z"
   },
   {
    "duration": 37,
    "start_time": "2021-09-19T18:26:59.884Z"
   },
   {
    "duration": 22,
    "start_time": "2021-09-19T18:26:59.924Z"
   },
   {
    "duration": 25,
    "start_time": "2021-09-19T18:26:59.957Z"
   },
   {
    "duration": 22,
    "start_time": "2021-09-19T18:26:59.985Z"
   },
   {
    "duration": 18,
    "start_time": "2021-09-19T18:27:00.010Z"
   },
   {
    "duration": 56,
    "start_time": "2021-09-19T18:27:00.030Z"
   },
   {
    "duration": 5,
    "start_time": "2021-09-19T18:27:00.089Z"
   },
   {
    "duration": 23,
    "start_time": "2021-09-19T18:27:00.097Z"
   },
   {
    "duration": 48,
    "start_time": "2021-09-19T18:27:00.123Z"
   },
   {
    "duration": 41,
    "start_time": "2021-09-19T18:27:00.174Z"
   },
   {
    "duration": 46,
    "start_time": "2021-09-19T18:27:00.217Z"
   },
   {
    "duration": 9,
    "start_time": "2021-09-19T18:27:00.266Z"
   },
   {
    "duration": 18,
    "start_time": "2021-09-19T18:27:00.278Z"
   },
   {
    "duration": 15,
    "start_time": "2021-09-19T18:27:00.299Z"
   },
   {
    "duration": 22,
    "start_time": "2021-09-19T18:27:00.316Z"
   },
   {
    "duration": 23,
    "start_time": "2021-09-19T18:27:00.340Z"
   },
   {
    "duration": 25,
    "start_time": "2021-09-19T18:27:00.365Z"
   },
   {
    "duration": 18,
    "start_time": "2021-09-19T18:27:00.392Z"
   },
   {
    "duration": 42,
    "start_time": "2021-09-19T18:27:00.412Z"
   },
   {
    "duration": 55,
    "start_time": "2021-09-19T18:27:00.456Z"
   },
   {
    "duration": 21,
    "start_time": "2021-09-19T18:27:00.513Z"
   },
   {
    "duration": 107,
    "start_time": "2021-09-19T18:27:00.536Z"
   },
   {
    "duration": 22,
    "start_time": "2021-09-19T18:27:00.645Z"
   },
   {
    "duration": 96,
    "start_time": "2021-09-19T18:27:00.670Z"
   },
   {
    "duration": 14,
    "start_time": "2021-09-19T18:27:00.769Z"
   },
   {
    "duration": 50,
    "start_time": "2021-09-19T18:27:00.786Z"
   },
   {
    "duration": 21,
    "start_time": "2021-09-19T18:27:00.839Z"
   },
   {
    "duration": 68,
    "start_time": "2021-09-19T18:27:00.863Z"
   },
   {
    "duration": 24,
    "start_time": "2021-09-19T18:27:00.934Z"
   },
   {
    "duration": 54,
    "start_time": "2021-09-19T18:27:00.960Z"
   },
   {
    "duration": 58,
    "start_time": "2021-09-19T18:27:01.017Z"
   },
   {
    "duration": 7,
    "start_time": "2021-09-19T18:27:01.078Z"
   },
   {
    "duration": 41,
    "start_time": "2021-09-19T18:27:01.088Z"
   },
   {
    "duration": 100,
    "start_time": "2021-09-19T18:27:01.131Z"
   },
   {
    "duration": 88,
    "start_time": "2021-09-19T18:27:01.234Z"
   },
   {
    "duration": 6,
    "start_time": "2021-09-19T18:27:01.324Z"
   },
   {
    "duration": 347,
    "start_time": "2021-09-19T18:27:01.332Z"
   },
   {
    "duration": 351,
    "start_time": "2021-09-19T18:27:01.681Z"
   },
   {
    "duration": 338,
    "start_time": "2021-09-19T18:27:02.035Z"
   },
   {
    "duration": 5,
    "start_time": "2021-09-19T18:27:02.375Z"
   },
   {
    "duration": 322,
    "start_time": "2021-09-19T18:27:02.383Z"
   },
   {
    "duration": 325,
    "start_time": "2021-09-19T18:27:02.707Z"
   },
   {
    "duration": 316,
    "start_time": "2021-09-19T18:27:03.035Z"
   },
   {
    "duration": 409,
    "start_time": "2021-09-19T18:27:03.356Z"
   },
   {
    "duration": 425,
    "start_time": "2021-09-19T18:27:03.768Z"
   },
   {
    "duration": 6,
    "start_time": "2021-09-19T18:27:04.205Z"
   },
   {
    "duration": 19,
    "start_time": "2021-09-19T18:27:04.213Z"
   },
   {
    "duration": 28,
    "start_time": "2021-09-19T18:27:04.235Z"
   },
   {
    "duration": 55,
    "start_time": "2021-09-19T18:27:04.265Z"
   },
   {
    "duration": 7,
    "start_time": "2021-09-19T18:27:04.322Z"
   },
   {
    "duration": 19,
    "start_time": "2021-09-19T18:27:04.331Z"
   },
   {
    "duration": 25,
    "start_time": "2021-09-19T18:27:04.352Z"
   },
   {
    "duration": 29,
    "start_time": "2021-09-19T18:27:04.380Z"
   },
   {
    "duration": 249,
    "start_time": "2021-09-19T18:28:23.785Z"
   },
   {
    "duration": 291,
    "start_time": "2021-09-19T18:29:15.973Z"
   },
   {
    "duration": 290,
    "start_time": "2021-09-19T18:29:22.453Z"
   },
   {
    "duration": 297,
    "start_time": "2021-09-19T18:29:24.203Z"
   },
   {
    "duration": 11,
    "start_time": "2021-09-19T18:29:53.572Z"
   },
   {
    "duration": 335,
    "start_time": "2021-09-19T18:31:10.453Z"
   },
   {
    "duration": 17,
    "start_time": "2021-09-19T18:31:10.791Z"
   },
   {
    "duration": 202,
    "start_time": "2021-09-19T18:31:10.812Z"
   },
   {
    "duration": 13,
    "start_time": "2021-09-19T18:31:11.018Z"
   },
   {
    "duration": 139,
    "start_time": "2021-09-19T18:31:11.034Z"
   },
   {
    "duration": 10,
    "start_time": "2021-09-19T18:31:11.176Z"
   },
   {
    "duration": 31,
    "start_time": "2021-09-19T18:31:11.189Z"
   },
   {
    "duration": 15,
    "start_time": "2021-09-19T18:31:11.224Z"
   },
   {
    "duration": 48,
    "start_time": "2021-09-19T18:31:11.255Z"
   },
   {
    "duration": 16,
    "start_time": "2021-09-19T18:31:11.306Z"
   },
   {
    "duration": 8,
    "start_time": "2021-09-19T18:31:11.325Z"
   },
   {
    "duration": 21,
    "start_time": "2021-09-19T18:31:11.336Z"
   },
   {
    "duration": 6,
    "start_time": "2021-09-19T18:31:11.359Z"
   },
   {
    "duration": 9,
    "start_time": "2021-09-19T18:31:11.368Z"
   },
   {
    "duration": 19,
    "start_time": "2021-09-19T18:31:11.380Z"
   },
   {
    "duration": 15,
    "start_time": "2021-09-19T18:31:11.402Z"
   },
   {
    "duration": 23,
    "start_time": "2021-09-19T18:31:11.419Z"
   },
   {
    "duration": 19,
    "start_time": "2021-09-19T18:31:11.456Z"
   },
   {
    "duration": 32,
    "start_time": "2021-09-19T18:31:11.477Z"
   },
   {
    "duration": 14,
    "start_time": "2021-09-19T18:31:11.512Z"
   },
   {
    "duration": 28,
    "start_time": "2021-09-19T18:31:11.556Z"
   },
   {
    "duration": 15,
    "start_time": "2021-09-19T18:31:11.587Z"
   },
   {
    "duration": 59,
    "start_time": "2021-09-19T18:31:11.609Z"
   },
   {
    "duration": 72,
    "start_time": "2021-09-19T18:31:11.672Z"
   },
   {
    "duration": 17,
    "start_time": "2021-09-19T18:31:11.756Z"
   },
   {
    "duration": 61,
    "start_time": "2021-09-19T18:31:11.775Z"
   },
   {
    "duration": 45,
    "start_time": "2021-09-19T18:31:11.838Z"
   },
   {
    "duration": 13,
    "start_time": "2021-09-19T18:31:11.885Z"
   },
   {
    "duration": 57,
    "start_time": "2021-09-19T18:31:11.900Z"
   },
   {
    "duration": 14,
    "start_time": "2021-09-19T18:31:11.959Z"
   },
   {
    "duration": 49,
    "start_time": "2021-09-19T18:31:11.976Z"
   },
   {
    "duration": 47,
    "start_time": "2021-09-19T18:31:12.028Z"
   },
   {
    "duration": 15,
    "start_time": "2021-09-19T18:31:12.077Z"
   },
   {
    "duration": 25,
    "start_time": "2021-09-19T18:31:12.095Z"
   },
   {
    "duration": 39,
    "start_time": "2021-09-19T18:31:12.123Z"
   },
   {
    "duration": 25,
    "start_time": "2021-09-19T18:31:12.165Z"
   },
   {
    "duration": 13,
    "start_time": "2021-09-19T18:31:12.193Z"
   },
   {
    "duration": 55,
    "start_time": "2021-09-19T18:31:12.209Z"
   },
   {
    "duration": 22,
    "start_time": "2021-09-19T18:31:12.266Z"
   },
   {
    "duration": 15,
    "start_time": "2021-09-19T18:31:12.290Z"
   },
   {
    "duration": 58,
    "start_time": "2021-09-19T18:31:12.308Z"
   },
   {
    "duration": 4,
    "start_time": "2021-09-19T18:31:12.369Z"
   },
   {
    "duration": 20,
    "start_time": "2021-09-19T18:31:12.376Z"
   },
   {
    "duration": 18,
    "start_time": "2021-09-19T18:31:12.398Z"
   },
   {
    "duration": 70,
    "start_time": "2021-09-19T18:31:12.418Z"
   },
   {
    "duration": 21,
    "start_time": "2021-09-19T18:31:12.491Z"
   },
   {
    "duration": 10,
    "start_time": "2021-09-19T18:31:12.514Z"
   },
   {
    "duration": 30,
    "start_time": "2021-09-19T18:31:12.527Z"
   },
   {
    "duration": 7,
    "start_time": "2021-09-19T18:31:12.560Z"
   },
   {
    "duration": 9,
    "start_time": "2021-09-19T18:31:12.570Z"
   },
   {
    "duration": 8,
    "start_time": "2021-09-19T18:31:12.582Z"
   },
   {
    "duration": 5,
    "start_time": "2021-09-19T18:31:12.593Z"
   },
   {
    "duration": 35,
    "start_time": "2021-09-19T18:31:12.601Z"
   },
   {
    "duration": 20,
    "start_time": "2021-09-19T18:31:12.639Z"
   },
   {
    "duration": 35,
    "start_time": "2021-09-19T18:31:12.662Z"
   },
   {
    "duration": 23,
    "start_time": "2021-09-19T18:31:12.699Z"
   },
   {
    "duration": 101,
    "start_time": "2021-09-19T18:31:12.756Z"
   },
   {
    "duration": 21,
    "start_time": "2021-09-19T18:31:12.860Z"
   },
   {
    "duration": 91,
    "start_time": "2021-09-19T18:31:12.884Z"
   },
   {
    "duration": 13,
    "start_time": "2021-09-19T18:31:12.979Z"
   },
   {
    "duration": 21,
    "start_time": "2021-09-19T18:31:12.994Z"
   },
   {
    "duration": 40,
    "start_time": "2021-09-19T18:31:13.017Z"
   },
   {
    "duration": 41,
    "start_time": "2021-09-19T18:31:13.059Z"
   },
   {
    "duration": 7,
    "start_time": "2021-09-19T18:31:13.103Z"
   },
   {
    "duration": 17,
    "start_time": "2021-09-19T18:31:13.112Z"
   },
   {
    "duration": 65,
    "start_time": "2021-09-19T18:31:13.131Z"
   },
   {
    "duration": 8,
    "start_time": "2021-09-19T18:31:13.198Z"
   },
   {
    "duration": 11,
    "start_time": "2021-09-19T18:31:13.215Z"
   },
   {
    "duration": 56,
    "start_time": "2021-09-19T18:31:13.229Z"
   },
   {
    "duration": 90,
    "start_time": "2021-09-19T18:31:13.288Z"
   },
   {
    "duration": 6,
    "start_time": "2021-09-19T18:31:13.381Z"
   },
   {
    "duration": 333,
    "start_time": "2021-09-19T18:31:13.390Z"
   },
   {
    "duration": 316,
    "start_time": "2021-09-19T18:31:13.725Z"
   },
   {
    "duration": 432,
    "start_time": "2021-09-19T18:31:14.044Z"
   },
   {
    "duration": 8,
    "start_time": "2021-09-19T18:31:14.479Z"
   },
   {
    "duration": 320,
    "start_time": "2021-09-19T18:31:14.489Z"
   },
   {
    "duration": 331,
    "start_time": "2021-09-19T18:31:14.812Z"
   },
   {
    "duration": 312,
    "start_time": "2021-09-19T18:31:15.146Z"
   },
   {
    "duration": 306,
    "start_time": "2021-09-19T18:31:15.460Z"
   },
   {
    "duration": 295,
    "start_time": "2021-09-19T18:31:15.769Z"
   },
   {
    "duration": 11,
    "start_time": "2021-09-19T18:31:16.067Z"
   },
   {
    "duration": 19,
    "start_time": "2021-09-19T18:31:16.080Z"
   },
   {
    "duration": 19,
    "start_time": "2021-09-19T18:31:16.102Z"
   },
   {
    "duration": 28,
    "start_time": "2021-09-19T18:31:16.123Z"
   },
   {
    "duration": 57,
    "start_time": "2021-09-19T18:31:16.153Z"
   },
   {
    "duration": 9,
    "start_time": "2021-09-19T18:31:16.212Z"
   },
   {
    "duration": 20,
    "start_time": "2021-09-19T18:31:16.223Z"
   },
   {
    "duration": 24,
    "start_time": "2021-09-19T18:31:16.245Z"
   },
   {
    "duration": 20,
    "start_time": "2021-09-19T18:31:16.272Z"
   },
   {
    "duration": 7,
    "start_time": "2021-09-19T18:32:59.421Z"
   },
   {
    "duration": 286,
    "start_time": "2021-09-19T18:33:21.974Z"
   },
   {
    "duration": 7649,
    "start_time": "2021-09-19T18:33:51.912Z"
   },
   {
    "duration": 286,
    "start_time": "2021-09-19T18:34:00.970Z"
   },
   {
    "duration": 292,
    "start_time": "2021-09-19T18:34:40.068Z"
   },
   {
    "duration": 350,
    "start_time": "2021-09-19T18:35:02.109Z"
   },
   {
    "duration": 217,
    "start_time": "2021-09-19T18:35:14.264Z"
   },
   {
    "duration": 225,
    "start_time": "2021-09-19T18:35:25.426Z"
   },
   {
    "duration": 26,
    "start_time": "2021-09-19T18:36:54.240Z"
   },
   {
    "duration": 286,
    "start_time": "2021-09-19T18:41:08.845Z"
   },
   {
    "duration": 7177,
    "start_time": "2021-09-19T18:43:07.971Z"
   },
   {
    "duration": 7600,
    "start_time": "2021-09-19T18:43:15.604Z"
   },
   {
    "duration": 285,
    "start_time": "2021-09-19T18:43:26.940Z"
   },
   {
    "duration": 826,
    "start_time": "2021-09-19T18:43:35.102Z"
   },
   {
    "duration": 863,
    "start_time": "2021-09-19T18:43:48.571Z"
   },
   {
    "duration": 764,
    "start_time": "2021-09-19T18:44:27.619Z"
   },
   {
    "duration": 780,
    "start_time": "2021-09-19T18:44:35.860Z"
   },
   {
    "duration": 769,
    "start_time": "2021-09-19T18:44:48.759Z"
   },
   {
    "duration": 766,
    "start_time": "2021-09-19T18:45:18.397Z"
   },
   {
    "duration": 782,
    "start_time": "2021-09-19T18:45:41.804Z"
   },
   {
    "duration": 1051,
    "start_time": "2021-09-19T18:46:16.025Z"
   },
   {
    "duration": 1030,
    "start_time": "2021-09-19T18:46:21.526Z"
   },
   {
    "duration": 759,
    "start_time": "2021-09-19T18:46:53.300Z"
   },
   {
    "duration": 761,
    "start_time": "2021-09-19T18:46:59.618Z"
   },
   {
    "duration": 483,
    "start_time": "2021-09-19T18:47:01.872Z"
   },
   {
    "duration": 760,
    "start_time": "2021-09-19T18:47:13.128Z"
   },
   {
    "duration": 764,
    "start_time": "2021-09-19T18:48:24.125Z"
   },
   {
    "duration": 760,
    "start_time": "2021-09-19T18:48:35.596Z"
   },
   {
    "duration": 770,
    "start_time": "2021-09-19T18:49:02.492Z"
   },
   {
    "duration": 116,
    "start_time": "2021-09-19T18:50:20.053Z"
   },
   {
    "duration": 786,
    "start_time": "2021-09-19T18:51:10.317Z"
   },
   {
    "duration": 746,
    "start_time": "2021-09-19T18:51:16.183Z"
   },
   {
    "duration": 746,
    "start_time": "2021-09-19T18:51:36.554Z"
   },
   {
    "duration": 759,
    "start_time": "2021-09-19T18:51:44.874Z"
   },
   {
    "duration": 1608,
    "start_time": "2021-09-19T18:53:17.752Z"
   },
   {
    "duration": 15,
    "start_time": "2021-09-19T18:53:19.362Z"
   },
   {
    "duration": 206,
    "start_time": "2021-09-19T18:53:19.384Z"
   },
   {
    "duration": 11,
    "start_time": "2021-09-19T18:53:19.593Z"
   },
   {
    "duration": 149,
    "start_time": "2021-09-19T18:53:19.607Z"
   },
   {
    "duration": 11,
    "start_time": "2021-09-19T18:53:19.759Z"
   },
   {
    "duration": 23,
    "start_time": "2021-09-19T18:53:19.777Z"
   },
   {
    "duration": 13,
    "start_time": "2021-09-19T18:53:19.804Z"
   },
   {
    "duration": 96,
    "start_time": "2021-09-19T18:53:19.821Z"
   },
   {
    "duration": 17,
    "start_time": "2021-09-19T18:53:19.920Z"
   },
   {
    "duration": 10,
    "start_time": "2021-09-19T18:53:19.940Z"
   },
   {
    "duration": 9,
    "start_time": "2021-09-19T18:53:19.953Z"
   },
   {
    "duration": 13,
    "start_time": "2021-09-19T18:53:19.965Z"
   },
   {
    "duration": 11,
    "start_time": "2021-09-19T18:53:19.980Z"
   },
   {
    "duration": 7,
    "start_time": "2021-09-19T18:53:19.994Z"
   },
   {
    "duration": 8,
    "start_time": "2021-09-19T18:53:20.004Z"
   },
   {
    "duration": 59,
    "start_time": "2021-09-19T18:53:20.015Z"
   },
   {
    "duration": 20,
    "start_time": "2021-09-19T18:53:20.077Z"
   },
   {
    "duration": 68,
    "start_time": "2021-09-19T18:53:20.100Z"
   },
   {
    "duration": 14,
    "start_time": "2021-09-19T18:53:20.171Z"
   },
   {
    "duration": 40,
    "start_time": "2021-09-19T18:53:20.187Z"
   },
   {
    "duration": 33,
    "start_time": "2021-09-19T18:53:20.233Z"
   },
   {
    "duration": 30,
    "start_time": "2021-09-19T18:53:20.270Z"
   },
   {
    "duration": 97,
    "start_time": "2021-09-19T18:53:20.303Z"
   },
   {
    "duration": 17,
    "start_time": "2021-09-19T18:53:20.402Z"
   },
   {
    "duration": 66,
    "start_time": "2021-09-19T18:53:20.421Z"
   },
   {
    "duration": 45,
    "start_time": "2021-09-19T18:53:20.489Z"
   },
   {
    "duration": 26,
    "start_time": "2021-09-19T18:53:20.536Z"
   },
   {
    "duration": 44,
    "start_time": "2021-09-19T18:53:20.564Z"
   },
   {
    "duration": 14,
    "start_time": "2021-09-19T18:53:20.611Z"
   },
   {
    "duration": 66,
    "start_time": "2021-09-19T18:53:20.628Z"
   },
   {
    "duration": 32,
    "start_time": "2021-09-19T18:53:20.697Z"
   },
   {
    "duration": 28,
    "start_time": "2021-09-19T18:53:20.732Z"
   },
   {
    "duration": 31,
    "start_time": "2021-09-19T18:53:20.763Z"
   },
   {
    "duration": 12,
    "start_time": "2021-09-19T18:53:20.796Z"
   },
   {
    "duration": 57,
    "start_time": "2021-09-19T18:53:20.810Z"
   },
   {
    "duration": 14,
    "start_time": "2021-09-19T18:53:20.870Z"
   },
   {
    "duration": 37,
    "start_time": "2021-09-19T18:53:20.886Z"
   },
   {
    "duration": 37,
    "start_time": "2021-09-19T18:53:20.925Z"
   },
   {
    "duration": 15,
    "start_time": "2021-09-19T18:53:20.964Z"
   },
   {
    "duration": 40,
    "start_time": "2021-09-19T18:53:20.982Z"
   },
   {
    "duration": 4,
    "start_time": "2021-09-19T18:53:21.025Z"
   },
   {
    "duration": 42,
    "start_time": "2021-09-19T18:53:21.031Z"
   },
   {
    "duration": 18,
    "start_time": "2021-09-19T18:53:21.075Z"
   },
   {
    "duration": 70,
    "start_time": "2021-09-19T18:53:21.095Z"
   },
   {
    "duration": 22,
    "start_time": "2021-09-19T18:53:21.167Z"
   },
   {
    "duration": 19,
    "start_time": "2021-09-19T18:53:21.191Z"
   },
   {
    "duration": 4,
    "start_time": "2021-09-19T18:53:21.213Z"
   },
   {
    "duration": 11,
    "start_time": "2021-09-19T18:53:21.220Z"
   },
   {
    "duration": 29,
    "start_time": "2021-09-19T18:53:21.233Z"
   },
   {
    "duration": 9,
    "start_time": "2021-09-19T18:53:21.264Z"
   },
   {
    "duration": 12,
    "start_time": "2021-09-19T18:53:21.276Z"
   },
   {
    "duration": 14,
    "start_time": "2021-09-19T18:53:21.290Z"
   },
   {
    "duration": 24,
    "start_time": "2021-09-19T18:53:21.307Z"
   },
   {
    "duration": 55,
    "start_time": "2021-09-19T18:53:21.334Z"
   },
   {
    "duration": 22,
    "start_time": "2021-09-19T18:53:21.392Z"
   },
   {
    "duration": 116,
    "start_time": "2021-09-19T18:53:21.416Z"
   },
   {
    "duration": 22,
    "start_time": "2021-09-19T18:53:21.535Z"
   },
   {
    "duration": 72,
    "start_time": "2021-09-19T18:53:21.560Z"
   },
   {
    "duration": 32,
    "start_time": "2021-09-19T18:53:21.635Z"
   },
   {
    "duration": 26,
    "start_time": "2021-09-19T18:53:21.670Z"
   },
   {
    "duration": 17,
    "start_time": "2021-09-19T18:53:21.699Z"
   },
   {
    "duration": 74,
    "start_time": "2021-09-19T18:53:21.719Z"
   },
   {
    "duration": 8,
    "start_time": "2021-09-19T18:53:21.796Z"
   },
   {
    "duration": 12,
    "start_time": "2021-09-19T18:53:21.807Z"
   },
   {
    "duration": 57,
    "start_time": "2021-09-19T18:53:21.821Z"
   },
   {
    "duration": 8,
    "start_time": "2021-09-19T18:53:21.887Z"
   },
   {
    "duration": 13,
    "start_time": "2021-09-19T18:53:21.899Z"
   },
   {
    "duration": 71,
    "start_time": "2021-09-19T18:53:21.914Z"
   },
   {
    "duration": 93,
    "start_time": "2021-09-19T18:53:21.988Z"
   },
   {
    "duration": 6,
    "start_time": "2021-09-19T18:53:22.083Z"
   },
   {
    "duration": 332,
    "start_time": "2021-09-19T18:53:22.091Z"
   },
   {
    "duration": 312,
    "start_time": "2021-09-19T18:53:22.426Z"
   },
   {
    "duration": 322,
    "start_time": "2021-09-19T18:53:22.740Z"
   },
   {
    "duration": 6,
    "start_time": "2021-09-19T18:53:23.064Z"
   },
   {
    "duration": 313,
    "start_time": "2021-09-19T18:53:23.073Z"
   },
   {
    "duration": 324,
    "start_time": "2021-09-19T18:53:23.389Z"
   },
   {
    "duration": 304,
    "start_time": "2021-09-19T18:53:23.716Z"
   },
   {
    "duration": 916,
    "start_time": "2021-09-19T18:53:24.023Z"
   },
   {
    "duration": 895,
    "start_time": "2021-09-19T18:53:24.942Z"
   },
   {
    "duration": 17,
    "start_time": "2021-09-19T18:53:25.839Z"
   },
   {
    "duration": 6,
    "start_time": "2021-09-19T18:53:25.859Z"
   },
   {
    "duration": 24,
    "start_time": "2021-09-19T18:53:25.867Z"
   },
   {
    "duration": 36,
    "start_time": "2021-09-19T18:53:25.893Z"
   },
   {
    "duration": 25,
    "start_time": "2021-09-19T18:53:25.932Z"
   },
   {
    "duration": 6,
    "start_time": "2021-09-19T18:53:25.959Z"
   },
   {
    "duration": 26,
    "start_time": "2021-09-19T18:53:25.967Z"
   },
   {
    "duration": 14,
    "start_time": "2021-09-19T18:53:25.995Z"
   }
  ],
  "kernelspec": {
   "display_name": "Python 3",
   "language": "python",
   "name": "python3"
  },
  "language_info": {
   "codemirror_mode": {
    "name": "ipython",
    "version": 3
   },
   "file_extension": ".py",
   "mimetype": "text/x-python",
   "name": "python",
   "nbconvert_exporter": "python",
   "pygments_lexer": "ipython3",
   "version": "3.10.0 (tags/v3.10.0:b494f59, Oct  4 2021, 19:00:18) [MSC v.1929 64 bit (AMD64)]"
  },
  "toc": {
   "base_numbering": 1,
   "nav_menu": {
    "height": "81px",
    "width": "169px"
   },
   "number_sections": true,
   "sideBar": true,
   "skip_h1_title": true,
   "title_cell": "Table of Contents",
   "title_sidebar": "Contents",
   "toc_cell": false,
   "toc_position": {
    "height": "calc(100% - 180px)",
    "left": "10px",
    "top": "150px",
    "width": "388.633px"
   },
   "toc_section_display": true,
   "toc_window_display": true
  },
  "vscode": {
   "interpreter": {
    "hash": "d488093d919f573c925b0a84f2a24fea75905f9dd1b6664dfb65159487c96672"
   }
  }
 },
 "nbformat": 4,
 "nbformat_minor": 2
}

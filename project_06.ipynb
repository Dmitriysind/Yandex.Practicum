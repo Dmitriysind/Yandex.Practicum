{
 "cells": [
  {
   "attachments": {},
   "cell_type": "markdown",
   "metadata": {},
   "source": [
    "<h1><center>Построение модели для оператора мобильной связи</center></h1>"
   ]
  },
  {
   "attachments": {},
   "cell_type": "markdown",
   "metadata": {
    "pycharm": {
     "name": "#%% md\n"
    }
   },
   "source": [
    "## Введение "
   ]
  },
  {
   "cell_type": "markdown",
   "metadata": {
    "pycharm": {
     "name": "#%% md\n"
    }
   },
   "source": [
    "Описание проекта:\n",
    "Оператор мобильной связи «Мегалайн» выяснил: многие клиенты пользуются архивными тарифами. Они хотят построить систему, способную проанализироватьповедение клиентов и предложить пользователям новый тариф: «Смарт» или «Ультра».В нашем распоряжении данные о поведении клиентов которые уже перешли на эти тарифы. Нужно построить модель для задачи классификации, которая выберет подходящий тариф.\n",
    "Построим модель с максимально большим значением accuracy.\n"
   ]
  },
  {
   "cell_type": "markdown",
   "metadata": {
    "pycharm": {
     "name": "#%% md\n"
    }
   },
   "source": [
    "Алгоритм работы:\n",
    "   1. Введение\n",
    "   2. Обзор данных\n",
    "   3. Разделим данные на обучающую, валидационную и тестовую выборки\n",
    "   4. Исследуем качество разных моделей, меняя гиперпараметры. Проверим качество моделей на тестовой выборке.\n",
    "   5. Проверим модели на вменяемость\n",
    "   6. Общий вывод\n",
    "\n",
    "Описание данных\n",
    "Каждый объект в наборе данных — это информация о поведении одного пользователя за месяц.\n",
    "Известно:\n",
    "\n",
    "- сalls — количество звонков,\n",
    "- minutes — суммарная длительность звонков в минутах,\n",
    "- messages — количество sms-сообщений,\n",
    "- mb_used — израсходованный интернет-трафик в Мб,\n",
    "- is_ultra — каким тарифом пользовался в течение месяца («Ультра» — 1, «Смарт» — 0)."
   ]
  },
  {
   "cell_type": "markdown",
   "metadata": {
    "pycharm": {
     "name": "#%% md\n"
    }
   },
   "source": [
    "## Обзор данных"
   ]
  },
  {
   "cell_type": "markdown",
   "metadata": {},
   "source": [
    "Импортируем библиотеки"
   ]
  },
  {
   "cell_type": "code",
   "execution_count": 57,
   "metadata": {
    "pycharm": {
     "name": "#%%\n"
    }
   },
   "outputs": [],
   "source": [
    "import urllib.request\n",
    "import pandas as pd\n",
    "from sklearn.dummy import DummyClassifier\n",
    "from sklearn import tree\n",
    "from enum import Enum\n",
    "from sklearn.model_selection import GridSearchCV\n",
    "from sklearn.pipeline import Pipeline\n",
    "from sklearn.linear_model import LogisticRegression\n",
    "from sklearn.tree import DecisionTreeClassifier\n",
    "from sklearn.ensemble import RandomForestClassifier\n",
    "from sklearn.model_selection import train_test_split\n",
    "from os import path\n",
    "from pathlib import Path"
   ]
  },
  {
   "cell_type": "markdown",
   "metadata": {
    "pycharm": {
     "name": "#%% md\n"
    }
   },
   "source": [
    "Сделаем Enumeration для названия классификаций"
   ]
  },
  {
   "cell_type": "code",
   "execution_count": 58,
   "metadata": {
    "pycharm": {
     "name": "#%%\n"
    }
   },
   "outputs": [],
   "source": [
    "class Classifier(Enum):\n",
    "    DECISION_TREE = 'Decision Tree',\n",
    "    RANDOM_FOREST = 'Random Forest',\n",
    "    LOGISTIC_REGRESSION = 'Logistic Regression'\n"
   ]
  },
  {
   "cell_type": "markdown",
   "metadata": {
    "pycharm": {
     "name": "#%% md\n"
    }
   },
   "source": [
    "Загрузим и посмотрим датасет"
   ]
  },
  {
   "cell_type": "code",
   "execution_count": 59,
   "metadata": {
    "pycharm": {
     "name": "#%%\n"
    },
    "scrolled": true
   },
   "outputs": [
    {
     "name": "stdout",
     "output_type": "stream",
     "text": [
      "<class 'pandas.core.frame.DataFrame'>\n",
      "RangeIndex: 3214 entries, 0 to 3213\n",
      "Data columns (total 5 columns):\n",
      " #   Column    Non-Null Count  Dtype  \n",
      "---  ------    --------------  -----  \n",
      " 0   calls     3214 non-null   float64\n",
      " 1   minutes   3214 non-null   float64\n",
      " 2   messages  3214 non-null   float64\n",
      " 3   mb_used   3214 non-null   float64\n",
      " 4   is_ultra  3214 non-null   int64  \n",
      "dtypes: float64(4), int64(1)\n",
      "memory usage: 125.7 KB\n"
     ]
    }
   ],
   "source": [
    "YANDEX_DATASETS_PATH = 'https://code.s3.yandex.net/datasets/'\n",
    "dataset_folder = 'datasets'\n",
    "dataset_name = 'users_behavior.csv'\n",
    "\n",
    "#download dataset if not existed\n",
    "if not path.exists(dataset_folder + '/' + dataset_name):\n",
    "    #create dir if not existed\n",
    "    Path(dataset_folder).mkdir(parents=True, exist_ok=True)\n",
    "\n",
    "    #download dataset\n",
    "    urllib.request.urlretrieve(YANDEX_DATASETS_PATH + dataset_name,\n",
    "                               dataset_folder + '/' + dataset_name)\n",
    "\n",
    "df = pd.read_csv(dataset_folder + '/' + dataset_name)\n",
    "df.info()"
   ]
  },
  {
   "cell_type": "markdown",
   "metadata": {
    "pycharm": {
     "name": "#%% md\n"
    }
   },
   "source": [
    "## Подготовка данных"
   ]
  },
  {
   "cell_type": "markdown",
   "metadata": {
    "pycharm": {
     "name": "#%% md\n"
    }
   },
   "source": [
    "Разделим данные на обучающую, валидационную и тестовую выборки. Для этого напишем функцию разделения выборки на обучающую и остальную. А остальную разделим на валидационную и тестовую. Функция возвращает словарь по каждой из выборок.\n",
    "Например:\n",
    "\n",
    "\n",
    " df_data['train']['X'] - это features обучающей выборки\n",
    "\n",
    "\n",
    " df_data['test']['y'] - это targets тестовой выборки"
   ]
  },
  {
   "cell_type": "code",
   "execution_count": 60,
   "metadata": {
    "pycharm": {
     "name": "#%%\n"
    }
   },
   "outputs": [],
   "source": [
    "X = df[['calls', 'minutes', 'messages', 'mb_used']]\n",
    "y = df['is_ultra']\n",
    "\n",
    "# split data to train, validation and test samples\n",
    "# train_rem_size is proportion between train and remain samples\n",
    "# valid_test_size is proportion between valid and test samples in remain part\n",
    "def split_train_valid_test(X, y, train_rem_size, valid_test_size):\n",
    "\n",
    "    #split to train and remain\n",
    "    X_train, X_rem, y_train, y_rem = train_test_split(X, y, train_size=train_rem_size, random_state=123)\n",
    "\n",
    "    #split to valid and test\n",
    "    X_valid, X_test, y_valid, y_test = train_test_split(X_rem, y_rem, train_size=valid_test_size, random_state=123)\n",
    "\n",
    "    df_data = {'train': {'X': X_train, 'y': y_train},\n",
    "               'valid': {'X': X_valid, 'y': y_valid},\n",
    "               'test': {'X': X_test, 'y': y_test}}\n",
    "\n",
    "    return df_data\n"
   ]
  },
  {
   "cell_type": "markdown",
   "metadata": {
    "pycharm": {
     "name": "#%% md\n"
    }
   },
   "source": [
    "## Исследование моделей"
   ]
  },
  {
   "cell_type": "markdown",
   "metadata": {
    "pycharm": {
     "name": "#%% md\n"
    }
   },
   "source": [
    "Сделаем класс для сравнения моделей и нахождения наилучшей для валидационной выборки\n",
    "\n",
    "\n",
    "Метод fit_and_compare фитит модель и сравнивает ее с наилучшей по accuracy\n",
    "\n",
    "\n",
    "Метод get_test_score проверяет лучшую модель на тестовой выборке"
   ]
  },
  {
   "cell_type": "code",
   "execution_count": 61,
   "metadata": {
    "pycharm": {
     "name": "#%%\n"
    }
   },
   "outputs": [],
   "source": [
    "#class using for compare models and save best of them.\n",
    "#model could be tested on test sample by get_test_score method\n",
    "class ModelComparator:\n",
    "\n",
    "    def __init__(self, data):\n",
    "        self.data = data\n",
    "        self.best_model = None\n",
    "        self.best_score = 0\n",
    "        self.test_score = 0\n",
    "        self.sanity = 0\n",
    "        self.result = {}\n",
    "\n",
    "    #fit and score model. If model shows best result save it\n",
    "    def fit_and_compare(self, model):\n",
    "        model.fit(self.data['train']['X'], self.data['train']['y'])\n",
    "        score = model.score(self.data['valid']['X'], self.data['valid']['y'])\n",
    "        if score > self.best_score:\n",
    "            self.best_score = score\n",
    "            self.best_model = model\n",
    "\n",
    "    #show results\n",
    "    def get_result(self):\n",
    "        self.result['valid_score'] = round(self.best_score, 3)\n",
    "        self.result['test_score'] = round(self.test_score, 3)\n",
    "        self.result['model'] = self.best_model\n",
    "        self.result['sanity'] = self.sanity\n",
    "        return self.result\n",
    "\n",
    "    #get test sample score\n",
    "    def get_test_score(self, ):\n",
    "        self.test_score = self.best_model.score(self.data['test']['X'], self.data['test']['y'])\n",
    "        return self.test_score"
   ]
  },
  {
   "cell_type": "markdown",
   "metadata": {
    "pycharm": {
     "name": "#%% md\n"
    }
   },
   "source": [
    "Сделаем функцию для последовательного перебора моделей различных методов классификаций и сохранения лучшей для каждого из них в словарь results"
   ]
  },
  {
   "cell_type": "code",
   "execution_count": 62,
   "metadata": {
    "pycharm": {
     "name": "#%%\n"
    }
   },
   "outputs": [],
   "source": [
    "#go through each classifier and save its result\n",
    "def classifiers_result(data={}, clf={}):\n",
    "    results = {}\n",
    "    if Classifier.DECISION_TREE in clf:\n",
    "        results[Classifier.DECISION_TREE] = decision_tree_score(data, clf.get(Classifier.DECISION_TREE))\n",
    "    if Classifier.RANDOM_FOREST in clf:\n",
    "        results[Classifier.RANDOM_FOREST] = random_forest_score(data, clf.get(Classifier.RANDOM_FOREST))\n",
    "    if Classifier.LOGISTIC_REGRESSION in clf:\n",
    "        results[Classifier.LOGISTIC_REGRESSION] = logistic_regression_score(data, clf.get(Classifier.RANDOM_FOREST))\n",
    "\n",
    "    return results\n"
   ]
  },
  {
   "cell_type": "markdown",
   "metadata": {
    "pycharm": {
     "name": "#%% md\n"
    }
   },
   "source": [
    "Сделаем функцию для построения и определения лучшей модели \"Дерево Решений\" в зависимости от параметра max_depth"
   ]
  },
  {
   "cell_type": "code",
   "execution_count": 63,
   "metadata": {
    "pycharm": {
     "name": "#%%\n"
    }
   },
   "outputs": [],
   "source": [
    "#decision tree classifier\n",
    "def decision_tree_score(data={}, params={}):\n",
    "    model_comparator = ModelComparator(data)\n",
    "    for depth in range(1, params.get('max_depth')):\n",
    "        model = DecisionTreeClassifier(max_depth=depth, random_state=123)\n",
    "        model_comparator.fit_and_compare(model)\n",
    "\n",
    "    model_comparator.get_test_score()\n",
    "    return model_comparator.get_result()\n"
   ]
  },
  {
   "cell_type": "markdown",
   "metadata": {
    "pycharm": {
     "name": "#%% md\n"
    }
   },
   "source": [
    "Сделаем функцию для построения и определения лучшей модели \"Случайный Лес\" в зависимости от параметра max_depth и n_estimators"
   ]
  },
  {
   "cell_type": "code",
   "execution_count": 64,
   "metadata": {
    "pycharm": {
     "name": "#%%\n"
    }
   },
   "outputs": [],
   "source": [
    "#random forest classifier\n",
    "def random_forest_score(data={}, params={}):\n",
    "    model_comparator = ModelComparator(data)\n",
    "    for depth in range(1, params.get('max_depth')):\n",
    "        for est in range(1, params.get('n_estimators')):\n",
    "            model = RandomForestClassifier(max_depth=depth, n_estimators=est, random_state=123)\n",
    "            model_comparator.fit_and_compare(model)\n",
    "    model_comparator.get_test_score()\n",
    "    return model_comparator.get_result()\n"
   ]
  },
  {
   "cell_type": "markdown",
   "metadata": {
    "pycharm": {
     "name": "#%% md\n"
    }
   },
   "source": [
    "Сделаем функцию для построения и определения лучшей модели \"Логической Регрессии\""
   ]
  },
  {
   "cell_type": "code",
   "execution_count": 65,
   "metadata": {
    "pycharm": {
     "name": "#%%\n"
    }
   },
   "outputs": [],
   "source": [
    "#logistic regression classifier\n",
    "def logistic_regression_score(data={}, params={}):\n",
    "    model_comparator = ModelComparator(data)\n",
    "    model = LogisticRegression(random_state=123)\n",
    "    model_comparator.fit_and_compare(model)\n",
    "    model_comparator.get_test_score()\n",
    "    return model_comparator.get_result()"
   ]
  },
  {
   "cell_type": "markdown",
   "metadata": {},
   "source": [
    "Сделаем словарь для каждого типа алгоритмов классификаций с гиперпараметрами.\n",
    "\n",
    "Зададим для Decision Tree: max_depth = 10\n",
    "\n",
    "Зададим для Random Forest: max_depth = 10, n_estimators = 10"
   ]
  },
  {
   "cell_type": "code",
   "execution_count": 66,
   "metadata": {
    "pycharm": {
     "name": "#%%\n"
    }
   },
   "outputs": [],
   "source": [
    "#classifiers with params\n",
    "clf = {Classifier.DECISION_TREE: {'max_depth': 10},\n",
    "       Classifier.RANDOM_FOREST: {'max_depth': 10, 'n_estimators': 10},\n",
    "       Classifier.LOGISTIC_REGRESSION: {}}\n"
   ]
  },
  {
   "cell_type": "markdown",
   "metadata": {},
   "source": [
    "Сделаем разделение с коэфицентом 0.7 между обучающей и остальной выборкой.\n",
    "\n",
    "Остальную поделим поровну на валидационную и тестовую"
   ]
  },
  {
   "cell_type": "code",
   "execution_count": 67,
   "metadata": {
    "pycharm": {
     "name": "#%%\n"
    }
   },
   "outputs": [],
   "source": [
    "df_data = split_train_valid_test(X=X, y=y, train_rem_size=0.7, valid_test_size=0.5)"
   ]
  },
  {
   "cell_type": "markdown",
   "metadata": {},
   "source": [
    "Построим и сравним accuracy моделей для валидационной и тренировочной выборок"
   ]
  },
  {
   "cell_type": "code",
   "execution_count": 68,
   "metadata": {
    "pycharm": {
     "name": "#%%\n"
    },
    "scrolled": true
   },
   "outputs": [
    {
     "data": {
      "text/html": [
       "<div>\n",
       "<style scoped>\n",
       "    .dataframe tbody tr th:only-of-type {\n",
       "        vertical-align: middle;\n",
       "    }\n",
       "\n",
       "    .dataframe tbody tr th {\n",
       "        vertical-align: top;\n",
       "    }\n",
       "\n",
       "    .dataframe thead th {\n",
       "        text-align: right;\n",
       "    }\n",
       "</style>\n",
       "<table border=\"1\" class=\"dataframe\">\n",
       "  <thead>\n",
       "    <tr style=\"text-align: right;\">\n",
       "      <th></th>\n",
       "      <th>Classifier.DECISION_TREE</th>\n",
       "      <th>Classifier.RANDOM_FOREST</th>\n",
       "      <th>Classifier.LOGISTIC_REGRESSION</th>\n",
       "    </tr>\n",
       "  </thead>\n",
       "  <tbody>\n",
       "    <tr>\n",
       "      <th>valid_score</th>\n",
       "      <td>0.793</td>\n",
       "      <td>0.815</td>\n",
       "      <td>0.703</td>\n",
       "    </tr>\n",
       "    <tr>\n",
       "      <th>test_score</th>\n",
       "      <td>0.762</td>\n",
       "      <td>0.793</td>\n",
       "      <td>0.675</td>\n",
       "    </tr>\n",
       "  </tbody>\n",
       "</table>\n",
       "</div>"
      ],
      "text/plain": [
       "            Classifier.DECISION_TREE Classifier.RANDOM_FOREST  \\\n",
       "valid_score                    0.793                    0.815   \n",
       "test_score                     0.762                    0.793   \n",
       "\n",
       "            Classifier.LOGISTIC_REGRESSION  \n",
       "valid_score                          0.703  \n",
       "test_score                           0.675  "
      ]
     },
     "execution_count": 68,
     "metadata": {},
     "output_type": "execute_result"
    }
   ],
   "source": [
    "results = classifiers_result(df_data, clf)\n",
    "pd.DataFrame(results).drop(['model', 'sanity'])"
   ]
  },
  {
   "cell_type": "markdown",
   "metadata": {
    "pycharm": {
     "name": "#%% md\n"
    }
   },
   "source": [
    "Лучше всего показала себя модель Random_Forest"
   ]
  },
  {
   "cell_type": "markdown",
   "metadata": {},
   "source": [
    "Попробуем изменить пропорцию обучающей выборки на 0.8 и повторим обучение"
   ]
  },
  {
   "cell_type": "code",
   "execution_count": 69,
   "metadata": {
    "pycharm": {
     "name": "#%%\n"
    }
   },
   "outputs": [
    {
     "data": {
      "text/html": [
       "<div>\n",
       "<style scoped>\n",
       "    .dataframe tbody tr th:only-of-type {\n",
       "        vertical-align: middle;\n",
       "    }\n",
       "\n",
       "    .dataframe tbody tr th {\n",
       "        vertical-align: top;\n",
       "    }\n",
       "\n",
       "    .dataframe thead th {\n",
       "        text-align: right;\n",
       "    }\n",
       "</style>\n",
       "<table border=\"1\" class=\"dataframe\">\n",
       "  <thead>\n",
       "    <tr style=\"text-align: right;\">\n",
       "      <th></th>\n",
       "      <th>Classifier.DECISION_TREE</th>\n",
       "      <th>Classifier.RANDOM_FOREST</th>\n",
       "      <th>Classifier.LOGISTIC_REGRESSION</th>\n",
       "    </tr>\n",
       "  </thead>\n",
       "  <tbody>\n",
       "    <tr>\n",
       "      <th>valid_score</th>\n",
       "      <td>0.813</td>\n",
       "      <td>0.822</td>\n",
       "      <td>0.741</td>\n",
       "    </tr>\n",
       "    <tr>\n",
       "      <th>test_score</th>\n",
       "      <td>0.783</td>\n",
       "      <td>0.826</td>\n",
       "      <td>0.742</td>\n",
       "    </tr>\n",
       "  </tbody>\n",
       "</table>\n",
       "</div>"
      ],
      "text/plain": [
       "            Classifier.DECISION_TREE Classifier.RANDOM_FOREST  \\\n",
       "valid_score                    0.813                    0.822   \n",
       "test_score                     0.783                    0.826   \n",
       "\n",
       "            Classifier.LOGISTIC_REGRESSION  \n",
       "valid_score                          0.741  \n",
       "test_score                           0.742  "
      ]
     },
     "execution_count": 69,
     "metadata": {},
     "output_type": "execute_result"
    }
   ],
   "source": [
    "df_data = split_train_valid_test(X=X, y=y, train_rem_size=0.8, valid_test_size=0.5)\n",
    "results = classifiers_result(df_data, clf)\n",
    "pd.DataFrame(results).drop(['model', 'sanity'])"
   ]
  },
  {
   "cell_type": "markdown",
   "metadata": {
    "pycharm": {
     "name": "#%% md\n"
    }
   },
   "source": [
    "Показатели у всех моделей выросли. Лидер тот же - Random Forest"
   ]
  },
  {
   "cell_type": "markdown",
   "metadata": {
    "pycharm": {
     "name": "#%% md\n"
    }
   },
   "source": [
    "Выведем на экран гиперпараметры наилучших моделей"
   ]
  },
  {
   "cell_type": "code",
   "execution_count": 70,
   "metadata": {
    "pycharm": {
     "name": "#%%\n"
    }
   },
   "outputs": [
    {
     "name": "stdout",
     "output_type": "stream",
     "text": [
      "RandomForestClassifier(max_depth=9, n_estimators=8, random_state=123)\n",
      "DecisionTreeClassifier(max_depth=2, random_state=123)\n",
      "LogisticRegression(random_state=123)\n"
     ]
    }
   ],
   "source": [
    "print(results[Classifier.RANDOM_FOREST]['model'])\n",
    "print(results[Classifier.DECISION_TREE]['model'])\n",
    "print(results[Classifier.LOGISTIC_REGRESSION]['model'])"
   ]
  },
  {
   "cell_type": "code",
   "execution_count": 72,
   "metadata": {},
   "outputs": [
    {
     "data": {
      "text/plain": [
       "{'clf': RandomForestClassifier(max_depth=9, n_estimators=8),\n",
       " 'clf__max_depth': 9,\n",
       " 'clf__n_estimators': 8}"
      ]
     },
     "execution_count": 72,
     "metadata": {},
     "output_type": "execute_result"
    }
   ],
   "source": [
    "pipeline = Pipeline([\n",
    "    ('clf', DecisionTreeClassifier()),\n",
    "])\n",
    "parameters = [\n",
    "    {\n",
    "        'clf': (DecisionTreeClassifier(),),\n",
    "        'clf__max_depth':range(1, 10),\n",
    "\n",
    "    }, {\n",
    "        'clf': (RandomForestClassifier(),),\n",
    "        'clf__n_estimators': range(1, 10),\n",
    "        'clf__max_depth':range(1, 10),\n",
    "\n",
    "    }\n",
    "]\n",
    "grid_search = GridSearchCV(pipeline, parameters)\n",
    "\n",
    "grid_search.fit(df_data['train']['X'], df_data['train']['y'])\n",
    "grid_search.best_params_"
   ]
  },
  {
   "cell_type": "markdown",
   "metadata": {
    "pycharm": {
     "name": "#%% md\n"
    }
   },
   "source": [
    "## Проверка на вменяемость"
   ]
  },
  {
   "cell_type": "markdown",
   "metadata": {
    "pycharm": {
     "name": "#%% md\n"
    }
   },
   "source": [
    "Посмотрим основные показатели пользователей обоих тарифов"
   ]
  },
  {
   "cell_type": "code",
   "execution_count": 73,
   "metadata": {
    "pycharm": {
     "name": "#%%\n"
    }
   },
   "outputs": [
    {
     "data": {
      "text/html": [
       "<div>\n",
       "<style scoped>\n",
       "    .dataframe tbody tr th:only-of-type {\n",
       "        vertical-align: middle;\n",
       "    }\n",
       "\n",
       "    .dataframe tbody tr th {\n",
       "        vertical-align: top;\n",
       "    }\n",
       "\n",
       "    .dataframe thead th {\n",
       "        text-align: right;\n",
       "    }\n",
       "</style>\n",
       "<table border=\"1\" class=\"dataframe\">\n",
       "  <thead>\n",
       "    <tr style=\"text-align: right;\">\n",
       "      <th></th>\n",
       "      <th>calls</th>\n",
       "      <th>minutes</th>\n",
       "      <th>messages</th>\n",
       "      <th>mb_used</th>\n",
       "      <th>is_ultra</th>\n",
       "    </tr>\n",
       "  </thead>\n",
       "  <tbody>\n",
       "    <tr>\n",
       "      <th>count</th>\n",
       "      <td>985.000000</td>\n",
       "      <td>985.000000</td>\n",
       "      <td>985.000000</td>\n",
       "      <td>985.000000</td>\n",
       "      <td>985.0</td>\n",
       "    </tr>\n",
       "    <tr>\n",
       "      <th>mean</th>\n",
       "      <td>73.392893</td>\n",
       "      <td>511.224569</td>\n",
       "      <td>49.363452</td>\n",
       "      <td>19468.823228</td>\n",
       "      <td>1.0</td>\n",
       "    </tr>\n",
       "    <tr>\n",
       "      <th>std</th>\n",
       "      <td>43.916853</td>\n",
       "      <td>308.031100</td>\n",
       "      <td>47.804457</td>\n",
       "      <td>10087.178654</td>\n",
       "      <td>0.0</td>\n",
       "    </tr>\n",
       "    <tr>\n",
       "      <th>min</th>\n",
       "      <td>0.000000</td>\n",
       "      <td>0.000000</td>\n",
       "      <td>0.000000</td>\n",
       "      <td>0.000000</td>\n",
       "      <td>1.0</td>\n",
       "    </tr>\n",
       "    <tr>\n",
       "      <th>25%</th>\n",
       "      <td>41.000000</td>\n",
       "      <td>276.030000</td>\n",
       "      <td>6.000000</td>\n",
       "      <td>11770.280000</td>\n",
       "      <td>1.0</td>\n",
       "    </tr>\n",
       "    <tr>\n",
       "      <th>50%</th>\n",
       "      <td>74.000000</td>\n",
       "      <td>502.550000</td>\n",
       "      <td>38.000000</td>\n",
       "      <td>19308.010000</td>\n",
       "      <td>1.0</td>\n",
       "    </tr>\n",
       "    <tr>\n",
       "      <th>75%</th>\n",
       "      <td>104.000000</td>\n",
       "      <td>730.050000</td>\n",
       "      <td>79.000000</td>\n",
       "      <td>26837.720000</td>\n",
       "      <td>1.0</td>\n",
       "    </tr>\n",
       "    <tr>\n",
       "      <th>max</th>\n",
       "      <td>244.000000</td>\n",
       "      <td>1632.060000</td>\n",
       "      <td>224.000000</td>\n",
       "      <td>49745.730000</td>\n",
       "      <td>1.0</td>\n",
       "    </tr>\n",
       "  </tbody>\n",
       "</table>\n",
       "</div>"
      ],
      "text/plain": [
       "            calls      minutes    messages       mb_used  is_ultra\n",
       "count  985.000000   985.000000  985.000000    985.000000     985.0\n",
       "mean    73.392893   511.224569   49.363452  19468.823228       1.0\n",
       "std     43.916853   308.031100   47.804457  10087.178654       0.0\n",
       "min      0.000000     0.000000    0.000000      0.000000       1.0\n",
       "25%     41.000000   276.030000    6.000000  11770.280000       1.0\n",
       "50%     74.000000   502.550000   38.000000  19308.010000       1.0\n",
       "75%    104.000000   730.050000   79.000000  26837.720000       1.0\n",
       "max    244.000000  1632.060000  224.000000  49745.730000       1.0"
      ]
     },
     "execution_count": 73,
     "metadata": {},
     "output_type": "execute_result"
    }
   ],
   "source": [
    "ultra = df[df['is_ultra'] == 1]\n",
    "ultra.describe(include='all')"
   ]
  },
  {
   "cell_type": "code",
   "execution_count": 74,
   "metadata": {
    "pycharm": {
     "name": "#%%\n"
    }
   },
   "outputs": [
    {
     "data": {
      "text/html": [
       "<div>\n",
       "<style scoped>\n",
       "    .dataframe tbody tr th:only-of-type {\n",
       "        vertical-align: middle;\n",
       "    }\n",
       "\n",
       "    .dataframe tbody tr th {\n",
       "        vertical-align: top;\n",
       "    }\n",
       "\n",
       "    .dataframe thead th {\n",
       "        text-align: right;\n",
       "    }\n",
       "</style>\n",
       "<table border=\"1\" class=\"dataframe\">\n",
       "  <thead>\n",
       "    <tr style=\"text-align: right;\">\n",
       "      <th></th>\n",
       "      <th>calls</th>\n",
       "      <th>minutes</th>\n",
       "      <th>messages</th>\n",
       "      <th>mb_used</th>\n",
       "      <th>is_ultra</th>\n",
       "    </tr>\n",
       "  </thead>\n",
       "  <tbody>\n",
       "    <tr>\n",
       "      <th>count</th>\n",
       "      <td>2229.000000</td>\n",
       "      <td>2229.000000</td>\n",
       "      <td>2229.000000</td>\n",
       "      <td>2229.000000</td>\n",
       "      <td>2229.0</td>\n",
       "    </tr>\n",
       "    <tr>\n",
       "      <th>mean</th>\n",
       "      <td>58.463437</td>\n",
       "      <td>405.942952</td>\n",
       "      <td>33.384029</td>\n",
       "      <td>16208.466949</td>\n",
       "      <td>0.0</td>\n",
       "    </tr>\n",
       "    <tr>\n",
       "      <th>std</th>\n",
       "      <td>25.939858</td>\n",
       "      <td>184.512604</td>\n",
       "      <td>28.227876</td>\n",
       "      <td>5870.498853</td>\n",
       "      <td>0.0</td>\n",
       "    </tr>\n",
       "    <tr>\n",
       "      <th>min</th>\n",
       "      <td>0.000000</td>\n",
       "      <td>0.000000</td>\n",
       "      <td>0.000000</td>\n",
       "      <td>0.000000</td>\n",
       "      <td>0.0</td>\n",
       "    </tr>\n",
       "    <tr>\n",
       "      <th>25%</th>\n",
       "      <td>40.000000</td>\n",
       "      <td>274.230000</td>\n",
       "      <td>10.000000</td>\n",
       "      <td>12643.050000</td>\n",
       "      <td>0.0</td>\n",
       "    </tr>\n",
       "    <tr>\n",
       "      <th>50%</th>\n",
       "      <td>60.000000</td>\n",
       "      <td>410.560000</td>\n",
       "      <td>28.000000</td>\n",
       "      <td>16506.930000</td>\n",
       "      <td>0.0</td>\n",
       "    </tr>\n",
       "    <tr>\n",
       "      <th>75%</th>\n",
       "      <td>76.000000</td>\n",
       "      <td>529.510000</td>\n",
       "      <td>51.000000</td>\n",
       "      <td>20043.060000</td>\n",
       "      <td>0.0</td>\n",
       "    </tr>\n",
       "    <tr>\n",
       "      <th>max</th>\n",
       "      <td>198.000000</td>\n",
       "      <td>1390.220000</td>\n",
       "      <td>143.000000</td>\n",
       "      <td>38552.620000</td>\n",
       "      <td>0.0</td>\n",
       "    </tr>\n",
       "  </tbody>\n",
       "</table>\n",
       "</div>"
      ],
      "text/plain": [
       "             calls      minutes     messages       mb_used  is_ultra\n",
       "count  2229.000000  2229.000000  2229.000000   2229.000000    2229.0\n",
       "mean     58.463437   405.942952    33.384029  16208.466949       0.0\n",
       "std      25.939858   184.512604    28.227876   5870.498853       0.0\n",
       "min       0.000000     0.000000     0.000000      0.000000       0.0\n",
       "25%      40.000000   274.230000    10.000000  12643.050000       0.0\n",
       "50%      60.000000   410.560000    28.000000  16506.930000       0.0\n",
       "75%      76.000000   529.510000    51.000000  20043.060000       0.0\n",
       "max     198.000000  1390.220000   143.000000  38552.620000       0.0"
      ]
     },
     "execution_count": 74,
     "metadata": {},
     "output_type": "execute_result"
    }
   ],
   "source": [
    "smart = df[df['is_ultra'] == 0]\n",
    "smart.describe(include='all')"
   ]
  },
  {
   "cell_type": "code",
   "execution_count": 75,
   "metadata": {
    "pycharm": {
     "name": "#%%\n"
    }
   },
   "outputs": [
    {
     "data": {
      "text/html": [
       "<div>\n",
       "<style scoped>\n",
       "    .dataframe tbody tr th:only-of-type {\n",
       "        vertical-align: middle;\n",
       "    }\n",
       "\n",
       "    .dataframe tbody tr th {\n",
       "        vertical-align: top;\n",
       "    }\n",
       "\n",
       "    .dataframe thead th {\n",
       "        text-align: right;\n",
       "    }\n",
       "</style>\n",
       "<table border=\"1\" class=\"dataframe\">\n",
       "  <thead>\n",
       "    <tr style=\"text-align: right;\">\n",
       "      <th></th>\n",
       "      <th>calls</th>\n",
       "      <th>minutes</th>\n",
       "      <th>messages</th>\n",
       "      <th>mb_used</th>\n",
       "      <th>is_ultra</th>\n",
       "    </tr>\n",
       "  </thead>\n",
       "  <tbody>\n",
       "    <tr>\n",
       "      <th>count</th>\n",
       "      <td>-1244.000000</td>\n",
       "      <td>-1244.000000</td>\n",
       "      <td>-1244.000000</td>\n",
       "      <td>-1244.000000</td>\n",
       "      <td>-1244.0</td>\n",
       "    </tr>\n",
       "    <tr>\n",
       "      <th>mean</th>\n",
       "      <td>14.929457</td>\n",
       "      <td>105.281617</td>\n",
       "      <td>15.979423</td>\n",
       "      <td>3260.356279</td>\n",
       "      <td>1.0</td>\n",
       "    </tr>\n",
       "    <tr>\n",
       "      <th>std</th>\n",
       "      <td>17.976995</td>\n",
       "      <td>123.518496</td>\n",
       "      <td>19.576582</td>\n",
       "      <td>4216.679801</td>\n",
       "      <td>0.0</td>\n",
       "    </tr>\n",
       "    <tr>\n",
       "      <th>min</th>\n",
       "      <td>0.000000</td>\n",
       "      <td>0.000000</td>\n",
       "      <td>0.000000</td>\n",
       "      <td>0.000000</td>\n",
       "      <td>1.0</td>\n",
       "    </tr>\n",
       "    <tr>\n",
       "      <th>25%</th>\n",
       "      <td>1.000000</td>\n",
       "      <td>1.800000</td>\n",
       "      <td>-4.000000</td>\n",
       "      <td>-872.770000</td>\n",
       "      <td>1.0</td>\n",
       "    </tr>\n",
       "    <tr>\n",
       "      <th>50%</th>\n",
       "      <td>14.000000</td>\n",
       "      <td>91.990000</td>\n",
       "      <td>10.000000</td>\n",
       "      <td>2801.080000</td>\n",
       "      <td>1.0</td>\n",
       "    </tr>\n",
       "    <tr>\n",
       "      <th>75%</th>\n",
       "      <td>28.000000</td>\n",
       "      <td>200.540000</td>\n",
       "      <td>28.000000</td>\n",
       "      <td>6794.660000</td>\n",
       "      <td>1.0</td>\n",
       "    </tr>\n",
       "    <tr>\n",
       "      <th>max</th>\n",
       "      <td>46.000000</td>\n",
       "      <td>241.840000</td>\n",
       "      <td>81.000000</td>\n",
       "      <td>11193.110000</td>\n",
       "      <td>1.0</td>\n",
       "    </tr>\n",
       "  </tbody>\n",
       "</table>\n",
       "</div>"
      ],
      "text/plain": [
       "             calls      minutes     messages       mb_used  is_ultra\n",
       "count -1244.000000 -1244.000000 -1244.000000  -1244.000000   -1244.0\n",
       "mean     14.929457   105.281617    15.979423   3260.356279       1.0\n",
       "std      17.976995   123.518496    19.576582   4216.679801       0.0\n",
       "min       0.000000     0.000000     0.000000      0.000000       1.0\n",
       "25%       1.000000     1.800000    -4.000000   -872.770000       1.0\n",
       "50%      14.000000    91.990000    10.000000   2801.080000       1.0\n",
       "75%      28.000000   200.540000    28.000000   6794.660000       1.0\n",
       "max      46.000000   241.840000    81.000000  11193.110000       1.0"
      ]
     },
     "execution_count": 75,
     "metadata": {},
     "output_type": "execute_result"
    }
   ],
   "source": [
    "ultra.describe(include='all') - smart.describe(include='all')"
   ]
  },
  {
   "cell_type": "markdown",
   "metadata": {
    "pycharm": {
     "name": "#%% md\n"
    }
   },
   "source": [
    "Пользователи Ультра в среднем потребляют больше услуг, чем пользователи Смарт. Будем тестировать модели на простых предположениях об этих тарифах. Для этого напишем функцию, которая будет тестировать кастомный сэмпл на всех полученных моделей. Если предположение модели совпадает с нашими представлениями, будем увеличивать у нее параметр sanity"
   ]
  },
  {
   "cell_type": "code",
   "execution_count": 76,
   "metadata": {
    "pycharm": {
     "name": "#%%\n"
    }
   },
   "outputs": [],
   "source": [
    "# each model predicts sample. If it equals 'check', increase its 'sanity' by 1\n",
    "dummy_clf = DummyClassifier(strategy=\"prior\")\n",
    "dummy_clf.fit(df_data['train']['X'], df_data['train']['y'])\n",
    "\n",
    "def sanity_check(results, sample):\n",
    "    for cls in results:\n",
    "        sanity_model_predict = results[cls]['model'].predict(sample)\n",
    "        print(cls.name + ':', sanity_model_predict)\n",
    "        if sanity_model_predict == dummy_clf.predict(sample):\n",
    "            results[cls]['sanity'] += 1"
   ]
  },
  {
   "cell_type": "markdown",
   "metadata": {
    "pycharm": {
     "name": "#%% md\n"
    }
   },
   "source": [
    "Сэмпл из средних значений для тарифа Смарт:"
   ]
  },
  {
   "cell_type": "code",
   "execution_count": 77,
   "metadata": {
    "pycharm": {
     "name": "#%%\n"
    }
   },
   "outputs": [
    {
     "name": "stdout",
     "output_type": "stream",
     "text": [
      "DECISION_TREE: [0]\n",
      "RANDOM_FOREST: [0]\n",
      "LOGISTIC_REGRESSION: [0]\n"
     ]
    }
   ],
   "source": [
    "sample = pd.DataFrame({'calls'   :[smart['calls'].mean()],\n",
    "                       'minutes' :[smart['minutes'].mean()],\n",
    "                       'messages':[smart['messages'].mean()],\n",
    "                       'mb_used' :[smart['mb_used'].mean()]})\n",
    "\n",
    "sanity_check(results, sample)"
   ]
  },
  {
   "cell_type": "markdown",
   "metadata": {
    "pycharm": {
     "name": "#%% md\n"
    }
   },
   "source": [
    "Сэмпл из средний значений для тарифа Ультра"
   ]
  },
  {
   "cell_type": "code",
   "execution_count": 78,
   "metadata": {
    "pycharm": {
     "name": "#%%\n"
    }
   },
   "outputs": [
    {
     "name": "stdout",
     "output_type": "stream",
     "text": [
      "DECISION_TREE: [0]\n",
      "RANDOM_FOREST: [0]\n",
      "LOGISTIC_REGRESSION: [0]\n"
     ]
    }
   ],
   "source": [
    "sample = pd.DataFrame({'calls':[ultra['calls'].mean()],\n",
    "                       'minutes':[ultra['minutes'].mean()],\n",
    "                       'messages':[ultra['messages'].mean()],\n",
    "                       'mb_used':[ultra['mb_used'].mean()]})\n",
    "\n",
    "sanity_check(results, sample)"
   ]
  },
  {
   "cell_type": "markdown",
   "metadata": {
    "pycharm": {
     "name": "#%% md\n"
    }
   },
   "source": [
    "Возьмем значения близкие к нулевым."
   ]
  },
  {
   "cell_type": "code",
   "execution_count": 79,
   "metadata": {
    "pycharm": {
     "name": "#%%\n"
    }
   },
   "outputs": [
    {
     "name": "stdout",
     "output_type": "stream",
     "text": [
      "DECISION_TREE: [0]\n",
      "RANDOM_FOREST: [0]\n",
      "LOGISTIC_REGRESSION: [0]\n"
     ]
    }
   ],
   "source": [
    "sample = pd.DataFrame({'calls':[10], 'minutes':[10], 'messages':[10], 'mb_used':[10]})\n",
    "sanity_check(results, sample)"
   ]
  },
  {
   "cell_type": "markdown",
   "metadata": {
    "pycharm": {
     "name": "#%% md\n"
    }
   },
   "source": [
    "Наоборот, возьмем сверх большие значения."
   ]
  },
  {
   "cell_type": "code",
   "execution_count": 80,
   "metadata": {
    "pycharm": {
     "name": "#%%\n"
    }
   },
   "outputs": [
    {
     "name": "stdout",
     "output_type": "stream",
     "text": [
      "DECISION_TREE: [1]\n",
      "RANDOM_FOREST: [1]\n",
      "LOGISTIC_REGRESSION: [1]\n"
     ]
    }
   ],
   "source": [
    "sample = pd.DataFrame({'calls':[500], 'minutes':[3500], 'messages':[500], 'mb_used':[100000]})\n",
    "sanity_check(results, sample)"
   ]
  },
  {
   "cell_type": "markdown",
   "metadata": {
    "pycharm": {
     "name": "#%% md\n"
    }
   },
   "source": [
    "Будем перебирать и минимизировать по очереди каждый из параметров."
   ]
  },
  {
   "cell_type": "code",
   "execution_count": 81,
   "metadata": {
    "pycharm": {
     "name": "#%%\n"
    }
   },
   "outputs": [
    {
     "name": "stdout",
     "output_type": "stream",
     "text": [
      "DECISION_TREE: [1]\n",
      "RANDOM_FOREST: [1]\n",
      "LOGISTIC_REGRESSION: [1]\n"
     ]
    }
   ],
   "source": [
    "sample = pd.DataFrame({'calls':[0], 'minutes':[3500], 'messages':[500], 'mb_used':[100000]})\n",
    "sanity_check(results, sample)"
   ]
  },
  {
   "cell_type": "code",
   "execution_count": 82,
   "metadata": {
    "pycharm": {
     "name": "#%%\n"
    }
   },
   "outputs": [
    {
     "name": "stdout",
     "output_type": "stream",
     "text": [
      "DECISION_TREE: [1]\n",
      "RANDOM_FOREST: [1]\n",
      "LOGISTIC_REGRESSION: [1]\n"
     ]
    }
   ],
   "source": [
    "sample = pd.DataFrame({'calls':[500], 'minutes':[0], 'messages':[500], 'mb_used':[100000]})\n",
    "sanity_check(results, sample)"
   ]
  },
  {
   "cell_type": "code",
   "execution_count": 83,
   "metadata": {
    "pycharm": {
     "name": "#%%\n"
    }
   },
   "outputs": [
    {
     "name": "stdout",
     "output_type": "stream",
     "text": [
      "DECISION_TREE: [1]\n",
      "RANDOM_FOREST: [1]\n",
      "LOGISTIC_REGRESSION: [1]\n"
     ]
    }
   ],
   "source": [
    "sample = pd.DataFrame({'calls':[500], 'minutes':[3500], 'messages':[0], 'mb_used':[100000]})\n",
    "sanity_check(results, sample)"
   ]
  },
  {
   "cell_type": "code",
   "execution_count": 84,
   "metadata": {
    "pycharm": {
     "name": "#%%\n"
    }
   },
   "outputs": [
    {
     "name": "stdout",
     "output_type": "stream",
     "text": [
      "DECISION_TREE: [1]\n",
      "RANDOM_FOREST: [1]\n",
      "LOGISTIC_REGRESSION: [1]\n"
     ]
    }
   ],
   "source": [
    "sample = pd.DataFrame({'calls':[500], 'minutes':[3500], 'messages':[500], 'mb_used':[0]})\n",
    "sanity_check(results, sample)"
   ]
  },
  {
   "cell_type": "markdown",
   "metadata": {
    "pycharm": {
     "name": "#%% md\n"
    }
   },
   "source": [
    "Посмотрим на итоги:"
   ]
  },
  {
   "cell_type": "code",
   "execution_count": 85,
   "metadata": {
    "pycharm": {
     "name": "#%%\n"
    },
    "scrolled": true
   },
   "outputs": [
    {
     "data": {
      "text/plain": [
       "Classifier.DECISION_TREE          3\n",
       "Classifier.RANDOM_FOREST          3\n",
       "Classifier.LOGISTIC_REGRESSION    3\n",
       "Name: sanity, dtype: object"
      ]
     },
     "execution_count": 85,
     "metadata": {},
     "output_type": "execute_result"
    }
   ],
   "source": [
    "pd.DataFrame(results).loc['sanity']"
   ]
  },
  {
   "cell_type": "markdown",
   "metadata": {
    "pycharm": {
     "name": "#%% md\n"
    }
   },
   "source": [
    "Модели прошли тесты и показали одинаковый параметр вменяемости"
   ]
  },
  {
   "cell_type": "markdown",
   "metadata": {
    "pycharm": {
     "name": "#%% md\n"
    }
   },
   "source": [
    "## Общий Вывод"
   ]
  },
  {
   "cell_type": "markdown",
   "metadata": {
    "pycharm": {
     "name": "#%% md\n"
    }
   },
   "source": [
    "Мы ознакомились с данными по тарифам «Смарт» и «Ультра». Мы разделили выборки на обучающую, валидационую и тестовую. Меняя гиперпараметры мы получили максимальный параметр accuracy на валидационной выборке для каждой из моделей:\n",
    "\n",
    "Модель Decision Tree       : 0.813\n",
    "\n",
    "Модель Random Forest       : 0.822\n",
    "\n",
    "Модель Logistic Regression : 0.741\n",
    "\n",
    "Затем мы проверили эти модели на тестовой выборке и получили следующие accuracy:\n",
    "\n",
    "Модель Decision Tree       : 0.783\n",
    "\n",
    "Модель Random Forest       : 0.826\n",
    "\n",
    "Модель Logistic Regression : 0.742\n",
    "\n",
    "Сделав исследование об эффективности моделей мы проверили тест их на адекватность. Все модели показали равные хорошие результаты - 7 из 8 тестов были пройдены. На основании этого мы можем сделать вывод, что самая эффективная модель для подбора подходящего тарифа для пользователей это Random Forest с гиперпараметрами max_depth=9, n_estimators=8\n",
    "\n",
    "Рекомендации: в нашем случае выборки для пользователей Смарт и Ультра были не равны по количеству записей. Было бы неплохо сделать выгрузку с равными соотношениями для получения более точных результатов исследования.\n"
   ]
  }
 ],
 "metadata": {
  "ExecuteTimeLog": [
   {
    "duration": 7,
    "start_time": "2021-10-08T11:09:54.111Z"
   },
   {
    "duration": 301,
    "start_time": "2021-10-08T11:25:03.293Z"
   },
   {
    "duration": 1351,
    "start_time": "2021-10-08T11:25:29.412Z"
   },
   {
    "duration": 4,
    "start_time": "2021-10-08T11:25:30.766Z"
   },
   {
    "duration": 160,
    "start_time": "2021-10-08T11:25:30.773Z"
   },
   {
    "duration": 8,
    "start_time": "2021-10-08T11:25:30.936Z"
   },
   {
    "duration": 24,
    "start_time": "2021-10-08T11:25:30.946Z"
   },
   {
    "duration": 30,
    "start_time": "2021-10-08T11:25:30.973Z"
   },
   {
    "duration": 36,
    "start_time": "2021-10-08T11:25:31.005Z"
   },
   {
    "duration": 22,
    "start_time": "2021-10-08T11:25:31.045Z"
   },
   {
    "duration": 25,
    "start_time": "2021-10-08T11:25:31.071Z"
   },
   {
    "duration": 24,
    "start_time": "2021-10-08T11:25:31.099Z"
   },
   {
    "duration": 37,
    "start_time": "2021-10-08T11:25:31.125Z"
   },
   {
    "duration": 1731,
    "start_time": "2021-10-08T11:25:31.165Z"
   },
   {
    "duration": 1781,
    "start_time": "2021-10-08T11:25:32.898Z"
   },
   {
    "duration": 8,
    "start_time": "2021-10-08T11:25:34.682Z"
   },
   {
    "duration": 5,
    "start_time": "2021-10-08T11:25:34.692Z"
   },
   {
    "duration": 80,
    "start_time": "2021-10-08T11:25:34.699Z"
   },
   {
    "duration": 1708,
    "start_time": "2021-10-08T11:25:33.074Z"
   },
   {
    "duration": 1706,
    "start_time": "2021-10-08T11:25:33.078Z"
   },
   {
    "duration": 1702,
    "start_time": "2021-10-08T11:25:33.084Z"
   },
   {
    "duration": 1701,
    "start_time": "2021-10-08T11:25:33.086Z"
   },
   {
    "duration": 1701,
    "start_time": "2021-10-08T11:25:33.088Z"
   },
   {
    "duration": 1701,
    "start_time": "2021-10-08T11:25:33.089Z"
   },
   {
    "duration": 1694,
    "start_time": "2021-10-08T11:25:33.097Z"
   },
   {
    "duration": 1693,
    "start_time": "2021-10-08T11:25:33.100Z"
   },
   {
    "duration": 1692,
    "start_time": "2021-10-08T11:25:33.102Z"
   },
   {
    "duration": 1692,
    "start_time": "2021-10-08T11:25:33.104Z"
   },
   {
    "duration": 1693,
    "start_time": "2021-10-08T11:25:33.104Z"
   },
   {
    "duration": 1693,
    "start_time": "2021-10-08T11:25:33.106Z"
   },
   {
    "duration": 1670,
    "start_time": "2021-10-08T11:25:33.130Z"
   },
   {
    "duration": 326,
    "start_time": "2021-10-08T11:40:22.459Z"
   },
   {
    "duration": 237,
    "start_time": "2021-10-08T11:40:47.593Z"
   },
   {
    "duration": 9,
    "start_time": "2021-10-08T11:40:53.818Z"
   },
   {
    "duration": 569,
    "start_time": "2021-10-08T11:41:00.256Z"
   },
   {
    "duration": 5,
    "start_time": "2021-10-08T11:42:08.645Z"
   },
   {
    "duration": 241,
    "start_time": "2021-10-08T11:42:22.022Z"
   },
   {
    "duration": 224,
    "start_time": "2021-10-08T11:44:46.864Z"
   },
   {
    "duration": 220,
    "start_time": "2021-10-08T11:45:28.348Z"
   },
   {
    "duration": 228,
    "start_time": "2021-10-08T11:50:53.782Z"
   },
   {
    "duration": 226,
    "start_time": "2021-10-08T11:51:05.428Z"
   },
   {
    "duration": 236,
    "start_time": "2021-10-08T11:52:06.937Z"
   },
   {
    "duration": 223,
    "start_time": "2021-10-08T11:53:53.426Z"
   },
   {
    "duration": 29,
    "start_time": "2021-10-08T11:54:18.328Z"
   },
   {
    "duration": 243,
    "start_time": "2021-10-08T11:54:21.937Z"
   },
   {
    "duration": 6,
    "start_time": "2021-10-08T11:54:53.081Z"
   },
   {
    "duration": 5608,
    "start_time": "2021-10-08T11:54:56.789Z"
   },
   {
    "duration": 295,
    "start_time": "2021-10-08T11:55:40.122Z"
   },
   {
    "duration": 384,
    "start_time": "2021-10-08T11:58:10.814Z"
   },
   {
    "duration": 372,
    "start_time": "2021-10-08T11:59:29.195Z"
   },
   {
    "duration": 371,
    "start_time": "2021-10-08T12:00:22.369Z"
   },
   {
    "duration": 578,
    "start_time": "2021-10-08T12:00:36.176Z"
   },
   {
    "duration": 288,
    "start_time": "2021-10-08T12:01:26.930Z"
   },
   {
    "duration": 453,
    "start_time": "2021-10-08T12:07:02.627Z"
   },
   {
    "duration": 621,
    "start_time": "2021-10-08T12:08:02.190Z"
   },
   {
    "duration": 625,
    "start_time": "2021-10-08T12:08:21.998Z"
   },
   {
    "duration": 247,
    "start_time": "2021-10-08T12:09:53.372Z"
   },
   {
    "duration": 80,
    "start_time": "2021-10-08T12:11:35.009Z"
   },
   {
    "duration": 278,
    "start_time": "2021-10-08T12:11:45.308Z"
   },
   {
    "duration": 222,
    "start_time": "2021-10-08T12:12:51.946Z"
   },
   {
    "duration": 227,
    "start_time": "2021-10-08T12:13:21.414Z"
   },
   {
    "duration": 413,
    "start_time": "2021-10-08T12:13:51.585Z"
   },
   {
    "duration": 235,
    "start_time": "2021-10-08T12:14:18.053Z"
   },
   {
    "duration": 232,
    "start_time": "2021-10-08T12:14:26.931Z"
   },
   {
    "duration": 229,
    "start_time": "2021-10-08T12:15:36.491Z"
   },
   {
    "duration": 265,
    "start_time": "2021-10-08T12:15:59.333Z"
   },
   {
    "duration": 228,
    "start_time": "2021-10-08T12:16:59.755Z"
   },
   {
    "duration": 320,
    "start_time": "2021-10-08T12:17:30.466Z"
   },
   {
    "duration": 434,
    "start_time": "2021-10-08T12:18:08.567Z"
   },
   {
    "duration": 283,
    "start_time": "2021-10-08T12:18:23.446Z"
   },
   {
    "duration": 250,
    "start_time": "2021-10-08T12:18:45.374Z"
   },
   {
    "duration": 411,
    "start_time": "2021-10-08T12:19:04.651Z"
   },
   {
    "duration": 243,
    "start_time": "2021-10-08T12:19:12.575Z"
   },
   {
    "duration": 232,
    "start_time": "2021-10-08T12:19:29.080Z"
   },
   {
    "duration": 255,
    "start_time": "2021-10-08T12:19:44.625Z"
   },
   {
    "duration": 272,
    "start_time": "2021-10-08T12:20:45.718Z"
   },
   {
    "duration": 78,
    "start_time": "2021-10-08T12:21:30.585Z"
   },
   {
    "duration": 269,
    "start_time": "2021-10-08T12:22:04.136Z"
   },
   {
    "duration": 235,
    "start_time": "2021-10-08T12:22:39.252Z"
   },
   {
    "duration": 309,
    "start_time": "2021-10-08T12:23:10.460Z"
   },
   {
    "duration": 227,
    "start_time": "2021-10-08T12:23:36.654Z"
   },
   {
    "duration": 264,
    "start_time": "2021-10-08T12:24:51.631Z"
   },
   {
    "duration": 306,
    "start_time": "2021-10-08T12:25:12.540Z"
   },
   {
    "duration": 238,
    "start_time": "2021-10-08T12:25:23.264Z"
   },
   {
    "duration": 234,
    "start_time": "2021-10-08T12:28:58.074Z"
   },
   {
    "duration": 216,
    "start_time": "2021-10-08T12:29:09.259Z"
   },
   {
    "duration": 255,
    "start_time": "2021-10-08T12:29:20.756Z"
   },
   {
    "duration": 272,
    "start_time": "2021-10-08T12:29:31.898Z"
   },
   {
    "duration": 385,
    "start_time": "2021-10-08T12:30:02.019Z"
   },
   {
    "duration": 250,
    "start_time": "2021-10-08T12:30:23.962Z"
   },
   {
    "duration": 263,
    "start_time": "2021-10-08T12:30:55.876Z"
   },
   {
    "duration": 248,
    "start_time": "2021-10-08T12:31:00.642Z"
   },
   {
    "duration": 242,
    "start_time": "2021-10-08T12:31:19.367Z"
   },
   {
    "duration": 1340,
    "start_time": "2021-10-08T12:31:38.621Z"
   },
   {
    "duration": 4,
    "start_time": "2021-10-08T12:31:39.964Z"
   },
   {
    "duration": 113,
    "start_time": "2021-10-08T12:31:39.971Z"
   },
   {
    "duration": 7,
    "start_time": "2021-10-08T12:31:40.087Z"
   },
   {
    "duration": 28,
    "start_time": "2021-10-08T12:31:40.097Z"
   },
   {
    "duration": 15,
    "start_time": "2021-10-08T12:31:40.129Z"
   },
   {
    "duration": 17,
    "start_time": "2021-10-08T12:31:40.146Z"
   },
   {
    "duration": 26,
    "start_time": "2021-10-08T12:31:40.167Z"
   },
   {
    "duration": 21,
    "start_time": "2021-10-08T12:31:40.196Z"
   },
   {
    "duration": 19,
    "start_time": "2021-10-08T12:31:40.219Z"
   },
   {
    "duration": 13,
    "start_time": "2021-10-08T12:31:40.240Z"
   },
   {
    "duration": 1845,
    "start_time": "2021-10-08T12:31:40.255Z"
   },
   {
    "duration": 1867,
    "start_time": "2021-10-08T12:31:42.103Z"
   },
   {
    "duration": 8,
    "start_time": "2021-10-08T12:31:43.972Z"
   },
   {
    "duration": 438,
    "start_time": "2021-10-08T12:31:43.982Z"
   },
   {
    "duration": 1805,
    "start_time": "2021-10-08T12:31:42.618Z"
   },
   {
    "duration": 1751,
    "start_time": "2021-10-08T12:31:42.674Z"
   },
   {
    "duration": 1750,
    "start_time": "2021-10-08T12:31:42.676Z"
   },
   {
    "duration": 1749,
    "start_time": "2021-10-08T12:31:42.678Z"
   },
   {
    "duration": 1749,
    "start_time": "2021-10-08T12:31:42.680Z"
   },
   {
    "duration": 1749,
    "start_time": "2021-10-08T12:31:42.681Z"
   },
   {
    "duration": 1749,
    "start_time": "2021-10-08T12:31:42.682Z"
   },
   {
    "duration": 1750,
    "start_time": "2021-10-08T12:31:42.683Z"
   },
   {
    "duration": 1750,
    "start_time": "2021-10-08T12:31:42.684Z"
   },
   {
    "duration": 1751,
    "start_time": "2021-10-08T12:31:42.686Z"
   },
   {
    "duration": 1748,
    "start_time": "2021-10-08T12:31:42.690Z"
   },
   {
    "duration": 1747,
    "start_time": "2021-10-08T12:31:42.692Z"
   },
   {
    "duration": 1747,
    "start_time": "2021-10-08T12:31:42.693Z"
   },
   {
    "duration": 298,
    "start_time": "2021-10-08T12:32:03.171Z"
   },
   {
    "duration": 250,
    "start_time": "2021-10-08T12:32:49.134Z"
   },
   {
    "duration": 128,
    "start_time": "2021-10-08T12:32:55.361Z"
   },
   {
    "duration": 237,
    "start_time": "2021-10-08T12:33:11.391Z"
   },
   {
    "duration": 1321,
    "start_time": "2021-10-08T12:33:26.075Z"
   },
   {
    "duration": 4,
    "start_time": "2021-10-08T12:33:27.399Z"
   },
   {
    "duration": 100,
    "start_time": "2021-10-08T12:33:27.406Z"
   },
   {
    "duration": 9,
    "start_time": "2021-10-08T12:33:27.509Z"
   },
   {
    "duration": 11,
    "start_time": "2021-10-08T12:33:27.521Z"
   },
   {
    "duration": 10,
    "start_time": "2021-10-08T12:33:27.536Z"
   },
   {
    "duration": 7,
    "start_time": "2021-10-08T12:33:27.549Z"
   },
   {
    "duration": 11,
    "start_time": "2021-10-08T12:33:27.561Z"
   },
   {
    "duration": 6,
    "start_time": "2021-10-08T12:33:27.576Z"
   },
   {
    "duration": 5,
    "start_time": "2021-10-08T12:33:27.622Z"
   },
   {
    "duration": 12,
    "start_time": "2021-10-08T12:33:27.630Z"
   },
   {
    "duration": 1739,
    "start_time": "2021-10-08T12:33:27.644Z"
   },
   {
    "duration": 1838,
    "start_time": "2021-10-08T12:33:29.386Z"
   },
   {
    "duration": 10,
    "start_time": "2021-10-08T12:33:31.227Z"
   },
   {
    "duration": 371,
    "start_time": "2021-10-08T12:33:31.240Z"
   },
   {
    "duration": 1738,
    "start_time": "2021-10-08T12:33:29.877Z"
   },
   {
    "duration": 1739,
    "start_time": "2021-10-08T12:33:29.878Z"
   },
   {
    "duration": 1739,
    "start_time": "2021-10-08T12:33:29.880Z"
   },
   {
    "duration": 1740,
    "start_time": "2021-10-08T12:33:29.881Z"
   },
   {
    "duration": 1741,
    "start_time": "2021-10-08T12:33:29.882Z"
   },
   {
    "duration": 1741,
    "start_time": "2021-10-08T12:33:29.884Z"
   },
   {
    "duration": 1743,
    "start_time": "2021-10-08T12:33:29.885Z"
   },
   {
    "duration": 1743,
    "start_time": "2021-10-08T12:33:29.887Z"
   },
   {
    "duration": 1743,
    "start_time": "2021-10-08T12:33:29.889Z"
   },
   {
    "duration": 1744,
    "start_time": "2021-10-08T12:33:29.890Z"
   },
   {
    "duration": 1741,
    "start_time": "2021-10-08T12:33:29.894Z"
   },
   {
    "duration": 1741,
    "start_time": "2021-10-08T12:33:29.895Z"
   },
   {
    "duration": 1741,
    "start_time": "2021-10-08T12:33:29.897Z"
   },
   {
    "duration": 241,
    "start_time": "2021-10-08T12:34:27.957Z"
   },
   {
    "duration": 252,
    "start_time": "2021-10-08T12:35:02.889Z"
   },
   {
    "duration": 315,
    "start_time": "2021-10-08T12:35:29.148Z"
   },
   {
    "duration": 1438,
    "start_time": "2021-10-08T12:35:39.616Z"
   },
   {
    "duration": 4,
    "start_time": "2021-10-08T12:35:41.057Z"
   },
   {
    "duration": 140,
    "start_time": "2021-10-08T12:35:41.064Z"
   },
   {
    "duration": 8,
    "start_time": "2021-10-08T12:35:41.207Z"
   },
   {
    "duration": 15,
    "start_time": "2021-10-08T12:35:41.218Z"
   },
   {
    "duration": 34,
    "start_time": "2021-10-08T12:35:41.236Z"
   },
   {
    "duration": 36,
    "start_time": "2021-10-08T12:35:41.272Z"
   },
   {
    "duration": 35,
    "start_time": "2021-10-08T12:35:41.311Z"
   },
   {
    "duration": 22,
    "start_time": "2021-10-08T12:35:41.350Z"
   },
   {
    "duration": 26,
    "start_time": "2021-10-08T12:35:41.375Z"
   },
   {
    "duration": 45,
    "start_time": "2021-10-08T12:35:41.403Z"
   },
   {
    "duration": 2696,
    "start_time": "2021-10-08T12:35:41.451Z"
   },
   {
    "duration": 1878,
    "start_time": "2021-10-08T12:35:44.149Z"
   },
   {
    "duration": 7,
    "start_time": "2021-10-08T12:35:46.029Z"
   },
   {
    "duration": 381,
    "start_time": "2021-10-08T12:35:46.039Z"
   },
   {
    "duration": 1752,
    "start_time": "2021-10-08T12:35:44.671Z"
   },
   {
    "duration": 1752,
    "start_time": "2021-10-08T12:35:44.673Z"
   },
   {
    "duration": 1751,
    "start_time": "2021-10-08T12:35:44.675Z"
   },
   {
    "duration": 1752,
    "start_time": "2021-10-08T12:35:44.676Z"
   },
   {
    "duration": 1751,
    "start_time": "2021-10-08T12:35:44.678Z"
   },
   {
    "duration": 1752,
    "start_time": "2021-10-08T12:35:44.679Z"
   },
   {
    "duration": 1751,
    "start_time": "2021-10-08T12:35:44.681Z"
   },
   {
    "duration": 1749,
    "start_time": "2021-10-08T12:35:44.684Z"
   },
   {
    "duration": 1749,
    "start_time": "2021-10-08T12:35:44.686Z"
   },
   {
    "duration": 1749,
    "start_time": "2021-10-08T12:35:44.687Z"
   },
   {
    "duration": 1748,
    "start_time": "2021-10-08T12:35:44.689Z"
   },
   {
    "duration": 1748,
    "start_time": "2021-10-08T12:35:44.690Z"
   },
   {
    "duration": 1749,
    "start_time": "2021-10-08T12:35:44.691Z"
   },
   {
    "duration": 235,
    "start_time": "2021-10-08T12:36:57.874Z"
   },
   {
    "duration": 369,
    "start_time": "2021-10-08T12:37:32.970Z"
   },
   {
    "duration": 253,
    "start_time": "2021-10-08T12:37:38.627Z"
   },
   {
    "duration": 133,
    "start_time": "2021-10-08T12:37:45.105Z"
   },
   {
    "duration": 131,
    "start_time": "2021-10-08T12:38:00.463Z"
   },
   {
    "duration": 485,
    "start_time": "2021-10-08T12:38:09.237Z"
   },
   {
    "duration": 185,
    "start_time": "2021-10-08T12:38:22.725Z"
   },
   {
    "duration": 66,
    "start_time": "2021-10-08T12:38:27.927Z"
   },
   {
    "duration": 130,
    "start_time": "2021-10-08T12:38:36.445Z"
   },
   {
    "duration": 66,
    "start_time": "2021-10-08T12:38:46.943Z"
   },
   {
    "duration": 233,
    "start_time": "2021-10-08T12:38:50.906Z"
   },
   {
    "duration": 92,
    "start_time": "2021-10-08T12:39:39.844Z"
   },
   {
    "duration": 260,
    "start_time": "2021-10-08T12:39:56.478Z"
   },
   {
    "duration": 252,
    "start_time": "2021-10-08T12:40:15.975Z"
   },
   {
    "duration": 255,
    "start_time": "2021-10-08T12:41:44.023Z"
   },
   {
    "duration": 131,
    "start_time": "2021-10-08T12:41:52.206Z"
   },
   {
    "duration": 262,
    "start_time": "2021-10-08T12:43:52.107Z"
   },
   {
    "duration": 254,
    "start_time": "2021-10-08T12:44:10.862Z"
   },
   {
    "duration": 1077,
    "start_time": "2021-10-08T12:44:29.641Z"
   },
   {
    "duration": 232,
    "start_time": "2021-10-08T12:44:50.958Z"
   },
   {
    "duration": 1625,
    "start_time": "2021-10-08T12:47:15.010Z"
   },
   {
    "duration": 286,
    "start_time": "2021-10-08T12:47:40.889Z"
   },
   {
    "duration": 279,
    "start_time": "2021-10-08T12:48:06.621Z"
   },
   {
    "duration": 3625,
    "start_time": "2021-10-08T12:48:26.198Z"
   },
   {
    "duration": 4976,
    "start_time": "2021-10-08T12:48:42.169Z"
   },
   {
    "duration": 5100,
    "start_time": "2021-10-08T12:51:29.558Z"
   },
   {
    "duration": 229,
    "start_time": "2021-10-08T12:51:50.678Z"
   },
   {
    "duration": 252,
    "start_time": "2021-10-08T12:52:12.361Z"
   },
   {
    "duration": 5274,
    "start_time": "2021-10-08T12:52:18.793Z"
   },
   {
    "duration": 290,
    "start_time": "2021-10-08T12:52:34.062Z"
   },
   {
    "duration": 5920,
    "start_time": "2021-10-08T12:52:37.505Z"
   },
   {
    "duration": 297,
    "start_time": "2021-10-08T13:03:37.045Z"
   },
   {
    "duration": 5,
    "start_time": "2021-10-08T13:03:55.282Z"
   },
   {
    "duration": 7,
    "start_time": "2021-10-08T13:04:00.523Z"
   },
   {
    "duration": 253,
    "start_time": "2021-10-08T13:04:03.802Z"
   },
   {
    "duration": 756,
    "start_time": "2021-10-08T13:04:04.108Z"
   },
   {
    "duration": 1846,
    "start_time": "2021-10-08T13:04:03.021Z"
   },
   {
    "duration": 1846,
    "start_time": "2021-10-08T13:04:03.022Z"
   },
   {
    "duration": 257,
    "start_time": "2021-10-08T13:04:05.042Z"
   },
   {
    "duration": 1845,
    "start_time": "2021-10-08T13:04:03.457Z"
   },
   {
    "duration": 265,
    "start_time": "2021-10-08T13:04:05.358Z"
   },
   {
    "duration": 1845,
    "start_time": "2021-10-08T13:04:03.781Z"
   },
   {
    "duration": 9,
    "start_time": "2021-10-08T13:04:05.862Z"
   },
   {
    "duration": 571,
    "start_time": "2021-10-08T13:04:31.717Z"
   },
   {
    "duration": 1304,
    "start_time": "2021-10-08T13:04:45.344Z"
   },
   {
    "duration": 4,
    "start_time": "2021-10-08T13:04:46.651Z"
   },
   {
    "duration": 170,
    "start_time": "2021-10-08T13:04:46.658Z"
   },
   {
    "duration": 79,
    "start_time": "2021-10-08T13:04:46.831Z"
   },
   {
    "duration": 1850,
    "start_time": "2021-10-08T13:04:45.064Z"
   },
   {
    "duration": 1847,
    "start_time": "2021-10-08T13:04:45.069Z"
   },
   {
    "duration": 1848,
    "start_time": "2021-10-08T13:04:45.069Z"
   },
   {
    "duration": 1823,
    "start_time": "2021-10-08T13:04:45.096Z"
   },
   {
    "duration": 1789,
    "start_time": "2021-10-08T13:04:45.131Z"
   },
   {
    "duration": 1786,
    "start_time": "2021-10-08T13:04:45.135Z"
   },
   {
    "duration": 1787,
    "start_time": "2021-10-08T13:04:45.136Z"
   },
   {
    "duration": 1786,
    "start_time": "2021-10-08T13:04:45.138Z"
   },
   {
    "duration": 1787,
    "start_time": "2021-10-08T13:04:45.139Z"
   },
   {
    "duration": 1786,
    "start_time": "2021-10-08T13:04:45.141Z"
   },
   {
    "duration": 1786,
    "start_time": "2021-10-08T13:04:45.143Z"
   },
   {
    "duration": 1786,
    "start_time": "2021-10-08T13:04:45.144Z"
   },
   {
    "duration": 1761,
    "start_time": "2021-10-08T13:04:45.171Z"
   },
   {
    "duration": 1761,
    "start_time": "2021-10-08T13:04:45.173Z"
   },
   {
    "duration": 1734,
    "start_time": "2021-10-08T13:04:45.201Z"
   },
   {
    "duration": 1736,
    "start_time": "2021-10-08T13:04:45.203Z"
   },
   {
    "duration": 1735,
    "start_time": "2021-10-08T13:04:45.205Z"
   },
   {
    "duration": 1735,
    "start_time": "2021-10-08T13:04:45.207Z"
   },
   {
    "duration": 1736,
    "start_time": "2021-10-08T13:04:45.208Z"
   },
   {
    "duration": 1737,
    "start_time": "2021-10-08T13:04:45.209Z"
   },
   {
    "duration": 1736,
    "start_time": "2021-10-08T13:04:45.211Z"
   },
   {
    "duration": 1711,
    "start_time": "2021-10-08T13:04:45.238Z"
   },
   {
    "duration": 1712,
    "start_time": "2021-10-08T13:04:45.239Z"
   },
   {
    "duration": 1711,
    "start_time": "2021-10-08T13:04:45.241Z"
   },
   {
    "duration": 1682,
    "start_time": "2021-10-08T13:04:45.272Z"
   },
   {
    "duration": 1682,
    "start_time": "2021-10-08T13:04:45.274Z"
   },
   {
    "duration": 6,
    "start_time": "2021-10-08T13:05:13.080Z"
   },
   {
    "duration": 44,
    "start_time": "2021-10-08T13:05:13.088Z"
   },
   {
    "duration": 162,
    "start_time": "2021-10-08T13:05:13.135Z"
   },
   {
    "duration": 75,
    "start_time": "2021-10-08T13:05:13.300Z"
   },
   {
    "duration": 1849,
    "start_time": "2021-10-08T13:05:11.529Z"
   },
   {
    "duration": 1850,
    "start_time": "2021-10-08T13:05:11.530Z"
   },
   {
    "duration": 1848,
    "start_time": "2021-10-08T13:05:11.533Z"
   },
   {
    "duration": 1819,
    "start_time": "2021-10-08T13:05:11.563Z"
   },
   {
    "duration": 1789,
    "start_time": "2021-10-08T13:05:11.595Z"
   },
   {
    "duration": 1788,
    "start_time": "2021-10-08T13:05:11.597Z"
   },
   {
    "duration": 1788,
    "start_time": "2021-10-08T13:05:11.598Z"
   },
   {
    "duration": 1788,
    "start_time": "2021-10-08T13:05:11.600Z"
   },
   {
    "duration": 1788,
    "start_time": "2021-10-08T13:05:11.601Z"
   },
   {
    "duration": 1789,
    "start_time": "2021-10-08T13:05:11.602Z"
   },
   {
    "duration": 1786,
    "start_time": "2021-10-08T13:05:11.606Z"
   },
   {
    "duration": 1785,
    "start_time": "2021-10-08T13:05:11.608Z"
   },
   {
    "duration": 1786,
    "start_time": "2021-10-08T13:05:11.609Z"
   },
   {
    "duration": 1786,
    "start_time": "2021-10-08T13:05:11.610Z"
   },
   {
    "duration": 1764,
    "start_time": "2021-10-08T13:05:11.634Z"
   },
   {
    "duration": 1764,
    "start_time": "2021-10-08T13:05:11.636Z"
   },
   {
    "duration": 1736,
    "start_time": "2021-10-08T13:05:11.665Z"
   },
   {
    "duration": 1736,
    "start_time": "2021-10-08T13:05:11.667Z"
   },
   {
    "duration": 1736,
    "start_time": "2021-10-08T13:05:11.668Z"
   },
   {
    "duration": 1733,
    "start_time": "2021-10-08T13:05:11.672Z"
   },
   {
    "duration": 1734,
    "start_time": "2021-10-08T13:05:11.673Z"
   },
   {
    "duration": 1733,
    "start_time": "2021-10-08T13:05:11.675Z"
   },
   {
    "duration": 1733,
    "start_time": "2021-10-08T13:05:11.676Z"
   },
   {
    "duration": 1735,
    "start_time": "2021-10-08T13:05:11.676Z"
   },
   {
    "duration": 1735,
    "start_time": "2021-10-08T13:05:11.677Z"
   },
   {
    "duration": 1711,
    "start_time": "2021-10-08T13:05:11.703Z"
   },
   {
    "duration": 346,
    "start_time": "2021-10-08T13:05:18.902Z"
   },
   {
    "duration": 5,
    "start_time": "2021-10-08T13:05:38.770Z"
   },
   {
    "duration": 13,
    "start_time": "2021-10-08T13:05:38.777Z"
   },
   {
    "duration": 94,
    "start_time": "2021-10-08T13:05:38.793Z"
   },
   {
    "duration": 7,
    "start_time": "2021-10-08T13:05:38.890Z"
   },
   {
    "duration": 14,
    "start_time": "2021-10-08T13:05:38.899Z"
   },
   {
    "duration": 17,
    "start_time": "2021-10-08T13:05:38.916Z"
   },
   {
    "duration": 21,
    "start_time": "2021-10-08T13:05:38.935Z"
   },
   {
    "duration": 10,
    "start_time": "2021-10-08T13:05:38.960Z"
   },
   {
    "duration": 14,
    "start_time": "2021-10-08T13:05:38.972Z"
   },
   {
    "duration": 12,
    "start_time": "2021-10-08T13:05:38.988Z"
   },
   {
    "duration": 17,
    "start_time": "2021-10-08T13:05:39.002Z"
   },
   {
    "duration": 1716,
    "start_time": "2021-10-08T13:05:39.021Z"
   },
   {
    "duration": 1876,
    "start_time": "2021-10-08T13:05:40.740Z"
   },
   {
    "duration": 7,
    "start_time": "2021-10-08T13:05:42.623Z"
   },
   {
    "duration": 5477,
    "start_time": "2021-10-08T13:05:42.632Z"
   },
   {
    "duration": 77,
    "start_time": "2021-10-08T13:05:48.111Z"
   },
   {
    "duration": 1852,
    "start_time": "2021-10-08T13:05:46.339Z"
   },
   {
    "duration": 1851,
    "start_time": "2021-10-08T13:05:46.341Z"
   },
   {
    "duration": 1851,
    "start_time": "2021-10-08T13:05:46.343Z"
   },
   {
    "duration": 1788,
    "start_time": "2021-10-08T13:05:46.407Z"
   },
   {
    "duration": 1787,
    "start_time": "2021-10-08T13:05:46.410Z"
   },
   {
    "duration": 1787,
    "start_time": "2021-10-08T13:05:46.412Z"
   },
   {
    "duration": 1786,
    "start_time": "2021-10-08T13:05:46.414Z"
   },
   {
    "duration": 1784,
    "start_time": "2021-10-08T13:05:46.417Z"
   },
   {
    "duration": 1785,
    "start_time": "2021-10-08T13:05:46.418Z"
   },
   {
    "duration": 1785,
    "start_time": "2021-10-08T13:05:46.419Z"
   },
   {
    "duration": 1786,
    "start_time": "2021-10-08T13:05:46.420Z"
   },
   {
    "duration": 1786,
    "start_time": "2021-10-08T13:05:46.422Z"
   },
   {
    "duration": 1786,
    "start_time": "2021-10-08T13:05:46.423Z"
   },
   {
    "duration": 6,
    "start_time": "2021-10-08T13:06:16.748Z"
   },
   {
    "duration": 10,
    "start_time": "2021-10-08T13:06:16.758Z"
   },
   {
    "duration": 109,
    "start_time": "2021-10-08T13:06:16.772Z"
   },
   {
    "duration": 7,
    "start_time": "2021-10-08T13:06:16.884Z"
   },
   {
    "duration": 11,
    "start_time": "2021-10-08T13:06:16.895Z"
   },
   {
    "duration": 8,
    "start_time": "2021-10-08T13:06:16.909Z"
   },
   {
    "duration": 7,
    "start_time": "2021-10-08T13:06:16.920Z"
   },
   {
    "duration": 10,
    "start_time": "2021-10-08T13:06:16.931Z"
   },
   {
    "duration": 6,
    "start_time": "2021-10-08T13:06:16.944Z"
   },
   {
    "duration": 22,
    "start_time": "2021-10-08T13:06:16.953Z"
   },
   {
    "duration": 19,
    "start_time": "2021-10-08T13:06:16.978Z"
   },
   {
    "duration": 1880,
    "start_time": "2021-10-08T13:06:16.999Z"
   },
   {
    "duration": 1824,
    "start_time": "2021-10-08T13:06:18.883Z"
   },
   {
    "duration": 16,
    "start_time": "2021-10-08T13:06:20.711Z"
   },
   {
    "duration": 390,
    "start_time": "2021-10-08T13:06:20.730Z"
   },
   {
    "duration": 1794,
    "start_time": "2021-10-08T13:06:19.330Z"
   },
   {
    "duration": 1795,
    "start_time": "2021-10-08T13:06:19.331Z"
   },
   {
    "duration": 1796,
    "start_time": "2021-10-08T13:06:19.332Z"
   },
   {
    "duration": 1796,
    "start_time": "2021-10-08T13:06:19.334Z"
   },
   {
    "duration": 1797,
    "start_time": "2021-10-08T13:06:19.335Z"
   },
   {
    "duration": 1798,
    "start_time": "2021-10-08T13:06:19.336Z"
   },
   {
    "duration": 1798,
    "start_time": "2021-10-08T13:06:19.338Z"
   },
   {
    "duration": 1799,
    "start_time": "2021-10-08T13:06:19.339Z"
   },
   {
    "duration": 1801,
    "start_time": "2021-10-08T13:06:19.339Z"
   },
   {
    "duration": 1799,
    "start_time": "2021-10-08T13:06:19.343Z"
   },
   {
    "duration": 1800,
    "start_time": "2021-10-08T13:06:19.344Z"
   },
   {
    "duration": 1801,
    "start_time": "2021-10-08T13:06:19.345Z"
   },
   {
    "duration": 1803,
    "start_time": "2021-10-08T13:06:19.346Z"
   },
   {
    "duration": 5032,
    "start_time": "2021-10-08T13:06:48.756Z"
   },
   {
    "duration": 6,
    "start_time": "2021-10-08T13:06:55.427Z"
   },
   {
    "duration": 17,
    "start_time": "2021-10-08T13:06:55.436Z"
   },
   {
    "duration": 109,
    "start_time": "2021-10-08T13:06:55.455Z"
   },
   {
    "duration": 7,
    "start_time": "2021-10-08T13:06:55.567Z"
   },
   {
    "duration": 15,
    "start_time": "2021-10-08T13:06:55.577Z"
   },
   {
    "duration": 14,
    "start_time": "2021-10-08T13:06:55.594Z"
   },
   {
    "duration": 10,
    "start_time": "2021-10-08T13:06:55.610Z"
   },
   {
    "duration": 14,
    "start_time": "2021-10-08T13:06:55.626Z"
   },
   {
    "duration": 17,
    "start_time": "2021-10-08T13:06:55.643Z"
   },
   {
    "duration": 33,
    "start_time": "2021-10-08T13:06:55.662Z"
   },
   {
    "duration": 15,
    "start_time": "2021-10-08T13:06:55.698Z"
   },
   {
    "duration": 1763,
    "start_time": "2021-10-08T13:06:55.716Z"
   },
   {
    "duration": 1861,
    "start_time": "2021-10-08T13:06:57.482Z"
   },
   {
    "duration": 6,
    "start_time": "2021-10-08T13:06:59.346Z"
   },
   {
    "duration": 5306,
    "start_time": "2021-10-08T13:06:59.354Z"
   },
   {
    "duration": 31,
    "start_time": "2021-10-08T13:07:04.662Z"
   },
   {
    "duration": 48,
    "start_time": "2021-10-08T13:07:04.696Z"
   },
   {
    "duration": 60,
    "start_time": "2021-10-08T13:07:04.746Z"
   },
   {
    "duration": 7,
    "start_time": "2021-10-08T13:07:04.808Z"
   },
   {
    "duration": 248,
    "start_time": "2021-10-08T13:07:04.823Z"
   },
   {
    "duration": 1861,
    "start_time": "2021-10-08T13:07:03.213Z"
   },
   {
    "duration": 1858,
    "start_time": "2021-10-08T13:07:03.217Z"
   },
   {
    "duration": 1859,
    "start_time": "2021-10-08T13:07:03.218Z"
   },
   {
    "duration": 1859,
    "start_time": "2021-10-08T13:07:03.220Z"
   },
   {
    "duration": 1858,
    "start_time": "2021-10-08T13:07:03.222Z"
   },
   {
    "duration": 1858,
    "start_time": "2021-10-08T13:07:03.224Z"
   },
   {
    "duration": 1856,
    "start_time": "2021-10-08T13:07:03.228Z"
   },
   {
    "duration": 1814,
    "start_time": "2021-10-08T13:07:03.271Z"
   },
   {
    "duration": 7,
    "start_time": "2021-10-08T13:07:27.828Z"
   },
   {
    "duration": 11,
    "start_time": "2021-10-08T13:07:27.838Z"
   },
   {
    "duration": 95,
    "start_time": "2021-10-08T13:07:27.852Z"
   },
   {
    "duration": 7,
    "start_time": "2021-10-08T13:07:27.950Z"
   },
   {
    "duration": 16,
    "start_time": "2021-10-08T13:07:27.960Z"
   },
   {
    "duration": 33,
    "start_time": "2021-10-08T13:07:27.979Z"
   },
   {
    "duration": 15,
    "start_time": "2021-10-08T13:07:28.015Z"
   },
   {
    "duration": 28,
    "start_time": "2021-10-08T13:07:28.032Z"
   },
   {
    "duration": 14,
    "start_time": "2021-10-08T13:07:28.064Z"
   },
   {
    "duration": 21,
    "start_time": "2021-10-08T13:07:28.081Z"
   },
   {
    "duration": 18,
    "start_time": "2021-10-08T13:07:28.105Z"
   },
   {
    "duration": 1738,
    "start_time": "2021-10-08T13:07:28.125Z"
   },
   {
    "duration": 1808,
    "start_time": "2021-10-08T13:07:29.865Z"
   },
   {
    "duration": 7,
    "start_time": "2021-10-08T13:07:31.676Z"
   },
   {
    "duration": 5119,
    "start_time": "2021-10-08T13:07:31.685Z"
   },
   {
    "duration": 43,
    "start_time": "2021-10-08T13:07:36.806Z"
   },
   {
    "duration": 32,
    "start_time": "2021-10-08T13:07:36.852Z"
   },
   {
    "duration": 77,
    "start_time": "2021-10-08T13:07:36.886Z"
   },
   {
    "duration": 7,
    "start_time": "2021-10-08T13:07:36.965Z"
   },
   {
    "duration": 470,
    "start_time": "2021-10-08T13:07:36.974Z"
   },
   {
    "duration": 1862,
    "start_time": "2021-10-08T13:07:35.585Z"
   },
   {
    "duration": 1860,
    "start_time": "2021-10-08T13:07:35.588Z"
   },
   {
    "duration": 1806,
    "start_time": "2021-10-08T13:07:35.643Z"
   },
   {
    "duration": 1806,
    "start_time": "2021-10-08T13:07:35.645Z"
   },
   {
    "duration": 1806,
    "start_time": "2021-10-08T13:07:35.646Z"
   },
   {
    "duration": 1806,
    "start_time": "2021-10-08T13:07:35.647Z"
   },
   {
    "duration": 1805,
    "start_time": "2021-10-08T13:07:35.649Z"
   },
   {
    "duration": 1806,
    "start_time": "2021-10-08T13:07:35.650Z"
   },
   {
    "duration": 5,
    "start_time": "2021-10-08T13:07:56.821Z"
   },
   {
    "duration": 13,
    "start_time": "2021-10-08T13:07:56.828Z"
   },
   {
    "duration": 99,
    "start_time": "2021-10-08T13:07:56.844Z"
   },
   {
    "duration": 7,
    "start_time": "2021-10-08T13:07:56.945Z"
   },
   {
    "duration": 10,
    "start_time": "2021-10-08T13:07:56.954Z"
   },
   {
    "duration": 10,
    "start_time": "2021-10-08T13:07:56.966Z"
   },
   {
    "duration": 6,
    "start_time": "2021-10-08T13:07:56.978Z"
   },
   {
    "duration": 8,
    "start_time": "2021-10-08T13:07:56.987Z"
   },
   {
    "duration": 25,
    "start_time": "2021-10-08T13:07:56.999Z"
   },
   {
    "duration": 10,
    "start_time": "2021-10-08T13:07:57.028Z"
   },
   {
    "duration": 12,
    "start_time": "2021-10-08T13:07:57.040Z"
   },
   {
    "duration": 1746,
    "start_time": "2021-10-08T13:07:57.054Z"
   },
   {
    "duration": 1803,
    "start_time": "2021-10-08T13:07:58.802Z"
   },
   {
    "duration": 17,
    "start_time": "2021-10-08T13:08:00.608Z"
   },
   {
    "duration": 4989,
    "start_time": "2021-10-08T13:08:00.628Z"
   },
   {
    "duration": 29,
    "start_time": "2021-10-08T13:08:05.619Z"
   },
   {
    "duration": 30,
    "start_time": "2021-10-08T13:08:05.651Z"
   },
   {
    "duration": 79,
    "start_time": "2021-10-08T13:08:05.683Z"
   },
   {
    "duration": 6,
    "start_time": "2021-10-08T13:08:05.764Z"
   },
   {
    "duration": 33,
    "start_time": "2021-10-08T13:08:05.772Z"
   },
   {
    "duration": 22,
    "start_time": "2021-10-08T13:08:05.807Z"
   },
   {
    "duration": 32,
    "start_time": "2021-10-08T13:08:05.832Z"
   },
   {
    "duration": 24,
    "start_time": "2021-10-08T13:08:05.867Z"
   },
   {
    "duration": 18,
    "start_time": "2021-10-08T13:08:05.894Z"
   },
   {
    "duration": 40,
    "start_time": "2021-10-08T13:08:05.915Z"
   },
   {
    "duration": 22,
    "start_time": "2021-10-08T13:08:05.958Z"
   },
   {
    "duration": 15,
    "start_time": "2021-10-08T13:08:05.986Z"
   },
   {
    "duration": 19,
    "start_time": "2021-10-08T13:08:06.004Z"
   },
   {
    "duration": 73,
    "start_time": "2021-10-08T13:19:25.436Z"
   },
   {
    "duration": 993,
    "start_time": "2021-10-08T18:40:49.042Z"
   },
   {
    "duration": 3,
    "start_time": "2021-10-08T18:40:50.037Z"
   },
   {
    "duration": 1392,
    "start_time": "2021-10-08T18:40:50.042Z"
   },
   {
    "duration": 5,
    "start_time": "2021-10-08T18:40:51.436Z"
   },
   {
    "duration": 16,
    "start_time": "2021-10-08T18:40:51.443Z"
   },
   {
    "duration": 20,
    "start_time": "2021-10-08T18:40:51.461Z"
   },
   {
    "duration": 15,
    "start_time": "2021-10-08T18:40:51.482Z"
   },
   {
    "duration": 17,
    "start_time": "2021-10-08T18:40:51.498Z"
   },
   {
    "duration": 15,
    "start_time": "2021-10-08T18:40:51.517Z"
   },
   {
    "duration": 14,
    "start_time": "2021-10-08T18:40:51.534Z"
   },
   {
    "duration": 21,
    "start_time": "2021-10-08T18:40:51.549Z"
   },
   {
    "duration": 1086,
    "start_time": "2021-10-08T18:40:51.571Z"
   },
   {
    "duration": 1142,
    "start_time": "2021-10-08T18:40:52.659Z"
   },
   {
    "duration": 4,
    "start_time": "2021-10-08T18:40:53.802Z"
   },
   {
    "duration": 237,
    "start_time": "2021-10-08T18:40:53.808Z"
   },
   {
    "duration": 54,
    "start_time": "2021-10-08T18:40:53.992Z"
   },
   {
    "duration": 53,
    "start_time": "2021-10-08T18:40:53.994Z"
   },
   {
    "duration": 53,
    "start_time": "2021-10-08T18:40:53.995Z"
   },
   {
    "duration": 53,
    "start_time": "2021-10-08T18:40:53.996Z"
   },
   {
    "duration": 52,
    "start_time": "2021-10-08T18:40:53.997Z"
   },
   {
    "duration": 51,
    "start_time": "2021-10-08T18:40:53.999Z"
   },
   {
    "duration": 51,
    "start_time": "2021-10-08T18:40:54.000Z"
   },
   {
    "duration": 51,
    "start_time": "2021-10-08T18:40:54.001Z"
   },
   {
    "duration": 47,
    "start_time": "2021-10-08T18:40:54.006Z"
   },
   {
    "duration": 47,
    "start_time": "2021-10-08T18:40:54.007Z"
   },
   {
    "duration": 47,
    "start_time": "2021-10-08T18:40:54.008Z"
   },
   {
    "duration": 25,
    "start_time": "2021-10-08T18:40:54.031Z"
   },
   {
    "duration": 25,
    "start_time": "2021-10-08T18:40:54.032Z"
   },
   {
    "duration": 137,
    "start_time": "2021-10-08T18:43:18.638Z"
   },
   {
    "duration": 147,
    "start_time": "2021-10-08T18:43:23.301Z"
   },
   {
    "duration": 140,
    "start_time": "2021-10-08T18:43:25.521Z"
   },
   {
    "duration": 143,
    "start_time": "2021-10-08T18:43:37.801Z"
   },
   {
    "duration": 11,
    "start_time": "2021-10-08T18:44:26.490Z"
   },
   {
    "duration": 173,
    "start_time": "2021-10-08T18:45:04.043Z"
   },
   {
    "duration": 165,
    "start_time": "2021-10-08T18:45:16.162Z"
   },
   {
    "duration": 154,
    "start_time": "2021-10-08T18:45:48.346Z"
   },
   {
    "duration": 770,
    "start_time": "2021-10-08T18:46:07.437Z"
   },
   {
    "duration": 686,
    "start_time": "2021-10-08T18:46:22.537Z"
   },
   {
    "duration": 149,
    "start_time": "2021-10-08T18:46:56.096Z"
   },
   {
    "duration": 148,
    "start_time": "2021-10-08T18:47:11.882Z"
   },
   {
    "duration": 171,
    "start_time": "2021-10-08T18:47:14.492Z"
   },
   {
    "duration": 193,
    "start_time": "2021-10-08T18:47:36.204Z"
   },
   {
    "duration": 147,
    "start_time": "2021-10-08T18:47:47.211Z"
   },
   {
    "duration": 143,
    "start_time": "2021-10-08T18:47:50.363Z"
   },
   {
    "duration": 540,
    "start_time": "2021-10-08T18:47:58.662Z"
   },
   {
    "duration": 598,
    "start_time": "2021-10-08T18:48:07.184Z"
   },
   {
    "duration": 682,
    "start_time": "2021-10-08T18:48:59.770Z"
   },
   {
    "duration": 3241,
    "start_time": "2021-10-08T18:49:26.712Z"
   },
   {
    "duration": 943,
    "start_time": "2021-10-08T19:21:36.402Z"
   },
   {
    "duration": 1427,
    "start_time": "2021-10-08T19:22:59.085Z"
   },
   {
    "duration": 5,
    "start_time": "2021-10-08T19:23:00.515Z"
   },
   {
    "duration": 195,
    "start_time": "2021-10-08T19:23:00.523Z"
   },
   {
    "duration": 8,
    "start_time": "2021-10-08T19:23:00.721Z"
   },
   {
    "duration": 48,
    "start_time": "2021-10-08T19:23:00.731Z"
   },
   {
    "duration": 16,
    "start_time": "2021-10-08T19:23:00.782Z"
   },
   {
    "duration": 20,
    "start_time": "2021-10-08T19:23:00.801Z"
   },
   {
    "duration": 16,
    "start_time": "2021-10-08T19:23:00.826Z"
   },
   {
    "duration": 8,
    "start_time": "2021-10-08T19:23:00.847Z"
   },
   {
    "duration": 8,
    "start_time": "2021-10-08T19:23:00.858Z"
   },
   {
    "duration": 25,
    "start_time": "2021-10-08T19:23:00.869Z"
   },
   {
    "duration": 1998,
    "start_time": "2021-10-08T19:23:00.897Z"
   },
   {
    "duration": 1951,
    "start_time": "2021-10-08T19:23:02.898Z"
   },
   {
    "duration": 11,
    "start_time": "2021-10-08T19:23:04.851Z"
   },
   {
    "duration": 376,
    "start_time": "2021-10-08T19:23:04.864Z"
   },
   {
    "duration": 123,
    "start_time": "2021-10-08T19:23:05.119Z"
   },
   {
    "duration": 122,
    "start_time": "2021-10-08T19:23:05.122Z"
   },
   {
    "duration": 122,
    "start_time": "2021-10-08T19:23:05.123Z"
   },
   {
    "duration": 122,
    "start_time": "2021-10-08T19:23:05.124Z"
   },
   {
    "duration": 122,
    "start_time": "2021-10-08T19:23:05.126Z"
   },
   {
    "duration": 122,
    "start_time": "2021-10-08T19:23:05.127Z"
   },
   {
    "duration": 120,
    "start_time": "2021-10-08T19:23:05.130Z"
   },
   {
    "duration": 120,
    "start_time": "2021-10-08T19:23:05.131Z"
   },
   {
    "duration": 120,
    "start_time": "2021-10-08T19:23:05.132Z"
   },
   {
    "duration": 66,
    "start_time": "2021-10-08T19:23:05.187Z"
   },
   {
    "duration": 64,
    "start_time": "2021-10-08T19:23:05.190Z"
   },
   {
    "duration": 64,
    "start_time": "2021-10-08T19:23:05.191Z"
   },
   {
    "duration": 62,
    "start_time": "2021-10-08T19:23:05.194Z"
   },
   {
    "duration": 62,
    "start_time": "2021-10-08T19:23:05.195Z"
   },
   {
    "duration": 5657,
    "start_time": "2021-10-08T19:23:17.022Z"
   },
   {
    "duration": 5821,
    "start_time": "2021-10-08T19:27:52.624Z"
   }
  ],
  "kernelspec": {
   "display_name": "Python 3",
   "language": "python",
   "name": "python3"
  },
  "language_info": {
   "codemirror_mode": {
    "name": "ipython",
    "version": 3
   },
   "file_extension": ".py",
   "mimetype": "text/x-python",
   "name": "python",
   "nbconvert_exporter": "python",
   "pygments_lexer": "ipython3",
   "version": "3.10.0"
  },
  "toc": {
   "base_numbering": 1,
   "nav_menu": {
    "height": "220px",
    "width": "192px"
   },
   "number_sections": true,
   "sideBar": true,
   "skip_h1_title": true,
   "title_cell": "Table of Contents",
   "title_sidebar": "Contents",
   "toc_cell": false,
   "toc_position": {},
   "toc_section_display": true,
   "toc_window_display": true
  },
  "vscode": {
   "interpreter": {
    "hash": "d488093d919f573c925b0a84f2a24fea75905f9dd1b6664dfb65159487c96672"
   }
  }
 },
 "nbformat": 4,
 "nbformat_minor": 1
}

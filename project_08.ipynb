{
 "cells": [
  {
   "attachments": {},
   "cell_type": "markdown",
   "metadata": {},
   "source": [
    "<h1><center>Выбор локации для нефтеной скважины</center></h1>"
   ]
  },
  {
   "cell_type": "markdown",
   "metadata": {
    "pycharm": {
     "name": "#%% md\n"
    }
   },
   "source": [
    "## Введение"
   ]
  },
  {
   "attachments": {},
   "cell_type": "markdown",
   "metadata": {
    "pycharm": {
     "name": "#%% md\n"
    }
   },
   "source": [
    "Описание проекта:\n",
    "Заказ компании «ГлавРосГосНефть». Нужно решить, где бурить новую скважину.\n",
    "\n",
    "Нам предоставлены пробы нефти в трёх регионах: в каждом 10 000 месторождений, где измерили качество нефти и объём её запасов. Построим модель машинного обучения, которая поможет определить регион, где добыча принесёт наибольшую прибыль. Проанализируем возможную прибыль и риски техникой *Bootstrap.*\n",
    "\n",
    "Шаги для выбора локации:\n",
    "\n",
    "- В избранном регионе ищут месторождения, для каждого определяют значения признаков;\n",
    "- Строят модель и оценивают объём запасов;\n",
    "- Выбирают месторождения с самым высокими оценками значений. Количество месторождений зависит от бюджета компании и стоимости разработки одной скважины;\n",
    "- Прибыль равна суммарной прибыли отобранных месторождений.\n"
   ]
  },
  {
   "cell_type": "markdown",
   "metadata": {
    "pycharm": {
     "name": "#%% md\n"
    }
   },
   "source": [
    "Условия задачи:\n",
    "\n",
    "Для обучения модели подходит только линейная регрессия (остальные — недостаточно предсказуемые).\n",
    "При разведке региона исследуют 500 точек, из которых с помощью машинного обучения выбирают 200 лучших для разработки.\n",
    "Бюджет на разработку скважин в регионе — 10 млрд рублей.\n",
    "При нынешних ценах один баррель сырья приносит 450 рублей дохода. Доход с каждой единицы продукта составляет 450 тыс. рублей, поскольку объём указан в тысячах баррелей.\n",
    "После оценки рисков нужно оставить лишь те регионы, в которых вероятность убытков меньше 2.5%. Среди них выбирают регион с наибольшей средней прибылью."
   ]
  },
  {
   "cell_type": "markdown",
   "metadata": {
    "pycharm": {
     "name": "#%% md\n"
    }
   },
   "source": [
    "Алгоритм работы:\n",
    "   1. Введение\n",
    "   2. Обзор данных\n",
    "   3. Поготовка данных\n",
    "   4. Обучение моделей\n",
    "   5. Подсчет максимальной прибыли для каждого региона\n",
    "   6. Оценка рисков\n",
    "   7. Общий вывод\n",
    "\n",
    "Описание данных\n",
    "Данные геологоразведки трёх регионов находятся в файлах:\n",
    "\n",
    "    /datasets/geo_data_0.csv. Скачать датасет\n",
    "    /datasets/geo_data_1.csv. Скачать датасет\n",
    "    /datasets/geo_data_2.csv. Скачать датасет\n",
    "\n",
    "    id — уникальный идентификатор скважины;\n",
    "    f0, f1, f2 — три признака точек;\n",
    "    product — объём запасов в скважине (тыс. баррелей)."
   ]
  },
  {
   "cell_type": "markdown",
   "metadata": {
    "pycharm": {
     "name": "#%% md\n"
    }
   },
   "source": [
    "## Обзор данных"
   ]
  },
  {
   "cell_type": "markdown",
   "metadata": {},
   "source": [
    "Импортируем библиотеки"
   ]
  },
  {
   "cell_type": "code",
   "execution_count": 224,
   "metadata": {
    "pycharm": {
     "name": "#%%\n"
    }
   },
   "outputs": [],
   "source": [
    "import urllib.request\n",
    "import pandas as pd\n",
    "import numpy as np\n",
    "from sklearn.linear_model import LinearRegression\n",
    "from sklearn.model_selection import train_test_split\n",
    "from os import path\n",
    "from pathlib import Path\n",
    "from sklearn.metrics import mean_squared_error\n"
   ]
  },
  {
   "cell_type": "markdown",
   "metadata": {
    "pycharm": {
     "name": "#%% md\n"
    }
   },
   "source": [
    "Загрузим и посмотрим датасет"
   ]
  },
  {
   "cell_type": "code",
   "execution_count": 225,
   "metadata": {
    "pycharm": {
     "name": "#%%\n"
    }
   },
   "outputs": [
    {
     "name": "stdout",
     "output_type": "stream",
     "text": [
      "<class 'pandas.core.frame.DataFrame'>\n",
      "RangeIndex: 100000 entries, 0 to 99999\n",
      "Data columns (total 5 columns):\n",
      " #   Column   Non-Null Count   Dtype  \n",
      "---  ------   --------------   -----  \n",
      " 0   id       100000 non-null  object \n",
      " 1   f0       100000 non-null  float64\n",
      " 2   f1       100000 non-null  float64\n",
      " 3   f2       100000 non-null  float64\n",
      " 4   product  100000 non-null  float64\n",
      "dtypes: float64(4), object(1)\n",
      "memory usage: 3.8+ MB\n"
     ]
    }
   ],
   "source": [
    "YANDEX_DATASETS_PATH = 'https://code.s3.yandex.net/datasets/'\n",
    "dataset_folder = 'datasets'\n",
    "dataset_list = ['geo_data_0.csv', 'geo_data_1.csv', 'geo_data_2.csv']\n",
    "\n",
    "#download dataset if not existed\n",
    "for dataset_name in dataset_list:\n",
    "    if not path.exists(dataset_folder + '/' + dataset_name):\n",
    "        #create dir if not existed\n",
    "        Path(dataset_folder).mkdir(parents=True, exist_ok=True)\n",
    "\n",
    "        #download dataset\n",
    "        urllib.request.urlretrieve(YANDEX_DATASETS_PATH + dataset_name,\n",
    "                                   dataset_folder + '/' + dataset_name)\n",
    "\n",
    "geo_0 = pd.read_csv(dataset_folder + '/' + dataset_list[0])\n",
    "geo_1 = pd.read_csv(dataset_folder + '/' + dataset_list[1])\n",
    "geo_2 = pd.read_csv(dataset_folder + '/' + dataset_list[2])\n",
    "geo_0.info()"
   ]
  },
  {
   "cell_type": "code",
   "execution_count": 226,
   "metadata": {
    "pycharm": {
     "name": "#%%\n"
    }
   },
   "outputs": [
    {
     "name": "stdout",
     "output_type": "stream",
     "text": [
      "<class 'pandas.core.frame.DataFrame'>\n",
      "RangeIndex: 100000 entries, 0 to 99999\n",
      "Data columns (total 5 columns):\n",
      " #   Column   Non-Null Count   Dtype  \n",
      "---  ------   --------------   -----  \n",
      " 0   id       100000 non-null  object \n",
      " 1   f0       100000 non-null  float64\n",
      " 2   f1       100000 non-null  float64\n",
      " 3   f2       100000 non-null  float64\n",
      " 4   product  100000 non-null  float64\n",
      "dtypes: float64(4), object(1)\n",
      "memory usage: 3.8+ MB\n"
     ]
    }
   ],
   "source": [
    "geo_1.info()"
   ]
  },
  {
   "cell_type": "code",
   "execution_count": 227,
   "metadata": {
    "pycharm": {
     "name": "#%%\n"
    }
   },
   "outputs": [
    {
     "name": "stdout",
     "output_type": "stream",
     "text": [
      "<class 'pandas.core.frame.DataFrame'>\n",
      "RangeIndex: 100000 entries, 0 to 99999\n",
      "Data columns (total 5 columns):\n",
      " #   Column   Non-Null Count   Dtype  \n",
      "---  ------   --------------   -----  \n",
      " 0   id       100000 non-null  object \n",
      " 1   f0       100000 non-null  float64\n",
      " 2   f1       100000 non-null  float64\n",
      " 3   f2       100000 non-null  float64\n",
      " 4   product  100000 non-null  float64\n",
      "dtypes: float64(4), object(1)\n",
      "memory usage: 3.8+ MB\n"
     ]
    }
   ],
   "source": [
    "geo_2.info()"
   ]
  },
  {
   "cell_type": "code",
   "execution_count": 228,
   "metadata": {
    "pycharm": {
     "name": "#%%\n"
    }
   },
   "outputs": [
    {
     "data": {
      "text/plain": [
       "<AxesSubplot:>"
      ]
     },
     "execution_count": 228,
     "metadata": {},
     "output_type": "execute_result"
    },
    {
     "data": {
      "image/png": "[encoded data removed]",
      "text/plain": [
       "<Figure size 432x288 with 1 Axes>"
      ]
     },
     "metadata": {
      "needs_background": "light"
     },
     "output_type": "display_data"
    }
   ],
   "source": [
    "geo_0['product'].hist()"
   ]
  },
  {
   "cell_type": "code",
   "execution_count": 229,
   "metadata": {
    "pycharm": {
     "name": "#%%\n"
    }
   },
   "outputs": [
    {
     "data": {
      "text/plain": [
       "<AxesSubplot:>"
      ]
     },
     "execution_count": 229,
     "metadata": {},
     "output_type": "execute_result"
    },
    {
     "data": {
      "image/png": "[encoded data removed]",
      "text/plain": [
       "<Figure size 432x288 with 1 Axes>"
      ]
     },
     "metadata": {
      "needs_background": "light"
     },
     "output_type": "display_data"
    }
   ],
   "source": [
    "geo_1['product'].hist()"
   ]
  },
  {
   "cell_type": "code",
   "execution_count": 230,
   "metadata": {
    "pycharm": {
     "name": "#%%\n"
    }
   },
   "outputs": [
    {
     "data": {
      "text/plain": [
       "<AxesSubplot:>"
      ]
     },
     "execution_count": 230,
     "metadata": {},
     "output_type": "execute_result"
    },
    {
     "data": {
      "image/png": "[encoded data removed]",
      "text/plain": [
       "<Figure size 432x288 with 1 Axes>"
      ]
     },
     "metadata": {
      "needs_background": "light"
     },
     "output_type": "display_data"
    }
   ],
   "source": [
    "geo_2['product'].hist()"
   ]
  },
  {
   "cell_type": "markdown",
   "metadata": {
    "pycharm": {
     "name": "#%% md\n"
    }
   },
   "source": [
    "Вывод: распределение количества запасов в регонах 0 и 2 имеет форму нормального распределения."
   ]
  },
  {
   "cell_type": "markdown",
   "metadata": {
    "pycharm": {
     "name": "#%% md\n"
    }
   },
   "source": [
    "## Подготовка данных"
   ]
  },
  {
   "cell_type": "markdown",
   "metadata": {
    "pycharm": {
     "name": "#%% md\n"
    }
   },
   "source": [
    "Создадим листы features и targets с исходными данными\n"
   ]
  },
  {
   "cell_type": "code",
   "execution_count": 231,
   "metadata": {
    "pycharm": {
     "name": "#%%\n"
    }
   },
   "outputs": [],
   "source": [
    "X = []\n",
    "y = []\n",
    "geo = []\n",
    "\n",
    "geo.extend([geo_0,\n",
    "            geo_1,\n",
    "            geo_2])\n",
    "\n",
    "X.extend([geo_0[['f0', 'f1', 'f2']],\n",
    "          geo_1[['f0', 'f1', 'f2']],\n",
    "          geo_2[['f0', 'f1', 'f2']]])\n",
    "\n",
    "y.extend([geo_0[['product']],\n",
    "          geo_1[['product']],\n",
    "          geo_2[['product']]])\n"
   ]
  },
  {
   "cell_type": "markdown",
   "metadata": {
    "pycharm": {
     "name": "#%% md\n"
    }
   },
   "source": [
    "Разделим данные на обучающую и валидационную выборки. Для этого напишем функцию разделения выборки. Функция возвращает словарь по каждой из выборок.\n",
    "Например:\n",
    "\n",
    "\n",
    " df_data['train']['X'] - это features обучающей выборки\n",
    "\n",
    "\n",
    " df_data['valid']['y'] - это targets валидационной выборки"
   ]
  },
  {
   "cell_type": "code",
   "execution_count": 232,
   "metadata": {
    "pycharm": {
     "name": "#%%\n"
    }
   },
   "outputs": [],
   "source": [
    "def split_train_valid_test(X, y, valid_test_size):\n",
    "\n",
    "    X_train, X_valid, y_train, y_valid = train_test_split(X, y, test_size=valid_test_size, random_state=123)\n",
    "\n",
    "    df_data = {'train': {'X': X_train, 'y': y_train},\n",
    "               'valid': {'X': X_valid, 'y': y_valid}}\n",
    "\n",
    "    return df_data"
   ]
  },
  {
   "cell_type": "markdown",
   "metadata": {
    "pycharm": {
     "name": "#%% md\n"
    }
   },
   "source": [
    "Разделим выборки:"
   ]
  },
  {
   "cell_type": "code",
   "execution_count": 233,
   "metadata": {
    "pycharm": {
     "name": "#%%\n"
    }
   },
   "outputs": [],
   "source": [
    "data_geo = ['']*3\n",
    "\n",
    "for i in range(3):\n",
    "    data_geo[i] = split_train_valid_test(X[i], y[i], 0.25)"
   ]
  },
  {
   "cell_type": "markdown",
   "metadata": {
    "pycharm": {
     "name": "#%% md\n"
    }
   },
   "source": [
    "Вывод: разделили данные на тренировочный и валидационный сет в соотношение 3 к 1."
   ]
  },
  {
   "cell_type": "markdown",
   "metadata": {
    "pycharm": {
     "name": "#%% md\n"
    }
   },
   "source": [
    "## Обучение моделей"
   ]
  },
  {
   "cell_type": "markdown",
   "metadata": {
    "pycharm": {
     "name": "#%% md\n"
    }
   },
   "source": [
    "Обучим модель линейной регрессии для каждой из выборок"
   ]
  },
  {
   "cell_type": "code",
   "execution_count": 234,
   "metadata": {
    "pycharm": {
     "name": "#%%\n"
    }
   },
   "outputs": [],
   "source": [
    "model_geo = ['']*3\n",
    "\n",
    "for i in range(3):\n",
    "    model_geo[i] = LinearRegression().fit(data_geo[i]['train']['X'], data_geo[i]['train']['y'])\n"
   ]
  },
  {
   "cell_type": "markdown",
   "metadata": {
    "pycharm": {
     "name": "#%% md\n"
    }
   },
   "source": []
  },
  {
   "cell_type": "markdown",
   "metadata": {
    "pycharm": {
     "name": "#%% md\n"
    }
   },
   "source": [
    "Сделаем предсказания, подсчитаем среднее и rmse"
   ]
  },
  {
   "cell_type": "code",
   "execution_count": 235,
   "metadata": {
    "pycharm": {
     "name": "#%%\n"
    }
   },
   "outputs": [],
   "source": [
    "geo_predict = ['']*3\n",
    "geo_rmse = ['']*3\n",
    "geo_mean = ['']*3\n",
    "\n",
    "for i in range(3):\n",
    "    geo_predict[i] = model_geo[i].predict(data_geo[i]['valid']['X'])\n",
    "    geo_rmse[i] = mean_squared_error(data_geo[i]['valid']['y'], geo_predict[i], squared=False)\n",
    "    geo_mean[i] = geo_predict[i].mean()"
   ]
  },
  {
   "cell_type": "markdown",
   "metadata": {
    "pycharm": {
     "name": "#%% md\n"
    }
   },
   "source": [
    "Результаты занесем в таблицу"
   ]
  },
  {
   "cell_type": "code",
   "execution_count": 236,
   "metadata": {
    "pycharm": {
     "name": "#%%\n"
    }
   },
   "outputs": [
    {
     "name": "stdout",
     "output_type": "stream",
     "text": [
      "        mean       rmse\n",
      "0  92.549362  37.647863\n",
      "1  69.280019   0.895414\n",
      "2  95.098599  40.128030\n"
     ]
    }
   ],
   "source": [
    "results = {'mean':[geo_mean[0], geo_mean[1], geo_mean[2]], 'rmse':[geo_rmse[0], geo_rmse[1], geo_rmse[2]]}\n",
    "print(pd.DataFrame(results))"
   ]
  },
  {
   "cell_type": "markdown",
   "metadata": {
    "pycharm": {
     "name": "#%% md\n"
    }
   },
   "source": [
    "Вывод: наибольшое среднее значение предсказаний у региона номер \"2\". У него же наибольшее rmse. Наименьшее среднее у скважины номер \"1\". У нее же наименьшее rmse, почти равное нулю."
   ]
  },
  {
   "cell_type": "markdown",
   "metadata": {
    "pycharm": {
     "name": "#%% md\n"
    }
   },
   "source": [
    "## Подсчет максимальной прибыли для каждого региона"
   ]
  },
  {
   "cell_type": "markdown",
   "metadata": {
    "pycharm": {
     "name": "#%% md\n"
    }
   },
   "source": [
    "Занесем бюджет(budget), доход с каждой единицы продукта(product_profit), количество скважин(n), вероятность убытков(probs) в соответствующие переменные"
   ]
  },
  {
   "cell_type": "code",
   "execution_count": 237,
   "metadata": {
    "pycharm": {
     "name": "#%%\n"
    }
   },
   "outputs": [],
   "source": [
    "BUDGET = 10 * (10 ** 9)\n",
    "PRODUCT_PROFIT = 450000\n",
    "N = 200"
   ]
  },
  {
   "cell_type": "markdown",
   "metadata": {
    "pycharm": {
     "name": "#%% md\n"
    }
   },
   "source": [
    "Подсчитаем общее количество продукта(сырья в тыс. баррелей), необходимое для окупаемости"
   ]
  },
  {
   "cell_type": "code",
   "execution_count": 238,
   "metadata": {
    "pycharm": {
     "name": "#%%\n"
    }
   },
   "outputs": [
    {
     "data": {
      "text/plain": [
       "22222.222222222223"
      ]
     },
     "execution_count": 238,
     "metadata": {},
     "output_type": "execute_result"
    }
   ],
   "source": [
    "PRODUCT_VOLUME = BUDGET / PRODUCT_PROFIT\n",
    "PRODUCT_VOLUME"
   ]
  },
  {
   "cell_type": "markdown",
   "metadata": {
    "pycharm": {
     "name": "#%% md\n"
    }
   },
   "source": [
    "Разделим его на количество разрабатываемых скважин и найдем среднее."
   ]
  },
  {
   "cell_type": "code",
   "execution_count": 239,
   "metadata": {
    "pycharm": {
     "name": "#%%\n"
    }
   },
   "outputs": [
    {
     "data": {
      "text/plain": [
       "111.11111111111111"
      ]
     },
     "execution_count": 239,
     "metadata": {},
     "output_type": "execute_result"
    }
   ],
   "source": [
    "PRODUCT_MEAN = PRODUCT_VOLUME / N\n",
    "PRODUCT_MEAN"
   ]
  },
  {
   "cell_type": "markdown",
   "metadata": {
    "pycharm": {
     "name": "#%% md\n"
    }
   },
   "source": [
    "Это среднее количество сырья в скважине, необходимое для окупаемости. Это значение больше, чем предсказанные средние для каждого региона"
   ]
  },
  {
   "cell_type": "markdown",
   "metadata": {
    "pycharm": {
     "name": "#%% md\n"
    }
   },
   "source": [
    "Сделаем функцию для расчёта прибыли по предсказаным данным"
   ]
  },
  {
   "cell_type": "code",
   "execution_count": 240,
   "metadata": {
    "pycharm": {
     "name": "#%%\n"
    }
   },
   "outputs": [],
   "source": [
    "def predict_profit(df_values):\n",
    "    geo_predict_best = df_values.sort_values(by='predict', ascending=False)[:200]\n",
    "    geo_predict_profit = geo_predict_best['product'].sum() * PRODUCT_PROFIT\n",
    "    return (geo_predict_profit - BUDGET) / 1000000000"
   ]
  },
  {
   "cell_type": "markdown",
   "metadata": {
    "pycharm": {
     "name": "#%% md\n"
    }
   },
   "source": [
    "Посчитаем прибыль для скаважин с максимальными значениями предсказаний для каждого региона. Результат округлен до млрд руб"
   ]
  },
  {
   "cell_type": "code",
   "execution_count": 241,
   "metadata": {
    "pycharm": {
     "name": "#%%\n"
    }
   },
   "outputs": [
    {
     "name": "stdout",
     "output_type": "stream",
     "text": [
      "3.534670917261383\n",
      "2.4150866966815108\n",
      "2.3703438630213736\n"
     ]
    }
   ],
   "source": [
    "geo_profit = ['']*3\n",
    "\n",
    "for i in range(3):\n",
    "    values = geo[i].loc[data_geo[i]['valid']['X'].index]\n",
    "    values['predict'] = geo_predict[i]\n",
    "    geo_profit[i] = predict_profit(values)\n",
    "    print(geo_profit[i])"
   ]
  },
  {
   "cell_type": "markdown",
   "metadata": {
    "pycharm": {
     "name": "#%% md\n"
    }
   },
   "source": [
    "Вывод: для скважин с максимальными предсказанными запасами сырья наибольшая прибыль у региона 0. Наименьшая у региона \"2\""
   ]
  },
  {
   "cell_type": "markdown",
   "metadata": {
    "pycharm": {
     "name": "#%% md\n"
    }
   },
   "source": [
    "## Оценка рисков"
   ]
  },
  {
   "cell_type": "markdown",
   "metadata": {
    "pycharm": {
     "name": "#%% md\n"
    }
   },
   "source": [
    "Оценим риски разработки скважин методом bootstrap. Для этого возьмем предсказанные значения и из них 1000 раз выберем 500 случайных скважин. Найдем прибыль для каждой из выборок, а затем найдем среднюю прибыль, доверительный интервал в 95% и шанс отрицательной прибыли."
   ]
  },
  {
   "cell_type": "code",
   "execution_count": 242,
   "metadata": {
    "pycharm": {
     "name": "#%%\n"
    }
   },
   "outputs": [],
   "source": [
    "bootstrap_samples = 1000\n",
    "state = np.random.RandomState(12345)\n",
    "profit_results = pd.DataFrame(columns=[\"mean\", \"lower\", \"upper\", \"negative_profit_prob\"])\n",
    "\n",
    "for k in range(3):\n",
    "    sample_profit_list = []\n",
    "\n",
    "    for i in range(bootstrap_samples):\n",
    "        sample = data_geo[k]['valid']['X'].sample(frac=0.02, replace=False, random_state=state)\n",
    "        sample_data = geo[k].loc[sample.index]\n",
    "        sample_predict = model_geo[k].predict(sample)\n",
    "        sample_data['predict'] = sample_predict\n",
    "        sample_predict_profit = predict_profit(sample_data)\n",
    "        sample_profit_list.append(sample_predict_profit)\n",
    "\n",
    "    sample_profit_series = pd.Series(sample_profit_list)\n",
    "    profit_mean = sample_profit_series.mean()\n",
    "    lower = sample_profit_series.quantile(0.025)\n",
    "    upper = sample_profit_series.quantile(0.975)\n",
    "    negative_profit_prob = (sample_profit_series < 0).mean()\n",
    "    series = pd.Series([profit_mean, lower, upper, negative_profit_prob], index=profit_results.columns)\n",
    "    profit_results = profit_results.append(series, ignore_index=True)\n"
   ]
  },
  {
   "cell_type": "markdown",
   "metadata": {
    "pycharm": {
     "name": "#%% md\n"
    }
   },
   "source": [
    "Посмотрим результаты:"
   ]
  },
  {
   "cell_type": "code",
   "execution_count": 243,
   "metadata": {
    "pycharm": {
     "name": "#%%\n"
    }
   },
   "outputs": [
    {
     "data": {
      "text/html": [
       "<div>\n",
       "<style scoped>\n",
       "    .dataframe tbody tr th:only-of-type {\n",
       "        vertical-align: middle;\n",
       "    }\n",
       "\n",
       "    .dataframe tbody tr th {\n",
       "        vertical-align: top;\n",
       "    }\n",
       "\n",
       "    .dataframe thead th {\n",
       "        text-align: right;\n",
       "    }\n",
       "</style>\n",
       "<table border=\"1\" class=\"dataframe\">\n",
       "  <thead>\n",
       "    <tr style=\"text-align: right;\">\n",
       "      <th></th>\n",
       "      <th>mean</th>\n",
       "      <th>lower</th>\n",
       "      <th>upper</th>\n",
       "      <th>negative_profit_prob</th>\n",
       "    </tr>\n",
       "  </thead>\n",
       "  <tbody>\n",
       "    <tr>\n",
       "      <th>0</th>\n",
       "      <td>0.489536</td>\n",
       "      <td>0.005488</td>\n",
       "      <td>0.975341</td>\n",
       "      <td>0.023</td>\n",
       "    </tr>\n",
       "    <tr>\n",
       "      <th>1</th>\n",
       "      <td>0.459929</td>\n",
       "      <td>0.078069</td>\n",
       "      <td>0.860812</td>\n",
       "      <td>0.010</td>\n",
       "    </tr>\n",
       "    <tr>\n",
       "      <th>2</th>\n",
       "      <td>0.337149</td>\n",
       "      <td>-0.198666</td>\n",
       "      <td>0.846866</td>\n",
       "      <td>0.101</td>\n",
       "    </tr>\n",
       "  </tbody>\n",
       "</table>\n",
       "</div>"
      ],
      "text/plain": [
       "       mean     lower     upper  negative_profit_prob\n",
       "0  0.489536  0.005488  0.975341                 0.023\n",
       "1  0.459929  0.078069  0.860812                 0.010\n",
       "2  0.337149 -0.198666  0.846866                 0.101"
      ]
     },
     "execution_count": 243,
     "metadata": {},
     "output_type": "execute_result"
    }
   ],
   "source": [
    "profit_results.head()"
   ]
  },
  {
   "cell_type": "markdown",
   "metadata": {
    "pycharm": {
     "name": "#%% md\n"
    }
   },
   "source": [
    "Вывод: риски отрицальной прибыли ниже заявленных требований в 2.5% в 2-ух регионах: \"0\" и \"1\". Наибольшая средняя прибыль у региона 0."
   ]
  },
  {
   "cell_type": "markdown",
   "metadata": {
    "pycharm": {
     "name": "#%% md\n"
    }
   },
   "source": [
    "## Общий Вывод"
   ]
  },
  {
   "cell_type": "markdown",
   "metadata": {},
   "source": [
    "Мы провели исследование по выбору локации для бурения скважин. Целью работы было оценка рисков и расчет средней прибыли для каждого региона. Чтобы, впоследствии выбрать регион для разработки с наилучшими показателями. Мы разделили выборки на обучающую и валидационую. Построив модели линейной регрессии для каждого региона и посчитав риски методом bootstrap, мы получили следующие результаты:\n",
    "\n",
    "- Регион 0: сред. прибыль 0.49 млрд руб. Риск убытков: 2.3%\n",
    "- Регион 1: сред. прибыль 0.46 млрд руб. Риск убытков: 1.0%\n",
    "- Регион 2: сред. прибыль 0.33 млрд руб. Риск убытков: 10.0%\n",
    "\n",
    "\n",
    "По заявленной задаче риск убытков должен быть меньше 2.5%. Только регионы \"0\" и \"1\" показали значения меньшее этого. Самая высокая прогнозируемая средняя прибыль в регионе номер \"0\". Следовательно, это и есть регион рекомендуемый для разработки скважин."
   ]
  },
  {
   "cell_type": "code",
   "execution_count": 243,
   "metadata": {
    "pycharm": {
     "name": "#%%\n"
    }
   },
   "outputs": [],
   "source": []
  }
 ],
 "metadata": {
  "kernelspec": {
   "display_name": "Python 3",
   "language": "python",
   "name": "python3"
  },
  "language_info": {
   "codemirror_mode": {
    "name": "ipython",
    "version": 3
   },
   "file_extension": ".py",
   "mimetype": "text/x-python",
   "name": "python",
   "nbconvert_exporter": "python",
   "pygments_lexer": "ipython3",
   "version": "3.10.0 (tags/v3.10.0:b494f59, Oct  4 2021, 19:00:18) [MSC v.1929 64 bit (AMD64)]"
  },
  "toc": {
   "base_numbering": 1,
   "nav_menu": {},
   "number_sections": true,
   "sideBar": true,
   "skip_h1_title": true,
   "title_cell": "Table of Contents",
   "title_sidebar": "Contents",
   "toc_cell": false,
   "toc_position": {},
   "toc_section_display": true,
   "toc_window_display": false
  },
  "vscode": {
   "interpreter": {
    "hash": "d488093d919f573c925b0a84f2a24fea75905f9dd1b6664dfb65159487c96672"
   }
  }
 },
 "nbformat": 4,
 "nbformat_minor": 1
}

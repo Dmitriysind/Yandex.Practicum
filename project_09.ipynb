{
 "cells": [
  {
   "cell_type": "markdown",
   "metadata": {},
   "source": [
    "## Введение"
   ]
  },
  {
   "cell_type": "markdown",
   "metadata": {
    "pycharm": {
     "name": "#%% md\n"
    }
   },
   "source": [
    "Описание проекта:\n",
    "Заказчик этого исследования — сеть отелей «Как в гостях».\n",
    "Чтобы привлечь клиентов, сеть отелей добавила на свой сайт возможность забронировать номер без предоплаты. Однако если клиент отменял бронирование, то компания терпела убытки. Сотрудники отеля могли, например, закупить продукты к приезду гостя или просто не успеть найти другого клиента.\n",
    "Чтобы решить эту проблему, нам нужно разработать систему, которая предсказывает отказ от брони. Если модель покажет, что бронь будет отменена, то клиенту предлагается внести депозит. Размер депозита — 80% от стоимости номера. Деньги будут списаны со счёта клиента, если он всё же отменит бронь.\n",
    "\n",
    "\n",
    "Бизнес-модель и другие данные:\n",
    "\n",
    "\n",
    "Основная бизнес-метрика для любой сети отелей — её прибыль. Прибыль отеля — это разница между стоимостью номера за все ночи и затраты на разовое обслуживание: как при подготовке номера, так и при проживании постояльца.\n",
    "В отеле есть несколько типов номеров. В зависимости от типа номера назначается стоимость за одну ночь. Есть также затраты на уборку. Если клиент снял номер надолго, то убираются каждые два дня.\n",
    "Стоимость номеров отеля:\n",
    "\n",
    "    категория A: за ночь — 1 000, разовое обслуживание — 400;\n",
    "    категория B: за ночь — 800,   разовое обслуживание — 350;\n",
    "    категория C: за ночь — 600,   разовое обслуживание — 350;\n",
    "    категория D: за ночь — 550,   разовое обслуживание — 150;\n",
    "    категория E: за ночь — 500,   разовое обслуживание — 150;\n",
    "    категория F: за ночь — 450,   разовое обслуживание — 150;\n",
    "    категория G: за ночь — 350,   разовое обслуживание — 150;\n",
    "    категория H: за ночь — 300,   разовое обслуживание — 100.\n",
    "\n",
    "В ценовой политике отеля используются сезонные коэффициенты: весной и осенью цены повышаются на 20%, летом — на 40%.\n",
    "На разработку системы прогнозирования заложен бюджет — 400 000. При этом необходимо учесть, что внедрение модели должно окупиться. Затраты на разработку должны быть меньше той выручки, которую система принесёт компании."
   ]
  },
  {
   "cell_type": "markdown",
   "metadata": {},
   "source": [
    "Алгоритм работы:\n",
    "   1. Введение\n",
    "   2. Обзор и предобработка данных\n",
    "   3. Построение существующей бизнес-модели отеля\n",
    "   4. Разработка модели ненадежного клиента\n",
    "   5. Опишем портрет «ненадёжного» клиента\n",
    "   6. Рассчет прибыли внедрения модели\n",
    "   7. Общий вывод\n",
    "\n",
    "Описание данных:\n",
    "/datasets/hotel_train.csv — данные для обучения модели.\n",
    "/datasets/hotel_test.csv — данные для тестирования модели.\n",
    "\n",
    "\n",
    "Известно:\n",
    "\n",
    "    ADR — средняя дневная загрузка;\n",
    "    Adults — количество взрослых постояльцев;\n",
    "    Agent — агент, через которого сделан заказ;\n",
    "    AssignedRoomType — тип номера;\n",
    "    Babies — количество младенцев;\n",
    "    BookingChanges — количество изменений параметров заказа;\n",
    "    Children — количество детей от 3 до 14 лет;\n",
    "    CompanyID — ID компании или юридического лица, ответственных за бронирование.\n",
    "    Country — гражданство постояльца;\n",
    "    CustomerType — тип заказчика:\n",
    "        Contract — договор с юридическим лицом;\n",
    "        Group — групповой заезд;\n",
    "        Transient — не связано с договором или групповым заездом;\n",
    "        Transient-party — не связано с договором или групповым заездом, но связано с бронированием типа Transient.\n",
    "    DaysInWaitingList — сколько дней заказ ожидал подтверждения;\n",
    "    DistributionChannel — канал дистрибуции заказа;\n",
    "    IsCanceled — отмена заказа;\n",
    "    IsRepeatedGuest — признак того, что гость бронирует номер второй раз;\n",
    "    LeadTime — количество дней между датой бронирования и датой прибытия;\n",
    "    Meal — опции заказа:\n",
    "        SC — нет дополнительных опций;\n",
    "        BB — включён завтрак;\n",
    "        HB — включён завтрак и обед;\n",
    "        FB — включён завтрак, обед и ужин.\n",
    "    PreviousBookingsNotCanceled — количество подтверждённых заказов у клиента;\n",
    "    PreviousCancellations — количество отменённых заказов у клиента;\n",
    "    RequiredCardParkingSpaces — необходимость места для автомобиля;\n",
    "    ReservedRoomType — тип забронированной комнаты;\n",
    "    StaysInWeekendNights — количество ночей в выходные дни;\n",
    "    StaysInWeekNights — количество ночей в будние дни;\n",
    "    TotalOfSpecialRequests — количество специальных отметок.\n",
    "\n",
    "Целевой признак:\n",
    "\n",
    "    IsCanceled — отмена заказа;"
   ]
  },
  {
   "cell_type": "markdown",
   "metadata": {},
   "source": [
    "## Обзор и предобработка данных"
   ]
  },
  {
   "cell_type": "markdown",
   "metadata": {},
   "source": [
    "Импортируем библиотеки"
   ]
  },
  {
   "cell_type": "code",
   "execution_count": 896,
   "metadata": {
    "pycharm": {
     "name": "#%%\n"
    }
   },
   "outputs": [
    {
     "name": "stdout",
     "output_type": "stream",
     "text": [
      "Requirement already satisfied: catboost in c:\\users\\lampq\\projects\\module2_ml_1\\env_module2_ml_1\\lib\\site-packages (1.0.3)\n",
      "Requirement already satisfied: six in c:\\users\\lampq\\projects\\module2_ml_1\\env_module2_ml_1\\lib\\site-packages (from catboost) (1.16.0)\n",
      "Requirement already satisfied: pandas>=0.24.0 in c:\\users\\lampq\\projects\\module2_ml_1\\env_module2_ml_1\\lib\\site-packages (from catboost) (1.3.3)\n",
      "Requirement already satisfied: plotly in c:\\users\\lampq\\projects\\module2_ml_1\\env_module2_ml_1\\lib\\site-packages (from catboost) (5.4.0)\n",
      "Requirement already satisfied: graphviz in c:\\users\\lampq\\projects\\module2_ml_1\\env_module2_ml_1\\lib\\site-packages (from catboost) (0.19)\n",
      "Requirement already satisfied: numpy>=1.16.0 in c:\\users\\lampq\\projects\\module2_ml_1\\env_module2_ml_1\\lib\\site-packages (from catboost) (1.21.2)\n",
      "Requirement already satisfied: scipy in c:\\users\\lampq\\projects\\module2_ml_1\\env_module2_ml_1\\lib\\site-packages (from catboost) (1.7.1)\n",
      "Requirement already satisfied: matplotlib in c:\\users\\lampq\\projects\\module2_ml_1\\env_module2_ml_1\\lib\\site-packages (from catboost) (3.4.3)\n",
      "Requirement already satisfied: python-dateutil>=2.7.3 in c:\\users\\lampq\\projects\\module2_ml_1\\env_module2_ml_1\\lib\\site-packages (from pandas>=0.24.0->catboost) (2.8.2)\n",
      "Requirement already satisfied: pytz>=2017.3 in c:\\users\\lampq\\projects\\module2_ml_1\\env_module2_ml_1\\lib\\site-packages (from pandas>=0.24.0->catboost) (2021.3)\n",
      "Requirement already satisfied: pyparsing>=2.2.1 in c:\\users\\lampq\\projects\\module2_ml_1\\env_module2_ml_1\\lib\\site-packages (from matplotlib->catboost) (2.4.7)\n",
      "Requirement already satisfied: pillow>=6.2.0 in c:\\users\\lampq\\projects\\module2_ml_1\\env_module2_ml_1\\lib\\site-packages (from matplotlib->catboost) (8.3.2)\n",
      "Requirement already satisfied: cycler>=0.10 in c:\\users\\lampq\\projects\\module2_ml_1\\env_module2_ml_1\\lib\\site-packages (from matplotlib->catboost) (0.10.0)\n",
      "Requirement already satisfied: kiwisolver>=1.0.1 in c:\\users\\lampq\\projects\\module2_ml_1\\env_module2_ml_1\\lib\\site-packages (from matplotlib->catboost) (1.3.2)\n",
      "Requirement already satisfied: tenacity>=6.2.0 in c:\\users\\lampq\\projects\\module2_ml_1\\env_module2_ml_1\\lib\\site-packages (from plotly->catboost) (8.0.1)\n"
     ]
    },
    {
     "name": "stderr",
     "output_type": "stream",
     "text": [
      "WARNING: You are using pip version 21.2.4; however, version 21.3.1 is available.\n",
      "You should consider upgrading via the 'C:\\Users\\Lampq\\projects\\module2_ml_1\\env_module2_ml_1\\Scripts\\python.exe -m pip install --upgrade pip' command.\n"
     ]
    },
    {
     "name": "stdout",
     "output_type": "stream",
     "text": [
      "Requirement already satisfied: scikit-learn in c:\\users\\lampq\\projects\\module2_ml_1\\env_module2_ml_1\\lib\\site-packages (1.0.1)\n",
      "Requirement already satisfied: joblib>=0.11 in c:\\users\\lampq\\projects\\module2_ml_1\\env_module2_ml_1\\lib\\site-packages (from scikit-learn) (1.0.1)\n",
      "Requirement already satisfied: scipy>=1.1.0 in c:\\users\\lampq\\projects\\module2_ml_1\\env_module2_ml_1\\lib\\site-packages (from scikit-learn) (1.7.1)\n",
      "Requirement already satisfied: numpy>=1.14.6 in c:\\users\\lampq\\projects\\module2_ml_1\\env_module2_ml_1\\lib\\site-packages (from scikit-learn) (1.21.2)\n",
      "Requirement already satisfied: threadpoolctl>=2.0.0 in c:\\users\\lampq\\projects\\module2_ml_1\\env_module2_ml_1\\lib\\site-packages (from scikit-learn) (3.0.0)\n"
     ]
    },
    {
     "name": "stderr",
     "output_type": "stream",
     "text": [
      "WARNING: You are using pip version 21.2.4; however, version 21.3.1 is available.\n",
      "You should consider upgrading via the 'C:\\Users\\Lampq\\projects\\module2_ml_1\\env_module2_ml_1\\Scripts\\python.exe -m pip install --upgrade pip' command.\n"
     ]
    },
    {
     "name": "stdout",
     "output_type": "stream",
     "text": [
      "Requirement already satisfied: seaborn in c:\\users\\lampq\\projects\\module2_ml_1\\env_module2_ml_1\\lib\\site-packages (0.11.2)\n",
      "Requirement already satisfied: scipy>=1.0 in c:\\users\\lampq\\projects\\module2_ml_1\\env_module2_ml_1\\lib\\site-packages (from seaborn) (1.7.1)\n",
      "Requirement already satisfied: numpy>=1.15 in c:\\users\\lampq\\projects\\module2_ml_1\\env_module2_ml_1\\lib\\site-packages (from seaborn) (1.21.2)\n",
      "Requirement already satisfied: pandas>=0.23 in c:\\users\\lampq\\projects\\module2_ml_1\\env_module2_ml_1\\lib\\site-packages (from seaborn) (1.3.3)\n",
      "Requirement already satisfied: matplotlib>=2.2 in c:\\users\\lampq\\projects\\module2_ml_1\\env_module2_ml_1\\lib\\site-packages (from seaborn) (3.4.3)\n",
      "Requirement already satisfied: kiwisolver>=1.0.1 in c:\\users\\lampq\\projects\\module2_ml_1\\env_module2_ml_1\\lib\\site-packages (from matplotlib>=2.2->seaborn) (1.3.2)\n",
      "Requirement already satisfied: python-dateutil>=2.7 in c:\\users\\lampq\\projects\\module2_ml_1\\env_module2_ml_1\\lib\\site-packages (from matplotlib>=2.2->seaborn) (2.8.2)\n",
      "Requirement already satisfied: pillow>=6.2.0 in c:\\users\\lampq\\projects\\module2_ml_1\\env_module2_ml_1\\lib\\site-packages (from matplotlib>=2.2->seaborn) (8.3.2)\n",
      "Requirement already satisfied: cycler>=0.10 in c:\\users\\lampq\\projects\\module2_ml_1\\env_module2_ml_1\\lib\\site-packages (from matplotlib>=2.2->seaborn) (0.10.0)\n",
      "Requirement already satisfied: pyparsing>=2.2.1 in c:\\users\\lampq\\projects\\module2_ml_1\\env_module2_ml_1\\lib\\site-packages (from matplotlib>=2.2->seaborn) (2.4.7)\n",
      "Requirement already satisfied: six in c:\\users\\lampq\\projects\\module2_ml_1\\env_module2_ml_1\\lib\\site-packages (from cycler>=0.10->matplotlib>=2.2->seaborn) (1.16.0)\n",
      "Requirement already satisfied: pytz>=2017.3 in c:\\users\\lampq\\projects\\module2_ml_1\\env_module2_ml_1\\lib\\site-packages (from pandas>=0.23->seaborn) (2021.3)\n"
     ]
    },
    {
     "name": "stderr",
     "output_type": "stream",
     "text": [
      "WARNING: You are using pip version 21.2.4; however, version 21.3.1 is available.\n",
      "You should consider upgrading via the 'C:\\Users\\Lampq\\projects\\module2_ml_1\\env_module2_ml_1\\Scripts\\python.exe -m pip install --upgrade pip' command.\n"
     ]
    }
   ],
   "source": [
    "!pip install catboost\n",
    "!pip install -U scikit-learn\n",
    "!pip install -U seaborn"
   ]
  },
  {
   "cell_type": "code",
   "execution_count": 897,
   "metadata": {
    "pycharm": {
     "name": "#%%\n"
    }
   },
   "outputs": [],
   "source": [
    "import urllib.request\n",
    "import pandas as pd\n",
    "import numpy as np\n",
    "import seaborn as sns\n",
    "import matplotlib.pyplot as plt\n",
    "\n",
    "from os import path\n",
    "from pathlib import Path\n",
    "\n",
    "from sklearn.model_selection import GridSearchCV\n",
    "from sklearn.pipeline import Pipeline\n",
    "from sklearn.tree import DecisionTreeClassifier\n",
    "from sklearn.ensemble import RandomForestClassifier\n",
    "from sklearn.metrics import f1_score\n",
    "from sklearn.metrics import accuracy_score\n",
    "from sklearn.metrics import roc_auc_score\n",
    "from sklearn.preprocessing import OrdinalEncoder\n",
    "from sklearn.model_selection import cross_val_score\n",
    "from catboost import CatBoostClassifier\n",
    "\n",
    "from scipy import stats as st\n",
    "\n",
    "import warnings\n",
    "warnings.simplefilter(action='ignore', category=FutureWarning)"
   ]
  },
  {
   "cell_type": "markdown",
   "metadata": {},
   "source": [
    "Загрузим и посмотрим датасет"
   ]
  },
  {
   "cell_type": "code",
   "execution_count": 898,
   "metadata": {
    "pycharm": {
     "name": "#%%\n"
    }
   },
   "outputs": [
    {
     "name": "stdout",
     "output_type": "stream",
     "text": [
      "<class 'pandas.core.frame.DataFrame'>\n",
      "RangeIndex: 65229 entries, 0 to 65228\n",
      "Data columns (total 25 columns):\n",
      " #   Column                          Non-Null Count  Dtype  \n",
      "---  ------                          --------------  -----  \n",
      " 0   id                              65229 non-null  int64  \n",
      " 1   is_canceled                     65229 non-null  int64  \n",
      " 2   lead_time                       65229 non-null  float64\n",
      " 3   arrival_date_year               65229 non-null  int64  \n",
      " 4   arrival_date_month              65229 non-null  object \n",
      " 5   arrival_date_week_number        65229 non-null  int64  \n",
      " 6   arrival_date_day_of_month       65229 non-null  int64  \n",
      " 7   stays_in_weekend_nights         65229 non-null  int64  \n",
      " 8   stays_in_week_nights            65229 non-null  int64  \n",
      " 9   adults                          65229 non-null  float64\n",
      " 10  children                        65229 non-null  float64\n",
      " 11  babies                          65229 non-null  float64\n",
      " 12  meal                            65229 non-null  object \n",
      " 13  country                         65229 non-null  object \n",
      " 14  distribution_channel            65229 non-null  object \n",
      " 15  is_repeated_guest               65229 non-null  int64  \n",
      " 16  previous_cancellations          65229 non-null  int64  \n",
      " 17  previous_bookings_not_canceled  65229 non-null  int64  \n",
      " 18  reserved_room_type              65229 non-null  object \n",
      " 19  booking_changes                 65229 non-null  int64  \n",
      " 20  days_in_waiting_list            65229 non-null  int64  \n",
      " 21  customer_type                   65229 non-null  object \n",
      " 22  required_car_parking_spaces     65229 non-null  int64  \n",
      " 23  total_of_special_requests       65229 non-null  int64  \n",
      " 24  total_nights                    65229 non-null  int64  \n",
      "dtypes: float64(4), int64(15), object(6)\n",
      "memory usage: 12.4+ MB\n"
     ]
    }
   ],
   "source": [
    "YANDEX_DATASETS_PATH = 'https://code.s3.yandex.net/datasets/'\n",
    "dataset_folder = 'datasets'\n",
    "dataset_list = ['hotel_train.csv', 'hotel_test.csv']\n",
    "\n",
    "#download dataset if not existed\n",
    "for dataset_name in dataset_list:\n",
    "    if not path.exists(dataset_folder + '/' + dataset_name):\n",
    "        #create dir if not existed\n",
    "        Path(dataset_folder).mkdir(parents=True, exist_ok=True)\n",
    "\n",
    "        #download dataset\n",
    "        urllib.request.urlretrieve(YANDEX_DATASETS_PATH + dataset_name,\n",
    "                                   dataset_folder + '/' + dataset_name)\n",
    "\n",
    "hotel_train = pd.read_csv(dataset_folder + '/' + dataset_list[0])\n",
    "hotel_test = pd.read_csv(dataset_folder + '/' + dataset_list[1])\n",
    "\n",
    "hotel_train.info()"
   ]
  },
  {
   "cell_type": "code",
   "execution_count": 899,
   "metadata": {
    "pycharm": {
     "name": "#%%\n"
    }
   },
   "outputs": [
    {
     "name": "stdout",
     "output_type": "stream",
     "text": [
      "<class 'pandas.core.frame.DataFrame'>\n",
      "RangeIndex: 32412 entries, 0 to 32411\n",
      "Data columns (total 25 columns):\n",
      " #   Column                          Non-Null Count  Dtype  \n",
      "---  ------                          --------------  -----  \n",
      " 0   id                              32412 non-null  int64  \n",
      " 1   is_canceled                     32412 non-null  int64  \n",
      " 2   lead_time                       32412 non-null  float64\n",
      " 3   arrival_date_year               32412 non-null  int64  \n",
      " 4   arrival_date_month              32412 non-null  object \n",
      " 5   arrival_date_week_number        32412 non-null  int64  \n",
      " 6   arrival_date_day_of_month       32412 non-null  int64  \n",
      " 7   stays_in_weekend_nights         32412 non-null  int64  \n",
      " 8   stays_in_week_nights            32412 non-null  int64  \n",
      " 9   adults                          32412 non-null  float64\n",
      " 10  children                        32412 non-null  float64\n",
      " 11  babies                          32412 non-null  float64\n",
      " 12  meal                            32412 non-null  object \n",
      " 13  country                         32412 non-null  object \n",
      " 14  distribution_channel            32412 non-null  object \n",
      " 15  is_repeated_guest               32412 non-null  int64  \n",
      " 16  previous_cancellations          32412 non-null  int64  \n",
      " 17  previous_bookings_not_canceled  32412 non-null  int64  \n",
      " 18  reserved_room_type              32412 non-null  object \n",
      " 19  booking_changes                 32412 non-null  int64  \n",
      " 20  days_in_waiting_list            32412 non-null  int64  \n",
      " 21  customer_type                   32412 non-null  object \n",
      " 22  required_car_parking_spaces     32412 non-null  int64  \n",
      " 23  total_of_special_requests       32412 non-null  int64  \n",
      " 24  total_nights                    32412 non-null  int64  \n",
      "dtypes: float64(4), int64(15), object(6)\n",
      "memory usage: 6.2+ MB\n"
     ]
    }
   ],
   "source": [
    "hotel_test.info()"
   ]
  },
  {
   "cell_type": "code",
   "execution_count": 900,
   "metadata": {
    "pycharm": {
     "name": "#%%\n"
    }
   },
   "outputs": [
    {
     "data": {
      "text/html": [
       "<div>\n",
       "<style scoped>\n",
       "    .dataframe tbody tr th:only-of-type {\n",
       "        vertical-align: middle;\n",
       "    }\n",
       "\n",
       "    .dataframe tbody tr th {\n",
       "        vertical-align: top;\n",
       "    }\n",
       "\n",
       "    .dataframe thead th {\n",
       "        text-align: right;\n",
       "    }\n",
       "</style>\n",
       "<table border=\"1\" class=\"dataframe\">\n",
       "  <thead>\n",
       "    <tr style=\"text-align: right;\">\n",
       "      <th></th>\n",
       "      <th>id</th>\n",
       "      <th>is_canceled</th>\n",
       "      <th>lead_time</th>\n",
       "      <th>arrival_date_year</th>\n",
       "      <th>arrival_date_month</th>\n",
       "      <th>arrival_date_week_number</th>\n",
       "      <th>arrival_date_day_of_month</th>\n",
       "      <th>stays_in_weekend_nights</th>\n",
       "      <th>stays_in_week_nights</th>\n",
       "      <th>adults</th>\n",
       "      <th>...</th>\n",
       "      <th>is_repeated_guest</th>\n",
       "      <th>previous_cancellations</th>\n",
       "      <th>previous_bookings_not_canceled</th>\n",
       "      <th>reserved_room_type</th>\n",
       "      <th>booking_changes</th>\n",
       "      <th>days_in_waiting_list</th>\n",
       "      <th>customer_type</th>\n",
       "      <th>required_car_parking_spaces</th>\n",
       "      <th>total_of_special_requests</th>\n",
       "      <th>total_nights</th>\n",
       "    </tr>\n",
       "  </thead>\n",
       "  <tbody>\n",
       "    <tr>\n",
       "      <th>0</th>\n",
       "      <td>0</td>\n",
       "      <td>0</td>\n",
       "      <td>7.0</td>\n",
       "      <td>2015</td>\n",
       "      <td>July</td>\n",
       "      <td>27</td>\n",
       "      <td>1</td>\n",
       "      <td>0</td>\n",
       "      <td>1</td>\n",
       "      <td>1.0</td>\n",
       "      <td>...</td>\n",
       "      <td>0</td>\n",
       "      <td>0</td>\n",
       "      <td>0</td>\n",
       "      <td>A</td>\n",
       "      <td>0</td>\n",
       "      <td>0</td>\n",
       "      <td>Transient</td>\n",
       "      <td>0</td>\n",
       "      <td>0</td>\n",
       "      <td>1</td>\n",
       "    </tr>\n",
       "    <tr>\n",
       "      <th>1</th>\n",
       "      <td>1</td>\n",
       "      <td>0</td>\n",
       "      <td>14.0</td>\n",
       "      <td>2015</td>\n",
       "      <td>July</td>\n",
       "      <td>27</td>\n",
       "      <td>1</td>\n",
       "      <td>0</td>\n",
       "      <td>2</td>\n",
       "      <td>2.0</td>\n",
       "      <td>...</td>\n",
       "      <td>0</td>\n",
       "      <td>0</td>\n",
       "      <td>0</td>\n",
       "      <td>A</td>\n",
       "      <td>0</td>\n",
       "      <td>0</td>\n",
       "      <td>Transient</td>\n",
       "      <td>0</td>\n",
       "      <td>1</td>\n",
       "      <td>2</td>\n",
       "    </tr>\n",
       "    <tr>\n",
       "      <th>2</th>\n",
       "      <td>2</td>\n",
       "      <td>0</td>\n",
       "      <td>0.0</td>\n",
       "      <td>2015</td>\n",
       "      <td>July</td>\n",
       "      <td>27</td>\n",
       "      <td>1</td>\n",
       "      <td>0</td>\n",
       "      <td>2</td>\n",
       "      <td>2.0</td>\n",
       "      <td>...</td>\n",
       "      <td>0</td>\n",
       "      <td>0</td>\n",
       "      <td>0</td>\n",
       "      <td>C</td>\n",
       "      <td>0</td>\n",
       "      <td>0</td>\n",
       "      <td>Transient</td>\n",
       "      <td>0</td>\n",
       "      <td>0</td>\n",
       "      <td>2</td>\n",
       "    </tr>\n",
       "    <tr>\n",
       "      <th>3</th>\n",
       "      <td>3</td>\n",
       "      <td>0</td>\n",
       "      <td>9.0</td>\n",
       "      <td>2015</td>\n",
       "      <td>July</td>\n",
       "      <td>27</td>\n",
       "      <td>1</td>\n",
       "      <td>0</td>\n",
       "      <td>2</td>\n",
       "      <td>2.0</td>\n",
       "      <td>...</td>\n",
       "      <td>0</td>\n",
       "      <td>0</td>\n",
       "      <td>0</td>\n",
       "      <td>C</td>\n",
       "      <td>0</td>\n",
       "      <td>0</td>\n",
       "      <td>Transient</td>\n",
       "      <td>0</td>\n",
       "      <td>1</td>\n",
       "      <td>2</td>\n",
       "    </tr>\n",
       "    <tr>\n",
       "      <th>4</th>\n",
       "      <td>4</td>\n",
       "      <td>1</td>\n",
       "      <td>85.0</td>\n",
       "      <td>2015</td>\n",
       "      <td>July</td>\n",
       "      <td>27</td>\n",
       "      <td>1</td>\n",
       "      <td>0</td>\n",
       "      <td>3</td>\n",
       "      <td>2.0</td>\n",
       "      <td>...</td>\n",
       "      <td>0</td>\n",
       "      <td>0</td>\n",
       "      <td>0</td>\n",
       "      <td>A</td>\n",
       "      <td>0</td>\n",
       "      <td>0</td>\n",
       "      <td>Transient</td>\n",
       "      <td>0</td>\n",
       "      <td>1</td>\n",
       "      <td>3</td>\n",
       "    </tr>\n",
       "  </tbody>\n",
       "</table>\n",
       "<p>5 rows × 25 columns</p>\n",
       "</div>"
      ],
      "text/plain": [
       "   id  is_canceled  lead_time  arrival_date_year arrival_date_month  \\\n",
       "0   0            0        7.0               2015               July   \n",
       "1   1            0       14.0               2015               July   \n",
       "2   2            0        0.0               2015               July   \n",
       "3   3            0        9.0               2015               July   \n",
       "4   4            1       85.0               2015               July   \n",
       "\n",
       "   arrival_date_week_number  arrival_date_day_of_month  \\\n",
       "0                        27                          1   \n",
       "1                        27                          1   \n",
       "2                        27                          1   \n",
       "3                        27                          1   \n",
       "4                        27                          1   \n",
       "\n",
       "   stays_in_weekend_nights  stays_in_week_nights  adults  ...  \\\n",
       "0                        0                     1     1.0  ...   \n",
       "1                        0                     2     2.0  ...   \n",
       "2                        0                     2     2.0  ...   \n",
       "3                        0                     2     2.0  ...   \n",
       "4                        0                     3     2.0  ...   \n",
       "\n",
       "   is_repeated_guest  previous_cancellations previous_bookings_not_canceled  \\\n",
       "0                  0                       0                              0   \n",
       "1                  0                       0                              0   \n",
       "2                  0                       0                              0   \n",
       "3                  0                       0                              0   \n",
       "4                  0                       0                              0   \n",
       "\n",
       "  reserved_room_type booking_changes  days_in_waiting_list  customer_type  \\\n",
       "0   A                              0                     0      Transient   \n",
       "1   A                              0                     0      Transient   \n",
       "2   C                              0                     0      Transient   \n",
       "3   C                              0                     0      Transient   \n",
       "4   A                              0                     0      Transient   \n",
       "\n",
       "   required_car_parking_spaces total_of_special_requests  total_nights  \n",
       "0                            0                         0             1  \n",
       "1                            0                         1             2  \n",
       "2                            0                         0             2  \n",
       "3                            0                         1             2  \n",
       "4                            0                         1             3  \n",
       "\n",
       "[5 rows x 25 columns]"
      ]
     },
     "execution_count": 900,
     "metadata": {},
     "output_type": "execute_result"
    }
   ],
   "source": [
    "hotel_train.head()"
   ]
  },
  {
   "cell_type": "markdown",
   "metadata": {
    "pycharm": {
     "name": "#%% md\n"
    }
   },
   "source": [
    "Посмотрим на распределение признаков"
   ]
  },
  {
   "cell_type": "code",
   "execution_count": 901,
   "metadata": {
    "pycharm": {
     "name": "#%%\n"
    }
   },
   "outputs": [
    {
     "data": {
      "text/html": [
       "<div>\n",
       "<style scoped>\n",
       "    .dataframe tbody tr th:only-of-type {\n",
       "        vertical-align: middle;\n",
       "    }\n",
       "\n",
       "    .dataframe tbody tr th {\n",
       "        vertical-align: top;\n",
       "    }\n",
       "\n",
       "    .dataframe thead th {\n",
       "        text-align: right;\n",
       "    }\n",
       "</style>\n",
       "<table border=\"1\" class=\"dataframe\">\n",
       "  <thead>\n",
       "    <tr style=\"text-align: right;\">\n",
       "      <th></th>\n",
       "      <th>lead_time</th>\n",
       "      <th>arrival_date_year</th>\n",
       "      <th>arrival_date_week_number</th>\n",
       "      <th>arrival_date_day_of_month</th>\n",
       "      <th>stays_in_weekend_nights</th>\n",
       "      <th>stays_in_week_nights</th>\n",
       "      <th>adults</th>\n",
       "      <th>children</th>\n",
       "      <th>babies</th>\n",
       "      <th>is_repeated_guest</th>\n",
       "      <th>previous_cancellations</th>\n",
       "      <th>previous_bookings_not_canceled</th>\n",
       "      <th>booking_changes</th>\n",
       "      <th>days_in_waiting_list</th>\n",
       "      <th>required_car_parking_spaces</th>\n",
       "      <th>total_of_special_requests</th>\n",
       "      <th>total_nights</th>\n",
       "    </tr>\n",
       "  </thead>\n",
       "  <tbody>\n",
       "    <tr>\n",
       "      <th>count</th>\n",
       "      <td>65229.000000</td>\n",
       "      <td>65229.000000</td>\n",
       "      <td>65229.000000</td>\n",
       "      <td>65229.000000</td>\n",
       "      <td>65229.000000</td>\n",
       "      <td>65229.000000</td>\n",
       "      <td>65229.000000</td>\n",
       "      <td>65229.000000</td>\n",
       "      <td>65229.000000</td>\n",
       "      <td>65229.000000</td>\n",
       "      <td>65229.000000</td>\n",
       "      <td>65229.000000</td>\n",
       "      <td>65229.000000</td>\n",
       "      <td>65229.000000</td>\n",
       "      <td>65229.000000</td>\n",
       "      <td>65229.000000</td>\n",
       "      <td>65229.000000</td>\n",
       "    </tr>\n",
       "    <tr>\n",
       "      <th>mean</th>\n",
       "      <td>96.337917</td>\n",
       "      <td>2015.719021</td>\n",
       "      <td>31.339772</td>\n",
       "      <td>15.847813</td>\n",
       "      <td>0.825185</td>\n",
       "      <td>2.224793</td>\n",
       "      <td>1.836576</td>\n",
       "      <td>0.074890</td>\n",
       "      <td>0.007236</td>\n",
       "      <td>0.027151</td>\n",
       "      <td>0.128915</td>\n",
       "      <td>0.107713</td>\n",
       "      <td>0.194269</td>\n",
       "      <td>3.334422</td>\n",
       "      <td>0.056647</td>\n",
       "      <td>0.512763</td>\n",
       "      <td>3.049978</td>\n",
       "    </tr>\n",
       "    <tr>\n",
       "      <th>std</th>\n",
       "      <td>96.127545</td>\n",
       "      <td>0.449481</td>\n",
       "      <td>13.464024</td>\n",
       "      <td>8.748182</td>\n",
       "      <td>0.853477</td>\n",
       "      <td>1.354992</td>\n",
       "      <td>0.480245</td>\n",
       "      <td>0.334243</td>\n",
       "      <td>0.098790</td>\n",
       "      <td>0.162523</td>\n",
       "      <td>0.965326</td>\n",
       "      <td>1.326638</td>\n",
       "      <td>0.593838</td>\n",
       "      <td>18.239606</td>\n",
       "      <td>0.232094</td>\n",
       "      <td>0.752590</td>\n",
       "      <td>1.738108</td>\n",
       "    </tr>\n",
       "    <tr>\n",
       "      <th>min</th>\n",
       "      <td>0.000000</td>\n",
       "      <td>2015.000000</td>\n",
       "      <td>1.000000</td>\n",
       "      <td>1.000000</td>\n",
       "      <td>0.000000</td>\n",
       "      <td>0.000000</td>\n",
       "      <td>0.000000</td>\n",
       "      <td>0.000000</td>\n",
       "      <td>0.000000</td>\n",
       "      <td>0.000000</td>\n",
       "      <td>0.000000</td>\n",
       "      <td>0.000000</td>\n",
       "      <td>0.000000</td>\n",
       "      <td>0.000000</td>\n",
       "      <td>0.000000</td>\n",
       "      <td>0.000000</td>\n",
       "      <td>1.000000</td>\n",
       "    </tr>\n",
       "    <tr>\n",
       "      <th>25%</th>\n",
       "      <td>17.000000</td>\n",
       "      <td>2015.000000</td>\n",
       "      <td>21.000000</td>\n",
       "      <td>8.000000</td>\n",
       "      <td>0.000000</td>\n",
       "      <td>1.000000</td>\n",
       "      <td>2.000000</td>\n",
       "      <td>0.000000</td>\n",
       "      <td>0.000000</td>\n",
       "      <td>0.000000</td>\n",
       "      <td>0.000000</td>\n",
       "      <td>0.000000</td>\n",
       "      <td>0.000000</td>\n",
       "      <td>0.000000</td>\n",
       "      <td>0.000000</td>\n",
       "      <td>0.000000</td>\n",
       "      <td>2.000000</td>\n",
       "    </tr>\n",
       "    <tr>\n",
       "      <th>50%</th>\n",
       "      <td>64.000000</td>\n",
       "      <td>2016.000000</td>\n",
       "      <td>34.000000</td>\n",
       "      <td>16.000000</td>\n",
       "      <td>1.000000</td>\n",
       "      <td>2.000000</td>\n",
       "      <td>2.000000</td>\n",
       "      <td>0.000000</td>\n",
       "      <td>0.000000</td>\n",
       "      <td>0.000000</td>\n",
       "      <td>0.000000</td>\n",
       "      <td>0.000000</td>\n",
       "      <td>0.000000</td>\n",
       "      <td>0.000000</td>\n",
       "      <td>0.000000</td>\n",
       "      <td>0.000000</td>\n",
       "      <td>3.000000</td>\n",
       "    </tr>\n",
       "    <tr>\n",
       "      <th>75%</th>\n",
       "      <td>151.000000</td>\n",
       "      <td>2016.000000</td>\n",
       "      <td>42.000000</td>\n",
       "      <td>23.000000</td>\n",
       "      <td>2.000000</td>\n",
       "      <td>3.000000</td>\n",
       "      <td>2.000000</td>\n",
       "      <td>0.000000</td>\n",
       "      <td>0.000000</td>\n",
       "      <td>0.000000</td>\n",
       "      <td>0.000000</td>\n",
       "      <td>0.000000</td>\n",
       "      <td>0.000000</td>\n",
       "      <td>0.000000</td>\n",
       "      <td>0.000000</td>\n",
       "      <td>1.000000</td>\n",
       "      <td>4.000000</td>\n",
       "    </tr>\n",
       "    <tr>\n",
       "      <th>max</th>\n",
       "      <td>374.000000</td>\n",
       "      <td>2016.000000</td>\n",
       "      <td>53.000000</td>\n",
       "      <td>31.000000</td>\n",
       "      <td>4.000000</td>\n",
       "      <td>6.000000</td>\n",
       "      <td>4.000000</td>\n",
       "      <td>3.000000</td>\n",
       "      <td>10.000000</td>\n",
       "      <td>1.000000</td>\n",
       "      <td>26.000000</td>\n",
       "      <td>58.000000</td>\n",
       "      <td>17.000000</td>\n",
       "      <td>259.000000</td>\n",
       "      <td>3.000000</td>\n",
       "      <td>5.000000</td>\n",
       "      <td>10.000000</td>\n",
       "    </tr>\n",
       "  </tbody>\n",
       "</table>\n",
       "</div>"
      ],
      "text/plain": [
       "          lead_time  arrival_date_year  arrival_date_week_number  \\\n",
       "count  65229.000000       65229.000000              65229.000000   \n",
       "mean      96.337917        2015.719021                 31.339772   \n",
       "std       96.127545           0.449481                 13.464024   \n",
       "min        0.000000        2015.000000                  1.000000   \n",
       "25%       17.000000        2015.000000                 21.000000   \n",
       "50%       64.000000        2016.000000                 34.000000   \n",
       "75%      151.000000        2016.000000                 42.000000   \n",
       "max      374.000000        2016.000000                 53.000000   \n",
       "\n",
       "       arrival_date_day_of_month  stays_in_weekend_nights  \\\n",
       "count               65229.000000             65229.000000   \n",
       "mean                   15.847813                 0.825185   \n",
       "std                     8.748182                 0.853477   \n",
       "min                     1.000000                 0.000000   \n",
       "25%                     8.000000                 0.000000   \n",
       "50%                    16.000000                 1.000000   \n",
       "75%                    23.000000                 2.000000   \n",
       "max                    31.000000                 4.000000   \n",
       "\n",
       "       stays_in_week_nights        adults      children        babies  \\\n",
       "count          65229.000000  65229.000000  65229.000000  65229.000000   \n",
       "mean               2.224793      1.836576      0.074890      0.007236   \n",
       "std                1.354992      0.480245      0.334243      0.098790   \n",
       "min                0.000000      0.000000      0.000000      0.000000   \n",
       "25%                1.000000      2.000000      0.000000      0.000000   \n",
       "50%                2.000000      2.000000      0.000000      0.000000   \n",
       "75%                3.000000      2.000000      0.000000      0.000000   \n",
       "max                6.000000      4.000000      3.000000     10.000000   \n",
       "\n",
       "       is_repeated_guest  previous_cancellations  \\\n",
       "count       65229.000000            65229.000000   \n",
       "mean            0.027151                0.128915   \n",
       "std             0.162523                0.965326   \n",
       "min             0.000000                0.000000   \n",
       "25%             0.000000                0.000000   \n",
       "50%             0.000000                0.000000   \n",
       "75%             0.000000                0.000000   \n",
       "max             1.000000               26.000000   \n",
       "\n",
       "       previous_bookings_not_canceled  booking_changes  days_in_waiting_list  \\\n",
       "count                    65229.000000     65229.000000          65229.000000   \n",
       "mean                         0.107713         0.194269              3.334422   \n",
       "std                          1.326638         0.593838             18.239606   \n",
       "min                          0.000000         0.000000              0.000000   \n",
       "25%                          0.000000         0.000000              0.000000   \n",
       "50%                          0.000000         0.000000              0.000000   \n",
       "75%                          0.000000         0.000000              0.000000   \n",
       "max                         58.000000        17.000000            259.000000   \n",
       "\n",
       "       required_car_parking_spaces  total_of_special_requests  total_nights  \n",
       "count                 65229.000000               65229.000000  65229.000000  \n",
       "mean                      0.056647                   0.512763      3.049978  \n",
       "std                       0.232094                   0.752590      1.738108  \n",
       "min                       0.000000                   0.000000      1.000000  \n",
       "25%                       0.000000                   0.000000      2.000000  \n",
       "50%                       0.000000                   0.000000      3.000000  \n",
       "75%                       0.000000                   1.000000      4.000000  \n",
       "max                       3.000000                   5.000000     10.000000  "
      ]
     },
     "execution_count": 901,
     "metadata": {},
     "output_type": "execute_result"
    }
   ],
   "source": [
    "hotel_train.drop(columns=['id', 'is_canceled',]).describe()"
   ]
  },
  {
   "cell_type": "markdown",
   "metadata": {
    "pycharm": {
     "name": "#%% md\n"
    }
   },
   "source": [
    "Рассмотрим целевой признак у обоих выборок"
   ]
  },
  {
   "cell_type": "code",
   "execution_count": 902,
   "metadata": {
    "pycharm": {
     "name": "#%%\n"
    }
   },
   "outputs": [
    {
     "data": {
      "text/plain": [
       "<AxesSubplot:>"
      ]
     },
     "execution_count": 902,
     "metadata": {},
     "output_type": "execute_result"
    },
    {
     "data": {
      "image/png": "[encoded data removed]",
      "text/plain": [
       "<Figure size 864x720 with 1 Axes>"
      ]
     },
     "metadata": {
      "needs_background": "light"
     },
     "output_type": "display_data"
    }
   ],
   "source": [
    "hotel_train['is_canceled'].hist()"
   ]
  },
  {
   "cell_type": "code",
   "execution_count": 903,
   "metadata": {
    "pycharm": {
     "name": "#%%\n"
    }
   },
   "outputs": [
    {
     "data": {
      "text/plain": [
       "<AxesSubplot:>"
      ]
     },
     "execution_count": 903,
     "metadata": {},
     "output_type": "execute_result"
    },
    {
     "data": {
      "image/png": "[encoded data removed]",
      "text/plain": [
       "<Figure size 864x720 with 1 Axes>"
      ]
     },
     "metadata": {
      "needs_background": "light"
     },
     "output_type": "display_data"
    }
   ],
   "source": [
    "hotel_test['is_canceled'].hist()"
   ]
  },
  {
   "cell_type": "markdown",
   "metadata": {
    "pycharm": {
     "name": "#%% md\n"
    }
   },
   "source": [
    "Можно сказать, что целевой признак в тренировочной и тестовой выборки несбалансирован в сторону \"0\"."
   ]
  },
  {
   "cell_type": "markdown",
   "metadata": {
    "pycharm": {
     "name": "#%% md\n"
    }
   },
   "source": [
    "Рассмотрим признаки по отдельности"
   ]
  },
  {
   "cell_type": "code",
   "execution_count": 904,
   "metadata": {
    "pycharm": {
     "name": "#%%\n"
    }
   },
   "outputs": [
    {
     "data": {
      "text/plain": [
       "<AxesSubplot:>"
      ]
     },
     "execution_count": 904,
     "metadata": {},
     "output_type": "execute_result"
    },
    {
     "data": {
      "image/png": "[encoded data removed]",
      "text/plain": [
       "<Figure size 864x720 with 1 Axes>"
      ]
     },
     "metadata": {
      "needs_background": "light"
     },
     "output_type": "display_data"
    }
   ],
   "source": [
    "hotel_train['lead_time'].hist()"
   ]
  },
  {
   "cell_type": "code",
   "execution_count": 905,
   "metadata": {
    "pycharm": {
     "name": "#%%\n"
    }
   },
   "outputs": [
    {
     "data": {
      "text/plain": [
       "<AxesSubplot:>"
      ]
     },
     "execution_count": 905,
     "metadata": {},
     "output_type": "execute_result"
    },
    {
     "data": {
      "image/png": "[encoded data removed]",
      "text/plain": [
       "<Figure size 864x720 with 1 Axes>"
      ]
     },
     "metadata": {
      "needs_background": "light"
     },
     "output_type": "display_data"
    }
   ],
   "source": [
    "hotel_train['arrival_date_year'].hist()"
   ]
  },
  {
   "cell_type": "markdown",
   "metadata": {
    "pycharm": {
     "name": "#%% md\n"
    }
   },
   "source": [
    "Это признак ничего не может нам сказать о сезонных трендах и вряд ли пригодится нам для прогнозирование поведения клиента в дальнейшем. Уберем его"
   ]
  },
  {
   "cell_type": "code",
   "execution_count": 906,
   "metadata": {
    "pycharm": {
     "name": "#%%\n"
    }
   },
   "outputs": [
    {
     "data": {
      "text/plain": [
       "<AxesSubplot:>"
      ]
     },
     "execution_count": 906,
     "metadata": {},
     "output_type": "execute_result"
    },
    {
     "data": {
      "image/png": "[encoded data removed]",
      "text/plain": [
       "<Figure size 1080x360 with 1 Axes>"
      ]
     },
     "metadata": {
      "needs_background": "light"
     },
     "output_type": "display_data"
    }
   ],
   "source": [
    "hotel_train['arrival_date_month'].hist(figsize=(15,5))"
   ]
  },
  {
   "cell_type": "code",
   "execution_count": 907,
   "metadata": {
    "pycharm": {
     "name": "#%%\n"
    }
   },
   "outputs": [
    {
     "data": {
      "text/plain": [
       "<AxesSubplot:>"
      ]
     },
     "execution_count": 907,
     "metadata": {},
     "output_type": "execute_result"
    },
    {
     "data": {
      "image/png": "[encoded data removed]",
      "text/plain": [
       "<Figure size 864x720 with 1 Axes>"
      ]
     },
     "metadata": {
      "needs_background": "light"
     },
     "output_type": "display_data"
    }
   ],
   "source": [
    "hotel_train['arrival_date_week_number'].hist()"
   ]
  },
  {
   "cell_type": "code",
   "execution_count": 908,
   "metadata": {
    "pycharm": {
     "name": "#%%\n"
    }
   },
   "outputs": [
    {
     "data": {
      "text/plain": [
       "<AxesSubplot:>"
      ]
     },
     "execution_count": 908,
     "metadata": {},
     "output_type": "execute_result"
    },
    {
     "data": {
      "image/png": "[encoded data removed]",
      "text/plain": [
       "<Figure size 864x720 with 1 Axes>"
      ]
     },
     "metadata": {
      "needs_background": "light"
     },
     "output_type": "display_data"
    }
   ],
   "source": [
    "hotel_train['arrival_date_day_of_month'].hist()"
   ]
  },
  {
   "cell_type": "markdown",
   "metadata": {
    "pycharm": {
     "name": "#%% md\n"
    }
   },
   "source": [
    "Эти три признака, характеризующие время заказа, несут избыточную информацию. Отставим только 'arrival_date_week_number' и 'arrival_date_day_of_month'"
   ]
  },
  {
   "cell_type": "code",
   "execution_count": 909,
   "metadata": {
    "pycharm": {
     "name": "#%%\n"
    }
   },
   "outputs": [
    {
     "data": {
      "text/plain": [
       "<AxesSubplot:>"
      ]
     },
     "execution_count": 909,
     "metadata": {},
     "output_type": "execute_result"
    },
    {
     "data": {
      "image/png": "[encoded data removed]",
      "text/plain": [
       "<Figure size 864x720 with 1 Axes>"
      ]
     },
     "metadata": {
      "needs_background": "light"
     },
     "output_type": "display_data"
    }
   ],
   "source": [
    "hotel_train['stays_in_week_nights'].hist()"
   ]
  },
  {
   "cell_type": "code",
   "execution_count": 910,
   "metadata": {
    "pycharm": {
     "name": "#%%\n"
    }
   },
   "outputs": [
    {
     "data": {
      "text/plain": [
       "<AxesSubplot:>"
      ]
     },
     "execution_count": 910,
     "metadata": {},
     "output_type": "execute_result"
    },
    {
     "data": {
      "image/png": "[encoded data removed]",
      "text/plain": [
       "<Figure size 864x720 with 1 Axes>"
      ]
     },
     "metadata": {
      "needs_background": "light"
     },
     "output_type": "display_data"
    }
   ],
   "source": [
    "hotel_train['stays_in_weekend_nights'].hist()"
   ]
  },
  {
   "cell_type": "code",
   "execution_count": 911,
   "metadata": {
    "pycharm": {
     "name": "#%%\n"
    }
   },
   "outputs": [
    {
     "data": {
      "text/plain": [
       "<AxesSubplot:>"
      ]
     },
     "execution_count": 911,
     "metadata": {},
     "output_type": "execute_result"
    },
    {
     "data": {
      "image/png": "[encoded data removed]",
      "text/plain": [
       "<Figure size 864x720 with 1 Axes>"
      ]
     },
     "metadata": {
      "needs_background": "light"
     },
     "output_type": "display_data"
    }
   ],
   "source": [
    "hotel_train['adults'].hist()"
   ]
  },
  {
   "cell_type": "code",
   "execution_count": 912,
   "metadata": {
    "pycharm": {
     "name": "#%%\n"
    }
   },
   "outputs": [
    {
     "data": {
      "text/plain": [
       "<AxesSubplot:>"
      ]
     },
     "execution_count": 912,
     "metadata": {},
     "output_type": "execute_result"
    },
    {
     "data": {
      "image/png": "[encoded data removed]",
      "text/plain": [
       "<Figure size 864x720 with 1 Axes>"
      ]
     },
     "metadata": {
      "needs_background": "light"
     },
     "output_type": "display_data"
    }
   ],
   "source": [
    "hotel_train['children'].hist()"
   ]
  },
  {
   "cell_type": "code",
   "execution_count": 913,
   "metadata": {
    "pycharm": {
     "name": "#%%\n"
    }
   },
   "outputs": [
    {
     "data": {
      "text/plain": [
       "0.0    61712\n",
       "1.0     2165\n",
       "2.0     1336\n",
       "3.0       16\n",
       "Name: children, dtype: int64"
      ]
     },
     "execution_count": 913,
     "metadata": {},
     "output_type": "execute_result"
    }
   ],
   "source": [
    "hotel_train['children'].value_counts()"
   ]
  },
  {
   "cell_type": "code",
   "execution_count": 914,
   "metadata": {
    "pycharm": {
     "name": "#%%\n"
    }
   },
   "outputs": [
    {
     "data": {
      "text/plain": [
       "<AxesSubplot:>"
      ]
     },
     "execution_count": 914,
     "metadata": {},
     "output_type": "execute_result"
    },
    {
     "data": {
      "image/png": "[encoded data removed]",
      "text/plain": [
       "<Figure size 864x720 with 1 Axes>"
      ]
     },
     "metadata": {
      "needs_background": "light"
     },
     "output_type": "display_data"
    }
   ],
   "source": [
    "hotel_train['babies'].hist()"
   ]
  },
  {
   "cell_type": "code",
   "execution_count": 915,
   "metadata": {
    "pycharm": {
     "name": "#%%\n"
    }
   },
   "outputs": [
    {
     "data": {
      "text/plain": [
       "0.0     64777\n",
       "1.0       447\n",
       "2.0         3\n",
       "10.0        1\n",
       "9.0         1\n",
       "Name: babies, dtype: int64"
      ]
     },
     "execution_count": 915,
     "metadata": {},
     "output_type": "execute_result"
    }
   ],
   "source": [
    "hotel_train['babies'].value_counts()"
   ]
  },
  {
   "cell_type": "code",
   "execution_count": 916,
   "metadata": {
    "pycharm": {
     "name": "#%%\n"
    }
   },
   "outputs": [],
   "source": [
    "hotel_train = hotel_train[hotel_train['babies'] < 5]"
   ]
  },
  {
   "cell_type": "code",
   "execution_count": 917,
   "metadata": {
    "pycharm": {
     "name": "#%%\n"
    }
   },
   "outputs": [
    {
     "data": {
      "text/plain": [
       "<AxesSubplot:>"
      ]
     },
     "execution_count": 917,
     "metadata": {},
     "output_type": "execute_result"
    },
    {
     "data": {
      "image/png": "[encoded data removed]",
      "text/plain": [
       "<Figure size 864x720 with 1 Axes>"
      ]
     },
     "metadata": {
      "needs_background": "light"
     },
     "output_type": "display_data"
    }
   ],
   "source": [
    "hotel_train['meal'].hist()"
   ]
  },
  {
   "cell_type": "code",
   "execution_count": 918,
   "metadata": {
    "pycharm": {
     "name": "#%%\n"
    }
   },
   "outputs": [
    {
     "data": {
      "text/plain": [
       "PRT    28830\n",
       "FRA     5974\n",
       "GBR     5108\n",
       "ESP     4900\n",
       "DEU     3887\n",
       "       ...  \n",
       "IMN        1\n",
       "NIC        1\n",
       "BEN        1\n",
       "VGB        1\n",
       "STP        1\n",
       "Name: country, Length: 155, dtype: int64"
      ]
     },
     "execution_count": 918,
     "metadata": {},
     "output_type": "execute_result"
    }
   ],
   "source": [
    "hotel_train['country'].value_counts()"
   ]
  },
  {
   "cell_type": "code",
   "execution_count": 919,
   "metadata": {
    "pycharm": {
     "name": "#%%\n"
    }
   },
   "outputs": [
    {
     "data": {
      "text/plain": [
       "<AxesSubplot:>"
      ]
     },
     "execution_count": 919,
     "metadata": {},
     "output_type": "execute_result"
    },
    {
     "data": {
      "image/png": "[encoded data removed]",
      "text/plain": [
       "<Figure size 864x720 with 1 Axes>"
      ]
     },
     "metadata": {
      "needs_background": "light"
     },
     "output_type": "display_data"
    }
   ],
   "source": [
    "hotel_train['distribution_channel'].hist()"
   ]
  },
  {
   "cell_type": "code",
   "execution_count": 920,
   "metadata": {
    "pycharm": {
     "name": "#%%\n"
    }
   },
   "outputs": [
    {
     "data": {
      "text/plain": [
       "<AxesSubplot:>"
      ]
     },
     "execution_count": 920,
     "metadata": {},
     "output_type": "execute_result"
    },
    {
     "data": {
      "image/png": "[encoded data removed]",
      "text/plain": [
       "<Figure size 864x720 with 1 Axes>"
      ]
     },
     "metadata": {
      "needs_background": "light"
     },
     "output_type": "display_data"
    }
   ],
   "source": [
    "hotel_train['is_repeated_guest'].hist()"
   ]
  },
  {
   "cell_type": "code",
   "execution_count": 921,
   "metadata": {
    "pycharm": {
     "name": "#%%\n"
    }
   },
   "outputs": [
    {
     "data": {
      "text/plain": [
       "0     59589\n",
       "1      5367\n",
       "2        54\n",
       "3        51\n",
       "11       35\n",
       "24       28\n",
       "25       19\n",
       "26       18\n",
       "19       17\n",
       "5        13\n",
       "13       12\n",
       "14       11\n",
       "6         7\n",
       "4         5\n",
       "21        1\n",
       "Name: previous_cancellations, dtype: int64"
      ]
     },
     "execution_count": 921,
     "metadata": {},
     "output_type": "execute_result"
    }
   ],
   "source": [
    "hotel_train['previous_cancellations'].value_counts()"
   ]
  },
  {
   "cell_type": "code",
   "execution_count": 922,
   "metadata": {
    "pycharm": {
     "name": "#%%\n"
    }
   },
   "outputs": [
    {
     "data": {
      "text/plain": [
       "0     63684\n",
       "1       645\n",
       "2       252\n",
       "3       136\n",
       "4       114\n",
       "5        89\n",
       "6        56\n",
       "7        34\n",
       "8        25\n",
       "9        23\n",
       "10       21\n",
       "11       16\n",
       "12       14\n",
       "25       10\n",
       "13        9\n",
       "21        8\n",
       "14        8\n",
       "22        7\n",
       "15        7\n",
       "16        6\n",
       "18        5\n",
       "17        5\n",
       "19        5\n",
       "20        5\n",
       "24        3\n",
       "27        3\n",
       "44        2\n",
       "48        2\n",
       "29        2\n",
       "28        2\n",
       "23        2\n",
       "57        1\n",
       "56        1\n",
       "55        1\n",
       "54        1\n",
       "53        1\n",
       "52        1\n",
       "58        1\n",
       "51        1\n",
       "50        1\n",
       "49        1\n",
       "47        1\n",
       "45        1\n",
       "37        1\n",
       "43        1\n",
       "42        1\n",
       "41        1\n",
       "40        1\n",
       "39        1\n",
       "38        1\n",
       "36        1\n",
       "35        1\n",
       "34        1\n",
       "33        1\n",
       "32        1\n",
       "31        1\n",
       "26        1\n",
       "30        1\n",
       "Name: previous_bookings_not_canceled, dtype: int64"
      ]
     },
     "execution_count": 922,
     "metadata": {},
     "output_type": "execute_result"
    }
   ],
   "source": [
    "hotel_train['previous_bookings_not_canceled'].value_counts()"
   ]
  },
  {
   "cell_type": "code",
   "execution_count": 923,
   "metadata": {
    "pycharm": {
     "name": "#%%\n"
    }
   },
   "outputs": [
    {
     "data": {
      "text/plain": [
       "A                   50500\n",
       "D                    9386\n",
       "E                    2448\n",
       "F                    1213\n",
       "B                     860\n",
       "G                     592\n",
       "C                     228\n",
       "Name: reserved_room_type, dtype: int64"
      ]
     },
     "execution_count": 923,
     "metadata": {},
     "output_type": "execute_result"
    }
   ],
   "source": [
    "hotel_train['reserved_room_type'].value_counts()"
   ]
  },
  {
   "cell_type": "code",
   "execution_count": 924,
   "metadata": {
    "pycharm": {
     "name": "#%%\n"
    }
   },
   "outputs": [
    {
     "data": {
      "text/plain": [
       "0     56195\n",
       "1      6613\n",
       "2      1754\n",
       "3       413\n",
       "4       149\n",
       "5        42\n",
       "6        19\n",
       "7        18\n",
       "8         7\n",
       "9         5\n",
       "13        4\n",
       "10        2\n",
       "14        2\n",
       "15        2\n",
       "16        1\n",
       "17        1\n",
       "Name: booking_changes, dtype: int64"
      ]
     },
     "execution_count": 924,
     "metadata": {},
     "output_type": "execute_result"
    }
   ],
   "source": [
    "hotel_train['booking_changes'].value_counts()"
   ]
  },
  {
   "cell_type": "code",
   "execution_count": 925,
   "metadata": {
    "pycharm": {
     "name": "#%%\n"
    }
   },
   "outputs": [
    {
     "data": {
      "text/plain": [
       "0      62003\n",
       "39       185\n",
       "58       164\n",
       "44       137\n",
       "31       126\n",
       "       ...  \n",
       "14         1\n",
       "76         1\n",
       "81         1\n",
       "74         1\n",
       "167        1\n",
       "Name: days_in_waiting_list, Length: 97, dtype: int64"
      ]
     },
     "execution_count": 925,
     "metadata": {},
     "output_type": "execute_result"
    }
   ],
   "source": [
    "hotel_train['days_in_waiting_list'].value_counts()"
   ]
  },
  {
   "cell_type": "code",
   "execution_count": 926,
   "metadata": {
    "pycharm": {
     "name": "#%%\n"
    }
   },
   "outputs": [
    {
     "data": {
      "text/plain": [
       "<AxesSubplot:>"
      ]
     },
     "execution_count": 926,
     "metadata": {},
     "output_type": "execute_result"
    },
    {
     "data": {
      "image/png": "[encoded data removed]",
      "text/plain": [
       "<Figure size 864x720 with 1 Axes>"
      ]
     },
     "metadata": {
      "needs_background": "light"
     },
     "output_type": "display_data"
    }
   ],
   "source": [
    "hotel_train['customer_type'].hist()"
   ]
  },
  {
   "cell_type": "code",
   "execution_count": 927,
   "metadata": {
    "pycharm": {
     "name": "#%%\n"
    }
   },
   "outputs": [
    {
     "data": {
      "text/plain": [
       "<AxesSubplot:>"
      ]
     },
     "execution_count": 927,
     "metadata": {},
     "output_type": "execute_result"
    },
    {
     "data": {
      "image/png": "[encoded data removed]",
      "text/plain": [
       "<Figure size 864x720 with 1 Axes>"
      ]
     },
     "metadata": {
      "needs_background": "light"
     },
     "output_type": "display_data"
    }
   ],
   "source": [
    "hotel_train['required_car_parking_spaces'].hist()"
   ]
  },
  {
   "cell_type": "code",
   "execution_count": 928,
   "metadata": {
    "pycharm": {
     "name": "#%%\n"
    }
   },
   "outputs": [
    {
     "data": {
      "text/plain": [
       "<AxesSubplot:>"
      ]
     },
     "execution_count": 928,
     "metadata": {},
     "output_type": "execute_result"
    },
    {
     "data": {
      "image/png": "[encoded data removed]",
      "text/plain": [
       "<Figure size 864x720 with 1 Axes>"
      ]
     },
     "metadata": {
      "needs_background": "light"
     },
     "output_type": "display_data"
    }
   ],
   "source": [
    "hotel_train['total_of_special_requests'].hist()"
   ]
  },
  {
   "cell_type": "code",
   "execution_count": 929,
   "metadata": {
    "pycharm": {
     "name": "#%%\n"
    }
   },
   "outputs": [
    {
     "data": {
      "text/plain": [
       "<AxesSubplot:>"
      ]
     },
     "execution_count": 929,
     "metadata": {},
     "output_type": "execute_result"
    },
    {
     "data": {
      "image/png": "[encoded data removed]",
      "text/plain": [
       "<Figure size 864x720 with 1 Axes>"
      ]
     },
     "metadata": {
      "needs_background": "light"
     },
     "output_type": "display_data"
    }
   ],
   "source": [
    "hotel_train['total_nights'].hist()"
   ]
  },
  {
   "cell_type": "markdown",
   "metadata": {
    "pycharm": {
     "name": "#%% md\n"
    }
   },
   "source": [
    "Посмотрим корреляцию целевого признака"
   ]
  },
  {
   "cell_type": "code",
   "execution_count": 930,
   "metadata": {
    "pycharm": {
     "name": "#%%\n"
    }
   },
   "outputs": [
    {
     "data": {
      "text/plain": [
       "is_canceled                       1.000000\n",
       "lead_time                         0.328131\n",
       "total_of_special_requests        -0.257066\n",
       "required_car_parking_spaces      -0.186494\n",
       "previous_cancellations            0.153021\n",
       "booking_changes                  -0.142909\n",
       "days_in_waiting_list              0.075845\n",
       "previous_bookings_not_canceled   -0.045559\n",
       "adults                            0.045138\n",
       "is_repeated_guest                -0.040246\n",
       "babies                           -0.032306\n",
       "arrival_date_year                -0.030847\n",
       "children                         -0.017752\n",
       "stays_in_weekend_nights          -0.013763\n",
       "arrival_date_week_number          0.012854\n",
       "stays_in_week_nights              0.010637\n",
       "arrival_date_day_of_month        -0.001914\n",
       "total_nights                      0.001535\n",
       "Name: is_canceled, dtype: float64"
      ]
     },
     "execution_count": 930,
     "metadata": {},
     "output_type": "execute_result"
    }
   ],
   "source": [
    "hotel_train.drop(columns='id', axis=1).corr()['is_canceled'].sort_values(ascending=False, key=abs)"
   ]
  },
  {
   "cell_type": "markdown",
   "metadata": {
    "pycharm": {
     "name": "#%% md\n"
    }
   },
   "source": [
    "Вывод: целевой признак несбалансирован в сторону \"0\". Он имеет наибольшую корреляцию с \"lead_time\", \"total_of_special_requests\", \"required_car_parking_spaces\", \"previous_cancellations\", \"booking_changes\""
   ]
  },
  {
   "cell_type": "code",
   "execution_count": 931,
   "metadata": {
    "pycharm": {
     "name": "#%%\n"
    }
   },
   "outputs": [
    {
     "data": {
      "text/plain": [
       "['lead_time',\n",
       " 'arrival_date_year',\n",
       " 'arrival_date_week_number',\n",
       " 'arrival_date_day_of_month',\n",
       " 'stays_in_weekend_nights',\n",
       " 'stays_in_week_nights',\n",
       " 'adults',\n",
       " 'children',\n",
       " 'babies',\n",
       " 'is_repeated_guest',\n",
       " 'previous_cancellations',\n",
       " 'previous_bookings_not_canceled',\n",
       " 'booking_changes',\n",
       " 'days_in_waiting_list',\n",
       " 'required_car_parking_spaces',\n",
       " 'total_of_special_requests',\n",
       " 'total_nights']"
      ]
     },
     "execution_count": 931,
     "metadata": {},
     "output_type": "execute_result"
    }
   ],
   "source": [
    "numerical_list = list(hotel_train.drop(['is_canceled', 'id'], axis=1).select_dtypes(include=['int64', 'float64']).columns)\n",
    "numerical_list"
   ]
  },
  {
   "cell_type": "code",
   "execution_count": 932,
   "metadata": {
    "pycharm": {
     "name": "#%%\n"
    }
   },
   "outputs": [],
   "source": [
    "ttest_iscanceled = pd.DataFrame({'feature': pd.Series(dtype='object'),\n",
    "                                 'pvalue < 0.05': pd.Series(dtype='int64'),})\n",
    "\n",
    "for feature in numerical_list:\n",
    "    results = st.ttest_ind(\n",
    "        hotel_train[hotel_train['is_canceled'] == 1][feature],\n",
    "        hotel_train[hotel_train['is_canceled'] == 0][feature],\n",
    "        equal_var = False)\n",
    "\n",
    "    if results.pvalue <= 0.05:\n",
    "        ttest_iscanceled = ttest_iscanceled.append({'feature' : feature,\n",
    "                                                    'pvalue < 0.05' : 1} ,\n",
    "                                                    ignore_index=True)\n",
    "    else:\n",
    "        ttest_iscanceled = ttest_iscanceled.append({'feature' : feature,\n",
    "                                                    'pvalue < 0.05' : 0} ,\n",
    "                                                    ignore_index=True)"
   ]
  },
  {
   "cell_type": "code",
   "execution_count": 933,
   "metadata": {
    "pycharm": {
     "name": "#%%\n"
    }
   },
   "outputs": [
    {
     "data": {
      "text/html": [
       "<div>\n",
       "<style scoped>\n",
       "    .dataframe tbody tr th:only-of-type {\n",
       "        vertical-align: middle;\n",
       "    }\n",
       "\n",
       "    .dataframe tbody tr th {\n",
       "        vertical-align: top;\n",
       "    }\n",
       "\n",
       "    .dataframe thead th {\n",
       "        text-align: right;\n",
       "    }\n",
       "</style>\n",
       "<table border=\"1\" class=\"dataframe\">\n",
       "  <thead>\n",
       "    <tr style=\"text-align: right;\">\n",
       "      <th></th>\n",
       "      <th>feature</th>\n",
       "      <th>pvalue &lt; 0.05</th>\n",
       "    </tr>\n",
       "  </thead>\n",
       "  <tbody>\n",
       "    <tr>\n",
       "      <th>0</th>\n",
       "      <td>lead_time</td>\n",
       "      <td>1</td>\n",
       "    </tr>\n",
       "    <tr>\n",
       "      <th>1</th>\n",
       "      <td>arrival_date_year</td>\n",
       "      <td>1</td>\n",
       "    </tr>\n",
       "    <tr>\n",
       "      <th>2</th>\n",
       "      <td>arrival_date_week_number</td>\n",
       "      <td>1</td>\n",
       "    </tr>\n",
       "    <tr>\n",
       "      <th>3</th>\n",
       "      <td>arrival_date_day_of_month</td>\n",
       "      <td>0</td>\n",
       "    </tr>\n",
       "    <tr>\n",
       "      <th>4</th>\n",
       "      <td>stays_in_weekend_nights</td>\n",
       "      <td>1</td>\n",
       "    </tr>\n",
       "    <tr>\n",
       "      <th>5</th>\n",
       "      <td>stays_in_week_nights</td>\n",
       "      <td>1</td>\n",
       "    </tr>\n",
       "    <tr>\n",
       "      <th>6</th>\n",
       "      <td>adults</td>\n",
       "      <td>1</td>\n",
       "    </tr>\n",
       "    <tr>\n",
       "      <th>7</th>\n",
       "      <td>children</td>\n",
       "      <td>1</td>\n",
       "    </tr>\n",
       "    <tr>\n",
       "      <th>8</th>\n",
       "      <td>babies</td>\n",
       "      <td>1</td>\n",
       "    </tr>\n",
       "    <tr>\n",
       "      <th>9</th>\n",
       "      <td>is_repeated_guest</td>\n",
       "      <td>1</td>\n",
       "    </tr>\n",
       "    <tr>\n",
       "      <th>10</th>\n",
       "      <td>previous_cancellations</td>\n",
       "      <td>1</td>\n",
       "    </tr>\n",
       "    <tr>\n",
       "      <th>11</th>\n",
       "      <td>previous_bookings_not_canceled</td>\n",
       "      <td>1</td>\n",
       "    </tr>\n",
       "    <tr>\n",
       "      <th>12</th>\n",
       "      <td>booking_changes</td>\n",
       "      <td>1</td>\n",
       "    </tr>\n",
       "    <tr>\n",
       "      <th>13</th>\n",
       "      <td>days_in_waiting_list</td>\n",
       "      <td>1</td>\n",
       "    </tr>\n",
       "    <tr>\n",
       "      <th>14</th>\n",
       "      <td>required_car_parking_spaces</td>\n",
       "      <td>1</td>\n",
       "    </tr>\n",
       "    <tr>\n",
       "      <th>15</th>\n",
       "      <td>total_of_special_requests</td>\n",
       "      <td>1</td>\n",
       "    </tr>\n",
       "    <tr>\n",
       "      <th>16</th>\n",
       "      <td>total_nights</td>\n",
       "      <td>0</td>\n",
       "    </tr>\n",
       "  </tbody>\n",
       "</table>\n",
       "</div>"
      ],
      "text/plain": [
       "                           feature  pvalue < 0.05\n",
       "0                        lead_time              1\n",
       "1                arrival_date_year              1\n",
       "2         arrival_date_week_number              1\n",
       "3        arrival_date_day_of_month              0\n",
       "4          stays_in_weekend_nights              1\n",
       "5             stays_in_week_nights              1\n",
       "6                           adults              1\n",
       "7                         children              1\n",
       "8                           babies              1\n",
       "9                is_repeated_guest              1\n",
       "10          previous_cancellations              1\n",
       "11  previous_bookings_not_canceled              1\n",
       "12                 booking_changes              1\n",
       "13            days_in_waiting_list              1\n",
       "14     required_car_parking_spaces              1\n",
       "15       total_of_special_requests              1\n",
       "16                    total_nights              0"
      ]
     },
     "execution_count": 933,
     "metadata": {},
     "output_type": "execute_result"
    }
   ],
   "source": [
    "ttest_iscanceled"
   ]
  },
  {
   "cell_type": "markdown",
   "metadata": {
    "pycharm": {
     "name": "#%% md\n"
    }
   },
   "source": [
    "## Построение существующей бизнес модели"
   ]
  },
  {
   "cell_type": "markdown",
   "metadata": {
    "pycharm": {
     "name": "#%% md\n"
    }
   },
   "source": [
    "Внесем данные о доходах и затратах в номерах разных типов. Внесем сезонные коэффициенты"
   ]
  },
  {
   "cell_type": "code",
   "execution_count": 934,
   "metadata": {
    "pycharm": {
     "name": "#%%\n"
    }
   },
   "outputs": [],
   "source": [
    "room_profit = {'room_type'   : ['A', 'B', 'C', 'D', 'E', 'F', 'G', 'H'],\n",
    "               'room_profit' : [1000, 800, 600, 550, 500, 450, 350, 300],\n",
    "               'room_expense': [400,  350, 350, 150, 150, 150, 150, 100]}\n",
    "\n",
    "season_ratio = {'season_month'  : ['June', 'July', 'August', 'September', 'October', 'November', 'December',\n",
    "                                   'January', 'February', 'March', 'April', 'May' ],\n",
    "                'season_ratio' :  [1.4, 1.4, 1.4, 1.2, 1.2, 1.2, 1, 1, 1, 1.2, 1.2, 1.2]}\n",
    "\n",
    "room_profit_df = pd.DataFrame(room_profit)\n",
    "season_ratio_df = pd.DataFrame(season_ratio)"
   ]
  },
  {
   "cell_type": "code",
   "execution_count": 935,
   "metadata": {
    "pycharm": {
     "name": "#%%\n"
    }
   },
   "outputs": [
    {
     "data": {
      "text/html": [
       "<div>\n",
       "<style scoped>\n",
       "    .dataframe tbody tr th:only-of-type {\n",
       "        vertical-align: middle;\n",
       "    }\n",
       "\n",
       "    .dataframe tbody tr th {\n",
       "        vertical-align: top;\n",
       "    }\n",
       "\n",
       "    .dataframe thead th {\n",
       "        text-align: right;\n",
       "    }\n",
       "</style>\n",
       "<table border=\"1\" class=\"dataframe\">\n",
       "  <thead>\n",
       "    <tr style=\"text-align: right;\">\n",
       "      <th></th>\n",
       "      <th>room_type</th>\n",
       "      <th>room_profit</th>\n",
       "      <th>room_expense</th>\n",
       "    </tr>\n",
       "  </thead>\n",
       "  <tbody>\n",
       "    <tr>\n",
       "      <th>0</th>\n",
       "      <td>A</td>\n",
       "      <td>1000</td>\n",
       "      <td>400</td>\n",
       "    </tr>\n",
       "    <tr>\n",
       "      <th>1</th>\n",
       "      <td>B</td>\n",
       "      <td>800</td>\n",
       "      <td>350</td>\n",
       "    </tr>\n",
       "    <tr>\n",
       "      <th>2</th>\n",
       "      <td>C</td>\n",
       "      <td>600</td>\n",
       "      <td>350</td>\n",
       "    </tr>\n",
       "    <tr>\n",
       "      <th>3</th>\n",
       "      <td>D</td>\n",
       "      <td>550</td>\n",
       "      <td>150</td>\n",
       "    </tr>\n",
       "    <tr>\n",
       "      <th>4</th>\n",
       "      <td>E</td>\n",
       "      <td>500</td>\n",
       "      <td>150</td>\n",
       "    </tr>\n",
       "    <tr>\n",
       "      <th>5</th>\n",
       "      <td>F</td>\n",
       "      <td>450</td>\n",
       "      <td>150</td>\n",
       "    </tr>\n",
       "    <tr>\n",
       "      <th>6</th>\n",
       "      <td>G</td>\n",
       "      <td>350</td>\n",
       "      <td>150</td>\n",
       "    </tr>\n",
       "    <tr>\n",
       "      <th>7</th>\n",
       "      <td>H</td>\n",
       "      <td>300</td>\n",
       "      <td>100</td>\n",
       "    </tr>\n",
       "  </tbody>\n",
       "</table>\n",
       "</div>"
      ],
      "text/plain": [
       "  room_type  room_profit  room_expense\n",
       "0         A         1000           400\n",
       "1         B          800           350\n",
       "2         C          600           350\n",
       "3         D          550           150\n",
       "4         E          500           150\n",
       "5         F          450           150\n",
       "6         G          350           150\n",
       "7         H          300           100"
      ]
     },
     "execution_count": 935,
     "metadata": {},
     "output_type": "execute_result"
    }
   ],
   "source": [
    "room_profit_df"
   ]
  },
  {
   "cell_type": "code",
   "execution_count": 936,
   "metadata": {
    "pycharm": {
     "name": "#%%\n"
    }
   },
   "outputs": [
    {
     "data": {
      "text/html": [
       "<div>\n",
       "<style scoped>\n",
       "    .dataframe tbody tr th:only-of-type {\n",
       "        vertical-align: middle;\n",
       "    }\n",
       "\n",
       "    .dataframe tbody tr th {\n",
       "        vertical-align: top;\n",
       "    }\n",
       "\n",
       "    .dataframe thead th {\n",
       "        text-align: right;\n",
       "    }\n",
       "</style>\n",
       "<table border=\"1\" class=\"dataframe\">\n",
       "  <thead>\n",
       "    <tr style=\"text-align: right;\">\n",
       "      <th></th>\n",
       "      <th>season_month</th>\n",
       "      <th>season_ratio</th>\n",
       "    </tr>\n",
       "  </thead>\n",
       "  <tbody>\n",
       "    <tr>\n",
       "      <th>0</th>\n",
       "      <td>June</td>\n",
       "      <td>1.4</td>\n",
       "    </tr>\n",
       "    <tr>\n",
       "      <th>1</th>\n",
       "      <td>July</td>\n",
       "      <td>1.4</td>\n",
       "    </tr>\n",
       "    <tr>\n",
       "      <th>2</th>\n",
       "      <td>August</td>\n",
       "      <td>1.4</td>\n",
       "    </tr>\n",
       "    <tr>\n",
       "      <th>3</th>\n",
       "      <td>September</td>\n",
       "      <td>1.2</td>\n",
       "    </tr>\n",
       "    <tr>\n",
       "      <th>4</th>\n",
       "      <td>October</td>\n",
       "      <td>1.2</td>\n",
       "    </tr>\n",
       "    <tr>\n",
       "      <th>5</th>\n",
       "      <td>November</td>\n",
       "      <td>1.2</td>\n",
       "    </tr>\n",
       "    <tr>\n",
       "      <th>6</th>\n",
       "      <td>December</td>\n",
       "      <td>1.0</td>\n",
       "    </tr>\n",
       "    <tr>\n",
       "      <th>7</th>\n",
       "      <td>January</td>\n",
       "      <td>1.0</td>\n",
       "    </tr>\n",
       "    <tr>\n",
       "      <th>8</th>\n",
       "      <td>February</td>\n",
       "      <td>1.0</td>\n",
       "    </tr>\n",
       "    <tr>\n",
       "      <th>9</th>\n",
       "      <td>March</td>\n",
       "      <td>1.2</td>\n",
       "    </tr>\n",
       "    <tr>\n",
       "      <th>10</th>\n",
       "      <td>April</td>\n",
       "      <td>1.2</td>\n",
       "    </tr>\n",
       "    <tr>\n",
       "      <th>11</th>\n",
       "      <td>May</td>\n",
       "      <td>1.2</td>\n",
       "    </tr>\n",
       "  </tbody>\n",
       "</table>\n",
       "</div>"
      ],
      "text/plain": [
       "   season_month  season_ratio\n",
       "0          June           1.4\n",
       "1          July           1.4\n",
       "2        August           1.4\n",
       "3     September           1.2\n",
       "4       October           1.2\n",
       "5      November           1.2\n",
       "6      December           1.0\n",
       "7       January           1.0\n",
       "8      February           1.0\n",
       "9         March           1.2\n",
       "10        April           1.2\n",
       "11          May           1.2"
      ]
     },
     "execution_count": 936,
     "metadata": {},
     "output_type": "execute_result"
    }
   ],
   "source": [
    "season_ratio_df"
   ]
  },
  {
   "cell_type": "code",
   "execution_count": 937,
   "metadata": {
    "pycharm": {
     "name": "#%%\n"
    }
   },
   "outputs": [
    {
     "data": {
      "text/plain": [
       "array(['A               ', 'E               ', 'G               ',\n",
       "       'D               ', 'F               ', 'C               ',\n",
       "       'B               '], dtype=object)"
      ]
     },
     "execution_count": 937,
     "metadata": {},
     "output_type": "execute_result"
    }
   ],
   "source": [
    "hotel_test['reserved_room_type'].unique()"
   ]
  },
  {
   "cell_type": "markdown",
   "metadata": {
    "pycharm": {
     "name": "#%% md\n"
    }
   },
   "source": [
    "В категориях комнат присутствуют пробелы. Удалим их, чтобы выполнить джойн"
   ]
  },
  {
   "cell_type": "code",
   "execution_count": 938,
   "metadata": {
    "pycharm": {
     "name": "#%%\n"
    }
   },
   "outputs": [],
   "source": [
    "hotel_train['reserved_room_type'] = hotel_train['reserved_room_type'].str.strip()\n",
    "hotel_test['reserved_room_type'] = hotel_test['reserved_room_type'].str.strip()"
   ]
  },
  {
   "cell_type": "markdown",
   "metadata": {
    "pycharm": {
     "name": "#%% md\n"
    }
   },
   "source": [
    "Добавим в выборку информацию об услугах и сезонные коэффициенты"
   ]
  },
  {
   "cell_type": "code",
   "execution_count": 939,
   "metadata": {
    "pycharm": {
     "name": "#%%\n"
    }
   },
   "outputs": [
    {
     "data": {
      "text/html": [
       "<div>\n",
       "<style scoped>\n",
       "    .dataframe tbody tr th:only-of-type {\n",
       "        vertical-align: middle;\n",
       "    }\n",
       "\n",
       "    .dataframe tbody tr th {\n",
       "        vertical-align: top;\n",
       "    }\n",
       "\n",
       "    .dataframe thead th {\n",
       "        text-align: right;\n",
       "    }\n",
       "</style>\n",
       "<table border=\"1\" class=\"dataframe\">\n",
       "  <thead>\n",
       "    <tr style=\"text-align: right;\">\n",
       "      <th></th>\n",
       "      <th>id</th>\n",
       "      <th>is_canceled</th>\n",
       "      <th>lead_time</th>\n",
       "      <th>arrival_date_year</th>\n",
       "      <th>arrival_date_month</th>\n",
       "      <th>arrival_date_week_number</th>\n",
       "      <th>arrival_date_day_of_month</th>\n",
       "      <th>stays_in_weekend_nights</th>\n",
       "      <th>stays_in_week_nights</th>\n",
       "      <th>adults</th>\n",
       "      <th>...</th>\n",
       "      <th>reserved_room_type</th>\n",
       "      <th>booking_changes</th>\n",
       "      <th>days_in_waiting_list</th>\n",
       "      <th>customer_type</th>\n",
       "      <th>required_car_parking_spaces</th>\n",
       "      <th>total_of_special_requests</th>\n",
       "      <th>total_nights</th>\n",
       "      <th>room_profit</th>\n",
       "      <th>room_expense</th>\n",
       "      <th>season_ratio</th>\n",
       "    </tr>\n",
       "  </thead>\n",
       "  <tbody>\n",
       "    <tr>\n",
       "      <th>0</th>\n",
       "      <td>0</td>\n",
       "      <td>0</td>\n",
       "      <td>7.0</td>\n",
       "      <td>2015</td>\n",
       "      <td>July</td>\n",
       "      <td>27</td>\n",
       "      <td>1</td>\n",
       "      <td>0</td>\n",
       "      <td>1</td>\n",
       "      <td>1.0</td>\n",
       "      <td>...</td>\n",
       "      <td>A</td>\n",
       "      <td>0</td>\n",
       "      <td>0</td>\n",
       "      <td>Transient</td>\n",
       "      <td>0</td>\n",
       "      <td>0</td>\n",
       "      <td>1</td>\n",
       "      <td>1000</td>\n",
       "      <td>400</td>\n",
       "      <td>1.4</td>\n",
       "    </tr>\n",
       "    <tr>\n",
       "      <th>1</th>\n",
       "      <td>1</td>\n",
       "      <td>0</td>\n",
       "      <td>14.0</td>\n",
       "      <td>2015</td>\n",
       "      <td>July</td>\n",
       "      <td>27</td>\n",
       "      <td>1</td>\n",
       "      <td>0</td>\n",
       "      <td>2</td>\n",
       "      <td>2.0</td>\n",
       "      <td>...</td>\n",
       "      <td>A</td>\n",
       "      <td>0</td>\n",
       "      <td>0</td>\n",
       "      <td>Transient</td>\n",
       "      <td>0</td>\n",
       "      <td>1</td>\n",
       "      <td>2</td>\n",
       "      <td>1000</td>\n",
       "      <td>400</td>\n",
       "      <td>1.4</td>\n",
       "    </tr>\n",
       "    <tr>\n",
       "      <th>2</th>\n",
       "      <td>2</td>\n",
       "      <td>0</td>\n",
       "      <td>0.0</td>\n",
       "      <td>2015</td>\n",
       "      <td>July</td>\n",
       "      <td>27</td>\n",
       "      <td>1</td>\n",
       "      <td>0</td>\n",
       "      <td>2</td>\n",
       "      <td>2.0</td>\n",
       "      <td>...</td>\n",
       "      <td>C</td>\n",
       "      <td>0</td>\n",
       "      <td>0</td>\n",
       "      <td>Transient</td>\n",
       "      <td>0</td>\n",
       "      <td>0</td>\n",
       "      <td>2</td>\n",
       "      <td>600</td>\n",
       "      <td>350</td>\n",
       "      <td>1.4</td>\n",
       "    </tr>\n",
       "    <tr>\n",
       "      <th>3</th>\n",
       "      <td>3</td>\n",
       "      <td>0</td>\n",
       "      <td>9.0</td>\n",
       "      <td>2015</td>\n",
       "      <td>July</td>\n",
       "      <td>27</td>\n",
       "      <td>1</td>\n",
       "      <td>0</td>\n",
       "      <td>2</td>\n",
       "      <td>2.0</td>\n",
       "      <td>...</td>\n",
       "      <td>C</td>\n",
       "      <td>0</td>\n",
       "      <td>0</td>\n",
       "      <td>Transient</td>\n",
       "      <td>0</td>\n",
       "      <td>1</td>\n",
       "      <td>2</td>\n",
       "      <td>600</td>\n",
       "      <td>350</td>\n",
       "      <td>1.4</td>\n",
       "    </tr>\n",
       "    <tr>\n",
       "      <th>4</th>\n",
       "      <td>4</td>\n",
       "      <td>1</td>\n",
       "      <td>85.0</td>\n",
       "      <td>2015</td>\n",
       "      <td>July</td>\n",
       "      <td>27</td>\n",
       "      <td>1</td>\n",
       "      <td>0</td>\n",
       "      <td>3</td>\n",
       "      <td>2.0</td>\n",
       "      <td>...</td>\n",
       "      <td>A</td>\n",
       "      <td>0</td>\n",
       "      <td>0</td>\n",
       "      <td>Transient</td>\n",
       "      <td>0</td>\n",
       "      <td>1</td>\n",
       "      <td>3</td>\n",
       "      <td>1000</td>\n",
       "      <td>400</td>\n",
       "      <td>1.4</td>\n",
       "    </tr>\n",
       "  </tbody>\n",
       "</table>\n",
       "<p>5 rows × 28 columns</p>\n",
       "</div>"
      ],
      "text/plain": [
       "   id  is_canceled  lead_time  arrival_date_year arrival_date_month  \\\n",
       "0   0            0        7.0               2015               July   \n",
       "1   1            0       14.0               2015               July   \n",
       "2   2            0        0.0               2015               July   \n",
       "3   3            0        9.0               2015               July   \n",
       "4   4            1       85.0               2015               July   \n",
       "\n",
       "   arrival_date_week_number  arrival_date_day_of_month  \\\n",
       "0                        27                          1   \n",
       "1                        27                          1   \n",
       "2                        27                          1   \n",
       "3                        27                          1   \n",
       "4                        27                          1   \n",
       "\n",
       "   stays_in_weekend_nights  stays_in_week_nights  adults  ...  \\\n",
       "0                        0                     1     1.0  ...   \n",
       "1                        0                     2     2.0  ...   \n",
       "2                        0                     2     2.0  ...   \n",
       "3                        0                     2     2.0  ...   \n",
       "4                        0                     3     2.0  ...   \n",
       "\n",
       "   reserved_room_type  booking_changes days_in_waiting_list customer_type  \\\n",
       "0                   A                0                    0     Transient   \n",
       "1                   A                0                    0     Transient   \n",
       "2                   C                0                    0     Transient   \n",
       "3                   C                0                    0     Transient   \n",
       "4                   A                0                    0     Transient   \n",
       "\n",
       "  required_car_parking_spaces  total_of_special_requests  total_nights  \\\n",
       "0                           0                          0             1   \n",
       "1                           0                          1             2   \n",
       "2                           0                          0             2   \n",
       "3                           0                          1             2   \n",
       "4                           0                          1             3   \n",
       "\n",
       "   room_profit room_expense  season_ratio  \n",
       "0         1000          400           1.4  \n",
       "1         1000          400           1.4  \n",
       "2          600          350           1.4  \n",
       "3          600          350           1.4  \n",
       "4         1000          400           1.4  \n",
       "\n",
       "[5 rows x 28 columns]"
      ]
     },
     "execution_count": 939,
     "metadata": {},
     "output_type": "execute_result"
    }
   ],
   "source": [
    "df_profit = hotel_train.join(room_profit_df.set_index('room_type'), on='reserved_room_type', how='left')\\\n",
    "                       .join(season_ratio_df.set_index('season_month'), on='arrival_date_month', how='left')\n",
    "\n",
    "df_profit.head()"
   ]
  },
  {
   "cell_type": "markdown",
   "metadata": {
    "pycharm": {
     "name": "#%% md\n"
    }
   },
   "source": [
    "Посчитаем выручку с каждого заказа, независимо, был он отменен или нет"
   ]
  },
  {
   "cell_type": "code",
   "execution_count": 940,
   "metadata": {
    "pycharm": {
     "name": "#%%\n"
    }
   },
   "outputs": [],
   "source": [
    "df_profit['income'] = df_profit['total_nights'] * df_profit['room_profit'] * df_profit['season_ratio']"
   ]
  },
  {
   "cell_type": "markdown",
   "metadata": {},
   "source": [
    "Найдем общее кол-во раз, когда выполняется уборка во время заказа. Если одна ночь, то один раз, если несколько, то раз в 2 дня"
   ]
  },
  {
   "cell_type": "code",
   "execution_count": 941,
   "metadata": {
    "pycharm": {
     "name": "#%%\n"
    }
   },
   "outputs": [],
   "source": [
    "df_profit['total_expense_nights'] = df_profit['total_nights'].apply(lambda x: 1 if x == 1 else np.ceil(x / 2))"
   ]
  },
  {
   "cell_type": "code",
   "execution_count": 942,
   "metadata": {
    "pycharm": {
     "name": "#%%\n"
    }
   },
   "outputs": [
    {
     "data": {
      "text/html": [
       "<div>\n",
       "<style scoped>\n",
       "    .dataframe tbody tr th:only-of-type {\n",
       "        vertical-align: middle;\n",
       "    }\n",
       "\n",
       "    .dataframe tbody tr th {\n",
       "        vertical-align: top;\n",
       "    }\n",
       "\n",
       "    .dataframe thead th {\n",
       "        text-align: right;\n",
       "    }\n",
       "</style>\n",
       "<table border=\"1\" class=\"dataframe\">\n",
       "  <thead>\n",
       "    <tr style=\"text-align: right;\">\n",
       "      <th></th>\n",
       "      <th>id</th>\n",
       "      <th>is_canceled</th>\n",
       "      <th>lead_time</th>\n",
       "      <th>arrival_date_year</th>\n",
       "      <th>arrival_date_month</th>\n",
       "      <th>arrival_date_week_number</th>\n",
       "      <th>arrival_date_day_of_month</th>\n",
       "      <th>stays_in_weekend_nights</th>\n",
       "      <th>stays_in_week_nights</th>\n",
       "      <th>adults</th>\n",
       "      <th>...</th>\n",
       "      <th>days_in_waiting_list</th>\n",
       "      <th>customer_type</th>\n",
       "      <th>required_car_parking_spaces</th>\n",
       "      <th>total_of_special_requests</th>\n",
       "      <th>total_nights</th>\n",
       "      <th>room_profit</th>\n",
       "      <th>room_expense</th>\n",
       "      <th>season_ratio</th>\n",
       "      <th>income</th>\n",
       "      <th>total_expense_nights</th>\n",
       "    </tr>\n",
       "  </thead>\n",
       "  <tbody>\n",
       "    <tr>\n",
       "      <th>0</th>\n",
       "      <td>0</td>\n",
       "      <td>0</td>\n",
       "      <td>7.0</td>\n",
       "      <td>2015</td>\n",
       "      <td>July</td>\n",
       "      <td>27</td>\n",
       "      <td>1</td>\n",
       "      <td>0</td>\n",
       "      <td>1</td>\n",
       "      <td>1.0</td>\n",
       "      <td>...</td>\n",
       "      <td>0</td>\n",
       "      <td>Transient</td>\n",
       "      <td>0</td>\n",
       "      <td>0</td>\n",
       "      <td>1</td>\n",
       "      <td>1000</td>\n",
       "      <td>400</td>\n",
       "      <td>1.4</td>\n",
       "      <td>1400.0</td>\n",
       "      <td>1.0</td>\n",
       "    </tr>\n",
       "    <tr>\n",
       "      <th>1</th>\n",
       "      <td>1</td>\n",
       "      <td>0</td>\n",
       "      <td>14.0</td>\n",
       "      <td>2015</td>\n",
       "      <td>July</td>\n",
       "      <td>27</td>\n",
       "      <td>1</td>\n",
       "      <td>0</td>\n",
       "      <td>2</td>\n",
       "      <td>2.0</td>\n",
       "      <td>...</td>\n",
       "      <td>0</td>\n",
       "      <td>Transient</td>\n",
       "      <td>0</td>\n",
       "      <td>1</td>\n",
       "      <td>2</td>\n",
       "      <td>1000</td>\n",
       "      <td>400</td>\n",
       "      <td>1.4</td>\n",
       "      <td>2800.0</td>\n",
       "      <td>1.0</td>\n",
       "    </tr>\n",
       "    <tr>\n",
       "      <th>2</th>\n",
       "      <td>2</td>\n",
       "      <td>0</td>\n",
       "      <td>0.0</td>\n",
       "      <td>2015</td>\n",
       "      <td>July</td>\n",
       "      <td>27</td>\n",
       "      <td>1</td>\n",
       "      <td>0</td>\n",
       "      <td>2</td>\n",
       "      <td>2.0</td>\n",
       "      <td>...</td>\n",
       "      <td>0</td>\n",
       "      <td>Transient</td>\n",
       "      <td>0</td>\n",
       "      <td>0</td>\n",
       "      <td>2</td>\n",
       "      <td>600</td>\n",
       "      <td>350</td>\n",
       "      <td>1.4</td>\n",
       "      <td>1680.0</td>\n",
       "      <td>1.0</td>\n",
       "    </tr>\n",
       "    <tr>\n",
       "      <th>3</th>\n",
       "      <td>3</td>\n",
       "      <td>0</td>\n",
       "      <td>9.0</td>\n",
       "      <td>2015</td>\n",
       "      <td>July</td>\n",
       "      <td>27</td>\n",
       "      <td>1</td>\n",
       "      <td>0</td>\n",
       "      <td>2</td>\n",
       "      <td>2.0</td>\n",
       "      <td>...</td>\n",
       "      <td>0</td>\n",
       "      <td>Transient</td>\n",
       "      <td>0</td>\n",
       "      <td>1</td>\n",
       "      <td>2</td>\n",
       "      <td>600</td>\n",
       "      <td>350</td>\n",
       "      <td>1.4</td>\n",
       "      <td>1680.0</td>\n",
       "      <td>1.0</td>\n",
       "    </tr>\n",
       "    <tr>\n",
       "      <th>4</th>\n",
       "      <td>4</td>\n",
       "      <td>1</td>\n",
       "      <td>85.0</td>\n",
       "      <td>2015</td>\n",
       "      <td>July</td>\n",
       "      <td>27</td>\n",
       "      <td>1</td>\n",
       "      <td>0</td>\n",
       "      <td>3</td>\n",
       "      <td>2.0</td>\n",
       "      <td>...</td>\n",
       "      <td>0</td>\n",
       "      <td>Transient</td>\n",
       "      <td>0</td>\n",
       "      <td>1</td>\n",
       "      <td>3</td>\n",
       "      <td>1000</td>\n",
       "      <td>400</td>\n",
       "      <td>1.4</td>\n",
       "      <td>4200.0</td>\n",
       "      <td>2.0</td>\n",
       "    </tr>\n",
       "  </tbody>\n",
       "</table>\n",
       "<p>5 rows × 30 columns</p>\n",
       "</div>"
      ],
      "text/plain": [
       "   id  is_canceled  lead_time  arrival_date_year arrival_date_month  \\\n",
       "0   0            0        7.0               2015               July   \n",
       "1   1            0       14.0               2015               July   \n",
       "2   2            0        0.0               2015               July   \n",
       "3   3            0        9.0               2015               July   \n",
       "4   4            1       85.0               2015               July   \n",
       "\n",
       "   arrival_date_week_number  arrival_date_day_of_month  \\\n",
       "0                        27                          1   \n",
       "1                        27                          1   \n",
       "2                        27                          1   \n",
       "3                        27                          1   \n",
       "4                        27                          1   \n",
       "\n",
       "   stays_in_weekend_nights  stays_in_week_nights  adults  ...  \\\n",
       "0                        0                     1     1.0  ...   \n",
       "1                        0                     2     2.0  ...   \n",
       "2                        0                     2     2.0  ...   \n",
       "3                        0                     2     2.0  ...   \n",
       "4                        0                     3     2.0  ...   \n",
       "\n",
       "   days_in_waiting_list  customer_type required_car_parking_spaces  \\\n",
       "0                     0      Transient                           0   \n",
       "1                     0      Transient                           0   \n",
       "2                     0      Transient                           0   \n",
       "3                     0      Transient                           0   \n",
       "4                     0      Transient                           0   \n",
       "\n",
       "  total_of_special_requests total_nights  room_profit  room_expense  \\\n",
       "0                         0            1         1000           400   \n",
       "1                         1            2         1000           400   \n",
       "2                         0            2          600           350   \n",
       "3                         1            2          600           350   \n",
       "4                         1            3         1000           400   \n",
       "\n",
       "   season_ratio  income  total_expense_nights  \n",
       "0           1.4  1400.0                   1.0  \n",
       "1           1.4  2800.0                   1.0  \n",
       "2           1.4  1680.0                   1.0  \n",
       "3           1.4  1680.0                   1.0  \n",
       "4           1.4  4200.0                   2.0  \n",
       "\n",
       "[5 rows x 30 columns]"
      ]
     },
     "execution_count": 942,
     "metadata": {},
     "output_type": "execute_result"
    }
   ],
   "source": [
    "df_profit.head()"
   ]
  },
  {
   "cell_type": "markdown",
   "metadata": {
    "pycharm": {
     "name": "#%% md\n"
    }
   },
   "source": [
    "Посчитаем расходы за каждый заказ. Если заказ был отменен, то разовое обслуживание, если нет, то умножаем на 'total_expense_nights'"
   ]
  },
  {
   "cell_type": "code",
   "execution_count": 943,
   "metadata": {
    "pycharm": {
     "name": "#%%\n"
    }
   },
   "outputs": [],
   "source": [
    "df_profit.loc[df_profit['is_canceled'] == 1, 'expense'] = df_profit['room_expense']\n",
    "df_profit.loc[df_profit['is_canceled'] == 0, 'expense'] = df_profit['room_expense'] * df_profit['total_expense_nights']"
   ]
  },
  {
   "cell_type": "markdown",
   "metadata": {
    "pycharm": {
     "name": "#%% md\n"
    }
   },
   "source": [
    "Посчитает общие доходы за данный период"
   ]
  },
  {
   "cell_type": "code",
   "execution_count": 944,
   "metadata": {
    "pycharm": {
     "name": "#%%\n"
    }
   },
   "outputs": [],
   "source": [
    "income = df_profit[df_profit['is_canceled'] == 0]['income'].sum()"
   ]
  },
  {
   "cell_type": "markdown",
   "metadata": {
    "pycharm": {
     "name": "#%% md\n"
    }
   },
   "source": [
    "Посчитаем общие расходы за данный период"
   ]
  },
  {
   "cell_type": "code",
   "execution_count": 945,
   "metadata": {
    "pycharm": {
     "name": "#%%\n"
    }
   },
   "outputs": [],
   "source": [
    "expense = df_profit['expense'].sum()"
   ]
  },
  {
   "cell_type": "markdown",
   "metadata": {
    "pycharm": {
     "name": "#%% md\n"
    }
   },
   "source": [
    "Найдем разницу"
   ]
  },
  {
   "cell_type": "code",
   "execution_count": 946,
   "metadata": {
    "pycharm": {
     "name": "#%%\n"
    }
   },
   "outputs": [
    {
     "data": {
      "text/plain": [
       "99.08207"
      ]
     },
     "execution_count": 946,
     "metadata": {},
     "output_type": "execute_result"
    }
   ],
   "source": [
    "profit = (income - expense)/1000000\n",
    "profit"
   ]
  },
  {
   "cell_type": "markdown",
   "metadata": {
    "pycharm": {
     "name": "#%% md\n"
    }
   },
   "source": [
    "общий доход текущего бизнес плана составляет 99 млн руб"
   ]
  },
  {
   "cell_type": "markdown",
   "metadata": {
    "pycharm": {
     "name": "#%% md\n"
    }
   },
   "source": [
    "Посчитаем среднюю прибыль с заказа"
   ]
  },
  {
   "cell_type": "code",
   "execution_count": 947,
   "metadata": {
    "pycharm": {
     "name": "#%%\n"
    }
   },
   "outputs": [
    {
     "data": {
      "text/plain": [
       "0.0015190346022352706"
      ]
     },
     "execution_count": 947,
     "metadata": {},
     "output_type": "execute_result"
    }
   ],
   "source": [
    "profit_mean = profit / len(hotel_train)\n",
    "profit_mean"
   ]
  },
  {
   "cell_type": "markdown",
   "metadata": {
    "pycharm": {
     "name": "#%% md\n"
    }
   },
   "source": [
    "Вывод: текущая бизнес модель позволяет получать в среднем 1500 руб с заказа"
   ]
  },
  {
   "cell_type": "markdown",
   "metadata": {
    "pycharm": {
     "name": "#%% md\n"
    }
   },
   "source": [
    "## Построение модели ненадежного клиента"
   ]
  },
  {
   "cell_type": "markdown",
   "metadata": {
    "pycharm": {
     "name": "#%% md\n"
    }
   },
   "source": [
    "Подготовим данные к обучению в модели. Уберем избыточные признаки о которых говорилось выше"
   ]
  },
  {
   "cell_type": "code",
   "execution_count": 948,
   "metadata": {
    "pycharm": {
     "name": "#%%\n"
    }
   },
   "outputs": [],
   "source": [
    "columns_to_drop = ['id', 'arrival_date_year', 'arrival_date_month', 'is_canceled']\n",
    "\n",
    "X = hotel_train.drop(columns_to_drop, axis=1)\n",
    "X_test = hotel_test.drop(columns_to_drop, axis=1)\n",
    "\n",
    "y = hotel_train['is_canceled']\n",
    "y_test = hotel_test['is_canceled']"
   ]
  },
  {
   "cell_type": "markdown",
   "metadata": {
    "pycharm": {
     "name": "#%% md\n"
    }
   },
   "source": [
    "Выделим категориальные признаки"
   ]
  },
  {
   "cell_type": "code",
   "execution_count": 949,
   "metadata": {
    "pycharm": {
     "name": "#%%\n"
    }
   },
   "outputs": [
    {
     "data": {
      "text/plain": [
       "['meal',\n",
       " 'country',\n",
       " 'distribution_channel',\n",
       " 'reserved_room_type',\n",
       " 'customer_type']"
      ]
     },
     "execution_count": 949,
     "metadata": {},
     "output_type": "execute_result"
    }
   ],
   "source": [
    "category_list = list(X.select_dtypes(include=['object']).columns)\n",
    "category_list"
   ]
  },
  {
   "cell_type": "markdown",
   "metadata": {
    "pycharm": {
     "name": "#%% md\n"
    }
   },
   "source": [
    "Преобразуем их с помощью Ordinal Encoder"
   ]
  },
  {
   "cell_type": "code",
   "execution_count": 950,
   "metadata": {
    "pycharm": {
     "name": "#%%\n"
    }
   },
   "outputs": [],
   "source": [
    "encoder = OrdinalEncoder(handle_unknown=\"use_encoded_value\", unknown_value=-1)\n",
    "X[category_list] = encoder.fit_transform(X[category_list])\n",
    "X_test[category_list] = encoder.transform(X_test[category_list])"
   ]
  },
  {
   "cell_type": "markdown",
   "metadata": {
    "pycharm": {
     "name": "#%% md\n"
    }
   },
   "source": [
    "Проверим"
   ]
  },
  {
   "cell_type": "code",
   "execution_count": 951,
   "metadata": {
    "pycharm": {
     "name": "#%%\n"
    }
   },
   "outputs": [
    {
     "name": "stdout",
     "output_type": "stream",
     "text": [
      "<class 'pandas.core.frame.DataFrame'>\n",
      "Int64Index: 65227 entries, 0 to 65228\n",
      "Data columns (total 21 columns):\n",
      " #   Column                          Non-Null Count  Dtype  \n",
      "---  ------                          --------------  -----  \n",
      " 0   lead_time                       65227 non-null  float64\n",
      " 1   arrival_date_week_number        65227 non-null  int64  \n",
      " 2   arrival_date_day_of_month       65227 non-null  int64  \n",
      " 3   stays_in_weekend_nights         65227 non-null  int64  \n",
      " 4   stays_in_week_nights            65227 non-null  int64  \n",
      " 5   adults                          65227 non-null  float64\n",
      " 6   children                        65227 non-null  float64\n",
      " 7   babies                          65227 non-null  float64\n",
      " 8   meal                            65227 non-null  float64\n",
      " 9   country                         65227 non-null  float64\n",
      " 10  distribution_channel            65227 non-null  float64\n",
      " 11  is_repeated_guest               65227 non-null  int64  \n",
      " 12  previous_cancellations          65227 non-null  int64  \n",
      " 13  previous_bookings_not_canceled  65227 non-null  int64  \n",
      " 14  reserved_room_type              65227 non-null  float64\n",
      " 15  booking_changes                 65227 non-null  int64  \n",
      " 16  days_in_waiting_list            65227 non-null  int64  \n",
      " 17  customer_type                   65227 non-null  float64\n",
      " 18  required_car_parking_spaces     65227 non-null  int64  \n",
      " 19  total_of_special_requests       65227 non-null  int64  \n",
      " 20  total_nights                    65227 non-null  int64  \n",
      "dtypes: float64(9), int64(12)\n",
      "memory usage: 13.0 MB\n"
     ]
    }
   ],
   "source": [
    "X.info()"
   ]
  },
  {
   "cell_type": "code",
   "execution_count": 952,
   "metadata": {
    "pycharm": {
     "name": "#%%\n"
    }
   },
   "outputs": [
    {
     "name": "stdout",
     "output_type": "stream",
     "text": [
      "<class 'pandas.core.frame.DataFrame'>\n",
      "RangeIndex: 32412 entries, 0 to 32411\n",
      "Data columns (total 21 columns):\n",
      " #   Column                          Non-Null Count  Dtype  \n",
      "---  ------                          --------------  -----  \n",
      " 0   lead_time                       32412 non-null  float64\n",
      " 1   arrival_date_week_number        32412 non-null  int64  \n",
      " 2   arrival_date_day_of_month       32412 non-null  int64  \n",
      " 3   stays_in_weekend_nights         32412 non-null  int64  \n",
      " 4   stays_in_week_nights            32412 non-null  int64  \n",
      " 5   adults                          32412 non-null  float64\n",
      " 6   children                        32412 non-null  float64\n",
      " 7   babies                          32412 non-null  float64\n",
      " 8   meal                            32412 non-null  float64\n",
      " 9   country                         32412 non-null  float64\n",
      " 10  distribution_channel            32412 non-null  float64\n",
      " 11  is_repeated_guest               32412 non-null  int64  \n",
      " 12  previous_cancellations          32412 non-null  int64  \n",
      " 13  previous_bookings_not_canceled  32412 non-null  int64  \n",
      " 14  reserved_room_type              32412 non-null  float64\n",
      " 15  booking_changes                 32412 non-null  int64  \n",
      " 16  days_in_waiting_list            32412 non-null  int64  \n",
      " 17  customer_type                   32412 non-null  float64\n",
      " 18  required_car_parking_spaces     32412 non-null  int64  \n",
      " 19  total_of_special_requests       32412 non-null  int64  \n",
      " 20  total_nights                    32412 non-null  int64  \n",
      "dtypes: float64(9), int64(12)\n",
      "memory usage: 5.2 MB\n"
     ]
    }
   ],
   "source": [
    "X_test.info()"
   ]
  },
  {
   "cell_type": "markdown",
   "metadata": {
    "pycharm": {
     "name": "#%% md\n"
    }
   },
   "source": [
    "Преобразуем категориальные признаки"
   ]
  },
  {
   "cell_type": "markdown",
   "metadata": {
    "pycharm": {
     "name": "#%% md\n"
    }
   },
   "source": [
    "Разделим тренировочные данные на обучающую и валидационную выборки"
   ]
  },
  {
   "cell_type": "code",
   "execution_count": 953,
   "metadata": {
    "pycharm": {
     "name": "#%%\n"
    }
   },
   "outputs": [],
   "source": [
    "# X_train, X_valid, y_train, y_valid = train_test_split(X, y, train_size=0.75, random_state=123)"
   ]
  },
  {
   "cell_type": "markdown",
   "metadata": {
    "pycharm": {
     "name": "#%% md\n"
    }
   },
   "source": [
    "Сделаем словарь, в котором объеденим все выборки"
   ]
  },
  {
   "cell_type": "code",
   "execution_count": 954,
   "metadata": {
    "pycharm": {
     "name": "#%%\n"
    }
   },
   "outputs": [],
   "source": [
    "data = {'train': {'X': X, 'y': y},\n",
    "        'test':  {'X': X_test,  'y': y_test}}"
   ]
  },
  {
   "cell_type": "markdown",
   "metadata": {
    "pycharm": {
     "name": "#%% md\n"
    }
   },
   "source": [
    "Напишем функцию которая будет возвращать GridSearch для моделей DecisionTreeClassifier, RandomForestClassifier с заданными параметрами скоринга, класса весов, кол-ва исполняемых потоков."
   ]
  },
  {
   "cell_type": "code",
   "execution_count": 955,
   "metadata": {
    "pycharm": {
     "name": "#%%\n"
    }
   },
   "outputs": [],
   "source": [
    "#return GridSearch for DecisionTreeClassifier, RandomForestClassifier with parameters\n",
    "def get_grid_search(\n",
    "        depth=        16,\n",
    "        est =         16,\n",
    "        depth_step=   3,\n",
    "        step_est =    3,\n",
    "        njobs=        10,\n",
    "        scoring=      None,\n",
    "        class_weight= None,\n",
    "        cv=           None,\n",
    "        refit=        \"neg_root_mean_squared_error\"\n",
    "):\n",
    "\n",
    "    pipeline = Pipeline([('clf', DecisionTreeClassifier(random_state=123))])\n",
    "    parameters = [\n",
    "        {\n",
    "            'clf': (DecisionTreeClassifier(random_state=123),),\n",
    "            'clf__max_depth': range(1, depth, depth_step),\n",
    "            'clf__class_weight': [class_weight]\n",
    "\n",
    "        }, {\n",
    "            'clf': (RandomForestClassifier(random_state=123),),\n",
    "            'clf__n_estimators': range(1, est, step_est),\n",
    "            'clf__max_depth': range(1, depth, depth_step),\n",
    "            'clf__class_weight': [class_weight]\n",
    "\n",
    "        }\n",
    "    ]\n",
    "\n",
    "    return GridSearchCV(pipeline, parameters, scoring=scoring, n_jobs=njobs, refit=refit, cv=cv)"
   ]
  },
  {
   "cell_type": "markdown",
   "metadata": {
    "pycharm": {
     "name": "#%% md\n"
    }
   },
   "source": [
    "Напишем функцию, которая фитит данные в полученный GridSearch и выводит информацию о лучшей модели: основные параметры, Accuracy, F1 и AUC-ROC метрики для валидационной и тестовой выборки"
   ]
  },
  {
   "cell_type": "code",
   "execution_count": 956,
   "metadata": {
    "pycharm": {
     "name": "#%%\n"
    }
   },
   "outputs": [],
   "source": [
    "# fit data in grid search and print best estimator parameters and\n",
    "# F1, AUC-ROC for valid and test samples\n",
    "# return best estimator\n",
    "def fit_and_results(data,\n",
    "                    grid_search):\n",
    "\n",
    "    #Fit\n",
    "    grid_search.fit(data['train']['X'], data['train']['y'])\n",
    "\n",
    "    #Show best estimator\n",
    "    print('Best estimator parameters:')\n",
    "    print(grid_search.best_estimator_)\n",
    "\n",
    "    #Show F1 results\n",
    "    print('F1 cv score:')\n",
    "    print(grid_search.best_score_)\n",
    "    print('F1 test score:')\n",
    "    print(f1_score(data['test']['y'], grid_search.best_estimator_.predict(data['test']['X'])))\n",
    "    #Show accuracy results\n",
    "    print('Accuracy cv score:')\n",
    "    print(cross_val_score(grid_search.best_estimator_, X=data['train']['X'], y=data['train']['y'], scoring='accuracy', cv=5).mean())\n",
    "    print('Accuracy test score:')\n",
    "    print(accuracy_score(data['test']['y'], grid_search.best_estimator_.predict(data['test']['X'])))\n",
    "\n",
    "    #Show AUC-ROC results\n",
    "    print('AUC-ROC cv score:')\n",
    "    print(cross_val_score(grid_search.best_estimator_, X=data['train']['X'], y=data['train']['y'], scoring='roc_auc', cv=5).mean())\n",
    "    print('AUC-ROC test score:')\n",
    "    print(roc_auc_score( data['test']['y'], grid_search.best_estimator_.predict_proba(data['test']['X'])[:, 1]))\n",
    "\n",
    "    return grid_search\n"
   ]
  },
  {
   "cell_type": "code",
   "execution_count": 958,
   "metadata": {
    "pycharm": {
     "name": "#%%\n"
    }
   },
   "outputs": [
    {
     "name": "stdout",
     "output_type": "stream",
     "text": [
      "Best estimator parameters:\n",
      "Pipeline(steps=[('clf',\n",
      "                 RandomForestClassifier(class_weight='balanced', max_depth=1,\n",
      "                                        n_estimators=4, random_state=123))])\n",
      "F1 cv score:\n",
      "0.6419719858094044\n",
      "F1 test score:\n",
      "0.6016799292661362\n",
      "Accuracy cv score:\n",
      "0.6806241017499362\n",
      "Accuracy test score:\n",
      "0.6664198445020363\n",
      "AUC-ROC cv score:\n",
      "0.7097086107267061\n",
      "AUC-ROC test score:\n",
      "0.6811419154814992\n"
     ]
    }
   ],
   "source": [
    "grid_search = get_grid_search(class_weight='balanced', scoring='f1', cv=5)\n",
    "result = fit_and_results(data,grid_search)\n",
    "model = result.best_estimator_"
   ]
  },
  {
   "cell_type": "markdown",
   "metadata": {
    "pycharm": {
     "name": "#%% md\n"
    }
   },
   "source": [
    "Вывод: наилучшая модель оказалась RandomForestClassifier(max_depth=1, n_estimators=4) и показала на тестовой выборке accuracy = 0.66, f1 = 0.47 и AUC-ROC = 0.68\n"
   ]
  },
  {
   "attachments": {},
   "cell_type": "markdown",
   "metadata": {},
   "source": [
    "Поcмотрим результат на Catboost"
   ]
  },
  {
   "cell_type": "code",
   "execution_count": 959,
   "metadata": {
    "pycharm": {
     "name": "#%%\n"
    }
   },
   "outputs": [
    {
     "name": "stdout",
     "output_type": "stream",
     "text": [
      "train f1 score: 0.866516762060507\n",
      "test f1 score: 0.7622794026903615\n"
     ]
    }
   ],
   "source": [
    "from sklearn.model_selection import train_test_split\n",
    "\n",
    "X_train, X_val, y_train, y_val = train_test_split(X, y, test_size=0.25, random_state=0)\n",
    "\n",
    "cat_model = CatBoostClassifier(\n",
    "    iterations=50,\n",
    "    random_seed=42,\n",
    "    learning_rate=0.5,\n",
    "    eval_metric='F1'\n",
    ")\n",
    "\n",
    "cat_features = category_list\n",
    "\n",
    "cat_model.fit(\n",
    "    X_train, y_train,\n",
    "    cat_features=None,\n",
    "    eval_set=(X_val, y_val),\n",
    "    verbose=False,\n",
    ")\n",
    "\n",
    "train_score = cat_model.score(X_train, y_train)\n",
    "test_score = cat_model.score(X_test, y_test)\n",
    "\n",
    "print('train f1 score:', train_score)\n",
    "print('test f1 score:', test_score)"
   ]
  },
  {
   "cell_type": "markdown",
   "metadata": {
    "pycharm": {
     "name": "#%% md\n"
    }
   },
   "source": [
    "## Построение портрета ненадежного клиента"
   ]
  },
  {
   "cell_type": "markdown",
   "metadata": {
    "pycharm": {
     "name": "#%% md\n"
    }
   },
   "source": [
    "На основе полученной модели составим портрет неблагонадежного клиента. Вначале рассмотрим значимость признаков"
   ]
  },
  {
   "cell_type": "code",
   "execution_count": 1,
   "metadata": {
    "pycharm": {
     "name": "#%%\n"
    }
   },
   "outputs": [
    {
     "ename": "NameError",
     "evalue": "name 'model' is not defined",
     "output_type": "error",
     "traceback": [
      "\u001b[0;31m---------------------------------------------------------------------------\u001b[0m",
      "\u001b[0;31mNameError\u001b[0m                                 Traceback (most recent call last)",
      "\u001b[0;32m<ipython-input-1-a016e8e0c4b6>\u001b[0m in \u001b[0;36m<module>\u001b[0;34m\u001b[0m\n\u001b[0;32m----> 1\u001b[0;31m \u001b[0mfeature_importances\u001b[0m \u001b[0;34m=\u001b[0m \u001b[0mmodel\u001b[0m\u001b[0;34m.\u001b[0m\u001b[0msteps\u001b[0m\u001b[0;34m[\u001b[0m\u001b[0;36m0\u001b[0m\u001b[0;34m]\u001b[0m\u001b[0;34m[\u001b[0m\u001b[0;36m1\u001b[0m\u001b[0;34m]\u001b[0m\u001b[0;34m.\u001b[0m\u001b[0mfeature_importances_\u001b[0m\u001b[0;34m\u001b[0m\u001b[0;34m\u001b[0m\u001b[0m\n\u001b[0m\u001b[1;32m      2\u001b[0m \u001b[0mprint\u001b[0m\u001b[0;34m(\u001b[0m\u001b[0msorted\u001b[0m\u001b[0;34m(\u001b[0m\u001b[0mzip\u001b[0m\u001b[0;34m(\u001b[0m\u001b[0mfeature_importances\u001b[0m\u001b[0;34m,\u001b[0m \u001b[0mX\u001b[0m\u001b[0;34m.\u001b[0m\u001b[0mcolumns\u001b[0m\u001b[0;34m)\u001b[0m\u001b[0;34m,\u001b[0m \u001b[0mreverse\u001b[0m\u001b[0;34m=\u001b[0m\u001b[0;32mTrue\u001b[0m\u001b[0;34m)\u001b[0m\u001b[0;34m)\u001b[0m\u001b[0;34m\u001b[0m\u001b[0;34m\u001b[0m\u001b[0m\n",
      "\u001b[0;31mNameError\u001b[0m: name 'model' is not defined"
     ]
    }
   ],
   "source": [
    "feature_importances = model.steps[0][1].feature_importances_\n",
    "print(sorted(zip(feature_importances, X.columns), reverse=True))"
   ]
  },
  {
   "cell_type": "markdown",
   "metadata": {
    "pycharm": {
     "name": "#%% md\n"
    }
   },
   "source": [
    "Параметры с наибольшим весом это страна проживания, кол-во дней между датой бронирования и заселением, кол-во специальных запросов, общее кол-во отмененных заказов, тип заказчика"
   ]
  },
  {
   "cell_type": "markdown",
   "metadata": {
    "pycharm": {
     "name": "#%% md\n"
    }
   },
   "source": [
    "Рассмотрим их на тренировочной выборки. Общая идея: будем выделять уникальные группы свойств, которые есть у неблагонадежных клиентов. А дальше будем смотреть нормированную разницу распределений между ними и нормальными клиентами"
   ]
  },
  {
   "cell_type": "code",
   "execution_count": 961,
   "metadata": {
    "pycharm": {
     "name": "#%%\n"
    }
   },
   "outputs": [],
   "source": [
    "no_client = hotel_train[hotel_train['is_canceled'] == 1]\n",
    "ok_client = hotel_train[hotel_train['is_canceled'] == 0]"
   ]
  },
  {
   "cell_type": "code",
   "execution_count": 962,
   "metadata": {
    "pycharm": {
     "name": "#%%\n"
    }
   },
   "outputs": [
    {
     "data": {
      "text/plain": [
       "['UZB',\n",
       " 'GLP',\n",
       " 'TJK',\n",
       " 'BEN',\n",
       " 'AND',\n",
       " 'VGB',\n",
       " 'NIC',\n",
       " 'IMN',\n",
       " 'JEY',\n",
       " 'KHM',\n",
       " 'HND',\n",
       " 'GGY',\n",
       " 'MAC',\n",
       " 'HKG',\n",
       " 'ZMB']"
      ]
     },
     "execution_count": 962,
     "metadata": {},
     "output_type": "execute_result"
    }
   ],
   "source": [
    "n = no_client['country'].value_counts().index.to_list()\n",
    "y = ok_client['country'].value_counts().index.to_list()\n",
    "\n",
    "list(set(n)-set(y))"
   ]
  },
  {
   "cell_type": "code",
   "execution_count": 963,
   "metadata": {
    "pycharm": {
     "name": "#%%\n"
    }
   },
   "outputs": [
    {
     "data": {
      "text/plain": [
       "PRT    0.393697\n",
       "CHN    0.002642\n",
       "ARE    0.000884\n",
       "IDN    0.000593\n",
       "NGA    0.000419\n",
       "         ...   \n",
       "UGA         NaN\n",
       "UZB         NaN\n",
       "VGB         NaN\n",
       "ZMB         NaN\n",
       "ZWE         NaN\n",
       "Name: country, Length: 155, dtype: float64"
      ]
     },
     "execution_count": 963,
     "metadata": {},
     "output_type": "execute_result"
    }
   ],
   "source": [
    "((no_client['country'].value_counts(normalize=True)) -\n",
    "                ok_client['country'].value_counts(normalize=True)).sort_values(ascending=False)"
   ]
  },
  {
   "cell_type": "markdown",
   "metadata": {
    "pycharm": {
     "name": "#%% md\n"
    }
   },
   "source": [
    "Португалия превалирует над другими странами + внимание к странам: 'KHM','JEY','GGY','IMN','UZB','TJK','GLP','BEN','NIC' 'AND','HKG','ZMB','MAC','VGB', 'HND'."
   ]
  },
  {
   "cell_type": "code",
   "execution_count": 964,
   "metadata": {
    "pycharm": {
     "name": "#%%\n"
    }
   },
   "outputs": [
    {
     "data": {
      "text/plain": [
       "count    65227.000000\n",
       "mean        96.340135\n",
       "std         96.128157\n",
       "min          0.000000\n",
       "25%         17.000000\n",
       "50%         64.000000\n",
       "75%        151.000000\n",
       "max        374.000000\n",
       "Name: lead_time, dtype: float64"
      ]
     },
     "execution_count": 964,
     "metadata": {},
     "output_type": "execute_result"
    }
   ],
   "source": [
    "hotel_train['lead_time'].describe()"
   ]
  },
  {
   "cell_type": "code",
   "execution_count": 965,
   "metadata": {
    "pycharm": {
     "name": "#%%\n"
    }
   },
   "outputs": [
    {
     "data": {
      "text/plain": [
       "(150.0, 350.0]    0.203827\n",
       "(60.0, 150.0]     0.061956\n",
       "(20.0, 60.0]     -0.032638\n",
       "(-0.001, 20.0]   -0.250666\n",
       "Name: lead_time, dtype: float64"
      ]
     },
     "execution_count": 965,
     "metadata": {},
     "output_type": "execute_result"
    }
   ],
   "source": [
    "((no_client['lead_time'].value_counts(normalize=True, bins=[0, 20, 60, 150, 350])) -\n",
    "        ok_client['lead_time'].value_counts(normalize=True, bins=[0, 20, 60, 150, 350])).sort_values(ascending=False)"
   ]
  },
  {
   "cell_type": "code",
   "execution_count": 966,
   "metadata": {
    "pycharm": {
     "name": "#%%\n"
    }
   },
   "outputs": [
    {
     "data": {
      "text/plain": [
       "<seaborn.axisgrid.FacetGrid at 0x22c5725c280>"
      ]
     },
     "execution_count": 966,
     "metadata": {},
     "output_type": "execute_result"
    },
    {
     "data": {
      "image/png": "[encoded data removed]",
      "text/plain": [
       "<Figure size 1218.12x576 with 1 Axes>"
      ]
     },
     "metadata": {
      "needs_background": "light"
     },
     "output_type": "display_data"
    }
   ],
   "source": [
    "sns.displot(data=hotel_train, x='lead_time', hue='is_canceled', kind='kde', height=8, aspect=2)"
   ]
  },
  {
   "cell_type": "code",
   "execution_count": 967,
   "metadata": {
    "pycharm": {
     "name": "#%%\n"
    }
   },
   "outputs": [
    {
     "data": {
      "text/plain": [
       "<seaborn.axisgrid.FacetGrid at 0x22cb434d4f0>"
      ]
     },
     "execution_count": 967,
     "metadata": {},
     "output_type": "execute_result"
    },
    {
     "data": {
      "image/png": "[encoded data removed]",
      "text/plain": [
       "<Figure size 1218.12x576 with 1 Axes>"
      ]
     },
     "metadata": {
      "needs_background": "light"
     },
     "output_type": "display_data"
    }
   ],
   "source": [
    "sns.displot(data=hotel_train, x='total_of_special_requests', hue='is_canceled', kind='kde', height=8, aspect=2)"
   ]
  },
  {
   "cell_type": "code",
   "execution_count": 968,
   "metadata": {
    "pycharm": {
     "name": "#%%\n"
    }
   },
   "outputs": [
    {
     "data": {
      "text/plain": [
       "<seaborn.axisgrid.FacetGrid at 0x22cb435df70>"
      ]
     },
     "execution_count": 968,
     "metadata": {},
     "output_type": "execute_result"
    },
    {
     "data": {
      "image/png": "[encoded data removed]",
      "text/plain": [
       "<Figure size 1218.12x576 with 1 Axes>"
      ]
     },
     "metadata": {
      "needs_background": "light"
     },
     "output_type": "display_data"
    }
   ],
   "source": [
    "sns.displot(data=hotel_train[hotel_train['previous_cancellations'] < 3], x='previous_cancellations', hue='is_canceled', kind='kde', height=8, aspect=2,)"
   ]
  },
  {
   "cell_type": "code",
   "execution_count": 969,
   "metadata": {
    "pycharm": {
     "name": "#%%\n"
    }
   },
   "outputs": [
    {
     "data": {
      "text/html": [
       "<div>\n",
       "<style scoped>\n",
       "    .dataframe tbody tr th:only-of-type {\n",
       "        vertical-align: middle;\n",
       "    }\n",
       "\n",
       "    .dataframe tbody tr th {\n",
       "        vertical-align: top;\n",
       "    }\n",
       "\n",
       "    .dataframe thead th {\n",
       "        text-align: right;\n",
       "    }\n",
       "</style>\n",
       "<table border=\"1\" class=\"dataframe\">\n",
       "  <thead>\n",
       "    <tr style=\"text-align: right;\">\n",
       "      <th></th>\n",
       "      <th>is_canceled</th>\n",
       "      <th>customer_type</th>\n",
       "      <th>id</th>\n",
       "    </tr>\n",
       "  </thead>\n",
       "  <tbody>\n",
       "    <tr>\n",
       "      <th>0</th>\n",
       "      <td>0</td>\n",
       "      <td>Contract</td>\n",
       "      <td>1656</td>\n",
       "    </tr>\n",
       "    <tr>\n",
       "      <th>1</th>\n",
       "      <td>0</td>\n",
       "      <td>Group</td>\n",
       "      <td>263</td>\n",
       "    </tr>\n",
       "    <tr>\n",
       "      <th>2</th>\n",
       "      <td>0</td>\n",
       "      <td>Transient</td>\n",
       "      <td>27475</td>\n",
       "    </tr>\n",
       "    <tr>\n",
       "      <th>3</th>\n",
       "      <td>0</td>\n",
       "      <td>Transient-Party</td>\n",
       "      <td>11789</td>\n",
       "    </tr>\n",
       "    <tr>\n",
       "      <th>4</th>\n",
       "      <td>1</td>\n",
       "      <td>Contract</td>\n",
       "      <td>1090</td>\n",
       "    </tr>\n",
       "    <tr>\n",
       "      <th>5</th>\n",
       "      <td>1</td>\n",
       "      <td>Group</td>\n",
       "      <td>24</td>\n",
       "    </tr>\n",
       "    <tr>\n",
       "      <th>6</th>\n",
       "      <td>1</td>\n",
       "      <td>Transient</td>\n",
       "      <td>18017</td>\n",
       "    </tr>\n",
       "    <tr>\n",
       "      <th>7</th>\n",
       "      <td>1</td>\n",
       "      <td>Transient-Party</td>\n",
       "      <td>4913</td>\n",
       "    </tr>\n",
       "  </tbody>\n",
       "</table>\n",
       "</div>"
      ],
      "text/plain": [
       "   is_canceled    customer_type     id\n",
       "0            0         Contract   1656\n",
       "1            0            Group    263\n",
       "2            0        Transient  27475\n",
       "3            0  Transient-Party  11789\n",
       "4            1         Contract   1090\n",
       "5            1            Group     24\n",
       "6            1        Transient  18017\n",
       "7            1  Transient-Party   4913"
      ]
     },
     "execution_count": 969,
     "metadata": {},
     "output_type": "execute_result"
    }
   ],
   "source": [
    "customer_type_group = hotel_train.groupby(by=[\"is_canceled\", 'customer_type'])['id'].count().reset_index()\n",
    "customer_type_group"
   ]
  },
  {
   "cell_type": "code",
   "execution_count": 970,
   "metadata": {
    "pycharm": {
     "name": "#%%\n"
    }
   },
   "outputs": [
    {
     "data": {
      "text/plain": [
       "<seaborn.axisgrid.FacetGrid at 0x22c612d9460>"
      ]
     },
     "execution_count": 970,
     "metadata": {},
     "output_type": "execute_result"
    },
    {
     "data": {
      "image/png": "[encoded data removed]",
      "text/plain": [
       "<Figure size 714.125x648 with 1 Axes>"
      ]
     },
     "metadata": {
      "needs_background": "light"
     },
     "output_type": "display_data"
    }
   ],
   "source": [
    "sns.catplot(data=customer_type_group, y='customer_type', x='id', hue='is_canceled', kind='bar', height=9)"
   ]
  },
  {
   "cell_type": "code",
   "execution_count": 971,
   "metadata": {
    "pycharm": {
     "name": "#%%\n"
    }
   },
   "outputs": [
    {
     "data": {
      "text/html": [
       "<div>\n",
       "<style scoped>\n",
       "    .dataframe tbody tr th:only-of-type {\n",
       "        vertical-align: middle;\n",
       "    }\n",
       "\n",
       "    .dataframe tbody tr th {\n",
       "        vertical-align: top;\n",
       "    }\n",
       "\n",
       "    .dataframe thead th {\n",
       "        text-align: right;\n",
       "    }\n",
       "</style>\n",
       "<table border=\"1\" class=\"dataframe\">\n",
       "  <thead>\n",
       "    <tr style=\"text-align: right;\">\n",
       "      <th></th>\n",
       "      <th>is_canceled</th>\n",
       "      <th>country</th>\n",
       "      <th>id</th>\n",
       "    </tr>\n",
       "  </thead>\n",
       "  <tbody>\n",
       "    <tr>\n",
       "      <th>225</th>\n",
       "      <td>1</td>\n",
       "      <td>PRT</td>\n",
       "      <td>16604</td>\n",
       "    </tr>\n",
       "    <tr>\n",
       "      <th>169</th>\n",
       "      <td>1</td>\n",
       "      <td>ESP</td>\n",
       "      <td>1081</td>\n",
       "    </tr>\n",
       "    <tr>\n",
       "      <th>174</th>\n",
       "      <td>1</td>\n",
       "      <td>GBR</td>\n",
       "      <td>938</td>\n",
       "    </tr>\n",
       "    <tr>\n",
       "      <th>172</th>\n",
       "      <td>1</td>\n",
       "      <td>FRA</td>\n",
       "      <td>876</td>\n",
       "    </tr>\n",
       "    <tr>\n",
       "      <th>191</th>\n",
       "      <td>1</td>\n",
       "      <td>ITA</td>\n",
       "      <td>767</td>\n",
       "    </tr>\n",
       "    <tr>\n",
       "      <th>164</th>\n",
       "      <td>1</td>\n",
       "      <td>DEU</td>\n",
       "      <td>541</td>\n",
       "    </tr>\n",
       "    <tr>\n",
       "      <th>154</th>\n",
       "      <td>1</td>\n",
       "      <td>BRA</td>\n",
       "      <td>349</td>\n",
       "    </tr>\n",
       "    <tr>\n",
       "      <th>187</th>\n",
       "      <td>1</td>\n",
       "      <td>IRL</td>\n",
       "      <td>313</td>\n",
       "    </tr>\n",
       "    <tr>\n",
       "      <th>157</th>\n",
       "      <td>1</td>\n",
       "      <td>CHN</td>\n",
       "      <td>234</td>\n",
       "    </tr>\n",
       "    <tr>\n",
       "      <th>149</th>\n",
       "      <td>1</td>\n",
       "      <td>BEL</td>\n",
       "      <td>208</td>\n",
       "    </tr>\n",
       "    <tr>\n",
       "      <th>106</th>\n",
       "      <td>0</td>\n",
       "      <td>PRT</td>\n",
       "      <td>12226</td>\n",
       "    </tr>\n",
       "    <tr>\n",
       "      <th>46</th>\n",
       "      <td>0</td>\n",
       "      <td>FRA</td>\n",
       "      <td>5098</td>\n",
       "    </tr>\n",
       "    <tr>\n",
       "      <th>48</th>\n",
       "      <td>0</td>\n",
       "      <td>GBR</td>\n",
       "      <td>4170</td>\n",
       "    </tr>\n",
       "    <tr>\n",
       "      <th>42</th>\n",
       "      <td>0</td>\n",
       "      <td>ESP</td>\n",
       "      <td>3819</td>\n",
       "    </tr>\n",
       "    <tr>\n",
       "      <th>35</th>\n",
       "      <td>0</td>\n",
       "      <td>DEU</td>\n",
       "      <td>3346</td>\n",
       "    </tr>\n",
       "    <tr>\n",
       "      <th>63</th>\n",
       "      <td>0</td>\n",
       "      <td>ITA</td>\n",
       "      <td>1560</td>\n",
       "    </tr>\n",
       "    <tr>\n",
       "      <th>58</th>\n",
       "      <td>0</td>\n",
       "      <td>IRL</td>\n",
       "      <td>1132</td>\n",
       "    </tr>\n",
       "    <tr>\n",
       "      <th>11</th>\n",
       "      <td>0</td>\n",
       "      <td>BEL</td>\n",
       "      <td>1037</td>\n",
       "    </tr>\n",
       "    <tr>\n",
       "      <th>95</th>\n",
       "      <td>0</td>\n",
       "      <td>NLD</td>\n",
       "      <td>977</td>\n",
       "    </tr>\n",
       "    <tr>\n",
       "      <th>135</th>\n",
       "      <td>0</td>\n",
       "      <td>USA</td>\n",
       "      <td>816</td>\n",
       "    </tr>\n",
       "  </tbody>\n",
       "</table>\n",
       "</div>"
      ],
      "text/plain": [
       "     is_canceled country     id\n",
       "225            1     PRT  16604\n",
       "169            1     ESP   1081\n",
       "174            1     GBR    938\n",
       "172            1     FRA    876\n",
       "191            1     ITA    767\n",
       "164            1     DEU    541\n",
       "154            1     BRA    349\n",
       "187            1     IRL    313\n",
       "157            1     CHN    234\n",
       "149            1     BEL    208\n",
       "106            0     PRT  12226\n",
       "46             0     FRA   5098\n",
       "48             0     GBR   4170\n",
       "42             0     ESP   3819\n",
       "35             0     DEU   3346\n",
       "63             0     ITA   1560\n",
       "58             0     IRL   1132\n",
       "11             0     BEL   1037\n",
       "95             0     NLD    977\n",
       "135            0     USA    816"
      ]
     },
     "execution_count": 971,
     "metadata": {},
     "output_type": "execute_result"
    }
   ],
   "source": [
    "customer_type_group = hotel_train.groupby(by=['is_canceled', 'country'])['id'].count().reset_index()\n",
    "top10_cancelled_country = customer_type_group[customer_type_group['is_canceled'] == 1].sort_values(by='id', ascending=False).head(10)\n",
    "top10_not_cancelled_country = customer_type_group[customer_type_group['is_canceled'] == 0].sort_values(by='id', ascending=False).head(10)\n",
    "top10_country_summary = top10_cancelled_country.append(top10_not_cancelled_country)\n",
    "top10_country_summary"
   ]
  },
  {
   "cell_type": "code",
   "execution_count": 972,
   "metadata": {
    "pycharm": {
     "name": "#%%\n"
    }
   },
   "outputs": [
    {
     "data": {
      "text/plain": [
       "<seaborn.axisgrid.FacetGrid at 0x22c9f386100>"
      ]
     },
     "execution_count": 972,
     "metadata": {},
     "output_type": "execute_result"
    },
    {
     "data": {
      "image/png": "[encoded data removed]",
      "text/plain": [
       "<Figure size 714.125x648 with 1 Axes>"
      ]
     },
     "metadata": {
      "needs_background": "light"
     },
     "output_type": "display_data"
    }
   ],
   "source": [
    "sns.catplot(data=top10_country_summary, y='country', x='id', hue='is_canceled', kind='bar', height=9)"
   ]
  },
  {
   "cell_type": "markdown",
   "metadata": {
    "pycharm": {
     "name": "#%% md\n"
    }
   },
   "source": [
    "Вывод: средний неблагонадежный клиент - это житель Португалии. С одним отмененным заказом в прошлом. Не связанный с договором или групповым заездом. С отсутствием специальных заказов. Со средним временем ожидания около от 250 до 400 дней."
   ]
  },
  {
   "cell_type": "markdown",
   "metadata": {
    "pycharm": {
     "name": "#%% md\n"
    }
   },
   "source": [
    "## Оценка прибыли полученной модели"
   ]
  },
  {
   "cell_type": "markdown",
   "metadata": {
    "pycharm": {
     "name": "#%% md\n"
    }
   },
   "source": [
    "Наши тестовые и тренировочные данные содержат информацию за 3 года. Посчитаем, какое среднее кол-во клиентов приходится за один год"
   ]
  },
  {
   "cell_type": "code",
   "execution_count": 973,
   "metadata": {
    "pycharm": {
     "name": "#%%\n"
    }
   },
   "outputs": [
    {
     "data": {
      "text/plain": [
       "32546.333333333332"
      ]
     },
     "execution_count": 973,
     "metadata": {},
     "output_type": "execute_result"
    }
   ],
   "source": [
    "client_mean = (len(hotel_train) + len(hotel_test)) / 3\n",
    "client_mean"
   ]
  },
  {
   "cell_type": "markdown",
   "metadata": {
    "pycharm": {
     "name": "#%% md\n"
    }
   },
   "source": [
    "Посмотрим на тестовой выборке какую прибыль в среднем за год принесет наша модель, по сравнению с существующей. Для этого, техникой бутстрап 1000 раз возьмем среднегодовое кол-во заказов случайным образом из тестового сета и посчитаем прибыль с использованием модели и без."
   ]
  },
  {
   "cell_type": "markdown",
   "metadata": {
    "pycharm": {
     "name": "#%% md\n"
    }
   },
   "source": [
    "Занесем параметры размера депозита, объема бюджета и среднегодового кол-ва заказов"
   ]
  },
  {
   "cell_type": "code",
   "execution_count": 974,
   "metadata": {
    "pycharm": {
     "name": "#%%\n"
    }
   },
   "outputs": [],
   "source": [
    "DEPOSIT = 0.8\n",
    "BUDGET = 400000\n",
    "SAMPLE_SIZE = 32547"
   ]
  },
  {
   "cell_type": "markdown",
   "metadata": {
    "pycharm": {
     "name": "#%% md\n"
    }
   },
   "source": [
    "Подготовим данные к бутстрапу. По аналогии с тем, как мы делали с тренировочной выборкой"
   ]
  },
  {
   "cell_type": "code",
   "execution_count": 975,
   "metadata": {
    "pycharm": {
     "name": "#%%\n"
    }
   },
   "outputs": [
    {
     "data": {
      "text/html": [
       "<div>\n",
       "<style scoped>\n",
       "    .dataframe tbody tr th:only-of-type {\n",
       "        vertical-align: middle;\n",
       "    }\n",
       "\n",
       "    .dataframe tbody tr th {\n",
       "        vertical-align: top;\n",
       "    }\n",
       "\n",
       "    .dataframe thead th {\n",
       "        text-align: right;\n",
       "    }\n",
       "</style>\n",
       "<table border=\"1\" class=\"dataframe\">\n",
       "  <thead>\n",
       "    <tr style=\"text-align: right;\">\n",
       "      <th></th>\n",
       "      <th>id</th>\n",
       "      <th>is_canceled</th>\n",
       "      <th>lead_time</th>\n",
       "      <th>arrival_date_year</th>\n",
       "      <th>arrival_date_month</th>\n",
       "      <th>arrival_date_week_number</th>\n",
       "      <th>arrival_date_day_of_month</th>\n",
       "      <th>stays_in_weekend_nights</th>\n",
       "      <th>stays_in_week_nights</th>\n",
       "      <th>adults</th>\n",
       "      <th>...</th>\n",
       "      <th>customer_type</th>\n",
       "      <th>required_car_parking_spaces</th>\n",
       "      <th>total_of_special_requests</th>\n",
       "      <th>total_nights</th>\n",
       "      <th>room_profit</th>\n",
       "      <th>room_expense</th>\n",
       "      <th>season_ratio</th>\n",
       "      <th>income</th>\n",
       "      <th>total_expense_nights</th>\n",
       "      <th>expense</th>\n",
       "    </tr>\n",
       "  </thead>\n",
       "  <tbody>\n",
       "    <tr>\n",
       "      <th>0</th>\n",
       "      <td>6086</td>\n",
       "      <td>1</td>\n",
       "      <td>74.0</td>\n",
       "      <td>2017</td>\n",
       "      <td>January</td>\n",
       "      <td>1</td>\n",
       "      <td>1</td>\n",
       "      <td>1</td>\n",
       "      <td>0</td>\n",
       "      <td>2.0</td>\n",
       "      <td>...</td>\n",
       "      <td>Transient</td>\n",
       "      <td>0</td>\n",
       "      <td>0</td>\n",
       "      <td>1</td>\n",
       "      <td>1000</td>\n",
       "      <td>400</td>\n",
       "      <td>1.0</td>\n",
       "      <td>1000.0</td>\n",
       "      <td>1.0</td>\n",
       "      <td>400.0</td>\n",
       "    </tr>\n",
       "    <tr>\n",
       "      <th>1</th>\n",
       "      <td>6087</td>\n",
       "      <td>1</td>\n",
       "      <td>62.0</td>\n",
       "      <td>2017</td>\n",
       "      <td>January</td>\n",
       "      <td>1</td>\n",
       "      <td>1</td>\n",
       "      <td>2</td>\n",
       "      <td>2</td>\n",
       "      <td>2.0</td>\n",
       "      <td>...</td>\n",
       "      <td>Transient</td>\n",
       "      <td>0</td>\n",
       "      <td>1</td>\n",
       "      <td>4</td>\n",
       "      <td>1000</td>\n",
       "      <td>400</td>\n",
       "      <td>1.0</td>\n",
       "      <td>4000.0</td>\n",
       "      <td>2.0</td>\n",
       "      <td>400.0</td>\n",
       "    </tr>\n",
       "    <tr>\n",
       "      <th>2</th>\n",
       "      <td>6088</td>\n",
       "      <td>1</td>\n",
       "      <td>62.0</td>\n",
       "      <td>2017</td>\n",
       "      <td>January</td>\n",
       "      <td>1</td>\n",
       "      <td>1</td>\n",
       "      <td>2</td>\n",
       "      <td>2</td>\n",
       "      <td>2.0</td>\n",
       "      <td>...</td>\n",
       "      <td>Transient</td>\n",
       "      <td>0</td>\n",
       "      <td>1</td>\n",
       "      <td>4</td>\n",
       "      <td>1000</td>\n",
       "      <td>400</td>\n",
       "      <td>1.0</td>\n",
       "      <td>4000.0</td>\n",
       "      <td>2.0</td>\n",
       "      <td>400.0</td>\n",
       "    </tr>\n",
       "    <tr>\n",
       "      <th>3</th>\n",
       "      <td>6089</td>\n",
       "      <td>1</td>\n",
       "      <td>71.0</td>\n",
       "      <td>2017</td>\n",
       "      <td>January</td>\n",
       "      <td>1</td>\n",
       "      <td>1</td>\n",
       "      <td>2</td>\n",
       "      <td>2</td>\n",
       "      <td>1.0</td>\n",
       "      <td>...</td>\n",
       "      <td>Transient</td>\n",
       "      <td>0</td>\n",
       "      <td>1</td>\n",
       "      <td>4</td>\n",
       "      <td>1000</td>\n",
       "      <td>400</td>\n",
       "      <td>1.0</td>\n",
       "      <td>4000.0</td>\n",
       "      <td>2.0</td>\n",
       "      <td>400.0</td>\n",
       "    </tr>\n",
       "    <tr>\n",
       "      <th>4</th>\n",
       "      <td>6090</td>\n",
       "      <td>1</td>\n",
       "      <td>172.0</td>\n",
       "      <td>2017</td>\n",
       "      <td>January</td>\n",
       "      <td>1</td>\n",
       "      <td>1</td>\n",
       "      <td>2</td>\n",
       "      <td>5</td>\n",
       "      <td>2.0</td>\n",
       "      <td>...</td>\n",
       "      <td>Transient</td>\n",
       "      <td>0</td>\n",
       "      <td>0</td>\n",
       "      <td>7</td>\n",
       "      <td>1000</td>\n",
       "      <td>400</td>\n",
       "      <td>1.0</td>\n",
       "      <td>7000.0</td>\n",
       "      <td>4.0</td>\n",
       "      <td>400.0</td>\n",
       "    </tr>\n",
       "  </tbody>\n",
       "</table>\n",
       "<p>5 rows × 31 columns</p>\n",
       "</div>"
      ],
      "text/plain": [
       "     id  is_canceled  lead_time  arrival_date_year arrival_date_month  \\\n",
       "0  6086            1       74.0               2017            January   \n",
       "1  6087            1       62.0               2017            January   \n",
       "2  6088            1       62.0               2017            January   \n",
       "3  6089            1       71.0               2017            January   \n",
       "4  6090            1      172.0               2017            January   \n",
       "\n",
       "   arrival_date_week_number  arrival_date_day_of_month  \\\n",
       "0                         1                          1   \n",
       "1                         1                          1   \n",
       "2                         1                          1   \n",
       "3                         1                          1   \n",
       "4                         1                          1   \n",
       "\n",
       "   stays_in_weekend_nights  stays_in_week_nights  adults  ...  customer_type  \\\n",
       "0                        1                     0     2.0  ...      Transient   \n",
       "1                        2                     2     2.0  ...      Transient   \n",
       "2                        2                     2     2.0  ...      Transient   \n",
       "3                        2                     2     1.0  ...      Transient   \n",
       "4                        2                     5     2.0  ...      Transient   \n",
       "\n",
       "   required_car_parking_spaces total_of_special_requests total_nights  \\\n",
       "0                            0                         0            1   \n",
       "1                            0                         1            4   \n",
       "2                            0                         1            4   \n",
       "3                            0                         1            4   \n",
       "4                            0                         0            7   \n",
       "\n",
       "  room_profit  room_expense  season_ratio  income total_expense_nights  \\\n",
       "0        1000           400           1.0  1000.0                  1.0   \n",
       "1        1000           400           1.0  4000.0                  2.0   \n",
       "2        1000           400           1.0  4000.0                  2.0   \n",
       "3        1000           400           1.0  4000.0                  2.0   \n",
       "4        1000           400           1.0  7000.0                  4.0   \n",
       "\n",
       "   expense  \n",
       "0    400.0  \n",
       "1    400.0  \n",
       "2    400.0  \n",
       "3    400.0  \n",
       "4    400.0  \n",
       "\n",
       "[5 rows x 31 columns]"
      ]
     },
     "execution_count": 975,
     "metadata": {},
     "output_type": "execute_result"
    }
   ],
   "source": [
    "test_profit = hotel_test.join(room_profit_df.set_index('room_type'), on='reserved_room_type', how='left')\\\n",
    "    .join(season_ratio_df.set_index('season_month'), on='arrival_date_month', how='left')\n",
    "\n",
    "test_profit['income'] = test_profit['total_nights'] * test_profit['room_profit'] * test_profit['season_ratio']\n",
    "test_profit['total_expense_nights'] = test_profit['total_nights'].apply(lambda x: 1 if x == 1 else np.ceil(x / 2))\n",
    "test_profit.loc[test_profit['is_canceled'] == 1, 'expense'] = test_profit['room_expense']\n",
    "test_profit.loc[test_profit['is_canceled'] == 0, 'expense'] = test_profit['room_expense'] * test_profit['total_expense_nights']\n",
    "\n",
    "test_profit.head()"
   ]
  },
  {
   "cell_type": "markdown",
   "metadata": {
    "pycharm": {
     "name": "#%% md\n"
    }
   },
   "source": [
    "Напишем функцию, которая считает прибыль. Аргумент \"ml\" - это флаг на указания, что значения выборки получены с помощью модели"
   ]
  },
  {
   "cell_type": "code",
   "execution_count": 976,
   "metadata": {
    "pycharm": {
     "name": "#%%\n"
    }
   },
   "outputs": [],
   "source": [
    "def calc_profit(sample, ml=False):\n",
    "    income = sample[sample['is_canceled'] == 0]['income'].sum()\n",
    "    expense = sample['expense'].sum()\n",
    "    if ml:\n",
    "        room_profit_deposited = sample.loc[ (sample['is_canceled'] == 1) & (sample['is_canceled_predict'] == 1)]['room_profit'].sum()\n",
    "        return income - expense + (room_profit_deposited * DEPOSIT)\n",
    "    else:\n",
    "        return income - expense"
   ]
  },
  {
   "cell_type": "markdown",
   "metadata": {
    "pycharm": {
     "name": "#%% md\n"
    }
   },
   "source": [
    "Отдельно напишем функцию, которая считает расходы для выбранного сэмпла. Она понадобится нам в цикле прогнозирования прибыли"
   ]
  },
  {
   "cell_type": "code",
   "execution_count": 977,
   "metadata": {
    "pycharm": {
     "name": "#%%\n"
    }
   },
   "outputs": [],
   "source": [
    "def calc_expense_for_sample(sample):\n",
    "    sample = sample.reset_index(drop=True)\n",
    "    sample.loc[sample['is_canceled'] == 1, 'expense'] = sample['room_expense']\n",
    "    sample.loc[sample['is_canceled'] == 0, 'expense'] = sample['room_expense'] * sample['total_expense_nights']\n",
    "    return sample"
   ]
  },
  {
   "cell_type": "markdown",
   "metadata": {
    "pycharm": {
     "name": "#%% md\n"
    }
   },
   "source": [
    "Техникой бутстрап возьмем 1000 раз по среднегодовому числу заказов из тестовой выборки и спрогнозируем среднюю прибыль нашей модели за год"
   ]
  },
  {
   "cell_type": "code",
   "execution_count": 978,
   "metadata": {
    "pycharm": {
     "name": "#%%\n"
    }
   },
   "outputs": [],
   "source": [
    "state = np.random.RandomState(12345)\n",
    "values_model_profit = []\n",
    "values_sample_ml_profit = []\n",
    "\n",
    "def bootstrap_profit(data, n, sample_size, client_loss_rate=None):\n",
    "    for i in range(n):\n",
    "        #get sample\n",
    "        sample = data.sample(n=sample_size, replace=True, random_state=state)\n",
    "\n",
    "        #predict y for that sample\n",
    "        predict = model.predict(sample)\n",
    "\n",
    "        #sample for calc profit\n",
    "        sample_df = test_profit.loc[sample.index]\n",
    "\n",
    "        #sample for calc profit for model\n",
    "        sample_df_ml = sample_df.copy()\n",
    "        sample_df_ml['is_canceled_predict'] = predict\n",
    "\n",
    "        #works only if client_loss_rate flag exists\n",
    "        #drop randomly this rate of clients from sample_df_ml\n",
    "        if(client_loss_rate != None):\n",
    "            client_to_loss = sample_df_ml[sample_df_ml['is_canceled_predict'] == 1].sample(frac=client_loss_rate,\n",
    "                                                                                         random_state=state,\n",
    "                                                                                         replace=True)\n",
    "            sample_df_ml = sample_df_ml.drop(client_to_loss.index, axis=0)\n",
    "\n",
    "        #calc expense for model sample\n",
    "        sample_df_ml_expense = calc_expense_for_sample(sample_df_ml)\n",
    "\n",
    "        #calc profit for sample and model sample\n",
    "        sample_profit = calc_profit(sample_df)\n",
    "        ml_sample_profit = calc_profit(sample_df_ml_expense, ml=True)\n",
    "\n",
    "        #list of samples profit\n",
    "        values_sample_ml_profit.append(ml_sample_profit)\n",
    "\n",
    "        #find difference between sample profit and model profit\n",
    "        diff_profit = ml_sample_profit - sample_profit\n",
    "        values_model_profit.append(diff_profit)"
   ]
  },
  {
   "cell_type": "markdown",
   "metadata": {
    "pycharm": {
     "name": "#%% md\n"
    }
   },
   "source": [
    "Посчитаем минимальную прибыль"
   ]
  },
  {
   "cell_type": "code",
   "execution_count": 979,
   "metadata": {
    "pycharm": {
     "name": "#%%\n"
    }
   },
   "outputs": [],
   "source": [
    "bootstrap_profit(data['test']['X'], 1000, SAMPLE_SIZE)"
   ]
  },
  {
   "cell_type": "code",
   "execution_count": 980,
   "metadata": {
    "pycharm": {
     "name": "#%%\n"
    }
   },
   "outputs": [
    {
     "data": {
      "text/plain": [
       "5.32456"
      ]
     },
     "execution_count": 980,
     "metadata": {},
     "output_type": "execute_result"
    }
   ],
   "source": [
    "profit_model_min = pd.Series(values_model_profit).min()\n",
    "model_profit = profit_model_min - BUDGET\n",
    "model_profit/1000000"
   ]
  },
  {
   "cell_type": "markdown",
   "metadata": {
    "pycharm": {
     "name": "#%% md\n"
    }
   },
   "source": [
    "Посчитаем среднюю прибыль"
   ]
  },
  {
   "cell_type": "code",
   "execution_count": 981,
   "metadata": {
    "pycharm": {
     "name": "#%%\n"
    }
   },
   "outputs": [],
   "source": [
    "profit_model_mean = pd.Series(values_model_profit).mean()"
   ]
  },
  {
   "cell_type": "code",
   "execution_count": 982,
   "metadata": {
    "pycharm": {
     "name": "#%%\n"
    }
   },
   "outputs": [
    {
     "name": "stdout",
     "output_type": "stream",
     "text": [
      "5.53489888\n"
     ]
    }
   ],
   "source": [
    "model_profit = profit_model_mean - BUDGET\n",
    "print(model_profit/1000000)"
   ]
  },
  {
   "cell_type": "markdown",
   "metadata": {
    "pycharm": {
     "name": "#%% md\n"
    }
   },
   "source": [
    "<div class=\"alert alert-info\">Построил ниже"
   ]
  },
  {
   "cell_type": "code",
   "execution_count": 983,
   "metadata": {
    "pycharm": {
     "name": "#%%\n"
    }
   },
   "outputs": [
    {
     "data": {
      "text/plain": [
       "<AxesSubplot:>"
      ]
     },
     "execution_count": 983,
     "metadata": {},
     "output_type": "execute_result"
    },
    {
     "data": {
      "image/png": "[encoded data removed]",
      "text/plain": [
       "<Figure size 1080x720 with 1 Axes>"
      ]
     },
     "metadata": {
      "needs_background": "light"
     },
     "output_type": "display_data"
    }
   ],
   "source": [
    "pd.Series(values_model_profit).hist(figsize=(15, 10))"
   ]
  },
  {
   "cell_type": "markdown",
   "metadata": {
    "pycharm": {
     "name": "#%% md\n"
    }
   },
   "source": [
    "Вывод: внедрение модели позволит получить дополнительную прибыль в среднем в размере 5.5 млн руб."
   ]
  },
  {
   "cell_type": "markdown",
   "metadata": {
    "pycharm": {
     "name": "#%% md\n"
    }
   },
   "source": [
    "<div class=\"alert alert-info\">Переделал выше. Получилось нормальное распределение"
   ]
  },
  {
   "cell_type": "markdown",
   "metadata": {
    "pycharm": {
     "name": "#%% md\n"
    }
   },
   "source": [
    "## Исследование прибыли при оттоке клиентов"
   ]
  },
  {
   "cell_type": "markdown",
   "metadata": {
    "pycharm": {
     "name": "#%% md\n"
    }
   },
   "source": [
    "Предположим, что введение системы приведет к общему оттоку в 50%"
   ]
  },
  {
   "cell_type": "code",
   "execution_count": 984,
   "metadata": {
    "pycharm": {
     "name": "#%%\n"
    }
   },
   "outputs": [],
   "source": [
    "# SAMPLE_SIZE = SAMPLE_SIZE // 2"
   ]
  },
  {
   "cell_type": "markdown",
   "metadata": {
    "pycharm": {
     "name": "#%% md\n"
    }
   },
   "source": [
    "Посчитаем, какая окупаемость системы"
   ]
  },
  {
   "cell_type": "code",
   "execution_count": 985,
   "metadata": {
    "pycharm": {
     "name": "#%%\n"
    }
   },
   "outputs": [
    {
     "data": {
      "text/plain": [
       "-7.29842"
      ]
     },
     "execution_count": 985,
     "metadata": {},
     "output_type": "execute_result"
    }
   ],
   "source": [
    "values_model_profit = []\n",
    "\n",
    "bootstrap_profit(data['test']['X'], 1000, SAMPLE_SIZE, client_loss_rate=0.5)\n",
    "profit_model_min = pd.Series(values_model_profit).min()\n",
    "model_profit = profit_model_min - BUDGET\n",
    "model_profit/1000000"
   ]
  },
  {
   "cell_type": "markdown",
   "metadata": {
    "pycharm": {
     "name": "#%% md\n"
    }
   },
   "source": [
    "Макс убыток 7.2 млн руб"
   ]
  },
  {
   "cell_type": "code",
   "execution_count": 986,
   "metadata": {
    "pycharm": {
     "name": "#%%\n"
    }
   },
   "outputs": [
    {
     "data": {
      "text/plain": [
       "-6.41676373"
      ]
     },
     "execution_count": 986,
     "metadata": {},
     "output_type": "execute_result"
    }
   ],
   "source": [
    "profit_model_mean = pd.Series(values_model_profit).mean()\n",
    "model_profit = profit_model_mean - BUDGET\n",
    "model_profit/1000000"
   ]
  },
  {
   "cell_type": "markdown",
   "metadata": {
    "pycharm": {
     "name": "#%% md\n"
    }
   },
   "source": [
    "Средний убыток 6.4 млн руб"
   ]
  },
  {
   "cell_type": "markdown",
   "metadata": {
    "pycharm": {
     "name": "#%% md\n"
    }
   },
   "source": [
    "Построим график распределения"
   ]
  },
  {
   "cell_type": "code",
   "execution_count": 987,
   "metadata": {
    "pycharm": {
     "name": "#%%\n"
    }
   },
   "outputs": [
    {
     "data": {
      "text/plain": [
       "<AxesSubplot:>"
      ]
     },
     "execution_count": 987,
     "metadata": {},
     "output_type": "execute_result"
    },
    {
     "data": {
      "image/png": "[encoded data removed]",
      "text/plain": [
       "<Figure size 1080x720 with 1 Axes>"
      ]
     },
     "metadata": {
      "needs_background": "light"
     },
     "output_type": "display_data"
    }
   ],
   "source": [
    "pd.Series(values_model_profit).hist(figsize=(15, 10))"
   ]
  },
  {
   "cell_type": "markdown",
   "metadata": {
    "pycharm": {
     "name": "#%% md\n"
    }
   },
   "source": []
  },
  {
   "cell_type": "markdown",
   "metadata": {
    "pycharm": {
     "name": "#%% md\n"
    }
   },
   "source": [
    "## Общий вывод:"
   ]
  },
  {
   "cell_type": "markdown",
   "metadata": {
    "pycharm": {
     "name": "#%% md\n"
    }
   },
   "source": [
    "Мы провели исследование клиентской базы сети отелей «Как в гостях». Целью работы было построение модели прогнозирующей отказ клиента от брони. Меняя модели и их гиперпараметры, мы старались получить максимальный показатель F1 на валидационной выборки. По результатам исследования полученная модель обладает следующими показателями на тестовом семпле:\n",
    "\n",
    "RandomForestClassifier(class_weight='balanced', max_depth=1, n_estimators=4):\n",
    "- F1      : 0.60\n",
    "- Accuracy: 0.66\n",
    "- AUC-ROC : 0.68\n",
    "\n",
    "\n",
    "Мы провели оценку прибыли, которую в среднем может дать внедрение этой модели и оценили ее в 5.5 млн руб. Данное исследование не может быть полным, потому что мы не можем прогнозировать, как изменится поведение и общее кол-во клиентов после введение системы депозитов."
   ]
  }
 ],
 "metadata": {
  "ExecuteTimeLog": [
   {
    "duration": 1128,
    "start_time": "2021-11-30T15:56:45.391Z"
   },
   {
    "duration": 1916,
    "start_time": "2021-11-30T15:56:50.926Z"
   },
   {
    "duration": 9,
    "start_time": "2021-11-30T17:07:18.771Z"
   },
   {
    "duration": 4,
    "start_time": "2021-11-30T17:07:40.409Z"
   },
   {
    "duration": 1392,
    "start_time": "2021-12-01T21:38:23.030Z"
   },
   {
    "duration": 1876,
    "start_time": "2021-12-01T21:38:29.437Z"
   },
   {
    "duration": 118,
    "start_time": "2021-12-01T22:04:05.457Z"
   },
   {
    "duration": 7,
    "start_time": "2021-12-01T22:04:13.947Z"
   },
   {
    "duration": 6,
    "start_time": "2021-12-01T22:04:20.672Z"
   },
   {
    "duration": 24,
    "start_time": "2021-12-01T22:04:25.842Z"
   },
   {
    "duration": 30,
    "start_time": "2021-12-01T22:04:38.773Z"
   },
   {
    "duration": 15,
    "start_time": "2021-12-01T22:04:45.222Z"
   },
   {
    "duration": 15,
    "start_time": "2021-12-01T22:04:50.423Z"
   },
   {
    "duration": 15,
    "start_time": "2021-12-01T22:04:55.809Z"
   },
   {
    "duration": 15,
    "start_time": "2021-12-01T22:06:16.519Z"
   },
   {
    "duration": 15,
    "start_time": "2021-12-01T22:06:23.331Z"
   },
   {
    "duration": 1039,
    "start_time": "2021-12-03T00:53:35.646Z"
   },
   {
    "duration": 123,
    "start_time": "2021-12-03T02:01:05.725Z"
   }
  ],
  "kernelspec": {
   "display_name": "Python 3",
   "language": "python",
   "name": "python3"
  },
  "language_info": {
   "codemirror_mode": {
    "name": "ipython",
    "version": 3
   },
   "file_extension": ".py",
   "mimetype": "text/x-python",
   "name": "python",
   "nbconvert_exporter": "python",
   "pygments_lexer": "ipython3",
   "version": "3.10.0 (tags/v3.10.0:b494f59, Oct  4 2021, 19:00:18) [MSC v.1929 64 bit (AMD64)]"
  },
  "toc": {
   "base_numbering": 1,
   "nav_menu": {},
   "number_sections": true,
   "sideBar": true,
   "skip_h1_title": true,
   "title_cell": "Table of Contents",
   "title_sidebar": "Contents",
   "toc_cell": false,
   "toc_position": {},
   "toc_section_display": true,
   "toc_window_display": false
  },
  "vscode": {
   "interpreter": {
    "hash": "d488093d919f573c925b0a84f2a24fea75905f9dd1b6664dfb65159487c96672"
   }
  }
 },
 "nbformat": 4,
 "nbformat_minor": 1
}

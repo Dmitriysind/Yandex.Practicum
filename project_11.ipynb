{
 "cells": [
  {
   "cell_type": "markdown",
   "metadata": {
    "toc": true
   },
   "source": [
    "<h1>Содержание<span class=\"tocSkip\"></span></h1>\n",
    "<div class=\"toc\"><ul class=\"toc-item\"><li><span><a href=\"#Загрузка-данных\" data-toc-modified-id=\"Загрузка-данных-1\"><span class=\"toc-item-num\">1&nbsp;&nbsp;</span>Загрузка данных</a></span></li><li><span><a href=\"#Преобразование-матрицы-признаков\" data-toc-modified-id=\"Преобразование-матрицы-признаков-2\"><span class=\"toc-item-num\">2&nbsp;&nbsp;</span>Преобразование матрицы признаков</a></span></li><li><span><a href=\"#Проверка-алгоритма-преобразования\" data-toc-modified-id=\"Проверка-алгоритма-преобразования-3\"><span class=\"toc-item-num\">3&nbsp;&nbsp;</span>Проверка алгоритма преобразования</a></span></li><li><span><a href=\"#Общий-вывод\" data-toc-modified-id=\"Общий-вывод-4\"><span class=\"toc-item-num\">4&nbsp;&nbsp;</span>Общий вывод</a></span></li></ul></div>"
   ]
  },
  {
   "cell_type": "markdown",
   "metadata": {},
   "source": [
    "# Защита персональных данных клиентов"
   ]
  },
  {
   "cell_type": "markdown",
   "metadata": {},
   "source": [
    "Нам нужно защитить данные клиентов страховой компании «Хоть потоп». Разработаем такой метод преобразования данных, чтобы по ниму было сложно восстановить персональную информацию.\n",
    "\n",
    "Нужно защитить данные, чтобы при преобразовании качество моделей машинного обучения не ухудшилось."
   ]
  },
  {
   "cell_type": "markdown",
   "metadata": {},
   "source": [
    "## Загрузка данных"
   ]
  },
  {
   "cell_type": "code",
   "execution_count": 5,
   "metadata": {},
   "outputs": [],
   "source": [
    "import pandas as pd\n",
    "import numpy as np\n",
    "from numpy.linalg import inv\n",
    "from sklearn.metrics import r2_score\n",
    "import matplotlib.pyplot as plt\n",
    "\n",
    "data = pd.read_csv('/datasets/insurance.csv')"
   ]
  },
  {
   "cell_type": "markdown",
   "metadata": {},
   "source": [
    "Посмотрим датасет"
   ]
  },
  {
   "cell_type": "code",
   "execution_count": 6,
   "metadata": {},
   "outputs": [
    {
     "data": {
      "text/html": [
       "<div>\n",
       "<style scoped>\n",
       "    .dataframe tbody tr th:only-of-type {\n",
       "        vertical-align: middle;\n",
       "    }\n",
       "\n",
       "    .dataframe tbody tr th {\n",
       "        vertical-align: top;\n",
       "    }\n",
       "\n",
       "    .dataframe thead th {\n",
       "        text-align: right;\n",
       "    }\n",
       "</style>\n",
       "<table border=\"1\" class=\"dataframe\">\n",
       "  <thead>\n",
       "    <tr style=\"text-align: right;\">\n",
       "      <th></th>\n",
       "      <th>Пол</th>\n",
       "      <th>Возраст</th>\n",
       "      <th>Зарплата</th>\n",
       "      <th>Члены семьи</th>\n",
       "      <th>Страховые выплаты</th>\n",
       "    </tr>\n",
       "  </thead>\n",
       "  <tbody>\n",
       "    <tr>\n",
       "      <th>0</th>\n",
       "      <td>1</td>\n",
       "      <td>41.0</td>\n",
       "      <td>49600.0</td>\n",
       "      <td>1</td>\n",
       "      <td>0</td>\n",
       "    </tr>\n",
       "    <tr>\n",
       "      <th>1</th>\n",
       "      <td>0</td>\n",
       "      <td>46.0</td>\n",
       "      <td>38000.0</td>\n",
       "      <td>1</td>\n",
       "      <td>1</td>\n",
       "    </tr>\n",
       "    <tr>\n",
       "      <th>2</th>\n",
       "      <td>0</td>\n",
       "      <td>29.0</td>\n",
       "      <td>21000.0</td>\n",
       "      <td>0</td>\n",
       "      <td>0</td>\n",
       "    </tr>\n",
       "    <tr>\n",
       "      <th>3</th>\n",
       "      <td>0</td>\n",
       "      <td>21.0</td>\n",
       "      <td>41700.0</td>\n",
       "      <td>2</td>\n",
       "      <td>0</td>\n",
       "    </tr>\n",
       "    <tr>\n",
       "      <th>4</th>\n",
       "      <td>1</td>\n",
       "      <td>28.0</td>\n",
       "      <td>26100.0</td>\n",
       "      <td>0</td>\n",
       "      <td>0</td>\n",
       "    </tr>\n",
       "  </tbody>\n",
       "</table>\n",
       "</div>"
      ],
      "text/plain": [
       "   Пол  Возраст  Зарплата  Члены семьи  Страховые выплаты\n",
       "0    1     41.0   49600.0            1                  0\n",
       "1    0     46.0   38000.0            1                  1\n",
       "2    0     29.0   21000.0            0                  0\n",
       "3    0     21.0   41700.0            2                  0\n",
       "4    1     28.0   26100.0            0                  0"
      ]
     },
     "execution_count": 6,
     "metadata": {},
     "output_type": "execute_result"
    }
   ],
   "source": [
    "data.head()"
   ]
  },
  {
   "cell_type": "markdown",
   "metadata": {},
   "source": [
    "Разделим выборку на признаки и таргет"
   ]
  },
  {
   "cell_type": "code",
   "execution_count": 7,
   "metadata": {},
   "outputs": [],
   "source": [
    "X = data.drop('Страховые выплаты', axis=1)\n",
    "y = data['Страховые выплаты']"
   ]
  },
  {
   "cell_type": "markdown",
   "metadata": {},
   "source": [
    "Переведем их в массивы"
   ]
  },
  {
   "cell_type": "code",
   "execution_count": 8,
   "metadata": {},
   "outputs": [],
   "source": [
    "X = np.array(X)\n",
    "y = np.array(y)"
   ]
  },
  {
   "cell_type": "markdown",
   "metadata": {},
   "source": [
    "## Преобразование матрицы признаков"
   ]
  },
  {
   "cell_type": "markdown",
   "metadata": {},
   "source": [
    "Попробуем умножить наши признаки на обратимую матрицу и посмотрим, как будут соотноситься вектора предсказаний моделей a и a' в этом случае "
   ]
  },
  {
   "cell_type": "markdown",
   "metadata": {},
   "source": [
    "Дано:\n",
    "\n",
    "$$\n",
    "a = Xw\n",
    "$$\n",
    "\n",
    "\n",
    "$X$ — матрица признаков\n",
    "\n",
    "$w$ — вектор весов линейной регрессии\n",
    "\n",
    "\n",
    "$$\n",
    "a' = X'w'\n",
    "$$\n",
    "\n",
    "\n",
    "$X' = XP$ — матрица признаков, умноженная на обратимую матрицу\n",
    "\n",
    "\n",
    "$w'$ — измененный вектор весов линейной регрессии\n",
    "\n",
    "\n",
    "\n",
    "Рассмотрим w':\n",
    "\n",
    "\n",
    "$$\n",
    "w' = ((XP)^T (XP))^{-1}(XP)^T y =\n",
    "$$\n",
    "\n",
    "\n",
    "Откроем скобки транспонирования:\n",
    "\n",
    "\n",
    "$$\n",
    "(P^T X^T XP)^{-1}P^T X^T y = \n",
    "$$\n",
    "\n",
    "\n",
    "Откроем скобку обращения:\n",
    "\n",
    "\n",
    "$$\n",
    "(X^T XP)^{-1}(P^T)^{-1} P^T X^T y = \n",
    "$$\n",
    "\n",
    "\n",
    "$(P^T)^{-1} P^T $ - единичная матрица, сократим ее и откроем скобки обращения:\n",
    "\n",
    "\n",
    "$$\n",
    "P^{-1}(X^T X)^{-1}X^T y\n",
    "$$\n",
    "\n",
    "\n",
    "Подставим полученное выражение в $a'=X'w'$:\n",
    "\n",
    "\n",
    "$$\n",
    "a' = XP P^{-1}(X^T X)^{-1}X^T y\n",
    "$$\n",
    "\n",
    "\n",
    "$P P^{-1}$ - единичная матрица, сократим ее:\n",
    "\n",
    "\n",
    "$$\n",
    "a' = X(X^T X)^{-1}X^T y\n",
    "$$\n",
    "\n",
    "\n",
    "Найдем выражение $a = Xw$:\n",
    "\n",
    "\n",
    "$$\n",
    "a = X(X^T X)^{-1}X^T y\n",
    "$$\n",
    "\n",
    "\n",
    "Как мы видим, оно равно a', следовательно:\n",
    "\n",
    "\n",
    "$$\n",
    "a' = a\n",
    "$$\n",
    "\n"
   ]
  },
  {
   "cell_type": "markdown",
   "metadata": {},
   "source": [
    "Вывод: при умножении матрицы признаков на обратимую матрицу, вектора предсказаний не изменяются"
   ]
  },
  {
   "cell_type": "markdown",
   "metadata": {},
   "source": [
    "## Проверка алгоритма преобразования"
   ]
  },
  {
   "cell_type": "markdown",
   "metadata": {},
   "source": [
    "Зададим квадратную матрицу со стороной, равной количеству наших признаков"
   ]
  },
  {
   "cell_type": "code",
   "execution_count": 9,
   "metadata": {},
   "outputs": [
    {
     "name": "stdout",
     "output_type": "stream",
     "text": [
      "[[0.83709962 0.66204819 0.3303428  0.65178409]\n",
      " [0.38407241 0.65073294 0.85864506 0.93456412]\n",
      " [0.88607221 0.70356763 0.43140177 0.65780323]\n",
      " [0.44001459 0.64548601 0.63927332 0.12264014]]\n"
     ]
    }
   ],
   "source": [
    "P = np.random.rand(X.shape[1], X.shape[1])\n",
    "print(P)"
   ]
  },
  {
   "cell_type": "markdown",
   "metadata": {},
   "source": [
    "Проверим ее обратимость"
   ]
  },
  {
   "cell_type": "code",
   "execution_count": 10,
   "metadata": {},
   "outputs": [
    {
     "name": "stdout",
     "output_type": "stream",
     "text": [
      "[[-11.47872641  -1.08381712  13.1965424   -1.51810332]\n",
      " [ 19.87582621   0.13755863 -20.52204771   3.39338056]\n",
      " [-12.64731712   0.40637918  12.06367912  -0.58703826]\n",
      " [  2.49781018   1.04627904  -2.21758353  -1.19955963]]\n"
     ]
    }
   ],
   "source": [
    "print(inv(P))"
   ]
  },
  {
   "cell_type": "markdown",
   "metadata": {},
   "source": [
    "Получим измененную матрицу признаков"
   ]
  },
  {
   "cell_type": "code",
   "execution_count": 11,
   "metadata": {},
   "outputs": [],
   "source": [
    "XP = X.dot(P)"
   ]
  },
  {
   "cell_type": "markdown",
   "metadata": {},
   "source": [
    "Сделаем класс линейной регрессии, который будет прибавлять нулевой признак, считать веса и возвращать метрику r2"
   ]
  },
  {
   "cell_type": "code",
   "execution_count": 12,
   "metadata": {},
   "outputs": [],
   "source": [
    "class LinearRegression:\n",
    "    def fit(self, train_features, train_target):\n",
    "        X = np.concatenate((np.ones((train_features.shape[0], 1)), train_features), axis=1)\n",
    "        y = train_target\n",
    "        w = inv(X.T.dot(X)).dot(X.T).dot(y)\n",
    "        self.w = w[1:]\n",
    "        self.w0 = w[0]\n",
    "\n",
    "    def predict(self, test_features):\n",
    "        return test_features.dot(self.w) + self.w0\n",
    "    \n",
    "    def r2_score(self, target, predictions):\n",
    "        return r2_score(target, predictions)\n"
   ]
  },
  {
   "cell_type": "markdown",
   "metadata": {},
   "source": [
    "Сделаем предсказания на обоих моделей"
   ]
  },
  {
   "cell_type": "code",
   "execution_count": 13,
   "metadata": {
    "scrolled": true
   },
   "outputs": [
    {
     "name": "stdout",
     "output_type": "stream",
     "text": [
      "[ 0.51172715  0.68431581  0.09373365 ... -0.25697046 -0.19099161\n",
      "  0.04904991]\n"
     ]
    }
   ],
   "source": [
    "model = LinearRegression()\n",
    "model.fit(X, y)\n",
    "predict = model.predict(X)\n",
    "print(predict)"
   ]
  },
  {
   "cell_type": "code",
   "execution_count": null,
   "metadata": {},
   "outputs": [],
   "source": [
    "model_P = LinearRegression()\n",
    "model_P.fit(XP, y)\n",
    "predict_P = model_P.predict(XP)\n",
    "print(predict_P)"
   ]
  },
  {
   "cell_type": "markdown",
   "metadata": {},
   "source": [
    "Найдем самую большую разницу между предсказаниями"
   ]
  },
  {
   "cell_type": "code",
   "execution_count": null,
   "metadata": {},
   "outputs": [],
   "source": [
    "print(max(abs(predict - predict_P)))"
   ]
  },
  {
   "cell_type": "markdown",
   "metadata": {},
   "source": [
    "Сравним модели по метрике r2"
   ]
  },
  {
   "cell_type": "code",
   "execution_count": null,
   "metadata": {
    "scrolled": true
   },
   "outputs": [],
   "source": [
    "r2 = model.r2_score(y, predict)"
   ]
  },
  {
   "cell_type": "code",
   "execution_count": null,
   "metadata": {},
   "outputs": [],
   "source": [
    "r2_P = model_P.r2_score(y, predict_P)"
   ]
  },
  {
   "cell_type": "markdown",
   "metadata": {},
   "source": [
    "Найдем разницу"
   ]
  },
  {
   "cell_type": "code",
   "execution_count": null,
   "metadata": {},
   "outputs": [],
   "source": [
    "print(r2 - r2_P)"
   ]
  },
  {
   "cell_type": "markdown",
   "metadata": {},
   "source": [
    "Вывод: умножение матрицы признаков на обратимую практически не сказывается на качестве работы модели"
   ]
  },
  {
   "cell_type": "markdown",
   "metadata": {},
   "source": [
    "## Общий вывод"
   ]
  },
  {
   "cell_type": "markdown",
   "metadata": {},
   "source": [
    "Мы предположили алгоритм шифрования данных - умножение матрицы признаков на обратимую матрицу. Мы показали математически, что предсказания моделей на исходной и полученной матрицах признаков должны быть равны. Далее, мы построили модели линейных регрессий и сравнили полученные предсказания и метрику r2. Результаты подтвердили теоретические утверждения:\n",
    "\n",
    "- самая большая разница в признаках равна 7.5e-06\n",
    "- разница в метрике r2 равна 1.3e-11\n",
    "\n",
    "Т.е разница в качестве полученных моделей близка к нулевой"
   ]
  }
 ],
 "metadata": {
  "ExecuteTimeLog": [
   {
    "duration": 603,
    "start_time": "2022-03-12T00:50:10.826Z"
   },
   {
    "duration": 16,
    "start_time": "2022-03-12T00:50:12.616Z"
   },
   {
    "duration": 26,
    "start_time": "2022-03-12T00:51:16.340Z"
   },
   {
    "duration": 10,
    "start_time": "2022-03-12T00:52:16.148Z"
   },
   {
    "duration": 70,
    "start_time": "2022-03-24T05:53:06.923Z"
   },
   {
    "duration": 482,
    "start_time": "2022-03-24T05:53:10.117Z"
   },
   {
    "duration": 6,
    "start_time": "2022-03-24T05:53:10.665Z"
   },
   {
    "duration": 8,
    "start_time": "2022-03-24T05:53:16.148Z"
   },
   {
    "duration": 4,
    "start_time": "2022-03-24T05:55:37.344Z"
   },
   {
    "duration": 5,
    "start_time": "2022-03-24T05:55:41.984Z"
   },
   {
    "duration": 40,
    "start_time": "2022-03-24T05:57:39.655Z"
   },
   {
    "duration": 17,
    "start_time": "2022-03-24T05:57:44.130Z"
   },
   {
    "duration": 8,
    "start_time": "2022-03-24T05:57:44.429Z"
   },
   {
    "duration": 5,
    "start_time": "2022-03-24T05:57:44.974Z"
   },
   {
    "duration": 5,
    "start_time": "2022-03-24T05:57:45.386Z"
   },
   {
    "duration": 141,
    "start_time": "2022-03-24T06:01:27.271Z"
   },
   {
    "duration": 8,
    "start_time": "2022-03-24T06:02:35.856Z"
   },
   {
    "duration": 7,
    "start_time": "2022-03-24T06:03:04.278Z"
   },
   {
    "duration": 8,
    "start_time": "2022-03-24T06:04:07.692Z"
   },
   {
    "duration": 1364,
    "start_time": "2022-03-24T06:04:20.913Z"
   },
   {
    "duration": 4,
    "start_time": "2022-03-24T06:04:39.892Z"
   },
   {
    "duration": 6,
    "start_time": "2022-03-24T06:04:52.320Z"
   },
   {
    "duration": 158,
    "start_time": "2022-03-24T06:05:30.695Z"
   },
   {
    "duration": 4,
    "start_time": "2022-03-24T06:06:16.225Z"
   },
   {
    "duration": 180,
    "start_time": "2022-03-24T06:08:54.785Z"
   },
   {
    "duration": 305,
    "start_time": "2022-03-24T06:10:34.167Z"
   },
   {
    "duration": 25299,
    "start_time": "2022-03-24T06:11:16.309Z"
   },
   {
    "duration": 6,
    "start_time": "2022-03-24T06:11:56.067Z"
   },
   {
    "duration": 6,
    "start_time": "2022-03-24T06:11:57.968Z"
   },
   {
    "duration": 4,
    "start_time": "2022-03-24T06:13:41.020Z"
   },
   {
    "duration": 6,
    "start_time": "2022-03-24T06:13:59.593Z"
   },
   {
    "duration": 4,
    "start_time": "2022-03-24T06:14:12.047Z"
   },
   {
    "duration": 5,
    "start_time": "2022-03-24T06:14:19.956Z"
   },
   {
    "duration": 4,
    "start_time": "2022-03-24T06:14:29.406Z"
   },
   {
    "duration": 8,
    "start_time": "2022-03-24T06:19:00.326Z"
   },
   {
    "duration": 6,
    "start_time": "2022-03-24T06:19:18.978Z"
   },
   {
    "duration": 4,
    "start_time": "2022-03-24T06:21:18.636Z"
   },
   {
    "duration": 9,
    "start_time": "2022-03-24T08:56:42.800Z"
   },
   {
    "duration": 5,
    "start_time": "2022-03-24T08:56:50.788Z"
   },
   {
    "duration": 5,
    "start_time": "2022-03-24T08:56:56.076Z"
   },
   {
    "duration": 4,
    "start_time": "2022-03-24T08:57:00.130Z"
   },
   {
    "duration": 5,
    "start_time": "2022-03-24T08:57:01.908Z"
   },
   {
    "duration": 5,
    "start_time": "2022-03-24T08:57:04.085Z"
   },
   {
    "duration": 5,
    "start_time": "2022-03-24T08:57:08.710Z"
   },
   {
    "duration": 6,
    "start_time": "2022-03-24T08:57:21.078Z"
   },
   {
    "duration": 5,
    "start_time": "2022-03-24T08:57:31.721Z"
   },
   {
    "duration": 6,
    "start_time": "2022-03-24T08:57:33.578Z"
   },
   {
    "duration": 6,
    "start_time": "2022-03-24T08:58:01.875Z"
   },
   {
    "duration": 8,
    "start_time": "2022-03-24T08:59:16.529Z"
   },
   {
    "duration": 5,
    "start_time": "2022-03-24T08:59:30.762Z"
   },
   {
    "duration": 5,
    "start_time": "2022-03-24T09:11:12.188Z"
   },
   {
    "duration": 24,
    "start_time": "2022-03-24T09:11:40.876Z"
   },
   {
    "duration": 13,
    "start_time": "2022-03-24T09:12:13.166Z"
   },
   {
    "duration": 6,
    "start_time": "2022-03-24T09:12:44.794Z"
   },
   {
    "duration": 12,
    "start_time": "2022-03-24T09:12:46.063Z"
   },
   {
    "duration": 131,
    "start_time": "2022-03-24T09:14:13.992Z"
   },
   {
    "duration": 155,
    "start_time": "2022-03-24T09:14:16.229Z"
   },
   {
    "duration": 5,
    "start_time": "2022-03-24T09:14:26.897Z"
   },
   {
    "duration": 10,
    "start_time": "2022-03-24T09:41:44.352Z"
   },
   {
    "duration": 5,
    "start_time": "2022-03-24T09:42:14.144Z"
   },
   {
    "duration": 4,
    "start_time": "2022-03-24T09:42:15.628Z"
   },
   {
    "duration": 146,
    "start_time": "2022-03-24T09:42:21.383Z"
   },
   {
    "duration": 173,
    "start_time": "2022-03-24T09:42:30.665Z"
   },
   {
    "duration": 13,
    "start_time": "2022-03-24T09:42:38.461Z"
   },
   {
    "duration": 17,
    "start_time": "2022-03-24T09:42:51.433Z"
   },
   {
    "duration": 6,
    "start_time": "2022-03-24T09:43:50.827Z"
   },
   {
    "duration": 5,
    "start_time": "2022-03-24T09:43:51.750Z"
   },
   {
    "duration": 6,
    "start_time": "2022-03-24T09:43:57.565Z"
   },
   {
    "duration": 6,
    "start_time": "2022-03-24T09:44:12.744Z"
   },
   {
    "duration": 6,
    "start_time": "2022-03-24T09:44:14.838Z"
   },
   {
    "duration": 14,
    "start_time": "2022-03-24T09:47:41.118Z"
   },
   {
    "duration": 13,
    "start_time": "2022-03-24T09:47:59.499Z"
   },
   {
    "duration": 11,
    "start_time": "2022-03-24T09:48:28.425Z"
   },
   {
    "duration": 5,
    "start_time": "2022-03-24T09:49:35.323Z"
   },
   {
    "duration": 181,
    "start_time": "2022-03-24T09:52:45.545Z"
   },
   {
    "duration": 10,
    "start_time": "2022-03-24T09:53:38.495Z"
   },
   {
    "duration": 6,
    "start_time": "2022-03-24T09:53:46.487Z"
   },
   {
    "duration": 10,
    "start_time": "2022-03-24T09:53:53.314Z"
   },
   {
    "duration": 10,
    "start_time": "2022-03-24T09:54:29.189Z"
   },
   {
    "duration": 1177,
    "start_time": "2022-03-24T09:54:48.061Z"
   },
   {
    "duration": 12,
    "start_time": "2022-03-24T09:54:49.241Z"
   },
   {
    "duration": 25,
    "start_time": "2022-03-24T09:54:49.255Z"
   },
   {
    "duration": 25,
    "start_time": "2022-03-24T09:54:49.282Z"
   },
   {
    "duration": 23,
    "start_time": "2022-03-24T09:54:49.311Z"
   },
   {
    "duration": 17,
    "start_time": "2022-03-24T09:54:49.337Z"
   },
   {
    "duration": 26,
    "start_time": "2022-03-24T09:54:49.356Z"
   },
   {
    "duration": 42,
    "start_time": "2022-03-24T09:54:49.385Z"
   },
   {
    "duration": 101,
    "start_time": "2022-03-24T09:54:49.486Z"
   },
   {
    "duration": 97,
    "start_time": "2022-03-24T09:54:49.590Z"
   },
   {
    "duration": 167,
    "start_time": "2022-03-24T09:54:49.690Z"
   },
   {
    "duration": 0,
    "start_time": "2022-03-24T09:54:49.859Z"
   },
   {
    "duration": 14,
    "start_time": "2022-03-24T09:55:02.868Z"
   },
   {
    "duration": 15,
    "start_time": "2022-03-24T09:55:10.571Z"
   },
   {
    "duration": 13,
    "start_time": "2022-03-24T09:55:10.589Z"
   },
   {
    "duration": 8,
    "start_time": "2022-03-24T09:55:10.604Z"
   },
   {
    "duration": 7,
    "start_time": "2022-03-24T09:55:10.614Z"
   },
   {
    "duration": 6,
    "start_time": "2022-03-24T09:55:10.625Z"
   },
   {
    "duration": 10,
    "start_time": "2022-03-24T09:55:10.634Z"
   },
   {
    "duration": 40,
    "start_time": "2022-03-24T09:55:10.646Z"
   },
   {
    "duration": 96,
    "start_time": "2022-03-24T09:55:10.689Z"
   },
   {
    "duration": 107,
    "start_time": "2022-03-24T09:55:10.787Z"
   },
   {
    "duration": 89,
    "start_time": "2022-03-24T09:55:10.898Z"
   },
   {
    "duration": 104,
    "start_time": "2022-03-24T09:55:10.990Z"
   },
   {
    "duration": 7,
    "start_time": "2022-03-24T09:55:11.097Z"
   },
   {
    "duration": 8,
    "start_time": "2022-03-24T09:55:31.852Z"
   },
   {
    "duration": 11,
    "start_time": "2022-03-24T09:55:52.176Z"
   },
   {
    "duration": 6,
    "start_time": "2022-03-24T09:55:54.704Z"
   },
   {
    "duration": 5,
    "start_time": "2022-03-24T09:55:55.369Z"
   },
   {
    "duration": 5,
    "start_time": "2022-03-24T09:55:55.851Z"
   },
   {
    "duration": 13,
    "start_time": "2022-03-24T09:56:57.942Z"
   },
   {
    "duration": 7,
    "start_time": "2022-03-24T09:56:58.678Z"
   },
   {
    "duration": 6,
    "start_time": "2022-03-24T09:57:37.676Z"
   },
   {
    "duration": 131,
    "start_time": "2022-03-24T10:04:43.227Z"
   },
   {
    "duration": 14,
    "start_time": "2022-03-24T10:06:14.442Z"
   },
   {
    "duration": 35,
    "start_time": "2022-03-24T10:06:14.458Z"
   },
   {
    "duration": 36,
    "start_time": "2022-03-24T10:06:14.495Z"
   },
   {
    "duration": 25,
    "start_time": "2022-03-24T10:06:14.534Z"
   },
   {
    "duration": 38,
    "start_time": "2022-03-24T10:06:14.561Z"
   },
   {
    "duration": 29,
    "start_time": "2022-03-24T10:06:14.602Z"
   },
   {
    "duration": 36,
    "start_time": "2022-03-24T10:06:14.633Z"
   },
   {
    "duration": 52,
    "start_time": "2022-03-24T10:06:14.671Z"
   },
   {
    "duration": 172,
    "start_time": "2022-03-24T10:06:14.727Z"
   },
   {
    "duration": 197,
    "start_time": "2022-03-24T10:06:14.904Z"
   },
   {
    "duration": 32,
    "start_time": "2022-03-24T10:06:15.103Z"
   },
   {
    "duration": 20,
    "start_time": "2022-03-24T10:06:15.137Z"
   },
   {
    "duration": 24,
    "start_time": "2022-03-24T10:06:15.159Z"
   },
   {
    "duration": 15,
    "start_time": "2022-03-24T10:06:30.951Z"
   },
   {
    "duration": 11,
    "start_time": "2022-03-24T10:06:30.969Z"
   },
   {
    "duration": 20,
    "start_time": "2022-03-24T10:06:30.982Z"
   },
   {
    "duration": 25,
    "start_time": "2022-03-24T10:06:31.005Z"
   },
   {
    "duration": 26,
    "start_time": "2022-03-24T10:06:31.033Z"
   },
   {
    "duration": 14,
    "start_time": "2022-03-24T10:06:31.062Z"
   },
   {
    "duration": 40,
    "start_time": "2022-03-24T10:06:31.078Z"
   },
   {
    "duration": 62,
    "start_time": "2022-03-24T10:06:31.120Z"
   },
   {
    "duration": 103,
    "start_time": "2022-03-24T10:06:31.185Z"
   },
   {
    "duration": 96,
    "start_time": "2022-03-24T10:06:31.291Z"
   },
   {
    "duration": 124,
    "start_time": "2022-03-24T10:06:31.390Z"
   },
   {
    "duration": 43,
    "start_time": "2022-03-24T10:06:31.516Z"
   },
   {
    "duration": 31,
    "start_time": "2022-03-24T10:06:31.562Z"
   },
   {
    "duration": 6,
    "start_time": "2022-03-24T10:11:15.515Z"
   },
   {
    "duration": 6,
    "start_time": "2022-03-24T10:11:32.114Z"
   },
   {
    "duration": 6,
    "start_time": "2022-03-24T10:11:39.799Z"
   },
   {
    "duration": 5,
    "start_time": "2022-03-24T10:11:56.843Z"
   },
   {
    "duration": 6,
    "start_time": "2022-03-24T10:12:00.260Z"
   },
   {
    "duration": 6,
    "start_time": "2022-03-24T10:12:02.834Z"
   },
   {
    "duration": 6,
    "start_time": "2022-03-24T10:12:07.306Z"
   },
   {
    "duration": 154,
    "start_time": "2022-03-24T10:14:47.419Z"
   },
   {
    "duration": 18,
    "start_time": "2022-03-24T10:17:07.986Z"
   },
   {
    "duration": 23,
    "start_time": "2022-03-24T10:17:08.007Z"
   },
   {
    "duration": 25,
    "start_time": "2022-03-24T10:17:08.033Z"
   },
   {
    "duration": 25,
    "start_time": "2022-03-24T10:17:08.063Z"
   },
   {
    "duration": 24,
    "start_time": "2022-03-24T10:17:08.091Z"
   },
   {
    "duration": 17,
    "start_time": "2022-03-24T10:17:08.118Z"
   },
   {
    "duration": 21,
    "start_time": "2022-03-24T10:17:08.139Z"
   },
   {
    "duration": 40,
    "start_time": "2022-03-24T10:17:08.163Z"
   },
   {
    "duration": 140,
    "start_time": "2022-03-24T10:17:08.281Z"
   },
   {
    "duration": 167,
    "start_time": "2022-03-24T10:17:08.426Z"
   },
   {
    "duration": 27,
    "start_time": "2022-03-24T10:17:08.596Z"
   },
   {
    "duration": 41,
    "start_time": "2022-03-24T10:17:08.625Z"
   },
   {
    "duration": 18,
    "start_time": "2022-03-24T10:17:08.668Z"
   },
   {
    "duration": 16,
    "start_time": "2022-03-24T10:45:33.597Z"
   },
   {
    "duration": 41,
    "start_time": "2022-03-24T10:45:33.616Z"
   },
   {
    "duration": 8,
    "start_time": "2022-03-24T10:45:33.660Z"
   },
   {
    "duration": 9,
    "start_time": "2022-03-24T10:45:33.670Z"
   },
   {
    "duration": 10,
    "start_time": "2022-03-24T10:45:33.682Z"
   },
   {
    "duration": 11,
    "start_time": "2022-03-24T10:45:33.694Z"
   },
   {
    "duration": 74,
    "start_time": "2022-03-24T10:45:33.709Z"
   },
   {
    "duration": 96,
    "start_time": "2022-03-24T10:45:33.787Z"
   },
   {
    "duration": 15,
    "start_time": "2022-03-24T10:45:33.886Z"
   },
   {
    "duration": 83,
    "start_time": "2022-03-24T10:45:33.904Z"
   },
   {
    "duration": 97,
    "start_time": "2022-03-24T10:45:33.991Z"
   },
   {
    "duration": 93,
    "start_time": "2022-03-24T10:45:34.092Z"
   },
   {
    "duration": 8,
    "start_time": "2022-03-24T10:45:34.188Z"
   },
   {
    "duration": 5,
    "start_time": "2022-03-24T10:45:34.200Z"
   },
   {
    "duration": 132,
    "start_time": "2022-03-24T10:45:34.208Z"
   },
   {
    "duration": 53,
    "start_time": "2022-03-24T14:39:27.443Z"
   },
   {
    "duration": 2272,
    "start_time": "2022-03-24T14:40:07.116Z"
   },
   {
    "duration": 204,
    "start_time": "2022-03-24T14:40:17.508Z"
   },
   {
    "duration": 133,
    "start_time": "2022-03-24T14:40:28.040Z"
   },
   {
    "duration": 17,
    "start_time": "2022-03-24T14:40:44.693Z"
   },
   {
    "duration": 13,
    "start_time": "2022-03-24T14:40:44.712Z"
   },
   {
    "duration": 6,
    "start_time": "2022-03-24T14:40:44.726Z"
   },
   {
    "duration": 6,
    "start_time": "2022-03-24T14:40:44.734Z"
   },
   {
    "duration": 7,
    "start_time": "2022-03-24T14:40:44.742Z"
   },
   {
    "duration": 9,
    "start_time": "2022-03-24T14:40:44.751Z"
   },
   {
    "duration": 171,
    "start_time": "2022-03-24T14:40:44.762Z"
   },
   {
    "duration": 9,
    "start_time": "2022-03-24T14:40:44.934Z"
   },
   {
    "duration": 9,
    "start_time": "2022-03-24T14:40:44.944Z"
   },
   {
    "duration": 332,
    "start_time": "2022-03-24T14:40:44.955Z"
   },
   {
    "duration": 0,
    "start_time": "2022-03-24T14:40:45.289Z"
   },
   {
    "duration": 0,
    "start_time": "2022-03-24T14:40:45.290Z"
   },
   {
    "duration": 0,
    "start_time": "2022-03-24T14:40:45.291Z"
   },
   {
    "duration": 0,
    "start_time": "2022-03-24T14:40:45.292Z"
   },
   {
    "duration": 0,
    "start_time": "2022-03-24T14:40:45.293Z"
   },
   {
    "duration": 312,
    "start_time": "2022-03-24T14:41:22.992Z"
   },
   {
    "duration": 129,
    "start_time": "2022-03-24T14:41:57.761Z"
   },
   {
    "duration": 140,
    "start_time": "2022-03-24T14:42:12.362Z"
   },
   {
    "duration": 134,
    "start_time": "2022-03-24T14:42:43.064Z"
   },
   {
    "duration": 5,
    "start_time": "2022-03-24T14:43:01.897Z"
   },
   {
    "duration": 4,
    "start_time": "2022-03-24T14:43:45.663Z"
   },
   {
    "duration": 5,
    "start_time": "2022-03-24T14:43:51.975Z"
   },
   {
    "duration": 305,
    "start_time": "2022-03-24T14:43:56.956Z"
   },
   {
    "duration": 282,
    "start_time": "2022-03-24T14:44:19.803Z"
   },
   {
    "duration": 291,
    "start_time": "2022-03-24T14:44:23.250Z"
   },
   {
    "duration": 243,
    "start_time": "2022-03-24T14:44:26.851Z"
   },
   {
    "duration": 415,
    "start_time": "2022-03-24T14:44:31.274Z"
   },
   {
    "duration": 236,
    "start_time": "2022-03-24T14:44:35.880Z"
   }
  ],
  "kernelspec": {
   "display_name": "Python 3",
   "language": "python",
   "name": "python3"
  },
  "language_info": {
   "codemirror_mode": {
    "name": "ipython",
    "version": 3
   },
   "file_extension": ".py",
   "mimetype": "text/x-python",
   "name": "python",
   "nbconvert_exporter": "python",
   "pygments_lexer": "ipython3",
   "version": "3.10.0 (tags/v3.10.0:b494f59, Oct  4 2021, 19:00:18) [MSC v.1929 64 bit (AMD64)]"
  },
  "toc": {
   "base_numbering": 1,
   "nav_menu": {},
   "number_sections": true,
   "sideBar": true,
   "skip_h1_title": true,
   "title_cell": "Содержание",
   "title_sidebar": "Contents",
   "toc_cell": true,
   "toc_position": {},
   "toc_section_display": true,
   "toc_window_display": true
  },
  "vscode": {
   "interpreter": {
    "hash": "d488093d919f573c925b0a84f2a24fea75905f9dd1b6664dfb65159487c96672"
   }
  }
 },
 "nbformat": 4,
 "nbformat_minor": 2
}

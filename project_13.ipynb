{
 "cells": [
  {
   "cell_type": "markdown",
   "metadata": {},
   "source": [
    "## Введение"
   ]
  },
  {
   "cell_type": "markdown",
   "metadata": {},
   "source": [
    "Нам пришла задача от обсерватории «Небо на ладони»: придумать, как с помощью нейросети определять температуру на поверхности обнаруженных звёзд. Обычно для расчёта температуры учёные пользуются следующими методами:\n",
    "\n",
    "    Закон смещения Вина.    \n",
    "    Закон Стефана-Больцмана.\n",
    "    Спектральный анализ.\n",
    "\n",
    "Каждый из них имеет плюсы и минусы. Обсерватория хочет внедрить технологии машинного обучения для предсказания температуры звёзд, надеясь, что этот метод будет наиболее точным и удобным.\n",
    "В базе обсерватории есть характеристики уже изученных 240 звёзд."
   ]
  },
  {
   "cell_type": "markdown",
   "metadata": {},
   "source": [
    "Алгоритм работы:\n",
    "- ознакомиться с данными\n",
    "- выполнить предобработку данных\n",
    "- сделать модель baseline\n",
    "- сделать барплот с истинной температурой/прогноз\n",
    "- улучшить модель с помощью регулиризации и обучению по батчам\n",
    "- получить RMSE не ниже 4500\n"
   ]
  },
  {
   "cell_type": "markdown",
   "metadata": {},
   "source": [
    "## Обзор данных"
   ]
  },
  {
   "cell_type": "markdown",
   "metadata": {},
   "source": [
    "Загрузим библиотеки и посмотрим данные"
   ]
  },
  {
   "cell_type": "code",
   "execution_count": 26,
   "metadata": {},
   "outputs": [
    {
     "name": "stdout",
     "output_type": "stream",
     "text": [
      "<class 'pandas.core.frame.DataFrame'>\n",
      "RangeIndex: 240 entries, 0 to 239\n",
      "Data columns (total 7 columns):\n",
      " #   Column                  Non-Null Count  Dtype  \n",
      "---  ------                  --------------  -----  \n",
      " 0   Unnamed: 0              240 non-null    int64  \n",
      " 1   Temperature (K)         240 non-null    int64  \n",
      " 2   Luminosity(L/Lo)        240 non-null    float64\n",
      " 3   Radius(R/Ro)            240 non-null    float64\n",
      " 4   Absolute magnitude(Mv)  240 non-null    float64\n",
      " 5   Star type               240 non-null    int64  \n",
      " 6   Star color              240 non-null    object \n",
      "dtypes: float64(3), int64(3), object(1)\n",
      "memory usage: 13.2+ KB\n"
     ]
    }
   ],
   "source": [
    "import urllib.request\n",
    "import pandas as pd\n",
    "\n",
    "\n",
    "from os import path\n",
    "from pathlib import Path\n",
    "\n",
    "from sklearn.preprocessing import MinMaxScaler\n",
    "from sklearn.model_selection import train_test_split\n",
    "from sklearn.pipeline import Pipeline\n",
    "from sklearn.metrics import mean_squared_error\n",
    "from sklearn.metrics import mean_absolute_error\n",
    "from sklearn.compose import ColumnTransformer\n",
    "from sklearn.preprocessing import OneHotEncoder\n",
    "from sklearn.model_selection import ParameterSampler\n",
    "from torch.utils.data import DataLoader\n",
    "from torch.utils.data import Dataset, TensorDataset\n",
    "import seaborn as sns\n",
    "import matplotlib.pyplot as plt\n",
    "import torch \n",
    "import torch.nn as nn\n",
    "import numpy as np\n",
    "import random\n",
    "from tqdm import tqdm\n",
    "\n",
    "import warnings\n",
    "warnings.simplefilter(action='ignore', category=FutureWarning)\n",
    "\n",
    "YANDEX_DATASETS_PATH = 'https://code.s3.yandex.net/datasets/'\n",
    "dataset_folder = 'datasets'\n",
    "dataset_name = '6_class.csv'\n",
    "#download dataset if not existed\n",
    "if not path.exists(dataset_folder + '/' + dataset_name):\n",
    "    #create dir if not existed\n",
    "    Path(dataset_folder).mkdir(parents=True, exist_ok=True)\n",
    "\n",
    "    #download dataset\n",
    "    urllib.request.urlretrieve(YANDEX_DATASETS_PATH + dataset_name,\n",
    "                               dataset_folder+'/'+ dataset_name)\n",
    "\n",
    "df = pd.read_csv(dataset_folder +'/'+ dataset_name)\n",
    "df.info()"
   ]
  },
  {
   "cell_type": "code",
   "execution_count": 27,
   "metadata": {},
   "outputs": [],
   "source": [
    "df = pd.read_csv(dataset_folder +'/'+ dataset_name)"
   ]
  },
  {
   "cell_type": "code",
   "execution_count": 28,
   "metadata": {},
   "outputs": [
    {
     "data": {
      "text/html": [
       "<div>\n",
       "<style scoped>\n",
       "    .dataframe tbody tr th:only-of-type {\n",
       "        vertical-align: middle;\n",
       "    }\n",
       "\n",
       "    .dataframe tbody tr th {\n",
       "        vertical-align: top;\n",
       "    }\n",
       "\n",
       "    .dataframe thead th {\n",
       "        text-align: right;\n",
       "    }\n",
       "</style>\n",
       "<table border=\"1\" class=\"dataframe\">\n",
       "  <thead>\n",
       "    <tr style=\"text-align: right;\">\n",
       "      <th></th>\n",
       "      <th>Unnamed: 0</th>\n",
       "      <th>Temperature (K)</th>\n",
       "      <th>Luminosity(L/Lo)</th>\n",
       "      <th>Radius(R/Ro)</th>\n",
       "      <th>Absolute magnitude(Mv)</th>\n",
       "      <th>Star type</th>\n",
       "      <th>Star color</th>\n",
       "    </tr>\n",
       "  </thead>\n",
       "  <tbody>\n",
       "    <tr>\n",
       "      <th>0</th>\n",
       "      <td>0</td>\n",
       "      <td>3068</td>\n",
       "      <td>0.002400</td>\n",
       "      <td>0.1700</td>\n",
       "      <td>16.12</td>\n",
       "      <td>0</td>\n",
       "      <td>Red</td>\n",
       "    </tr>\n",
       "    <tr>\n",
       "      <th>1</th>\n",
       "      <td>1</td>\n",
       "      <td>3042</td>\n",
       "      <td>0.000500</td>\n",
       "      <td>0.1542</td>\n",
       "      <td>16.60</td>\n",
       "      <td>0</td>\n",
       "      <td>Red</td>\n",
       "    </tr>\n",
       "    <tr>\n",
       "      <th>2</th>\n",
       "      <td>2</td>\n",
       "      <td>2600</td>\n",
       "      <td>0.000300</td>\n",
       "      <td>0.1020</td>\n",
       "      <td>18.70</td>\n",
       "      <td>0</td>\n",
       "      <td>Red</td>\n",
       "    </tr>\n",
       "    <tr>\n",
       "      <th>3</th>\n",
       "      <td>3</td>\n",
       "      <td>2800</td>\n",
       "      <td>0.000200</td>\n",
       "      <td>0.1600</td>\n",
       "      <td>16.65</td>\n",
       "      <td>0</td>\n",
       "      <td>Red</td>\n",
       "    </tr>\n",
       "    <tr>\n",
       "      <th>4</th>\n",
       "      <td>4</td>\n",
       "      <td>1939</td>\n",
       "      <td>0.000138</td>\n",
       "      <td>0.1030</td>\n",
       "      <td>20.06</td>\n",
       "      <td>0</td>\n",
       "      <td>Red</td>\n",
       "    </tr>\n",
       "  </tbody>\n",
       "</table>\n",
       "</div>"
      ],
      "text/plain": [
       "   Unnamed: 0  Temperature (K)  Luminosity(L/Lo)  Radius(R/Ro)  \\\n",
       "0           0             3068          0.002400        0.1700   \n",
       "1           1             3042          0.000500        0.1542   \n",
       "2           2             2600          0.000300        0.1020   \n",
       "3           3             2800          0.000200        0.1600   \n",
       "4           4             1939          0.000138        0.1030   \n",
       "\n",
       "   Absolute magnitude(Mv)  Star type Star color  \n",
       "0                   16.12          0        Red  \n",
       "1                   16.60          0        Red  \n",
       "2                   18.70          0        Red  \n",
       "3                   16.65          0        Red  \n",
       "4                   20.06          0        Red  "
      ]
     },
     "execution_count": 28,
     "metadata": {},
     "output_type": "execute_result"
    }
   ],
   "source": [
    "df.head()"
   ]
  },
  {
   "cell_type": "code",
   "execution_count": 29,
   "metadata": {},
   "outputs": [
    {
     "data": {
      "text/plain": [
       "Index(['Unnamed: 0', 'Temperature (K)', 'Luminosity(L/Lo)', 'Radius(R/Ro)',\n",
       "       'Absolute magnitude(Mv)', 'Star type', 'Star color'],\n",
       "      dtype='object')"
      ]
     },
     "execution_count": 29,
     "metadata": {},
     "output_type": "execute_result"
    }
   ],
   "source": [
    "df.columns"
   ]
  },
  {
   "cell_type": "markdown",
   "metadata": {},
   "source": [
    "переименуем колонки"
   ]
  },
  {
   "cell_type": "code",
   "execution_count": 30,
   "metadata": {},
   "outputs": [],
   "source": [
    "df.rename(columns={\"Unnamed: 0\": \"id\",\n",
    "                   \"Temperature (K)\": \"temperature\",\n",
    "                   \"Luminosity(L/Lo)\": \"luminocity\",\n",
    "                   \"Radius(R/Ro)\": \"radius\",\n",
    "                   \"Absolute magnitude(Mv)\": \"absolute_magnitude\",\n",
    "                   \"Star type\": \"star_type\",\n",
    "                   \"Star color\": \"star_color\"\n",
    "                    }, inplace=True)"
   ]
  },
  {
   "cell_type": "markdown",
   "metadata": {},
   "source": [
    "удалим id"
   ]
  },
  {
   "cell_type": "code",
   "execution_count": 31,
   "metadata": {},
   "outputs": [],
   "source": [
    "X = df.drop([\"id\", \"temperature\"], axis=1)\n",
    "y = df[\"temperature\"]"
   ]
  },
  {
   "cell_type": "markdown",
   "metadata": {},
   "source": [
    "## Исследование и предобработка данных"
   ]
  },
  {
   "cell_type": "markdown",
   "metadata": {},
   "source": [
    "посмотрим корреляцию таргета с признаками"
   ]
  },
  {
   "cell_type": "code",
   "execution_count": 32,
   "metadata": {},
   "outputs": [
    {
     "data": {
      "text/plain": [
       "temperature           1.000000\n",
       "absolute_magnitude    0.420261\n",
       "star_type             0.411129\n",
       "luminocity            0.393404\n",
       "radius                0.064216\n",
       "Name: temperature, dtype: float64"
      ]
     },
     "execution_count": 32,
     "metadata": {},
     "output_type": "execute_result"
    }
   ],
   "source": [
    "t = df.drop([\"id\"], axis=1).corr()\n",
    "t[\"temperature\"].abs().sort_values(ascending=False)"
   ]
  },
  {
   "cell_type": "markdown",
   "metadata": {},
   "source": [
    "равномерная корреляция со всеми признаками, кроме radius. Сделаем гистограмму"
   ]
  },
  {
   "cell_type": "code",
   "execution_count": 33,
   "metadata": {},
   "outputs": [
    {
     "data": {
      "text/plain": [
       "<AxesSubplot:>"
      ]
     },
     "execution_count": 33,
     "metadata": {},
     "output_type": "execute_result"
    },
    {
     "data": {
      "image/png": "[encoded data removed]",
      "text/plain": [
       "<Figure size 432x288 with 1 Axes>"
      ]
     },
     "metadata": {
      "needs_background": "light"
     },
     "output_type": "display_data"
    }
   ],
   "source": [
    "y.hist()"
   ]
  },
  {
   "cell_type": "markdown",
   "metadata": {},
   "source": [
    "посмотрим количественные признаки:"
   ]
  },
  {
   "cell_type": "code",
   "execution_count": 34,
   "metadata": {},
   "outputs": [
    {
     "data": {
      "text/plain": [
       "<AxesSubplot:>"
      ]
     },
     "execution_count": 34,
     "metadata": {},
     "output_type": "execute_result"
    },
    {
     "data": {
      "image/png": "[encoded data removed]",
      "text/plain": [
       "<Figure size 432x288 with 1 Axes>"
      ]
     },
     "metadata": {
      "needs_background": "light"
     },
     "output_type": "display_data"
    }
   ],
   "source": [
    "X[\"luminocity\"].hist(bins = 20)"
   ]
  },
  {
   "cell_type": "code",
   "execution_count": 35,
   "metadata": {},
   "outputs": [
    {
     "data": {
      "text/plain": [
       "<AxesSubplot:>"
      ]
     },
     "execution_count": 35,
     "metadata": {},
     "output_type": "execute_result"
    },
    {
     "data": {
      "image/png": "[encoded data removed]",
      "text/plain": [
       "<Figure size 432x288 with 1 Axes>"
      ]
     },
     "metadata": {
      "needs_background": "light"
     },
     "output_type": "display_data"
    }
   ],
   "source": [
    "X[\"radius\"].hist(bins = 20)"
   ]
  },
  {
   "cell_type": "markdown",
   "metadata": {},
   "source": [
    "оба распределения по форме схожи с таргетом"
   ]
  },
  {
   "cell_type": "code",
   "execution_count": 36,
   "metadata": {},
   "outputs": [
    {
     "data": {
      "text/plain": [
       "<AxesSubplot:>"
      ]
     },
     "execution_count": 36,
     "metadata": {},
     "output_type": "execute_result"
    },
    {
     "data": {
      "image/png": "[encoded data removed]",
      "text/plain": [
       "<Figure size 432x288 with 1 Axes>"
      ]
     },
     "metadata": {
      "needs_background": "light"
     },
     "output_type": "display_data"
    }
   ],
   "source": [
    "X[\"absolute_magnitude\"].hist(bins = 20)"
   ]
  },
  {
   "cell_type": "markdown",
   "metadata": {},
   "source": [
    "а здесь биноминальное распределение"
   ]
  },
  {
   "cell_type": "markdown",
   "metadata": {},
   "source": [
    "посмотрим категориальные признаки"
   ]
  },
  {
   "cell_type": "code",
   "execution_count": 37,
   "metadata": {},
   "outputs": [
    {
     "data": {
      "text/plain": [
       "<AxesSubplot:xlabel='star_type', ylabel='count'>"
      ]
     },
     "execution_count": 37,
     "metadata": {},
     "output_type": "execute_result"
    },
    {
     "data": {
      "image/png": "[encoded data removed]",
      "text/plain": [
       "<Figure size 432x288 with 1 Axes>"
      ]
     },
     "metadata": {
      "needs_background": "light"
     },
     "output_type": "display_data"
    }
   ],
   "source": [
    "sns.countplot(x=\"random_sampler\", data=X)"
   ]
  },
  {
   "cell_type": "markdown",
   "metadata": {},
   "source": [
    "равномерное распределение"
   ]
  },
  {
   "cell_type": "code",
   "execution_count": 38,
   "metadata": {},
   "outputs": [
    {
     "data": {
      "text/plain": [
       "<AxesSubplot:xlabel='star_color', ylabel='count'>"
      ]
     },
     "execution_count": 38,
     "metadata": {},
     "output_type": "execute_result"
    },
    {
     "data": {
      "image/png": "[encoded data removed]",
      "text/plain": [
       "<Figure size 1440x576 with 1 Axes>"
      ]
     },
     "metadata": {
      "needs_background": "light"
     },
     "output_type": "display_data"
    }
   ],
   "source": [
    "plt.figure(figsize=(20,8))\n",
    "sns.countplot(x=\"star_color\", data=X)"
   ]
  },
  {
   "cell_type": "code",
   "execution_count": 39,
   "metadata": {},
   "outputs": [
    {
     "data": {
      "text/plain": [
       "Red                   0.466667\n",
       "Blue                  0.229167\n",
       "Blue-white            0.108333\n",
       "Blue White            0.041667\n",
       "yellow-white          0.033333\n",
       "White                 0.029167\n",
       "Blue white            0.012500\n",
       "Yellowish White       0.012500\n",
       "white                 0.012500\n",
       "Whitish               0.008333\n",
       "Orange                0.008333\n",
       "yellowish             0.008333\n",
       "Pale yellow orange    0.004167\n",
       "White-Yellow          0.004167\n",
       "Blue                  0.004167\n",
       "Yellowish             0.004167\n",
       "Orange-Red            0.004167\n",
       "Blue white            0.004167\n",
       "Blue-White            0.004167\n",
       "Name: star_color, dtype: float64"
      ]
     },
     "execution_count": 39,
     "metadata": {},
     "output_type": "execute_result"
    }
   ],
   "source": [
    "df[\"star_color\"].value_counts(normalize=True)"
   ]
  },
  {
   "cell_type": "markdown",
   "metadata": {},
   "source": [
    "много повторяющихся значений цветов. Сгруппируем их"
   ]
  },
  {
   "cell_type": "code",
   "execution_count": 40,
   "metadata": {},
   "outputs": [],
   "source": [
    "def color_group(x):\n",
    "    x = x.strip().lower()\n",
    "\n",
    "    if x == \"blue\":\n",
    "        return \"blue\"\n",
    "\n",
    "    if x == \"white\" or x == \"whitish\":\n",
    "        return \"white\"    \n",
    "\n",
    "    if (\"yellow\" in x) and (\"white\" in x):\n",
    "        return \"blue_yellow\"\n",
    "\n",
    "    if (\"blue\" in x) and (\"white\" in x):\n",
    "        return \"blue_white\"\n",
    "\n",
    "    if x == \"yellowish\" or x == \"pale yellow orange\":\n",
    "        return \"yellow\" \n",
    "\n",
    "    else: \n",
    "        return x    \n",
    "\n",
    "X[\"star_color\"] = df[\"star_color\"].apply(color_group)"
   ]
  },
  {
   "cell_type": "markdown",
   "metadata": {},
   "source": [
    "посмотрим, что получилось"
   ]
  },
  {
   "cell_type": "code",
   "execution_count": null,
   "metadata": {},
   "outputs": [
    {
     "data": {
      "text/plain": [
       "red            0.466667\n",
       "blue           0.233333\n",
       "blue_white     0.170833\n",
       "white          0.050000\n",
       "blue_yellow    0.050000\n",
       "yellow         0.016667\n",
       "orange         0.008333\n",
       "orange-red     0.004167\n",
       "Name: star_color, dtype: float64"
      ]
     },
     "execution_count": 16,
     "metadata": {},
     "output_type": "execute_result"
    }
   ],
   "source": [
    "X[\"star_color\"].value_counts(normalize=True)"
   ]
  },
  {
   "cell_type": "markdown",
   "metadata": {},
   "source": [
    "Установим постоянный рендом сид"
   ]
  },
  {
   "cell_type": "code",
   "execution_count": null,
   "metadata": {},
   "outputs": [],
   "source": [
    "random.seed(0)\n",
    "np.random.seed(0)\n",
    "torch.manual_seed(0)\n",
    "torch.use_deterministic_algorithms(True)"
   ]
  },
  {
   "cell_type": "markdown",
   "metadata": {},
   "source": [
    "разделим данные на трейн и тест"
   ]
  },
  {
   "cell_type": "code",
   "execution_count": null,
   "metadata": {},
   "outputs": [],
   "source": [
    "X_tr, X_val, y_tr, y_val = train_test_split(X, y, test_size=0.2, random_state=42)"
   ]
  },
  {
   "cell_type": "markdown",
   "metadata": {},
   "source": [
    "выделим категориальные и кол-венные признаки"
   ]
  },
  {
   "cell_type": "code",
   "execution_count": null,
   "metadata": {},
   "outputs": [],
   "source": [
    "num_cols = [\"luminocity\", \"radius\", \"absolute_magnitude\"]\n",
    "cat_cols = [\"star_type\", \"star_color\"]"
   ]
  },
  {
   "cell_type": "markdown",
   "metadata": {},
   "source": [
    "сделаем енкодинг категориальных и кол-ных признаков"
   ]
  },
  {
   "cell_type": "code",
   "execution_count": null,
   "metadata": {},
   "outputs": [],
   "source": [
    "cat_transformer_linear = OneHotEncoder(handle_unknown='ignore')\n",
    "num_transformer_linear = MinMaxScaler()\n",
    "\n",
    "preprocessor = ColumnTransformer(\n",
    "    transformers=[\n",
    "        (\"num\", num_transformer_linear, num_cols),\n",
    "        (\"cat\", cat_transformer_linear, cat_cols)\n",
    "    ]\n",
    ")"
   ]
  },
  {
   "cell_type": "code",
   "execution_count": null,
   "metadata": {},
   "outputs": [],
   "source": [
    "X_train_prep = preprocessor.fit_transform(X_tr)\n",
    "X_valid_prep = preprocessor.transform(X_val)"
   ]
  },
  {
   "cell_type": "markdown",
   "metadata": {},
   "source": [
    "подготовим данные к обучению"
   ]
  },
  {
   "cell_type": "code",
   "execution_count": null,
   "metadata": {},
   "outputs": [],
   "source": [
    "features_count = X_train_prep.shape[1]\n",
    "\n",
    "X_train = torch.from_numpy(X_train_prep).float()\n",
    "X_valid = torch.from_numpy(X_valid_prep).float()\n",
    "y_train = torch.FloatTensor(y_tr.to_numpy())\n",
    "y_valid = torch.FloatTensor(y_val.to_numpy())\n",
    "\n",
    "train_data = TensorDataset(X_train, y_train)"
   ]
  },
  {
   "cell_type": "markdown",
   "metadata": {},
   "source": [
    "## Обучим модель baseline"
   ]
  },
  {
   "cell_type": "markdown",
   "metadata": {},
   "source": [
    "сделаем сетку для параметров baseline. Установим кол-во скрытых слоев равное 2. Возьмем 40 случайных вариантов"
   ]
  },
  {
   "cell_type": "code",
   "execution_count": 52,
   "metadata": {},
   "outputs": [],
   "source": [
    "rng = np.random.RandomState(0)\n",
    "\n",
    "baseline_grid = {\n",
    "                 \"n_neurons_in\": [features_count],\n",
    "                 \"n_neurons_out\": [1],\n",
    "                 \"n_hidden_1\":[40, 30, 20, 15],\n",
    "                 \"n_hidden_2\":[12, 10, 8, 6],\n",
    "                 \"activation_1\": [nn.ReLU(), None],\n",
    "                 \"activation_2\": [nn.ReLU(), None],\n",
    "                 \"activation_out\": [nn.ReLU(), None]\n",
    "                }\n",
    "                \n",
    "baseline_list = list(ParameterSampler(baseline_grid, n_iter=40,\n",
    "                                   random_state=rng))"
   ]
  },
  {
   "cell_type": "markdown",
   "metadata": {},
   "source": [
    "сделаем функцию для инициализации весов. Такой диапaзон для несимметричных функций, как ReLU, вроде способен сохранить дисперсию весов при прямом распространении"
   ]
  },
  {
   "cell_type": "code",
   "execution_count": null,
   "metadata": {},
   "outputs": [],
   "source": [
    "def init_weights(layer):\n",
    "    if type(layer) == nn.Linear:\n",
    "        nn.init.normal_(layer.weight, mean=0, std=np.sqrt(2/layer.in_features))\n",
    "        nn.init.normal_(layer.bias, mean=0, std=0)"
   ]
  },
  {
   "cell_type": "markdown",
   "metadata": {},
   "source": [
    "напишем цикл для обучения и нахождения лучших гиперпараметров baseline модели. Будем сохранять лучшей показатель rmse для каждого параметра в словарь. А лучшую среди всех моделей сохраним в файл"
   ]
  },
  {
   "cell_type": "code",
   "execution_count": null,
   "metadata": {},
   "outputs": [],
   "source": [
    "num_epochs = 1500\n",
    "results_baseline = {}\n",
    "best_score_overall = 10e+10000\n",
    "\n",
    "for i, param in enumerate(baseline_list):\n",
    "\n",
    "\tbest_score_current_param = 1e+100000\n",
    "\tnet_layers = []\n",
    "\n",
    "\tnet_layers.append(nn.Linear(param[\"n_neurons_in\"], param[\"n_hidden_1\"]))\n",
    "\t\n",
    "\tif param[\"activation_1\"] is not None:\n",
    "\t\tnet_layers.append(param[\"activation_1\"])\n",
    "\t\n",
    "\tnet_layers.append(nn.Linear(param[\"n_hidden_1\"], param[\"n_hidden_2\"]))\n",
    "\n",
    "\tif param[\"activation_2\"] is not None:\n",
    "\t\tnet_layers.append(param[\"activation_2\"])\n",
    "\n",
    "\tnet_layers.append(nn.Linear(param[\"n_hidden_2\"], param[\"n_neurons_out\"]))\n",
    "\t\n",
    "\tif param[\"activation_out\"] is not None:\n",
    "\t\tnet_layers.append(param[\"activation_out\"])\n",
    "\n",
    "\tnet = nn.Sequential(*net_layers) \n",
    "\tnet.apply(init_weights)\n",
    "\toptimizer = torch.optim.Adam(net.parameters(), lr=0.02)\n",
    "\tloss = nn.MSELoss()\n",
    "\t\n",
    "\n",
    "\tfor epoch in range(num_epochs):\n",
    "\n",
    "\t\tpreds = net.forward(X_train)      \n",
    "\t\tloss_value = loss(preds.reshape(-1,), y_train)\n",
    "\n",
    "\t\t\n",
    "\t\toptimizer.zero_grad()\n",
    "\t\tloss_value.backward()        \n",
    "\t\toptimizer.step()\n",
    "\n",
    "\t\tif epoch % 5 == 0 or epoch == num_epochs - 1:\n",
    "\t\t\tnet.eval()\n",
    "\t\t\tvalid_preds = net.forward(X_valid)\n",
    "\t\t\trmse_valid = round(np.sqrt(mean_squared_error(y_valid, valid_preds.detach().numpy())))\n",
    "\n",
    "\t\t\tis_best_overall = rmse_valid < best_score_overall\n",
    "\t\t\tbest_score_overall = min(rmse_valid, best_score_overall)\n",
    "\n",
    "\t\t\tis_best_current_param = rmse_valid < best_score_current_param\n",
    "\t\t\tbest_score_current_param = min(rmse_valid, best_score_current_param)\n",
    "\n",
    "\t\t\tif is_best_overall:\n",
    "\t\t\t\ttorch.save(net, \"best_model.pth\")\n",
    "\n",
    "\t\t\tif is_best_current_param:\n",
    "\t\t\t\tresults_baseline[i] = (param, best_score_current_param)"
   ]
  },
  {
   "cell_type": "markdown",
   "metadata": {},
   "source": [
    "посмотрим результаты"
   ]
  },
  {
   "cell_type": "code",
   "execution_count": null,
   "metadata": {},
   "outputs": [
    {
     "data": {
      "text/html": [
       "<div>\n",
       "<style scoped>\n",
       "    .dataframe tbody tr th:only-of-type {\n",
       "        vertical-align: middle;\n",
       "    }\n",
       "\n",
       "    .dataframe tbody tr th {\n",
       "        vertical-align: top;\n",
       "    }\n",
       "\n",
       "    .dataframe thead th {\n",
       "        text-align: right;\n",
       "    }\n",
       "</style>\n",
       "<table border=\"1\" class=\"dataframe\">\n",
       "  <thead>\n",
       "    <tr style=\"text-align: right;\">\n",
       "      <th></th>\n",
       "      <th>n_hidden_2</th>\n",
       "      <th>n_hidden_1</th>\n",
       "      <th>activation_out</th>\n",
       "      <th>activation_2</th>\n",
       "      <th>activation_1</th>\n",
       "      <th>score</th>\n",
       "    </tr>\n",
       "  </thead>\n",
       "  <tbody>\n",
       "    <tr>\n",
       "      <th>32</th>\n",
       "      <td>12.0</td>\n",
       "      <td>15.0</td>\n",
       "      <td>ReLU()</td>\n",
       "      <td>ReLU()</td>\n",
       "      <td>None</td>\n",
       "      <td>4821</td>\n",
       "    </tr>\n",
       "    <tr>\n",
       "      <th>8</th>\n",
       "      <td>10.0</td>\n",
       "      <td>20.0</td>\n",
       "      <td>ReLU()</td>\n",
       "      <td>ReLU()</td>\n",
       "      <td>None</td>\n",
       "      <td>4826</td>\n",
       "    </tr>\n",
       "    <tr>\n",
       "      <th>13</th>\n",
       "      <td>8.0</td>\n",
       "      <td>15.0</td>\n",
       "      <td>None</td>\n",
       "      <td>ReLU()</td>\n",
       "      <td>None</td>\n",
       "      <td>4925</td>\n",
       "    </tr>\n",
       "    <tr>\n",
       "      <th>12</th>\n",
       "      <td>10.0</td>\n",
       "      <td>20.0</td>\n",
       "      <td>None</td>\n",
       "      <td>ReLU()</td>\n",
       "      <td>None</td>\n",
       "      <td>4933</td>\n",
       "    </tr>\n",
       "    <tr>\n",
       "      <th>23</th>\n",
       "      <td>12.0</td>\n",
       "      <td>30.0</td>\n",
       "      <td>ReLU()</td>\n",
       "      <td>ReLU()</td>\n",
       "      <td>None</td>\n",
       "      <td>4936</td>\n",
       "    </tr>\n",
       "  </tbody>\n",
       "</table>\n",
       "</div>"
      ],
      "text/plain": [
       "    n_hidden_2  n_hidden_1 activation_out activation_2 activation_1  score\n",
       "32        12.0        15.0         ReLU()       ReLU()         None   4821\n",
       "8         10.0        20.0         ReLU()       ReLU()         None   4826\n",
       "13         8.0        15.0           None       ReLU()         None   4925\n",
       "12        10.0        20.0           None       ReLU()         None   4933\n",
       "23        12.0        30.0         ReLU()       ReLU()         None   4936"
      ]
     },
     "execution_count": 92,
     "metadata": {},
     "output_type": "execute_result"
    }
   ],
   "source": [
    "results_baseline_df = pd.DataFrame.from_dict(results_baseline, orient='index')\n",
    "unpack_params = results_baseline_df[0].apply(pd.Series).drop(columns={\"n_neurons_out\", \"n_neurons_in\"}, axis=1)\n",
    "unpack_params[\"score\"] = results_baseline_df[1]\n",
    "results_baseline_df = unpack_params.sort_values(by=\"score\")\n",
    "results_baseline_df.head()"
   ]
  },
  {
   "cell_type": "markdown",
   "metadata": {},
   "source": [
    "посмотрим, сохранили ли мы в файл наилучшую модель"
   ]
  },
  {
   "cell_type": "code",
   "execution_count": null,
   "metadata": {},
   "outputs": [
    {
     "data": {
      "text/plain": [
       "4821"
      ]
     },
     "execution_count": 93,
     "metadata": {},
     "output_type": "execute_result"
    }
   ],
   "source": [
    "model = torch.load(\"best_model.pth\")\n",
    "model.eval()\n",
    "preds = model.forward(X_valid)\n",
    "\n",
    "rmse_valid = round(np.sqrt(mean_squared_error(y_valid, preds.detach().numpy())))\n",
    "rmse_valid"
   ]
  },
  {
   "cell_type": "code",
   "execution_count": null,
   "metadata": {},
   "outputs": [
    {
     "data": {
      "text/plain": [
       "<bound method Module.parameters of Sequential(\n",
       "  (0): Linear(in_features=16, out_features=15, bias=True)\n",
       "  (1): Linear(in_features=15, out_features=12, bias=True)\n",
       "  (2): ReLU()\n",
       "  (3): Linear(in_features=12, out_features=1, bias=True)\n",
       "  (4): ReLU()\n",
       ")>"
      ]
     },
     "execution_count": 94,
     "metadata": {},
     "output_type": "execute_result"
    }
   ],
   "source": [
    "model.parameters"
   ]
  },
  {
   "cell_type": "markdown",
   "metadata": {},
   "source": [
    "все верно. Теперь построим график сравнения реальной температуры и предсказанной для каждой звезды"
   ]
  },
  {
   "cell_type": "markdown",
   "metadata": {},
   "source": [
    "## График сравнения реальных температур и прогноза"
   ]
  },
  {
   "cell_type": "code",
   "execution_count": null,
   "metadata": {},
   "outputs": [
    {
     "data": {
      "image/png": "[encoded data removed]",
      "text/plain": [
       "<Figure size 864x432 with 1 Axes>"
      ]
     },
     "metadata": {
      "needs_background": "light"
     },
     "output_type": "display_data"
    }
   ],
   "source": [
    "X_prep = preprocessor.transform(X)\n",
    "X_prep_tensor = torch.from_numpy(X_prep).float()\n",
    "prep = model.forward(X_prep_tensor)\n",
    "X[\"preds\"] = prep.detach().numpy()\n",
    "X[\"id\"] = X.index\n",
    "X[\"temperature\"] = y\n",
    "X_first_13 = X[0:13]\n",
    "\n",
    "X_axis = np.arange(len(X_first_13))\n",
    "plt.figure(figsize=(12,6))\n",
    "plt.bar(X_axis - 0.2, X_first_13[\"preds\"], 0.8, label=\"Прогноз\")\n",
    "plt.bar(X_axis - 0.2, X_first_13[\"temperature\"], 0.4, label=\"Факт\")\n",
    "plt.xticks(X_axis, X_first_13[\"id\"])\n",
    "plt.xlabel(\"Номер звезды в таблице данных\")\n",
    "plt.ylabel(\"Температура звезды\")\n",
    "plt.legend(loc='upper left')\n",
    "plt.title(\"Сравнение реальной температуры и предсказанной\")\n",
    "plt.show()"
   ]
  },
  {
   "cell_type": "code",
   "execution_count": null,
   "metadata": {},
   "outputs": [
    {
     "data": {
      "text/plain": [
       "0       3068\n",
       "1       3042\n",
       "2       2600\n",
       "3       2800\n",
       "4       1939\n",
       "       ...  \n",
       "235    38940\n",
       "236    30839\n",
       "237     8829\n",
       "238     9235\n",
       "239    37882\n",
       "Name: temperature, Length: 240, dtype: int64"
      ]
     },
     "execution_count": 96,
     "metadata": {},
     "output_type": "execute_result"
    }
   ],
   "source": [
    "X[\"temperature\"]"
   ]
  },
  {
   "cell_type": "markdown",
   "metadata": {},
   "source": [
    "## Улучшение полученной модели"
   ]
  },
  {
   "cell_type": "markdown",
   "metadata": {},
   "source": [
    "Сделаем сетку для тюнинга получившейся модели. По исследованием использование одновременно batchNorm и dropout не приводит к хорошим результатов. Так что, будем использовать или одно, или другое. Возьмем 20 слуйных параметров"
   ]
  },
  {
   "cell_type": "code",
   "execution_count": 55,
   "metadata": {},
   "outputs": [],
   "source": [
    "tuning_grid = {\n",
    "                \"regularization\": [\"batch_norm\", \"dropout\"],\n",
    "                \"batch_size\": [192, 128, 64],\n",
    "                \"learning_rate\": [0.05, 0.03, 0.01, 0.007],\n",
    "                }\n",
    "                \n",
    "tuning_list = list(ParameterSampler(tuning_grid, n_iter=20,\n",
    "                                   random_state=rng))"
   ]
  },
  {
   "cell_type": "markdown",
   "metadata": {},
   "source": [
    "Возьмем параметры лучшей модели из baseline"
   ]
  },
  {
   "cell_type": "code",
   "execution_count": null,
   "metadata": {},
   "outputs": [
    {
     "data": {
      "text/html": [
       "<div>\n",
       "<style scoped>\n",
       "    .dataframe tbody tr th:only-of-type {\n",
       "        vertical-align: middle;\n",
       "    }\n",
       "\n",
       "    .dataframe tbody tr th {\n",
       "        vertical-align: top;\n",
       "    }\n",
       "\n",
       "    .dataframe thead th {\n",
       "        text-align: right;\n",
       "    }\n",
       "</style>\n",
       "<table border=\"1\" class=\"dataframe\">\n",
       "  <thead>\n",
       "    <tr style=\"text-align: right;\">\n",
       "      <th></th>\n",
       "      <th>n_hidden_2</th>\n",
       "      <th>n_hidden_1</th>\n",
       "      <th>activation_out</th>\n",
       "      <th>activation_2</th>\n",
       "      <th>activation_1</th>\n",
       "      <th>score</th>\n",
       "    </tr>\n",
       "  </thead>\n",
       "  <tbody>\n",
       "    <tr>\n",
       "      <th>32</th>\n",
       "      <td>12.0</td>\n",
       "      <td>15.0</td>\n",
       "      <td>ReLU()</td>\n",
       "      <td>ReLU()</td>\n",
       "      <td>None</td>\n",
       "      <td>4821</td>\n",
       "    </tr>\n",
       "  </tbody>\n",
       "</table>\n",
       "</div>"
      ],
      "text/plain": [
       "    n_hidden_2  n_hidden_1 activation_out activation_2 activation_1  score\n",
       "32        12.0        15.0         ReLU()       ReLU()         None   4821"
      ]
     },
     "execution_count": 98,
     "metadata": {},
     "output_type": "execute_result"
    }
   ],
   "source": [
    "best_model_params = np.array(results_baseline_df.head(1))\n",
    "results_baseline_df.head(1)"
   ]
  },
  {
   "cell_type": "code",
   "execution_count": null,
   "metadata": {},
   "outputs": [],
   "source": [
    "n_hidden_1 = int(best_model_params[0,1])\n",
    "n_hidden_2 = int(best_model_params[0,0])\n",
    "activation_1 = best_model_params[0,4]\n",
    "activation_2 = best_model_params[0,3]\n",
    "activation_out = best_model_params[0,2]"
   ]
  },
  {
   "cell_type": "markdown",
   "metadata": {},
   "source": [
    "напишем цикл, похожий на предыдущий, только добавим обучение по батчам."
   ]
  },
  {
   "cell_type": "code",
   "execution_count": null,
   "metadata": {},
   "outputs": [],
   "source": [
    "num_epochs = 1000\n",
    "results_tuning = {}\n",
    "is_best_overall = False\n",
    "best_score_overall = 10e+10000\n",
    "\n",
    "for i, param in enumerate(tuning_list):\n",
    "\t\n",
    "\tbest_score_current_param = 10e+10000\n",
    "\tnet_layers = []\n",
    "\t\n",
    "\tnet_layers.append(nn.Linear(features_count, n_hidden_1))\n",
    "\t\n",
    "\tif param[\"regularization\"] == \"dropout\":\n",
    "\t\tnet_layers.append(nn.Dropout(p=0.5))\n",
    "\telif param[\"regularization\"] == \"batch_norm\":\n",
    "\t\tnet_layers.append(nn.BatchNorm1d(n_hidden_1))\t\n",
    "\n",
    "\tif activation_1:\n",
    "\t\tnet_layers.append(activation_1)\n",
    "\n",
    "\tnet_layers.append(nn.Linear(n_hidden_1, n_hidden_2))\n",
    "\n",
    "\tif param[\"regularization\"] == \"dropout\":\n",
    "\t\tnet_layers.append(nn.Dropout(p=0.5))\n",
    "\telif param[\"regularization\"] == \"batch_norm\":\n",
    "\t\tnet_layers.append(nn.BatchNorm1d(n_hidden_2))\n",
    "\n",
    "\tif activation_2:\n",
    "\t\tnet_layers.append(activation_2)\t\n",
    "\n",
    "\tnet_layers.append(nn.Linear(n_hidden_2, 1))\n",
    "\t\n",
    "\tif activation_out:\n",
    "\t\tnet_layers.append(activation_out)\n",
    "\n",
    "\tnet = nn.Sequential(*net_layers) \n",
    "\tnet.apply(init_weights)\n",
    "\toptimizer = torch.optim.Adam(net.parameters(), param[\"learning_rate\"])\n",
    "\tloss = nn.MSELoss()\n",
    "\n",
    "\ttrain_data = TensorDataset(X_train, y_train)\n",
    "\ttrain_loader = DataLoader(dataset=train_data, batch_size=param[\"batch_size\"], shuffle=True)\n",
    "\n",
    "\tfor _ in range(num_epochs):\n",
    "\t\tfor i_batch, batch in enumerate(train_loader):\n",
    "\n",
    "\t\t\tX_batch, y_batch = batch\n",
    "\t\t\tpreds = net.forward(X_batch)      \n",
    "\t\t\tloss_value = loss(preds.reshape(-1,), y_batch)\n",
    "\n",
    "\t\t\toptimizer.zero_grad()\n",
    "\t\t\tloss_value.backward()        \n",
    "\t\t\toptimizer.step()\n",
    "\n",
    "\t\t\tif i_batch % 2 == 0 or i_batch == i_batch - 1:\n",
    "\t\t\t\tnet.eval()\n",
    "\t\t\t\tvalid_preds = net.forward(X_valid)\n",
    "\n",
    "\t\t\t\trmse_train = round(np.sqrt(loss_value.item()))\n",
    "\t\t\t\trmse_valid = round(np.sqrt(mean_squared_error(y_valid, valid_preds.detach().numpy())))\n",
    "\t\t\t\t\n",
    "\t\t\t\tis_best_overall = rmse_valid < best_score_overall\n",
    "\t\t\t\tbest_score_overall = min(rmse_valid, best_score_overall)\n",
    "\n",
    "\t\t\t\tis_best_current_param = rmse_valid < best_score_current_param\n",
    "\t\t\t\tbest_score_current_param = min(rmse_valid, best_score_current_param)\n",
    "\n",
    "\t\t\t\tif is_best_overall:\n",
    "\t\t\t\t\ttorch.save(net, \"best_model_tuning.pth\")\n",
    "\n",
    "\t\t\t\tif is_best_current_param:\n",
    "\t\t\t\t\tresults_tuning[i] = (param, best_score_current_param)\t\t"
   ]
  },
  {
   "cell_type": "markdown",
   "metadata": {},
   "source": [
    "посмотрим результаты"
   ]
  },
  {
   "cell_type": "code",
   "execution_count": null,
   "metadata": {},
   "outputs": [
    {
     "data": {
      "text/html": [
       "<div>\n",
       "<style scoped>\n",
       "    .dataframe tbody tr th:only-of-type {\n",
       "        vertical-align: middle;\n",
       "    }\n",
       "\n",
       "    .dataframe tbody tr th {\n",
       "        vertical-align: top;\n",
       "    }\n",
       "\n",
       "    .dataframe thead th {\n",
       "        text-align: right;\n",
       "    }\n",
       "</style>\n",
       "<table border=\"1\" class=\"dataframe\">\n",
       "  <thead>\n",
       "    <tr style=\"text-align: right;\">\n",
       "      <th></th>\n",
       "      <th>regularization</th>\n",
       "      <th>learning_rate</th>\n",
       "      <th>batch_size</th>\n",
       "      <th>score</th>\n",
       "    </tr>\n",
       "  </thead>\n",
       "  <tbody>\n",
       "    <tr>\n",
       "      <th>0</th>\n",
       "      <td>batch_norm</td>\n",
       "      <td>0.050</td>\n",
       "      <td>128</td>\n",
       "      <td>4196</td>\n",
       "    </tr>\n",
       "    <tr>\n",
       "      <th>17</th>\n",
       "      <td>batch_norm</td>\n",
       "      <td>0.007</td>\n",
       "      <td>128</td>\n",
       "      <td>4810</td>\n",
       "    </tr>\n",
       "    <tr>\n",
       "      <th>12</th>\n",
       "      <td>dropout</td>\n",
       "      <td>0.030</td>\n",
       "      <td>128</td>\n",
       "      <td>4838</td>\n",
       "    </tr>\n",
       "    <tr>\n",
       "      <th>10</th>\n",
       "      <td>batch_norm</td>\n",
       "      <td>0.030</td>\n",
       "      <td>128</td>\n",
       "      <td>4838</td>\n",
       "    </tr>\n",
       "    <tr>\n",
       "      <th>5</th>\n",
       "      <td>batch_norm</td>\n",
       "      <td>0.050</td>\n",
       "      <td>64</td>\n",
       "      <td>4849</td>\n",
       "    </tr>\n",
       "  </tbody>\n",
       "</table>\n",
       "</div>"
      ],
      "text/plain": [
       "   regularization  learning_rate  batch_size  score\n",
       "0      batch_norm          0.050         128   4196\n",
       "17     batch_norm          0.007         128   4810\n",
       "12        dropout          0.030         128   4838\n",
       "10     batch_norm          0.030         128   4838\n",
       "5      batch_norm          0.050          64   4849"
      ]
     },
     "execution_count": 101,
     "metadata": {},
     "output_type": "execute_result"
    }
   ],
   "source": [
    "results_tuning_df = pd.DataFrame.from_dict(results_tuning, orient='index')\n",
    "unpack_params = results_tuning_df[0].apply(pd.Series)\n",
    "unpack_params[\"score\"] = results_tuning_df[1]\n",
    "results_tuning_df = unpack_params.sort_values(by=\"score\")\n",
    "results_tuning_df.head()"
   ]
  },
  {
   "cell_type": "markdown",
   "metadata": {},
   "source": [
    "загрузим модель и сверим с лучшим значением"
   ]
  },
  {
   "cell_type": "code",
   "execution_count": null,
   "metadata": {},
   "outputs": [
    {
     "data": {
      "text/plain": [
       "4196"
      ]
     },
     "execution_count": 102,
     "metadata": {},
     "output_type": "execute_result"
    }
   ],
   "source": [
    "model = torch.load(\"best_model_tuning.pth\")\n",
    "model.eval()\n",
    "preds = model.forward(X_valid)\n",
    "\n",
    "rmse_valid = round(np.sqrt(mean_squared_error(y_valid, preds.detach().numpy())))\n",
    "rmse_valid"
   ]
  },
  {
   "cell_type": "markdown",
   "metadata": {},
   "source": [
    "rmse чуть лучше, чем нужно было в цели задания"
   ]
  },
  {
   "attachments": {},
   "cell_type": "markdown",
   "metadata": {},
   "source": [
    "## Вывод"
   ]
  },
  {
   "attachments": {},
   "cell_type": "markdown",
   "metadata": {},
   "source": [
    "Мы провели исследование данных, выполнили предобработку и сгруппировали признаки. Построили базовую модель и получили на ней результат rmse=4821. Добавив обучение по батчам и регулиризацию, мы смогли довести метрику до значения 4196. Параметры полученной модели:"
   ]
  },
  {
   "cell_type": "code",
   "execution_count": null,
   "metadata": {},
   "outputs": [
    {
     "data": {
      "text/plain": [
       "<bound method Module.parameters of Sequential(\n",
       "  (0): Linear(in_features=16, out_features=15, bias=True)\n",
       "  (1): BatchNorm1d(15, eps=1e-05, momentum=0.1, affine=True, track_running_stats=True)\n",
       "  (2): Linear(in_features=15, out_features=12, bias=True)\n",
       "  (3): BatchNorm1d(12, eps=1e-05, momentum=0.1, affine=True, track_running_stats=True)\n",
       "  (4): ReLU()\n",
       "  (5): Linear(in_features=12, out_features=1, bias=True)\n",
       "  (6): ReLU()\n",
       ")>"
      ]
     },
     "execution_count": 103,
     "metadata": {},
     "output_type": "execute_result"
    }
   ],
   "source": [
    "model.parameters"
   ]
  }
 ],
 "metadata": {
  "interpreter": {
   "hash": "d488093d919f573c925b0a84f2a24fea75905f9dd1b6664dfb65159487c96672"
  },
  "kernelspec": {
   "display_name": "Python 3.10.0 64-bit",
   "language": "python",
   "name": "python3"
  },
  "language_info": {
   "codemirror_mode": {
    "name": "ipython",
    "version": 3
   },
   "file_extension": ".py",
   "mimetype": "text/x-python",
   "name": "python",
   "nbconvert_exporter": "python",
   "pygments_lexer": "ipython3",
   "version": "3.10.0 (tags/v3.10.0:b494f59, Oct  4 2021, 19:00:18) [MSC v.1929 64 bit (AMD64)]"
  },
  "orig_nbformat": 4
 },
 "nbformat": 4,
 "nbformat_minor": 2
}

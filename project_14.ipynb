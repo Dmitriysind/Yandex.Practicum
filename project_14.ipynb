{
 "cells": [
  {
   "cell_type": "markdown",
   "metadata": {},
   "source": [
    "Задание: нужно создать систему, которая могла бы оценить риск ДТП по выбранному маршруту движения. Под риском понимается вероятность ДТП с любым повреждением транспортного средства. Как только водитель забронировал автомобиль, сел за руль и выбрал маршрут, система должна оценить уровень риска. Если уровень риска высок, водитель увидит предупреждение и рекомендации по маршруту."
   ]
  },
  {
   "cell_type": "markdown",
   "metadata": {},
   "source": [
    "Идея решения задачи от заказчика:\n",
    "\n",
    "    1. Создать модель предсказания ДТП (целевое значение — at_fault (виновник) в таблице parties)\n",
    "        - Для модели выбрать тип виновника — только машина (car).\n",
    "        - Выбрать случаи, когда ДТП привело к любым повреждениям транспортного средства, кроме типа SCRATCH (царапина).\n",
    "        - Для моделирования ограничиться данными за 2012 год — они самые свежие.\n",
    "        - Обязательное условие — учесть фактор возраста автомобиля.\n",
    "    2. На основе модели исследовать основные факторы ДТП.\n",
    "    3. Понять, помогут ли результаты моделирования и анализ важности факторов ответить на вопросы:\n",
    "        - Возможно ли создать адекватную системы оценки водительского риска при выдаче авто?\n",
    "        - Какие ещё факторы нужно учесть?\n",
    "        - Нужно ли оборудовать автомобиль какими-либо датчиками или камерой?"
   ]
  },
  {
   "cell_type": "markdown",
   "metadata": {},
   "source": [
    "Алгоритм работы:<br>\n",
    "1. Загрузим таблицы sql <br>\n",
    "2. Проведем первичное исследование таблиц <br>\n",
    "3. Проведем статистический анализ факторов ДТП <br>\n",
    "4. Создадим модели для оценки водительского риска <br>\n",
    "5. Найдем лучшую модель <br>\n",
    "6. Сделаем общий вывод по модели <br>"
   ]
  },
  {
   "cell_type": "markdown",
   "metadata": {},
   "source": [
    "Краткое описание таблиц:\n",
    "\n",
    "    collisions — общая информация о ДТП\n",
    "    Имеет уникальный case_id. Эта таблица описывает общую информацию о ДТП. Например, где оно произошло и когда.\n",
    "    parties — информация об участниках ДТП\n",
    "    Имеет неуникальный case_id, который сопоставляется с соответствующим ДТП в таблице collisions. Каждая строка здесь описывает одну из сторон, участвующих в ДТП. Если столкнулись две машины, в этой таблице должно быть две строки с совпадением case_id. Если нужен уникальный идентификатор, это case_id and party_number.\n",
    "    vehicles — информация о пострадавших машинах\n",
    "    Имеет неуникальные case_id и неуникальные party_number, которые сопоставляются с таблицей collisions и таблицей parties. Если нужен уникальный идентификатор, это case_id and party_number."
   ]
  },
  {
   "cell_type": "markdown",
   "metadata": {},
   "source": [
    "## Загрузим и посмотрим таблицы"
   ]
  },
  {
   "cell_type": "markdown",
   "metadata": {},
   "source": [
    "библиотеки"
   ]
  },
  {
   "cell_type": "code",
   "execution_count": 159,
   "metadata": {},
   "outputs": [],
   "source": [
    "import pandas as pd\n",
    "import numpy as np\n",
    "import seaborn as sns\n",
    "\n",
    "import matplotlib.pyplot as plt\n",
    "import matplotlib as mlt\n",
    "mlt.rcParams['figure.figsize'] = (10, 5)\n",
    "\n",
    "plt.style.use(\"fivethirtyeight\")\n",
    "\n",
    "from tqdm.notebook import tqdm\n",
    "from sklearn.model_selection import train_test_split\n",
    "from sklearn.model_selection import GridSearchCV\n",
    "from sklearn.pipeline import Pipeline\n",
    "import lightgbm as lgb\n",
    "from lightgbm import LGBMClassifier\n",
    "from catboost import CatBoostClassifier\n",
    "\n",
    "from sklearn.compose import ColumnTransformer\n",
    "from sklearn.preprocessing import OneHotEncoder\n",
    "from sklearn.preprocessing import MinMaxScaler\n",
    "from sklearn.model_selection import ParameterSampler\n",
    "from sklearn.metrics import confusion_matrix, ConfusionMatrixDisplay\n",
    "from sklearn.metrics import classification_report\n",
    "from sklearn.metrics import (precision_recall_curve,\n",
    "                            PrecisionRecallDisplay)\n",
    "\n",
    "from sklearn.impute import SimpleImputer\n",
    "\n",
    "from torch.utils.data import TensorDataset\n",
    "import torch \n",
    "import torch.nn as nn\n",
    "import random\n",
    "\n",
    "from sklearn.metrics import log_loss\n",
    "from sklearn.metrics import recall_score\n",
    "from sklearn.model_selection import cross_val_score\n",
    "from sklearn.decomposition import PCA\n",
    "from sklearn.decomposition import TruncatedSVD\n",
    "from sklearn.feature_selection import SelectKBest, chi2\n",
    "from catboost import Pool, cv\n",
    "\n",
    "from sqlalchemy import create_engine \n",
    "import warnings\n",
    "warnings.simplefilter(action='ignore', category=FutureWarning)"
   ]
  },
  {
   "cell_type": "markdown",
   "metadata": {},
   "source": [
    "создадим соединение"
   ]
  },
  {
   "cell_type": "code",
   "execution_count": 85,
   "metadata": {},
   "outputs": [],
   "source": [
    "db_config = {\n",
    "'user': 'praktikum_student', # имя пользователя,\n",
    "'pwd': 'Sdf4$2;d-d30pp', # пароль,\n",
    "'host': 'rc1b-wcoijxj3yxfsf3fs.mdb.yandexcloud.net',\n",
    "'port': 6432, # порт подключения,\n",
    "'db': 'data-science-vehicle-db' # название базы данных,\n",
    "} \n",
    "\n",
    "connection_string = 'postgresql://{}:{}@{}:{}/{}'.format(\n",
    "    db_config['user'],\n",
    "    db_config['pwd'],\n",
    "    db_config['host'],\n",
    "    db_config['port'],\n",
    "    db_config['db'],\n",
    ")\n",
    "\n",
    "engine = create_engine(connection_string) "
   ]
  },
  {
   "cell_type": "markdown",
   "metadata": {},
   "source": [
    "посмотрим таблицы"
   ]
  },
  {
   "cell_type": "code",
   "execution_count": 86,
   "metadata": {},
   "outputs": [
    {
     "data": {
      "text/html": [
       "<div>\n",
       "<style scoped>\n",
       "    .dataframe tbody tr th:only-of-type {\n",
       "        vertical-align: middle;\n",
       "    }\n",
       "\n",
       "    .dataframe tbody tr th {\n",
       "        vertical-align: top;\n",
       "    }\n",
       "\n",
       "    .dataframe thead th {\n",
       "        text-align: right;\n",
       "    }\n",
       "</style>\n",
       "<table border=\"1\" class=\"dataframe\">\n",
       "  <thead>\n",
       "    <tr style=\"text-align: right;\">\n",
       "      <th></th>\n",
       "      <th>id</th>\n",
       "      <th>case_id</th>\n",
       "      <th>party_number</th>\n",
       "      <th>party_type</th>\n",
       "      <th>at_fault</th>\n",
       "      <th>insurance_premium</th>\n",
       "      <th>party_sobriety</th>\n",
       "      <th>party_drug_physical</th>\n",
       "      <th>cellphone_in_use</th>\n",
       "    </tr>\n",
       "  </thead>\n",
       "  <tbody>\n",
       "    <tr>\n",
       "      <th>0</th>\n",
       "      <td>22</td>\n",
       "      <td>3899454</td>\n",
       "      <td>1</td>\n",
       "      <td>road signs</td>\n",
       "      <td>1</td>\n",
       "      <td>29.0</td>\n",
       "      <td>had not been drinking</td>\n",
       "      <td>None</td>\n",
       "      <td>0</td>\n",
       "    </tr>\n",
       "    <tr>\n",
       "      <th>1</th>\n",
       "      <td>23</td>\n",
       "      <td>3899454</td>\n",
       "      <td>2</td>\n",
       "      <td>road signs</td>\n",
       "      <td>0</td>\n",
       "      <td>7.0</td>\n",
       "      <td>had not been drinking</td>\n",
       "      <td>None</td>\n",
       "      <td>0</td>\n",
       "    </tr>\n",
       "    <tr>\n",
       "      <th>2</th>\n",
       "      <td>29</td>\n",
       "      <td>3899462</td>\n",
       "      <td>2</td>\n",
       "      <td>car</td>\n",
       "      <td>0</td>\n",
       "      <td>21.0</td>\n",
       "      <td>had not been drinking</td>\n",
       "      <td>None</td>\n",
       "      <td>0</td>\n",
       "    </tr>\n",
       "    <tr>\n",
       "      <th>3</th>\n",
       "      <td>31</td>\n",
       "      <td>3899465</td>\n",
       "      <td>2</td>\n",
       "      <td>road signs</td>\n",
       "      <td>0</td>\n",
       "      <td>24.0</td>\n",
       "      <td>had not been drinking</td>\n",
       "      <td>None</td>\n",
       "      <td>0</td>\n",
       "    </tr>\n",
       "    <tr>\n",
       "      <th>4</th>\n",
       "      <td>41</td>\n",
       "      <td>3899478</td>\n",
       "      <td>2</td>\n",
       "      <td>road bumper</td>\n",
       "      <td>0</td>\n",
       "      <td>NaN</td>\n",
       "      <td>not applicable</td>\n",
       "      <td>not applicable</td>\n",
       "      <td>0</td>\n",
       "    </tr>\n",
       "  </tbody>\n",
       "</table>\n",
       "</div>"
      ],
      "text/plain": [
       "   id  case_id  party_number   party_type  at_fault  insurance_premium  \\\n",
       "0  22  3899454             1   road signs         1               29.0   \n",
       "1  23  3899454             2   road signs         0                7.0   \n",
       "2  29  3899462             2          car         0               21.0   \n",
       "3  31  3899465             2   road signs         0               24.0   \n",
       "4  41  3899478             2  road bumper         0                NaN   \n",
       "\n",
       "          party_sobriety party_drug_physical  cellphone_in_use  \n",
       "0  had not been drinking                None                 0  \n",
       "1  had not been drinking                None                 0  \n",
       "2  had not been drinking                None                 0  \n",
       "3  had not been drinking                None                 0  \n",
       "4         not applicable      not applicable                 0  "
      ]
     },
     "execution_count": 86,
     "metadata": {},
     "output_type": "execute_result"
    }
   ],
   "source": [
    "query = '''\n",
    "SELECT *\n",
    "FROM parties\n",
    "Limit 5;\n",
    "'''\n",
    "\n",
    "sample_parties = pd.read_sql_query(query, con=engine) \n",
    "sample_parties.head()"
   ]
  },
  {
   "cell_type": "code",
   "execution_count": 87,
   "metadata": {},
   "outputs": [
    {
     "data": {
      "text/html": [
       "<div>\n",
       "<style scoped>\n",
       "    .dataframe tbody tr th:only-of-type {\n",
       "        vertical-align: middle;\n",
       "    }\n",
       "\n",
       "    .dataframe tbody tr th {\n",
       "        vertical-align: top;\n",
       "    }\n",
       "\n",
       "    .dataframe thead th {\n",
       "        text-align: right;\n",
       "    }\n",
       "</style>\n",
       "<table border=\"1\" class=\"dataframe\">\n",
       "  <thead>\n",
       "    <tr style=\"text-align: right;\">\n",
       "      <th></th>\n",
       "      <th>case_id</th>\n",
       "      <th>county_city_location</th>\n",
       "      <th>county_location</th>\n",
       "      <th>distance</th>\n",
       "      <th>direction</th>\n",
       "      <th>intersection</th>\n",
       "      <th>weather_1</th>\n",
       "      <th>location_type</th>\n",
       "      <th>collision_damage</th>\n",
       "      <th>party_count</th>\n",
       "      <th>primary_collision_factor</th>\n",
       "      <th>pcf_violation_category</th>\n",
       "      <th>type_of_collision</th>\n",
       "      <th>motor_vehicle_involved_with</th>\n",
       "      <th>road_surface</th>\n",
       "      <th>road_condition_1</th>\n",
       "      <th>lighting</th>\n",
       "      <th>control_device</th>\n",
       "      <th>collision_date</th>\n",
       "      <th>collision_time</th>\n",
       "    </tr>\n",
       "  </thead>\n",
       "  <tbody>\n",
       "    <tr>\n",
       "      <th>0</th>\n",
       "      <td>4083072</td>\n",
       "      <td>1942</td>\n",
       "      <td>los angeles</td>\n",
       "      <td>528.0</td>\n",
       "      <td>north</td>\n",
       "      <td>0</td>\n",
       "      <td>cloudy</td>\n",
       "      <td>highway</td>\n",
       "      <td>small damage</td>\n",
       "      <td>2</td>\n",
       "      <td>vehicle code violation</td>\n",
       "      <td>unsafe lane change</td>\n",
       "      <td>sideswipe</td>\n",
       "      <td>other motor vehicle</td>\n",
       "      <td>wet</td>\n",
       "      <td>normal</td>\n",
       "      <td>daylight</td>\n",
       "      <td>none</td>\n",
       "      <td>2009-01-22</td>\n",
       "      <td>07:25:00</td>\n",
       "    </tr>\n",
       "    <tr>\n",
       "      <th>1</th>\n",
       "      <td>4083075</td>\n",
       "      <td>4313</td>\n",
       "      <td>santa clara</td>\n",
       "      <td>0.0</td>\n",
       "      <td>None</td>\n",
       "      <td>1</td>\n",
       "      <td>clear</td>\n",
       "      <td>None</td>\n",
       "      <td>small damage</td>\n",
       "      <td>1</td>\n",
       "      <td>vehicle code violation</td>\n",
       "      <td>improper passing</td>\n",
       "      <td>hit object</td>\n",
       "      <td>fixed object</td>\n",
       "      <td>dry</td>\n",
       "      <td>normal</td>\n",
       "      <td>dark with street lights</td>\n",
       "      <td>functioning</td>\n",
       "      <td>2009-01-03</td>\n",
       "      <td>02:26:00</td>\n",
       "    </tr>\n",
       "    <tr>\n",
       "      <th>2</th>\n",
       "      <td>4083073</td>\n",
       "      <td>0109</td>\n",
       "      <td>alameda</td>\n",
       "      <td>0.0</td>\n",
       "      <td>None</td>\n",
       "      <td>1</td>\n",
       "      <td>clear</td>\n",
       "      <td>None</td>\n",
       "      <td>scratch</td>\n",
       "      <td>2</td>\n",
       "      <td>vehicle code violation</td>\n",
       "      <td>improper turning</td>\n",
       "      <td>broadside</td>\n",
       "      <td>other motor vehicle</td>\n",
       "      <td>dry</td>\n",
       "      <td>normal</td>\n",
       "      <td>dark with street lights</td>\n",
       "      <td>functioning</td>\n",
       "      <td>2009-01-11</td>\n",
       "      <td>03:32:00</td>\n",
       "    </tr>\n",
       "    <tr>\n",
       "      <th>3</th>\n",
       "      <td>4083077</td>\n",
       "      <td>0109</td>\n",
       "      <td>alameda</td>\n",
       "      <td>0.0</td>\n",
       "      <td>None</td>\n",
       "      <td>1</td>\n",
       "      <td>clear</td>\n",
       "      <td>None</td>\n",
       "      <td>scratch</td>\n",
       "      <td>2</td>\n",
       "      <td>vehicle code violation</td>\n",
       "      <td>automobile right of way</td>\n",
       "      <td>broadside</td>\n",
       "      <td>other motor vehicle</td>\n",
       "      <td>dry</td>\n",
       "      <td>normal</td>\n",
       "      <td>daylight</td>\n",
       "      <td>functioning</td>\n",
       "      <td>2009-01-11</td>\n",
       "      <td>10:35:00</td>\n",
       "    </tr>\n",
       "    <tr>\n",
       "      <th>4</th>\n",
       "      <td>4083087</td>\n",
       "      <td>4313</td>\n",
       "      <td>santa clara</td>\n",
       "      <td>0.0</td>\n",
       "      <td>None</td>\n",
       "      <td>1</td>\n",
       "      <td>clear</td>\n",
       "      <td>None</td>\n",
       "      <td>scratch</td>\n",
       "      <td>2</td>\n",
       "      <td>vehicle code violation</td>\n",
       "      <td>speeding</td>\n",
       "      <td>rear end</td>\n",
       "      <td>other motor vehicle</td>\n",
       "      <td>dry</td>\n",
       "      <td>None</td>\n",
       "      <td>dark with street lights</td>\n",
       "      <td>functioning</td>\n",
       "      <td>2009-01-02</td>\n",
       "      <td>22:43:00</td>\n",
       "    </tr>\n",
       "  </tbody>\n",
       "</table>\n",
       "</div>"
      ],
      "text/plain": [
       "   case_id county_city_location county_location  distance direction  \\\n",
       "0  4083072                 1942     los angeles     528.0     north   \n",
       "1  4083075                 4313     santa clara       0.0      None   \n",
       "2  4083073                 0109         alameda       0.0      None   \n",
       "3  4083077                 0109         alameda       0.0      None   \n",
       "4  4083087                 4313     santa clara       0.0      None   \n",
       "\n",
       "   intersection weather_1 location_type collision_damage  party_count  \\\n",
       "0             0    cloudy       highway     small damage            2   \n",
       "1             1     clear          None     small damage            1   \n",
       "2             1     clear          None          scratch            2   \n",
       "3             1     clear          None          scratch            2   \n",
       "4             1     clear          None          scratch            2   \n",
       "\n",
       "  primary_collision_factor   pcf_violation_category type_of_collision  \\\n",
       "0   vehicle code violation       unsafe lane change         sideswipe   \n",
       "1   vehicle code violation         improper passing        hit object   \n",
       "2   vehicle code violation         improper turning         broadside   \n",
       "3   vehicle code violation  automobile right of way         broadside   \n",
       "4   vehicle code violation                 speeding          rear end   \n",
       "\n",
       "  motor_vehicle_involved_with road_surface road_condition_1  \\\n",
       "0         other motor vehicle          wet           normal   \n",
       "1                fixed object          dry           normal   \n",
       "2         other motor vehicle          dry           normal   \n",
       "3         other motor vehicle          dry           normal   \n",
       "4         other motor vehicle          dry             None   \n",
       "\n",
       "                  lighting control_device collision_date collision_time  \n",
       "0                 daylight           none     2009-01-22       07:25:00  \n",
       "1  dark with street lights    functioning     2009-01-03       02:26:00  \n",
       "2  dark with street lights    functioning     2009-01-11       03:32:00  \n",
       "3                 daylight    functioning     2009-01-11       10:35:00  \n",
       "4  dark with street lights    functioning     2009-01-02       22:43:00  "
      ]
     },
     "execution_count": 87,
     "metadata": {},
     "output_type": "execute_result"
    }
   ],
   "source": [
    "query = '''\n",
    "SELECT *\n",
    "FROM collisions\n",
    "Limit 5;\n",
    "'''\n",
    "\n",
    "sample_collision = pd.read_sql_query(query, con=engine) \n",
    "sample_collision.head()"
   ]
  },
  {
   "cell_type": "code",
   "execution_count": 88,
   "metadata": {},
   "outputs": [
    {
     "data": {
      "text/html": [
       "<div>\n",
       "<style scoped>\n",
       "    .dataframe tbody tr th:only-of-type {\n",
       "        vertical-align: middle;\n",
       "    }\n",
       "\n",
       "    .dataframe tbody tr th {\n",
       "        vertical-align: top;\n",
       "    }\n",
       "\n",
       "    .dataframe thead th {\n",
       "        text-align: right;\n",
       "    }\n",
       "</style>\n",
       "<table border=\"1\" class=\"dataframe\">\n",
       "  <thead>\n",
       "    <tr style=\"text-align: right;\">\n",
       "      <th></th>\n",
       "      <th>id</th>\n",
       "      <th>case_id</th>\n",
       "      <th>party_number</th>\n",
       "      <th>vehicle_type</th>\n",
       "      <th>vehicle_transmission</th>\n",
       "      <th>vehicle_age</th>\n",
       "    </tr>\n",
       "  </thead>\n",
       "  <tbody>\n",
       "    <tr>\n",
       "      <th>0</th>\n",
       "      <td>1175713</td>\n",
       "      <td>5305032</td>\n",
       "      <td>2</td>\n",
       "      <td>sedan</td>\n",
       "      <td>manual</td>\n",
       "      <td>3</td>\n",
       "    </tr>\n",
       "    <tr>\n",
       "      <th>1</th>\n",
       "      <td>1</td>\n",
       "      <td>3858022</td>\n",
       "      <td>1</td>\n",
       "      <td>sedan</td>\n",
       "      <td>auto</td>\n",
       "      <td>3</td>\n",
       "    </tr>\n",
       "    <tr>\n",
       "      <th>2</th>\n",
       "      <td>1175712</td>\n",
       "      <td>5305030</td>\n",
       "      <td>1</td>\n",
       "      <td>sedan</td>\n",
       "      <td>auto</td>\n",
       "      <td>3</td>\n",
       "    </tr>\n",
       "    <tr>\n",
       "      <th>3</th>\n",
       "      <td>1175717</td>\n",
       "      <td>5305033</td>\n",
       "      <td>3</td>\n",
       "      <td>sedan</td>\n",
       "      <td>auto</td>\n",
       "      <td>5</td>\n",
       "    </tr>\n",
       "    <tr>\n",
       "      <th>4</th>\n",
       "      <td>1175722</td>\n",
       "      <td>5305034</td>\n",
       "      <td>2</td>\n",
       "      <td>sedan</td>\n",
       "      <td>auto</td>\n",
       "      <td>5</td>\n",
       "    </tr>\n",
       "  </tbody>\n",
       "</table>\n",
       "</div>"
      ],
      "text/plain": [
       "        id  case_id  party_number vehicle_type vehicle_transmission  \\\n",
       "0  1175713  5305032             2        sedan               manual   \n",
       "1        1  3858022             1        sedan                 auto   \n",
       "2  1175712  5305030             1        sedan                 auto   \n",
       "3  1175717  5305033             3        sedan                 auto   \n",
       "4  1175722  5305034             2        sedan                 auto   \n",
       "\n",
       "   vehicle_age  \n",
       "0            3  \n",
       "1            3  \n",
       "2            3  \n",
       "3            5  \n",
       "4            5  "
      ]
     },
     "execution_count": 88,
     "metadata": {},
     "output_type": "execute_result"
    }
   ],
   "source": [
    "query = '''\n",
    "SELECT *\n",
    "FROM vehicles\n",
    "Limit 5;\n",
    "'''\n",
    "\n",
    "sample_vehicles = pd.read_sql_query(query, con=engine) \n",
    "sample_vehicles.head()"
   ]
  },
  {
   "cell_type": "markdown",
   "metadata": {},
   "source": [
    "Во всех таблицах есть необходимые поля. Общий ключ case_id присутствует"
   ]
  },
  {
   "cell_type": "markdown",
   "metadata": {},
   "source": [
    "## Cтатистический анализ факторов ДТП"
   ]
  },
  {
   "cell_type": "markdown",
   "metadata": {},
   "source": [
    "посмотрим в какие месяцы наибольшее число аварий"
   ]
  },
  {
   "cell_type": "code",
   "execution_count": 89,
   "metadata": {},
   "outputs": [
    {
     "data": {
      "text/html": [
       "<div>\n",
       "<style scoped>\n",
       "    .dataframe tbody tr th:only-of-type {\n",
       "        vertical-align: middle;\n",
       "    }\n",
       "\n",
       "    .dataframe tbody tr th {\n",
       "        vertical-align: top;\n",
       "    }\n",
       "\n",
       "    .dataframe thead th {\n",
       "        text-align: right;\n",
       "    }\n",
       "</style>\n",
       "<table border=\"1\" class=\"dataframe\">\n",
       "  <thead>\n",
       "    <tr style=\"text-align: right;\">\n",
       "      <th></th>\n",
       "      <th>month</th>\n",
       "      <th>count</th>\n",
       "    </tr>\n",
       "  </thead>\n",
       "  <tbody>\n",
       "    <tr>\n",
       "      <th>2</th>\n",
       "      <td>3.0</td>\n",
       "      <td>104518</td>\n",
       "    </tr>\n",
       "    <tr>\n",
       "      <th>0</th>\n",
       "      <td>1.0</td>\n",
       "      <td>98974</td>\n",
       "    </tr>\n",
       "    <tr>\n",
       "      <th>4</th>\n",
       "      <td>5.0</td>\n",
       "      <td>98725</td>\n",
       "    </tr>\n",
       "    <tr>\n",
       "      <th>3</th>\n",
       "      <td>4.0</td>\n",
       "      <td>97912</td>\n",
       "    </tr>\n",
       "    <tr>\n",
       "      <th>1</th>\n",
       "      <td>2.0</td>\n",
       "      <td>96616</td>\n",
       "    </tr>\n",
       "    <tr>\n",
       "      <th>9</th>\n",
       "      <td>10.0</td>\n",
       "      <td>84148</td>\n",
       "    </tr>\n",
       "    <tr>\n",
       "      <th>11</th>\n",
       "      <td>12.0</td>\n",
       "      <td>80218</td>\n",
       "    </tr>\n",
       "    <tr>\n",
       "      <th>8</th>\n",
       "      <td>9.0</td>\n",
       "      <td>79288</td>\n",
       "    </tr>\n",
       "    <tr>\n",
       "      <th>7</th>\n",
       "      <td>8.0</td>\n",
       "      <td>79067</td>\n",
       "    </tr>\n",
       "    <tr>\n",
       "      <th>5</th>\n",
       "      <td>6.0</td>\n",
       "      <td>78172</td>\n",
       "    </tr>\n",
       "    <tr>\n",
       "      <th>6</th>\n",
       "      <td>7.0</td>\n",
       "      <td>78129</td>\n",
       "    </tr>\n",
       "    <tr>\n",
       "      <th>10</th>\n",
       "      <td>11.0</td>\n",
       "      <td>78127</td>\n",
       "    </tr>\n",
       "  </tbody>\n",
       "</table>\n",
       "</div>"
      ],
      "text/plain": [
       "    month   count\n",
       "2     3.0  104518\n",
       "0     1.0   98974\n",
       "4     5.0   98725\n",
       "3     4.0   97912\n",
       "1     2.0   96616\n",
       "9    10.0   84148\n",
       "11   12.0   80218\n",
       "8     9.0   79288\n",
       "7     8.0   79067\n",
       "5     6.0   78172\n",
       "6     7.0   78129\n",
       "10   11.0   78127"
      ]
     },
     "execution_count": 89,
     "metadata": {},
     "output_type": "execute_result"
    }
   ],
   "source": [
    "query = '''\n",
    "SELECT \n",
    "EXTRACT(MONTH FROM collision_date::date) as month,\n",
    "count(*) as count\n",
    "FROM collisions\n",
    "WHERE collision_damage != 'scratch'\n",
    "GROUP BY EXTRACT(MONTH FROM collision_date::date)\n",
    "'''\n",
    "\n",
    "collision_count_month = pd.read_sql_query(query, con=engine) \n",
    "collision_count_month.sort_values(by=\"count\", ascending=False)"
   ]
  },
  {
   "cell_type": "code",
   "execution_count": 90,
   "metadata": {},
   "outputs": [
    {
     "data": {
      "text/plain": [
       "<AxesSubplot:xlabel='month', ylabel='count'>"
      ]
     },
     "execution_count": 90,
     "metadata": {},
     "output_type": "execute_result"
    },
    {
     "data": {
      "image/png": "[encoded data removed]",
      "text/plain": [
       "<Figure size 432x432 with 1 Axes>"
      ]
     },
     "metadata": {},
     "output_type": "display_data"
    }
   ],
   "source": [
    "fig, ax = plt.subplots(figsize=(6,6))\n",
    "sns.barplot(data=collision_count_month, x=\"month\", y=\"count\")\n"
   ]
  },
  {
   "cell_type": "markdown",
   "metadata": {},
   "source": [
    "в первые 5 месяцев аварий больше, чем в остальном периоде"
   ]
  },
  {
   "cell_type": "markdown",
   "metadata": {},
   "source": [
    "Посмотрим, в скольких случаях водитель был под воздействием алкоголя или наркотических веществ"
   ]
  },
  {
   "cell_type": "code",
   "execution_count": 91,
   "metadata": {},
   "outputs": [
    {
     "data": {
      "text/html": [
       "<div>\n",
       "<style scoped>\n",
       "    .dataframe tbody tr th:only-of-type {\n",
       "        vertical-align: middle;\n",
       "    }\n",
       "\n",
       "    .dataframe tbody tr th {\n",
       "        vertical-align: top;\n",
       "    }\n",
       "\n",
       "    .dataframe thead th {\n",
       "        text-align: right;\n",
       "    }\n",
       "</style>\n",
       "<table border=\"1\" class=\"dataframe\">\n",
       "  <thead>\n",
       "    <tr style=\"text-align: right;\">\n",
       "      <th></th>\n",
       "      <th>party_drug_physical</th>\n",
       "      <th>party_sobriety</th>\n",
       "      <th>count</th>\n",
       "    </tr>\n",
       "  </thead>\n",
       "  <tbody>\n",
       "    <tr>\n",
       "      <th>20</th>\n",
       "      <td>None</td>\n",
       "      <td>had not been drinking</td>\n",
       "      <td>886627</td>\n",
       "    </tr>\n",
       "    <tr>\n",
       "      <th>0</th>\n",
       "      <td>G</td>\n",
       "      <td>impairment unknown</td>\n",
       "      <td>178697</td>\n",
       "    </tr>\n",
       "    <tr>\n",
       "      <th>19</th>\n",
       "      <td>None</td>\n",
       "      <td>had been drinking, under influence</td>\n",
       "      <td>101212</td>\n",
       "    </tr>\n",
       "    <tr>\n",
       "      <th>17</th>\n",
       "      <td>None</td>\n",
       "      <td>had been drinking, impairment unknown</td>\n",
       "      <td>15230</td>\n",
       "    </tr>\n",
       "    <tr>\n",
       "      <th>21</th>\n",
       "      <td>None</td>\n",
       "      <td>None</td>\n",
       "      <td>11414</td>\n",
       "    </tr>\n",
       "    <tr>\n",
       "      <th>6</th>\n",
       "      <td>not applicable</td>\n",
       "      <td>not applicable</td>\n",
       "      <td>10954</td>\n",
       "    </tr>\n",
       "    <tr>\n",
       "      <th>18</th>\n",
       "      <td>None</td>\n",
       "      <td>had been drinking, not under influence</td>\n",
       "      <td>10811</td>\n",
       "    </tr>\n",
       "    <tr>\n",
       "      <th>16</th>\n",
       "      <td>under drug influence</td>\n",
       "      <td>None</td>\n",
       "      <td>8877</td>\n",
       "    </tr>\n",
       "    <tr>\n",
       "      <th>11</th>\n",
       "      <td>sleepy/fatigued</td>\n",
       "      <td>None</td>\n",
       "      <td>5697</td>\n",
       "    </tr>\n",
       "    <tr>\n",
       "      <th>10</th>\n",
       "      <td>sleepy/fatigued</td>\n",
       "      <td>had not been drinking</td>\n",
       "      <td>5597</td>\n",
       "    </tr>\n",
       "    <tr>\n",
       "      <th>14</th>\n",
       "      <td>under drug influence</td>\n",
       "      <td>had been drinking, under influence</td>\n",
       "      <td>1529</td>\n",
       "    </tr>\n",
       "    <tr>\n",
       "      <th>5</th>\n",
       "      <td>impairment - physical</td>\n",
       "      <td>None</td>\n",
       "      <td>1427</td>\n",
       "    </tr>\n",
       "    <tr>\n",
       "      <th>15</th>\n",
       "      <td>under drug influence</td>\n",
       "      <td>had not been drinking</td>\n",
       "      <td>945</td>\n",
       "    </tr>\n",
       "    <tr>\n",
       "      <th>9</th>\n",
       "      <td>sleepy/fatigued</td>\n",
       "      <td>had been drinking, under influence</td>\n",
       "      <td>370</td>\n",
       "    </tr>\n",
       "    <tr>\n",
       "      <th>4</th>\n",
       "      <td>impairment - physical</td>\n",
       "      <td>had not been drinking</td>\n",
       "      <td>344</td>\n",
       "    </tr>\n",
       "    <tr>\n",
       "      <th>8</th>\n",
       "      <td>sleepy/fatigued</td>\n",
       "      <td>had been drinking, not under influence</td>\n",
       "      <td>319</td>\n",
       "    </tr>\n",
       "    <tr>\n",
       "      <th>12</th>\n",
       "      <td>under drug influence</td>\n",
       "      <td>had been drinking, impairment unknown</td>\n",
       "      <td>123</td>\n",
       "    </tr>\n",
       "    <tr>\n",
       "      <th>13</th>\n",
       "      <td>under drug influence</td>\n",
       "      <td>had been drinking, not under influence</td>\n",
       "      <td>81</td>\n",
       "    </tr>\n",
       "    <tr>\n",
       "      <th>7</th>\n",
       "      <td>sleepy/fatigued</td>\n",
       "      <td>had been drinking, impairment unknown</td>\n",
       "      <td>44</td>\n",
       "    </tr>\n",
       "    <tr>\n",
       "      <th>3</th>\n",
       "      <td>impairment - physical</td>\n",
       "      <td>had been drinking, under influence</td>\n",
       "      <td>32</td>\n",
       "    </tr>\n",
       "    <tr>\n",
       "      <th>2</th>\n",
       "      <td>impairment - physical</td>\n",
       "      <td>had been drinking, not under influence</td>\n",
       "      <td>13</td>\n",
       "    </tr>\n",
       "    <tr>\n",
       "      <th>1</th>\n",
       "      <td>impairment - physical</td>\n",
       "      <td>had been drinking, impairment unknown</td>\n",
       "      <td>7</td>\n",
       "    </tr>\n",
       "  </tbody>\n",
       "</table>\n",
       "</div>"
      ],
      "text/plain": [
       "      party_drug_physical                          party_sobriety   count\n",
       "20                   None                   had not been drinking  886627\n",
       "0                       G                      impairment unknown  178697\n",
       "19                   None      had been drinking, under influence  101212\n",
       "17                   None   had been drinking, impairment unknown   15230\n",
       "21                   None                                    None   11414\n",
       "6          not applicable                          not applicable   10954\n",
       "18                   None  had been drinking, not under influence   10811\n",
       "16   under drug influence                                    None    8877\n",
       "11        sleepy/fatigued                                    None    5697\n",
       "10        sleepy/fatigued                   had not been drinking    5597\n",
       "14   under drug influence      had been drinking, under influence    1529\n",
       "5   impairment - physical                                    None    1427\n",
       "15   under drug influence                   had not been drinking     945\n",
       "9         sleepy/fatigued      had been drinking, under influence     370\n",
       "4   impairment - physical                   had not been drinking     344\n",
       "8         sleepy/fatigued  had been drinking, not under influence     319\n",
       "12   under drug influence   had been drinking, impairment unknown     123\n",
       "13   under drug influence  had been drinking, not under influence      81\n",
       "7         sleepy/fatigued   had been drinking, impairment unknown      44\n",
       "3   impairment - physical      had been drinking, under influence      32\n",
       "2   impairment - physical  had been drinking, not under influence      13\n",
       "1   impairment - physical   had been drinking, impairment unknown       7"
      ]
     },
     "execution_count": 91,
     "metadata": {},
     "output_type": "execute_result"
    }
   ],
   "source": [
    "query = '''\n",
    "SELECT \n",
    "      party_drug_physical,\n",
    "      party_sobriety,\n",
    "      count(*) as count\n",
    "FROM parties\n",
    "WHERE party_type = 'car' and at_fault = 1\n",
    "GROUP BY party_drug_physical, party_sobriety\n",
    "'''\n",
    "\n",
    "party_drug_physical_count = pd.read_sql_query(query, con=engine) \n",
    "party_drug_physical_count.sort_values(by=\"count\", ascending=False)"
   ]
  },
  {
   "cell_type": "markdown",
   "metadata": {},
   "source": [
    "Как мы видим, в большинстве случаев водитель не находился в состоянии опьянения или под воздействием наркотиков. C большим отрывом идет состояние опьянения. Совсем небольшая часть - наркотическое состояние"
   ]
  },
  {
   "cell_type": "markdown",
   "metadata": {},
   "source": [
    "Проведем анализ серьёзности повреждений транспортного средства, исходя из состояния дороги в момент ДТП "
   ]
  },
  {
   "cell_type": "code",
   "execution_count": 92,
   "metadata": {},
   "outputs": [
    {
     "data": {
      "text/html": [
       "<div>\n",
       "<style scoped>\n",
       "    .dataframe tbody tr th:only-of-type {\n",
       "        vertical-align: middle;\n",
       "    }\n",
       "\n",
       "    .dataframe tbody tr th {\n",
       "        vertical-align: top;\n",
       "    }\n",
       "\n",
       "    .dataframe thead th {\n",
       "        text-align: right;\n",
       "    }\n",
       "</style>\n",
       "<table border=\"1\" class=\"dataframe\">\n",
       "  <thead>\n",
       "    <tr style=\"text-align: right;\">\n",
       "      <th></th>\n",
       "      <th>road_surface</th>\n",
       "      <th>count_insurance</th>\n",
       "      <th>avg_insurance</th>\n",
       "      <th>sum_insurance</th>\n",
       "    </tr>\n",
       "  </thead>\n",
       "  <tbody>\n",
       "    <tr>\n",
       "      <th>0</th>\n",
       "      <td>dry</td>\n",
       "      <td>1097628</td>\n",
       "      <td>37.408230</td>\n",
       "      <td>35277869</td>\n",
       "    </tr>\n",
       "    <tr>\n",
       "      <th>3</th>\n",
       "      <td>wet</td>\n",
       "      <td>125545</td>\n",
       "      <td>35.483292</td>\n",
       "      <td>3909691</td>\n",
       "    </tr>\n",
       "    <tr>\n",
       "      <th>4</th>\n",
       "      <td>None</td>\n",
       "      <td>9612</td>\n",
       "      <td>37.452515</td>\n",
       "      <td>286699</td>\n",
       "    </tr>\n",
       "    <tr>\n",
       "      <th>2</th>\n",
       "      <td>snowy</td>\n",
       "      <td>6603</td>\n",
       "      <td>39.545584</td>\n",
       "      <td>248979</td>\n",
       "    </tr>\n",
       "    <tr>\n",
       "      <th>1</th>\n",
       "      <td>slippery</td>\n",
       "      <td>962</td>\n",
       "      <td>36.356971</td>\n",
       "      <td>30249</td>\n",
       "    </tr>\n",
       "  </tbody>\n",
       "</table>\n",
       "</div>"
      ],
      "text/plain": [
       "  road_surface  count_insurance  avg_insurance  sum_insurance\n",
       "0          dry          1097628      37.408230       35277869\n",
       "3          wet           125545      35.483292        3909691\n",
       "4         None             9612      37.452515         286699\n",
       "2        snowy             6603      39.545584         248979\n",
       "1     slippery              962      36.356971          30249"
      ]
     },
     "execution_count": 92,
     "metadata": {},
     "output_type": "execute_result"
    }
   ],
   "source": [
    "query = '''\n",
    "SELECT \n",
    "      c.road_surface,\n",
    "      Count(*) as count_insurance,\n",
    "      AVG(p.insurance_premium) as avg_insurance,\n",
    "      SUM(p.insurance_premium) as sum_insurance\n",
    "FROM parties as p\n",
    "INNER JOIN collisions as c ON p.case_id = c.case_id\n",
    "WHERE party_type = 'car' and at_fault = 1\n",
    "GROUP BY c.road_surface\n",
    "'''\n",
    "\n",
    "insurance_on_road_surface = pd.read_sql_query(query, con=engine) \n",
    "insurance_on_road_surface.sort_values(by=\"sum_insurance\", ascending=False)\n"
   ]
  },
  {
   "cell_type": "markdown",
   "metadata": {},
   "source": [
    "наибольшее кол-во происшедствий происходит на сухой дороге. Средний размер выплат примерно одинаков"
   ]
  },
  {
   "cell_type": "markdown",
   "metadata": {},
   "source": [
    "Посмотрим, как влияет возраст автомобиля на кол-во аварий"
   ]
  },
  {
   "cell_type": "code",
   "execution_count": 93,
   "metadata": {},
   "outputs": [
    {
     "data": {
      "text/html": [
       "<div>\n",
       "<style scoped>\n",
       "    .dataframe tbody tr th:only-of-type {\n",
       "        vertical-align: middle;\n",
       "    }\n",
       "\n",
       "    .dataframe tbody tr th {\n",
       "        vertical-align: top;\n",
       "    }\n",
       "\n",
       "    .dataframe thead th {\n",
       "        text-align: right;\n",
       "    }\n",
       "</style>\n",
       "<table border=\"1\" class=\"dataframe\">\n",
       "  <thead>\n",
       "    <tr style=\"text-align: right;\">\n",
       "      <th></th>\n",
       "      <th>vehicle_age</th>\n",
       "      <th>count</th>\n",
       "    </tr>\n",
       "  </thead>\n",
       "  <tbody>\n",
       "    <tr>\n",
       "      <th>3</th>\n",
       "      <td>3.0</td>\n",
       "      <td>161739</td>\n",
       "    </tr>\n",
       "    <tr>\n",
       "      <th>4</th>\n",
       "      <td>4.0</td>\n",
       "      <td>113439</td>\n",
       "    </tr>\n",
       "    <tr>\n",
       "      <th>5</th>\n",
       "      <td>5.0</td>\n",
       "      <td>94825</td>\n",
       "    </tr>\n",
       "    <tr>\n",
       "      <th>2</th>\n",
       "      <td>2.0</td>\n",
       "      <td>90712</td>\n",
       "    </tr>\n",
       "    <tr>\n",
       "      <th>6</th>\n",
       "      <td>6.0</td>\n",
       "      <td>75615</td>\n",
       "    </tr>\n",
       "    <tr>\n",
       "      <th>7</th>\n",
       "      <td>7.0</td>\n",
       "      <td>74998</td>\n",
       "    </tr>\n",
       "    <tr>\n",
       "      <th>8</th>\n",
       "      <td>8.0</td>\n",
       "      <td>68221</td>\n",
       "    </tr>\n",
       "    <tr>\n",
       "      <th>9</th>\n",
       "      <td>9.0</td>\n",
       "      <td>51525</td>\n",
       "    </tr>\n",
       "    <tr>\n",
       "      <th>0</th>\n",
       "      <td>0.0</td>\n",
       "      <td>35682</td>\n",
       "    </tr>\n",
       "    <tr>\n",
       "      <th>10</th>\n",
       "      <td>10.0</td>\n",
       "      <td>34157</td>\n",
       "    </tr>\n",
       "    <tr>\n",
       "      <th>1</th>\n",
       "      <td>1.0</td>\n",
       "      <td>33928</td>\n",
       "    </tr>\n",
       "    <tr>\n",
       "      <th>11</th>\n",
       "      <td>11.0</td>\n",
       "      <td>24025</td>\n",
       "    </tr>\n",
       "    <tr>\n",
       "      <th>22</th>\n",
       "      <td>NaN</td>\n",
       "      <td>21660</td>\n",
       "    </tr>\n",
       "    <tr>\n",
       "      <th>12</th>\n",
       "      <td>12.0</td>\n",
       "      <td>13221</td>\n",
       "    </tr>\n",
       "    <tr>\n",
       "      <th>13</th>\n",
       "      <td>13.0</td>\n",
       "      <td>9038</td>\n",
       "    </tr>\n",
       "    <tr>\n",
       "      <th>14</th>\n",
       "      <td>14.0</td>\n",
       "      <td>3669</td>\n",
       "    </tr>\n",
       "    <tr>\n",
       "      <th>15</th>\n",
       "      <td>15.0</td>\n",
       "      <td>610</td>\n",
       "    </tr>\n",
       "    <tr>\n",
       "      <th>16</th>\n",
       "      <td>16.0</td>\n",
       "      <td>79</td>\n",
       "    </tr>\n",
       "    <tr>\n",
       "      <th>17</th>\n",
       "      <td>17.0</td>\n",
       "      <td>24</td>\n",
       "    </tr>\n",
       "    <tr>\n",
       "      <th>21</th>\n",
       "      <td>161.0</td>\n",
       "      <td>16</td>\n",
       "    </tr>\n",
       "    <tr>\n",
       "      <th>19</th>\n",
       "      <td>19.0</td>\n",
       "      <td>5</td>\n",
       "    </tr>\n",
       "    <tr>\n",
       "      <th>20</th>\n",
       "      <td>20.0</td>\n",
       "      <td>2</td>\n",
       "    </tr>\n",
       "    <tr>\n",
       "      <th>18</th>\n",
       "      <td>18.0</td>\n",
       "      <td>1</td>\n",
       "    </tr>\n",
       "  </tbody>\n",
       "</table>\n",
       "</div>"
      ],
      "text/plain": [
       "    vehicle_age   count\n",
       "3           3.0  161739\n",
       "4           4.0  113439\n",
       "5           5.0   94825\n",
       "2           2.0   90712\n",
       "6           6.0   75615\n",
       "7           7.0   74998\n",
       "8           8.0   68221\n",
       "9           9.0   51525\n",
       "0           0.0   35682\n",
       "10         10.0   34157\n",
       "1           1.0   33928\n",
       "11         11.0   24025\n",
       "22          NaN   21660\n",
       "12         12.0   13221\n",
       "13         13.0    9038\n",
       "14         14.0    3669\n",
       "15         15.0     610\n",
       "16         16.0      79\n",
       "17         17.0      24\n",
       "21        161.0      16\n",
       "19         19.0       5\n",
       "20         20.0       2\n",
       "18         18.0       1"
      ]
     },
     "execution_count": 93,
     "metadata": {},
     "output_type": "execute_result"
    }
   ],
   "source": [
    "query = '''\n",
    "SELECT \n",
    "      v.vehicle_age,\n",
    "      Count(*) as count\n",
    "FROM parties as p\n",
    "INNER JOIN Vehicles as v ON p.case_id = v.case_id\n",
    "WHERE party_type = 'car' and at_fault = 1\n",
    "GROUP BY v.vehicle_age\n",
    "'''\n",
    "\n",
    "vehicle_age = pd.read_sql_query(query, con=engine) \n",
    "vehicle_age.sort_values(by=\"count\", ascending=False)"
   ]
  },
  {
   "cell_type": "code",
   "execution_count": 94,
   "metadata": {},
   "outputs": [
    {
     "data": {
      "text/plain": [
       "<AxesSubplot:xlabel='vehicle_age', ylabel='count'>"
      ]
     },
     "execution_count": 94,
     "metadata": {},
     "output_type": "execute_result"
    },
    {
     "data": {
      "image/png": "[encoded data removed]",
      "text/plain": [
       "<Figure size 720x432 with 1 Axes>"
      ]
     },
     "metadata": {},
     "output_type": "display_data"
    }
   ],
   "source": [
    "fig, ax = plt.subplots(figsize=(10,6))\n",
    "sns.barplot(data=vehicle_age, x=\"vehicle_age\", y=\"count\")"
   ]
  },
  {
   "cell_type": "markdown",
   "metadata": {},
   "source": [
    "С повышением возраста, число аварий растет. При дальнейшем повышением возраста начинает снижаться - видимо, это связано с малым количеством таких автомобилей"
   ]
  },
  {
   "cell_type": "markdown",
   "metadata": {},
   "source": [
    "Посмотрим, как влияет тип кузова автомобиля на кол-во аварий"
   ]
  },
  {
   "cell_type": "code",
   "execution_count": 95,
   "metadata": {},
   "outputs": [
    {
     "data": {
      "text/html": [
       "<div>\n",
       "<style scoped>\n",
       "    .dataframe tbody tr th:only-of-type {\n",
       "        vertical-align: middle;\n",
       "    }\n",
       "\n",
       "    .dataframe tbody tr th {\n",
       "        vertical-align: top;\n",
       "    }\n",
       "\n",
       "    .dataframe thead th {\n",
       "        text-align: right;\n",
       "    }\n",
       "</style>\n",
       "<table border=\"1\" class=\"dataframe\">\n",
       "  <thead>\n",
       "    <tr style=\"text-align: right;\">\n",
       "      <th></th>\n",
       "      <th>vehicle_type</th>\n",
       "      <th>count</th>\n",
       "    </tr>\n",
       "  </thead>\n",
       "  <tbody>\n",
       "    <tr>\n",
       "      <th>4</th>\n",
       "      <td>sedan</td>\n",
       "      <td>449631</td>\n",
       "    </tr>\n",
       "    <tr>\n",
       "      <th>0</th>\n",
       "      <td>coupe</td>\n",
       "      <td>417097</td>\n",
       "    </tr>\n",
       "    <tr>\n",
       "      <th>1</th>\n",
       "      <td>hatchback</td>\n",
       "      <td>26208</td>\n",
       "    </tr>\n",
       "    <tr>\n",
       "      <th>2</th>\n",
       "      <td>minivan</td>\n",
       "      <td>13497</td>\n",
       "    </tr>\n",
       "    <tr>\n",
       "      <th>3</th>\n",
       "      <td>other</td>\n",
       "      <td>758</td>\n",
       "    </tr>\n",
       "  </tbody>\n",
       "</table>\n",
       "</div>"
      ],
      "text/plain": [
       "  vehicle_type   count\n",
       "4        sedan  449631\n",
       "0        coupe  417097\n",
       "1    hatchback   26208\n",
       "2      minivan   13497\n",
       "3        other     758"
      ]
     },
     "execution_count": 95,
     "metadata": {},
     "output_type": "execute_result"
    }
   ],
   "source": [
    "query = '''\n",
    "SELECT \n",
    "      v.vehicle_type,\n",
    "      Count(*) as count\n",
    "FROM parties as p\n",
    "INNER JOIN Vehicles as v ON p.case_id = v.case_id\n",
    "WHERE party_type = 'car' and at_fault = 1\n",
    "GROUP BY v.vehicle_type\n",
    "'''\n",
    "\n",
    "vehicle_type = pd.read_sql_query(query, con=engine) \n",
    "vehicle_type.sort_values(by=\"count\", ascending=False)"
   ]
  },
  {
   "cell_type": "code",
   "execution_count": 96,
   "metadata": {},
   "outputs": [
    {
     "data": {
      "text/plain": [
       "<AxesSubplot:xlabel='vehicle_type', ylabel='count'>"
      ]
     },
     "execution_count": 96,
     "metadata": {},
     "output_type": "execute_result"
    },
    {
     "data": {
      "image/png": "[encoded data removed]",
      "text/plain": [
       "<Figure size 720x432 with 1 Axes>"
      ]
     },
     "metadata": {},
     "output_type": "display_data"
    }
   ],
   "source": [
    "fig, ax = plt.subplots(figsize=(10,6))\n",
    "sns.barplot(data=vehicle_type, x=\"vehicle_type\", y=\"count\")"
   ]
  },
  {
   "cell_type": "markdown",
   "metadata": {},
   "source": [
    "Sedan и coupe находятся в топе. Хотя, они и более распространены"
   ]
  },
  {
   "cell_type": "markdown",
   "metadata": {},
   "source": [
    "Посмотрим, как влияет освещенность дороги"
   ]
  },
  {
   "cell_type": "code",
   "execution_count": 97,
   "metadata": {},
   "outputs": [
    {
     "data": {
      "text/html": [
       "<div>\n",
       "<style scoped>\n",
       "    .dataframe tbody tr th:only-of-type {\n",
       "        vertical-align: middle;\n",
       "    }\n",
       "\n",
       "    .dataframe tbody tr th {\n",
       "        vertical-align: top;\n",
       "    }\n",
       "\n",
       "    .dataframe thead th {\n",
       "        text-align: right;\n",
       "    }\n",
       "</style>\n",
       "<table border=\"1\" class=\"dataframe\">\n",
       "  <thead>\n",
       "    <tr style=\"text-align: right;\">\n",
       "      <th></th>\n",
       "      <th>lighting</th>\n",
       "      <th>count</th>\n",
       "    </tr>\n",
       "  </thead>\n",
       "  <tbody>\n",
       "    <tr>\n",
       "      <th>3</th>\n",
       "      <td>daylight</td>\n",
       "      <td>836676</td>\n",
       "    </tr>\n",
       "    <tr>\n",
       "      <th>1</th>\n",
       "      <td>dark with street lights</td>\n",
       "      <td>257497</td>\n",
       "    </tr>\n",
       "    <tr>\n",
       "      <th>0</th>\n",
       "      <td>dark with no street lights</td>\n",
       "      <td>95371</td>\n",
       "    </tr>\n",
       "    <tr>\n",
       "      <th>4</th>\n",
       "      <td>dusk or dawn</td>\n",
       "      <td>41332</td>\n",
       "    </tr>\n",
       "    <tr>\n",
       "      <th>5</th>\n",
       "      <td>None</td>\n",
       "      <td>5764</td>\n",
       "    </tr>\n",
       "    <tr>\n",
       "      <th>2</th>\n",
       "      <td>dark with street lights not functioning</td>\n",
       "      <td>3710</td>\n",
       "    </tr>\n",
       "  </tbody>\n",
       "</table>\n",
       "</div>"
      ],
      "text/plain": [
       "                                  lighting   count\n",
       "3                                 daylight  836676\n",
       "1                  dark with street lights  257497\n",
       "0               dark with no street lights   95371\n",
       "4                             dusk or dawn   41332\n",
       "5                                     None    5764\n",
       "2  dark with street lights not functioning    3710"
      ]
     },
     "execution_count": 97,
     "metadata": {},
     "output_type": "execute_result"
    }
   ],
   "source": [
    "query = '''\n",
    "SELECT \n",
    "      c.lighting,\n",
    "      Count(*) as count\n",
    "FROM parties as p\n",
    "INNER JOIN collisions as c ON p.case_id = c.case_id\n",
    "WHERE party_type = 'car' and at_fault = 1\n",
    "GROUP BY c.lighting\n",
    "'''\n",
    "\n",
    "lighting = pd.read_sql_query(query, con=engine) \n",
    "lighting.sort_values(by=\"count\", ascending=False)"
   ]
  },
  {
   "cell_type": "code",
   "execution_count": 98,
   "metadata": {},
   "outputs": [
    {
     "data": {
      "text/plain": [
       "<AxesSubplot:xlabel='lighting', ylabel='count'>"
      ]
     },
     "execution_count": 98,
     "metadata": {},
     "output_type": "execute_result"
    },
    {
     "data": {
      "image/png": "[encoded data removed]",
      "text/plain": [
       "<Figure size 1296x432 with 1 Axes>"
      ]
     },
     "metadata": {},
     "output_type": "display_data"
    }
   ],
   "source": [
    "fig, ax = plt.subplots(figsize=(18,6))\n",
    "sns.barplot(data=lighting, x=\"lighting\", y=\"count\")"
   ]
  },
  {
   "cell_type": "markdown",
   "metadata": {},
   "source": [
    "Большинство аварий по вине водителя произошло при дневном свете"
   ]
  },
  {
   "cell_type": "markdown",
   "metadata": {},
   "source": [
    "Выберем признаки для нашей модели. Состояния человека(сонливость, опьянения, наркотики) он сам не расскажет, а снять их удаленно довольно сложная задача, поэтому не будем их затрагивать. Во время посадки клиента в машину у нас есть информация о предполагаемом пути, погоде и технических хар-ках автомобиля. Их и будем использовать в нашей модели.  "
   ]
  },
  {
   "cell_type": "code",
   "execution_count": 99,
   "metadata": {},
   "outputs": [],
   "source": [
    "columns = [\n",
    "           'weather_1',     # Погода. Таблица collisions. cat\n",
    "           'lighting',      # Освещение. Таблица collisions. cat\n",
    "           'distance',      # Расстояние. Таблица collisions. num\n",
    "           'location_type',      # Тип дороги. Таблица collisions. cat\n",
    "           'cellphone_in_use',      # Наличие громкой связи. Таблица Parties. cat\n",
    "           'vehicle_type',      # Тип кузова. Таблица Vechicles. cat\n",
    "           'vehicle_transmission',      # Тип КПП. Таблица Vechicles. cat\n",
    "           'vehicle_age',      # Возраст автомобиля. Таблица Vechicles. num\n",
    "\n",
    "           # таргет\n",
    "           'at_fault'\n",
    "           \n",
    "         ] "
   ]
  },
  {
   "cell_type": "markdown",
   "metadata": {},
   "source": [
    "сделаем запрос по выбранным параметрам. Отберем случаи за 2012 год и не будем включать тип повреждения 'scratch'"
   ]
  },
  {
   "cell_type": "code",
   "execution_count": 100,
   "metadata": {},
   "outputs": [
    {
     "data": {
      "text/html": [
       "<div>\n",
       "<style scoped>\n",
       "    .dataframe tbody tr th:only-of-type {\n",
       "        vertical-align: middle;\n",
       "    }\n",
       "\n",
       "    .dataframe tbody tr th {\n",
       "        vertical-align: top;\n",
       "    }\n",
       "\n",
       "    .dataframe thead th {\n",
       "        text-align: right;\n",
       "    }\n",
       "</style>\n",
       "<table border=\"1\" class=\"dataframe\">\n",
       "  <thead>\n",
       "    <tr style=\"text-align: right;\">\n",
       "      <th></th>\n",
       "      <th>weather_1</th>\n",
       "      <th>lighting</th>\n",
       "      <th>distance</th>\n",
       "      <th>location_type</th>\n",
       "      <th>cellphone_in_use</th>\n",
       "      <th>vehicle_type</th>\n",
       "      <th>vehicle_transmission</th>\n",
       "      <th>vehicle_age</th>\n",
       "      <th>at_fault</th>\n",
       "    </tr>\n",
       "  </thead>\n",
       "  <tbody>\n",
       "    <tr>\n",
       "      <th>0</th>\n",
       "      <td>clear</td>\n",
       "      <td>dark with street lights</td>\n",
       "      <td>0.0</td>\n",
       "      <td>ramp</td>\n",
       "      <td>NaN</td>\n",
       "      <td>coupe</td>\n",
       "      <td>manual</td>\n",
       "      <td>6.0</td>\n",
       "      <td>1</td>\n",
       "    </tr>\n",
       "    <tr>\n",
       "      <th>1</th>\n",
       "      <td>clear</td>\n",
       "      <td>dark with street lights</td>\n",
       "      <td>0.0</td>\n",
       "      <td>None</td>\n",
       "      <td>0.0</td>\n",
       "      <td>sedan</td>\n",
       "      <td>manual</td>\n",
       "      <td>3.0</td>\n",
       "      <td>1</td>\n",
       "    </tr>\n",
       "    <tr>\n",
       "      <th>2</th>\n",
       "      <td>clear</td>\n",
       "      <td>daylight</td>\n",
       "      <td>413.0</td>\n",
       "      <td>None</td>\n",
       "      <td>0.0</td>\n",
       "      <td>coupe</td>\n",
       "      <td>auto</td>\n",
       "      <td>13.0</td>\n",
       "      <td>1</td>\n",
       "    </tr>\n",
       "    <tr>\n",
       "      <th>3</th>\n",
       "      <td>clear</td>\n",
       "      <td>daylight</td>\n",
       "      <td>1079.0</td>\n",
       "      <td>None</td>\n",
       "      <td>0.0</td>\n",
       "      <td>coupe</td>\n",
       "      <td>manual</td>\n",
       "      <td>5.0</td>\n",
       "      <td>0</td>\n",
       "    </tr>\n",
       "    <tr>\n",
       "      <th>4</th>\n",
       "      <td>clear</td>\n",
       "      <td>daylight</td>\n",
       "      <td>1079.0</td>\n",
       "      <td>None</td>\n",
       "      <td>0.0</td>\n",
       "      <td>sedan</td>\n",
       "      <td>manual</td>\n",
       "      <td>3.0</td>\n",
       "      <td>0</td>\n",
       "    </tr>\n",
       "  </tbody>\n",
       "</table>\n",
       "</div>"
      ],
      "text/plain": [
       "  weather_1                 lighting  distance location_type  \\\n",
       "0     clear  dark with street lights       0.0          ramp   \n",
       "1     clear  dark with street lights       0.0          None   \n",
       "2     clear                 daylight     413.0          None   \n",
       "3     clear                 daylight    1079.0          None   \n",
       "4     clear                 daylight    1079.0          None   \n",
       "\n",
       "   cellphone_in_use vehicle_type vehicle_transmission  vehicle_age  at_fault  \n",
       "0               NaN        coupe               manual          6.0         1  \n",
       "1               0.0        sedan               manual          3.0         1  \n",
       "2               0.0        coupe                 auto         13.0         1  \n",
       "3               0.0        coupe               manual          5.0         0  \n",
       "4               0.0        sedan               manual          3.0         0  "
      ]
     },
     "execution_count": 100,
     "metadata": {},
     "output_type": "execute_result"
    }
   ],
   "source": [
    "query = f'''\n",
    "SELECT \n",
    "      c.{columns[0]},\n",
    "      c.{columns[1]},\n",
    "      c.{columns[2]},\n",
    "      c.{columns[3]},\n",
    "      p.{columns[4]},\n",
    "      v.{columns[5]},\n",
    "      v.{columns[6]},\n",
    "      v.{columns[7]},\n",
    "      p.{columns[8]}\n",
    "\n",
    "FROM parties as p\n",
    "INNER JOIN collisions as c ON p.case_id = c.case_id\n",
    "INNER JOIN vehicles as v ON p.case_id = v.case_id\n",
    "WHERE p.party_type = 'car'\n",
    "      AND EXTRACT(YEAR FROM c.collision_date::date) = 2012\n",
    "      AND c.collision_damage != 'scratch'\n",
    "'''\n",
    "\n",
    "data = pd.read_sql_query(query, con=engine) \n",
    "data.head()"
   ]
  },
  {
   "cell_type": "markdown",
   "metadata": {},
   "source": [
    "Выделим числовые и категориальные признаки. Vehicle_age здесь представлен строго в годах - тоже будем считать его категориальным"
   ]
  },
  {
   "cell_type": "code",
   "execution_count": 101,
   "metadata": {},
   "outputs": [],
   "source": [
    "num_features = [\"distance\"]\n",
    "cat_features = [\"weather_1\", \"lighting\", \"location_type\", \"cellphone_in_use\", \"vehicle_type\", \"vehicle_transmission\", \"vehicle_age\"]\n",
    "target = [\"at_fault\"]"
   ]
  },
  {
   "cell_type": "code",
   "execution_count": 102,
   "metadata": {},
   "outputs": [],
   "source": [
    "X = data.copy()"
   ]
  },
  {
   "cell_type": "markdown",
   "metadata": {},
   "source": [
    "рассмотрим числовые признаки"
   ]
  },
  {
   "cell_type": "markdown",
   "metadata": {},
   "source": [
    "distance"
   ]
  },
  {
   "cell_type": "code",
   "execution_count": 103,
   "metadata": {},
   "outputs": [
    {
     "data": {
      "text/plain": [
       "count    1.184110e+05\n",
       "mean     7.320663e+02\n",
       "std      6.902704e+03\n",
       "min      0.000000e+00\n",
       "25%      2.000000e+00\n",
       "50%      1.180000e+02\n",
       "75%      5.280000e+02\n",
       "max      1.584000e+06\n",
       "Name: distance, dtype: float64"
      ]
     },
     "execution_count": 103,
     "metadata": {},
     "output_type": "execute_result"
    }
   ],
   "source": [
    "X.distance.describe()"
   ]
  },
  {
   "cell_type": "code",
   "execution_count": 104,
   "metadata": {},
   "outputs": [
    {
     "data": {
      "text/plain": [
       "<AxesSubplot:>"
      ]
     },
     "execution_count": 104,
     "metadata": {},
     "output_type": "execute_result"
    },
    {
     "data": {
      "image/png": "[encoded data removed]",
      "text/plain": [
       "<Figure size 720x360 with 1 Axes>"
      ]
     },
     "metadata": {},
     "output_type": "display_data"
    }
   ],
   "source": [
    "X.distance.hist()"
   ]
  },
  {
   "cell_type": "code",
   "execution_count": 105,
   "metadata": {},
   "outputs": [
    {
     "data": {
      "text/plain": [
       "<AxesSubplot:>"
      ]
     },
     "execution_count": 105,
     "metadata": {},
     "output_type": "execute_result"
    },
    {
     "data": {
      "image/png": "[encoded data removed]",
      "text/plain": [
       "<Figure size 720x360 with 1 Axes>"
      ]
     },
     "metadata": {},
     "output_type": "display_data"
    }
   ],
   "source": [
    "X[X[\"distance\"] < 2000].distance.hist()"
   ]
  },
  {
   "cell_type": "markdown",
   "metadata": {},
   "source": [
    "Уберем выбросы"
   ]
  },
  {
   "cell_type": "code",
   "execution_count": 106,
   "metadata": {},
   "outputs": [],
   "source": [
    "X = X[X[\"distance\"] < 1500]"
   ]
  },
  {
   "cell_type": "code",
   "execution_count": 107,
   "metadata": {},
   "outputs": [
    {
     "data": {
      "text/plain": [
       "0"
      ]
     },
     "execution_count": 107,
     "metadata": {},
     "output_type": "execute_result"
    }
   ],
   "source": [
    "X[\"distance\"].isna().sum()"
   ]
  },
  {
   "cell_type": "markdown",
   "metadata": {},
   "source": [
    "Рассмотрим категориальные признаки. Заменим пропуски"
   ]
  },
  {
   "cell_type": "markdown",
   "metadata": {},
   "source": [
    "vehicle_age"
   ]
  },
  {
   "cell_type": "code",
   "execution_count": 108,
   "metadata": {},
   "outputs": [
    {
     "data": {
      "text/plain": [
       "<AxesSubplot:>"
      ]
     },
     "execution_count": 108,
     "metadata": {},
     "output_type": "execute_result"
    },
    {
     "data": {
      "image/png": "[encoded data removed]",
      "text/plain": [
       "<Figure size 720x360 with 1 Axes>"
      ]
     },
     "metadata": {},
     "output_type": "display_data"
    }
   ],
   "source": [
    "X.vehicle_age.hist()"
   ]
  },
  {
   "cell_type": "code",
   "execution_count": 109,
   "metadata": {},
   "outputs": [
    {
     "data": {
      "text/plain": [
       "<AxesSubplot:>"
      ]
     },
     "execution_count": 109,
     "metadata": {},
     "output_type": "execute_result"
    },
    {
     "data": {
      "image/png": "[encoded data removed]",
      "text/plain": [
       "<Figure size 720x360 with 1 Axes>"
      ]
     },
     "metadata": {},
     "output_type": "display_data"
    }
   ],
   "source": [
    "X[X[\"vehicle_age\"] < 20].vehicle_age.hist()"
   ]
  },
  {
   "cell_type": "markdown",
   "metadata": {},
   "source": [
    "Уберем выбросы"
   ]
  },
  {
   "cell_type": "code",
   "execution_count": 110,
   "metadata": {},
   "outputs": [],
   "source": [
    "X = X[X[\"vehicle_age\"] < 15]"
   ]
  },
  {
   "cell_type": "code",
   "execution_count": 111,
   "metadata": {},
   "outputs": [
    {
     "data": {
      "text/plain": [
       "0"
      ]
     },
     "execution_count": 111,
     "metadata": {},
     "output_type": "execute_result"
    }
   ],
   "source": [
    "X[\"vehicle_age\"].isna().sum()"
   ]
  },
  {
   "cell_type": "markdown",
   "metadata": {},
   "source": [
    "weather_1"
   ]
  },
  {
   "cell_type": "code",
   "execution_count": 112,
   "metadata": {},
   "outputs": [
    {
     "data": {
      "text/plain": [
       "array(['clear', 'fog', 'raining', 'cloudy', 'snowing', None, 'other',\n",
       "       'wind'], dtype=object)"
      ]
     },
     "execution_count": 112,
     "metadata": {},
     "output_type": "execute_result"
    }
   ],
   "source": [
    "X[\"weather_1\"].unique()"
   ]
  },
  {
   "cell_type": "code",
   "execution_count": 113,
   "metadata": {},
   "outputs": [],
   "source": [
    "X[\"weather_1\"] = X[\"weather_1\"].fillna(\"clear\")"
   ]
  },
  {
   "cell_type": "code",
   "execution_count": 114,
   "metadata": {},
   "outputs": [
    {
     "data": {
      "text/plain": [
       "array(['clear', 'fog', 'raining', 'cloudy', 'snowing', 'other', 'wind'],\n",
       "      dtype=object)"
      ]
     },
     "execution_count": 114,
     "metadata": {},
     "output_type": "execute_result"
    }
   ],
   "source": [
    "X[\"weather_1\"].unique()"
   ]
  },
  {
   "cell_type": "code",
   "execution_count": 115,
   "metadata": {},
   "outputs": [
    {
     "data": {
      "text/plain": [
       "clear      82606\n",
       "cloudy     14210\n",
       "raining     3623\n",
       "fog          330\n",
       "snowing      148\n",
       "other         30\n",
       "wind          23\n",
       "Name: weather_1, dtype: int64"
      ]
     },
     "execution_count": 115,
     "metadata": {},
     "output_type": "execute_result"
    }
   ],
   "source": [
    "X[\"weather_1\"].value_counts()"
   ]
  },
  {
   "cell_type": "markdown",
   "metadata": {},
   "source": [
    "lighting"
   ]
  },
  {
   "cell_type": "code",
   "execution_count": 116,
   "metadata": {},
   "outputs": [
    {
     "data": {
      "text/plain": [
       "array(['dark with street lights', 'daylight',\n",
       "       'dark with no street lights', 'dusk or dawn', None,\n",
       "       'dark with street lights not functioning'], dtype=object)"
      ]
     },
     "execution_count": 116,
     "metadata": {},
     "output_type": "execute_result"
    }
   ],
   "source": [
    "X[\"lighting\"].unique()"
   ]
  },
  {
   "cell_type": "code",
   "execution_count": 117,
   "metadata": {},
   "outputs": [],
   "source": [
    "X[\"lighting\"] = X[\"lighting\"].fillna(\"daylight\")"
   ]
  },
  {
   "cell_type": "code",
   "execution_count": 118,
   "metadata": {},
   "outputs": [
    {
     "data": {
      "text/plain": [
       "array(['dark with street lights', 'daylight',\n",
       "       'dark with no street lights', 'dusk or dawn',\n",
       "       'dark with street lights not functioning'], dtype=object)"
      ]
     },
     "execution_count": 118,
     "metadata": {},
     "output_type": "execute_result"
    }
   ],
   "source": [
    "X[\"lighting\"].unique()"
   ]
  },
  {
   "cell_type": "code",
   "execution_count": 119,
   "metadata": {},
   "outputs": [
    {
     "data": {
      "text/plain": [
       "daylight                                   71144\n",
       "dark with street lights                    20215\n",
       "dark with no street lights                  6161\n",
       "dusk or dawn                                3184\n",
       "dark with street lights not functioning      266\n",
       "Name: lighting, dtype: int64"
      ]
     },
     "execution_count": 119,
     "metadata": {},
     "output_type": "execute_result"
    }
   ],
   "source": [
    "X[\"lighting\"].value_counts()"
   ]
  },
  {
   "cell_type": "markdown",
   "metadata": {},
   "source": [
    "location_type"
   ]
  },
  {
   "cell_type": "code",
   "execution_count": 120,
   "metadata": {},
   "outputs": [
    {
     "data": {
      "text/plain": [
       "array(['ramp', None, 'highway', 'intersection'], dtype=object)"
      ]
     },
     "execution_count": 120,
     "metadata": {},
     "output_type": "execute_result"
    }
   ],
   "source": [
    "X[\"location_type\"].unique()"
   ]
  },
  {
   "cell_type": "code",
   "execution_count": 121,
   "metadata": {},
   "outputs": [],
   "source": [
    "X[\"location_type\"] = X[\"location_type\"].fillna(\"highway\")"
   ]
  },
  {
   "cell_type": "code",
   "execution_count": 122,
   "metadata": {},
   "outputs": [
    {
     "data": {
      "text/plain": [
       "array(['ramp', 'highway', 'intersection'], dtype=object)"
      ]
     },
     "execution_count": 122,
     "metadata": {},
     "output_type": "execute_result"
    }
   ],
   "source": [
    "X[\"location_type\"].unique()"
   ]
  },
  {
   "cell_type": "code",
   "execution_count": 123,
   "metadata": {},
   "outputs": [
    {
     "data": {
      "text/plain": [
       "highway         92282\n",
       "ramp             5919\n",
       "intersection     2769\n",
       "Name: location_type, dtype: int64"
      ]
     },
     "execution_count": 123,
     "metadata": {},
     "output_type": "execute_result"
    }
   ],
   "source": [
    "X[\"location_type\"].value_counts()"
   ]
  },
  {
   "cell_type": "markdown",
   "metadata": {},
   "source": [
    "cellphone_in_use"
   ]
  },
  {
   "cell_type": "code",
   "execution_count": 124,
   "metadata": {},
   "outputs": [
    {
     "data": {
      "text/plain": [
       "array([nan,  0.,  1.])"
      ]
     },
     "execution_count": 124,
     "metadata": {},
     "output_type": "execute_result"
    }
   ],
   "source": [
    "X[\"cellphone_in_use\"].unique()"
   ]
  },
  {
   "cell_type": "code",
   "execution_count": 125,
   "metadata": {},
   "outputs": [],
   "source": [
    "X[\"cellphone_in_use\"] = X[\"cellphone_in_use\"].fillna(0)"
   ]
  },
  {
   "cell_type": "code",
   "execution_count": 126,
   "metadata": {},
   "outputs": [
    {
     "data": {
      "text/plain": [
       "array([0., 1.])"
      ]
     },
     "execution_count": 126,
     "metadata": {},
     "output_type": "execute_result"
    }
   ],
   "source": [
    "X[\"cellphone_in_use\"].unique()"
   ]
  },
  {
   "cell_type": "code",
   "execution_count": 127,
   "metadata": {},
   "outputs": [
    {
     "data": {
      "text/plain": [
       "0.0    99086\n",
       "1.0     1884\n",
       "Name: cellphone_in_use, dtype: int64"
      ]
     },
     "execution_count": 127,
     "metadata": {},
     "output_type": "execute_result"
    }
   ],
   "source": [
    "X[\"cellphone_in_use\"].value_counts()"
   ]
  },
  {
   "cell_type": "markdown",
   "metadata": {},
   "source": [
    "vehicle_type"
   ]
  },
  {
   "cell_type": "code",
   "execution_count": 128,
   "metadata": {},
   "outputs": [
    {
     "data": {
      "text/plain": [
       "array(['coupe', 'sedan', 'hatchback', 'minivan', 'other'], dtype=object)"
      ]
     },
     "execution_count": 128,
     "metadata": {},
     "output_type": "execute_result"
    }
   ],
   "source": [
    "X[\"vehicle_type\"].unique()"
   ]
  },
  {
   "cell_type": "code",
   "execution_count": 129,
   "metadata": {},
   "outputs": [
    {
     "data": {
      "text/plain": [
       "sedan        64524\n",
       "coupe        30874\n",
       "hatchback     3143\n",
       "minivan       2378\n",
       "other           51\n",
       "Name: vehicle_type, dtype: int64"
      ]
     },
     "execution_count": 129,
     "metadata": {},
     "output_type": "execute_result"
    }
   ],
   "source": [
    "X[\"vehicle_type\"].value_counts()"
   ]
  },
  {
   "cell_type": "markdown",
   "metadata": {},
   "source": [
    "vehicle_transmission"
   ]
  },
  {
   "cell_type": "code",
   "execution_count": 130,
   "metadata": {},
   "outputs": [
    {
     "data": {
      "text/plain": [
       "array(['manual', 'auto', None], dtype=object)"
      ]
     },
     "execution_count": 130,
     "metadata": {},
     "output_type": "execute_result"
    }
   ],
   "source": [
    "X[\"vehicle_transmission\"].unique()"
   ]
  },
  {
   "cell_type": "code",
   "execution_count": 131,
   "metadata": {},
   "outputs": [],
   "source": [
    "X[\"vehicle_transmission\"] = X[\"vehicle_transmission\"].fillna(\"manual\")"
   ]
  },
  {
   "cell_type": "code",
   "execution_count": 132,
   "metadata": {},
   "outputs": [
    {
     "data": {
      "text/plain": [
       "array(['manual', 'auto'], dtype=object)"
      ]
     },
     "execution_count": 132,
     "metadata": {},
     "output_type": "execute_result"
    }
   ],
   "source": [
    "X[\"vehicle_transmission\"].unique()"
   ]
  },
  {
   "cell_type": "code",
   "execution_count": 133,
   "metadata": {},
   "outputs": [
    {
     "data": {
      "text/plain": [
       "manual    53045\n",
       "auto      47925\n",
       "Name: vehicle_transmission, dtype: int64"
      ]
     },
     "execution_count": 133,
     "metadata": {},
     "output_type": "execute_result"
    }
   ],
   "source": [
    "X[\"vehicle_transmission\"].value_counts()"
   ]
  },
  {
   "cell_type": "markdown",
   "metadata": {},
   "source": [
    "Посмотрим таргет"
   ]
  },
  {
   "cell_type": "code",
   "execution_count": 134,
   "metadata": {},
   "outputs": [
    {
     "data": {
      "text/plain": [
       "0    54064\n",
       "1    46906\n",
       "Name: at_fault, dtype: int64"
      ]
     },
     "execution_count": 134,
     "metadata": {},
     "output_type": "execute_result"
    }
   ],
   "source": [
    "X[\"at_fault\"].value_counts()"
   ]
  },
  {
   "cell_type": "markdown",
   "metadata": {},
   "source": [
    "таргет получился сбалансирован"
   ]
  },
  {
   "cell_type": "markdown",
   "metadata": {},
   "source": [
    "приведем cellphone_in_use и vehicle_age к типу инту"
   ]
  },
  {
   "cell_type": "code",
   "execution_count": 135,
   "metadata": {},
   "outputs": [],
   "source": [
    "X[\"cellphone_in_use\"] = X[\"cellphone_in_use\"].astype(int)\n",
    "X[\"vehicle_age\"] = X[\"vehicle_age\"].astype(int)"
   ]
  },
  {
   "cell_type": "code",
   "execution_count": 136,
   "metadata": {},
   "outputs": [
    {
     "name": "stdout",
     "output_type": "stream",
     "text": [
      "<class 'pandas.core.frame.DataFrame'>\n",
      "Int64Index: 100970 entries, 0 to 118410\n",
      "Data columns (total 9 columns):\n",
      " #   Column                Non-Null Count   Dtype  \n",
      "---  ------                --------------   -----  \n",
      " 0   weather_1             100970 non-null  object \n",
      " 1   lighting              100970 non-null  object \n",
      " 2   distance              100970 non-null  float64\n",
      " 3   location_type         100970 non-null  object \n",
      " 4   cellphone_in_use      100970 non-null  int32  \n",
      " 5   vehicle_type          100970 non-null  object \n",
      " 6   vehicle_transmission  100970 non-null  object \n",
      " 7   vehicle_age           100970 non-null  int32  \n",
      " 8   at_fault              100970 non-null  int64  \n",
      "dtypes: float64(1), int32(2), int64(1), object(5)\n",
      "memory usage: 6.9+ MB\n"
     ]
    }
   ],
   "source": [
    "X.info()"
   ]
  },
  {
   "cell_type": "markdown",
   "metadata": {},
   "source": [
    "Посмотрим корреляцию distance и vehicle_age с таргетом"
   ]
  },
  {
   "cell_type": "code",
   "execution_count": 137,
   "metadata": {},
   "outputs": [
    {
     "data": {
      "text/plain": [
       "distance      -0.002576\n",
       "vehicle_age   -0.010872\n",
       "at_fault       1.000000\n",
       "Name: at_fault, dtype: float64"
      ]
     },
     "execution_count": 137,
     "metadata": {},
     "output_type": "execute_result"
    }
   ],
   "source": [
    "X[['distance', 'vehicle_age', 'at_fault']].corr()['at_fault']"
   ]
  },
  {
   "cell_type": "markdown",
   "metadata": {},
   "source": [
    "Корреляция почти отсутствует"
   ]
  },
  {
   "cell_type": "markdown",
   "metadata": {},
   "source": [
    "Отделим признаки от таргета"
   ]
  },
  {
   "cell_type": "code",
   "execution_count": 138,
   "metadata": {},
   "outputs": [],
   "source": [
    "y = X[target]\n",
    "X = X.drop(target, axis=1)"
   ]
  },
  {
   "cell_type": "markdown",
   "metadata": {},
   "source": [
    "## Построение моделей"
   ]
  },
  {
   "cell_type": "markdown",
   "metadata": {},
   "source": [
    "Сделаем ohe и скалирование для признаков"
   ]
  },
  {
   "cell_type": "code",
   "execution_count": 160,
   "metadata": {},
   "outputs": [],
   "source": [
    "cat_transformer_linear = Pipeline([ ('ohe', OneHotEncoder(handle_unknown='ignore')) ])\n",
    "num_transformer_linear = Pipeline([ ('simm', SimpleImputer(strategy='mean')), ('scaler', MinMaxScaler()) ])\n",
    "\n",
    "preprocessor = ColumnTransformer(\n",
    "    transformers=[\n",
    "        (\"num\", num_transformer_linear, num_features),\n",
    "        (\"cat\", cat_transformer_linear, cat_features)\n",
    "    ]\n",
    ")"
   ]
  },
  {
   "cell_type": "code",
   "execution_count": 165,
   "metadata": {},
   "outputs": [
    {
     "ename": "NameError",
     "evalue": "name 'sklearn' is not defined",
     "output_type": "error",
     "traceback": [
      "\u001b[1;31m---------------------------------------------------------------------------\u001b[0m",
      "\u001b[1;31mNameError\u001b[0m                                 Traceback (most recent call last)",
      "\u001b[1;32mc:\\Users\\Lampq\\projects\\online_training\\Y_practicum\\Projects\\final_project_3\\final_3.ipynb Cell 104'\u001b[0m in \u001b[0;36m<cell line: 1>\u001b[1;34m()\u001b[0m\n\u001b[1;32m----> <a href='vscode-notebook-cell:/c%3A/Users/Lampq/projects/online_training/Y_practicum/Projects/final_project_3/final_3.ipynb#ch0000144?line=0'>1</a>\u001b[0m sklearn\u001b[39m.\u001b[39m__version__\n",
      "\u001b[1;31mNameError\u001b[0m: name 'sklearn' is not defined"
     ]
    }
   ],
   "source": [
    "sklearn.__version__"
   ]
  },
  {
   "cell_type": "code",
   "execution_count": 163,
   "metadata": {},
   "outputs": [],
   "source": [
    "X_prep = preprocessor.fit(X)"
   ]
  },
  {
   "cell_type": "code",
   "execution_count": 164,
   "metadata": {},
   "outputs": [
    {
     "data": {
      "text/plain": [
       "array(['num__distance', 'cat__weather_1_clear', 'cat__weather_1_cloudy',\n",
       "       'cat__weather_1_fog', 'cat__weather_1_other',\n",
       "       'cat__weather_1_raining', 'cat__weather_1_snowing',\n",
       "       'cat__weather_1_wind', 'cat__lighting_dark with no street lights',\n",
       "       'cat__lighting_dark with street lights',\n",
       "       'cat__lighting_dark with street lights not functioning',\n",
       "       'cat__lighting_daylight', 'cat__lighting_dusk or dawn',\n",
       "       'cat__location_type_highway', 'cat__location_type_intersection',\n",
       "       'cat__location_type_ramp', 'cat__cellphone_in_use_0',\n",
       "       'cat__cellphone_in_use_1', 'cat__vehicle_type_coupe',\n",
       "       'cat__vehicle_type_hatchback', 'cat__vehicle_type_minivan',\n",
       "       'cat__vehicle_type_other', 'cat__vehicle_type_sedan',\n",
       "       'cat__vehicle_transmission_auto',\n",
       "       'cat__vehicle_transmission_manual', 'cat__vehicle_age_0',\n",
       "       'cat__vehicle_age_1', 'cat__vehicle_age_2', 'cat__vehicle_age_3',\n",
       "       'cat__vehicle_age_4', 'cat__vehicle_age_5', 'cat__vehicle_age_6',\n",
       "       'cat__vehicle_age_7', 'cat__vehicle_age_8', 'cat__vehicle_age_9',\n",
       "       'cat__vehicle_age_10', 'cat__vehicle_age_11',\n",
       "       'cat__vehicle_age_12', 'cat__vehicle_age_13',\n",
       "       'cat__vehicle_age_14'], dtype=object)"
      ]
     },
     "execution_count": 164,
     "metadata": {},
     "output_type": "execute_result"
    }
   ],
   "source": [
    "preprocessor.get_feature_names_out()"
   ]
  },
  {
   "cell_type": "markdown",
   "metadata": {},
   "source": [
    "Будем обучать catboost и lightlgm. Сделаем для них пайплайны с сетками для перебора гиперпараметров. Для lgm сделаем препроцессинг. Для catboost не будем его делать, т.к у него есть своя встроенная система обработки признаков перед обучением и, например, ohe сами разработчики советуют не делать, а оставить, как есть."
   ]
  },
  {
   "cell_type": "code",
   "execution_count": null,
   "metadata": {},
   "outputs": [],
   "source": [
    "pipelines = []\n",
    "params = []\n",
    "names = []\n",
    "\n",
    "pipeline_lgm = Pipeline([('preprocessor', preprocessor), ('lgm', None)])  \n",
    "pipeline_catboost = Pipeline([('cat', None)])  \n",
    "\n",
    "param_lgm = [\n",
    "    {\n",
    "     'lgm': (LGBMClassifier(random_state=1),),\n",
    "     'lgm__n_estimators': [100, 200],\n",
    "     'lgm__max_depth': [4, 6],\n",
    "     'lgm__learning_rate': [0.05, 0.1]\n",
    "     }\n",
    "]\n",
    "\n",
    "param_catboost = [\n",
    "     {'cat': (CatBoostClassifier(verbose=0, cat_features=cat_features, random_state=1, od_type='Iter', od_wait=10,),),\n",
    "      'cat__n_estimators': [100, 200],\n",
    "      'cat__max_depth': [4, 6],\n",
    "      \"cat__learning_rate\": [0.05, 0.1]\n",
    "\n",
    "      }\n",
    " ]"
   ]
  },
  {
   "cell_type": "code",
   "execution_count": null,
   "metadata": {},
   "outputs": [],
   "source": [
    "names = [\"lgm\", \"catboost\"]\n",
    "pipelines = [pipeline_lgm, pipeline_catboost]\n",
    "params = [param_lgm, param_catboost]"
   ]
  },
  {
   "cell_type": "markdown",
   "metadata": {},
   "source": [
    "Сделаем гридсерч с 3 фолдами. Т.к нам нужно понять вероятность того, будет ли виновником аварии водитель или нет, будем штрафовать модель в том случае, если вероятность события удаляется от 1 и 0 соответственно. Т.е модель должна давать как можно более аккуратную вероятность на тот или иной случай. Для этого выберем логлосс, как метрику качества. Выведем результаты обучения для каждой из типов моделей в виде табличек"
   ]
  },
  {
   "cell_type": "code",
   "execution_count": null,
   "metadata": {},
   "outputs": [
    {
     "data": {
      "application/vnd.jupyter.widget-view+json": {
       "model_id": "c971ce265dfb4bbcacf5031e8dd7c262",
       "version_major": 2,
       "version_minor": 0
      },
      "text/plain": [
       "0it [00:00, ?it/s]"
      ]
     },
     "metadata": {},
     "output_type": "display_data"
    },
    {
     "name": "stdout",
     "output_type": "stream",
     "text": [
      "Top lgm models:\n"
     ]
    },
    {
     "name": "stderr",
     "output_type": "stream",
     "text": [
      "c:\\Python3100\\lib\\site-packages\\sklearn\\preprocessing\\_label.py:98: DataConversionWarning: A column-vector y was passed when a 1d array was expected. Please change the shape of y to (n_samples, ), for example using ravel().\n",
      "  y = column_or_1d(y, warn=True)\n",
      "c:\\Python3100\\lib\\site-packages\\sklearn\\preprocessing\\_label.py:133: DataConversionWarning: A column-vector y was passed when a 1d array was expected. Please change the shape of y to (n_samples, ), for example using ravel().\n",
      "  y = column_or_1d(y, warn=True)\n"
     ]
    },
    {
     "data": {
      "text/html": [
       "<div>\n",
       "<style scoped>\n",
       "    .dataframe tbody tr th:only-of-type {\n",
       "        vertical-align: middle;\n",
       "    }\n",
       "\n",
       "    .dataframe tbody tr th {\n",
       "        vertical-align: top;\n",
       "    }\n",
       "\n",
       "    .dataframe thead th {\n",
       "        text-align: right;\n",
       "    }\n",
       "</style>\n",
       "<table border=\"1\" class=\"dataframe\">\n",
       "  <thead>\n",
       "    <tr style=\"text-align: right;\">\n",
       "      <th></th>\n",
       "      <th>lr</th>\n",
       "      <th>max_depth</th>\n",
       "      <th>max_estimators</th>\n",
       "      <th>cv_logloss_score</th>\n",
       "      <th>mean_fit_time</th>\n",
       "      <th>rank_cv_score</th>\n",
       "    </tr>\n",
       "  </thead>\n",
       "  <tbody>\n",
       "    <tr>\n",
       "      <th>2</th>\n",
       "      <td>0.05</td>\n",
       "      <td>6</td>\n",
       "      <td>100</td>\n",
       "      <td>-0.682576</td>\n",
       "      <td>0.611412</td>\n",
       "      <td>1</td>\n",
       "    </tr>\n",
       "    <tr>\n",
       "      <th>1</th>\n",
       "      <td>0.05</td>\n",
       "      <td>4</td>\n",
       "      <td>200</td>\n",
       "      <td>-0.682805</td>\n",
       "      <td>0.851747</td>\n",
       "      <td>2</td>\n",
       "    </tr>\n",
       "    <tr>\n",
       "      <th>4</th>\n",
       "      <td>0.10</td>\n",
       "      <td>4</td>\n",
       "      <td>100</td>\n",
       "      <td>-0.682847</td>\n",
       "      <td>0.502372</td>\n",
       "      <td>3</td>\n",
       "    </tr>\n",
       "    <tr>\n",
       "      <th>3</th>\n",
       "      <td>0.05</td>\n",
       "      <td>6</td>\n",
       "      <td>200</td>\n",
       "      <td>-0.682903</td>\n",
       "      <td>0.952413</td>\n",
       "      <td>4</td>\n",
       "    </tr>\n",
       "    <tr>\n",
       "      <th>6</th>\n",
       "      <td>0.10</td>\n",
       "      <td>6</td>\n",
       "      <td>100</td>\n",
       "      <td>-0.682945</td>\n",
       "      <td>0.542000</td>\n",
       "      <td>5</td>\n",
       "    </tr>\n",
       "  </tbody>\n",
       "</table>\n",
       "</div>"
      ],
      "text/plain": [
       "     lr  max_depth  max_estimators  cv_logloss_score  mean_fit_time  \\\n",
       "2  0.05          6             100         -0.682576       0.611412   \n",
       "1  0.05          4             200         -0.682805       0.851747   \n",
       "4  0.10          4             100         -0.682847       0.502372   \n",
       "3  0.05          6             200         -0.682903       0.952413   \n",
       "6  0.10          6             100         -0.682945       0.542000   \n",
       "\n",
       "   rank_cv_score  \n",
       "2              1  \n",
       "1              2  \n",
       "4              3  \n",
       "3              4  \n",
       "6              5  "
      ]
     },
     "metadata": {},
     "output_type": "display_data"
    },
    {
     "name": "stdout",
     "output_type": "stream",
     "text": [
      "Top catboost models:\n"
     ]
    },
    {
     "data": {
      "text/html": [
       "<div>\n",
       "<style scoped>\n",
       "    .dataframe tbody tr th:only-of-type {\n",
       "        vertical-align: middle;\n",
       "    }\n",
       "\n",
       "    .dataframe tbody tr th {\n",
       "        vertical-align: top;\n",
       "    }\n",
       "\n",
       "    .dataframe thead th {\n",
       "        text-align: right;\n",
       "    }\n",
       "</style>\n",
       "<table border=\"1\" class=\"dataframe\">\n",
       "  <thead>\n",
       "    <tr style=\"text-align: right;\">\n",
       "      <th></th>\n",
       "      <th>lr</th>\n",
       "      <th>max_depth</th>\n",
       "      <th>max_estimators</th>\n",
       "      <th>cv_logloss_score</th>\n",
       "      <th>mean_fit_time</th>\n",
       "      <th>rank_cv_score</th>\n",
       "    </tr>\n",
       "  </thead>\n",
       "  <tbody>\n",
       "    <tr>\n",
       "      <th>7</th>\n",
       "      <td>0.10</td>\n",
       "      <td>6</td>\n",
       "      <td>200</td>\n",
       "      <td>-0.682829</td>\n",
       "      <td>15.510271</td>\n",
       "      <td>1</td>\n",
       "    </tr>\n",
       "    <tr>\n",
       "      <th>5</th>\n",
       "      <td>0.10</td>\n",
       "      <td>4</td>\n",
       "      <td>200</td>\n",
       "      <td>-0.683108</td>\n",
       "      <td>19.475601</td>\n",
       "      <td>2</td>\n",
       "    </tr>\n",
       "    <tr>\n",
       "      <th>3</th>\n",
       "      <td>0.05</td>\n",
       "      <td>6</td>\n",
       "      <td>200</td>\n",
       "      <td>-0.683232</td>\n",
       "      <td>25.345349</td>\n",
       "      <td>3</td>\n",
       "    </tr>\n",
       "    <tr>\n",
       "      <th>6</th>\n",
       "      <td>0.10</td>\n",
       "      <td>6</td>\n",
       "      <td>100</td>\n",
       "      <td>-0.683460</td>\n",
       "      <td>8.113336</td>\n",
       "      <td>4</td>\n",
       "    </tr>\n",
       "    <tr>\n",
       "      <th>1</th>\n",
       "      <td>0.05</td>\n",
       "      <td>4</td>\n",
       "      <td>200</td>\n",
       "      <td>-0.683560</td>\n",
       "      <td>18.887807</td>\n",
       "      <td>5</td>\n",
       "    </tr>\n",
       "  </tbody>\n",
       "</table>\n",
       "</div>"
      ],
      "text/plain": [
       "     lr  max_depth  max_estimators  cv_logloss_score  mean_fit_time  \\\n",
       "7  0.10          6             200         -0.682829      15.510271   \n",
       "5  0.10          4             200         -0.683108      19.475601   \n",
       "3  0.05          6             200         -0.683232      25.345349   \n",
       "6  0.10          6             100         -0.683460       8.113336   \n",
       "1  0.05          4             200         -0.683560      18.887807   \n",
       "\n",
       "   rank_cv_score  \n",
       "7              1  \n",
       "5              2  \n",
       "3              3  \n",
       "6              4  \n",
       "1              5  "
      ]
     },
     "metadata": {},
     "output_type": "display_data"
    }
   ],
   "source": [
    "results_boosting = {}\n",
    "for pipeline, param_grid, name in tqdm(zip(pipelines, params, names)):\n",
    "    gs = GridSearchCV(pipeline,\n",
    "                      param_grid,\n",
    "                      scoring='neg_log_loss',\n",
    "                      refit='neg_log_loss',\n",
    "                      n_jobs=10,\n",
    "                      cv=3)\n",
    "\n",
    "    gs.fit(X, y)\n",
    "\n",
    "    # top models table\n",
    "    print('Top ' + name + ' models:')\n",
    "    results_df = pd.DataFrame(gs.cv_results_)\n",
    "    results_df = results_df.sort_values(by=[\"rank_test_score\"])\n",
    "    params = results_df[\"params\"].apply(pd.Series).to_dict()\n",
    "    keys = list(params.keys())\n",
    "    results_df[\"lr\"] = params[keys[1]].values()\n",
    "    results_df[\"max_depth\"] = params[keys[2]].values()\n",
    "    results_df[\"max_estimators\"] = params[keys[3]].values()\n",
    "\n",
    "    display(results_df[['lr', \"max_depth\", \"max_estimators\", 'mean_test_score', 'mean_fit_time', 'rank_test_score']]\n",
    "            .head(5)\n",
    "            .rename(columns={'mean_test_score': 'cv_logloss_score'})\n",
    "            .rename(columns={'rank_test_score': 'rank_cv_score'}))\n",
    "\n",
    "    results_boosting[name] = gs\n"
   ]
  },
  {
   "cell_type": "markdown",
   "metadata": {},
   "source": [
    "Лучшая модель lgm c learning_rate = 0.05, max_depth = 6 и max_estimators = 100. Лучший результат логлосса = 0.6826"
   ]
  },
  {
   "cell_type": "markdown",
   "metadata": {},
   "source": [
    "Теперь сделаем нейронную сеть. Не будем делать кросс-валидацию, обучение займет много времени, а просто разделим выборку на трейн и тест"
   ]
  },
  {
   "cell_type": "code",
   "execution_count": null,
   "metadata": {},
   "outputs": [],
   "source": [
    "X_tr, X_val, y_tr, y_val = train_test_split(X, y, test_size=0.3, random_state=42)"
   ]
  },
  {
   "cell_type": "markdown",
   "metadata": {},
   "source": [
    "Установим постоянный рендом сид"
   ]
  },
  {
   "cell_type": "code",
   "execution_count": null,
   "metadata": {},
   "outputs": [],
   "source": [
    "random.seed(0)\n",
    "np.random.seed(0)\n",
    "torch.manual_seed(0)\n",
    "torch.use_deterministic_algorithms(True)"
   ]
  },
  {
   "cell_type": "markdown",
   "metadata": {},
   "source": [
    "сделаем енкодинг категориальных и кол-ных признаков"
   ]
  },
  {
   "cell_type": "code",
   "execution_count": null,
   "metadata": {},
   "outputs": [],
   "source": [
    "X_train_prep = preprocessor.fit_transform(X_tr)\n",
    "X_valid_prep = preprocessor.transform(X_val)"
   ]
  },
  {
   "cell_type": "markdown",
   "metadata": {},
   "source": [
    "подготовим данные к обучению"
   ]
  },
  {
   "cell_type": "code",
   "execution_count": null,
   "metadata": {},
   "outputs": [],
   "source": [
    "features_count = X_train_prep.shape[1]\n",
    "\n",
    "X_train = torch.Tensor(X_train_prep.toarray())\n",
    "X_valid = torch.Tensor(X_valid_prep.toarray())\n",
    "y_train = torch.Tensor(y_tr.to_numpy())\n",
    "y_valid = torch.Tensor(y_val.to_numpy())"
   ]
  },
  {
   "cell_type": "markdown",
   "metadata": {},
   "source": [
    "сделаем сетку для гиперпараметров. Установим кол-во скрытых слоев равное 2. Возьмем 10 случайных вариантов"
   ]
  },
  {
   "cell_type": "code",
   "execution_count": null,
   "metadata": {},
   "outputs": [],
   "source": [
    "rng = np.random.RandomState(0)\n",
    "\n",
    "grid = {\n",
    "    \"n_neurons_in\": [features_count],\n",
    "    \"n_neurons_out\": [1],\n",
    "    \"n_hidden_1\": [12, 8],\n",
    "    \"n_hidden_2\": [6, 4],\n",
    "    \"activation_1\": [nn.Tanh(), nn.ReLU(), None],\n",
    "    \"activation_2\": [nn.Tanh(), nn.ReLU(), None],\n",
    "    \"activation_out\": [nn.Sigmoid()],\n",
    "    \"learning_rate\": [0.1, 0.05]\n",
    "}\n",
    "\n",
    "grid_list = list(ParameterSampler(grid, n_iter=10,\n",
    "                                      random_state=rng))\n"
   ]
  },
  {
   "cell_type": "markdown",
   "metadata": {},
   "source": [
    "Обучим сетки. Будем использовать Dropout, чтобы обучение прошло быстрее. Для каждого параметра сохраним лучший результат. Выведем результаты на экран"
   ]
  },
  {
   "cell_type": "code",
   "execution_count": null,
   "metadata": {},
   "outputs": [],
   "source": [
    "num_epochs = 100\n",
    "results = {}\n",
    "\n",
    "for i, param in enumerate(grid_list):\n",
    "\n",
    "\tbest_score_current_param = 10e+10000\n",
    "\tnet_layers = []\n",
    "\n",
    "\tnet_layers.append(nn.Linear(param[\"n_neurons_in\"], param[\"n_hidden_1\"]))\n",
    "\tnet_layers.append(nn.Dropout(p=0.5))\n",
    "\n",
    "\tif param[\"activation_1\"] is not None:\n",
    "\t\tnet_layers.append(param[\"activation_1\"])\n",
    "\t\n",
    "\tnet_layers.append(nn.Linear(param[\"n_hidden_1\"], param[\"n_hidden_2\"]))\n",
    "\tnet_layers.append(nn.Dropout(p=0.5))\n",
    "\n",
    "\tif param[\"activation_2\"] is not None:\n",
    "\t\tnet_layers.append(param[\"activation_2\"])\n",
    "\n",
    "\tnet_layers.append(nn.Linear(param[\"n_hidden_2\"], param[\"n_neurons_out\"]))\n",
    "\t\n",
    "\tif param[\"activation_out\"] is not None:\n",
    "\t\tnet_layers.append(param[\"activation_out\"])\n",
    "\n",
    "\tnet = nn.Sequential(*net_layers) \n",
    "\toptimizer = torch.optim.Adam(net.parameters(), lr=param[\"learning_rate\"])\n",
    "\tloss = nn.BCELoss()\n",
    "\t\n",
    "\tfor epoch in range(num_epochs):\n",
    "\n",
    "\t\tpreds = net.forward(X_train)      \n",
    "\t\tloss_value = loss(preds, y_train)\n",
    "\n",
    "\t\toptimizer.zero_grad()\n",
    "\t\tloss_value.backward()        \n",
    "\t\toptimizer.step()\n",
    "\n",
    "\t\tif epoch % 10 == 0 or epoch == num_epochs - 1:\n",
    "\t\t\tnet.eval()\n",
    "\t\t\tvalid_preds = net.forward(X_valid)\n",
    "\t\t\trecall_valid = log_loss(y_valid, valid_preds.detach().numpy())\n",
    "\n",
    "\t\t\tis_best_current_param = recall_valid < best_score_current_param\n",
    "\t\t\tbest_score_current_param = min(recall_valid, best_score_current_param)\n",
    "\n",
    "\t\t\tif is_best_current_param:\n",
    "\t\t\t\tresults[i] = (param, best_score_current_param)"
   ]
  },
  {
   "cell_type": "markdown",
   "metadata": {},
   "source": [
    "Посмотрим результат"
   ]
  },
  {
   "cell_type": "code",
   "execution_count": null,
   "metadata": {},
   "outputs": [
    {
     "data": {
      "text/html": [
       "<div>\n",
       "<style scoped>\n",
       "    .dataframe tbody tr th:only-of-type {\n",
       "        vertical-align: middle;\n",
       "    }\n",
       "\n",
       "    .dataframe tbody tr th {\n",
       "        vertical-align: top;\n",
       "    }\n",
       "\n",
       "    .dataframe thead th {\n",
       "        text-align: right;\n",
       "    }\n",
       "</style>\n",
       "<table border=\"1\" class=\"dataframe\">\n",
       "  <thead>\n",
       "    <tr style=\"text-align: right;\">\n",
       "      <th></th>\n",
       "      <th>n_hidden_2</th>\n",
       "      <th>n_hidden_1</th>\n",
       "      <th>learning_rate</th>\n",
       "      <th>activation_2</th>\n",
       "      <th>activation_1</th>\n",
       "      <th>logloss_score</th>\n",
       "    </tr>\n",
       "  </thead>\n",
       "  <tbody>\n",
       "    <tr>\n",
       "      <th>6</th>\n",
       "      <td>4</td>\n",
       "      <td>8</td>\n",
       "      <td>0.05</td>\n",
       "      <td>Tanh()</td>\n",
       "      <td>Tanh()</td>\n",
       "      <td>0.684298</td>\n",
       "    </tr>\n",
       "    <tr>\n",
       "      <th>3</th>\n",
       "      <td>6</td>\n",
       "      <td>8</td>\n",
       "      <td>0.05</td>\n",
       "      <td>None</td>\n",
       "      <td>Tanh()</td>\n",
       "      <td>0.685623</td>\n",
       "    </tr>\n",
       "    <tr>\n",
       "      <th>8</th>\n",
       "      <td>6</td>\n",
       "      <td>8</td>\n",
       "      <td>0.10</td>\n",
       "      <td>ReLU()</td>\n",
       "      <td>ReLU()</td>\n",
       "      <td>0.685875</td>\n",
       "    </tr>\n",
       "    <tr>\n",
       "      <th>2</th>\n",
       "      <td>6</td>\n",
       "      <td>12</td>\n",
       "      <td>0.10</td>\n",
       "      <td>Tanh()</td>\n",
       "      <td>None</td>\n",
       "      <td>0.685882</td>\n",
       "    </tr>\n",
       "    <tr>\n",
       "      <th>4</th>\n",
       "      <td>6</td>\n",
       "      <td>8</td>\n",
       "      <td>0.05</td>\n",
       "      <td>Tanh()</td>\n",
       "      <td>ReLU()</td>\n",
       "      <td>0.686006</td>\n",
       "    </tr>\n",
       "  </tbody>\n",
       "</table>\n",
       "</div>"
      ],
      "text/plain": [
       "   n_hidden_2  n_hidden_1  learning_rate activation_2 activation_1  \\\n",
       "6           4           8           0.05       Tanh()       Tanh()   \n",
       "3           6           8           0.05         None       Tanh()   \n",
       "8           6           8           0.10       ReLU()       ReLU()   \n",
       "2           6          12           0.10       Tanh()         None   \n",
       "4           6           8           0.05       Tanh()       ReLU()   \n",
       "\n",
       "   logloss_score  \n",
       "6       0.684298  \n",
       "3       0.685623  \n",
       "8       0.685875  \n",
       "2       0.685882  \n",
       "4       0.686006  "
      ]
     },
     "execution_count": 66,
     "metadata": {},
     "output_type": "execute_result"
    }
   ],
   "source": [
    "results_df = pd.DataFrame.from_dict(results, orient='index')\n",
    "unpack_params = results_df[0].apply(pd.Series).drop(columns={\"n_neurons_out\", \"n_neurons_in\", \"activation_out\"}, axis=1)\n",
    "unpack_params[\"logloss_score\"] = results_df[1]\n",
    "results_baseline_df = unpack_params.sort_values(by=\"logloss_score\", ascending=True)\n",
    "results_baseline_df.head()"
   ]
  },
  {
   "cell_type": "markdown",
   "metadata": {},
   "source": [
    "Лучший результат среди всех сеток 0.6846, что меньше, чем у lgm. Выберем полученную lgm, как лучшую модель"
   ]
  },
  {
   "cell_type": "markdown",
   "metadata": {},
   "source": [
    "Посторим для нее таблицу precision, recall, f1 для каждого класса"
   ]
  },
  {
   "cell_type": "code",
   "execution_count": null,
   "metadata": {},
   "outputs": [],
   "source": [
    "lgm_result = results_boosting['lgm']\n",
    "lgm_pipeline = lgm_result.best_estimator_\n",
    "lgm_model = lgm_result.best_estimator_[1]\n",
    "feature_names = lgm_pipeline[:-1].get_feature_names_out()"
   ]
  },
  {
   "cell_type": "code",
   "execution_count": null,
   "metadata": {},
   "outputs": [
    {
     "name": "stdout",
     "output_type": "stream",
     "text": [
      "              precision    recall  f1-score   support\n",
      "\n",
      "     class 0       0.56      0.88      0.69     16215\n",
      "     class 1       0.60      0.21      0.31     14076\n",
      "\n",
      "    accuracy                           0.57     30291\n",
      "   macro avg       0.58      0.54      0.50     30291\n",
      "weighted avg       0.58      0.57      0.51     30291\n",
      "\n"
     ]
    }
   ],
   "source": [
    "target_names = ['class 0', 'class 1']\n",
    "preds = lgm_model.predict(X_valid)\n",
    "\n",
    "print(classification_report(y_valid, preds, target_names=target_names))"
   ]
  },
  {
   "cell_type": "markdown",
   "metadata": {},
   "source": [
    "Построим матрицу ошибок"
   ]
  },
  {
   "cell_type": "code",
   "execution_count": null,
   "metadata": {},
   "outputs": [
    {
     "data": {
      "text/plain": [
       "<sklearn.metrics._plot.confusion_matrix.ConfusionMatrixDisplay at 0x167677b48b0>"
      ]
     },
     "execution_count": 69,
     "metadata": {},
     "output_type": "execute_result"
    },
    {
     "data": {
      "image/png": "[encoded data removed]",
      "text/plain": [
       "<Figure size 576x576 with 2 Axes>"
      ]
     },
     "metadata": {
      "needs_background": "light"
     },
     "output_type": "display_data"
    }
   ],
   "source": [
    "cm = confusion_matrix(y_valid, preds)\n",
    "disp = ConfusionMatrixDisplay(confusion_matrix=cm,\n",
    "                               display_labels=lgm_model.classes_)\n",
    "fig, ax = plt.subplots(figsize=(8,8))\n",
    "disp.plot(ax=ax)                              "
   ]
  },
  {
   "cell_type": "markdown",
   "metadata": {},
   "source": [
    "Построим график precision/recall"
   ]
  },
  {
   "cell_type": "code",
   "execution_count": null,
   "metadata": {},
   "outputs": [],
   "source": [
    "precision, recall, _ = precision_recall_curve(y_valid, preds)"
   ]
  },
  {
   "cell_type": "code",
   "execution_count": null,
   "metadata": {},
   "outputs": [
    {
     "data": {
      "text/plain": [
       "<sklearn.metrics._plot.precision_recall_curve.PrecisionRecallDisplay at 0x1676ab19b10>"
      ]
     },
     "execution_count": 71,
     "metadata": {},
     "output_type": "execute_result"
    },
    {
     "data": {
      "image/png": "[encoded data removed]",
      "text/plain": [
       "<Figure size 432x432 with 1 Axes>"
      ]
     },
     "metadata": {
      "needs_background": "light"
     },
     "output_type": "display_data"
    }
   ],
   "source": [
    "disp = PrecisionRecallDisplay(precision=precision, recall=recall)\n",
    "fig, ax = plt.subplots(figsize=(6,6))\n",
    "disp.plot(ax=ax) "
   ]
  },
  {
   "cell_type": "markdown",
   "metadata": {},
   "source": [
    "Найдем feature importance нашей модели"
   ]
  },
  {
   "cell_type": "code",
   "execution_count": null,
   "metadata": {},
   "outputs": [
    {
     "data": {
      "text/plain": [
       "num__distance                                            1071\n",
       "cat__vehicle_type_hatchback                               150\n",
       "cat__vehicle_type_coupe                                   147\n",
       "cat__vehicle_transmission_auto                            144\n",
       "cat__vehicle_age_3                                        113\n",
       "cat__lighting_daylight                                    112\n",
       "cat__location_type_ramp                                   107\n",
       "cat__vehicle_type_minivan                                 105\n",
       "cat__cellphone_in_use_0                                    99\n",
       "cat__vehicle_type_sedan                                    97\n",
       "cat__vehicle_age_2                                         86\n",
       "cat__lighting_dark with no street lights                   84\n",
       "cat__weather_1_clear                                       76\n",
       "cat__vehicle_age_1                                         70\n",
       "cat__lighting_dusk or dawn                                 58\n",
       "cat__location_type_highway                                 43\n",
       "cat__weather_1_fog                                         43\n",
       "cat__vehicle_age_4                                         39\n",
       "cat__weather_1_raining                                     38\n",
       "cat__lighting_dark with street lights                      35\n",
       "cat__weather_1_cloudy                                      33\n",
       "cat__vehicle_age_7                                         26\n",
       "cat__vehicle_age_0                                         23\n",
       "cat__vehicle_age_13                                        23\n",
       "cat__vehicle_age_11                                        23\n",
       "cat__vehicle_type_other                                    22\n",
       "cat__weather_1_snowing                                     18\n",
       "cat__location_type_intersection                            15\n",
       "cat__vehicle_age_10                                        13\n",
       "cat__vehicle_age_5                                         13\n",
       "cat__vehicle_age_6                                         11\n",
       "cat__vehicle_age_9                                         11\n",
       "cat__vehicle_age_8                                          9\n",
       "cat__vehicle_age_12                                         7\n",
       "cat__lighting_dark with street lights not functioning       4\n",
       "cat__vehicle_transmission_manual                            1\n",
       "cat__weather_1_other                                        0\n",
       "cat__cellphone_in_use_1                                     0\n",
       "cat__weather_1_wind                                         0\n",
       "cat__vehicle_age_14                                         0\n",
       "dtype: int32"
      ]
     },
     "execution_count": 72,
     "metadata": {},
     "output_type": "execute_result"
    }
   ],
   "source": [
    "pd.Series(lgm_model.feature_importances_, index=feature_names).sort_values(ascending=False)"
   ]
  },
  {
   "cell_type": "markdown",
   "metadata": {},
   "source": [
    "Distance считается моделью самым значимым параметром. Посмотрим для него график зависимости для таргета"
   ]
  },
  {
   "cell_type": "code",
   "execution_count": null,
   "metadata": {},
   "outputs": [
    {
     "data": {
      "text/plain": [
       "(0.0, 4000.0)"
      ]
     },
     "execution_count": 73,
     "metadata": {},
     "output_type": "execute_result"
    },
    {
     "data": {
      "image/png": "[encoded data removed]",
      "text/plain": [
       "<Figure size 906.375x576 with 1 Axes>"
      ]
     },
     "metadata": {
      "needs_background": "light"
     },
     "output_type": "display_data"
    }
   ],
   "source": [
    "df = X.copy()\n",
    "df['target'] = y\n",
    "sns.displot(data=df, x=\"distance\", hue='target', kde=True, height=8, aspect=1.5)\n",
    "plt.xlim(0, 1500)\n",
    "plt.ylim(0, 4000)\n",
    "# figure size in inches\n"
   ]
  },
  {
   "cell_type": "markdown",
   "metadata": {},
   "source": [
    "По нему сложно интерпретировать результат, но можно сказать, что плотности распределения на больших дистанциях сильнее сближаются, следовательно вероятность аварии возрастает. С другой стороны, у нас таких примеров в разы меньше, чем на меньшие дистанции"
   ]
  },
  {
   "cell_type": "markdown",
   "metadata": {},
   "source": [
    "## Общий вывод"
   ]
  },
  {
   "cell_type": "markdown",
   "metadata": {},
   "source": [
    "Целью исследования было построение модели, указывающией водителю каршеринга на вероятность возможной аварии по пути. Нам были даны исторические данные аварий одного из регионов. С моей точки зрения этого мало, т.к нам нужно не только понять будет ли этот конкретный водитель виновником происшедствия, но и общий шанс того, что авария может произойти, не обязательно по его вине. Для этого нужно собрать не только данные, где авария произошла, но и где ее в похожих случаях не случилось, и поездка прошла успешно. И дальше нужно искать различия в причинах того или иного исхода.<br>\n",
    "\n",
    "В нашей ситуации мы построили модель, которая только может определять, если случится авария, она случится по вине клиента или нет. Сама модель получилась плохого качества. Recall для \"1\" класса равняется 0.2. Это значит, что она определяет только одну пятую всех случаев с виной водителя. Precision тоже низкий, чуть выше 50%, т.е среди найденных \"1\" только половина верна, это как бросок монетки.<br>\n",
    "\n",
    "Лучшая модель получилась lightgbm. Самым значимым параметром она считает дистанцию маршрута, что интуитивно кажется верным. Можно сделать систему, подсказывающую клиенту через какое-то количество киллометров остановиться и сделать отдых, если он долго находится за рулем.\n"
   ]
  }
 ],
 "metadata": {
  "interpreter": {
   "hash": "d488093d919f573c925b0a84f2a24fea75905f9dd1b6664dfb65159487c96672"
  },
  "kernelspec": {
   "display_name": "Python 3.10.0 64-bit",
   "language": "python",
   "name": "python3"
  },
  "language_info": {
   "codemirror_mode": {
    "name": "ipython",
    "version": 3
   },
   "file_extension": ".py",
   "mimetype": "text/x-python",
   "name": "python",
   "nbconvert_exporter": "python",
   "pygments_lexer": "ipython3",
   "version": "3.10.0 (tags/v3.10.0:b494f59, Oct  4 2021, 19:00:18) [MSC v.1929 64 bit (AMD64)]"
  },
  "orig_nbformat": 4
 },
 "nbformat": 4,
 "nbformat_minor": 2
}

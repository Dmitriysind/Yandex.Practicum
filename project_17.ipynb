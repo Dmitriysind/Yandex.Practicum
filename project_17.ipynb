{
 "cells": [
  {
   "attachments": {},
   "cell_type": "markdown",
   "metadata": {},
   "source": [
    "# Определение возраста покупателей"
   ]
  },
  {
   "attachments": {},
   "cell_type": "markdown",
   "metadata": {},
   "source": [
    "Дан датасет APPA-REAL. Нужно построить модель, которая выдаст на нем результат MAE не выше 8."
   ]
  },
  {
   "attachments": {},
   "cell_type": "markdown",
   "metadata": {},
   "source": [
    "## Исследовательский анализ данных"
   ]
  },
  {
   "cell_type": "code",
   "execution_count": null,
   "metadata": {},
   "outputs": [],
   "source": [
    "import pandas as pd\n",
    "from keras.preprocessing.image import ImageDataGenerator\n",
    "import matplotlib.pyplot as plt"
   ]
  },
  {
   "attachments": {},
   "cell_type": "markdown",
   "metadata": {},
   "source": [
    "Загрузим датасет\n"
   ]
  },
  {
   "cell_type": "code",
   "execution_count": null,
   "metadata": {},
   "outputs": [],
   "source": [
    "labels = pd.read_csv('/datasets/faces/labels.csv')"
   ]
  },
  {
   "cell_type": "code",
   "execution_count": null,
   "metadata": {},
   "outputs": [],
   "source": [
    "datagen = ImageDataGenerator(rescale=1./255)\n",
    "gen_flow = datagen.flow_from_dataframe(\n",
    "        dataframe=labels,\n",
    "        directory='/datasets/faces/final_files/',\n",
    "        x_col='file_name',\n",
    "        y_col='real_age',\n",
    "        target_size=(224, 224),\n",
    "        batch_size=32,\n",
    "        class_mode='raw',\n",
    "        seed=12345) "
   ]
  },
  {
   "attachments": {},
   "cell_type": "markdown",
   "metadata": {},
   "source": [
    "Посмотрим на распределение таргета\n"
   ]
  },
  {
   "cell_type": "code",
   "execution_count": null,
   "metadata": {},
   "outputs": [],
   "source": [
    "labels['real_age'].describe()"
   ]
  },
  {
   "cell_type": "code",
   "execution_count": null,
   "metadata": {},
   "outputs": [],
   "source": [
    "labels['real_age'].hist(bins=100)"
   ]
  },
  {
   "attachments": {},
   "cell_type": "markdown",
   "metadata": {},
   "source": [
    "Нормальное распределение со среднем в 30 лет\n",
    "\n",
    "1) Всего 7591 фотография. Минимальный возраст 1 год, максимальный 100. Среднее 30 лет.\n",
    "2) Вокруг этого среднего модель должна показывать наилучший результат. Качество должно падать при приближении к 10 лет, а потом снова расти из-за того что в выборки присутствует большое кол-во детских фотографий.\n",
    "3) Так же качество должно падать при приближении к 100, за исключением всплесков, которые приходятся на круглые даты: 30, 40, 50, 60 лет. Следовательно модель должна показывать на таких значениях результат выше, чем на остальных. Что говорит о невысоком качестве выборки"
   ]
  },
  {
   "attachments": {},
   "cell_type": "markdown",
   "metadata": {},
   "source": [
    "Посмотрим примеры фотографий\n"
   ]
  },
  {
   "cell_type": "code",
   "execution_count": null,
   "metadata": {},
   "outputs": [],
   "source": [
    "features, target = next(train_gen_flow)"
   ]
  },
  {
   "cell_type": "code",
   "execution_count": null,
   "metadata": {},
   "outputs": [],
   "source": [
    "fig = plt.figure(figsize=(10,10))\n",
    "for i in range(12):\n",
    "    fig.add_subplot(4, 4, i+1)\n",
    "    plt.imshow(features[i])\n",
    "    plt.xticks([])\n",
    "    plt.yticks([])\n",
    "    plt.tight_layout()"
   ]
  },
  {
   "attachments": {},
   "cell_type": "markdown",
   "metadata": {},
   "source": [
    "Присутствуют фотографии с поворотом, с рамками, неполные фотографии.\n"
   ]
  },
  {
   "attachments": {},
   "cell_type": "markdown",
   "metadata": {},
   "source": [
    "## Обучение модели"
   ]
  },
  {
   "attachments": {},
   "cell_type": "markdown",
   "metadata": {},
   "source": [
    "Возьмем модель ResNet50. Скачаем веса от обучения на ImageNet. Будем обучать, как сверточный, так и полносвязный слой.\n",
    "Код:"
   ]
  },
  {
   "cell_type": "code",
   "execution_count": 2,
   "metadata": {},
   "outputs": [],
   "source": [
    "from keras.layers import Dense, GlobalAveragePooling2D\n",
    "from keras.models import Sequential\n",
    "from keras.preprocessing.image import ImageDataGenerator\n",
    "from keras.applications.resnet import ResNet50\n",
    "from keras.optimizers import Adam\n",
    "import pandas as pd\n",
    "\n",
    "\n",
    "datagen_train = ImageDataGenerator(\n",
    "                        rescale=1./255,\n",
    "                        validation_split=0.25,\n",
    "                        horizontal_flip=True,\n",
    "                        vertical_flip=True,\n",
    "                        rotation_range=20\n",
    "                        )\n",
    "\n",
    "datagen_test = ImageDataGenerator(\n",
    "                        rescale=1./255,\n",
    "                        validation_split=0.25,\n",
    "                        )\n",
    "\n",
    "def load_train(path):\n",
    "    labels = pd.read_csv(path + \"labels.csv\")\n",
    "\n",
    "    train_datagen_flow = datagen_train.flow_from_dataframe(\n",
    "        dataframe=labels,\n",
    "        x_col='file_name',\n",
    "        y_col='real_age',\n",
    "        directory=path + \"/final_files\",\n",
    "        target_size=(224, 224),\n",
    "        batch_size=32,\n",
    "        subset=\"training\",\n",
    "        class_mode='raw',\n",
    "        seed=12345,\n",
    "    )\n",
    "\n",
    "    return train_datagen_flow    \n",
    "\n",
    "def load_test(path):\n",
    "    labels = pd.read_csv(path + \"labels.csv\")\n",
    "\n",
    "    test_datagen_flow = datagen_test.flow_from_dataframe(\n",
    "        dataframe=labels,\n",
    "        x_col='file_name',\n",
    "        y_col='real_age',\n",
    "        directory=path + \"/final_files\",\n",
    "        target_size=(224, 224),\n",
    "        batch_size=32,\n",
    "        subset=\"validation\",\n",
    "        class_mode='raw',\n",
    "        seed=12345,\n",
    "    )\n",
    "\n",
    "    return test_datagen_flow    \n",
    "\n",
    "\n",
    "def create_model(input_shape):\n",
    "    \n",
    "    backbone = ResNet50(input_shape=input_shape,\n",
    "                        include_top=False,\n",
    "                        weights='/datasets/keras_models/resnet50_weights_tf_dim_ordering_tf_kernels_notop.h5',\n",
    "                        )                     \n",
    "\n",
    "    model = Sequential()\n",
    "    model.add(backbone)\n",
    "    model.add(GlobalAveragePooling2D())\n",
    "    # model.add(Dense(128, activator=\"relu\"))\n",
    "    model.add(Dense(1, activation='relu'))                     \n",
    "\n",
    "    optimizer = Adam(learning_rate=0.0001)\n",
    "\n",
    "    model.compile(\n",
    "            optimizer=optimizer,\n",
    "            loss = \"mean_absolute_error\",\n",
    "            metrics=[\"mae\"])\n",
    "\n",
    "    return model\n",
    "\n",
    "def train_model(model, train_data, test_data, batch_size=None, epochs=10,\n",
    "               steps_per_epoch=None, validation_steps=None):\n",
    "\n",
    "    model.fit(train_data, \n",
    "              validation_data=test_data,\n",
    "              batch_size=batch_size, epochs=epochs,\n",
    "              steps_per_epoch=steps_per_epoch,\n",
    "              validation_steps=validation_steps,\n",
    "              verbose=2, shuffle=True)\n",
    "\n",
    "    return model         "
   ]
  },
  {
   "attachments": {},
   "cell_type": "markdown",
   "metadata": {},
   "source": [
    "Вывод модели:"
   ]
  },
  {
   "attachments": {},
   "cell_type": "markdown",
   "metadata": {},
   "source": [
    "<class 'keras.engine.sequential.Sequential'>\n",
    "\n",
    "Epoch 1/15\n",
    "\n",
    "2022-09-06 15:49:44.967157: I tensorflow/stream_executor/platform/default/dso_loader.cc:44] Successfully opened dynamic library libcublas.so.10\n",
    "\n",
    "2022-09-06 15:49:45.296217: I tensorflow/stream_executor/platform/default/dso_loader.cc:44] Successfully opened dynamic library libcudnn.so.7\n",
    "\n",
    "    118s - loss: 12.0127 - mae: 12.0134 - val_loss: 24.6058 - val_mae: 25.5783\n",
    "\n",
    "Epoch 2/15\n",
    "\n",
    "    89s - loss: 8.5904 - mae: 8.5901 - val_loss: 24.1549 - val_mae: 24.7032\n",
    "\n",
    "Epoch 3/15\n",
    "\n",
    "    89s - loss: 7.7933 - mae: 7.7934 - val_loss: 11.5024 - val_mae: 12.7224\n",
    "\n",
    "Epoch 4/15\n",
    "\n",
    "    93s - loss: 7.3236 - mae: 7.3227 - val_loss: 4.9238 - val_mae: 9.0986\n",
    "\n",
    "Epoch 5/15\n",
    "\n",
    "    85s - loss: 6.9226 - mae: 6.9227 - val_loss: 7.5137 - val_mae: 7.5813\n",
    "\n",
    "Epoch 6/15\n",
    "\n",
    "    85s - loss: 6.6754 - mae: 6.6749 - val_loss: 14.1526 - val_mae: 7.6289\n",
    "\n",
    "Epoch 7/15\n",
    "\n",
    "    94s - loss: 6.4776 - mae: 6.4783 - val_loss: 8.0979 - val_mae: 7.3746\n",
    "\n",
    "Epoch 8/15\n",
    "\n",
    "    86s - loss: 6.1774 - mae: 6.1771 - val_loss: 8.4167 - val_mae: 7.3070\n",
    "\n",
    "Epoch 9/15\n",
    "\n",
    "    93s - loss: 6.0592 - mae: 6.0593 - val_loss: 7.1106 - val_mae: 6.4689\n",
    "\n",
    "Epoch 10/15\n",
    "\n",
    "    92s - loss: 5.8745 - mae: 5.8749 - val_loss: 6.2747 - val_mae: 7.2008\n",
    "\n",
    "Epoch 11/15\n",
    "\n",
    "    96s - loss: 5.6118 - mae: 5.6119 - val_loss: 6.9747 - val_mae: 8.1291\n",
    "\n",
    "Epoch 12/15\n",
    "\n",
    "    85s - loss: 5.6475 - mae: 5.6478 - val_loss: 9.3070 - val_mae: 7.4224\n",
    "\n",
    "Epoch 13/15\n",
    "\n",
    "    84s - loss: 5.3967 - mae: 5.3961 - val_loss: 6.6267 - val_mae: 6.4946\n",
    "\n",
    "Epoch 14/15\n",
    "\n",
    "    93s - loss: 5.3573 - mae: 5.3573 - val_loss: 4.4750 - val_mae: 7.9123\n",
    "\n",
    "Epoch 15/15\n",
    "\n",
    "    92s - loss: 5.1263 - mae: 5.1263 - val_loss: 5.2615 - val_mae: 6.2807\n",
    "\n",
    "Test MAE: 6.2807\n"
   ]
  },
  {
   "attachments": {},
   "cell_type": "markdown",
   "metadata": {},
   "source": [
    "## Анализ обученной модели"
   ]
  },
  {
   "attachments": {},
   "cell_type": "markdown",
   "metadata": {},
   "source": [
    "Мы обучили модель ResNet50 на датасете APPA-REAL. Использовалась архитектура бэкбон + голова. Обучался, как сверточный, так и полносвязный слой.<br> Использовались предобученные веса от обучения на ImageNet.<br><br>Параметры обучения:<br> Размер батча = 32<br> Оптимизатор = Adam<br> Learning rate = 0.0001<br> Количество эпох = 15<br><br>В датасете фотографии людей соотнесены с их возрастом(таргет). Мы добавили следующие аугментации:<br> -горизонтальный флип <br> -вертикалальный флип <br> -поворот до 20 градусов <br><br> Была задача получить MAE меньше \"8\". При обучении сеть несколько раз переобучалась, но через эпоху показывала все более лучший результат. В нашем случае модель показала результат в \"6.2\". Это значит, что в среднем на каждой фотографии модель будет ошибаться в \"6.2\" лет."
   ]
  },
  {
   "cell_type": "code",
   "execution_count": null,
   "metadata": {},
   "outputs": [],
   "source": []
  }
 ],
 "metadata": {
  "kernelspec": {
   "display_name": "Python 3",
   "language": "python",
   "name": "python3"
  },
  "language_info": {
   "codemirror_mode": {
    "name": "ipython",
    "version": 3
   },
   "file_extension": ".py",
   "mimetype": "text/x-python",
   "name": "python",
   "nbconvert_exporter": "python",
   "pygments_lexer": "ipython3",
   "version": "3.10.0"
  },
  "orig_nbformat": 4,
  "vscode": {
   "interpreter": {
    "hash": "d488093d919f573c925b0a84f2a24fea75905f9dd1b6664dfb65159487c96672"
   }
  }
 },
 "nbformat": 4,
 "nbformat_minor": 2
}

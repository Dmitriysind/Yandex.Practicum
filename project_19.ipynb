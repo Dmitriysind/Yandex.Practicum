{
 "cells": [
  {
   "attachments": {},
   "cell_type": "markdown",
   "metadata": {},
   "source": [
    "<h1><center>Отток клиентов мобильного оператора</center></h1>"
   ]
  },
  {
   "attachments": {},
   "cell_type": "markdown",
   "metadata": {},
   "source": [
    "# Введение"
   ]
  },
  {
   "cell_type": "markdown",
   "metadata": {},
   "source": [
    "Цель проекта: За три месяца уменьшить отток пользователей на 15%"
   ]
  },
  {
   "cell_type": "markdown",
   "metadata": {},
   "source": [
    "Оператор связи «ТелеДом» хочет научиться прогнозировать отток клиентов. Если выяснится, что пользователь планирует уйти, ему будут предложены промокоды и специальные условия. Команда оператора собрала персональные данные о некоторых клиентах, информацию об их тарифах и договорах. "
   ]
  },
  {
   "cell_type": "markdown",
   "metadata": {},
   "source": [
    "Описание услуг\n",
    "Оператор предоставляет два основных типа услуг:\n",
    "\n",
    "    Стационарную телефонную связь. Возможно подключение телефонного аппарата к нескольким линиям одновременно.\n",
    "    Интернет. Подключение может быть двух типов: через телефонную линию DSL (от англ. digital subscriber line — «цифровая абонентская линия») или оптоволоконный кабель (Fiber optic).\n",
    "\n",
    "Также доступны такие услуги:\n",
    "\n",
    "    Интернет-безопасность: антивирус (DeviceProtection) и блокировка небезопасных сайтов (OnlineSecurity);\n",
    "    Выделенная линия технической поддержки (TechSupport);\n",
    "    Облачное хранилище файлов для резервного копирования данных (OnlineBackup);\n",
    "    Стриминговое телевидение (StreamingTV) и каталог фильмов (StreamingMovies).\n",
    "\n",
    "За услуги клиенты могут платить каждый месяц или заключить договор на 1–2 года. Доступны различные способы расчёта и возможность получения электронного чека."
   ]
  },
  {
   "cell_type": "markdown",
   "metadata": {},
   "source": [
    "Описание данных\n",
    "Данные хранятся в таблицах в базе данных PostgreSQL:\n",
    "\n",
    "    contract — информация о договоре,\n",
    "    personal — персональные данные клиента,\n",
    "    internet — информация об интернет-услугах,\n",
    "    phone — информация об услугах телефонии.\n",
    "\n",
    "Таблица telecom.contract\n",
    "\n",
    "    customerID — ID пользователя,\n",
    "    BeginDate — дата начала действия,\n",
    "    EndDate — дата окончания действия,\n",
    "    Type — тип оплаты (раз в год или помесячно),\n",
    "    PaperlessBilling — безбумажный расчётный лист,\n",
    "    PaymentMethod — тип платежа,\n",
    "    MonthlyCharges — расход за месяц,\n",
    "    TotalCharges — общие расходы.\n",
    "\n",
    "Таблица personal\n",
    "\n",
    "    customerID — ID пользователя,\n",
    "    gender — пол,\n",
    "    SeniorCitizen — является ли абонент пенсионером,\n",
    "    Partner — есть ли у абонента супруг/супруга,\n",
    "    Dependents — есть ли у абонента дети.\n",
    "\n",
    "Таблица telecom.internet\n",
    "\n",
    "    customerID — ID пользователя,\n",
    "    InternetService — тип подключения,\n",
    "    OnlineSecurity — блокировка небезопасных сайтов,\n",
    "    OnlineBackup — облачное хранилище файлов для резервного копирования данных,\n",
    "    DeviceProtection — антивирус,\n",
    "    TechSupport — выделенная линия технической поддержки,\n",
    "    StreamingTV — стриминговое телевидение,\n",
    "    StreamingMovies — каталог фильмов.\n",
    "\n",
    "Таблица telecom.phone\n",
    "\n",
    "    customerID — ID пользователя,\n",
    "    MultipleLines — подключение телефонного аппарата к нескольким линиям одновременно.\n",
    "\n",
    "Информация о договорах актуальна на 1 февраля 2020."
   ]
  },
  {
   "cell_type": "markdown",
   "metadata": {},
   "source": [
    "Алгоритм работы:\n",
    "\n",
    "    Загрузка данных\n",
    "    Обработка данных\n",
    "    Исследовательский анализ данных\n",
    "    Обучение моделей\n",
    "    Тестирование лучшей модели\n",
    "    Общий вывод\n",
    "\n"
   ]
  },
  {
   "cell_type": "markdown",
   "metadata": {},
   "source": [
    "Загрузим библиотеки"
   ]
  },
  {
   "cell_type": "code",
   "execution_count": 192,
   "metadata": {},
   "outputs": [
    {
     "data": {
      "text/plain": [
       "['Requirement already satisfied: phik in /opt/conda/lib/python3.9/site-packages (0.12.2)',\n",
       " 'Requirement already satisfied: scipy>=1.5.2 in /opt/conda/lib/python3.9/site-packages (from phik) (1.9.1)',\n",
       " 'Requirement already satisfied: pandas>=0.25.1 in /opt/conda/lib/python3.9/site-packages (from phik) (1.2.4)',\n",
       " 'Requirement already satisfied: matplotlib>=2.2.3 in /opt/conda/lib/python3.9/site-packages (from phik) (3.3.4)',\n",
       " 'Requirement already satisfied: numpy>=1.18.0 in /opt/conda/lib/python3.9/site-packages (from phik) (1.21.1)',\n",
       " 'Requirement already satisfied: joblib>=0.14.1 in /opt/conda/lib/python3.9/site-packages (from phik) (1.1.0)',\n",
       " 'Requirement already satisfied: cycler>=0.10 in /opt/conda/lib/python3.9/site-packages (from matplotlib>=2.2.3->phik) (0.11.0)',\n",
       " 'Requirement already satisfied: python-dateutil>=2.1 in /opt/conda/lib/python3.9/site-packages (from matplotlib>=2.2.3->phik) (2.8.1)',\n",
       " 'Requirement already satisfied: pillow>=6.2.0 in /opt/conda/lib/python3.9/site-packages (from matplotlib>=2.2.3->phik) (8.4.0)',\n",
       " 'Requirement already satisfied: pyparsing!=2.0.4,!=2.1.2,!=2.1.6,>=2.0.3 in /opt/conda/lib/python3.9/site-packages (from matplotlib>=2.2.3->phik) (2.4.7)',\n",
       " 'Requirement already satisfied: kiwisolver>=1.0.1 in /opt/conda/lib/python3.9/site-packages (from matplotlib>=2.2.3->phik) (1.4.4)',\n",
       " 'Requirement already satisfied: pytz>=2017.3 in /opt/conda/lib/python3.9/site-packages (from pandas>=0.25.1->phik) (2021.1)',\n",
       " 'Requirement already satisfied: six>=1.5 in /opt/conda/lib/python3.9/site-packages (from python-dateutil>=2.1->matplotlib>=2.2.3->phik) (1.16.0)']"
      ]
     },
     "execution_count": 192,
     "metadata": {},
     "output_type": "execute_result"
    }
   ],
   "source": [
    "import sys\n",
    "!!{sys.executable} -m pip install skorch\n",
    "!!{sys.executable} -m pip install phik"
   ]
  },
  {
   "cell_type": "code",
   "execution_count": 193,
   "metadata": {
    "scrolled": false
   },
   "outputs": [],
   "source": [
    "import pandas as pd\n",
    "import numpy as np\n",
    "import random\n",
    "import re\n",
    "\n",
    "import torch \n",
    "import torch.nn as nn\n",
    "import skorch\n",
    "\n",
    "import phik\n",
    "from phik.report import plot_correlation_matrix\n",
    "from phik import report\n",
    "\n",
    "import matplotlib.pyplot as plt\n",
    "import seaborn as sns\n",
    "\n",
    "from sqlalchemy import create_engine\n",
    "\n",
    "from sklearn.base import BaseEstimator, TransformerMixin\n",
    "from sklearn.model_selection import train_test_split\n",
    "from sklearn.ensemble import RandomForestClassifier\n",
    "from sklearn.metrics import roc_auc_score, accuracy_score\n",
    "from sklearn.compose import ColumnTransformer\n",
    "from sklearn.preprocessing import OneHotEncoder, MinMaxScaler, OrdinalEncoder\n",
    "from sklearn.pipeline import Pipeline\n",
    "from sklearn.model_selection import GridSearchCV\n",
    "from sklearn.metrics import confusion_matrix, ConfusionMatrixDisplay\n",
    "from sklearn.metrics import classification_report\n",
    "from sklearn.metrics import (precision_recall_curve,\n",
    "                            PrecisionRecallDisplay)\n",
    "\n",
    "from torch.utils.data import TensorDataset \n",
    "from catboost import CatBoostClassifier\n",
    "from skorch import NeuralNetClassifier\n",
    "\n",
    "import warnings\n",
    "warnings.simplefilter(action='ignore', category=FutureWarning)\n",
    "pd.options.mode.chained_assignment = None"
   ]
  },
  {
   "cell_type": "markdown",
   "metadata": {},
   "source": [
    "## Загрузка данных"
   ]
  },
  {
   "cell_type": "markdown",
   "metadata": {},
   "source": [
    "Создадим соеденение"
   ]
  },
  {
   "cell_type": "code",
   "execution_count": 194,
   "metadata": {},
   "outputs": [],
   "source": [
    "db_config = {\n",
    "'user': 'praktikum_student', # имя пользователя,\n",
    "'pwd': 'Sdf4$2;d-d30pp', # пароль,\n",
    "'host': 'rc1b-wcoijxj3yxfsf3fs.mdb.yandexcloud.net',\n",
    "'port': 6432, # порт подключения,\n",
    "'db': 'data-science-final' # название базы данных,\n",
    "} "
   ]
  },
  {
   "cell_type": "code",
   "execution_count": 195,
   "metadata": {},
   "outputs": [],
   "source": [
    "connection_string = 'postgresql://{}:{}@{}:{}/{}'.format(\n",
    "    db_config['user'],\n",
    "    db_config['pwd'],\n",
    "    db_config['host'],\n",
    "    db_config['port'],\n",
    "    db_config['db'],\n",
    ")"
   ]
  },
  {
   "cell_type": "code",
   "execution_count": 196,
   "metadata": {},
   "outputs": [],
   "source": [
    "engine = create_engine(connection_string) "
   ]
  },
  {
   "cell_type": "markdown",
   "metadata": {},
   "source": [
    "Загрузим данные из таблицы contract"
   ]
  },
  {
   "cell_type": "code",
   "execution_count": 197,
   "metadata": {},
   "outputs": [
    {
     "data": {
      "text/html": [
       "<div>\n",
       "<style scoped>\n",
       "    .dataframe tbody tr th:only-of-type {\n",
       "        vertical-align: middle;\n",
       "    }\n",
       "\n",
       "    .dataframe tbody tr th {\n",
       "        vertical-align: top;\n",
       "    }\n",
       "\n",
       "    .dataframe thead th {\n",
       "        text-align: right;\n",
       "    }\n",
       "</style>\n",
       "<table border=\"1\" class=\"dataframe\">\n",
       "  <thead>\n",
       "    <tr style=\"text-align: right;\">\n",
       "      <th></th>\n",
       "      <th>customerID</th>\n",
       "      <th>BeginDate</th>\n",
       "      <th>EndDate</th>\n",
       "      <th>Type</th>\n",
       "      <th>PaperlessBilling</th>\n",
       "      <th>PaymentMethod</th>\n",
       "      <th>MonthlyCharges</th>\n",
       "      <th>TotalCharges</th>\n",
       "    </tr>\n",
       "  </thead>\n",
       "  <tbody>\n",
       "    <tr>\n",
       "      <th>0</th>\n",
       "      <td>4472-LVYGI</td>\n",
       "      <td>2020-02-01</td>\n",
       "      <td>None</td>\n",
       "      <td>Two year</td>\n",
       "      <td>Yes</td>\n",
       "      <td>Bank transfer (automatic)</td>\n",
       "      <td>52.55</td>\n",
       "      <td>NaN</td>\n",
       "    </tr>\n",
       "    <tr>\n",
       "      <th>1</th>\n",
       "      <td>3115-CZMZD</td>\n",
       "      <td>2020-02-01</td>\n",
       "      <td>None</td>\n",
       "      <td>Two year</td>\n",
       "      <td>No</td>\n",
       "      <td>Mailed check</td>\n",
       "      <td>20.25</td>\n",
       "      <td>NaN</td>\n",
       "    </tr>\n",
       "    <tr>\n",
       "      <th>2</th>\n",
       "      <td>3668-QPYBK</td>\n",
       "      <td>2018-08-09</td>\n",
       "      <td>2019-12-01</td>\n",
       "      <td>Month-to-month</td>\n",
       "      <td>Yes</td>\n",
       "      <td>Mailed check</td>\n",
       "      <td>53.85</td>\n",
       "      <td>108.15</td>\n",
       "    </tr>\n",
       "    <tr>\n",
       "      <th>3</th>\n",
       "      <td>5709-LVOEQ</td>\n",
       "      <td>2020-02-01</td>\n",
       "      <td>None</td>\n",
       "      <td>Two year</td>\n",
       "      <td>No</td>\n",
       "      <td>Mailed check</td>\n",
       "      <td>80.85</td>\n",
       "      <td>NaN</td>\n",
       "    </tr>\n",
       "    <tr>\n",
       "      <th>4</th>\n",
       "      <td>9237-HQITU</td>\n",
       "      <td>2019-01-26</td>\n",
       "      <td>2019-11-01</td>\n",
       "      <td>Month-to-month</td>\n",
       "      <td>Yes</td>\n",
       "      <td>Electronic check</td>\n",
       "      <td>70.70</td>\n",
       "      <td>151.65</td>\n",
       "    </tr>\n",
       "    <tr>\n",
       "      <th>...</th>\n",
       "      <td>...</td>\n",
       "      <td>...</td>\n",
       "      <td>...</td>\n",
       "      <td>...</td>\n",
       "      <td>...</td>\n",
       "      <td>...</td>\n",
       "      <td>...</td>\n",
       "      <td>...</td>\n",
       "    </tr>\n",
       "    <tr>\n",
       "      <th>7038</th>\n",
       "      <td>2569-WGERO</td>\n",
       "      <td>2019-01-21</td>\n",
       "      <td>None</td>\n",
       "      <td>Two year</td>\n",
       "      <td>Yes</td>\n",
       "      <td>Bank transfer (automatic)</td>\n",
       "      <td>21.15</td>\n",
       "      <td>1419.40</td>\n",
       "    </tr>\n",
       "    <tr>\n",
       "      <th>7039</th>\n",
       "      <td>6840-RESVB</td>\n",
       "      <td>2019-02-26</td>\n",
       "      <td>None</td>\n",
       "      <td>One year</td>\n",
       "      <td>Yes</td>\n",
       "      <td>Mailed check</td>\n",
       "      <td>84.80</td>\n",
       "      <td>1990.50</td>\n",
       "    </tr>\n",
       "    <tr>\n",
       "      <th>7040</th>\n",
       "      <td>2234-XADUH</td>\n",
       "      <td>2019-09-02</td>\n",
       "      <td>None</td>\n",
       "      <td>One year</td>\n",
       "      <td>Yes</td>\n",
       "      <td>Credit card (automatic)</td>\n",
       "      <td>103.20</td>\n",
       "      <td>7362.90</td>\n",
       "    </tr>\n",
       "    <tr>\n",
       "      <th>7041</th>\n",
       "      <td>4801-JZAZL</td>\n",
       "      <td>2019-06-26</td>\n",
       "      <td>None</td>\n",
       "      <td>Month-to-month</td>\n",
       "      <td>Yes</td>\n",
       "      <td>Electronic check</td>\n",
       "      <td>29.60</td>\n",
       "      <td>346.45</td>\n",
       "    </tr>\n",
       "    <tr>\n",
       "      <th>7042</th>\n",
       "      <td>3186-AJIEK</td>\n",
       "      <td>2019-04-18</td>\n",
       "      <td>None</td>\n",
       "      <td>Two year</td>\n",
       "      <td>Yes</td>\n",
       "      <td>Bank transfer (automatic)</td>\n",
       "      <td>105.65</td>\n",
       "      <td>6844.50</td>\n",
       "    </tr>\n",
       "  </tbody>\n",
       "</table>\n",
       "<p>7043 rows × 8 columns</p>\n",
       "</div>"
      ],
      "text/plain": [
       "      customerID   BeginDate     EndDate            Type PaperlessBilling  \\\n",
       "0     4472-LVYGI  2020-02-01        None        Two year              Yes   \n",
       "1     3115-CZMZD  2020-02-01        None        Two year               No   \n",
       "2     3668-QPYBK  2018-08-09  2019-12-01  Month-to-month              Yes   \n",
       "3     5709-LVOEQ  2020-02-01        None        Two year               No   \n",
       "4     9237-HQITU  2019-01-26  2019-11-01  Month-to-month              Yes   \n",
       "...          ...         ...         ...             ...              ...   \n",
       "7038  2569-WGERO  2019-01-21        None        Two year              Yes   \n",
       "7039  6840-RESVB  2019-02-26        None        One year              Yes   \n",
       "7040  2234-XADUH  2019-09-02        None        One year              Yes   \n",
       "7041  4801-JZAZL  2019-06-26        None  Month-to-month              Yes   \n",
       "7042  3186-AJIEK  2019-04-18        None        Two year              Yes   \n",
       "\n",
       "                  PaymentMethod  MonthlyCharges  TotalCharges  \n",
       "0     Bank transfer (automatic)           52.55           NaN  \n",
       "1                  Mailed check           20.25           NaN  \n",
       "2                  Mailed check           53.85        108.15  \n",
       "3                  Mailed check           80.85           NaN  \n",
       "4              Electronic check           70.70        151.65  \n",
       "...                         ...             ...           ...  \n",
       "7038  Bank transfer (automatic)           21.15       1419.40  \n",
       "7039               Mailed check           84.80       1990.50  \n",
       "7040    Credit card (automatic)          103.20       7362.90  \n",
       "7041           Electronic check           29.60        346.45  \n",
       "7042  Bank transfer (automatic)          105.65       6844.50  \n",
       "\n",
       "[7043 rows x 8 columns]"
      ]
     },
     "execution_count": 197,
     "metadata": {},
     "output_type": "execute_result"
    }
   ],
   "source": [
    "query_contract = '''\n",
    "SELECT *\n",
    "FROM telecom.contract\n",
    "'''\n",
    "\n",
    "contract_df = pd.read_sql_query(query_contract, con=engine) \n",
    "contract_df"
   ]
  },
  {
   "cell_type": "markdown",
   "metadata": {},
   "source": [
    "Все CustomerID уникальны"
   ]
  },
  {
   "cell_type": "markdown",
   "metadata": {},
   "source": [
    "Загрузим данные из таблицы personal"
   ]
  },
  {
   "cell_type": "code",
   "execution_count": 198,
   "metadata": {},
   "outputs": [
    {
     "data": {
      "text/html": [
       "<div>\n",
       "<style scoped>\n",
       "    .dataframe tbody tr th:only-of-type {\n",
       "        vertical-align: middle;\n",
       "    }\n",
       "\n",
       "    .dataframe tbody tr th {\n",
       "        vertical-align: top;\n",
       "    }\n",
       "\n",
       "    .dataframe thead th {\n",
       "        text-align: right;\n",
       "    }\n",
       "</style>\n",
       "<table border=\"1\" class=\"dataframe\">\n",
       "  <thead>\n",
       "    <tr style=\"text-align: right;\">\n",
       "      <th></th>\n",
       "      <th>customerID</th>\n",
       "      <th>gender</th>\n",
       "      <th>SeniorCitizen</th>\n",
       "      <th>Partner</th>\n",
       "      <th>Dependents</th>\n",
       "    </tr>\n",
       "  </thead>\n",
       "  <tbody>\n",
       "    <tr>\n",
       "      <th>0</th>\n",
       "      <td>7590-VHVEG</td>\n",
       "      <td>Female</td>\n",
       "      <td>0</td>\n",
       "      <td>Yes</td>\n",
       "      <td>No</td>\n",
       "    </tr>\n",
       "    <tr>\n",
       "      <th>1</th>\n",
       "      <td>5575-GNVDE</td>\n",
       "      <td>Male</td>\n",
       "      <td>0</td>\n",
       "      <td>No</td>\n",
       "      <td>No</td>\n",
       "    </tr>\n",
       "    <tr>\n",
       "      <th>2</th>\n",
       "      <td>3668-QPYBK</td>\n",
       "      <td>Male</td>\n",
       "      <td>0</td>\n",
       "      <td>No</td>\n",
       "      <td>No</td>\n",
       "    </tr>\n",
       "    <tr>\n",
       "      <th>3</th>\n",
       "      <td>7795-CFOCW</td>\n",
       "      <td>Male</td>\n",
       "      <td>0</td>\n",
       "      <td>No</td>\n",
       "      <td>No</td>\n",
       "    </tr>\n",
       "    <tr>\n",
       "      <th>4</th>\n",
       "      <td>9237-HQITU</td>\n",
       "      <td>Female</td>\n",
       "      <td>0</td>\n",
       "      <td>No</td>\n",
       "      <td>No</td>\n",
       "    </tr>\n",
       "    <tr>\n",
       "      <th>...</th>\n",
       "      <td>...</td>\n",
       "      <td>...</td>\n",
       "      <td>...</td>\n",
       "      <td>...</td>\n",
       "      <td>...</td>\n",
       "    </tr>\n",
       "    <tr>\n",
       "      <th>7038</th>\n",
       "      <td>6840-RESVB</td>\n",
       "      <td>Male</td>\n",
       "      <td>0</td>\n",
       "      <td>Yes</td>\n",
       "      <td>Yes</td>\n",
       "    </tr>\n",
       "    <tr>\n",
       "      <th>7039</th>\n",
       "      <td>2234-XADUH</td>\n",
       "      <td>Female</td>\n",
       "      <td>0</td>\n",
       "      <td>Yes</td>\n",
       "      <td>Yes</td>\n",
       "    </tr>\n",
       "    <tr>\n",
       "      <th>7040</th>\n",
       "      <td>4801-JZAZL</td>\n",
       "      <td>Female</td>\n",
       "      <td>0</td>\n",
       "      <td>Yes</td>\n",
       "      <td>Yes</td>\n",
       "    </tr>\n",
       "    <tr>\n",
       "      <th>7041</th>\n",
       "      <td>8361-LTMKD</td>\n",
       "      <td>Male</td>\n",
       "      <td>1</td>\n",
       "      <td>Yes</td>\n",
       "      <td>No</td>\n",
       "    </tr>\n",
       "    <tr>\n",
       "      <th>7042</th>\n",
       "      <td>3186-AJIEK</td>\n",
       "      <td>Male</td>\n",
       "      <td>0</td>\n",
       "      <td>No</td>\n",
       "      <td>No</td>\n",
       "    </tr>\n",
       "  </tbody>\n",
       "</table>\n",
       "<p>7043 rows × 5 columns</p>\n",
       "</div>"
      ],
      "text/plain": [
       "      customerID  gender  SeniorCitizen Partner Dependents\n",
       "0     7590-VHVEG  Female              0     Yes         No\n",
       "1     5575-GNVDE    Male              0      No         No\n",
       "2     3668-QPYBK    Male              0      No         No\n",
       "3     7795-CFOCW    Male              0      No         No\n",
       "4     9237-HQITU  Female              0      No         No\n",
       "...          ...     ...            ...     ...        ...\n",
       "7038  6840-RESVB    Male              0     Yes        Yes\n",
       "7039  2234-XADUH  Female              0     Yes        Yes\n",
       "7040  4801-JZAZL  Female              0     Yes        Yes\n",
       "7041  8361-LTMKD    Male              1     Yes         No\n",
       "7042  3186-AJIEK    Male              0      No         No\n",
       "\n",
       "[7043 rows x 5 columns]"
      ]
     },
     "execution_count": 198,
     "metadata": {},
     "output_type": "execute_result"
    }
   ],
   "source": [
    "query_personal = '''\n",
    "SELECT *\n",
    "FROM telecom.personal\n",
    "'''\n",
    "\n",
    "personal_df = pd.read_sql_query(query_personal, con=engine) \n",
    "personal_df"
   ]
  },
  {
   "cell_type": "markdown",
   "metadata": {},
   "source": [
    "Загрузим данные из таблицы internet"
   ]
  },
  {
   "cell_type": "code",
   "execution_count": 199,
   "metadata": {},
   "outputs": [
    {
     "data": {
      "text/html": [
       "<div>\n",
       "<style scoped>\n",
       "    .dataframe tbody tr th:only-of-type {\n",
       "        vertical-align: middle;\n",
       "    }\n",
       "\n",
       "    .dataframe tbody tr th {\n",
       "        vertical-align: top;\n",
       "    }\n",
       "\n",
       "    .dataframe thead th {\n",
       "        text-align: right;\n",
       "    }\n",
       "</style>\n",
       "<table border=\"1\" class=\"dataframe\">\n",
       "  <thead>\n",
       "    <tr style=\"text-align: right;\">\n",
       "      <th></th>\n",
       "      <th>c1</th>\n",
       "      <th>c2</th>\n",
       "      <th>c3</th>\n",
       "      <th>c4</th>\n",
       "      <th>c5</th>\n",
       "      <th>c6</th>\n",
       "      <th>c7</th>\n",
       "      <th>c8</th>\n",
       "    </tr>\n",
       "  </thead>\n",
       "  <tbody>\n",
       "    <tr>\n",
       "      <th>0</th>\n",
       "      <td>customerID</td>\n",
       "      <td>InternetService</td>\n",
       "      <td>OnlineSecurity</td>\n",
       "      <td>OnlineBackup</td>\n",
       "      <td>DeviceProtection</td>\n",
       "      <td>TechSupport</td>\n",
       "      <td>StreamingTV</td>\n",
       "      <td>StreamingMovies</td>\n",
       "    </tr>\n",
       "    <tr>\n",
       "      <th>1</th>\n",
       "      <td>7590-VHVEG</td>\n",
       "      <td>DSL</td>\n",
       "      <td>No</td>\n",
       "      <td>Yes</td>\n",
       "      <td>No</td>\n",
       "      <td>No</td>\n",
       "      <td>No</td>\n",
       "      <td>No</td>\n",
       "    </tr>\n",
       "    <tr>\n",
       "      <th>2</th>\n",
       "      <td>5575-GNVDE</td>\n",
       "      <td>DSL</td>\n",
       "      <td>Yes</td>\n",
       "      <td>No</td>\n",
       "      <td>Yes</td>\n",
       "      <td>No</td>\n",
       "      <td>No</td>\n",
       "      <td>No</td>\n",
       "    </tr>\n",
       "    <tr>\n",
       "      <th>3</th>\n",
       "      <td>3668-QPYBK</td>\n",
       "      <td>DSL</td>\n",
       "      <td>Yes</td>\n",
       "      <td>Yes</td>\n",
       "      <td>No</td>\n",
       "      <td>No</td>\n",
       "      <td>No</td>\n",
       "      <td>No</td>\n",
       "    </tr>\n",
       "    <tr>\n",
       "      <th>4</th>\n",
       "      <td>7795-CFOCW</td>\n",
       "      <td>DSL</td>\n",
       "      <td>Yes</td>\n",
       "      <td>No</td>\n",
       "      <td>Yes</td>\n",
       "      <td>Yes</td>\n",
       "      <td>No</td>\n",
       "      <td>No</td>\n",
       "    </tr>\n",
       "    <tr>\n",
       "      <th>...</th>\n",
       "      <td>...</td>\n",
       "      <td>...</td>\n",
       "      <td>...</td>\n",
       "      <td>...</td>\n",
       "      <td>...</td>\n",
       "      <td>...</td>\n",
       "      <td>...</td>\n",
       "      <td>...</td>\n",
       "    </tr>\n",
       "    <tr>\n",
       "      <th>5513</th>\n",
       "      <td>6840-RESVB</td>\n",
       "      <td>DSL</td>\n",
       "      <td>Yes</td>\n",
       "      <td>No</td>\n",
       "      <td>Yes</td>\n",
       "      <td>Yes</td>\n",
       "      <td>Yes</td>\n",
       "      <td>Yes</td>\n",
       "    </tr>\n",
       "    <tr>\n",
       "      <th>5514</th>\n",
       "      <td>2234-XADUH</td>\n",
       "      <td>Fiber optic</td>\n",
       "      <td>No</td>\n",
       "      <td>Yes</td>\n",
       "      <td>Yes</td>\n",
       "      <td>No</td>\n",
       "      <td>Yes</td>\n",
       "      <td>Yes</td>\n",
       "    </tr>\n",
       "    <tr>\n",
       "      <th>5515</th>\n",
       "      <td>4801-JZAZL</td>\n",
       "      <td>DSL</td>\n",
       "      <td>Yes</td>\n",
       "      <td>No</td>\n",
       "      <td>No</td>\n",
       "      <td>No</td>\n",
       "      <td>No</td>\n",
       "      <td>No</td>\n",
       "    </tr>\n",
       "    <tr>\n",
       "      <th>5516</th>\n",
       "      <td>8361-LTMKD</td>\n",
       "      <td>Fiber optic</td>\n",
       "      <td>No</td>\n",
       "      <td>No</td>\n",
       "      <td>No</td>\n",
       "      <td>No</td>\n",
       "      <td>No</td>\n",
       "      <td>No</td>\n",
       "    </tr>\n",
       "    <tr>\n",
       "      <th>5517</th>\n",
       "      <td>3186-AJIEK</td>\n",
       "      <td>Fiber optic</td>\n",
       "      <td>Yes</td>\n",
       "      <td>No</td>\n",
       "      <td>Yes</td>\n",
       "      <td>Yes</td>\n",
       "      <td>Yes</td>\n",
       "      <td>Yes</td>\n",
       "    </tr>\n",
       "  </tbody>\n",
       "</table>\n",
       "<p>5518 rows × 8 columns</p>\n",
       "</div>"
      ],
      "text/plain": [
       "              c1               c2              c3            c4  \\\n",
       "0     customerID  InternetService  OnlineSecurity  OnlineBackup   \n",
       "1     7590-VHVEG              DSL              No           Yes   \n",
       "2     5575-GNVDE              DSL             Yes            No   \n",
       "3     3668-QPYBK              DSL             Yes           Yes   \n",
       "4     7795-CFOCW              DSL             Yes            No   \n",
       "...          ...              ...             ...           ...   \n",
       "5513  6840-RESVB              DSL             Yes            No   \n",
       "5514  2234-XADUH      Fiber optic              No           Yes   \n",
       "5515  4801-JZAZL              DSL             Yes            No   \n",
       "5516  8361-LTMKD      Fiber optic              No            No   \n",
       "5517  3186-AJIEK      Fiber optic             Yes            No   \n",
       "\n",
       "                    c5           c6           c7               c8  \n",
       "0     DeviceProtection  TechSupport  StreamingTV  StreamingMovies  \n",
       "1                   No           No           No               No  \n",
       "2                  Yes           No           No               No  \n",
       "3                   No           No           No               No  \n",
       "4                  Yes          Yes           No               No  \n",
       "...                ...          ...          ...              ...  \n",
       "5513               Yes          Yes          Yes              Yes  \n",
       "5514               Yes           No          Yes              Yes  \n",
       "5515                No           No           No               No  \n",
       "5516                No           No           No               No  \n",
       "5517               Yes          Yes          Yes              Yes  \n",
       "\n",
       "[5518 rows x 8 columns]"
      ]
     },
     "execution_count": 199,
     "metadata": {},
     "output_type": "execute_result"
    }
   ],
   "source": [
    "query_internet = '''\n",
    "SELECT *\n",
    "FROM telecom.internet\n",
    "'''\n",
    "\n",
    "internet_df = pd.read_sql_query(query_internet, con=engine) \n",
    "internet_df"
   ]
  },
  {
   "cell_type": "markdown",
   "metadata": {},
   "source": [
    "Header находится на первой строчке. Поменяем название колонок"
   ]
  },
  {
   "cell_type": "code",
   "execution_count": 200,
   "metadata": {},
   "outputs": [
    {
     "data": {
      "text/html": [
       "<div>\n",
       "<style scoped>\n",
       "    .dataframe tbody tr th:only-of-type {\n",
       "        vertical-align: middle;\n",
       "    }\n",
       "\n",
       "    .dataframe tbody tr th {\n",
       "        vertical-align: top;\n",
       "    }\n",
       "\n",
       "    .dataframe thead th {\n",
       "        text-align: right;\n",
       "    }\n",
       "</style>\n",
       "<table border=\"1\" class=\"dataframe\">\n",
       "  <thead>\n",
       "    <tr style=\"text-align: right;\">\n",
       "      <th></th>\n",
       "      <th>customerID</th>\n",
       "      <th>InternetService</th>\n",
       "      <th>OnlineSecurity</th>\n",
       "      <th>OnlineBackup</th>\n",
       "      <th>DeviceProtection</th>\n",
       "      <th>TechSupport</th>\n",
       "      <th>StreamingTV</th>\n",
       "      <th>StreamingMovies</th>\n",
       "    </tr>\n",
       "  </thead>\n",
       "  <tbody>\n",
       "    <tr>\n",
       "      <th>0</th>\n",
       "      <td>7590-VHVEG</td>\n",
       "      <td>DSL</td>\n",
       "      <td>No</td>\n",
       "      <td>Yes</td>\n",
       "      <td>No</td>\n",
       "      <td>No</td>\n",
       "      <td>No</td>\n",
       "      <td>No</td>\n",
       "    </tr>\n",
       "    <tr>\n",
       "      <th>1</th>\n",
       "      <td>5575-GNVDE</td>\n",
       "      <td>DSL</td>\n",
       "      <td>Yes</td>\n",
       "      <td>No</td>\n",
       "      <td>Yes</td>\n",
       "      <td>No</td>\n",
       "      <td>No</td>\n",
       "      <td>No</td>\n",
       "    </tr>\n",
       "    <tr>\n",
       "      <th>2</th>\n",
       "      <td>3668-QPYBK</td>\n",
       "      <td>DSL</td>\n",
       "      <td>Yes</td>\n",
       "      <td>Yes</td>\n",
       "      <td>No</td>\n",
       "      <td>No</td>\n",
       "      <td>No</td>\n",
       "      <td>No</td>\n",
       "    </tr>\n",
       "    <tr>\n",
       "      <th>3</th>\n",
       "      <td>7795-CFOCW</td>\n",
       "      <td>DSL</td>\n",
       "      <td>Yes</td>\n",
       "      <td>No</td>\n",
       "      <td>Yes</td>\n",
       "      <td>Yes</td>\n",
       "      <td>No</td>\n",
       "      <td>No</td>\n",
       "    </tr>\n",
       "    <tr>\n",
       "      <th>4</th>\n",
       "      <td>9237-HQITU</td>\n",
       "      <td>Fiber optic</td>\n",
       "      <td>No</td>\n",
       "      <td>No</td>\n",
       "      <td>No</td>\n",
       "      <td>No</td>\n",
       "      <td>No</td>\n",
       "      <td>No</td>\n",
       "    </tr>\n",
       "    <tr>\n",
       "      <th>...</th>\n",
       "      <td>...</td>\n",
       "      <td>...</td>\n",
       "      <td>...</td>\n",
       "      <td>...</td>\n",
       "      <td>...</td>\n",
       "      <td>...</td>\n",
       "      <td>...</td>\n",
       "      <td>...</td>\n",
       "    </tr>\n",
       "    <tr>\n",
       "      <th>5512</th>\n",
       "      <td>6840-RESVB</td>\n",
       "      <td>DSL</td>\n",
       "      <td>Yes</td>\n",
       "      <td>No</td>\n",
       "      <td>Yes</td>\n",
       "      <td>Yes</td>\n",
       "      <td>Yes</td>\n",
       "      <td>Yes</td>\n",
       "    </tr>\n",
       "    <tr>\n",
       "      <th>5513</th>\n",
       "      <td>2234-XADUH</td>\n",
       "      <td>Fiber optic</td>\n",
       "      <td>No</td>\n",
       "      <td>Yes</td>\n",
       "      <td>Yes</td>\n",
       "      <td>No</td>\n",
       "      <td>Yes</td>\n",
       "      <td>Yes</td>\n",
       "    </tr>\n",
       "    <tr>\n",
       "      <th>5514</th>\n",
       "      <td>4801-JZAZL</td>\n",
       "      <td>DSL</td>\n",
       "      <td>Yes</td>\n",
       "      <td>No</td>\n",
       "      <td>No</td>\n",
       "      <td>No</td>\n",
       "      <td>No</td>\n",
       "      <td>No</td>\n",
       "    </tr>\n",
       "    <tr>\n",
       "      <th>5515</th>\n",
       "      <td>8361-LTMKD</td>\n",
       "      <td>Fiber optic</td>\n",
       "      <td>No</td>\n",
       "      <td>No</td>\n",
       "      <td>No</td>\n",
       "      <td>No</td>\n",
       "      <td>No</td>\n",
       "      <td>No</td>\n",
       "    </tr>\n",
       "    <tr>\n",
       "      <th>5516</th>\n",
       "      <td>3186-AJIEK</td>\n",
       "      <td>Fiber optic</td>\n",
       "      <td>Yes</td>\n",
       "      <td>No</td>\n",
       "      <td>Yes</td>\n",
       "      <td>Yes</td>\n",
       "      <td>Yes</td>\n",
       "      <td>Yes</td>\n",
       "    </tr>\n",
       "  </tbody>\n",
       "</table>\n",
       "<p>5517 rows × 8 columns</p>\n",
       "</div>"
      ],
      "text/plain": [
       "      customerID InternetService OnlineSecurity OnlineBackup DeviceProtection  \\\n",
       "0     7590-VHVEG             DSL             No          Yes               No   \n",
       "1     5575-GNVDE             DSL            Yes           No              Yes   \n",
       "2     3668-QPYBK             DSL            Yes          Yes               No   \n",
       "3     7795-CFOCW             DSL            Yes           No              Yes   \n",
       "4     9237-HQITU     Fiber optic             No           No               No   \n",
       "...          ...             ...            ...          ...              ...   \n",
       "5512  6840-RESVB             DSL            Yes           No              Yes   \n",
       "5513  2234-XADUH     Fiber optic             No          Yes              Yes   \n",
       "5514  4801-JZAZL             DSL            Yes           No               No   \n",
       "5515  8361-LTMKD     Fiber optic             No           No               No   \n",
       "5516  3186-AJIEK     Fiber optic            Yes           No              Yes   \n",
       "\n",
       "     TechSupport StreamingTV StreamingMovies  \n",
       "0             No          No              No  \n",
       "1             No          No              No  \n",
       "2             No          No              No  \n",
       "3            Yes          No              No  \n",
       "4             No          No              No  \n",
       "...          ...         ...             ...  \n",
       "5512         Yes         Yes             Yes  \n",
       "5513          No         Yes             Yes  \n",
       "5514          No          No              No  \n",
       "5515          No          No              No  \n",
       "5516         Yes         Yes             Yes  \n",
       "\n",
       "[5517 rows x 8 columns]"
      ]
     },
     "execution_count": 200,
     "metadata": {},
     "output_type": "execute_result"
    }
   ],
   "source": [
    "internet_columns = internet_df.iloc[0].tolist()\n",
    "internet_df.columns = internet_columns\n",
    "internet_df = internet_df.drop([0]).reset_index(drop=True)\n",
    "internet_df"
   ]
  },
  {
   "cell_type": "markdown",
   "metadata": {},
   "source": [
    "Загрузим данные из таблицы phone"
   ]
  },
  {
   "cell_type": "code",
   "execution_count": 201,
   "metadata": {},
   "outputs": [
    {
     "data": {
      "text/html": [
       "<div>\n",
       "<style scoped>\n",
       "    .dataframe tbody tr th:only-of-type {\n",
       "        vertical-align: middle;\n",
       "    }\n",
       "\n",
       "    .dataframe tbody tr th {\n",
       "        vertical-align: top;\n",
       "    }\n",
       "\n",
       "    .dataframe thead th {\n",
       "        text-align: right;\n",
       "    }\n",
       "</style>\n",
       "<table border=\"1\" class=\"dataframe\">\n",
       "  <thead>\n",
       "    <tr style=\"text-align: right;\">\n",
       "      <th></th>\n",
       "      <th>c1</th>\n",
       "      <th>c2</th>\n",
       "    </tr>\n",
       "  </thead>\n",
       "  <tbody>\n",
       "    <tr>\n",
       "      <th>0</th>\n",
       "      <td>customerID</td>\n",
       "      <td>MultipleLines</td>\n",
       "    </tr>\n",
       "    <tr>\n",
       "      <th>1</th>\n",
       "      <td>5575-GNVDE</td>\n",
       "      <td>No</td>\n",
       "    </tr>\n",
       "    <tr>\n",
       "      <th>2</th>\n",
       "      <td>3668-QPYBK</td>\n",
       "      <td>No</td>\n",
       "    </tr>\n",
       "    <tr>\n",
       "      <th>3</th>\n",
       "      <td>9237-HQITU</td>\n",
       "      <td>No</td>\n",
       "    </tr>\n",
       "    <tr>\n",
       "      <th>4</th>\n",
       "      <td>9305-CDSKC</td>\n",
       "      <td>Yes</td>\n",
       "    </tr>\n",
       "    <tr>\n",
       "      <th>...</th>\n",
       "      <td>...</td>\n",
       "      <td>...</td>\n",
       "    </tr>\n",
       "    <tr>\n",
       "      <th>6357</th>\n",
       "      <td>2569-WGERO</td>\n",
       "      <td>No</td>\n",
       "    </tr>\n",
       "    <tr>\n",
       "      <th>6358</th>\n",
       "      <td>6840-RESVB</td>\n",
       "      <td>Yes</td>\n",
       "    </tr>\n",
       "    <tr>\n",
       "      <th>6359</th>\n",
       "      <td>2234-XADUH</td>\n",
       "      <td>Yes</td>\n",
       "    </tr>\n",
       "    <tr>\n",
       "      <th>6360</th>\n",
       "      <td>8361-LTMKD</td>\n",
       "      <td>Yes</td>\n",
       "    </tr>\n",
       "    <tr>\n",
       "      <th>6361</th>\n",
       "      <td>3186-AJIEK</td>\n",
       "      <td>No</td>\n",
       "    </tr>\n",
       "  </tbody>\n",
       "</table>\n",
       "<p>6362 rows × 2 columns</p>\n",
       "</div>"
      ],
      "text/plain": [
       "              c1             c2\n",
       "0     customerID  MultipleLines\n",
       "1     5575-GNVDE             No\n",
       "2     3668-QPYBK             No\n",
       "3     9237-HQITU             No\n",
       "4     9305-CDSKC            Yes\n",
       "...          ...            ...\n",
       "6357  2569-WGERO             No\n",
       "6358  6840-RESVB            Yes\n",
       "6359  2234-XADUH            Yes\n",
       "6360  8361-LTMKD            Yes\n",
       "6361  3186-AJIEK             No\n",
       "\n",
       "[6362 rows x 2 columns]"
      ]
     },
     "execution_count": 201,
     "metadata": {},
     "output_type": "execute_result"
    }
   ],
   "source": [
    "query_phone = '''\n",
    "SELECT *\n",
    "FROM telecom.phone\n",
    "'''\n",
    "\n",
    "phone_df = pd.read_sql_query(query_phone, con=engine) \n",
    "phone_df"
   ]
  },
  {
   "cell_type": "markdown",
   "metadata": {},
   "source": [
    "Header находится на первой строчке. Поменяем название колонок"
   ]
  },
  {
   "cell_type": "code",
   "execution_count": 202,
   "metadata": {},
   "outputs": [
    {
     "data": {
      "text/html": [
       "<div>\n",
       "<style scoped>\n",
       "    .dataframe tbody tr th:only-of-type {\n",
       "        vertical-align: middle;\n",
       "    }\n",
       "\n",
       "    .dataframe tbody tr th {\n",
       "        vertical-align: top;\n",
       "    }\n",
       "\n",
       "    .dataframe thead th {\n",
       "        text-align: right;\n",
       "    }\n",
       "</style>\n",
       "<table border=\"1\" class=\"dataframe\">\n",
       "  <thead>\n",
       "    <tr style=\"text-align: right;\">\n",
       "      <th></th>\n",
       "      <th>customerID</th>\n",
       "      <th>MultipleLines</th>\n",
       "    </tr>\n",
       "  </thead>\n",
       "  <tbody>\n",
       "    <tr>\n",
       "      <th>0</th>\n",
       "      <td>5575-GNVDE</td>\n",
       "      <td>No</td>\n",
       "    </tr>\n",
       "    <tr>\n",
       "      <th>1</th>\n",
       "      <td>3668-QPYBK</td>\n",
       "      <td>No</td>\n",
       "    </tr>\n",
       "    <tr>\n",
       "      <th>2</th>\n",
       "      <td>9237-HQITU</td>\n",
       "      <td>No</td>\n",
       "    </tr>\n",
       "    <tr>\n",
       "      <th>3</th>\n",
       "      <td>9305-CDSKC</td>\n",
       "      <td>Yes</td>\n",
       "    </tr>\n",
       "    <tr>\n",
       "      <th>4</th>\n",
       "      <td>1452-KIOVK</td>\n",
       "      <td>Yes</td>\n",
       "    </tr>\n",
       "    <tr>\n",
       "      <th>...</th>\n",
       "      <td>...</td>\n",
       "      <td>...</td>\n",
       "    </tr>\n",
       "    <tr>\n",
       "      <th>6356</th>\n",
       "      <td>2569-WGERO</td>\n",
       "      <td>No</td>\n",
       "    </tr>\n",
       "    <tr>\n",
       "      <th>6357</th>\n",
       "      <td>6840-RESVB</td>\n",
       "      <td>Yes</td>\n",
       "    </tr>\n",
       "    <tr>\n",
       "      <th>6358</th>\n",
       "      <td>2234-XADUH</td>\n",
       "      <td>Yes</td>\n",
       "    </tr>\n",
       "    <tr>\n",
       "      <th>6359</th>\n",
       "      <td>8361-LTMKD</td>\n",
       "      <td>Yes</td>\n",
       "    </tr>\n",
       "    <tr>\n",
       "      <th>6360</th>\n",
       "      <td>3186-AJIEK</td>\n",
       "      <td>No</td>\n",
       "    </tr>\n",
       "  </tbody>\n",
       "</table>\n",
       "<p>6361 rows × 2 columns</p>\n",
       "</div>"
      ],
      "text/plain": [
       "      customerID MultipleLines\n",
       "0     5575-GNVDE            No\n",
       "1     3668-QPYBK            No\n",
       "2     9237-HQITU            No\n",
       "3     9305-CDSKC           Yes\n",
       "4     1452-KIOVK           Yes\n",
       "...          ...           ...\n",
       "6356  2569-WGERO            No\n",
       "6357  6840-RESVB           Yes\n",
       "6358  2234-XADUH           Yes\n",
       "6359  8361-LTMKD           Yes\n",
       "6360  3186-AJIEK            No\n",
       "\n",
       "[6361 rows x 2 columns]"
      ]
     },
     "execution_count": 202,
     "metadata": {},
     "output_type": "execute_result"
    }
   ],
   "source": [
    "phone_columns = phone_df.iloc[0].tolist()\n",
    "phone_df.columns = phone_columns\n",
    "phone_df = phone_df.drop([0]).reset_index(drop=True)\n",
    "phone_df\n"
   ]
  },
  {
   "cell_type": "markdown",
   "metadata": {},
   "source": [
    "Вывод: требуемые данные загружены, необходимы колонки имеются. Имеется общий ключ для объеденения таблиц - \"CustomerID\""
   ]
  },
  {
   "cell_type": "markdown",
   "metadata": {},
   "source": [
    "## Обработка данных"
   ]
  },
  {
   "cell_type": "code",
   "execution_count": 203,
   "metadata": {},
   "outputs": [
    {
     "name": "stdout",
     "output_type": "stream",
     "text": [
      "<class 'pandas.core.frame.DataFrame'>\n",
      "RangeIndex: 7043 entries, 0 to 7042\n",
      "Data columns (total 8 columns):\n",
      " #   Column            Non-Null Count  Dtype  \n",
      "---  ------            --------------  -----  \n",
      " 0   customerID        7043 non-null   object \n",
      " 1   BeginDate         7043 non-null   object \n",
      " 2   EndDate           1869 non-null   object \n",
      " 3   Type              7043 non-null   object \n",
      " 4   PaperlessBilling  7043 non-null   object \n",
      " 5   PaymentMethod     7043 non-null   object \n",
      " 6   MonthlyCharges    7043 non-null   float64\n",
      " 7   TotalCharges      7032 non-null   float64\n",
      "dtypes: float64(2), object(6)\n",
      "memory usage: 440.3+ KB\n"
     ]
    }
   ],
   "source": [
    "contract_df.info()"
   ]
  },
  {
   "cell_type": "markdown",
   "metadata": {},
   "source": [
    "Посмотрим кол-во уникальных пользователей"
   ]
  },
  {
   "cell_type": "code",
   "execution_count": 204,
   "metadata": {},
   "outputs": [
    {
     "data": {
      "text/plain": [
       "7043"
      ]
     },
     "execution_count": 204,
     "metadata": {},
     "output_type": "execute_result"
    }
   ],
   "source": [
    "len(contract_df['customerID'].unique())"
   ]
  },
  {
   "cell_type": "markdown",
   "metadata": {},
   "source": [
    "Повторяющихся пользователей нет. Замержим информацию из других таблиц по customerID"
   ]
  },
  {
   "cell_type": "code",
   "execution_count": 205,
   "metadata": {},
   "outputs": [],
   "source": [
    "user_info = contract_df.merge(personal_df, on='customerID', how='left')\\\n",
    "                       .merge(internet_df, on='customerID', how='left')\\\n",
    "                       .merge(phone_df, on='customerID', how='left')"
   ]
  },
  {
   "cell_type": "markdown",
   "metadata": {},
   "source": [
    "Посмотрим кол-во отключений по месяцам"
   ]
  },
  {
   "cell_type": "code",
   "execution_count": 206,
   "metadata": {},
   "outputs": [
    {
     "data": {
      "text/plain": [
       "<AxesSubplot:>"
      ]
     },
     "execution_count": 206,
     "metadata": {},
     "output_type": "execute_result"
    },
    {
     "data": {
      "image/png": "[encoded data removed]",
      "text/plain": [
       "<Figure size 720x216 with 1 Axes>"
      ]
     },
     "metadata": {
      "needs_background": "light"
     },
     "output_type": "display_data"
    }
   ],
   "source": [
    "user_info['EndDate'].hist(figsize=(10,3))"
   ]
  },
  {
   "cell_type": "markdown",
   "metadata": {},
   "source": [
    "Последние 4 месяца около 460 клиентов уходят каждый месяц. Т.е уход клентов не связан с определенным промежутком времени. Выделим их в наш таргет"
   ]
  },
  {
   "cell_type": "code",
   "execution_count": 207,
   "metadata": {},
   "outputs": [
    {
     "data": {
      "text/plain": [
       "0    5174\n",
       "1    1869\n",
       "Name: target, dtype: int64"
      ]
     },
     "execution_count": 207,
     "metadata": {},
     "output_type": "execute_result"
    }
   ],
   "source": [
    "user_info['target'] = 0\n",
    "gone_client_index = user_info.loc[~user_info['EndDate'].isna()].index\n",
    "user_info['target'].loc[gone_client_index] = 1\n",
    "user_info['target'].value_counts()"
   ]
  },
  {
   "cell_type": "markdown",
   "metadata": {},
   "source": [
    "Всего ушло 1869 клиентов"
   ]
  },
  {
   "cell_type": "markdown",
   "metadata": {},
   "source": [
    "Теперь посмотрим какое кол-во людей пользуется только интернетом, телефоном и обоими сервисами одновременно. Создадим колонку service c типами подключения: 'internet', 'phone', 'both'"
   ]
  },
  {
   "cell_type": "code",
   "execution_count": 208,
   "metadata": {},
   "outputs": [],
   "source": [
    "user_info['internet'] = ''\n",
    "user_info['phone'] = ''\n",
    "\n",
    "user_info['internet'].loc[user_info['customerID'].isin(internet_df['customerID'])] = 'internet'\n",
    "user_info['phone'].loc[user_info['customerID'].isin(phone_df['customerID'])] = 'phone'"
   ]
  },
  {
   "cell_type": "code",
   "execution_count": 209,
   "metadata": {},
   "outputs": [],
   "source": [
    "user_info['service'] = user_info['internet'] + user_info['phone']\n",
    "user_info['service'] = user_info['service'].map({'internetphone':'both', 'internet':'internet', 'phone':'phone'})"
   ]
  },
  {
   "cell_type": "markdown",
   "metadata": {},
   "source": [
    "Проверим"
   ]
  },
  {
   "cell_type": "code",
   "execution_count": 210,
   "metadata": {},
   "outputs": [
    {
     "data": {
      "text/plain": [
       "both        4835\n",
       "phone       1526\n",
       "internet     682\n",
       "Name: service, dtype: int64"
      ]
     },
     "execution_count": 210,
     "metadata": {},
     "output_type": "execute_result"
    }
   ],
   "source": [
    "user_info['service'].value_counts()"
   ]
  },
  {
   "cell_type": "markdown",
   "metadata": {},
   "source": [
    "Проверим, если пользователи, которые не пользуются ни одним из сервисов"
   ]
  },
  {
   "cell_type": "code",
   "execution_count": 211,
   "metadata": {},
   "outputs": [
    {
     "data": {
      "text/plain": [
       "0"
      ]
     },
     "execution_count": 211,
     "metadata": {},
     "output_type": "execute_result"
    }
   ],
   "source": [
    "user_info['service'].isna().sum()"
   ]
  },
  {
   "cell_type": "markdown",
   "metadata": {},
   "source": [
    "Удалим лишние колонки"
   ]
  },
  {
   "cell_type": "code",
   "execution_count": 212,
   "metadata": {},
   "outputs": [],
   "source": [
    "user_info.drop(columns={'phone', 'internet'}, inplace=True)"
   ]
  },
  {
   "cell_type": "markdown",
   "metadata": {},
   "source": [
    "Проверим"
   ]
  },
  {
   "cell_type": "code",
   "execution_count": 213,
   "metadata": {},
   "outputs": [
    {
     "name": "stdout",
     "output_type": "stream",
     "text": [
      "<class 'pandas.core.frame.DataFrame'>\n",
      "Int64Index: 7043 entries, 0 to 7042\n",
      "Data columns (total 22 columns):\n",
      " #   Column            Non-Null Count  Dtype  \n",
      "---  ------            --------------  -----  \n",
      " 0   customerID        7043 non-null   object \n",
      " 1   BeginDate         7043 non-null   object \n",
      " 2   EndDate           1869 non-null   object \n",
      " 3   Type              7043 non-null   object \n",
      " 4   PaperlessBilling  7043 non-null   object \n",
      " 5   PaymentMethod     7043 non-null   object \n",
      " 6   MonthlyCharges    7043 non-null   float64\n",
      " 7   TotalCharges      7032 non-null   float64\n",
      " 8   gender            7043 non-null   object \n",
      " 9   SeniorCitizen     7043 non-null   int64  \n",
      " 10  Partner           7043 non-null   object \n",
      " 11  Dependents        7043 non-null   object \n",
      " 12  InternetService   5517 non-null   object \n",
      " 13  OnlineSecurity    5517 non-null   object \n",
      " 14  OnlineBackup      5517 non-null   object \n",
      " 15  DeviceProtection  5517 non-null   object \n",
      " 16  TechSupport       5517 non-null   object \n",
      " 17  StreamingTV       5517 non-null   object \n",
      " 18  StreamingMovies   5517 non-null   object \n",
      " 19  MultipleLines     6361 non-null   object \n",
      " 20  target            7043 non-null   int64  \n",
      " 21  service           7043 non-null   object \n",
      "dtypes: float64(2), int64(2), object(18)\n",
      "memory usage: 1.5+ MB\n"
     ]
    }
   ],
   "source": [
    "user_info.info()"
   ]
  },
  {
   "cell_type": "markdown",
   "metadata": {},
   "source": [
    "Заполним пропуски по сервисам использования интернета и телефона константой 'None'"
   ]
  },
  {
   "cell_type": "code",
   "execution_count": 214,
   "metadata": {},
   "outputs": [],
   "source": [
    "internet_fill_na_constant = 'No'\n",
    "\n",
    "user_info.fillna({\n",
    "                'InternetService': internet_fill_na_constant,\n",
    "                'OnlineSecurity': internet_fill_na_constant,\n",
    "                'OnlineBackup': internet_fill_na_constant,\n",
    "                'DeviceProtection': internet_fill_na_constant,\n",
    "                'TechSupport': internet_fill_na_constant,\n",
    "                'StreamingTV': internet_fill_na_constant,\n",
    "                'StreamingMovies': internet_fill_na_constant\n",
    "                }, inplace=True)\n",
    "\n",
    "phone_fill_na_constant = 'No'\n",
    "\n",
    "user_info.fillna({\n",
    "                'MultipleLines': phone_fill_na_constant,\n",
    "                }, inplace=True)"
   ]
  },
  {
   "cell_type": "markdown",
   "metadata": {},
   "source": [
    "Удалим записи с пропущенным значением TotalCharges"
   ]
  },
  {
   "cell_type": "code",
   "execution_count": 215,
   "metadata": {},
   "outputs": [
    {
     "name": "stdout",
     "output_type": "stream",
     "text": [
      "<class 'pandas.core.frame.DataFrame'>\n",
      "Int64Index: 7032 entries, 2 to 7042\n",
      "Data columns (total 22 columns):\n",
      " #   Column            Non-Null Count  Dtype  \n",
      "---  ------            --------------  -----  \n",
      " 0   customerID        7032 non-null   object \n",
      " 1   BeginDate         7032 non-null   object \n",
      " 2   EndDate           1869 non-null   object \n",
      " 3   Type              7032 non-null   object \n",
      " 4   PaperlessBilling  7032 non-null   object \n",
      " 5   PaymentMethod     7032 non-null   object \n",
      " 6   MonthlyCharges    7032 non-null   float64\n",
      " 7   TotalCharges      7032 non-null   float64\n",
      " 8   gender            7032 non-null   object \n",
      " 9   SeniorCitizen     7032 non-null   int64  \n",
      " 10  Partner           7032 non-null   object \n",
      " 11  Dependents        7032 non-null   object \n",
      " 12  InternetService   7032 non-null   object \n",
      " 13  OnlineSecurity    7032 non-null   object \n",
      " 14  OnlineBackup      7032 non-null   object \n",
      " 15  DeviceProtection  7032 non-null   object \n",
      " 16  TechSupport       7032 non-null   object \n",
      " 17  StreamingTV       7032 non-null   object \n",
      " 18  StreamingMovies   7032 non-null   object \n",
      " 19  MultipleLines     7032 non-null   object \n",
      " 20  target            7032 non-null   int64  \n",
      " 21  service           7032 non-null   object \n",
      "dtypes: float64(2), int64(2), object(18)\n",
      "memory usage: 1.2+ MB\n"
     ]
    }
   ],
   "source": [
    "user_info.dropna(subset=['TotalCharges'], inplace=True)\n",
    "user_info.info()"
   ]
  },
  {
   "cell_type": "markdown",
   "metadata": {},
   "source": [
    "Переведем колонки с датой в соответствующий тип"
   ]
  },
  {
   "cell_type": "code",
   "execution_count": 216,
   "metadata": {},
   "outputs": [],
   "source": [
    "user_info['BeginDate'] = pd.to_datetime(user_info['BeginDate'])\n",
    "user_info['EndDate'] = pd.to_datetime(user_info['EndDate'])"
   ]
  },
  {
   "cell_type": "markdown",
   "metadata": {},
   "source": [
    "Выделим количественные, временные и категориальные фичи"
   ]
  },
  {
   "cell_type": "code",
   "execution_count": 217,
   "metadata": {},
   "outputs": [],
   "source": [
    "num_features = ['MonthlyCharges', 'TotalCharges']\n",
    "date_features = ['BeginDate', 'EndDate']\n",
    "id_features = ['customerID']\n",
    "categorial_features = list(set(user_info.columns.tolist()) - set(num_features) - set(date_features) - set(id_features))"
   ]
  },
  {
   "cell_type": "code",
   "execution_count": 218,
   "metadata": {},
   "outputs": [
    {
     "name": "stdout",
     "output_type": "stream",
     "text": [
      "['SeniorCitizen', 'OnlineBackup', 'StreamingMovies', 'service', 'gender', 'OnlineSecurity', 'Partner', 'InternetService', 'Dependents', 'MultipleLines', 'Type', 'PaperlessBilling', 'TechSupport', 'StreamingTV', 'target', 'DeviceProtection', 'PaymentMethod']\n"
     ]
    }
   ],
   "source": [
    "print(categorial_features)"
   ]
  },
  {
   "cell_type": "markdown",
   "metadata": {},
   "source": [
    "Переведем категориальные фичи в соответствующий формат"
   ]
  },
  {
   "cell_type": "code",
   "execution_count": 219,
   "metadata": {
    "scrolled": true
   },
   "outputs": [
    {
     "name": "stdout",
     "output_type": "stream",
     "text": [
      "<class 'pandas.core.frame.DataFrame'>\n",
      "Int64Index: 7032 entries, 2 to 7042\n",
      "Data columns (total 22 columns):\n",
      " #   Column            Non-Null Count  Dtype         \n",
      "---  ------            --------------  -----         \n",
      " 0   customerID        7032 non-null   object        \n",
      " 1   BeginDate         7032 non-null   datetime64[ns]\n",
      " 2   EndDate           1869 non-null   datetime64[ns]\n",
      " 3   Type              7032 non-null   category      \n",
      " 4   PaperlessBilling  7032 non-null   category      \n",
      " 5   PaymentMethod     7032 non-null   category      \n",
      " 6   MonthlyCharges    7032 non-null   float64       \n",
      " 7   TotalCharges      7032 non-null   float64       \n",
      " 8   gender            7032 non-null   category      \n",
      " 9   SeniorCitizen     7032 non-null   category      \n",
      " 10  Partner           7032 non-null   category      \n",
      " 11  Dependents        7032 non-null   category      \n",
      " 12  InternetService   7032 non-null   category      \n",
      " 13  OnlineSecurity    7032 non-null   category      \n",
      " 14  OnlineBackup      7032 non-null   category      \n",
      " 15  DeviceProtection  7032 non-null   category      \n",
      " 16  TechSupport       7032 non-null   category      \n",
      " 17  StreamingTV       7032 non-null   category      \n",
      " 18  StreamingMovies   7032 non-null   category      \n",
      " 19  MultipleLines     7032 non-null   category      \n",
      " 20  target            7032 non-null   category      \n",
      " 21  service           7032 non-null   category      \n",
      "dtypes: category(17), datetime64[ns](2), float64(2), object(1)\n",
      "memory usage: 448.5+ KB\n"
     ]
    }
   ],
   "source": [
    "user_info[categorial_features] = user_info[categorial_features].astype('category')\n",
    "user_info.info()"
   ]
  },
  {
   "cell_type": "markdown",
   "metadata": {},
   "source": [
    "Посчитаем кол-во месяцев использование подписки"
   ]
  },
  {
   "cell_type": "markdown",
   "metadata": {},
   "source": [
    "Там, где нет даты, поставим конечную в датасете"
   ]
  },
  {
   "cell_type": "code",
   "execution_count": 220,
   "metadata": {},
   "outputs": [],
   "source": [
    "user_info['EndDate'].loc[user_info['EndDate'].isna()] = '2020-02-01'\n",
    "user_info['EndDate'] = pd.to_datetime(user_info['EndDate'])"
   ]
  },
  {
   "cell_type": "code",
   "execution_count": 221,
   "metadata": {},
   "outputs": [
    {
     "name": "stdout",
     "output_type": "stream",
     "text": [
      "<class 'pandas.core.frame.DataFrame'>\n",
      "Int64Index: 7032 entries, 2 to 7042\n",
      "Data columns (total 22 columns):\n",
      " #   Column            Non-Null Count  Dtype         \n",
      "---  ------            --------------  -----         \n",
      " 0   customerID        7032 non-null   object        \n",
      " 1   BeginDate         7032 non-null   datetime64[ns]\n",
      " 2   EndDate           7032 non-null   datetime64[ns]\n",
      " 3   Type              7032 non-null   category      \n",
      " 4   PaperlessBilling  7032 non-null   category      \n",
      " 5   PaymentMethod     7032 non-null   category      \n",
      " 6   MonthlyCharges    7032 non-null   float64       \n",
      " 7   TotalCharges      7032 non-null   float64       \n",
      " 8   gender            7032 non-null   category      \n",
      " 9   SeniorCitizen     7032 non-null   category      \n",
      " 10  Partner           7032 non-null   category      \n",
      " 11  Dependents        7032 non-null   category      \n",
      " 12  InternetService   7032 non-null   category      \n",
      " 13  OnlineSecurity    7032 non-null   category      \n",
      " 14  OnlineBackup      7032 non-null   category      \n",
      " 15  DeviceProtection  7032 non-null   category      \n",
      " 16  TechSupport       7032 non-null   category      \n",
      " 17  StreamingTV       7032 non-null   category      \n",
      " 18  StreamingMovies   7032 non-null   category      \n",
      " 19  MultipleLines     7032 non-null   category      \n",
      " 20  target            7032 non-null   category      \n",
      " 21  service           7032 non-null   category      \n",
      "dtypes: category(17), datetime64[ns](2), float64(2), object(1)\n",
      "memory usage: 448.5+ KB\n"
     ]
    }
   ],
   "source": [
    "user_info.info()"
   ]
  },
  {
   "cell_type": "code",
   "execution_count": 222,
   "metadata": {},
   "outputs": [
    {
     "data": {
      "text/plain": [
       "2     15\n",
       "4      9\n",
       "5     10\n",
       "8      6\n",
       "12    10\n",
       "Name: months, dtype: int64"
      ]
     },
     "execution_count": 222,
     "metadata": {},
     "output_type": "execute_result"
    }
   ],
   "source": [
    "user_info['months'] = (user_info['EndDate'] - user_info['BeginDate']) / np.timedelta64(1, 'M')\n",
    "user_info['months'] = user_info['months'].astype(int)\n",
    "user_info['months'].head()"
   ]
  },
  {
   "cell_type": "markdown",
   "metadata": {},
   "source": [
    "Вывод: Мы соеденили таблицы, удалили пропуски в столбце TotalCharges. Создадили фичу 'months', показывающую время использования сервиса в месяцах, создали категориальную фичу 'service', указывающую какие услуги(телефон или интернет), использует клиент"
   ]
  },
  {
   "cell_type": "markdown",
   "metadata": {},
   "source": [
    "## Исследовательский анализ"
   ]
  },
  {
   "cell_type": "markdown",
   "metadata": {},
   "source": [
    "Сравним, сколько дней использовали сервис ушедшие и текущие клиенты"
   ]
  },
  {
   "cell_type": "code",
   "execution_count": 223,
   "metadata": {},
   "outputs": [
    {
     "data": {
      "text/plain": [
       "<AxesSubplot:xlabel='months', ylabel='Count'>"
      ]
     },
     "execution_count": 223,
     "metadata": {},
     "output_type": "execute_result"
    },
    {
     "data": {
      "image/png": "[encoded data removed]",
      "text/plain": [
       "<Figure size 1080x576 with 1 Axes>"
      ]
     },
     "metadata": {
      "needs_background": "light"
     },
     "output_type": "display_data"
    }
   ],
   "source": [
    "plt.figure(figsize=(15,8))\n",
    "sns.histplot(data=user_info, x=\"months\", hue=\"target\", kde=True)"
   ]
  },
  {
   "cell_type": "markdown",
   "metadata": {},
   "source": [
    "Одинаковое нормальные распределение в обоих случаях. Т.е уход клиентов не может быть вызван скидочный акцией, после периода которой они перестали использовать услуги сервиса"
   ]
  },
  {
   "cell_type": "markdown",
   "metadata": {},
   "source": [
    "Сравним кол-во текущих клиентов и ушедших по типу использования сервиса (только интернет, телефон, или оба)"
   ]
  },
  {
   "cell_type": "code",
   "execution_count": 224,
   "metadata": {},
   "outputs": [
    {
     "data": {
      "text/plain": [
       "<AxesSubplot:xlabel='service', ylabel='Count'>"
      ]
     },
     "execution_count": 224,
     "metadata": {},
     "output_type": "execute_result"
    },
    {
     "data": {
      "image/png": "[encoded data removed]",
      "text/plain": [
       "<Figure size 1080x576 with 1 Axes>"
      ]
     },
     "metadata": {
      "needs_background": "light"
     },
     "output_type": "display_data"
    }
   ],
   "source": [
    "plt.figure(figsize=(15,8))\n",
    "sns.histplot(data=user_info, x='service', hue=\"target\", multiple='dodge')"
   ]
  },
  {
   "cell_type": "markdown",
   "metadata": {},
   "source": [
    "Меньше всего уходят клиенты, использующие только телефон, затем только интернет, и большая часть, которые используют и то, и другое"
   ]
  },
  {
   "cell_type": "markdown",
   "metadata": {},
   "source": [
    "Сравним распределения величин ежемесячных платежей всех действующих клиентов и тех, кто ушёл. Для каждой группы посчитаем: средние, минимальные и максимальные значения, медиану и величины 25%- и 75%-квартилей."
   ]
  },
  {
   "cell_type": "code",
   "execution_count": 225,
   "metadata": {},
   "outputs": [
    {
     "data": {
      "text/html": [
       "<div>\n",
       "<style scoped>\n",
       "    .dataframe tbody tr th:only-of-type {\n",
       "        vertical-align: middle;\n",
       "    }\n",
       "\n",
       "    .dataframe tbody tr th {\n",
       "        vertical-align: top;\n",
       "    }\n",
       "\n",
       "    .dataframe thead th {\n",
       "        text-align: right;\n",
       "    }\n",
       "</style>\n",
       "<table border=\"1\" class=\"dataframe\">\n",
       "  <thead>\n",
       "    <tr style=\"text-align: right;\">\n",
       "      <th></th>\n",
       "      <th>current_users</th>\n",
       "      <th>gone_users</th>\n",
       "      <th>difference</th>\n",
       "    </tr>\n",
       "  </thead>\n",
       "  <tbody>\n",
       "    <tr>\n",
       "      <th>count</th>\n",
       "      <td>5163.000000</td>\n",
       "      <td>1869.000000</td>\n",
       "      <td>3294.000000</td>\n",
       "    </tr>\n",
       "    <tr>\n",
       "      <th>mean</th>\n",
       "      <td>61.307408</td>\n",
       "      <td>74.441332</td>\n",
       "      <td>-13.133924</td>\n",
       "    </tr>\n",
       "    <tr>\n",
       "      <th>std</th>\n",
       "      <td>31.094557</td>\n",
       "      <td>24.666053</td>\n",
       "      <td>6.428504</td>\n",
       "    </tr>\n",
       "    <tr>\n",
       "      <th>min</th>\n",
       "      <td>18.250000</td>\n",
       "      <td>18.850000</td>\n",
       "      <td>-0.600000</td>\n",
       "    </tr>\n",
       "    <tr>\n",
       "      <th>25%</th>\n",
       "      <td>25.100000</td>\n",
       "      <td>56.150000</td>\n",
       "      <td>-31.050000</td>\n",
       "    </tr>\n",
       "    <tr>\n",
       "      <th>50%</th>\n",
       "      <td>64.450000</td>\n",
       "      <td>79.650000</td>\n",
       "      <td>-15.200000</td>\n",
       "    </tr>\n",
       "    <tr>\n",
       "      <th>75%</th>\n",
       "      <td>88.475000</td>\n",
       "      <td>94.200000</td>\n",
       "      <td>-5.725000</td>\n",
       "    </tr>\n",
       "    <tr>\n",
       "      <th>max</th>\n",
       "      <td>118.750000</td>\n",
       "      <td>118.350000</td>\n",
       "      <td>0.400000</td>\n",
       "    </tr>\n",
       "  </tbody>\n",
       "</table>\n",
       "</div>"
      ],
      "text/plain": [
       "       current_users   gone_users   difference\n",
       "count    5163.000000  1869.000000  3294.000000\n",
       "mean       61.307408    74.441332   -13.133924\n",
       "std        31.094557    24.666053     6.428504\n",
       "min        18.250000    18.850000    -0.600000\n",
       "25%        25.100000    56.150000   -31.050000\n",
       "50%        64.450000    79.650000   -15.200000\n",
       "75%        88.475000    94.200000    -5.725000\n",
       "max       118.750000   118.350000     0.400000"
      ]
     },
     "execution_count": 225,
     "metadata": {},
     "output_type": "execute_result"
    }
   ],
   "source": [
    "current_users_monthly_info = user_info[user_info['target'] == 0]['MonthlyCharges'].describe()\n",
    "gone_users_monthly_info = user_info[user_info['target'] == 1]['MonthlyCharges'].describe()\n",
    "\n",
    "users_monthly_compare = pd.concat([current_users_monthly_info, gone_users_monthly_info], axis=1)\n",
    "users_monthly_compare.columns = ['current_users', 'gone_users']\n",
    "users_monthly_compare['difference'] = users_monthly_compare['current_users'] - users_monthly_compare['gone_users']\n",
    "users_monthly_compare"
   ]
  },
  {
   "cell_type": "markdown",
   "metadata": {},
   "source": [
    "Почти по всем показателям можно сделать вывод, что ушедшие пользователи в среднем имели более дорогую ежемесячную ставку, чем действующие клиенты. Особенно большая разница в 25% квартиле."
   ]
  },
  {
   "cell_type": "markdown",
   "metadata": {},
   "source": [
    "Посмотрим основные параметры и построим гистограмму распределения общих платежей за данный период для каждой из групп"
   ]
  },
  {
   "cell_type": "code",
   "execution_count": 226,
   "metadata": {},
   "outputs": [
    {
     "data": {
      "text/plain": [
       "count    7032.000000\n",
       "mean     2283.300441\n",
       "std      2266.771362\n",
       "min        18.800000\n",
       "25%       401.450000\n",
       "50%      1397.475000\n",
       "75%      3794.737500\n",
       "max      8684.800000\n",
       "Name: TotalCharges, dtype: float64"
      ]
     },
     "execution_count": 226,
     "metadata": {},
     "output_type": "execute_result"
    }
   ],
   "source": [
    "user_info['TotalCharges'].describe()"
   ]
  },
  {
   "cell_type": "code",
   "execution_count": 227,
   "metadata": {},
   "outputs": [
    {
     "data": {
      "text/plain": [
       "<AxesSubplot:xlabel='TotalCharges', ylabel='Count'>"
      ]
     },
     "execution_count": 227,
     "metadata": {},
     "output_type": "execute_result"
    },
    {
     "data": {
      "image/png": "[encoded data removed]",
      "text/plain": [
       "<Figure size 1080x576 with 1 Axes>"
      ]
     },
     "metadata": {
      "needs_background": "light"
     },
     "output_type": "display_data"
    }
   ],
   "source": [
    "plt.figure(figsize=(15,8))\n",
    "sns.histplot(data=user_info, x='TotalCharges', hue=\"target\", multiple=\"stack\", kde=True)"
   ]
  },
  {
   "cell_type": "markdown",
   "metadata": {},
   "source": [
    "Большая часть клиентов уходит в первый месяц использования, в дальшейшем их количество снижается"
   ]
  },
  {
   "cell_type": "markdown",
   "metadata": {},
   "source": [
    "Построим гистограмму распределения ежемесячных платежей для каждой из групп"
   ]
  },
  {
   "cell_type": "code",
   "execution_count": 228,
   "metadata": {},
   "outputs": [
    {
     "data": {
      "text/plain": [
       "<AxesSubplot:xlabel='MonthlyCharges', ylabel='Count'>"
      ]
     },
     "execution_count": 228,
     "metadata": {},
     "output_type": "execute_result"
    },
    {
     "data": {
      "image/png": "[encoded data removed]",
      "text/plain": [
       "<Figure size 1080x576 with 1 Axes>"
      ]
     },
     "metadata": {
      "needs_background": "light"
     },
     "output_type": "display_data"
    }
   ],
   "source": [
    "plt.figure(figsize=(15,8))\n",
    "sns.histplot(data=user_info, x='MonthlyCharges', hue=\"target\", multiple=\"stack\", kde=True)"
   ]
  },
  {
   "cell_type": "markdown",
   "metadata": {},
   "source": [
    "Среди пользователи, покупающих дополнительные услуги сервиса, и следовательно, имеющие более высокую ежемесячную оплату, гораздо больше недовольных, чем среди тех, кто этого не делает. Следовательно, можно предположить, что клиентов не устраивает соотношение цены\\качество дополнительных услуг, предоставляемых компанией"
   ]
  },
  {
   "cell_type": "markdown",
   "metadata": {},
   "source": [
    "Посмотрим мультиколлинеарность признаков, использую библиотеку phik"
   ]
  },
  {
   "cell_type": "code",
   "execution_count": 229,
   "metadata": {},
   "outputs": [],
   "source": [
    "interval_cols = ['MonthlyCharges', 'TotalCharges', 'months']\n",
    "user_info_corr = user_info.drop(columns={'EndDate', 'BeginDate', 'customerID'})\n",
    "user_info_corr_num = user_info_corr[interval_cols]\n",
    "user_info_corr_cat = user_info_corr[categorial_features]"
   ]
  },
  {
   "cell_type": "code",
   "execution_count": 230,
   "metadata": {},
   "outputs": [],
   "source": [
    "phik_num = user_info_corr_num.phik_matrix(interval_cols=interval_cols)\n",
    "phik_cat = user_info_corr_cat.phik_matrix(interval_cols=interval_cols)"
   ]
  },
  {
   "cell_type": "markdown",
   "metadata": {},
   "source": [
    "Построим матрицу корреляций для количественных признаков"
   ]
  },
  {
   "cell_type": "code",
   "execution_count": 231,
   "metadata": {},
   "outputs": [
    {
     "data": {
      "image/png": "[encoded data removed]",
      "text/plain": [
       "<Figure size 1152x576 with 2 Axes>"
      ]
     },
     "metadata": {
      "needs_background": "light"
     },
     "output_type": "display_data"
    }
   ],
   "source": [
    "plot_correlation_matrix(phik_num.values, \n",
    "                        x_labels=phik_num.columns, \n",
    "                        y_labels=phik_num.index, \n",
    "                        vmin=0, vmax=1, color_map=\"Greens\", \n",
    "                        title=r\"Корреляция количественных признаков\", \n",
    "                        fontsize_factor=1.5,\n",
    "                        figsize=(16, 8))\n",
    "plt.tight_layout()"
   ]
  },
  {
   "cell_type": "markdown",
   "metadata": {},
   "source": [
    "По понятным причинам высокая корреляция между 'TotalCharges' и 'MonthlyCharges'. Но нельзя однозначно сказать, что клиент, выбравший большое кол-во услуг(MonthlyCharges), будет долго пользоваться сервисом(TotalCharges) "
   ]
  },
  {
   "cell_type": "markdown",
   "metadata": {},
   "source": [
    "Построим матрицу корреляций для категориальных признаков"
   ]
  },
  {
   "cell_type": "code",
   "execution_count": 232,
   "metadata": {},
   "outputs": [
    {
     "data": {
      "image/png": "[encoded data removed]",
      "text/plain": [
       "<Figure size 1152x576 with 2 Axes>"
      ]
     },
     "metadata": {
      "needs_background": "light"
     },
     "output_type": "display_data"
    }
   ],
   "source": [
    "plot_correlation_matrix(phik_cat.values, \n",
    "                        x_labels=phik_cat.columns, \n",
    "                        y_labels=phik_cat.index, \n",
    "                        vmin=0, vmax=1, color_map=\"Greens\", \n",
    "                        title=r\"Корреляция категориальных признаков\", \n",
    "                        fontsize_factor=1.5,\n",
    "                        figsize=(16, 8))\n",
    "plt.tight_layout()"
   ]
  },
  {
   "cell_type": "markdown",
   "metadata": {},
   "source": [
    "Высокая мультиколлинеарность между 'service' и 'InternetService'. Удалим при обучении один из этих признаков"
   ]
  },
  {
   "cell_type": "markdown",
   "metadata": {},
   "source": [
    "Вывод: большое кол-во клиентов уходят после первого месяца использования. В основном уходят клиенты, подключившие большое кол-во доп услуг"
   ]
  },
  {
   "cell_type": "markdown",
   "metadata": {},
   "source": [
    "## Построение модели"
   ]
  },
  {
   "cell_type": "markdown",
   "metadata": {},
   "source": [
    "Уберем ненужные фичи и выделим таргет"
   ]
  },
  {
   "cell_type": "code",
   "execution_count": 233,
   "metadata": {},
   "outputs": [],
   "source": [
    "y = user_info['target']\n",
    "X = user_info.drop(columns={'customerID', 'BeginDate', 'EndDate', 'target', 'InternetService'})"
   ]
  },
  {
   "cell_type": "markdown",
   "metadata": {},
   "source": [
    "Разделим на тест и трейн"
   ]
  },
  {
   "cell_type": "code",
   "execution_count": 234,
   "metadata": {},
   "outputs": [],
   "source": [
    "X_train, X_test, y_train, y_test = train_test_split(X, y, test_size=0.25, random_state=231022)"
   ]
  },
  {
   "cell_type": "code",
   "execution_count": 235,
   "metadata": {},
   "outputs": [
    {
     "name": "stdout",
     "output_type": "stream",
     "text": [
      "<class 'pandas.core.frame.DataFrame'>\n",
      "Int64Index: 7032 entries, 2 to 7042\n",
      "Data columns (total 18 columns):\n",
      " #   Column            Non-Null Count  Dtype   \n",
      "---  ------            --------------  -----   \n",
      " 0   Type              7032 non-null   category\n",
      " 1   PaperlessBilling  7032 non-null   category\n",
      " 2   PaymentMethod     7032 non-null   category\n",
      " 3   MonthlyCharges    7032 non-null   float64 \n",
      " 4   TotalCharges      7032 non-null   float64 \n",
      " 5   gender            7032 non-null   category\n",
      " 6   SeniorCitizen     7032 non-null   category\n",
      " 7   Partner           7032 non-null   category\n",
      " 8   Dependents        7032 non-null   category\n",
      " 9   OnlineSecurity    7032 non-null   category\n",
      " 10  OnlineBackup      7032 non-null   category\n",
      " 11  DeviceProtection  7032 non-null   category\n",
      " 12  TechSupport       7032 non-null   category\n",
      " 13  StreamingTV       7032 non-null   category\n",
      " 14  StreamingMovies   7032 non-null   category\n",
      " 15  MultipleLines     7032 non-null   category\n",
      " 16  service           7032 non-null   category\n",
      " 17  months            7032 non-null   int64   \n",
      "dtypes: category(15), float64(2), int64(1)\n",
      "memory usage: 324.7 KB\n"
     ]
    }
   ],
   "source": [
    "X.info()"
   ]
  },
  {
   "cell_type": "markdown",
   "metadata": {},
   "source": [
    "Выделим количественные и категориальные фичи"
   ]
  },
  {
   "cell_type": "code",
   "execution_count": 236,
   "metadata": {},
   "outputs": [],
   "source": [
    "num_features = X.select_dtypes(include=np.number).columns.tolist()\n",
    "cat_features = X.select_dtypes(include='category').columns.tolist()"
   ]
  },
  {
   "cell_type": "markdown",
   "metadata": {},
   "source": [
    "Будем решать задачу классификации и обучим RandomForest, Catboost и полносвязную нейронную сеть"
   ]
  },
  {
   "cell_type": "markdown",
   "metadata": {},
   "source": [
    "Сделаем предпроцессинг. Для количественных фичей будем делать MinMaxScaler. Для категориальных OneHotEncoder"
   ]
  },
  {
   "cell_type": "code",
   "execution_count": 237,
   "metadata": {},
   "outputs": [],
   "source": [
    "cat_transformer_linear = OneHotEncoder(handle_unknown='error', drop='first')\n",
    "cat_transformer_tree = OrdinalEncoder(handle_unknown='ignore')\n",
    "num_transformer = MinMaxScaler()\n",
    "\n",
    "preprocessor_linear = ColumnTransformer(\n",
    "    transformers=[\n",
    "        (\"num\", num_transformer, num_features),\n",
    "        (\"cat\", cat_transformer_linear, cat_features)\n",
    "    ]\n",
    ")\n",
    "\n",
    "preprocessor_tree = ColumnTransformer(\n",
    "    transformers=[\n",
    "        (\"num\", num_transformer, num_features),\n",
    "        (\"cat\", cat_transformer_tree, cat_features)\n",
    "    ]\n",
    ")\n",
    "\n",
    "pipeline_preprocessor_linear = Pipeline([('preprocessor', preprocessor_linear)])   "
   ]
  },
  {
   "cell_type": "markdown",
   "metadata": {},
   "source": [
    "Для того, что интергрировать в sklearn GridSearchCV нейронную сеть, воспользуемся библиотекой skorch. Создадим простую модель из 2ух скрытых слоев и выходного c сигмойдной функцией активации. Количество эпох возьмем равным 5"
   ]
  },
  {
   "cell_type": "code",
   "execution_count": 238,
   "metadata": {},
   "outputs": [],
   "source": [
    "torch.manual_seed(231022)\n",
    "torch.use_deterministic_algorithms(True)\n",
    "\n",
    "net_epochs = 5\n",
    "n_in_neurons = pipeline_preprocessor_linear.fit_transform(X_train).shape[1]\n",
    "n_out_neurons = 1\n",
    "\n",
    "class MyModule(nn.Module):\n",
    "    def __init__(self,\n",
    "                 n_in_neurons=n_in_neurons,\n",
    "                 n_hidden_neurons_1=10,\n",
    "                 n_hidden_neurons_2=8,\n",
    "                 n_out_neurons=n_out_neurons):\n",
    "                 \n",
    "        super(MyModule, self).__init__()\n",
    "\n",
    "        self.fc1 = nn.Linear(n_in_neurons, n_hidden_neurons_1)\n",
    "        self.act1 = nn.ReLU()\n",
    "        self.fc2 = nn.Linear(n_hidden_neurons_1, n_hidden_neurons_2)\n",
    "        self.act2 = nn.ReLU()\n",
    "        self.fc3 = nn.Linear(n_hidden_neurons_2, n_out_neurons)        \n",
    "        self.act3 = nn.Sigmoid() \n",
    "\n",
    "    def forward(self, x):\n",
    "      x = self.fc1(x)\n",
    "      x = self.act1(x)\n",
    "      x = self.fc2(x)\n",
    "      x = self.act2(x)\n",
    "      x = self.fc3(x)\n",
    "      x = self.act3(x)\n",
    "      return x \n",
    "\n",
    "\n",
    "net = NeuralNetClassifier(\n",
    "    MyModule,\n",
    "    max_epochs=net_epochs,\n",
    "    criterion=torch.nn.BCELoss,\n",
    "    verbose=0\n",
    ")"
   ]
  },
  {
   "cell_type": "markdown",
   "metadata": {},
   "source": [
    "Сделаем пайплайны для каждой из моделей. Для Catboost не будем делать предпроцессинг, т.к у него свои методы работы с категориальными и количественными фичами. Для нейронной сети предпроцессинг вынесен в функцию ниже"
   ]
  },
  {
   "cell_type": "code",
   "execution_count": 239,
   "metadata": {},
   "outputs": [],
   "source": [
    "pipeline_tree = Pipeline([('preprocessor', preprocessor_tree),\n",
    "                          ('tree', None)])\n",
    "\n",
    "pipeline_catboost = Pipeline([('catboost', None)])      \n",
    "\n",
    "pipeline_net = Pipeline([('net', None)])"
   ]
  },
  {
   "cell_type": "markdown",
   "metadata": {},
   "source": [
    "Сделаем сетки для перебора гиперпараметров для каждой из моделей<br>\n",
    "<br>\n",
    "Для деревьев:\n",
    "\n",
    "    количество деревьев\n",
    "    глубина\n",
    "\n",
    "Для бустинга:\n",
    "\n",
    "    количество деревьев\n",
    "    глубина\n",
    "    лернинг рейт\n",
    "\n",
    "Для нейронной сети:\n",
    "\n",
    "    лернинг рейт\n",
    "    количество нейроной первого скрытого слоя\n",
    "    количество нейроной второго скрытого слоя"
   ]
  },
  {
   "cell_type": "code",
   "execution_count": 240,
   "metadata": {},
   "outputs": [],
   "source": [
    "param_tree = {\n",
    "     'tree': (RandomForestClassifier(random_state=231022),),\n",
    "     'tree__n_estimators': [200, 300, 500],\n",
    "     'tree__max_depth': [10, 20, 30],\n",
    "     }\n",
    "\n",
    "\n",
    "param_catboost = {\n",
    "    'catboost': (CatBoostClassifier(random_state=231022, \n",
    "                                     verbose=0,\n",
    "                                     od_type='Iter',\n",
    "                                     od_wait=10,\n",
    "                                     cat_features=cat_features,),),\n",
    "     'catboost__n_estimators': [100, 200],\n",
    "     'catboost__max_depth': [4, 6],\n",
    "     'catboost__learning_rate': [0.05, 0.1]\n",
    "     }\n",
    "\n",
    "\n",
    "param_net = {\n",
    "    'net': (net,),\n",
    "    'net__lr': [0.01, 0.05],\n",
    "    'net__module__n_hidden_neurons_1': [32, 16],\n",
    "    'net__module__n_hidden_neurons_2': [10, 6]\n",
    "}"
   ]
  },
  {
   "cell_type": "markdown",
   "metadata": {},
   "source": [
    "Подготовим все для GridSearchCV"
   ]
  },
  {
   "cell_type": "code",
   "execution_count": 241,
   "metadata": {},
   "outputs": [],
   "source": [
    "pipelines = [pipeline_tree, pipeline_catboost, pipeline_net]\n",
    "param_grids = [param_tree, param_catboost, param_net]\n",
    "names = ['tree', 'catboost', 'net']"
   ]
  },
  {
   "cell_type": "markdown",
   "metadata": {},
   "source": [
    "Напишем функцию для фита в GridSearch и выведение результатов на экран. Будем использовать метрику roc-auc. Кросс-валидацию сделаем 3, чтобы не тратить много времени. Для нейронной сети будем отдельно делать предпроцессинг и перевод в тензорный тип"
   ]
  },
  {
   "cell_type": "code",
   "execution_count": 242,
   "metadata": {},
   "outputs": [],
   "source": [
    "def gs_and_result(pipeline, param_grid, name, cv, n_jobs):\n",
    "    gs = GridSearchCV(pipeline,\n",
    "                      param_grid,\n",
    "                      scoring='roc_auc',\n",
    "                      n_jobs=n_jobs,\n",
    "                      refit='roc_auc',\n",
    "                      cv=cv)\n",
    "\n",
    "    #change data to tensors if we fit net\n",
    "    if (name == 'net'):\n",
    "        X_train_tensor = torch.FloatTensor(pipeline_preprocessor_linear.fit_transform(X_train, y_train))\n",
    "        y_train_tensor = torch.Tensor(np.array(y_train)).reshape(-1, 1)\n",
    "        gs.fit(X_train_tensor, y_train_tensor)\n",
    "    else:\n",
    "        gs.fit(X_train, y_train)\n",
    "\n",
    "    #top models table\n",
    "    print('Top ' + name + ' models:')\n",
    "    results_df = pd.DataFrame(gs.cv_results_)\n",
    "    results_df = results_df.sort_values(by=[\"rank_test_score\"])\n",
    "\n",
    "    #display for tree model\n",
    "    if (name == 'tree'):    \n",
    "        params = results_df[\"params\"].apply(pd.Series).to_dict()\n",
    "        keys = list(params.keys())\n",
    "        results_df[\"max_depth\"] = params[keys[1]].values()\n",
    "        results_df[\"max_estimators\"] = params[keys[2]].values()\n",
    "\n",
    "        display(results_df[[\"max_depth\", \"max_estimators\", 'mean_test_score', 'rank_test_score']]\n",
    "                .head(5)\n",
    "                .rename(columns={'mean_test_score': 'cv_score'})\n",
    "                .rename(columns={'rank_test_score': 'rank_cv_score'}))\n",
    "\n",
    "    #display for catboost model\n",
    "    if (name == 'catboost'):    \n",
    "        params = results_df[\"params\"].apply(pd.Series).to_dict()\n",
    "        keys = list(params.keys())\n",
    "        results_df[\"lr\"] = params[keys[1]].values()\n",
    "        results_df[\"max_depth\"] = params[keys[2]].values()\n",
    "        results_df[\"max_estimators\"] = params[keys[3]].values()\n",
    "\n",
    "        display(results_df[['lr', \"max_depth\", \"max_estimators\", 'mean_test_score', 'rank_test_score']]\n",
    "                .head(5)\n",
    "                .rename(columns={'mean_test_score': 'cv_score'})\n",
    "                .rename(columns={'rank_test_score': 'rank_cv_score'}))\n",
    "\n",
    "    #display for net model\n",
    "    if (name == 'net'):    \n",
    "        params = results_df[\"params\"].apply(pd.Series).to_dict()\n",
    "        keys = list(params.keys())\n",
    "        results_df[\"lr\"] = params[keys[0]].values()\n",
    "        results_df[\"n_hidden_neurons_1\"] = params[keys[1]].values()\n",
    "        results_df[\"n_hidden_neurons_2\"] = params[keys[2]].values()\n",
    "\n",
    "        display(results_df[[\"lr\", 'n_hidden_neurons_1', 'n_hidden_neurons_2', 'mean_test_score', 'rank_test_score']]\n",
    "                .head(5)\n",
    "                .rename(columns={'mean_test_score': 'cv_score'})\n",
    "                .rename(columns={'rank_test_score': 'rank_cv_score'})) \n",
    "\n",
    "    #best cv score\n",
    "    print('Best cv score of ' + name + ' model:')\n",
    "    print(round(gs.best_score_, 3))\n",
    "    print()\n",
    "  \n",
    "    return gs   "
   ]
  },
  {
   "cell_type": "markdown",
   "metadata": {},
   "source": [
    "Посмотрим результат. Для каждой модели выведем топ-5 лучших"
   ]
  },
  {
   "cell_type": "code",
   "execution_count": 243,
   "metadata": {},
   "outputs": [
    {
     "name": "stdout",
     "output_type": "stream",
     "text": [
      "Top tree models:\n"
     ]
    },
    {
     "data": {
      "text/html": [
       "<div>\n",
       "<style scoped>\n",
       "    .dataframe tbody tr th:only-of-type {\n",
       "        vertical-align: middle;\n",
       "    }\n",
       "\n",
       "    .dataframe tbody tr th {\n",
       "        vertical-align: top;\n",
       "    }\n",
       "\n",
       "    .dataframe thead th {\n",
       "        text-align: right;\n",
       "    }\n",
       "</style>\n",
       "<table border=\"1\" class=\"dataframe\">\n",
       "  <thead>\n",
       "    <tr style=\"text-align: right;\">\n",
       "      <th></th>\n",
       "      <th>max_depth</th>\n",
       "      <th>max_estimators</th>\n",
       "      <th>cv_score</th>\n",
       "      <th>rank_cv_score</th>\n",
       "    </tr>\n",
       "  </thead>\n",
       "  <tbody>\n",
       "    <tr>\n",
       "      <th>2</th>\n",
       "      <td>10</td>\n",
       "      <td>500</td>\n",
       "      <td>0.831618</td>\n",
       "      <td>1</td>\n",
       "    </tr>\n",
       "    <tr>\n",
       "      <th>1</th>\n",
       "      <td>10</td>\n",
       "      <td>300</td>\n",
       "      <td>0.831206</td>\n",
       "      <td>2</td>\n",
       "    </tr>\n",
       "    <tr>\n",
       "      <th>0</th>\n",
       "      <td>10</td>\n",
       "      <td>200</td>\n",
       "      <td>0.830284</td>\n",
       "      <td>3</td>\n",
       "    </tr>\n",
       "    <tr>\n",
       "      <th>6</th>\n",
       "      <td>30</td>\n",
       "      <td>200</td>\n",
       "      <td>0.820245</td>\n",
       "      <td>4</td>\n",
       "    </tr>\n",
       "    <tr>\n",
       "      <th>5</th>\n",
       "      <td>20</td>\n",
       "      <td>500</td>\n",
       "      <td>0.820243</td>\n",
       "      <td>5</td>\n",
       "    </tr>\n",
       "  </tbody>\n",
       "</table>\n",
       "</div>"
      ],
      "text/plain": [
       "   max_depth  max_estimators  cv_score  rank_cv_score\n",
       "2         10             500  0.831618              1\n",
       "1         10             300  0.831206              2\n",
       "0         10             200  0.830284              3\n",
       "6         30             200  0.820245              4\n",
       "5         20             500  0.820243              5"
      ]
     },
     "metadata": {},
     "output_type": "display_data"
    },
    {
     "name": "stdout",
     "output_type": "stream",
     "text": [
      "Best cv score of tree model:\n",
      "0.832\n",
      "\n",
      "Top catboost models:\n"
     ]
    },
    {
     "data": {
      "text/html": [
       "<div>\n",
       "<style scoped>\n",
       "    .dataframe tbody tr th:only-of-type {\n",
       "        vertical-align: middle;\n",
       "    }\n",
       "\n",
       "    .dataframe tbody tr th {\n",
       "        vertical-align: top;\n",
       "    }\n",
       "\n",
       "    .dataframe thead th {\n",
       "        text-align: right;\n",
       "    }\n",
       "</style>\n",
       "<table border=\"1\" class=\"dataframe\">\n",
       "  <thead>\n",
       "    <tr style=\"text-align: right;\">\n",
       "      <th></th>\n",
       "      <th>lr</th>\n",
       "      <th>max_depth</th>\n",
       "      <th>max_estimators</th>\n",
       "      <th>cv_score</th>\n",
       "      <th>rank_cv_score</th>\n",
       "    </tr>\n",
       "  </thead>\n",
       "  <tbody>\n",
       "    <tr>\n",
       "      <th>1</th>\n",
       "      <td>0.05</td>\n",
       "      <td>4</td>\n",
       "      <td>200</td>\n",
       "      <td>0.836209</td>\n",
       "      <td>1</td>\n",
       "    </tr>\n",
       "    <tr>\n",
       "      <th>4</th>\n",
       "      <td>0.10</td>\n",
       "      <td>4</td>\n",
       "      <td>100</td>\n",
       "      <td>0.836182</td>\n",
       "      <td>2</td>\n",
       "    </tr>\n",
       "    <tr>\n",
       "      <th>6</th>\n",
       "      <td>0.10</td>\n",
       "      <td>6</td>\n",
       "      <td>100</td>\n",
       "      <td>0.836156</td>\n",
       "      <td>3</td>\n",
       "    </tr>\n",
       "    <tr>\n",
       "      <th>5</th>\n",
       "      <td>0.10</td>\n",
       "      <td>4</td>\n",
       "      <td>200</td>\n",
       "      <td>0.835176</td>\n",
       "      <td>4</td>\n",
       "    </tr>\n",
       "    <tr>\n",
       "      <th>3</th>\n",
       "      <td>0.05</td>\n",
       "      <td>6</td>\n",
       "      <td>200</td>\n",
       "      <td>0.835154</td>\n",
       "      <td>5</td>\n",
       "    </tr>\n",
       "  </tbody>\n",
       "</table>\n",
       "</div>"
      ],
      "text/plain": [
       "     lr  max_depth  max_estimators  cv_score  rank_cv_score\n",
       "1  0.05          4             200  0.836209              1\n",
       "4  0.10          4             100  0.836182              2\n",
       "6  0.10          6             100  0.836156              3\n",
       "5  0.10          4             200  0.835176              4\n",
       "3  0.05          6             200  0.835154              5"
      ]
     },
     "metadata": {},
     "output_type": "display_data"
    },
    {
     "name": "stdout",
     "output_type": "stream",
     "text": [
      "Best cv score of catboost model:\n",
      "0.836\n",
      "\n",
      "Top net models:\n"
     ]
    },
    {
     "data": {
      "text/html": [
       "<div>\n",
       "<style scoped>\n",
       "    .dataframe tbody tr th:only-of-type {\n",
       "        vertical-align: middle;\n",
       "    }\n",
       "\n",
       "    .dataframe tbody tr th {\n",
       "        vertical-align: top;\n",
       "    }\n",
       "\n",
       "    .dataframe thead th {\n",
       "        text-align: right;\n",
       "    }\n",
       "</style>\n",
       "<table border=\"1\" class=\"dataframe\">\n",
       "  <thead>\n",
       "    <tr style=\"text-align: right;\">\n",
       "      <th></th>\n",
       "      <th>lr</th>\n",
       "      <th>n_hidden_neurons_1</th>\n",
       "      <th>n_hidden_neurons_2</th>\n",
       "      <th>cv_score</th>\n",
       "      <th>rank_cv_score</th>\n",
       "    </tr>\n",
       "  </thead>\n",
       "  <tbody>\n",
       "    <tr>\n",
       "      <th>4</th>\n",
       "      <td>&lt;class 'skorch.classifier.NeuralNetClassifier'...</td>\n",
       "      <td>0.05</td>\n",
       "      <td>32</td>\n",
       "      <td>0.683062</td>\n",
       "      <td>1</td>\n",
       "    </tr>\n",
       "    <tr>\n",
       "      <th>5</th>\n",
       "      <td>&lt;class 'skorch.classifier.NeuralNetClassifier'...</td>\n",
       "      <td>0.05</td>\n",
       "      <td>32</td>\n",
       "      <td>0.662054</td>\n",
       "      <td>2</td>\n",
       "    </tr>\n",
       "    <tr>\n",
       "      <th>6</th>\n",
       "      <td>&lt;class 'skorch.classifier.NeuralNetClassifier'...</td>\n",
       "      <td>0.05</td>\n",
       "      <td>16</td>\n",
       "      <td>0.659368</td>\n",
       "      <td>3</td>\n",
       "    </tr>\n",
       "    <tr>\n",
       "      <th>1</th>\n",
       "      <td>&lt;class 'skorch.classifier.NeuralNetClassifier'...</td>\n",
       "      <td>0.01</td>\n",
       "      <td>32</td>\n",
       "      <td>0.581621</td>\n",
       "      <td>4</td>\n",
       "    </tr>\n",
       "    <tr>\n",
       "      <th>2</th>\n",
       "      <td>&lt;class 'skorch.classifier.NeuralNetClassifier'...</td>\n",
       "      <td>0.01</td>\n",
       "      <td>16</td>\n",
       "      <td>0.535903</td>\n",
       "      <td>5</td>\n",
       "    </tr>\n",
       "  </tbody>\n",
       "</table>\n",
       "</div>"
      ],
      "text/plain": [
       "                                                  lr  n_hidden_neurons_1  \\\n",
       "4  <class 'skorch.classifier.NeuralNetClassifier'...                0.05   \n",
       "5  <class 'skorch.classifier.NeuralNetClassifier'...                0.05   \n",
       "6  <class 'skorch.classifier.NeuralNetClassifier'...                0.05   \n",
       "1  <class 'skorch.classifier.NeuralNetClassifier'...                0.01   \n",
       "2  <class 'skorch.classifier.NeuralNetClassifier'...                0.01   \n",
       "\n",
       "   n_hidden_neurons_2  cv_score  rank_cv_score  \n",
       "4                  32  0.683062              1  \n",
       "5                  32  0.662054              2  \n",
       "6                  16  0.659368              3  \n",
       "1                  32  0.581621              4  \n",
       "2                  16  0.535903              5  "
      ]
     },
     "metadata": {},
     "output_type": "display_data"
    },
    {
     "name": "stdout",
     "output_type": "stream",
     "text": [
      "Best cv score of net model:\n",
      "0.683\n",
      "\n"
     ]
    }
   ],
   "source": [
    "cv = 3\n",
    "n_jobs = 10\n",
    "\n",
    "best_estimators = {}\n",
    "for pipeline, param_grid, name in zip(pipelines, param_grids, names):   \n",
    "    best_estimators[name] = gs_and_result(pipeline, param_grid, name, cv, n_jobs).best_estimator_"
   ]
  },
  {
   "cell_type": "markdown",
   "metadata": {},
   "source": [
    "Лучшая модель: catboost"
   ]
  },
  {
   "cell_type": "code",
   "execution_count": 244,
   "metadata": {},
   "outputs": [],
   "source": [
    "best_model = best_estimators['catboost']"
   ]
  },
  {
   "cell_type": "markdown",
   "metadata": {},
   "source": [
    "Вывод: Мы взяли 3 типа моделей: decision tree, catboost, neural network и, перебрав гиперпаметры, нашли среди них наилучшую модель. Ее оказался catboost"
   ]
  },
  {
   "cell_type": "markdown",
   "metadata": {},
   "source": [
    "## Тестирование модели"
   ]
  },
  {
   "cell_type": "markdown",
   "metadata": {},
   "source": [
    "Посмотрим результат на тесте. Посчитаем roc-auc и accuracy"
   ]
  },
  {
   "cell_type": "code",
   "execution_count": 245,
   "metadata": {},
   "outputs": [
    {
     "name": "stdout",
     "output_type": "stream",
     "text": [
      "Test roc-auc score:\n",
      "0.867\n",
      "\n",
      "Test accuracy score:\n",
      "0.825\n"
     ]
    }
   ],
   "source": [
    "print('Test roc-auc score:')\n",
    "print(round(roc_auc_score(y_test, best_model.predict_proba(X_test)[:, 1]), 3))\n",
    "print()\n",
    "print('Test accuracy score:')\n",
    "print(round(accuracy_score(y_test, best_model.predict(X_test)), 3))"
   ]
  },
  {
   "cell_type": "markdown",
   "metadata": {},
   "source": [
    "Построим матрицу ошибок, найдем параметры, которые сильнее всего влияют на таргет"
   ]
  },
  {
   "cell_type": "code",
   "execution_count": 246,
   "metadata": {},
   "outputs": [],
   "source": [
    "preds = best_model.predict(X_test)"
   ]
  },
  {
   "cell_type": "code",
   "execution_count": 247,
   "metadata": {},
   "outputs": [
    {
     "data": {
      "text/plain": [
       "<sklearn.metrics._plot.confusion_matrix.ConfusionMatrixDisplay at 0x7fec590bf160>"
      ]
     },
     "execution_count": 247,
     "metadata": {},
     "output_type": "execute_result"
    },
    {
     "data": {
      "image/png": "[encoded data removed]",
      "text/plain": [
       "<Figure size 576x576 with 2 Axes>"
      ]
     },
     "metadata": {
      "needs_background": "light"
     },
     "output_type": "display_data"
    }
   ],
   "source": [
    "cm = confusion_matrix(y_test, preds)\n",
    "disp = ConfusionMatrixDisplay(confusion_matrix=cm,\n",
    "                               display_labels=best_model.classes_)\n",
    "fig, ax = plt.subplots(figsize=(8,8))\n",
    "disp.plot(ax=ax)                    "
   ]
  },
  {
   "cell_type": "markdown",
   "metadata": {},
   "source": [
    "На нашей тестовой выборки модель 235 раз правильно обнаружила \"уходящего\" клиента и в 99 случаях ошиблась. Итого, мы получили precision в 70%. Если компания будет тратить дополнительно средства на удержания потенциально \"уходящих\" клиентов, хватит ли ей этого показателя, чтобы данные меры принесли прибыль, не ясно, т.к мы не располагаем информацией о бизнес-модели данного оператора"
   ]
  },
  {
   "cell_type": "markdown",
   "metadata": {},
   "source": [
    "Построим график precision/recall"
   ]
  },
  {
   "cell_type": "code",
   "execution_count": 248,
   "metadata": {},
   "outputs": [],
   "source": [
    "precision, recall, _ = precision_recall_curve(y_test, preds)"
   ]
  },
  {
   "cell_type": "code",
   "execution_count": 249,
   "metadata": {},
   "outputs": [
    {
     "data": {
      "text/plain": [
       "<sklearn.metrics._plot.precision_recall_curve.PrecisionRecallDisplay at 0x7fec42b37160>"
      ]
     },
     "execution_count": 249,
     "metadata": {},
     "output_type": "execute_result"
    },
    {
     "data": {
      "image/png": "[encoded data removed]",
      "text/plain": [
       "<Figure size 576x576 with 1 Axes>"
      ]
     },
     "metadata": {
      "needs_background": "light"
     },
     "output_type": "display_data"
    }
   ],
   "source": [
    "disp = PrecisionRecallDisplay(precision=precision, recall=recall)\n",
    "fig, ax = plt.subplots(figsize=(8,8))\n",
    "disp.plot(ax=ax) "
   ]
  },
  {
   "cell_type": "markdown",
   "metadata": {},
   "source": [
    "Посмотрим feature importance"
   ]
  },
  {
   "cell_type": "code",
   "execution_count": 250,
   "metadata": {},
   "outputs": [
    {
     "data": {
      "text/plain": [
       "Type                33.348184\n",
       "MonthlyCharges      20.230140\n",
       "TotalCharges        16.583968\n",
       "service              9.178970\n",
       "OnlineSecurity       3.846911\n",
       "PaymentMethod        3.745931\n",
       "PaperlessBilling     3.025422\n",
       "months               2.461393\n",
       "TechSupport          1.591507\n",
       "StreamingMovies      1.160824\n",
       "MultipleLines        1.045106\n",
       "SeniorCitizen        0.848913\n",
       "OnlineBackup         0.790970\n",
       "gender               0.631704\n",
       "Dependents           0.615623\n",
       "StreamingTV          0.400576\n",
       "Partner              0.387068\n",
       "DeviceProtection     0.106791\n",
       "dtype: float64"
      ]
     },
     "execution_count": 250,
     "metadata": {},
     "output_type": "execute_result"
    }
   ],
   "source": [
    "pd.Series(best_model[0].feature_importances_, index=X_test.columns).sort_values(ascending=False)"
   ]
  },
  {
   "cell_type": "markdown",
   "metadata": {},
   "source": [
    "Построим для первых трех графики зависимости от таргета"
   ]
  },
  {
   "cell_type": "markdown",
   "metadata": {},
   "source": [
    "MonthlyCharges:"
   ]
  },
  {
   "cell_type": "code",
   "execution_count": 251,
   "metadata": {},
   "outputs": [
    {
     "data": {
      "text/plain": [
       "(0.0, 1200.0)"
      ]
     },
     "execution_count": 251,
     "metadata": {},
     "output_type": "execute_result"
    },
    {
     "data": {
      "image/png": "[encoded data removed]",
      "text/plain": [
       "<Figure size 906.375x576 with 1 Axes>"
      ]
     },
     "metadata": {
      "needs_background": "light"
     },
     "output_type": "display_data"
    }
   ],
   "source": [
    "sns.displot(data=user_info, x=\"MonthlyCharges\", hue='target', kde=True, height=8, multiple='stack', aspect=1.5)\n",
    "plt.xlim(0, 130)\n",
    "plt.ylim(0, 1200)"
   ]
  },
  {
   "cell_type": "markdown",
   "metadata": {},
   "source": [
    "Тот же график, что и в разделе исследования данных"
   ]
  },
  {
   "cell_type": "markdown",
   "metadata": {},
   "source": [
    "TotalCharges:"
   ]
  },
  {
   "cell_type": "code",
   "execution_count": 252,
   "metadata": {},
   "outputs": [
    {
     "data": {
      "text/plain": [
       "(0.0, 1700.0)"
      ]
     },
     "execution_count": 252,
     "metadata": {},
     "output_type": "execute_result"
    },
    {
     "data": {
      "image/png": "[encoded data removed]",
      "text/plain": [
       "<Figure size 906.375x576 with 1 Axes>"
      ]
     },
     "metadata": {
      "needs_background": "light"
     },
     "output_type": "display_data"
    }
   ],
   "source": [
    "sns.displot(data=user_info, x=\"TotalCharges\", hue='target', kde=True, height=8, aspect=1.5, multiple='stack')\n",
    "plt.xlim(0, 9000)\n",
    "plt.ylim(0, 1700)"
   ]
  },
  {
   "cell_type": "markdown",
   "metadata": {},
   "source": [
    "Тот же график, что и в разделе исследования данных"
   ]
  },
  {
   "cell_type": "markdown",
   "metadata": {},
   "source": [
    "Type:"
   ]
  },
  {
   "cell_type": "code",
   "execution_count": 253,
   "metadata": {},
   "outputs": [
    {
     "data": {
      "text/plain": [
       "<AxesSubplot:xlabel='Type', ylabel='Count'>"
      ]
     },
     "execution_count": 253,
     "metadata": {},
     "output_type": "execute_result"
    },
    {
     "data": {
      "image/png": "[encoded data removed]",
      "text/plain": [
       "<Figure size 1080x576 with 1 Axes>"
      ]
     },
     "metadata": {
      "needs_background": "light"
     },
     "output_type": "display_data"
    }
   ],
   "source": [
    "plt.figure(figsize=(15,8))\n",
    "sns.histplot(data=user_info, x='Type', hue=\"target\", multiple='dodge')"
   ]
  },
  {
   "cell_type": "markdown",
   "metadata": {},
   "source": [
    "Вывод: В основном, уходят пользователи, использующие помесячную оплату. Т.е те, которые захотели попробовать сервис и разочаровались в цене\\условиях\\качестве предоставляемых услуг"
   ]
  },
  {
   "cell_type": "markdown",
   "metadata": {},
   "source": [
    "## Общий вывод и рекомендации"
   ]
  },
  {
   "cell_type": "markdown",
   "metadata": {},
   "source": [
    "Целью исследования было построение модели, предсказывающий возможный уход клиента сервиса. Нам были даны исторические данные небольшого временного промежутка. Мы сделали предподготовку данных, почистив сет от пропусков, добавили новые фичи.<br>\n",
    "\n",
    "Далее, использовав метрику roc-auc, построили ряд моделей из следующих классов: decision tree, boosting, neural network. Для получения лучшего результата, мы использовали перебор гиперпараметров и кросс-валидацию.<br>\n",
    "Лучшие результаты показала модель catboost с параметрами:\n",
    "\n",
    "    learning rate:  0.05\n",
    "    max depth:      4\n",
    "    max estimators: 200\n",
    "    \n",
    "Она показала результат 0.867 на тестовой выборке.<br>\n",
    "Далее мы посмотрели, какие параметры влияют на возможный шанс ухода клиента.<br>\n",
    "Ими оказались:\n",
    "\n",
    "    'MonthlyCharges'\n",
    "    'TotalCharges'\n",
    "    'Type'\n",
    "\n",
    "Мы построили графики их зависимости от таргета и пришли к выводу, ушедшие клиенты в среднем обладают следующими свойствами:\n",
    "\n",
    "    - новые клиенты\n",
    "    - помесячный тип оплаты, т.е те, которые хотят посмотреть, подходит им сервис или нет\n",
    "    - подключающие дополнительные услуги, возможно, ради них они и решили воспользоваться провайдером\n",
    "\n",
    "На основе этого мы предлагаем следующие рекомендации:\n",
    "\n",
    "    - более комфортные условия\\скидки новым клиентам\n",
    "    - акции на приобретения годового, 2-ух годового пакета, т.к среди этих клиентов отток значительно меньше по понятным причинам\n",
    "    - посмотреть на соотношение цены\\качества предоставляемых услуг\n",
    "    \n",
    "\n"
   ]
  }
 ],
 "metadata": {
  "ExecuteTimeLog": [
   {
    "duration": 28,
    "start_time": "2022-10-30T08:15:59.630Z"
   },
   {
    "duration": 1748,
    "start_time": "2022-10-30T08:16:33.391Z"
   },
   {
    "duration": 21,
    "start_time": "2022-10-30T08:16:42.550Z"
   },
   {
    "duration": 3,
    "start_time": "2022-10-30T08:17:19.897Z"
   },
   {
    "duration": 2521,
    "start_time": "2022-10-30T08:17:20.331Z"
   },
   {
    "duration": 42,
    "start_time": "2022-10-30T08:18:14.595Z"
   },
   {
    "duration": 25,
    "start_time": "2022-10-30T08:18:33.961Z"
   },
   {
    "duration": 46,
    "start_time": "2022-10-30T08:26:51.890Z"
   },
   {
    "duration": 59,
    "start_time": "2022-10-30T08:30:55.889Z"
   },
   {
    "duration": 12,
    "start_time": "2022-10-30T08:31:04.050Z"
   },
   {
    "duration": 2084,
    "start_time": "2022-10-30T08:31:04.064Z"
   },
   {
    "duration": 3,
    "start_time": "2022-10-30T08:31:06.150Z"
   },
   {
    "duration": 10,
    "start_time": "2022-10-30T08:31:06.155Z"
   },
   {
    "duration": 6417,
    "start_time": "2022-10-30T08:31:06.167Z"
   },
   {
    "duration": 301,
    "start_time": "2022-10-30T08:31:12.585Z"
   },
   {
    "duration": 134,
    "start_time": "2022-10-30T08:31:12.888Z"
   },
   {
    "duration": 58,
    "start_time": "2022-10-30T08:31:13.023Z"
   },
   {
    "duration": 16,
    "start_time": "2022-10-30T08:31:13.084Z"
   },
   {
    "duration": 48,
    "start_time": "2022-10-30T08:31:13.102Z"
   },
   {
    "duration": 11,
    "start_time": "2022-10-30T08:31:13.152Z"
   },
   {
    "duration": 14,
    "start_time": "2022-10-30T08:31:13.164Z"
   },
   {
    "duration": 4,
    "start_time": "2022-10-30T08:31:13.180Z"
   },
   {
    "duration": 32,
    "start_time": "2022-10-30T08:31:13.185Z"
   },
   {
    "duration": 249,
    "start_time": "2022-10-30T08:31:13.239Z"
   },
   {
    "duration": 14,
    "start_time": "2022-10-30T08:31:13.489Z"
   },
   {
    "duration": 9,
    "start_time": "2022-10-30T08:31:13.505Z"
   },
   {
    "duration": 27,
    "start_time": "2022-10-30T08:31:13.516Z"
   },
   {
    "duration": 6,
    "start_time": "2022-10-30T08:31:13.545Z"
   },
   {
    "duration": 10,
    "start_time": "2022-10-30T08:31:13.552Z"
   },
   {
    "duration": 16,
    "start_time": "2022-10-30T08:31:13.564Z"
   },
   {
    "duration": 17,
    "start_time": "2022-10-30T08:31:13.582Z"
   },
   {
    "duration": 11,
    "start_time": "2022-10-30T08:31:13.601Z"
   },
   {
    "duration": 45,
    "start_time": "2022-10-30T08:31:13.614Z"
   },
   {
    "duration": 12,
    "start_time": "2022-10-30T08:31:13.661Z"
   },
   {
    "duration": 6,
    "start_time": "2022-10-30T08:31:13.675Z"
   },
   {
    "duration": 104,
    "start_time": "2022-10-30T08:31:13.682Z"
   },
   {
    "duration": 12,
    "start_time": "2022-10-30T08:31:13.788Z"
   },
   {
    "duration": 63,
    "start_time": "2022-10-30T08:31:25.289Z"
   },
   {
    "duration": 113,
    "start_time": "2022-10-30T08:31:56.570Z"
   },
   {
    "duration": 9,
    "start_time": "2022-10-30T08:32:18.489Z"
   },
   {
    "duration": 45,
    "start_time": "2022-10-30T08:32:21.589Z"
   },
   {
    "duration": 44,
    "start_time": "2022-10-30T08:32:33.049Z"
   },
   {
    "duration": 14,
    "start_time": "2022-10-30T08:32:37.730Z"
   },
   {
    "duration": 4,
    "start_time": "2022-10-30T08:38:47.043Z"
   },
   {
    "duration": 8,
    "start_time": "2022-10-30T08:41:44.609Z"
   },
   {
    "duration": 93,
    "start_time": "2022-10-30T09:00:02.416Z"
   },
   {
    "duration": 54,
    "start_time": "2022-10-30T09:00:05.233Z"
   },
   {
    "duration": 49,
    "start_time": "2022-10-30T09:10:11.729Z"
   },
   {
    "duration": 46,
    "start_time": "2022-10-30T09:11:14.456Z"
   },
   {
    "duration": 7,
    "start_time": "2022-10-30T09:31:03.068Z"
   },
   {
    "duration": 2933,
    "start_time": "2022-10-30T09:31:04.312Z"
   },
   {
    "duration": 2,
    "start_time": "2022-10-30T09:31:18.583Z"
   },
   {
    "duration": 1518,
    "start_time": "2022-10-30T09:31:18.587Z"
   },
   {
    "duration": 2430,
    "start_time": "2022-10-30T09:31:20.107Z"
   },
   {
    "duration": 3,
    "start_time": "2022-10-30T09:31:22.539Z"
   },
   {
    "duration": 6,
    "start_time": "2022-10-30T09:31:22.544Z"
   },
   {
    "duration": 7730,
    "start_time": "2022-10-30T09:31:22.552Z"
   },
   {
    "duration": 139,
    "start_time": "2022-10-30T09:31:30.284Z"
   },
   {
    "duration": 119,
    "start_time": "2022-10-30T09:31:30.424Z"
   },
   {
    "duration": 27,
    "start_time": "2022-10-30T09:31:30.545Z"
   },
   {
    "duration": 24,
    "start_time": "2022-10-30T09:31:30.574Z"
   },
   {
    "duration": 18,
    "start_time": "2022-10-30T09:31:30.601Z"
   },
   {
    "duration": 10,
    "start_time": "2022-10-30T09:31:30.621Z"
   },
   {
    "duration": 21,
    "start_time": "2022-10-30T09:31:30.633Z"
   },
   {
    "duration": 15,
    "start_time": "2022-10-30T09:31:30.656Z"
   },
   {
    "duration": 57,
    "start_time": "2022-10-30T09:31:30.673Z"
   },
   {
    "duration": 242,
    "start_time": "2022-10-30T09:31:30.732Z"
   },
   {
    "duration": 23,
    "start_time": "2022-10-30T09:31:30.975Z"
   },
   {
    "duration": 9,
    "start_time": "2022-10-30T09:31:31.000Z"
   },
   {
    "duration": 15,
    "start_time": "2022-10-30T09:31:31.010Z"
   },
   {
    "duration": 21,
    "start_time": "2022-10-30T09:31:31.027Z"
   },
   {
    "duration": 16,
    "start_time": "2022-10-30T09:31:31.050Z"
   },
   {
    "duration": 22,
    "start_time": "2022-10-30T09:31:31.068Z"
   },
   {
    "duration": 27,
    "start_time": "2022-10-30T09:31:31.091Z"
   },
   {
    "duration": 11,
    "start_time": "2022-10-30T09:31:31.120Z"
   },
   {
    "duration": 35,
    "start_time": "2022-10-30T09:31:31.132Z"
   },
   {
    "duration": 13,
    "start_time": "2022-10-30T09:31:31.169Z"
   },
   {
    "duration": 18,
    "start_time": "2022-10-30T09:31:31.184Z"
   },
   {
    "duration": 92,
    "start_time": "2022-10-30T09:31:31.204Z"
   },
   {
    "duration": 13,
    "start_time": "2022-10-30T09:31:31.301Z"
   },
   {
    "duration": 155,
    "start_time": "2022-10-30T09:31:31.315Z"
   },
   {
    "duration": 0,
    "start_time": "2022-10-30T09:31:31.472Z"
   },
   {
    "duration": 0,
    "start_time": "2022-10-30T09:31:31.473Z"
   },
   {
    "duration": 0,
    "start_time": "2022-10-30T09:31:31.474Z"
   },
   {
    "duration": 0,
    "start_time": "2022-10-30T09:31:31.476Z"
   },
   {
    "duration": 0,
    "start_time": "2022-10-30T09:31:31.477Z"
   },
   {
    "duration": 0,
    "start_time": "2022-10-30T09:31:31.478Z"
   },
   {
    "duration": 0,
    "start_time": "2022-10-30T09:31:31.479Z"
   },
   {
    "duration": 0,
    "start_time": "2022-10-30T09:31:31.490Z"
   },
   {
    "duration": 0,
    "start_time": "2022-10-30T09:31:31.492Z"
   },
   {
    "duration": 0,
    "start_time": "2022-10-30T09:31:31.492Z"
   },
   {
    "duration": 0,
    "start_time": "2022-10-30T09:31:31.493Z"
   },
   {
    "duration": 0,
    "start_time": "2022-10-30T09:31:31.494Z"
   },
   {
    "duration": 0,
    "start_time": "2022-10-30T09:31:31.495Z"
   },
   {
    "duration": 0,
    "start_time": "2022-10-30T09:31:31.497Z"
   },
   {
    "duration": 0,
    "start_time": "2022-10-30T09:31:31.498Z"
   },
   {
    "duration": 0,
    "start_time": "2022-10-30T09:31:31.499Z"
   },
   {
    "duration": 0,
    "start_time": "2022-10-30T09:31:31.500Z"
   },
   {
    "duration": 0,
    "start_time": "2022-10-30T09:31:31.501Z"
   },
   {
    "duration": 0,
    "start_time": "2022-10-30T09:31:31.503Z"
   },
   {
    "duration": 0,
    "start_time": "2022-10-30T09:31:31.505Z"
   },
   {
    "duration": 0,
    "start_time": "2022-10-30T09:31:31.506Z"
   },
   {
    "duration": 0,
    "start_time": "2022-10-30T09:31:31.507Z"
   },
   {
    "duration": 0,
    "start_time": "2022-10-30T09:31:31.508Z"
   },
   {
    "duration": 0,
    "start_time": "2022-10-30T09:31:31.509Z"
   },
   {
    "duration": 0,
    "start_time": "2022-10-30T09:31:31.510Z"
   },
   {
    "duration": 0,
    "start_time": "2022-10-30T09:31:31.511Z"
   },
   {
    "duration": 53,
    "start_time": "2022-10-30T09:33:36.314Z"
   },
   {
    "duration": 12,
    "start_time": "2022-10-30T09:35:13.545Z"
   },
   {
    "duration": 3,
    "start_time": "2022-10-30T09:36:41.066Z"
   },
   {
    "duration": 3,
    "start_time": "2022-10-30T09:36:46.894Z"
   },
   {
    "duration": 7,
    "start_time": "2022-10-30T09:36:53.883Z"
   },
   {
    "duration": 47,
    "start_time": "2022-10-30T09:36:56.313Z"
   },
   {
    "duration": 7,
    "start_time": "2022-10-30T09:37:00.474Z"
   },
   {
    "duration": 428,
    "start_time": "2022-10-30T09:37:06.573Z"
   },
   {
    "duration": 179,
    "start_time": "2022-10-30T09:37:07.003Z"
   },
   {
    "duration": 22,
    "start_time": "2022-10-30T09:37:07.184Z"
   },
   {
    "duration": 8,
    "start_time": "2022-10-30T09:37:07.208Z"
   },
   {
    "duration": 423,
    "start_time": "2022-10-30T09:37:07.217Z"
   },
   {
    "duration": 282,
    "start_time": "2022-10-30T09:37:07.642Z"
   },
   {
    "duration": 4,
    "start_time": "2022-10-30T09:37:07.926Z"
   },
   {
    "duration": 8,
    "start_time": "2022-10-30T09:37:07.931Z"
   },
   {
    "duration": 19,
    "start_time": "2022-10-30T09:37:07.941Z"
   },
   {
    "duration": 40,
    "start_time": "2022-10-30T09:37:07.963Z"
   },
   {
    "duration": 5,
    "start_time": "2022-10-30T09:37:08.004Z"
   },
   {
    "duration": 47,
    "start_time": "2022-10-30T09:37:08.010Z"
   },
   {
    "duration": 0,
    "start_time": "2022-10-30T09:37:08.059Z"
   },
   {
    "duration": 0,
    "start_time": "2022-10-30T09:37:08.060Z"
   },
   {
    "duration": 0,
    "start_time": "2022-10-30T09:37:08.061Z"
   },
   {
    "duration": 0,
    "start_time": "2022-10-30T09:37:08.062Z"
   },
   {
    "duration": 0,
    "start_time": "2022-10-30T09:37:08.063Z"
   },
   {
    "duration": 0,
    "start_time": "2022-10-30T09:37:08.064Z"
   },
   {
    "duration": 0,
    "start_time": "2022-10-30T09:37:08.065Z"
   },
   {
    "duration": 0,
    "start_time": "2022-10-30T09:37:08.066Z"
   },
   {
    "duration": 0,
    "start_time": "2022-10-30T09:37:08.067Z"
   },
   {
    "duration": 0,
    "start_time": "2022-10-30T09:37:08.091Z"
   },
   {
    "duration": 0,
    "start_time": "2022-10-30T09:37:08.093Z"
   },
   {
    "duration": 0,
    "start_time": "2022-10-30T09:37:08.095Z"
   },
   {
    "duration": 0,
    "start_time": "2022-10-30T09:37:08.096Z"
   },
   {
    "duration": 0,
    "start_time": "2022-10-30T09:37:08.097Z"
   },
   {
    "duration": 6,
    "start_time": "2022-10-30T09:37:36.593Z"
   },
   {
    "duration": 22,
    "start_time": "2022-10-30T09:37:52.305Z"
   },
   {
    "duration": 2,
    "start_time": "2022-10-30T09:37:57.856Z"
   },
   {
    "duration": 1632,
    "start_time": "2022-10-30T09:37:57.860Z"
   },
   {
    "duration": 6,
    "start_time": "2022-10-30T09:37:59.493Z"
   },
   {
    "duration": 6,
    "start_time": "2022-10-30T09:37:59.501Z"
   },
   {
    "duration": 4,
    "start_time": "2022-10-30T09:37:59.509Z"
   },
   {
    "duration": 8,
    "start_time": "2022-10-30T09:37:59.515Z"
   },
   {
    "duration": 109,
    "start_time": "2022-10-30T09:37:59.525Z"
   },
   {
    "duration": 29,
    "start_time": "2022-10-30T09:37:59.636Z"
   },
   {
    "duration": 41,
    "start_time": "2022-10-30T09:37:59.666Z"
   },
   {
    "duration": 17,
    "start_time": "2022-10-30T09:37:59.709Z"
   },
   {
    "duration": 18,
    "start_time": "2022-10-30T09:37:59.728Z"
   },
   {
    "duration": 9,
    "start_time": "2022-10-30T09:37:59.747Z"
   },
   {
    "duration": 32,
    "start_time": "2022-10-30T09:37:59.759Z"
   },
   {
    "duration": 5,
    "start_time": "2022-10-30T09:37:59.792Z"
   },
   {
    "duration": 28,
    "start_time": "2022-10-30T09:37:59.798Z"
   },
   {
    "duration": 169,
    "start_time": "2022-10-30T09:37:59.828Z"
   },
   {
    "duration": 16,
    "start_time": "2022-10-30T09:37:59.999Z"
   },
   {
    "duration": 9,
    "start_time": "2022-10-30T09:38:00.017Z"
   },
   {
    "duration": 11,
    "start_time": "2022-10-30T09:38:00.028Z"
   },
   {
    "duration": 17,
    "start_time": "2022-10-30T09:38:00.041Z"
   },
   {
    "duration": 9,
    "start_time": "2022-10-30T09:38:00.060Z"
   },
   {
    "duration": 27,
    "start_time": "2022-10-30T09:38:00.071Z"
   },
   {
    "duration": 16,
    "start_time": "2022-10-30T09:38:00.100Z"
   },
   {
    "duration": 12,
    "start_time": "2022-10-30T09:38:00.118Z"
   },
   {
    "duration": 36,
    "start_time": "2022-10-30T09:38:00.132Z"
   },
   {
    "duration": 29,
    "start_time": "2022-10-30T09:38:00.171Z"
   },
   {
    "duration": 5,
    "start_time": "2022-10-30T09:38:00.202Z"
   },
   {
    "duration": 112,
    "start_time": "2022-10-30T09:38:00.208Z"
   },
   {
    "duration": 18,
    "start_time": "2022-10-30T09:38:00.322Z"
   },
   {
    "duration": 68,
    "start_time": "2022-10-30T09:38:00.342Z"
   },
   {
    "duration": 9,
    "start_time": "2022-10-30T09:38:00.411Z"
   },
   {
    "duration": 423,
    "start_time": "2022-10-30T09:38:00.421Z"
   },
   {
    "duration": 205,
    "start_time": "2022-10-30T09:38:00.846Z"
   },
   {
    "duration": 21,
    "start_time": "2022-10-30T09:38:01.053Z"
   },
   {
    "duration": 21,
    "start_time": "2022-10-30T09:38:01.076Z"
   },
   {
    "duration": 462,
    "start_time": "2022-10-30T09:38:01.099Z"
   },
   {
    "duration": 305,
    "start_time": "2022-10-30T09:38:01.565Z"
   },
   {
    "duration": 4,
    "start_time": "2022-10-30T09:38:01.872Z"
   },
   {
    "duration": 18,
    "start_time": "2022-10-30T09:38:01.877Z"
   },
   {
    "duration": 22,
    "start_time": "2022-10-30T09:38:01.897Z"
   },
   {
    "duration": 20,
    "start_time": "2022-10-30T09:38:01.921Z"
   },
   {
    "duration": 13,
    "start_time": "2022-10-30T09:38:01.943Z"
   },
   {
    "duration": 57,
    "start_time": "2022-10-30T09:38:01.958Z"
   },
   {
    "duration": 3,
    "start_time": "2022-10-30T09:38:02.017Z"
   },
   {
    "duration": 9,
    "start_time": "2022-10-30T09:38:02.021Z"
   },
   {
    "duration": 18,
    "start_time": "2022-10-30T09:38:02.032Z"
   },
   {
    "duration": 17,
    "start_time": "2022-10-30T09:38:02.052Z"
   },
   {
    "duration": 131223,
    "start_time": "2022-10-30T09:38:02.070Z"
   },
   {
    "duration": 4,
    "start_time": "2022-10-30T09:40:13.294Z"
   },
   {
    "duration": 9,
    "start_time": "2022-10-30T09:40:13.299Z"
   },
   {
    "duration": 194,
    "start_time": "2022-10-30T09:40:13.310Z"
   },
   {
    "duration": 4,
    "start_time": "2022-10-30T09:40:13.507Z"
   },
   {
    "duration": 148,
    "start_time": "2022-10-30T09:40:13.513Z"
   },
   {
    "duration": 7,
    "start_time": "2022-10-30T09:40:13.663Z"
   },
   {
    "duration": 743,
    "start_time": "2022-10-30T09:40:13.671Z"
   },
   {
    "duration": 730,
    "start_time": "2022-10-30T09:40:14.417Z"
   },
   {
    "duration": 200,
    "start_time": "2022-10-30T09:40:15.149Z"
   },
   {
    "duration": 3,
    "start_time": "2022-10-30T09:43:16.739Z"
   },
   {
    "duration": 1583,
    "start_time": "2022-10-30T09:43:16.745Z"
   },
   {
    "duration": 6,
    "start_time": "2022-10-30T09:43:18.330Z"
   },
   {
    "duration": 4,
    "start_time": "2022-10-30T09:43:18.339Z"
   },
   {
    "duration": 4,
    "start_time": "2022-10-30T09:43:18.344Z"
   },
   {
    "duration": 6,
    "start_time": "2022-10-30T09:43:18.349Z"
   },
   {
    "duration": 102,
    "start_time": "2022-10-30T09:43:18.356Z"
   },
   {
    "duration": 27,
    "start_time": "2022-10-30T09:43:18.460Z"
   },
   {
    "duration": 29,
    "start_time": "2022-10-30T09:43:18.491Z"
   },
   {
    "duration": 15,
    "start_time": "2022-10-30T09:43:18.522Z"
   },
   {
    "duration": 18,
    "start_time": "2022-10-30T09:43:18.538Z"
   },
   {
    "duration": 10,
    "start_time": "2022-10-30T09:43:18.558Z"
   },
   {
    "duration": 23,
    "start_time": "2022-10-30T09:43:18.592Z"
   },
   {
    "duration": 5,
    "start_time": "2022-10-30T09:43:18.617Z"
   },
   {
    "duration": 40,
    "start_time": "2022-10-30T09:43:18.624Z"
   },
   {
    "duration": 173,
    "start_time": "2022-10-30T09:43:18.666Z"
   },
   {
    "duration": 16,
    "start_time": "2022-10-30T09:43:18.841Z"
   },
   {
    "duration": 9,
    "start_time": "2022-10-30T09:43:18.858Z"
   },
   {
    "duration": 26,
    "start_time": "2022-10-30T09:43:18.869Z"
   },
   {
    "duration": 6,
    "start_time": "2022-10-30T09:43:18.896Z"
   },
   {
    "duration": 6,
    "start_time": "2022-10-30T09:43:18.903Z"
   },
   {
    "duration": 17,
    "start_time": "2022-10-30T09:43:18.910Z"
   },
   {
    "duration": 17,
    "start_time": "2022-10-30T09:43:18.929Z"
   },
   {
    "duration": 12,
    "start_time": "2022-10-30T09:43:18.950Z"
   },
   {
    "duration": 47,
    "start_time": "2022-10-30T09:43:18.963Z"
   },
   {
    "duration": 12,
    "start_time": "2022-10-30T09:43:19.012Z"
   },
   {
    "duration": 4,
    "start_time": "2022-10-30T09:43:19.026Z"
   },
   {
    "duration": 112,
    "start_time": "2022-10-30T09:43:19.031Z"
   },
   {
    "duration": 18,
    "start_time": "2022-10-30T09:43:19.145Z"
   },
   {
    "duration": 64,
    "start_time": "2022-10-30T09:43:19.165Z"
   },
   {
    "duration": 8,
    "start_time": "2022-10-30T09:43:19.230Z"
   },
   {
    "duration": 597,
    "start_time": "2022-10-30T09:43:19.240Z"
   },
   {
    "duration": 201,
    "start_time": "2022-10-30T09:43:19.839Z"
   },
   {
    "duration": 21,
    "start_time": "2022-10-30T09:43:20.041Z"
   },
   {
    "duration": 8,
    "start_time": "2022-10-30T09:43:20.064Z"
   },
   {
    "duration": 327,
    "start_time": "2022-10-30T09:43:20.073Z"
   },
   {
    "duration": 305,
    "start_time": "2022-10-30T09:43:20.402Z"
   },
   {
    "duration": 4,
    "start_time": "2022-10-30T09:43:20.709Z"
   },
   {
    "duration": 10,
    "start_time": "2022-10-30T09:43:20.714Z"
   },
   {
    "duration": 24,
    "start_time": "2022-10-30T09:43:20.726Z"
   },
   {
    "duration": 41,
    "start_time": "2022-10-30T09:43:20.751Z"
   },
   {
    "duration": 9,
    "start_time": "2022-10-30T09:43:20.794Z"
   },
   {
    "duration": 38,
    "start_time": "2022-10-30T09:43:20.805Z"
   },
   {
    "duration": 3,
    "start_time": "2022-10-30T09:43:20.845Z"
   },
   {
    "duration": 6,
    "start_time": "2022-10-30T09:43:20.850Z"
   },
   {
    "duration": 10,
    "start_time": "2022-10-30T09:43:20.857Z"
   },
   {
    "duration": 27,
    "start_time": "2022-10-30T09:43:20.869Z"
   },
   {
    "duration": 100658,
    "start_time": "2022-10-30T09:43:20.897Z"
   },
   {
    "duration": 0,
    "start_time": "2022-10-30T09:45:01.556Z"
   },
   {
    "duration": 0,
    "start_time": "2022-10-30T09:45:01.557Z"
   },
   {
    "duration": 0,
    "start_time": "2022-10-30T09:45:01.558Z"
   },
   {
    "duration": 0,
    "start_time": "2022-10-30T09:45:01.559Z"
   },
   {
    "duration": 0,
    "start_time": "2022-10-30T09:45:01.561Z"
   },
   {
    "duration": 0,
    "start_time": "2022-10-30T09:45:01.561Z"
   },
   {
    "duration": 0,
    "start_time": "2022-10-30T09:45:01.562Z"
   },
   {
    "duration": 0,
    "start_time": "2022-10-30T09:45:01.563Z"
   },
   {
    "duration": 0,
    "start_time": "2022-10-30T09:45:01.564Z"
   },
   {
    "duration": 6,
    "start_time": "2022-10-30T09:46:50.494Z"
   },
   {
    "duration": 9,
    "start_time": "2022-10-30T09:46:50.502Z"
   },
   {
    "duration": 11,
    "start_time": "2022-10-30T09:46:50.513Z"
   },
   {
    "duration": 112566,
    "start_time": "2022-10-30T09:46:50.526Z"
   },
   {
    "duration": 3,
    "start_time": "2022-10-30T09:48:43.093Z"
   },
   {
    "duration": 8,
    "start_time": "2022-10-30T09:48:43.098Z"
   },
   {
    "duration": 186,
    "start_time": "2022-10-30T09:48:43.107Z"
   },
   {
    "duration": 4,
    "start_time": "2022-10-30T09:48:43.295Z"
   },
   {
    "duration": 142,
    "start_time": "2022-10-30T09:48:43.301Z"
   },
   {
    "duration": 6,
    "start_time": "2022-10-30T09:48:43.445Z"
   },
   {
    "duration": 696,
    "start_time": "2022-10-30T09:48:43.452Z"
   },
   {
    "duration": 734,
    "start_time": "2022-10-30T09:48:44.150Z"
   },
   {
    "duration": 187,
    "start_time": "2022-10-30T09:48:44.890Z"
   },
   {
    "duration": 1574,
    "start_time": "2022-10-30T09:55:10.012Z"
   },
   {
    "duration": 6,
    "start_time": "2022-10-30T09:55:11.588Z"
   },
   {
    "duration": 6,
    "start_time": "2022-10-30T09:55:11.596Z"
   },
   {
    "duration": 4,
    "start_time": "2022-10-30T09:55:11.604Z"
   },
   {
    "duration": 5,
    "start_time": "2022-10-30T09:55:11.609Z"
   },
   {
    "duration": 100,
    "start_time": "2022-10-30T09:55:11.616Z"
   },
   {
    "duration": 33,
    "start_time": "2022-10-30T09:55:11.718Z"
   },
   {
    "duration": 197,
    "start_time": "2022-10-30T09:55:11.753Z"
   },
   {
    "duration": 16,
    "start_time": "2022-10-30T09:55:11.952Z"
   },
   {
    "duration": 28,
    "start_time": "2022-10-30T09:55:11.970Z"
   },
   {
    "duration": 10,
    "start_time": "2022-10-30T09:55:11.999Z"
   },
   {
    "duration": 13,
    "start_time": "2022-10-30T09:55:12.010Z"
   },
   {
    "duration": 5,
    "start_time": "2022-10-30T09:55:12.024Z"
   },
   {
    "duration": 29,
    "start_time": "2022-10-30T09:55:12.031Z"
   },
   {
    "duration": 166,
    "start_time": "2022-10-30T09:55:12.090Z"
   },
   {
    "duration": 15,
    "start_time": "2022-10-30T09:55:12.258Z"
   },
   {
    "duration": 24,
    "start_time": "2022-10-30T09:55:12.274Z"
   },
   {
    "duration": 7,
    "start_time": "2022-10-30T09:55:12.299Z"
   },
   {
    "duration": 6,
    "start_time": "2022-10-30T09:55:12.307Z"
   },
   {
    "duration": 5,
    "start_time": "2022-10-30T09:55:12.315Z"
   },
   {
    "duration": 12,
    "start_time": "2022-10-30T09:55:12.321Z"
   },
   {
    "duration": 18,
    "start_time": "2022-10-30T09:55:12.334Z"
   },
   {
    "duration": 45,
    "start_time": "2022-10-30T09:55:12.354Z"
   },
   {
    "duration": 25,
    "start_time": "2022-10-30T09:55:12.401Z"
   },
   {
    "duration": 16,
    "start_time": "2022-10-30T09:55:12.428Z"
   },
   {
    "duration": 7,
    "start_time": "2022-10-30T09:55:12.445Z"
   },
   {
    "duration": 111,
    "start_time": "2022-10-30T09:55:12.454Z"
   },
   {
    "duration": 25,
    "start_time": "2022-10-30T09:55:12.570Z"
   },
   {
    "duration": 46,
    "start_time": "2022-10-30T09:55:12.597Z"
   },
   {
    "duration": 7,
    "start_time": "2022-10-30T09:55:12.645Z"
   },
   {
    "duration": 404,
    "start_time": "2022-10-30T09:55:12.654Z"
   },
   {
    "duration": 202,
    "start_time": "2022-10-30T09:55:13.060Z"
   },
   {
    "duration": 33,
    "start_time": "2022-10-30T09:55:13.264Z"
   },
   {
    "duration": 8,
    "start_time": "2022-10-30T09:55:13.299Z"
   },
   {
    "duration": 342,
    "start_time": "2022-10-30T09:55:13.308Z"
   },
   {
    "duration": 341,
    "start_time": "2022-10-30T09:55:13.653Z"
   },
   {
    "duration": 5,
    "start_time": "2022-10-30T09:55:13.996Z"
   },
   {
    "duration": 10,
    "start_time": "2022-10-30T09:55:14.002Z"
   },
   {
    "duration": 20,
    "start_time": "2022-10-30T09:55:14.014Z"
   },
   {
    "duration": 18,
    "start_time": "2022-10-30T09:55:14.036Z"
   },
   {
    "duration": 10,
    "start_time": "2022-10-30T09:55:14.056Z"
   },
   {
    "duration": 56,
    "start_time": "2022-10-30T09:55:14.092Z"
   },
   {
    "duration": 4,
    "start_time": "2022-10-30T09:55:14.150Z"
   },
   {
    "duration": 10,
    "start_time": "2022-10-30T09:55:14.156Z"
   },
   {
    "duration": 6,
    "start_time": "2022-10-30T09:55:14.168Z"
   },
   {
    "duration": 25,
    "start_time": "2022-10-30T09:55:14.176Z"
   },
   {
    "duration": 117606,
    "start_time": "2022-10-30T09:55:14.203Z"
   },
   {
    "duration": 4,
    "start_time": "2022-10-30T09:57:11.811Z"
   },
   {
    "duration": 8,
    "start_time": "2022-10-30T09:57:11.816Z"
   },
   {
    "duration": 231,
    "start_time": "2022-10-30T09:57:11.826Z"
   },
   {
    "duration": 5,
    "start_time": "2022-10-30T09:57:12.059Z"
   },
   {
    "duration": 142,
    "start_time": "2022-10-30T09:57:12.065Z"
   },
   {
    "duration": 6,
    "start_time": "2022-10-30T09:57:12.209Z"
   },
   {
    "duration": 727,
    "start_time": "2022-10-30T09:57:12.217Z"
   },
   {
    "duration": 720,
    "start_time": "2022-10-30T09:57:12.945Z"
   },
   {
    "duration": 191,
    "start_time": "2022-10-30T09:57:13.667Z"
   },
   {
    "duration": 2618,
    "start_time": "2022-10-30T10:06:22.580Z"
   },
   {
    "duration": 7,
    "start_time": "2022-10-30T10:06:25.201Z"
   },
   {
    "duration": 13,
    "start_time": "2022-10-30T10:06:25.209Z"
   },
   {
    "duration": 12,
    "start_time": "2022-10-30T10:06:25.224Z"
   },
   {
    "duration": 13,
    "start_time": "2022-10-30T10:06:25.238Z"
   },
   {
    "duration": 108,
    "start_time": "2022-10-30T10:06:25.252Z"
   },
   {
    "duration": 222,
    "start_time": "2022-10-30T10:06:25.361Z"
   },
   {
    "duration": 34,
    "start_time": "2022-10-30T10:06:25.585Z"
   },
   {
    "duration": 16,
    "start_time": "2022-10-30T10:06:25.620Z"
   },
   {
    "duration": 20,
    "start_time": "2022-10-30T10:06:25.638Z"
   },
   {
    "duration": 10,
    "start_time": "2022-10-30T10:06:25.659Z"
   },
   {
    "duration": 18,
    "start_time": "2022-10-30T10:06:25.690Z"
   },
   {
    "duration": 16,
    "start_time": "2022-10-30T10:06:25.710Z"
   },
   {
    "duration": 33,
    "start_time": "2022-10-30T10:06:25.728Z"
   },
   {
    "duration": 169,
    "start_time": "2022-10-30T10:06:25.763Z"
   },
   {
    "duration": 16,
    "start_time": "2022-10-30T10:06:25.934Z"
   },
   {
    "duration": 11,
    "start_time": "2022-10-30T10:06:25.951Z"
   },
   {
    "duration": 28,
    "start_time": "2022-10-30T10:06:25.964Z"
   },
   {
    "duration": 14,
    "start_time": "2022-10-30T10:06:25.994Z"
   },
   {
    "duration": 11,
    "start_time": "2022-10-30T10:06:26.011Z"
   },
   {
    "duration": 14,
    "start_time": "2022-10-30T10:06:26.023Z"
   },
   {
    "duration": 18,
    "start_time": "2022-10-30T10:06:26.039Z"
   },
   {
    "duration": 12,
    "start_time": "2022-10-30T10:06:26.058Z"
   },
   {
    "duration": 24,
    "start_time": "2022-10-30T10:06:26.091Z"
   },
   {
    "duration": 18,
    "start_time": "2022-10-30T10:06:26.117Z"
   },
   {
    "duration": 4,
    "start_time": "2022-10-30T10:06:26.137Z"
   },
   {
    "duration": 114,
    "start_time": "2022-10-30T10:06:26.142Z"
   },
   {
    "duration": 17,
    "start_time": "2022-10-30T10:06:26.260Z"
   },
   {
    "duration": 54,
    "start_time": "2022-10-30T10:06:26.278Z"
   },
   {
    "duration": 8,
    "start_time": "2022-10-30T10:06:26.334Z"
   },
   {
    "duration": 476,
    "start_time": "2022-10-30T10:06:26.343Z"
   },
   {
    "duration": 197,
    "start_time": "2022-10-30T10:06:26.820Z"
   },
   {
    "duration": 23,
    "start_time": "2022-10-30T10:06:27.019Z"
   },
   {
    "duration": 11,
    "start_time": "2022-10-30T10:06:27.044Z"
   },
   {
    "duration": 336,
    "start_time": "2022-10-30T10:06:27.057Z"
   },
   {
    "duration": 324,
    "start_time": "2022-10-30T10:06:27.395Z"
   },
   {
    "duration": 4,
    "start_time": "2022-10-30T10:06:27.721Z"
   },
   {
    "duration": 17,
    "start_time": "2022-10-30T10:06:27.726Z"
   },
   {
    "duration": 18,
    "start_time": "2022-10-30T10:06:27.744Z"
   },
   {
    "duration": 28,
    "start_time": "2022-10-30T10:06:27.763Z"
   },
   {
    "duration": 4,
    "start_time": "2022-10-30T10:06:27.792Z"
   },
   {
    "duration": 33,
    "start_time": "2022-10-30T10:06:27.798Z"
   },
   {
    "duration": 3,
    "start_time": "2022-10-30T10:06:27.832Z"
   },
   {
    "duration": 6,
    "start_time": "2022-10-30T10:06:27.837Z"
   },
   {
    "duration": 5,
    "start_time": "2022-10-30T10:06:27.844Z"
   },
   {
    "duration": 14,
    "start_time": "2022-10-30T10:06:27.850Z"
   },
   {
    "duration": 113227,
    "start_time": "2022-10-30T10:06:27.865Z"
   },
   {
    "duration": 4,
    "start_time": "2022-10-30T10:08:21.094Z"
   },
   {
    "duration": 10,
    "start_time": "2022-10-30T10:08:21.100Z"
   },
   {
    "duration": 182,
    "start_time": "2022-10-30T10:08:21.111Z"
   },
   {
    "duration": 4,
    "start_time": "2022-10-30T10:08:21.295Z"
   },
   {
    "duration": 139,
    "start_time": "2022-10-30T10:08:21.300Z"
   },
   {
    "duration": 7,
    "start_time": "2022-10-30T10:08:21.441Z"
   },
   {
    "duration": 724,
    "start_time": "2022-10-30T10:08:21.450Z"
   },
   {
    "duration": 698,
    "start_time": "2022-10-30T10:08:22.175Z"
   },
   {
    "duration": 185,
    "start_time": "2022-10-30T10:08:22.875Z"
   },
   {
    "duration": 3636,
    "start_time": "2022-10-30T10:12:59.319Z"
   },
   {
    "duration": 85,
    "start_time": "2022-10-30T10:13:39.607Z"
   },
   {
    "duration": 36,
    "start_time": "2022-10-30T10:13:55.919Z"
   },
   {
    "duration": 3119,
    "start_time": "2022-10-30T10:14:09.945Z"
   },
   {
    "duration": 6,
    "start_time": "2022-10-30T10:14:13.067Z"
   },
   {
    "duration": 8,
    "start_time": "2022-10-30T10:14:13.074Z"
   },
   {
    "duration": 3,
    "start_time": "2022-10-30T10:14:13.090Z"
   },
   {
    "duration": 10,
    "start_time": "2022-10-30T10:14:13.095Z"
   },
   {
    "duration": 106,
    "start_time": "2022-10-30T10:14:13.107Z"
   },
   {
    "duration": 28,
    "start_time": "2022-10-30T10:14:13.215Z"
   },
   {
    "duration": 29,
    "start_time": "2022-10-30T10:14:13.245Z"
   },
   {
    "duration": 28,
    "start_time": "2022-10-30T10:14:13.276Z"
   },
   {
    "duration": 235,
    "start_time": "2022-10-30T10:14:13.306Z"
   },
   {
    "duration": 10,
    "start_time": "2022-10-30T10:14:13.542Z"
   },
   {
    "duration": 13,
    "start_time": "2022-10-30T10:14:13.554Z"
   },
   {
    "duration": 23,
    "start_time": "2022-10-30T10:14:13.569Z"
   },
   {
    "duration": 34,
    "start_time": "2022-10-30T10:14:13.594Z"
   },
   {
    "duration": 195,
    "start_time": "2022-10-30T10:14:13.631Z"
   },
   {
    "duration": 15,
    "start_time": "2022-10-30T10:14:13.828Z"
   },
   {
    "duration": 10,
    "start_time": "2022-10-30T10:14:13.845Z"
   },
   {
    "duration": 34,
    "start_time": "2022-10-30T10:14:13.857Z"
   },
   {
    "duration": 7,
    "start_time": "2022-10-30T10:14:13.893Z"
   },
   {
    "duration": 9,
    "start_time": "2022-10-30T10:14:13.902Z"
   },
   {
    "duration": 18,
    "start_time": "2022-10-30T10:14:13.912Z"
   },
   {
    "duration": 21,
    "start_time": "2022-10-30T10:14:13.932Z"
   },
   {
    "duration": 36,
    "start_time": "2022-10-30T10:14:13.955Z"
   },
   {
    "duration": 31,
    "start_time": "2022-10-30T10:14:13.993Z"
   },
   {
    "duration": 13,
    "start_time": "2022-10-30T10:14:14.026Z"
   },
   {
    "duration": 4,
    "start_time": "2022-10-30T10:14:14.041Z"
   },
   {
    "duration": 114,
    "start_time": "2022-10-30T10:14:14.047Z"
   },
   {
    "duration": 28,
    "start_time": "2022-10-30T10:14:14.166Z"
   },
   {
    "duration": 54,
    "start_time": "2022-10-30T10:14:14.196Z"
   },
   {
    "duration": 8,
    "start_time": "2022-10-30T10:14:14.251Z"
   },
   {
    "duration": 431,
    "start_time": "2022-10-30T10:14:14.260Z"
   },
   {
    "duration": 188,
    "start_time": "2022-10-30T10:14:14.693Z"
   },
   {
    "duration": 22,
    "start_time": "2022-10-30T10:14:14.890Z"
   },
   {
    "duration": 8,
    "start_time": "2022-10-30T10:14:14.913Z"
   },
   {
    "duration": 347,
    "start_time": "2022-10-30T10:14:14.922Z"
   },
   {
    "duration": 313,
    "start_time": "2022-10-30T10:14:15.271Z"
   },
   {
    "duration": 5,
    "start_time": "2022-10-30T10:14:15.586Z"
   },
   {
    "duration": 9,
    "start_time": "2022-10-30T10:14:15.592Z"
   },
   {
    "duration": 20,
    "start_time": "2022-10-30T10:14:15.602Z"
   },
   {
    "duration": 17,
    "start_time": "2022-10-30T10:14:15.624Z"
   },
   {
    "duration": 8,
    "start_time": "2022-10-30T10:14:15.643Z"
   },
   {
    "duration": 68,
    "start_time": "2022-10-30T10:14:15.652Z"
   },
   {
    "duration": 3,
    "start_time": "2022-10-30T10:14:15.722Z"
   },
   {
    "duration": 6,
    "start_time": "2022-10-30T10:14:15.727Z"
   },
   {
    "duration": 6,
    "start_time": "2022-10-30T10:14:15.735Z"
   },
   {
    "duration": 13,
    "start_time": "2022-10-30T10:14:15.743Z"
   },
   {
    "duration": 112738,
    "start_time": "2022-10-30T10:14:15.757Z"
   },
   {
    "duration": 3,
    "start_time": "2022-10-30T10:16:08.497Z"
   },
   {
    "duration": 10,
    "start_time": "2022-10-30T10:16:08.502Z"
   },
   {
    "duration": 181,
    "start_time": "2022-10-30T10:16:08.513Z"
   },
   {
    "duration": 5,
    "start_time": "2022-10-30T10:16:08.696Z"
   },
   {
    "duration": 162,
    "start_time": "2022-10-30T10:16:08.702Z"
   },
   {
    "duration": 6,
    "start_time": "2022-10-30T10:16:08.866Z"
   },
   {
    "duration": 716,
    "start_time": "2022-10-30T10:16:08.874Z"
   },
   {
    "duration": 722,
    "start_time": "2022-10-30T10:16:09.592Z"
   },
   {
    "duration": 182,
    "start_time": "2022-10-30T10:16:10.316Z"
   },
   {
    "duration": 18,
    "start_time": "2022-10-30T10:31:13.016Z"
   },
   {
    "duration": 46,
    "start_time": "2022-10-30T10:34:25.608Z"
   },
   {
    "duration": 3414,
    "start_time": "2022-10-30T10:35:17.344Z"
   },
   {
    "duration": 2704,
    "start_time": "2022-10-30T10:35:20.761Z"
   },
   {
    "duration": 3,
    "start_time": "2022-10-30T10:35:23.467Z"
   },
   {
    "duration": 7,
    "start_time": "2022-10-30T10:35:23.472Z"
   },
   {
    "duration": 18570,
    "start_time": "2022-10-30T10:35:23.480Z"
   },
   {
    "duration": 155,
    "start_time": "2022-10-30T10:35:42.051Z"
   },
   {
    "duration": 32,
    "start_time": "2022-10-30T10:35:42.209Z"
   },
   {
    "duration": 125,
    "start_time": "2022-10-30T10:35:42.243Z"
   },
   {
    "duration": 26,
    "start_time": "2022-10-30T10:35:42.370Z"
   },
   {
    "duration": 22,
    "start_time": "2022-10-30T10:35:42.399Z"
   },
   {
    "duration": 17,
    "start_time": "2022-10-30T10:35:42.424Z"
   },
   {
    "duration": 15,
    "start_time": "2022-10-30T10:35:42.443Z"
   },
   {
    "duration": 32,
    "start_time": "2022-10-30T10:35:42.460Z"
   },
   {
    "duration": 32,
    "start_time": "2022-10-30T10:35:42.494Z"
   },
   {
    "duration": 266,
    "start_time": "2022-10-30T10:35:42.528Z"
   },
   {
    "duration": 15,
    "start_time": "2022-10-30T10:35:42.797Z"
   },
   {
    "duration": 10,
    "start_time": "2022-10-30T10:35:42.815Z"
   },
   {
    "duration": 9,
    "start_time": "2022-10-30T10:35:42.827Z"
   },
   {
    "duration": 6,
    "start_time": "2022-10-30T10:35:42.839Z"
   },
   {
    "duration": 9,
    "start_time": "2022-10-30T10:35:42.848Z"
   },
   {
    "duration": 16,
    "start_time": "2022-10-30T10:35:42.891Z"
   },
   {
    "duration": 22,
    "start_time": "2022-10-30T10:35:42.909Z"
   },
   {
    "duration": 12,
    "start_time": "2022-10-30T10:35:42.932Z"
   },
   {
    "duration": 23,
    "start_time": "2022-10-30T10:35:42.946Z"
   },
   {
    "duration": 14,
    "start_time": "2022-10-30T10:35:42.991Z"
   },
   {
    "duration": 8,
    "start_time": "2022-10-30T10:35:43.007Z"
   },
   {
    "duration": 99,
    "start_time": "2022-10-30T10:35:43.016Z"
   },
   {
    "duration": 18,
    "start_time": "2022-10-30T10:35:43.118Z"
   },
   {
    "duration": 59,
    "start_time": "2022-10-30T10:35:43.138Z"
   },
   {
    "duration": 9,
    "start_time": "2022-10-30T10:35:43.199Z"
   },
   {
    "duration": 388,
    "start_time": "2022-10-30T10:35:43.209Z"
   },
   {
    "duration": 208,
    "start_time": "2022-10-30T10:35:43.599Z"
   },
   {
    "duration": 25,
    "start_time": "2022-10-30T10:35:43.810Z"
   },
   {
    "duration": 7,
    "start_time": "2022-10-30T10:35:43.837Z"
   },
   {
    "duration": 352,
    "start_time": "2022-10-30T10:35:43.846Z"
   },
   {
    "duration": 317,
    "start_time": "2022-10-30T10:35:44.199Z"
   },
   {
    "duration": 63,
    "start_time": "2022-10-30T10:35:44.518Z"
   },
   {
    "duration": 113,
    "start_time": "2022-10-30T10:35:44.591Z"
   },
   {
    "duration": 0,
    "start_time": "2022-10-30T10:35:44.705Z"
   },
   {
    "duration": 0,
    "start_time": "2022-10-30T10:35:44.706Z"
   },
   {
    "duration": 0,
    "start_time": "2022-10-30T10:35:44.707Z"
   },
   {
    "duration": 0,
    "start_time": "2022-10-30T10:35:44.708Z"
   },
   {
    "duration": 0,
    "start_time": "2022-10-30T10:35:44.710Z"
   },
   {
    "duration": 0,
    "start_time": "2022-10-30T10:35:44.711Z"
   },
   {
    "duration": 0,
    "start_time": "2022-10-30T10:35:44.712Z"
   },
   {
    "duration": 0,
    "start_time": "2022-10-30T10:35:44.713Z"
   },
   {
    "duration": 0,
    "start_time": "2022-10-30T10:35:44.715Z"
   },
   {
    "duration": 0,
    "start_time": "2022-10-30T10:35:44.716Z"
   },
   {
    "duration": 0,
    "start_time": "2022-10-30T10:35:44.717Z"
   },
   {
    "duration": 0,
    "start_time": "2022-10-30T10:35:44.718Z"
   },
   {
    "duration": 0,
    "start_time": "2022-10-30T10:35:44.719Z"
   },
   {
    "duration": 0,
    "start_time": "2022-10-30T10:35:44.721Z"
   },
   {
    "duration": 0,
    "start_time": "2022-10-30T10:35:44.722Z"
   },
   {
    "duration": 0,
    "start_time": "2022-10-30T10:35:44.723Z"
   },
   {
    "duration": 0,
    "start_time": "2022-10-30T10:35:44.724Z"
   },
   {
    "duration": 0,
    "start_time": "2022-10-30T10:35:44.725Z"
   },
   {
    "duration": 0,
    "start_time": "2022-10-30T10:35:44.727Z"
   },
   {
    "duration": 0,
    "start_time": "2022-10-30T10:35:44.729Z"
   },
   {
    "duration": 0,
    "start_time": "2022-10-30T10:35:44.730Z"
   },
   {
    "duration": 11,
    "start_time": "2022-10-30T10:36:15.227Z"
   },
   {
    "duration": 18,
    "start_time": "2022-10-30T10:36:29.689Z"
   },
   {
    "duration": 16,
    "start_time": "2022-10-30T10:36:43.336Z"
   },
   {
    "duration": 19,
    "start_time": "2022-10-30T10:36:49.776Z"
   },
   {
    "duration": 4,
    "start_time": "2022-10-30T10:36:58.336Z"
   },
   {
    "duration": 4,
    "start_time": "2022-10-30T10:37:12.271Z"
   },
   {
    "duration": 20756,
    "start_time": "2022-10-30T10:37:16.185Z"
   },
   {
    "duration": 11,
    "start_time": "2022-10-30T10:38:16.880Z"
   },
   {
    "duration": 1469,
    "start_time": "2022-10-30T10:38:28.313Z"
   },
   {
    "duration": 3331,
    "start_time": "2022-10-30T10:38:52.304Z"
   },
   {
    "duration": 3453,
    "start_time": "2022-10-30T10:39:06.209Z"
   },
   {
    "duration": 3491,
    "start_time": "2022-10-30T10:39:17.024Z"
   },
   {
    "duration": 3554,
    "start_time": "2022-10-30T10:39:38.408Z"
   },
   {
    "duration": 5,
    "start_time": "2022-10-30T10:45:17.620Z"
   },
   {
    "duration": 18,
    "start_time": "2022-10-30T10:45:54.342Z"
   },
   {
    "duration": 3,
    "start_time": "2022-10-30T10:48:09.722Z"
   },
   {
    "duration": 3200,
    "start_time": "2022-10-30T10:48:30.836Z"
   },
   {
    "duration": 7,
    "start_time": "2022-10-30T10:48:34.038Z"
   },
   {
    "duration": 10,
    "start_time": "2022-10-30T10:48:34.047Z"
   },
   {
    "duration": 4,
    "start_time": "2022-10-30T10:48:34.059Z"
   },
   {
    "duration": 6,
    "start_time": "2022-10-30T10:48:34.064Z"
   },
   {
    "duration": 93,
    "start_time": "2022-10-30T10:48:34.072Z"
   },
   {
    "duration": 179,
    "start_time": "2022-10-30T10:48:34.167Z"
   },
   {
    "duration": 30,
    "start_time": "2022-10-30T10:48:34.347Z"
   },
   {
    "duration": 26,
    "start_time": "2022-10-30T10:48:34.378Z"
   },
   {
    "duration": 23,
    "start_time": "2022-10-30T10:48:34.407Z"
   },
   {
    "duration": 12,
    "start_time": "2022-10-30T10:48:34.432Z"
   },
   {
    "duration": 15,
    "start_time": "2022-10-30T10:48:34.446Z"
   },
   {
    "duration": 8,
    "start_time": "2022-10-30T10:48:34.491Z"
   },
   {
    "duration": 37,
    "start_time": "2022-10-30T10:48:34.501Z"
   },
   {
    "duration": 188,
    "start_time": "2022-10-30T10:48:34.540Z"
   },
   {
    "duration": 15,
    "start_time": "2022-10-30T10:48:34.730Z"
   },
   {
    "duration": 9,
    "start_time": "2022-10-30T10:48:34.746Z"
   },
   {
    "duration": 7,
    "start_time": "2022-10-30T10:48:34.757Z"
   },
   {
    "duration": 27,
    "start_time": "2022-10-30T10:48:34.765Z"
   },
   {
    "duration": 4,
    "start_time": "2022-10-30T10:48:34.794Z"
   },
   {
    "duration": 19,
    "start_time": "2022-10-30T10:48:34.800Z"
   },
   {
    "duration": 19,
    "start_time": "2022-10-30T10:48:34.821Z"
   },
   {
    "duration": 14,
    "start_time": "2022-10-30T10:48:34.842Z"
   },
   {
    "duration": 56,
    "start_time": "2022-10-30T10:48:34.857Z"
   },
   {
    "duration": 14,
    "start_time": "2022-10-30T10:48:34.915Z"
   },
   {
    "duration": 5,
    "start_time": "2022-10-30T10:48:34.931Z"
   },
   {
    "duration": 16,
    "start_time": "2022-10-30T10:48:34.937Z"
   },
   {
    "duration": 0,
    "start_time": "2022-10-30T10:48:34.955Z"
   },
   {
    "duration": 0,
    "start_time": "2022-10-30T10:48:34.956Z"
   },
   {
    "duration": 0,
    "start_time": "2022-10-30T10:48:34.958Z"
   },
   {
    "duration": 0,
    "start_time": "2022-10-30T10:48:34.959Z"
   },
   {
    "duration": 0,
    "start_time": "2022-10-30T10:48:34.960Z"
   },
   {
    "duration": 0,
    "start_time": "2022-10-30T10:48:34.961Z"
   },
   {
    "duration": 0,
    "start_time": "2022-10-30T10:48:34.962Z"
   },
   {
    "duration": 0,
    "start_time": "2022-10-30T10:48:34.990Z"
   },
   {
    "duration": 0,
    "start_time": "2022-10-30T10:48:34.992Z"
   },
   {
    "duration": 0,
    "start_time": "2022-10-30T10:48:34.993Z"
   },
   {
    "duration": 0,
    "start_time": "2022-10-30T10:48:34.995Z"
   },
   {
    "duration": 0,
    "start_time": "2022-10-30T10:48:34.996Z"
   },
   {
    "duration": 0,
    "start_time": "2022-10-30T10:48:34.997Z"
   },
   {
    "duration": 0,
    "start_time": "2022-10-30T10:48:34.998Z"
   },
   {
    "duration": 0,
    "start_time": "2022-10-30T10:48:34.999Z"
   },
   {
    "duration": 0,
    "start_time": "2022-10-30T10:48:35.000Z"
   },
   {
    "duration": 0,
    "start_time": "2022-10-30T10:48:35.001Z"
   },
   {
    "duration": 0,
    "start_time": "2022-10-30T10:48:35.002Z"
   },
   {
    "duration": 0,
    "start_time": "2022-10-30T10:48:35.003Z"
   },
   {
    "duration": 0,
    "start_time": "2022-10-30T10:48:35.004Z"
   },
   {
    "duration": 0,
    "start_time": "2022-10-30T10:48:35.006Z"
   },
   {
    "duration": 0,
    "start_time": "2022-10-30T10:48:35.007Z"
   },
   {
    "duration": 0,
    "start_time": "2022-10-30T10:48:35.008Z"
   },
   {
    "duration": 0,
    "start_time": "2022-10-30T10:48:35.009Z"
   },
   {
    "duration": 0,
    "start_time": "2022-10-30T10:48:35.010Z"
   },
   {
    "duration": 0,
    "start_time": "2022-10-30T10:48:35.011Z"
   },
   {
    "duration": 0,
    "start_time": "2022-10-30T10:48:35.012Z"
   },
   {
    "duration": 0,
    "start_time": "2022-10-30T10:48:35.013Z"
   },
   {
    "duration": 0,
    "start_time": "2022-10-30T10:48:35.015Z"
   },
   {
    "duration": 0,
    "start_time": "2022-10-30T10:48:35.016Z"
   },
   {
    "duration": 0,
    "start_time": "2022-10-30T10:48:35.017Z"
   },
   {
    "duration": 0,
    "start_time": "2022-10-30T10:48:35.018Z"
   },
   {
    "duration": 0,
    "start_time": "2022-10-30T10:48:35.019Z"
   },
   {
    "duration": 0,
    "start_time": "2022-10-30T10:48:35.020Z"
   },
   {
    "duration": 2,
    "start_time": "2022-10-30T10:49:44.705Z"
   },
   {
    "duration": 3,
    "start_time": "2022-10-30T10:49:53.833Z"
   },
   {
    "duration": 4,
    "start_time": "2022-10-30T10:50:28.072Z"
   },
   {
    "duration": 4,
    "start_time": "2022-10-30T10:50:28.888Z"
   },
   {
    "duration": 3137,
    "start_time": "2022-10-30T10:51:17.063Z"
   },
   {
    "duration": 6,
    "start_time": "2022-10-30T10:51:20.202Z"
   },
   {
    "duration": 11,
    "start_time": "2022-10-30T10:51:20.209Z"
   },
   {
    "duration": 3,
    "start_time": "2022-10-30T10:51:20.222Z"
   },
   {
    "duration": 5,
    "start_time": "2022-10-30T10:51:20.227Z"
   },
   {
    "duration": 99,
    "start_time": "2022-10-30T10:51:20.233Z"
   },
   {
    "duration": 28,
    "start_time": "2022-10-30T10:51:20.334Z"
   },
   {
    "duration": 32,
    "start_time": "2022-10-30T10:51:20.364Z"
   },
   {
    "duration": 17,
    "start_time": "2022-10-30T10:51:20.397Z"
   },
   {
    "duration": 21,
    "start_time": "2022-10-30T10:51:20.417Z"
   },
   {
    "duration": 11,
    "start_time": "2022-10-30T10:51:20.440Z"
   },
   {
    "duration": 40,
    "start_time": "2022-10-30T10:51:20.452Z"
   },
   {
    "duration": 6,
    "start_time": "2022-10-30T10:51:20.494Z"
   },
   {
    "duration": 46,
    "start_time": "2022-10-30T10:51:20.502Z"
   },
   {
    "duration": 186,
    "start_time": "2022-10-30T10:51:20.549Z"
   },
   {
    "duration": 16,
    "start_time": "2022-10-30T10:51:20.736Z"
   },
   {
    "duration": 9,
    "start_time": "2022-10-30T10:51:20.754Z"
   },
   {
    "duration": 27,
    "start_time": "2022-10-30T10:51:20.765Z"
   },
   {
    "duration": 8,
    "start_time": "2022-10-30T10:51:20.794Z"
   },
   {
    "duration": 5,
    "start_time": "2022-10-30T10:51:20.803Z"
   },
   {
    "duration": 12,
    "start_time": "2022-10-30T10:51:20.810Z"
   },
   {
    "duration": 16,
    "start_time": "2022-10-30T10:51:20.824Z"
   },
   {
    "duration": 11,
    "start_time": "2022-10-30T10:51:20.842Z"
   },
   {
    "duration": 55,
    "start_time": "2022-10-30T10:51:20.854Z"
   },
   {
    "duration": 13,
    "start_time": "2022-10-30T10:51:20.911Z"
   },
   {
    "duration": 5,
    "start_time": "2022-10-30T10:51:20.926Z"
   },
   {
    "duration": 9,
    "start_time": "2022-10-30T10:51:20.932Z"
   },
   {
    "duration": 82,
    "start_time": "2022-10-30T10:51:20.944Z"
   },
   {
    "duration": 21,
    "start_time": "2022-10-30T10:51:21.028Z"
   },
   {
    "duration": 23,
    "start_time": "2022-10-30T10:51:21.050Z"
   },
   {
    "duration": 9,
    "start_time": "2022-10-30T10:51:21.091Z"
   },
   {
    "duration": 479,
    "start_time": "2022-10-30T10:51:21.102Z"
   },
   {
    "duration": 221,
    "start_time": "2022-10-30T10:51:21.583Z"
   },
   {
    "duration": 21,
    "start_time": "2022-10-30T10:51:21.806Z"
   },
   {
    "duration": 8,
    "start_time": "2022-10-30T10:51:21.829Z"
   },
   {
    "duration": 329,
    "start_time": "2022-10-30T10:51:21.839Z"
   },
   {
    "duration": 426,
    "start_time": "2022-10-30T10:51:22.169Z"
   },
   {
    "duration": 46,
    "start_time": "2022-10-30T10:51:22.596Z"
   },
   {
    "duration": 9,
    "start_time": "2022-10-30T10:51:22.643Z"
   },
   {
    "duration": 1258,
    "start_time": "2022-10-30T10:51:22.653Z"
   },
   {
    "duration": 3383,
    "start_time": "2022-10-30T10:51:23.913Z"
   },
   {
    "duration": 12,
    "start_time": "2022-10-30T10:51:27.298Z"
   },
   {
    "duration": 0,
    "start_time": "2022-10-30T10:51:27.311Z"
   },
   {
    "duration": 0,
    "start_time": "2022-10-30T10:51:27.312Z"
   },
   {
    "duration": 0,
    "start_time": "2022-10-30T10:51:27.313Z"
   },
   {
    "duration": 0,
    "start_time": "2022-10-30T10:51:27.314Z"
   },
   {
    "duration": 0,
    "start_time": "2022-10-30T10:51:27.316Z"
   },
   {
    "duration": 0,
    "start_time": "2022-10-30T10:51:27.316Z"
   },
   {
    "duration": 0,
    "start_time": "2022-10-30T10:51:27.318Z"
   },
   {
    "duration": 0,
    "start_time": "2022-10-30T10:51:27.319Z"
   },
   {
    "duration": 0,
    "start_time": "2022-10-30T10:51:27.320Z"
   },
   {
    "duration": 0,
    "start_time": "2022-10-30T10:51:27.321Z"
   },
   {
    "duration": 0,
    "start_time": "2022-10-30T10:51:27.322Z"
   },
   {
    "duration": 0,
    "start_time": "2022-10-30T10:51:27.323Z"
   },
   {
    "duration": 0,
    "start_time": "2022-10-30T10:51:27.324Z"
   },
   {
    "duration": 0,
    "start_time": "2022-10-30T10:51:27.325Z"
   },
   {
    "duration": 0,
    "start_time": "2022-10-30T10:51:27.326Z"
   },
   {
    "duration": 0,
    "start_time": "2022-10-30T10:51:27.327Z"
   },
   {
    "duration": 0,
    "start_time": "2022-10-30T10:51:27.328Z"
   },
   {
    "duration": 0,
    "start_time": "2022-10-30T10:51:27.329Z"
   },
   {
    "duration": 0,
    "start_time": "2022-10-30T10:51:27.330Z"
   },
   {
    "duration": 0,
    "start_time": "2022-10-30T10:51:27.331Z"
   },
   {
    "duration": 12,
    "start_time": "2022-10-30T10:52:57.341Z"
   },
   {
    "duration": 7,
    "start_time": "2022-10-30T10:53:00.026Z"
   },
   {
    "duration": 1710,
    "start_time": "2022-10-30T10:53:00.523Z"
   },
   {
    "duration": 14,
    "start_time": "2022-10-30T10:53:02.235Z"
   },
   {
    "duration": 3003,
    "start_time": "2022-10-30T10:53:25.973Z"
   },
   {
    "duration": 7,
    "start_time": "2022-10-30T10:54:04.276Z"
   },
   {
    "duration": 789,
    "start_time": "2022-10-30T10:54:04.936Z"
   },
   {
    "duration": 365,
    "start_time": "2022-10-30T10:54:07.144Z"
   },
   {
    "duration": 2574,
    "start_time": "2022-10-30T10:55:29.616Z"
   },
   {
    "duration": 3206,
    "start_time": "2022-10-30T11:08:23.007Z"
   },
   {
    "duration": 6,
    "start_time": "2022-10-30T11:08:26.215Z"
   },
   {
    "duration": 9,
    "start_time": "2022-10-30T11:08:26.222Z"
   },
   {
    "duration": 9,
    "start_time": "2022-10-30T11:08:26.233Z"
   },
   {
    "duration": 6,
    "start_time": "2022-10-30T11:08:26.245Z"
   },
   {
    "duration": 105,
    "start_time": "2022-10-30T11:08:26.252Z"
   },
   {
    "duration": 26,
    "start_time": "2022-10-30T11:08:26.358Z"
   },
   {
    "duration": 31,
    "start_time": "2022-10-30T11:08:26.386Z"
   },
   {
    "duration": 18,
    "start_time": "2022-10-30T11:08:26.418Z"
   },
   {
    "duration": 30,
    "start_time": "2022-10-30T11:08:26.438Z"
   },
   {
    "duration": 26,
    "start_time": "2022-10-30T11:08:26.470Z"
   },
   {
    "duration": 18,
    "start_time": "2022-10-30T11:08:26.497Z"
   },
   {
    "duration": 7,
    "start_time": "2022-10-30T11:08:26.517Z"
   },
   {
    "duration": 39,
    "start_time": "2022-10-30T11:08:26.527Z"
   },
   {
    "duration": 379,
    "start_time": "2022-10-30T11:08:26.568Z"
   },
   {
    "duration": 17,
    "start_time": "2022-10-30T11:08:26.948Z"
   },
   {
    "duration": 25,
    "start_time": "2022-10-30T11:08:26.967Z"
   },
   {
    "duration": 7,
    "start_time": "2022-10-30T11:08:26.994Z"
   },
   {
    "duration": 8,
    "start_time": "2022-10-30T11:08:27.003Z"
   },
   {
    "duration": 10,
    "start_time": "2022-10-30T11:08:27.013Z"
   },
   {
    "duration": 12,
    "start_time": "2022-10-30T11:08:27.025Z"
   },
   {
    "duration": 17,
    "start_time": "2022-10-30T11:08:27.039Z"
   },
   {
    "duration": 37,
    "start_time": "2022-10-30T11:08:27.058Z"
   },
   {
    "duration": 27,
    "start_time": "2022-10-30T11:08:27.096Z"
   },
   {
    "duration": 12,
    "start_time": "2022-10-30T11:08:27.125Z"
   },
   {
    "duration": 4,
    "start_time": "2022-10-30T11:08:27.138Z"
   },
   {
    "duration": 6,
    "start_time": "2022-10-30T11:08:27.144Z"
   },
   {
    "duration": 73,
    "start_time": "2022-10-30T11:08:27.151Z"
   },
   {
    "duration": 17,
    "start_time": "2022-10-30T11:08:27.225Z"
   },
   {
    "duration": 23,
    "start_time": "2022-10-30T11:08:27.243Z"
   },
   {
    "duration": 25,
    "start_time": "2022-10-30T11:08:27.267Z"
   },
   {
    "duration": 401,
    "start_time": "2022-10-30T11:08:27.293Z"
   },
   {
    "duration": 190,
    "start_time": "2022-10-30T11:08:27.696Z"
   },
   {
    "duration": 20,
    "start_time": "2022-10-30T11:08:27.887Z"
   },
   {
    "duration": 7,
    "start_time": "2022-10-30T11:08:27.909Z"
   },
   {
    "duration": 326,
    "start_time": "2022-10-30T11:08:27.918Z"
   },
   {
    "duration": 290,
    "start_time": "2022-10-30T11:08:28.246Z"
   },
   {
    "duration": 6,
    "start_time": "2022-10-30T11:08:28.538Z"
   },
   {
    "duration": 826,
    "start_time": "2022-10-30T11:08:28.546Z"
   },
   {
    "duration": 431,
    "start_time": "2022-10-30T11:08:29.374Z"
   },
   {
    "duration": 2581,
    "start_time": "2022-10-30T11:08:29.809Z"
   },
   {
    "duration": 5,
    "start_time": "2022-10-30T11:08:32.392Z"
   },
   {
    "duration": 16,
    "start_time": "2022-10-30T11:08:32.398Z"
   },
   {
    "duration": 20,
    "start_time": "2022-10-30T11:08:32.416Z"
   },
   {
    "duration": 17,
    "start_time": "2022-10-30T11:08:32.437Z"
   },
   {
    "duration": 9,
    "start_time": "2022-10-30T11:08:32.455Z"
   },
   {
    "duration": 63,
    "start_time": "2022-10-30T11:08:32.465Z"
   },
   {
    "duration": 4,
    "start_time": "2022-10-30T11:08:32.529Z"
   },
   {
    "duration": 5,
    "start_time": "2022-10-30T11:08:32.535Z"
   },
   {
    "duration": 5,
    "start_time": "2022-10-30T11:08:32.542Z"
   },
   {
    "duration": 12,
    "start_time": "2022-10-30T11:08:32.549Z"
   },
   {
    "duration": 92214,
    "start_time": "2022-10-30T11:08:32.562Z"
   },
   {
    "duration": 0,
    "start_time": "2022-10-30T11:10:04.777Z"
   },
   {
    "duration": 1,
    "start_time": "2022-10-30T11:10:04.778Z"
   },
   {
    "duration": 0,
    "start_time": "2022-10-30T11:10:04.780Z"
   },
   {
    "duration": 0,
    "start_time": "2022-10-30T11:10:04.781Z"
   },
   {
    "duration": 0,
    "start_time": "2022-10-30T11:10:04.782Z"
   },
   {
    "duration": 0,
    "start_time": "2022-10-30T11:10:04.783Z"
   },
   {
    "duration": 0,
    "start_time": "2022-10-30T11:10:04.784Z"
   },
   {
    "duration": 0,
    "start_time": "2022-10-30T11:10:04.785Z"
   },
   {
    "duration": 0,
    "start_time": "2022-10-30T11:10:04.786Z"
   },
   {
    "duration": 3078,
    "start_time": "2022-10-30T11:12:55.040Z"
   },
   {
    "duration": 7,
    "start_time": "2022-10-30T11:12:58.120Z"
   },
   {
    "duration": 8,
    "start_time": "2022-10-30T11:12:58.129Z"
   },
   {
    "duration": 4,
    "start_time": "2022-10-30T11:12:58.139Z"
   },
   {
    "duration": 4,
    "start_time": "2022-10-30T11:12:58.145Z"
   },
   {
    "duration": 112,
    "start_time": "2022-10-30T11:12:58.151Z"
   },
   {
    "duration": 30,
    "start_time": "2022-10-30T11:12:58.264Z"
   },
   {
    "duration": 198,
    "start_time": "2022-10-30T11:12:58.296Z"
   },
   {
    "duration": 16,
    "start_time": "2022-10-30T11:12:58.496Z"
   },
   {
    "duration": 21,
    "start_time": "2022-10-30T11:12:58.514Z"
   },
   {
    "duration": 10,
    "start_time": "2022-10-30T11:12:58.537Z"
   },
   {
    "duration": 13,
    "start_time": "2022-10-30T11:12:58.549Z"
   },
   {
    "duration": 30,
    "start_time": "2022-10-30T11:12:58.563Z"
   },
   {
    "duration": 35,
    "start_time": "2022-10-30T11:12:58.594Z"
   },
   {
    "duration": 194,
    "start_time": "2022-10-30T11:12:58.631Z"
   },
   {
    "duration": 16,
    "start_time": "2022-10-30T11:12:58.828Z"
   },
   {
    "duration": 10,
    "start_time": "2022-10-30T11:12:58.846Z"
   },
   {
    "duration": 7,
    "start_time": "2022-10-30T11:12:58.857Z"
   },
   {
    "duration": 6,
    "start_time": "2022-10-30T11:12:58.890Z"
   },
   {
    "duration": 6,
    "start_time": "2022-10-30T11:12:58.898Z"
   },
   {
    "duration": 11,
    "start_time": "2022-10-30T11:12:58.906Z"
   },
   {
    "duration": 19,
    "start_time": "2022-10-30T11:12:58.919Z"
   },
   {
    "duration": 13,
    "start_time": "2022-10-30T11:12:58.940Z"
   },
   {
    "duration": 58,
    "start_time": "2022-10-30T11:12:58.954Z"
   },
   {
    "duration": 12,
    "start_time": "2022-10-30T11:12:59.013Z"
   },
   {
    "duration": 3,
    "start_time": "2022-10-30T11:12:59.026Z"
   },
   {
    "duration": 5,
    "start_time": "2022-10-30T11:12:59.031Z"
   },
   {
    "duration": 79,
    "start_time": "2022-10-30T11:12:59.039Z"
   },
   {
    "duration": 18,
    "start_time": "2022-10-30T11:12:59.120Z"
   },
   {
    "duration": 25,
    "start_time": "2022-10-30T11:12:59.140Z"
   },
   {
    "duration": 25,
    "start_time": "2022-10-30T11:12:59.167Z"
   },
   {
    "duration": 389,
    "start_time": "2022-10-30T11:12:59.193Z"
   },
   {
    "duration": 214,
    "start_time": "2022-10-30T11:12:59.591Z"
   },
   {
    "duration": 22,
    "start_time": "2022-10-30T11:12:59.806Z"
   },
   {
    "duration": 9,
    "start_time": "2022-10-30T11:12:59.829Z"
   },
   {
    "duration": 340,
    "start_time": "2022-10-30T11:12:59.840Z"
   },
   {
    "duration": 307,
    "start_time": "2022-10-30T11:13:00.181Z"
   },
   {
    "duration": 7,
    "start_time": "2022-10-30T11:13:00.490Z"
   },
   {
    "duration": 940,
    "start_time": "2022-10-30T11:13:00.498Z"
   },
   {
    "duration": 412,
    "start_time": "2022-10-30T11:13:01.440Z"
   },
   {
    "duration": 2592,
    "start_time": "2022-10-30T11:13:01.854Z"
   },
   {
    "duration": 6,
    "start_time": "2022-10-30T11:13:04.448Z"
   },
   {
    "duration": 11,
    "start_time": "2022-10-30T11:13:04.456Z"
   },
   {
    "duration": 41,
    "start_time": "2022-10-30T11:13:04.469Z"
   },
   {
    "duration": 15,
    "start_time": "2022-10-30T11:13:04.512Z"
   },
   {
    "duration": 7,
    "start_time": "2022-10-30T11:13:04.529Z"
   },
   {
    "duration": 34,
    "start_time": "2022-10-30T11:13:04.537Z"
   },
   {
    "duration": 4,
    "start_time": "2022-10-30T11:13:04.590Z"
   },
   {
    "duration": 7,
    "start_time": "2022-10-30T11:13:04.596Z"
   },
   {
    "duration": 4,
    "start_time": "2022-10-30T11:13:04.604Z"
   },
   {
    "duration": 10,
    "start_time": "2022-10-30T11:13:04.610Z"
   },
   {
    "duration": 77623,
    "start_time": "2022-10-30T11:13:04.622Z"
   },
   {
    "duration": 0,
    "start_time": "2022-10-30T11:14:22.247Z"
   },
   {
    "duration": 0,
    "start_time": "2022-10-30T11:14:22.248Z"
   },
   {
    "duration": 0,
    "start_time": "2022-10-30T11:14:22.250Z"
   },
   {
    "duration": 0,
    "start_time": "2022-10-30T11:14:22.251Z"
   },
   {
    "duration": 0,
    "start_time": "2022-10-30T11:14:22.252Z"
   },
   {
    "duration": 0,
    "start_time": "2022-10-30T11:14:22.253Z"
   },
   {
    "duration": 0,
    "start_time": "2022-10-30T11:14:22.254Z"
   },
   {
    "duration": 0,
    "start_time": "2022-10-30T11:14:22.255Z"
   },
   {
    "duration": 0,
    "start_time": "2022-10-30T11:14:22.257Z"
   },
   {
    "duration": 3196,
    "start_time": "2022-10-30T11:17:49.506Z"
   },
   {
    "duration": 8,
    "start_time": "2022-10-30T11:17:52.705Z"
   },
   {
    "duration": 7,
    "start_time": "2022-10-30T11:17:52.714Z"
   },
   {
    "duration": 3,
    "start_time": "2022-10-30T11:17:52.723Z"
   },
   {
    "duration": 8,
    "start_time": "2022-10-30T11:17:52.728Z"
   },
   {
    "duration": 103,
    "start_time": "2022-10-30T11:17:52.737Z"
   },
   {
    "duration": 27,
    "start_time": "2022-10-30T11:17:52.842Z"
   },
   {
    "duration": 38,
    "start_time": "2022-10-30T11:17:52.870Z"
   },
   {
    "duration": 16,
    "start_time": "2022-10-30T11:17:52.910Z"
   },
   {
    "duration": 212,
    "start_time": "2022-10-30T11:17:52.928Z"
   },
   {
    "duration": 11,
    "start_time": "2022-10-30T11:17:53.141Z"
   },
   {
    "duration": 13,
    "start_time": "2022-10-30T11:17:53.153Z"
   },
   {
    "duration": 5,
    "start_time": "2022-10-30T11:17:53.168Z"
   },
   {
    "duration": 44,
    "start_time": "2022-10-30T11:17:53.175Z"
   },
   {
    "duration": 195,
    "start_time": "2022-10-30T11:17:53.221Z"
   },
   {
    "duration": 16,
    "start_time": "2022-10-30T11:17:53.418Z"
   },
   {
    "duration": 12,
    "start_time": "2022-10-30T11:17:53.435Z"
   },
   {
    "duration": 9,
    "start_time": "2022-10-30T11:17:53.449Z"
   },
   {
    "duration": 32,
    "start_time": "2022-10-30T11:17:53.460Z"
   },
   {
    "duration": 6,
    "start_time": "2022-10-30T11:17:53.494Z"
   },
   {
    "duration": 10,
    "start_time": "2022-10-30T11:17:53.501Z"
   },
   {
    "duration": 17,
    "start_time": "2022-10-30T11:17:53.514Z"
   },
   {
    "duration": 11,
    "start_time": "2022-10-30T11:17:53.533Z"
   },
   {
    "duration": 46,
    "start_time": "2022-10-30T11:17:53.545Z"
   },
   {
    "duration": 11,
    "start_time": "2022-10-30T11:17:53.593Z"
   },
   {
    "duration": 5,
    "start_time": "2022-10-30T11:17:53.606Z"
   },
   {
    "duration": 5,
    "start_time": "2022-10-30T11:17:53.613Z"
   },
   {
    "duration": 61,
    "start_time": "2022-10-30T11:17:53.621Z"
   },
   {
    "duration": 23,
    "start_time": "2022-10-30T11:17:53.683Z"
   },
   {
    "duration": 22,
    "start_time": "2022-10-30T11:17:53.709Z"
   },
   {
    "duration": 8,
    "start_time": "2022-10-30T11:17:53.733Z"
   },
   {
    "duration": 528,
    "start_time": "2022-10-30T11:17:53.742Z"
   },
   {
    "duration": 209,
    "start_time": "2022-10-30T11:17:54.272Z"
   },
   {
    "duration": 29,
    "start_time": "2022-10-30T11:17:54.482Z"
   },
   {
    "duration": 9,
    "start_time": "2022-10-30T11:17:54.513Z"
   },
   {
    "duration": 335,
    "start_time": "2022-10-30T11:17:54.524Z"
   },
   {
    "duration": 296,
    "start_time": "2022-10-30T11:17:54.860Z"
   },
   {
    "duration": 6,
    "start_time": "2022-10-30T11:17:55.158Z"
   },
   {
    "duration": 807,
    "start_time": "2022-10-30T11:17:55.166Z"
   },
   {
    "duration": 372,
    "start_time": "2022-10-30T11:17:55.975Z"
   },
   {
    "duration": 0,
    "start_time": "2022-10-30T11:17:59.218Z"
   },
   {
    "duration": 0,
    "start_time": "2022-10-30T11:17:59.219Z"
   },
   {
    "duration": 0,
    "start_time": "2022-10-30T11:17:59.221Z"
   },
   {
    "duration": 0,
    "start_time": "2022-10-30T11:17:59.222Z"
   },
   {
    "duration": 0,
    "start_time": "2022-10-30T11:17:59.223Z"
   },
   {
    "duration": 0,
    "start_time": "2022-10-30T11:17:59.224Z"
   },
   {
    "duration": 1,
    "start_time": "2022-10-30T11:17:59.225Z"
   },
   {
    "duration": 0,
    "start_time": "2022-10-30T11:17:59.226Z"
   },
   {
    "duration": 0,
    "start_time": "2022-10-30T11:17:59.228Z"
   },
   {
    "duration": 0,
    "start_time": "2022-10-30T11:17:59.229Z"
   },
   {
    "duration": 0,
    "start_time": "2022-10-30T11:17:59.230Z"
   },
   {
    "duration": 0,
    "start_time": "2022-10-30T11:17:59.231Z"
   },
   {
    "duration": 0,
    "start_time": "2022-10-30T11:17:59.232Z"
   },
   {
    "duration": 0,
    "start_time": "2022-10-30T11:17:59.233Z"
   },
   {
    "duration": 0,
    "start_time": "2022-10-30T11:17:59.291Z"
   },
   {
    "duration": 0,
    "start_time": "2022-10-30T11:17:59.292Z"
   },
   {
    "duration": 0,
    "start_time": "2022-10-30T11:17:59.294Z"
   },
   {
    "duration": 0,
    "start_time": "2022-10-30T11:17:59.294Z"
   },
   {
    "duration": 0,
    "start_time": "2022-10-30T11:17:59.295Z"
   },
   {
    "duration": 0,
    "start_time": "2022-10-30T11:17:59.296Z"
   },
   {
    "duration": 0,
    "start_time": "2022-10-30T11:17:59.297Z"
   },
   {
    "duration": 0,
    "start_time": "2022-10-30T11:17:59.298Z"
   },
   {
    "duration": 0,
    "start_time": "2022-10-30T11:17:59.299Z"
   },
   {
    "duration": 0,
    "start_time": "2022-10-30T11:17:59.300Z"
   },
   {
    "duration": 0,
    "start_time": "2022-10-30T11:17:59.301Z"
   },
   {
    "duration": 0,
    "start_time": "2022-10-30T11:17:59.302Z"
   },
   {
    "duration": 0,
    "start_time": "2022-10-30T11:17:59.303Z"
   },
   {
    "duration": 0,
    "start_time": "2022-10-30T11:17:59.304Z"
   },
   {
    "duration": 0,
    "start_time": "2022-10-30T11:17:59.305Z"
   },
   {
    "duration": 0,
    "start_time": "2022-10-30T11:17:59.306Z"
   },
   {
    "duration": 0,
    "start_time": "2022-10-30T11:17:59.307Z"
   },
   {
    "duration": 0,
    "start_time": "2022-10-30T11:17:59.308Z"
   },
   {
    "duration": 0,
    "start_time": "2022-10-30T11:17:59.309Z"
   },
   {
    "duration": 0,
    "start_time": "2022-10-30T11:17:59.310Z"
   },
   {
    "duration": 0,
    "start_time": "2022-10-30T11:17:59.311Z"
   },
   {
    "duration": 0,
    "start_time": "2022-10-30T11:17:59.312Z"
   },
   {
    "duration": 0,
    "start_time": "2022-10-30T11:17:59.313Z"
   },
   {
    "duration": 0,
    "start_time": "2022-10-30T11:17:59.314Z"
   },
   {
    "duration": 0,
    "start_time": "2022-10-30T11:17:59.315Z"
   },
   {
    "duration": 0,
    "start_time": "2022-10-30T11:17:59.316Z"
   },
   {
    "duration": 0,
    "start_time": "2022-10-30T11:17:59.317Z"
   },
   {
    "duration": 0,
    "start_time": "2022-10-30T11:17:59.318Z"
   },
   {
    "duration": 0,
    "start_time": "2022-10-30T11:17:59.319Z"
   },
   {
    "duration": 0,
    "start_time": "2022-10-30T11:17:59.320Z"
   },
   {
    "duration": 0,
    "start_time": "2022-10-30T11:17:59.321Z"
   },
   {
    "duration": 0,
    "start_time": "2022-10-30T11:17:59.322Z"
   },
   {
    "duration": 0,
    "start_time": "2022-10-30T11:17:59.323Z"
   },
   {
    "duration": 0,
    "start_time": "2022-10-30T11:17:59.324Z"
   },
   {
    "duration": 0,
    "start_time": "2022-10-30T11:17:59.325Z"
   },
   {
    "duration": 0,
    "start_time": "2022-10-30T11:17:59.327Z"
   },
   {
    "duration": 0,
    "start_time": "2022-10-30T11:17:59.328Z"
   },
   {
    "duration": 0,
    "start_time": "2022-10-30T11:17:59.329Z"
   },
   {
    "duration": 0,
    "start_time": "2022-10-30T11:17:59.391Z"
   },
   {
    "duration": 0,
    "start_time": "2022-10-30T11:17:59.392Z"
   },
   {
    "duration": 0,
    "start_time": "2022-10-30T11:17:59.396Z"
   },
   {
    "duration": 0,
    "start_time": "2022-10-30T11:17:59.397Z"
   },
   {
    "duration": 0,
    "start_time": "2022-10-30T11:17:59.398Z"
   },
   {
    "duration": 0,
    "start_time": "2022-10-30T11:17:59.399Z"
   },
   {
    "duration": 0,
    "start_time": "2022-10-30T11:17:59.400Z"
   },
   {
    "duration": 0,
    "start_time": "2022-10-30T11:17:59.401Z"
   },
   {
    "duration": 0,
    "start_time": "2022-10-30T11:17:59.402Z"
   },
   {
    "duration": 3091,
    "start_time": "2022-10-30T11:18:52.052Z"
   },
   {
    "duration": 7,
    "start_time": "2022-10-30T11:18:55.145Z"
   },
   {
    "duration": 5,
    "start_time": "2022-10-30T11:18:55.153Z"
   },
   {
    "duration": 4,
    "start_time": "2022-10-30T11:18:55.159Z"
   },
   {
    "duration": 4,
    "start_time": "2022-10-30T11:18:55.165Z"
   },
   {
    "duration": 95,
    "start_time": "2022-10-30T11:18:55.170Z"
   },
   {
    "duration": 28,
    "start_time": "2022-10-30T11:18:55.266Z"
   },
   {
    "duration": 31,
    "start_time": "2022-10-30T11:18:55.295Z"
   },
   {
    "duration": 18,
    "start_time": "2022-10-30T11:18:55.328Z"
   },
   {
    "duration": 20,
    "start_time": "2022-10-30T11:18:55.348Z"
   },
   {
    "duration": 30,
    "start_time": "2022-10-30T11:18:55.370Z"
   },
   {
    "duration": 13,
    "start_time": "2022-10-30T11:18:55.402Z"
   },
   {
    "duration": 5,
    "start_time": "2022-10-30T11:18:55.416Z"
   },
   {
    "duration": 30,
    "start_time": "2022-10-30T11:18:55.424Z"
   },
   {
    "duration": 202,
    "start_time": "2022-10-30T11:18:55.456Z"
   },
   {
    "duration": 15,
    "start_time": "2022-10-30T11:18:55.660Z"
   },
   {
    "duration": 21,
    "start_time": "2022-10-30T11:18:55.676Z"
   },
   {
    "duration": 8,
    "start_time": "2022-10-30T11:18:55.698Z"
   },
   {
    "duration": 7,
    "start_time": "2022-10-30T11:18:55.707Z"
   },
   {
    "duration": 6,
    "start_time": "2022-10-30T11:18:55.716Z"
   },
   {
    "duration": 11,
    "start_time": "2022-10-30T11:18:55.723Z"
   },
   {
    "duration": 18,
    "start_time": "2022-10-30T11:18:55.736Z"
   },
   {
    "duration": 40,
    "start_time": "2022-10-30T11:18:55.755Z"
   },
   {
    "duration": 28,
    "start_time": "2022-10-30T11:18:55.797Z"
   },
   {
    "duration": 13,
    "start_time": "2022-10-30T11:18:55.827Z"
   },
   {
    "duration": 4,
    "start_time": "2022-10-30T11:18:55.842Z"
   },
   {
    "duration": 5,
    "start_time": "2022-10-30T11:18:55.848Z"
   },
   {
    "duration": 87,
    "start_time": "2022-10-30T11:18:55.854Z"
   },
   {
    "duration": 18,
    "start_time": "2022-10-30T11:18:55.942Z"
   },
   {
    "duration": 34,
    "start_time": "2022-10-30T11:18:55.962Z"
   },
   {
    "duration": 8,
    "start_time": "2022-10-30T11:18:55.998Z"
   },
   {
    "duration": 656,
    "start_time": "2022-10-30T11:18:56.007Z"
   },
   {
    "duration": 201,
    "start_time": "2022-10-30T11:18:56.666Z"
   },
   {
    "duration": 30,
    "start_time": "2022-10-30T11:18:56.869Z"
   },
   {
    "duration": 8,
    "start_time": "2022-10-30T11:18:56.900Z"
   },
   {
    "duration": 365,
    "start_time": "2022-10-30T11:18:56.909Z"
   },
   {
    "duration": 301,
    "start_time": "2022-10-30T11:18:57.276Z"
   },
   {
    "duration": 13,
    "start_time": "2022-10-30T11:18:57.578Z"
   },
   {
    "duration": 863,
    "start_time": "2022-10-30T11:18:57.593Z"
   },
   {
    "duration": 399,
    "start_time": "2022-10-30T11:18:58.458Z"
   },
   {
    "duration": 2547,
    "start_time": "2022-10-30T11:18:58.863Z"
   },
   {
    "duration": 5,
    "start_time": "2022-10-30T11:19:01.412Z"
   },
   {
    "duration": 13,
    "start_time": "2022-10-30T11:19:01.418Z"
   },
   {
    "duration": 18,
    "start_time": "2022-10-30T11:19:01.433Z"
   },
   {
    "duration": 42,
    "start_time": "2022-10-30T11:19:01.453Z"
   },
   {
    "duration": 8,
    "start_time": "2022-10-30T11:19:01.497Z"
   },
   {
    "duration": 31,
    "start_time": "2022-10-30T11:19:01.507Z"
   },
   {
    "duration": 0,
    "start_time": "2022-10-30T11:19:01.540Z"
   },
   {
    "duration": 0,
    "start_time": "2022-10-30T11:19:01.541Z"
   },
   {
    "duration": 0,
    "start_time": "2022-10-30T11:19:01.542Z"
   },
   {
    "duration": 0,
    "start_time": "2022-10-30T11:19:01.543Z"
   },
   {
    "duration": 0,
    "start_time": "2022-10-30T11:19:01.544Z"
   },
   {
    "duration": 0,
    "start_time": "2022-10-30T11:19:01.545Z"
   },
   {
    "duration": 0,
    "start_time": "2022-10-30T11:19:01.546Z"
   },
   {
    "duration": 0,
    "start_time": "2022-10-30T11:19:01.547Z"
   },
   {
    "duration": 0,
    "start_time": "2022-10-30T11:19:01.548Z"
   },
   {
    "duration": 0,
    "start_time": "2022-10-30T11:19:01.549Z"
   },
   {
    "duration": 0,
    "start_time": "2022-10-30T11:19:01.550Z"
   },
   {
    "duration": 0,
    "start_time": "2022-10-30T11:19:01.550Z"
   },
   {
    "duration": 0,
    "start_time": "2022-10-30T11:19:01.551Z"
   },
   {
    "duration": 0,
    "start_time": "2022-10-30T11:19:01.553Z"
   },
   {
    "duration": 4,
    "start_time": "2022-10-30T11:19:39.002Z"
   },
   {
    "duration": 37,
    "start_time": "2022-10-30T11:19:40.812Z"
   },
   {
    "duration": 3,
    "start_time": "2022-10-30T11:19:43.520Z"
   },
   {
    "duration": 4,
    "start_time": "2022-10-30T11:19:48.076Z"
   },
   {
    "duration": 6,
    "start_time": "2022-10-30T11:19:48.082Z"
   },
   {
    "duration": 11,
    "start_time": "2022-10-30T11:19:48.089Z"
   },
   {
    "duration": 112496,
    "start_time": "2022-10-30T11:19:48.102Z"
   },
   {
    "duration": 2,
    "start_time": "2022-10-30T11:21:40.600Z"
   },
   {
    "duration": 9,
    "start_time": "2022-10-30T11:21:40.604Z"
   },
   {
    "duration": 186,
    "start_time": "2022-10-30T11:21:40.614Z"
   },
   {
    "duration": 5,
    "start_time": "2022-10-30T11:21:40.802Z"
   },
   {
    "duration": 141,
    "start_time": "2022-10-30T11:21:40.809Z"
   },
   {
    "duration": 6,
    "start_time": "2022-10-30T11:21:40.951Z"
   },
   {
    "duration": 723,
    "start_time": "2022-10-30T11:21:40.959Z"
   },
   {
    "duration": 681,
    "start_time": "2022-10-30T11:21:41.690Z"
   },
   {
    "duration": 176,
    "start_time": "2022-10-30T11:21:42.372Z"
   },
   {
    "duration": 88,
    "start_time": "2022-10-30T11:35:36.664Z"
   },
   {
    "duration": 3,
    "start_time": "2022-10-30T11:42:12.690Z"
   },
   {
    "duration": 4,
    "start_time": "2022-10-30T11:42:13.654Z"
   },
   {
    "duration": 10,
    "start_time": "2022-10-30T11:42:18.484Z"
   },
   {
    "duration": 11,
    "start_time": "2022-10-30T11:42:27.983Z"
   },
   {
    "duration": 3235,
    "start_time": "2022-10-30T11:42:50.292Z"
   },
   {
    "duration": 6,
    "start_time": "2022-10-30T11:42:53.529Z"
   },
   {
    "duration": 6,
    "start_time": "2022-10-30T11:42:53.537Z"
   },
   {
    "duration": 4,
    "start_time": "2022-10-30T11:42:53.545Z"
   },
   {
    "duration": 7,
    "start_time": "2022-10-30T11:42:53.551Z"
   },
   {
    "duration": 96,
    "start_time": "2022-10-30T11:42:53.560Z"
   },
   {
    "duration": 26,
    "start_time": "2022-10-30T11:42:53.658Z"
   },
   {
    "duration": 29,
    "start_time": "2022-10-30T11:42:53.686Z"
   },
   {
    "duration": 17,
    "start_time": "2022-10-30T11:42:53.717Z"
   },
   {
    "duration": 254,
    "start_time": "2022-10-30T11:42:53.737Z"
   },
   {
    "duration": 10,
    "start_time": "2022-10-30T11:42:53.993Z"
   },
   {
    "duration": 12,
    "start_time": "2022-10-30T11:42:54.004Z"
   },
   {
    "duration": 6,
    "start_time": "2022-10-30T11:42:54.017Z"
   },
   {
    "duration": 30,
    "start_time": "2022-10-30T11:42:54.024Z"
   },
   {
    "duration": 189,
    "start_time": "2022-10-30T11:42:54.055Z"
   },
   {
    "duration": 15,
    "start_time": "2022-10-30T11:42:54.245Z"
   },
   {
    "duration": 9,
    "start_time": "2022-10-30T11:42:54.261Z"
   },
   {
    "duration": 23,
    "start_time": "2022-10-30T11:42:54.271Z"
   },
   {
    "duration": 5,
    "start_time": "2022-10-30T11:42:54.296Z"
   },
   {
    "duration": 5,
    "start_time": "2022-10-30T11:42:54.303Z"
   },
   {
    "duration": 12,
    "start_time": "2022-10-30T11:42:54.309Z"
   },
   {
    "duration": 19,
    "start_time": "2022-10-30T11:42:54.322Z"
   },
   {
    "duration": 13,
    "start_time": "2022-10-30T11:42:54.342Z"
   },
   {
    "duration": 54,
    "start_time": "2022-10-30T11:42:54.356Z"
   },
   {
    "duration": 20,
    "start_time": "2022-10-30T11:42:54.412Z"
   },
   {
    "duration": 5,
    "start_time": "2022-10-30T11:42:54.433Z"
   },
   {
    "duration": 4,
    "start_time": "2022-10-30T11:42:54.440Z"
   },
   {
    "duration": 87,
    "start_time": "2022-10-30T11:42:54.449Z"
   },
   {
    "duration": 18,
    "start_time": "2022-10-30T11:42:54.537Z"
   },
   {
    "duration": 35,
    "start_time": "2022-10-30T11:42:54.556Z"
   },
   {
    "duration": 7,
    "start_time": "2022-10-30T11:42:54.593Z"
   },
   {
    "duration": 386,
    "start_time": "2022-10-30T11:42:54.601Z"
   },
   {
    "duration": 199,
    "start_time": "2022-10-30T11:42:54.988Z"
   },
   {
    "duration": 20,
    "start_time": "2022-10-30T11:42:55.191Z"
   },
   {
    "duration": 8,
    "start_time": "2022-10-30T11:42:55.212Z"
   },
   {
    "duration": 315,
    "start_time": "2022-10-30T11:42:55.221Z"
   },
   {
    "duration": 278,
    "start_time": "2022-10-30T11:42:55.537Z"
   },
   {
    "duration": 6,
    "start_time": "2022-10-30T11:42:55.817Z"
   },
   {
    "duration": 893,
    "start_time": "2022-10-30T11:42:55.824Z"
   },
   {
    "duration": 418,
    "start_time": "2022-10-30T11:42:56.721Z"
   },
   {
    "duration": 2551,
    "start_time": "2022-10-30T11:42:57.140Z"
   },
   {
    "duration": 5,
    "start_time": "2022-10-30T11:42:59.692Z"
   },
   {
    "duration": 15,
    "start_time": "2022-10-30T11:42:59.699Z"
   },
   {
    "duration": 27,
    "start_time": "2022-10-30T11:42:59.716Z"
   },
   {
    "duration": 16,
    "start_time": "2022-10-30T11:42:59.745Z"
   },
   {
    "duration": 19,
    "start_time": "2022-10-30T11:42:59.762Z"
   },
   {
    "duration": 40,
    "start_time": "2022-10-30T11:42:59.783Z"
   },
   {
    "duration": 3,
    "start_time": "2022-10-30T11:42:59.825Z"
   },
   {
    "duration": 6,
    "start_time": "2022-10-30T11:42:59.830Z"
   },
   {
    "duration": 4,
    "start_time": "2022-10-30T11:42:59.837Z"
   },
   {
    "duration": 10,
    "start_time": "2022-10-30T11:42:59.842Z"
   },
   {
    "duration": 113184,
    "start_time": "2022-10-30T11:42:59.853Z"
   },
   {
    "duration": 52,
    "start_time": "2022-10-30T11:44:53.039Z"
   },
   {
    "duration": 20,
    "start_time": "2022-10-30T11:44:53.093Z"
   },
   {
    "duration": 10,
    "start_time": "2022-10-30T11:44:53.114Z"
   },
   {
    "duration": 194,
    "start_time": "2022-10-30T11:44:53.126Z"
   },
   {
    "duration": 5,
    "start_time": "2022-10-30T11:44:53.322Z"
   },
   {
    "duration": 156,
    "start_time": "2022-10-30T11:44:53.329Z"
   },
   {
    "duration": 6,
    "start_time": "2022-10-30T11:44:53.490Z"
   },
   {
    "duration": 750,
    "start_time": "2022-10-30T11:44:53.498Z"
   },
   {
    "duration": 766,
    "start_time": "2022-10-30T11:44:54.250Z"
   },
   {
    "duration": 194,
    "start_time": "2022-10-30T11:44:55.019Z"
   },
   {
    "duration": 14,
    "start_time": "2022-10-30T11:51:10.112Z"
   },
   {
    "duration": 23,
    "start_time": "2022-10-30T11:51:44.520Z"
   },
   {
    "duration": 19,
    "start_time": "2022-10-30T11:52:04.007Z"
   },
   {
    "duration": 6,
    "start_time": "2022-10-30T11:52:20.212Z"
   },
   {
    "duration": 26,
    "start_time": "2022-10-30T11:52:33.871Z"
   },
   {
    "duration": 71,
    "start_time": "2022-10-30T11:53:04.608Z"
   },
   {
    "duration": 15,
    "start_time": "2022-10-30T11:53:10.099Z"
   },
   {
    "duration": 17,
    "start_time": "2022-10-30T11:53:33.245Z"
   },
   {
    "duration": 16,
    "start_time": "2022-10-30T11:53:45.280Z"
   },
   {
    "duration": 15,
    "start_time": "2022-10-30T11:54:17.283Z"
   },
   {
    "duration": 20,
    "start_time": "2022-10-30T11:54:56.540Z"
   },
   {
    "duration": 15,
    "start_time": "2022-10-30T11:55:20.368Z"
   },
   {
    "duration": 14,
    "start_time": "2022-10-30T11:55:31.489Z"
   },
   {
    "duration": 101,
    "start_time": "2022-10-30T11:56:48.401Z"
   },
   {
    "duration": 3305,
    "start_time": "2022-10-30T11:57:16.439Z"
   },
   {
    "duration": 7,
    "start_time": "2022-10-30T11:57:19.747Z"
   },
   {
    "duration": 9,
    "start_time": "2022-10-30T11:57:19.756Z"
   },
   {
    "duration": 4,
    "start_time": "2022-10-30T11:57:19.766Z"
   },
   {
    "duration": 6,
    "start_time": "2022-10-30T11:57:19.772Z"
   },
   {
    "duration": 98,
    "start_time": "2022-10-30T11:57:19.791Z"
   },
   {
    "duration": 32,
    "start_time": "2022-10-30T11:57:19.891Z"
   },
   {
    "duration": 31,
    "start_time": "2022-10-30T11:57:19.925Z"
   },
   {
    "duration": 17,
    "start_time": "2022-10-30T11:57:19.958Z"
   },
   {
    "duration": 19,
    "start_time": "2022-10-30T11:57:19.990Z"
   },
   {
    "duration": 12,
    "start_time": "2022-10-30T11:57:20.012Z"
   },
   {
    "duration": 15,
    "start_time": "2022-10-30T11:57:20.026Z"
   },
   {
    "duration": 6,
    "start_time": "2022-10-30T11:57:20.043Z"
   },
   {
    "duration": 66,
    "start_time": "2022-10-30T11:57:20.051Z"
   },
   {
    "duration": 433,
    "start_time": "2022-10-30T11:57:20.119Z"
   },
   {
    "duration": 15,
    "start_time": "2022-10-30T11:57:20.554Z"
   },
   {
    "duration": 24,
    "start_time": "2022-10-30T11:57:20.571Z"
   },
   {
    "duration": 7,
    "start_time": "2022-10-30T11:57:20.597Z"
   },
   {
    "duration": 14,
    "start_time": "2022-10-30T11:57:20.605Z"
   },
   {
    "duration": 6,
    "start_time": "2022-10-30T11:57:20.620Z"
   },
   {
    "duration": 12,
    "start_time": "2022-10-30T11:57:20.628Z"
   },
   {
    "duration": 20,
    "start_time": "2022-10-30T11:57:20.641Z"
   },
   {
    "duration": 38,
    "start_time": "2022-10-30T11:57:20.663Z"
   },
   {
    "duration": 32,
    "start_time": "2022-10-30T11:57:20.703Z"
   },
   {
    "duration": 15,
    "start_time": "2022-10-30T11:57:20.737Z"
   },
   {
    "duration": 4,
    "start_time": "2022-10-30T11:57:20.754Z"
   },
   {
    "duration": 7,
    "start_time": "2022-10-30T11:57:20.760Z"
   },
   {
    "duration": 71,
    "start_time": "2022-10-30T11:57:20.771Z"
   },
   {
    "duration": 18,
    "start_time": "2022-10-30T11:57:20.843Z"
   },
   {
    "duration": 33,
    "start_time": "2022-10-30T11:57:20.863Z"
   },
   {
    "duration": 7,
    "start_time": "2022-10-30T11:57:20.898Z"
   },
   {
    "duration": 396,
    "start_time": "2022-10-30T11:57:20.907Z"
   },
   {
    "duration": 194,
    "start_time": "2022-10-30T11:57:21.305Z"
   },
   {
    "duration": 21,
    "start_time": "2022-10-30T11:57:21.501Z"
   },
   {
    "duration": 8,
    "start_time": "2022-10-30T11:57:21.523Z"
   },
   {
    "duration": 314,
    "start_time": "2022-10-30T11:57:21.532Z"
   },
   {
    "duration": 291,
    "start_time": "2022-10-30T11:57:21.848Z"
   },
   {
    "duration": 6,
    "start_time": "2022-10-30T11:57:22.141Z"
   },
   {
    "duration": 881,
    "start_time": "2022-10-30T11:57:22.149Z"
   },
   {
    "duration": 417,
    "start_time": "2022-10-30T11:57:23.031Z"
   },
   {
    "duration": 2626,
    "start_time": "2022-10-30T11:57:23.450Z"
   },
   {
    "duration": 4,
    "start_time": "2022-10-30T11:57:26.078Z"
   },
   {
    "duration": 7,
    "start_time": "2022-10-30T11:57:26.091Z"
   },
   {
    "duration": 23,
    "start_time": "2022-10-30T11:57:26.100Z"
   },
   {
    "duration": 15,
    "start_time": "2022-10-30T11:57:26.125Z"
   },
   {
    "duration": 5,
    "start_time": "2022-10-30T11:57:26.141Z"
   },
   {
    "duration": 71,
    "start_time": "2022-10-30T11:57:26.147Z"
   },
   {
    "duration": 4,
    "start_time": "2022-10-30T11:57:26.219Z"
   },
   {
    "duration": 8,
    "start_time": "2022-10-30T11:57:26.225Z"
   },
   {
    "duration": 6,
    "start_time": "2022-10-30T11:57:26.234Z"
   },
   {
    "duration": 11,
    "start_time": "2022-10-30T11:57:26.241Z"
   },
   {
    "duration": 112472,
    "start_time": "2022-10-30T11:57:26.253Z"
   },
   {
    "duration": 4,
    "start_time": "2022-10-30T11:59:18.727Z"
   },
   {
    "duration": 18,
    "start_time": "2022-10-30T11:59:18.733Z"
   },
   {
    "duration": 6,
    "start_time": "2022-10-30T11:59:18.753Z"
   },
   {
    "duration": 213,
    "start_time": "2022-10-30T11:59:18.760Z"
   },
   {
    "duration": 4,
    "start_time": "2022-10-30T11:59:18.975Z"
   },
   {
    "duration": 143,
    "start_time": "2022-10-30T11:59:18.980Z"
   },
   {
    "duration": 6,
    "start_time": "2022-10-30T11:59:19.125Z"
   },
   {
    "duration": 744,
    "start_time": "2022-10-30T11:59:19.132Z"
   },
   {
    "duration": 701,
    "start_time": "2022-10-30T11:59:19.877Z"
   },
   {
    "duration": 184,
    "start_time": "2022-10-30T11:59:20.580Z"
   },
   {
    "duration": 5383,
    "start_time": "2022-10-31T10:09:32.517Z"
   },
   {
    "duration": 2742,
    "start_time": "2022-10-31T10:09:37.902Z"
   },
   {
    "duration": 3,
    "start_time": "2022-10-31T10:09:40.645Z"
   },
   {
    "duration": 19,
    "start_time": "2022-10-31T10:09:40.650Z"
   },
   {
    "duration": 7679,
    "start_time": "2022-10-31T10:09:40.670Z"
   },
   {
    "duration": 108,
    "start_time": "2022-10-31T10:09:48.350Z"
   },
   {
    "duration": 34,
    "start_time": "2022-10-31T10:09:48.459Z"
   },
   {
    "duration": 120,
    "start_time": "2022-10-31T10:09:48.495Z"
   },
   {
    "duration": 18,
    "start_time": "2022-10-31T10:09:48.616Z"
   },
   {
    "duration": 17,
    "start_time": "2022-10-31T10:09:48.637Z"
   },
   {
    "duration": 8,
    "start_time": "2022-10-31T10:09:48.656Z"
   },
   {
    "duration": 11,
    "start_time": "2022-10-31T10:09:48.666Z"
   },
   {
    "duration": 8,
    "start_time": "2022-10-31T10:09:48.678Z"
   },
   {
    "duration": 52,
    "start_time": "2022-10-31T10:09:48.687Z"
   },
   {
    "duration": 235,
    "start_time": "2022-10-31T10:09:48.741Z"
   },
   {
    "duration": 14,
    "start_time": "2022-10-31T10:09:48.978Z"
   },
   {
    "duration": 8,
    "start_time": "2022-10-31T10:09:48.994Z"
   },
   {
    "duration": 7,
    "start_time": "2022-10-31T10:09:49.021Z"
   },
   {
    "duration": 5,
    "start_time": "2022-10-31T10:09:49.029Z"
   },
   {
    "duration": 7,
    "start_time": "2022-10-31T10:09:49.035Z"
   },
   {
    "duration": 16,
    "start_time": "2022-10-31T10:09:49.043Z"
   },
   {
    "duration": 14,
    "start_time": "2022-10-31T10:09:49.060Z"
   },
   {
    "duration": 10,
    "start_time": "2022-10-31T10:09:49.076Z"
   },
   {
    "duration": 48,
    "start_time": "2022-10-31T10:09:49.088Z"
   },
   {
    "duration": 11,
    "start_time": "2022-10-31T10:09:49.137Z"
   },
   {
    "duration": 6,
    "start_time": "2022-10-31T10:09:49.149Z"
   },
   {
    "duration": 6,
    "start_time": "2022-10-31T10:09:49.157Z"
   },
   {
    "duration": 67,
    "start_time": "2022-10-31T10:09:49.166Z"
   },
   {
    "duration": 15,
    "start_time": "2022-10-31T10:09:49.235Z"
   },
   {
    "duration": 19,
    "start_time": "2022-10-31T10:09:49.251Z"
   },
   {
    "duration": 6,
    "start_time": "2022-10-31T10:09:49.272Z"
   },
   {
    "duration": 395,
    "start_time": "2022-10-31T10:09:49.279Z"
   },
   {
    "duration": 184,
    "start_time": "2022-10-31T10:09:49.675Z"
   },
   {
    "duration": 21,
    "start_time": "2022-10-31T10:09:49.861Z"
   },
   {
    "duration": 7,
    "start_time": "2022-10-31T10:09:49.884Z"
   },
   {
    "duration": 306,
    "start_time": "2022-10-31T10:09:49.892Z"
   },
   {
    "duration": 284,
    "start_time": "2022-10-31T10:09:50.199Z"
   },
   {
    "duration": 5,
    "start_time": "2022-10-31T10:09:50.485Z"
   },
   {
    "duration": 766,
    "start_time": "2022-10-31T10:09:50.492Z"
   },
   {
    "duration": 624,
    "start_time": "2022-10-31T10:09:51.260Z"
   },
   {
    "duration": 2590,
    "start_time": "2022-10-31T10:09:51.886Z"
   },
   {
    "duration": 4,
    "start_time": "2022-10-31T10:09:54.479Z"
   },
   {
    "duration": 16,
    "start_time": "2022-10-31T10:09:54.484Z"
   },
   {
    "duration": 18,
    "start_time": "2022-10-31T10:09:54.502Z"
   },
   {
    "duration": 14,
    "start_time": "2022-10-31T10:09:54.521Z"
   },
   {
    "duration": 5,
    "start_time": "2022-10-31T10:09:54.537Z"
   },
   {
    "duration": 39,
    "start_time": "2022-10-31T10:09:54.543Z"
   },
   {
    "duration": 4,
    "start_time": "2022-10-31T10:09:54.584Z"
   },
   {
    "duration": 16,
    "start_time": "2022-10-31T10:09:54.590Z"
   },
   {
    "duration": 14,
    "start_time": "2022-10-31T10:09:54.608Z"
   },
   {
    "duration": 12,
    "start_time": "2022-10-31T10:09:54.623Z"
   },
   {
    "duration": 105496,
    "start_time": "2022-10-31T10:09:54.637Z"
   },
   {
    "duration": 3,
    "start_time": "2022-10-31T10:11:40.134Z"
   },
   {
    "duration": 20,
    "start_time": "2022-10-31T10:11:40.138Z"
   },
   {
    "duration": 6,
    "start_time": "2022-10-31T10:11:40.159Z"
   },
   {
    "duration": 182,
    "start_time": "2022-10-31T10:11:40.167Z"
   },
   {
    "duration": 5,
    "start_time": "2022-10-31T10:11:40.350Z"
   },
   {
    "duration": 141,
    "start_time": "2022-10-31T10:11:40.356Z"
   },
   {
    "duration": 7,
    "start_time": "2022-10-31T10:11:40.498Z"
   },
   {
    "duration": 681,
    "start_time": "2022-10-31T10:11:40.507Z"
   },
   {
    "duration": 714,
    "start_time": "2022-10-31T10:11:41.190Z"
   },
   {
    "duration": 184,
    "start_time": "2022-10-31T10:11:41.905Z"
   },
   {
    "duration": 645,
    "start_time": "2022-10-31T10:35:50.231Z"
   },
   {
    "duration": 710,
    "start_time": "2022-10-31T10:35:55.881Z"
   },
   {
    "duration": 633,
    "start_time": "2022-10-31T10:36:04.142Z"
   },
   {
    "duration": 849,
    "start_time": "2022-10-31T10:36:12.841Z"
   },
   {
    "duration": 3135,
    "start_time": "2022-10-31T10:36:33.964Z"
   },
   {
    "duration": 5,
    "start_time": "2022-10-31T10:36:37.102Z"
   },
   {
    "duration": 23,
    "start_time": "2022-10-31T10:36:37.109Z"
   },
   {
    "duration": 35,
    "start_time": "2022-10-31T10:36:37.134Z"
   },
   {
    "duration": 17,
    "start_time": "2022-10-31T10:36:37.171Z"
   },
   {
    "duration": 109,
    "start_time": "2022-10-31T10:36:37.189Z"
   },
   {
    "duration": 25,
    "start_time": "2022-10-31T10:36:37.300Z"
   },
   {
    "duration": 29,
    "start_time": "2022-10-31T10:36:37.326Z"
   },
   {
    "duration": 28,
    "start_time": "2022-10-31T10:36:37.356Z"
   },
   {
    "duration": 18,
    "start_time": "2022-10-31T10:36:37.386Z"
   },
   {
    "duration": 9,
    "start_time": "2022-10-31T10:36:37.405Z"
   },
   {
    "duration": 31,
    "start_time": "2022-10-31T10:36:37.415Z"
   },
   {
    "duration": 14,
    "start_time": "2022-10-31T10:36:37.448Z"
   },
   {
    "duration": 54,
    "start_time": "2022-10-31T10:36:37.464Z"
   },
   {
    "duration": 144,
    "start_time": "2022-10-31T10:36:37.520Z"
   },
   {
    "duration": 13,
    "start_time": "2022-10-31T10:36:37.666Z"
   },
   {
    "duration": 13,
    "start_time": "2022-10-31T10:36:37.681Z"
   },
   {
    "duration": 16,
    "start_time": "2022-10-31T10:36:37.696Z"
   },
   {
    "duration": 20,
    "start_time": "2022-10-31T10:36:37.713Z"
   },
   {
    "duration": 25,
    "start_time": "2022-10-31T10:36:37.735Z"
   },
   {
    "duration": 28,
    "start_time": "2022-10-31T10:36:37.761Z"
   },
   {
    "duration": 29,
    "start_time": "2022-10-31T10:36:37.790Z"
   },
   {
    "duration": 15,
    "start_time": "2022-10-31T10:36:37.820Z"
   },
   {
    "duration": 37,
    "start_time": "2022-10-31T10:36:37.837Z"
   },
   {
    "duration": 11,
    "start_time": "2022-10-31T10:36:37.876Z"
   },
   {
    "duration": 19,
    "start_time": "2022-10-31T10:36:37.889Z"
   },
   {
    "duration": 12,
    "start_time": "2022-10-31T10:36:37.910Z"
   },
   {
    "duration": 66,
    "start_time": "2022-10-31T10:36:37.927Z"
   },
   {
    "duration": 14,
    "start_time": "2022-10-31T10:36:37.995Z"
   },
   {
    "duration": 36,
    "start_time": "2022-10-31T10:36:38.011Z"
   },
   {
    "duration": 7,
    "start_time": "2022-10-31T10:36:38.048Z"
   },
   {
    "duration": 347,
    "start_time": "2022-10-31T10:36:38.056Z"
   },
   {
    "duration": 183,
    "start_time": "2022-10-31T10:36:38.405Z"
   },
   {
    "duration": 19,
    "start_time": "2022-10-31T10:36:38.589Z"
   },
   {
    "duration": 30,
    "start_time": "2022-10-31T10:36:38.609Z"
   },
   {
    "duration": 286,
    "start_time": "2022-10-31T10:36:38.640Z"
   },
   {
    "duration": 264,
    "start_time": "2022-10-31T10:36:38.927Z"
   },
   {
    "duration": 6,
    "start_time": "2022-10-31T10:36:39.192Z"
   },
   {
    "duration": 779,
    "start_time": "2022-10-31T10:36:39.199Z"
   },
   {
    "duration": 536,
    "start_time": "2022-10-31T10:36:39.980Z"
   },
   {
    "duration": 2369,
    "start_time": "2022-10-31T10:36:40.518Z"
   },
   {
    "duration": 4,
    "start_time": "2022-10-31T10:36:42.888Z"
   },
   {
    "duration": 37,
    "start_time": "2022-10-31T10:36:42.893Z"
   },
   {
    "duration": 42,
    "start_time": "2022-10-31T10:36:42.932Z"
   },
   {
    "duration": 22,
    "start_time": "2022-10-31T10:36:42.976Z"
   },
   {
    "duration": 34,
    "start_time": "2022-10-31T10:36:43.000Z"
   },
   {
    "duration": 50,
    "start_time": "2022-10-31T10:36:43.036Z"
   },
   {
    "duration": 4,
    "start_time": "2022-10-31T10:36:43.087Z"
   },
   {
    "duration": 30,
    "start_time": "2022-10-31T10:36:43.093Z"
   },
   {
    "duration": 12,
    "start_time": "2022-10-31T10:36:43.125Z"
   },
   {
    "duration": 15,
    "start_time": "2022-10-31T10:36:43.139Z"
   },
   {
    "duration": 104576,
    "start_time": "2022-10-31T10:36:43.156Z"
   },
   {
    "duration": 4,
    "start_time": "2022-10-31T10:38:27.734Z"
   },
   {
    "duration": 19,
    "start_time": "2022-10-31T10:38:27.740Z"
   },
   {
    "duration": 6,
    "start_time": "2022-10-31T10:38:27.760Z"
   },
   {
    "duration": 182,
    "start_time": "2022-10-31T10:38:27.767Z"
   },
   {
    "duration": 4,
    "start_time": "2022-10-31T10:38:27.950Z"
   },
   {
    "duration": 130,
    "start_time": "2022-10-31T10:38:27.956Z"
   },
   {
    "duration": 5,
    "start_time": "2022-10-31T10:38:28.088Z"
   },
   {
    "duration": 671,
    "start_time": "2022-10-31T10:38:28.095Z"
   },
   {
    "duration": 655,
    "start_time": "2022-10-31T10:38:28.768Z"
   },
   {
    "duration": 180,
    "start_time": "2022-10-31T10:38:29.425Z"
   },
   {
    "duration": 2963,
    "start_time": "2022-10-31T10:41:45.590Z"
   },
   {
    "duration": 7,
    "start_time": "2022-10-31T10:41:48.556Z"
   },
   {
    "duration": 11,
    "start_time": "2022-10-31T10:41:48.565Z"
   },
   {
    "duration": 6,
    "start_time": "2022-10-31T10:41:48.579Z"
   },
   {
    "duration": 17,
    "start_time": "2022-10-31T10:41:48.587Z"
   },
   {
    "duration": 119,
    "start_time": "2022-10-31T10:41:48.606Z"
   },
   {
    "duration": 27,
    "start_time": "2022-10-31T10:41:48.727Z"
   },
   {
    "duration": 30,
    "start_time": "2022-10-31T10:41:48.756Z"
   },
   {
    "duration": 14,
    "start_time": "2022-10-31T10:41:48.788Z"
   },
   {
    "duration": 18,
    "start_time": "2022-10-31T10:41:48.823Z"
   },
   {
    "duration": 10,
    "start_time": "2022-10-31T10:41:48.843Z"
   },
   {
    "duration": 12,
    "start_time": "2022-10-31T10:41:48.855Z"
   },
   {
    "duration": 5,
    "start_time": "2022-10-31T10:41:48.869Z"
   },
   {
    "duration": 60,
    "start_time": "2022-10-31T10:41:48.876Z"
   },
   {
    "duration": 159,
    "start_time": "2022-10-31T10:41:48.938Z"
   },
   {
    "duration": 25,
    "start_time": "2022-10-31T10:41:49.099Z"
   },
   {
    "duration": 9,
    "start_time": "2022-10-31T10:41:49.125Z"
   },
   {
    "duration": 6,
    "start_time": "2022-10-31T10:41:49.136Z"
   },
   {
    "duration": 9,
    "start_time": "2022-10-31T10:41:49.143Z"
   },
   {
    "duration": 6,
    "start_time": "2022-10-31T10:41:49.154Z"
   },
   {
    "duration": 13,
    "start_time": "2022-10-31T10:41:49.161Z"
   },
   {
    "duration": 20,
    "start_time": "2022-10-31T10:41:49.176Z"
   },
   {
    "duration": 32,
    "start_time": "2022-10-31T10:41:49.197Z"
   },
   {
    "duration": 31,
    "start_time": "2022-10-31T10:41:49.230Z"
   },
   {
    "duration": 11,
    "start_time": "2022-10-31T10:41:49.263Z"
   },
   {
    "duration": 7,
    "start_time": "2022-10-31T10:41:49.276Z"
   },
   {
    "duration": 6,
    "start_time": "2022-10-31T10:41:49.285Z"
   },
   {
    "duration": 69,
    "start_time": "2022-10-31T10:41:49.295Z"
   },
   {
    "duration": 18,
    "start_time": "2022-10-31T10:41:49.366Z"
   },
   {
    "duration": 25,
    "start_time": "2022-10-31T10:41:49.385Z"
   },
   {
    "duration": 7,
    "start_time": "2022-10-31T10:41:49.421Z"
   },
   {
    "duration": 514,
    "start_time": "2022-10-31T10:41:49.429Z"
   },
   {
    "duration": 182,
    "start_time": "2022-10-31T10:41:49.944Z"
   },
   {
    "duration": 19,
    "start_time": "2022-10-31T10:41:50.128Z"
   },
   {
    "duration": 7,
    "start_time": "2022-10-31T10:41:50.148Z"
   },
   {
    "duration": 304,
    "start_time": "2022-10-31T10:41:50.156Z"
   },
   {
    "duration": 277,
    "start_time": "2022-10-31T10:41:50.462Z"
   },
   {
    "duration": 6,
    "start_time": "2022-10-31T10:41:50.741Z"
   },
   {
    "duration": 806,
    "start_time": "2022-10-31T10:41:50.748Z"
   },
   {
    "duration": 422,
    "start_time": "2022-10-31T10:41:51.556Z"
   },
   {
    "duration": 2543,
    "start_time": "2022-10-31T10:41:51.979Z"
   },
   {
    "duration": 4,
    "start_time": "2022-10-31T10:41:54.523Z"
   },
   {
    "duration": 15,
    "start_time": "2022-10-31T10:41:54.529Z"
   },
   {
    "duration": 19,
    "start_time": "2022-10-31T10:41:54.546Z"
   },
   {
    "duration": 17,
    "start_time": "2022-10-31T10:41:54.567Z"
   },
   {
    "duration": 8,
    "start_time": "2022-10-31T10:41:54.585Z"
   },
   {
    "duration": 52,
    "start_time": "2022-10-31T10:41:54.594Z"
   },
   {
    "duration": 4,
    "start_time": "2022-10-31T10:41:54.647Z"
   },
   {
    "duration": 7,
    "start_time": "2022-10-31T10:41:54.652Z"
   },
   {
    "duration": 4,
    "start_time": "2022-10-31T10:41:54.661Z"
   },
   {
    "duration": 9,
    "start_time": "2022-10-31T10:41:54.667Z"
   },
   {
    "duration": 86156,
    "start_time": "2022-10-31T10:41:54.677Z"
   },
   {
    "duration": 4,
    "start_time": "2022-10-31T10:43:20.835Z"
   },
   {
    "duration": 25,
    "start_time": "2022-10-31T10:43:20.841Z"
   },
   {
    "duration": 5,
    "start_time": "2022-10-31T10:43:20.867Z"
   },
   {
    "duration": 156,
    "start_time": "2022-10-31T10:43:20.874Z"
   },
   {
    "duration": 5,
    "start_time": "2022-10-31T10:43:21.032Z"
   },
   {
    "duration": 253,
    "start_time": "2022-10-31T10:43:21.039Z"
   },
   {
    "duration": 6,
    "start_time": "2022-10-31T10:43:21.294Z"
   },
   {
    "duration": 666,
    "start_time": "2022-10-31T10:43:21.302Z"
   },
   {
    "duration": 717,
    "start_time": "2022-10-31T10:43:21.969Z"
   },
   {
    "duration": 175,
    "start_time": "2022-10-31T10:43:22.687Z"
   },
   {
    "duration": 92,
    "start_time": "2022-10-31T10:58:03.273Z"
   },
   {
    "duration": 3229,
    "start_time": "2022-10-31T11:03:15.069Z"
   },
   {
    "duration": 6,
    "start_time": "2022-10-31T11:03:18.300Z"
   },
   {
    "duration": 8,
    "start_time": "2022-10-31T11:03:18.308Z"
   },
   {
    "duration": 3,
    "start_time": "2022-10-31T11:03:18.321Z"
   },
   {
    "duration": 8,
    "start_time": "2022-10-31T11:03:18.326Z"
   },
   {
    "duration": 110,
    "start_time": "2022-10-31T11:03:18.335Z"
   },
   {
    "duration": 189,
    "start_time": "2022-10-31T11:03:18.447Z"
   },
   {
    "duration": 29,
    "start_time": "2022-10-31T11:03:18.637Z"
   },
   {
    "duration": 14,
    "start_time": "2022-10-31T11:03:18.667Z"
   },
   {
    "duration": 16,
    "start_time": "2022-10-31T11:03:18.683Z"
   },
   {
    "duration": 21,
    "start_time": "2022-10-31T11:03:18.701Z"
   },
   {
    "duration": 11,
    "start_time": "2022-10-31T11:03:18.723Z"
   },
   {
    "duration": 4,
    "start_time": "2022-10-31T11:03:18.736Z"
   },
   {
    "duration": 26,
    "start_time": "2022-10-31T11:03:18.742Z"
   },
   {
    "duration": 159,
    "start_time": "2022-10-31T11:03:18.770Z"
   },
   {
    "duration": 13,
    "start_time": "2022-10-31T11:03:18.931Z"
   },
   {
    "duration": 7,
    "start_time": "2022-10-31T11:03:18.946Z"
   },
   {
    "duration": 8,
    "start_time": "2022-10-31T11:03:18.955Z"
   },
   {
    "duration": 6,
    "start_time": "2022-10-31T11:03:18.964Z"
   },
   {
    "duration": 6,
    "start_time": "2022-10-31T11:03:18.971Z"
   },
   {
    "duration": 10,
    "start_time": "2022-10-31T11:03:18.978Z"
   },
   {
    "duration": 43,
    "start_time": "2022-10-31T11:03:18.990Z"
   },
   {
    "duration": 11,
    "start_time": "2022-10-31T11:03:19.035Z"
   },
   {
    "duration": 21,
    "start_time": "2022-10-31T11:03:19.047Z"
   },
   {
    "duration": 10,
    "start_time": "2022-10-31T11:03:19.070Z"
   },
   {
    "duration": 6,
    "start_time": "2022-10-31T11:03:19.081Z"
   },
   {
    "duration": 4,
    "start_time": "2022-10-31T11:03:19.089Z"
   },
   {
    "duration": 71,
    "start_time": "2022-10-31T11:03:19.098Z"
   },
   {
    "duration": 16,
    "start_time": "2022-10-31T11:03:19.170Z"
   },
   {
    "duration": 34,
    "start_time": "2022-10-31T11:03:19.188Z"
   },
   {
    "duration": 7,
    "start_time": "2022-10-31T11:03:19.223Z"
   },
   {
    "duration": 357,
    "start_time": "2022-10-31T11:03:19.232Z"
   },
   {
    "duration": 176,
    "start_time": "2022-10-31T11:03:19.591Z"
   },
   {
    "duration": 20,
    "start_time": "2022-10-31T11:03:19.768Z"
   },
   {
    "duration": 8,
    "start_time": "2022-10-31T11:03:19.789Z"
   },
   {
    "duration": 290,
    "start_time": "2022-10-31T11:03:19.798Z"
   },
   {
    "duration": 271,
    "start_time": "2022-10-31T11:03:20.090Z"
   },
   {
    "duration": 6,
    "start_time": "2022-10-31T11:03:20.362Z"
   },
   {
    "duration": 779,
    "start_time": "2022-10-31T11:03:20.370Z"
   },
   {
    "duration": 410,
    "start_time": "2022-10-31T11:03:21.151Z"
   },
   {
    "duration": 2466,
    "start_time": "2022-10-31T11:03:21.563Z"
   },
   {
    "duration": 5,
    "start_time": "2022-10-31T11:03:24.031Z"
   },
   {
    "duration": 21,
    "start_time": "2022-10-31T11:03:24.037Z"
   },
   {
    "duration": 28,
    "start_time": "2022-10-31T11:03:24.060Z"
   },
   {
    "duration": 17,
    "start_time": "2022-10-31T11:03:24.093Z"
   },
   {
    "duration": 16,
    "start_time": "2022-10-31T11:03:24.112Z"
   },
   {
    "duration": 59,
    "start_time": "2022-10-31T11:03:24.131Z"
   },
   {
    "duration": 4,
    "start_time": "2022-10-31T11:03:24.191Z"
   },
   {
    "duration": 9,
    "start_time": "2022-10-31T11:03:24.199Z"
   },
   {
    "duration": 13,
    "start_time": "2022-10-31T11:03:24.210Z"
   },
   {
    "duration": 15,
    "start_time": "2022-10-31T11:03:24.225Z"
   },
   {
    "duration": 102220,
    "start_time": "2022-10-31T11:03:24.242Z"
   },
   {
    "duration": 4,
    "start_time": "2022-10-31T11:05:06.463Z"
   },
   {
    "duration": 53,
    "start_time": "2022-10-31T11:05:06.469Z"
   },
   {
    "duration": 6,
    "start_time": "2022-10-31T11:05:06.524Z"
   },
   {
    "duration": 165,
    "start_time": "2022-10-31T11:05:06.532Z"
   },
   {
    "duration": 4,
    "start_time": "2022-10-31T11:05:06.698Z"
   },
   {
    "duration": 125,
    "start_time": "2022-10-31T11:05:06.704Z"
   },
   {
    "duration": 6,
    "start_time": "2022-10-31T11:05:06.830Z"
   },
   {
    "duration": 666,
    "start_time": "2022-10-31T11:05:06.838Z"
   },
   {
    "duration": 681,
    "start_time": "2022-10-31T11:05:07.506Z"
   },
   {
    "duration": 355,
    "start_time": "2022-10-31T11:05:08.188Z"
   },
   {
    "duration": 63,
    "start_time": "2022-10-31T16:17:07.886Z"
   },
   {
    "duration": 60,
    "start_time": "2022-10-31T16:28:41.086Z"
   },
   {
    "duration": 60,
    "start_time": "2022-11-19T13:56:34.699Z"
   }
  ],
  "interpreter": {
   "hash": "d488093d919f573c925b0a84f2a24fea75905f9dd1b6664dfb65159487c96672"
  },
  "kernelspec": {
   "display_name": "Python 3 (ipykernel)",
   "language": "python",
   "name": "python3"
  },
  "language_info": {
   "codemirror_mode": {
    "name": "ipython",
    "version": 3
   },
   "file_extension": ".py",
   "mimetype": "text/x-python",
   "name": "python",
   "nbconvert_exporter": "python",
   "pygments_lexer": "ipython3",
   "version": "3.10.0 (tags/v3.10.0:b494f59, Oct  4 2021, 19:00:18) [MSC v.1929 64 bit (AMD64)]"
  },
  "toc": {
   "base_numbering": 1,
   "nav_menu": {},
   "number_sections": true,
   "sideBar": true,
   "skip_h1_title": true,
   "title_cell": "Table of Contents",
   "title_sidebar": "Contents",
   "toc_cell": false,
   "toc_position": {},
   "toc_section_display": true,
   "toc_window_display": false
  }
 },
 "nbformat": 4,
 "nbformat_minor": 2
}
